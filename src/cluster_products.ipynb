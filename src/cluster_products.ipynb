{
 "metadata": {
  "language_info": {
   "codemirror_mode": {
    "name": "ipython",
    "version": 3
   },
   "file_extension": ".py",
   "mimetype": "text/x-python",
   "name": "python",
   "nbconvert_exporter": "python",
   "pygments_lexer": "ipython3",
   "version": "3.8.5"
  },
  "orig_nbformat": 2,
  "kernelspec": {
   "name": "python3",
   "language": "python",
   "display_name": "Python 3"
  }
 },
 "nbformat": 4,
 "nbformat_minor": 2,
 "cells": [
  {
   "source": [
    "# Customer Analysis - Model Customer Behavior\n"
   ],
   "cell_type": "markdown",
   "metadata": {}
  },
  {
   "source": [
    "## Import"
   ],
   "cell_type": "markdown",
   "metadata": {}
  },
  {
   "cell_type": "code",
   "execution_count": 1,
   "metadata": {},
   "outputs": [],
   "source": [
    "# General Pyspark Implementation\n",
    "import pyspark\n",
    "import pyspark.sql.functions as f\n",
    "\n",
    "# Machine Learning libary in Pyspark\n",
    "import pyspark.ml as ml"
   ]
  },
  {
   "source": [
    "## Read"
   ],
   "cell_type": "markdown",
   "metadata": {}
  },
  {
   "cell_type": "code",
   "execution_count": 2,
   "metadata": {},
   "outputs": [
    {
     "name": "stdout",
     "output_type": "stream",
     "text": [
      "+--------------------+----------+----------+-------------------+--------------------+------+------+---------+--------------------+\n",
      "|          event_time|event_type|product_id|        category_id|       category_code| brand| price|  user_id|        user_session|\n",
      "+--------------------+----------+----------+-------------------+--------------------+------+------+---------+--------------------+\n",
      "|2019-11-01 00:00:...|      view|   1003461|2053013555631882655|electronics.smart...|xiaomi|489.07|520088904|4d3b30da-a5e4-49d...|\n",
      "|2019-11-01 00:00:...|      view|   5000088|2053013566100866035|appliances.sewing...|janome|293.65|530496790|8e5f4f83-366c-4f7...|\n",
      "|2019-11-01 00:00:...|      view|  17302664|2053013553853497655|                null| creed| 28.31|561587266|755422e7-9040-477...|\n",
      "|2019-11-01 00:00:...|      view|   3601530|2053013563810775923|appliances.kitche...|    lg|712.87|518085591|3bfb58cd-7892-48c...|\n",
      "|2019-11-01 00:00:...|      view|   1004775|2053013555631882655|electronics.smart...|xiaomi|183.27|558856683|313628f1-68b8-460...|\n",
      "+--------------------+----------+----------+-------------------+--------------------+------+------+---------+--------------------+\n",
      "only showing top 5 rows\n",
      "\n"
     ]
    }
   ],
   "source": [
    "spark = pyspark.sql.SparkSession \\\n",
    "    .builder \\\n",
    "    .appName(\"Product\") \\\n",
    "    .config(\"spark.executor.memory\", f\"16g\") \\\n",
    "    .config(\"spark.driver.memory\", f\"16g\") \\\n",
    "    .config(\"spark.memory.offHeap.enabled\", True) \\\n",
    "    .config(\"spark.memory.offHeap.size\", f\"16g\") \\\n",
    "    .config(\"spark.sql.debug.maxToStringFields\", f\"16\") \\\n",
    "    .getOrCreate()\n",
    "\n",
    "# sdf_201911 = spark.read.csv(\"data/2019-Nov.csv\", header=True, inferSchema=True)\n",
    "# sdf_201910 = spark.read.csv(\"data/2019-Oct.csv\", header=True, inferSchema=True)\n",
    "\n",
    "# sdf = sdf_201910.union(sdf_201911)\n",
    "# sdf = spark.read.csv(\"data/2019-Oct.csv\", header=True, inferSchema=True)\n",
    "sdf = spark.read.csv(\"data/test_data.csv\", header=True, inferSchema=True)\n",
    "sdf.show(5)"
   ]
  },
  {
   "source": [
    "## Preparation"
   ],
   "cell_type": "markdown",
   "metadata": {}
  },
  {
   "cell_type": "code",
   "execution_count": 3,
   "metadata": {},
   "outputs": [
    {
     "name": "stdout",
     "output_type": "stream",
     "text": [
      "root\n",
      " |-- event_time: timestamp (nullable = true)\n",
      " |-- event_type: string (nullable = true)\n",
      " |-- product_id: string (nullable = true)\n",
      " |-- category_id: string (nullable = true)\n",
      " |-- category_code: string (nullable = true)\n",
      " |-- brand: string (nullable = true)\n",
      " |-- price: double (nullable = true)\n",
      " |-- user_id: string (nullable = true)\n",
      " |-- user_session: string (nullable = true)\n",
      "\n"
     ]
    }
   ],
   "source": [
    "# Datatypes\n",
    "sdf = sdf.withColumn(\"event_time\", sdf[\"event_time\"].cast(pyspark.sql.types.TimestampType()))\n",
    "sdf = sdf.withColumn(\"category_id\", sdf[\"category_id\"].cast(pyspark.sql.types.StringType()))\n",
    "sdf = sdf.withColumn(\"product_id\", sdf[\"product_id\"].cast(pyspark.sql.types.StringType()))\n",
    "sdf = sdf.withColumn(\"user_id\", sdf[\"user_id\"].cast(pyspark.sql.types.StringType()))\n",
    "\n",
    "sdf.printSchema()"
   ]
  },
  {
   "source": [
    "## Data Creation"
   ],
   "cell_type": "markdown",
   "metadata": {}
  },
  {
   "cell_type": "code",
   "execution_count": 4,
   "metadata": {},
   "outputs": [],
   "source": [
    "sdf_base = sdf.select(\"user_id\", \"user_session\", \"event_type\", \"product_id\", \"price\", \"event_time\")\n",
    "\n",
    "sdf_base = sdf_base.withColumn(\"views\", f.when(sdf_base.event_type == \"view\", 1).otherwise(0))\n",
    "sdf_base = sdf_base.withColumn(\"purchases\", f.when(sdf_base.event_type == \"purchase\", 1).otherwise(0))\n",
    "sdf_base = sdf_base.withColumn(\"carts\", f.when(sdf_base.event_type == \"cart\", 1).otherwise(0))\n"
   ]
  },
  {
   "source": [
    "## Modelling - Behaviour of users\n",
    "\n",
    "Algorithm used: FPGrowth"
   ],
   "cell_type": "markdown",
   "metadata": {}
  },
  {
   "cell_type": "markdown",
   "source": [
    "### View patterns"
   ],
   "metadata": {
    "collapsed": false,
    "pycharm": {
     "name": "#%% md\n"
    }
   }
  },
  {
   "cell_type": "markdown",
   "source": [
    "#### Data Preparation"
   ],
   "metadata": {
    "collapsed": false,
    "pycharm": {
     "name": "#%% md\n"
    }
   }
  },
  {
   "cell_type": "code",
   "execution_count": 5,
   "outputs": [
    {
     "name": "stdout",
     "output_type": "stream",
     "text": [
      "+---------+--------------------+\n",
      "|  user_id|               items|\n",
      "+---------+--------------------+\n",
      "|518045858|[26404402, 26402378]|\n",
      "|512416379|[34600011, 34600119]|\n",
      "|566280399|           [4804420]|\n",
      "|564599988|[22700205, 227000...|\n",
      "|512651494|[24900193, 42900023]|\n",
      "|515240495|          [30000218]|\n",
      "|515782589|           [1800729]|\n",
      "|519041881|          [12708306]|\n",
      "|518398361|           [1004856]|\n",
      "|517811633|  [2200958, 2201037]|\n",
      "|566280536|          [17200558]|\n",
      "|512367687|          [14700422]|\n",
      "|513200477|           [3901174]|\n",
      "|527667630|          [28600033]|\n",
      "|539701280|           [2700598]|\n",
      "|517702267|[52000058, 52000038]|\n",
      "|514028527|[1307115, 1306421...|\n",
      "|570363385|          [31501037]|\n",
      "|565596995|          [12705258]|\n",
      "|559362811|           [2900936]|\n",
      "+---------+--------------------+\n",
      "only showing top 20 rows\n",
      "\n"
     ]
    }
   ],
   "source": [
    "# Grouping by user_id and creating column where all product_ids are concatenated into a list\n",
    "sdf_user_product_list_view = sdf_base.where(sdf_base.views == 1).select(\"user_id\", \"product_id\").distinct()\\\n",
    "    .groupBy(\"user_id\")\\\n",
    "    .agg(f.collect_list('product_id')).withColumnRenamed('collect_list(product_id)', 'items')\n",
    "sdf_user_product_list_view.show()\n"
   ],
   "metadata": {
    "collapsed": false,
    "pycharm": {
     "name": "#%%\n"
    }
   }
  },
  {
   "cell_type": "markdown",
   "source": [
    "#### Model creation"
   ],
   "metadata": {
    "collapsed": false,
    "pycharm": {
     "name": "#%% md\n"
    }
   }
  },
  {
   "cell_type": "code",
   "execution_count": 6,
   "outputs": [],
   "source": [
    "#Create model\n",
    "fp_view = ml.fpm.FPGrowth(minSupport=0.0001, minConfidence=0.8)"
   ],
   "metadata": {
    "collapsed": false,
    "pycharm": {
     "name": "#%%\n"
    }
   }
  },
  {
   "cell_type": "markdown",
   "source": [
    "#### Model training"
   ],
   "metadata": {
    "collapsed": false,
    "pycharm": {
     "name": "#%% md\n"
    }
   }
  },
  {
   "cell_type": "code",
   "execution_count": 7,
   "outputs": [
    {
     "name": "stdout",
     "output_type": "stream",
     "text": [
      "+------------------+----+\n",
      "|             items|freq|\n",
      "+------------------+----+\n",
      "|         [1003316]|   1|\n",
      "|         [1005116]|   2|\n",
      "|         [1004237]|   2|\n",
      "|         [1003317]|   1|\n",
      "|[1003317, 1004258]|   1|\n",
      "+------------------+----+\n",
      "only showing top 5 rows\n",
      "\n"
     ]
    }
   ],
   "source": [
    "# train\n",
    "fpm_view = fp_view.fit(sdf_user_product_list_view)\n",
    "fpm_view.setPredictionCol(\"newPrediction\")\n",
    "fpm_view.freqItemsets.show(5)"
   ],
   "metadata": {
    "collapsed": false,
    "pycharm": {
     "name": "#%%\n"
    }
   }
  },
  {
   "cell_type": "markdown",
   "source": [
    "#### Results"
   ],
   "metadata": {
    "collapsed": false,
    "pycharm": {
     "name": "#%% md\n"
    }
   }
  },
  {
   "cell_type": "code",
   "execution_count": 8,
   "outputs": [
    {
     "name": "stdout",
     "output_type": "stream",
     "text": [
      "+--------------------+----------+----------+-----+--------------------+\n",
      "|          antecedent|consequent|confidence| lift|             support|\n",
      "+--------------------+----------+----------+-----+--------------------+\n",
      "|          [17302664]|[17301421]|       1.0|151.0|0.006622516556291391|\n",
      "|          [17302664]|[17301495]|       1.0|151.0|0.006622516556291391|\n",
      "|          [17302664]|[17301611]|       1.0|151.0|0.006622516556291391|\n",
      "|[1307340, 1307065...| [1307095]|       1.0|151.0|0.006622516556291391|\n",
      "|[17301611, 17301495]|[17302664]|       1.0|151.0|0.006622516556291391|\n",
      "|[17301611, 17301495]|[17301421]|       1.0|151.0|0.006622516556291391|\n",
      "|          [41100055]|[41100050]|       1.0|151.0|0.006622516556291391|\n",
      "|          [41100055]|[41100033]|       1.0|151.0|0.006622516556291391|\n",
      "|          [41100055]|[41100058]|       1.0|151.0|0.006622516556291391|\n",
      "|          [15100148]|[15100252]|       1.0|151.0|0.006622516556291391|\n",
      "|[41100058, 411000...|[41100033]|       1.0|151.0|0.006622516556291391|\n",
      "|[41100050, 41100033]|[41100055]|       1.0|151.0|0.006622516556291391|\n",
      "|[41100050, 41100033]|[41100058]|       1.0|151.0|0.006622516556291391|\n",
      "|          [44300009]|[57300036]|       1.0|151.0|0.006622516556291391|\n",
      "|          [44300009]|[44300043]|       1.0|151.0|0.006622516556291391|\n",
      "|          [44300009]|[44300026]|       1.0|151.0|0.006622516556291391|\n",
      "|          [16700690]|[16700260]|       1.0|151.0|0.006622516556291391|\n",
      "|          [16700690]|[16700384]|       1.0|151.0|0.006622516556291391|\n",
      "|          [16700690]|[16700826]|       1.0|151.0|0.006622516556291391|\n",
      "|  [1307012, 1304315]| [1307338]|       1.0|151.0|0.006622516556291391|\n",
      "+--------------------+----------+----------+-----+--------------------+\n",
      "only showing top 20 rows\n",
      "\n"
     ]
    }
   ],
   "source": [
    "# eval\n",
    "fpm_view.associationRules.show()"
   ],
   "metadata": {
    "collapsed": false,
    "pycharm": {
     "name": "#%%\n"
    }
   }
  },
  {
   "cell_type": "markdown",
   "source": [
    "### Cart patterns"
   ],
   "metadata": {
    "collapsed": false
   }
  },
  {
   "cell_type": "markdown",
   "source": [
    "#### Data Preparation"
   ],
   "metadata": {
    "collapsed": false
   }
  },
  {
   "cell_type": "code",
   "execution_count": 9,
   "outputs": [
    {
     "name": "stdout",
     "output_type": "stream",
     "text": [
      "+---------+----------+\n",
      "|  user_id|     items|\n",
      "+---------+----------+\n",
      "|533326659| [1005014]|\n",
      "|570362657|[27800054]|\n",
      "+---------+----------+\n",
      "\n"
     ]
    }
   ],
   "source": [
    "# Grouping by user_id and creating column where all product_ids are concatenated into a list\n",
    "sdf_user_product_list_carts = sdf_base.where(sdf_base.carts == 1).select(\"user_id\", \"product_id\").distinct()\\\n",
    "    .groupBy(\"user_id\")\\\n",
    "    .agg(f.collect_list('product_id')).withColumnRenamed('collect_list(product_id)', 'items')\n",
    "sdf_user_product_list_carts.show()"
   ],
   "metadata": {
    "collapsed": false,
    "pycharm": {
     "name": "#%%\n"
    }
   }
  },
  {
   "cell_type": "markdown",
   "source": [
    "#### Model creation"
   ],
   "metadata": {
    "collapsed": false
   }
  },
  {
   "cell_type": "code",
   "execution_count": 10,
   "outputs": [],
   "source": [
    "#Create model\n",
    "fp_carts = ml.fpm.FPGrowth(minSupport=0.0001, minConfidence=0.8)"
   ],
   "metadata": {
    "collapsed": false,
    "pycharm": {
     "name": "#%%\n"
    }
   }
  },
  {
   "cell_type": "markdown",
   "source": [
    "#### Model training"
   ],
   "metadata": {
    "collapsed": false
   }
  },
  {
   "cell_type": "code",
   "execution_count": 11,
   "outputs": [
    {
     "name": "stdout",
     "output_type": "stream",
     "text": [
      "+----------+----+\n",
      "|     items|freq|\n",
      "+----------+----+\n",
      "| [1005014]|   1|\n",
      "|[27800054]|   1|\n",
      "+----------+----+\n",
      "\n"
     ]
    }
   ],
   "source": [
    "# train\n",
    "fpm_carts = fp_carts.fit(sdf_user_product_list_carts)\n",
    "fpm_carts.setPredictionCol(\"newPrediction\")\n",
    "fpm_carts.freqItemsets.show(5)"
   ],
   "metadata": {
    "collapsed": false,
    "pycharm": {
     "name": "#%%\n"
    }
   }
  },
  {
   "cell_type": "markdown",
   "source": [
    "#### Results"
   ],
   "metadata": {
    "collapsed": false
   }
  },
  {
   "cell_type": "code",
   "execution_count": 12,
   "outputs": [
    {
     "name": "stdout",
     "output_type": "stream",
     "text": [
      "+--------------------+----------+----------+-----+--------------------+\n",
      "|          antecedent|consequent|confidence| lift|             support|\n",
      "+--------------------+----------+----------+-----+--------------------+\n",
      "|          [17302664]|[17301421]|       1.0|151.0|0.006622516556291391|\n",
      "|          [17302664]|[17301495]|       1.0|151.0|0.006622516556291391|\n",
      "|          [17302664]|[17301611]|       1.0|151.0|0.006622516556291391|\n",
      "|[1307340, 1307065...| [1307095]|       1.0|151.0|0.006622516556291391|\n",
      "|[17301611, 17301495]|[17302664]|       1.0|151.0|0.006622516556291391|\n",
      "|[17301611, 17301495]|[17301421]|       1.0|151.0|0.006622516556291391|\n",
      "|          [41100055]|[41100050]|       1.0|151.0|0.006622516556291391|\n",
      "|          [41100055]|[41100033]|       1.0|151.0|0.006622516556291391|\n",
      "|          [41100055]|[41100058]|       1.0|151.0|0.006622516556291391|\n",
      "|          [15100148]|[15100252]|       1.0|151.0|0.006622516556291391|\n",
      "|[41100058, 411000...|[41100033]|       1.0|151.0|0.006622516556291391|\n",
      "|[41100050, 41100033]|[41100055]|       1.0|151.0|0.006622516556291391|\n",
      "|[41100050, 41100033]|[41100058]|       1.0|151.0|0.006622516556291391|\n",
      "|          [44300009]|[57300036]|       1.0|151.0|0.006622516556291391|\n",
      "|          [44300009]|[44300043]|       1.0|151.0|0.006622516556291391|\n",
      "|          [44300009]|[44300026]|       1.0|151.0|0.006622516556291391|\n",
      "|          [16700690]|[16700260]|       1.0|151.0|0.006622516556291391|\n",
      "|          [16700690]|[16700384]|       1.0|151.0|0.006622516556291391|\n",
      "|          [16700690]|[16700826]|       1.0|151.0|0.006622516556291391|\n",
      "|  [1307012, 1304315]| [1307338]|       1.0|151.0|0.006622516556291391|\n",
      "+--------------------+----------+----------+-----+--------------------+\n",
      "only showing top 20 rows\n",
      "\n"
     ]
    }
   ],
   "source": [
    "# eval\n",
    "fpm_view.associationRules.show()"
   ],
   "metadata": {
    "collapsed": false,
    "pycharm": {
     "name": "#%%\n"
    }
   }
  },
  {
   "cell_type": "markdown",
   "source": [
    "### Purchasing patterns"
   ],
   "metadata": {
    "collapsed": false
   }
  },
  {
   "cell_type": "markdown",
   "source": [
    "#### Data Preparation"
   ],
   "metadata": {
    "collapsed": false
   }
  },
  {
   "cell_type": "code",
   "execution_count": 13,
   "outputs": [
    {
     "name": "stdout",
     "output_type": "stream",
     "text": [
      "+---------+----------+\n",
      "|  user_id|     items|\n",
      "+---------+----------+\n",
      "|559368633|[13200605]|\n",
      "|513351129| [1005161]|\n",
      "+---------+----------+\n",
      "\n"
     ]
    }
   ],
   "source": [
    "# Grouping by user_id and creating column where all product_ids are concatenated into a list\n",
    "sdf_user_product_list_purchases = sdf_base.where(sdf_base.purchases == 1).select(\"user_id\", \"product_id\").distinct()\\\n",
    "    .groupBy(\"user_id\")\\\n",
    "    .agg(f.collect_list('product_id')).withColumnRenamed('collect_list(product_id)', 'items')\n",
    "sdf_user_product_list_purchases.show()"
   ],
   "metadata": {
    "collapsed": false,
    "pycharm": {
     "name": "#%%\n"
    }
   }
  },
  {
   "cell_type": "markdown",
   "source": [
    "#### Model creation"
   ],
   "metadata": {
    "collapsed": false
   }
  },
  {
   "cell_type": "code",
   "execution_count": 14,
   "outputs": [],
   "source": [
    "#Create model\n",
    "fp_purchases = ml.fpm.FPGrowth(minSupport=0.0001, minConfidence=0.8)"
   ],
   "metadata": {
    "collapsed": false,
    "pycharm": {
     "name": "#%%\n"
    }
   }
  },
  {
   "cell_type": "markdown",
   "source": [
    "#### Model training"
   ],
   "metadata": {
    "collapsed": false
   }
  },
  {
   "cell_type": "code",
   "execution_count": 15,
   "outputs": [
    {
     "name": "stdout",
     "output_type": "stream",
     "text": [
      "+----------+----+\n",
      "|     items|freq|\n",
      "+----------+----+\n",
      "| [1005161]|   1|\n",
      "|[13200605]|   1|\n",
      "+----------+----+\n",
      "\n"
     ]
    }
   ],
   "source": [
    "# train\n",
    "fpm_purchases = fp_purchases.fit(sdf_user_product_list_purchases)\n",
    "fpm_purchases.setPredictionCol(\"newPrediction\")\n",
    "fpm_purchases.freqItemsets.show(5)"
   ],
   "metadata": {
    "collapsed": false,
    "pycharm": {
     "name": "#%%\n"
    }
   }
  },
  {
   "cell_type": "markdown",
   "source": [
    "#### Results"
   ],
   "metadata": {
    "collapsed": false
   }
  },
  {
   "cell_type": "code",
   "execution_count": 16,
   "outputs": [
    {
     "name": "stdout",
     "output_type": "stream",
     "text": [
      "+----------+----------+----------+----+-------+\n",
      "|antecedent|consequent|confidence|lift|support|\n",
      "+----------+----------+----------+----+-------+\n",
      "+----------+----------+----------+----+-------+\n",
      "\n"
     ]
    }
   ],
   "source": [
    "# eval\n",
    "fpm_purchases.associationRules.show()\n",
    "\n"
   ],
   "metadata": {
    "collapsed": false,
    "pycharm": {
     "name": "#%%\n"
    }
   }
  }
 ]
}