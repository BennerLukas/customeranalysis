{
 "metadata": {
  "language_info": {
   "codemirror_mode": {
    "name": "ipython",
    "version": 3
   },
   "file_extension": ".py",
   "mimetype": "text/x-python",
   "name": "python",
   "nbconvert_exporter": "python",
   "pygments_lexer": "ipython3",
   "version": "3.8.5"
  },
  "orig_nbformat": 2,
  "kernelspec": {
   "name": "python3",
   "language": "python",
   "display_name": "Python 3"
  }
 },
 "nbformat": 4,
 "nbformat_minor": 2,
 "cells": [
  {
   "source": [
    "# Customer Analysis - Model Customer Behavior\n"
   ],
   "cell_type": "markdown",
   "metadata": {}
  },
  {
   "source": [
    "## Import"
   ],
   "cell_type": "markdown",
   "metadata": {}
  },
  {
   "cell_type": "code",
   "execution_count": 1,
   "metadata": {},
   "outputs": [],
   "source": [
    "import os\n",
    "import pyspark\n",
    "import pandas as pd\n",
    "import pyspark.sql.functions as f\n",
    "import plotly.express as px\n",
    "import plotly.graph_objects as go"
   ]
  },
  {
   "source": [
    "## Read"
   ],
   "cell_type": "markdown",
   "metadata": {}
  },
  {
   "cell_type": "code",
   "execution_count": 2,
   "metadata": {},
   "outputs": [
    {
     "name": "stdout",
     "output_type": "stream",
     "text": [
      "+--------------------+----------+----------+-------------------+--------------------+--------+-------+---------+--------------------+\n",
      "|          event_time|event_type|product_id|        category_id|       category_code|   brand|  price|  user_id|        user_session|\n",
      "+--------------------+----------+----------+-------------------+--------------------+--------+-------+---------+--------------------+\n",
      "|2019-10-01 00:00:...|      view|  44600062|2103807459595387724|                null|shiseido|  35.79|541312140|72d76fde-8bb3-4e0...|\n",
      "|2019-10-01 00:00:...|      view|   3900821|2053013552326770905|appliances.enviro...|    aqua|   33.2|554748717|9333dfbd-b87a-470...|\n",
      "|2019-10-01 00:00:...|      view|  17200506|2053013559792632471|furniture.living_...|    null|  543.1|519107250|566511c2-e2e3-422...|\n",
      "|2019-10-01 00:00:...|      view|   1307067|2053013558920217191|  computers.notebook|  lenovo| 251.74|550050854|7c90fc70-0e80-459...|\n",
      "|2019-10-01 00:00:...|      view|   1004237|2053013555631882655|electronics.smart...|   apple|1081.98|535871217|c6bd7419-2748-4c5...|\n",
      "+--------------------+----------+----------+-------------------+--------------------+--------+-------+---------+--------------------+\n",
      "only showing top 5 rows\n",
      "\n"
     ]
    }
   ],
   "source": [
    "spark = pyspark.sql.SparkSession \\\n",
    "    .builder \\\n",
    "    .appName(\"Product\") \\\n",
    "    .config(\"spark.executor.memory\", f\"16g\") \\\n",
    "    .config(\"spark.driver.memory\", f\"16g\") \\\n",
    "    .config(\"spark.memory.offHeap.enabled\", True) \\\n",
    "    .config(\"spark.memory.offHeap.size\", f\"16g\") \\\n",
    "    .config(\"spark.sql.debug.maxToStringFields\", f\"16\") \\\n",
    "    .getOrCreate()\n",
    "\n",
    "# sdf_201911 = spark.read.csv(\"data/2019-Nov.csv\", header=True, inferSchema=True)\n",
    "# sdf_201910 = spark.read.csv(\"data/2019-Oct.csv\", header=True, inferSchema=True)\n",
    "\n",
    "# sdf = sdf_201910.union(sdf_201911)\n",
    "sdf = spark.read.csv(\"data/2019-Oct.csv\", header=True, inferSchema=True)\n",
    "sdf.show(5)"
   ]
  },
  {
   "source": [
    "## Preparation"
   ],
   "cell_type": "markdown",
   "metadata": {}
  },
  {
   "cell_type": "code",
   "execution_count": 3,
   "metadata": {},
   "outputs": [
    {
     "name": "stdout",
     "output_type": "stream",
     "text": [
      "root\n",
      " |-- event_time: timestamp (nullable = true)\n",
      " |-- event_type: string (nullable = true)\n",
      " |-- product_id: string (nullable = true)\n",
      " |-- category_id: string (nullable = true)\n",
      " |-- category_code: string (nullable = true)\n",
      " |-- brand: string (nullable = true)\n",
      " |-- price: double (nullable = true)\n",
      " |-- user_id: string (nullable = true)\n",
      " |-- user_session: string (nullable = true)\n",
      "\n"
     ]
    }
   ],
   "source": [
    "# Datatypes\n",
    "sdf = sdf.withColumn(\"event_time\", sdf[\"event_time\"].cast(pyspark.sql.types.TimestampType()))\n",
    "sdf = sdf.withColumn(\"category_id\", sdf[\"category_id\"].cast(pyspark.sql.types.StringType()))\n",
    "sdf = sdf.withColumn(\"product_id\", sdf[\"product_id\"].cast(pyspark.sql.types.StringType()))\n",
    "sdf = sdf.withColumn(\"user_id\", sdf[\"user_id\"].cast(pyspark.sql.types.StringType()))\n",
    "\n",
    "sdf.printSchema()"
   ]
  },
  {
   "source": [
    "## Data Creation"
   ],
   "cell_type": "markdown",
   "metadata": {}
  },
  {
   "cell_type": "code",
   "execution_count": 4,
   "metadata": {},
   "outputs": [],
   "source": [
    "sdf_session = sdf.select(\"user_id\", \"user_session\", \"event_type\", \"product_id\", \"price\", \"event_time\")\n",
    "\n",
    "sdf_session = sdf_session.withColumn(\"views\", f.when(sdf_session.event_type == \"view\", 1).otherwise(0))\n",
    "sdf_session = sdf_session.withColumn(\"purchases\", f.when(sdf_session.event_type == \"purchase\", 1).otherwise(0))\n",
    "sdf_session = sdf_session.withColumn(\"carts\", f.when(sdf_session.event_type == \"cart\", 1).otherwise(0))\n",
    "\n",
    "# sdf_session = sdf_session.withColumn(\"first_event\", sdf_session.event_time)\n",
    "# sdf_session = sdf_session.withColumn(\"last_event\", sdf_session.event_time)"
   ]
  },
  {
   "cell_type": "code",
   "execution_count": 5,
   "outputs": [
    {
     "name": "stdout",
     "output_type": "stream",
     "text": [
      "+---------+--------------------+\n",
      "|  user_id|                 lst|\n",
      "+---------+--------------------+\n",
      "|292006376|             1004957|\n",
      "|318145786|   23300385,23301205|\n",
      "|344636566|            12720599|\n",
      "|367369532|26500644,26500544...|\n",
      "|372635850|2800433,2800382,2...|\n",
      "|381624492|     1004849,1004739|\n",
      "|406803663|1004849,1004565,1...|\n",
      "|410429591|1201520,1201368,1...|\n",
      "|411770871|7203438,7203909,7...|\n",
      "|424536916|            43900002|\n",
      "|426419884|     1004237,1004234|\n",
      "|427847739|             6000236|\n",
      "|428266518|10800148,10800206...|\n",
      "|430707571|             6301402|\n",
      "|433044560|1004741,1005233,1...|\n",
      "|434170823|26300666,26300354...|\n",
      "|435722681|            21400835|\n",
      "|441522689|1004839,1004838,1...|\n",
      "|442872957|             1003711|\n",
      "|446867511|            25900022|\n",
      "+---------+--------------------+\n",
      "only showing top 20 rows\n",
      "\n"
     ]
    }
   ],
   "source": [
    "sdf_session_product_list = sdf_session.where(sdf_session.views == 1).select(\"user_id\", \"product_id\").distinct()\\\n",
    "    .groupBy(\"user_id\")\\\n",
    "    .agg( f.concat_ws(',', f.collect_list('product_id')).alias('lst'))\n",
    "sdf_session_product_list.show()"
   ],
   "metadata": {
    "collapsed": false,
    "pycharm": {
     "name": "#%%\n"
    }
   }
  },
  {
   "cell_type": "code",
   "execution_count": 6,
   "outputs": [
    {
     "name": "stdout",
     "output_type": "stream",
     "text": [
      "root\n",
      " |-- user_id: string (nullable = true)\n",
      " |-- lst: string (nullable = false)\n",
      "\n"
     ]
    }
   ],
   "source": [
    "sdf_session_product_list.printSchema()"
   ],
   "metadata": {
    "collapsed": false,
    "pycharm": {
     "name": "#%%\n"
    }
   }
  },
  {
   "cell_type": "code",
   "execution_count": 7,
   "outputs": [],
   "source": [
    "array_column = f.split(sdf_session_product_list[\"lst\"],\",\")\n",
    "sdf_session_product_list = sdf_session_product_list.withColumn(\"items\", array_column)"
   ],
   "metadata": {
    "collapsed": false,
    "pycharm": {
     "name": "#%%\n"
    }
   }
  },
  {
   "cell_type": "code",
   "execution_count": 8,
   "outputs": [
    {
     "name": "stdout",
     "output_type": "stream",
     "text": [
      "+--------------------+\n",
      "|               items|\n",
      "+--------------------+\n",
      "|           [1004957]|\n",
      "|[23300385, 23301205]|\n",
      "|          [12720599]|\n",
      "|[26500644, 265005...|\n",
      "|[2800433, 2800382...|\n",
      "+--------------------+\n",
      "only showing top 5 rows\n",
      "\n"
     ]
    }
   ],
   "source": [
    "sdf_session_product_list = sdf_session_product_list.select(\"items\")\n",
    "sdf_session_product_list.show(5)"
   ],
   "metadata": {
    "collapsed": false,
    "pycharm": {
     "name": "#%%\n"
    }
   }
  },
  {
   "source": [
    "## Data Split"
   ],
   "cell_type": "markdown",
   "metadata": {}
  },
  {
   "cell_type": "code",
   "execution_count": 8,
   "metadata": {},
   "outputs": [],
   "source": []
  },
  {
   "source": [
    "## Modelling"
   ],
   "cell_type": "markdown",
   "metadata": {}
  },
  {
   "source": [
    "### FPGrowth"
   ],
   "cell_type": "markdown",
   "metadata": {}
  },
  {
   "cell_type": "code",
   "execution_count": 9,
   "metadata": {},
   "outputs": [],
   "source": [
    "import pyspark.ml as ml\n",
    "#Create model\n",
    "fp = ml.fpm.FPGrowth(minSupport=0.0001, minConfidence=0.8)"
   ]
  },
  {
   "cell_type": "code",
   "execution_count": 10,
   "metadata": {},
   "outputs": [
    {
     "name": "stdout",
     "output_type": "stream",
     "text": [
      "+----------+------+\n",
      "|     items|  freq|\n",
      "+----------+------+\n",
      "| [4700478]|  9715|\n",
      "| [1004779]|  5903|\n",
      "|[52100005]|  4398|\n",
      "| [3100074]|  3540|\n",
      "| [1004856]|197840|\n",
      "+----------+------+\n",
      "only showing top 5 rows\n",
      "\n"
     ]
    }
   ],
   "source": [
    "# train\n",
    "fpm = fp.fit(sdf_session_product_list)\n",
    "fpm.setPredictionCol(\"newPrediction\")\n",
    "fpm.freqItemsets.show(5)"
   ]
  },
  {
   "cell_type": "code",
   "execution_count": 11,
   "metadata": {},
   "outputs": [
    {
     "name": "stdout",
     "output_type": "stream",
     "text": [
      "+--------------------+----------+------------------+------------------+--------------------+\n",
      "|          antecedent|consequent|        confidence|              lift|             support|\n",
      "+--------------------+----------+------------------+------------------+--------------------+\n",
      "|  [1004565, 1004870]| [1004767]|0.6085790884718498|10.475503614718928|0.001201801378497947|\n",
      "|  [1005100, 1004741]| [1004856]|0.6121191942733477|  9.35050434992576|0.001216691538749...|\n",
      "|[1004873, 1004836...| [1004767]|0.7420546932742055|12.773026166955862|0.001328864079308...|\n",
      "|  [1003316, 1002544]| [1005115]|0.6085232903865213|10.755291226779603|0.001015839821582...|\n",
      "|  [1004858, 1004870]| [1004856]|0.6386427898209237| 9.755668896085261|0.001121063620691...|\n",
      "|  [1004857, 1004209]| [1004856]|  0.70578231292517| 10.78126719248152|0.001098562934089533|\n",
      "|  [1004903, 1005100]| [1004856]|0.7117612409189084| 10.87259906499323|0.001199485131347758|\n",
      "|  [1004246, 1005105]| [1005115]|0.7249247743229689|12.812618988500278|0.001913220146055...|\n",
      "|  [1004250, 1004246]| [1004249]|0.7355601948503827|22.919697405511833|0.001399013278714...|\n",
      "|[1004750, 1004870...| [1004833]|0.6703479891644093|20.436379825618992|0.001064481011736...|\n",
      "|[1004750, 1004870...| [1004767]|0.7397374453011044|12.733139256645858|0.001174668197595...|\n",
      "|  [1004836, 1004870]| [1004767]|0.6576050020388745|11.319389223861116|0.003201715346460...|\n",
      "|[1002544, 1004249...| [1005115]| 0.761598609904431|13.460807461009058|0.001450301608468...|\n",
      "|  [1004858, 1004565]| [1004856]|0.6737068965517241| 10.29129510349708|0.001034369798784...|\n",
      "|  [1004237, 1004258]| [1004249]| 0.603178843328436|18.794758970482903|0.001494310304321...|\n",
      "|  [1004834, 1004858]| [1004856]|0.6972581010650352|10.651054513605311|0.001018156068732...|\n",
      "|  [1005118, 1003317]| [1005115]|0.7627204030226701|13.480634494540011|0.001001942338681...|\n",
      "|  [1004781, 1004565]| [1004785]|0.6038333836402052| 37.32742152881225|0.001323900692557898|\n",
      "|  [1004750, 1004873]| [1004767]|0.6629272110618315|11.411000685566565| 0.00168159543103705|\n",
      "|[1002524, 1003306...| [1002544]|0.6177889253328188| 20.97206902461187|0.001059517624986...|\n",
      "+--------------------+----------+------------------+------------------+--------------------+\n",
      "only showing top 20 rows\n",
      "\n"
     ]
    }
   ],
   "source": [
    "# eval\n",
    "\n",
    "fpm.associationRules.show()"
   ]
  },
  {
   "source": [
    "## General Comparison"
   ],
   "cell_type": "markdown",
   "metadata": {}
  },
  {
   "source": [
    "## Hyperparamter & extended Stuff"
   ],
   "cell_type": "markdown",
   "metadata": {}
  },
  {
   "cell_type": "code",
   "execution_count": 11,
   "metadata": {},
   "outputs": [],
   "source": []
  }
 ]
}