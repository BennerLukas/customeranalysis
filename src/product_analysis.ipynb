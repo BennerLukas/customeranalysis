{
 "cells": [
  {
   "cell_type": "markdown",
   "metadata": {},
   "source": [
    "# Produktanalyse"
   ]
  },
  {
   "source": [
    "## Imports"
   ],
   "cell_type": "markdown",
   "metadata": {}
  },
  {
   "cell_type": "code",
   "execution_count": 12,
   "metadata": {},
   "outputs": [],
   "source": [
    "import pandas as pd\n",
    "import pyspark\n",
    "import pyspark.sql.functions as f\n",
    "import matplotlib.pyplot as plt\n",
    "import pandas as pd\n",
    "import numpy as np\n",
    "import plotly.express as px"
   ]
  },
  {
   "source": [
    "## Vorverarbeitung"
   ],
   "cell_type": "markdown",
   "metadata": {}
  },
  {
   "cell_type": "code",
   "execution_count": 13,
   "metadata": {},
   "outputs": [],
   "source": [
    "spark = pyspark.sql.SparkSession.builder.appName(\"app1\").getOrCreate()\n",
    "sdf = spark.read.csv(\"data/test_data.csv\", header=True, inferSchema=True)\n",
    "# sdf.printSchema()\n",
    "# sdf.show()\n"
   ]
  },
  {
   "cell_type": "code",
   "execution_count": 14,
   "metadata": {},
   "outputs": [],
   "source": [
    "sdf = sdf.withColumn(\"category_class\", pyspark.sql.functions.substring_index(sdf.category_code, '.', 1))\n",
    "sdf = sdf.fillna(value=\"unknown\")\n",
    "sdf = sdf.withColumn(\"category_id\",f.col(\"category_id\").cast(\"string\"))\n",
    "sdf = sdf.withColumn(\"product_id\",f.col(\"product_id\").cast(\"string\"))\n",
    "sdf.createOrReplaceTempView(\"Product_Data\")\n",
    "pdf = sdf.toPandas()"
   ]
  },
  {
   "source": [
    "## Analysen"
   ],
   "cell_type": "markdown",
   "metadata": {}
  },
  {
   "cell_type": "code",
   "execution_count": 15,
   "metadata": {},
   "outputs": [
    {
     "output_type": "stream",
     "name": "stdout",
     "text": [
      "+--------------------+----------+----------+-------------------+--------------------+--------+------+---------+--------------------+--------------+\n|          event_time|event_type|product_id|        category_id|       category_code|   brand| price|  user_id|        user_session|category_class|\n+--------------------+----------+----------+-------------------+--------------------+--------+------+---------+--------------------+--------------+\n|2019-11-01 00:00:...|      view|   1003461|2053013555631882655|electronics.smart...|  xiaomi|489.07|520088904|4d3b30da-a5e4-49d...|   electronics|\n|2019-11-01 00:00:...|      view|   5000088|2053013566100866035|appliances.sewing...|  janome|293.65|530496790|8e5f4f83-366c-4f7...|    appliances|\n|2019-11-01 00:00:...|      view|  17302664|2053013553853497655|             unknown|   creed| 28.31|561587266|755422e7-9040-477...|       unknown|\n|2019-11-01 00:00:...|      view|   3601530|2053013563810775923|appliances.kitche...|      lg|712.87|518085591|3bfb58cd-7892-48c...|    appliances|\n|2019-11-01 00:00:...|      view|   1004775|2053013555631882655|electronics.smart...|  xiaomi|183.27|558856683|313628f1-68b8-460...|   electronics|\n|2019-11-01 00:00:...|      view|   1306894|2053013558920217191|  computers.notebook|      hp|360.09|520772685|816a59f3-f5ae-4cc...|     computers|\n|2019-11-01 00:00:...|      view|   1306421|2053013558920217191|  computers.notebook|      hp|514.56|514028527|df8184cc-3694-454...|     computers|\n|2019-11-01 00:00:...|      view|  15900065|2053013558190408249|             unknown| rondell| 30.86|518574284|5e6ef132-4d7c-473...|       unknown|\n|2019-11-01 00:00:...|      view|  12708937|2053013553559896355|             unknown|michelin| 72.72|532364121|0a899268-31eb-46d...|       unknown|\n|2019-11-01 00:00:...|      view|   1004258|2053013555631882655|electronics.smart...|   apple|732.07|532647354|d2d3d2c6-631d-489...|   electronics|\n|2019-11-01 00:00:...|      view|  17200570|2053013559792632471|furniture.living_...| unknown|437.33|518780843|aa806835-b14c-45a...|     furniture|\n|2019-11-01 00:00:...|      view|   2701517|2053013563911439225|appliances.kitche...| unknown|155.11|518427361|c89b0d96-247f-404...|    appliances|\n|2019-11-01 00:00:...|      view|  16700260|2053013559901684381|furniture.kitchen...| unknown| 31.64|566255262|173d7b72-1db7-463...|     furniture|\n|2019-11-01 00:00:...|      view|  34600011|2060981320581906480|             unknown| unknown| 20.54|512416379|4dfe2c67-e537-4dc...|       unknown|\n|2019-11-01 00:00:...|      view|   4600658|2053013563944993659|appliances.kitche...| samsung|411.83|526595547|aab33a9a-29c3-4d5...|    appliances|\n|2019-11-01 00:00:...|      view|  24900193|2053013562183385881|             unknown| unknown|  1.09|512651494|f603c815-f51a-46f...|       unknown|\n|2019-11-01 00:00:...|      view|  27400066|2053013563391345499|             unknown| unknown|  8.55|551061950|3f6112f1-5695-4e8...|       unknown|\n|2019-11-01 00:00:...|      view|   5100503|2053013553375346967|             unknown|  xiaomi| 22.68|520037415|f54fa96a-f3f2-43a...|       unknown|\n|2019-11-01 00:00:...|      view|   1004566|2053013555631882655|electronics.smart...|  huawei|164.84|566265908|52c2c76c-b79e-479...|   electronics|\n|2019-11-01 00:00:...|      view|   1307115|2053013558920217191|  computers.notebook|      hp|411.59|514028527|df8184cc-3694-454...|     computers|\n+--------------------+----------+----------+-------------------+--------------------+--------+------+---------+--------------------+--------------+\nonly showing top 20 rows\n\n"
     ]
    }
   ],
   "source": [
    "spark.sql(\"SELECT *  from Product_Data\").show()"
   ]
  },
  {
   "cell_type": "code",
   "execution_count": 16,
   "metadata": {},
   "outputs": [
    {
     "output_type": "stream",
     "name": "stdout",
     "text": [
      "+---------+\n|Row_Count|\n+---------+\n|      217|\n+---------+\n\n"
     ]
    }
   ],
   "source": [
    "spark.sql(\"SELECT COUNT(*) AS Row_Count from Product_Data\").show()"
   ]
  },
  {
   "source": [
    "### Einzelbetrachtung"
   ],
   "cell_type": "markdown",
   "metadata": {}
  },
  {
   "source": [
    "#### Product_ID"
   ],
   "cell_type": "markdown",
   "metadata": {}
  },
  {
   "cell_type": "code",
   "execution_count": 17,
   "metadata": {},
   "outputs": [
    {
     "output_type": "stream",
     "name": "stdout",
     "text": [
      "+-----------------------+\n|Count_Unique_Product_ID|\n+-----------------------+\n|                    188|\n+-----------------------+\n\n"
     ]
    }
   ],
   "source": [
    "spark.sql(\"SELECT COUNT(DISTINCT(product_id)) AS Count_Unique_Product_ID from Product_Data\").show()"
   ]
  },
  {
   "cell_type": "code",
   "execution_count": 18,
   "metadata": {},
   "outputs": [
    {
     "output_type": "stream",
     "name": "stdout",
     "text": [
      "+----------+-----+\n|Product_ID|Count|\n+----------+-----+\n|   5701331|    3|\n|  12708937|    3|\n|  24400437|    3|\n|  13200605|    3|\n|   1003316|    2|\n|   4600603|    2|\n|  38900011|    2|\n|   4804295|    2|\n|  29900072|    2|\n|   4100297|    2|\n|   1004775|    2|\n|   1004258|    2|\n|   1004237|    2|\n|  16700384|    2|\n|   1004856|    2|\n|   1004767|    2|\n|  21408240|    2|\n|   1005116|    2|\n|   1003461|    2|\n|  16700826|    2|\n+----------+-----+\nonly showing top 20 rows\n\n"
     ]
    }
   ],
   "source": [
    "spark.sql(\"SELECT DISTINCT(product_id) AS Product_ID, COUNT(product_id) AS Count from Product_Data GROUP BY product_id ORDER BY Count DESC\").show()"
   ]
  },
  {
   "cell_type": "code",
   "execution_count": 51,
   "metadata": {},
   "outputs": [
    {
     "output_type": "display_data",
     "data": {
      "application/vnd.plotly.v1+json": {
       "config": {
        "plotlyServerURL": "https://plot.ly"
       },
       "data": [
        {
         "alignmentgroup": "True",
         "hovertemplate": "Product_ID=%{x}<br>Count=%{y}<extra></extra>",
         "legendgroup": "",
         "marker": {
          "color": "#636efa"
         },
         "name": "",
         "offsetgroup": "",
         "orientation": "v",
         "showlegend": false,
         "textposition": "auto",
         "type": "bar",
         "x": [
          "24400437",
          "5701331",
          "12708937",
          "13200605",
          "1307115",
          "1003461",
          "1004258",
          "4804295",
          "16700826",
          "4600603",
          "1004237",
          "16700384",
          "1004856",
          "29900072",
          "21408240",
          "1004767",
          "1003316",
          "4100297",
          "1005116",
          "1004775",
          "17300072",
          "38900011",
          "1005161",
          "5000088",
          "27400066"
         ],
         "xaxis": "x",
         "y": [
          3,
          3,
          3,
          3,
          2,
          2,
          2,
          2,
          2,
          2,
          2,
          2,
          2,
          2,
          2,
          2,
          2,
          2,
          2,
          2,
          2,
          2,
          2,
          2,
          2
         ],
         "yaxis": "y"
        }
       ],
       "layout": {
        "barmode": "relative",
        "legend": {
         "tracegroupgap": 0
        },
        "margin": {
         "t": 60
        },
        "template": {
         "data": {
          "bar": [
           {
            "error_x": {
             "color": "#2a3f5f"
            },
            "error_y": {
             "color": "#2a3f5f"
            },
            "marker": {
             "line": {
              "color": "#E5ECF6",
              "width": 0.5
             }
            },
            "type": "bar"
           }
          ],
          "barpolar": [
           {
            "marker": {
             "line": {
              "color": "#E5ECF6",
              "width": 0.5
             }
            },
            "type": "barpolar"
           }
          ],
          "carpet": [
           {
            "aaxis": {
             "endlinecolor": "#2a3f5f",
             "gridcolor": "white",
             "linecolor": "white",
             "minorgridcolor": "white",
             "startlinecolor": "#2a3f5f"
            },
            "baxis": {
             "endlinecolor": "#2a3f5f",
             "gridcolor": "white",
             "linecolor": "white",
             "minorgridcolor": "white",
             "startlinecolor": "#2a3f5f"
            },
            "type": "carpet"
           }
          ],
          "choropleth": [
           {
            "colorbar": {
             "outlinewidth": 0,
             "ticks": ""
            },
            "type": "choropleth"
           }
          ],
          "contour": [
           {
            "colorbar": {
             "outlinewidth": 0,
             "ticks": ""
            },
            "colorscale": [
             [
              0,
              "#0d0887"
             ],
             [
              0.1111111111111111,
              "#46039f"
             ],
             [
              0.2222222222222222,
              "#7201a8"
             ],
             [
              0.3333333333333333,
              "#9c179e"
             ],
             [
              0.4444444444444444,
              "#bd3786"
             ],
             [
              0.5555555555555556,
              "#d8576b"
             ],
             [
              0.6666666666666666,
              "#ed7953"
             ],
             [
              0.7777777777777778,
              "#fb9f3a"
             ],
             [
              0.8888888888888888,
              "#fdca26"
             ],
             [
              1,
              "#f0f921"
             ]
            ],
            "type": "contour"
           }
          ],
          "contourcarpet": [
           {
            "colorbar": {
             "outlinewidth": 0,
             "ticks": ""
            },
            "type": "contourcarpet"
           }
          ],
          "heatmap": [
           {
            "colorbar": {
             "outlinewidth": 0,
             "ticks": ""
            },
            "colorscale": [
             [
              0,
              "#0d0887"
             ],
             [
              0.1111111111111111,
              "#46039f"
             ],
             [
              0.2222222222222222,
              "#7201a8"
             ],
             [
              0.3333333333333333,
              "#9c179e"
             ],
             [
              0.4444444444444444,
              "#bd3786"
             ],
             [
              0.5555555555555556,
              "#d8576b"
             ],
             [
              0.6666666666666666,
              "#ed7953"
             ],
             [
              0.7777777777777778,
              "#fb9f3a"
             ],
             [
              0.8888888888888888,
              "#fdca26"
             ],
             [
              1,
              "#f0f921"
             ]
            ],
            "type": "heatmap"
           }
          ],
          "heatmapgl": [
           {
            "colorbar": {
             "outlinewidth": 0,
             "ticks": ""
            },
            "colorscale": [
             [
              0,
              "#0d0887"
             ],
             [
              0.1111111111111111,
              "#46039f"
             ],
             [
              0.2222222222222222,
              "#7201a8"
             ],
             [
              0.3333333333333333,
              "#9c179e"
             ],
             [
              0.4444444444444444,
              "#bd3786"
             ],
             [
              0.5555555555555556,
              "#d8576b"
             ],
             [
              0.6666666666666666,
              "#ed7953"
             ],
             [
              0.7777777777777778,
              "#fb9f3a"
             ],
             [
              0.8888888888888888,
              "#fdca26"
             ],
             [
              1,
              "#f0f921"
             ]
            ],
            "type": "heatmapgl"
           }
          ],
          "histogram": [
           {
            "marker": {
             "colorbar": {
              "outlinewidth": 0,
              "ticks": ""
             }
            },
            "type": "histogram"
           }
          ],
          "histogram2d": [
           {
            "colorbar": {
             "outlinewidth": 0,
             "ticks": ""
            },
            "colorscale": [
             [
              0,
              "#0d0887"
             ],
             [
              0.1111111111111111,
              "#46039f"
             ],
             [
              0.2222222222222222,
              "#7201a8"
             ],
             [
              0.3333333333333333,
              "#9c179e"
             ],
             [
              0.4444444444444444,
              "#bd3786"
             ],
             [
              0.5555555555555556,
              "#d8576b"
             ],
             [
              0.6666666666666666,
              "#ed7953"
             ],
             [
              0.7777777777777778,
              "#fb9f3a"
             ],
             [
              0.8888888888888888,
              "#fdca26"
             ],
             [
              1,
              "#f0f921"
             ]
            ],
            "type": "histogram2d"
           }
          ],
          "histogram2dcontour": [
           {
            "colorbar": {
             "outlinewidth": 0,
             "ticks": ""
            },
            "colorscale": [
             [
              0,
              "#0d0887"
             ],
             [
              0.1111111111111111,
              "#46039f"
             ],
             [
              0.2222222222222222,
              "#7201a8"
             ],
             [
              0.3333333333333333,
              "#9c179e"
             ],
             [
              0.4444444444444444,
              "#bd3786"
             ],
             [
              0.5555555555555556,
              "#d8576b"
             ],
             [
              0.6666666666666666,
              "#ed7953"
             ],
             [
              0.7777777777777778,
              "#fb9f3a"
             ],
             [
              0.8888888888888888,
              "#fdca26"
             ],
             [
              1,
              "#f0f921"
             ]
            ],
            "type": "histogram2dcontour"
           }
          ],
          "mesh3d": [
           {
            "colorbar": {
             "outlinewidth": 0,
             "ticks": ""
            },
            "type": "mesh3d"
           }
          ],
          "parcoords": [
           {
            "line": {
             "colorbar": {
              "outlinewidth": 0,
              "ticks": ""
             }
            },
            "type": "parcoords"
           }
          ],
          "pie": [
           {
            "automargin": true,
            "type": "pie"
           }
          ],
          "scatter": [
           {
            "marker": {
             "colorbar": {
              "outlinewidth": 0,
              "ticks": ""
             }
            },
            "type": "scatter"
           }
          ],
          "scatter3d": [
           {
            "line": {
             "colorbar": {
              "outlinewidth": 0,
              "ticks": ""
             }
            },
            "marker": {
             "colorbar": {
              "outlinewidth": 0,
              "ticks": ""
             }
            },
            "type": "scatter3d"
           }
          ],
          "scattercarpet": [
           {
            "marker": {
             "colorbar": {
              "outlinewidth": 0,
              "ticks": ""
             }
            },
            "type": "scattercarpet"
           }
          ],
          "scattergeo": [
           {
            "marker": {
             "colorbar": {
              "outlinewidth": 0,
              "ticks": ""
             }
            },
            "type": "scattergeo"
           }
          ],
          "scattergl": [
           {
            "marker": {
             "colorbar": {
              "outlinewidth": 0,
              "ticks": ""
             }
            },
            "type": "scattergl"
           }
          ],
          "scattermapbox": [
           {
            "marker": {
             "colorbar": {
              "outlinewidth": 0,
              "ticks": ""
             }
            },
            "type": "scattermapbox"
           }
          ],
          "scatterpolar": [
           {
            "marker": {
             "colorbar": {
              "outlinewidth": 0,
              "ticks": ""
             }
            },
            "type": "scatterpolar"
           }
          ],
          "scatterpolargl": [
           {
            "marker": {
             "colorbar": {
              "outlinewidth": 0,
              "ticks": ""
             }
            },
            "type": "scatterpolargl"
           }
          ],
          "scatterternary": [
           {
            "marker": {
             "colorbar": {
              "outlinewidth": 0,
              "ticks": ""
             }
            },
            "type": "scatterternary"
           }
          ],
          "surface": [
           {
            "colorbar": {
             "outlinewidth": 0,
             "ticks": ""
            },
            "colorscale": [
             [
              0,
              "#0d0887"
             ],
             [
              0.1111111111111111,
              "#46039f"
             ],
             [
              0.2222222222222222,
              "#7201a8"
             ],
             [
              0.3333333333333333,
              "#9c179e"
             ],
             [
              0.4444444444444444,
              "#bd3786"
             ],
             [
              0.5555555555555556,
              "#d8576b"
             ],
             [
              0.6666666666666666,
              "#ed7953"
             ],
             [
              0.7777777777777778,
              "#fb9f3a"
             ],
             [
              0.8888888888888888,
              "#fdca26"
             ],
             [
              1,
              "#f0f921"
             ]
            ],
            "type": "surface"
           }
          ],
          "table": [
           {
            "cells": {
             "fill": {
              "color": "#EBF0F8"
             },
             "line": {
              "color": "white"
             }
            },
            "header": {
             "fill": {
              "color": "#C8D4E3"
             },
             "line": {
              "color": "white"
             }
            },
            "type": "table"
           }
          ]
         },
         "layout": {
          "annotationdefaults": {
           "arrowcolor": "#2a3f5f",
           "arrowhead": 0,
           "arrowwidth": 1
          },
          "autotypenumbers": "strict",
          "coloraxis": {
           "colorbar": {
            "outlinewidth": 0,
            "ticks": ""
           }
          },
          "colorscale": {
           "diverging": [
            [
             0,
             "#8e0152"
            ],
            [
             0.1,
             "#c51b7d"
            ],
            [
             0.2,
             "#de77ae"
            ],
            [
             0.3,
             "#f1b6da"
            ],
            [
             0.4,
             "#fde0ef"
            ],
            [
             0.5,
             "#f7f7f7"
            ],
            [
             0.6,
             "#e6f5d0"
            ],
            [
             0.7,
             "#b8e186"
            ],
            [
             0.8,
             "#7fbc41"
            ],
            [
             0.9,
             "#4d9221"
            ],
            [
             1,
             "#276419"
            ]
           ],
           "sequential": [
            [
             0,
             "#0d0887"
            ],
            [
             0.1111111111111111,
             "#46039f"
            ],
            [
             0.2222222222222222,
             "#7201a8"
            ],
            [
             0.3333333333333333,
             "#9c179e"
            ],
            [
             0.4444444444444444,
             "#bd3786"
            ],
            [
             0.5555555555555556,
             "#d8576b"
            ],
            [
             0.6666666666666666,
             "#ed7953"
            ],
            [
             0.7777777777777778,
             "#fb9f3a"
            ],
            [
             0.8888888888888888,
             "#fdca26"
            ],
            [
             1,
             "#f0f921"
            ]
           ],
           "sequentialminus": [
            [
             0,
             "#0d0887"
            ],
            [
             0.1111111111111111,
             "#46039f"
            ],
            [
             0.2222222222222222,
             "#7201a8"
            ],
            [
             0.3333333333333333,
             "#9c179e"
            ],
            [
             0.4444444444444444,
             "#bd3786"
            ],
            [
             0.5555555555555556,
             "#d8576b"
            ],
            [
             0.6666666666666666,
             "#ed7953"
            ],
            [
             0.7777777777777778,
             "#fb9f3a"
            ],
            [
             0.8888888888888888,
             "#fdca26"
            ],
            [
             1,
             "#f0f921"
            ]
           ]
          },
          "colorway": [
           "#636efa",
           "#EF553B",
           "#00cc96",
           "#ab63fa",
           "#FFA15A",
           "#19d3f3",
           "#FF6692",
           "#B6E880",
           "#FF97FF",
           "#FECB52"
          ],
          "font": {
           "color": "#2a3f5f"
          },
          "geo": {
           "bgcolor": "white",
           "lakecolor": "white",
           "landcolor": "#E5ECF6",
           "showlakes": true,
           "showland": true,
           "subunitcolor": "white"
          },
          "hoverlabel": {
           "align": "left"
          },
          "hovermode": "closest",
          "mapbox": {
           "style": "light"
          },
          "paper_bgcolor": "white",
          "plot_bgcolor": "#E5ECF6",
          "polar": {
           "angularaxis": {
            "gridcolor": "white",
            "linecolor": "white",
            "ticks": ""
           },
           "bgcolor": "#E5ECF6",
           "radialaxis": {
            "gridcolor": "white",
            "linecolor": "white",
            "ticks": ""
           }
          },
          "scene": {
           "xaxis": {
            "backgroundcolor": "#E5ECF6",
            "gridcolor": "white",
            "gridwidth": 2,
            "linecolor": "white",
            "showbackground": true,
            "ticks": "",
            "zerolinecolor": "white"
           },
           "yaxis": {
            "backgroundcolor": "#E5ECF6",
            "gridcolor": "white",
            "gridwidth": 2,
            "linecolor": "white",
            "showbackground": true,
            "ticks": "",
            "zerolinecolor": "white"
           },
           "zaxis": {
            "backgroundcolor": "#E5ECF6",
            "gridcolor": "white",
            "gridwidth": 2,
            "linecolor": "white",
            "showbackground": true,
            "ticks": "",
            "zerolinecolor": "white"
           }
          },
          "shapedefaults": {
           "line": {
            "color": "#2a3f5f"
           }
          },
          "ternary": {
           "aaxis": {
            "gridcolor": "white",
            "linecolor": "white",
            "ticks": ""
           },
           "baxis": {
            "gridcolor": "white",
            "linecolor": "white",
            "ticks": ""
           },
           "bgcolor": "#E5ECF6",
           "caxis": {
            "gridcolor": "white",
            "linecolor": "white",
            "ticks": ""
           }
          },
          "title": {
           "x": 0.05
          },
          "xaxis": {
           "automargin": true,
           "gridcolor": "white",
           "linecolor": "white",
           "ticks": "",
           "title": {
            "standoff": 15
           },
           "zerolinecolor": "white",
           "zerolinewidth": 2
          },
          "yaxis": {
           "automargin": true,
           "gridcolor": "white",
           "linecolor": "white",
           "ticks": "",
           "title": {
            "standoff": 15
           },
           "zerolinecolor": "white",
           "zerolinewidth": 2
          }
         }
        },
        "xaxis": {
         "anchor": "y",
         "domain": [
          0,
          1
         ],
         "title": {
          "text": "Product_ID"
         }
        },
        "yaxis": {
         "anchor": "x",
         "domain": [
          0,
          1
         ],
         "title": {
          "text": "Count"
         }
        }
       }
      }
     },
     "metadata": {}
    }
   ],
   "source": [
    "px.bar(spark.sql(\"SELECT DISTINCT(product_id) AS Product_ID, COUNT(product_id) AS Count from Product_Data GROUP BY product_id HAVING Count>1 ORDER BY Count DESC\").toPandas(), x='Product_ID', y='Count')"
   ]
  },
  {
   "source": [
    "#### Category_ID"
   ],
   "cell_type": "markdown",
   "metadata": {}
  },
  {
   "cell_type": "code",
   "execution_count": 20,
   "metadata": {},
   "outputs": [
    {
     "output_type": "stream",
     "name": "stdout",
     "text": [
      "+------------------------+\n|Count_Unique_Category_ID|\n+------------------------+\n|                      74|\n+------------------------+\n\n"
     ]
    }
   ],
   "source": [
    "spark.sql(\"SELECT COUNT(DISTINCT(category_id)) AS Count_Unique_Category_ID from Product_Data\").show()"
   ]
  },
  {
   "cell_type": "code",
   "execution_count": 21,
   "metadata": {},
   "outputs": [
    {
     "output_type": "stream",
     "name": "stdout",
     "text": [
      "+-------------------+-----+\n|        Category_ID|Count|\n+-------------------+-----+\n|2053013555631882655|   38|\n|2053013558920217191|   18|\n|2053013553559896355|   12|\n|2053013553853497655|    9|\n|2053013561579406073|    6|\n|2053013556168753601|    6|\n|2053013559901684381|    6|\n|2053013563911439225|    5|\n|2053013553970938175|    5|\n|2053013554658804075|    5|\n|2090228413959766319|    4|\n|2053013563215184719|    4|\n|2053013563944993659|    4|\n|2053013553945772349|    4|\n|2053013556311359947|    4|\n|2053013563651392361|    4|\n|2053013557192163841|    3|\n|2053013557024391671|    3|\n|2100825583029060150|    3|\n|2134905044833666047|    2|\n+-------------------+-----+\nonly showing top 20 rows\n\n"
     ]
    }
   ],
   "source": [
    "spark.sql(\"SELECT DISTINCT(category_id) AS Category_ID, COUNT(product_id) AS Count from Product_Data GROUP BY category_id ORDER BY Count DESC\").show()"
   ]
  },
  {
   "cell_type": "code",
   "execution_count": 55,
   "metadata": {},
   "outputs": [
    {
     "output_type": "display_data",
     "data": {
      "application/vnd.plotly.v1+json": {
       "config": {
        "plotlyServerURL": "https://plot.ly"
       },
       "data": [
        {
         "alignmentgroup": "True",
         "hovertemplate": "Category_ID=%{x}<br>Count=%{y}<extra></extra>",
         "legendgroup": "",
         "marker": {
          "color": "#636efa"
         },
         "name": "",
         "offsetgroup": "",
         "orientation": "v",
         "showlegend": false,
         "textposition": "auto",
         "type": "bar",
         "x": [
          "2053013555631882655",
          "2053013558920217191",
          "2053013553559896355",
          "2053013553853497655",
          "2053013561579406073",
          "2053013559901684381",
          "2053013556168753601",
          "2053013553970938175",
          "2053013554658804075",
          "2053013563911439225"
         ],
         "xaxis": "x",
         "y": [
          38,
          18,
          12,
          9,
          6,
          6,
          6,
          5,
          5,
          5
         ],
         "yaxis": "y"
        }
       ],
       "layout": {
        "barmode": "relative",
        "legend": {
         "tracegroupgap": 0
        },
        "margin": {
         "t": 60
        },
        "template": {
         "data": {
          "bar": [
           {
            "error_x": {
             "color": "#2a3f5f"
            },
            "error_y": {
             "color": "#2a3f5f"
            },
            "marker": {
             "line": {
              "color": "#E5ECF6",
              "width": 0.5
             }
            },
            "type": "bar"
           }
          ],
          "barpolar": [
           {
            "marker": {
             "line": {
              "color": "#E5ECF6",
              "width": 0.5
             }
            },
            "type": "barpolar"
           }
          ],
          "carpet": [
           {
            "aaxis": {
             "endlinecolor": "#2a3f5f",
             "gridcolor": "white",
             "linecolor": "white",
             "minorgridcolor": "white",
             "startlinecolor": "#2a3f5f"
            },
            "baxis": {
             "endlinecolor": "#2a3f5f",
             "gridcolor": "white",
             "linecolor": "white",
             "minorgridcolor": "white",
             "startlinecolor": "#2a3f5f"
            },
            "type": "carpet"
           }
          ],
          "choropleth": [
           {
            "colorbar": {
             "outlinewidth": 0,
             "ticks": ""
            },
            "type": "choropleth"
           }
          ],
          "contour": [
           {
            "colorbar": {
             "outlinewidth": 0,
             "ticks": ""
            },
            "colorscale": [
             [
              0,
              "#0d0887"
             ],
             [
              0.1111111111111111,
              "#46039f"
             ],
             [
              0.2222222222222222,
              "#7201a8"
             ],
             [
              0.3333333333333333,
              "#9c179e"
             ],
             [
              0.4444444444444444,
              "#bd3786"
             ],
             [
              0.5555555555555556,
              "#d8576b"
             ],
             [
              0.6666666666666666,
              "#ed7953"
             ],
             [
              0.7777777777777778,
              "#fb9f3a"
             ],
             [
              0.8888888888888888,
              "#fdca26"
             ],
             [
              1,
              "#f0f921"
             ]
            ],
            "type": "contour"
           }
          ],
          "contourcarpet": [
           {
            "colorbar": {
             "outlinewidth": 0,
             "ticks": ""
            },
            "type": "contourcarpet"
           }
          ],
          "heatmap": [
           {
            "colorbar": {
             "outlinewidth": 0,
             "ticks": ""
            },
            "colorscale": [
             [
              0,
              "#0d0887"
             ],
             [
              0.1111111111111111,
              "#46039f"
             ],
             [
              0.2222222222222222,
              "#7201a8"
             ],
             [
              0.3333333333333333,
              "#9c179e"
             ],
             [
              0.4444444444444444,
              "#bd3786"
             ],
             [
              0.5555555555555556,
              "#d8576b"
             ],
             [
              0.6666666666666666,
              "#ed7953"
             ],
             [
              0.7777777777777778,
              "#fb9f3a"
             ],
             [
              0.8888888888888888,
              "#fdca26"
             ],
             [
              1,
              "#f0f921"
             ]
            ],
            "type": "heatmap"
           }
          ],
          "heatmapgl": [
           {
            "colorbar": {
             "outlinewidth": 0,
             "ticks": ""
            },
            "colorscale": [
             [
              0,
              "#0d0887"
             ],
             [
              0.1111111111111111,
              "#46039f"
             ],
             [
              0.2222222222222222,
              "#7201a8"
             ],
             [
              0.3333333333333333,
              "#9c179e"
             ],
             [
              0.4444444444444444,
              "#bd3786"
             ],
             [
              0.5555555555555556,
              "#d8576b"
             ],
             [
              0.6666666666666666,
              "#ed7953"
             ],
             [
              0.7777777777777778,
              "#fb9f3a"
             ],
             [
              0.8888888888888888,
              "#fdca26"
             ],
             [
              1,
              "#f0f921"
             ]
            ],
            "type": "heatmapgl"
           }
          ],
          "histogram": [
           {
            "marker": {
             "colorbar": {
              "outlinewidth": 0,
              "ticks": ""
             }
            },
            "type": "histogram"
           }
          ],
          "histogram2d": [
           {
            "colorbar": {
             "outlinewidth": 0,
             "ticks": ""
            },
            "colorscale": [
             [
              0,
              "#0d0887"
             ],
             [
              0.1111111111111111,
              "#46039f"
             ],
             [
              0.2222222222222222,
              "#7201a8"
             ],
             [
              0.3333333333333333,
              "#9c179e"
             ],
             [
              0.4444444444444444,
              "#bd3786"
             ],
             [
              0.5555555555555556,
              "#d8576b"
             ],
             [
              0.6666666666666666,
              "#ed7953"
             ],
             [
              0.7777777777777778,
              "#fb9f3a"
             ],
             [
              0.8888888888888888,
              "#fdca26"
             ],
             [
              1,
              "#f0f921"
             ]
            ],
            "type": "histogram2d"
           }
          ],
          "histogram2dcontour": [
           {
            "colorbar": {
             "outlinewidth": 0,
             "ticks": ""
            },
            "colorscale": [
             [
              0,
              "#0d0887"
             ],
             [
              0.1111111111111111,
              "#46039f"
             ],
             [
              0.2222222222222222,
              "#7201a8"
             ],
             [
              0.3333333333333333,
              "#9c179e"
             ],
             [
              0.4444444444444444,
              "#bd3786"
             ],
             [
              0.5555555555555556,
              "#d8576b"
             ],
             [
              0.6666666666666666,
              "#ed7953"
             ],
             [
              0.7777777777777778,
              "#fb9f3a"
             ],
             [
              0.8888888888888888,
              "#fdca26"
             ],
             [
              1,
              "#f0f921"
             ]
            ],
            "type": "histogram2dcontour"
           }
          ],
          "mesh3d": [
           {
            "colorbar": {
             "outlinewidth": 0,
             "ticks": ""
            },
            "type": "mesh3d"
           }
          ],
          "parcoords": [
           {
            "line": {
             "colorbar": {
              "outlinewidth": 0,
              "ticks": ""
             }
            },
            "type": "parcoords"
           }
          ],
          "pie": [
           {
            "automargin": true,
            "type": "pie"
           }
          ],
          "scatter": [
           {
            "marker": {
             "colorbar": {
              "outlinewidth": 0,
              "ticks": ""
             }
            },
            "type": "scatter"
           }
          ],
          "scatter3d": [
           {
            "line": {
             "colorbar": {
              "outlinewidth": 0,
              "ticks": ""
             }
            },
            "marker": {
             "colorbar": {
              "outlinewidth": 0,
              "ticks": ""
             }
            },
            "type": "scatter3d"
           }
          ],
          "scattercarpet": [
           {
            "marker": {
             "colorbar": {
              "outlinewidth": 0,
              "ticks": ""
             }
            },
            "type": "scattercarpet"
           }
          ],
          "scattergeo": [
           {
            "marker": {
             "colorbar": {
              "outlinewidth": 0,
              "ticks": ""
             }
            },
            "type": "scattergeo"
           }
          ],
          "scattergl": [
           {
            "marker": {
             "colorbar": {
              "outlinewidth": 0,
              "ticks": ""
             }
            },
            "type": "scattergl"
           }
          ],
          "scattermapbox": [
           {
            "marker": {
             "colorbar": {
              "outlinewidth": 0,
              "ticks": ""
             }
            },
            "type": "scattermapbox"
           }
          ],
          "scatterpolar": [
           {
            "marker": {
             "colorbar": {
              "outlinewidth": 0,
              "ticks": ""
             }
            },
            "type": "scatterpolar"
           }
          ],
          "scatterpolargl": [
           {
            "marker": {
             "colorbar": {
              "outlinewidth": 0,
              "ticks": ""
             }
            },
            "type": "scatterpolargl"
           }
          ],
          "scatterternary": [
           {
            "marker": {
             "colorbar": {
              "outlinewidth": 0,
              "ticks": ""
             }
            },
            "type": "scatterternary"
           }
          ],
          "surface": [
           {
            "colorbar": {
             "outlinewidth": 0,
             "ticks": ""
            },
            "colorscale": [
             [
              0,
              "#0d0887"
             ],
             [
              0.1111111111111111,
              "#46039f"
             ],
             [
              0.2222222222222222,
              "#7201a8"
             ],
             [
              0.3333333333333333,
              "#9c179e"
             ],
             [
              0.4444444444444444,
              "#bd3786"
             ],
             [
              0.5555555555555556,
              "#d8576b"
             ],
             [
              0.6666666666666666,
              "#ed7953"
             ],
             [
              0.7777777777777778,
              "#fb9f3a"
             ],
             [
              0.8888888888888888,
              "#fdca26"
             ],
             [
              1,
              "#f0f921"
             ]
            ],
            "type": "surface"
           }
          ],
          "table": [
           {
            "cells": {
             "fill": {
              "color": "#EBF0F8"
             },
             "line": {
              "color": "white"
             }
            },
            "header": {
             "fill": {
              "color": "#C8D4E3"
             },
             "line": {
              "color": "white"
             }
            },
            "type": "table"
           }
          ]
         },
         "layout": {
          "annotationdefaults": {
           "arrowcolor": "#2a3f5f",
           "arrowhead": 0,
           "arrowwidth": 1
          },
          "autotypenumbers": "strict",
          "coloraxis": {
           "colorbar": {
            "outlinewidth": 0,
            "ticks": ""
           }
          },
          "colorscale": {
           "diverging": [
            [
             0,
             "#8e0152"
            ],
            [
             0.1,
             "#c51b7d"
            ],
            [
             0.2,
             "#de77ae"
            ],
            [
             0.3,
             "#f1b6da"
            ],
            [
             0.4,
             "#fde0ef"
            ],
            [
             0.5,
             "#f7f7f7"
            ],
            [
             0.6,
             "#e6f5d0"
            ],
            [
             0.7,
             "#b8e186"
            ],
            [
             0.8,
             "#7fbc41"
            ],
            [
             0.9,
             "#4d9221"
            ],
            [
             1,
             "#276419"
            ]
           ],
           "sequential": [
            [
             0,
             "#0d0887"
            ],
            [
             0.1111111111111111,
             "#46039f"
            ],
            [
             0.2222222222222222,
             "#7201a8"
            ],
            [
             0.3333333333333333,
             "#9c179e"
            ],
            [
             0.4444444444444444,
             "#bd3786"
            ],
            [
             0.5555555555555556,
             "#d8576b"
            ],
            [
             0.6666666666666666,
             "#ed7953"
            ],
            [
             0.7777777777777778,
             "#fb9f3a"
            ],
            [
             0.8888888888888888,
             "#fdca26"
            ],
            [
             1,
             "#f0f921"
            ]
           ],
           "sequentialminus": [
            [
             0,
             "#0d0887"
            ],
            [
             0.1111111111111111,
             "#46039f"
            ],
            [
             0.2222222222222222,
             "#7201a8"
            ],
            [
             0.3333333333333333,
             "#9c179e"
            ],
            [
             0.4444444444444444,
             "#bd3786"
            ],
            [
             0.5555555555555556,
             "#d8576b"
            ],
            [
             0.6666666666666666,
             "#ed7953"
            ],
            [
             0.7777777777777778,
             "#fb9f3a"
            ],
            [
             0.8888888888888888,
             "#fdca26"
            ],
            [
             1,
             "#f0f921"
            ]
           ]
          },
          "colorway": [
           "#636efa",
           "#EF553B",
           "#00cc96",
           "#ab63fa",
           "#FFA15A",
           "#19d3f3",
           "#FF6692",
           "#B6E880",
           "#FF97FF",
           "#FECB52"
          ],
          "font": {
           "color": "#2a3f5f"
          },
          "geo": {
           "bgcolor": "white",
           "lakecolor": "white",
           "landcolor": "#E5ECF6",
           "showlakes": true,
           "showland": true,
           "subunitcolor": "white"
          },
          "hoverlabel": {
           "align": "left"
          },
          "hovermode": "closest",
          "mapbox": {
           "style": "light"
          },
          "paper_bgcolor": "white",
          "plot_bgcolor": "#E5ECF6",
          "polar": {
           "angularaxis": {
            "gridcolor": "white",
            "linecolor": "white",
            "ticks": ""
           },
           "bgcolor": "#E5ECF6",
           "radialaxis": {
            "gridcolor": "white",
            "linecolor": "white",
            "ticks": ""
           }
          },
          "scene": {
           "xaxis": {
            "backgroundcolor": "#E5ECF6",
            "gridcolor": "white",
            "gridwidth": 2,
            "linecolor": "white",
            "showbackground": true,
            "ticks": "",
            "zerolinecolor": "white"
           },
           "yaxis": {
            "backgroundcolor": "#E5ECF6",
            "gridcolor": "white",
            "gridwidth": 2,
            "linecolor": "white",
            "showbackground": true,
            "ticks": "",
            "zerolinecolor": "white"
           },
           "zaxis": {
            "backgroundcolor": "#E5ECF6",
            "gridcolor": "white",
            "gridwidth": 2,
            "linecolor": "white",
            "showbackground": true,
            "ticks": "",
            "zerolinecolor": "white"
           }
          },
          "shapedefaults": {
           "line": {
            "color": "#2a3f5f"
           }
          },
          "ternary": {
           "aaxis": {
            "gridcolor": "white",
            "linecolor": "white",
            "ticks": ""
           },
           "baxis": {
            "gridcolor": "white",
            "linecolor": "white",
            "ticks": ""
           },
           "bgcolor": "#E5ECF6",
           "caxis": {
            "gridcolor": "white",
            "linecolor": "white",
            "ticks": ""
           }
          },
          "title": {
           "x": 0.05
          },
          "xaxis": {
           "automargin": true,
           "gridcolor": "white",
           "linecolor": "white",
           "ticks": "",
           "title": {
            "standoff": 15
           },
           "zerolinecolor": "white",
           "zerolinewidth": 2
          },
          "yaxis": {
           "automargin": true,
           "gridcolor": "white",
           "linecolor": "white",
           "ticks": "",
           "title": {
            "standoff": 15
           },
           "zerolinecolor": "white",
           "zerolinewidth": 2
          }
         }
        },
        "xaxis": {
         "anchor": "y",
         "domain": [
          0,
          1
         ],
         "title": {
          "text": "Category_ID"
         }
        },
        "yaxis": {
         "anchor": "x",
         "domain": [
          0,
          1
         ],
         "title": {
          "text": "Count"
         }
        }
       }
      }
     },
     "metadata": {}
    }
   ],
   "source": [
    "px.bar(spark.sql(\"SELECT DISTINCT(category_id) AS Category_ID, COUNT(product_id) AS Count from Product_Data GROUP BY category_id ORDER BY Count DESC LIMIT 10\").toPandas(), x=\"Category_ID\", y=\"Count\")"
   ]
  },
  {
   "source": [
    "#### Category_Code"
   ],
   "cell_type": "markdown",
   "metadata": {}
  },
  {
   "cell_type": "code",
   "execution_count": 23,
   "metadata": {},
   "outputs": [
    {
     "output_type": "stream",
     "name": "stdout",
     "text": [
      "+--------------------------+\n|Count_Unique_Category_Code|\n+--------------------------+\n|                        35|\n+--------------------------+\n\n"
     ]
    }
   ],
   "source": [
    "spark.sql(\"SELECT COUNT(DISTINCT(category_code)) AS Count_Unique_Category_Code from Product_Data\").show()"
   ]
  },
  {
   "cell_type": "code",
   "execution_count": 24,
   "metadata": {},
   "outputs": [
    {
     "output_type": "stream",
     "name": "stdout",
     "text": [
      "+--------------------+-----+\n|       Category_Code|Count|\n+--------------------+-----+\n|             unknown|   87|\n|electronics.smart...|   38|\n|  computers.notebook|   18|\n|  electronics.clocks|    8|\n|furniture.kitchen...|    6|\n|appliances.kitche...|    5|\n|electronics.audio...|    5|\n|auto.accessories....|    5|\n|construction.tool...|    4|\n|appliances.kitche...|    4|\n|electronics.audio...|    4|\n|furniture.bedroom...|    4|\n|       apparel.jeans|    3|\n|computers.periphe...|    2|\n|auto.accessories....|    2|\n|furniture.living_...|    2|\n|appliances.sewing...|    2|\n|      apparel.tshirt|    1|\n|furniture.bathroo...|    1|\n|     accessories.bag|    1|\n+--------------------+-----+\nonly showing top 20 rows\n\n"
     ]
    }
   ],
   "source": [
    "spark.sql(\"SELECT DISTINCT(category_code) AS Category_Code, COUNT(product_id) AS Count from Product_Data GROUP BY category_code ORDER BY Count DESC\").show()"
   ]
  },
  {
   "cell_type": "code",
   "execution_count": 57,
   "metadata": {},
   "outputs": [
    {
     "output_type": "display_data",
     "data": {
      "application/vnd.plotly.v1+json": {
       "config": {
        "plotlyServerURL": "https://plot.ly"
       },
       "data": [
        {
         "alignmentgroup": "True",
         "bingroup": "x",
         "histfunc": "sum",
         "hovertemplate": "Category_Code=%{x}<br>sum of Count=%{y}<extra></extra>",
         "legendgroup": "",
         "marker": {
          "color": "#636efa"
         },
         "name": "",
         "offsetgroup": "",
         "orientation": "v",
         "showlegend": false,
         "type": "histogram",
         "x": [
          "unknown",
          "electronics.smartphone",
          "computers.notebook",
          "electronics.clocks",
          "furniture.kitchen.chair",
          "electronics.audio.headphone",
          "auto.accessories.player",
          "appliances.kitchen.refrigerators",
          "electronics.audio.subwoofer",
          "appliances.kitchen.dishwasher"
         ],
         "xaxis": "x",
         "y": [
          87,
          38,
          18,
          8,
          6,
          5,
          5,
          5,
          4,
          4
         ],
         "yaxis": "y"
        }
       ],
       "layout": {
        "barmode": "relative",
        "legend": {
         "tracegroupgap": 0
        },
        "margin": {
         "t": 60
        },
        "template": {
         "data": {
          "bar": [
           {
            "error_x": {
             "color": "#2a3f5f"
            },
            "error_y": {
             "color": "#2a3f5f"
            },
            "marker": {
             "line": {
              "color": "#E5ECF6",
              "width": 0.5
             }
            },
            "type": "bar"
           }
          ],
          "barpolar": [
           {
            "marker": {
             "line": {
              "color": "#E5ECF6",
              "width": 0.5
             }
            },
            "type": "barpolar"
           }
          ],
          "carpet": [
           {
            "aaxis": {
             "endlinecolor": "#2a3f5f",
             "gridcolor": "white",
             "linecolor": "white",
             "minorgridcolor": "white",
             "startlinecolor": "#2a3f5f"
            },
            "baxis": {
             "endlinecolor": "#2a3f5f",
             "gridcolor": "white",
             "linecolor": "white",
             "minorgridcolor": "white",
             "startlinecolor": "#2a3f5f"
            },
            "type": "carpet"
           }
          ],
          "choropleth": [
           {
            "colorbar": {
             "outlinewidth": 0,
             "ticks": ""
            },
            "type": "choropleth"
           }
          ],
          "contour": [
           {
            "colorbar": {
             "outlinewidth": 0,
             "ticks": ""
            },
            "colorscale": [
             [
              0,
              "#0d0887"
             ],
             [
              0.1111111111111111,
              "#46039f"
             ],
             [
              0.2222222222222222,
              "#7201a8"
             ],
             [
              0.3333333333333333,
              "#9c179e"
             ],
             [
              0.4444444444444444,
              "#bd3786"
             ],
             [
              0.5555555555555556,
              "#d8576b"
             ],
             [
              0.6666666666666666,
              "#ed7953"
             ],
             [
              0.7777777777777778,
              "#fb9f3a"
             ],
             [
              0.8888888888888888,
              "#fdca26"
             ],
             [
              1,
              "#f0f921"
             ]
            ],
            "type": "contour"
           }
          ],
          "contourcarpet": [
           {
            "colorbar": {
             "outlinewidth": 0,
             "ticks": ""
            },
            "type": "contourcarpet"
           }
          ],
          "heatmap": [
           {
            "colorbar": {
             "outlinewidth": 0,
             "ticks": ""
            },
            "colorscale": [
             [
              0,
              "#0d0887"
             ],
             [
              0.1111111111111111,
              "#46039f"
             ],
             [
              0.2222222222222222,
              "#7201a8"
             ],
             [
              0.3333333333333333,
              "#9c179e"
             ],
             [
              0.4444444444444444,
              "#bd3786"
             ],
             [
              0.5555555555555556,
              "#d8576b"
             ],
             [
              0.6666666666666666,
              "#ed7953"
             ],
             [
              0.7777777777777778,
              "#fb9f3a"
             ],
             [
              0.8888888888888888,
              "#fdca26"
             ],
             [
              1,
              "#f0f921"
             ]
            ],
            "type": "heatmap"
           }
          ],
          "heatmapgl": [
           {
            "colorbar": {
             "outlinewidth": 0,
             "ticks": ""
            },
            "colorscale": [
             [
              0,
              "#0d0887"
             ],
             [
              0.1111111111111111,
              "#46039f"
             ],
             [
              0.2222222222222222,
              "#7201a8"
             ],
             [
              0.3333333333333333,
              "#9c179e"
             ],
             [
              0.4444444444444444,
              "#bd3786"
             ],
             [
              0.5555555555555556,
              "#d8576b"
             ],
             [
              0.6666666666666666,
              "#ed7953"
             ],
             [
              0.7777777777777778,
              "#fb9f3a"
             ],
             [
              0.8888888888888888,
              "#fdca26"
             ],
             [
              1,
              "#f0f921"
             ]
            ],
            "type": "heatmapgl"
           }
          ],
          "histogram": [
           {
            "marker": {
             "colorbar": {
              "outlinewidth": 0,
              "ticks": ""
             }
            },
            "type": "histogram"
           }
          ],
          "histogram2d": [
           {
            "colorbar": {
             "outlinewidth": 0,
             "ticks": ""
            },
            "colorscale": [
             [
              0,
              "#0d0887"
             ],
             [
              0.1111111111111111,
              "#46039f"
             ],
             [
              0.2222222222222222,
              "#7201a8"
             ],
             [
              0.3333333333333333,
              "#9c179e"
             ],
             [
              0.4444444444444444,
              "#bd3786"
             ],
             [
              0.5555555555555556,
              "#d8576b"
             ],
             [
              0.6666666666666666,
              "#ed7953"
             ],
             [
              0.7777777777777778,
              "#fb9f3a"
             ],
             [
              0.8888888888888888,
              "#fdca26"
             ],
             [
              1,
              "#f0f921"
             ]
            ],
            "type": "histogram2d"
           }
          ],
          "histogram2dcontour": [
           {
            "colorbar": {
             "outlinewidth": 0,
             "ticks": ""
            },
            "colorscale": [
             [
              0,
              "#0d0887"
             ],
             [
              0.1111111111111111,
              "#46039f"
             ],
             [
              0.2222222222222222,
              "#7201a8"
             ],
             [
              0.3333333333333333,
              "#9c179e"
             ],
             [
              0.4444444444444444,
              "#bd3786"
             ],
             [
              0.5555555555555556,
              "#d8576b"
             ],
             [
              0.6666666666666666,
              "#ed7953"
             ],
             [
              0.7777777777777778,
              "#fb9f3a"
             ],
             [
              0.8888888888888888,
              "#fdca26"
             ],
             [
              1,
              "#f0f921"
             ]
            ],
            "type": "histogram2dcontour"
           }
          ],
          "mesh3d": [
           {
            "colorbar": {
             "outlinewidth": 0,
             "ticks": ""
            },
            "type": "mesh3d"
           }
          ],
          "parcoords": [
           {
            "line": {
             "colorbar": {
              "outlinewidth": 0,
              "ticks": ""
             }
            },
            "type": "parcoords"
           }
          ],
          "pie": [
           {
            "automargin": true,
            "type": "pie"
           }
          ],
          "scatter": [
           {
            "marker": {
             "colorbar": {
              "outlinewidth": 0,
              "ticks": ""
             }
            },
            "type": "scatter"
           }
          ],
          "scatter3d": [
           {
            "line": {
             "colorbar": {
              "outlinewidth": 0,
              "ticks": ""
             }
            },
            "marker": {
             "colorbar": {
              "outlinewidth": 0,
              "ticks": ""
             }
            },
            "type": "scatter3d"
           }
          ],
          "scattercarpet": [
           {
            "marker": {
             "colorbar": {
              "outlinewidth": 0,
              "ticks": ""
             }
            },
            "type": "scattercarpet"
           }
          ],
          "scattergeo": [
           {
            "marker": {
             "colorbar": {
              "outlinewidth": 0,
              "ticks": ""
             }
            },
            "type": "scattergeo"
           }
          ],
          "scattergl": [
           {
            "marker": {
             "colorbar": {
              "outlinewidth": 0,
              "ticks": ""
             }
            },
            "type": "scattergl"
           }
          ],
          "scattermapbox": [
           {
            "marker": {
             "colorbar": {
              "outlinewidth": 0,
              "ticks": ""
             }
            },
            "type": "scattermapbox"
           }
          ],
          "scatterpolar": [
           {
            "marker": {
             "colorbar": {
              "outlinewidth": 0,
              "ticks": ""
             }
            },
            "type": "scatterpolar"
           }
          ],
          "scatterpolargl": [
           {
            "marker": {
             "colorbar": {
              "outlinewidth": 0,
              "ticks": ""
             }
            },
            "type": "scatterpolargl"
           }
          ],
          "scatterternary": [
           {
            "marker": {
             "colorbar": {
              "outlinewidth": 0,
              "ticks": ""
             }
            },
            "type": "scatterternary"
           }
          ],
          "surface": [
           {
            "colorbar": {
             "outlinewidth": 0,
             "ticks": ""
            },
            "colorscale": [
             [
              0,
              "#0d0887"
             ],
             [
              0.1111111111111111,
              "#46039f"
             ],
             [
              0.2222222222222222,
              "#7201a8"
             ],
             [
              0.3333333333333333,
              "#9c179e"
             ],
             [
              0.4444444444444444,
              "#bd3786"
             ],
             [
              0.5555555555555556,
              "#d8576b"
             ],
             [
              0.6666666666666666,
              "#ed7953"
             ],
             [
              0.7777777777777778,
              "#fb9f3a"
             ],
             [
              0.8888888888888888,
              "#fdca26"
             ],
             [
              1,
              "#f0f921"
             ]
            ],
            "type": "surface"
           }
          ],
          "table": [
           {
            "cells": {
             "fill": {
              "color": "#EBF0F8"
             },
             "line": {
              "color": "white"
             }
            },
            "header": {
             "fill": {
              "color": "#C8D4E3"
             },
             "line": {
              "color": "white"
             }
            },
            "type": "table"
           }
          ]
         },
         "layout": {
          "annotationdefaults": {
           "arrowcolor": "#2a3f5f",
           "arrowhead": 0,
           "arrowwidth": 1
          },
          "autotypenumbers": "strict",
          "coloraxis": {
           "colorbar": {
            "outlinewidth": 0,
            "ticks": ""
           }
          },
          "colorscale": {
           "diverging": [
            [
             0,
             "#8e0152"
            ],
            [
             0.1,
             "#c51b7d"
            ],
            [
             0.2,
             "#de77ae"
            ],
            [
             0.3,
             "#f1b6da"
            ],
            [
             0.4,
             "#fde0ef"
            ],
            [
             0.5,
             "#f7f7f7"
            ],
            [
             0.6,
             "#e6f5d0"
            ],
            [
             0.7,
             "#b8e186"
            ],
            [
             0.8,
             "#7fbc41"
            ],
            [
             0.9,
             "#4d9221"
            ],
            [
             1,
             "#276419"
            ]
           ],
           "sequential": [
            [
             0,
             "#0d0887"
            ],
            [
             0.1111111111111111,
             "#46039f"
            ],
            [
             0.2222222222222222,
             "#7201a8"
            ],
            [
             0.3333333333333333,
             "#9c179e"
            ],
            [
             0.4444444444444444,
             "#bd3786"
            ],
            [
             0.5555555555555556,
             "#d8576b"
            ],
            [
             0.6666666666666666,
             "#ed7953"
            ],
            [
             0.7777777777777778,
             "#fb9f3a"
            ],
            [
             0.8888888888888888,
             "#fdca26"
            ],
            [
             1,
             "#f0f921"
            ]
           ],
           "sequentialminus": [
            [
             0,
             "#0d0887"
            ],
            [
             0.1111111111111111,
             "#46039f"
            ],
            [
             0.2222222222222222,
             "#7201a8"
            ],
            [
             0.3333333333333333,
             "#9c179e"
            ],
            [
             0.4444444444444444,
             "#bd3786"
            ],
            [
             0.5555555555555556,
             "#d8576b"
            ],
            [
             0.6666666666666666,
             "#ed7953"
            ],
            [
             0.7777777777777778,
             "#fb9f3a"
            ],
            [
             0.8888888888888888,
             "#fdca26"
            ],
            [
             1,
             "#f0f921"
            ]
           ]
          },
          "colorway": [
           "#636efa",
           "#EF553B",
           "#00cc96",
           "#ab63fa",
           "#FFA15A",
           "#19d3f3",
           "#FF6692",
           "#B6E880",
           "#FF97FF",
           "#FECB52"
          ],
          "font": {
           "color": "#2a3f5f"
          },
          "geo": {
           "bgcolor": "white",
           "lakecolor": "white",
           "landcolor": "#E5ECF6",
           "showlakes": true,
           "showland": true,
           "subunitcolor": "white"
          },
          "hoverlabel": {
           "align": "left"
          },
          "hovermode": "closest",
          "mapbox": {
           "style": "light"
          },
          "paper_bgcolor": "white",
          "plot_bgcolor": "#E5ECF6",
          "polar": {
           "angularaxis": {
            "gridcolor": "white",
            "linecolor": "white",
            "ticks": ""
           },
           "bgcolor": "#E5ECF6",
           "radialaxis": {
            "gridcolor": "white",
            "linecolor": "white",
            "ticks": ""
           }
          },
          "scene": {
           "xaxis": {
            "backgroundcolor": "#E5ECF6",
            "gridcolor": "white",
            "gridwidth": 2,
            "linecolor": "white",
            "showbackground": true,
            "ticks": "",
            "zerolinecolor": "white"
           },
           "yaxis": {
            "backgroundcolor": "#E5ECF6",
            "gridcolor": "white",
            "gridwidth": 2,
            "linecolor": "white",
            "showbackground": true,
            "ticks": "",
            "zerolinecolor": "white"
           },
           "zaxis": {
            "backgroundcolor": "#E5ECF6",
            "gridcolor": "white",
            "gridwidth": 2,
            "linecolor": "white",
            "showbackground": true,
            "ticks": "",
            "zerolinecolor": "white"
           }
          },
          "shapedefaults": {
           "line": {
            "color": "#2a3f5f"
           }
          },
          "ternary": {
           "aaxis": {
            "gridcolor": "white",
            "linecolor": "white",
            "ticks": ""
           },
           "baxis": {
            "gridcolor": "white",
            "linecolor": "white",
            "ticks": ""
           },
           "bgcolor": "#E5ECF6",
           "caxis": {
            "gridcolor": "white",
            "linecolor": "white",
            "ticks": ""
           }
          },
          "title": {
           "x": 0.05
          },
          "xaxis": {
           "automargin": true,
           "gridcolor": "white",
           "linecolor": "white",
           "ticks": "",
           "title": {
            "standoff": 15
           },
           "zerolinecolor": "white",
           "zerolinewidth": 2
          },
          "yaxis": {
           "automargin": true,
           "gridcolor": "white",
           "linecolor": "white",
           "ticks": "",
           "title": {
            "standoff": 15
           },
           "zerolinecolor": "white",
           "zerolinewidth": 2
          }
         }
        },
        "xaxis": {
         "anchor": "y",
         "domain": [
          0,
          1
         ],
         "title": {
          "text": "Category_Code"
         }
        },
        "yaxis": {
         "anchor": "x",
         "domain": [
          0,
          1
         ],
         "title": {
          "text": "sum of Count"
         }
        }
       }
      }
     },
     "metadata": {}
    }
   ],
   "source": [
    "px.histogram(spark.sql(\"SELECT DISTINCT(category_code) AS Category_Code, COUNT(product_id) AS Count from Product_Data GROUP BY category_code ORDER BY Count DESC LIMIT 10\").toPandas(), x=\"Category_Code\", y=\"Count\")"
   ]
  },
  {
   "source": [
    "#### Category_class"
   ],
   "cell_type": "markdown",
   "metadata": {}
  },
  {
   "cell_type": "code",
   "execution_count": 26,
   "metadata": {},
   "outputs": [
    {
     "output_type": "stream",
     "name": "stdout",
     "text": [
      "+---------------------------+\n|Count_Unique_Category_Class|\n+---------------------------+\n|                          9|\n+---------------------------+\n\n"
     ]
    }
   ],
   "source": [
    "spark.sql(\"SELECT COUNT(DISTINCT(category_class)) AS Count_Unique_Category_Class from Product_Data\").show()"
   ]
  },
  {
   "cell_type": "code",
   "execution_count": 27,
   "metadata": {},
   "outputs": [
    {
     "output_type": "stream",
     "name": "stdout",
     "text": [
      "+--------------+-----+\n|Category_Class|Count|\n+--------------+-----+\n|       unknown|   87|\n|   electronics|   57|\n|     computers|   23|\n|    appliances|   14|\n|     furniture|   14|\n|  construction|    8|\n|          auto|    7|\n|       apparel|    6|\n|   accessories|    1|\n+--------------+-----+\n\n"
     ]
    }
   ],
   "source": [
    "spark.sql(\"SELECT DISTINCT(category_class) AS Category_Class, COUNT(product_id) AS Count from Product_Data GROUP BY category_class ORDER BY Count DESC\").show()"
   ]
  },
  {
   "cell_type": "code",
   "execution_count": 28,
   "metadata": {},
   "outputs": [
    {
     "output_type": "display_data",
     "data": {
      "application/vnd.plotly.v1+json": {
       "config": {
        "plotlyServerURL": "https://plot.ly"
       },
       "data": [
        {
         "alignmentgroup": "True",
         "bingroup": "x",
         "hovertemplate": "category_class=%{x}<br>count=%{y}<extra></extra>",
         "legendgroup": "",
         "marker": {
          "color": "#636efa"
         },
         "name": "",
         "offsetgroup": "",
         "orientation": "v",
         "showlegend": false,
         "type": "histogram",
         "x": [
          "electronics",
          "appliances",
          "unknown",
          "appliances",
          "electronics",
          "computers",
          "computers",
          "unknown",
          "unknown",
          "electronics",
          "furniture",
          "appliances",
          "furniture",
          "unknown",
          "appliances",
          "unknown",
          "unknown",
          "unknown",
          "electronics",
          "computers",
          "unknown",
          "electronics",
          "unknown",
          "furniture",
          "unknown",
          "unknown",
          "unknown",
          "electronics",
          "computers",
          "computers",
          "unknown",
          "furniture",
          "unknown",
          "unknown",
          "unknown",
          "unknown",
          "unknown",
          "electronics",
          "appliances",
          "electronics",
          "electronics",
          "unknown",
          "unknown",
          "appliances",
          "appliances",
          "unknown",
          "unknown",
          "electronics",
          "unknown",
          "electronics",
          "electronics",
          "electronics",
          "apparel",
          "apparel",
          "electronics",
          "furniture",
          "unknown",
          "unknown",
          "unknown",
          "unknown",
          "unknown",
          "unknown",
          "computers",
          "unknown",
          "unknown",
          "electronics",
          "unknown",
          "unknown",
          "construction",
          "electronics",
          "unknown",
          "auto",
          "unknown",
          "unknown",
          "furniture",
          "computers",
          "unknown",
          "computers",
          "unknown",
          "electronics",
          "unknown",
          "unknown",
          "electronics",
          "unknown",
          "electronics",
          "computers",
          "auto",
          "computers",
          "electronics",
          "unknown",
          "accessories",
          "appliances",
          "apparel",
          "electronics",
          "unknown",
          "electronics",
          "electronics",
          "electronics",
          "appliances",
          "unknown",
          "computers",
          "electronics",
          "unknown",
          "computers",
          "unknown",
          "electronics",
          "computers",
          "furniture",
          "unknown",
          "electronics",
          "electronics",
          "unknown",
          "unknown",
          "unknown",
          "appliances",
          "unknown",
          "unknown",
          "apparel",
          "auto",
          "construction",
          "computers",
          "electronics",
          "furniture",
          "unknown",
          "unknown",
          "furniture",
          "unknown",
          "electronics",
          "electronics",
          "electronics",
          "unknown",
          "electronics",
          "unknown",
          "computers",
          "electronics",
          "unknown",
          "unknown",
          "computers",
          "unknown",
          "unknown",
          "unknown",
          "computers",
          "unknown",
          "auto",
          "electronics",
          "construction",
          "electronics",
          "unknown",
          "electronics",
          "unknown",
          "unknown",
          "unknown",
          "appliances",
          "electronics",
          "computers",
          "unknown",
          "electronics",
          "appliances",
          "electronics",
          "electronics",
          "appliances",
          "unknown",
          "computers",
          "auto",
          "construction",
          "electronics",
          "unknown",
          "unknown",
          "electronics",
          "electronics",
          "furniture",
          "unknown",
          "computers",
          "appliances",
          "electronics",
          "unknown",
          "auto",
          "furniture",
          "unknown",
          "unknown",
          "furniture",
          "electronics",
          "furniture",
          "unknown",
          "apparel",
          "unknown",
          "electronics",
          "construction",
          "electronics",
          "construction",
          "construction",
          "unknown",
          "computers",
          "unknown",
          "electronics",
          "unknown",
          "furniture",
          "apparel",
          "construction",
          "electronics",
          "unknown",
          "auto",
          "electronics",
          "computers",
          "unknown",
          "electronics",
          "electronics",
          "electronics",
          "electronics",
          "computers",
          "electronics",
          "unknown",
          "unknown",
          "unknown",
          "unknown",
          "unknown",
          "electronics"
         ],
         "xaxis": "x",
         "yaxis": "y"
        }
       ],
       "layout": {
        "barmode": "relative",
        "legend": {
         "tracegroupgap": 0
        },
        "margin": {
         "t": 60
        },
        "template": {
         "data": {
          "bar": [
           {
            "error_x": {
             "color": "#2a3f5f"
            },
            "error_y": {
             "color": "#2a3f5f"
            },
            "marker": {
             "line": {
              "color": "#E5ECF6",
              "width": 0.5
             }
            },
            "type": "bar"
           }
          ],
          "barpolar": [
           {
            "marker": {
             "line": {
              "color": "#E5ECF6",
              "width": 0.5
             }
            },
            "type": "barpolar"
           }
          ],
          "carpet": [
           {
            "aaxis": {
             "endlinecolor": "#2a3f5f",
             "gridcolor": "white",
             "linecolor": "white",
             "minorgridcolor": "white",
             "startlinecolor": "#2a3f5f"
            },
            "baxis": {
             "endlinecolor": "#2a3f5f",
             "gridcolor": "white",
             "linecolor": "white",
             "minorgridcolor": "white",
             "startlinecolor": "#2a3f5f"
            },
            "type": "carpet"
           }
          ],
          "choropleth": [
           {
            "colorbar": {
             "outlinewidth": 0,
             "ticks": ""
            },
            "type": "choropleth"
           }
          ],
          "contour": [
           {
            "colorbar": {
             "outlinewidth": 0,
             "ticks": ""
            },
            "colorscale": [
             [
              0,
              "#0d0887"
             ],
             [
              0.1111111111111111,
              "#46039f"
             ],
             [
              0.2222222222222222,
              "#7201a8"
             ],
             [
              0.3333333333333333,
              "#9c179e"
             ],
             [
              0.4444444444444444,
              "#bd3786"
             ],
             [
              0.5555555555555556,
              "#d8576b"
             ],
             [
              0.6666666666666666,
              "#ed7953"
             ],
             [
              0.7777777777777778,
              "#fb9f3a"
             ],
             [
              0.8888888888888888,
              "#fdca26"
             ],
             [
              1,
              "#f0f921"
             ]
            ],
            "type": "contour"
           }
          ],
          "contourcarpet": [
           {
            "colorbar": {
             "outlinewidth": 0,
             "ticks": ""
            },
            "type": "contourcarpet"
           }
          ],
          "heatmap": [
           {
            "colorbar": {
             "outlinewidth": 0,
             "ticks": ""
            },
            "colorscale": [
             [
              0,
              "#0d0887"
             ],
             [
              0.1111111111111111,
              "#46039f"
             ],
             [
              0.2222222222222222,
              "#7201a8"
             ],
             [
              0.3333333333333333,
              "#9c179e"
             ],
             [
              0.4444444444444444,
              "#bd3786"
             ],
             [
              0.5555555555555556,
              "#d8576b"
             ],
             [
              0.6666666666666666,
              "#ed7953"
             ],
             [
              0.7777777777777778,
              "#fb9f3a"
             ],
             [
              0.8888888888888888,
              "#fdca26"
             ],
             [
              1,
              "#f0f921"
             ]
            ],
            "type": "heatmap"
           }
          ],
          "heatmapgl": [
           {
            "colorbar": {
             "outlinewidth": 0,
             "ticks": ""
            },
            "colorscale": [
             [
              0,
              "#0d0887"
             ],
             [
              0.1111111111111111,
              "#46039f"
             ],
             [
              0.2222222222222222,
              "#7201a8"
             ],
             [
              0.3333333333333333,
              "#9c179e"
             ],
             [
              0.4444444444444444,
              "#bd3786"
             ],
             [
              0.5555555555555556,
              "#d8576b"
             ],
             [
              0.6666666666666666,
              "#ed7953"
             ],
             [
              0.7777777777777778,
              "#fb9f3a"
             ],
             [
              0.8888888888888888,
              "#fdca26"
             ],
             [
              1,
              "#f0f921"
             ]
            ],
            "type": "heatmapgl"
           }
          ],
          "histogram": [
           {
            "marker": {
             "colorbar": {
              "outlinewidth": 0,
              "ticks": ""
             }
            },
            "type": "histogram"
           }
          ],
          "histogram2d": [
           {
            "colorbar": {
             "outlinewidth": 0,
             "ticks": ""
            },
            "colorscale": [
             [
              0,
              "#0d0887"
             ],
             [
              0.1111111111111111,
              "#46039f"
             ],
             [
              0.2222222222222222,
              "#7201a8"
             ],
             [
              0.3333333333333333,
              "#9c179e"
             ],
             [
              0.4444444444444444,
              "#bd3786"
             ],
             [
              0.5555555555555556,
              "#d8576b"
             ],
             [
              0.6666666666666666,
              "#ed7953"
             ],
             [
              0.7777777777777778,
              "#fb9f3a"
             ],
             [
              0.8888888888888888,
              "#fdca26"
             ],
             [
              1,
              "#f0f921"
             ]
            ],
            "type": "histogram2d"
           }
          ],
          "histogram2dcontour": [
           {
            "colorbar": {
             "outlinewidth": 0,
             "ticks": ""
            },
            "colorscale": [
             [
              0,
              "#0d0887"
             ],
             [
              0.1111111111111111,
              "#46039f"
             ],
             [
              0.2222222222222222,
              "#7201a8"
             ],
             [
              0.3333333333333333,
              "#9c179e"
             ],
             [
              0.4444444444444444,
              "#bd3786"
             ],
             [
              0.5555555555555556,
              "#d8576b"
             ],
             [
              0.6666666666666666,
              "#ed7953"
             ],
             [
              0.7777777777777778,
              "#fb9f3a"
             ],
             [
              0.8888888888888888,
              "#fdca26"
             ],
             [
              1,
              "#f0f921"
             ]
            ],
            "type": "histogram2dcontour"
           }
          ],
          "mesh3d": [
           {
            "colorbar": {
             "outlinewidth": 0,
             "ticks": ""
            },
            "type": "mesh3d"
           }
          ],
          "parcoords": [
           {
            "line": {
             "colorbar": {
              "outlinewidth": 0,
              "ticks": ""
             }
            },
            "type": "parcoords"
           }
          ],
          "pie": [
           {
            "automargin": true,
            "type": "pie"
           }
          ],
          "scatter": [
           {
            "marker": {
             "colorbar": {
              "outlinewidth": 0,
              "ticks": ""
             }
            },
            "type": "scatter"
           }
          ],
          "scatter3d": [
           {
            "line": {
             "colorbar": {
              "outlinewidth": 0,
              "ticks": ""
             }
            },
            "marker": {
             "colorbar": {
              "outlinewidth": 0,
              "ticks": ""
             }
            },
            "type": "scatter3d"
           }
          ],
          "scattercarpet": [
           {
            "marker": {
             "colorbar": {
              "outlinewidth": 0,
              "ticks": ""
             }
            },
            "type": "scattercarpet"
           }
          ],
          "scattergeo": [
           {
            "marker": {
             "colorbar": {
              "outlinewidth": 0,
              "ticks": ""
             }
            },
            "type": "scattergeo"
           }
          ],
          "scattergl": [
           {
            "marker": {
             "colorbar": {
              "outlinewidth": 0,
              "ticks": ""
             }
            },
            "type": "scattergl"
           }
          ],
          "scattermapbox": [
           {
            "marker": {
             "colorbar": {
              "outlinewidth": 0,
              "ticks": ""
             }
            },
            "type": "scattermapbox"
           }
          ],
          "scatterpolar": [
           {
            "marker": {
             "colorbar": {
              "outlinewidth": 0,
              "ticks": ""
             }
            },
            "type": "scatterpolar"
           }
          ],
          "scatterpolargl": [
           {
            "marker": {
             "colorbar": {
              "outlinewidth": 0,
              "ticks": ""
             }
            },
            "type": "scatterpolargl"
           }
          ],
          "scatterternary": [
           {
            "marker": {
             "colorbar": {
              "outlinewidth": 0,
              "ticks": ""
             }
            },
            "type": "scatterternary"
           }
          ],
          "surface": [
           {
            "colorbar": {
             "outlinewidth": 0,
             "ticks": ""
            },
            "colorscale": [
             [
              0,
              "#0d0887"
             ],
             [
              0.1111111111111111,
              "#46039f"
             ],
             [
              0.2222222222222222,
              "#7201a8"
             ],
             [
              0.3333333333333333,
              "#9c179e"
             ],
             [
              0.4444444444444444,
              "#bd3786"
             ],
             [
              0.5555555555555556,
              "#d8576b"
             ],
             [
              0.6666666666666666,
              "#ed7953"
             ],
             [
              0.7777777777777778,
              "#fb9f3a"
             ],
             [
              0.8888888888888888,
              "#fdca26"
             ],
             [
              1,
              "#f0f921"
             ]
            ],
            "type": "surface"
           }
          ],
          "table": [
           {
            "cells": {
             "fill": {
              "color": "#EBF0F8"
             },
             "line": {
              "color": "white"
             }
            },
            "header": {
             "fill": {
              "color": "#C8D4E3"
             },
             "line": {
              "color": "white"
             }
            },
            "type": "table"
           }
          ]
         },
         "layout": {
          "annotationdefaults": {
           "arrowcolor": "#2a3f5f",
           "arrowhead": 0,
           "arrowwidth": 1
          },
          "autotypenumbers": "strict",
          "coloraxis": {
           "colorbar": {
            "outlinewidth": 0,
            "ticks": ""
           }
          },
          "colorscale": {
           "diverging": [
            [
             0,
             "#8e0152"
            ],
            [
             0.1,
             "#c51b7d"
            ],
            [
             0.2,
             "#de77ae"
            ],
            [
             0.3,
             "#f1b6da"
            ],
            [
             0.4,
             "#fde0ef"
            ],
            [
             0.5,
             "#f7f7f7"
            ],
            [
             0.6,
             "#e6f5d0"
            ],
            [
             0.7,
             "#b8e186"
            ],
            [
             0.8,
             "#7fbc41"
            ],
            [
             0.9,
             "#4d9221"
            ],
            [
             1,
             "#276419"
            ]
           ],
           "sequential": [
            [
             0,
             "#0d0887"
            ],
            [
             0.1111111111111111,
             "#46039f"
            ],
            [
             0.2222222222222222,
             "#7201a8"
            ],
            [
             0.3333333333333333,
             "#9c179e"
            ],
            [
             0.4444444444444444,
             "#bd3786"
            ],
            [
             0.5555555555555556,
             "#d8576b"
            ],
            [
             0.6666666666666666,
             "#ed7953"
            ],
            [
             0.7777777777777778,
             "#fb9f3a"
            ],
            [
             0.8888888888888888,
             "#fdca26"
            ],
            [
             1,
             "#f0f921"
            ]
           ],
           "sequentialminus": [
            [
             0,
             "#0d0887"
            ],
            [
             0.1111111111111111,
             "#46039f"
            ],
            [
             0.2222222222222222,
             "#7201a8"
            ],
            [
             0.3333333333333333,
             "#9c179e"
            ],
            [
             0.4444444444444444,
             "#bd3786"
            ],
            [
             0.5555555555555556,
             "#d8576b"
            ],
            [
             0.6666666666666666,
             "#ed7953"
            ],
            [
             0.7777777777777778,
             "#fb9f3a"
            ],
            [
             0.8888888888888888,
             "#fdca26"
            ],
            [
             1,
             "#f0f921"
            ]
           ]
          },
          "colorway": [
           "#636efa",
           "#EF553B",
           "#00cc96",
           "#ab63fa",
           "#FFA15A",
           "#19d3f3",
           "#FF6692",
           "#B6E880",
           "#FF97FF",
           "#FECB52"
          ],
          "font": {
           "color": "#2a3f5f"
          },
          "geo": {
           "bgcolor": "white",
           "lakecolor": "white",
           "landcolor": "#E5ECF6",
           "showlakes": true,
           "showland": true,
           "subunitcolor": "white"
          },
          "hoverlabel": {
           "align": "left"
          },
          "hovermode": "closest",
          "mapbox": {
           "style": "light"
          },
          "paper_bgcolor": "white",
          "plot_bgcolor": "#E5ECF6",
          "polar": {
           "angularaxis": {
            "gridcolor": "white",
            "linecolor": "white",
            "ticks": ""
           },
           "bgcolor": "#E5ECF6",
           "radialaxis": {
            "gridcolor": "white",
            "linecolor": "white",
            "ticks": ""
           }
          },
          "scene": {
           "xaxis": {
            "backgroundcolor": "#E5ECF6",
            "gridcolor": "white",
            "gridwidth": 2,
            "linecolor": "white",
            "showbackground": true,
            "ticks": "",
            "zerolinecolor": "white"
           },
           "yaxis": {
            "backgroundcolor": "#E5ECF6",
            "gridcolor": "white",
            "gridwidth": 2,
            "linecolor": "white",
            "showbackground": true,
            "ticks": "",
            "zerolinecolor": "white"
           },
           "zaxis": {
            "backgroundcolor": "#E5ECF6",
            "gridcolor": "white",
            "gridwidth": 2,
            "linecolor": "white",
            "showbackground": true,
            "ticks": "",
            "zerolinecolor": "white"
           }
          },
          "shapedefaults": {
           "line": {
            "color": "#2a3f5f"
           }
          },
          "ternary": {
           "aaxis": {
            "gridcolor": "white",
            "linecolor": "white",
            "ticks": ""
           },
           "baxis": {
            "gridcolor": "white",
            "linecolor": "white",
            "ticks": ""
           },
           "bgcolor": "#E5ECF6",
           "caxis": {
            "gridcolor": "white",
            "linecolor": "white",
            "ticks": ""
           }
          },
          "title": {
           "x": 0.05
          },
          "xaxis": {
           "automargin": true,
           "gridcolor": "white",
           "linecolor": "white",
           "ticks": "",
           "title": {
            "standoff": 15
           },
           "zerolinecolor": "white",
           "zerolinewidth": 2
          },
          "yaxis": {
           "automargin": true,
           "gridcolor": "white",
           "linecolor": "white",
           "ticks": "",
           "title": {
            "standoff": 15
           },
           "zerolinecolor": "white",
           "zerolinewidth": 2
          }
         }
        },
        "xaxis": {
         "anchor": "y",
         "domain": [
          0,
          1
         ],
         "title": {
          "text": "category_class"
         }
        },
        "yaxis": {
         "anchor": "x",
         "domain": [
          0,
          1
         ],
         "title": {
          "text": "count"
         }
        }
       }
      }
     },
     "metadata": {}
    }
   ],
   "source": [
    "px.histogram(pdf, x=\"category_class\")"
   ]
  },
  {
   "source": [
    "#### Brand"
   ],
   "cell_type": "markdown",
   "metadata": {}
  },
  {
   "cell_type": "code",
   "execution_count": 29,
   "metadata": {},
   "outputs": [
    {
     "output_type": "stream",
     "name": "stdout",
     "text": [
      "+------------------+\n|Count_Unique_Brand|\n+------------------+\n|                86|\n+------------------+\n\n"
     ]
    }
   ],
   "source": [
    "spark.sql(\"SELECT COUNT(DISTINCT(brand)) AS Count_Unique_Brand from Product_Data\").show()"
   ]
  },
  {
   "cell_type": "code",
   "execution_count": 30,
   "metadata": {},
   "outputs": [
    {
     "output_type": "stream",
     "name": "stdout",
     "text": [
      "+---------+-----+\n|    Brand|Count|\n+---------+-----+\n|  unknown|   41|\n|    apple|   16|\n|   xiaomi|   15|\n|  samsung|   10|\n|       hp|    9|\n|   huawei|    6|\n|   tissot|    4|\n| kirkland|    4|\n|      brw|    4|\n|    bosch|    3|\n|trussardi|    3|\n|  lucente|    3|\n|     asus|    3|\n|   dewalt|    3|\n|      ams|    3|\n|     acer|    3|\n| michelin|    3|\n|    canon|    3|\n| cordiant|    2|\n|     peda|    2|\n+---------+-----+\nonly showing top 20 rows\n\n"
     ]
    }
   ],
   "source": [
    "spark.sql(\"SELECT DISTINCT(brand) AS Brand, COUNT(product_id) AS Count from Product_Data GROUP BY brand ORDER BY Count DESC\").show()"
   ]
  },
  {
   "cell_type": "code",
   "execution_count": 58,
   "metadata": {},
   "outputs": [
    {
     "output_type": "display_data",
     "data": {
      "application/vnd.plotly.v1+json": {
       "config": {
        "plotlyServerURL": "https://plot.ly"
       },
       "data": [
        {
         "alignmentgroup": "True",
         "bingroup": "x",
         "histfunc": "sum",
         "hovertemplate": "Brand=%{x}<br>sum of Count=%{y}<extra></extra>",
         "legendgroup": "",
         "marker": {
          "color": "#636efa"
         },
         "name": "",
         "offsetgroup": "",
         "orientation": "v",
         "showlegend": false,
         "type": "histogram",
         "x": [
          "unknown",
          "apple",
          "xiaomi",
          "samsung",
          "hp",
          "huawei",
          "tissot",
          "brw",
          "kirkland",
          "acer"
         ],
         "xaxis": "x",
         "y": [
          41,
          16,
          15,
          10,
          9,
          6,
          4,
          4,
          4,
          3
         ],
         "yaxis": "y"
        }
       ],
       "layout": {
        "barmode": "relative",
        "legend": {
         "tracegroupgap": 0
        },
        "margin": {
         "t": 60
        },
        "template": {
         "data": {
          "bar": [
           {
            "error_x": {
             "color": "#2a3f5f"
            },
            "error_y": {
             "color": "#2a3f5f"
            },
            "marker": {
             "line": {
              "color": "#E5ECF6",
              "width": 0.5
             }
            },
            "type": "bar"
           }
          ],
          "barpolar": [
           {
            "marker": {
             "line": {
              "color": "#E5ECF6",
              "width": 0.5
             }
            },
            "type": "barpolar"
           }
          ],
          "carpet": [
           {
            "aaxis": {
             "endlinecolor": "#2a3f5f",
             "gridcolor": "white",
             "linecolor": "white",
             "minorgridcolor": "white",
             "startlinecolor": "#2a3f5f"
            },
            "baxis": {
             "endlinecolor": "#2a3f5f",
             "gridcolor": "white",
             "linecolor": "white",
             "minorgridcolor": "white",
             "startlinecolor": "#2a3f5f"
            },
            "type": "carpet"
           }
          ],
          "choropleth": [
           {
            "colorbar": {
             "outlinewidth": 0,
             "ticks": ""
            },
            "type": "choropleth"
           }
          ],
          "contour": [
           {
            "colorbar": {
             "outlinewidth": 0,
             "ticks": ""
            },
            "colorscale": [
             [
              0,
              "#0d0887"
             ],
             [
              0.1111111111111111,
              "#46039f"
             ],
             [
              0.2222222222222222,
              "#7201a8"
             ],
             [
              0.3333333333333333,
              "#9c179e"
             ],
             [
              0.4444444444444444,
              "#bd3786"
             ],
             [
              0.5555555555555556,
              "#d8576b"
             ],
             [
              0.6666666666666666,
              "#ed7953"
             ],
             [
              0.7777777777777778,
              "#fb9f3a"
             ],
             [
              0.8888888888888888,
              "#fdca26"
             ],
             [
              1,
              "#f0f921"
             ]
            ],
            "type": "contour"
           }
          ],
          "contourcarpet": [
           {
            "colorbar": {
             "outlinewidth": 0,
             "ticks": ""
            },
            "type": "contourcarpet"
           }
          ],
          "heatmap": [
           {
            "colorbar": {
             "outlinewidth": 0,
             "ticks": ""
            },
            "colorscale": [
             [
              0,
              "#0d0887"
             ],
             [
              0.1111111111111111,
              "#46039f"
             ],
             [
              0.2222222222222222,
              "#7201a8"
             ],
             [
              0.3333333333333333,
              "#9c179e"
             ],
             [
              0.4444444444444444,
              "#bd3786"
             ],
             [
              0.5555555555555556,
              "#d8576b"
             ],
             [
              0.6666666666666666,
              "#ed7953"
             ],
             [
              0.7777777777777778,
              "#fb9f3a"
             ],
             [
              0.8888888888888888,
              "#fdca26"
             ],
             [
              1,
              "#f0f921"
             ]
            ],
            "type": "heatmap"
           }
          ],
          "heatmapgl": [
           {
            "colorbar": {
             "outlinewidth": 0,
             "ticks": ""
            },
            "colorscale": [
             [
              0,
              "#0d0887"
             ],
             [
              0.1111111111111111,
              "#46039f"
             ],
             [
              0.2222222222222222,
              "#7201a8"
             ],
             [
              0.3333333333333333,
              "#9c179e"
             ],
             [
              0.4444444444444444,
              "#bd3786"
             ],
             [
              0.5555555555555556,
              "#d8576b"
             ],
             [
              0.6666666666666666,
              "#ed7953"
             ],
             [
              0.7777777777777778,
              "#fb9f3a"
             ],
             [
              0.8888888888888888,
              "#fdca26"
             ],
             [
              1,
              "#f0f921"
             ]
            ],
            "type": "heatmapgl"
           }
          ],
          "histogram": [
           {
            "marker": {
             "colorbar": {
              "outlinewidth": 0,
              "ticks": ""
             }
            },
            "type": "histogram"
           }
          ],
          "histogram2d": [
           {
            "colorbar": {
             "outlinewidth": 0,
             "ticks": ""
            },
            "colorscale": [
             [
              0,
              "#0d0887"
             ],
             [
              0.1111111111111111,
              "#46039f"
             ],
             [
              0.2222222222222222,
              "#7201a8"
             ],
             [
              0.3333333333333333,
              "#9c179e"
             ],
             [
              0.4444444444444444,
              "#bd3786"
             ],
             [
              0.5555555555555556,
              "#d8576b"
             ],
             [
              0.6666666666666666,
              "#ed7953"
             ],
             [
              0.7777777777777778,
              "#fb9f3a"
             ],
             [
              0.8888888888888888,
              "#fdca26"
             ],
             [
              1,
              "#f0f921"
             ]
            ],
            "type": "histogram2d"
           }
          ],
          "histogram2dcontour": [
           {
            "colorbar": {
             "outlinewidth": 0,
             "ticks": ""
            },
            "colorscale": [
             [
              0,
              "#0d0887"
             ],
             [
              0.1111111111111111,
              "#46039f"
             ],
             [
              0.2222222222222222,
              "#7201a8"
             ],
             [
              0.3333333333333333,
              "#9c179e"
             ],
             [
              0.4444444444444444,
              "#bd3786"
             ],
             [
              0.5555555555555556,
              "#d8576b"
             ],
             [
              0.6666666666666666,
              "#ed7953"
             ],
             [
              0.7777777777777778,
              "#fb9f3a"
             ],
             [
              0.8888888888888888,
              "#fdca26"
             ],
             [
              1,
              "#f0f921"
             ]
            ],
            "type": "histogram2dcontour"
           }
          ],
          "mesh3d": [
           {
            "colorbar": {
             "outlinewidth": 0,
             "ticks": ""
            },
            "type": "mesh3d"
           }
          ],
          "parcoords": [
           {
            "line": {
             "colorbar": {
              "outlinewidth": 0,
              "ticks": ""
             }
            },
            "type": "parcoords"
           }
          ],
          "pie": [
           {
            "automargin": true,
            "type": "pie"
           }
          ],
          "scatter": [
           {
            "marker": {
             "colorbar": {
              "outlinewidth": 0,
              "ticks": ""
             }
            },
            "type": "scatter"
           }
          ],
          "scatter3d": [
           {
            "line": {
             "colorbar": {
              "outlinewidth": 0,
              "ticks": ""
             }
            },
            "marker": {
             "colorbar": {
              "outlinewidth": 0,
              "ticks": ""
             }
            },
            "type": "scatter3d"
           }
          ],
          "scattercarpet": [
           {
            "marker": {
             "colorbar": {
              "outlinewidth": 0,
              "ticks": ""
             }
            },
            "type": "scattercarpet"
           }
          ],
          "scattergeo": [
           {
            "marker": {
             "colorbar": {
              "outlinewidth": 0,
              "ticks": ""
             }
            },
            "type": "scattergeo"
           }
          ],
          "scattergl": [
           {
            "marker": {
             "colorbar": {
              "outlinewidth": 0,
              "ticks": ""
             }
            },
            "type": "scattergl"
           }
          ],
          "scattermapbox": [
           {
            "marker": {
             "colorbar": {
              "outlinewidth": 0,
              "ticks": ""
             }
            },
            "type": "scattermapbox"
           }
          ],
          "scatterpolar": [
           {
            "marker": {
             "colorbar": {
              "outlinewidth": 0,
              "ticks": ""
             }
            },
            "type": "scatterpolar"
           }
          ],
          "scatterpolargl": [
           {
            "marker": {
             "colorbar": {
              "outlinewidth": 0,
              "ticks": ""
             }
            },
            "type": "scatterpolargl"
           }
          ],
          "scatterternary": [
           {
            "marker": {
             "colorbar": {
              "outlinewidth": 0,
              "ticks": ""
             }
            },
            "type": "scatterternary"
           }
          ],
          "surface": [
           {
            "colorbar": {
             "outlinewidth": 0,
             "ticks": ""
            },
            "colorscale": [
             [
              0,
              "#0d0887"
             ],
             [
              0.1111111111111111,
              "#46039f"
             ],
             [
              0.2222222222222222,
              "#7201a8"
             ],
             [
              0.3333333333333333,
              "#9c179e"
             ],
             [
              0.4444444444444444,
              "#bd3786"
             ],
             [
              0.5555555555555556,
              "#d8576b"
             ],
             [
              0.6666666666666666,
              "#ed7953"
             ],
             [
              0.7777777777777778,
              "#fb9f3a"
             ],
             [
              0.8888888888888888,
              "#fdca26"
             ],
             [
              1,
              "#f0f921"
             ]
            ],
            "type": "surface"
           }
          ],
          "table": [
           {
            "cells": {
             "fill": {
              "color": "#EBF0F8"
             },
             "line": {
              "color": "white"
             }
            },
            "header": {
             "fill": {
              "color": "#C8D4E3"
             },
             "line": {
              "color": "white"
             }
            },
            "type": "table"
           }
          ]
         },
         "layout": {
          "annotationdefaults": {
           "arrowcolor": "#2a3f5f",
           "arrowhead": 0,
           "arrowwidth": 1
          },
          "autotypenumbers": "strict",
          "coloraxis": {
           "colorbar": {
            "outlinewidth": 0,
            "ticks": ""
           }
          },
          "colorscale": {
           "diverging": [
            [
             0,
             "#8e0152"
            ],
            [
             0.1,
             "#c51b7d"
            ],
            [
             0.2,
             "#de77ae"
            ],
            [
             0.3,
             "#f1b6da"
            ],
            [
             0.4,
             "#fde0ef"
            ],
            [
             0.5,
             "#f7f7f7"
            ],
            [
             0.6,
             "#e6f5d0"
            ],
            [
             0.7,
             "#b8e186"
            ],
            [
             0.8,
             "#7fbc41"
            ],
            [
             0.9,
             "#4d9221"
            ],
            [
             1,
             "#276419"
            ]
           ],
           "sequential": [
            [
             0,
             "#0d0887"
            ],
            [
             0.1111111111111111,
             "#46039f"
            ],
            [
             0.2222222222222222,
             "#7201a8"
            ],
            [
             0.3333333333333333,
             "#9c179e"
            ],
            [
             0.4444444444444444,
             "#bd3786"
            ],
            [
             0.5555555555555556,
             "#d8576b"
            ],
            [
             0.6666666666666666,
             "#ed7953"
            ],
            [
             0.7777777777777778,
             "#fb9f3a"
            ],
            [
             0.8888888888888888,
             "#fdca26"
            ],
            [
             1,
             "#f0f921"
            ]
           ],
           "sequentialminus": [
            [
             0,
             "#0d0887"
            ],
            [
             0.1111111111111111,
             "#46039f"
            ],
            [
             0.2222222222222222,
             "#7201a8"
            ],
            [
             0.3333333333333333,
             "#9c179e"
            ],
            [
             0.4444444444444444,
             "#bd3786"
            ],
            [
             0.5555555555555556,
             "#d8576b"
            ],
            [
             0.6666666666666666,
             "#ed7953"
            ],
            [
             0.7777777777777778,
             "#fb9f3a"
            ],
            [
             0.8888888888888888,
             "#fdca26"
            ],
            [
             1,
             "#f0f921"
            ]
           ]
          },
          "colorway": [
           "#636efa",
           "#EF553B",
           "#00cc96",
           "#ab63fa",
           "#FFA15A",
           "#19d3f3",
           "#FF6692",
           "#B6E880",
           "#FF97FF",
           "#FECB52"
          ],
          "font": {
           "color": "#2a3f5f"
          },
          "geo": {
           "bgcolor": "white",
           "lakecolor": "white",
           "landcolor": "#E5ECF6",
           "showlakes": true,
           "showland": true,
           "subunitcolor": "white"
          },
          "hoverlabel": {
           "align": "left"
          },
          "hovermode": "closest",
          "mapbox": {
           "style": "light"
          },
          "paper_bgcolor": "white",
          "plot_bgcolor": "#E5ECF6",
          "polar": {
           "angularaxis": {
            "gridcolor": "white",
            "linecolor": "white",
            "ticks": ""
           },
           "bgcolor": "#E5ECF6",
           "radialaxis": {
            "gridcolor": "white",
            "linecolor": "white",
            "ticks": ""
           }
          },
          "scene": {
           "xaxis": {
            "backgroundcolor": "#E5ECF6",
            "gridcolor": "white",
            "gridwidth": 2,
            "linecolor": "white",
            "showbackground": true,
            "ticks": "",
            "zerolinecolor": "white"
           },
           "yaxis": {
            "backgroundcolor": "#E5ECF6",
            "gridcolor": "white",
            "gridwidth": 2,
            "linecolor": "white",
            "showbackground": true,
            "ticks": "",
            "zerolinecolor": "white"
           },
           "zaxis": {
            "backgroundcolor": "#E5ECF6",
            "gridcolor": "white",
            "gridwidth": 2,
            "linecolor": "white",
            "showbackground": true,
            "ticks": "",
            "zerolinecolor": "white"
           }
          },
          "shapedefaults": {
           "line": {
            "color": "#2a3f5f"
           }
          },
          "ternary": {
           "aaxis": {
            "gridcolor": "white",
            "linecolor": "white",
            "ticks": ""
           },
           "baxis": {
            "gridcolor": "white",
            "linecolor": "white",
            "ticks": ""
           },
           "bgcolor": "#E5ECF6",
           "caxis": {
            "gridcolor": "white",
            "linecolor": "white",
            "ticks": ""
           }
          },
          "title": {
           "x": 0.05
          },
          "xaxis": {
           "automargin": true,
           "gridcolor": "white",
           "linecolor": "white",
           "ticks": "",
           "title": {
            "standoff": 15
           },
           "zerolinecolor": "white",
           "zerolinewidth": 2
          },
          "yaxis": {
           "automargin": true,
           "gridcolor": "white",
           "linecolor": "white",
           "ticks": "",
           "title": {
            "standoff": 15
           },
           "zerolinecolor": "white",
           "zerolinewidth": 2
          }
         }
        },
        "xaxis": {
         "anchor": "y",
         "domain": [
          0,
          1
         ],
         "title": {
          "text": "Brand"
         }
        },
        "yaxis": {
         "anchor": "x",
         "domain": [
          0,
          1
         ],
         "title": {
          "text": "sum of Count"
         }
        }
       }
      }
     },
     "metadata": {}
    }
   ],
   "source": [
    "px.histogram(spark.sql(\"SELECT DISTINCT(brand) AS Brand, COUNT(product_id) AS Count from Product_Data GROUP BY brand ORDER BY Count DESC LIMIT 10\").toPandas(), x=\"Brand\", y=\"Count\")"
   ]
  },
  {
   "source": [
    "#### Price"
   ],
   "cell_type": "markdown",
   "metadata": {}
  },
  {
   "cell_type": "code",
   "execution_count": 32,
   "metadata": {},
   "outputs": [
    {
     "output_type": "stream",
     "name": "stdout",
     "text": [
      "+------------------+-------+-----------------+----+\n|Count_Unique_Price|    MAX|             MEAN| MIN|\n+------------------+-------+-----------------+----+\n|               185|2496.59|306.6343778801842|1.09|\n+------------------+-------+-----------------+----+\n\n"
     ]
    }
   ],
   "source": [
    "spark.sql(\"SELECT COUNT(DISTINCT(price)) AS Count_Unique_Price, MAX(price) AS MAX, MEAN(price) AS MEAN, MIN(price) AS MIN from Product_Data\").show()"
   ]
  },
  {
   "cell_type": "code",
   "execution_count": 33,
   "metadata": {},
   "outputs": [
    {
     "output_type": "display_data",
     "data": {
      "application/vnd.plotly.v1+json": {
       "config": {
        "plotlyServerURL": "https://plot.ly"
       },
       "data": [
        {
         "alignmentgroup": "True",
         "hovertemplate": "price=%{y}<extra></extra>",
         "legendgroup": "",
         "marker": {
          "color": "#636efa"
         },
         "name": "",
         "notched": false,
         "offsetgroup": "",
         "orientation": "v",
         "showlegend": false,
         "type": "box",
         "x0": " ",
         "xaxis": "x",
         "y": [
          489.07,
          293.65,
          28.31,
          712.87,
          183.27,
          360.09,
          514.56,
          30.86,
          72.72,
          732.07,
          437.33,
          155.11,
          31.64,
          20.54,
          411.83,
          1.09,
          8.55,
          22.68,
          164.84,
          411.59,
          88.81,
          151.99,
          7.07,
          591.78,
          55.33,
          11.79,
          7.59,
          949.47,
          514.79,
          360.34,
          38.07,
          47.77,
          23.4,
          23.14,
          61.1,
          127.42,
          54.06,
          69.24,
          108.09,
          458.28,
          503.09,
          119.69,
          437.29,
          32.66,
          684.44,
          511.13,
          15.62,
          386.08,
          248.66,
          211.92,
          895.78,
          289.33,
          8.73,
          40.16,
          928.18,
          47.77,
          66.9,
          8.55,
          134.37,
          51.48,
          83.91,
          28.19,
          385.85,
          733.61,
          105.54,
          128.42,
          50.19,
          43.73,
          98.51,
          84.65,
          5.77,
          157.28,
          252.77,
          20.77,
          34.75,
          287.83,
          91.12,
          151.14,
          61.75,
          1091.33,
          46.16,
          72.72,
          22.8,
          171.17,
          257.38,
          51.46,
          221.37,
          849.42,
          242.63,
          40.93,
          48.43,
          499.94,
          50.45,
          51.22,
          900.92,
          463.15,
          928.38,
          861.28,
          166.23,
          64.33,
          170.63,
          1013.86,
          28.19,
          411.59,
          280.05,
          1173.6,
          390.98,
          566.3,
          50.43,
          1091.33,
          946.73,
          58.17,
          61.75,
          17.49,
          314.08,
          47.62,
          47.32,
          46.08,
          180.18,
          226.83,
          514.79,
          489.07,
          70.27,
          511.13,
          751.63,
          136.4,
          182.76,
          172.22,
          172.23,
          41.19,
          257.15,
          398.72,
          378.36,
          2342.15,
          861.28,
          28.19,
          114.03,
          406.68,
          25.48,
          49.68,
          76.45,
          1209.55,
          72.72,
          113.93,
          928.38,
          254.78,
          334.37,
          244.28,
          242.63,
          70.53,
          118.41,
          7.34,
          293.65,
          22.8,
          203.84,
          77.22,
          125.61,
          684.44,
          128.42,
          1013.86,
          298.16,
          84.69,
          2312.8,
          229.09,
          48.35,
          167.02,
          40.93,
          177.1,
          211.92,
          2239.44,
          36.78,
          900.92,
          2496.59,
          128.68,
          195.37,
          10.17,
          221.37,
          207.21,
          277.23,
          32.18,
          36.78,
          58.69,
          566.3,
          69.5,
          65.38,
          30.43,
          218.51,
          150.95,
          127.33,
          46.82,
          29.86,
          65.64,
          411.34,
          72.59,
          165.26,
          97.34,
          566.3,
          102.71,
          24.71,
          293.44,
          397.54,
          221.37,
          183.27,
          432.42,
          1335.43,
          380.96,
          552.14,
          38.61,
          67.84,
          2311.49,
          133.83,
          224.46,
          72.07,
          20.57,
          51.22,
          257.15,
          732.07
         ],
         "y0": " ",
         "yaxis": "y"
        }
       ],
       "layout": {
        "boxmode": "group",
        "legend": {
         "tracegroupgap": 0
        },
        "margin": {
         "t": 60
        },
        "template": {
         "data": {
          "bar": [
           {
            "error_x": {
             "color": "#2a3f5f"
            },
            "error_y": {
             "color": "#2a3f5f"
            },
            "marker": {
             "line": {
              "color": "#E5ECF6",
              "width": 0.5
             }
            },
            "type": "bar"
           }
          ],
          "barpolar": [
           {
            "marker": {
             "line": {
              "color": "#E5ECF6",
              "width": 0.5
             }
            },
            "type": "barpolar"
           }
          ],
          "carpet": [
           {
            "aaxis": {
             "endlinecolor": "#2a3f5f",
             "gridcolor": "white",
             "linecolor": "white",
             "minorgridcolor": "white",
             "startlinecolor": "#2a3f5f"
            },
            "baxis": {
             "endlinecolor": "#2a3f5f",
             "gridcolor": "white",
             "linecolor": "white",
             "minorgridcolor": "white",
             "startlinecolor": "#2a3f5f"
            },
            "type": "carpet"
           }
          ],
          "choropleth": [
           {
            "colorbar": {
             "outlinewidth": 0,
             "ticks": ""
            },
            "type": "choropleth"
           }
          ],
          "contour": [
           {
            "colorbar": {
             "outlinewidth": 0,
             "ticks": ""
            },
            "colorscale": [
             [
              0,
              "#0d0887"
             ],
             [
              0.1111111111111111,
              "#46039f"
             ],
             [
              0.2222222222222222,
              "#7201a8"
             ],
             [
              0.3333333333333333,
              "#9c179e"
             ],
             [
              0.4444444444444444,
              "#bd3786"
             ],
             [
              0.5555555555555556,
              "#d8576b"
             ],
             [
              0.6666666666666666,
              "#ed7953"
             ],
             [
              0.7777777777777778,
              "#fb9f3a"
             ],
             [
              0.8888888888888888,
              "#fdca26"
             ],
             [
              1,
              "#f0f921"
             ]
            ],
            "type": "contour"
           }
          ],
          "contourcarpet": [
           {
            "colorbar": {
             "outlinewidth": 0,
             "ticks": ""
            },
            "type": "contourcarpet"
           }
          ],
          "heatmap": [
           {
            "colorbar": {
             "outlinewidth": 0,
             "ticks": ""
            },
            "colorscale": [
             [
              0,
              "#0d0887"
             ],
             [
              0.1111111111111111,
              "#46039f"
             ],
             [
              0.2222222222222222,
              "#7201a8"
             ],
             [
              0.3333333333333333,
              "#9c179e"
             ],
             [
              0.4444444444444444,
              "#bd3786"
             ],
             [
              0.5555555555555556,
              "#d8576b"
             ],
             [
              0.6666666666666666,
              "#ed7953"
             ],
             [
              0.7777777777777778,
              "#fb9f3a"
             ],
             [
              0.8888888888888888,
              "#fdca26"
             ],
             [
              1,
              "#f0f921"
             ]
            ],
            "type": "heatmap"
           }
          ],
          "heatmapgl": [
           {
            "colorbar": {
             "outlinewidth": 0,
             "ticks": ""
            },
            "colorscale": [
             [
              0,
              "#0d0887"
             ],
             [
              0.1111111111111111,
              "#46039f"
             ],
             [
              0.2222222222222222,
              "#7201a8"
             ],
             [
              0.3333333333333333,
              "#9c179e"
             ],
             [
              0.4444444444444444,
              "#bd3786"
             ],
             [
              0.5555555555555556,
              "#d8576b"
             ],
             [
              0.6666666666666666,
              "#ed7953"
             ],
             [
              0.7777777777777778,
              "#fb9f3a"
             ],
             [
              0.8888888888888888,
              "#fdca26"
             ],
             [
              1,
              "#f0f921"
             ]
            ],
            "type": "heatmapgl"
           }
          ],
          "histogram": [
           {
            "marker": {
             "colorbar": {
              "outlinewidth": 0,
              "ticks": ""
             }
            },
            "type": "histogram"
           }
          ],
          "histogram2d": [
           {
            "colorbar": {
             "outlinewidth": 0,
             "ticks": ""
            },
            "colorscale": [
             [
              0,
              "#0d0887"
             ],
             [
              0.1111111111111111,
              "#46039f"
             ],
             [
              0.2222222222222222,
              "#7201a8"
             ],
             [
              0.3333333333333333,
              "#9c179e"
             ],
             [
              0.4444444444444444,
              "#bd3786"
             ],
             [
              0.5555555555555556,
              "#d8576b"
             ],
             [
              0.6666666666666666,
              "#ed7953"
             ],
             [
              0.7777777777777778,
              "#fb9f3a"
             ],
             [
              0.8888888888888888,
              "#fdca26"
             ],
             [
              1,
              "#f0f921"
             ]
            ],
            "type": "histogram2d"
           }
          ],
          "histogram2dcontour": [
           {
            "colorbar": {
             "outlinewidth": 0,
             "ticks": ""
            },
            "colorscale": [
             [
              0,
              "#0d0887"
             ],
             [
              0.1111111111111111,
              "#46039f"
             ],
             [
              0.2222222222222222,
              "#7201a8"
             ],
             [
              0.3333333333333333,
              "#9c179e"
             ],
             [
              0.4444444444444444,
              "#bd3786"
             ],
             [
              0.5555555555555556,
              "#d8576b"
             ],
             [
              0.6666666666666666,
              "#ed7953"
             ],
             [
              0.7777777777777778,
              "#fb9f3a"
             ],
             [
              0.8888888888888888,
              "#fdca26"
             ],
             [
              1,
              "#f0f921"
             ]
            ],
            "type": "histogram2dcontour"
           }
          ],
          "mesh3d": [
           {
            "colorbar": {
             "outlinewidth": 0,
             "ticks": ""
            },
            "type": "mesh3d"
           }
          ],
          "parcoords": [
           {
            "line": {
             "colorbar": {
              "outlinewidth": 0,
              "ticks": ""
             }
            },
            "type": "parcoords"
           }
          ],
          "pie": [
           {
            "automargin": true,
            "type": "pie"
           }
          ],
          "scatter": [
           {
            "marker": {
             "colorbar": {
              "outlinewidth": 0,
              "ticks": ""
             }
            },
            "type": "scatter"
           }
          ],
          "scatter3d": [
           {
            "line": {
             "colorbar": {
              "outlinewidth": 0,
              "ticks": ""
             }
            },
            "marker": {
             "colorbar": {
              "outlinewidth": 0,
              "ticks": ""
             }
            },
            "type": "scatter3d"
           }
          ],
          "scattercarpet": [
           {
            "marker": {
             "colorbar": {
              "outlinewidth": 0,
              "ticks": ""
             }
            },
            "type": "scattercarpet"
           }
          ],
          "scattergeo": [
           {
            "marker": {
             "colorbar": {
              "outlinewidth": 0,
              "ticks": ""
             }
            },
            "type": "scattergeo"
           }
          ],
          "scattergl": [
           {
            "marker": {
             "colorbar": {
              "outlinewidth": 0,
              "ticks": ""
             }
            },
            "type": "scattergl"
           }
          ],
          "scattermapbox": [
           {
            "marker": {
             "colorbar": {
              "outlinewidth": 0,
              "ticks": ""
             }
            },
            "type": "scattermapbox"
           }
          ],
          "scatterpolar": [
           {
            "marker": {
             "colorbar": {
              "outlinewidth": 0,
              "ticks": ""
             }
            },
            "type": "scatterpolar"
           }
          ],
          "scatterpolargl": [
           {
            "marker": {
             "colorbar": {
              "outlinewidth": 0,
              "ticks": ""
             }
            },
            "type": "scatterpolargl"
           }
          ],
          "scatterternary": [
           {
            "marker": {
             "colorbar": {
              "outlinewidth": 0,
              "ticks": ""
             }
            },
            "type": "scatterternary"
           }
          ],
          "surface": [
           {
            "colorbar": {
             "outlinewidth": 0,
             "ticks": ""
            },
            "colorscale": [
             [
              0,
              "#0d0887"
             ],
             [
              0.1111111111111111,
              "#46039f"
             ],
             [
              0.2222222222222222,
              "#7201a8"
             ],
             [
              0.3333333333333333,
              "#9c179e"
             ],
             [
              0.4444444444444444,
              "#bd3786"
             ],
             [
              0.5555555555555556,
              "#d8576b"
             ],
             [
              0.6666666666666666,
              "#ed7953"
             ],
             [
              0.7777777777777778,
              "#fb9f3a"
             ],
             [
              0.8888888888888888,
              "#fdca26"
             ],
             [
              1,
              "#f0f921"
             ]
            ],
            "type": "surface"
           }
          ],
          "table": [
           {
            "cells": {
             "fill": {
              "color": "#EBF0F8"
             },
             "line": {
              "color": "white"
             }
            },
            "header": {
             "fill": {
              "color": "#C8D4E3"
             },
             "line": {
              "color": "white"
             }
            },
            "type": "table"
           }
          ]
         },
         "layout": {
          "annotationdefaults": {
           "arrowcolor": "#2a3f5f",
           "arrowhead": 0,
           "arrowwidth": 1
          },
          "autotypenumbers": "strict",
          "coloraxis": {
           "colorbar": {
            "outlinewidth": 0,
            "ticks": ""
           }
          },
          "colorscale": {
           "diverging": [
            [
             0,
             "#8e0152"
            ],
            [
             0.1,
             "#c51b7d"
            ],
            [
             0.2,
             "#de77ae"
            ],
            [
             0.3,
             "#f1b6da"
            ],
            [
             0.4,
             "#fde0ef"
            ],
            [
             0.5,
             "#f7f7f7"
            ],
            [
             0.6,
             "#e6f5d0"
            ],
            [
             0.7,
             "#b8e186"
            ],
            [
             0.8,
             "#7fbc41"
            ],
            [
             0.9,
             "#4d9221"
            ],
            [
             1,
             "#276419"
            ]
           ],
           "sequential": [
            [
             0,
             "#0d0887"
            ],
            [
             0.1111111111111111,
             "#46039f"
            ],
            [
             0.2222222222222222,
             "#7201a8"
            ],
            [
             0.3333333333333333,
             "#9c179e"
            ],
            [
             0.4444444444444444,
             "#bd3786"
            ],
            [
             0.5555555555555556,
             "#d8576b"
            ],
            [
             0.6666666666666666,
             "#ed7953"
            ],
            [
             0.7777777777777778,
             "#fb9f3a"
            ],
            [
             0.8888888888888888,
             "#fdca26"
            ],
            [
             1,
             "#f0f921"
            ]
           ],
           "sequentialminus": [
            [
             0,
             "#0d0887"
            ],
            [
             0.1111111111111111,
             "#46039f"
            ],
            [
             0.2222222222222222,
             "#7201a8"
            ],
            [
             0.3333333333333333,
             "#9c179e"
            ],
            [
             0.4444444444444444,
             "#bd3786"
            ],
            [
             0.5555555555555556,
             "#d8576b"
            ],
            [
             0.6666666666666666,
             "#ed7953"
            ],
            [
             0.7777777777777778,
             "#fb9f3a"
            ],
            [
             0.8888888888888888,
             "#fdca26"
            ],
            [
             1,
             "#f0f921"
            ]
           ]
          },
          "colorway": [
           "#636efa",
           "#EF553B",
           "#00cc96",
           "#ab63fa",
           "#FFA15A",
           "#19d3f3",
           "#FF6692",
           "#B6E880",
           "#FF97FF",
           "#FECB52"
          ],
          "font": {
           "color": "#2a3f5f"
          },
          "geo": {
           "bgcolor": "white",
           "lakecolor": "white",
           "landcolor": "#E5ECF6",
           "showlakes": true,
           "showland": true,
           "subunitcolor": "white"
          },
          "hoverlabel": {
           "align": "left"
          },
          "hovermode": "closest",
          "mapbox": {
           "style": "light"
          },
          "paper_bgcolor": "white",
          "plot_bgcolor": "#E5ECF6",
          "polar": {
           "angularaxis": {
            "gridcolor": "white",
            "linecolor": "white",
            "ticks": ""
           },
           "bgcolor": "#E5ECF6",
           "radialaxis": {
            "gridcolor": "white",
            "linecolor": "white",
            "ticks": ""
           }
          },
          "scene": {
           "xaxis": {
            "backgroundcolor": "#E5ECF6",
            "gridcolor": "white",
            "gridwidth": 2,
            "linecolor": "white",
            "showbackground": true,
            "ticks": "",
            "zerolinecolor": "white"
           },
           "yaxis": {
            "backgroundcolor": "#E5ECF6",
            "gridcolor": "white",
            "gridwidth": 2,
            "linecolor": "white",
            "showbackground": true,
            "ticks": "",
            "zerolinecolor": "white"
           },
           "zaxis": {
            "backgroundcolor": "#E5ECF6",
            "gridcolor": "white",
            "gridwidth": 2,
            "linecolor": "white",
            "showbackground": true,
            "ticks": "",
            "zerolinecolor": "white"
           }
          },
          "shapedefaults": {
           "line": {
            "color": "#2a3f5f"
           }
          },
          "ternary": {
           "aaxis": {
            "gridcolor": "white",
            "linecolor": "white",
            "ticks": ""
           },
           "baxis": {
            "gridcolor": "white",
            "linecolor": "white",
            "ticks": ""
           },
           "bgcolor": "#E5ECF6",
           "caxis": {
            "gridcolor": "white",
            "linecolor": "white",
            "ticks": ""
           }
          },
          "title": {
           "x": 0.05
          },
          "xaxis": {
           "automargin": true,
           "gridcolor": "white",
           "linecolor": "white",
           "ticks": "",
           "title": {
            "standoff": 15
           },
           "zerolinecolor": "white",
           "zerolinewidth": 2
          },
          "yaxis": {
           "automargin": true,
           "gridcolor": "white",
           "linecolor": "white",
           "ticks": "",
           "title": {
            "standoff": 15
           },
           "zerolinecolor": "white",
           "zerolinewidth": 2
          }
         }
        },
        "xaxis": {
         "anchor": "y",
         "domain": [
          0,
          1
         ]
        },
        "yaxis": {
         "anchor": "x",
         "domain": [
          0,
          1
         ],
         "title": {
          "text": "price"
         }
        }
       }
      }
     },
     "metadata": {}
    }
   ],
   "source": [
    "px.box(pdf, y=\"price\")"
   ]
  },
  {
   "source": [
    "### Kombibetrachtung"
   ],
   "cell_type": "markdown",
   "metadata": {}
  },
  {
   "source": [
    "#### Overview Counts"
   ],
   "cell_type": "markdown",
   "metadata": {}
  },
  {
   "cell_type": "code",
   "execution_count": 34,
   "metadata": {},
   "outputs": [
    {
     "output_type": "stream",
     "name": "stdout",
     "text": [
      "+---------+----------+--------------+-------------+-----------+-----+-----+\n|Row_Count|Product_ID|Category_Class|Category_Code|Category_ID|Brand|Price|\n+---------+----------+--------------+-------------+-----------+-----+-----+\n|      217|       188|             9|           35|         74|   86|  185|\n+---------+----------+--------------+-------------+-----------+-----+-----+\n\n"
     ]
    }
   ],
   "source": [
    "spark.sql(\"SELECT COUNT(*) AS Row_Count, COUNT(DISTINCT(product_id)) AS Product_ID, COUNT(DISTINCT(category_class)) AS Category_Class, COUNT(DISTINCT(category_code)) AS Category_Code, COUNT(DISTINCT(category_id)) AS Category_ID, COUNT(DISTINCT(brand)) AS Brand, COUNT(DISTINCT(price)) AS Price from Product_Data\").show()"
   ]
  },
  {
   "source": [
    "#### Preis-Verteilung"
   ],
   "cell_type": "markdown",
   "metadata": {}
  },
  {
   "source": [
    "##### Product_ID - Price"
   ],
   "cell_type": "markdown",
   "metadata": {}
  },
  {
   "cell_type": "code",
   "execution_count": 67,
   "metadata": {},
   "outputs": [
    {
     "output_type": "stream",
     "name": "stdout",
     "text": [
      "+----------+-------+\n|Product_ID|  Price|\n+----------+-------+\n|   1305977|2496.59|\n|   1307012|2342.15|\n|   1306571| 2312.8|\n|   1304315|2311.49|\n|   5100797|2239.44|\n|  15100252|1335.43|\n|   1307519|1209.55|\n|   1004241| 1173.6|\n|   1004237|1091.33|\n|   1005116|1013.86|\n|   1005115| 949.47|\n|   1004840| 946.73|\n|   1003316| 928.38|\n|   1003317| 928.18|\n|  29900072| 900.92|\n|  21406939| 895.78|\n|  21408240| 861.28|\n|   1307338| 849.42|\n|  52000038| 751.63|\n|  31000152| 733.61|\n+----------+-------+\nonly showing top 20 rows\n\n"
     ]
    }
   ],
   "source": [
    "spark.sql(\"SELECT DISTINCT(Product_ID), Price from Product_Data ORDER BY Price Desc\").show()"
   ]
  },
  {
   "cell_type": "code",
   "execution_count": 64,
   "metadata": {},
   "outputs": [
    {
     "output_type": "display_data",
     "data": {
      "application/vnd.plotly.v1+json": {
       "config": {
        "plotlyServerURL": "https://plot.ly"
       },
       "data": [
        {
         "alignmentgroup": "True",
         "hovertemplate": "Product_ID=%{x}<br>Price=%{y}<extra></extra>",
         "legendgroup": "",
         "marker": {
          "color": "#636efa"
         },
         "name": "",
         "offsetgroup": "",
         "orientation": "v",
         "showlegend": false,
         "textposition": "auto",
         "type": "bar",
         "x": [
          "1305977",
          "1307012",
          "1306571",
          "1304315",
          "5100797",
          "15100252",
          "1307519",
          "1004241",
          "1004237",
          "1004237"
         ],
         "xaxis": "x",
         "y": [
          2496.59,
          2342.15,
          2312.8,
          2311.49,
          2239.44,
          1335.43,
          1209.55,
          1173.6,
          1091.33,
          1091.33
         ],
         "yaxis": "y"
        }
       ],
       "layout": {
        "barmode": "relative",
        "legend": {
         "tracegroupgap": 0
        },
        "margin": {
         "t": 60
        },
        "template": {
         "data": {
          "bar": [
           {
            "error_x": {
             "color": "#2a3f5f"
            },
            "error_y": {
             "color": "#2a3f5f"
            },
            "marker": {
             "line": {
              "color": "#E5ECF6",
              "width": 0.5
             }
            },
            "type": "bar"
           }
          ],
          "barpolar": [
           {
            "marker": {
             "line": {
              "color": "#E5ECF6",
              "width": 0.5
             }
            },
            "type": "barpolar"
           }
          ],
          "carpet": [
           {
            "aaxis": {
             "endlinecolor": "#2a3f5f",
             "gridcolor": "white",
             "linecolor": "white",
             "minorgridcolor": "white",
             "startlinecolor": "#2a3f5f"
            },
            "baxis": {
             "endlinecolor": "#2a3f5f",
             "gridcolor": "white",
             "linecolor": "white",
             "minorgridcolor": "white",
             "startlinecolor": "#2a3f5f"
            },
            "type": "carpet"
           }
          ],
          "choropleth": [
           {
            "colorbar": {
             "outlinewidth": 0,
             "ticks": ""
            },
            "type": "choropleth"
           }
          ],
          "contour": [
           {
            "colorbar": {
             "outlinewidth": 0,
             "ticks": ""
            },
            "colorscale": [
             [
              0,
              "#0d0887"
             ],
             [
              0.1111111111111111,
              "#46039f"
             ],
             [
              0.2222222222222222,
              "#7201a8"
             ],
             [
              0.3333333333333333,
              "#9c179e"
             ],
             [
              0.4444444444444444,
              "#bd3786"
             ],
             [
              0.5555555555555556,
              "#d8576b"
             ],
             [
              0.6666666666666666,
              "#ed7953"
             ],
             [
              0.7777777777777778,
              "#fb9f3a"
             ],
             [
              0.8888888888888888,
              "#fdca26"
             ],
             [
              1,
              "#f0f921"
             ]
            ],
            "type": "contour"
           }
          ],
          "contourcarpet": [
           {
            "colorbar": {
             "outlinewidth": 0,
             "ticks": ""
            },
            "type": "contourcarpet"
           }
          ],
          "heatmap": [
           {
            "colorbar": {
             "outlinewidth": 0,
             "ticks": ""
            },
            "colorscale": [
             [
              0,
              "#0d0887"
             ],
             [
              0.1111111111111111,
              "#46039f"
             ],
             [
              0.2222222222222222,
              "#7201a8"
             ],
             [
              0.3333333333333333,
              "#9c179e"
             ],
             [
              0.4444444444444444,
              "#bd3786"
             ],
             [
              0.5555555555555556,
              "#d8576b"
             ],
             [
              0.6666666666666666,
              "#ed7953"
             ],
             [
              0.7777777777777778,
              "#fb9f3a"
             ],
             [
              0.8888888888888888,
              "#fdca26"
             ],
             [
              1,
              "#f0f921"
             ]
            ],
            "type": "heatmap"
           }
          ],
          "heatmapgl": [
           {
            "colorbar": {
             "outlinewidth": 0,
             "ticks": ""
            },
            "colorscale": [
             [
              0,
              "#0d0887"
             ],
             [
              0.1111111111111111,
              "#46039f"
             ],
             [
              0.2222222222222222,
              "#7201a8"
             ],
             [
              0.3333333333333333,
              "#9c179e"
             ],
             [
              0.4444444444444444,
              "#bd3786"
             ],
             [
              0.5555555555555556,
              "#d8576b"
             ],
             [
              0.6666666666666666,
              "#ed7953"
             ],
             [
              0.7777777777777778,
              "#fb9f3a"
             ],
             [
              0.8888888888888888,
              "#fdca26"
             ],
             [
              1,
              "#f0f921"
             ]
            ],
            "type": "heatmapgl"
           }
          ],
          "histogram": [
           {
            "marker": {
             "colorbar": {
              "outlinewidth": 0,
              "ticks": ""
             }
            },
            "type": "histogram"
           }
          ],
          "histogram2d": [
           {
            "colorbar": {
             "outlinewidth": 0,
             "ticks": ""
            },
            "colorscale": [
             [
              0,
              "#0d0887"
             ],
             [
              0.1111111111111111,
              "#46039f"
             ],
             [
              0.2222222222222222,
              "#7201a8"
             ],
             [
              0.3333333333333333,
              "#9c179e"
             ],
             [
              0.4444444444444444,
              "#bd3786"
             ],
             [
              0.5555555555555556,
              "#d8576b"
             ],
             [
              0.6666666666666666,
              "#ed7953"
             ],
             [
              0.7777777777777778,
              "#fb9f3a"
             ],
             [
              0.8888888888888888,
              "#fdca26"
             ],
             [
              1,
              "#f0f921"
             ]
            ],
            "type": "histogram2d"
           }
          ],
          "histogram2dcontour": [
           {
            "colorbar": {
             "outlinewidth": 0,
             "ticks": ""
            },
            "colorscale": [
             [
              0,
              "#0d0887"
             ],
             [
              0.1111111111111111,
              "#46039f"
             ],
             [
              0.2222222222222222,
              "#7201a8"
             ],
             [
              0.3333333333333333,
              "#9c179e"
             ],
             [
              0.4444444444444444,
              "#bd3786"
             ],
             [
              0.5555555555555556,
              "#d8576b"
             ],
             [
              0.6666666666666666,
              "#ed7953"
             ],
             [
              0.7777777777777778,
              "#fb9f3a"
             ],
             [
              0.8888888888888888,
              "#fdca26"
             ],
             [
              1,
              "#f0f921"
             ]
            ],
            "type": "histogram2dcontour"
           }
          ],
          "mesh3d": [
           {
            "colorbar": {
             "outlinewidth": 0,
             "ticks": ""
            },
            "type": "mesh3d"
           }
          ],
          "parcoords": [
           {
            "line": {
             "colorbar": {
              "outlinewidth": 0,
              "ticks": ""
             }
            },
            "type": "parcoords"
           }
          ],
          "pie": [
           {
            "automargin": true,
            "type": "pie"
           }
          ],
          "scatter": [
           {
            "marker": {
             "colorbar": {
              "outlinewidth": 0,
              "ticks": ""
             }
            },
            "type": "scatter"
           }
          ],
          "scatter3d": [
           {
            "line": {
             "colorbar": {
              "outlinewidth": 0,
              "ticks": ""
             }
            },
            "marker": {
             "colorbar": {
              "outlinewidth": 0,
              "ticks": ""
             }
            },
            "type": "scatter3d"
           }
          ],
          "scattercarpet": [
           {
            "marker": {
             "colorbar": {
              "outlinewidth": 0,
              "ticks": ""
             }
            },
            "type": "scattercarpet"
           }
          ],
          "scattergeo": [
           {
            "marker": {
             "colorbar": {
              "outlinewidth": 0,
              "ticks": ""
             }
            },
            "type": "scattergeo"
           }
          ],
          "scattergl": [
           {
            "marker": {
             "colorbar": {
              "outlinewidth": 0,
              "ticks": ""
             }
            },
            "type": "scattergl"
           }
          ],
          "scattermapbox": [
           {
            "marker": {
             "colorbar": {
              "outlinewidth": 0,
              "ticks": ""
             }
            },
            "type": "scattermapbox"
           }
          ],
          "scatterpolar": [
           {
            "marker": {
             "colorbar": {
              "outlinewidth": 0,
              "ticks": ""
             }
            },
            "type": "scatterpolar"
           }
          ],
          "scatterpolargl": [
           {
            "marker": {
             "colorbar": {
              "outlinewidth": 0,
              "ticks": ""
             }
            },
            "type": "scatterpolargl"
           }
          ],
          "scatterternary": [
           {
            "marker": {
             "colorbar": {
              "outlinewidth": 0,
              "ticks": ""
             }
            },
            "type": "scatterternary"
           }
          ],
          "surface": [
           {
            "colorbar": {
             "outlinewidth": 0,
             "ticks": ""
            },
            "colorscale": [
             [
              0,
              "#0d0887"
             ],
             [
              0.1111111111111111,
              "#46039f"
             ],
             [
              0.2222222222222222,
              "#7201a8"
             ],
             [
              0.3333333333333333,
              "#9c179e"
             ],
             [
              0.4444444444444444,
              "#bd3786"
             ],
             [
              0.5555555555555556,
              "#d8576b"
             ],
             [
              0.6666666666666666,
              "#ed7953"
             ],
             [
              0.7777777777777778,
              "#fb9f3a"
             ],
             [
              0.8888888888888888,
              "#fdca26"
             ],
             [
              1,
              "#f0f921"
             ]
            ],
            "type": "surface"
           }
          ],
          "table": [
           {
            "cells": {
             "fill": {
              "color": "#EBF0F8"
             },
             "line": {
              "color": "white"
             }
            },
            "header": {
             "fill": {
              "color": "#C8D4E3"
             },
             "line": {
              "color": "white"
             }
            },
            "type": "table"
           }
          ]
         },
         "layout": {
          "annotationdefaults": {
           "arrowcolor": "#2a3f5f",
           "arrowhead": 0,
           "arrowwidth": 1
          },
          "autotypenumbers": "strict",
          "coloraxis": {
           "colorbar": {
            "outlinewidth": 0,
            "ticks": ""
           }
          },
          "colorscale": {
           "diverging": [
            [
             0,
             "#8e0152"
            ],
            [
             0.1,
             "#c51b7d"
            ],
            [
             0.2,
             "#de77ae"
            ],
            [
             0.3,
             "#f1b6da"
            ],
            [
             0.4,
             "#fde0ef"
            ],
            [
             0.5,
             "#f7f7f7"
            ],
            [
             0.6,
             "#e6f5d0"
            ],
            [
             0.7,
             "#b8e186"
            ],
            [
             0.8,
             "#7fbc41"
            ],
            [
             0.9,
             "#4d9221"
            ],
            [
             1,
             "#276419"
            ]
           ],
           "sequential": [
            [
             0,
             "#0d0887"
            ],
            [
             0.1111111111111111,
             "#46039f"
            ],
            [
             0.2222222222222222,
             "#7201a8"
            ],
            [
             0.3333333333333333,
             "#9c179e"
            ],
            [
             0.4444444444444444,
             "#bd3786"
            ],
            [
             0.5555555555555556,
             "#d8576b"
            ],
            [
             0.6666666666666666,
             "#ed7953"
            ],
            [
             0.7777777777777778,
             "#fb9f3a"
            ],
            [
             0.8888888888888888,
             "#fdca26"
            ],
            [
             1,
             "#f0f921"
            ]
           ],
           "sequentialminus": [
            [
             0,
             "#0d0887"
            ],
            [
             0.1111111111111111,
             "#46039f"
            ],
            [
             0.2222222222222222,
             "#7201a8"
            ],
            [
             0.3333333333333333,
             "#9c179e"
            ],
            [
             0.4444444444444444,
             "#bd3786"
            ],
            [
             0.5555555555555556,
             "#d8576b"
            ],
            [
             0.6666666666666666,
             "#ed7953"
            ],
            [
             0.7777777777777778,
             "#fb9f3a"
            ],
            [
             0.8888888888888888,
             "#fdca26"
            ],
            [
             1,
             "#f0f921"
            ]
           ]
          },
          "colorway": [
           "#636efa",
           "#EF553B",
           "#00cc96",
           "#ab63fa",
           "#FFA15A",
           "#19d3f3",
           "#FF6692",
           "#B6E880",
           "#FF97FF",
           "#FECB52"
          ],
          "font": {
           "color": "#2a3f5f"
          },
          "geo": {
           "bgcolor": "white",
           "lakecolor": "white",
           "landcolor": "#E5ECF6",
           "showlakes": true,
           "showland": true,
           "subunitcolor": "white"
          },
          "hoverlabel": {
           "align": "left"
          },
          "hovermode": "closest",
          "mapbox": {
           "style": "light"
          },
          "paper_bgcolor": "white",
          "plot_bgcolor": "#E5ECF6",
          "polar": {
           "angularaxis": {
            "gridcolor": "white",
            "linecolor": "white",
            "ticks": ""
           },
           "bgcolor": "#E5ECF6",
           "radialaxis": {
            "gridcolor": "white",
            "linecolor": "white",
            "ticks": ""
           }
          },
          "scene": {
           "xaxis": {
            "backgroundcolor": "#E5ECF6",
            "gridcolor": "white",
            "gridwidth": 2,
            "linecolor": "white",
            "showbackground": true,
            "ticks": "",
            "zerolinecolor": "white"
           },
           "yaxis": {
            "backgroundcolor": "#E5ECF6",
            "gridcolor": "white",
            "gridwidth": 2,
            "linecolor": "white",
            "showbackground": true,
            "ticks": "",
            "zerolinecolor": "white"
           },
           "zaxis": {
            "backgroundcolor": "#E5ECF6",
            "gridcolor": "white",
            "gridwidth": 2,
            "linecolor": "white",
            "showbackground": true,
            "ticks": "",
            "zerolinecolor": "white"
           }
          },
          "shapedefaults": {
           "line": {
            "color": "#2a3f5f"
           }
          },
          "ternary": {
           "aaxis": {
            "gridcolor": "white",
            "linecolor": "white",
            "ticks": ""
           },
           "baxis": {
            "gridcolor": "white",
            "linecolor": "white",
            "ticks": ""
           },
           "bgcolor": "#E5ECF6",
           "caxis": {
            "gridcolor": "white",
            "linecolor": "white",
            "ticks": ""
           }
          },
          "title": {
           "x": 0.05
          },
          "xaxis": {
           "automargin": true,
           "gridcolor": "white",
           "linecolor": "white",
           "ticks": "",
           "title": {
            "standoff": 15
           },
           "zerolinecolor": "white",
           "zerolinewidth": 2
          },
          "yaxis": {
           "automargin": true,
           "gridcolor": "white",
           "linecolor": "white",
           "ticks": "",
           "title": {
            "standoff": 15
           },
           "zerolinecolor": "white",
           "zerolinewidth": 2
          }
         }
        },
        "xaxis": {
         "anchor": "y",
         "domain": [
          0,
          1
         ],
         "title": {
          "text": "Product_ID"
         }
        },
        "yaxis": {
         "anchor": "x",
         "domain": [
          0,
          1
         ],
         "title": {
          "text": "Price"
         }
        }
       }
      }
     },
     "metadata": {}
    }
   ],
   "source": [
    "px.bar(spark.sql(\"SELECT DISTINCT(Product_ID), Price from Product_Data ORDER BY Price Desc LIMIT 10\").toPandas(), x=\"Product_ID\", y=\"Price\")"
   ]
  },
  {
   "source": [
    "##### Category Class - Price"
   ],
   "cell_type": "markdown",
   "metadata": {}
  },
  {
   "cell_type": "code",
   "execution_count": 38,
   "metadata": {},
   "outputs": [
    {
     "output_type": "stream",
     "name": "stdout",
     "text": [
      "+--------------+------------------+-------+------------------+------+\n|Category_class|Count_Unique_Price|    MAX|              MEAN|   MIN|\n+--------------+------------------+-------+------------------+------+\n|     computers|                21|2496.59| 760.9530434782608| 51.46|\n|   electronics|                46|2239.44|  446.769298245614|  22.8|\n|    appliances|                12| 712.87|341.70214285714286| 32.66|\n|     furniture|                10| 591.78|241.24142857142854| 31.64|\n|          auto|                 5| 229.09|192.08428571428573|113.93|\n|       unknown|                77|1335.43|147.39471264367822|  1.09|\n|  construction|                 8| 254.78|110.10125000000002| 24.71|\n|       apparel|                 6| 102.71| 52.25166666666666|  8.73|\n|   accessories|                 1|  48.43|             48.43| 48.43|\n+--------------+------------------+-------+------------------+------+\n\n"
     ]
    }
   ],
   "source": [
    "spark.sql(\"SELECT Category_class, COUNT(DISTINCT(price)) AS Count_Unique_Price, MAX(price) AS MAX, MEAN(price) AS MEAN, MIN(price) AS MIN from Product_Data GROUP BY Category_class ORDER BY MEAN DESC\").show()"
   ]
  },
  {
   "cell_type": "code",
   "execution_count": 39,
   "metadata": {},
   "outputs": [
    {
     "output_type": "error",
     "ename": "NameError",
     "evalue": "name 'ggplot' is not defined",
     "traceback": [
      "\u001b[1;31m---------------------------------------------------------------------------\u001b[0m",
      "\u001b[1;31mNameError\u001b[0m                                 Traceback (most recent call last)",
      "\u001b[1;32m<ipython-input-39-1feb5b804103>\u001b[0m in \u001b[0;36m<module>\u001b[1;34m\u001b[0m\n\u001b[0;32m      1\u001b[0m (\n\u001b[1;32m----> 2\u001b[1;33m    \u001b[0mggplot\u001b[0m\u001b[1;33m(\u001b[0m\u001b[0mpdf\u001b[0m\u001b[1;33m)\u001b[0m\u001b[1;33m\u001b[0m\u001b[1;33m\u001b[0m\u001b[0m\n\u001b[0m\u001b[0;32m      3\u001b[0m     \u001b[1;33m+\u001b[0m \u001b[0maes\u001b[0m\u001b[1;33m(\u001b[0m\u001b[0mx\u001b[0m\u001b[1;33m=\u001b[0m\u001b[1;34m\"category_class\"\u001b[0m\u001b[1;33m,\u001b[0m \u001b[0my\u001b[0m\u001b[1;33m=\u001b[0m\u001b[1;34m\"price\"\u001b[0m\u001b[1;33m)\u001b[0m\u001b[1;33m\u001b[0m\u001b[1;33m\u001b[0m\u001b[0m\n\u001b[0;32m      4\u001b[0m     \u001b[1;33m+\u001b[0m \u001b[0mgeom_boxplot\u001b[0m\u001b[1;33m(\u001b[0m\u001b[1;33m)\u001b[0m\u001b[1;33m\u001b[0m\u001b[1;33m\u001b[0m\u001b[0m\n\u001b[0;32m      5\u001b[0m     \u001b[1;33m+\u001b[0m \u001b[0mtheme\u001b[0m\u001b[1;33m(\u001b[0m\u001b[0maxis_text_x\u001b[0m \u001b[1;33m=\u001b[0m \u001b[0melement_text\u001b[0m\u001b[1;33m(\u001b[0m\u001b[0mangle\u001b[0m\u001b[1;33m=\u001b[0m\u001b[1;36m90\u001b[0m\u001b[1;33m,\u001b[0m \u001b[0mhjust\u001b[0m\u001b[1;33m=\u001b[0m\u001b[1;36m1\u001b[0m\u001b[1;33m)\u001b[0m\u001b[1;33m)\u001b[0m\u001b[1;33m\u001b[0m\u001b[1;33m\u001b[0m\u001b[0m\n",
      "\u001b[1;31mNameError\u001b[0m: name 'ggplot' is not defined"
     ]
    }
   ],
   "source": [
    "(\n",
    "   ggplot(pdf)  \n",
    "    + aes(x=\"category_class\", y=\"price\") \n",
    "    + geom_boxplot()\n",
    "    + theme(axis_text_x = element_text(angle=90, hjust=1))\n",
    ")"
   ]
  },
  {
   "cell_type": "code",
   "execution_count": 105,
   "metadata": {},
   "outputs": [
    {
     "output_type": "display_data",
     "data": {
      "application/vnd.plotly.v1+json": {
       "config": {
        "plotlyServerURL": "https://plot.ly"
       },
       "data": [
        {
         "alignmentgroup": "True",
         "hovertemplate": "category_class=%{x}<br>price=%{y}<extra></extra>",
         "legendgroup": "",
         "marker": {
          "color": "#636efa"
         },
         "name": "",
         "notched": false,
         "offsetgroup": "",
         "orientation": "v",
         "showlegend": false,
         "type": "box",
         "x": [
          "electronics",
          "appliances",
          "unknown",
          "appliances",
          "electronics",
          "computers",
          "computers",
          "unknown",
          "unknown",
          "electronics",
          "furniture",
          "appliances",
          "furniture",
          "unknown",
          "appliances",
          "unknown",
          "unknown",
          "unknown",
          "electronics",
          "computers",
          "unknown",
          "electronics",
          "unknown",
          "furniture",
          "unknown",
          "unknown",
          "unknown",
          "electronics",
          "computers",
          "computers",
          "unknown",
          "furniture",
          "unknown",
          "unknown",
          "unknown",
          "unknown",
          "unknown",
          "electronics",
          "appliances",
          "electronics",
          "electronics",
          "unknown",
          "unknown",
          "appliances",
          "appliances",
          "unknown",
          "unknown",
          "electronics",
          "unknown",
          "electronics",
          "electronics",
          "electronics",
          "apparel",
          "apparel",
          "electronics",
          "furniture",
          "unknown",
          "unknown",
          "unknown",
          "unknown",
          "unknown",
          "unknown",
          "computers",
          "unknown",
          "unknown",
          "electronics",
          "unknown",
          "unknown",
          "construction",
          "electronics",
          "unknown",
          "auto",
          "unknown",
          "unknown",
          "furniture",
          "computers",
          "unknown",
          "computers",
          "unknown",
          "electronics",
          "unknown",
          "unknown",
          "electronics",
          "unknown",
          "electronics",
          "computers",
          "auto",
          "computers",
          "electronics",
          "unknown",
          "accessories",
          "appliances",
          "apparel",
          "electronics",
          "unknown",
          "electronics",
          "electronics",
          "electronics",
          "appliances",
          "unknown",
          "computers",
          "electronics",
          "unknown",
          "computers",
          "unknown",
          "electronics",
          "computers",
          "furniture",
          "unknown",
          "electronics",
          "electronics",
          "unknown",
          "unknown",
          "unknown",
          "appliances",
          "unknown",
          "unknown",
          "apparel",
          "auto",
          "construction",
          "computers",
          "electronics",
          "furniture",
          "unknown",
          "unknown",
          "furniture",
          "unknown",
          "electronics",
          "electronics",
          "electronics",
          "unknown",
          "electronics",
          "unknown",
          "computers",
          "electronics",
          "unknown",
          "unknown",
          "computers",
          "unknown",
          "unknown",
          "unknown",
          "computers",
          "unknown",
          "auto",
          "electronics",
          "construction",
          "electronics",
          "unknown",
          "electronics",
          "unknown",
          "unknown",
          "unknown",
          "appliances",
          "electronics",
          "computers",
          "unknown",
          "electronics",
          "appliances",
          "electronics",
          "electronics",
          "appliances",
          "unknown",
          "computers",
          "auto",
          "construction",
          "electronics",
          "unknown",
          "unknown",
          "electronics",
          "electronics",
          "furniture",
          "unknown",
          "computers",
          "appliances",
          "electronics",
          "unknown",
          "auto",
          "furniture",
          "unknown",
          "unknown",
          "furniture",
          "electronics",
          "furniture",
          "unknown",
          "apparel",
          "unknown",
          "electronics",
          "construction",
          "electronics",
          "construction",
          "construction",
          "unknown",
          "computers",
          "unknown",
          "electronics",
          "unknown",
          "furniture",
          "apparel",
          "construction",
          "electronics",
          "unknown",
          "auto",
          "electronics",
          "computers",
          "unknown",
          "electronics",
          "electronics",
          "electronics",
          "electronics",
          "computers",
          "electronics",
          "unknown",
          "unknown",
          "unknown",
          "unknown",
          "unknown",
          "electronics"
         ],
         "x0": " ",
         "xaxis": "x",
         "y": [
          489.07,
          293.65,
          28.31,
          712.87,
          183.27,
          360.09,
          514.56,
          30.86,
          72.72,
          732.07,
          437.33,
          155.11,
          31.64,
          20.54,
          411.83,
          1.09,
          8.55,
          22.68,
          164.84,
          411.59,
          88.81,
          151.99,
          7.07,
          591.78,
          55.33,
          11.79,
          7.59,
          949.47,
          514.79,
          360.34,
          38.07,
          47.77,
          23.4,
          23.14,
          61.1,
          127.42,
          54.06,
          69.24,
          108.09,
          458.28,
          503.09,
          119.69,
          437.29,
          32.66,
          684.44,
          511.13,
          15.62,
          386.08,
          248.66,
          211.92,
          895.78,
          289.33,
          8.73,
          40.16,
          928.18,
          47.77,
          66.9,
          8.55,
          134.37,
          51.48,
          83.91,
          28.19,
          385.85,
          733.61,
          105.54,
          128.42,
          50.19,
          43.73,
          98.51,
          84.65,
          5.77,
          157.28,
          252.77,
          20.77,
          34.75,
          287.83,
          91.12,
          151.14,
          61.75,
          1091.33,
          46.16,
          72.72,
          22.8,
          171.17,
          257.38,
          51.46,
          221.37,
          849.42,
          242.63,
          40.93,
          48.43,
          499.94,
          50.45,
          51.22,
          900.92,
          463.15,
          928.38,
          861.28,
          166.23,
          64.33,
          170.63,
          1013.86,
          28.19,
          411.59,
          280.05,
          1173.6,
          390.98,
          566.3,
          50.43,
          1091.33,
          946.73,
          58.17,
          61.75,
          17.49,
          314.08,
          47.62,
          47.32,
          46.08,
          180.18,
          226.83,
          514.79,
          489.07,
          70.27,
          511.13,
          751.63,
          136.4,
          182.76,
          172.22,
          172.23,
          41.19,
          257.15,
          398.72,
          378.36,
          2342.15,
          861.28,
          28.19,
          114.03,
          406.68,
          25.48,
          49.68,
          76.45,
          1209.55,
          72.72,
          113.93,
          928.38,
          254.78,
          334.37,
          244.28,
          242.63,
          70.53,
          118.41,
          7.34,
          293.65,
          22.8,
          203.84,
          77.22,
          125.61,
          684.44,
          128.42,
          1013.86,
          298.16,
          84.69,
          2312.8,
          229.09,
          48.35,
          167.02,
          40.93,
          177.1,
          211.92,
          2239.44,
          36.78,
          900.92,
          2496.59,
          128.68,
          195.37,
          10.17,
          221.37,
          207.21,
          277.23,
          32.18,
          36.78,
          58.69,
          566.3,
          69.5,
          65.38,
          30.43,
          218.51,
          150.95,
          127.33,
          46.82,
          29.86,
          65.64,
          411.34,
          72.59,
          165.26,
          97.34,
          566.3,
          102.71,
          24.71,
          293.44,
          397.54,
          221.37,
          183.27,
          432.42,
          1335.43,
          380.96,
          552.14,
          38.61,
          67.84,
          2311.49,
          133.83,
          224.46,
          72.07,
          20.57,
          51.22,
          257.15,
          732.07
         ],
         "y0": " ",
         "yaxis": "y"
        }
       ],
       "layout": {
        "boxmode": "group",
        "legend": {
         "tracegroupgap": 0
        },
        "margin": {
         "t": 60
        },
        "template": {
         "data": {
          "bar": [
           {
            "error_x": {
             "color": "#2a3f5f"
            },
            "error_y": {
             "color": "#2a3f5f"
            },
            "marker": {
             "line": {
              "color": "#E5ECF6",
              "width": 0.5
             }
            },
            "type": "bar"
           }
          ],
          "barpolar": [
           {
            "marker": {
             "line": {
              "color": "#E5ECF6",
              "width": 0.5
             }
            },
            "type": "barpolar"
           }
          ],
          "carpet": [
           {
            "aaxis": {
             "endlinecolor": "#2a3f5f",
             "gridcolor": "white",
             "linecolor": "white",
             "minorgridcolor": "white",
             "startlinecolor": "#2a3f5f"
            },
            "baxis": {
             "endlinecolor": "#2a3f5f",
             "gridcolor": "white",
             "linecolor": "white",
             "minorgridcolor": "white",
             "startlinecolor": "#2a3f5f"
            },
            "type": "carpet"
           }
          ],
          "choropleth": [
           {
            "colorbar": {
             "outlinewidth": 0,
             "ticks": ""
            },
            "type": "choropleth"
           }
          ],
          "contour": [
           {
            "colorbar": {
             "outlinewidth": 0,
             "ticks": ""
            },
            "colorscale": [
             [
              0,
              "#0d0887"
             ],
             [
              0.1111111111111111,
              "#46039f"
             ],
             [
              0.2222222222222222,
              "#7201a8"
             ],
             [
              0.3333333333333333,
              "#9c179e"
             ],
             [
              0.4444444444444444,
              "#bd3786"
             ],
             [
              0.5555555555555556,
              "#d8576b"
             ],
             [
              0.6666666666666666,
              "#ed7953"
             ],
             [
              0.7777777777777778,
              "#fb9f3a"
             ],
             [
              0.8888888888888888,
              "#fdca26"
             ],
             [
              1,
              "#f0f921"
             ]
            ],
            "type": "contour"
           }
          ],
          "contourcarpet": [
           {
            "colorbar": {
             "outlinewidth": 0,
             "ticks": ""
            },
            "type": "contourcarpet"
           }
          ],
          "heatmap": [
           {
            "colorbar": {
             "outlinewidth": 0,
             "ticks": ""
            },
            "colorscale": [
             [
              0,
              "#0d0887"
             ],
             [
              0.1111111111111111,
              "#46039f"
             ],
             [
              0.2222222222222222,
              "#7201a8"
             ],
             [
              0.3333333333333333,
              "#9c179e"
             ],
             [
              0.4444444444444444,
              "#bd3786"
             ],
             [
              0.5555555555555556,
              "#d8576b"
             ],
             [
              0.6666666666666666,
              "#ed7953"
             ],
             [
              0.7777777777777778,
              "#fb9f3a"
             ],
             [
              0.8888888888888888,
              "#fdca26"
             ],
             [
              1,
              "#f0f921"
             ]
            ],
            "type": "heatmap"
           }
          ],
          "heatmapgl": [
           {
            "colorbar": {
             "outlinewidth": 0,
             "ticks": ""
            },
            "colorscale": [
             [
              0,
              "#0d0887"
             ],
             [
              0.1111111111111111,
              "#46039f"
             ],
             [
              0.2222222222222222,
              "#7201a8"
             ],
             [
              0.3333333333333333,
              "#9c179e"
             ],
             [
              0.4444444444444444,
              "#bd3786"
             ],
             [
              0.5555555555555556,
              "#d8576b"
             ],
             [
              0.6666666666666666,
              "#ed7953"
             ],
             [
              0.7777777777777778,
              "#fb9f3a"
             ],
             [
              0.8888888888888888,
              "#fdca26"
             ],
             [
              1,
              "#f0f921"
             ]
            ],
            "type": "heatmapgl"
           }
          ],
          "histogram": [
           {
            "marker": {
             "colorbar": {
              "outlinewidth": 0,
              "ticks": ""
             }
            },
            "type": "histogram"
           }
          ],
          "histogram2d": [
           {
            "colorbar": {
             "outlinewidth": 0,
             "ticks": ""
            },
            "colorscale": [
             [
              0,
              "#0d0887"
             ],
             [
              0.1111111111111111,
              "#46039f"
             ],
             [
              0.2222222222222222,
              "#7201a8"
             ],
             [
              0.3333333333333333,
              "#9c179e"
             ],
             [
              0.4444444444444444,
              "#bd3786"
             ],
             [
              0.5555555555555556,
              "#d8576b"
             ],
             [
              0.6666666666666666,
              "#ed7953"
             ],
             [
              0.7777777777777778,
              "#fb9f3a"
             ],
             [
              0.8888888888888888,
              "#fdca26"
             ],
             [
              1,
              "#f0f921"
             ]
            ],
            "type": "histogram2d"
           }
          ],
          "histogram2dcontour": [
           {
            "colorbar": {
             "outlinewidth": 0,
             "ticks": ""
            },
            "colorscale": [
             [
              0,
              "#0d0887"
             ],
             [
              0.1111111111111111,
              "#46039f"
             ],
             [
              0.2222222222222222,
              "#7201a8"
             ],
             [
              0.3333333333333333,
              "#9c179e"
             ],
             [
              0.4444444444444444,
              "#bd3786"
             ],
             [
              0.5555555555555556,
              "#d8576b"
             ],
             [
              0.6666666666666666,
              "#ed7953"
             ],
             [
              0.7777777777777778,
              "#fb9f3a"
             ],
             [
              0.8888888888888888,
              "#fdca26"
             ],
             [
              1,
              "#f0f921"
             ]
            ],
            "type": "histogram2dcontour"
           }
          ],
          "mesh3d": [
           {
            "colorbar": {
             "outlinewidth": 0,
             "ticks": ""
            },
            "type": "mesh3d"
           }
          ],
          "parcoords": [
           {
            "line": {
             "colorbar": {
              "outlinewidth": 0,
              "ticks": ""
             }
            },
            "type": "parcoords"
           }
          ],
          "pie": [
           {
            "automargin": true,
            "type": "pie"
           }
          ],
          "scatter": [
           {
            "marker": {
             "colorbar": {
              "outlinewidth": 0,
              "ticks": ""
             }
            },
            "type": "scatter"
           }
          ],
          "scatter3d": [
           {
            "line": {
             "colorbar": {
              "outlinewidth": 0,
              "ticks": ""
             }
            },
            "marker": {
             "colorbar": {
              "outlinewidth": 0,
              "ticks": ""
             }
            },
            "type": "scatter3d"
           }
          ],
          "scattercarpet": [
           {
            "marker": {
             "colorbar": {
              "outlinewidth": 0,
              "ticks": ""
             }
            },
            "type": "scattercarpet"
           }
          ],
          "scattergeo": [
           {
            "marker": {
             "colorbar": {
              "outlinewidth": 0,
              "ticks": ""
             }
            },
            "type": "scattergeo"
           }
          ],
          "scattergl": [
           {
            "marker": {
             "colorbar": {
              "outlinewidth": 0,
              "ticks": ""
             }
            },
            "type": "scattergl"
           }
          ],
          "scattermapbox": [
           {
            "marker": {
             "colorbar": {
              "outlinewidth": 0,
              "ticks": ""
             }
            },
            "type": "scattermapbox"
           }
          ],
          "scatterpolar": [
           {
            "marker": {
             "colorbar": {
              "outlinewidth": 0,
              "ticks": ""
             }
            },
            "type": "scatterpolar"
           }
          ],
          "scatterpolargl": [
           {
            "marker": {
             "colorbar": {
              "outlinewidth": 0,
              "ticks": ""
             }
            },
            "type": "scatterpolargl"
           }
          ],
          "scatterternary": [
           {
            "marker": {
             "colorbar": {
              "outlinewidth": 0,
              "ticks": ""
             }
            },
            "type": "scatterternary"
           }
          ],
          "surface": [
           {
            "colorbar": {
             "outlinewidth": 0,
             "ticks": ""
            },
            "colorscale": [
             [
              0,
              "#0d0887"
             ],
             [
              0.1111111111111111,
              "#46039f"
             ],
             [
              0.2222222222222222,
              "#7201a8"
             ],
             [
              0.3333333333333333,
              "#9c179e"
             ],
             [
              0.4444444444444444,
              "#bd3786"
             ],
             [
              0.5555555555555556,
              "#d8576b"
             ],
             [
              0.6666666666666666,
              "#ed7953"
             ],
             [
              0.7777777777777778,
              "#fb9f3a"
             ],
             [
              0.8888888888888888,
              "#fdca26"
             ],
             [
              1,
              "#f0f921"
             ]
            ],
            "type": "surface"
           }
          ],
          "table": [
           {
            "cells": {
             "fill": {
              "color": "#EBF0F8"
             },
             "line": {
              "color": "white"
             }
            },
            "header": {
             "fill": {
              "color": "#C8D4E3"
             },
             "line": {
              "color": "white"
             }
            },
            "type": "table"
           }
          ]
         },
         "layout": {
          "annotationdefaults": {
           "arrowcolor": "#2a3f5f",
           "arrowhead": 0,
           "arrowwidth": 1
          },
          "autotypenumbers": "strict",
          "coloraxis": {
           "colorbar": {
            "outlinewidth": 0,
            "ticks": ""
           }
          },
          "colorscale": {
           "diverging": [
            [
             0,
             "#8e0152"
            ],
            [
             0.1,
             "#c51b7d"
            ],
            [
             0.2,
             "#de77ae"
            ],
            [
             0.3,
             "#f1b6da"
            ],
            [
             0.4,
             "#fde0ef"
            ],
            [
             0.5,
             "#f7f7f7"
            ],
            [
             0.6,
             "#e6f5d0"
            ],
            [
             0.7,
             "#b8e186"
            ],
            [
             0.8,
             "#7fbc41"
            ],
            [
             0.9,
             "#4d9221"
            ],
            [
             1,
             "#276419"
            ]
           ],
           "sequential": [
            [
             0,
             "#0d0887"
            ],
            [
             0.1111111111111111,
             "#46039f"
            ],
            [
             0.2222222222222222,
             "#7201a8"
            ],
            [
             0.3333333333333333,
             "#9c179e"
            ],
            [
             0.4444444444444444,
             "#bd3786"
            ],
            [
             0.5555555555555556,
             "#d8576b"
            ],
            [
             0.6666666666666666,
             "#ed7953"
            ],
            [
             0.7777777777777778,
             "#fb9f3a"
            ],
            [
             0.8888888888888888,
             "#fdca26"
            ],
            [
             1,
             "#f0f921"
            ]
           ],
           "sequentialminus": [
            [
             0,
             "#0d0887"
            ],
            [
             0.1111111111111111,
             "#46039f"
            ],
            [
             0.2222222222222222,
             "#7201a8"
            ],
            [
             0.3333333333333333,
             "#9c179e"
            ],
            [
             0.4444444444444444,
             "#bd3786"
            ],
            [
             0.5555555555555556,
             "#d8576b"
            ],
            [
             0.6666666666666666,
             "#ed7953"
            ],
            [
             0.7777777777777778,
             "#fb9f3a"
            ],
            [
             0.8888888888888888,
             "#fdca26"
            ],
            [
             1,
             "#f0f921"
            ]
           ]
          },
          "colorway": [
           "#636efa",
           "#EF553B",
           "#00cc96",
           "#ab63fa",
           "#FFA15A",
           "#19d3f3",
           "#FF6692",
           "#B6E880",
           "#FF97FF",
           "#FECB52"
          ],
          "font": {
           "color": "#2a3f5f"
          },
          "geo": {
           "bgcolor": "white",
           "lakecolor": "white",
           "landcolor": "#E5ECF6",
           "showlakes": true,
           "showland": true,
           "subunitcolor": "white"
          },
          "hoverlabel": {
           "align": "left"
          },
          "hovermode": "closest",
          "mapbox": {
           "style": "light"
          },
          "paper_bgcolor": "white",
          "plot_bgcolor": "#E5ECF6",
          "polar": {
           "angularaxis": {
            "gridcolor": "white",
            "linecolor": "white",
            "ticks": ""
           },
           "bgcolor": "#E5ECF6",
           "radialaxis": {
            "gridcolor": "white",
            "linecolor": "white",
            "ticks": ""
           }
          },
          "scene": {
           "xaxis": {
            "backgroundcolor": "#E5ECF6",
            "gridcolor": "white",
            "gridwidth": 2,
            "linecolor": "white",
            "showbackground": true,
            "ticks": "",
            "zerolinecolor": "white"
           },
           "yaxis": {
            "backgroundcolor": "#E5ECF6",
            "gridcolor": "white",
            "gridwidth": 2,
            "linecolor": "white",
            "showbackground": true,
            "ticks": "",
            "zerolinecolor": "white"
           },
           "zaxis": {
            "backgroundcolor": "#E5ECF6",
            "gridcolor": "white",
            "gridwidth": 2,
            "linecolor": "white",
            "showbackground": true,
            "ticks": "",
            "zerolinecolor": "white"
           }
          },
          "shapedefaults": {
           "line": {
            "color": "#2a3f5f"
           }
          },
          "ternary": {
           "aaxis": {
            "gridcolor": "white",
            "linecolor": "white",
            "ticks": ""
           },
           "baxis": {
            "gridcolor": "white",
            "linecolor": "white",
            "ticks": ""
           },
           "bgcolor": "#E5ECF6",
           "caxis": {
            "gridcolor": "white",
            "linecolor": "white",
            "ticks": ""
           }
          },
          "title": {
           "x": 0.05
          },
          "xaxis": {
           "automargin": true,
           "gridcolor": "white",
           "linecolor": "white",
           "ticks": "",
           "title": {
            "standoff": 15
           },
           "zerolinecolor": "white",
           "zerolinewidth": 2
          },
          "yaxis": {
           "automargin": true,
           "gridcolor": "white",
           "linecolor": "white",
           "ticks": "",
           "title": {
            "standoff": 15
           },
           "zerolinecolor": "white",
           "zerolinewidth": 2
          }
         }
        },
        "xaxis": {
         "anchor": "y",
         "domain": [
          0,
          1
         ],
         "title": {
          "text": "category_class"
         }
        },
        "yaxis": {
         "anchor": "x",
         "domain": [
          0,
          1
         ],
         "title": {
          "text": "price"
         }
        }
       }
      }
     },
     "metadata": {}
    }
   ],
   "source": [
    "px.box(pdf, x=\"category_class\", y=\"price\")"
   ]
  },
  {
   "source": [
    "##### Cateogory Code - Price"
   ],
   "cell_type": "markdown",
   "metadata": {}
  },
  {
   "cell_type": "code",
   "execution_count": 83,
   "metadata": {},
   "outputs": [
    {
     "output_type": "stream",
     "name": "stdout",
     "text": [
      "+--------------------+------------------+-------+------------------+------+\n|       Category_code|Count_Unique_Price|    MAX|              MEAN|   MIN|\n+--------------------+------------------+-------+------------------+------+\n|  computers.notebook|                16|2496.59| 924.2788888888889|360.09|\n|  electronics.clocks|                 7|2239.44|          781.1975|165.26|\n|appliances.kitche...|                 1| 712.87|            712.87|712.87|\n|appliances.kitche...|                 3| 684.44|          519.7175|298.16|\n|furniture.living_...|                 2| 591.78|           514.555|437.33|\n|electronics.smart...|                29| 1173.6| 474.5957894736842| 84.65|\n|furniture.bedroom...|                 2|  566.3|           458.825| 136.4|\n|electronics.camer...|                 1| 386.08|            386.08|386.08|\n|appliances.sewing...|                 1| 293.65|            293.65|293.65|\n|electronics.video.tv|                 1| 289.33|            289.33|289.33|\n|computers.compone...|                 1| 287.83|            287.83|287.83|\n|construction.tool...|                 1| 254.78|            254.78|254.78|\n|appliances.kitche...|                 5| 499.94|           252.808|128.68|\n|auto.accessories....|                 3| 229.09|214.67600000000002|180.18|\n|furniture.kitchen...|                 1| 207.21|            207.21|207.21|\n|computers.periphe...|                 2| 203.84|            177.49|151.14|\n|computers.compone...|                 1| 170.63|            170.63|170.63|\n|                null|                77|1335.43| 147.3947126436782|  1.09|\n|auto.accessories....|                 2| 157.28|135.60500000000002|113.93|\n|construction.tool...|                 4| 226.83|          130.7775| 46.82|\n+--------------------+------------------+-------+------------------+------+\nonly showing top 20 rows\n\n"
     ]
    }
   ],
   "source": [
    "spark.sql(\"SELECT Category_code, COUNT(DISTINCT(price)) AS Count_Unique_Price, MAX(price) AS MAX, MEAN(price) AS MEAN, MIN(price) AS MIN from Product_Data GROUP BY Category_code ORDER BY MEAN DESC\").show()"
   ]
  },
  {
   "cell_type": "code",
   "execution_count": 79,
   "metadata": {},
   "outputs": [
    {
     "output_type": "error",
     "ename": "ValueError",
     "evalue": "Value of 'x' is not the name of a column in 'data_frame'. Expected one of ['event_time', 'event_type', 'product_id', 'category_id', 'category_code', 'brand', 'price', 'user_id', 'user_session', 'category_class'] but received: Category_code",
     "traceback": [
      "\u001b[1;31m---------------------------------------------------------------------------\u001b[0m",
      "\u001b[1;31mValueError\u001b[0m                                Traceback (most recent call last)",
      "\u001b[1;32m<ipython-input-79-cba700d4d77b>\u001b[0m in \u001b[0;36m<module>\u001b[1;34m\u001b[0m\n\u001b[1;32m----> 1\u001b[1;33m \u001b[0mpx\u001b[0m\u001b[1;33m.\u001b[0m\u001b[0mbox\u001b[0m\u001b[1;33m(\u001b[0m\u001b[0mpdf\u001b[0m\u001b[1;33m,\u001b[0m \u001b[0mx\u001b[0m\u001b[1;33m=\u001b[0m\u001b[1;34m\"Category_code\"\u001b[0m\u001b[1;33m,\u001b[0m \u001b[0my\u001b[0m\u001b[1;33m=\u001b[0m\u001b[1;34m\"Price\"\u001b[0m\u001b[1;33m)\u001b[0m\u001b[1;33m\u001b[0m\u001b[1;33m\u001b[0m\u001b[0m\n\u001b[0m",
      "\u001b[1;32mC:\\ProgramData\\Anaconda3\\lib\\site-packages\\plotly\\express\\_chart_types.py\u001b[0m in \u001b[0;36mbox\u001b[1;34m(data_frame, x, y, color, facet_row, facet_col, facet_col_wrap, facet_row_spacing, facet_col_spacing, hover_name, hover_data, custom_data, animation_frame, animation_group, category_orders, labels, color_discrete_sequence, color_discrete_map, orientation, boxmode, log_x, log_y, range_x, range_y, points, notched, title, template, width, height)\u001b[0m\n\u001b[0;32m    562\u001b[0m     \u001b[0mrange\u001b[0m \u001b[1;33m(\u001b[0m\u001b[0mIQR\u001b[0m\u001b[1;33m:\u001b[0m \u001b[0mQ3\u001b[0m\u001b[1;33m-\u001b[0m\u001b[0mQ1\u001b[0m\u001b[1;33m)\u001b[0m\u001b[1;33m,\u001b[0m \u001b[0msee\u001b[0m \u001b[1;34m\"points\"\u001b[0m \u001b[1;32mfor\u001b[0m \u001b[0mother\u001b[0m \u001b[0moptions\u001b[0m\u001b[1;33m.\u001b[0m\u001b[1;33m\u001b[0m\u001b[1;33m\u001b[0m\u001b[0m\n\u001b[0;32m    563\u001b[0m     \"\"\"\n\u001b[1;32m--> 564\u001b[1;33m     return make_figure(\n\u001b[0m\u001b[0;32m    565\u001b[0m         \u001b[0margs\u001b[0m\u001b[1;33m=\u001b[0m\u001b[0mlocals\u001b[0m\u001b[1;33m(\u001b[0m\u001b[1;33m)\u001b[0m\u001b[1;33m,\u001b[0m\u001b[1;33m\u001b[0m\u001b[1;33m\u001b[0m\u001b[0m\n\u001b[0;32m    566\u001b[0m         \u001b[0mconstructor\u001b[0m\u001b[1;33m=\u001b[0m\u001b[0mgo\u001b[0m\u001b[1;33m.\u001b[0m\u001b[0mBox\u001b[0m\u001b[1;33m,\u001b[0m\u001b[1;33m\u001b[0m\u001b[1;33m\u001b[0m\u001b[0m\n",
      "\u001b[1;32mC:\\ProgramData\\Anaconda3\\lib\\site-packages\\plotly\\express\\_core.py\u001b[0m in \u001b[0;36mmake_figure\u001b[1;34m(args, constructor, trace_patch, layout_patch)\u001b[0m\n\u001b[0;32m   1859\u001b[0m     \u001b[0mapply_default_cascade\u001b[0m\u001b[1;33m(\u001b[0m\u001b[0margs\u001b[0m\u001b[1;33m)\u001b[0m\u001b[1;33m\u001b[0m\u001b[1;33m\u001b[0m\u001b[0m\n\u001b[0;32m   1860\u001b[0m \u001b[1;33m\u001b[0m\u001b[0m\n\u001b[1;32m-> 1861\u001b[1;33m     \u001b[0margs\u001b[0m \u001b[1;33m=\u001b[0m \u001b[0mbuild_dataframe\u001b[0m\u001b[1;33m(\u001b[0m\u001b[0margs\u001b[0m\u001b[1;33m,\u001b[0m \u001b[0mconstructor\u001b[0m\u001b[1;33m)\u001b[0m\u001b[1;33m\u001b[0m\u001b[1;33m\u001b[0m\u001b[0m\n\u001b[0m\u001b[0;32m   1862\u001b[0m     \u001b[1;32mif\u001b[0m \u001b[0mconstructor\u001b[0m \u001b[1;32min\u001b[0m \u001b[1;33m[\u001b[0m\u001b[0mgo\u001b[0m\u001b[1;33m.\u001b[0m\u001b[0mTreemap\u001b[0m\u001b[1;33m,\u001b[0m \u001b[0mgo\u001b[0m\u001b[1;33m.\u001b[0m\u001b[0mSunburst\u001b[0m\u001b[1;33m]\u001b[0m \u001b[1;32mand\u001b[0m \u001b[0margs\u001b[0m\u001b[1;33m[\u001b[0m\u001b[1;34m\"path\"\u001b[0m\u001b[1;33m]\u001b[0m \u001b[1;32mis\u001b[0m \u001b[1;32mnot\u001b[0m \u001b[1;32mNone\u001b[0m\u001b[1;33m:\u001b[0m\u001b[1;33m\u001b[0m\u001b[1;33m\u001b[0m\u001b[0m\n\u001b[0;32m   1863\u001b[0m         \u001b[0margs\u001b[0m \u001b[1;33m=\u001b[0m \u001b[0mprocess_dataframe_hierarchy\u001b[0m\u001b[1;33m(\u001b[0m\u001b[0margs\u001b[0m\u001b[1;33m)\u001b[0m\u001b[1;33m\u001b[0m\u001b[1;33m\u001b[0m\u001b[0m\n",
      "\u001b[1;32mC:\\ProgramData\\Anaconda3\\lib\\site-packages\\plotly\\express\\_core.py\u001b[0m in \u001b[0;36mbuild_dataframe\u001b[1;34m(args, constructor)\u001b[0m\n\u001b[0;32m   1375\u001b[0m     \u001b[1;31m# now that things have been prepped, we do the systematic rewriting of `args`\u001b[0m\u001b[1;33m\u001b[0m\u001b[1;33m\u001b[0m\u001b[1;33m\u001b[0m\u001b[0m\n\u001b[0;32m   1376\u001b[0m \u001b[1;33m\u001b[0m\u001b[0m\n\u001b[1;32m-> 1377\u001b[1;33m     df_output, wide_id_vars = process_args_into_dataframe(\n\u001b[0m\u001b[0;32m   1378\u001b[0m         \u001b[0margs\u001b[0m\u001b[1;33m,\u001b[0m \u001b[0mwide_mode\u001b[0m\u001b[1;33m,\u001b[0m \u001b[0mvar_name\u001b[0m\u001b[1;33m,\u001b[0m \u001b[0mvalue_name\u001b[0m\u001b[1;33m\u001b[0m\u001b[1;33m\u001b[0m\u001b[0m\n\u001b[0;32m   1379\u001b[0m     )\n",
      "\u001b[1;32mC:\\ProgramData\\Anaconda3\\lib\\site-packages\\plotly\\express\\_core.py\u001b[0m in \u001b[0;36mprocess_args_into_dataframe\u001b[1;34m(args, wide_mode, var_name, value_name)\u001b[0m\n\u001b[0;32m   1181\u001b[0m                         \u001b[1;32mif\u001b[0m \u001b[0margument\u001b[0m \u001b[1;33m==\u001b[0m \u001b[1;34m\"index\"\u001b[0m\u001b[1;33m:\u001b[0m\u001b[1;33m\u001b[0m\u001b[1;33m\u001b[0m\u001b[0m\n\u001b[0;32m   1182\u001b[0m                             \u001b[0merr_msg\u001b[0m \u001b[1;33m+=\u001b[0m \u001b[1;34m\"\\n To use the index, pass it in directly as `df.index`.\"\u001b[0m\u001b[1;33m\u001b[0m\u001b[1;33m\u001b[0m\u001b[0m\n\u001b[1;32m-> 1183\u001b[1;33m                         \u001b[1;32mraise\u001b[0m \u001b[0mValueError\u001b[0m\u001b[1;33m(\u001b[0m\u001b[0merr_msg\u001b[0m\u001b[1;33m)\u001b[0m\u001b[1;33m\u001b[0m\u001b[1;33m\u001b[0m\u001b[0m\n\u001b[0m\u001b[0;32m   1184\u001b[0m                 \u001b[1;32melif\u001b[0m \u001b[0mlength\u001b[0m \u001b[1;32mand\u001b[0m \u001b[0mlen\u001b[0m\u001b[1;33m(\u001b[0m\u001b[0mdf_input\u001b[0m\u001b[1;33m[\u001b[0m\u001b[0margument\u001b[0m\u001b[1;33m]\u001b[0m\u001b[1;33m)\u001b[0m \u001b[1;33m!=\u001b[0m \u001b[0mlength\u001b[0m\u001b[1;33m:\u001b[0m\u001b[1;33m\u001b[0m\u001b[1;33m\u001b[0m\u001b[0m\n\u001b[0;32m   1185\u001b[0m                     raise ValueError(\n",
      "\u001b[1;31mValueError\u001b[0m: Value of 'x' is not the name of a column in 'data_frame'. Expected one of ['event_time', 'event_type', 'product_id', 'category_id', 'category_code', 'brand', 'price', 'user_id', 'user_session', 'category_class'] but received: Category_code"
     ]
    }
   ],
   "source": [
    "px.box(pdf, x=\"Category_code\", y=\"Price\")"
   ]
  },
  {
   "source": [
    "##### Category ID - Price"
   ],
   "cell_type": "markdown",
   "metadata": {}
  },
  {
   "cell_type": "code",
   "execution_count": 85,
   "metadata": {},
   "outputs": [
    {
     "output_type": "stream",
     "name": "stdout",
     "text": [
      "+-------------------+------------------+-------+-----------------+------+\n|        Category_id|Count_Unique_Price|    MAX|             MEAN|   MIN|\n+-------------------+------------------+-------+-----------------+------+\n|2053013553341792533|                 2|2239.44|          1395.79|552.14|\n|2053013558920217191|                16|2496.59|924.2788888888889|360.09|\n|2059484601444729123|                 1| 900.92|           900.92|900.92|\n|2055156924315337497|                 1| 733.61|           733.61|733.61|\n|2053013563810775923|                 1| 712.87|           712.87|712.87|\n|2053013557024391671|                 3|1335.43|           656.98|257.15|\n|2053013561579406073|                 5| 895.78|576.3333333333334|165.26|\n|2053013557192163841|                 1|  566.3|            566.3| 566.3|\n|2053013563944993659|                 3| 684.44|519.7175000000001|298.16|\n|2053013559792632471|                 2| 591.78|          514.555|437.33|\n|2053013561218695907|                 1| 511.13|           511.13|511.13|\n|2053013555631882655|                29| 1173.6|474.5957894736842| 84.65|\n|2137704922018218396|                 2| 751.63|          439.525|127.42|\n|2053013560530830019|                 1| 386.08|           386.08|386.08|\n|2053013560555995845|                 2| 437.29|           358.67|280.05|\n|2053013566100866035|                 1| 293.65|           293.65|293.65|\n|2053013554415534427|                 1| 289.33|           289.33|289.33|\n|2053013554155487563|                 1| 287.83|           287.83|287.83|\n|2053013563693335403|                 1| 277.23|           277.23|277.23|\n|2053013559733912211|                 1| 257.15|           257.15|257.15|\n+-------------------+------------------+-------+-----------------+------+\nonly showing top 20 rows\n\n"
     ]
    }
   ],
   "source": [
    "spark.sql(\"SELECT Category_id, COUNT(DISTINCT(price)) AS Count_Unique_Price, MAX(price) AS MAX, MEAN(price) AS MEAN, MIN(price) AS MIN from Product_Data GROUP BY Category_id ORDER BY MEAN DESC\").show()"
   ]
  },
  {
   "cell_type": "code",
   "execution_count": 40,
   "metadata": {},
   "outputs": [
    {
     "output_type": "display_data",
     "data": {
      "application/vnd.plotly.v1+json": {
       "config": {
        "plotlyServerURL": "https://plot.ly"
       },
       "data": [
        {
         "alignmentgroup": "True",
         "hovertemplate": "category_id=%{x}<br>price=%{y}<extra></extra>",
         "legendgroup": "",
         "marker": {
          "color": "#636efa"
         },
         "name": "",
         "notched": false,
         "offsetgroup": "",
         "orientation": "v",
         "showlegend": false,
         "type": "box",
         "x": [
          "2053013555631882655",
          "2053013566100866035",
          "2053013553853497655",
          "2053013563810775923",
          "2053013555631882655",
          "2053013558920217191",
          "2053013558920217191",
          "2053013558190408249",
          "2053013553559896355",
          "2053013555631882655",
          "2053013559792632471",
          "2053013563911439225",
          "2053013559901684381",
          "2060981320581906480",
          "2053013563944993659",
          "2053013562183385881",
          "2053013563391345499",
          "2053013553375346967",
          "2053013555631882655",
          "2053013558920217191",
          "2053013553559896355",
          "2053013555631882655",
          "2053013562837697343",
          "2053013559792632471",
          "2053013553853497655",
          "2053013562837697343",
          "2053013558752445019",
          "2053013555631882655",
          "2053013558920217191",
          "2053013558920217191",
          "2090228413959766319",
          "2053013559901684381",
          "2053013556110033341",
          "2053013556168753601",
          "2053013554994348409",
          "2137704922018218396",
          "2053013553484398879",
          "2053013554658804075",
          "2053013565983425517",
          "2053013555631882655",
          "2053013555631882655",
          "2079713978300236035",
          "2053013560555995845",
          "2053013552326770905",
          "2053013563944993659",
          "2053013561218695907",
          "2053013557955527211",
          "2053013560530830019",
          "2053013563651392361",
          "2053013555631882655",
          "2053013561579406073",
          "2053013554415534427",
          "2146660887346282824",
          "2100825583029060150",
          "2053013555631882655",
          "2053013559901684381",
          "2053013561277416167",
          "2053013563391345499",
          "2053013559675191951",
          "2053013553887052089",
          "2053013556168753601",
          "2053013563215184719",
          "2053013558920217191",
          "2055156924315337497",
          "2152167773222993940",
          "2053013555631882655",
          "2053013553559896355",
          "2053013558223962683",
          "2053013556311359947",
          "2053013555631882655",
          "2053013553115300101",
          "2134905044833666047",
          "2053013553559896355",
          "2053013556168753601",
          "2053013559901684381",
          "2053013554155487563",
          "2053013553526341921",
          "2053013553056579841",
          "2053013553853497655",
          "2053013555631882655",
          "2053013553484398879",
          "2053013553559896355",
          "2053013554658804075",
          "2053013553853497655",
          "2053013555631882655",
          "2053013559868129947",
          "2053013553970938175",
          "2053013558920217191",
          "2053013555631882655",
          "2085718636156158307",
          "2055156924407612189",
          "2053013563911439225",
          "2100825583029060150",
          "2053013554658804075",
          "2059484601444729123",
          "2053013555631882655",
          "2053013555631882655",
          "2053013561579406073",
          "2053013563911439225",
          "2053013554994348409",
          "2053013554247762257",
          "2053013555631882655",
          "2053013563215184719",
          "2053013558920217191",
          "2053013560555995845",
          "2053013555631882655",
          "2053013558920217191",
          "2053013557192163841",
          "2090228413959766319",
          "2053013555631882655",
          "2053013555631882655",
          "2053013553559896355",
          "2053013553853497655",
          "2053013557955527211",
          "2053013563911439225",
          "2053013553375346967",
          "2053013553853497655",
          "2100825583029060150",
          "2053013553970938175",
          "2053013556311359947",
          "2053013558920217191",
          "2053013555631882655",
          "2053013557477376525",
          "2053013561218695907",
          "2137704922018218396",
          "2053013555464110485",
          "2053013556168753601",
          "2053013555631882655",
          "2053013555631882655",
          "2053013553945772349",
          "2053013557024391671",
          "2053013555631882655",
          "2053013557024391671",
          "2053013558920217191",
          "2053013561579406073",
          "2053013563215184719",
          "2070747671722722162",
          "2053013558920217191",
          "2053013556168753601",
          "2053013563651392361",
          "2053013560144954031",
          "2053013558920217191",
          "2053013553559896355",
          "2134905044833666047",
          "2053013555631882655",
          "2127425436764865054",
          "2053013555631882655",
          "2053013556168753601",
          "2053013555631882655",
          "2053013553559896355",
          "2079713978300236035",
          "2053013558895051365",
          "2053013566100866035",
          "2053013554658804075",
          "2053013553056579841",
          "2053013553853497655",
          "2053013555631882655",
          "2053013563944993659",
          "2053013555631882655",
          "2053013555631882655",
          "2053013563944993659",
          "2090228413959766319",
          "2053013558920217191",
          "2053013553970938175",
          "2144916515806248980",
          "2053013555631882655",
          "2085718636156158307",
          "2053013553526341921",
          "2053013555631882655",
          "2053013553341792533",
          "2053013559901684381",
          "2059484601444729123",
          "2053013558920217191",
          "2053013563911439225",
          "2053013555631882655",
          "2053013563215184719",
          "2053013553970938175",
          "2053013558433677895",
          "2053013563693335403",
          "2053013553559896355",
          "2053013559901684381",
          "2053013553945772349",
          "2053013557192163841",
          "2053013553853497655",
          "2116907524572577889",
          "2053013553559896355",
          "2053013555631882655",
          "2053013556311359947",
          "2053013555631882655",
          "2053013556311359947",
          "2098563450757186313",
          "2062461754293617058",
          "2053013558920217191",
          "2053013553559896355",
          "2053013561579406073",
          "2053013563651392361",
          "2053013557192163841",
          "2173216765583032544",
          "2127425434894205468",
          "2053013561579406073",
          "2053013553853497655",
          "2053013553970938175",
          "2053013555631882655",
          "2053013558920217191",
          "2053013557024391671",
          "2053013561579406073",
          "2053013553341792533",
          "2053013553945772349",
          "2053013554658804075",
          "2053013558920217191",
          "2053013553945772349",
          "2053013563651392361",
          "2090228413959766319",
          "2060981320581906480",
          "2053013553559896355",
          "2053013559733912211",
          "2053013555631882655"
         ],
         "x0": " ",
         "xaxis": "x",
         "y": [
          489.07,
          293.65,
          28.31,
          712.87,
          183.27,
          360.09,
          514.56,
          30.86,
          72.72,
          732.07,
          437.33,
          155.11,
          31.64,
          20.54,
          411.83,
          1.09,
          8.55,
          22.68,
          164.84,
          411.59,
          88.81,
          151.99,
          7.07,
          591.78,
          55.33,
          11.79,
          7.59,
          949.47,
          514.79,
          360.34,
          38.07,
          47.77,
          23.4,
          23.14,
          61.1,
          127.42,
          54.06,
          69.24,
          108.09,
          458.28,
          503.09,
          119.69,
          437.29,
          32.66,
          684.44,
          511.13,
          15.62,
          386.08,
          248.66,
          211.92,
          895.78,
          289.33,
          8.73,
          40.16,
          928.18,
          47.77,
          66.9,
          8.55,
          134.37,
          51.48,
          83.91,
          28.19,
          385.85,
          733.61,
          105.54,
          128.42,
          50.19,
          43.73,
          98.51,
          84.65,
          5.77,
          157.28,
          252.77,
          20.77,
          34.75,
          287.83,
          91.12,
          151.14,
          61.75,
          1091.33,
          46.16,
          72.72,
          22.8,
          171.17,
          257.38,
          51.46,
          221.37,
          849.42,
          242.63,
          40.93,
          48.43,
          499.94,
          50.45,
          51.22,
          900.92,
          463.15,
          928.38,
          861.28,
          166.23,
          64.33,
          170.63,
          1013.86,
          28.19,
          411.59,
          280.05,
          1173.6,
          390.98,
          566.3,
          50.43,
          1091.33,
          946.73,
          58.17,
          61.75,
          17.49,
          314.08,
          47.62,
          47.32,
          46.08,
          180.18,
          226.83,
          514.79,
          489.07,
          70.27,
          511.13,
          751.63,
          136.4,
          182.76,
          172.22,
          172.23,
          41.19,
          257.15,
          398.72,
          378.36,
          2342.15,
          861.28,
          28.19,
          114.03,
          406.68,
          25.48,
          49.68,
          76.45,
          1209.55,
          72.72,
          113.93,
          928.38,
          254.78,
          334.37,
          244.28,
          242.63,
          70.53,
          118.41,
          7.34,
          293.65,
          22.8,
          203.84,
          77.22,
          125.61,
          684.44,
          128.42,
          1013.86,
          298.16,
          84.69,
          2312.8,
          229.09,
          48.35,
          167.02,
          40.93,
          177.1,
          211.92,
          2239.44,
          36.78,
          900.92,
          2496.59,
          128.68,
          195.37,
          10.17,
          221.37,
          207.21,
          277.23,
          32.18,
          36.78,
          58.69,
          566.3,
          69.5,
          65.38,
          30.43,
          218.51,
          150.95,
          127.33,
          46.82,
          29.86,
          65.64,
          411.34,
          72.59,
          165.26,
          97.34,
          566.3,
          102.71,
          24.71,
          293.44,
          397.54,
          221.37,
          183.27,
          432.42,
          1335.43,
          380.96,
          552.14,
          38.61,
          67.84,
          2311.49,
          133.83,
          224.46,
          72.07,
          20.57,
          51.22,
          257.15,
          732.07
         ],
         "y0": " ",
         "yaxis": "y"
        }
       ],
       "layout": {
        "boxmode": "group",
        "legend": {
         "tracegroupgap": 0
        },
        "margin": {
         "t": 60
        },
        "template": {
         "data": {
          "bar": [
           {
            "error_x": {
             "color": "#2a3f5f"
            },
            "error_y": {
             "color": "#2a3f5f"
            },
            "marker": {
             "line": {
              "color": "#E5ECF6",
              "width": 0.5
             }
            },
            "type": "bar"
           }
          ],
          "barpolar": [
           {
            "marker": {
             "line": {
              "color": "#E5ECF6",
              "width": 0.5
             }
            },
            "type": "barpolar"
           }
          ],
          "carpet": [
           {
            "aaxis": {
             "endlinecolor": "#2a3f5f",
             "gridcolor": "white",
             "linecolor": "white",
             "minorgridcolor": "white",
             "startlinecolor": "#2a3f5f"
            },
            "baxis": {
             "endlinecolor": "#2a3f5f",
             "gridcolor": "white",
             "linecolor": "white",
             "minorgridcolor": "white",
             "startlinecolor": "#2a3f5f"
            },
            "type": "carpet"
           }
          ],
          "choropleth": [
           {
            "colorbar": {
             "outlinewidth": 0,
             "ticks": ""
            },
            "type": "choropleth"
           }
          ],
          "contour": [
           {
            "colorbar": {
             "outlinewidth": 0,
             "ticks": ""
            },
            "colorscale": [
             [
              0,
              "#0d0887"
             ],
             [
              0.1111111111111111,
              "#46039f"
             ],
             [
              0.2222222222222222,
              "#7201a8"
             ],
             [
              0.3333333333333333,
              "#9c179e"
             ],
             [
              0.4444444444444444,
              "#bd3786"
             ],
             [
              0.5555555555555556,
              "#d8576b"
             ],
             [
              0.6666666666666666,
              "#ed7953"
             ],
             [
              0.7777777777777778,
              "#fb9f3a"
             ],
             [
              0.8888888888888888,
              "#fdca26"
             ],
             [
              1,
              "#f0f921"
             ]
            ],
            "type": "contour"
           }
          ],
          "contourcarpet": [
           {
            "colorbar": {
             "outlinewidth": 0,
             "ticks": ""
            },
            "type": "contourcarpet"
           }
          ],
          "heatmap": [
           {
            "colorbar": {
             "outlinewidth": 0,
             "ticks": ""
            },
            "colorscale": [
             [
              0,
              "#0d0887"
             ],
             [
              0.1111111111111111,
              "#46039f"
             ],
             [
              0.2222222222222222,
              "#7201a8"
             ],
             [
              0.3333333333333333,
              "#9c179e"
             ],
             [
              0.4444444444444444,
              "#bd3786"
             ],
             [
              0.5555555555555556,
              "#d8576b"
             ],
             [
              0.6666666666666666,
              "#ed7953"
             ],
             [
              0.7777777777777778,
              "#fb9f3a"
             ],
             [
              0.8888888888888888,
              "#fdca26"
             ],
             [
              1,
              "#f0f921"
             ]
            ],
            "type": "heatmap"
           }
          ],
          "heatmapgl": [
           {
            "colorbar": {
             "outlinewidth": 0,
             "ticks": ""
            },
            "colorscale": [
             [
              0,
              "#0d0887"
             ],
             [
              0.1111111111111111,
              "#46039f"
             ],
             [
              0.2222222222222222,
              "#7201a8"
             ],
             [
              0.3333333333333333,
              "#9c179e"
             ],
             [
              0.4444444444444444,
              "#bd3786"
             ],
             [
              0.5555555555555556,
              "#d8576b"
             ],
             [
              0.6666666666666666,
              "#ed7953"
             ],
             [
              0.7777777777777778,
              "#fb9f3a"
             ],
             [
              0.8888888888888888,
              "#fdca26"
             ],
             [
              1,
              "#f0f921"
             ]
            ],
            "type": "heatmapgl"
           }
          ],
          "histogram": [
           {
            "marker": {
             "colorbar": {
              "outlinewidth": 0,
              "ticks": ""
             }
            },
            "type": "histogram"
           }
          ],
          "histogram2d": [
           {
            "colorbar": {
             "outlinewidth": 0,
             "ticks": ""
            },
            "colorscale": [
             [
              0,
              "#0d0887"
             ],
             [
              0.1111111111111111,
              "#46039f"
             ],
             [
              0.2222222222222222,
              "#7201a8"
             ],
             [
              0.3333333333333333,
              "#9c179e"
             ],
             [
              0.4444444444444444,
              "#bd3786"
             ],
             [
              0.5555555555555556,
              "#d8576b"
             ],
             [
              0.6666666666666666,
              "#ed7953"
             ],
             [
              0.7777777777777778,
              "#fb9f3a"
             ],
             [
              0.8888888888888888,
              "#fdca26"
             ],
             [
              1,
              "#f0f921"
             ]
            ],
            "type": "histogram2d"
           }
          ],
          "histogram2dcontour": [
           {
            "colorbar": {
             "outlinewidth": 0,
             "ticks": ""
            },
            "colorscale": [
             [
              0,
              "#0d0887"
             ],
             [
              0.1111111111111111,
              "#46039f"
             ],
             [
              0.2222222222222222,
              "#7201a8"
             ],
             [
              0.3333333333333333,
              "#9c179e"
             ],
             [
              0.4444444444444444,
              "#bd3786"
             ],
             [
              0.5555555555555556,
              "#d8576b"
             ],
             [
              0.6666666666666666,
              "#ed7953"
             ],
             [
              0.7777777777777778,
              "#fb9f3a"
             ],
             [
              0.8888888888888888,
              "#fdca26"
             ],
             [
              1,
              "#f0f921"
             ]
            ],
            "type": "histogram2dcontour"
           }
          ],
          "mesh3d": [
           {
            "colorbar": {
             "outlinewidth": 0,
             "ticks": ""
            },
            "type": "mesh3d"
           }
          ],
          "parcoords": [
           {
            "line": {
             "colorbar": {
              "outlinewidth": 0,
              "ticks": ""
             }
            },
            "type": "parcoords"
           }
          ],
          "pie": [
           {
            "automargin": true,
            "type": "pie"
           }
          ],
          "scatter": [
           {
            "marker": {
             "colorbar": {
              "outlinewidth": 0,
              "ticks": ""
             }
            },
            "type": "scatter"
           }
          ],
          "scatter3d": [
           {
            "line": {
             "colorbar": {
              "outlinewidth": 0,
              "ticks": ""
             }
            },
            "marker": {
             "colorbar": {
              "outlinewidth": 0,
              "ticks": ""
             }
            },
            "type": "scatter3d"
           }
          ],
          "scattercarpet": [
           {
            "marker": {
             "colorbar": {
              "outlinewidth": 0,
              "ticks": ""
             }
            },
            "type": "scattercarpet"
           }
          ],
          "scattergeo": [
           {
            "marker": {
             "colorbar": {
              "outlinewidth": 0,
              "ticks": ""
             }
            },
            "type": "scattergeo"
           }
          ],
          "scattergl": [
           {
            "marker": {
             "colorbar": {
              "outlinewidth": 0,
              "ticks": ""
             }
            },
            "type": "scattergl"
           }
          ],
          "scattermapbox": [
           {
            "marker": {
             "colorbar": {
              "outlinewidth": 0,
              "ticks": ""
             }
            },
            "type": "scattermapbox"
           }
          ],
          "scatterpolar": [
           {
            "marker": {
             "colorbar": {
              "outlinewidth": 0,
              "ticks": ""
             }
            },
            "type": "scatterpolar"
           }
          ],
          "scatterpolargl": [
           {
            "marker": {
             "colorbar": {
              "outlinewidth": 0,
              "ticks": ""
             }
            },
            "type": "scatterpolargl"
           }
          ],
          "scatterternary": [
           {
            "marker": {
             "colorbar": {
              "outlinewidth": 0,
              "ticks": ""
             }
            },
            "type": "scatterternary"
           }
          ],
          "surface": [
           {
            "colorbar": {
             "outlinewidth": 0,
             "ticks": ""
            },
            "colorscale": [
             [
              0,
              "#0d0887"
             ],
             [
              0.1111111111111111,
              "#46039f"
             ],
             [
              0.2222222222222222,
              "#7201a8"
             ],
             [
              0.3333333333333333,
              "#9c179e"
             ],
             [
              0.4444444444444444,
              "#bd3786"
             ],
             [
              0.5555555555555556,
              "#d8576b"
             ],
             [
              0.6666666666666666,
              "#ed7953"
             ],
             [
              0.7777777777777778,
              "#fb9f3a"
             ],
             [
              0.8888888888888888,
              "#fdca26"
             ],
             [
              1,
              "#f0f921"
             ]
            ],
            "type": "surface"
           }
          ],
          "table": [
           {
            "cells": {
             "fill": {
              "color": "#EBF0F8"
             },
             "line": {
              "color": "white"
             }
            },
            "header": {
             "fill": {
              "color": "#C8D4E3"
             },
             "line": {
              "color": "white"
             }
            },
            "type": "table"
           }
          ]
         },
         "layout": {
          "annotationdefaults": {
           "arrowcolor": "#2a3f5f",
           "arrowhead": 0,
           "arrowwidth": 1
          },
          "autotypenumbers": "strict",
          "coloraxis": {
           "colorbar": {
            "outlinewidth": 0,
            "ticks": ""
           }
          },
          "colorscale": {
           "diverging": [
            [
             0,
             "#8e0152"
            ],
            [
             0.1,
             "#c51b7d"
            ],
            [
             0.2,
             "#de77ae"
            ],
            [
             0.3,
             "#f1b6da"
            ],
            [
             0.4,
             "#fde0ef"
            ],
            [
             0.5,
             "#f7f7f7"
            ],
            [
             0.6,
             "#e6f5d0"
            ],
            [
             0.7,
             "#b8e186"
            ],
            [
             0.8,
             "#7fbc41"
            ],
            [
             0.9,
             "#4d9221"
            ],
            [
             1,
             "#276419"
            ]
           ],
           "sequential": [
            [
             0,
             "#0d0887"
            ],
            [
             0.1111111111111111,
             "#46039f"
            ],
            [
             0.2222222222222222,
             "#7201a8"
            ],
            [
             0.3333333333333333,
             "#9c179e"
            ],
            [
             0.4444444444444444,
             "#bd3786"
            ],
            [
             0.5555555555555556,
             "#d8576b"
            ],
            [
             0.6666666666666666,
             "#ed7953"
            ],
            [
             0.7777777777777778,
             "#fb9f3a"
            ],
            [
             0.8888888888888888,
             "#fdca26"
            ],
            [
             1,
             "#f0f921"
            ]
           ],
           "sequentialminus": [
            [
             0,
             "#0d0887"
            ],
            [
             0.1111111111111111,
             "#46039f"
            ],
            [
             0.2222222222222222,
             "#7201a8"
            ],
            [
             0.3333333333333333,
             "#9c179e"
            ],
            [
             0.4444444444444444,
             "#bd3786"
            ],
            [
             0.5555555555555556,
             "#d8576b"
            ],
            [
             0.6666666666666666,
             "#ed7953"
            ],
            [
             0.7777777777777778,
             "#fb9f3a"
            ],
            [
             0.8888888888888888,
             "#fdca26"
            ],
            [
             1,
             "#f0f921"
            ]
           ]
          },
          "colorway": [
           "#636efa",
           "#EF553B",
           "#00cc96",
           "#ab63fa",
           "#FFA15A",
           "#19d3f3",
           "#FF6692",
           "#B6E880",
           "#FF97FF",
           "#FECB52"
          ],
          "font": {
           "color": "#2a3f5f"
          },
          "geo": {
           "bgcolor": "white",
           "lakecolor": "white",
           "landcolor": "#E5ECF6",
           "showlakes": true,
           "showland": true,
           "subunitcolor": "white"
          },
          "hoverlabel": {
           "align": "left"
          },
          "hovermode": "closest",
          "mapbox": {
           "style": "light"
          },
          "paper_bgcolor": "white",
          "plot_bgcolor": "#E5ECF6",
          "polar": {
           "angularaxis": {
            "gridcolor": "white",
            "linecolor": "white",
            "ticks": ""
           },
           "bgcolor": "#E5ECF6",
           "radialaxis": {
            "gridcolor": "white",
            "linecolor": "white",
            "ticks": ""
           }
          },
          "scene": {
           "xaxis": {
            "backgroundcolor": "#E5ECF6",
            "gridcolor": "white",
            "gridwidth": 2,
            "linecolor": "white",
            "showbackground": true,
            "ticks": "",
            "zerolinecolor": "white"
           },
           "yaxis": {
            "backgroundcolor": "#E5ECF6",
            "gridcolor": "white",
            "gridwidth": 2,
            "linecolor": "white",
            "showbackground": true,
            "ticks": "",
            "zerolinecolor": "white"
           },
           "zaxis": {
            "backgroundcolor": "#E5ECF6",
            "gridcolor": "white",
            "gridwidth": 2,
            "linecolor": "white",
            "showbackground": true,
            "ticks": "",
            "zerolinecolor": "white"
           }
          },
          "shapedefaults": {
           "line": {
            "color": "#2a3f5f"
           }
          },
          "ternary": {
           "aaxis": {
            "gridcolor": "white",
            "linecolor": "white",
            "ticks": ""
           },
           "baxis": {
            "gridcolor": "white",
            "linecolor": "white",
            "ticks": ""
           },
           "bgcolor": "#E5ECF6",
           "caxis": {
            "gridcolor": "white",
            "linecolor": "white",
            "ticks": ""
           }
          },
          "title": {
           "x": 0.05
          },
          "xaxis": {
           "automargin": true,
           "gridcolor": "white",
           "linecolor": "white",
           "ticks": "",
           "title": {
            "standoff": 15
           },
           "zerolinecolor": "white",
           "zerolinewidth": 2
          },
          "yaxis": {
           "automargin": true,
           "gridcolor": "white",
           "linecolor": "white",
           "ticks": "",
           "title": {
            "standoff": 15
           },
           "zerolinecolor": "white",
           "zerolinewidth": 2
          }
         }
        },
        "xaxis": {
         "anchor": "y",
         "domain": [
          0,
          1
         ],
         "title": {
          "text": "category_id"
         }
        },
        "yaxis": {
         "anchor": "x",
         "domain": [
          0,
          1
         ],
         "title": {
          "text": "price"
         }
        }
       }
      }
     },
     "metadata": {}
    }
   ],
   "source": [
    "px.box(pdf, x=\"category_id\", y=\"price\")"
   ]
  },
  {
   "source": [
    "##### Brand - Price"
   ],
   "cell_type": "markdown",
   "metadata": {}
  },
  {
   "cell_type": "code",
   "execution_count": 86,
   "metadata": {},
   "outputs": [
    {
     "output_type": "stream",
     "name": "stdout",
     "text": [
      "+---------------+------------------+-------+------------------+-------+\n|          brand|Count_Unique_Price|    MAX|              MEAN|    MIN|\n+---------------+------------------+-------+------------------+-------+\n|         garmin|                 1|2239.44|           2239.44|2239.44|\n|           acer|                 3| 2312.8|1345.7133333333334| 514.79|\n|          apple|                12|2496.59|        1171.44875| 458.28|\n|           peda|                 1| 900.92|            900.92| 900.92|\n|harley-davidson|                 1| 751.63|            751.63| 751.63|\n|         tissot|                 3| 895.78|           749.825| 380.96|\n|     humminbird|                 1| 733.61|            733.61| 733.61|\n|             lg|                 1| 712.87|            712.87| 712.87|\n|           sony|                 1| 511.13|            511.13| 511.13|\n|           asus|                 3| 849.42|499.19666666666666| 287.83|\n|          bosch|                 2| 684.44| 463.2166666666667|  20.77|\n|         lenovo|                 2| 514.79|            450.32| 385.85|\n|             hp|                 8| 514.56| 378.5655555555556|  67.84|\n|          lider|                 1| 378.36|            378.36| 378.36|\n|        indesit|                 1| 314.08|            314.08| 314.08|\n|         huawei|                 6| 946.73| 308.4783333333333| 125.61|\n|           beko|                 1| 298.16|            298.16| 298.16|\n|         janome|                 1| 293.65|            293.65| 293.65|\n|         armani|                 1| 293.44|            293.44| 293.44|\n|          canon|                 3| 437.29|289.49333333333334| 151.14|\n+---------------+------------------+-------+------------------+-------+\nonly showing top 20 rows\n\n"
     ]
    }
   ],
   "source": [
    "spark.sql(\"SELECT brand, COUNT(DISTINCT(price)) AS Count_Unique_Price, MAX(price) AS MAX, MEAN(price) AS MEAN, MIN(price) AS MIN from Product_Data GROUP BY brand ORDER BY MEAN DESC\").show()"
   ]
  },
  {
   "cell_type": "code",
   "execution_count": 102,
   "metadata": {},
   "outputs": [
    {
     "output_type": "display_data",
     "data": {
      "application/vnd.plotly.v1+json": {
       "config": {
        "plotlyServerURL": "https://plot.ly"
       },
       "data": [
        {
         "alignmentgroup": "True",
         "hovertemplate": "brand=%{x}<br>price=%{y}<extra></extra>",
         "legendgroup": "",
         "marker": {
          "color": "#636efa"
         },
         "name": "",
         "notched": false,
         "offsetgroup": "",
         "orientation": "v",
         "showlegend": false,
         "type": "box",
         "x": [
          "xiaomi",
          "janome",
          "creed",
          "lg",
          "xiaomi",
          "hp",
          "hp",
          "rondell",
          "michelin",
          "apple",
          "unknown",
          "unknown",
          "unknown",
          "unknown",
          "samsung",
          "unknown",
          "unknown",
          "xiaomi",
          "huawei",
          "hp",
          "yokohama",
          "huawei",
          "unknown",
          "unknown",
          "trussardi",
          "unknown",
          "eveline",
          "apple",
          "acer",
          "asus",
          "unknown",
          "nika",
          "unknown",
          "matrix",
          "redmond",
          "tomfarr",
          "hyper",
          "acme",
          "tefal",
          "apple",
          "samsung",
          "unknown",
          "canon",
          "oasis",
          "bosch",
          "sony",
          "rezult",
          "unknown",
          "lucente",
          "xiaomi",
          "tissot",
          "samsung",
          "goodloot",
          "unknown",
          "apple",
          "nika",
          "unknown",
          "unknown",
          "brw",
          "sulu",
          "force",
          "kirkland",
          "lenovo",
          "humminbird",
          "merelani",
          "samsung",
          "roadx",
          "rondell",
          "dewalt",
          "xiaomi",
          "welly",
          "denzel",
          "nokian",
          "bosch",
          "mamadoma",
          "asus",
          "arrivo",
          "canon",
          "trussardi",
          "apple",
          "t-rex",
          "michelin",
          "xiaomi",
          "chanel",
          "oppo",
          "unknown",
          "ams",
          "asus",
          "samsung",
          "unknown",
          "fisherman",
          "samsung",
          "unknown",
          "acme",
          "peda",
          "xiaomi",
          "apple",
          "tissot",
          "unknown",
          "redmond",
          "palit",
          "apple",
          "kirkland",
          "hp",
          "canon",
          "apple",
          "hp",
          "unknown",
          "unknown",
          "apple",
          "huawei",
          "aoteli",
          "trussardi",
          "tarkett",
          "indesit",
          "honor",
          "unknown",
          "unknown",
          "unknown",
          "dewalt",
          "lenovo",
          "xiaomi",
          "unknown",
          "sony",
          "harley-davidson",
          "unknown",
          "stels",
          "samsung",
          "samsung",
          "avatar",
          "unknown",
          "xiaomi",
          "lider",
          "apple",
          "tissot",
          "kirkland",
          "unknown",
          "hp",
          "kolner",
          "lucente",
          "denzel",
          "acer",
          "michelin",
          "laston",
          "apple",
          "magnetta",
          "huawei",
          "force",
          "samsung",
          "yokohama",
          "unknown",
          "evelinecosmetics",
          "janome",
          "xiaomi",
          "epson",
          "givenchy",
          "huawei",
          "bosch",
          "samsung",
          "apple",
          "beko",
          "brw",
          "acer",
          "pioneer",
          "dwt",
          "xiaomi",
          "unknown",
          "skad",
          "xiaomi",
          "garmin",
          "unknown",
          "peda",
          "apple",
          "arg",
          "xiaomi",
          "kirkland",
          "ams",
          "brw",
          "unknown",
          "cordiant",
          "unknown",
          "pioneer",
          "unknown",
          "montale",
          "pablosky",
          "unknown",
          "xiaomi",
          "dewalt",
          "huawei",
          "unknown",
          "stanley",
          "carfashion",
          "hp",
          "unknown",
          "casio",
          "sokolov",
          "unknown",
          "jordan",
          "fubag",
          "armani",
          "unknown",
          "ams",
          "xiaomi",
          "hp",
          "unknown",
          "tissot",
          "apple",
          "alphard",
          "hp",
          "apple",
          "element",
          "lucente",
          "brw",
          "hycell",
          "cordiant",
          "sv",
          "apple"
         ],
         "x0": " ",
         "xaxis": "x",
         "y": [
          489.07,
          293.65,
          28.31,
          712.87,
          183.27,
          360.09,
          514.56,
          30.86,
          72.72,
          732.07,
          437.33,
          155.11,
          31.64,
          20.54,
          411.83,
          1.09,
          8.55,
          22.68,
          164.84,
          411.59,
          88.81,
          151.99,
          7.07,
          591.78,
          55.33,
          11.79,
          7.59,
          949.47,
          514.79,
          360.34,
          38.07,
          47.77,
          23.4,
          23.14,
          61.1,
          127.42,
          54.06,
          69.24,
          108.09,
          458.28,
          503.09,
          119.69,
          437.29,
          32.66,
          684.44,
          511.13,
          15.62,
          386.08,
          248.66,
          211.92,
          895.78,
          289.33,
          8.73,
          40.16,
          928.18,
          47.77,
          66.9,
          8.55,
          134.37,
          51.48,
          83.91,
          28.19,
          385.85,
          733.61,
          105.54,
          128.42,
          50.19,
          43.73,
          98.51,
          84.65,
          5.77,
          157.28,
          252.77,
          20.77,
          34.75,
          287.83,
          91.12,
          151.14,
          61.75,
          1091.33,
          46.16,
          72.72,
          22.8,
          171.17,
          257.38,
          51.46,
          221.37,
          849.42,
          242.63,
          40.93,
          48.43,
          499.94,
          50.45,
          51.22,
          900.92,
          463.15,
          928.38,
          861.28,
          166.23,
          64.33,
          170.63,
          1013.86,
          28.19,
          411.59,
          280.05,
          1173.6,
          390.98,
          566.3,
          50.43,
          1091.33,
          946.73,
          58.17,
          61.75,
          17.49,
          314.08,
          47.62,
          47.32,
          46.08,
          180.18,
          226.83,
          514.79,
          489.07,
          70.27,
          511.13,
          751.63,
          136.4,
          182.76,
          172.22,
          172.23,
          41.19,
          257.15,
          398.72,
          378.36,
          2342.15,
          861.28,
          28.19,
          114.03,
          406.68,
          25.48,
          49.68,
          76.45,
          1209.55,
          72.72,
          113.93,
          928.38,
          254.78,
          334.37,
          244.28,
          242.63,
          70.53,
          118.41,
          7.34,
          293.65,
          22.8,
          203.84,
          77.22,
          125.61,
          684.44,
          128.42,
          1013.86,
          298.16,
          84.69,
          2312.8,
          229.09,
          48.35,
          167.02,
          40.93,
          177.1,
          211.92,
          2239.44,
          36.78,
          900.92,
          2496.59,
          128.68,
          195.37,
          10.17,
          221.37,
          207.21,
          277.23,
          32.18,
          36.78,
          58.69,
          566.3,
          69.5,
          65.38,
          30.43,
          218.51,
          150.95,
          127.33,
          46.82,
          29.86,
          65.64,
          411.34,
          72.59,
          165.26,
          97.34,
          566.3,
          102.71,
          24.71,
          293.44,
          397.54,
          221.37,
          183.27,
          432.42,
          1335.43,
          380.96,
          552.14,
          38.61,
          67.84,
          2311.49,
          133.83,
          224.46,
          72.07,
          20.57,
          51.22,
          257.15,
          732.07
         ],
         "y0": " ",
         "yaxis": "y"
        }
       ],
       "layout": {
        "boxmode": "group",
        "legend": {
         "tracegroupgap": 0
        },
        "margin": {
         "t": 60
        },
        "template": {
         "data": {
          "bar": [
           {
            "error_x": {
             "color": "#2a3f5f"
            },
            "error_y": {
             "color": "#2a3f5f"
            },
            "marker": {
             "line": {
              "color": "#E5ECF6",
              "width": 0.5
             }
            },
            "type": "bar"
           }
          ],
          "barpolar": [
           {
            "marker": {
             "line": {
              "color": "#E5ECF6",
              "width": 0.5
             }
            },
            "type": "barpolar"
           }
          ],
          "carpet": [
           {
            "aaxis": {
             "endlinecolor": "#2a3f5f",
             "gridcolor": "white",
             "linecolor": "white",
             "minorgridcolor": "white",
             "startlinecolor": "#2a3f5f"
            },
            "baxis": {
             "endlinecolor": "#2a3f5f",
             "gridcolor": "white",
             "linecolor": "white",
             "minorgridcolor": "white",
             "startlinecolor": "#2a3f5f"
            },
            "type": "carpet"
           }
          ],
          "choropleth": [
           {
            "colorbar": {
             "outlinewidth": 0,
             "ticks": ""
            },
            "type": "choropleth"
           }
          ],
          "contour": [
           {
            "colorbar": {
             "outlinewidth": 0,
             "ticks": ""
            },
            "colorscale": [
             [
              0,
              "#0d0887"
             ],
             [
              0.1111111111111111,
              "#46039f"
             ],
             [
              0.2222222222222222,
              "#7201a8"
             ],
             [
              0.3333333333333333,
              "#9c179e"
             ],
             [
              0.4444444444444444,
              "#bd3786"
             ],
             [
              0.5555555555555556,
              "#d8576b"
             ],
             [
              0.6666666666666666,
              "#ed7953"
             ],
             [
              0.7777777777777778,
              "#fb9f3a"
             ],
             [
              0.8888888888888888,
              "#fdca26"
             ],
             [
              1,
              "#f0f921"
             ]
            ],
            "type": "contour"
           }
          ],
          "contourcarpet": [
           {
            "colorbar": {
             "outlinewidth": 0,
             "ticks": ""
            },
            "type": "contourcarpet"
           }
          ],
          "heatmap": [
           {
            "colorbar": {
             "outlinewidth": 0,
             "ticks": ""
            },
            "colorscale": [
             [
              0,
              "#0d0887"
             ],
             [
              0.1111111111111111,
              "#46039f"
             ],
             [
              0.2222222222222222,
              "#7201a8"
             ],
             [
              0.3333333333333333,
              "#9c179e"
             ],
             [
              0.4444444444444444,
              "#bd3786"
             ],
             [
              0.5555555555555556,
              "#d8576b"
             ],
             [
              0.6666666666666666,
              "#ed7953"
             ],
             [
              0.7777777777777778,
              "#fb9f3a"
             ],
             [
              0.8888888888888888,
              "#fdca26"
             ],
             [
              1,
              "#f0f921"
             ]
            ],
            "type": "heatmap"
           }
          ],
          "heatmapgl": [
           {
            "colorbar": {
             "outlinewidth": 0,
             "ticks": ""
            },
            "colorscale": [
             [
              0,
              "#0d0887"
             ],
             [
              0.1111111111111111,
              "#46039f"
             ],
             [
              0.2222222222222222,
              "#7201a8"
             ],
             [
              0.3333333333333333,
              "#9c179e"
             ],
             [
              0.4444444444444444,
              "#bd3786"
             ],
             [
              0.5555555555555556,
              "#d8576b"
             ],
             [
              0.6666666666666666,
              "#ed7953"
             ],
             [
              0.7777777777777778,
              "#fb9f3a"
             ],
             [
              0.8888888888888888,
              "#fdca26"
             ],
             [
              1,
              "#f0f921"
             ]
            ],
            "type": "heatmapgl"
           }
          ],
          "histogram": [
           {
            "marker": {
             "colorbar": {
              "outlinewidth": 0,
              "ticks": ""
             }
            },
            "type": "histogram"
           }
          ],
          "histogram2d": [
           {
            "colorbar": {
             "outlinewidth": 0,
             "ticks": ""
            },
            "colorscale": [
             [
              0,
              "#0d0887"
             ],
             [
              0.1111111111111111,
              "#46039f"
             ],
             [
              0.2222222222222222,
              "#7201a8"
             ],
             [
              0.3333333333333333,
              "#9c179e"
             ],
             [
              0.4444444444444444,
              "#bd3786"
             ],
             [
              0.5555555555555556,
              "#d8576b"
             ],
             [
              0.6666666666666666,
              "#ed7953"
             ],
             [
              0.7777777777777778,
              "#fb9f3a"
             ],
             [
              0.8888888888888888,
              "#fdca26"
             ],
             [
              1,
              "#f0f921"
             ]
            ],
            "type": "histogram2d"
           }
          ],
          "histogram2dcontour": [
           {
            "colorbar": {
             "outlinewidth": 0,
             "ticks": ""
            },
            "colorscale": [
             [
              0,
              "#0d0887"
             ],
             [
              0.1111111111111111,
              "#46039f"
             ],
             [
              0.2222222222222222,
              "#7201a8"
             ],
             [
              0.3333333333333333,
              "#9c179e"
             ],
             [
              0.4444444444444444,
              "#bd3786"
             ],
             [
              0.5555555555555556,
              "#d8576b"
             ],
             [
              0.6666666666666666,
              "#ed7953"
             ],
             [
              0.7777777777777778,
              "#fb9f3a"
             ],
             [
              0.8888888888888888,
              "#fdca26"
             ],
             [
              1,
              "#f0f921"
             ]
            ],
            "type": "histogram2dcontour"
           }
          ],
          "mesh3d": [
           {
            "colorbar": {
             "outlinewidth": 0,
             "ticks": ""
            },
            "type": "mesh3d"
           }
          ],
          "parcoords": [
           {
            "line": {
             "colorbar": {
              "outlinewidth": 0,
              "ticks": ""
             }
            },
            "type": "parcoords"
           }
          ],
          "pie": [
           {
            "automargin": true,
            "type": "pie"
           }
          ],
          "scatter": [
           {
            "marker": {
             "colorbar": {
              "outlinewidth": 0,
              "ticks": ""
             }
            },
            "type": "scatter"
           }
          ],
          "scatter3d": [
           {
            "line": {
             "colorbar": {
              "outlinewidth": 0,
              "ticks": ""
             }
            },
            "marker": {
             "colorbar": {
              "outlinewidth": 0,
              "ticks": ""
             }
            },
            "type": "scatter3d"
           }
          ],
          "scattercarpet": [
           {
            "marker": {
             "colorbar": {
              "outlinewidth": 0,
              "ticks": ""
             }
            },
            "type": "scattercarpet"
           }
          ],
          "scattergeo": [
           {
            "marker": {
             "colorbar": {
              "outlinewidth": 0,
              "ticks": ""
             }
            },
            "type": "scattergeo"
           }
          ],
          "scattergl": [
           {
            "marker": {
             "colorbar": {
              "outlinewidth": 0,
              "ticks": ""
             }
            },
            "type": "scattergl"
           }
          ],
          "scattermapbox": [
           {
            "marker": {
             "colorbar": {
              "outlinewidth": 0,
              "ticks": ""
             }
            },
            "type": "scattermapbox"
           }
          ],
          "scatterpolar": [
           {
            "marker": {
             "colorbar": {
              "outlinewidth": 0,
              "ticks": ""
             }
            },
            "type": "scatterpolar"
           }
          ],
          "scatterpolargl": [
           {
            "marker": {
             "colorbar": {
              "outlinewidth": 0,
              "ticks": ""
             }
            },
            "type": "scatterpolargl"
           }
          ],
          "scatterternary": [
           {
            "marker": {
             "colorbar": {
              "outlinewidth": 0,
              "ticks": ""
             }
            },
            "type": "scatterternary"
           }
          ],
          "surface": [
           {
            "colorbar": {
             "outlinewidth": 0,
             "ticks": ""
            },
            "colorscale": [
             [
              0,
              "#0d0887"
             ],
             [
              0.1111111111111111,
              "#46039f"
             ],
             [
              0.2222222222222222,
              "#7201a8"
             ],
             [
              0.3333333333333333,
              "#9c179e"
             ],
             [
              0.4444444444444444,
              "#bd3786"
             ],
             [
              0.5555555555555556,
              "#d8576b"
             ],
             [
              0.6666666666666666,
              "#ed7953"
             ],
             [
              0.7777777777777778,
              "#fb9f3a"
             ],
             [
              0.8888888888888888,
              "#fdca26"
             ],
             [
              1,
              "#f0f921"
             ]
            ],
            "type": "surface"
           }
          ],
          "table": [
           {
            "cells": {
             "fill": {
              "color": "#EBF0F8"
             },
             "line": {
              "color": "white"
             }
            },
            "header": {
             "fill": {
              "color": "#C8D4E3"
             },
             "line": {
              "color": "white"
             }
            },
            "type": "table"
           }
          ]
         },
         "layout": {
          "annotationdefaults": {
           "arrowcolor": "#2a3f5f",
           "arrowhead": 0,
           "arrowwidth": 1
          },
          "autotypenumbers": "strict",
          "coloraxis": {
           "colorbar": {
            "outlinewidth": 0,
            "ticks": ""
           }
          },
          "colorscale": {
           "diverging": [
            [
             0,
             "#8e0152"
            ],
            [
             0.1,
             "#c51b7d"
            ],
            [
             0.2,
             "#de77ae"
            ],
            [
             0.3,
             "#f1b6da"
            ],
            [
             0.4,
             "#fde0ef"
            ],
            [
             0.5,
             "#f7f7f7"
            ],
            [
             0.6,
             "#e6f5d0"
            ],
            [
             0.7,
             "#b8e186"
            ],
            [
             0.8,
             "#7fbc41"
            ],
            [
             0.9,
             "#4d9221"
            ],
            [
             1,
             "#276419"
            ]
           ],
           "sequential": [
            [
             0,
             "#0d0887"
            ],
            [
             0.1111111111111111,
             "#46039f"
            ],
            [
             0.2222222222222222,
             "#7201a8"
            ],
            [
             0.3333333333333333,
             "#9c179e"
            ],
            [
             0.4444444444444444,
             "#bd3786"
            ],
            [
             0.5555555555555556,
             "#d8576b"
            ],
            [
             0.6666666666666666,
             "#ed7953"
            ],
            [
             0.7777777777777778,
             "#fb9f3a"
            ],
            [
             0.8888888888888888,
             "#fdca26"
            ],
            [
             1,
             "#f0f921"
            ]
           ],
           "sequentialminus": [
            [
             0,
             "#0d0887"
            ],
            [
             0.1111111111111111,
             "#46039f"
            ],
            [
             0.2222222222222222,
             "#7201a8"
            ],
            [
             0.3333333333333333,
             "#9c179e"
            ],
            [
             0.4444444444444444,
             "#bd3786"
            ],
            [
             0.5555555555555556,
             "#d8576b"
            ],
            [
             0.6666666666666666,
             "#ed7953"
            ],
            [
             0.7777777777777778,
             "#fb9f3a"
            ],
            [
             0.8888888888888888,
             "#fdca26"
            ],
            [
             1,
             "#f0f921"
            ]
           ]
          },
          "colorway": [
           "#636efa",
           "#EF553B",
           "#00cc96",
           "#ab63fa",
           "#FFA15A",
           "#19d3f3",
           "#FF6692",
           "#B6E880",
           "#FF97FF",
           "#FECB52"
          ],
          "font": {
           "color": "#2a3f5f"
          },
          "geo": {
           "bgcolor": "white",
           "lakecolor": "white",
           "landcolor": "#E5ECF6",
           "showlakes": true,
           "showland": true,
           "subunitcolor": "white"
          },
          "hoverlabel": {
           "align": "left"
          },
          "hovermode": "closest",
          "mapbox": {
           "style": "light"
          },
          "paper_bgcolor": "white",
          "plot_bgcolor": "#E5ECF6",
          "polar": {
           "angularaxis": {
            "gridcolor": "white",
            "linecolor": "white",
            "ticks": ""
           },
           "bgcolor": "#E5ECF6",
           "radialaxis": {
            "gridcolor": "white",
            "linecolor": "white",
            "ticks": ""
           }
          },
          "scene": {
           "xaxis": {
            "backgroundcolor": "#E5ECF6",
            "gridcolor": "white",
            "gridwidth": 2,
            "linecolor": "white",
            "showbackground": true,
            "ticks": "",
            "zerolinecolor": "white"
           },
           "yaxis": {
            "backgroundcolor": "#E5ECF6",
            "gridcolor": "white",
            "gridwidth": 2,
            "linecolor": "white",
            "showbackground": true,
            "ticks": "",
            "zerolinecolor": "white"
           },
           "zaxis": {
            "backgroundcolor": "#E5ECF6",
            "gridcolor": "white",
            "gridwidth": 2,
            "linecolor": "white",
            "showbackground": true,
            "ticks": "",
            "zerolinecolor": "white"
           }
          },
          "shapedefaults": {
           "line": {
            "color": "#2a3f5f"
           }
          },
          "ternary": {
           "aaxis": {
            "gridcolor": "white",
            "linecolor": "white",
            "ticks": ""
           },
           "baxis": {
            "gridcolor": "white",
            "linecolor": "white",
            "ticks": ""
           },
           "bgcolor": "#E5ECF6",
           "caxis": {
            "gridcolor": "white",
            "linecolor": "white",
            "ticks": ""
           }
          },
          "title": {
           "x": 0.05
          },
          "xaxis": {
           "automargin": true,
           "gridcolor": "white",
           "linecolor": "white",
           "ticks": "",
           "title": {
            "standoff": 15
           },
           "zerolinecolor": "white",
           "zerolinewidth": 2
          },
          "yaxis": {
           "automargin": true,
           "gridcolor": "white",
           "linecolor": "white",
           "ticks": "",
           "title": {
            "standoff": 15
           },
           "zerolinecolor": "white",
           "zerolinewidth": 2
          }
         }
        },
        "xaxis": {
         "anchor": "y",
         "domain": [
          0,
          1
         ],
         "title": {
          "text": "brand"
         }
        },
        "yaxis": {
         "anchor": "x",
         "domain": [
          0,
          1
         ],
         "title": {
          "text": "price"
         }
        }
       }
      }
     },
     "metadata": {}
    }
   ],
   "source": [
    "px.box(pdf, x=\"brand\", y=\"price\")"
   ]
  },
  {
   "source": [
    "#### Category-Vergleich"
   ],
   "cell_type": "markdown",
   "metadata": {}
  },
  {
   "source": [
    "##### Category Class - Category Code"
   ],
   "cell_type": "markdown",
   "metadata": {}
  },
  {
   "cell_type": "code",
   "execution_count": 87,
   "metadata": {},
   "outputs": [
    {
     "output_type": "stream",
     "name": "stdout",
     "text": [
      "+--------------+--------------------+\n|Category_Class|Count_Category_Codes|\n+--------------+--------------------+\n|     computers|                   5|\n|          auto|                   2|\n|          null|                   0|\n|       apparel|                   4|\n|    appliances|                   6|\n|     furniture|                   5|\n|   accessories|                   1|\n|   electronics|                   6|\n|  construction|                   5|\n+--------------+--------------------+\n\n"
     ]
    }
   ],
   "source": [
    "spark.sql(\"SELECT Category_Class, COUNT(DISTINCT(Category_Code)) AS Count_Category_Codes from Product_Data GROUP BY Category_Class\").show()"
   ]
  },
  {
   "cell_type": "code",
   "execution_count": 97,
   "metadata": {},
   "outputs": [
    {
     "output_type": "stream",
     "name": "stdout",
     "text": [
      "+--------------+--------------------+\n|Category_Class|       Category_Code|\n+--------------+--------------------+\n|     furniture|furniture.living_...|\n|     furniture|furniture.kitchen...|\n|     furniture|furniture.kitchen...|\n|     furniture|furniture.bedroom...|\n|     furniture|furniture.bathroo...|\n|   electronics|electronics.video.tv|\n|   electronics|electronics.smart...|\n|   electronics|  electronics.clocks|\n|   electronics|electronics.camer...|\n|   electronics|electronics.audio...|\n|   electronics|electronics.audio...|\n|  construction|construction.tool...|\n|  construction|construction.tool...|\n|  construction|construction.tool...|\n|  construction|construction.tool...|\n|  construction|construction.tool...|\n|     computers|computers.periphe...|\n|     computers|  computers.notebook|\n|     computers|   computers.desktop|\n|     computers|computers.compone...|\n+--------------+--------------------+\nonly showing top 20 rows\n\n"
     ]
    }
   ],
   "source": [
    "spark.sql(\"SELECT Category_Class, Category_Code from Product_Data GROUP BY Category_Class, Category_Code ORDER BY Category_Code DESC\").show()"
   ]
  },
  {
   "cell_type": "code",
   "execution_count": 88,
   "metadata": {},
   "outputs": [
    {
     "output_type": "display_data",
     "data": {
      "application/vnd.plotly.v1+json": {
       "config": {
        "plotlyServerURL": "https://plot.ly"
       },
       "data": [
        {
         "alignmentgroup": "True",
         "bingroup": "x",
         "hovertemplate": "category_code=electronics.smartphone<br>category_class=%{x}<br>count=%{y}<extra></extra>",
         "legendgroup": "electronics.smartphone",
         "marker": {
          "color": "#636efa"
         },
         "name": "electronics.smartphone",
         "offsetgroup": "electronics.smartphone",
         "orientation": "v",
         "showlegend": true,
         "type": "histogram",
         "x": [
          "electronics",
          "electronics",
          "electronics",
          "electronics",
          "electronics",
          "electronics",
          "electronics",
          "electronics",
          "electronics",
          "electronics",
          "electronics",
          "electronics",
          "electronics",
          "electronics",
          "electronics",
          "electronics",
          "electronics",
          "electronics",
          "electronics",
          "electronics",
          "electronics",
          "electronics",
          "electronics",
          "electronics",
          "electronics",
          "electronics",
          "electronics",
          "electronics",
          "electronics",
          "electronics",
          "electronics",
          "electronics",
          "electronics",
          "electronics",
          "electronics",
          "electronics",
          "electronics",
          "electronics"
         ],
         "xaxis": "x",
         "yaxis": "y"
        },
        {
         "alignmentgroup": "True",
         "bingroup": "x",
         "hovertemplate": "category_code=appliances.sewing_machine<br>category_class=%{x}<br>count=%{y}<extra></extra>",
         "legendgroup": "appliances.sewing_machine",
         "marker": {
          "color": "#EF553B"
         },
         "name": "appliances.sewing_machine",
         "offsetgroup": "appliances.sewing_machine",
         "orientation": "v",
         "showlegend": true,
         "type": "histogram",
         "x": [
          "appliances",
          "appliances"
         ],
         "xaxis": "x",
         "yaxis": "y"
        },
        {
         "alignmentgroup": "True",
         "bingroup": "x",
         "hovertemplate": "category_code=unknown<br>category_class=%{x}<br>count=%{y}<extra></extra>",
         "legendgroup": "unknown",
         "marker": {
          "color": "#00cc96"
         },
         "name": "unknown",
         "offsetgroup": "unknown",
         "orientation": "v",
         "showlegend": true,
         "type": "histogram",
         "x": [
          "unknown",
          "unknown",
          "unknown",
          "unknown",
          "unknown",
          "unknown",
          "unknown",
          "unknown",
          "unknown",
          "unknown",
          "unknown",
          "unknown",
          "unknown",
          "unknown",
          "unknown",
          "unknown",
          "unknown",
          "unknown",
          "unknown",
          "unknown",
          "unknown",
          "unknown",
          "unknown",
          "unknown",
          "unknown",
          "unknown",
          "unknown",
          "unknown",
          "unknown",
          "unknown",
          "unknown",
          "unknown",
          "unknown",
          "unknown",
          "unknown",
          "unknown",
          "unknown",
          "unknown",
          "unknown",
          "unknown",
          "unknown",
          "unknown",
          "unknown",
          "unknown",
          "unknown",
          "unknown",
          "unknown",
          "unknown",
          "unknown",
          "unknown",
          "unknown",
          "unknown",
          "unknown",
          "unknown",
          "unknown",
          "unknown",
          "unknown",
          "unknown",
          "unknown",
          "unknown",
          "unknown",
          "unknown",
          "unknown",
          "unknown",
          "unknown",
          "unknown",
          "unknown",
          "unknown",
          "unknown",
          "unknown",
          "unknown",
          "unknown",
          "unknown",
          "unknown",
          "unknown",
          "unknown",
          "unknown",
          "unknown",
          "unknown",
          "unknown",
          "unknown",
          "unknown",
          "unknown",
          "unknown",
          "unknown",
          "unknown",
          "unknown"
         ],
         "xaxis": "x",
         "yaxis": "y"
        },
        {
         "alignmentgroup": "True",
         "bingroup": "x",
         "hovertemplate": "category_code=appliances.kitchen.washer<br>category_class=%{x}<br>count=%{y}<extra></extra>",
         "legendgroup": "appliances.kitchen.washer",
         "marker": {
          "color": "#ab63fa"
         },
         "name": "appliances.kitchen.washer",
         "offsetgroup": "appliances.kitchen.washer",
         "orientation": "v",
         "showlegend": true,
         "type": "histogram",
         "x": [
          "appliances"
         ],
         "xaxis": "x",
         "yaxis": "y"
        },
        {
         "alignmentgroup": "True",
         "bingroup": "x",
         "hovertemplate": "category_code=computers.notebook<br>category_class=%{x}<br>count=%{y}<extra></extra>",
         "legendgroup": "computers.notebook",
         "marker": {
          "color": "#FFA15A"
         },
         "name": "computers.notebook",
         "offsetgroup": "computers.notebook",
         "orientation": "v",
         "showlegend": true,
         "type": "histogram",
         "x": [
          "computers",
          "computers",
          "computers",
          "computers",
          "computers",
          "computers",
          "computers",
          "computers",
          "computers",
          "computers",
          "computers",
          "computers",
          "computers",
          "computers",
          "computers",
          "computers",
          "computers",
          "computers"
         ],
         "xaxis": "x",
         "yaxis": "y"
        },
        {
         "alignmentgroup": "True",
         "bingroup": "x",
         "hovertemplate": "category_code=furniture.living_room.sofa<br>category_class=%{x}<br>count=%{y}<extra></extra>",
         "legendgroup": "furniture.living_room.sofa",
         "marker": {
          "color": "#19d3f3"
         },
         "name": "furniture.living_room.sofa",
         "offsetgroup": "furniture.living_room.sofa",
         "orientation": "v",
         "showlegend": true,
         "type": "histogram",
         "x": [
          "furniture",
          "furniture"
         ],
         "xaxis": "x",
         "yaxis": "y"
        },
        {
         "alignmentgroup": "True",
         "bingroup": "x",
         "hovertemplate": "category_code=appliances.kitchen.refrigerators<br>category_class=%{x}<br>count=%{y}<extra></extra>",
         "legendgroup": "appliances.kitchen.refrigerators",
         "marker": {
          "color": "#FF6692"
         },
         "name": "appliances.kitchen.refrigerators",
         "offsetgroup": "appliances.kitchen.refrigerators",
         "orientation": "v",
         "showlegend": true,
         "type": "histogram",
         "x": [
          "appliances",
          "appliances",
          "appliances",
          "appliances",
          "appliances"
         ],
         "xaxis": "x",
         "yaxis": "y"
        },
        {
         "alignmentgroup": "True",
         "bingroup": "x",
         "hovertemplate": "category_code=furniture.kitchen.chair<br>category_class=%{x}<br>count=%{y}<extra></extra>",
         "legendgroup": "furniture.kitchen.chair",
         "marker": {
          "color": "#B6E880"
         },
         "name": "furniture.kitchen.chair",
         "offsetgroup": "furniture.kitchen.chair",
         "orientation": "v",
         "showlegend": true,
         "type": "histogram",
         "x": [
          "furniture",
          "furniture",
          "furniture",
          "furniture",
          "furniture",
          "furniture"
         ],
         "xaxis": "x",
         "yaxis": "y"
        },
        {
         "alignmentgroup": "True",
         "bingroup": "x",
         "hovertemplate": "category_code=appliances.kitchen.dishwasher<br>category_class=%{x}<br>count=%{y}<extra></extra>",
         "legendgroup": "appliances.kitchen.dishwasher",
         "marker": {
          "color": "#FF97FF"
         },
         "name": "appliances.kitchen.dishwasher",
         "offsetgroup": "appliances.kitchen.dishwasher",
         "orientation": "v",
         "showlegend": true,
         "type": "histogram",
         "x": [
          "appliances",
          "appliances",
          "appliances",
          "appliances"
         ],
         "xaxis": "x",
         "yaxis": "y"
        },
        {
         "alignmentgroup": "True",
         "bingroup": "x",
         "hovertemplate": "category_code=electronics.audio.headphone<br>category_class=%{x}<br>count=%{y}<extra></extra>",
         "legendgroup": "electronics.audio.headphone",
         "marker": {
          "color": "#FECB52"
         },
         "name": "electronics.audio.headphone",
         "offsetgroup": "electronics.audio.headphone",
         "orientation": "v",
         "showlegend": true,
         "type": "histogram",
         "x": [
          "electronics",
          "electronics",
          "electronics",
          "electronics",
          "electronics"
         ],
         "xaxis": "x",
         "yaxis": "y"
        },
        {
         "alignmentgroup": "True",
         "bingroup": "x",
         "hovertemplate": "category_code=appliances.environment.vacuum<br>category_class=%{x}<br>count=%{y}<extra></extra>",
         "legendgroup": "appliances.environment.vacuum",
         "marker": {
          "color": "#636efa"
         },
         "name": "appliances.environment.vacuum",
         "offsetgroup": "appliances.environment.vacuum",
         "orientation": "v",
         "showlegend": true,
         "type": "histogram",
         "x": [
          "appliances"
         ],
         "xaxis": "x",
         "yaxis": "y"
        },
        {
         "alignmentgroup": "True",
         "bingroup": "x",
         "hovertemplate": "category_code=appliances.environment.water_heater<br>category_class=%{x}<br>count=%{y}<extra></extra>",
         "legendgroup": "appliances.environment.water_heater",
         "marker": {
          "color": "#EF553B"
         },
         "name": "appliances.environment.water_heater",
         "offsetgroup": "appliances.environment.water_heater",
         "orientation": "v",
         "showlegend": true,
         "type": "histogram",
         "x": [
          "appliances"
         ],
         "xaxis": "x",
         "yaxis": "y"
        },
        {
         "alignmentgroup": "True",
         "bingroup": "x",
         "hovertemplate": "category_code=electronics.camera.video<br>category_class=%{x}<br>count=%{y}<extra></extra>",
         "legendgroup": "electronics.camera.video",
         "marker": {
          "color": "#00cc96"
         },
         "name": "electronics.camera.video",
         "offsetgroup": "electronics.camera.video",
         "orientation": "v",
         "showlegend": true,
         "type": "histogram",
         "x": [
          "electronics"
         ],
         "xaxis": "x",
         "yaxis": "y"
        },
        {
         "alignmentgroup": "True",
         "bingroup": "x",
         "hovertemplate": "category_code=electronics.clocks<br>category_class=%{x}<br>count=%{y}<extra></extra>",
         "legendgroup": "electronics.clocks",
         "marker": {
          "color": "#ab63fa"
         },
         "name": "electronics.clocks",
         "offsetgroup": "electronics.clocks",
         "orientation": "v",
         "showlegend": true,
         "type": "histogram",
         "x": [
          "electronics",
          "electronics",
          "electronics",
          "electronics",
          "electronics",
          "electronics",
          "electronics",
          "electronics"
         ],
         "xaxis": "x",
         "yaxis": "y"
        },
        {
         "alignmentgroup": "True",
         "bingroup": "x",
         "hovertemplate": "category_code=electronics.video.tv<br>category_class=%{x}<br>count=%{y}<extra></extra>",
         "legendgroup": "electronics.video.tv",
         "marker": {
          "color": "#FFA15A"
         },
         "name": "electronics.video.tv",
         "offsetgroup": "electronics.video.tv",
         "orientation": "v",
         "showlegend": true,
         "type": "histogram",
         "x": [
          "electronics"
         ],
         "xaxis": "x",
         "yaxis": "y"
        },
        {
         "alignmentgroup": "True",
         "bingroup": "x",
         "hovertemplate": "category_code=apparel.tshirt<br>category_class=%{x}<br>count=%{y}<extra></extra>",
         "legendgroup": "apparel.tshirt",
         "marker": {
          "color": "#19d3f3"
         },
         "name": "apparel.tshirt",
         "offsetgroup": "apparel.tshirt",
         "orientation": "v",
         "showlegend": true,
         "type": "histogram",
         "x": [
          "apparel"
         ],
         "xaxis": "x",
         "yaxis": "y"
        },
        {
         "alignmentgroup": "True",
         "bingroup": "x",
         "hovertemplate": "category_code=apparel.jeans<br>category_class=%{x}<br>count=%{y}<extra></extra>",
         "legendgroup": "apparel.jeans",
         "marker": {
          "color": "#FF6692"
         },
         "name": "apparel.jeans",
         "offsetgroup": "apparel.jeans",
         "orientation": "v",
         "showlegend": true,
         "type": "histogram",
         "x": [
          "apparel",
          "apparel",
          "apparel"
         ],
         "xaxis": "x",
         "yaxis": "y"
        },
        {
         "alignmentgroup": "True",
         "bingroup": "x",
         "hovertemplate": "category_code=construction.tools.drill<br>category_class=%{x}<br>count=%{y}<extra></extra>",
         "legendgroup": "construction.tools.drill",
         "marker": {
          "color": "#B6E880"
         },
         "name": "construction.tools.drill",
         "offsetgroup": "construction.tools.drill",
         "orientation": "v",
         "showlegend": true,
         "type": "histogram",
         "x": [
          "construction",
          "construction",
          "construction",
          "construction"
         ],
         "xaxis": "x",
         "yaxis": "y"
        },
        {
         "alignmentgroup": "True",
         "bingroup": "x",
         "hovertemplate": "category_code=auto.accessories.compressor<br>category_class=%{x}<br>count=%{y}<extra></extra>",
         "legendgroup": "auto.accessories.compressor",
         "marker": {
          "color": "#FF97FF"
         },
         "name": "auto.accessories.compressor",
         "offsetgroup": "auto.accessories.compressor",
         "orientation": "v",
         "showlegend": true,
         "type": "histogram",
         "x": [
          "auto",
          "auto"
         ],
         "xaxis": "x",
         "yaxis": "y"
        },
        {
         "alignmentgroup": "True",
         "bingroup": "x",
         "hovertemplate": "category_code=computers.components.motherboard<br>category_class=%{x}<br>count=%{y}<extra></extra>",
         "legendgroup": "computers.components.motherboard",
         "marker": {
          "color": "#FECB52"
         },
         "name": "computers.components.motherboard",
         "offsetgroup": "computers.components.motherboard",
         "orientation": "v",
         "showlegend": true,
         "type": "histogram",
         "x": [
          "computers"
         ],
         "xaxis": "x",
         "yaxis": "y"
        },
        {
         "alignmentgroup": "True",
         "bingroup": "x",
         "hovertemplate": "category_code=computers.peripherals.printer<br>category_class=%{x}<br>count=%{y}<extra></extra>",
         "legendgroup": "computers.peripherals.printer",
         "marker": {
          "color": "#636efa"
         },
         "name": "computers.peripherals.printer",
         "offsetgroup": "computers.peripherals.printer",
         "orientation": "v",
         "showlegend": true,
         "type": "histogram",
         "x": [
          "computers",
          "computers"
         ],
         "xaxis": "x",
         "yaxis": "y"
        },
        {
         "alignmentgroup": "True",
         "bingroup": "x",
         "hovertemplate": "category_code=computers.desktop<br>category_class=%{x}<br>count=%{y}<extra></extra>",
         "legendgroup": "computers.desktop",
         "marker": {
          "color": "#EF553B"
         },
         "name": "computers.desktop",
         "offsetgroup": "computers.desktop",
         "orientation": "v",
         "showlegend": true,
         "type": "histogram",
         "x": [
          "computers"
         ],
         "xaxis": "x",
         "yaxis": "y"
        },
        {
         "alignmentgroup": "True",
         "bingroup": "x",
         "hovertemplate": "category_code=auto.accessories.player<br>category_class=%{x}<br>count=%{y}<extra></extra>",
         "legendgroup": "auto.accessories.player",
         "marker": {
          "color": "#00cc96"
         },
         "name": "auto.accessories.player",
         "offsetgroup": "auto.accessories.player",
         "orientation": "v",
         "showlegend": true,
         "type": "histogram",
         "x": [
          "auto",
          "auto",
          "auto",
          "auto",
          "auto"
         ],
         "xaxis": "x",
         "yaxis": "y"
        },
        {
         "alignmentgroup": "True",
         "bingroup": "x",
         "hovertemplate": "category_code=accessories.bag<br>category_class=%{x}<br>count=%{y}<extra></extra>",
         "legendgroup": "accessories.bag",
         "marker": {
          "color": "#ab63fa"
         },
         "name": "accessories.bag",
         "offsetgroup": "accessories.bag",
         "orientation": "v",
         "showlegend": true,
         "type": "histogram",
         "x": [
          "accessories"
         ],
         "xaxis": "x",
         "yaxis": "y"
        },
        {
         "alignmentgroup": "True",
         "bingroup": "x",
         "hovertemplate": "category_code=computers.components.videocards<br>category_class=%{x}<br>count=%{y}<extra></extra>",
         "legendgroup": "computers.components.videocards",
         "marker": {
          "color": "#FFA15A"
         },
         "name": "computers.components.videocards",
         "offsetgroup": "computers.components.videocards",
         "orientation": "v",
         "showlegend": true,
         "type": "histogram",
         "x": [
          "computers"
         ],
         "xaxis": "x",
         "yaxis": "y"
        },
        {
         "alignmentgroup": "True",
         "bingroup": "x",
         "hovertemplate": "category_code=furniture.bedroom.bed<br>category_class=%{x}<br>count=%{y}<extra></extra>",
         "legendgroup": "furniture.bedroom.bed",
         "marker": {
          "color": "#19d3f3"
         },
         "name": "furniture.bedroom.bed",
         "offsetgroup": "furniture.bedroom.bed",
         "orientation": "v",
         "showlegend": true,
         "type": "histogram",
         "x": [
          "furniture",
          "furniture",
          "furniture",
          "furniture"
         ],
         "xaxis": "x",
         "yaxis": "y"
        },
        {
         "alignmentgroup": "True",
         "bingroup": "x",
         "hovertemplate": "category_code=furniture.bathroom.bath<br>category_class=%{x}<br>count=%{y}<extra></extra>",
         "legendgroup": "furniture.bathroom.bath",
         "marker": {
          "color": "#FF6692"
         },
         "name": "furniture.bathroom.bath",
         "offsetgroup": "furniture.bathroom.bath",
         "orientation": "v",
         "showlegend": true,
         "type": "histogram",
         "x": [
          "furniture"
         ],
         "xaxis": "x",
         "yaxis": "y"
        },
        {
         "alignmentgroup": "True",
         "bingroup": "x",
         "hovertemplate": "category_code=electronics.audio.subwoofer<br>category_class=%{x}<br>count=%{y}<extra></extra>",
         "legendgroup": "electronics.audio.subwoofer",
         "marker": {
          "color": "#B6E880"
         },
         "name": "electronics.audio.subwoofer",
         "offsetgroup": "electronics.audio.subwoofer",
         "orientation": "v",
         "showlegend": true,
         "type": "histogram",
         "x": [
          "electronics",
          "electronics",
          "electronics",
          "electronics"
         ],
         "xaxis": "x",
         "yaxis": "y"
        },
        {
         "alignmentgroup": "True",
         "bingroup": "x",
         "hovertemplate": "category_code=construction.tools.welding<br>category_class=%{x}<br>count=%{y}<extra></extra>",
         "legendgroup": "construction.tools.welding",
         "marker": {
          "color": "#FF97FF"
         },
         "name": "construction.tools.welding",
         "offsetgroup": "construction.tools.welding",
         "orientation": "v",
         "showlegend": true,
         "type": "histogram",
         "x": [
          "construction"
         ],
         "xaxis": "x",
         "yaxis": "y"
        },
        {
         "alignmentgroup": "True",
         "bingroup": "x",
         "hovertemplate": "category_code=construction.tools.saw<br>category_class=%{x}<br>count=%{y}<extra></extra>",
         "legendgroup": "construction.tools.saw",
         "marker": {
          "color": "#FECB52"
         },
         "name": "construction.tools.saw",
         "offsetgroup": "construction.tools.saw",
         "orientation": "v",
         "showlegend": true,
         "type": "histogram",
         "x": [
          "construction"
         ],
         "xaxis": "x",
         "yaxis": "y"
        },
        {
         "alignmentgroup": "True",
         "bingroup": "x",
         "hovertemplate": "category_code=furniture.kitchen.table<br>category_class=%{x}<br>count=%{y}<extra></extra>",
         "legendgroup": "furniture.kitchen.table",
         "marker": {
          "color": "#636efa"
         },
         "name": "furniture.kitchen.table",
         "offsetgroup": "furniture.kitchen.table",
         "orientation": "v",
         "showlegend": true,
         "type": "histogram",
         "x": [
          "furniture"
         ],
         "xaxis": "x",
         "yaxis": "y"
        },
        {
         "alignmentgroup": "True",
         "bingroup": "x",
         "hovertemplate": "category_code=apparel.shoes<br>category_class=%{x}<br>count=%{y}<extra></extra>",
         "legendgroup": "apparel.shoes",
         "marker": {
          "color": "#EF553B"
         },
         "name": "apparel.shoes",
         "offsetgroup": "apparel.shoes",
         "orientation": "v",
         "showlegend": true,
         "type": "histogram",
         "x": [
          "apparel"
         ],
         "xaxis": "x",
         "yaxis": "y"
        },
        {
         "alignmentgroup": "True",
         "bingroup": "x",
         "hovertemplate": "category_code=construction.tools.light<br>category_class=%{x}<br>count=%{y}<extra></extra>",
         "legendgroup": "construction.tools.light",
         "marker": {
          "color": "#00cc96"
         },
         "name": "construction.tools.light",
         "offsetgroup": "construction.tools.light",
         "orientation": "v",
         "showlegend": true,
         "type": "histogram",
         "x": [
          "construction"
         ],
         "xaxis": "x",
         "yaxis": "y"
        },
        {
         "alignmentgroup": "True",
         "bingroup": "x",
         "hovertemplate": "category_code=apparel.shirt<br>category_class=%{x}<br>count=%{y}<extra></extra>",
         "legendgroup": "apparel.shirt",
         "marker": {
          "color": "#ab63fa"
         },
         "name": "apparel.shirt",
         "offsetgroup": "apparel.shirt",
         "orientation": "v",
         "showlegend": true,
         "type": "histogram",
         "x": [
          "apparel"
         ],
         "xaxis": "x",
         "yaxis": "y"
        },
        {
         "alignmentgroup": "True",
         "bingroup": "x",
         "hovertemplate": "category_code=construction.tools.painting<br>category_class=%{x}<br>count=%{y}<extra></extra>",
         "legendgroup": "construction.tools.painting",
         "marker": {
          "color": "#FFA15A"
         },
         "name": "construction.tools.painting",
         "offsetgroup": "construction.tools.painting",
         "orientation": "v",
         "showlegend": true,
         "type": "histogram",
         "x": [
          "construction"
         ],
         "xaxis": "x",
         "yaxis": "y"
        }
       ],
       "layout": {
        "barmode": "relative",
        "legend": {
         "title": {
          "text": "category_code"
         },
         "tracegroupgap": 0
        },
        "margin": {
         "t": 60
        },
        "template": {
         "data": {
          "bar": [
           {
            "error_x": {
             "color": "#2a3f5f"
            },
            "error_y": {
             "color": "#2a3f5f"
            },
            "marker": {
             "line": {
              "color": "#E5ECF6",
              "width": 0.5
             }
            },
            "type": "bar"
           }
          ],
          "barpolar": [
           {
            "marker": {
             "line": {
              "color": "#E5ECF6",
              "width": 0.5
             }
            },
            "type": "barpolar"
           }
          ],
          "carpet": [
           {
            "aaxis": {
             "endlinecolor": "#2a3f5f",
             "gridcolor": "white",
             "linecolor": "white",
             "minorgridcolor": "white",
             "startlinecolor": "#2a3f5f"
            },
            "baxis": {
             "endlinecolor": "#2a3f5f",
             "gridcolor": "white",
             "linecolor": "white",
             "minorgridcolor": "white",
             "startlinecolor": "#2a3f5f"
            },
            "type": "carpet"
           }
          ],
          "choropleth": [
           {
            "colorbar": {
             "outlinewidth": 0,
             "ticks": ""
            },
            "type": "choropleth"
           }
          ],
          "contour": [
           {
            "colorbar": {
             "outlinewidth": 0,
             "ticks": ""
            },
            "colorscale": [
             [
              0,
              "#0d0887"
             ],
             [
              0.1111111111111111,
              "#46039f"
             ],
             [
              0.2222222222222222,
              "#7201a8"
             ],
             [
              0.3333333333333333,
              "#9c179e"
             ],
             [
              0.4444444444444444,
              "#bd3786"
             ],
             [
              0.5555555555555556,
              "#d8576b"
             ],
             [
              0.6666666666666666,
              "#ed7953"
             ],
             [
              0.7777777777777778,
              "#fb9f3a"
             ],
             [
              0.8888888888888888,
              "#fdca26"
             ],
             [
              1,
              "#f0f921"
             ]
            ],
            "type": "contour"
           }
          ],
          "contourcarpet": [
           {
            "colorbar": {
             "outlinewidth": 0,
             "ticks": ""
            },
            "type": "contourcarpet"
           }
          ],
          "heatmap": [
           {
            "colorbar": {
             "outlinewidth": 0,
             "ticks": ""
            },
            "colorscale": [
             [
              0,
              "#0d0887"
             ],
             [
              0.1111111111111111,
              "#46039f"
             ],
             [
              0.2222222222222222,
              "#7201a8"
             ],
             [
              0.3333333333333333,
              "#9c179e"
             ],
             [
              0.4444444444444444,
              "#bd3786"
             ],
             [
              0.5555555555555556,
              "#d8576b"
             ],
             [
              0.6666666666666666,
              "#ed7953"
             ],
             [
              0.7777777777777778,
              "#fb9f3a"
             ],
             [
              0.8888888888888888,
              "#fdca26"
             ],
             [
              1,
              "#f0f921"
             ]
            ],
            "type": "heatmap"
           }
          ],
          "heatmapgl": [
           {
            "colorbar": {
             "outlinewidth": 0,
             "ticks": ""
            },
            "colorscale": [
             [
              0,
              "#0d0887"
             ],
             [
              0.1111111111111111,
              "#46039f"
             ],
             [
              0.2222222222222222,
              "#7201a8"
             ],
             [
              0.3333333333333333,
              "#9c179e"
             ],
             [
              0.4444444444444444,
              "#bd3786"
             ],
             [
              0.5555555555555556,
              "#d8576b"
             ],
             [
              0.6666666666666666,
              "#ed7953"
             ],
             [
              0.7777777777777778,
              "#fb9f3a"
             ],
             [
              0.8888888888888888,
              "#fdca26"
             ],
             [
              1,
              "#f0f921"
             ]
            ],
            "type": "heatmapgl"
           }
          ],
          "histogram": [
           {
            "marker": {
             "colorbar": {
              "outlinewidth": 0,
              "ticks": ""
             }
            },
            "type": "histogram"
           }
          ],
          "histogram2d": [
           {
            "colorbar": {
             "outlinewidth": 0,
             "ticks": ""
            },
            "colorscale": [
             [
              0,
              "#0d0887"
             ],
             [
              0.1111111111111111,
              "#46039f"
             ],
             [
              0.2222222222222222,
              "#7201a8"
             ],
             [
              0.3333333333333333,
              "#9c179e"
             ],
             [
              0.4444444444444444,
              "#bd3786"
             ],
             [
              0.5555555555555556,
              "#d8576b"
             ],
             [
              0.6666666666666666,
              "#ed7953"
             ],
             [
              0.7777777777777778,
              "#fb9f3a"
             ],
             [
              0.8888888888888888,
              "#fdca26"
             ],
             [
              1,
              "#f0f921"
             ]
            ],
            "type": "histogram2d"
           }
          ],
          "histogram2dcontour": [
           {
            "colorbar": {
             "outlinewidth": 0,
             "ticks": ""
            },
            "colorscale": [
             [
              0,
              "#0d0887"
             ],
             [
              0.1111111111111111,
              "#46039f"
             ],
             [
              0.2222222222222222,
              "#7201a8"
             ],
             [
              0.3333333333333333,
              "#9c179e"
             ],
             [
              0.4444444444444444,
              "#bd3786"
             ],
             [
              0.5555555555555556,
              "#d8576b"
             ],
             [
              0.6666666666666666,
              "#ed7953"
             ],
             [
              0.7777777777777778,
              "#fb9f3a"
             ],
             [
              0.8888888888888888,
              "#fdca26"
             ],
             [
              1,
              "#f0f921"
             ]
            ],
            "type": "histogram2dcontour"
           }
          ],
          "mesh3d": [
           {
            "colorbar": {
             "outlinewidth": 0,
             "ticks": ""
            },
            "type": "mesh3d"
           }
          ],
          "parcoords": [
           {
            "line": {
             "colorbar": {
              "outlinewidth": 0,
              "ticks": ""
             }
            },
            "type": "parcoords"
           }
          ],
          "pie": [
           {
            "automargin": true,
            "type": "pie"
           }
          ],
          "scatter": [
           {
            "marker": {
             "colorbar": {
              "outlinewidth": 0,
              "ticks": ""
             }
            },
            "type": "scatter"
           }
          ],
          "scatter3d": [
           {
            "line": {
             "colorbar": {
              "outlinewidth": 0,
              "ticks": ""
             }
            },
            "marker": {
             "colorbar": {
              "outlinewidth": 0,
              "ticks": ""
             }
            },
            "type": "scatter3d"
           }
          ],
          "scattercarpet": [
           {
            "marker": {
             "colorbar": {
              "outlinewidth": 0,
              "ticks": ""
             }
            },
            "type": "scattercarpet"
           }
          ],
          "scattergeo": [
           {
            "marker": {
             "colorbar": {
              "outlinewidth": 0,
              "ticks": ""
             }
            },
            "type": "scattergeo"
           }
          ],
          "scattergl": [
           {
            "marker": {
             "colorbar": {
              "outlinewidth": 0,
              "ticks": ""
             }
            },
            "type": "scattergl"
           }
          ],
          "scattermapbox": [
           {
            "marker": {
             "colorbar": {
              "outlinewidth": 0,
              "ticks": ""
             }
            },
            "type": "scattermapbox"
           }
          ],
          "scatterpolar": [
           {
            "marker": {
             "colorbar": {
              "outlinewidth": 0,
              "ticks": ""
             }
            },
            "type": "scatterpolar"
           }
          ],
          "scatterpolargl": [
           {
            "marker": {
             "colorbar": {
              "outlinewidth": 0,
              "ticks": ""
             }
            },
            "type": "scatterpolargl"
           }
          ],
          "scatterternary": [
           {
            "marker": {
             "colorbar": {
              "outlinewidth": 0,
              "ticks": ""
             }
            },
            "type": "scatterternary"
           }
          ],
          "surface": [
           {
            "colorbar": {
             "outlinewidth": 0,
             "ticks": ""
            },
            "colorscale": [
             [
              0,
              "#0d0887"
             ],
             [
              0.1111111111111111,
              "#46039f"
             ],
             [
              0.2222222222222222,
              "#7201a8"
             ],
             [
              0.3333333333333333,
              "#9c179e"
             ],
             [
              0.4444444444444444,
              "#bd3786"
             ],
             [
              0.5555555555555556,
              "#d8576b"
             ],
             [
              0.6666666666666666,
              "#ed7953"
             ],
             [
              0.7777777777777778,
              "#fb9f3a"
             ],
             [
              0.8888888888888888,
              "#fdca26"
             ],
             [
              1,
              "#f0f921"
             ]
            ],
            "type": "surface"
           }
          ],
          "table": [
           {
            "cells": {
             "fill": {
              "color": "#EBF0F8"
             },
             "line": {
              "color": "white"
             }
            },
            "header": {
             "fill": {
              "color": "#C8D4E3"
             },
             "line": {
              "color": "white"
             }
            },
            "type": "table"
           }
          ]
         },
         "layout": {
          "annotationdefaults": {
           "arrowcolor": "#2a3f5f",
           "arrowhead": 0,
           "arrowwidth": 1
          },
          "autotypenumbers": "strict",
          "coloraxis": {
           "colorbar": {
            "outlinewidth": 0,
            "ticks": ""
           }
          },
          "colorscale": {
           "diverging": [
            [
             0,
             "#8e0152"
            ],
            [
             0.1,
             "#c51b7d"
            ],
            [
             0.2,
             "#de77ae"
            ],
            [
             0.3,
             "#f1b6da"
            ],
            [
             0.4,
             "#fde0ef"
            ],
            [
             0.5,
             "#f7f7f7"
            ],
            [
             0.6,
             "#e6f5d0"
            ],
            [
             0.7,
             "#b8e186"
            ],
            [
             0.8,
             "#7fbc41"
            ],
            [
             0.9,
             "#4d9221"
            ],
            [
             1,
             "#276419"
            ]
           ],
           "sequential": [
            [
             0,
             "#0d0887"
            ],
            [
             0.1111111111111111,
             "#46039f"
            ],
            [
             0.2222222222222222,
             "#7201a8"
            ],
            [
             0.3333333333333333,
             "#9c179e"
            ],
            [
             0.4444444444444444,
             "#bd3786"
            ],
            [
             0.5555555555555556,
             "#d8576b"
            ],
            [
             0.6666666666666666,
             "#ed7953"
            ],
            [
             0.7777777777777778,
             "#fb9f3a"
            ],
            [
             0.8888888888888888,
             "#fdca26"
            ],
            [
             1,
             "#f0f921"
            ]
           ],
           "sequentialminus": [
            [
             0,
             "#0d0887"
            ],
            [
             0.1111111111111111,
             "#46039f"
            ],
            [
             0.2222222222222222,
             "#7201a8"
            ],
            [
             0.3333333333333333,
             "#9c179e"
            ],
            [
             0.4444444444444444,
             "#bd3786"
            ],
            [
             0.5555555555555556,
             "#d8576b"
            ],
            [
             0.6666666666666666,
             "#ed7953"
            ],
            [
             0.7777777777777778,
             "#fb9f3a"
            ],
            [
             0.8888888888888888,
             "#fdca26"
            ],
            [
             1,
             "#f0f921"
            ]
           ]
          },
          "colorway": [
           "#636efa",
           "#EF553B",
           "#00cc96",
           "#ab63fa",
           "#FFA15A",
           "#19d3f3",
           "#FF6692",
           "#B6E880",
           "#FF97FF",
           "#FECB52"
          ],
          "font": {
           "color": "#2a3f5f"
          },
          "geo": {
           "bgcolor": "white",
           "lakecolor": "white",
           "landcolor": "#E5ECF6",
           "showlakes": true,
           "showland": true,
           "subunitcolor": "white"
          },
          "hoverlabel": {
           "align": "left"
          },
          "hovermode": "closest",
          "mapbox": {
           "style": "light"
          },
          "paper_bgcolor": "white",
          "plot_bgcolor": "#E5ECF6",
          "polar": {
           "angularaxis": {
            "gridcolor": "white",
            "linecolor": "white",
            "ticks": ""
           },
           "bgcolor": "#E5ECF6",
           "radialaxis": {
            "gridcolor": "white",
            "linecolor": "white",
            "ticks": ""
           }
          },
          "scene": {
           "xaxis": {
            "backgroundcolor": "#E5ECF6",
            "gridcolor": "white",
            "gridwidth": 2,
            "linecolor": "white",
            "showbackground": true,
            "ticks": "",
            "zerolinecolor": "white"
           },
           "yaxis": {
            "backgroundcolor": "#E5ECF6",
            "gridcolor": "white",
            "gridwidth": 2,
            "linecolor": "white",
            "showbackground": true,
            "ticks": "",
            "zerolinecolor": "white"
           },
           "zaxis": {
            "backgroundcolor": "#E5ECF6",
            "gridcolor": "white",
            "gridwidth": 2,
            "linecolor": "white",
            "showbackground": true,
            "ticks": "",
            "zerolinecolor": "white"
           }
          },
          "shapedefaults": {
           "line": {
            "color": "#2a3f5f"
           }
          },
          "ternary": {
           "aaxis": {
            "gridcolor": "white",
            "linecolor": "white",
            "ticks": ""
           },
           "baxis": {
            "gridcolor": "white",
            "linecolor": "white",
            "ticks": ""
           },
           "bgcolor": "#E5ECF6",
           "caxis": {
            "gridcolor": "white",
            "linecolor": "white",
            "ticks": ""
           }
          },
          "title": {
           "x": 0.05
          },
          "xaxis": {
           "automargin": true,
           "gridcolor": "white",
           "linecolor": "white",
           "ticks": "",
           "title": {
            "standoff": 15
           },
           "zerolinecolor": "white",
           "zerolinewidth": 2
          },
          "yaxis": {
           "automargin": true,
           "gridcolor": "white",
           "linecolor": "white",
           "ticks": "",
           "title": {
            "standoff": 15
           },
           "zerolinecolor": "white",
           "zerolinewidth": 2
          }
         }
        },
        "xaxis": {
         "anchor": "y",
         "domain": [
          0,
          1
         ],
         "title": {
          "text": "category_class"
         }
        },
        "yaxis": {
         "anchor": "x",
         "domain": [
          0,
          1
         ],
         "title": {
          "text": "count"
         }
        }
       }
      }
     },
     "metadata": {}
    }
   ],
   "source": [
    "px.histogram(pdf, x=\"category_class\", color=\"category_code\")"
   ]
  },
  {
   "source": [
    "Mehrere Category Codes gehören immer nur zu einer Category Class."
   ],
   "cell_type": "markdown",
   "metadata": {}
  },
  {
   "source": [
    "##### Category Class - Category ID"
   ],
   "cell_type": "markdown",
   "metadata": {}
  },
  {
   "cell_type": "code",
   "execution_count": 99,
   "metadata": {},
   "outputs": [
    {
     "output_type": "stream",
     "name": "stdout",
     "text": [
      "+--------------+-----------------+\n|Category_Class|Count_Category_ID|\n+--------------+-----------------+\n|     computers|                5|\n|          auto|                2|\n|          null|               38|\n|       apparel|                4|\n|    appliances|                6|\n|     furniture|                6|\n|   accessories|                1|\n|   electronics|                7|\n|  construction|                5|\n+--------------+-----------------+\n\n"
     ]
    }
   ],
   "source": [
    "spark.sql(\"SELECT Category_Class, COUNT(DISTINCT(Category_ID)) AS Count_Category_ID from Product_Data GROUP BY Category_Class\").show()"
   ]
  },
  {
   "cell_type": "code",
   "execution_count": 102,
   "metadata": {},
   "outputs": [
    {
     "output_type": "stream",
     "name": "stdout",
     "text": [
      "+-------------------+--------------------+\n|        Category_ID|Count_Category_class|\n+-------------------+--------------------+\n|2127425434894205468|                   1|\n|2053013552326770905|                   1|\n|2053013556311359947|                   1|\n|2146660887346282824|                   1|\n|2053013563810775923|                   1|\n|2053013554155487563|                   1|\n|2053013560530830019|                   1|\n|2053013555631882655|                   1|\n|2053013563944993659|                   1|\n|2053013561579406073|                   1|\n|2053013559792632471|                   1|\n|2173216765583032544|                   1|\n|2053013558433677895|                   1|\n|2100825583029060150|                   1|\n|2127425436764865054|                   1|\n|2116907524572577889|                   1|\n|2053013558920217191|                   1|\n|2053013565983425517|                   1|\n|2053013557192163841|                   1|\n|2053013554415534427|                   1|\n+-------------------+--------------------+\nonly showing top 20 rows\n\n"
     ]
    }
   ],
   "source": [
    "spark.sql(\"SELECT Category_ID, COUNT(DISTINCT(Category_class)) AS Count_Category_class from Product_Data GROUP BY Category_ID ORDER BY Count_Category_class DESC\").show()"
   ]
  },
  {
   "cell_type": "code",
   "execution_count": 101,
   "metadata": {},
   "outputs": [
    {
     "output_type": "stream",
     "name": "stdout",
     "text": [
      "+--------------+-------------------+\n|Category_Class|        Category_ID|\n+--------------+-------------------+\n|     furniture|2053013559901684381|\n|     furniture|2053013559792632471|\n|     furniture|2053013558433677895|\n|     furniture|2053013557477376525|\n|     furniture|2053013557192163841|\n|     furniture|2053013555464110485|\n|   electronics|2053013561579406073|\n|   electronics|2053013560530830019|\n|   electronics|2053013555631882655|\n|   electronics|2053013554658804075|\n|   electronics|2053013554415534427|\n|   electronics|2053013553945772349|\n|   electronics|2053013553341792533|\n|  construction|2144916515806248980|\n|  construction|2127425436764865054|\n|  construction|2127425434894205468|\n|  construction|2098563450757186313|\n|  construction|2053013556311359947|\n|     computers|2053013559868129947|\n|     computers|2053013558920217191|\n+--------------+-------------------+\nonly showing top 20 rows\n\n"
     ]
    }
   ],
   "source": [
    "spark.sql(\"SELECT Category_Class, Category_ID from Product_Data GROUP BY Category_Class, Category_ID ORDER BY Category_Class DESC, Category_ID DESC\").show()"
   ]
  },
  {
   "cell_type": "code",
   "execution_count": 89,
   "metadata": {},
   "outputs": [
    {
     "output_type": "display_data",
     "data": {
      "application/vnd.plotly.v1+json": {
       "config": {
        "plotlyServerURL": "https://plot.ly"
       },
       "data": [
        {
         "alignmentgroup": "True",
         "bingroup": "x",
         "hovertemplate": "category_id=2053013555631882655<br>category_class=%{x}<br>count=%{y}<extra></extra>",
         "legendgroup": "2053013555631882655",
         "marker": {
          "color": "#636efa"
         },
         "name": "2053013555631882655",
         "offsetgroup": "2053013555631882655",
         "orientation": "v",
         "showlegend": true,
         "type": "histogram",
         "x": [
          "electronics",
          "electronics",
          "electronics",
          "electronics",
          "electronics",
          "electronics",
          "electronics",
          "electronics",
          "electronics",
          "electronics",
          "electronics",
          "electronics",
          "electronics",
          "electronics",
          "electronics",
          "electronics",
          "electronics",
          "electronics",
          "electronics",
          "electronics",
          "electronics",
          "electronics",
          "electronics",
          "electronics",
          "electronics",
          "electronics",
          "electronics",
          "electronics",
          "electronics",
          "electronics",
          "electronics",
          "electronics",
          "electronics",
          "electronics",
          "electronics",
          "electronics",
          "electronics",
          "electronics"
         ],
         "xaxis": "x",
         "yaxis": "y"
        },
        {
         "alignmentgroup": "True",
         "bingroup": "x",
         "hovertemplate": "category_id=2053013566100866035<br>category_class=%{x}<br>count=%{y}<extra></extra>",
         "legendgroup": "2053013566100866035",
         "marker": {
          "color": "#EF553B"
         },
         "name": "2053013566100866035",
         "offsetgroup": "2053013566100866035",
         "orientation": "v",
         "showlegend": true,
         "type": "histogram",
         "x": [
          "appliances",
          "appliances"
         ],
         "xaxis": "x",
         "yaxis": "y"
        },
        {
         "alignmentgroup": "True",
         "bingroup": "x",
         "hovertemplate": "category_id=2053013553853497655<br>category_class=%{x}<br>count=%{y}<extra></extra>",
         "legendgroup": "2053013553853497655",
         "marker": {
          "color": "#00cc96"
         },
         "name": "2053013553853497655",
         "offsetgroup": "2053013553853497655",
         "orientation": "v",
         "showlegend": true,
         "type": "histogram",
         "x": [
          "unknown",
          "unknown",
          "unknown",
          "unknown",
          "unknown",
          "unknown",
          "unknown",
          "unknown",
          "unknown"
         ],
         "xaxis": "x",
         "yaxis": "y"
        },
        {
         "alignmentgroup": "True",
         "bingroup": "x",
         "hovertemplate": "category_id=2053013563810775923<br>category_class=%{x}<br>count=%{y}<extra></extra>",
         "legendgroup": "2053013563810775923",
         "marker": {
          "color": "#ab63fa"
         },
         "name": "2053013563810775923",
         "offsetgroup": "2053013563810775923",
         "orientation": "v",
         "showlegend": true,
         "type": "histogram",
         "x": [
          "appliances"
         ],
         "xaxis": "x",
         "yaxis": "y"
        },
        {
         "alignmentgroup": "True",
         "bingroup": "x",
         "hovertemplate": "category_id=2053013558920217191<br>category_class=%{x}<br>count=%{y}<extra></extra>",
         "legendgroup": "2053013558920217191",
         "marker": {
          "color": "#FFA15A"
         },
         "name": "2053013558920217191",
         "offsetgroup": "2053013558920217191",
         "orientation": "v",
         "showlegend": true,
         "type": "histogram",
         "x": [
          "computers",
          "computers",
          "computers",
          "computers",
          "computers",
          "computers",
          "computers",
          "computers",
          "computers",
          "computers",
          "computers",
          "computers",
          "computers",
          "computers",
          "computers",
          "computers",
          "computers",
          "computers"
         ],
         "xaxis": "x",
         "yaxis": "y"
        },
        {
         "alignmentgroup": "True",
         "bingroup": "x",
         "hovertemplate": "category_id=2053013558190408249<br>category_class=%{x}<br>count=%{y}<extra></extra>",
         "legendgroup": "2053013558190408249",
         "marker": {
          "color": "#19d3f3"
         },
         "name": "2053013558190408249",
         "offsetgroup": "2053013558190408249",
         "orientation": "v",
         "showlegend": true,
         "type": "histogram",
         "x": [
          "unknown"
         ],
         "xaxis": "x",
         "yaxis": "y"
        },
        {
         "alignmentgroup": "True",
         "bingroup": "x",
         "hovertemplate": "category_id=2053013553559896355<br>category_class=%{x}<br>count=%{y}<extra></extra>",
         "legendgroup": "2053013553559896355",
         "marker": {
          "color": "#FF6692"
         },
         "name": "2053013553559896355",
         "offsetgroup": "2053013553559896355",
         "orientation": "v",
         "showlegend": true,
         "type": "histogram",
         "x": [
          "unknown",
          "unknown",
          "unknown",
          "unknown",
          "unknown",
          "unknown",
          "unknown",
          "unknown",
          "unknown",
          "unknown",
          "unknown",
          "unknown"
         ],
         "xaxis": "x",
         "yaxis": "y"
        },
        {
         "alignmentgroup": "True",
         "bingroup": "x",
         "hovertemplate": "category_id=2053013559792632471<br>category_class=%{x}<br>count=%{y}<extra></extra>",
         "legendgroup": "2053013559792632471",
         "marker": {
          "color": "#B6E880"
         },
         "name": "2053013559792632471",
         "offsetgroup": "2053013559792632471",
         "orientation": "v",
         "showlegend": true,
         "type": "histogram",
         "x": [
          "furniture",
          "furniture"
         ],
         "xaxis": "x",
         "yaxis": "y"
        },
        {
         "alignmentgroup": "True",
         "bingroup": "x",
         "hovertemplate": "category_id=2053013563911439225<br>category_class=%{x}<br>count=%{y}<extra></extra>",
         "legendgroup": "2053013563911439225",
         "marker": {
          "color": "#FF97FF"
         },
         "name": "2053013563911439225",
         "offsetgroup": "2053013563911439225",
         "orientation": "v",
         "showlegend": true,
         "type": "histogram",
         "x": [
          "appliances",
          "appliances",
          "appliances",
          "appliances",
          "appliances"
         ],
         "xaxis": "x",
         "yaxis": "y"
        },
        {
         "alignmentgroup": "True",
         "bingroup": "x",
         "hovertemplate": "category_id=2053013559901684381<br>category_class=%{x}<br>count=%{y}<extra></extra>",
         "legendgroup": "2053013559901684381",
         "marker": {
          "color": "#FECB52"
         },
         "name": "2053013559901684381",
         "offsetgroup": "2053013559901684381",
         "orientation": "v",
         "showlegend": true,
         "type": "histogram",
         "x": [
          "furniture",
          "furniture",
          "furniture",
          "furniture",
          "furniture",
          "furniture"
         ],
         "xaxis": "x",
         "yaxis": "y"
        },
        {
         "alignmentgroup": "True",
         "bingroup": "x",
         "hovertemplate": "category_id=2060981320581906480<br>category_class=%{x}<br>count=%{y}<extra></extra>",
         "legendgroup": "2060981320581906480",
         "marker": {
          "color": "#636efa"
         },
         "name": "2060981320581906480",
         "offsetgroup": "2060981320581906480",
         "orientation": "v",
         "showlegend": true,
         "type": "histogram",
         "x": [
          "unknown",
          "unknown"
         ],
         "xaxis": "x",
         "yaxis": "y"
        },
        {
         "alignmentgroup": "True",
         "bingroup": "x",
         "hovertemplate": "category_id=2053013563944993659<br>category_class=%{x}<br>count=%{y}<extra></extra>",
         "legendgroup": "2053013563944993659",
         "marker": {
          "color": "#EF553B"
         },
         "name": "2053013563944993659",
         "offsetgroup": "2053013563944993659",
         "orientation": "v",
         "showlegend": true,
         "type": "histogram",
         "x": [
          "appliances",
          "appliances",
          "appliances",
          "appliances"
         ],
         "xaxis": "x",
         "yaxis": "y"
        },
        {
         "alignmentgroup": "True",
         "bingroup": "x",
         "hovertemplate": "category_id=2053013562183385881<br>category_class=%{x}<br>count=%{y}<extra></extra>",
         "legendgroup": "2053013562183385881",
         "marker": {
          "color": "#00cc96"
         },
         "name": "2053013562183385881",
         "offsetgroup": "2053013562183385881",
         "orientation": "v",
         "showlegend": true,
         "type": "histogram",
         "x": [
          "unknown"
         ],
         "xaxis": "x",
         "yaxis": "y"
        },
        {
         "alignmentgroup": "True",
         "bingroup": "x",
         "hovertemplate": "category_id=2053013563391345499<br>category_class=%{x}<br>count=%{y}<extra></extra>",
         "legendgroup": "2053013563391345499",
         "marker": {
          "color": "#ab63fa"
         },
         "name": "2053013563391345499",
         "offsetgroup": "2053013563391345499",
         "orientation": "v",
         "showlegend": true,
         "type": "histogram",
         "x": [
          "unknown",
          "unknown"
         ],
         "xaxis": "x",
         "yaxis": "y"
        },
        {
         "alignmentgroup": "True",
         "bingroup": "x",
         "hovertemplate": "category_id=2053013553375346967<br>category_class=%{x}<br>count=%{y}<extra></extra>",
         "legendgroup": "2053013553375346967",
         "marker": {
          "color": "#FFA15A"
         },
         "name": "2053013553375346967",
         "offsetgroup": "2053013553375346967",
         "orientation": "v",
         "showlegend": true,
         "type": "histogram",
         "x": [
          "unknown",
          "unknown"
         ],
         "xaxis": "x",
         "yaxis": "y"
        },
        {
         "alignmentgroup": "True",
         "bingroup": "x",
         "hovertemplate": "category_id=2053013562837697343<br>category_class=%{x}<br>count=%{y}<extra></extra>",
         "legendgroup": "2053013562837697343",
         "marker": {
          "color": "#19d3f3"
         },
         "name": "2053013562837697343",
         "offsetgroup": "2053013562837697343",
         "orientation": "v",
         "showlegend": true,
         "type": "histogram",
         "x": [
          "unknown",
          "unknown"
         ],
         "xaxis": "x",
         "yaxis": "y"
        },
        {
         "alignmentgroup": "True",
         "bingroup": "x",
         "hovertemplate": "category_id=2053013558752445019<br>category_class=%{x}<br>count=%{y}<extra></extra>",
         "legendgroup": "2053013558752445019",
         "marker": {
          "color": "#FF6692"
         },
         "name": "2053013558752445019",
         "offsetgroup": "2053013558752445019",
         "orientation": "v",
         "showlegend": true,
         "type": "histogram",
         "x": [
          "unknown"
         ],
         "xaxis": "x",
         "yaxis": "y"
        },
        {
         "alignmentgroup": "True",
         "bingroup": "x",
         "hovertemplate": "category_id=2090228413959766319<br>category_class=%{x}<br>count=%{y}<extra></extra>",
         "legendgroup": "2090228413959766319",
         "marker": {
          "color": "#B6E880"
         },
         "name": "2090228413959766319",
         "offsetgroup": "2090228413959766319",
         "orientation": "v",
         "showlegend": true,
         "type": "histogram",
         "x": [
          "unknown",
          "unknown",
          "unknown",
          "unknown"
         ],
         "xaxis": "x",
         "yaxis": "y"
        },
        {
         "alignmentgroup": "True",
         "bingroup": "x",
         "hovertemplate": "category_id=2053013556110033341<br>category_class=%{x}<br>count=%{y}<extra></extra>",
         "legendgroup": "2053013556110033341",
         "marker": {
          "color": "#FF97FF"
         },
         "name": "2053013556110033341",
         "offsetgroup": "2053013556110033341",
         "orientation": "v",
         "showlegend": true,
         "type": "histogram",
         "x": [
          "unknown"
         ],
         "xaxis": "x",
         "yaxis": "y"
        },
        {
         "alignmentgroup": "True",
         "bingroup": "x",
         "hovertemplate": "category_id=2053013556168753601<br>category_class=%{x}<br>count=%{y}<extra></extra>",
         "legendgroup": "2053013556168753601",
         "marker": {
          "color": "#FECB52"
         },
         "name": "2053013556168753601",
         "offsetgroup": "2053013556168753601",
         "orientation": "v",
         "showlegend": true,
         "type": "histogram",
         "x": [
          "unknown",
          "unknown",
          "unknown",
          "unknown",
          "unknown",
          "unknown"
         ],
         "xaxis": "x",
         "yaxis": "y"
        },
        {
         "alignmentgroup": "True",
         "bingroup": "x",
         "hovertemplate": "category_id=2053013554994348409<br>category_class=%{x}<br>count=%{y}<extra></extra>",
         "legendgroup": "2053013554994348409",
         "marker": {
          "color": "#636efa"
         },
         "name": "2053013554994348409",
         "offsetgroup": "2053013554994348409",
         "orientation": "v",
         "showlegend": true,
         "type": "histogram",
         "x": [
          "unknown",
          "unknown"
         ],
         "xaxis": "x",
         "yaxis": "y"
        },
        {
         "alignmentgroup": "True",
         "bingroup": "x",
         "hovertemplate": "category_id=2137704922018218396<br>category_class=%{x}<br>count=%{y}<extra></extra>",
         "legendgroup": "2137704922018218396",
         "marker": {
          "color": "#EF553B"
         },
         "name": "2137704922018218396",
         "offsetgroup": "2137704922018218396",
         "orientation": "v",
         "showlegend": true,
         "type": "histogram",
         "x": [
          "unknown",
          "unknown"
         ],
         "xaxis": "x",
         "yaxis": "y"
        },
        {
         "alignmentgroup": "True",
         "bingroup": "x",
         "hovertemplate": "category_id=2053013553484398879<br>category_class=%{x}<br>count=%{y}<extra></extra>",
         "legendgroup": "2053013553484398879",
         "marker": {
          "color": "#00cc96"
         },
         "name": "2053013553484398879",
         "offsetgroup": "2053013553484398879",
         "orientation": "v",
         "showlegend": true,
         "type": "histogram",
         "x": [
          "unknown",
          "unknown"
         ],
         "xaxis": "x",
         "yaxis": "y"
        },
        {
         "alignmentgroup": "True",
         "bingroup": "x",
         "hovertemplate": "category_id=2053013554658804075<br>category_class=%{x}<br>count=%{y}<extra></extra>",
         "legendgroup": "2053013554658804075",
         "marker": {
          "color": "#ab63fa"
         },
         "name": "2053013554658804075",
         "offsetgroup": "2053013554658804075",
         "orientation": "v",
         "showlegend": true,
         "type": "histogram",
         "x": [
          "electronics",
          "electronics",
          "electronics",
          "electronics",
          "electronics"
         ],
         "xaxis": "x",
         "yaxis": "y"
        },
        {
         "alignmentgroup": "True",
         "bingroup": "x",
         "hovertemplate": "category_id=2053013565983425517<br>category_class=%{x}<br>count=%{y}<extra></extra>",
         "legendgroup": "2053013565983425517",
         "marker": {
          "color": "#FFA15A"
         },
         "name": "2053013565983425517",
         "offsetgroup": "2053013565983425517",
         "orientation": "v",
         "showlegend": true,
         "type": "histogram",
         "x": [
          "appliances"
         ],
         "xaxis": "x",
         "yaxis": "y"
        },
        {
         "alignmentgroup": "True",
         "bingroup": "x",
         "hovertemplate": "category_id=2079713978300236035<br>category_class=%{x}<br>count=%{y}<extra></extra>",
         "legendgroup": "2079713978300236035",
         "marker": {
          "color": "#19d3f3"
         },
         "name": "2079713978300236035",
         "offsetgroup": "2079713978300236035",
         "orientation": "v",
         "showlegend": true,
         "type": "histogram",
         "x": [
          "unknown",
          "unknown"
         ],
         "xaxis": "x",
         "yaxis": "y"
        },
        {
         "alignmentgroup": "True",
         "bingroup": "x",
         "hovertemplate": "category_id=2053013560555995845<br>category_class=%{x}<br>count=%{y}<extra></extra>",
         "legendgroup": "2053013560555995845",
         "marker": {
          "color": "#FF6692"
         },
         "name": "2053013560555995845",
         "offsetgroup": "2053013560555995845",
         "orientation": "v",
         "showlegend": true,
         "type": "histogram",
         "x": [
          "unknown",
          "unknown"
         ],
         "xaxis": "x",
         "yaxis": "y"
        },
        {
         "alignmentgroup": "True",
         "bingroup": "x",
         "hovertemplate": "category_id=2053013552326770905<br>category_class=%{x}<br>count=%{y}<extra></extra>",
         "legendgroup": "2053013552326770905",
         "marker": {
          "color": "#B6E880"
         },
         "name": "2053013552326770905",
         "offsetgroup": "2053013552326770905",
         "orientation": "v",
         "showlegend": true,
         "type": "histogram",
         "x": [
          "appliances"
         ],
         "xaxis": "x",
         "yaxis": "y"
        },
        {
         "alignmentgroup": "True",
         "bingroup": "x",
         "hovertemplate": "category_id=2053013561218695907<br>category_class=%{x}<br>count=%{y}<extra></extra>",
         "legendgroup": "2053013561218695907",
         "marker": {
          "color": "#FF97FF"
         },
         "name": "2053013561218695907",
         "offsetgroup": "2053013561218695907",
         "orientation": "v",
         "showlegend": true,
         "type": "histogram",
         "x": [
          "unknown",
          "unknown"
         ],
         "xaxis": "x",
         "yaxis": "y"
        },
        {
         "alignmentgroup": "True",
         "bingroup": "x",
         "hovertemplate": "category_id=2053013557955527211<br>category_class=%{x}<br>count=%{y}<extra></extra>",
         "legendgroup": "2053013557955527211",
         "marker": {
          "color": "#FECB52"
         },
         "name": "2053013557955527211",
         "offsetgroup": "2053013557955527211",
         "orientation": "v",
         "showlegend": true,
         "type": "histogram",
         "x": [
          "unknown",
          "unknown"
         ],
         "xaxis": "x",
         "yaxis": "y"
        },
        {
         "alignmentgroup": "True",
         "bingroup": "x",
         "hovertemplate": "category_id=2053013560530830019<br>category_class=%{x}<br>count=%{y}<extra></extra>",
         "legendgroup": "2053013560530830019",
         "marker": {
          "color": "#636efa"
         },
         "name": "2053013560530830019",
         "offsetgroup": "2053013560530830019",
         "orientation": "v",
         "showlegend": true,
         "type": "histogram",
         "x": [
          "electronics"
         ],
         "xaxis": "x",
         "yaxis": "y"
        },
        {
         "alignmentgroup": "True",
         "bingroup": "x",
         "hovertemplate": "category_id=2053013563651392361<br>category_class=%{x}<br>count=%{y}<extra></extra>",
         "legendgroup": "2053013563651392361",
         "marker": {
          "color": "#EF553B"
         },
         "name": "2053013563651392361",
         "offsetgroup": "2053013563651392361",
         "orientation": "v",
         "showlegend": true,
         "type": "histogram",
         "x": [
          "unknown",
          "unknown",
          "unknown",
          "unknown"
         ],
         "xaxis": "x",
         "yaxis": "y"
        },
        {
         "alignmentgroup": "True",
         "bingroup": "x",
         "hovertemplate": "category_id=2053013561579406073<br>category_class=%{x}<br>count=%{y}<extra></extra>",
         "legendgroup": "2053013561579406073",
         "marker": {
          "color": "#00cc96"
         },
         "name": "2053013561579406073",
         "offsetgroup": "2053013561579406073",
         "orientation": "v",
         "showlegend": true,
         "type": "histogram",
         "x": [
          "electronics",
          "electronics",
          "electronics",
          "electronics",
          "electronics",
          "electronics"
         ],
         "xaxis": "x",
         "yaxis": "y"
        },
        {
         "alignmentgroup": "True",
         "bingroup": "x",
         "hovertemplate": "category_id=2053013554415534427<br>category_class=%{x}<br>count=%{y}<extra></extra>",
         "legendgroup": "2053013554415534427",
         "marker": {
          "color": "#ab63fa"
         },
         "name": "2053013554415534427",
         "offsetgroup": "2053013554415534427",
         "orientation": "v",
         "showlegend": true,
         "type": "histogram",
         "x": [
          "electronics"
         ],
         "xaxis": "x",
         "yaxis": "y"
        },
        {
         "alignmentgroup": "True",
         "bingroup": "x",
         "hovertemplate": "category_id=2146660887346282824<br>category_class=%{x}<br>count=%{y}<extra></extra>",
         "legendgroup": "2146660887346282824",
         "marker": {
          "color": "#FFA15A"
         },
         "name": "2146660887346282824",
         "offsetgroup": "2146660887346282824",
         "orientation": "v",
         "showlegend": true,
         "type": "histogram",
         "x": [
          "apparel"
         ],
         "xaxis": "x",
         "yaxis": "y"
        },
        {
         "alignmentgroup": "True",
         "bingroup": "x",
         "hovertemplate": "category_id=2100825583029060150<br>category_class=%{x}<br>count=%{y}<extra></extra>",
         "legendgroup": "2100825583029060150",
         "marker": {
          "color": "#19d3f3"
         },
         "name": "2100825583029060150",
         "offsetgroup": "2100825583029060150",
         "orientation": "v",
         "showlegend": true,
         "type": "histogram",
         "x": [
          "apparel",
          "apparel",
          "apparel"
         ],
         "xaxis": "x",
         "yaxis": "y"
        },
        {
         "alignmentgroup": "True",
         "bingroup": "x",
         "hovertemplate": "category_id=2053013561277416167<br>category_class=%{x}<br>count=%{y}<extra></extra>",
         "legendgroup": "2053013561277416167",
         "marker": {
          "color": "#FF6692"
         },
         "name": "2053013561277416167",
         "offsetgroup": "2053013561277416167",
         "orientation": "v",
         "showlegend": true,
         "type": "histogram",
         "x": [
          "unknown"
         ],
         "xaxis": "x",
         "yaxis": "y"
        },
        {
         "alignmentgroup": "True",
         "bingroup": "x",
         "hovertemplate": "category_id=2053013559675191951<br>category_class=%{x}<br>count=%{y}<extra></extra>",
         "legendgroup": "2053013559675191951",
         "marker": {
          "color": "#B6E880"
         },
         "name": "2053013559675191951",
         "offsetgroup": "2053013559675191951",
         "orientation": "v",
         "showlegend": true,
         "type": "histogram",
         "x": [
          "unknown"
         ],
         "xaxis": "x",
         "yaxis": "y"
        },
        {
         "alignmentgroup": "True",
         "bingroup": "x",
         "hovertemplate": "category_id=2053013553887052089<br>category_class=%{x}<br>count=%{y}<extra></extra>",
         "legendgroup": "2053013553887052089",
         "marker": {
          "color": "#FF97FF"
         },
         "name": "2053013553887052089",
         "offsetgroup": "2053013553887052089",
         "orientation": "v",
         "showlegend": true,
         "type": "histogram",
         "x": [
          "unknown"
         ],
         "xaxis": "x",
         "yaxis": "y"
        },
        {
         "alignmentgroup": "True",
         "bingroup": "x",
         "hovertemplate": "category_id=2053013563215184719<br>category_class=%{x}<br>count=%{y}<extra></extra>",
         "legendgroup": "2053013563215184719",
         "marker": {
          "color": "#FECB52"
         },
         "name": "2053013563215184719",
         "offsetgroup": "2053013563215184719",
         "orientation": "v",
         "showlegend": true,
         "type": "histogram",
         "x": [
          "unknown",
          "unknown",
          "unknown",
          "unknown"
         ],
         "xaxis": "x",
         "yaxis": "y"
        },
        {
         "alignmentgroup": "True",
         "bingroup": "x",
         "hovertemplate": "category_id=2055156924315337497<br>category_class=%{x}<br>count=%{y}<extra></extra>",
         "legendgroup": "2055156924315337497",
         "marker": {
          "color": "#636efa"
         },
         "name": "2055156924315337497",
         "offsetgroup": "2055156924315337497",
         "orientation": "v",
         "showlegend": true,
         "type": "histogram",
         "x": [
          "unknown"
         ],
         "xaxis": "x",
         "yaxis": "y"
        },
        {
         "alignmentgroup": "True",
         "bingroup": "x",
         "hovertemplate": "category_id=2152167773222993940<br>category_class=%{x}<br>count=%{y}<extra></extra>",
         "legendgroup": "2152167773222993940",
         "marker": {
          "color": "#EF553B"
         },
         "name": "2152167773222993940",
         "offsetgroup": "2152167773222993940",
         "orientation": "v",
         "showlegend": true,
         "type": "histogram",
         "x": [
          "unknown"
         ],
         "xaxis": "x",
         "yaxis": "y"
        },
        {
         "alignmentgroup": "True",
         "bingroup": "x",
         "hovertemplate": "category_id=2053013558223962683<br>category_class=%{x}<br>count=%{y}<extra></extra>",
         "legendgroup": "2053013558223962683",
         "marker": {
          "color": "#00cc96"
         },
         "name": "2053013558223962683",
         "offsetgroup": "2053013558223962683",
         "orientation": "v",
         "showlegend": true,
         "type": "histogram",
         "x": [
          "unknown"
         ],
         "xaxis": "x",
         "yaxis": "y"
        },
        {
         "alignmentgroup": "True",
         "bingroup": "x",
         "hovertemplate": "category_id=2053013556311359947<br>category_class=%{x}<br>count=%{y}<extra></extra>",
         "legendgroup": "2053013556311359947",
         "marker": {
          "color": "#ab63fa"
         },
         "name": "2053013556311359947",
         "offsetgroup": "2053013556311359947",
         "orientation": "v",
         "showlegend": true,
         "type": "histogram",
         "x": [
          "construction",
          "construction",
          "construction",
          "construction"
         ],
         "xaxis": "x",
         "yaxis": "y"
        },
        {
         "alignmentgroup": "True",
         "bingroup": "x",
         "hovertemplate": "category_id=2053013553115300101<br>category_class=%{x}<br>count=%{y}<extra></extra>",
         "legendgroup": "2053013553115300101",
         "marker": {
          "color": "#FFA15A"
         },
         "name": "2053013553115300101",
         "offsetgroup": "2053013553115300101",
         "orientation": "v",
         "showlegend": true,
         "type": "histogram",
         "x": [
          "unknown"
         ],
         "xaxis": "x",
         "yaxis": "y"
        },
        {
         "alignmentgroup": "True",
         "bingroup": "x",
         "hovertemplate": "category_id=2134905044833666047<br>category_class=%{x}<br>count=%{y}<extra></extra>",
         "legendgroup": "2134905044833666047",
         "marker": {
          "color": "#19d3f3"
         },
         "name": "2134905044833666047",
         "offsetgroup": "2134905044833666047",
         "orientation": "v",
         "showlegend": true,
         "type": "histogram",
         "x": [
          "auto",
          "auto"
         ],
         "xaxis": "x",
         "yaxis": "y"
        },
        {
         "alignmentgroup": "True",
         "bingroup": "x",
         "hovertemplate": "category_id=2053013554155487563<br>category_class=%{x}<br>count=%{y}<extra></extra>",
         "legendgroup": "2053013554155487563",
         "marker": {
          "color": "#FF6692"
         },
         "name": "2053013554155487563",
         "offsetgroup": "2053013554155487563",
         "orientation": "v",
         "showlegend": true,
         "type": "histogram",
         "x": [
          "computers"
         ],
         "xaxis": "x",
         "yaxis": "y"
        },
        {
         "alignmentgroup": "True",
         "bingroup": "x",
         "hovertemplate": "category_id=2053013553526341921<br>category_class=%{x}<br>count=%{y}<extra></extra>",
         "legendgroup": "2053013553526341921",
         "marker": {
          "color": "#B6E880"
         },
         "name": "2053013553526341921",
         "offsetgroup": "2053013553526341921",
         "orientation": "v",
         "showlegend": true,
         "type": "histogram",
         "x": [
          "unknown",
          "unknown"
         ],
         "xaxis": "x",
         "yaxis": "y"
        },
        {
         "alignmentgroup": "True",
         "bingroup": "x",
         "hovertemplate": "category_id=2053013553056579841<br>category_class=%{x}<br>count=%{y}<extra></extra>",
         "legendgroup": "2053013553056579841",
         "marker": {
          "color": "#FF97FF"
         },
         "name": "2053013553056579841",
         "offsetgroup": "2053013553056579841",
         "orientation": "v",
         "showlegend": true,
         "type": "histogram",
         "x": [
          "computers",
          "computers"
         ],
         "xaxis": "x",
         "yaxis": "y"
        },
        {
         "alignmentgroup": "True",
         "bingroup": "x",
         "hovertemplate": "category_id=2053013559868129947<br>category_class=%{x}<br>count=%{y}<extra></extra>",
         "legendgroup": "2053013559868129947",
         "marker": {
          "color": "#FECB52"
         },
         "name": "2053013559868129947",
         "offsetgroup": "2053013559868129947",
         "orientation": "v",
         "showlegend": true,
         "type": "histogram",
         "x": [
          "computers"
         ],
         "xaxis": "x",
         "yaxis": "y"
        },
        {
         "alignmentgroup": "True",
         "bingroup": "x",
         "hovertemplate": "category_id=2053013553970938175<br>category_class=%{x}<br>count=%{y}<extra></extra>",
         "legendgroup": "2053013553970938175",
         "marker": {
          "color": "#636efa"
         },
         "name": "2053013553970938175",
         "offsetgroup": "2053013553970938175",
         "orientation": "v",
         "showlegend": true,
         "type": "histogram",
         "x": [
          "auto",
          "auto",
          "auto",
          "auto",
          "auto"
         ],
         "xaxis": "x",
         "yaxis": "y"
        },
        {
         "alignmentgroup": "True",
         "bingroup": "x",
         "hovertemplate": "category_id=2085718636156158307<br>category_class=%{x}<br>count=%{y}<extra></extra>",
         "legendgroup": "2085718636156158307",
         "marker": {
          "color": "#EF553B"
         },
         "name": "2085718636156158307",
         "offsetgroup": "2085718636156158307",
         "orientation": "v",
         "showlegend": true,
         "type": "histogram",
         "x": [
          "unknown",
          "unknown"
         ],
         "xaxis": "x",
         "yaxis": "y"
        },
        {
         "alignmentgroup": "True",
         "bingroup": "x",
         "hovertemplate": "category_id=2055156924407612189<br>category_class=%{x}<br>count=%{y}<extra></extra>",
         "legendgroup": "2055156924407612189",
         "marker": {
          "color": "#00cc96"
         },
         "name": "2055156924407612189",
         "offsetgroup": "2055156924407612189",
         "orientation": "v",
         "showlegend": true,
         "type": "histogram",
         "x": [
          "accessories"
         ],
         "xaxis": "x",
         "yaxis": "y"
        },
        {
         "alignmentgroup": "True",
         "bingroup": "x",
         "hovertemplate": "category_id=2059484601444729123<br>category_class=%{x}<br>count=%{y}<extra></extra>",
         "legendgroup": "2059484601444729123",
         "marker": {
          "color": "#ab63fa"
         },
         "name": "2059484601444729123",
         "offsetgroup": "2059484601444729123",
         "orientation": "v",
         "showlegend": true,
         "type": "histogram",
         "x": [
          "unknown",
          "unknown"
         ],
         "xaxis": "x",
         "yaxis": "y"
        },
        {
         "alignmentgroup": "True",
         "bingroup": "x",
         "hovertemplate": "category_id=2053013554247762257<br>category_class=%{x}<br>count=%{y}<extra></extra>",
         "legendgroup": "2053013554247762257",
         "marker": {
          "color": "#FFA15A"
         },
         "name": "2053013554247762257",
         "offsetgroup": "2053013554247762257",
         "orientation": "v",
         "showlegend": true,
         "type": "histogram",
         "x": [
          "computers"
         ],
         "xaxis": "x",
         "yaxis": "y"
        },
        {
         "alignmentgroup": "True",
         "bingroup": "x",
         "hovertemplate": "category_id=2053013557192163841<br>category_class=%{x}<br>count=%{y}<extra></extra>",
         "legendgroup": "2053013557192163841",
         "marker": {
          "color": "#19d3f3"
         },
         "name": "2053013557192163841",
         "offsetgroup": "2053013557192163841",
         "orientation": "v",
         "showlegend": true,
         "type": "histogram",
         "x": [
          "furniture",
          "furniture",
          "furniture"
         ],
         "xaxis": "x",
         "yaxis": "y"
        },
        {
         "alignmentgroup": "True",
         "bingroup": "x",
         "hovertemplate": "category_id=2053013557477376525<br>category_class=%{x}<br>count=%{y}<extra></extra>",
         "legendgroup": "2053013557477376525",
         "marker": {
          "color": "#FF6692"
         },
         "name": "2053013557477376525",
         "offsetgroup": "2053013557477376525",
         "orientation": "v",
         "showlegend": true,
         "type": "histogram",
         "x": [
          "furniture"
         ],
         "xaxis": "x",
         "yaxis": "y"
        },
        {
         "alignmentgroup": "True",
         "bingroup": "x",
         "hovertemplate": "category_id=2053013555464110485<br>category_class=%{x}<br>count=%{y}<extra></extra>",
         "legendgroup": "2053013555464110485",
         "marker": {
          "color": "#B6E880"
         },
         "name": "2053013555464110485",
         "offsetgroup": "2053013555464110485",
         "orientation": "v",
         "showlegend": true,
         "type": "histogram",
         "x": [
          "furniture"
         ],
         "xaxis": "x",
         "yaxis": "y"
        },
        {
         "alignmentgroup": "True",
         "bingroup": "x",
         "hovertemplate": "category_id=2053013553945772349<br>category_class=%{x}<br>count=%{y}<extra></extra>",
         "legendgroup": "2053013553945772349",
         "marker": {
          "color": "#FF97FF"
         },
         "name": "2053013553945772349",
         "offsetgroup": "2053013553945772349",
         "orientation": "v",
         "showlegend": true,
         "type": "histogram",
         "x": [
          "electronics",
          "electronics",
          "electronics",
          "electronics"
         ],
         "xaxis": "x",
         "yaxis": "y"
        },
        {
         "alignmentgroup": "True",
         "bingroup": "x",
         "hovertemplate": "category_id=2053013557024391671<br>category_class=%{x}<br>count=%{y}<extra></extra>",
         "legendgroup": "2053013557024391671",
         "marker": {
          "color": "#FECB52"
         },
         "name": "2053013557024391671",
         "offsetgroup": "2053013557024391671",
         "orientation": "v",
         "showlegend": true,
         "type": "histogram",
         "x": [
          "unknown",
          "unknown",
          "unknown"
         ],
         "xaxis": "x",
         "yaxis": "y"
        },
        {
         "alignmentgroup": "True",
         "bingroup": "x",
         "hovertemplate": "category_id=2070747671722722162<br>category_class=%{x}<br>count=%{y}<extra></extra>",
         "legendgroup": "2070747671722722162",
         "marker": {
          "color": "#636efa"
         },
         "name": "2070747671722722162",
         "offsetgroup": "2070747671722722162",
         "orientation": "v",
         "showlegend": true,
         "type": "histogram",
         "x": [
          "unknown"
         ],
         "xaxis": "x",
         "yaxis": "y"
        },
        {
         "alignmentgroup": "True",
         "bingroup": "x",
         "hovertemplate": "category_id=2053013560144954031<br>category_class=%{x}<br>count=%{y}<extra></extra>",
         "legendgroup": "2053013560144954031",
         "marker": {
          "color": "#EF553B"
         },
         "name": "2053013560144954031",
         "offsetgroup": "2053013560144954031",
         "orientation": "v",
         "showlegend": true,
         "type": "histogram",
         "x": [
          "unknown"
         ],
         "xaxis": "x",
         "yaxis": "y"
        },
        {
         "alignmentgroup": "True",
         "bingroup": "x",
         "hovertemplate": "category_id=2127425436764865054<br>category_class=%{x}<br>count=%{y}<extra></extra>",
         "legendgroup": "2127425436764865054",
         "marker": {
          "color": "#00cc96"
         },
         "name": "2127425436764865054",
         "offsetgroup": "2127425436764865054",
         "orientation": "v",
         "showlegend": true,
         "type": "histogram",
         "x": [
          "construction"
         ],
         "xaxis": "x",
         "yaxis": "y"
        },
        {
         "alignmentgroup": "True",
         "bingroup": "x",
         "hovertemplate": "category_id=2053013558895051365<br>category_class=%{x}<br>count=%{y}<extra></extra>",
         "legendgroup": "2053013558895051365",
         "marker": {
          "color": "#ab63fa"
         },
         "name": "2053013558895051365",
         "offsetgroup": "2053013558895051365",
         "orientation": "v",
         "showlegend": true,
         "type": "histogram",
         "x": [
          "unknown"
         ],
         "xaxis": "x",
         "yaxis": "y"
        },
        {
         "alignmentgroup": "True",
         "bingroup": "x",
         "hovertemplate": "category_id=2144916515806248980<br>category_class=%{x}<br>count=%{y}<extra></extra>",
         "legendgroup": "2144916515806248980",
         "marker": {
          "color": "#FFA15A"
         },
         "name": "2144916515806248980",
         "offsetgroup": "2144916515806248980",
         "orientation": "v",
         "showlegend": true,
         "type": "histogram",
         "x": [
          "construction"
         ],
         "xaxis": "x",
         "yaxis": "y"
        },
        {
         "alignmentgroup": "True",
         "bingroup": "x",
         "hovertemplate": "category_id=2053013553341792533<br>category_class=%{x}<br>count=%{y}<extra></extra>",
         "legendgroup": "2053013553341792533",
         "marker": {
          "color": "#19d3f3"
         },
         "name": "2053013553341792533",
         "offsetgroup": "2053013553341792533",
         "orientation": "v",
         "showlegend": true,
         "type": "histogram",
         "x": [
          "electronics",
          "electronics"
         ],
         "xaxis": "x",
         "yaxis": "y"
        },
        {
         "alignmentgroup": "True",
         "bingroup": "x",
         "hovertemplate": "category_id=2053013558433677895<br>category_class=%{x}<br>count=%{y}<extra></extra>",
         "legendgroup": "2053013558433677895",
         "marker": {
          "color": "#FF6692"
         },
         "name": "2053013558433677895",
         "offsetgroup": "2053013558433677895",
         "orientation": "v",
         "showlegend": true,
         "type": "histogram",
         "x": [
          "furniture"
         ],
         "xaxis": "x",
         "yaxis": "y"
        },
        {
         "alignmentgroup": "True",
         "bingroup": "x",
         "hovertemplate": "category_id=2053013563693335403<br>category_class=%{x}<br>count=%{y}<extra></extra>",
         "legendgroup": "2053013563693335403",
         "marker": {
          "color": "#B6E880"
         },
         "name": "2053013563693335403",
         "offsetgroup": "2053013563693335403",
         "orientation": "v",
         "showlegend": true,
         "type": "histogram",
         "x": [
          "unknown"
         ],
         "xaxis": "x",
         "yaxis": "y"
        },
        {
         "alignmentgroup": "True",
         "bingroup": "x",
         "hovertemplate": "category_id=2116907524572577889<br>category_class=%{x}<br>count=%{y}<extra></extra>",
         "legendgroup": "2116907524572577889",
         "marker": {
          "color": "#FF97FF"
         },
         "name": "2116907524572577889",
         "offsetgroup": "2116907524572577889",
         "orientation": "v",
         "showlegend": true,
         "type": "histogram",
         "x": [
          "apparel"
         ],
         "xaxis": "x",
         "yaxis": "y"
        },
        {
         "alignmentgroup": "True",
         "bingroup": "x",
         "hovertemplate": "category_id=2098563450757186313<br>category_class=%{x}<br>count=%{y}<extra></extra>",
         "legendgroup": "2098563450757186313",
         "marker": {
          "color": "#FECB52"
         },
         "name": "2098563450757186313",
         "offsetgroup": "2098563450757186313",
         "orientation": "v",
         "showlegend": true,
         "type": "histogram",
         "x": [
          "construction"
         ],
         "xaxis": "x",
         "yaxis": "y"
        },
        {
         "alignmentgroup": "True",
         "bingroup": "x",
         "hovertemplate": "category_id=2062461754293617058<br>category_class=%{x}<br>count=%{y}<extra></extra>",
         "legendgroup": "2062461754293617058",
         "marker": {
          "color": "#636efa"
         },
         "name": "2062461754293617058",
         "offsetgroup": "2062461754293617058",
         "orientation": "v",
         "showlegend": true,
         "type": "histogram",
         "x": [
          "unknown"
         ],
         "xaxis": "x",
         "yaxis": "y"
        },
        {
         "alignmentgroup": "True",
         "bingroup": "x",
         "hovertemplate": "category_id=2173216765583032544<br>category_class=%{x}<br>count=%{y}<extra></extra>",
         "legendgroup": "2173216765583032544",
         "marker": {
          "color": "#EF553B"
         },
         "name": "2173216765583032544",
         "offsetgroup": "2173216765583032544",
         "orientation": "v",
         "showlegend": true,
         "type": "histogram",
         "x": [
          "apparel"
         ],
         "xaxis": "x",
         "yaxis": "y"
        },
        {
         "alignmentgroup": "True",
         "bingroup": "x",
         "hovertemplate": "category_id=2127425434894205468<br>category_class=%{x}<br>count=%{y}<extra></extra>",
         "legendgroup": "2127425434894205468",
         "marker": {
          "color": "#00cc96"
         },
         "name": "2127425434894205468",
         "offsetgroup": "2127425434894205468",
         "orientation": "v",
         "showlegend": true,
         "type": "histogram",
         "x": [
          "construction"
         ],
         "xaxis": "x",
         "yaxis": "y"
        },
        {
         "alignmentgroup": "True",
         "bingroup": "x",
         "hovertemplate": "category_id=2053013559733912211<br>category_class=%{x}<br>count=%{y}<extra></extra>",
         "legendgroup": "2053013559733912211",
         "marker": {
          "color": "#ab63fa"
         },
         "name": "2053013559733912211",
         "offsetgroup": "2053013559733912211",
         "orientation": "v",
         "showlegend": true,
         "type": "histogram",
         "x": [
          "unknown"
         ],
         "xaxis": "x",
         "yaxis": "y"
        }
       ],
       "layout": {
        "barmode": "relative",
        "legend": {
         "title": {
          "text": "category_id"
         },
         "tracegroupgap": 0
        },
        "margin": {
         "t": 60
        },
        "template": {
         "data": {
          "bar": [
           {
            "error_x": {
             "color": "#2a3f5f"
            },
            "error_y": {
             "color": "#2a3f5f"
            },
            "marker": {
             "line": {
              "color": "#E5ECF6",
              "width": 0.5
             }
            },
            "type": "bar"
           }
          ],
          "barpolar": [
           {
            "marker": {
             "line": {
              "color": "#E5ECF6",
              "width": 0.5
             }
            },
            "type": "barpolar"
           }
          ],
          "carpet": [
           {
            "aaxis": {
             "endlinecolor": "#2a3f5f",
             "gridcolor": "white",
             "linecolor": "white",
             "minorgridcolor": "white",
             "startlinecolor": "#2a3f5f"
            },
            "baxis": {
             "endlinecolor": "#2a3f5f",
             "gridcolor": "white",
             "linecolor": "white",
             "minorgridcolor": "white",
             "startlinecolor": "#2a3f5f"
            },
            "type": "carpet"
           }
          ],
          "choropleth": [
           {
            "colorbar": {
             "outlinewidth": 0,
             "ticks": ""
            },
            "type": "choropleth"
           }
          ],
          "contour": [
           {
            "colorbar": {
             "outlinewidth": 0,
             "ticks": ""
            },
            "colorscale": [
             [
              0,
              "#0d0887"
             ],
             [
              0.1111111111111111,
              "#46039f"
             ],
             [
              0.2222222222222222,
              "#7201a8"
             ],
             [
              0.3333333333333333,
              "#9c179e"
             ],
             [
              0.4444444444444444,
              "#bd3786"
             ],
             [
              0.5555555555555556,
              "#d8576b"
             ],
             [
              0.6666666666666666,
              "#ed7953"
             ],
             [
              0.7777777777777778,
              "#fb9f3a"
             ],
             [
              0.8888888888888888,
              "#fdca26"
             ],
             [
              1,
              "#f0f921"
             ]
            ],
            "type": "contour"
           }
          ],
          "contourcarpet": [
           {
            "colorbar": {
             "outlinewidth": 0,
             "ticks": ""
            },
            "type": "contourcarpet"
           }
          ],
          "heatmap": [
           {
            "colorbar": {
             "outlinewidth": 0,
             "ticks": ""
            },
            "colorscale": [
             [
              0,
              "#0d0887"
             ],
             [
              0.1111111111111111,
              "#46039f"
             ],
             [
              0.2222222222222222,
              "#7201a8"
             ],
             [
              0.3333333333333333,
              "#9c179e"
             ],
             [
              0.4444444444444444,
              "#bd3786"
             ],
             [
              0.5555555555555556,
              "#d8576b"
             ],
             [
              0.6666666666666666,
              "#ed7953"
             ],
             [
              0.7777777777777778,
              "#fb9f3a"
             ],
             [
              0.8888888888888888,
              "#fdca26"
             ],
             [
              1,
              "#f0f921"
             ]
            ],
            "type": "heatmap"
           }
          ],
          "heatmapgl": [
           {
            "colorbar": {
             "outlinewidth": 0,
             "ticks": ""
            },
            "colorscale": [
             [
              0,
              "#0d0887"
             ],
             [
              0.1111111111111111,
              "#46039f"
             ],
             [
              0.2222222222222222,
              "#7201a8"
             ],
             [
              0.3333333333333333,
              "#9c179e"
             ],
             [
              0.4444444444444444,
              "#bd3786"
             ],
             [
              0.5555555555555556,
              "#d8576b"
             ],
             [
              0.6666666666666666,
              "#ed7953"
             ],
             [
              0.7777777777777778,
              "#fb9f3a"
             ],
             [
              0.8888888888888888,
              "#fdca26"
             ],
             [
              1,
              "#f0f921"
             ]
            ],
            "type": "heatmapgl"
           }
          ],
          "histogram": [
           {
            "marker": {
             "colorbar": {
              "outlinewidth": 0,
              "ticks": ""
             }
            },
            "type": "histogram"
           }
          ],
          "histogram2d": [
           {
            "colorbar": {
             "outlinewidth": 0,
             "ticks": ""
            },
            "colorscale": [
             [
              0,
              "#0d0887"
             ],
             [
              0.1111111111111111,
              "#46039f"
             ],
             [
              0.2222222222222222,
              "#7201a8"
             ],
             [
              0.3333333333333333,
              "#9c179e"
             ],
             [
              0.4444444444444444,
              "#bd3786"
             ],
             [
              0.5555555555555556,
              "#d8576b"
             ],
             [
              0.6666666666666666,
              "#ed7953"
             ],
             [
              0.7777777777777778,
              "#fb9f3a"
             ],
             [
              0.8888888888888888,
              "#fdca26"
             ],
             [
              1,
              "#f0f921"
             ]
            ],
            "type": "histogram2d"
           }
          ],
          "histogram2dcontour": [
           {
            "colorbar": {
             "outlinewidth": 0,
             "ticks": ""
            },
            "colorscale": [
             [
              0,
              "#0d0887"
             ],
             [
              0.1111111111111111,
              "#46039f"
             ],
             [
              0.2222222222222222,
              "#7201a8"
             ],
             [
              0.3333333333333333,
              "#9c179e"
             ],
             [
              0.4444444444444444,
              "#bd3786"
             ],
             [
              0.5555555555555556,
              "#d8576b"
             ],
             [
              0.6666666666666666,
              "#ed7953"
             ],
             [
              0.7777777777777778,
              "#fb9f3a"
             ],
             [
              0.8888888888888888,
              "#fdca26"
             ],
             [
              1,
              "#f0f921"
             ]
            ],
            "type": "histogram2dcontour"
           }
          ],
          "mesh3d": [
           {
            "colorbar": {
             "outlinewidth": 0,
             "ticks": ""
            },
            "type": "mesh3d"
           }
          ],
          "parcoords": [
           {
            "line": {
             "colorbar": {
              "outlinewidth": 0,
              "ticks": ""
             }
            },
            "type": "parcoords"
           }
          ],
          "pie": [
           {
            "automargin": true,
            "type": "pie"
           }
          ],
          "scatter": [
           {
            "marker": {
             "colorbar": {
              "outlinewidth": 0,
              "ticks": ""
             }
            },
            "type": "scatter"
           }
          ],
          "scatter3d": [
           {
            "line": {
             "colorbar": {
              "outlinewidth": 0,
              "ticks": ""
             }
            },
            "marker": {
             "colorbar": {
              "outlinewidth": 0,
              "ticks": ""
             }
            },
            "type": "scatter3d"
           }
          ],
          "scattercarpet": [
           {
            "marker": {
             "colorbar": {
              "outlinewidth": 0,
              "ticks": ""
             }
            },
            "type": "scattercarpet"
           }
          ],
          "scattergeo": [
           {
            "marker": {
             "colorbar": {
              "outlinewidth": 0,
              "ticks": ""
             }
            },
            "type": "scattergeo"
           }
          ],
          "scattergl": [
           {
            "marker": {
             "colorbar": {
              "outlinewidth": 0,
              "ticks": ""
             }
            },
            "type": "scattergl"
           }
          ],
          "scattermapbox": [
           {
            "marker": {
             "colorbar": {
              "outlinewidth": 0,
              "ticks": ""
             }
            },
            "type": "scattermapbox"
           }
          ],
          "scatterpolar": [
           {
            "marker": {
             "colorbar": {
              "outlinewidth": 0,
              "ticks": ""
             }
            },
            "type": "scatterpolar"
           }
          ],
          "scatterpolargl": [
           {
            "marker": {
             "colorbar": {
              "outlinewidth": 0,
              "ticks": ""
             }
            },
            "type": "scatterpolargl"
           }
          ],
          "scatterternary": [
           {
            "marker": {
             "colorbar": {
              "outlinewidth": 0,
              "ticks": ""
             }
            },
            "type": "scatterternary"
           }
          ],
          "surface": [
           {
            "colorbar": {
             "outlinewidth": 0,
             "ticks": ""
            },
            "colorscale": [
             [
              0,
              "#0d0887"
             ],
             [
              0.1111111111111111,
              "#46039f"
             ],
             [
              0.2222222222222222,
              "#7201a8"
             ],
             [
              0.3333333333333333,
              "#9c179e"
             ],
             [
              0.4444444444444444,
              "#bd3786"
             ],
             [
              0.5555555555555556,
              "#d8576b"
             ],
             [
              0.6666666666666666,
              "#ed7953"
             ],
             [
              0.7777777777777778,
              "#fb9f3a"
             ],
             [
              0.8888888888888888,
              "#fdca26"
             ],
             [
              1,
              "#f0f921"
             ]
            ],
            "type": "surface"
           }
          ],
          "table": [
           {
            "cells": {
             "fill": {
              "color": "#EBF0F8"
             },
             "line": {
              "color": "white"
             }
            },
            "header": {
             "fill": {
              "color": "#C8D4E3"
             },
             "line": {
              "color": "white"
             }
            },
            "type": "table"
           }
          ]
         },
         "layout": {
          "annotationdefaults": {
           "arrowcolor": "#2a3f5f",
           "arrowhead": 0,
           "arrowwidth": 1
          },
          "autotypenumbers": "strict",
          "coloraxis": {
           "colorbar": {
            "outlinewidth": 0,
            "ticks": ""
           }
          },
          "colorscale": {
           "diverging": [
            [
             0,
             "#8e0152"
            ],
            [
             0.1,
             "#c51b7d"
            ],
            [
             0.2,
             "#de77ae"
            ],
            [
             0.3,
             "#f1b6da"
            ],
            [
             0.4,
             "#fde0ef"
            ],
            [
             0.5,
             "#f7f7f7"
            ],
            [
             0.6,
             "#e6f5d0"
            ],
            [
             0.7,
             "#b8e186"
            ],
            [
             0.8,
             "#7fbc41"
            ],
            [
             0.9,
             "#4d9221"
            ],
            [
             1,
             "#276419"
            ]
           ],
           "sequential": [
            [
             0,
             "#0d0887"
            ],
            [
             0.1111111111111111,
             "#46039f"
            ],
            [
             0.2222222222222222,
             "#7201a8"
            ],
            [
             0.3333333333333333,
             "#9c179e"
            ],
            [
             0.4444444444444444,
             "#bd3786"
            ],
            [
             0.5555555555555556,
             "#d8576b"
            ],
            [
             0.6666666666666666,
             "#ed7953"
            ],
            [
             0.7777777777777778,
             "#fb9f3a"
            ],
            [
             0.8888888888888888,
             "#fdca26"
            ],
            [
             1,
             "#f0f921"
            ]
           ],
           "sequentialminus": [
            [
             0,
             "#0d0887"
            ],
            [
             0.1111111111111111,
             "#46039f"
            ],
            [
             0.2222222222222222,
             "#7201a8"
            ],
            [
             0.3333333333333333,
             "#9c179e"
            ],
            [
             0.4444444444444444,
             "#bd3786"
            ],
            [
             0.5555555555555556,
             "#d8576b"
            ],
            [
             0.6666666666666666,
             "#ed7953"
            ],
            [
             0.7777777777777778,
             "#fb9f3a"
            ],
            [
             0.8888888888888888,
             "#fdca26"
            ],
            [
             1,
             "#f0f921"
            ]
           ]
          },
          "colorway": [
           "#636efa",
           "#EF553B",
           "#00cc96",
           "#ab63fa",
           "#FFA15A",
           "#19d3f3",
           "#FF6692",
           "#B6E880",
           "#FF97FF",
           "#FECB52"
          ],
          "font": {
           "color": "#2a3f5f"
          },
          "geo": {
           "bgcolor": "white",
           "lakecolor": "white",
           "landcolor": "#E5ECF6",
           "showlakes": true,
           "showland": true,
           "subunitcolor": "white"
          },
          "hoverlabel": {
           "align": "left"
          },
          "hovermode": "closest",
          "mapbox": {
           "style": "light"
          },
          "paper_bgcolor": "white",
          "plot_bgcolor": "#E5ECF6",
          "polar": {
           "angularaxis": {
            "gridcolor": "white",
            "linecolor": "white",
            "ticks": ""
           },
           "bgcolor": "#E5ECF6",
           "radialaxis": {
            "gridcolor": "white",
            "linecolor": "white",
            "ticks": ""
           }
          },
          "scene": {
           "xaxis": {
            "backgroundcolor": "#E5ECF6",
            "gridcolor": "white",
            "gridwidth": 2,
            "linecolor": "white",
            "showbackground": true,
            "ticks": "",
            "zerolinecolor": "white"
           },
           "yaxis": {
            "backgroundcolor": "#E5ECF6",
            "gridcolor": "white",
            "gridwidth": 2,
            "linecolor": "white",
            "showbackground": true,
            "ticks": "",
            "zerolinecolor": "white"
           },
           "zaxis": {
            "backgroundcolor": "#E5ECF6",
            "gridcolor": "white",
            "gridwidth": 2,
            "linecolor": "white",
            "showbackground": true,
            "ticks": "",
            "zerolinecolor": "white"
           }
          },
          "shapedefaults": {
           "line": {
            "color": "#2a3f5f"
           }
          },
          "ternary": {
           "aaxis": {
            "gridcolor": "white",
            "linecolor": "white",
            "ticks": ""
           },
           "baxis": {
            "gridcolor": "white",
            "linecolor": "white",
            "ticks": ""
           },
           "bgcolor": "#E5ECF6",
           "caxis": {
            "gridcolor": "white",
            "linecolor": "white",
            "ticks": ""
           }
          },
          "title": {
           "x": 0.05
          },
          "xaxis": {
           "automargin": true,
           "gridcolor": "white",
           "linecolor": "white",
           "ticks": "",
           "title": {
            "standoff": 15
           },
           "zerolinecolor": "white",
           "zerolinewidth": 2
          },
          "yaxis": {
           "automargin": true,
           "gridcolor": "white",
           "linecolor": "white",
           "ticks": "",
           "title": {
            "standoff": 15
           },
           "zerolinecolor": "white",
           "zerolinewidth": 2
          }
         }
        },
        "xaxis": {
         "anchor": "y",
         "domain": [
          0,
          1
         ],
         "title": {
          "text": "category_class"
         }
        },
        "yaxis": {
         "anchor": "x",
         "domain": [
          0,
          1
         ],
         "title": {
          "text": "count"
         }
        }
       }
      }
     },
     "metadata": {}
    }
   ],
   "source": [
    "px.histogram(pdf, x=\"category_class\", color=\"category_id\")"
   ]
  },
  {
   "source": [
    "Mehrere Category IDs gehören immer nur zur einen Category Class."
   ],
   "cell_type": "markdown",
   "metadata": {}
  },
  {
   "source": [
    "##### Category Class - Product ID"
   ],
   "cell_type": "markdown",
   "metadata": {}
  },
  {
   "cell_type": "code",
   "execution_count": 103,
   "metadata": {},
   "outputs": [
    {
     "output_type": "stream",
     "name": "stdout",
     "text": [
      "+--------------+----------------+\n|Category_Class|Count_Product_ID|\n+--------------+----------------+\n|     computers|              22|\n|          auto|               5|\n|          null|              78|\n|       apparel|               6|\n|    appliances|              12|\n|     furniture|              10|\n|   accessories|               1|\n|   electronics|              46|\n|  construction|               8|\n+--------------+----------------+\n\n"
     ]
    }
   ],
   "source": [
    "spark.sql(\"SELECT Category_Class, COUNT(DISTINCT(Product_ID)) AS Count_Product_ID from Product_Data GROUP BY Category_Class\").show()"
   ]
  },
  {
   "cell_type": "code",
   "execution_count": 104,
   "metadata": {},
   "outputs": [
    {
     "output_type": "stream",
     "name": "stdout",
     "text": [
      "+----------+--------------------+\n|Product_ID|Count_Category_class|\n+----------+--------------------+\n|   1305977|                   1|\n|   6500912|                   1|\n|   1004990|                   1|\n|   2700598|                   1|\n|   1004566|                   1|\n|   1307012|                   1|\n|   1005116|                   1|\n|   2701517|                   1|\n|   5800506|                   1|\n|   1303355|                   1|\n|  45601414|                   1|\n|   1306894|                   1|\n|   1307350|                   1|\n|   4804420|                   1|\n|   1004241|                   1|\n|   1004237|                   1|\n|  30000218|                   1|\n|   5100855|                   1|\n|  21406939|                   1|\n|   3901174|                   1|\n+----------+--------------------+\nonly showing top 20 rows\n\n"
     ]
    }
   ],
   "source": [
    "spark.sql(\"SELECT Product_ID, COUNT(DISTINCT(Category_class)) AS Count_Category_class from Product_Data GROUP BY Product_ID ORDER BY Count_Category_class DESC\").show()"
   ]
  },
  {
   "cell_type": "code",
   "execution_count": 105,
   "metadata": {},
   "outputs": [
    {
     "output_type": "stream",
     "name": "stdout",
     "text": [
      "+--------------+----------+\n|Category_Class|Product_ID|\n+--------------+----------+\n|     furniture|  17200570|\n|     furniture|  17200558|\n|     furniture|  16900083|\n|     furniture|  16700826|\n|     furniture|  16700690|\n|     furniture|  16700384|\n|     furniture|  16700260|\n|     furniture|  13600340|\n|     furniture|  13200605|\n|     furniture|   7100133|\n|   electronics|  21408240|\n|   electronics|  21407128|\n|   electronics|  21406939|\n|   electronics|  21405259|\n|   electronics|  21400135|\n|   electronics|   5801656|\n|   electronics|   5801550|\n|   electronics|   5801483|\n|   electronics|   5800506|\n|   electronics|   5100855|\n+--------------+----------+\nonly showing top 20 rows\n\n"
     ]
    }
   ],
   "source": [
    "spark.sql(\"SELECT Category_Class, Product_ID from Product_Data GROUP BY Category_Class, Product_ID ORDER BY Category_Class DESC, Product_ID DESC\").show()"
   ]
  },
  {
   "cell_type": "code",
   "execution_count": 90,
   "metadata": {},
   "outputs": [
    {
     "output_type": "display_data",
     "data": {
      "application/vnd.plotly.v1+json": {
       "config": {
        "plotlyServerURL": "https://plot.ly"
       },
       "data": [
        {
         "alignmentgroup": "True",
         "bingroup": "x",
         "hovertemplate": "product_id=1003461<br>category_class=%{x}<br>count=%{y}<extra></extra>",
         "legendgroup": "1003461",
         "marker": {
          "color": "#636efa"
         },
         "name": "1003461",
         "offsetgroup": "1003461",
         "orientation": "v",
         "showlegend": true,
         "type": "histogram",
         "x": [
          "electronics",
          "electronics"
         ],
         "xaxis": "x",
         "yaxis": "y"
        },
        {
         "alignmentgroup": "True",
         "bingroup": "x",
         "hovertemplate": "product_id=5000088<br>category_class=%{x}<br>count=%{y}<extra></extra>",
         "legendgroup": "5000088",
         "marker": {
          "color": "#EF553B"
         },
         "name": "5000088",
         "offsetgroup": "5000088",
         "orientation": "v",
         "showlegend": true,
         "type": "histogram",
         "x": [
          "appliances",
          "appliances"
         ],
         "xaxis": "x",
         "yaxis": "y"
        },
        {
         "alignmentgroup": "True",
         "bingroup": "x",
         "hovertemplate": "product_id=17302664<br>category_class=%{x}<br>count=%{y}<extra></extra>",
         "legendgroup": "17302664",
         "marker": {
          "color": "#00cc96"
         },
         "name": "17302664",
         "offsetgroup": "17302664",
         "orientation": "v",
         "showlegend": true,
         "type": "histogram",
         "x": [
          "unknown"
         ],
         "xaxis": "x",
         "yaxis": "y"
        },
        {
         "alignmentgroup": "True",
         "bingroup": "x",
         "hovertemplate": "product_id=3601530<br>category_class=%{x}<br>count=%{y}<extra></extra>",
         "legendgroup": "3601530",
         "marker": {
          "color": "#ab63fa"
         },
         "name": "3601530",
         "offsetgroup": "3601530",
         "orientation": "v",
         "showlegend": true,
         "type": "histogram",
         "x": [
          "appliances"
         ],
         "xaxis": "x",
         "yaxis": "y"
        },
        {
         "alignmentgroup": "True",
         "bingroup": "x",
         "hovertemplate": "product_id=1004775<br>category_class=%{x}<br>count=%{y}<extra></extra>",
         "legendgroup": "1004775",
         "marker": {
          "color": "#FFA15A"
         },
         "name": "1004775",
         "offsetgroup": "1004775",
         "orientation": "v",
         "showlegend": true,
         "type": "histogram",
         "x": [
          "electronics",
          "electronics"
         ],
         "xaxis": "x",
         "yaxis": "y"
        },
        {
         "alignmentgroup": "True",
         "bingroup": "x",
         "hovertemplate": "product_id=1306894<br>category_class=%{x}<br>count=%{y}<extra></extra>",
         "legendgroup": "1306894",
         "marker": {
          "color": "#19d3f3"
         },
         "name": "1306894",
         "offsetgroup": "1306894",
         "orientation": "v",
         "showlegend": true,
         "type": "histogram",
         "x": [
          "computers"
         ],
         "xaxis": "x",
         "yaxis": "y"
        },
        {
         "alignmentgroup": "True",
         "bingroup": "x",
         "hovertemplate": "product_id=1306421<br>category_class=%{x}<br>count=%{y}<extra></extra>",
         "legendgroup": "1306421",
         "marker": {
          "color": "#FF6692"
         },
         "name": "1306421",
         "offsetgroup": "1306421",
         "orientation": "v",
         "showlegend": true,
         "type": "histogram",
         "x": [
          "computers"
         ],
         "xaxis": "x",
         "yaxis": "y"
        },
        {
         "alignmentgroup": "True",
         "bingroup": "x",
         "hovertemplate": "product_id=15900065<br>category_class=%{x}<br>count=%{y}<extra></extra>",
         "legendgroup": "15900065",
         "marker": {
          "color": "#B6E880"
         },
         "name": "15900065",
         "offsetgroup": "15900065",
         "orientation": "v",
         "showlegend": true,
         "type": "histogram",
         "x": [
          "unknown"
         ],
         "xaxis": "x",
         "yaxis": "y"
        },
        {
         "alignmentgroup": "True",
         "bingroup": "x",
         "hovertemplate": "product_id=12708937<br>category_class=%{x}<br>count=%{y}<extra></extra>",
         "legendgroup": "12708937",
         "marker": {
          "color": "#FF97FF"
         },
         "name": "12708937",
         "offsetgroup": "12708937",
         "orientation": "v",
         "showlegend": true,
         "type": "histogram",
         "x": [
          "unknown",
          "unknown",
          "unknown"
         ],
         "xaxis": "x",
         "yaxis": "y"
        },
        {
         "alignmentgroup": "True",
         "bingroup": "x",
         "hovertemplate": "product_id=1004258<br>category_class=%{x}<br>count=%{y}<extra></extra>",
         "legendgroup": "1004258",
         "marker": {
          "color": "#FECB52"
         },
         "name": "1004258",
         "offsetgroup": "1004258",
         "orientation": "v",
         "showlegend": true,
         "type": "histogram",
         "x": [
          "electronics",
          "electronics"
         ],
         "xaxis": "x",
         "yaxis": "y"
        },
        {
         "alignmentgroup": "True",
         "bingroup": "x",
         "hovertemplate": "product_id=17200570<br>category_class=%{x}<br>count=%{y}<extra></extra>",
         "legendgroup": "17200570",
         "marker": {
          "color": "#636efa"
         },
         "name": "17200570",
         "offsetgroup": "17200570",
         "orientation": "v",
         "showlegend": true,
         "type": "histogram",
         "x": [
          "furniture"
         ],
         "xaxis": "x",
         "yaxis": "y"
        },
        {
         "alignmentgroup": "True",
         "bingroup": "x",
         "hovertemplate": "product_id=2701517<br>category_class=%{x}<br>count=%{y}<extra></extra>",
         "legendgroup": "2701517",
         "marker": {
          "color": "#EF553B"
         },
         "name": "2701517",
         "offsetgroup": "2701517",
         "orientation": "v",
         "showlegend": true,
         "type": "histogram",
         "x": [
          "appliances"
         ],
         "xaxis": "x",
         "yaxis": "y"
        },
        {
         "alignmentgroup": "True",
         "bingroup": "x",
         "hovertemplate": "product_id=16700260<br>category_class=%{x}<br>count=%{y}<extra></extra>",
         "legendgroup": "16700260",
         "marker": {
          "color": "#00cc96"
         },
         "name": "16700260",
         "offsetgroup": "16700260",
         "orientation": "v",
         "showlegend": true,
         "type": "histogram",
         "x": [
          "furniture"
         ],
         "xaxis": "x",
         "yaxis": "y"
        },
        {
         "alignmentgroup": "True",
         "bingroup": "x",
         "hovertemplate": "product_id=34600011<br>category_class=%{x}<br>count=%{y}<extra></extra>",
         "legendgroup": "34600011",
         "marker": {
          "color": "#ab63fa"
         },
         "name": "34600011",
         "offsetgroup": "34600011",
         "orientation": "v",
         "showlegend": true,
         "type": "histogram",
         "x": [
          "unknown"
         ],
         "xaxis": "x",
         "yaxis": "y"
        },
        {
         "alignmentgroup": "True",
         "bingroup": "x",
         "hovertemplate": "product_id=4600658<br>category_class=%{x}<br>count=%{y}<extra></extra>",
         "legendgroup": "4600658",
         "marker": {
          "color": "#FFA15A"
         },
         "name": "4600658",
         "offsetgroup": "4600658",
         "orientation": "v",
         "showlegend": true,
         "type": "histogram",
         "x": [
          "appliances"
         ],
         "xaxis": "x",
         "yaxis": "y"
        },
        {
         "alignmentgroup": "True",
         "bingroup": "x",
         "hovertemplate": "product_id=24900193<br>category_class=%{x}<br>count=%{y}<extra></extra>",
         "legendgroup": "24900193",
         "marker": {
          "color": "#19d3f3"
         },
         "name": "24900193",
         "offsetgroup": "24900193",
         "orientation": "v",
         "showlegend": true,
         "type": "histogram",
         "x": [
          "unknown"
         ],
         "xaxis": "x",
         "yaxis": "y"
        },
        {
         "alignmentgroup": "True",
         "bingroup": "x",
         "hovertemplate": "product_id=27400066<br>category_class=%{x}<br>count=%{y}<extra></extra>",
         "legendgroup": "27400066",
         "marker": {
          "color": "#FF6692"
         },
         "name": "27400066",
         "offsetgroup": "27400066",
         "orientation": "v",
         "showlegend": true,
         "type": "histogram",
         "x": [
          "unknown",
          "unknown"
         ],
         "xaxis": "x",
         "yaxis": "y"
        },
        {
         "alignmentgroup": "True",
         "bingroup": "x",
         "hovertemplate": "product_id=5100503<br>category_class=%{x}<br>count=%{y}<extra></extra>",
         "legendgroup": "5100503",
         "marker": {
          "color": "#B6E880"
         },
         "name": "5100503",
         "offsetgroup": "5100503",
         "orientation": "v",
         "showlegend": true,
         "type": "histogram",
         "x": [
          "unknown"
         ],
         "xaxis": "x",
         "yaxis": "y"
        },
        {
         "alignmentgroup": "True",
         "bingroup": "x",
         "hovertemplate": "product_id=1004566<br>category_class=%{x}<br>count=%{y}<extra></extra>",
         "legendgroup": "1004566",
         "marker": {
          "color": "#FF97FF"
         },
         "name": "1004566",
         "offsetgroup": "1004566",
         "orientation": "v",
         "showlegend": true,
         "type": "histogram",
         "x": [
          "electronics"
         ],
         "xaxis": "x",
         "yaxis": "y"
        },
        {
         "alignmentgroup": "True",
         "bingroup": "x",
         "hovertemplate": "product_id=1307115<br>category_class=%{x}<br>count=%{y}<extra></extra>",
         "legendgroup": "1307115",
         "marker": {
          "color": "#FECB52"
         },
         "name": "1307115",
         "offsetgroup": "1307115",
         "orientation": "v",
         "showlegend": true,
         "type": "histogram",
         "x": [
          "computers",
          "computers"
         ],
         "xaxis": "x",
         "yaxis": "y"
        },
        {
         "alignmentgroup": "True",
         "bingroup": "x",
         "hovertemplate": "product_id=12719154<br>category_class=%{x}<br>count=%{y}<extra></extra>",
         "legendgroup": "12719154",
         "marker": {
          "color": "#636efa"
         },
         "name": "12719154",
         "offsetgroup": "12719154",
         "orientation": "v",
         "showlegend": true,
         "type": "histogram",
         "x": [
          "unknown"
         ],
         "xaxis": "x",
         "yaxis": "y"
        },
        {
         "alignmentgroup": "True",
         "bingroup": "x",
         "hovertemplate": "product_id=1004708<br>category_class=%{x}<br>count=%{y}<extra></extra>",
         "legendgroup": "1004708",
         "marker": {
          "color": "#EF553B"
         },
         "name": "1004708",
         "offsetgroup": "1004708",
         "orientation": "v",
         "showlegend": true,
         "type": "histogram",
         "x": [
          "electronics"
         ],
         "xaxis": "x",
         "yaxis": "y"
        },
        {
         "alignmentgroup": "True",
         "bingroup": "x",
         "hovertemplate": "product_id=26022534<br>category_class=%{x}<br>count=%{y}<extra></extra>",
         "legendgroup": "26022534",
         "marker": {
          "color": "#00cc96"
         },
         "name": "26022534",
         "offsetgroup": "26022534",
         "orientation": "v",
         "showlegend": true,
         "type": "histogram",
         "x": [
          "unknown"
         ],
         "xaxis": "x",
         "yaxis": "y"
        },
        {
         "alignmentgroup": "True",
         "bingroup": "x",
         "hovertemplate": "product_id=17200558<br>category_class=%{x}<br>count=%{y}<extra></extra>",
         "legendgroup": "17200558",
         "marker": {
          "color": "#ab63fa"
         },
         "name": "17200558",
         "offsetgroup": "17200558",
         "orientation": "v",
         "showlegend": true,
         "type": "histogram",
         "x": [
          "furniture"
         ],
         "xaxis": "x",
         "yaxis": "y"
        },
        {
         "alignmentgroup": "True",
         "bingroup": "x",
         "hovertemplate": "product_id=17300016<br>category_class=%{x}<br>count=%{y}<extra></extra>",
         "legendgroup": "17300016",
         "marker": {
          "color": "#FFA15A"
         },
         "name": "17300016",
         "offsetgroup": "17300016",
         "orientation": "v",
         "showlegend": true,
         "type": "histogram",
         "x": [
          "unknown"
         ],
         "xaxis": "x",
         "yaxis": "y"
        },
        {
         "alignmentgroup": "True",
         "bingroup": "x",
         "hovertemplate": "product_id=26019863<br>category_class=%{x}<br>count=%{y}<extra></extra>",
         "legendgroup": "26019863",
         "marker": {
          "color": "#19d3f3"
         },
         "name": "26019863",
         "offsetgroup": "26019863",
         "orientation": "v",
         "showlegend": true,
         "type": "histogram",
         "x": [
          "unknown"
         ],
         "xaxis": "x",
         "yaxis": "y"
        },
        {
         "alignmentgroup": "True",
         "bingroup": "x",
         "hovertemplate": "product_id=17501048<br>category_class=%{x}<br>count=%{y}<extra></extra>",
         "legendgroup": "17501048",
         "marker": {
          "color": "#FF6692"
         },
         "name": "17501048",
         "offsetgroup": "17501048",
         "orientation": "v",
         "showlegend": true,
         "type": "histogram",
         "x": [
          "unknown"
         ],
         "xaxis": "x",
         "yaxis": "y"
        },
        {
         "alignmentgroup": "True",
         "bingroup": "x",
         "hovertemplate": "product_id=1005115<br>category_class=%{x}<br>count=%{y}<extra></extra>",
         "legendgroup": "1005115",
         "marker": {
          "color": "#B6E880"
         },
         "name": "1005115",
         "offsetgroup": "1005115",
         "orientation": "v",
         "showlegend": true,
         "type": "histogram",
         "x": [
          "electronics"
         ],
         "xaxis": "x",
         "yaxis": "y"
        },
        {
         "alignmentgroup": "True",
         "bingroup": "x",
         "hovertemplate": "product_id=1307350<br>category_class=%{x}<br>count=%{y}<extra></extra>",
         "legendgroup": "1307350",
         "marker": {
          "color": "#FF97FF"
         },
         "name": "1307350",
         "offsetgroup": "1307350",
         "orientation": "v",
         "showlegend": true,
         "type": "histogram",
         "x": [
          "computers"
         ],
         "xaxis": "x",
         "yaxis": "y"
        },
        {
         "alignmentgroup": "True",
         "bingroup": "x",
         "hovertemplate": "product_id=1307340<br>category_class=%{x}<br>count=%{y}<extra></extra>",
         "legendgroup": "1307340",
         "marker": {
          "color": "#FECB52"
         },
         "name": "1307340",
         "offsetgroup": "1307340",
         "orientation": "v",
         "showlegend": true,
         "type": "histogram",
         "x": [
          "computers"
         ],
         "xaxis": "x",
         "yaxis": "y"
        },
        {
         "alignmentgroup": "True",
         "bingroup": "x",
         "hovertemplate": "product_id=41100055<br>category_class=%{x}<br>count=%{y}<extra></extra>",
         "legendgroup": "41100055",
         "marker": {
          "color": "#636efa"
         },
         "name": "41100055",
         "offsetgroup": "41100055",
         "orientation": "v",
         "showlegend": true,
         "type": "histogram",
         "x": [
          "unknown"
         ],
         "xaxis": "x",
         "yaxis": "y"
        },
        {
         "alignmentgroup": "True",
         "bingroup": "x",
         "hovertemplate": "product_id=16700826<br>category_class=%{x}<br>count=%{y}<extra></extra>",
         "legendgroup": "16700826",
         "marker": {
          "color": "#EF553B"
         },
         "name": "16700826",
         "offsetgroup": "16700826",
         "orientation": "v",
         "showlegend": true,
         "type": "histogram",
         "x": [
          "furniture",
          "furniture"
         ],
         "xaxis": "x",
         "yaxis": "y"
        },
        {
         "alignmentgroup": "True",
         "bingroup": "x",
         "hovertemplate": "product_id=30100041<br>category_class=%{x}<br>count=%{y}<extra></extra>",
         "legendgroup": "30100041",
         "marker": {
          "color": "#00cc96"
         },
         "name": "30100041",
         "offsetgroup": "30100041",
         "orientation": "v",
         "showlegend": true,
         "type": "histogram",
         "x": [
          "unknown"
         ],
         "xaxis": "x",
         "yaxis": "y"
        },
        {
         "alignmentgroup": "True",
         "bingroup": "x",
         "hovertemplate": "product_id=22700205<br>category_class=%{x}<br>count=%{y}<extra></extra>",
         "legendgroup": "22700205",
         "marker": {
          "color": "#ab63fa"
         },
         "name": "22700205",
         "offsetgroup": "22700205",
         "orientation": "v",
         "showlegend": true,
         "type": "histogram",
         "x": [
          "unknown"
         ],
         "xaxis": "x",
         "yaxis": "y"
        },
        {
         "alignmentgroup": "True",
         "bingroup": "x",
         "hovertemplate": "product_id=10800182<br>category_class=%{x}<br>count=%{y}<extra></extra>",
         "legendgroup": "10800182",
         "marker": {
          "color": "#FFA15A"
         },
         "name": "10800182",
         "offsetgroup": "10800182",
         "orientation": "v",
         "showlegend": true,
         "type": "histogram",
         "x": [
          "unknown"
         ],
         "xaxis": "x",
         "yaxis": "y"
        },
        {
         "alignmentgroup": "True",
         "bingroup": "x",
         "hovertemplate": "product_id=52000058<br>category_class=%{x}<br>count=%{y}<extra></extra>",
         "legendgroup": "52000058",
         "marker": {
          "color": "#19d3f3"
         },
         "name": "52000058",
         "offsetgroup": "52000058",
         "orientation": "v",
         "showlegend": true,
         "type": "histogram",
         "x": [
          "unknown"
         ],
         "xaxis": "x",
         "yaxis": "y"
        },
        {
         "alignmentgroup": "True",
         "bingroup": "x",
         "hovertemplate": "product_id=15200565<br>category_class=%{x}<br>count=%{y}<extra></extra>",
         "legendgroup": "15200565",
         "marker": {
          "color": "#FF6692"
         },
         "name": "15200565",
         "offsetgroup": "15200565",
         "orientation": "v",
         "showlegend": true,
         "type": "histogram",
         "x": [
          "unknown"
         ],
         "xaxis": "x",
         "yaxis": "y"
        },
        {
         "alignmentgroup": "True",
         "bingroup": "x",
         "hovertemplate": "product_id=4804194<br>category_class=%{x}<br>count=%{y}<extra></extra>",
         "legendgroup": "4804194",
         "marker": {
          "color": "#B6E880"
         },
         "name": "4804194",
         "offsetgroup": "4804194",
         "orientation": "v",
         "showlegend": true,
         "type": "histogram",
         "x": [
          "electronics"
         ],
         "xaxis": "x",
         "yaxis": "y"
        },
        {
         "alignmentgroup": "True",
         "bingroup": "x",
         "hovertemplate": "product_id=3701016<br>category_class=%{x}<br>count=%{y}<extra></extra>",
         "legendgroup": "3701016",
         "marker": {
          "color": "#FF97FF"
         },
         "name": "3701016",
         "offsetgroup": "3701016",
         "orientation": "v",
         "showlegend": true,
         "type": "histogram",
         "x": [
          "appliances"
         ],
         "xaxis": "x",
         "yaxis": "y"
        },
        {
         "alignmentgroup": "True",
         "bingroup": "x",
         "hovertemplate": "product_id=1002544<br>category_class=%{x}<br>count=%{y}<extra></extra>",
         "legendgroup": "1002544",
         "marker": {
          "color": "#FECB52"
         },
         "name": "1002544",
         "offsetgroup": "1002544",
         "orientation": "v",
         "showlegend": true,
         "type": "histogram",
         "x": [
          "electronics"
         ],
         "xaxis": "x",
         "yaxis": "y"
        },
        {
         "alignmentgroup": "True",
         "bingroup": "x",
         "hovertemplate": "product_id=1005014<br>category_class=%{x}<br>count=%{y}<extra></extra>",
         "legendgroup": "1005014",
         "marker": {
          "color": "#636efa"
         },
         "name": "1005014",
         "offsetgroup": "1005014",
         "orientation": "v",
         "showlegend": true,
         "type": "histogram",
         "x": [
          "electronics"
         ],
         "xaxis": "x",
         "yaxis": "y"
        },
        {
         "alignmentgroup": "True",
         "bingroup": "x",
         "hovertemplate": "product_id=27800054<br>category_class=%{x}<br>count=%{y}<extra></extra>",
         "legendgroup": "27800054",
         "marker": {
          "color": "#EF553B"
         },
         "name": "27800054",
         "offsetgroup": "27800054",
         "orientation": "v",
         "showlegend": true,
         "type": "histogram",
         "x": [
          "unknown"
         ],
         "xaxis": "x",
         "yaxis": "y"
        },
        {
         "alignmentgroup": "True",
         "bingroup": "x",
         "hovertemplate": "product_id=2201037<br>category_class=%{x}<br>count=%{y}<extra></extra>",
         "legendgroup": "2201037",
         "marker": {
          "color": "#00cc96"
         },
         "name": "2201037",
         "offsetgroup": "2201037",
         "orientation": "v",
         "showlegend": true,
         "type": "histogram",
         "x": [
          "unknown"
         ],
         "xaxis": "x",
         "yaxis": "y"
        },
        {
         "alignmentgroup": "True",
         "bingroup": "x",
         "hovertemplate": "product_id=3901174<br>category_class=%{x}<br>count=%{y}<extra></extra>",
         "legendgroup": "3901174",
         "marker": {
          "color": "#ab63fa"
         },
         "name": "3901174",
         "offsetgroup": "3901174",
         "orientation": "v",
         "showlegend": true,
         "type": "histogram",
         "x": [
          "appliances"
         ],
         "xaxis": "x",
         "yaxis": "y"
        },
        {
         "alignmentgroup": "True",
         "bingroup": "x",
         "hovertemplate": "product_id=4600603<br>category_class=%{x}<br>count=%{y}<extra></extra>",
         "legendgroup": "4600603",
         "marker": {
          "color": "#FFA15A"
         },
         "name": "4600603",
         "offsetgroup": "4600603",
         "orientation": "v",
         "showlegend": true,
         "type": "histogram",
         "x": [
          "appliances",
          "appliances"
         ],
         "xaxis": "x",
         "yaxis": "y"
        },
        {
         "alignmentgroup": "True",
         "bingroup": "x",
         "hovertemplate": "product_id=4100297<br>category_class=%{x}<br>count=%{y}<extra></extra>",
         "legendgroup": "4100297",
         "marker": {
          "color": "#19d3f3"
         },
         "name": "4100297",
         "offsetgroup": "4100297",
         "orientation": "v",
         "showlegend": true,
         "type": "histogram",
         "x": [
          "unknown",
          "unknown"
         ],
         "xaxis": "x",
         "yaxis": "y"
        },
        {
         "alignmentgroup": "True",
         "bingroup": "x",
         "hovertemplate": "product_id=18100047<br>category_class=%{x}<br>count=%{y}<extra></extra>",
         "legendgroup": "18100047",
         "marker": {
          "color": "#FF6692"
         },
         "name": "18100047",
         "offsetgroup": "18100047",
         "orientation": "v",
         "showlegend": true,
         "type": "histogram",
         "x": [
          "unknown"
         ],
         "xaxis": "x",
         "yaxis": "y"
        },
        {
         "alignmentgroup": "True",
         "bingroup": "x",
         "hovertemplate": "product_id=2300214<br>category_class=%{x}<br>count=%{y}<extra></extra>",
         "legendgroup": "2300214",
         "marker": {
          "color": "#B6E880"
         },
         "name": "2300214",
         "offsetgroup": "2300214",
         "orientation": "v",
         "showlegend": true,
         "type": "histogram",
         "x": [
          "electronics"
         ],
         "xaxis": "x",
         "yaxis": "y"
        },
        {
         "alignmentgroup": "True",
         "bingroup": "x",
         "hovertemplate": "product_id=26400585<br>category_class=%{x}<br>count=%{y}<extra></extra>",
         "legendgroup": "26400585",
         "marker": {
          "color": "#FF97FF"
         },
         "name": "26400585",
         "offsetgroup": "26400585",
         "orientation": "v",
         "showlegend": true,
         "type": "histogram",
         "x": [
          "unknown"
         ],
         "xaxis": "x",
         "yaxis": "y"
        },
        {
         "alignmentgroup": "True",
         "bingroup": "x",
         "hovertemplate": "product_id=1005161<br>category_class=%{x}<br>count=%{y}<extra></extra>",
         "legendgroup": "1005161",
         "marker": {
          "color": "#FECB52"
         },
         "name": "1005161",
         "offsetgroup": "1005161",
         "orientation": "v",
         "showlegend": true,
         "type": "histogram",
         "x": [
          "electronics",
          "electronics"
         ],
         "xaxis": "x",
         "yaxis": "y"
        },
        {
         "alignmentgroup": "True",
         "bingroup": "x",
         "hovertemplate": "product_id=21406939<br>category_class=%{x}<br>count=%{y}<extra></extra>",
         "legendgroup": "21406939",
         "marker": {
          "color": "#636efa"
         },
         "name": "21406939",
         "offsetgroup": "21406939",
         "orientation": "v",
         "showlegend": true,
         "type": "histogram",
         "x": [
          "electronics"
         ],
         "xaxis": "x",
         "yaxis": "y"
        },
        {
         "alignmentgroup": "True",
         "bingroup": "x",
         "hovertemplate": "product_id=1800729<br>category_class=%{x}<br>count=%{y}<extra></extra>",
         "legendgroup": "1800729",
         "marker": {
          "color": "#EF553B"
         },
         "name": "1800729",
         "offsetgroup": "1800729",
         "orientation": "v",
         "showlegend": true,
         "type": "histogram",
         "x": [
          "electronics"
         ],
         "xaxis": "x",
         "yaxis": "y"
        },
        {
         "alignmentgroup": "True",
         "bingroup": "x",
         "hovertemplate": "product_id=43200121<br>category_class=%{x}<br>count=%{y}<extra></extra>",
         "legendgroup": "43200121",
         "marker": {
          "color": "#00cc96"
         },
         "name": "43200121",
         "offsetgroup": "43200121",
         "orientation": "v",
         "showlegend": true,
         "type": "histogram",
         "x": [
          "apparel"
         ],
         "xaxis": "x",
         "yaxis": "y"
        },
        {
         "alignmentgroup": "True",
         "bingroup": "x",
         "hovertemplate": "product_id=44300043<br>category_class=%{x}<br>count=%{y}<extra></extra>",
         "legendgroup": "44300043",
         "marker": {
          "color": "#ab63fa"
         },
         "name": "44300043",
         "offsetgroup": "44300043",
         "orientation": "v",
         "showlegend": true,
         "type": "histogram",
         "x": [
          "apparel"
         ],
         "xaxis": "x",
         "yaxis": "y"
        },
        {
         "alignmentgroup": "True",
         "bingroup": "x",
         "hovertemplate": "product_id=1003317<br>category_class=%{x}<br>count=%{y}<extra></extra>",
         "legendgroup": "1003317",
         "marker": {
          "color": "#FFA15A"
         },
         "name": "1003317",
         "offsetgroup": "1003317",
         "orientation": "v",
         "showlegend": true,
         "type": "histogram",
         "x": [
          "electronics"
         ],
         "xaxis": "x",
         "yaxis": "y"
        },
        {
         "alignmentgroup": "True",
         "bingroup": "x",
         "hovertemplate": "product_id=10701060<br>category_class=%{x}<br>count=%{y}<extra></extra>",
         "legendgroup": "10701060",
         "marker": {
          "color": "#19d3f3"
         },
         "name": "10701060",
         "offsetgroup": "10701060",
         "orientation": "v",
         "showlegend": true,
         "type": "histogram",
         "x": [
          "unknown"
         ],
         "xaxis": "x",
         "yaxis": "y"
        },
        {
         "alignmentgroup": "True",
         "bingroup": "x",
         "hovertemplate": "product_id=25600085<br>category_class=%{x}<br>count=%{y}<extra></extra>",
         "legendgroup": "25600085",
         "marker": {
          "color": "#FF6692"
         },
         "name": "25600085",
         "offsetgroup": "25600085",
         "orientation": "v",
         "showlegend": true,
         "type": "histogram",
         "x": [
          "unknown"
         ],
         "xaxis": "x",
         "yaxis": "y"
        },
        {
         "alignmentgroup": "True",
         "bingroup": "x",
         "hovertemplate": "product_id=26100002<br>category_class=%{x}<br>count=%{y}<extra></extra>",
         "legendgroup": "26100002",
         "marker": {
          "color": "#B6E880"
         },
         "name": "26100002",
         "offsetgroup": "26100002",
         "orientation": "v",
         "showlegend": true,
         "type": "histogram",
         "x": [
          "unknown"
         ],
         "xaxis": "x",
         "yaxis": "y"
        },
        {
         "alignmentgroup": "True",
         "bingroup": "x",
         "hovertemplate": "product_id=22700067<br>category_class=%{x}<br>count=%{y}<extra></extra>",
         "legendgroup": "22700067",
         "marker": {
          "color": "#FF97FF"
         },
         "name": "22700067",
         "offsetgroup": "22700067",
         "orientation": "v",
         "showlegend": true,
         "type": "histogram",
         "x": [
          "unknown"
         ],
         "xaxis": "x",
         "yaxis": "y"
        },
        {
         "alignmentgroup": "True",
         "bingroup": "x",
         "hovertemplate": "product_id=24400437<br>category_class=%{x}<br>count=%{y}<extra></extra>",
         "legendgroup": "24400437",
         "marker": {
          "color": "#FECB52"
         },
         "name": "24400437",
         "offsetgroup": "24400437",
         "orientation": "v",
         "showlegend": true,
         "type": "histogram",
         "x": [
          "unknown",
          "unknown",
          "unknown"
         ],
         "xaxis": "x",
         "yaxis": "y"
        },
        {
         "alignmentgroup": "True",
         "bingroup": "x",
         "hovertemplate": "product_id=1307095<br>category_class=%{x}<br>count=%{y}<extra></extra>",
         "legendgroup": "1307095",
         "marker": {
          "color": "#636efa"
         },
         "name": "1307095",
         "offsetgroup": "1307095",
         "orientation": "v",
         "showlegend": true,
         "type": "histogram",
         "x": [
          "computers"
         ],
         "xaxis": "x",
         "yaxis": "y"
        },
        {
         "alignmentgroup": "True",
         "bingroup": "x",
         "hovertemplate": "product_id=31000152<br>category_class=%{x}<br>count=%{y}<extra></extra>",
         "legendgroup": "31000152",
         "marker": {
          "color": "#EF553B"
         },
         "name": "31000152",
         "offsetgroup": "31000152",
         "orientation": "v",
         "showlegend": true,
         "type": "histogram",
         "x": [
          "unknown"
         ],
         "xaxis": "x",
         "yaxis": "y"
        },
        {
         "alignmentgroup": "True",
         "bingroup": "x",
         "hovertemplate": "product_id=37900026<br>category_class=%{x}<br>count=%{y}<extra></extra>",
         "legendgroup": "37900026",
         "marker": {
          "color": "#00cc96"
         },
         "name": "37900026",
         "offsetgroup": "37900026",
         "orientation": "v",
         "showlegend": true,
         "type": "histogram",
         "x": [
          "unknown"
         ],
         "xaxis": "x",
         "yaxis": "y"
        },
        {
         "alignmentgroup": "True",
         "bingroup": "x",
         "hovertemplate": "product_id=1004856<br>category_class=%{x}<br>count=%{y}<extra></extra>",
         "legendgroup": "1004856",
         "marker": {
          "color": "#ab63fa"
         },
         "name": "1004856",
         "offsetgroup": "1004856",
         "orientation": "v",
         "showlegend": true,
         "type": "histogram",
         "x": [
          "electronics",
          "electronics"
         ],
         "xaxis": "x",
         "yaxis": "y"
        },
        {
         "alignmentgroup": "True",
         "bingroup": "x",
         "hovertemplate": "product_id=12720378<br>category_class=%{x}<br>count=%{y}<extra></extra>",
         "legendgroup": "12720378",
         "marker": {
          "color": "#FFA15A"
         },
         "name": "12720378",
         "offsetgroup": "12720378",
         "orientation": "v",
         "showlegend": true,
         "type": "histogram",
         "x": [
          "unknown"
         ],
         "xaxis": "x",
         "yaxis": "y"
        },
        {
         "alignmentgroup": "True",
         "bingroup": "x",
         "hovertemplate": "product_id=16000004<br>category_class=%{x}<br>count=%{y}<extra></extra>",
         "legendgroup": "16000004",
         "marker": {
          "color": "#19d3f3"
         },
         "name": "16000004",
         "offsetgroup": "16000004",
         "orientation": "v",
         "showlegend": true,
         "type": "histogram",
         "x": [
          "unknown"
         ],
         "xaxis": "x",
         "yaxis": "y"
        },
        {
         "alignmentgroup": "True",
         "bingroup": "x",
         "hovertemplate": "product_id=12300928<br>category_class=%{x}<br>count=%{y}<extra></extra>",
         "legendgroup": "12300928",
         "marker": {
          "color": "#FF6692"
         },
         "name": "12300928",
         "offsetgroup": "12300928",
         "orientation": "v",
         "showlegend": true,
         "type": "histogram",
         "x": [
          "construction"
         ],
         "xaxis": "x",
         "yaxis": "y"
        },
        {
         "alignmentgroup": "True",
         "bingroup": "x",
         "hovertemplate": "product_id=1004877<br>category_class=%{x}<br>count=%{y}<extra></extra>",
         "legendgroup": "1004877",
         "marker": {
          "color": "#B6E880"
         },
         "name": "1004877",
         "offsetgroup": "1004877",
         "orientation": "v",
         "showlegend": true,
         "type": "histogram",
         "x": [
          "electronics"
         ],
         "xaxis": "x",
         "yaxis": "y"
        },
        {
         "alignmentgroup": "True",
         "bingroup": "x",
         "hovertemplate": "product_id=10301494<br>category_class=%{x}<br>count=%{y}<extra></extra>",
         "legendgroup": "10301494",
         "marker": {
          "color": "#FF97FF"
         },
         "name": "10301494",
         "offsetgroup": "10301494",
         "orientation": "v",
         "showlegend": true,
         "type": "histogram",
         "x": [
          "unknown"
         ],
         "xaxis": "x",
         "yaxis": "y"
        },
        {
         "alignmentgroup": "True",
         "bingroup": "x",
         "hovertemplate": "product_id=50600046<br>category_class=%{x}<br>count=%{y}<extra></extra>",
         "legendgroup": "50600046",
         "marker": {
          "color": "#FECB52"
         },
         "name": "50600046",
         "offsetgroup": "50600046",
         "orientation": "v",
         "showlegend": true,
         "type": "histogram",
         "x": [
          "auto"
         ],
         "xaxis": "x",
         "yaxis": "y"
        },
        {
         "alignmentgroup": "True",
         "bingroup": "x",
         "hovertemplate": "product_id=12719892<br>category_class=%{x}<br>count=%{y}<extra></extra>",
         "legendgroup": "12719892",
         "marker": {
          "color": "#636efa"
         },
         "name": "12719892",
         "offsetgroup": "12719892",
         "orientation": "v",
         "showlegend": true,
         "type": "histogram",
         "x": [
          "unknown"
         ],
         "xaxis": "x",
         "yaxis": "y"
        },
        {
         "alignmentgroup": "True",
         "bingroup": "x",
         "hovertemplate": "product_id=22700324<br>category_class=%{x}<br>count=%{y}<extra></extra>",
         "legendgroup": "22700324",
         "marker": {
          "color": "#EF553B"
         },
         "name": "22700324",
         "offsetgroup": "22700324",
         "orientation": "v",
         "showlegend": true,
         "type": "histogram",
         "x": [
          "unknown"
         ],
         "xaxis": "x",
         "yaxis": "y"
        },
        {
         "alignmentgroup": "True",
         "bingroup": "x",
         "hovertemplate": "product_id=16700690<br>category_class=%{x}<br>count=%{y}<extra></extra>",
         "legendgroup": "16700690",
         "marker": {
          "color": "#00cc96"
         },
         "name": "16700690",
         "offsetgroup": "16700690",
         "orientation": "v",
         "showlegend": true,
         "type": "histogram",
         "x": [
          "furniture"
         ],
         "xaxis": "x",
         "yaxis": "y"
        },
        {
         "alignmentgroup": "True",
         "bingroup": "x",
         "hovertemplate": "product_id=6500912<br>category_class=%{x}<br>count=%{y}<extra></extra>",
         "legendgroup": "6500912",
         "marker": {
          "color": "#ab63fa"
         },
         "name": "6500912",
         "offsetgroup": "6500912",
         "orientation": "v",
         "showlegend": true,
         "type": "histogram",
         "x": [
          "computers"
         ],
         "xaxis": "x",
         "yaxis": "y"
        },
        {
         "alignmentgroup": "True",
         "bingroup": "x",
         "hovertemplate": "product_id=13102283<br>category_class=%{x}<br>count=%{y}<extra></extra>",
         "legendgroup": "13102283",
         "marker": {
          "color": "#FFA15A"
         },
         "name": "13102283",
         "offsetgroup": "13102283",
         "orientation": "v",
         "showlegend": true,
         "type": "histogram",
         "x": [
          "unknown"
         ],
         "xaxis": "x",
         "yaxis": "y"
        },
        {
         "alignmentgroup": "True",
         "bingroup": "x",
         "hovertemplate": "product_id=1600557<br>category_class=%{x}<br>count=%{y}<extra></extra>",
         "legendgroup": "1600557",
         "marker": {
          "color": "#19d3f3"
         },
         "name": "1600557",
         "offsetgroup": "1600557",
         "orientation": "v",
         "showlegend": true,
         "type": "histogram",
         "x": [
          "computers"
         ],
         "xaxis": "x",
         "yaxis": "y"
        },
        {
         "alignmentgroup": "True",
         "bingroup": "x",
         "hovertemplate": "product_id=17300072<br>category_class=%{x}<br>count=%{y}<extra></extra>",
         "legendgroup": "17300072",
         "marker": {
          "color": "#FF6692"
         },
         "name": "17300072",
         "offsetgroup": "17300072",
         "orientation": "v",
         "showlegend": true,
         "type": "histogram",
         "x": [
          "unknown",
          "unknown"
         ],
         "xaxis": "x",
         "yaxis": "y"
        },
        {
         "alignmentgroup": "True",
         "bingroup": "x",
         "hovertemplate": "product_id=1004237<br>category_class=%{x}<br>count=%{y}<extra></extra>",
         "legendgroup": "1004237",
         "marker": {
          "color": "#B6E880"
         },
         "name": "1004237",
         "offsetgroup": "1004237",
         "orientation": "v",
         "showlegend": true,
         "type": "histogram",
         "x": [
          "electronics",
          "electronics"
         ],
         "xaxis": "x",
         "yaxis": "y"
        },
        {
         "alignmentgroup": "True",
         "bingroup": "x",
         "hovertemplate": "product_id=15200567<br>category_class=%{x}<br>count=%{y}<extra></extra>",
         "legendgroup": "15200567",
         "marker": {
          "color": "#FF97FF"
         },
         "name": "15200567",
         "offsetgroup": "15200567",
         "orientation": "v",
         "showlegend": true,
         "type": "histogram",
         "x": [
          "unknown"
         ],
         "xaxis": "x",
         "yaxis": "y"
        },
        {
         "alignmentgroup": "True",
         "bingroup": "x",
         "hovertemplate": "product_id=4804295<br>category_class=%{x}<br>count=%{y}<extra></extra>",
         "legendgroup": "4804295",
         "marker": {
          "color": "#FECB52"
         },
         "name": "4804295",
         "offsetgroup": "4804295",
         "orientation": "v",
         "showlegend": true,
         "type": "histogram",
         "x": [
          "electronics",
          "electronics"
         ],
         "xaxis": "x",
         "yaxis": "y"
        },
        {
         "alignmentgroup": "True",
         "bingroup": "x",
         "hovertemplate": "product_id=17301495<br>category_class=%{x}<br>count=%{y}<extra></extra>",
         "legendgroup": "17301495",
         "marker": {
          "color": "#636efa"
         },
         "name": "17301495",
         "offsetgroup": "17301495",
         "orientation": "v",
         "showlegend": true,
         "type": "histogram",
         "x": [
          "unknown"
         ],
         "xaxis": "x",
         "yaxis": "y"
        },
        {
         "alignmentgroup": "True",
         "bingroup": "x",
         "hovertemplate": "product_id=1004990<br>category_class=%{x}<br>count=%{y}<extra></extra>",
         "legendgroup": "1004990",
         "marker": {
          "color": "#EF553B"
         },
         "name": "1004990",
         "offsetgroup": "1004990",
         "orientation": "v",
         "showlegend": true,
         "type": "histogram",
         "x": [
          "electronics"
         ],
         "xaxis": "x",
         "yaxis": "y"
        },
        {
         "alignmentgroup": "True",
         "bingroup": "x",
         "hovertemplate": "product_id=17800132<br>category_class=%{x}<br>count=%{y}<extra></extra>",
         "legendgroup": "17800132",
         "marker": {
          "color": "#00cc96"
         },
         "name": "17800132",
         "offsetgroup": "17800132",
         "orientation": "v",
         "showlegend": true,
         "type": "histogram",
         "x": [
          "computers"
         ],
         "xaxis": "x",
         "yaxis": "y"
        },
        {
         "alignmentgroup": "True",
         "bingroup": "x",
         "hovertemplate": "product_id=5701331<br>category_class=%{x}<br>count=%{y}<extra></extra>",
         "legendgroup": "5701331",
         "marker": {
          "color": "#ab63fa"
         },
         "name": "5701331",
         "offsetgroup": "5701331",
         "orientation": "v",
         "showlegend": true,
         "type": "histogram",
         "x": [
          "auto",
          "auto",
          "auto"
         ],
         "xaxis": "x",
         "yaxis": "y"
        },
        {
         "alignmentgroup": "True",
         "bingroup": "x",
         "hovertemplate": "product_id=1307338<br>category_class=%{x}<br>count=%{y}<extra></extra>",
         "legendgroup": "1307338",
         "marker": {
          "color": "#FFA15A"
         },
         "name": "1307338",
         "offsetgroup": "1307338",
         "orientation": "v",
         "showlegend": true,
         "type": "histogram",
         "x": [
          "computers"
         ],
         "xaxis": "x",
         "yaxis": "y"
        },
        {
         "alignmentgroup": "True",
         "bingroup": "x",
         "hovertemplate": "product_id=1004767<br>category_class=%{x}<br>count=%{y}<extra></extra>",
         "legendgroup": "1004767",
         "marker": {
          "color": "#19d3f3"
         },
         "name": "1004767",
         "offsetgroup": "1004767",
         "orientation": "v",
         "showlegend": true,
         "type": "histogram",
         "x": [
          "electronics",
          "electronics"
         ],
         "xaxis": "x",
         "yaxis": "y"
        },
        {
         "alignmentgroup": "True",
         "bingroup": "x",
         "hovertemplate": "product_id=38900011<br>category_class=%{x}<br>count=%{y}<extra></extra>",
         "legendgroup": "38900011",
         "marker": {
          "color": "#FF6692"
         },
         "name": "38900011",
         "offsetgroup": "38900011",
         "orientation": "v",
         "showlegend": true,
         "type": "histogram",
         "x": [
          "unknown",
          "unknown"
         ],
         "xaxis": "x",
         "yaxis": "y"
        },
        {
         "alignmentgroup": "True",
         "bingroup": "x",
         "hovertemplate": "product_id=32900064<br>category_class=%{x}<br>count=%{y}<extra></extra>",
         "legendgroup": "32900064",
         "marker": {
          "color": "#B6E880"
         },
         "name": "32900064",
         "offsetgroup": "32900064",
         "orientation": "v",
         "showlegend": true,
         "type": "histogram",
         "x": [
          "accessories"
         ],
         "xaxis": "x",
         "yaxis": "y"
        },
        {
         "alignmentgroup": "True",
         "bingroup": "x",
         "hovertemplate": "product_id=2701305<br>category_class=%{x}<br>count=%{y}<extra></extra>",
         "legendgroup": "2701305",
         "marker": {
          "color": "#FF97FF"
         },
         "name": "2701305",
         "offsetgroup": "2701305",
         "orientation": "v",
         "showlegend": true,
         "type": "histogram",
         "x": [
          "appliances"
         ],
         "xaxis": "x",
         "yaxis": "y"
        },
        {
         "alignmentgroup": "True",
         "bingroup": "x",
         "hovertemplate": "product_id=44300009<br>category_class=%{x}<br>count=%{y}<extra></extra>",
         "legendgroup": "44300009",
         "marker": {
          "color": "#FECB52"
         },
         "name": "44300009",
         "offsetgroup": "44300009",
         "orientation": "v",
         "showlegend": true,
         "type": "histogram",
         "x": [
          "apparel"
         ],
         "xaxis": "x",
         "yaxis": "y"
        },
        {
         "alignmentgroup": "True",
         "bingroup": "x",
         "hovertemplate": "product_id=4804151<br>category_class=%{x}<br>count=%{y}<extra></extra>",
         "legendgroup": "4804151",
         "marker": {
          "color": "#636efa"
         },
         "name": "4804151",
         "offsetgroup": "4804151",
         "orientation": "v",
         "showlegend": true,
         "type": "histogram",
         "x": [
          "electronics"
         ],
         "xaxis": "x",
         "yaxis": "y"
        },
        {
         "alignmentgroup": "True",
         "bingroup": "x",
         "hovertemplate": "product_id=29900072<br>category_class=%{x}<br>count=%{y}<extra></extra>",
         "legendgroup": "29900072",
         "marker": {
          "color": "#EF553B"
         },
         "name": "29900072",
         "offsetgroup": "29900072",
         "orientation": "v",
         "showlegend": true,
         "type": "histogram",
         "x": [
          "unknown",
          "unknown"
         ],
         "xaxis": "x",
         "yaxis": "y"
        },
        {
         "alignmentgroup": "True",
         "bingroup": "x",
         "hovertemplate": "product_id=1004184<br>category_class=%{x}<br>count=%{y}<extra></extra>",
         "legendgroup": "1004184",
         "marker": {
          "color": "#00cc96"
         },
         "name": "1004184",
         "offsetgroup": "1004184",
         "orientation": "v",
         "showlegend": true,
         "type": "histogram",
         "x": [
          "electronics"
         ],
         "xaxis": "x",
         "yaxis": "y"
        },
        {
         "alignmentgroup": "True",
         "bingroup": "x",
         "hovertemplate": "product_id=1003316<br>category_class=%{x}<br>count=%{y}<extra></extra>",
         "legendgroup": "1003316",
         "marker": {
          "color": "#ab63fa"
         },
         "name": "1003316",
         "offsetgroup": "1003316",
         "orientation": "v",
         "showlegend": true,
         "type": "histogram",
         "x": [
          "electronics",
          "electronics"
         ],
         "xaxis": "x",
         "yaxis": "y"
        },
        {
         "alignmentgroup": "True",
         "bingroup": "x",
         "hovertemplate": "product_id=21408240<br>category_class=%{x}<br>count=%{y}<extra></extra>",
         "legendgroup": "21408240",
         "marker": {
          "color": "#FFA15A"
         },
         "name": "21408240",
         "offsetgroup": "21408240",
         "orientation": "v",
         "showlegend": true,
         "type": "histogram",
         "x": [
          "electronics",
          "electronics"
         ],
         "xaxis": "x",
         "yaxis": "y"
        },
        {
         "alignmentgroup": "True",
         "bingroup": "x",
         "hovertemplate": "product_id=2701419<br>category_class=%{x}<br>count=%{y}<extra></extra>",
         "legendgroup": "2701419",
         "marker": {
          "color": "#19d3f3"
         },
         "name": "2701419",
         "offsetgroup": "2701419",
         "orientation": "v",
         "showlegend": true,
         "type": "histogram",
         "x": [
          "appliances"
         ],
         "xaxis": "x",
         "yaxis": "y"
        },
        {
         "alignmentgroup": "True",
         "bingroup": "x",
         "hovertemplate": "product_id=10800076<br>category_class=%{x}<br>count=%{y}<extra></extra>",
         "legendgroup": "10800076",
         "marker": {
          "color": "#FF6692"
         },
         "name": "10800076",
         "offsetgroup": "10800076",
         "orientation": "v",
         "showlegend": true,
         "type": "histogram",
         "x": [
          "unknown"
         ],
         "xaxis": "x",
         "yaxis": "y"
        },
        {
         "alignmentgroup": "True",
         "bingroup": "x",
         "hovertemplate": "product_id=6700582<br>category_class=%{x}<br>count=%{y}<extra></extra>",
         "legendgroup": "6700582",
         "marker": {
          "color": "#B6E880"
         },
         "name": "6700582",
         "offsetgroup": "6700582",
         "orientation": "v",
         "showlegend": true,
         "type": "histogram",
         "x": [
          "computers"
         ],
         "xaxis": "x",
         "yaxis": "y"
        },
        {
         "alignmentgroup": "True",
         "bingroup": "x",
         "hovertemplate": "product_id=1005116<br>category_class=%{x}<br>count=%{y}<extra></extra>",
         "legendgroup": "1005116",
         "marker": {
          "color": "#FF97FF"
         },
         "name": "1005116",
         "offsetgroup": "1005116",
         "orientation": "v",
         "showlegend": true,
         "type": "histogram",
         "x": [
          "electronics",
          "electronics"
         ],
         "xaxis": "x",
         "yaxis": "y"
        },
        {
         "alignmentgroup": "True",
         "bingroup": "x",
         "hovertemplate": "product_id=2200958<br>category_class=%{x}<br>count=%{y}<extra></extra>",
         "legendgroup": "2200958",
         "marker": {
          "color": "#FECB52"
         },
         "name": "2200958",
         "offsetgroup": "2200958",
         "orientation": "v",
         "showlegend": true,
         "type": "histogram",
         "x": [
          "unknown"
         ],
         "xaxis": "x",
         "yaxis": "y"
        },
        {
         "alignmentgroup": "True",
         "bingroup": "x",
         "hovertemplate": "product_id=1004241<br>category_class=%{x}<br>count=%{y}<extra></extra>",
         "legendgroup": "1004241",
         "marker": {
          "color": "#636efa"
         },
         "name": "1004241",
         "offsetgroup": "1004241",
         "orientation": "v",
         "showlegend": true,
         "type": "histogram",
         "x": [
          "electronics"
         ],
         "xaxis": "x",
         "yaxis": "y"
        },
        {
         "alignmentgroup": "True",
         "bingroup": "x",
         "hovertemplate": "product_id=1307322<br>category_class=%{x}<br>count=%{y}<extra></extra>",
         "legendgroup": "1307322",
         "marker": {
          "color": "#EF553B"
         },
         "name": "1307322",
         "offsetgroup": "1307322",
         "orientation": "v",
         "showlegend": true,
         "type": "histogram",
         "x": [
          "computers"
         ],
         "xaxis": "x",
         "yaxis": "y"
        },
        {
         "alignmentgroup": "True",
         "bingroup": "x",
         "hovertemplate": "product_id=13200605<br>category_class=%{x}<br>count=%{y}<extra></extra>",
         "legendgroup": "13200605",
         "marker": {
          "color": "#00cc96"
         },
         "name": "13200605",
         "offsetgroup": "13200605",
         "orientation": "v",
         "showlegend": true,
         "type": "histogram",
         "x": [
          "furniture",
          "furniture",
          "furniture"
         ],
         "xaxis": "x",
         "yaxis": "y"
        },
        {
         "alignmentgroup": "True",
         "bingroup": "x",
         "hovertemplate": "product_id=41100058<br>category_class=%{x}<br>count=%{y}<extra></extra>",
         "legendgroup": "41100058",
         "marker": {
          "color": "#ab63fa"
         },
         "name": "41100058",
         "offsetgroup": "41100058",
         "orientation": "v",
         "showlegend": true,
         "type": "histogram",
         "x": [
          "unknown"
         ],
         "xaxis": "x",
         "yaxis": "y"
        },
        {
         "alignmentgroup": "True",
         "bingroup": "x",
         "hovertemplate": "product_id=1004840<br>category_class=%{x}<br>count=%{y}<extra></extra>",
         "legendgroup": "1004840",
         "marker": {
          "color": "#FFA15A"
         },
         "name": "1004840",
         "offsetgroup": "1004840",
         "orientation": "v",
         "showlegend": true,
         "type": "histogram",
         "x": [
          "electronics"
         ],
         "xaxis": "x",
         "yaxis": "y"
        },
        {
         "alignmentgroup": "True",
         "bingroup": "x",
         "hovertemplate": "product_id=12720155<br>category_class=%{x}<br>count=%{y}<extra></extra>",
         "legendgroup": "12720155",
         "marker": {
          "color": "#19d3f3"
         },
         "name": "12720155",
         "offsetgroup": "12720155",
         "orientation": "v",
         "showlegend": true,
         "type": "histogram",
         "x": [
          "unknown"
         ],
         "xaxis": "x",
         "yaxis": "y"
        },
        {
         "alignmentgroup": "True",
         "bingroup": "x",
         "hovertemplate": "product_id=18100030<br>category_class=%{x}<br>count=%{y}<extra></extra>",
         "legendgroup": "18100030",
         "marker": {
          "color": "#FF6692"
         },
         "name": "18100030",
         "offsetgroup": "18100030",
         "orientation": "v",
         "showlegend": true,
         "type": "histogram",
         "x": [
          "unknown"
         ],
         "xaxis": "x",
         "yaxis": "y"
        },
        {
         "alignmentgroup": "True",
         "bingroup": "x",
         "hovertemplate": "product_id=2700598<br>category_class=%{x}<br>count=%{y}<extra></extra>",
         "legendgroup": "2700598",
         "marker": {
          "color": "#B6E880"
         },
         "name": "2700598",
         "offsetgroup": "2700598",
         "orientation": "v",
         "showlegend": true,
         "type": "histogram",
         "x": [
          "appliances"
         ],
         "xaxis": "x",
         "yaxis": "y"
        },
        {
         "alignmentgroup": "True",
         "bingroup": "x",
         "hovertemplate": "product_id=5100851<br>category_class=%{x}<br>count=%{y}<extra></extra>",
         "legendgroup": "5100851",
         "marker": {
          "color": "#FF97FF"
         },
         "name": "5100851",
         "offsetgroup": "5100851",
         "orientation": "v",
         "showlegend": true,
         "type": "histogram",
         "x": [
          "unknown"
         ],
         "xaxis": "x",
         "yaxis": "y"
        },
        {
         "alignmentgroup": "True",
         "bingroup": "x",
         "hovertemplate": "product_id=17301611<br>category_class=%{x}<br>count=%{y}<extra></extra>",
         "legendgroup": "17301611",
         "marker": {
          "color": "#FECB52"
         },
         "name": "17301611",
         "offsetgroup": "17301611",
         "orientation": "v",
         "showlegend": true,
         "type": "histogram",
         "x": [
          "unknown"
         ],
         "xaxis": "x",
         "yaxis": "y"
        },
        {
         "alignmentgroup": "True",
         "bingroup": "x",
         "hovertemplate": "product_id=44300026<br>category_class=%{x}<br>count=%{y}<extra></extra>",
         "legendgroup": "44300026",
         "marker": {
          "color": "#636efa"
         },
         "name": "44300026",
         "offsetgroup": "44300026",
         "orientation": "v",
         "showlegend": true,
         "type": "histogram",
         "x": [
          "apparel"
         ],
         "xaxis": "x",
         "yaxis": "y"
        },
        {
         "alignmentgroup": "True",
         "bingroup": "x",
         "hovertemplate": "product_id=5700662<br>category_class=%{x}<br>count=%{y}<extra></extra>",
         "legendgroup": "5700662",
         "marker": {
          "color": "#EF553B"
         },
         "name": "5700662",
         "offsetgroup": "5700662",
         "orientation": "v",
         "showlegend": true,
         "type": "histogram",
         "x": [
          "auto"
         ],
         "xaxis": "x",
         "yaxis": "y"
        },
        {
         "alignmentgroup": "True",
         "bingroup": "x",
         "hovertemplate": "product_id=12301394<br>category_class=%{x}<br>count=%{y}<extra></extra>",
         "legendgroup": "12301394",
         "marker": {
          "color": "#00cc96"
         },
         "name": "12301394",
         "offsetgroup": "12301394",
         "orientation": "v",
         "showlegend": true,
         "type": "histogram",
         "x": [
          "construction"
         ],
         "xaxis": "x",
         "yaxis": "y"
        },
        {
         "alignmentgroup": "True",
         "bingroup": "x",
         "hovertemplate": "product_id=1307255<br>category_class=%{x}<br>count=%{y}<extra></extra>",
         "legendgroup": "1307255",
         "marker": {
          "color": "#ab63fa"
         },
         "name": "1307255",
         "offsetgroup": "1307255",
         "orientation": "v",
         "showlegend": true,
         "type": "histogram",
         "x": [
          "computers"
         ],
         "xaxis": "x",
         "yaxis": "y"
        },
        {
         "alignmentgroup": "True",
         "bingroup": "x",
         "hovertemplate": "product_id=13600340<br>category_class=%{x}<br>count=%{y}<extra></extra>",
         "legendgroup": "13600340",
         "marker": {
          "color": "#FFA15A"
         },
         "name": "13600340",
         "offsetgroup": "13600340",
         "orientation": "v",
         "showlegend": true,
         "type": "histogram",
         "x": [
          "furniture"
         ],
         "xaxis": "x",
         "yaxis": "y"
        },
        {
         "alignmentgroup": "True",
         "bingroup": "x",
         "hovertemplate": "product_id=52000038<br>category_class=%{x}<br>count=%{y}<extra></extra>",
         "legendgroup": "52000038",
         "marker": {
          "color": "#19d3f3"
         },
         "name": "52000038",
         "offsetgroup": "52000038",
         "orientation": "v",
         "showlegend": true,
         "type": "histogram",
         "x": [
          "unknown"
         ],
         "xaxis": "x",
         "yaxis": "y"
        },
        {
         "alignmentgroup": "True",
         "bingroup": "x",
         "hovertemplate": "product_id=7100133<br>category_class=%{x}<br>count=%{y}<extra></extra>",
         "legendgroup": "7100133",
         "marker": {
          "color": "#FF6692"
         },
         "name": "7100133",
         "offsetgroup": "7100133",
         "orientation": "v",
         "showlegend": true,
         "type": "histogram",
         "x": [
          "furniture"
         ],
         "xaxis": "x",
         "yaxis": "y"
        },
        {
         "alignmentgroup": "True",
         "bingroup": "x",
         "hovertemplate": "product_id=22700202<br>category_class=%{x}<br>count=%{y}<extra></extra>",
         "legendgroup": "22700202",
         "marker": {
          "color": "#B6E880"
         },
         "name": "22700202",
         "offsetgroup": "22700202",
         "orientation": "v",
         "showlegend": true,
         "type": "histogram",
         "x": [
          "unknown"
         ],
         "xaxis": "x",
         "yaxis": "y"
        },
        {
         "alignmentgroup": "True",
         "bingroup": "x",
         "hovertemplate": "product_id=1004834<br>category_class=%{x}<br>count=%{y}<extra></extra>",
         "legendgroup": "1004834",
         "marker": {
          "color": "#FF97FF"
         },
         "name": "1004834",
         "offsetgroup": "1004834",
         "orientation": "v",
         "showlegend": true,
         "type": "histogram",
         "x": [
          "electronics"
         ],
         "xaxis": "x",
         "yaxis": "y"
        },
        {
         "alignmentgroup": "True",
         "bingroup": "x",
         "hovertemplate": "product_id=1004833<br>category_class=%{x}<br>count=%{y}<extra></extra>",
         "legendgroup": "1004833",
         "marker": {
          "color": "#FECB52"
         },
         "name": "1004833",
         "offsetgroup": "1004833",
         "orientation": "v",
         "showlegend": true,
         "type": "histogram",
         "x": [
          "electronics"
         ],
         "xaxis": "x",
         "yaxis": "y"
        },
        {
         "alignmentgroup": "True",
         "bingroup": "x",
         "hovertemplate": "product_id=5800506<br>category_class=%{x}<br>count=%{y}<extra></extra>",
         "legendgroup": "5800506",
         "marker": {
          "color": "#636efa"
         },
         "name": "5800506",
         "offsetgroup": "5800506",
         "orientation": "v",
         "showlegend": true,
         "type": "histogram",
         "x": [
          "electronics"
         ],
         "xaxis": "x",
         "yaxis": "y"
        },
        {
         "alignmentgroup": "True",
         "bingroup": "x",
         "hovertemplate": "product_id=15100337<br>category_class=%{x}<br>count=%{y}<extra></extra>",
         "legendgroup": "15100337",
         "marker": {
          "color": "#EF553B"
         },
         "name": "15100337",
         "offsetgroup": "15100337",
         "orientation": "v",
         "showlegend": true,
         "type": "histogram",
         "x": [
          "unknown"
         ],
         "xaxis": "x",
         "yaxis": "y"
        },
        {
         "alignmentgroup": "True",
         "bingroup": "x",
         "hovertemplate": "product_id=1005234<br>category_class=%{x}<br>count=%{y}<extra></extra>",
         "legendgroup": "1005234",
         "marker": {
          "color": "#00cc96"
         },
         "name": "1005234",
         "offsetgroup": "1005234",
         "orientation": "v",
         "showlegend": true,
         "type": "histogram",
         "x": [
          "electronics"
         ],
         "xaxis": "x",
         "yaxis": "y"
        },
        {
         "alignmentgroup": "True",
         "bingroup": "x",
         "hovertemplate": "product_id=15100148<br>category_class=%{x}<br>count=%{y}<extra></extra>",
         "legendgroup": "15100148",
         "marker": {
          "color": "#ab63fa"
         },
         "name": "15100148",
         "offsetgroup": "15100148",
         "orientation": "v",
         "showlegend": true,
         "type": "histogram",
         "x": [
          "unknown"
         ],
         "xaxis": "x",
         "yaxis": "y"
        },
        {
         "alignmentgroup": "True",
         "bingroup": "x",
         "hovertemplate": "product_id=1307012<br>category_class=%{x}<br>count=%{y}<extra></extra>",
         "legendgroup": "1307012",
         "marker": {
          "color": "#FFA15A"
         },
         "name": "1307012",
         "offsetgroup": "1307012",
         "orientation": "v",
         "showlegend": true,
         "type": "histogram",
         "x": [
          "computers"
         ],
         "xaxis": "x",
         "yaxis": "y"
        },
        {
         "alignmentgroup": "True",
         "bingroup": "x",
         "hovertemplate": "product_id=36600031<br>category_class=%{x}<br>count=%{y}<extra></extra>",
         "legendgroup": "36600031",
         "marker": {
          "color": "#19d3f3"
         },
         "name": "36600031",
         "offsetgroup": "36600031",
         "orientation": "v",
         "showlegend": true,
         "type": "histogram",
         "x": [
          "unknown"
         ],
         "xaxis": "x",
         "yaxis": "y"
        },
        {
         "alignmentgroup": "True",
         "bingroup": "x",
         "hovertemplate": "product_id=1307065<br>category_class=%{x}<br>count=%{y}<extra></extra>",
         "legendgroup": "1307065",
         "marker": {
          "color": "#FF6692"
         },
         "name": "1307065",
         "offsetgroup": "1307065",
         "orientation": "v",
         "showlegend": true,
         "type": "histogram",
         "x": [
          "computers"
         ],
         "xaxis": "x",
         "yaxis": "y"
        },
        {
         "alignmentgroup": "True",
         "bingroup": "x",
         "hovertemplate": "product_id=22700007<br>category_class=%{x}<br>count=%{y}<extra></extra>",
         "legendgroup": "22700007",
         "marker": {
          "color": "#B6E880"
         },
         "name": "22700007",
         "offsetgroup": "22700007",
         "orientation": "v",
         "showlegend": true,
         "type": "histogram",
         "x": [
          "unknown"
         ],
         "xaxis": "x",
         "yaxis": "y"
        },
        {
         "alignmentgroup": "True",
         "bingroup": "x",
         "hovertemplate": "product_id=26404402<br>category_class=%{x}<br>count=%{y}<extra></extra>",
         "legendgroup": "26404402",
         "marker": {
          "color": "#FF97FF"
         },
         "name": "26404402",
         "offsetgroup": "26404402",
         "orientation": "v",
         "showlegend": true,
         "type": "histogram",
         "x": [
          "unknown"
         ],
         "xaxis": "x",
         "yaxis": "y"
        },
        {
         "alignmentgroup": "True",
         "bingroup": "x",
         "hovertemplate": "product_id=15800155<br>category_class=%{x}<br>count=%{y}<extra></extra>",
         "legendgroup": "15800155",
         "marker": {
          "color": "#FECB52"
         },
         "name": "15800155",
         "offsetgroup": "15800155",
         "orientation": "v",
         "showlegend": true,
         "type": "histogram",
         "x": [
          "unknown"
         ],
         "xaxis": "x",
         "yaxis": "y"
        },
        {
         "alignmentgroup": "True",
         "bingroup": "x",
         "hovertemplate": "product_id=1307519<br>category_class=%{x}<br>count=%{y}<extra></extra>",
         "legendgroup": "1307519",
         "marker": {
          "color": "#636efa"
         },
         "name": "1307519",
         "offsetgroup": "1307519",
         "orientation": "v",
         "showlegend": true,
         "type": "histogram",
         "x": [
          "computers"
         ],
         "xaxis": "x",
         "yaxis": "y"
        },
        {
         "alignmentgroup": "True",
         "bingroup": "x",
         "hovertemplate": "product_id=50600085<br>category_class=%{x}<br>count=%{y}<extra></extra>",
         "legendgroup": "50600085",
         "marker": {
          "color": "#EF553B"
         },
         "name": "50600085",
         "offsetgroup": "50600085",
         "orientation": "v",
         "showlegend": true,
         "type": "histogram",
         "x": [
          "auto"
         ],
         "xaxis": "x",
         "yaxis": "y"
        },
        {
         "alignmentgroup": "True",
         "bingroup": "x",
         "hovertemplate": "product_id=30000218<br>category_class=%{x}<br>count=%{y}<extra></extra>",
         "legendgroup": "30000218",
         "marker": {
          "color": "#00cc96"
         },
         "name": "30000218",
         "offsetgroup": "30000218",
         "orientation": "v",
         "showlegend": true,
         "type": "histogram",
         "x": [
          "construction"
         ],
         "xaxis": "x",
         "yaxis": "y"
        },
        {
         "alignmentgroup": "True",
         "bingroup": "x",
         "hovertemplate": "product_id=1004322<br>category_class=%{x}<br>count=%{y}<extra></extra>",
         "legendgroup": "1004322",
         "marker": {
          "color": "#ab63fa"
         },
         "name": "1004322",
         "offsetgroup": "1004322",
         "orientation": "v",
         "showlegend": true,
         "type": "histogram",
         "x": [
          "electronics"
         ],
         "xaxis": "x",
         "yaxis": "y"
        },
        {
         "alignmentgroup": "True",
         "bingroup": "x",
         "hovertemplate": "product_id=22700084<br>category_class=%{x}<br>count=%{y}<extra></extra>",
         "legendgroup": "22700084",
         "marker": {
          "color": "#FFA15A"
         },
         "name": "22700084",
         "offsetgroup": "22700084",
         "orientation": "v",
         "showlegend": true,
         "type": "histogram",
         "x": [
          "unknown"
         ],
         "xaxis": "x",
         "yaxis": "y"
        },
        {
         "alignmentgroup": "True",
         "bingroup": "x",
         "hovertemplate": "product_id=12710321<br>category_class=%{x}<br>count=%{y}<extra></extra>",
         "legendgroup": "12710321",
         "marker": {
          "color": "#19d3f3"
         },
         "name": "12710321",
         "offsetgroup": "12710321",
         "orientation": "v",
         "showlegend": true,
         "type": "histogram",
         "x": [
          "unknown"
         ],
         "xaxis": "x",
         "yaxis": "y"
        },
        {
         "alignmentgroup": "True",
         "bingroup": "x",
         "hovertemplate": "product_id=27800061<br>category_class=%{x}<br>count=%{y}<extra></extra>",
         "legendgroup": "27800061",
         "marker": {
          "color": "#FF6692"
         },
         "name": "27800061",
         "offsetgroup": "27800061",
         "orientation": "v",
         "showlegend": true,
         "type": "histogram",
         "x": [
          "unknown"
         ],
         "xaxis": "x",
         "yaxis": "y"
        },
        {
         "alignmentgroup": "True",
         "bingroup": "x",
         "hovertemplate": "product_id=17601982<br>category_class=%{x}<br>count=%{y}<extra></extra>",
         "legendgroup": "17601982",
         "marker": {
          "color": "#B6E880"
         },
         "name": "17601982",
         "offsetgroup": "17601982",
         "orientation": "v",
         "showlegend": true,
         "type": "histogram",
         "x": [
          "unknown"
         ],
         "xaxis": "x",
         "yaxis": "y"
        },
        {
         "alignmentgroup": "True",
         "bingroup": "x",
         "hovertemplate": "product_id=1600587<br>category_class=%{x}<br>count=%{y}<extra></extra>",
         "legendgroup": "1600587",
         "marker": {
          "color": "#FF97FF"
         },
         "name": "1600587",
         "offsetgroup": "1600587",
         "orientation": "v",
         "showlegend": true,
         "type": "histogram",
         "x": [
          "computers"
         ],
         "xaxis": "x",
         "yaxis": "y"
        },
        {
         "alignmentgroup": "True",
         "bingroup": "x",
         "hovertemplate": "product_id=17301421<br>category_class=%{x}<br>count=%{y}<extra></extra>",
         "legendgroup": "17301421",
         "marker": {
          "color": "#FECB52"
         },
         "name": "17301421",
         "offsetgroup": "17301421",
         "orientation": "v",
         "showlegend": true,
         "type": "histogram",
         "x": [
          "unknown"
         ],
         "xaxis": "x",
         "yaxis": "y"
        },
        {
         "alignmentgroup": "True",
         "bingroup": "x",
         "hovertemplate": "product_id=1004720<br>category_class=%{x}<br>count=%{y}<extra></extra>",
         "legendgroup": "1004720",
         "marker": {
          "color": "#636efa"
         },
         "name": "1004720",
         "offsetgroup": "1004720",
         "orientation": "v",
         "showlegend": true,
         "type": "histogram",
         "x": [
          "electronics"
         ],
         "xaxis": "x",
         "yaxis": "y"
        },
        {
         "alignmentgroup": "True",
         "bingroup": "x",
         "hovertemplate": "product_id=4600541<br>category_class=%{x}<br>count=%{y}<extra></extra>",
         "legendgroup": "4600541",
         "marker": {
          "color": "#EF553B"
         },
         "name": "4600541",
         "offsetgroup": "4600541",
         "orientation": "v",
         "showlegend": true,
         "type": "histogram",
         "x": [
          "appliances"
         ],
         "xaxis": "x",
         "yaxis": "y"
        },
        {
         "alignmentgroup": "True",
         "bingroup": "x",
         "hovertemplate": "product_id=41100050<br>category_class=%{x}<br>count=%{y}<extra></extra>",
         "legendgroup": "41100050",
         "marker": {
          "color": "#00cc96"
         },
         "name": "41100050",
         "offsetgroup": "41100050",
         "orientation": "v",
         "showlegend": true,
         "type": "histogram",
         "x": [
          "unknown"
         ],
         "xaxis": "x",
         "yaxis": "y"
        },
        {
         "alignmentgroup": "True",
         "bingroup": "x",
         "hovertemplate": "product_id=1306571<br>category_class=%{x}<br>count=%{y}<extra></extra>",
         "legendgroup": "1306571",
         "marker": {
          "color": "#ab63fa"
         },
         "name": "1306571",
         "offsetgroup": "1306571",
         "orientation": "v",
         "showlegend": true,
         "type": "histogram",
         "x": [
          "computers"
         ],
         "xaxis": "x",
         "yaxis": "y"
        },
        {
         "alignmentgroup": "True",
         "bingroup": "x",
         "hovertemplate": "product_id=5700352<br>category_class=%{x}<br>count=%{y}<extra></extra>",
         "legendgroup": "5700352",
         "marker": {
          "color": "#FFA15A"
         },
         "name": "5700352",
         "offsetgroup": "5700352",
         "orientation": "v",
         "showlegend": true,
         "type": "histogram",
         "x": [
          "auto"
         ],
         "xaxis": "x",
         "yaxis": "y"
        },
        {
         "alignmentgroup": "True",
         "bingroup": "x",
         "hovertemplate": "product_id=53900036<br>category_class=%{x}<br>count=%{y}<extra></extra>",
         "legendgroup": "53900036",
         "marker": {
          "color": "#19d3f3"
         },
         "name": "53900036",
         "offsetgroup": "53900036",
         "orientation": "v",
         "showlegend": true,
         "type": "histogram",
         "x": [
          "construction"
         ],
         "xaxis": "x",
         "yaxis": "y"
        },
        {
         "alignmentgroup": "True",
         "bingroup": "x",
         "hovertemplate": "product_id=1003869<br>category_class=%{x}<br>count=%{y}<extra></extra>",
         "legendgroup": "1003869",
         "marker": {
          "color": "#FF6692"
         },
         "name": "1003869",
         "offsetgroup": "1003869",
         "orientation": "v",
         "showlegend": true,
         "type": "histogram",
         "x": [
          "electronics"
         ],
         "xaxis": "x",
         "yaxis": "y"
        },
        {
         "alignmentgroup": "True",
         "bingroup": "x",
         "hovertemplate": "product_id=13100745<br>category_class=%{x}<br>count=%{y}<extra></extra>",
         "legendgroup": "13100745",
         "marker": {
          "color": "#B6E880"
         },
         "name": "13100745",
         "offsetgroup": "13100745",
         "orientation": "v",
         "showlegend": true,
         "type": "histogram",
         "x": [
          "unknown"
         ],
         "xaxis": "x",
         "yaxis": "y"
        },
        {
         "alignmentgroup": "True",
         "bingroup": "x",
         "hovertemplate": "product_id=5100797<br>category_class=%{x}<br>count=%{y}<extra></extra>",
         "legendgroup": "5100797",
         "marker": {
          "color": "#FF97FF"
         },
         "name": "5100797",
         "offsetgroup": "5100797",
         "orientation": "v",
         "showlegend": true,
         "type": "histogram",
         "x": [
          "electronics"
         ],
         "xaxis": "x",
         "yaxis": "y"
        },
        {
         "alignmentgroup": "True",
         "bingroup": "x",
         "hovertemplate": "product_id=16700384<br>category_class=%{x}<br>count=%{y}<extra></extra>",
         "legendgroup": "16700384",
         "marker": {
          "color": "#FECB52"
         },
         "name": "16700384",
         "offsetgroup": "16700384",
         "orientation": "v",
         "showlegend": true,
         "type": "histogram",
         "x": [
          "furniture",
          "furniture"
         ],
         "xaxis": "x",
         "yaxis": "y"
        },
        {
         "alignmentgroup": "True",
         "bingroup": "x",
         "hovertemplate": "product_id=1305977<br>category_class=%{x}<br>count=%{y}<extra></extra>",
         "legendgroup": "1305977",
         "marker": {
          "color": "#636efa"
         },
         "name": "1305977",
         "offsetgroup": "1305977",
         "orientation": "v",
         "showlegend": true,
         "type": "histogram",
         "x": [
          "computers"
         ],
         "xaxis": "x",
         "yaxis": "y"
        },
        {
         "alignmentgroup": "True",
         "bingroup": "x",
         "hovertemplate": "product_id=2702611<br>category_class=%{x}<br>count=%{y}<extra></extra>",
         "legendgroup": "2702611",
         "marker": {
          "color": "#EF553B"
         },
         "name": "2702611",
         "offsetgroup": "2702611",
         "orientation": "v",
         "showlegend": true,
         "type": "histogram",
         "x": [
          "appliances"
         ],
         "xaxis": "x",
         "yaxis": "y"
        },
        {
         "alignmentgroup": "True",
         "bingroup": "x",
         "hovertemplate": "product_id=1004779<br>category_class=%{x}<br>count=%{y}<extra></extra>",
         "legendgroup": "1004779",
         "marker": {
          "color": "#00cc96"
         },
         "name": "1004779",
         "offsetgroup": "1004779",
         "orientation": "v",
         "showlegend": true,
         "type": "histogram",
         "x": [
          "electronics"
         ],
         "xaxis": "x",
         "yaxis": "y"
        },
        {
         "alignmentgroup": "True",
         "bingroup": "x",
         "hovertemplate": "product_id=24400436<br>category_class=%{x}<br>count=%{y}<extra></extra>",
         "legendgroup": "24400436",
         "marker": {
          "color": "#ab63fa"
         },
         "name": "24400436",
         "offsetgroup": "24400436",
         "orientation": "v",
         "showlegend": true,
         "type": "histogram",
         "x": [
          "unknown"
         ],
         "xaxis": "x",
         "yaxis": "y"
        },
        {
         "alignmentgroup": "True",
         "bingroup": "x",
         "hovertemplate": "product_id=16900083<br>category_class=%{x}<br>count=%{y}<extra></extra>",
         "legendgroup": "16900083",
         "marker": {
          "color": "#FFA15A"
         },
         "name": "16900083",
         "offsetgroup": "16900083",
         "orientation": "v",
         "showlegend": true,
         "type": "histogram",
         "x": [
          "furniture"
         ],
         "xaxis": "x",
         "yaxis": "y"
        },
        {
         "alignmentgroup": "True",
         "bingroup": "x",
         "hovertemplate": "product_id=26204072<br>category_class=%{x}<br>count=%{y}<extra></extra>",
         "legendgroup": "26204072",
         "marker": {
          "color": "#19d3f3"
         },
         "name": "26204072",
         "offsetgroup": "26204072",
         "orientation": "v",
         "showlegend": true,
         "type": "histogram",
         "x": [
          "unknown"
         ],
         "xaxis": "x",
         "yaxis": "y"
        },
        {
         "alignmentgroup": "True",
         "bingroup": "x",
         "hovertemplate": "product_id=12701967<br>category_class=%{x}<br>count=%{y}<extra></extra>",
         "legendgroup": "12701967",
         "marker": {
          "color": "#FF6692"
         },
         "name": "12701967",
         "offsetgroup": "12701967",
         "orientation": "v",
         "showlegend": true,
         "type": "histogram",
         "x": [
          "unknown"
         ],
         "xaxis": "x",
         "yaxis": "y"
        },
        {
         "alignmentgroup": "True",
         "bingroup": "x",
         "hovertemplate": "product_id=5801483<br>category_class=%{x}<br>count=%{y}<extra></extra>",
         "legendgroup": "5801483",
         "marker": {
          "color": "#B6E880"
         },
         "name": "5801483",
         "offsetgroup": "5801483",
         "orientation": "v",
         "showlegend": true,
         "type": "histogram",
         "x": [
          "electronics"
         ],
         "xaxis": "x",
         "yaxis": "y"
        },
        {
         "alignmentgroup": "True",
         "bingroup": "x",
         "hovertemplate": "product_id=17300136<br>category_class=%{x}<br>count=%{y}<extra></extra>",
         "legendgroup": "17300136",
         "marker": {
          "color": "#FF97FF"
         },
         "name": "17300136",
         "offsetgroup": "17300136",
         "orientation": "v",
         "showlegend": true,
         "type": "histogram",
         "x": [
          "unknown"
         ],
         "xaxis": "x",
         "yaxis": "y"
        },
        {
         "alignmentgroup": "True",
         "bingroup": "x",
         "hovertemplate": "product_id=45601414<br>category_class=%{x}<br>count=%{y}<extra></extra>",
         "legendgroup": "45601414",
         "marker": {
          "color": "#FECB52"
         },
         "name": "45601414",
         "offsetgroup": "45601414",
         "orientation": "v",
         "showlegend": true,
         "type": "histogram",
         "x": [
          "apparel"
         ],
         "xaxis": "x",
         "yaxis": "y"
        },
        {
         "alignmentgroup": "True",
         "bingroup": "x",
         "hovertemplate": "product_id=12708306<br>category_class=%{x}<br>count=%{y}<extra></extra>",
         "legendgroup": "12708306",
         "marker": {
          "color": "#636efa"
         },
         "name": "12708306",
         "offsetgroup": "12708306",
         "orientation": "v",
         "showlegend": true,
         "type": "histogram",
         "x": [
          "unknown"
         ],
         "xaxis": "x",
         "yaxis": "y"
        },
        {
         "alignmentgroup": "True",
         "bingroup": "x",
         "hovertemplate": "product_id=1004740<br>category_class=%{x}<br>count=%{y}<extra></extra>",
         "legendgroup": "1004740",
         "marker": {
          "color": "#EF553B"
         },
         "name": "1004740",
         "offsetgroup": "1004740",
         "orientation": "v",
         "showlegend": true,
         "type": "histogram",
         "x": [
          "electronics"
         ],
         "xaxis": "x",
         "yaxis": "y"
        },
        {
         "alignmentgroup": "True",
         "bingroup": "x",
         "hovertemplate": "product_id=12300231<br>category_class=%{x}<br>count=%{y}<extra></extra>",
         "legendgroup": "12300231",
         "marker": {
          "color": "#00cc96"
         },
         "name": "12300231",
         "offsetgroup": "12300231",
         "orientation": "v",
         "showlegend": true,
         "type": "histogram",
         "x": [
          "construction"
         ],
         "xaxis": "x",
         "yaxis": "y"
        },
        {
         "alignmentgroup": "True",
         "bingroup": "x",
         "hovertemplate": "product_id=1004748<br>category_class=%{x}<br>count=%{y}<extra></extra>",
         "legendgroup": "1004748",
         "marker": {
          "color": "#ab63fa"
         },
         "name": "1004748",
         "offsetgroup": "1004748",
         "orientation": "v",
         "showlegend": true,
         "type": "histogram",
         "x": [
          "electronics"
         ],
         "xaxis": "x",
         "yaxis": "y"
        },
        {
         "alignmentgroup": "True",
         "bingroup": "x",
         "hovertemplate": "product_id=12300394<br>category_class=%{x}<br>count=%{y}<extra></extra>",
         "legendgroup": "12300394",
         "marker": {
          "color": "#FFA15A"
         },
         "name": "12300394",
         "offsetgroup": "12300394",
         "orientation": "v",
         "showlegend": true,
         "type": "histogram",
         "x": [
          "construction"
         ],
         "xaxis": "x",
         "yaxis": "y"
        },
        {
         "alignmentgroup": "True",
         "bingroup": "x",
         "hovertemplate": "product_id=42900023<br>category_class=%{x}<br>count=%{y}<extra></extra>",
         "legendgroup": "42900023",
         "marker": {
          "color": "#19d3f3"
         },
         "name": "42900023",
         "offsetgroup": "42900023",
         "orientation": "v",
         "showlegend": true,
         "type": "histogram",
         "x": [
          "construction"
         ],
         "xaxis": "x",
         "yaxis": "y"
        },
        {
         "alignmentgroup": "True",
         "bingroup": "x",
         "hovertemplate": "product_id=34800573<br>category_class=%{x}<br>count=%{y}<extra></extra>",
         "legendgroup": "34800573",
         "marker": {
          "color": "#FF6692"
         },
         "name": "34800573",
         "offsetgroup": "34800573",
         "orientation": "v",
         "showlegend": true,
         "type": "histogram",
         "x": [
          "unknown"
         ],
         "xaxis": "x",
         "yaxis": "y"
        },
        {
         "alignmentgroup": "True",
         "bingroup": "x",
         "hovertemplate": "product_id=1306895<br>category_class=%{x}<br>count=%{y}<extra></extra>",
         "legendgroup": "1306895",
         "marker": {
          "color": "#B6E880"
         },
         "name": "1306895",
         "offsetgroup": "1306895",
         "orientation": "v",
         "showlegend": true,
         "type": "histogram",
         "x": [
          "computers"
         ],
         "xaxis": "x",
         "yaxis": "y"
        },
        {
         "alignmentgroup": "True",
         "bingroup": "x",
         "hovertemplate": "product_id=12705258<br>category_class=%{x}<br>count=%{y}<extra></extra>",
         "legendgroup": "12705258",
         "marker": {
          "color": "#FF97FF"
         },
         "name": "12705258",
         "offsetgroup": "12705258",
         "orientation": "v",
         "showlegend": true,
         "type": "histogram",
         "x": [
          "unknown"
         ],
         "xaxis": "x",
         "yaxis": "y"
        },
        {
         "alignmentgroup": "True",
         "bingroup": "x",
         "hovertemplate": "product_id=21400135<br>category_class=%{x}<br>count=%{y}<extra></extra>",
         "legendgroup": "21400135",
         "marker": {
          "color": "#FECB52"
         },
         "name": "21400135",
         "offsetgroup": "21400135",
         "orientation": "v",
         "showlegend": true,
         "type": "histogram",
         "x": [
          "electronics"
         ],
         "xaxis": "x",
         "yaxis": "y"
        },
        {
         "alignmentgroup": "True",
         "bingroup": "x",
         "hovertemplate": "product_id=26402378<br>category_class=%{x}<br>count=%{y}<extra></extra>",
         "legendgroup": "26402378",
         "marker": {
          "color": "#636efa"
         },
         "name": "26402378",
         "offsetgroup": "26402378",
         "orientation": "v",
         "showlegend": true,
         "type": "histogram",
         "x": [
          "unknown"
         ],
         "xaxis": "x",
         "yaxis": "y"
        },
        {
         "alignmentgroup": "True",
         "bingroup": "x",
         "hovertemplate": "product_id=57300036<br>category_class=%{x}<br>count=%{y}<extra></extra>",
         "legendgroup": "57300036",
         "marker": {
          "color": "#EF553B"
         },
         "name": "57300036",
         "offsetgroup": "57300036",
         "orientation": "v",
         "showlegend": true,
         "type": "histogram",
         "x": [
          "apparel"
         ],
         "xaxis": "x",
         "yaxis": "y"
        },
        {
         "alignmentgroup": "True",
         "bingroup": "x",
         "hovertemplate": "product_id=40900007<br>category_class=%{x}<br>count=%{y}<extra></extra>",
         "legendgroup": "40900007",
         "marker": {
          "color": "#00cc96"
         },
         "name": "40900007",
         "offsetgroup": "40900007",
         "orientation": "v",
         "showlegend": true,
         "type": "histogram",
         "x": [
          "construction"
         ],
         "xaxis": "x",
         "yaxis": "y"
        },
        {
         "alignmentgroup": "True",
         "bingroup": "x",
         "hovertemplate": "product_id=21405259<br>category_class=%{x}<br>count=%{y}<extra></extra>",
         "legendgroup": "21405259",
         "marker": {
          "color": "#ab63fa"
         },
         "name": "21405259",
         "offsetgroup": "21405259",
         "orientation": "v",
         "showlegend": true,
         "type": "histogram",
         "x": [
          "electronics"
         ],
         "xaxis": "x",
         "yaxis": "y"
        },
        {
         "alignmentgroup": "True",
         "bingroup": "x",
         "hovertemplate": "product_id=17300435<br>category_class=%{x}<br>count=%{y}<extra></extra>",
         "legendgroup": "17300435",
         "marker": {
          "color": "#FFA15A"
         },
         "name": "17300435",
         "offsetgroup": "17300435",
         "orientation": "v",
         "showlegend": true,
         "type": "histogram",
         "x": [
          "unknown"
         ],
         "xaxis": "x",
         "yaxis": "y"
        },
        {
         "alignmentgroup": "True",
         "bingroup": "x",
         "hovertemplate": "product_id=1303355<br>category_class=%{x}<br>count=%{y}<extra></extra>",
         "legendgroup": "1303355",
         "marker": {
          "color": "#19d3f3"
         },
         "name": "1303355",
         "offsetgroup": "1303355",
         "orientation": "v",
         "showlegend": true,
         "type": "histogram",
         "x": [
          "computers"
         ],
         "xaxis": "x",
         "yaxis": "y"
        },
        {
         "alignmentgroup": "True",
         "bingroup": "x",
         "hovertemplate": "product_id=15100252<br>category_class=%{x}<br>count=%{y}<extra></extra>",
         "legendgroup": "15100252",
         "marker": {
          "color": "#FF6692"
         },
         "name": "15100252",
         "offsetgroup": "15100252",
         "orientation": "v",
         "showlegend": true,
         "type": "histogram",
         "x": [
          "unknown"
         ],
         "xaxis": "x",
         "yaxis": "y"
        },
        {
         "alignmentgroup": "True",
         "bingroup": "x",
         "hovertemplate": "product_id=21407128<br>category_class=%{x}<br>count=%{y}<extra></extra>",
         "legendgroup": "21407128",
         "marker": {
          "color": "#B6E880"
         },
         "name": "21407128",
         "offsetgroup": "21407128",
         "orientation": "v",
         "showlegend": true,
         "type": "histogram",
         "x": [
          "electronics"
         ],
         "xaxis": "x",
         "yaxis": "y"
        },
        {
         "alignmentgroup": "True",
         "bingroup": "x",
         "hovertemplate": "product_id=5100855<br>category_class=%{x}<br>count=%{y}<extra></extra>",
         "legendgroup": "5100855",
         "marker": {
          "color": "#FF97FF"
         },
         "name": "5100855",
         "offsetgroup": "5100855",
         "orientation": "v",
         "showlegend": true,
         "type": "histogram",
         "x": [
          "electronics"
         ],
         "xaxis": "x",
         "yaxis": "y"
        },
        {
         "alignmentgroup": "True",
         "bingroup": "x",
         "hovertemplate": "product_id=5801550<br>category_class=%{x}<br>count=%{y}<extra></extra>",
         "legendgroup": "5801550",
         "marker": {
          "color": "#FECB52"
         },
         "name": "5801550",
         "offsetgroup": "5801550",
         "orientation": "v",
         "showlegend": true,
         "type": "histogram",
         "x": [
          "electronics"
         ],
         "xaxis": "x",
         "yaxis": "y"
        },
        {
         "alignmentgroup": "True",
         "bingroup": "x",
         "hovertemplate": "product_id=4804420<br>category_class=%{x}<br>count=%{y}<extra></extra>",
         "legendgroup": "4804420",
         "marker": {
          "color": "#636efa"
         },
         "name": "4804420",
         "offsetgroup": "4804420",
         "orientation": "v",
         "showlegend": true,
         "type": "histogram",
         "x": [
          "electronics"
         ],
         "xaxis": "x",
         "yaxis": "y"
        },
        {
         "alignmentgroup": "True",
         "bingroup": "x",
         "hovertemplate": "product_id=1304315<br>category_class=%{x}<br>count=%{y}<extra></extra>",
         "legendgroup": "1304315",
         "marker": {
          "color": "#EF553B"
         },
         "name": "1304315",
         "offsetgroup": "1304315",
         "orientation": "v",
         "showlegend": true,
         "type": "histogram",
         "x": [
          "computers"
         ],
         "xaxis": "x",
         "yaxis": "y"
        },
        {
         "alignmentgroup": "True",
         "bingroup": "x",
         "hovertemplate": "product_id=5801656<br>category_class=%{x}<br>count=%{y}<extra></extra>",
         "legendgroup": "5801656",
         "marker": {
          "color": "#00cc96"
         },
         "name": "5801656",
         "offsetgroup": "5801656",
         "orientation": "v",
         "showlegend": true,
         "type": "histogram",
         "x": [
          "electronics"
         ],
         "xaxis": "x",
         "yaxis": "y"
        },
        {
         "alignmentgroup": "True",
         "bingroup": "x",
         "hovertemplate": "product_id=26400273<br>category_class=%{x}<br>count=%{y}<extra></extra>",
         "legendgroup": "26400273",
         "marker": {
          "color": "#ab63fa"
         },
         "name": "26400273",
         "offsetgroup": "26400273",
         "orientation": "v",
         "showlegend": true,
         "type": "histogram",
         "x": [
          "unknown"
         ],
         "xaxis": "x",
         "yaxis": "y"
        },
        {
         "alignmentgroup": "True",
         "bingroup": "x",
         "hovertemplate": "product_id=41100033<br>category_class=%{x}<br>count=%{y}<extra></extra>",
         "legendgroup": "41100033",
         "marker": {
          "color": "#FFA15A"
         },
         "name": "41100033",
         "offsetgroup": "41100033",
         "orientation": "v",
         "showlegend": true,
         "type": "histogram",
         "x": [
          "unknown"
         ],
         "xaxis": "x",
         "yaxis": "y"
        },
        {
         "alignmentgroup": "True",
         "bingroup": "x",
         "hovertemplate": "product_id=34600119<br>category_class=%{x}<br>count=%{y}<extra></extra>",
         "legendgroup": "34600119",
         "marker": {
          "color": "#19d3f3"
         },
         "name": "34600119",
         "offsetgroup": "34600119",
         "orientation": "v",
         "showlegend": true,
         "type": "histogram",
         "x": [
          "unknown"
         ],
         "xaxis": "x",
         "yaxis": "y"
        },
        {
         "alignmentgroup": "True",
         "bingroup": "x",
         "hovertemplate": "product_id=12705151<br>category_class=%{x}<br>count=%{y}<extra></extra>",
         "legendgroup": "12705151",
         "marker": {
          "color": "#FF6692"
         },
         "name": "12705151",
         "offsetgroup": "12705151",
         "orientation": "v",
         "showlegend": true,
         "type": "histogram",
         "x": [
          "unknown"
         ],
         "xaxis": "x",
         "yaxis": "y"
        },
        {
         "alignmentgroup": "True",
         "bingroup": "x",
         "hovertemplate": "product_id=15700204<br>category_class=%{x}<br>count=%{y}<extra></extra>",
         "legendgroup": "15700204",
         "marker": {
          "color": "#B6E880"
         },
         "name": "15700204",
         "offsetgroup": "15700204",
         "orientation": "v",
         "showlegend": true,
         "type": "histogram",
         "x": [
          "unknown"
         ],
         "xaxis": "x",
         "yaxis": "y"
        }
       ],
       "layout": {
        "barmode": "relative",
        "legend": {
         "title": {
          "text": "product_id"
         },
         "tracegroupgap": 0
        },
        "margin": {
         "t": 60
        },
        "template": {
         "data": {
          "bar": [
           {
            "error_x": {
             "color": "#2a3f5f"
            },
            "error_y": {
             "color": "#2a3f5f"
            },
            "marker": {
             "line": {
              "color": "#E5ECF6",
              "width": 0.5
             }
            },
            "type": "bar"
           }
          ],
          "barpolar": [
           {
            "marker": {
             "line": {
              "color": "#E5ECF6",
              "width": 0.5
             }
            },
            "type": "barpolar"
           }
          ],
          "carpet": [
           {
            "aaxis": {
             "endlinecolor": "#2a3f5f",
             "gridcolor": "white",
             "linecolor": "white",
             "minorgridcolor": "white",
             "startlinecolor": "#2a3f5f"
            },
            "baxis": {
             "endlinecolor": "#2a3f5f",
             "gridcolor": "white",
             "linecolor": "white",
             "minorgridcolor": "white",
             "startlinecolor": "#2a3f5f"
            },
            "type": "carpet"
           }
          ],
          "choropleth": [
           {
            "colorbar": {
             "outlinewidth": 0,
             "ticks": ""
            },
            "type": "choropleth"
           }
          ],
          "contour": [
           {
            "colorbar": {
             "outlinewidth": 0,
             "ticks": ""
            },
            "colorscale": [
             [
              0,
              "#0d0887"
             ],
             [
              0.1111111111111111,
              "#46039f"
             ],
             [
              0.2222222222222222,
              "#7201a8"
             ],
             [
              0.3333333333333333,
              "#9c179e"
             ],
             [
              0.4444444444444444,
              "#bd3786"
             ],
             [
              0.5555555555555556,
              "#d8576b"
             ],
             [
              0.6666666666666666,
              "#ed7953"
             ],
             [
              0.7777777777777778,
              "#fb9f3a"
             ],
             [
              0.8888888888888888,
              "#fdca26"
             ],
             [
              1,
              "#f0f921"
             ]
            ],
            "type": "contour"
           }
          ],
          "contourcarpet": [
           {
            "colorbar": {
             "outlinewidth": 0,
             "ticks": ""
            },
            "type": "contourcarpet"
           }
          ],
          "heatmap": [
           {
            "colorbar": {
             "outlinewidth": 0,
             "ticks": ""
            },
            "colorscale": [
             [
              0,
              "#0d0887"
             ],
             [
              0.1111111111111111,
              "#46039f"
             ],
             [
              0.2222222222222222,
              "#7201a8"
             ],
             [
              0.3333333333333333,
              "#9c179e"
             ],
             [
              0.4444444444444444,
              "#bd3786"
             ],
             [
              0.5555555555555556,
              "#d8576b"
             ],
             [
              0.6666666666666666,
              "#ed7953"
             ],
             [
              0.7777777777777778,
              "#fb9f3a"
             ],
             [
              0.8888888888888888,
              "#fdca26"
             ],
             [
              1,
              "#f0f921"
             ]
            ],
            "type": "heatmap"
           }
          ],
          "heatmapgl": [
           {
            "colorbar": {
             "outlinewidth": 0,
             "ticks": ""
            },
            "colorscale": [
             [
              0,
              "#0d0887"
             ],
             [
              0.1111111111111111,
              "#46039f"
             ],
             [
              0.2222222222222222,
              "#7201a8"
             ],
             [
              0.3333333333333333,
              "#9c179e"
             ],
             [
              0.4444444444444444,
              "#bd3786"
             ],
             [
              0.5555555555555556,
              "#d8576b"
             ],
             [
              0.6666666666666666,
              "#ed7953"
             ],
             [
              0.7777777777777778,
              "#fb9f3a"
             ],
             [
              0.8888888888888888,
              "#fdca26"
             ],
             [
              1,
              "#f0f921"
             ]
            ],
            "type": "heatmapgl"
           }
          ],
          "histogram": [
           {
            "marker": {
             "colorbar": {
              "outlinewidth": 0,
              "ticks": ""
             }
            },
            "type": "histogram"
           }
          ],
          "histogram2d": [
           {
            "colorbar": {
             "outlinewidth": 0,
             "ticks": ""
            },
            "colorscale": [
             [
              0,
              "#0d0887"
             ],
             [
              0.1111111111111111,
              "#46039f"
             ],
             [
              0.2222222222222222,
              "#7201a8"
             ],
             [
              0.3333333333333333,
              "#9c179e"
             ],
             [
              0.4444444444444444,
              "#bd3786"
             ],
             [
              0.5555555555555556,
              "#d8576b"
             ],
             [
              0.6666666666666666,
              "#ed7953"
             ],
             [
              0.7777777777777778,
              "#fb9f3a"
             ],
             [
              0.8888888888888888,
              "#fdca26"
             ],
             [
              1,
              "#f0f921"
             ]
            ],
            "type": "histogram2d"
           }
          ],
          "histogram2dcontour": [
           {
            "colorbar": {
             "outlinewidth": 0,
             "ticks": ""
            },
            "colorscale": [
             [
              0,
              "#0d0887"
             ],
             [
              0.1111111111111111,
              "#46039f"
             ],
             [
              0.2222222222222222,
              "#7201a8"
             ],
             [
              0.3333333333333333,
              "#9c179e"
             ],
             [
              0.4444444444444444,
              "#bd3786"
             ],
             [
              0.5555555555555556,
              "#d8576b"
             ],
             [
              0.6666666666666666,
              "#ed7953"
             ],
             [
              0.7777777777777778,
              "#fb9f3a"
             ],
             [
              0.8888888888888888,
              "#fdca26"
             ],
             [
              1,
              "#f0f921"
             ]
            ],
            "type": "histogram2dcontour"
           }
          ],
          "mesh3d": [
           {
            "colorbar": {
             "outlinewidth": 0,
             "ticks": ""
            },
            "type": "mesh3d"
           }
          ],
          "parcoords": [
           {
            "line": {
             "colorbar": {
              "outlinewidth": 0,
              "ticks": ""
             }
            },
            "type": "parcoords"
           }
          ],
          "pie": [
           {
            "automargin": true,
            "type": "pie"
           }
          ],
          "scatter": [
           {
            "marker": {
             "colorbar": {
              "outlinewidth": 0,
              "ticks": ""
             }
            },
            "type": "scatter"
           }
          ],
          "scatter3d": [
           {
            "line": {
             "colorbar": {
              "outlinewidth": 0,
              "ticks": ""
             }
            },
            "marker": {
             "colorbar": {
              "outlinewidth": 0,
              "ticks": ""
             }
            },
            "type": "scatter3d"
           }
          ],
          "scattercarpet": [
           {
            "marker": {
             "colorbar": {
              "outlinewidth": 0,
              "ticks": ""
             }
            },
            "type": "scattercarpet"
           }
          ],
          "scattergeo": [
           {
            "marker": {
             "colorbar": {
              "outlinewidth": 0,
              "ticks": ""
             }
            },
            "type": "scattergeo"
           }
          ],
          "scattergl": [
           {
            "marker": {
             "colorbar": {
              "outlinewidth": 0,
              "ticks": ""
             }
            },
            "type": "scattergl"
           }
          ],
          "scattermapbox": [
           {
            "marker": {
             "colorbar": {
              "outlinewidth": 0,
              "ticks": ""
             }
            },
            "type": "scattermapbox"
           }
          ],
          "scatterpolar": [
           {
            "marker": {
             "colorbar": {
              "outlinewidth": 0,
              "ticks": ""
             }
            },
            "type": "scatterpolar"
           }
          ],
          "scatterpolargl": [
           {
            "marker": {
             "colorbar": {
              "outlinewidth": 0,
              "ticks": ""
             }
            },
            "type": "scatterpolargl"
           }
          ],
          "scatterternary": [
           {
            "marker": {
             "colorbar": {
              "outlinewidth": 0,
              "ticks": ""
             }
            },
            "type": "scatterternary"
           }
          ],
          "surface": [
           {
            "colorbar": {
             "outlinewidth": 0,
             "ticks": ""
            },
            "colorscale": [
             [
              0,
              "#0d0887"
             ],
             [
              0.1111111111111111,
              "#46039f"
             ],
             [
              0.2222222222222222,
              "#7201a8"
             ],
             [
              0.3333333333333333,
              "#9c179e"
             ],
             [
              0.4444444444444444,
              "#bd3786"
             ],
             [
              0.5555555555555556,
              "#d8576b"
             ],
             [
              0.6666666666666666,
              "#ed7953"
             ],
             [
              0.7777777777777778,
              "#fb9f3a"
             ],
             [
              0.8888888888888888,
              "#fdca26"
             ],
             [
              1,
              "#f0f921"
             ]
            ],
            "type": "surface"
           }
          ],
          "table": [
           {
            "cells": {
             "fill": {
              "color": "#EBF0F8"
             },
             "line": {
              "color": "white"
             }
            },
            "header": {
             "fill": {
              "color": "#C8D4E3"
             },
             "line": {
              "color": "white"
             }
            },
            "type": "table"
           }
          ]
         },
         "layout": {
          "annotationdefaults": {
           "arrowcolor": "#2a3f5f",
           "arrowhead": 0,
           "arrowwidth": 1
          },
          "autotypenumbers": "strict",
          "coloraxis": {
           "colorbar": {
            "outlinewidth": 0,
            "ticks": ""
           }
          },
          "colorscale": {
           "diverging": [
            [
             0,
             "#8e0152"
            ],
            [
             0.1,
             "#c51b7d"
            ],
            [
             0.2,
             "#de77ae"
            ],
            [
             0.3,
             "#f1b6da"
            ],
            [
             0.4,
             "#fde0ef"
            ],
            [
             0.5,
             "#f7f7f7"
            ],
            [
             0.6,
             "#e6f5d0"
            ],
            [
             0.7,
             "#b8e186"
            ],
            [
             0.8,
             "#7fbc41"
            ],
            [
             0.9,
             "#4d9221"
            ],
            [
             1,
             "#276419"
            ]
           ],
           "sequential": [
            [
             0,
             "#0d0887"
            ],
            [
             0.1111111111111111,
             "#46039f"
            ],
            [
             0.2222222222222222,
             "#7201a8"
            ],
            [
             0.3333333333333333,
             "#9c179e"
            ],
            [
             0.4444444444444444,
             "#bd3786"
            ],
            [
             0.5555555555555556,
             "#d8576b"
            ],
            [
             0.6666666666666666,
             "#ed7953"
            ],
            [
             0.7777777777777778,
             "#fb9f3a"
            ],
            [
             0.8888888888888888,
             "#fdca26"
            ],
            [
             1,
             "#f0f921"
            ]
           ],
           "sequentialminus": [
            [
             0,
             "#0d0887"
            ],
            [
             0.1111111111111111,
             "#46039f"
            ],
            [
             0.2222222222222222,
             "#7201a8"
            ],
            [
             0.3333333333333333,
             "#9c179e"
            ],
            [
             0.4444444444444444,
             "#bd3786"
            ],
            [
             0.5555555555555556,
             "#d8576b"
            ],
            [
             0.6666666666666666,
             "#ed7953"
            ],
            [
             0.7777777777777778,
             "#fb9f3a"
            ],
            [
             0.8888888888888888,
             "#fdca26"
            ],
            [
             1,
             "#f0f921"
            ]
           ]
          },
          "colorway": [
           "#636efa",
           "#EF553B",
           "#00cc96",
           "#ab63fa",
           "#FFA15A",
           "#19d3f3",
           "#FF6692",
           "#B6E880",
           "#FF97FF",
           "#FECB52"
          ],
          "font": {
           "color": "#2a3f5f"
          },
          "geo": {
           "bgcolor": "white",
           "lakecolor": "white",
           "landcolor": "#E5ECF6",
           "showlakes": true,
           "showland": true,
           "subunitcolor": "white"
          },
          "hoverlabel": {
           "align": "left"
          },
          "hovermode": "closest",
          "mapbox": {
           "style": "light"
          },
          "paper_bgcolor": "white",
          "plot_bgcolor": "#E5ECF6",
          "polar": {
           "angularaxis": {
            "gridcolor": "white",
            "linecolor": "white",
            "ticks": ""
           },
           "bgcolor": "#E5ECF6",
           "radialaxis": {
            "gridcolor": "white",
            "linecolor": "white",
            "ticks": ""
           }
          },
          "scene": {
           "xaxis": {
            "backgroundcolor": "#E5ECF6",
            "gridcolor": "white",
            "gridwidth": 2,
            "linecolor": "white",
            "showbackground": true,
            "ticks": "",
            "zerolinecolor": "white"
           },
           "yaxis": {
            "backgroundcolor": "#E5ECF6",
            "gridcolor": "white",
            "gridwidth": 2,
            "linecolor": "white",
            "showbackground": true,
            "ticks": "",
            "zerolinecolor": "white"
           },
           "zaxis": {
            "backgroundcolor": "#E5ECF6",
            "gridcolor": "white",
            "gridwidth": 2,
            "linecolor": "white",
            "showbackground": true,
            "ticks": "",
            "zerolinecolor": "white"
           }
          },
          "shapedefaults": {
           "line": {
            "color": "#2a3f5f"
           }
          },
          "ternary": {
           "aaxis": {
            "gridcolor": "white",
            "linecolor": "white",
            "ticks": ""
           },
           "baxis": {
            "gridcolor": "white",
            "linecolor": "white",
            "ticks": ""
           },
           "bgcolor": "#E5ECF6",
           "caxis": {
            "gridcolor": "white",
            "linecolor": "white",
            "ticks": ""
           }
          },
          "title": {
           "x": 0.05
          },
          "xaxis": {
           "automargin": true,
           "gridcolor": "white",
           "linecolor": "white",
           "ticks": "",
           "title": {
            "standoff": 15
           },
           "zerolinecolor": "white",
           "zerolinewidth": 2
          },
          "yaxis": {
           "automargin": true,
           "gridcolor": "white",
           "linecolor": "white",
           "ticks": "",
           "title": {
            "standoff": 15
           },
           "zerolinecolor": "white",
           "zerolinewidth": 2
          }
         }
        },
        "xaxis": {
         "anchor": "y",
         "domain": [
          0,
          1
         ],
         "title": {
          "text": "category_class"
         }
        },
        "yaxis": {
         "anchor": "x",
         "domain": [
          0,
          1
         ],
         "title": {
          "text": "count"
         }
        }
       }
      }
     },
     "metadata": {}
    }
   ],
   "source": [
    "px.histogram(pdf, x=\"category_class\", color=\"product_id\")"
   ]
  },
  {
   "source": [
    "Mehrere Product IDs gehören immer nur zur einen Category Class"
   ],
   "cell_type": "markdown",
   "metadata": {}
  },
  {
   "source": [
    "##### Category Class - Brand"
   ],
   "cell_type": "markdown",
   "metadata": {}
  },
  {
   "cell_type": "code",
   "execution_count": 91,
   "metadata": {},
   "outputs": [
    {
     "output_type": "stream",
     "name": "stdout",
     "text": [
      "+--------------+-----------+\n|Category_Class|Count_Brand|\n+--------------+-----------+\n|     computers|          8|\n|          auto|          4|\n|          null|         46|\n|       apparel|          3|\n|    appliances|          9|\n|     furniture|          3|\n|   accessories|          1|\n|   electronics|         15|\n|  construction|          5|\n+--------------+-----------+\n\n"
     ]
    }
   ],
   "source": [
    "spark.sql(\"SELECT Category_Class, COUNT(DISTINCT(Brand)) AS Count_Brand from Product_Data GROUP BY Category_Class\").show()"
   ]
  },
  {
   "cell_type": "code",
   "execution_count": 98,
   "metadata": {},
   "outputs": [
    {
     "output_type": "stream",
     "name": "stdout",
     "text": [
      "+--------+--------------------+\n|   Brand|Count_Category_class|\n+--------+--------------------+\n|yokohama|                   0|\n|goodloot|                   1|\n|cordiant|                   0|\n| element|                   1|\n| rondell|                   0|\n|   epson|                   1|\n|   oasis|                   1|\n|  rezult|                   0|\n|   lider|                   0|\n| eveline|                   0|\n|   tefal|                   1|\n|givenchy|                   0|\n|   apple|                   2|\n|  jordan|                   1|\n|   casio|                   1|\n|    null|                   7|\n|   fubag|                   1|\n|  armani|                   1|\n|  kolner|                   0|\n|   canon|                   1|\n+--------+--------------------+\nonly showing top 20 rows\n\n"
     ]
    }
   ],
   "source": [
    "spark.sql(\"SELECT Brand, COUNT(DISTINCT(Category_class)) AS Count_Category_class from Product_Data GROUP BY Brand\").show()"
   ]
  },
  {
   "cell_type": "code",
   "execution_count": 96,
   "metadata": {},
   "outputs": [
    {
     "output_type": "stream",
     "name": "stdout",
     "text": [
      "+--------------+--------+\n|Category_Class|   Brand|\n+--------------+--------+\n|     furniture|    nika|\n|     furniture|mamadoma|\n|     furniture|     brw|\n|     furniture|    null|\n|   electronics|  xiaomi|\n|   electronics|  tissot|\n|   electronics| samsung|\n|   electronics| pioneer|\n|   electronics|    oppo|\n|   electronics|  huawei|\n|   electronics|      hp|\n|   electronics|  garmin|\n|   electronics| element|\n|   electronics|   casio|\n|   electronics|  avatar|\n|   electronics|  armani|\n|   electronics|   apple|\n|   electronics| alphard|\n|   electronics|    acme|\n|   electronics|    null|\n+--------------+--------+\nonly showing top 20 rows\n\n"
     ]
    }
   ],
   "source": [
    "spark.sql(\"SELECT Category_Class, Brand from Product_Data GROUP BY Category_Class, Brand ORDER BY Category_Class DESC, Brand DESC\").show()"
   ]
  },
  {
   "cell_type": "code",
   "execution_count": 91,
   "metadata": {},
   "outputs": [
    {
     "output_type": "display_data",
     "data": {
      "application/vnd.plotly.v1+json": {
       "config": {
        "plotlyServerURL": "https://plot.ly"
       },
       "data": [
        {
         "alignmentgroup": "True",
         "bingroup": "x",
         "hovertemplate": "brand=xiaomi<br>category_class=%{x}<br>count=%{y}<extra></extra>",
         "legendgroup": "xiaomi",
         "marker": {
          "color": "#636efa"
         },
         "name": "xiaomi",
         "offsetgroup": "xiaomi",
         "orientation": "v",
         "showlegend": true,
         "type": "histogram",
         "x": [
          "electronics",
          "electronics",
          "unknown",
          "electronics",
          "electronics",
          "electronics",
          "electronics",
          "electronics",
          "electronics",
          "electronics",
          "electronics",
          "electronics",
          "electronics",
          "electronics",
          "electronics"
         ],
         "xaxis": "x",
         "yaxis": "y"
        },
        {
         "alignmentgroup": "True",
         "bingroup": "x",
         "hovertemplate": "brand=janome<br>category_class=%{x}<br>count=%{y}<extra></extra>",
         "legendgroup": "janome",
         "marker": {
          "color": "#EF553B"
         },
         "name": "janome",
         "offsetgroup": "janome",
         "orientation": "v",
         "showlegend": true,
         "type": "histogram",
         "x": [
          "appliances",
          "appliances"
         ],
         "xaxis": "x",
         "yaxis": "y"
        },
        {
         "alignmentgroup": "True",
         "bingroup": "x",
         "hovertemplate": "brand=creed<br>category_class=%{x}<br>count=%{y}<extra></extra>",
         "legendgroup": "creed",
         "marker": {
          "color": "#00cc96"
         },
         "name": "creed",
         "offsetgroup": "creed",
         "orientation": "v",
         "showlegend": true,
         "type": "histogram",
         "x": [
          "unknown"
         ],
         "xaxis": "x",
         "yaxis": "y"
        },
        {
         "alignmentgroup": "True",
         "bingroup": "x",
         "hovertemplate": "brand=lg<br>category_class=%{x}<br>count=%{y}<extra></extra>",
         "legendgroup": "lg",
         "marker": {
          "color": "#ab63fa"
         },
         "name": "lg",
         "offsetgroup": "lg",
         "orientation": "v",
         "showlegend": true,
         "type": "histogram",
         "x": [
          "appliances"
         ],
         "xaxis": "x",
         "yaxis": "y"
        },
        {
         "alignmentgroup": "True",
         "bingroup": "x",
         "hovertemplate": "brand=hp<br>category_class=%{x}<br>count=%{y}<extra></extra>",
         "legendgroup": "hp",
         "marker": {
          "color": "#FFA15A"
         },
         "name": "hp",
         "offsetgroup": "hp",
         "orientation": "v",
         "showlegend": true,
         "type": "histogram",
         "x": [
          "computers",
          "computers",
          "computers",
          "computers",
          "computers",
          "computers",
          "computers",
          "computers",
          "electronics"
         ],
         "xaxis": "x",
         "yaxis": "y"
        },
        {
         "alignmentgroup": "True",
         "bingroup": "x",
         "hovertemplate": "brand=rondell<br>category_class=%{x}<br>count=%{y}<extra></extra>",
         "legendgroup": "rondell",
         "marker": {
          "color": "#19d3f3"
         },
         "name": "rondell",
         "offsetgroup": "rondell",
         "orientation": "v",
         "showlegend": true,
         "type": "histogram",
         "x": [
          "unknown",
          "unknown"
         ],
         "xaxis": "x",
         "yaxis": "y"
        },
        {
         "alignmentgroup": "True",
         "bingroup": "x",
         "hovertemplate": "brand=michelin<br>category_class=%{x}<br>count=%{y}<extra></extra>",
         "legendgroup": "michelin",
         "marker": {
          "color": "#FF6692"
         },
         "name": "michelin",
         "offsetgroup": "michelin",
         "orientation": "v",
         "showlegend": true,
         "type": "histogram",
         "x": [
          "unknown",
          "unknown",
          "unknown"
         ],
         "xaxis": "x",
         "yaxis": "y"
        },
        {
         "alignmentgroup": "True",
         "bingroup": "x",
         "hovertemplate": "brand=apple<br>category_class=%{x}<br>count=%{y}<extra></extra>",
         "legendgroup": "apple",
         "marker": {
          "color": "#B6E880"
         },
         "name": "apple",
         "offsetgroup": "apple",
         "orientation": "v",
         "showlegend": true,
         "type": "histogram",
         "x": [
          "electronics",
          "electronics",
          "electronics",
          "electronics",
          "electronics",
          "electronics",
          "electronics",
          "electronics",
          "electronics",
          "computers",
          "electronics",
          "electronics",
          "computers",
          "electronics",
          "computers",
          "electronics"
         ],
         "xaxis": "x",
         "yaxis": "y"
        },
        {
         "alignmentgroup": "True",
         "bingroup": "x",
         "hovertemplate": "brand=unknown<br>category_class=%{x}<br>count=%{y}<extra></extra>",
         "legendgroup": "unknown",
         "marker": {
          "color": "#FF97FF"
         },
         "name": "unknown",
         "offsetgroup": "unknown",
         "orientation": "v",
         "showlegend": true,
         "type": "histogram",
         "x": [
          "furniture",
          "appliances",
          "furniture",
          "unknown",
          "unknown",
          "unknown",
          "unknown",
          "furniture",
          "unknown",
          "unknown",
          "unknown",
          "unknown",
          "electronics",
          "apparel",
          "unknown",
          "unknown",
          "computers",
          "unknown",
          "apparel",
          "appliances",
          "furniture",
          "unknown",
          "unknown",
          "apparel",
          "auto",
          "furniture",
          "furniture",
          "unknown",
          "unknown",
          "unknown",
          "unknown",
          "furniture",
          "unknown",
          "furniture",
          "furniture",
          "unknown",
          "construction",
          "unknown",
          "furniture",
          "unknown",
          "unknown"
         ],
         "xaxis": "x",
         "yaxis": "y"
        },
        {
         "alignmentgroup": "True",
         "bingroup": "x",
         "hovertemplate": "brand=samsung<br>category_class=%{x}<br>count=%{y}<extra></extra>",
         "legendgroup": "samsung",
         "marker": {
          "color": "#FECB52"
         },
         "name": "samsung",
         "offsetgroup": "samsung",
         "orientation": "v",
         "showlegend": true,
         "type": "histogram",
         "x": [
          "appliances",
          "electronics",
          "electronics",
          "electronics",
          "electronics",
          "appliances",
          "electronics",
          "electronics",
          "electronics",
          "electronics"
         ],
         "xaxis": "x",
         "yaxis": "y"
        },
        {
         "alignmentgroup": "True",
         "bingroup": "x",
         "hovertemplate": "brand=huawei<br>category_class=%{x}<br>count=%{y}<extra></extra>",
         "legendgroup": "huawei",
         "marker": {
          "color": "#636efa"
         },
         "name": "huawei",
         "offsetgroup": "huawei",
         "orientation": "v",
         "showlegend": true,
         "type": "histogram",
         "x": [
          "electronics",
          "electronics",
          "electronics",
          "electronics",
          "electronics",
          "electronics"
         ],
         "xaxis": "x",
         "yaxis": "y"
        },
        {
         "alignmentgroup": "True",
         "bingroup": "x",
         "hovertemplate": "brand=yokohama<br>category_class=%{x}<br>count=%{y}<extra></extra>",
         "legendgroup": "yokohama",
         "marker": {
          "color": "#EF553B"
         },
         "name": "yokohama",
         "offsetgroup": "yokohama",
         "orientation": "v",
         "showlegend": true,
         "type": "histogram",
         "x": [
          "unknown",
          "unknown"
         ],
         "xaxis": "x",
         "yaxis": "y"
        },
        {
         "alignmentgroup": "True",
         "bingroup": "x",
         "hovertemplate": "brand=trussardi<br>category_class=%{x}<br>count=%{y}<extra></extra>",
         "legendgroup": "trussardi",
         "marker": {
          "color": "#00cc96"
         },
         "name": "trussardi",
         "offsetgroup": "trussardi",
         "orientation": "v",
         "showlegend": true,
         "type": "histogram",
         "x": [
          "unknown",
          "unknown",
          "unknown"
         ],
         "xaxis": "x",
         "yaxis": "y"
        },
        {
         "alignmentgroup": "True",
         "bingroup": "x",
         "hovertemplate": "brand=eveline<br>category_class=%{x}<br>count=%{y}<extra></extra>",
         "legendgroup": "eveline",
         "marker": {
          "color": "#ab63fa"
         },
         "name": "eveline",
         "offsetgroup": "eveline",
         "orientation": "v",
         "showlegend": true,
         "type": "histogram",
         "x": [
          "unknown"
         ],
         "xaxis": "x",
         "yaxis": "y"
        },
        {
         "alignmentgroup": "True",
         "bingroup": "x",
         "hovertemplate": "brand=acer<br>category_class=%{x}<br>count=%{y}<extra></extra>",
         "legendgroup": "acer",
         "marker": {
          "color": "#FFA15A"
         },
         "name": "acer",
         "offsetgroup": "acer",
         "orientation": "v",
         "showlegend": true,
         "type": "histogram",
         "x": [
          "computers",
          "computers",
          "computers"
         ],
         "xaxis": "x",
         "yaxis": "y"
        },
        {
         "alignmentgroup": "True",
         "bingroup": "x",
         "hovertemplate": "brand=asus<br>category_class=%{x}<br>count=%{y}<extra></extra>",
         "legendgroup": "asus",
         "marker": {
          "color": "#19d3f3"
         },
         "name": "asus",
         "offsetgroup": "asus",
         "orientation": "v",
         "showlegend": true,
         "type": "histogram",
         "x": [
          "computers",
          "computers",
          "computers"
         ],
         "xaxis": "x",
         "yaxis": "y"
        },
        {
         "alignmentgroup": "True",
         "bingroup": "x",
         "hovertemplate": "brand=nika<br>category_class=%{x}<br>count=%{y}<extra></extra>",
         "legendgroup": "nika",
         "marker": {
          "color": "#FF6692"
         },
         "name": "nika",
         "offsetgroup": "nika",
         "orientation": "v",
         "showlegend": true,
         "type": "histogram",
         "x": [
          "furniture",
          "furniture"
         ],
         "xaxis": "x",
         "yaxis": "y"
        },
        {
         "alignmentgroup": "True",
         "bingroup": "x",
         "hovertemplate": "brand=matrix<br>category_class=%{x}<br>count=%{y}<extra></extra>",
         "legendgroup": "matrix",
         "marker": {
          "color": "#B6E880"
         },
         "name": "matrix",
         "offsetgroup": "matrix",
         "orientation": "v",
         "showlegend": true,
         "type": "histogram",
         "x": [
          "unknown"
         ],
         "xaxis": "x",
         "yaxis": "y"
        },
        {
         "alignmentgroup": "True",
         "bingroup": "x",
         "hovertemplate": "brand=redmond<br>category_class=%{x}<br>count=%{y}<extra></extra>",
         "legendgroup": "redmond",
         "marker": {
          "color": "#FF97FF"
         },
         "name": "redmond",
         "offsetgroup": "redmond",
         "orientation": "v",
         "showlegend": true,
         "type": "histogram",
         "x": [
          "unknown",
          "unknown"
         ],
         "xaxis": "x",
         "yaxis": "y"
        },
        {
         "alignmentgroup": "True",
         "bingroup": "x",
         "hovertemplate": "brand=tomfarr<br>category_class=%{x}<br>count=%{y}<extra></extra>",
         "legendgroup": "tomfarr",
         "marker": {
          "color": "#FECB52"
         },
         "name": "tomfarr",
         "offsetgroup": "tomfarr",
         "orientation": "v",
         "showlegend": true,
         "type": "histogram",
         "x": [
          "unknown"
         ],
         "xaxis": "x",
         "yaxis": "y"
        },
        {
         "alignmentgroup": "True",
         "bingroup": "x",
         "hovertemplate": "brand=hyper<br>category_class=%{x}<br>count=%{y}<extra></extra>",
         "legendgroup": "hyper",
         "marker": {
          "color": "#636efa"
         },
         "name": "hyper",
         "offsetgroup": "hyper",
         "orientation": "v",
         "showlegend": true,
         "type": "histogram",
         "x": [
          "unknown"
         ],
         "xaxis": "x",
         "yaxis": "y"
        },
        {
         "alignmentgroup": "True",
         "bingroup": "x",
         "hovertemplate": "brand=acme<br>category_class=%{x}<br>count=%{y}<extra></extra>",
         "legendgroup": "acme",
         "marker": {
          "color": "#EF553B"
         },
         "name": "acme",
         "offsetgroup": "acme",
         "orientation": "v",
         "showlegend": true,
         "type": "histogram",
         "x": [
          "electronics",
          "electronics"
         ],
         "xaxis": "x",
         "yaxis": "y"
        },
        {
         "alignmentgroup": "True",
         "bingroup": "x",
         "hovertemplate": "brand=tefal<br>category_class=%{x}<br>count=%{y}<extra></extra>",
         "legendgroup": "tefal",
         "marker": {
          "color": "#00cc96"
         },
         "name": "tefal",
         "offsetgroup": "tefal",
         "orientation": "v",
         "showlegend": true,
         "type": "histogram",
         "x": [
          "appliances"
         ],
         "xaxis": "x",
         "yaxis": "y"
        },
        {
         "alignmentgroup": "True",
         "bingroup": "x",
         "hovertemplate": "brand=canon<br>category_class=%{x}<br>count=%{y}<extra></extra>",
         "legendgroup": "canon",
         "marker": {
          "color": "#ab63fa"
         },
         "name": "canon",
         "offsetgroup": "canon",
         "orientation": "v",
         "showlegend": true,
         "type": "histogram",
         "x": [
          "unknown",
          "computers",
          "unknown"
         ],
         "xaxis": "x",
         "yaxis": "y"
        },
        {
         "alignmentgroup": "True",
         "bingroup": "x",
         "hovertemplate": "brand=oasis<br>category_class=%{x}<br>count=%{y}<extra></extra>",
         "legendgroup": "oasis",
         "marker": {
          "color": "#FFA15A"
         },
         "name": "oasis",
         "offsetgroup": "oasis",
         "orientation": "v",
         "showlegend": true,
         "type": "histogram",
         "x": [
          "appliances"
         ],
         "xaxis": "x",
         "yaxis": "y"
        },
        {
         "alignmentgroup": "True",
         "bingroup": "x",
         "hovertemplate": "brand=bosch<br>category_class=%{x}<br>count=%{y}<extra></extra>",
         "legendgroup": "bosch",
         "marker": {
          "color": "#19d3f3"
         },
         "name": "bosch",
         "offsetgroup": "bosch",
         "orientation": "v",
         "showlegend": true,
         "type": "histogram",
         "x": [
          "appliances",
          "unknown",
          "appliances"
         ],
         "xaxis": "x",
         "yaxis": "y"
        },
        {
         "alignmentgroup": "True",
         "bingroup": "x",
         "hovertemplate": "brand=sony<br>category_class=%{x}<br>count=%{y}<extra></extra>",
         "legendgroup": "sony",
         "marker": {
          "color": "#FF6692"
         },
         "name": "sony",
         "offsetgroup": "sony",
         "orientation": "v",
         "showlegend": true,
         "type": "histogram",
         "x": [
          "unknown",
          "unknown"
         ],
         "xaxis": "x",
         "yaxis": "y"
        },
        {
         "alignmentgroup": "True",
         "bingroup": "x",
         "hovertemplate": "brand=rezult<br>category_class=%{x}<br>count=%{y}<extra></extra>",
         "legendgroup": "rezult",
         "marker": {
          "color": "#B6E880"
         },
         "name": "rezult",
         "offsetgroup": "rezult",
         "orientation": "v",
         "showlegend": true,
         "type": "histogram",
         "x": [
          "unknown"
         ],
         "xaxis": "x",
         "yaxis": "y"
        },
        {
         "alignmentgroup": "True",
         "bingroup": "x",
         "hovertemplate": "brand=lucente<br>category_class=%{x}<br>count=%{y}<extra></extra>",
         "legendgroup": "lucente",
         "marker": {
          "color": "#FF97FF"
         },
         "name": "lucente",
         "offsetgroup": "lucente",
         "orientation": "v",
         "showlegend": true,
         "type": "histogram",
         "x": [
          "unknown",
          "unknown",
          "unknown"
         ],
         "xaxis": "x",
         "yaxis": "y"
        },
        {
         "alignmentgroup": "True",
         "bingroup": "x",
         "hovertemplate": "brand=tissot<br>category_class=%{x}<br>count=%{y}<extra></extra>",
         "legendgroup": "tissot",
         "marker": {
          "color": "#FECB52"
         },
         "name": "tissot",
         "offsetgroup": "tissot",
         "orientation": "v",
         "showlegend": true,
         "type": "histogram",
         "x": [
          "electronics",
          "electronics",
          "electronics",
          "electronics"
         ],
         "xaxis": "x",
         "yaxis": "y"
        },
        {
         "alignmentgroup": "True",
         "bingroup": "x",
         "hovertemplate": "brand=goodloot<br>category_class=%{x}<br>count=%{y}<extra></extra>",
         "legendgroup": "goodloot",
         "marker": {
          "color": "#636efa"
         },
         "name": "goodloot",
         "offsetgroup": "goodloot",
         "orientation": "v",
         "showlegend": true,
         "type": "histogram",
         "x": [
          "apparel"
         ],
         "xaxis": "x",
         "yaxis": "y"
        },
        {
         "alignmentgroup": "True",
         "bingroup": "x",
         "hovertemplate": "brand=brw<br>category_class=%{x}<br>count=%{y}<extra></extra>",
         "legendgroup": "brw",
         "marker": {
          "color": "#EF553B"
         },
         "name": "brw",
         "offsetgroup": "brw",
         "orientation": "v",
         "showlegend": true,
         "type": "histogram",
         "x": [
          "unknown",
          "unknown",
          "furniture",
          "unknown"
         ],
         "xaxis": "x",
         "yaxis": "y"
        },
        {
         "alignmentgroup": "True",
         "bingroup": "x",
         "hovertemplate": "brand=sulu<br>category_class=%{x}<br>count=%{y}<extra></extra>",
         "legendgroup": "sulu",
         "marker": {
          "color": "#00cc96"
         },
         "name": "sulu",
         "offsetgroup": "sulu",
         "orientation": "v",
         "showlegend": true,
         "type": "histogram",
         "x": [
          "unknown"
         ],
         "xaxis": "x",
         "yaxis": "y"
        },
        {
         "alignmentgroup": "True",
         "bingroup": "x",
         "hovertemplate": "brand=force<br>category_class=%{x}<br>count=%{y}<extra></extra>",
         "legendgroup": "force",
         "marker": {
          "color": "#ab63fa"
         },
         "name": "force",
         "offsetgroup": "force",
         "orientation": "v",
         "showlegend": true,
         "type": "histogram",
         "x": [
          "unknown",
          "unknown"
         ],
         "xaxis": "x",
         "yaxis": "y"
        },
        {
         "alignmentgroup": "True",
         "bingroup": "x",
         "hovertemplate": "brand=kirkland<br>category_class=%{x}<br>count=%{y}<extra></extra>",
         "legendgroup": "kirkland",
         "marker": {
          "color": "#FFA15A"
         },
         "name": "kirkland",
         "offsetgroup": "kirkland",
         "orientation": "v",
         "showlegend": true,
         "type": "histogram",
         "x": [
          "unknown",
          "unknown",
          "unknown",
          "unknown"
         ],
         "xaxis": "x",
         "yaxis": "y"
        },
        {
         "alignmentgroup": "True",
         "bingroup": "x",
         "hovertemplate": "brand=lenovo<br>category_class=%{x}<br>count=%{y}<extra></extra>",
         "legendgroup": "lenovo",
         "marker": {
          "color": "#19d3f3"
         },
         "name": "lenovo",
         "offsetgroup": "lenovo",
         "orientation": "v",
         "showlegend": true,
         "type": "histogram",
         "x": [
          "computers",
          "computers"
         ],
         "xaxis": "x",
         "yaxis": "y"
        },
        {
         "alignmentgroup": "True",
         "bingroup": "x",
         "hovertemplate": "brand=humminbird<br>category_class=%{x}<br>count=%{y}<extra></extra>",
         "legendgroup": "humminbird",
         "marker": {
          "color": "#FF6692"
         },
         "name": "humminbird",
         "offsetgroup": "humminbird",
         "orientation": "v",
         "showlegend": true,
         "type": "histogram",
         "x": [
          "unknown"
         ],
         "xaxis": "x",
         "yaxis": "y"
        },
        {
         "alignmentgroup": "True",
         "bingroup": "x",
         "hovertemplate": "brand=merelani<br>category_class=%{x}<br>count=%{y}<extra></extra>",
         "legendgroup": "merelani",
         "marker": {
          "color": "#B6E880"
         },
         "name": "merelani",
         "offsetgroup": "merelani",
         "orientation": "v",
         "showlegend": true,
         "type": "histogram",
         "x": [
          "unknown"
         ],
         "xaxis": "x",
         "yaxis": "y"
        },
        {
         "alignmentgroup": "True",
         "bingroup": "x",
         "hovertemplate": "brand=roadx<br>category_class=%{x}<br>count=%{y}<extra></extra>",
         "legendgroup": "roadx",
         "marker": {
          "color": "#FF97FF"
         },
         "name": "roadx",
         "offsetgroup": "roadx",
         "orientation": "v",
         "showlegend": true,
         "type": "histogram",
         "x": [
          "unknown"
         ],
         "xaxis": "x",
         "yaxis": "y"
        },
        {
         "alignmentgroup": "True",
         "bingroup": "x",
         "hovertemplate": "brand=dewalt<br>category_class=%{x}<br>count=%{y}<extra></extra>",
         "legendgroup": "dewalt",
         "marker": {
          "color": "#FECB52"
         },
         "name": "dewalt",
         "offsetgroup": "dewalt",
         "orientation": "v",
         "showlegend": true,
         "type": "histogram",
         "x": [
          "construction",
          "construction",
          "construction"
         ],
         "xaxis": "x",
         "yaxis": "y"
        },
        {
         "alignmentgroup": "True",
         "bingroup": "x",
         "hovertemplate": "brand=welly<br>category_class=%{x}<br>count=%{y}<extra></extra>",
         "legendgroup": "welly",
         "marker": {
          "color": "#636efa"
         },
         "name": "welly",
         "offsetgroup": "welly",
         "orientation": "v",
         "showlegend": true,
         "type": "histogram",
         "x": [
          "unknown"
         ],
         "xaxis": "x",
         "yaxis": "y"
        },
        {
         "alignmentgroup": "True",
         "bingroup": "x",
         "hovertemplate": "brand=denzel<br>category_class=%{x}<br>count=%{y}<extra></extra>",
         "legendgroup": "denzel",
         "marker": {
          "color": "#EF553B"
         },
         "name": "denzel",
         "offsetgroup": "denzel",
         "orientation": "v",
         "showlegend": true,
         "type": "histogram",
         "x": [
          "auto",
          "unknown"
         ],
         "xaxis": "x",
         "yaxis": "y"
        },
        {
         "alignmentgroup": "True",
         "bingroup": "x",
         "hovertemplate": "brand=nokian<br>category_class=%{x}<br>count=%{y}<extra></extra>",
         "legendgroup": "nokian",
         "marker": {
          "color": "#00cc96"
         },
         "name": "nokian",
         "offsetgroup": "nokian",
         "orientation": "v",
         "showlegend": true,
         "type": "histogram",
         "x": [
          "unknown"
         ],
         "xaxis": "x",
         "yaxis": "y"
        },
        {
         "alignmentgroup": "True",
         "bingroup": "x",
         "hovertemplate": "brand=mamadoma<br>category_class=%{x}<br>count=%{y}<extra></extra>",
         "legendgroup": "mamadoma",
         "marker": {
          "color": "#ab63fa"
         },
         "name": "mamadoma",
         "offsetgroup": "mamadoma",
         "orientation": "v",
         "showlegend": true,
         "type": "histogram",
         "x": [
          "furniture"
         ],
         "xaxis": "x",
         "yaxis": "y"
        },
        {
         "alignmentgroup": "True",
         "bingroup": "x",
         "hovertemplate": "brand=arrivo<br>category_class=%{x}<br>count=%{y}<extra></extra>",
         "legendgroup": "arrivo",
         "marker": {
          "color": "#FFA15A"
         },
         "name": "arrivo",
         "offsetgroup": "arrivo",
         "orientation": "v",
         "showlegend": true,
         "type": "histogram",
         "x": [
          "unknown"
         ],
         "xaxis": "x",
         "yaxis": "y"
        },
        {
         "alignmentgroup": "True",
         "bingroup": "x",
         "hovertemplate": "brand=t-rex<br>category_class=%{x}<br>count=%{y}<extra></extra>",
         "legendgroup": "t-rex",
         "marker": {
          "color": "#19d3f3"
         },
         "name": "t-rex",
         "offsetgroup": "t-rex",
         "orientation": "v",
         "showlegend": true,
         "type": "histogram",
         "x": [
          "unknown"
         ],
         "xaxis": "x",
         "yaxis": "y"
        },
        {
         "alignmentgroup": "True",
         "bingroup": "x",
         "hovertemplate": "brand=chanel<br>category_class=%{x}<br>count=%{y}<extra></extra>",
         "legendgroup": "chanel",
         "marker": {
          "color": "#FF6692"
         },
         "name": "chanel",
         "offsetgroup": "chanel",
         "orientation": "v",
         "showlegend": true,
         "type": "histogram",
         "x": [
          "unknown"
         ],
         "xaxis": "x",
         "yaxis": "y"
        },
        {
         "alignmentgroup": "True",
         "bingroup": "x",
         "hovertemplate": "brand=oppo<br>category_class=%{x}<br>count=%{y}<extra></extra>",
         "legendgroup": "oppo",
         "marker": {
          "color": "#B6E880"
         },
         "name": "oppo",
         "offsetgroup": "oppo",
         "orientation": "v",
         "showlegend": true,
         "type": "histogram",
         "x": [
          "electronics"
         ],
         "xaxis": "x",
         "yaxis": "y"
        },
        {
         "alignmentgroup": "True",
         "bingroup": "x",
         "hovertemplate": "brand=ams<br>category_class=%{x}<br>count=%{y}<extra></extra>",
         "legendgroup": "ams",
         "marker": {
          "color": "#FF97FF"
         },
         "name": "ams",
         "offsetgroup": "ams",
         "orientation": "v",
         "showlegend": true,
         "type": "histogram",
         "x": [
          "auto",
          "auto",
          "auto"
         ],
         "xaxis": "x",
         "yaxis": "y"
        },
        {
         "alignmentgroup": "True",
         "bingroup": "x",
         "hovertemplate": "brand=fisherman<br>category_class=%{x}<br>count=%{y}<extra></extra>",
         "legendgroup": "fisherman",
         "marker": {
          "color": "#FECB52"
         },
         "name": "fisherman",
         "offsetgroup": "fisherman",
         "orientation": "v",
         "showlegend": true,
         "type": "histogram",
         "x": [
          "accessories"
         ],
         "xaxis": "x",
         "yaxis": "y"
        },
        {
         "alignmentgroup": "True",
         "bingroup": "x",
         "hovertemplate": "brand=peda<br>category_class=%{x}<br>count=%{y}<extra></extra>",
         "legendgroup": "peda",
         "marker": {
          "color": "#636efa"
         },
         "name": "peda",
         "offsetgroup": "peda",
         "orientation": "v",
         "showlegend": true,
         "type": "histogram",
         "x": [
          "unknown",
          "unknown"
         ],
         "xaxis": "x",
         "yaxis": "y"
        },
        {
         "alignmentgroup": "True",
         "bingroup": "x",
         "hovertemplate": "brand=palit<br>category_class=%{x}<br>count=%{y}<extra></extra>",
         "legendgroup": "palit",
         "marker": {
          "color": "#EF553B"
         },
         "name": "palit",
         "offsetgroup": "palit",
         "orientation": "v",
         "showlegend": true,
         "type": "histogram",
         "x": [
          "computers"
         ],
         "xaxis": "x",
         "yaxis": "y"
        },
        {
         "alignmentgroup": "True",
         "bingroup": "x",
         "hovertemplate": "brand=aoteli<br>category_class=%{x}<br>count=%{y}<extra></extra>",
         "legendgroup": "aoteli",
         "marker": {
          "color": "#00cc96"
         },
         "name": "aoteli",
         "offsetgroup": "aoteli",
         "orientation": "v",
         "showlegend": true,
         "type": "histogram",
         "x": [
          "unknown"
         ],
         "xaxis": "x",
         "yaxis": "y"
        },
        {
         "alignmentgroup": "True",
         "bingroup": "x",
         "hovertemplate": "brand=tarkett<br>category_class=%{x}<br>count=%{y}<extra></extra>",
         "legendgroup": "tarkett",
         "marker": {
          "color": "#ab63fa"
         },
         "name": "tarkett",
         "offsetgroup": "tarkett",
         "orientation": "v",
         "showlegend": true,
         "type": "histogram",
         "x": [
          "unknown"
         ],
         "xaxis": "x",
         "yaxis": "y"
        },
        {
         "alignmentgroup": "True",
         "bingroup": "x",
         "hovertemplate": "brand=indesit<br>category_class=%{x}<br>count=%{y}<extra></extra>",
         "legendgroup": "indesit",
         "marker": {
          "color": "#FFA15A"
         },
         "name": "indesit",
         "offsetgroup": "indesit",
         "orientation": "v",
         "showlegend": true,
         "type": "histogram",
         "x": [
          "appliances"
         ],
         "xaxis": "x",
         "yaxis": "y"
        },
        {
         "alignmentgroup": "True",
         "bingroup": "x",
         "hovertemplate": "brand=honor<br>category_class=%{x}<br>count=%{y}<extra></extra>",
         "legendgroup": "honor",
         "marker": {
          "color": "#19d3f3"
         },
         "name": "honor",
         "offsetgroup": "honor",
         "orientation": "v",
         "showlegend": true,
         "type": "histogram",
         "x": [
          "unknown"
         ],
         "xaxis": "x",
         "yaxis": "y"
        },
        {
         "alignmentgroup": "True",
         "bingroup": "x",
         "hovertemplate": "brand=harley-davidson<br>category_class=%{x}<br>count=%{y}<extra></extra>",
         "legendgroup": "harley-davidson",
         "marker": {
          "color": "#FF6692"
         },
         "name": "harley-davidson",
         "offsetgroup": "harley-davidson",
         "orientation": "v",
         "showlegend": true,
         "type": "histogram",
         "x": [
          "unknown"
         ],
         "xaxis": "x",
         "yaxis": "y"
        },
        {
         "alignmentgroup": "True",
         "bingroup": "x",
         "hovertemplate": "brand=stels<br>category_class=%{x}<br>count=%{y}<extra></extra>",
         "legendgroup": "stels",
         "marker": {
          "color": "#B6E880"
         },
         "name": "stels",
         "offsetgroup": "stels",
         "orientation": "v",
         "showlegend": true,
         "type": "histogram",
         "x": [
          "unknown"
         ],
         "xaxis": "x",
         "yaxis": "y"
        },
        {
         "alignmentgroup": "True",
         "bingroup": "x",
         "hovertemplate": "brand=avatar<br>category_class=%{x}<br>count=%{y}<extra></extra>",
         "legendgroup": "avatar",
         "marker": {
          "color": "#FF97FF"
         },
         "name": "avatar",
         "offsetgroup": "avatar",
         "orientation": "v",
         "showlegend": true,
         "type": "histogram",
         "x": [
          "electronics"
         ],
         "xaxis": "x",
         "yaxis": "y"
        },
        {
         "alignmentgroup": "True",
         "bingroup": "x",
         "hovertemplate": "brand=lider<br>category_class=%{x}<br>count=%{y}<extra></extra>",
         "legendgroup": "lider",
         "marker": {
          "color": "#FECB52"
         },
         "name": "lider",
         "offsetgroup": "lider",
         "orientation": "v",
         "showlegend": true,
         "type": "histogram",
         "x": [
          "unknown"
         ],
         "xaxis": "x",
         "yaxis": "y"
        },
        {
         "alignmentgroup": "True",
         "bingroup": "x",
         "hovertemplate": "brand=kolner<br>category_class=%{x}<br>count=%{y}<extra></extra>",
         "legendgroup": "kolner",
         "marker": {
          "color": "#636efa"
         },
         "name": "kolner",
         "offsetgroup": "kolner",
         "orientation": "v",
         "showlegend": true,
         "type": "histogram",
         "x": [
          "unknown"
         ],
         "xaxis": "x",
         "yaxis": "y"
        },
        {
         "alignmentgroup": "True",
         "bingroup": "x",
         "hovertemplate": "brand=laston<br>category_class=%{x}<br>count=%{y}<extra></extra>",
         "legendgroup": "laston",
         "marker": {
          "color": "#EF553B"
         },
         "name": "laston",
         "offsetgroup": "laston",
         "orientation": "v",
         "showlegend": true,
         "type": "histogram",
         "x": [
          "auto"
         ],
         "xaxis": "x",
         "yaxis": "y"
        },
        {
         "alignmentgroup": "True",
         "bingroup": "x",
         "hovertemplate": "brand=magnetta<br>category_class=%{x}<br>count=%{y}<extra></extra>",
         "legendgroup": "magnetta",
         "marker": {
          "color": "#00cc96"
         },
         "name": "magnetta",
         "offsetgroup": "magnetta",
         "orientation": "v",
         "showlegend": true,
         "type": "histogram",
         "x": [
          "construction"
         ],
         "xaxis": "x",
         "yaxis": "y"
        },
        {
         "alignmentgroup": "True",
         "bingroup": "x",
         "hovertemplate": "brand=evelinecosmetics<br>category_class=%{x}<br>count=%{y}<extra></extra>",
         "legendgroup": "evelinecosmetics",
         "marker": {
          "color": "#ab63fa"
         },
         "name": "evelinecosmetics",
         "offsetgroup": "evelinecosmetics",
         "orientation": "v",
         "showlegend": true,
         "type": "histogram",
         "x": [
          "unknown"
         ],
         "xaxis": "x",
         "yaxis": "y"
        },
        {
         "alignmentgroup": "True",
         "bingroup": "x",
         "hovertemplate": "brand=epson<br>category_class=%{x}<br>count=%{y}<extra></extra>",
         "legendgroup": "epson",
         "marker": {
          "color": "#FFA15A"
         },
         "name": "epson",
         "offsetgroup": "epson",
         "orientation": "v",
         "showlegend": true,
         "type": "histogram",
         "x": [
          "computers"
         ],
         "xaxis": "x",
         "yaxis": "y"
        },
        {
         "alignmentgroup": "True",
         "bingroup": "x",
         "hovertemplate": "brand=givenchy<br>category_class=%{x}<br>count=%{y}<extra></extra>",
         "legendgroup": "givenchy",
         "marker": {
          "color": "#19d3f3"
         },
         "name": "givenchy",
         "offsetgroup": "givenchy",
         "orientation": "v",
         "showlegend": true,
         "type": "histogram",
         "x": [
          "unknown"
         ],
         "xaxis": "x",
         "yaxis": "y"
        },
        {
         "alignmentgroup": "True",
         "bingroup": "x",
         "hovertemplate": "brand=beko<br>category_class=%{x}<br>count=%{y}<extra></extra>",
         "legendgroup": "beko",
         "marker": {
          "color": "#FF6692"
         },
         "name": "beko",
         "offsetgroup": "beko",
         "orientation": "v",
         "showlegend": true,
         "type": "histogram",
         "x": [
          "appliances"
         ],
         "xaxis": "x",
         "yaxis": "y"
        },
        {
         "alignmentgroup": "True",
         "bingroup": "x",
         "hovertemplate": "brand=pioneer<br>category_class=%{x}<br>count=%{y}<extra></extra>",
         "legendgroup": "pioneer",
         "marker": {
          "color": "#B6E880"
         },
         "name": "pioneer",
         "offsetgroup": "pioneer",
         "orientation": "v",
         "showlegend": true,
         "type": "histogram",
         "x": [
          "auto",
          "electronics"
         ],
         "xaxis": "x",
         "yaxis": "y"
        },
        {
         "alignmentgroup": "True",
         "bingroup": "x",
         "hovertemplate": "brand=dwt<br>category_class=%{x}<br>count=%{y}<extra></extra>",
         "legendgroup": "dwt",
         "marker": {
          "color": "#FF97FF"
         },
         "name": "dwt",
         "offsetgroup": "dwt",
         "orientation": "v",
         "showlegend": true,
         "type": "histogram",
         "x": [
          "construction"
         ],
         "xaxis": "x",
         "yaxis": "y"
        },
        {
         "alignmentgroup": "True",
         "bingroup": "x",
         "hovertemplate": "brand=skad<br>category_class=%{x}<br>count=%{y}<extra></extra>",
         "legendgroup": "skad",
         "marker": {
          "color": "#FECB52"
         },
         "name": "skad",
         "offsetgroup": "skad",
         "orientation": "v",
         "showlegend": true,
         "type": "histogram",
         "x": [
          "unknown"
         ],
         "xaxis": "x",
         "yaxis": "y"
        },
        {
         "alignmentgroup": "True",
         "bingroup": "x",
         "hovertemplate": "brand=garmin<br>category_class=%{x}<br>count=%{y}<extra></extra>",
         "legendgroup": "garmin",
         "marker": {
          "color": "#636efa"
         },
         "name": "garmin",
         "offsetgroup": "garmin",
         "orientation": "v",
         "showlegend": true,
         "type": "histogram",
         "x": [
          "electronics"
         ],
         "xaxis": "x",
         "yaxis": "y"
        },
        {
         "alignmentgroup": "True",
         "bingroup": "x",
         "hovertemplate": "brand=arg<br>category_class=%{x}<br>count=%{y}<extra></extra>",
         "legendgroup": "arg",
         "marker": {
          "color": "#EF553B"
         },
         "name": "arg",
         "offsetgroup": "arg",
         "orientation": "v",
         "showlegend": true,
         "type": "histogram",
         "x": [
          "appliances"
         ],
         "xaxis": "x",
         "yaxis": "y"
        },
        {
         "alignmentgroup": "True",
         "bingroup": "x",
         "hovertemplate": "brand=cordiant<br>category_class=%{x}<br>count=%{y}<extra></extra>",
         "legendgroup": "cordiant",
         "marker": {
          "color": "#00cc96"
         },
         "name": "cordiant",
         "offsetgroup": "cordiant",
         "orientation": "v",
         "showlegend": true,
         "type": "histogram",
         "x": [
          "unknown",
          "unknown"
         ],
         "xaxis": "x",
         "yaxis": "y"
        },
        {
         "alignmentgroup": "True",
         "bingroup": "x",
         "hovertemplate": "brand=montale<br>category_class=%{x}<br>count=%{y}<extra></extra>",
         "legendgroup": "montale",
         "marker": {
          "color": "#ab63fa"
         },
         "name": "montale",
         "offsetgroup": "montale",
         "orientation": "v",
         "showlegend": true,
         "type": "histogram",
         "x": [
          "unknown"
         ],
         "xaxis": "x",
         "yaxis": "y"
        },
        {
         "alignmentgroup": "True",
         "bingroup": "x",
         "hovertemplate": "brand=pablosky<br>category_class=%{x}<br>count=%{y}<extra></extra>",
         "legendgroup": "pablosky",
         "marker": {
          "color": "#FFA15A"
         },
         "name": "pablosky",
         "offsetgroup": "pablosky",
         "orientation": "v",
         "showlegend": true,
         "type": "histogram",
         "x": [
          "apparel"
         ],
         "xaxis": "x",
         "yaxis": "y"
        },
        {
         "alignmentgroup": "True",
         "bingroup": "x",
         "hovertemplate": "brand=stanley<br>category_class=%{x}<br>count=%{y}<extra></extra>",
         "legendgroup": "stanley",
         "marker": {
          "color": "#19d3f3"
         },
         "name": "stanley",
         "offsetgroup": "stanley",
         "orientation": "v",
         "showlegend": true,
         "type": "histogram",
         "x": [
          "construction"
         ],
         "xaxis": "x",
         "yaxis": "y"
        },
        {
         "alignmentgroup": "True",
         "bingroup": "x",
         "hovertemplate": "brand=carfashion<br>category_class=%{x}<br>count=%{y}<extra></extra>",
         "legendgroup": "carfashion",
         "marker": {
          "color": "#FF6692"
         },
         "name": "carfashion",
         "offsetgroup": "carfashion",
         "orientation": "v",
         "showlegend": true,
         "type": "histogram",
         "x": [
          "unknown"
         ],
         "xaxis": "x",
         "yaxis": "y"
        },
        {
         "alignmentgroup": "True",
         "bingroup": "x",
         "hovertemplate": "brand=casio<br>category_class=%{x}<br>count=%{y}<extra></extra>",
         "legendgroup": "casio",
         "marker": {
          "color": "#B6E880"
         },
         "name": "casio",
         "offsetgroup": "casio",
         "orientation": "v",
         "showlegend": true,
         "type": "histogram",
         "x": [
          "electronics"
         ],
         "xaxis": "x",
         "yaxis": "y"
        },
        {
         "alignmentgroup": "True",
         "bingroup": "x",
         "hovertemplate": "brand=sokolov<br>category_class=%{x}<br>count=%{y}<extra></extra>",
         "legendgroup": "sokolov",
         "marker": {
          "color": "#FF97FF"
         },
         "name": "sokolov",
         "offsetgroup": "sokolov",
         "orientation": "v",
         "showlegend": true,
         "type": "histogram",
         "x": [
          "unknown"
         ],
         "xaxis": "x",
         "yaxis": "y"
        },
        {
         "alignmentgroup": "True",
         "bingroup": "x",
         "hovertemplate": "brand=jordan<br>category_class=%{x}<br>count=%{y}<extra></extra>",
         "legendgroup": "jordan",
         "marker": {
          "color": "#FECB52"
         },
         "name": "jordan",
         "offsetgroup": "jordan",
         "orientation": "v",
         "showlegend": true,
         "type": "histogram",
         "x": [
          "apparel"
         ],
         "xaxis": "x",
         "yaxis": "y"
        },
        {
         "alignmentgroup": "True",
         "bingroup": "x",
         "hovertemplate": "brand=fubag<br>category_class=%{x}<br>count=%{y}<extra></extra>",
         "legendgroup": "fubag",
         "marker": {
          "color": "#636efa"
         },
         "name": "fubag",
         "offsetgroup": "fubag",
         "orientation": "v",
         "showlegend": true,
         "type": "histogram",
         "x": [
          "construction"
         ],
         "xaxis": "x",
         "yaxis": "y"
        },
        {
         "alignmentgroup": "True",
         "bingroup": "x",
         "hovertemplate": "brand=armani<br>category_class=%{x}<br>count=%{y}<extra></extra>",
         "legendgroup": "armani",
         "marker": {
          "color": "#EF553B"
         },
         "name": "armani",
         "offsetgroup": "armani",
         "orientation": "v",
         "showlegend": true,
         "type": "histogram",
         "x": [
          "electronics"
         ],
         "xaxis": "x",
         "yaxis": "y"
        },
        {
         "alignmentgroup": "True",
         "bingroup": "x",
         "hovertemplate": "brand=alphard<br>category_class=%{x}<br>count=%{y}<extra></extra>",
         "legendgroup": "alphard",
         "marker": {
          "color": "#00cc96"
         },
         "name": "alphard",
         "offsetgroup": "alphard",
         "orientation": "v",
         "showlegend": true,
         "type": "histogram",
         "x": [
          "electronics"
         ],
         "xaxis": "x",
         "yaxis": "y"
        },
        {
         "alignmentgroup": "True",
         "bingroup": "x",
         "hovertemplate": "brand=element<br>category_class=%{x}<br>count=%{y}<extra></extra>",
         "legendgroup": "element",
         "marker": {
          "color": "#ab63fa"
         },
         "name": "element",
         "offsetgroup": "element",
         "orientation": "v",
         "showlegend": true,
         "type": "histogram",
         "x": [
          "electronics"
         ],
         "xaxis": "x",
         "yaxis": "y"
        },
        {
         "alignmentgroup": "True",
         "bingroup": "x",
         "hovertemplate": "brand=hycell<br>category_class=%{x}<br>count=%{y}<extra></extra>",
         "legendgroup": "hycell",
         "marker": {
          "color": "#FFA15A"
         },
         "name": "hycell",
         "offsetgroup": "hycell",
         "orientation": "v",
         "showlegend": true,
         "type": "histogram",
         "x": [
          "unknown"
         ],
         "xaxis": "x",
         "yaxis": "y"
        },
        {
         "alignmentgroup": "True",
         "bingroup": "x",
         "hovertemplate": "brand=sv<br>category_class=%{x}<br>count=%{y}<extra></extra>",
         "legendgroup": "sv",
         "marker": {
          "color": "#19d3f3"
         },
         "name": "sv",
         "offsetgroup": "sv",
         "orientation": "v",
         "showlegend": true,
         "type": "histogram",
         "x": [
          "unknown"
         ],
         "xaxis": "x",
         "yaxis": "y"
        }
       ],
       "layout": {
        "barmode": "relative",
        "legend": {
         "title": {
          "text": "brand"
         },
         "tracegroupgap": 0
        },
        "margin": {
         "t": 60
        },
        "template": {
         "data": {
          "bar": [
           {
            "error_x": {
             "color": "#2a3f5f"
            },
            "error_y": {
             "color": "#2a3f5f"
            },
            "marker": {
             "line": {
              "color": "#E5ECF6",
              "width": 0.5
             }
            },
            "type": "bar"
           }
          ],
          "barpolar": [
           {
            "marker": {
             "line": {
              "color": "#E5ECF6",
              "width": 0.5
             }
            },
            "type": "barpolar"
           }
          ],
          "carpet": [
           {
            "aaxis": {
             "endlinecolor": "#2a3f5f",
             "gridcolor": "white",
             "linecolor": "white",
             "minorgridcolor": "white",
             "startlinecolor": "#2a3f5f"
            },
            "baxis": {
             "endlinecolor": "#2a3f5f",
             "gridcolor": "white",
             "linecolor": "white",
             "minorgridcolor": "white",
             "startlinecolor": "#2a3f5f"
            },
            "type": "carpet"
           }
          ],
          "choropleth": [
           {
            "colorbar": {
             "outlinewidth": 0,
             "ticks": ""
            },
            "type": "choropleth"
           }
          ],
          "contour": [
           {
            "colorbar": {
             "outlinewidth": 0,
             "ticks": ""
            },
            "colorscale": [
             [
              0,
              "#0d0887"
             ],
             [
              0.1111111111111111,
              "#46039f"
             ],
             [
              0.2222222222222222,
              "#7201a8"
             ],
             [
              0.3333333333333333,
              "#9c179e"
             ],
             [
              0.4444444444444444,
              "#bd3786"
             ],
             [
              0.5555555555555556,
              "#d8576b"
             ],
             [
              0.6666666666666666,
              "#ed7953"
             ],
             [
              0.7777777777777778,
              "#fb9f3a"
             ],
             [
              0.8888888888888888,
              "#fdca26"
             ],
             [
              1,
              "#f0f921"
             ]
            ],
            "type": "contour"
           }
          ],
          "contourcarpet": [
           {
            "colorbar": {
             "outlinewidth": 0,
             "ticks": ""
            },
            "type": "contourcarpet"
           }
          ],
          "heatmap": [
           {
            "colorbar": {
             "outlinewidth": 0,
             "ticks": ""
            },
            "colorscale": [
             [
              0,
              "#0d0887"
             ],
             [
              0.1111111111111111,
              "#46039f"
             ],
             [
              0.2222222222222222,
              "#7201a8"
             ],
             [
              0.3333333333333333,
              "#9c179e"
             ],
             [
              0.4444444444444444,
              "#bd3786"
             ],
             [
              0.5555555555555556,
              "#d8576b"
             ],
             [
              0.6666666666666666,
              "#ed7953"
             ],
             [
              0.7777777777777778,
              "#fb9f3a"
             ],
             [
              0.8888888888888888,
              "#fdca26"
             ],
             [
              1,
              "#f0f921"
             ]
            ],
            "type": "heatmap"
           }
          ],
          "heatmapgl": [
           {
            "colorbar": {
             "outlinewidth": 0,
             "ticks": ""
            },
            "colorscale": [
             [
              0,
              "#0d0887"
             ],
             [
              0.1111111111111111,
              "#46039f"
             ],
             [
              0.2222222222222222,
              "#7201a8"
             ],
             [
              0.3333333333333333,
              "#9c179e"
             ],
             [
              0.4444444444444444,
              "#bd3786"
             ],
             [
              0.5555555555555556,
              "#d8576b"
             ],
             [
              0.6666666666666666,
              "#ed7953"
             ],
             [
              0.7777777777777778,
              "#fb9f3a"
             ],
             [
              0.8888888888888888,
              "#fdca26"
             ],
             [
              1,
              "#f0f921"
             ]
            ],
            "type": "heatmapgl"
           }
          ],
          "histogram": [
           {
            "marker": {
             "colorbar": {
              "outlinewidth": 0,
              "ticks": ""
             }
            },
            "type": "histogram"
           }
          ],
          "histogram2d": [
           {
            "colorbar": {
             "outlinewidth": 0,
             "ticks": ""
            },
            "colorscale": [
             [
              0,
              "#0d0887"
             ],
             [
              0.1111111111111111,
              "#46039f"
             ],
             [
              0.2222222222222222,
              "#7201a8"
             ],
             [
              0.3333333333333333,
              "#9c179e"
             ],
             [
              0.4444444444444444,
              "#bd3786"
             ],
             [
              0.5555555555555556,
              "#d8576b"
             ],
             [
              0.6666666666666666,
              "#ed7953"
             ],
             [
              0.7777777777777778,
              "#fb9f3a"
             ],
             [
              0.8888888888888888,
              "#fdca26"
             ],
             [
              1,
              "#f0f921"
             ]
            ],
            "type": "histogram2d"
           }
          ],
          "histogram2dcontour": [
           {
            "colorbar": {
             "outlinewidth": 0,
             "ticks": ""
            },
            "colorscale": [
             [
              0,
              "#0d0887"
             ],
             [
              0.1111111111111111,
              "#46039f"
             ],
             [
              0.2222222222222222,
              "#7201a8"
             ],
             [
              0.3333333333333333,
              "#9c179e"
             ],
             [
              0.4444444444444444,
              "#bd3786"
             ],
             [
              0.5555555555555556,
              "#d8576b"
             ],
             [
              0.6666666666666666,
              "#ed7953"
             ],
             [
              0.7777777777777778,
              "#fb9f3a"
             ],
             [
              0.8888888888888888,
              "#fdca26"
             ],
             [
              1,
              "#f0f921"
             ]
            ],
            "type": "histogram2dcontour"
           }
          ],
          "mesh3d": [
           {
            "colorbar": {
             "outlinewidth": 0,
             "ticks": ""
            },
            "type": "mesh3d"
           }
          ],
          "parcoords": [
           {
            "line": {
             "colorbar": {
              "outlinewidth": 0,
              "ticks": ""
             }
            },
            "type": "parcoords"
           }
          ],
          "pie": [
           {
            "automargin": true,
            "type": "pie"
           }
          ],
          "scatter": [
           {
            "marker": {
             "colorbar": {
              "outlinewidth": 0,
              "ticks": ""
             }
            },
            "type": "scatter"
           }
          ],
          "scatter3d": [
           {
            "line": {
             "colorbar": {
              "outlinewidth": 0,
              "ticks": ""
             }
            },
            "marker": {
             "colorbar": {
              "outlinewidth": 0,
              "ticks": ""
             }
            },
            "type": "scatter3d"
           }
          ],
          "scattercarpet": [
           {
            "marker": {
             "colorbar": {
              "outlinewidth": 0,
              "ticks": ""
             }
            },
            "type": "scattercarpet"
           }
          ],
          "scattergeo": [
           {
            "marker": {
             "colorbar": {
              "outlinewidth": 0,
              "ticks": ""
             }
            },
            "type": "scattergeo"
           }
          ],
          "scattergl": [
           {
            "marker": {
             "colorbar": {
              "outlinewidth": 0,
              "ticks": ""
             }
            },
            "type": "scattergl"
           }
          ],
          "scattermapbox": [
           {
            "marker": {
             "colorbar": {
              "outlinewidth": 0,
              "ticks": ""
             }
            },
            "type": "scattermapbox"
           }
          ],
          "scatterpolar": [
           {
            "marker": {
             "colorbar": {
              "outlinewidth": 0,
              "ticks": ""
             }
            },
            "type": "scatterpolar"
           }
          ],
          "scatterpolargl": [
           {
            "marker": {
             "colorbar": {
              "outlinewidth": 0,
              "ticks": ""
             }
            },
            "type": "scatterpolargl"
           }
          ],
          "scatterternary": [
           {
            "marker": {
             "colorbar": {
              "outlinewidth": 0,
              "ticks": ""
             }
            },
            "type": "scatterternary"
           }
          ],
          "surface": [
           {
            "colorbar": {
             "outlinewidth": 0,
             "ticks": ""
            },
            "colorscale": [
             [
              0,
              "#0d0887"
             ],
             [
              0.1111111111111111,
              "#46039f"
             ],
             [
              0.2222222222222222,
              "#7201a8"
             ],
             [
              0.3333333333333333,
              "#9c179e"
             ],
             [
              0.4444444444444444,
              "#bd3786"
             ],
             [
              0.5555555555555556,
              "#d8576b"
             ],
             [
              0.6666666666666666,
              "#ed7953"
             ],
             [
              0.7777777777777778,
              "#fb9f3a"
             ],
             [
              0.8888888888888888,
              "#fdca26"
             ],
             [
              1,
              "#f0f921"
             ]
            ],
            "type": "surface"
           }
          ],
          "table": [
           {
            "cells": {
             "fill": {
              "color": "#EBF0F8"
             },
             "line": {
              "color": "white"
             }
            },
            "header": {
             "fill": {
              "color": "#C8D4E3"
             },
             "line": {
              "color": "white"
             }
            },
            "type": "table"
           }
          ]
         },
         "layout": {
          "annotationdefaults": {
           "arrowcolor": "#2a3f5f",
           "arrowhead": 0,
           "arrowwidth": 1
          },
          "autotypenumbers": "strict",
          "coloraxis": {
           "colorbar": {
            "outlinewidth": 0,
            "ticks": ""
           }
          },
          "colorscale": {
           "diverging": [
            [
             0,
             "#8e0152"
            ],
            [
             0.1,
             "#c51b7d"
            ],
            [
             0.2,
             "#de77ae"
            ],
            [
             0.3,
             "#f1b6da"
            ],
            [
             0.4,
             "#fde0ef"
            ],
            [
             0.5,
             "#f7f7f7"
            ],
            [
             0.6,
             "#e6f5d0"
            ],
            [
             0.7,
             "#b8e186"
            ],
            [
             0.8,
             "#7fbc41"
            ],
            [
             0.9,
             "#4d9221"
            ],
            [
             1,
             "#276419"
            ]
           ],
           "sequential": [
            [
             0,
             "#0d0887"
            ],
            [
             0.1111111111111111,
             "#46039f"
            ],
            [
             0.2222222222222222,
             "#7201a8"
            ],
            [
             0.3333333333333333,
             "#9c179e"
            ],
            [
             0.4444444444444444,
             "#bd3786"
            ],
            [
             0.5555555555555556,
             "#d8576b"
            ],
            [
             0.6666666666666666,
             "#ed7953"
            ],
            [
             0.7777777777777778,
             "#fb9f3a"
            ],
            [
             0.8888888888888888,
             "#fdca26"
            ],
            [
             1,
             "#f0f921"
            ]
           ],
           "sequentialminus": [
            [
             0,
             "#0d0887"
            ],
            [
             0.1111111111111111,
             "#46039f"
            ],
            [
             0.2222222222222222,
             "#7201a8"
            ],
            [
             0.3333333333333333,
             "#9c179e"
            ],
            [
             0.4444444444444444,
             "#bd3786"
            ],
            [
             0.5555555555555556,
             "#d8576b"
            ],
            [
             0.6666666666666666,
             "#ed7953"
            ],
            [
             0.7777777777777778,
             "#fb9f3a"
            ],
            [
             0.8888888888888888,
             "#fdca26"
            ],
            [
             1,
             "#f0f921"
            ]
           ]
          },
          "colorway": [
           "#636efa",
           "#EF553B",
           "#00cc96",
           "#ab63fa",
           "#FFA15A",
           "#19d3f3",
           "#FF6692",
           "#B6E880",
           "#FF97FF",
           "#FECB52"
          ],
          "font": {
           "color": "#2a3f5f"
          },
          "geo": {
           "bgcolor": "white",
           "lakecolor": "white",
           "landcolor": "#E5ECF6",
           "showlakes": true,
           "showland": true,
           "subunitcolor": "white"
          },
          "hoverlabel": {
           "align": "left"
          },
          "hovermode": "closest",
          "mapbox": {
           "style": "light"
          },
          "paper_bgcolor": "white",
          "plot_bgcolor": "#E5ECF6",
          "polar": {
           "angularaxis": {
            "gridcolor": "white",
            "linecolor": "white",
            "ticks": ""
           },
           "bgcolor": "#E5ECF6",
           "radialaxis": {
            "gridcolor": "white",
            "linecolor": "white",
            "ticks": ""
           }
          },
          "scene": {
           "xaxis": {
            "backgroundcolor": "#E5ECF6",
            "gridcolor": "white",
            "gridwidth": 2,
            "linecolor": "white",
            "showbackground": true,
            "ticks": "",
            "zerolinecolor": "white"
           },
           "yaxis": {
            "backgroundcolor": "#E5ECF6",
            "gridcolor": "white",
            "gridwidth": 2,
            "linecolor": "white",
            "showbackground": true,
            "ticks": "",
            "zerolinecolor": "white"
           },
           "zaxis": {
            "backgroundcolor": "#E5ECF6",
            "gridcolor": "white",
            "gridwidth": 2,
            "linecolor": "white",
            "showbackground": true,
            "ticks": "",
            "zerolinecolor": "white"
           }
          },
          "shapedefaults": {
           "line": {
            "color": "#2a3f5f"
           }
          },
          "ternary": {
           "aaxis": {
            "gridcolor": "white",
            "linecolor": "white",
            "ticks": ""
           },
           "baxis": {
            "gridcolor": "white",
            "linecolor": "white",
            "ticks": ""
           },
           "bgcolor": "#E5ECF6",
           "caxis": {
            "gridcolor": "white",
            "linecolor": "white",
            "ticks": ""
           }
          },
          "title": {
           "x": 0.05
          },
          "xaxis": {
           "automargin": true,
           "gridcolor": "white",
           "linecolor": "white",
           "ticks": "",
           "title": {
            "standoff": 15
           },
           "zerolinecolor": "white",
           "zerolinewidth": 2
          },
          "yaxis": {
           "automargin": true,
           "gridcolor": "white",
           "linecolor": "white",
           "ticks": "",
           "title": {
            "standoff": 15
           },
           "zerolinecolor": "white",
           "zerolinewidth": 2
          }
         }
        },
        "xaxis": {
         "anchor": "y",
         "domain": [
          0,
          1
         ],
         "title": {
          "text": "category_class"
         }
        },
        "yaxis": {
         "anchor": "x",
         "domain": [
          0,
          1
         ],
         "title": {
          "text": "count"
         }
        }
       }
      }
     },
     "metadata": {}
    }
   ],
   "source": [
    "px.histogram(pdf, x=\"category_class\", color=\"brand\")"
   ]
  },
  {
   "source": [
    "Mehrere Brands können zu mehreren Category Class gehören."
   ],
   "cell_type": "markdown",
   "metadata": {}
  },
  {
   "source": [
    "##### Category Code - Category ID"
   ],
   "cell_type": "markdown",
   "metadata": {}
  },
  {
   "cell_type": "code",
   "execution_count": 110,
   "metadata": {},
   "outputs": [
    {
     "output_type": "stream",
     "name": "stdout",
     "text": [
      "+--------------------+-----------------+\n|       Category_code|Count_Category_ID|\n+--------------------+-----------------+\n|       apparel.shirt|                1|\n|electronics.camer...|                1|\n|electronics.audio...|                1|\n|appliances.kitche...|                1|\n|       apparel.jeans|                1|\n|furniture.kitchen...|                1|\n|construction.tool...|                1|\n|auto.accessories....|                1|\n|                null|               38|\n|construction.tool...|                1|\n|construction.tool...|                1|\n|furniture.bathroo...|                1|\n|     accessories.bag|                1|\n|furniture.kitchen...|                1|\n|electronics.audio...|                1|\n|furniture.bedroom...|                2|\n|  electronics.clocks|                2|\n|      apparel.tshirt|                1|\n|electronics.smart...|                1|\n|construction.tool...|                1|\n+--------------------+-----------------+\nonly showing top 20 rows\n\n"
     ]
    }
   ],
   "source": [
    "spark.sql(\"SELECT Category_code, COUNT(DISTINCT(Category_ID)) AS Count_Category_ID from Product_Data GROUP BY Category_code\").show()"
   ]
  },
  {
   "cell_type": "code",
   "execution_count": 112,
   "metadata": {},
   "outputs": [
    {
     "output_type": "stream",
     "name": "stdout",
     "text": [
      "+-------------------+-------------------+\n|        Category_ID|Count_Category_code|\n+-------------------+-------------------+\n|2055156924407612189|                  1|\n|2053013558433677895|                  1|\n|2127425434894205468|                  1|\n|2053013563944993659|                  1|\n|2053013561579406073|                  1|\n|2100825583029060150|                  1|\n|2053013556311359947|                  1|\n|2053013555631882655|                  1|\n|2146660887346282824|                  1|\n|2053013565983425517|                  1|\n|2053013563810775923|                  1|\n|2053013559792632471|                  1|\n|2053013554155487563|                  1|\n|2053013560530830019|                  1|\n|2053013558920217191|                  1|\n|2173216765583032544|                  1|\n|2127425436764865054|                  1|\n|2053013557192163841|                  1|\n|2053013554415534427|                  1|\n|2116907524572577889|                  1|\n+-------------------+-------------------+\nonly showing top 20 rows\n\n"
     ]
    }
   ],
   "source": [
    "spark.sql(\"SELECT Category_ID, COUNT(DISTINCT(Category_code)) AS Count_Category_code from Product_Data GROUP BY Category_ID ORDER BY Count_Category_code DESC\").show()"
   ]
  },
  {
   "cell_type": "code",
   "execution_count": 113,
   "metadata": {},
   "outputs": [
    {
     "output_type": "stream",
     "name": "stdout",
     "text": [
      "+--------------------+-------------------+\n|       Category_code|        Category_ID|\n+--------------------+-------------------+\n|furniture.living_...|2053013559792632471|\n|furniture.kitchen...|2053013558433677895|\n|furniture.kitchen...|2053013559901684381|\n|furniture.bedroom...|2053013557192163841|\n|furniture.bedroom...|2053013555464110485|\n|furniture.bathroo...|2053013557477376525|\n|electronics.video.tv|2053013554415534427|\n|electronics.smart...|2053013555631882655|\n|  electronics.clocks|2053013561579406073|\n|  electronics.clocks|2053013553341792533|\n|electronics.camer...|2053013560530830019|\n|electronics.audio...|2053013553945772349|\n|electronics.audio...|2053013554658804075|\n|construction.tool...|2127425436764865054|\n|construction.tool...|2144916515806248980|\n|construction.tool...|2127425434894205468|\n|construction.tool...|2098563450757186313|\n|construction.tool...|2053013556311359947|\n|computers.periphe...|2053013553056579841|\n|  computers.notebook|2053013558920217191|\n+--------------------+-------------------+\nonly showing top 20 rows\n\n"
     ]
    }
   ],
   "source": [
    "spark.sql(\"SELECT Category_code, Category_ID from Product_Data GROUP BY Category_code, Category_ID ORDER BY Category_code DESC, Category_ID DESC\").show()"
   ]
  },
  {
   "cell_type": "code",
   "execution_count": 92,
   "metadata": {},
   "outputs": [
    {
     "output_type": "display_data",
     "data": {
      "application/vnd.plotly.v1+json": {
       "config": {
        "plotlyServerURL": "https://plot.ly"
       },
       "data": [
        {
         "alignmentgroup": "True",
         "bingroup": "x",
         "hovertemplate": "category_id=2053013555631882655<br>category_code=%{x}<br>count=%{y}<extra></extra>",
         "legendgroup": "2053013555631882655",
         "marker": {
          "color": "#636efa"
         },
         "name": "2053013555631882655",
         "offsetgroup": "2053013555631882655",
         "orientation": "v",
         "showlegend": true,
         "type": "histogram",
         "x": [
          "electronics.smartphone",
          "electronics.smartphone",
          "electronics.smartphone",
          "electronics.smartphone",
          "electronics.smartphone",
          "electronics.smartphone",
          "electronics.smartphone",
          "electronics.smartphone",
          "electronics.smartphone",
          "electronics.smartphone",
          "electronics.smartphone",
          "electronics.smartphone",
          "electronics.smartphone",
          "electronics.smartphone",
          "electronics.smartphone",
          "electronics.smartphone",
          "electronics.smartphone",
          "electronics.smartphone",
          "electronics.smartphone",
          "electronics.smartphone",
          "electronics.smartphone",
          "electronics.smartphone",
          "electronics.smartphone",
          "electronics.smartphone",
          "electronics.smartphone",
          "electronics.smartphone",
          "electronics.smartphone",
          "electronics.smartphone",
          "electronics.smartphone",
          "electronics.smartphone",
          "electronics.smartphone",
          "electronics.smartphone",
          "electronics.smartphone",
          "electronics.smartphone",
          "electronics.smartphone",
          "electronics.smartphone",
          "electronics.smartphone",
          "electronics.smartphone"
         ],
         "xaxis": "x",
         "yaxis": "y"
        },
        {
         "alignmentgroup": "True",
         "bingroup": "x",
         "hovertemplate": "category_id=2053013566100866035<br>category_code=%{x}<br>count=%{y}<extra></extra>",
         "legendgroup": "2053013566100866035",
         "marker": {
          "color": "#EF553B"
         },
         "name": "2053013566100866035",
         "offsetgroup": "2053013566100866035",
         "orientation": "v",
         "showlegend": true,
         "type": "histogram",
         "x": [
          "appliances.sewing_machine",
          "appliances.sewing_machine"
         ],
         "xaxis": "x",
         "yaxis": "y"
        },
        {
         "alignmentgroup": "True",
         "bingroup": "x",
         "hovertemplate": "category_id=2053013553853497655<br>category_code=%{x}<br>count=%{y}<extra></extra>",
         "legendgroup": "2053013553853497655",
         "marker": {
          "color": "#00cc96"
         },
         "name": "2053013553853497655",
         "offsetgroup": "2053013553853497655",
         "orientation": "v",
         "showlegend": true,
         "type": "histogram",
         "x": [
          "unknown",
          "unknown",
          "unknown",
          "unknown",
          "unknown",
          "unknown",
          "unknown",
          "unknown",
          "unknown"
         ],
         "xaxis": "x",
         "yaxis": "y"
        },
        {
         "alignmentgroup": "True",
         "bingroup": "x",
         "hovertemplate": "category_id=2053013563810775923<br>category_code=%{x}<br>count=%{y}<extra></extra>",
         "legendgroup": "2053013563810775923",
         "marker": {
          "color": "#ab63fa"
         },
         "name": "2053013563810775923",
         "offsetgroup": "2053013563810775923",
         "orientation": "v",
         "showlegend": true,
         "type": "histogram",
         "x": [
          "appliances.kitchen.washer"
         ],
         "xaxis": "x",
         "yaxis": "y"
        },
        {
         "alignmentgroup": "True",
         "bingroup": "x",
         "hovertemplate": "category_id=2053013558920217191<br>category_code=%{x}<br>count=%{y}<extra></extra>",
         "legendgroup": "2053013558920217191",
         "marker": {
          "color": "#FFA15A"
         },
         "name": "2053013558920217191",
         "offsetgroup": "2053013558920217191",
         "orientation": "v",
         "showlegend": true,
         "type": "histogram",
         "x": [
          "computers.notebook",
          "computers.notebook",
          "computers.notebook",
          "computers.notebook",
          "computers.notebook",
          "computers.notebook",
          "computers.notebook",
          "computers.notebook",
          "computers.notebook",
          "computers.notebook",
          "computers.notebook",
          "computers.notebook",
          "computers.notebook",
          "computers.notebook",
          "computers.notebook",
          "computers.notebook",
          "computers.notebook",
          "computers.notebook"
         ],
         "xaxis": "x",
         "yaxis": "y"
        },
        {
         "alignmentgroup": "True",
         "bingroup": "x",
         "hovertemplate": "category_id=2053013558190408249<br>category_code=%{x}<br>count=%{y}<extra></extra>",
         "legendgroup": "2053013558190408249",
         "marker": {
          "color": "#19d3f3"
         },
         "name": "2053013558190408249",
         "offsetgroup": "2053013558190408249",
         "orientation": "v",
         "showlegend": true,
         "type": "histogram",
         "x": [
          "unknown"
         ],
         "xaxis": "x",
         "yaxis": "y"
        },
        {
         "alignmentgroup": "True",
         "bingroup": "x",
         "hovertemplate": "category_id=2053013553559896355<br>category_code=%{x}<br>count=%{y}<extra></extra>",
         "legendgroup": "2053013553559896355",
         "marker": {
          "color": "#FF6692"
         },
         "name": "2053013553559896355",
         "offsetgroup": "2053013553559896355",
         "orientation": "v",
         "showlegend": true,
         "type": "histogram",
         "x": [
          "unknown",
          "unknown",
          "unknown",
          "unknown",
          "unknown",
          "unknown",
          "unknown",
          "unknown",
          "unknown",
          "unknown",
          "unknown",
          "unknown"
         ],
         "xaxis": "x",
         "yaxis": "y"
        },
        {
         "alignmentgroup": "True",
         "bingroup": "x",
         "hovertemplate": "category_id=2053013559792632471<br>category_code=%{x}<br>count=%{y}<extra></extra>",
         "legendgroup": "2053013559792632471",
         "marker": {
          "color": "#B6E880"
         },
         "name": "2053013559792632471",
         "offsetgroup": "2053013559792632471",
         "orientation": "v",
         "showlegend": true,
         "type": "histogram",
         "x": [
          "furniture.living_room.sofa",
          "furniture.living_room.sofa"
         ],
         "xaxis": "x",
         "yaxis": "y"
        },
        {
         "alignmentgroup": "True",
         "bingroup": "x",
         "hovertemplate": "category_id=2053013563911439225<br>category_code=%{x}<br>count=%{y}<extra></extra>",
         "legendgroup": "2053013563911439225",
         "marker": {
          "color": "#FF97FF"
         },
         "name": "2053013563911439225",
         "offsetgroup": "2053013563911439225",
         "orientation": "v",
         "showlegend": true,
         "type": "histogram",
         "x": [
          "appliances.kitchen.refrigerators",
          "appliances.kitchen.refrigerators",
          "appliances.kitchen.refrigerators",
          "appliances.kitchen.refrigerators",
          "appliances.kitchen.refrigerators"
         ],
         "xaxis": "x",
         "yaxis": "y"
        },
        {
         "alignmentgroup": "True",
         "bingroup": "x",
         "hovertemplate": "category_id=2053013559901684381<br>category_code=%{x}<br>count=%{y}<extra></extra>",
         "legendgroup": "2053013559901684381",
         "marker": {
          "color": "#FECB52"
         },
         "name": "2053013559901684381",
         "offsetgroup": "2053013559901684381",
         "orientation": "v",
         "showlegend": true,
         "type": "histogram",
         "x": [
          "furniture.kitchen.chair",
          "furniture.kitchen.chair",
          "furniture.kitchen.chair",
          "furniture.kitchen.chair",
          "furniture.kitchen.chair",
          "furniture.kitchen.chair"
         ],
         "xaxis": "x",
         "yaxis": "y"
        },
        {
         "alignmentgroup": "True",
         "bingroup": "x",
         "hovertemplate": "category_id=2060981320581906480<br>category_code=%{x}<br>count=%{y}<extra></extra>",
         "legendgroup": "2060981320581906480",
         "marker": {
          "color": "#636efa"
         },
         "name": "2060981320581906480",
         "offsetgroup": "2060981320581906480",
         "orientation": "v",
         "showlegend": true,
         "type": "histogram",
         "x": [
          "unknown",
          "unknown"
         ],
         "xaxis": "x",
         "yaxis": "y"
        },
        {
         "alignmentgroup": "True",
         "bingroup": "x",
         "hovertemplate": "category_id=2053013563944993659<br>category_code=%{x}<br>count=%{y}<extra></extra>",
         "legendgroup": "2053013563944993659",
         "marker": {
          "color": "#EF553B"
         },
         "name": "2053013563944993659",
         "offsetgroup": "2053013563944993659",
         "orientation": "v",
         "showlegend": true,
         "type": "histogram",
         "x": [
          "appliances.kitchen.dishwasher",
          "appliances.kitchen.dishwasher",
          "appliances.kitchen.dishwasher",
          "appliances.kitchen.dishwasher"
         ],
         "xaxis": "x",
         "yaxis": "y"
        },
        {
         "alignmentgroup": "True",
         "bingroup": "x",
         "hovertemplate": "category_id=2053013562183385881<br>category_code=%{x}<br>count=%{y}<extra></extra>",
         "legendgroup": "2053013562183385881",
         "marker": {
          "color": "#00cc96"
         },
         "name": "2053013562183385881",
         "offsetgroup": "2053013562183385881",
         "orientation": "v",
         "showlegend": true,
         "type": "histogram",
         "x": [
          "unknown"
         ],
         "xaxis": "x",
         "yaxis": "y"
        },
        {
         "alignmentgroup": "True",
         "bingroup": "x",
         "hovertemplate": "category_id=2053013563391345499<br>category_code=%{x}<br>count=%{y}<extra></extra>",
         "legendgroup": "2053013563391345499",
         "marker": {
          "color": "#ab63fa"
         },
         "name": "2053013563391345499",
         "offsetgroup": "2053013563391345499",
         "orientation": "v",
         "showlegend": true,
         "type": "histogram",
         "x": [
          "unknown",
          "unknown"
         ],
         "xaxis": "x",
         "yaxis": "y"
        },
        {
         "alignmentgroup": "True",
         "bingroup": "x",
         "hovertemplate": "category_id=2053013553375346967<br>category_code=%{x}<br>count=%{y}<extra></extra>",
         "legendgroup": "2053013553375346967",
         "marker": {
          "color": "#FFA15A"
         },
         "name": "2053013553375346967",
         "offsetgroup": "2053013553375346967",
         "orientation": "v",
         "showlegend": true,
         "type": "histogram",
         "x": [
          "unknown",
          "unknown"
         ],
         "xaxis": "x",
         "yaxis": "y"
        },
        {
         "alignmentgroup": "True",
         "bingroup": "x",
         "hovertemplate": "category_id=2053013562837697343<br>category_code=%{x}<br>count=%{y}<extra></extra>",
         "legendgroup": "2053013562837697343",
         "marker": {
          "color": "#19d3f3"
         },
         "name": "2053013562837697343",
         "offsetgroup": "2053013562837697343",
         "orientation": "v",
         "showlegend": true,
         "type": "histogram",
         "x": [
          "unknown",
          "unknown"
         ],
         "xaxis": "x",
         "yaxis": "y"
        },
        {
         "alignmentgroup": "True",
         "bingroup": "x",
         "hovertemplate": "category_id=2053013558752445019<br>category_code=%{x}<br>count=%{y}<extra></extra>",
         "legendgroup": "2053013558752445019",
         "marker": {
          "color": "#FF6692"
         },
         "name": "2053013558752445019",
         "offsetgroup": "2053013558752445019",
         "orientation": "v",
         "showlegend": true,
         "type": "histogram",
         "x": [
          "unknown"
         ],
         "xaxis": "x",
         "yaxis": "y"
        },
        {
         "alignmentgroup": "True",
         "bingroup": "x",
         "hovertemplate": "category_id=2090228413959766319<br>category_code=%{x}<br>count=%{y}<extra></extra>",
         "legendgroup": "2090228413959766319",
         "marker": {
          "color": "#B6E880"
         },
         "name": "2090228413959766319",
         "offsetgroup": "2090228413959766319",
         "orientation": "v",
         "showlegend": true,
         "type": "histogram",
         "x": [
          "unknown",
          "unknown",
          "unknown",
          "unknown"
         ],
         "xaxis": "x",
         "yaxis": "y"
        },
        {
         "alignmentgroup": "True",
         "bingroup": "x",
         "hovertemplate": "category_id=2053013556110033341<br>category_code=%{x}<br>count=%{y}<extra></extra>",
         "legendgroup": "2053013556110033341",
         "marker": {
          "color": "#FF97FF"
         },
         "name": "2053013556110033341",
         "offsetgroup": "2053013556110033341",
         "orientation": "v",
         "showlegend": true,
         "type": "histogram",
         "x": [
          "unknown"
         ],
         "xaxis": "x",
         "yaxis": "y"
        },
        {
         "alignmentgroup": "True",
         "bingroup": "x",
         "hovertemplate": "category_id=2053013556168753601<br>category_code=%{x}<br>count=%{y}<extra></extra>",
         "legendgroup": "2053013556168753601",
         "marker": {
          "color": "#FECB52"
         },
         "name": "2053013556168753601",
         "offsetgroup": "2053013556168753601",
         "orientation": "v",
         "showlegend": true,
         "type": "histogram",
         "x": [
          "unknown",
          "unknown",
          "unknown",
          "unknown",
          "unknown",
          "unknown"
         ],
         "xaxis": "x",
         "yaxis": "y"
        },
        {
         "alignmentgroup": "True",
         "bingroup": "x",
         "hovertemplate": "category_id=2053013554994348409<br>category_code=%{x}<br>count=%{y}<extra></extra>",
         "legendgroup": "2053013554994348409",
         "marker": {
          "color": "#636efa"
         },
         "name": "2053013554994348409",
         "offsetgroup": "2053013554994348409",
         "orientation": "v",
         "showlegend": true,
         "type": "histogram",
         "x": [
          "unknown",
          "unknown"
         ],
         "xaxis": "x",
         "yaxis": "y"
        },
        {
         "alignmentgroup": "True",
         "bingroup": "x",
         "hovertemplate": "category_id=2137704922018218396<br>category_code=%{x}<br>count=%{y}<extra></extra>",
         "legendgroup": "2137704922018218396",
         "marker": {
          "color": "#EF553B"
         },
         "name": "2137704922018218396",
         "offsetgroup": "2137704922018218396",
         "orientation": "v",
         "showlegend": true,
         "type": "histogram",
         "x": [
          "unknown",
          "unknown"
         ],
         "xaxis": "x",
         "yaxis": "y"
        },
        {
         "alignmentgroup": "True",
         "bingroup": "x",
         "hovertemplate": "category_id=2053013553484398879<br>category_code=%{x}<br>count=%{y}<extra></extra>",
         "legendgroup": "2053013553484398879",
         "marker": {
          "color": "#00cc96"
         },
         "name": "2053013553484398879",
         "offsetgroup": "2053013553484398879",
         "orientation": "v",
         "showlegend": true,
         "type": "histogram",
         "x": [
          "unknown",
          "unknown"
         ],
         "xaxis": "x",
         "yaxis": "y"
        },
        {
         "alignmentgroup": "True",
         "bingroup": "x",
         "hovertemplate": "category_id=2053013554658804075<br>category_code=%{x}<br>count=%{y}<extra></extra>",
         "legendgroup": "2053013554658804075",
         "marker": {
          "color": "#ab63fa"
         },
         "name": "2053013554658804075",
         "offsetgroup": "2053013554658804075",
         "orientation": "v",
         "showlegend": true,
         "type": "histogram",
         "x": [
          "electronics.audio.headphone",
          "electronics.audio.headphone",
          "electronics.audio.headphone",
          "electronics.audio.headphone",
          "electronics.audio.headphone"
         ],
         "xaxis": "x",
         "yaxis": "y"
        },
        {
         "alignmentgroup": "True",
         "bingroup": "x",
         "hovertemplate": "category_id=2053013565983425517<br>category_code=%{x}<br>count=%{y}<extra></extra>",
         "legendgroup": "2053013565983425517",
         "marker": {
          "color": "#FFA15A"
         },
         "name": "2053013565983425517",
         "offsetgroup": "2053013565983425517",
         "orientation": "v",
         "showlegend": true,
         "type": "histogram",
         "x": [
          "appliances.environment.vacuum"
         ],
         "xaxis": "x",
         "yaxis": "y"
        },
        {
         "alignmentgroup": "True",
         "bingroup": "x",
         "hovertemplate": "category_id=2079713978300236035<br>category_code=%{x}<br>count=%{y}<extra></extra>",
         "legendgroup": "2079713978300236035",
         "marker": {
          "color": "#19d3f3"
         },
         "name": "2079713978300236035",
         "offsetgroup": "2079713978300236035",
         "orientation": "v",
         "showlegend": true,
         "type": "histogram",
         "x": [
          "unknown",
          "unknown"
         ],
         "xaxis": "x",
         "yaxis": "y"
        },
        {
         "alignmentgroup": "True",
         "bingroup": "x",
         "hovertemplate": "category_id=2053013560555995845<br>category_code=%{x}<br>count=%{y}<extra></extra>",
         "legendgroup": "2053013560555995845",
         "marker": {
          "color": "#FF6692"
         },
         "name": "2053013560555995845",
         "offsetgroup": "2053013560555995845",
         "orientation": "v",
         "showlegend": true,
         "type": "histogram",
         "x": [
          "unknown",
          "unknown"
         ],
         "xaxis": "x",
         "yaxis": "y"
        },
        {
         "alignmentgroup": "True",
         "bingroup": "x",
         "hovertemplate": "category_id=2053013552326770905<br>category_code=%{x}<br>count=%{y}<extra></extra>",
         "legendgroup": "2053013552326770905",
         "marker": {
          "color": "#B6E880"
         },
         "name": "2053013552326770905",
         "offsetgroup": "2053013552326770905",
         "orientation": "v",
         "showlegend": true,
         "type": "histogram",
         "x": [
          "appliances.environment.water_heater"
         ],
         "xaxis": "x",
         "yaxis": "y"
        },
        {
         "alignmentgroup": "True",
         "bingroup": "x",
         "hovertemplate": "category_id=2053013561218695907<br>category_code=%{x}<br>count=%{y}<extra></extra>",
         "legendgroup": "2053013561218695907",
         "marker": {
          "color": "#FF97FF"
         },
         "name": "2053013561218695907",
         "offsetgroup": "2053013561218695907",
         "orientation": "v",
         "showlegend": true,
         "type": "histogram",
         "x": [
          "unknown",
          "unknown"
         ],
         "xaxis": "x",
         "yaxis": "y"
        },
        {
         "alignmentgroup": "True",
         "bingroup": "x",
         "hovertemplate": "category_id=2053013557955527211<br>category_code=%{x}<br>count=%{y}<extra></extra>",
         "legendgroup": "2053013557955527211",
         "marker": {
          "color": "#FECB52"
         },
         "name": "2053013557955527211",
         "offsetgroup": "2053013557955527211",
         "orientation": "v",
         "showlegend": true,
         "type": "histogram",
         "x": [
          "unknown",
          "unknown"
         ],
         "xaxis": "x",
         "yaxis": "y"
        },
        {
         "alignmentgroup": "True",
         "bingroup": "x",
         "hovertemplate": "category_id=2053013560530830019<br>category_code=%{x}<br>count=%{y}<extra></extra>",
         "legendgroup": "2053013560530830019",
         "marker": {
          "color": "#636efa"
         },
         "name": "2053013560530830019",
         "offsetgroup": "2053013560530830019",
         "orientation": "v",
         "showlegend": true,
         "type": "histogram",
         "x": [
          "electronics.camera.video"
         ],
         "xaxis": "x",
         "yaxis": "y"
        },
        {
         "alignmentgroup": "True",
         "bingroup": "x",
         "hovertemplate": "category_id=2053013563651392361<br>category_code=%{x}<br>count=%{y}<extra></extra>",
         "legendgroup": "2053013563651392361",
         "marker": {
          "color": "#EF553B"
         },
         "name": "2053013563651392361",
         "offsetgroup": "2053013563651392361",
         "orientation": "v",
         "showlegend": true,
         "type": "histogram",
         "x": [
          "unknown",
          "unknown",
          "unknown",
          "unknown"
         ],
         "xaxis": "x",
         "yaxis": "y"
        },
        {
         "alignmentgroup": "True",
         "bingroup": "x",
         "hovertemplate": "category_id=2053013561579406073<br>category_code=%{x}<br>count=%{y}<extra></extra>",
         "legendgroup": "2053013561579406073",
         "marker": {
          "color": "#00cc96"
         },
         "name": "2053013561579406073",
         "offsetgroup": "2053013561579406073",
         "orientation": "v",
         "showlegend": true,
         "type": "histogram",
         "x": [
          "electronics.clocks",
          "electronics.clocks",
          "electronics.clocks",
          "electronics.clocks",
          "electronics.clocks",
          "electronics.clocks"
         ],
         "xaxis": "x",
         "yaxis": "y"
        },
        {
         "alignmentgroup": "True",
         "bingroup": "x",
         "hovertemplate": "category_id=2053013554415534427<br>category_code=%{x}<br>count=%{y}<extra></extra>",
         "legendgroup": "2053013554415534427",
         "marker": {
          "color": "#ab63fa"
         },
         "name": "2053013554415534427",
         "offsetgroup": "2053013554415534427",
         "orientation": "v",
         "showlegend": true,
         "type": "histogram",
         "x": [
          "electronics.video.tv"
         ],
         "xaxis": "x",
         "yaxis": "y"
        },
        {
         "alignmentgroup": "True",
         "bingroup": "x",
         "hovertemplate": "category_id=2146660887346282824<br>category_code=%{x}<br>count=%{y}<extra></extra>",
         "legendgroup": "2146660887346282824",
         "marker": {
          "color": "#FFA15A"
         },
         "name": "2146660887346282824",
         "offsetgroup": "2146660887346282824",
         "orientation": "v",
         "showlegend": true,
         "type": "histogram",
         "x": [
          "apparel.tshirt"
         ],
         "xaxis": "x",
         "yaxis": "y"
        },
        {
         "alignmentgroup": "True",
         "bingroup": "x",
         "hovertemplate": "category_id=2100825583029060150<br>category_code=%{x}<br>count=%{y}<extra></extra>",
         "legendgroup": "2100825583029060150",
         "marker": {
          "color": "#19d3f3"
         },
         "name": "2100825583029060150",
         "offsetgroup": "2100825583029060150",
         "orientation": "v",
         "showlegend": true,
         "type": "histogram",
         "x": [
          "apparel.jeans",
          "apparel.jeans",
          "apparel.jeans"
         ],
         "xaxis": "x",
         "yaxis": "y"
        },
        {
         "alignmentgroup": "True",
         "bingroup": "x",
         "hovertemplate": "category_id=2053013561277416167<br>category_code=%{x}<br>count=%{y}<extra></extra>",
         "legendgroup": "2053013561277416167",
         "marker": {
          "color": "#FF6692"
         },
         "name": "2053013561277416167",
         "offsetgroup": "2053013561277416167",
         "orientation": "v",
         "showlegend": true,
         "type": "histogram",
         "x": [
          "unknown"
         ],
         "xaxis": "x",
         "yaxis": "y"
        },
        {
         "alignmentgroup": "True",
         "bingroup": "x",
         "hovertemplate": "category_id=2053013559675191951<br>category_code=%{x}<br>count=%{y}<extra></extra>",
         "legendgroup": "2053013559675191951",
         "marker": {
          "color": "#B6E880"
         },
         "name": "2053013559675191951",
         "offsetgroup": "2053013559675191951",
         "orientation": "v",
         "showlegend": true,
         "type": "histogram",
         "x": [
          "unknown"
         ],
         "xaxis": "x",
         "yaxis": "y"
        },
        {
         "alignmentgroup": "True",
         "bingroup": "x",
         "hovertemplate": "category_id=2053013553887052089<br>category_code=%{x}<br>count=%{y}<extra></extra>",
         "legendgroup": "2053013553887052089",
         "marker": {
          "color": "#FF97FF"
         },
         "name": "2053013553887052089",
         "offsetgroup": "2053013553887052089",
         "orientation": "v",
         "showlegend": true,
         "type": "histogram",
         "x": [
          "unknown"
         ],
         "xaxis": "x",
         "yaxis": "y"
        },
        {
         "alignmentgroup": "True",
         "bingroup": "x",
         "hovertemplate": "category_id=2053013563215184719<br>category_code=%{x}<br>count=%{y}<extra></extra>",
         "legendgroup": "2053013563215184719",
         "marker": {
          "color": "#FECB52"
         },
         "name": "2053013563215184719",
         "offsetgroup": "2053013563215184719",
         "orientation": "v",
         "showlegend": true,
         "type": "histogram",
         "x": [
          "unknown",
          "unknown",
          "unknown",
          "unknown"
         ],
         "xaxis": "x",
         "yaxis": "y"
        },
        {
         "alignmentgroup": "True",
         "bingroup": "x",
         "hovertemplate": "category_id=2055156924315337497<br>category_code=%{x}<br>count=%{y}<extra></extra>",
         "legendgroup": "2055156924315337497",
         "marker": {
          "color": "#636efa"
         },
         "name": "2055156924315337497",
         "offsetgroup": "2055156924315337497",
         "orientation": "v",
         "showlegend": true,
         "type": "histogram",
         "x": [
          "unknown"
         ],
         "xaxis": "x",
         "yaxis": "y"
        },
        {
         "alignmentgroup": "True",
         "bingroup": "x",
         "hovertemplate": "category_id=2152167773222993940<br>category_code=%{x}<br>count=%{y}<extra></extra>",
         "legendgroup": "2152167773222993940",
         "marker": {
          "color": "#EF553B"
         },
         "name": "2152167773222993940",
         "offsetgroup": "2152167773222993940",
         "orientation": "v",
         "showlegend": true,
         "type": "histogram",
         "x": [
          "unknown"
         ],
         "xaxis": "x",
         "yaxis": "y"
        },
        {
         "alignmentgroup": "True",
         "bingroup": "x",
         "hovertemplate": "category_id=2053013558223962683<br>category_code=%{x}<br>count=%{y}<extra></extra>",
         "legendgroup": "2053013558223962683",
         "marker": {
          "color": "#00cc96"
         },
         "name": "2053013558223962683",
         "offsetgroup": "2053013558223962683",
         "orientation": "v",
         "showlegend": true,
         "type": "histogram",
         "x": [
          "unknown"
         ],
         "xaxis": "x",
         "yaxis": "y"
        },
        {
         "alignmentgroup": "True",
         "bingroup": "x",
         "hovertemplate": "category_id=2053013556311359947<br>category_code=%{x}<br>count=%{y}<extra></extra>",
         "legendgroup": "2053013556311359947",
         "marker": {
          "color": "#ab63fa"
         },
         "name": "2053013556311359947",
         "offsetgroup": "2053013556311359947",
         "orientation": "v",
         "showlegend": true,
         "type": "histogram",
         "x": [
          "construction.tools.drill",
          "construction.tools.drill",
          "construction.tools.drill",
          "construction.tools.drill"
         ],
         "xaxis": "x",
         "yaxis": "y"
        },
        {
         "alignmentgroup": "True",
         "bingroup": "x",
         "hovertemplate": "category_id=2053013553115300101<br>category_code=%{x}<br>count=%{y}<extra></extra>",
         "legendgroup": "2053013553115300101",
         "marker": {
          "color": "#FFA15A"
         },
         "name": "2053013553115300101",
         "offsetgroup": "2053013553115300101",
         "orientation": "v",
         "showlegend": true,
         "type": "histogram",
         "x": [
          "unknown"
         ],
         "xaxis": "x",
         "yaxis": "y"
        },
        {
         "alignmentgroup": "True",
         "bingroup": "x",
         "hovertemplate": "category_id=2134905044833666047<br>category_code=%{x}<br>count=%{y}<extra></extra>",
         "legendgroup": "2134905044833666047",
         "marker": {
          "color": "#19d3f3"
         },
         "name": "2134905044833666047",
         "offsetgroup": "2134905044833666047",
         "orientation": "v",
         "showlegend": true,
         "type": "histogram",
         "x": [
          "auto.accessories.compressor",
          "auto.accessories.compressor"
         ],
         "xaxis": "x",
         "yaxis": "y"
        },
        {
         "alignmentgroup": "True",
         "bingroup": "x",
         "hovertemplate": "category_id=2053013554155487563<br>category_code=%{x}<br>count=%{y}<extra></extra>",
         "legendgroup": "2053013554155487563",
         "marker": {
          "color": "#FF6692"
         },
         "name": "2053013554155487563",
         "offsetgroup": "2053013554155487563",
         "orientation": "v",
         "showlegend": true,
         "type": "histogram",
         "x": [
          "computers.components.motherboard"
         ],
         "xaxis": "x",
         "yaxis": "y"
        },
        {
         "alignmentgroup": "True",
         "bingroup": "x",
         "hovertemplate": "category_id=2053013553526341921<br>category_code=%{x}<br>count=%{y}<extra></extra>",
         "legendgroup": "2053013553526341921",
         "marker": {
          "color": "#B6E880"
         },
         "name": "2053013553526341921",
         "offsetgroup": "2053013553526341921",
         "orientation": "v",
         "showlegend": true,
         "type": "histogram",
         "x": [
          "unknown",
          "unknown"
         ],
         "xaxis": "x",
         "yaxis": "y"
        },
        {
         "alignmentgroup": "True",
         "bingroup": "x",
         "hovertemplate": "category_id=2053013553056579841<br>category_code=%{x}<br>count=%{y}<extra></extra>",
         "legendgroup": "2053013553056579841",
         "marker": {
          "color": "#FF97FF"
         },
         "name": "2053013553056579841",
         "offsetgroup": "2053013553056579841",
         "orientation": "v",
         "showlegend": true,
         "type": "histogram",
         "x": [
          "computers.peripherals.printer",
          "computers.peripherals.printer"
         ],
         "xaxis": "x",
         "yaxis": "y"
        },
        {
         "alignmentgroup": "True",
         "bingroup": "x",
         "hovertemplate": "category_id=2053013559868129947<br>category_code=%{x}<br>count=%{y}<extra></extra>",
         "legendgroup": "2053013559868129947",
         "marker": {
          "color": "#FECB52"
         },
         "name": "2053013559868129947",
         "offsetgroup": "2053013559868129947",
         "orientation": "v",
         "showlegend": true,
         "type": "histogram",
         "x": [
          "computers.desktop"
         ],
         "xaxis": "x",
         "yaxis": "y"
        },
        {
         "alignmentgroup": "True",
         "bingroup": "x",
         "hovertemplate": "category_id=2053013553970938175<br>category_code=%{x}<br>count=%{y}<extra></extra>",
         "legendgroup": "2053013553970938175",
         "marker": {
          "color": "#636efa"
         },
         "name": "2053013553970938175",
         "offsetgroup": "2053013553970938175",
         "orientation": "v",
         "showlegend": true,
         "type": "histogram",
         "x": [
          "auto.accessories.player",
          "auto.accessories.player",
          "auto.accessories.player",
          "auto.accessories.player",
          "auto.accessories.player"
         ],
         "xaxis": "x",
         "yaxis": "y"
        },
        {
         "alignmentgroup": "True",
         "bingroup": "x",
         "hovertemplate": "category_id=2085718636156158307<br>category_code=%{x}<br>count=%{y}<extra></extra>",
         "legendgroup": "2085718636156158307",
         "marker": {
          "color": "#EF553B"
         },
         "name": "2085718636156158307",
         "offsetgroup": "2085718636156158307",
         "orientation": "v",
         "showlegend": true,
         "type": "histogram",
         "x": [
          "unknown",
          "unknown"
         ],
         "xaxis": "x",
         "yaxis": "y"
        },
        {
         "alignmentgroup": "True",
         "bingroup": "x",
         "hovertemplate": "category_id=2055156924407612189<br>category_code=%{x}<br>count=%{y}<extra></extra>",
         "legendgroup": "2055156924407612189",
         "marker": {
          "color": "#00cc96"
         },
         "name": "2055156924407612189",
         "offsetgroup": "2055156924407612189",
         "orientation": "v",
         "showlegend": true,
         "type": "histogram",
         "x": [
          "accessories.bag"
         ],
         "xaxis": "x",
         "yaxis": "y"
        },
        {
         "alignmentgroup": "True",
         "bingroup": "x",
         "hovertemplate": "category_id=2059484601444729123<br>category_code=%{x}<br>count=%{y}<extra></extra>",
         "legendgroup": "2059484601444729123",
         "marker": {
          "color": "#ab63fa"
         },
         "name": "2059484601444729123",
         "offsetgroup": "2059484601444729123",
         "orientation": "v",
         "showlegend": true,
         "type": "histogram",
         "x": [
          "unknown",
          "unknown"
         ],
         "xaxis": "x",
         "yaxis": "y"
        },
        {
         "alignmentgroup": "True",
         "bingroup": "x",
         "hovertemplate": "category_id=2053013554247762257<br>category_code=%{x}<br>count=%{y}<extra></extra>",
         "legendgroup": "2053013554247762257",
         "marker": {
          "color": "#FFA15A"
         },
         "name": "2053013554247762257",
         "offsetgroup": "2053013554247762257",
         "orientation": "v",
         "showlegend": true,
         "type": "histogram",
         "x": [
          "computers.components.videocards"
         ],
         "xaxis": "x",
         "yaxis": "y"
        },
        {
         "alignmentgroup": "True",
         "bingroup": "x",
         "hovertemplate": "category_id=2053013557192163841<br>category_code=%{x}<br>count=%{y}<extra></extra>",
         "legendgroup": "2053013557192163841",
         "marker": {
          "color": "#19d3f3"
         },
         "name": "2053013557192163841",
         "offsetgroup": "2053013557192163841",
         "orientation": "v",
         "showlegend": true,
         "type": "histogram",
         "x": [
          "furniture.bedroom.bed",
          "furniture.bedroom.bed",
          "furniture.bedroom.bed"
         ],
         "xaxis": "x",
         "yaxis": "y"
        },
        {
         "alignmentgroup": "True",
         "bingroup": "x",
         "hovertemplate": "category_id=2053013557477376525<br>category_code=%{x}<br>count=%{y}<extra></extra>",
         "legendgroup": "2053013557477376525",
         "marker": {
          "color": "#FF6692"
         },
         "name": "2053013557477376525",
         "offsetgroup": "2053013557477376525",
         "orientation": "v",
         "showlegend": true,
         "type": "histogram",
         "x": [
          "furniture.bathroom.bath"
         ],
         "xaxis": "x",
         "yaxis": "y"
        },
        {
         "alignmentgroup": "True",
         "bingroup": "x",
         "hovertemplate": "category_id=2053013555464110485<br>category_code=%{x}<br>count=%{y}<extra></extra>",
         "legendgroup": "2053013555464110485",
         "marker": {
          "color": "#B6E880"
         },
         "name": "2053013555464110485",
         "offsetgroup": "2053013555464110485",
         "orientation": "v",
         "showlegend": true,
         "type": "histogram",
         "x": [
          "furniture.bedroom.bed"
         ],
         "xaxis": "x",
         "yaxis": "y"
        },
        {
         "alignmentgroup": "True",
         "bingroup": "x",
         "hovertemplate": "category_id=2053013553945772349<br>category_code=%{x}<br>count=%{y}<extra></extra>",
         "legendgroup": "2053013553945772349",
         "marker": {
          "color": "#FF97FF"
         },
         "name": "2053013553945772349",
         "offsetgroup": "2053013553945772349",
         "orientation": "v",
         "showlegend": true,
         "type": "histogram",
         "x": [
          "electronics.audio.subwoofer",
          "electronics.audio.subwoofer",
          "electronics.audio.subwoofer",
          "electronics.audio.subwoofer"
         ],
         "xaxis": "x",
         "yaxis": "y"
        },
        {
         "alignmentgroup": "True",
         "bingroup": "x",
         "hovertemplate": "category_id=2053013557024391671<br>category_code=%{x}<br>count=%{y}<extra></extra>",
         "legendgroup": "2053013557024391671",
         "marker": {
          "color": "#FECB52"
         },
         "name": "2053013557024391671",
         "offsetgroup": "2053013557024391671",
         "orientation": "v",
         "showlegend": true,
         "type": "histogram",
         "x": [
          "unknown",
          "unknown",
          "unknown"
         ],
         "xaxis": "x",
         "yaxis": "y"
        },
        {
         "alignmentgroup": "True",
         "bingroup": "x",
         "hovertemplate": "category_id=2070747671722722162<br>category_code=%{x}<br>count=%{y}<extra></extra>",
         "legendgroup": "2070747671722722162",
         "marker": {
          "color": "#636efa"
         },
         "name": "2070747671722722162",
         "offsetgroup": "2070747671722722162",
         "orientation": "v",
         "showlegend": true,
         "type": "histogram",
         "x": [
          "unknown"
         ],
         "xaxis": "x",
         "yaxis": "y"
        },
        {
         "alignmentgroup": "True",
         "bingroup": "x",
         "hovertemplate": "category_id=2053013560144954031<br>category_code=%{x}<br>count=%{y}<extra></extra>",
         "legendgroup": "2053013560144954031",
         "marker": {
          "color": "#EF553B"
         },
         "name": "2053013560144954031",
         "offsetgroup": "2053013560144954031",
         "orientation": "v",
         "showlegend": true,
         "type": "histogram",
         "x": [
          "unknown"
         ],
         "xaxis": "x",
         "yaxis": "y"
        },
        {
         "alignmentgroup": "True",
         "bingroup": "x",
         "hovertemplate": "category_id=2127425436764865054<br>category_code=%{x}<br>count=%{y}<extra></extra>",
         "legendgroup": "2127425436764865054",
         "marker": {
          "color": "#00cc96"
         },
         "name": "2127425436764865054",
         "offsetgroup": "2127425436764865054",
         "orientation": "v",
         "showlegend": true,
         "type": "histogram",
         "x": [
          "construction.tools.welding"
         ],
         "xaxis": "x",
         "yaxis": "y"
        },
        {
         "alignmentgroup": "True",
         "bingroup": "x",
         "hovertemplate": "category_id=2053013558895051365<br>category_code=%{x}<br>count=%{y}<extra></extra>",
         "legendgroup": "2053013558895051365",
         "marker": {
          "color": "#ab63fa"
         },
         "name": "2053013558895051365",
         "offsetgroup": "2053013558895051365",
         "orientation": "v",
         "showlegend": true,
         "type": "histogram",
         "x": [
          "unknown"
         ],
         "xaxis": "x",
         "yaxis": "y"
        },
        {
         "alignmentgroup": "True",
         "bingroup": "x",
         "hovertemplate": "category_id=2144916515806248980<br>category_code=%{x}<br>count=%{y}<extra></extra>",
         "legendgroup": "2144916515806248980",
         "marker": {
          "color": "#FFA15A"
         },
         "name": "2144916515806248980",
         "offsetgroup": "2144916515806248980",
         "orientation": "v",
         "showlegend": true,
         "type": "histogram",
         "x": [
          "construction.tools.saw"
         ],
         "xaxis": "x",
         "yaxis": "y"
        },
        {
         "alignmentgroup": "True",
         "bingroup": "x",
         "hovertemplate": "category_id=2053013553341792533<br>category_code=%{x}<br>count=%{y}<extra></extra>",
         "legendgroup": "2053013553341792533",
         "marker": {
          "color": "#19d3f3"
         },
         "name": "2053013553341792533",
         "offsetgroup": "2053013553341792533",
         "orientation": "v",
         "showlegend": true,
         "type": "histogram",
         "x": [
          "electronics.clocks",
          "electronics.clocks"
         ],
         "xaxis": "x",
         "yaxis": "y"
        },
        {
         "alignmentgroup": "True",
         "bingroup": "x",
         "hovertemplate": "category_id=2053013558433677895<br>category_code=%{x}<br>count=%{y}<extra></extra>",
         "legendgroup": "2053013558433677895",
         "marker": {
          "color": "#FF6692"
         },
         "name": "2053013558433677895",
         "offsetgroup": "2053013558433677895",
         "orientation": "v",
         "showlegend": true,
         "type": "histogram",
         "x": [
          "furniture.kitchen.table"
         ],
         "xaxis": "x",
         "yaxis": "y"
        },
        {
         "alignmentgroup": "True",
         "bingroup": "x",
         "hovertemplate": "category_id=2053013563693335403<br>category_code=%{x}<br>count=%{y}<extra></extra>",
         "legendgroup": "2053013563693335403",
         "marker": {
          "color": "#B6E880"
         },
         "name": "2053013563693335403",
         "offsetgroup": "2053013563693335403",
         "orientation": "v",
         "showlegend": true,
         "type": "histogram",
         "x": [
          "unknown"
         ],
         "xaxis": "x",
         "yaxis": "y"
        },
        {
         "alignmentgroup": "True",
         "bingroup": "x",
         "hovertemplate": "category_id=2116907524572577889<br>category_code=%{x}<br>count=%{y}<extra></extra>",
         "legendgroup": "2116907524572577889",
         "marker": {
          "color": "#FF97FF"
         },
         "name": "2116907524572577889",
         "offsetgroup": "2116907524572577889",
         "orientation": "v",
         "showlegend": true,
         "type": "histogram",
         "x": [
          "apparel.shoes"
         ],
         "xaxis": "x",
         "yaxis": "y"
        },
        {
         "alignmentgroup": "True",
         "bingroup": "x",
         "hovertemplate": "category_id=2098563450757186313<br>category_code=%{x}<br>count=%{y}<extra></extra>",
         "legendgroup": "2098563450757186313",
         "marker": {
          "color": "#FECB52"
         },
         "name": "2098563450757186313",
         "offsetgroup": "2098563450757186313",
         "orientation": "v",
         "showlegend": true,
         "type": "histogram",
         "x": [
          "construction.tools.light"
         ],
         "xaxis": "x",
         "yaxis": "y"
        },
        {
         "alignmentgroup": "True",
         "bingroup": "x",
         "hovertemplate": "category_id=2062461754293617058<br>category_code=%{x}<br>count=%{y}<extra></extra>",
         "legendgroup": "2062461754293617058",
         "marker": {
          "color": "#636efa"
         },
         "name": "2062461754293617058",
         "offsetgroup": "2062461754293617058",
         "orientation": "v",
         "showlegend": true,
         "type": "histogram",
         "x": [
          "unknown"
         ],
         "xaxis": "x",
         "yaxis": "y"
        },
        {
         "alignmentgroup": "True",
         "bingroup": "x",
         "hovertemplate": "category_id=2173216765583032544<br>category_code=%{x}<br>count=%{y}<extra></extra>",
         "legendgroup": "2173216765583032544",
         "marker": {
          "color": "#EF553B"
         },
         "name": "2173216765583032544",
         "offsetgroup": "2173216765583032544",
         "orientation": "v",
         "showlegend": true,
         "type": "histogram",
         "x": [
          "apparel.shirt"
         ],
         "xaxis": "x",
         "yaxis": "y"
        },
        {
         "alignmentgroup": "True",
         "bingroup": "x",
         "hovertemplate": "category_id=2127425434894205468<br>category_code=%{x}<br>count=%{y}<extra></extra>",
         "legendgroup": "2127425434894205468",
         "marker": {
          "color": "#00cc96"
         },
         "name": "2127425434894205468",
         "offsetgroup": "2127425434894205468",
         "orientation": "v",
         "showlegend": true,
         "type": "histogram",
         "x": [
          "construction.tools.painting"
         ],
         "xaxis": "x",
         "yaxis": "y"
        },
        {
         "alignmentgroup": "True",
         "bingroup": "x",
         "hovertemplate": "category_id=2053013559733912211<br>category_code=%{x}<br>count=%{y}<extra></extra>",
         "legendgroup": "2053013559733912211",
         "marker": {
          "color": "#ab63fa"
         },
         "name": "2053013559733912211",
         "offsetgroup": "2053013559733912211",
         "orientation": "v",
         "showlegend": true,
         "type": "histogram",
         "x": [
          "unknown"
         ],
         "xaxis": "x",
         "yaxis": "y"
        }
       ],
       "layout": {
        "barmode": "relative",
        "legend": {
         "title": {
          "text": "category_id"
         },
         "tracegroupgap": 0
        },
        "margin": {
         "t": 60
        },
        "template": {
         "data": {
          "bar": [
           {
            "error_x": {
             "color": "#2a3f5f"
            },
            "error_y": {
             "color": "#2a3f5f"
            },
            "marker": {
             "line": {
              "color": "#E5ECF6",
              "width": 0.5
             }
            },
            "type": "bar"
           }
          ],
          "barpolar": [
           {
            "marker": {
             "line": {
              "color": "#E5ECF6",
              "width": 0.5
             }
            },
            "type": "barpolar"
           }
          ],
          "carpet": [
           {
            "aaxis": {
             "endlinecolor": "#2a3f5f",
             "gridcolor": "white",
             "linecolor": "white",
             "minorgridcolor": "white",
             "startlinecolor": "#2a3f5f"
            },
            "baxis": {
             "endlinecolor": "#2a3f5f",
             "gridcolor": "white",
             "linecolor": "white",
             "minorgridcolor": "white",
             "startlinecolor": "#2a3f5f"
            },
            "type": "carpet"
           }
          ],
          "choropleth": [
           {
            "colorbar": {
             "outlinewidth": 0,
             "ticks": ""
            },
            "type": "choropleth"
           }
          ],
          "contour": [
           {
            "colorbar": {
             "outlinewidth": 0,
             "ticks": ""
            },
            "colorscale": [
             [
              0,
              "#0d0887"
             ],
             [
              0.1111111111111111,
              "#46039f"
             ],
             [
              0.2222222222222222,
              "#7201a8"
             ],
             [
              0.3333333333333333,
              "#9c179e"
             ],
             [
              0.4444444444444444,
              "#bd3786"
             ],
             [
              0.5555555555555556,
              "#d8576b"
             ],
             [
              0.6666666666666666,
              "#ed7953"
             ],
             [
              0.7777777777777778,
              "#fb9f3a"
             ],
             [
              0.8888888888888888,
              "#fdca26"
             ],
             [
              1,
              "#f0f921"
             ]
            ],
            "type": "contour"
           }
          ],
          "contourcarpet": [
           {
            "colorbar": {
             "outlinewidth": 0,
             "ticks": ""
            },
            "type": "contourcarpet"
           }
          ],
          "heatmap": [
           {
            "colorbar": {
             "outlinewidth": 0,
             "ticks": ""
            },
            "colorscale": [
             [
              0,
              "#0d0887"
             ],
             [
              0.1111111111111111,
              "#46039f"
             ],
             [
              0.2222222222222222,
              "#7201a8"
             ],
             [
              0.3333333333333333,
              "#9c179e"
             ],
             [
              0.4444444444444444,
              "#bd3786"
             ],
             [
              0.5555555555555556,
              "#d8576b"
             ],
             [
              0.6666666666666666,
              "#ed7953"
             ],
             [
              0.7777777777777778,
              "#fb9f3a"
             ],
             [
              0.8888888888888888,
              "#fdca26"
             ],
             [
              1,
              "#f0f921"
             ]
            ],
            "type": "heatmap"
           }
          ],
          "heatmapgl": [
           {
            "colorbar": {
             "outlinewidth": 0,
             "ticks": ""
            },
            "colorscale": [
             [
              0,
              "#0d0887"
             ],
             [
              0.1111111111111111,
              "#46039f"
             ],
             [
              0.2222222222222222,
              "#7201a8"
             ],
             [
              0.3333333333333333,
              "#9c179e"
             ],
             [
              0.4444444444444444,
              "#bd3786"
             ],
             [
              0.5555555555555556,
              "#d8576b"
             ],
             [
              0.6666666666666666,
              "#ed7953"
             ],
             [
              0.7777777777777778,
              "#fb9f3a"
             ],
             [
              0.8888888888888888,
              "#fdca26"
             ],
             [
              1,
              "#f0f921"
             ]
            ],
            "type": "heatmapgl"
           }
          ],
          "histogram": [
           {
            "marker": {
             "colorbar": {
              "outlinewidth": 0,
              "ticks": ""
             }
            },
            "type": "histogram"
           }
          ],
          "histogram2d": [
           {
            "colorbar": {
             "outlinewidth": 0,
             "ticks": ""
            },
            "colorscale": [
             [
              0,
              "#0d0887"
             ],
             [
              0.1111111111111111,
              "#46039f"
             ],
             [
              0.2222222222222222,
              "#7201a8"
             ],
             [
              0.3333333333333333,
              "#9c179e"
             ],
             [
              0.4444444444444444,
              "#bd3786"
             ],
             [
              0.5555555555555556,
              "#d8576b"
             ],
             [
              0.6666666666666666,
              "#ed7953"
             ],
             [
              0.7777777777777778,
              "#fb9f3a"
             ],
             [
              0.8888888888888888,
              "#fdca26"
             ],
             [
              1,
              "#f0f921"
             ]
            ],
            "type": "histogram2d"
           }
          ],
          "histogram2dcontour": [
           {
            "colorbar": {
             "outlinewidth": 0,
             "ticks": ""
            },
            "colorscale": [
             [
              0,
              "#0d0887"
             ],
             [
              0.1111111111111111,
              "#46039f"
             ],
             [
              0.2222222222222222,
              "#7201a8"
             ],
             [
              0.3333333333333333,
              "#9c179e"
             ],
             [
              0.4444444444444444,
              "#bd3786"
             ],
             [
              0.5555555555555556,
              "#d8576b"
             ],
             [
              0.6666666666666666,
              "#ed7953"
             ],
             [
              0.7777777777777778,
              "#fb9f3a"
             ],
             [
              0.8888888888888888,
              "#fdca26"
             ],
             [
              1,
              "#f0f921"
             ]
            ],
            "type": "histogram2dcontour"
           }
          ],
          "mesh3d": [
           {
            "colorbar": {
             "outlinewidth": 0,
             "ticks": ""
            },
            "type": "mesh3d"
           }
          ],
          "parcoords": [
           {
            "line": {
             "colorbar": {
              "outlinewidth": 0,
              "ticks": ""
             }
            },
            "type": "parcoords"
           }
          ],
          "pie": [
           {
            "automargin": true,
            "type": "pie"
           }
          ],
          "scatter": [
           {
            "marker": {
             "colorbar": {
              "outlinewidth": 0,
              "ticks": ""
             }
            },
            "type": "scatter"
           }
          ],
          "scatter3d": [
           {
            "line": {
             "colorbar": {
              "outlinewidth": 0,
              "ticks": ""
             }
            },
            "marker": {
             "colorbar": {
              "outlinewidth": 0,
              "ticks": ""
             }
            },
            "type": "scatter3d"
           }
          ],
          "scattercarpet": [
           {
            "marker": {
             "colorbar": {
              "outlinewidth": 0,
              "ticks": ""
             }
            },
            "type": "scattercarpet"
           }
          ],
          "scattergeo": [
           {
            "marker": {
             "colorbar": {
              "outlinewidth": 0,
              "ticks": ""
             }
            },
            "type": "scattergeo"
           }
          ],
          "scattergl": [
           {
            "marker": {
             "colorbar": {
              "outlinewidth": 0,
              "ticks": ""
             }
            },
            "type": "scattergl"
           }
          ],
          "scattermapbox": [
           {
            "marker": {
             "colorbar": {
              "outlinewidth": 0,
              "ticks": ""
             }
            },
            "type": "scattermapbox"
           }
          ],
          "scatterpolar": [
           {
            "marker": {
             "colorbar": {
              "outlinewidth": 0,
              "ticks": ""
             }
            },
            "type": "scatterpolar"
           }
          ],
          "scatterpolargl": [
           {
            "marker": {
             "colorbar": {
              "outlinewidth": 0,
              "ticks": ""
             }
            },
            "type": "scatterpolargl"
           }
          ],
          "scatterternary": [
           {
            "marker": {
             "colorbar": {
              "outlinewidth": 0,
              "ticks": ""
             }
            },
            "type": "scatterternary"
           }
          ],
          "surface": [
           {
            "colorbar": {
             "outlinewidth": 0,
             "ticks": ""
            },
            "colorscale": [
             [
              0,
              "#0d0887"
             ],
             [
              0.1111111111111111,
              "#46039f"
             ],
             [
              0.2222222222222222,
              "#7201a8"
             ],
             [
              0.3333333333333333,
              "#9c179e"
             ],
             [
              0.4444444444444444,
              "#bd3786"
             ],
             [
              0.5555555555555556,
              "#d8576b"
             ],
             [
              0.6666666666666666,
              "#ed7953"
             ],
             [
              0.7777777777777778,
              "#fb9f3a"
             ],
             [
              0.8888888888888888,
              "#fdca26"
             ],
             [
              1,
              "#f0f921"
             ]
            ],
            "type": "surface"
           }
          ],
          "table": [
           {
            "cells": {
             "fill": {
              "color": "#EBF0F8"
             },
             "line": {
              "color": "white"
             }
            },
            "header": {
             "fill": {
              "color": "#C8D4E3"
             },
             "line": {
              "color": "white"
             }
            },
            "type": "table"
           }
          ]
         },
         "layout": {
          "annotationdefaults": {
           "arrowcolor": "#2a3f5f",
           "arrowhead": 0,
           "arrowwidth": 1
          },
          "autotypenumbers": "strict",
          "coloraxis": {
           "colorbar": {
            "outlinewidth": 0,
            "ticks": ""
           }
          },
          "colorscale": {
           "diverging": [
            [
             0,
             "#8e0152"
            ],
            [
             0.1,
             "#c51b7d"
            ],
            [
             0.2,
             "#de77ae"
            ],
            [
             0.3,
             "#f1b6da"
            ],
            [
             0.4,
             "#fde0ef"
            ],
            [
             0.5,
             "#f7f7f7"
            ],
            [
             0.6,
             "#e6f5d0"
            ],
            [
             0.7,
             "#b8e186"
            ],
            [
             0.8,
             "#7fbc41"
            ],
            [
             0.9,
             "#4d9221"
            ],
            [
             1,
             "#276419"
            ]
           ],
           "sequential": [
            [
             0,
             "#0d0887"
            ],
            [
             0.1111111111111111,
             "#46039f"
            ],
            [
             0.2222222222222222,
             "#7201a8"
            ],
            [
             0.3333333333333333,
             "#9c179e"
            ],
            [
             0.4444444444444444,
             "#bd3786"
            ],
            [
             0.5555555555555556,
             "#d8576b"
            ],
            [
             0.6666666666666666,
             "#ed7953"
            ],
            [
             0.7777777777777778,
             "#fb9f3a"
            ],
            [
             0.8888888888888888,
             "#fdca26"
            ],
            [
             1,
             "#f0f921"
            ]
           ],
           "sequentialminus": [
            [
             0,
             "#0d0887"
            ],
            [
             0.1111111111111111,
             "#46039f"
            ],
            [
             0.2222222222222222,
             "#7201a8"
            ],
            [
             0.3333333333333333,
             "#9c179e"
            ],
            [
             0.4444444444444444,
             "#bd3786"
            ],
            [
             0.5555555555555556,
             "#d8576b"
            ],
            [
             0.6666666666666666,
             "#ed7953"
            ],
            [
             0.7777777777777778,
             "#fb9f3a"
            ],
            [
             0.8888888888888888,
             "#fdca26"
            ],
            [
             1,
             "#f0f921"
            ]
           ]
          },
          "colorway": [
           "#636efa",
           "#EF553B",
           "#00cc96",
           "#ab63fa",
           "#FFA15A",
           "#19d3f3",
           "#FF6692",
           "#B6E880",
           "#FF97FF",
           "#FECB52"
          ],
          "font": {
           "color": "#2a3f5f"
          },
          "geo": {
           "bgcolor": "white",
           "lakecolor": "white",
           "landcolor": "#E5ECF6",
           "showlakes": true,
           "showland": true,
           "subunitcolor": "white"
          },
          "hoverlabel": {
           "align": "left"
          },
          "hovermode": "closest",
          "mapbox": {
           "style": "light"
          },
          "paper_bgcolor": "white",
          "plot_bgcolor": "#E5ECF6",
          "polar": {
           "angularaxis": {
            "gridcolor": "white",
            "linecolor": "white",
            "ticks": ""
           },
           "bgcolor": "#E5ECF6",
           "radialaxis": {
            "gridcolor": "white",
            "linecolor": "white",
            "ticks": ""
           }
          },
          "scene": {
           "xaxis": {
            "backgroundcolor": "#E5ECF6",
            "gridcolor": "white",
            "gridwidth": 2,
            "linecolor": "white",
            "showbackground": true,
            "ticks": "",
            "zerolinecolor": "white"
           },
           "yaxis": {
            "backgroundcolor": "#E5ECF6",
            "gridcolor": "white",
            "gridwidth": 2,
            "linecolor": "white",
            "showbackground": true,
            "ticks": "",
            "zerolinecolor": "white"
           },
           "zaxis": {
            "backgroundcolor": "#E5ECF6",
            "gridcolor": "white",
            "gridwidth": 2,
            "linecolor": "white",
            "showbackground": true,
            "ticks": "",
            "zerolinecolor": "white"
           }
          },
          "shapedefaults": {
           "line": {
            "color": "#2a3f5f"
           }
          },
          "ternary": {
           "aaxis": {
            "gridcolor": "white",
            "linecolor": "white",
            "ticks": ""
           },
           "baxis": {
            "gridcolor": "white",
            "linecolor": "white",
            "ticks": ""
           },
           "bgcolor": "#E5ECF6",
           "caxis": {
            "gridcolor": "white",
            "linecolor": "white",
            "ticks": ""
           }
          },
          "title": {
           "x": 0.05
          },
          "xaxis": {
           "automargin": true,
           "gridcolor": "white",
           "linecolor": "white",
           "ticks": "",
           "title": {
            "standoff": 15
           },
           "zerolinecolor": "white",
           "zerolinewidth": 2
          },
          "yaxis": {
           "automargin": true,
           "gridcolor": "white",
           "linecolor": "white",
           "ticks": "",
           "title": {
            "standoff": 15
           },
           "zerolinecolor": "white",
           "zerolinewidth": 2
          }
         }
        },
        "xaxis": {
         "anchor": "y",
         "domain": [
          0,
          1
         ],
         "title": {
          "text": "category_code"
         }
        },
        "yaxis": {
         "anchor": "x",
         "domain": [
          0,
          1
         ],
         "title": {
          "text": "count"
         }
        }
       }
      }
     },
     "metadata": {}
    }
   ],
   "source": [
    "px.histogram(pdf, x=\"category_code\", color=\"category_id\")"
   ]
  },
  {
   "cell_type": "code",
   "execution_count": null,
   "metadata": {},
   "outputs": [],
   "source": [
    "Mehrere Category_IDs gehören immer nur zu einem Category_code."
   ]
  },
  {
   "source": [
    "##### Category ID - Product ID"
   ],
   "cell_type": "markdown",
   "metadata": {}
  },
  {
   "cell_type": "code",
   "execution_count": 107,
   "metadata": {},
   "outputs": [
    {
     "output_type": "stream",
     "name": "stdout",
     "text": [
      "+-------------------+-------------+\n|        Category_ID|Count_Product|\n+-------------------+-------------+\n|2053013563944993659|            3|\n|2173216765583032544|            1|\n|2053013555631882655|           29|\n|2137704922018218396|            2|\n|2152167773222993940|            1|\n|2053013556110033341|            1|\n|2053013561277416167|            1|\n|2053013554415534427|            1|\n|2053013562183385881|            1|\n|2053013558223962683|            1|\n|2053013561218695907|            1|\n|2055156924315337497|            1|\n|2053013559792632471|            2|\n|2053013558920217191|           17|\n|2127425436764865054|            1|\n|2053013557192163841|            1|\n|2085718636156158307|            1|\n|2053013560555995845|            2|\n|2079713978300236035|            2|\n|2053013563651392361|            4|\n+-------------------+-------------+\nonly showing top 20 rows\n\n"
     ]
    }
   ],
   "source": [
    "spark.sql(\"SELECT Category_ID, COUNT(DISTINCT(Product_ID)) AS Count_Product from Product_Data GROUP BY Category_ID\").show()"
   ]
  },
  {
   "cell_type": "code",
   "execution_count": 108,
   "metadata": {},
   "outputs": [
    {
     "output_type": "stream",
     "name": "stdout",
     "text": [
      "+----------+-----------------+\n|Product_ID|Count_Category_ID|\n+----------+-----------------+\n|  24400436|                1|\n|   2701517|                1|\n|   5100855|                1|\n|   1303355|                1|\n|  17301495|                1|\n|   5800506|                1|\n|   1004241|                1|\n|  15100252|                1|\n|   1306894|                1|\n|  12720155|                1|\n|  22700202|                1|\n|  12701967|                1|\n|   4804420|                1|\n|  37900026|                1|\n|  12720378|                1|\n|  15200565|                1|\n|   1004237|                1|\n|  30000218|                1|\n|   3901174|                1|\n|   1004566|                1|\n+----------+-----------------+\nonly showing top 20 rows\n\n"
     ]
    }
   ],
   "source": [
    "spark.sql(\"SELECT Product_ID, COUNT(DISTINCT(Category_ID)) AS Count_Category_ID from Product_Data GROUP BY Product_ID\").show()"
   ]
  },
  {
   "cell_type": "code",
   "execution_count": 115,
   "metadata": {},
   "outputs": [
    {
     "output_type": "stream",
     "name": "stdout",
     "text": [
      "+-------------------+----------+\n|        Category_ID|Product_ID|\n+-------------------+----------+\n|2173216765583032544|  57300036|\n|2152167773222993940|  37900026|\n|2146660887346282824|  43200121|\n|2144916515806248980|  53900036|\n|2137704922018218396|  52000058|\n|2137704922018218396|  52000038|\n|2134905044833666047|  50600085|\n|2134905044833666047|  50600046|\n|2127425436764865054|  30000218|\n|2127425434894205468|  40900007|\n|2116907524572577889|  45601414|\n|2100825583029060150|  44300043|\n|2100825583029060150|  44300026|\n|2100825583029060150|  44300009|\n|2098563450757186313|  42900023|\n|2090228413959766319|  41100058|\n|2090228413959766319|  41100055|\n|2090228413959766319|  41100050|\n|2090228413959766319|  41100033|\n|2085718636156158307|  38900011|\n+-------------------+----------+\nonly showing top 20 rows\n\n"
     ]
    }
   ],
   "source": [
    "spark.sql(\"SELECT Category_ID, Product_ID from Product_Data GROUP BY Category_ID, Product_ID ORDER BY Category_ID DESC, Product_ID DESC\").show()"
   ]
  },
  {
   "cell_type": "code",
   "execution_count": 41,
   "metadata": {},
   "outputs": [
    {
     "output_type": "display_data",
     "data": {
      "application/vnd.plotly.v1+json": {
       "config": {
        "plotlyServerURL": "https://plot.ly"
       },
       "data": [
        {
         "alignmentgroup": "True",
         "bingroup": "x",
         "hovertemplate": "product_id=1003461<br>category_id=%{x}<br>count=%{y}<extra></extra>",
         "legendgroup": "1003461",
         "marker": {
          "color": "#636efa"
         },
         "name": "1003461",
         "offsetgroup": "1003461",
         "orientation": "v",
         "showlegend": true,
         "type": "histogram",
         "x": [
          "2053013555631882655",
          "2053013555631882655"
         ],
         "xaxis": "x",
         "yaxis": "y"
        },
        {
         "alignmentgroup": "True",
         "bingroup": "x",
         "hovertemplate": "product_id=5000088<br>category_id=%{x}<br>count=%{y}<extra></extra>",
         "legendgroup": "5000088",
         "marker": {
          "color": "#EF553B"
         },
         "name": "5000088",
         "offsetgroup": "5000088",
         "orientation": "v",
         "showlegend": true,
         "type": "histogram",
         "x": [
          "2053013566100866035",
          "2053013566100866035"
         ],
         "xaxis": "x",
         "yaxis": "y"
        },
        {
         "alignmentgroup": "True",
         "bingroup": "x",
         "hovertemplate": "product_id=17302664<br>category_id=%{x}<br>count=%{y}<extra></extra>",
         "legendgroup": "17302664",
         "marker": {
          "color": "#00cc96"
         },
         "name": "17302664",
         "offsetgroup": "17302664",
         "orientation": "v",
         "showlegend": true,
         "type": "histogram",
         "x": [
          "2053013553853497655"
         ],
         "xaxis": "x",
         "yaxis": "y"
        },
        {
         "alignmentgroup": "True",
         "bingroup": "x",
         "hovertemplate": "product_id=3601530<br>category_id=%{x}<br>count=%{y}<extra></extra>",
         "legendgroup": "3601530",
         "marker": {
          "color": "#ab63fa"
         },
         "name": "3601530",
         "offsetgroup": "3601530",
         "orientation": "v",
         "showlegend": true,
         "type": "histogram",
         "x": [
          "2053013563810775923"
         ],
         "xaxis": "x",
         "yaxis": "y"
        },
        {
         "alignmentgroup": "True",
         "bingroup": "x",
         "hovertemplate": "product_id=1004775<br>category_id=%{x}<br>count=%{y}<extra></extra>",
         "legendgroup": "1004775",
         "marker": {
          "color": "#FFA15A"
         },
         "name": "1004775",
         "offsetgroup": "1004775",
         "orientation": "v",
         "showlegend": true,
         "type": "histogram",
         "x": [
          "2053013555631882655",
          "2053013555631882655"
         ],
         "xaxis": "x",
         "yaxis": "y"
        },
        {
         "alignmentgroup": "True",
         "bingroup": "x",
         "hovertemplate": "product_id=1306894<br>category_id=%{x}<br>count=%{y}<extra></extra>",
         "legendgroup": "1306894",
         "marker": {
          "color": "#19d3f3"
         },
         "name": "1306894",
         "offsetgroup": "1306894",
         "orientation": "v",
         "showlegend": true,
         "type": "histogram",
         "x": [
          "2053013558920217191"
         ],
         "xaxis": "x",
         "yaxis": "y"
        },
        {
         "alignmentgroup": "True",
         "bingroup": "x",
         "hovertemplate": "product_id=1306421<br>category_id=%{x}<br>count=%{y}<extra></extra>",
         "legendgroup": "1306421",
         "marker": {
          "color": "#FF6692"
         },
         "name": "1306421",
         "offsetgroup": "1306421",
         "orientation": "v",
         "showlegend": true,
         "type": "histogram",
         "x": [
          "2053013558920217191"
         ],
         "xaxis": "x",
         "yaxis": "y"
        },
        {
         "alignmentgroup": "True",
         "bingroup": "x",
         "hovertemplate": "product_id=15900065<br>category_id=%{x}<br>count=%{y}<extra></extra>",
         "legendgroup": "15900065",
         "marker": {
          "color": "#B6E880"
         },
         "name": "15900065",
         "offsetgroup": "15900065",
         "orientation": "v",
         "showlegend": true,
         "type": "histogram",
         "x": [
          "2053013558190408249"
         ],
         "xaxis": "x",
         "yaxis": "y"
        },
        {
         "alignmentgroup": "True",
         "bingroup": "x",
         "hovertemplate": "product_id=12708937<br>category_id=%{x}<br>count=%{y}<extra></extra>",
         "legendgroup": "12708937",
         "marker": {
          "color": "#FF97FF"
         },
         "name": "12708937",
         "offsetgroup": "12708937",
         "orientation": "v",
         "showlegend": true,
         "type": "histogram",
         "x": [
          "2053013553559896355",
          "2053013553559896355",
          "2053013553559896355"
         ],
         "xaxis": "x",
         "yaxis": "y"
        },
        {
         "alignmentgroup": "True",
         "bingroup": "x",
         "hovertemplate": "product_id=1004258<br>category_id=%{x}<br>count=%{y}<extra></extra>",
         "legendgroup": "1004258",
         "marker": {
          "color": "#FECB52"
         },
         "name": "1004258",
         "offsetgroup": "1004258",
         "orientation": "v",
         "showlegend": true,
         "type": "histogram",
         "x": [
          "2053013555631882655",
          "2053013555631882655"
         ],
         "xaxis": "x",
         "yaxis": "y"
        },
        {
         "alignmentgroup": "True",
         "bingroup": "x",
         "hovertemplate": "product_id=17200570<br>category_id=%{x}<br>count=%{y}<extra></extra>",
         "legendgroup": "17200570",
         "marker": {
          "color": "#636efa"
         },
         "name": "17200570",
         "offsetgroup": "17200570",
         "orientation": "v",
         "showlegend": true,
         "type": "histogram",
         "x": [
          "2053013559792632471"
         ],
         "xaxis": "x",
         "yaxis": "y"
        },
        {
         "alignmentgroup": "True",
         "bingroup": "x",
         "hovertemplate": "product_id=2701517<br>category_id=%{x}<br>count=%{y}<extra></extra>",
         "legendgroup": "2701517",
         "marker": {
          "color": "#EF553B"
         },
         "name": "2701517",
         "offsetgroup": "2701517",
         "orientation": "v",
         "showlegend": true,
         "type": "histogram",
         "x": [
          "2053013563911439225"
         ],
         "xaxis": "x",
         "yaxis": "y"
        },
        {
         "alignmentgroup": "True",
         "bingroup": "x",
         "hovertemplate": "product_id=16700260<br>category_id=%{x}<br>count=%{y}<extra></extra>",
         "legendgroup": "16700260",
         "marker": {
          "color": "#00cc96"
         },
         "name": "16700260",
         "offsetgroup": "16700260",
         "orientation": "v",
         "showlegend": true,
         "type": "histogram",
         "x": [
          "2053013559901684381"
         ],
         "xaxis": "x",
         "yaxis": "y"
        },
        {
         "alignmentgroup": "True",
         "bingroup": "x",
         "hovertemplate": "product_id=34600011<br>category_id=%{x}<br>count=%{y}<extra></extra>",
         "legendgroup": "34600011",
         "marker": {
          "color": "#ab63fa"
         },
         "name": "34600011",
         "offsetgroup": "34600011",
         "orientation": "v",
         "showlegend": true,
         "type": "histogram",
         "x": [
          "2060981320581906480"
         ],
         "xaxis": "x",
         "yaxis": "y"
        },
        {
         "alignmentgroup": "True",
         "bingroup": "x",
         "hovertemplate": "product_id=4600658<br>category_id=%{x}<br>count=%{y}<extra></extra>",
         "legendgroup": "4600658",
         "marker": {
          "color": "#FFA15A"
         },
         "name": "4600658",
         "offsetgroup": "4600658",
         "orientation": "v",
         "showlegend": true,
         "type": "histogram",
         "x": [
          "2053013563944993659"
         ],
         "xaxis": "x",
         "yaxis": "y"
        },
        {
         "alignmentgroup": "True",
         "bingroup": "x",
         "hovertemplate": "product_id=24900193<br>category_id=%{x}<br>count=%{y}<extra></extra>",
         "legendgroup": "24900193",
         "marker": {
          "color": "#19d3f3"
         },
         "name": "24900193",
         "offsetgroup": "24900193",
         "orientation": "v",
         "showlegend": true,
         "type": "histogram",
         "x": [
          "2053013562183385881"
         ],
         "xaxis": "x",
         "yaxis": "y"
        },
        {
         "alignmentgroup": "True",
         "bingroup": "x",
         "hovertemplate": "product_id=27400066<br>category_id=%{x}<br>count=%{y}<extra></extra>",
         "legendgroup": "27400066",
         "marker": {
          "color": "#FF6692"
         },
         "name": "27400066",
         "offsetgroup": "27400066",
         "orientation": "v",
         "showlegend": true,
         "type": "histogram",
         "x": [
          "2053013563391345499",
          "2053013563391345499"
         ],
         "xaxis": "x",
         "yaxis": "y"
        },
        {
         "alignmentgroup": "True",
         "bingroup": "x",
         "hovertemplate": "product_id=5100503<br>category_id=%{x}<br>count=%{y}<extra></extra>",
         "legendgroup": "5100503",
         "marker": {
          "color": "#B6E880"
         },
         "name": "5100503",
         "offsetgroup": "5100503",
         "orientation": "v",
         "showlegend": true,
         "type": "histogram",
         "x": [
          "2053013553375346967"
         ],
         "xaxis": "x",
         "yaxis": "y"
        },
        {
         "alignmentgroup": "True",
         "bingroup": "x",
         "hovertemplate": "product_id=1004566<br>category_id=%{x}<br>count=%{y}<extra></extra>",
         "legendgroup": "1004566",
         "marker": {
          "color": "#FF97FF"
         },
         "name": "1004566",
         "offsetgroup": "1004566",
         "orientation": "v",
         "showlegend": true,
         "type": "histogram",
         "x": [
          "2053013555631882655"
         ],
         "xaxis": "x",
         "yaxis": "y"
        },
        {
         "alignmentgroup": "True",
         "bingroup": "x",
         "hovertemplate": "product_id=1307115<br>category_id=%{x}<br>count=%{y}<extra></extra>",
         "legendgroup": "1307115",
         "marker": {
          "color": "#FECB52"
         },
         "name": "1307115",
         "offsetgroup": "1307115",
         "orientation": "v",
         "showlegend": true,
         "type": "histogram",
         "x": [
          "2053013558920217191",
          "2053013558920217191"
         ],
         "xaxis": "x",
         "yaxis": "y"
        },
        {
         "alignmentgroup": "True",
         "bingroup": "x",
         "hovertemplate": "product_id=12719154<br>category_id=%{x}<br>count=%{y}<extra></extra>",
         "legendgroup": "12719154",
         "marker": {
          "color": "#636efa"
         },
         "name": "12719154",
         "offsetgroup": "12719154",
         "orientation": "v",
         "showlegend": true,
         "type": "histogram",
         "x": [
          "2053013553559896355"
         ],
         "xaxis": "x",
         "yaxis": "y"
        },
        {
         "alignmentgroup": "True",
         "bingroup": "x",
         "hovertemplate": "product_id=1004708<br>category_id=%{x}<br>count=%{y}<extra></extra>",
         "legendgroup": "1004708",
         "marker": {
          "color": "#EF553B"
         },
         "name": "1004708",
         "offsetgroup": "1004708",
         "orientation": "v",
         "showlegend": true,
         "type": "histogram",
         "x": [
          "2053013555631882655"
         ],
         "xaxis": "x",
         "yaxis": "y"
        },
        {
         "alignmentgroup": "True",
         "bingroup": "x",
         "hovertemplate": "product_id=26022534<br>category_id=%{x}<br>count=%{y}<extra></extra>",
         "legendgroup": "26022534",
         "marker": {
          "color": "#00cc96"
         },
         "name": "26022534",
         "offsetgroup": "26022534",
         "orientation": "v",
         "showlegend": true,
         "type": "histogram",
         "x": [
          "2053013562837697343"
         ],
         "xaxis": "x",
         "yaxis": "y"
        },
        {
         "alignmentgroup": "True",
         "bingroup": "x",
         "hovertemplate": "product_id=17200558<br>category_id=%{x}<br>count=%{y}<extra></extra>",
         "legendgroup": "17200558",
         "marker": {
          "color": "#ab63fa"
         },
         "name": "17200558",
         "offsetgroup": "17200558",
         "orientation": "v",
         "showlegend": true,
         "type": "histogram",
         "x": [
          "2053013559792632471"
         ],
         "xaxis": "x",
         "yaxis": "y"
        },
        {
         "alignmentgroup": "True",
         "bingroup": "x",
         "hovertemplate": "product_id=17300016<br>category_id=%{x}<br>count=%{y}<extra></extra>",
         "legendgroup": "17300016",
         "marker": {
          "color": "#FFA15A"
         },
         "name": "17300016",
         "offsetgroup": "17300016",
         "orientation": "v",
         "showlegend": true,
         "type": "histogram",
         "x": [
          "2053013553853497655"
         ],
         "xaxis": "x",
         "yaxis": "y"
        },
        {
         "alignmentgroup": "True",
         "bingroup": "x",
         "hovertemplate": "product_id=26019863<br>category_id=%{x}<br>count=%{y}<extra></extra>",
         "legendgroup": "26019863",
         "marker": {
          "color": "#19d3f3"
         },
         "name": "26019863",
         "offsetgroup": "26019863",
         "orientation": "v",
         "showlegend": true,
         "type": "histogram",
         "x": [
          "2053013562837697343"
         ],
         "xaxis": "x",
         "yaxis": "y"
        },
        {
         "alignmentgroup": "True",
         "bingroup": "x",
         "hovertemplate": "product_id=17501048<br>category_id=%{x}<br>count=%{y}<extra></extra>",
         "legendgroup": "17501048",
         "marker": {
          "color": "#FF6692"
         },
         "name": "17501048",
         "offsetgroup": "17501048",
         "orientation": "v",
         "showlegend": true,
         "type": "histogram",
         "x": [
          "2053013558752445019"
         ],
         "xaxis": "x",
         "yaxis": "y"
        },
        {
         "alignmentgroup": "True",
         "bingroup": "x",
         "hovertemplate": "product_id=1005115<br>category_id=%{x}<br>count=%{y}<extra></extra>",
         "legendgroup": "1005115",
         "marker": {
          "color": "#B6E880"
         },
         "name": "1005115",
         "offsetgroup": "1005115",
         "orientation": "v",
         "showlegend": true,
         "type": "histogram",
         "x": [
          "2053013555631882655"
         ],
         "xaxis": "x",
         "yaxis": "y"
        },
        {
         "alignmentgroup": "True",
         "bingroup": "x",
         "hovertemplate": "product_id=1307350<br>category_id=%{x}<br>count=%{y}<extra></extra>",
         "legendgroup": "1307350",
         "marker": {
          "color": "#FF97FF"
         },
         "name": "1307350",
         "offsetgroup": "1307350",
         "orientation": "v",
         "showlegend": true,
         "type": "histogram",
         "x": [
          "2053013558920217191"
         ],
         "xaxis": "x",
         "yaxis": "y"
        },
        {
         "alignmentgroup": "True",
         "bingroup": "x",
         "hovertemplate": "product_id=1307340<br>category_id=%{x}<br>count=%{y}<extra></extra>",
         "legendgroup": "1307340",
         "marker": {
          "color": "#FECB52"
         },
         "name": "1307340",
         "offsetgroup": "1307340",
         "orientation": "v",
         "showlegend": true,
         "type": "histogram",
         "x": [
          "2053013558920217191"
         ],
         "xaxis": "x",
         "yaxis": "y"
        },
        {
         "alignmentgroup": "True",
         "bingroup": "x",
         "hovertemplate": "product_id=41100055<br>category_id=%{x}<br>count=%{y}<extra></extra>",
         "legendgroup": "41100055",
         "marker": {
          "color": "#636efa"
         },
         "name": "41100055",
         "offsetgroup": "41100055",
         "orientation": "v",
         "showlegend": true,
         "type": "histogram",
         "x": [
          "2090228413959766319"
         ],
         "xaxis": "x",
         "yaxis": "y"
        },
        {
         "alignmentgroup": "True",
         "bingroup": "x",
         "hovertemplate": "product_id=16700826<br>category_id=%{x}<br>count=%{y}<extra></extra>",
         "legendgroup": "16700826",
         "marker": {
          "color": "#EF553B"
         },
         "name": "16700826",
         "offsetgroup": "16700826",
         "orientation": "v",
         "showlegend": true,
         "type": "histogram",
         "x": [
          "2053013559901684381",
          "2053013559901684381"
         ],
         "xaxis": "x",
         "yaxis": "y"
        },
        {
         "alignmentgroup": "True",
         "bingroup": "x",
         "hovertemplate": "product_id=30100041<br>category_id=%{x}<br>count=%{y}<extra></extra>",
         "legendgroup": "30100041",
         "marker": {
          "color": "#00cc96"
         },
         "name": "30100041",
         "offsetgroup": "30100041",
         "orientation": "v",
         "showlegend": true,
         "type": "histogram",
         "x": [
          "2053013556110033341"
         ],
         "xaxis": "x",
         "yaxis": "y"
        },
        {
         "alignmentgroup": "True",
         "bingroup": "x",
         "hovertemplate": "product_id=22700205<br>category_id=%{x}<br>count=%{y}<extra></extra>",
         "legendgroup": "22700205",
         "marker": {
          "color": "#ab63fa"
         },
         "name": "22700205",
         "offsetgroup": "22700205",
         "orientation": "v",
         "showlegend": true,
         "type": "histogram",
         "x": [
          "2053013556168753601"
         ],
         "xaxis": "x",
         "yaxis": "y"
        },
        {
         "alignmentgroup": "True",
         "bingroup": "x",
         "hovertemplate": "product_id=10800182<br>category_id=%{x}<br>count=%{y}<extra></extra>",
         "legendgroup": "10800182",
         "marker": {
          "color": "#FFA15A"
         },
         "name": "10800182",
         "offsetgroup": "10800182",
         "orientation": "v",
         "showlegend": true,
         "type": "histogram",
         "x": [
          "2053013554994348409"
         ],
         "xaxis": "x",
         "yaxis": "y"
        },
        {
         "alignmentgroup": "True",
         "bingroup": "x",
         "hovertemplate": "product_id=52000058<br>category_id=%{x}<br>count=%{y}<extra></extra>",
         "legendgroup": "52000058",
         "marker": {
          "color": "#19d3f3"
         },
         "name": "52000058",
         "offsetgroup": "52000058",
         "orientation": "v",
         "showlegend": true,
         "type": "histogram",
         "x": [
          "2137704922018218396"
         ],
         "xaxis": "x",
         "yaxis": "y"
        },
        {
         "alignmentgroup": "True",
         "bingroup": "x",
         "hovertemplate": "product_id=15200565<br>category_id=%{x}<br>count=%{y}<extra></extra>",
         "legendgroup": "15200565",
         "marker": {
          "color": "#FF6692"
         },
         "name": "15200565",
         "offsetgroup": "15200565",
         "orientation": "v",
         "showlegend": true,
         "type": "histogram",
         "x": [
          "2053013553484398879"
         ],
         "xaxis": "x",
         "yaxis": "y"
        },
        {
         "alignmentgroup": "True",
         "bingroup": "x",
         "hovertemplate": "product_id=4804194<br>category_id=%{x}<br>count=%{y}<extra></extra>",
         "legendgroup": "4804194",
         "marker": {
          "color": "#B6E880"
         },
         "name": "4804194",
         "offsetgroup": "4804194",
         "orientation": "v",
         "showlegend": true,
         "type": "histogram",
         "x": [
          "2053013554658804075"
         ],
         "xaxis": "x",
         "yaxis": "y"
        },
        {
         "alignmentgroup": "True",
         "bingroup": "x",
         "hovertemplate": "product_id=3701016<br>category_id=%{x}<br>count=%{y}<extra></extra>",
         "legendgroup": "3701016",
         "marker": {
          "color": "#FF97FF"
         },
         "name": "3701016",
         "offsetgroup": "3701016",
         "orientation": "v",
         "showlegend": true,
         "type": "histogram",
         "x": [
          "2053013565983425517"
         ],
         "xaxis": "x",
         "yaxis": "y"
        },
        {
         "alignmentgroup": "True",
         "bingroup": "x",
         "hovertemplate": "product_id=1002544<br>category_id=%{x}<br>count=%{y}<extra></extra>",
         "legendgroup": "1002544",
         "marker": {
          "color": "#FECB52"
         },
         "name": "1002544",
         "offsetgroup": "1002544",
         "orientation": "v",
         "showlegend": true,
         "type": "histogram",
         "x": [
          "2053013555631882655"
         ],
         "xaxis": "x",
         "yaxis": "y"
        },
        {
         "alignmentgroup": "True",
         "bingroup": "x",
         "hovertemplate": "product_id=1005014<br>category_id=%{x}<br>count=%{y}<extra></extra>",
         "legendgroup": "1005014",
         "marker": {
          "color": "#636efa"
         },
         "name": "1005014",
         "offsetgroup": "1005014",
         "orientation": "v",
         "showlegend": true,
         "type": "histogram",
         "x": [
          "2053013555631882655"
         ],
         "xaxis": "x",
         "yaxis": "y"
        },
        {
         "alignmentgroup": "True",
         "bingroup": "x",
         "hovertemplate": "product_id=27800054<br>category_id=%{x}<br>count=%{y}<extra></extra>",
         "legendgroup": "27800054",
         "marker": {
          "color": "#EF553B"
         },
         "name": "27800054",
         "offsetgroup": "27800054",
         "orientation": "v",
         "showlegend": true,
         "type": "histogram",
         "x": [
          "2079713978300236035"
         ],
         "xaxis": "x",
         "yaxis": "y"
        },
        {
         "alignmentgroup": "True",
         "bingroup": "x",
         "hovertemplate": "product_id=2201037<br>category_id=%{x}<br>count=%{y}<extra></extra>",
         "legendgroup": "2201037",
         "marker": {
          "color": "#00cc96"
         },
         "name": "2201037",
         "offsetgroup": "2201037",
         "orientation": "v",
         "showlegend": true,
         "type": "histogram",
         "x": [
          "2053013560555995845"
         ],
         "xaxis": "x",
         "yaxis": "y"
        },
        {
         "alignmentgroup": "True",
         "bingroup": "x",
         "hovertemplate": "product_id=3901174<br>category_id=%{x}<br>count=%{y}<extra></extra>",
         "legendgroup": "3901174",
         "marker": {
          "color": "#ab63fa"
         },
         "name": "3901174",
         "offsetgroup": "3901174",
         "orientation": "v",
         "showlegend": true,
         "type": "histogram",
         "x": [
          "2053013552326770905"
         ],
         "xaxis": "x",
         "yaxis": "y"
        },
        {
         "alignmentgroup": "True",
         "bingroup": "x",
         "hovertemplate": "product_id=4600603<br>category_id=%{x}<br>count=%{y}<extra></extra>",
         "legendgroup": "4600603",
         "marker": {
          "color": "#FFA15A"
         },
         "name": "4600603",
         "offsetgroup": "4600603",
         "orientation": "v",
         "showlegend": true,
         "type": "histogram",
         "x": [
          "2053013563944993659",
          "2053013563944993659"
         ],
         "xaxis": "x",
         "yaxis": "y"
        },
        {
         "alignmentgroup": "True",
         "bingroup": "x",
         "hovertemplate": "product_id=4100297<br>category_id=%{x}<br>count=%{y}<extra></extra>",
         "legendgroup": "4100297",
         "marker": {
          "color": "#19d3f3"
         },
         "name": "4100297",
         "offsetgroup": "4100297",
         "orientation": "v",
         "showlegend": true,
         "type": "histogram",
         "x": [
          "2053013561218695907",
          "2053013561218695907"
         ],
         "xaxis": "x",
         "yaxis": "y"
        },
        {
         "alignmentgroup": "True",
         "bingroup": "x",
         "hovertemplate": "product_id=18100047<br>category_id=%{x}<br>count=%{y}<extra></extra>",
         "legendgroup": "18100047",
         "marker": {
          "color": "#FF6692"
         },
         "name": "18100047",
         "offsetgroup": "18100047",
         "orientation": "v",
         "showlegend": true,
         "type": "histogram",
         "x": [
          "2053013557955527211"
         ],
         "xaxis": "x",
         "yaxis": "y"
        },
        {
         "alignmentgroup": "True",
         "bingroup": "x",
         "hovertemplate": "product_id=2300214<br>category_id=%{x}<br>count=%{y}<extra></extra>",
         "legendgroup": "2300214",
         "marker": {
          "color": "#B6E880"
         },
         "name": "2300214",
         "offsetgroup": "2300214",
         "orientation": "v",
         "showlegend": true,
         "type": "histogram",
         "x": [
          "2053013560530830019"
         ],
         "xaxis": "x",
         "yaxis": "y"
        },
        {
         "alignmentgroup": "True",
         "bingroup": "x",
         "hovertemplate": "product_id=26400585<br>category_id=%{x}<br>count=%{y}<extra></extra>",
         "legendgroup": "26400585",
         "marker": {
          "color": "#FF97FF"
         },
         "name": "26400585",
         "offsetgroup": "26400585",
         "orientation": "v",
         "showlegend": true,
         "type": "histogram",
         "x": [
          "2053013563651392361"
         ],
         "xaxis": "x",
         "yaxis": "y"
        },
        {
         "alignmentgroup": "True",
         "bingroup": "x",
         "hovertemplate": "product_id=1005161<br>category_id=%{x}<br>count=%{y}<extra></extra>",
         "legendgroup": "1005161",
         "marker": {
          "color": "#FECB52"
         },
         "name": "1005161",
         "offsetgroup": "1005161",
         "orientation": "v",
         "showlegend": true,
         "type": "histogram",
         "x": [
          "2053013555631882655",
          "2053013555631882655"
         ],
         "xaxis": "x",
         "yaxis": "y"
        },
        {
         "alignmentgroup": "True",
         "bingroup": "x",
         "hovertemplate": "product_id=21406939<br>category_id=%{x}<br>count=%{y}<extra></extra>",
         "legendgroup": "21406939",
         "marker": {
          "color": "#636efa"
         },
         "name": "21406939",
         "offsetgroup": "21406939",
         "orientation": "v",
         "showlegend": true,
         "type": "histogram",
         "x": [
          "2053013561579406073"
         ],
         "xaxis": "x",
         "yaxis": "y"
        },
        {
         "alignmentgroup": "True",
         "bingroup": "x",
         "hovertemplate": "product_id=1800729<br>category_id=%{x}<br>count=%{y}<extra></extra>",
         "legendgroup": "1800729",
         "marker": {
          "color": "#EF553B"
         },
         "name": "1800729",
         "offsetgroup": "1800729",
         "orientation": "v",
         "showlegend": true,
         "type": "histogram",
         "x": [
          "2053013554415534427"
         ],
         "xaxis": "x",
         "yaxis": "y"
        },
        {
         "alignmentgroup": "True",
         "bingroup": "x",
         "hovertemplate": "product_id=43200121<br>category_id=%{x}<br>count=%{y}<extra></extra>",
         "legendgroup": "43200121",
         "marker": {
          "color": "#00cc96"
         },
         "name": "43200121",
         "offsetgroup": "43200121",
         "orientation": "v",
         "showlegend": true,
         "type": "histogram",
         "x": [
          "2146660887346282824"
         ],
         "xaxis": "x",
         "yaxis": "y"
        },
        {
         "alignmentgroup": "True",
         "bingroup": "x",
         "hovertemplate": "product_id=44300043<br>category_id=%{x}<br>count=%{y}<extra></extra>",
         "legendgroup": "44300043",
         "marker": {
          "color": "#ab63fa"
         },
         "name": "44300043",
         "offsetgroup": "44300043",
         "orientation": "v",
         "showlegend": true,
         "type": "histogram",
         "x": [
          "2100825583029060150"
         ],
         "xaxis": "x",
         "yaxis": "y"
        },
        {
         "alignmentgroup": "True",
         "bingroup": "x",
         "hovertemplate": "product_id=1003317<br>category_id=%{x}<br>count=%{y}<extra></extra>",
         "legendgroup": "1003317",
         "marker": {
          "color": "#FFA15A"
         },
         "name": "1003317",
         "offsetgroup": "1003317",
         "orientation": "v",
         "showlegend": true,
         "type": "histogram",
         "x": [
          "2053013555631882655"
         ],
         "xaxis": "x",
         "yaxis": "y"
        },
        {
         "alignmentgroup": "True",
         "bingroup": "x",
         "hovertemplate": "product_id=10701060<br>category_id=%{x}<br>count=%{y}<extra></extra>",
         "legendgroup": "10701060",
         "marker": {
          "color": "#19d3f3"
         },
         "name": "10701060",
         "offsetgroup": "10701060",
         "orientation": "v",
         "showlegend": true,
         "type": "histogram",
         "x": [
          "2053013561277416167"
         ],
         "xaxis": "x",
         "yaxis": "y"
        },
        {
         "alignmentgroup": "True",
         "bingroup": "x",
         "hovertemplate": "product_id=25600085<br>category_id=%{x}<br>count=%{y}<extra></extra>",
         "legendgroup": "25600085",
         "marker": {
          "color": "#FF6692"
         },
         "name": "25600085",
         "offsetgroup": "25600085",
         "orientation": "v",
         "showlegend": true,
         "type": "histogram",
         "x": [
          "2053013559675191951"
         ],
         "xaxis": "x",
         "yaxis": "y"
        },
        {
         "alignmentgroup": "True",
         "bingroup": "x",
         "hovertemplate": "product_id=26100002<br>category_id=%{x}<br>count=%{y}<extra></extra>",
         "legendgroup": "26100002",
         "marker": {
          "color": "#B6E880"
         },
         "name": "26100002",
         "offsetgroup": "26100002",
         "orientation": "v",
         "showlegend": true,
         "type": "histogram",
         "x": [
          "2053013553887052089"
         ],
         "xaxis": "x",
         "yaxis": "y"
        },
        {
         "alignmentgroup": "True",
         "bingroup": "x",
         "hovertemplate": "product_id=22700067<br>category_id=%{x}<br>count=%{y}<extra></extra>",
         "legendgroup": "22700067",
         "marker": {
          "color": "#FF97FF"
         },
         "name": "22700067",
         "offsetgroup": "22700067",
         "orientation": "v",
         "showlegend": true,
         "type": "histogram",
         "x": [
          "2053013556168753601"
         ],
         "xaxis": "x",
         "yaxis": "y"
        },
        {
         "alignmentgroup": "True",
         "bingroup": "x",
         "hovertemplate": "product_id=24400437<br>category_id=%{x}<br>count=%{y}<extra></extra>",
         "legendgroup": "24400437",
         "marker": {
          "color": "#FECB52"
         },
         "name": "24400437",
         "offsetgroup": "24400437",
         "orientation": "v",
         "showlegend": true,
         "type": "histogram",
         "x": [
          "2053013563215184719",
          "2053013563215184719",
          "2053013563215184719"
         ],
         "xaxis": "x",
         "yaxis": "y"
        },
        {
         "alignmentgroup": "True",
         "bingroup": "x",
         "hovertemplate": "product_id=1307095<br>category_id=%{x}<br>count=%{y}<extra></extra>",
         "legendgroup": "1307095",
         "marker": {
          "color": "#636efa"
         },
         "name": "1307095",
         "offsetgroup": "1307095",
         "orientation": "v",
         "showlegend": true,
         "type": "histogram",
         "x": [
          "2053013558920217191"
         ],
         "xaxis": "x",
         "yaxis": "y"
        },
        {
         "alignmentgroup": "True",
         "bingroup": "x",
         "hovertemplate": "product_id=31000152<br>category_id=%{x}<br>count=%{y}<extra></extra>",
         "legendgroup": "31000152",
         "marker": {
          "color": "#EF553B"
         },
         "name": "31000152",
         "offsetgroup": "31000152",
         "orientation": "v",
         "showlegend": true,
         "type": "histogram",
         "x": [
          "2055156924315337497"
         ],
         "xaxis": "x",
         "yaxis": "y"
        },
        {
         "alignmentgroup": "True",
         "bingroup": "x",
         "hovertemplate": "product_id=37900026<br>category_id=%{x}<br>count=%{y}<extra></extra>",
         "legendgroup": "37900026",
         "marker": {
          "color": "#00cc96"
         },
         "name": "37900026",
         "offsetgroup": "37900026",
         "orientation": "v",
         "showlegend": true,
         "type": "histogram",
         "x": [
          "2152167773222993940"
         ],
         "xaxis": "x",
         "yaxis": "y"
        },
        {
         "alignmentgroup": "True",
         "bingroup": "x",
         "hovertemplate": "product_id=1004856<br>category_id=%{x}<br>count=%{y}<extra></extra>",
         "legendgroup": "1004856",
         "marker": {
          "color": "#ab63fa"
         },
         "name": "1004856",
         "offsetgroup": "1004856",
         "orientation": "v",
         "showlegend": true,
         "type": "histogram",
         "x": [
          "2053013555631882655",
          "2053013555631882655"
         ],
         "xaxis": "x",
         "yaxis": "y"
        },
        {
         "alignmentgroup": "True",
         "bingroup": "x",
         "hovertemplate": "product_id=12720378<br>category_id=%{x}<br>count=%{y}<extra></extra>",
         "legendgroup": "12720378",
         "marker": {
          "color": "#FFA15A"
         },
         "name": "12720378",
         "offsetgroup": "12720378",
         "orientation": "v",
         "showlegend": true,
         "type": "histogram",
         "x": [
          "2053013553559896355"
         ],
         "xaxis": "x",
         "yaxis": "y"
        },
        {
         "alignmentgroup": "True",
         "bingroup": "x",
         "hovertemplate": "product_id=16000004<br>category_id=%{x}<br>count=%{y}<extra></extra>",
         "legendgroup": "16000004",
         "marker": {
          "color": "#19d3f3"
         },
         "name": "16000004",
         "offsetgroup": "16000004",
         "orientation": "v",
         "showlegend": true,
         "type": "histogram",
         "x": [
          "2053013558223962683"
         ],
         "xaxis": "x",
         "yaxis": "y"
        },
        {
         "alignmentgroup": "True",
         "bingroup": "x",
         "hovertemplate": "product_id=12300928<br>category_id=%{x}<br>count=%{y}<extra></extra>",
         "legendgroup": "12300928",
         "marker": {
          "color": "#FF6692"
         },
         "name": "12300928",
         "offsetgroup": "12300928",
         "orientation": "v",
         "showlegend": true,
         "type": "histogram",
         "x": [
          "2053013556311359947"
         ],
         "xaxis": "x",
         "yaxis": "y"
        },
        {
         "alignmentgroup": "True",
         "bingroup": "x",
         "hovertemplate": "product_id=1004877<br>category_id=%{x}<br>count=%{y}<extra></extra>",
         "legendgroup": "1004877",
         "marker": {
          "color": "#B6E880"
         },
         "name": "1004877",
         "offsetgroup": "1004877",
         "orientation": "v",
         "showlegend": true,
         "type": "histogram",
         "x": [
          "2053013555631882655"
         ],
         "xaxis": "x",
         "yaxis": "y"
        },
        {
         "alignmentgroup": "True",
         "bingroup": "x",
         "hovertemplate": "product_id=10301494<br>category_id=%{x}<br>count=%{y}<extra></extra>",
         "legendgroup": "10301494",
         "marker": {
          "color": "#FF97FF"
         },
         "name": "10301494",
         "offsetgroup": "10301494",
         "orientation": "v",
         "showlegend": true,
         "type": "histogram",
         "x": [
          "2053013553115300101"
         ],
         "xaxis": "x",
         "yaxis": "y"
        },
        {
         "alignmentgroup": "True",
         "bingroup": "x",
         "hovertemplate": "product_id=50600046<br>category_id=%{x}<br>count=%{y}<extra></extra>",
         "legendgroup": "50600046",
         "marker": {
          "color": "#FECB52"
         },
         "name": "50600046",
         "offsetgroup": "50600046",
         "orientation": "v",
         "showlegend": true,
         "type": "histogram",
         "x": [
          "2134905044833666047"
         ],
         "xaxis": "x",
         "yaxis": "y"
        },
        {
         "alignmentgroup": "True",
         "bingroup": "x",
         "hovertemplate": "product_id=12719892<br>category_id=%{x}<br>count=%{y}<extra></extra>",
         "legendgroup": "12719892",
         "marker": {
          "color": "#636efa"
         },
         "name": "12719892",
         "offsetgroup": "12719892",
         "orientation": "v",
         "showlegend": true,
         "type": "histogram",
         "x": [
          "2053013553559896355"
         ],
         "xaxis": "x",
         "yaxis": "y"
        },
        {
         "alignmentgroup": "True",
         "bingroup": "x",
         "hovertemplate": "product_id=22700324<br>category_id=%{x}<br>count=%{y}<extra></extra>",
         "legendgroup": "22700324",
         "marker": {
          "color": "#EF553B"
         },
         "name": "22700324",
         "offsetgroup": "22700324",
         "orientation": "v",
         "showlegend": true,
         "type": "histogram",
         "x": [
          "2053013556168753601"
         ],
         "xaxis": "x",
         "yaxis": "y"
        },
        {
         "alignmentgroup": "True",
         "bingroup": "x",
         "hovertemplate": "product_id=16700690<br>category_id=%{x}<br>count=%{y}<extra></extra>",
         "legendgroup": "16700690",
         "marker": {
          "color": "#00cc96"
         },
         "name": "16700690",
         "offsetgroup": "16700690",
         "orientation": "v",
         "showlegend": true,
         "type": "histogram",
         "x": [
          "2053013559901684381"
         ],
         "xaxis": "x",
         "yaxis": "y"
        },
        {
         "alignmentgroup": "True",
         "bingroup": "x",
         "hovertemplate": "product_id=6500912<br>category_id=%{x}<br>count=%{y}<extra></extra>",
         "legendgroup": "6500912",
         "marker": {
          "color": "#ab63fa"
         },
         "name": "6500912",
         "offsetgroup": "6500912",
         "orientation": "v",
         "showlegend": true,
         "type": "histogram",
         "x": [
          "2053013554155487563"
         ],
         "xaxis": "x",
         "yaxis": "y"
        },
        {
         "alignmentgroup": "True",
         "bingroup": "x",
         "hovertemplate": "product_id=13102283<br>category_id=%{x}<br>count=%{y}<extra></extra>",
         "legendgroup": "13102283",
         "marker": {
          "color": "#FFA15A"
         },
         "name": "13102283",
         "offsetgroup": "13102283",
         "orientation": "v",
         "showlegend": true,
         "type": "histogram",
         "x": [
          "2053013553526341921"
         ],
         "xaxis": "x",
         "yaxis": "y"
        },
        {
         "alignmentgroup": "True",
         "bingroup": "x",
         "hovertemplate": "product_id=1600557<br>category_id=%{x}<br>count=%{y}<extra></extra>",
         "legendgroup": "1600557",
         "marker": {
          "color": "#19d3f3"
         },
         "name": "1600557",
         "offsetgroup": "1600557",
         "orientation": "v",
         "showlegend": true,
         "type": "histogram",
         "x": [
          "2053013553056579841"
         ],
         "xaxis": "x",
         "yaxis": "y"
        },
        {
         "alignmentgroup": "True",
         "bingroup": "x",
         "hovertemplate": "product_id=17300072<br>category_id=%{x}<br>count=%{y}<extra></extra>",
         "legendgroup": "17300072",
         "marker": {
          "color": "#FF6692"
         },
         "name": "17300072",
         "offsetgroup": "17300072",
         "orientation": "v",
         "showlegend": true,
         "type": "histogram",
         "x": [
          "2053013553853497655",
          "2053013553853497655"
         ],
         "xaxis": "x",
         "yaxis": "y"
        },
        {
         "alignmentgroup": "True",
         "bingroup": "x",
         "hovertemplate": "product_id=1004237<br>category_id=%{x}<br>count=%{y}<extra></extra>",
         "legendgroup": "1004237",
         "marker": {
          "color": "#B6E880"
         },
         "name": "1004237",
         "offsetgroup": "1004237",
         "orientation": "v",
         "showlegend": true,
         "type": "histogram",
         "x": [
          "2053013555631882655",
          "2053013555631882655"
         ],
         "xaxis": "x",
         "yaxis": "y"
        },
        {
         "alignmentgroup": "True",
         "bingroup": "x",
         "hovertemplate": "product_id=15200567<br>category_id=%{x}<br>count=%{y}<extra></extra>",
         "legendgroup": "15200567",
         "marker": {
          "color": "#FF97FF"
         },
         "name": "15200567",
         "offsetgroup": "15200567",
         "orientation": "v",
         "showlegend": true,
         "type": "histogram",
         "x": [
          "2053013553484398879"
         ],
         "xaxis": "x",
         "yaxis": "y"
        },
        {
         "alignmentgroup": "True",
         "bingroup": "x",
         "hovertemplate": "product_id=4804295<br>category_id=%{x}<br>count=%{y}<extra></extra>",
         "legendgroup": "4804295",
         "marker": {
          "color": "#FECB52"
         },
         "name": "4804295",
         "offsetgroup": "4804295",
         "orientation": "v",
         "showlegend": true,
         "type": "histogram",
         "x": [
          "2053013554658804075",
          "2053013554658804075"
         ],
         "xaxis": "x",
         "yaxis": "y"
        },
        {
         "alignmentgroup": "True",
         "bingroup": "x",
         "hovertemplate": "product_id=17301495<br>category_id=%{x}<br>count=%{y}<extra></extra>",
         "legendgroup": "17301495",
         "marker": {
          "color": "#636efa"
         },
         "name": "17301495",
         "offsetgroup": "17301495",
         "orientation": "v",
         "showlegend": true,
         "type": "histogram",
         "x": [
          "2053013553853497655"
         ],
         "xaxis": "x",
         "yaxis": "y"
        },
        {
         "alignmentgroup": "True",
         "bingroup": "x",
         "hovertemplate": "product_id=1004990<br>category_id=%{x}<br>count=%{y}<extra></extra>",
         "legendgroup": "1004990",
         "marker": {
          "color": "#EF553B"
         },
         "name": "1004990",
         "offsetgroup": "1004990",
         "orientation": "v",
         "showlegend": true,
         "type": "histogram",
         "x": [
          "2053013555631882655"
         ],
         "xaxis": "x",
         "yaxis": "y"
        },
        {
         "alignmentgroup": "True",
         "bingroup": "x",
         "hovertemplate": "product_id=17800132<br>category_id=%{x}<br>count=%{y}<extra></extra>",
         "legendgroup": "17800132",
         "marker": {
          "color": "#00cc96"
         },
         "name": "17800132",
         "offsetgroup": "17800132",
         "orientation": "v",
         "showlegend": true,
         "type": "histogram",
         "x": [
          "2053013559868129947"
         ],
         "xaxis": "x",
         "yaxis": "y"
        },
        {
         "alignmentgroup": "True",
         "bingroup": "x",
         "hovertemplate": "product_id=5701331<br>category_id=%{x}<br>count=%{y}<extra></extra>",
         "legendgroup": "5701331",
         "marker": {
          "color": "#ab63fa"
         },
         "name": "5701331",
         "offsetgroup": "5701331",
         "orientation": "v",
         "showlegend": true,
         "type": "histogram",
         "x": [
          "2053013553970938175",
          "2053013553970938175",
          "2053013553970938175"
         ],
         "xaxis": "x",
         "yaxis": "y"
        },
        {
         "alignmentgroup": "True",
         "bingroup": "x",
         "hovertemplate": "product_id=1307338<br>category_id=%{x}<br>count=%{y}<extra></extra>",
         "legendgroup": "1307338",
         "marker": {
          "color": "#FFA15A"
         },
         "name": "1307338",
         "offsetgroup": "1307338",
         "orientation": "v",
         "showlegend": true,
         "type": "histogram",
         "x": [
          "2053013558920217191"
         ],
         "xaxis": "x",
         "yaxis": "y"
        },
        {
         "alignmentgroup": "True",
         "bingroup": "x",
         "hovertemplate": "product_id=1004767<br>category_id=%{x}<br>count=%{y}<extra></extra>",
         "legendgroup": "1004767",
         "marker": {
          "color": "#19d3f3"
         },
         "name": "1004767",
         "offsetgroup": "1004767",
         "orientation": "v",
         "showlegend": true,
         "type": "histogram",
         "x": [
          "2053013555631882655",
          "2053013555631882655"
         ],
         "xaxis": "x",
         "yaxis": "y"
        },
        {
         "alignmentgroup": "True",
         "bingroup": "x",
         "hovertemplate": "product_id=38900011<br>category_id=%{x}<br>count=%{y}<extra></extra>",
         "legendgroup": "38900011",
         "marker": {
          "color": "#FF6692"
         },
         "name": "38900011",
         "offsetgroup": "38900011",
         "orientation": "v",
         "showlegend": true,
         "type": "histogram",
         "x": [
          "2085718636156158307",
          "2085718636156158307"
         ],
         "xaxis": "x",
         "yaxis": "y"
        },
        {
         "alignmentgroup": "True",
         "bingroup": "x",
         "hovertemplate": "product_id=32900064<br>category_id=%{x}<br>count=%{y}<extra></extra>",
         "legendgroup": "32900064",
         "marker": {
          "color": "#B6E880"
         },
         "name": "32900064",
         "offsetgroup": "32900064",
         "orientation": "v",
         "showlegend": true,
         "type": "histogram",
         "x": [
          "2055156924407612189"
         ],
         "xaxis": "x",
         "yaxis": "y"
        },
        {
         "alignmentgroup": "True",
         "bingroup": "x",
         "hovertemplate": "product_id=2701305<br>category_id=%{x}<br>count=%{y}<extra></extra>",
         "legendgroup": "2701305",
         "marker": {
          "color": "#FF97FF"
         },
         "name": "2701305",
         "offsetgroup": "2701305",
         "orientation": "v",
         "showlegend": true,
         "type": "histogram",
         "x": [
          "2053013563911439225"
         ],
         "xaxis": "x",
         "yaxis": "y"
        },
        {
         "alignmentgroup": "True",
         "bingroup": "x",
         "hovertemplate": "product_id=44300009<br>category_id=%{x}<br>count=%{y}<extra></extra>",
         "legendgroup": "44300009",
         "marker": {
          "color": "#FECB52"
         },
         "name": "44300009",
         "offsetgroup": "44300009",
         "orientation": "v",
         "showlegend": true,
         "type": "histogram",
         "x": [
          "2100825583029060150"
         ],
         "xaxis": "x",
         "yaxis": "y"
        },
        {
         "alignmentgroup": "True",
         "bingroup": "x",
         "hovertemplate": "product_id=4804151<br>category_id=%{x}<br>count=%{y}<extra></extra>",
         "legendgroup": "4804151",
         "marker": {
          "color": "#636efa"
         },
         "name": "4804151",
         "offsetgroup": "4804151",
         "orientation": "v",
         "showlegend": true,
         "type": "histogram",
         "x": [
          "2053013554658804075"
         ],
         "xaxis": "x",
         "yaxis": "y"
        },
        {
         "alignmentgroup": "True",
         "bingroup": "x",
         "hovertemplate": "product_id=29900072<br>category_id=%{x}<br>count=%{y}<extra></extra>",
         "legendgroup": "29900072",
         "marker": {
          "color": "#EF553B"
         },
         "name": "29900072",
         "offsetgroup": "29900072",
         "orientation": "v",
         "showlegend": true,
         "type": "histogram",
         "x": [
          "2059484601444729123",
          "2059484601444729123"
         ],
         "xaxis": "x",
         "yaxis": "y"
        },
        {
         "alignmentgroup": "True",
         "bingroup": "x",
         "hovertemplate": "product_id=1004184<br>category_id=%{x}<br>count=%{y}<extra></extra>",
         "legendgroup": "1004184",
         "marker": {
          "color": "#00cc96"
         },
         "name": "1004184",
         "offsetgroup": "1004184",
         "orientation": "v",
         "showlegend": true,
         "type": "histogram",
         "x": [
          "2053013555631882655"
         ],
         "xaxis": "x",
         "yaxis": "y"
        },
        {
         "alignmentgroup": "True",
         "bingroup": "x",
         "hovertemplate": "product_id=1003316<br>category_id=%{x}<br>count=%{y}<extra></extra>",
         "legendgroup": "1003316",
         "marker": {
          "color": "#ab63fa"
         },
         "name": "1003316",
         "offsetgroup": "1003316",
         "orientation": "v",
         "showlegend": true,
         "type": "histogram",
         "x": [
          "2053013555631882655",
          "2053013555631882655"
         ],
         "xaxis": "x",
         "yaxis": "y"
        },
        {
         "alignmentgroup": "True",
         "bingroup": "x",
         "hovertemplate": "product_id=21408240<br>category_id=%{x}<br>count=%{y}<extra></extra>",
         "legendgroup": "21408240",
         "marker": {
          "color": "#FFA15A"
         },
         "name": "21408240",
         "offsetgroup": "21408240",
         "orientation": "v",
         "showlegend": true,
         "type": "histogram",
         "x": [
          "2053013561579406073",
          "2053013561579406073"
         ],
         "xaxis": "x",
         "yaxis": "y"
        },
        {
         "alignmentgroup": "True",
         "bingroup": "x",
         "hovertemplate": "product_id=2701419<br>category_id=%{x}<br>count=%{y}<extra></extra>",
         "legendgroup": "2701419",
         "marker": {
          "color": "#19d3f3"
         },
         "name": "2701419",
         "offsetgroup": "2701419",
         "orientation": "v",
         "showlegend": true,
         "type": "histogram",
         "x": [
          "2053013563911439225"
         ],
         "xaxis": "x",
         "yaxis": "y"
        },
        {
         "alignmentgroup": "True",
         "bingroup": "x",
         "hovertemplate": "product_id=10800076<br>category_id=%{x}<br>count=%{y}<extra></extra>",
         "legendgroup": "10800076",
         "marker": {
          "color": "#FF6692"
         },
         "name": "10800076",
         "offsetgroup": "10800076",
         "orientation": "v",
         "showlegend": true,
         "type": "histogram",
         "x": [
          "2053013554994348409"
         ],
         "xaxis": "x",
         "yaxis": "y"
        },
        {
         "alignmentgroup": "True",
         "bingroup": "x",
         "hovertemplate": "product_id=6700582<br>category_id=%{x}<br>count=%{y}<extra></extra>",
         "legendgroup": "6700582",
         "marker": {
          "color": "#B6E880"
         },
         "name": "6700582",
         "offsetgroup": "6700582",
         "orientation": "v",
         "showlegend": true,
         "type": "histogram",
         "x": [
          "2053013554247762257"
         ],
         "xaxis": "x",
         "yaxis": "y"
        },
        {
         "alignmentgroup": "True",
         "bingroup": "x",
         "hovertemplate": "product_id=1005116<br>category_id=%{x}<br>count=%{y}<extra></extra>",
         "legendgroup": "1005116",
         "marker": {
          "color": "#FF97FF"
         },
         "name": "1005116",
         "offsetgroup": "1005116",
         "orientation": "v",
         "showlegend": true,
         "type": "histogram",
         "x": [
          "2053013555631882655",
          "2053013555631882655"
         ],
         "xaxis": "x",
         "yaxis": "y"
        },
        {
         "alignmentgroup": "True",
         "bingroup": "x",
         "hovertemplate": "product_id=2200958<br>category_id=%{x}<br>count=%{y}<extra></extra>",
         "legendgroup": "2200958",
         "marker": {
          "color": "#FECB52"
         },
         "name": "2200958",
         "offsetgroup": "2200958",
         "orientation": "v",
         "showlegend": true,
         "type": "histogram",
         "x": [
          "2053013560555995845"
         ],
         "xaxis": "x",
         "yaxis": "y"
        },
        {
         "alignmentgroup": "True",
         "bingroup": "x",
         "hovertemplate": "product_id=1004241<br>category_id=%{x}<br>count=%{y}<extra></extra>",
         "legendgroup": "1004241",
         "marker": {
          "color": "#636efa"
         },
         "name": "1004241",
         "offsetgroup": "1004241",
         "orientation": "v",
         "showlegend": true,
         "type": "histogram",
         "x": [
          "2053013555631882655"
         ],
         "xaxis": "x",
         "yaxis": "y"
        },
        {
         "alignmentgroup": "True",
         "bingroup": "x",
         "hovertemplate": "product_id=1307322<br>category_id=%{x}<br>count=%{y}<extra></extra>",
         "legendgroup": "1307322",
         "marker": {
          "color": "#EF553B"
         },
         "name": "1307322",
         "offsetgroup": "1307322",
         "orientation": "v",
         "showlegend": true,
         "type": "histogram",
         "x": [
          "2053013558920217191"
         ],
         "xaxis": "x",
         "yaxis": "y"
        },
        {
         "alignmentgroup": "True",
         "bingroup": "x",
         "hovertemplate": "product_id=13200605<br>category_id=%{x}<br>count=%{y}<extra></extra>",
         "legendgroup": "13200605",
         "marker": {
          "color": "#00cc96"
         },
         "name": "13200605",
         "offsetgroup": "13200605",
         "orientation": "v",
         "showlegend": true,
         "type": "histogram",
         "x": [
          "2053013557192163841",
          "2053013557192163841",
          "2053013557192163841"
         ],
         "xaxis": "x",
         "yaxis": "y"
        },
        {
         "alignmentgroup": "True",
         "bingroup": "x",
         "hovertemplate": "product_id=41100058<br>category_id=%{x}<br>count=%{y}<extra></extra>",
         "legendgroup": "41100058",
         "marker": {
          "color": "#ab63fa"
         },
         "name": "41100058",
         "offsetgroup": "41100058",
         "orientation": "v",
         "showlegend": true,
         "type": "histogram",
         "x": [
          "2090228413959766319"
         ],
         "xaxis": "x",
         "yaxis": "y"
        },
        {
         "alignmentgroup": "True",
         "bingroup": "x",
         "hovertemplate": "product_id=1004840<br>category_id=%{x}<br>count=%{y}<extra></extra>",
         "legendgroup": "1004840",
         "marker": {
          "color": "#FFA15A"
         },
         "name": "1004840",
         "offsetgroup": "1004840",
         "orientation": "v",
         "showlegend": true,
         "type": "histogram",
         "x": [
          "2053013555631882655"
         ],
         "xaxis": "x",
         "yaxis": "y"
        },
        {
         "alignmentgroup": "True",
         "bingroup": "x",
         "hovertemplate": "product_id=12720155<br>category_id=%{x}<br>count=%{y}<extra></extra>",
         "legendgroup": "12720155",
         "marker": {
          "color": "#19d3f3"
         },
         "name": "12720155",
         "offsetgroup": "12720155",
         "orientation": "v",
         "showlegend": true,
         "type": "histogram",
         "x": [
          "2053013553559896355"
         ],
         "xaxis": "x",
         "yaxis": "y"
        },
        {
         "alignmentgroup": "True",
         "bingroup": "x",
         "hovertemplate": "product_id=18100030<br>category_id=%{x}<br>count=%{y}<extra></extra>",
         "legendgroup": "18100030",
         "marker": {
          "color": "#FF6692"
         },
         "name": "18100030",
         "offsetgroup": "18100030",
         "orientation": "v",
         "showlegend": true,
         "type": "histogram",
         "x": [
          "2053013557955527211"
         ],
         "xaxis": "x",
         "yaxis": "y"
        },
        {
         "alignmentgroup": "True",
         "bingroup": "x",
         "hovertemplate": "product_id=2700598<br>category_id=%{x}<br>count=%{y}<extra></extra>",
         "legendgroup": "2700598",
         "marker": {
          "color": "#B6E880"
         },
         "name": "2700598",
         "offsetgroup": "2700598",
         "orientation": "v",
         "showlegend": true,
         "type": "histogram",
         "x": [
          "2053013563911439225"
         ],
         "xaxis": "x",
         "yaxis": "y"
        },
        {
         "alignmentgroup": "True",
         "bingroup": "x",
         "hovertemplate": "product_id=5100851<br>category_id=%{x}<br>count=%{y}<extra></extra>",
         "legendgroup": "5100851",
         "marker": {
          "color": "#FF97FF"
         },
         "name": "5100851",
         "offsetgroup": "5100851",
         "orientation": "v",
         "showlegend": true,
         "type": "histogram",
         "x": [
          "2053013553375346967"
         ],
         "xaxis": "x",
         "yaxis": "y"
        },
        {
         "alignmentgroup": "True",
         "bingroup": "x",
         "hovertemplate": "product_id=17301611<br>category_id=%{x}<br>count=%{y}<extra></extra>",
         "legendgroup": "17301611",
         "marker": {
          "color": "#FECB52"
         },
         "name": "17301611",
         "offsetgroup": "17301611",
         "orientation": "v",
         "showlegend": true,
         "type": "histogram",
         "x": [
          "2053013553853497655"
         ],
         "xaxis": "x",
         "yaxis": "y"
        },
        {
         "alignmentgroup": "True",
         "bingroup": "x",
         "hovertemplate": "product_id=44300026<br>category_id=%{x}<br>count=%{y}<extra></extra>",
         "legendgroup": "44300026",
         "marker": {
          "color": "#636efa"
         },
         "name": "44300026",
         "offsetgroup": "44300026",
         "orientation": "v",
         "showlegend": true,
         "type": "histogram",
         "x": [
          "2100825583029060150"
         ],
         "xaxis": "x",
         "yaxis": "y"
        },
        {
         "alignmentgroup": "True",
         "bingroup": "x",
         "hovertemplate": "product_id=5700662<br>category_id=%{x}<br>count=%{y}<extra></extra>",
         "legendgroup": "5700662",
         "marker": {
          "color": "#EF553B"
         },
         "name": "5700662",
         "offsetgroup": "5700662",
         "orientation": "v",
         "showlegend": true,
         "type": "histogram",
         "x": [
          "2053013553970938175"
         ],
         "xaxis": "x",
         "yaxis": "y"
        },
        {
         "alignmentgroup": "True",
         "bingroup": "x",
         "hovertemplate": "product_id=12301394<br>category_id=%{x}<br>count=%{y}<extra></extra>",
         "legendgroup": "12301394",
         "marker": {
          "color": "#00cc96"
         },
         "name": "12301394",
         "offsetgroup": "12301394",
         "orientation": "v",
         "showlegend": true,
         "type": "histogram",
         "x": [
          "2053013556311359947"
         ],
         "xaxis": "x",
         "yaxis": "y"
        },
        {
         "alignmentgroup": "True",
         "bingroup": "x",
         "hovertemplate": "product_id=1307255<br>category_id=%{x}<br>count=%{y}<extra></extra>",
         "legendgroup": "1307255",
         "marker": {
          "color": "#ab63fa"
         },
         "name": "1307255",
         "offsetgroup": "1307255",
         "orientation": "v",
         "showlegend": true,
         "type": "histogram",
         "x": [
          "2053013558920217191"
         ],
         "xaxis": "x",
         "yaxis": "y"
        },
        {
         "alignmentgroup": "True",
         "bingroup": "x",
         "hovertemplate": "product_id=13600340<br>category_id=%{x}<br>count=%{y}<extra></extra>",
         "legendgroup": "13600340",
         "marker": {
          "color": "#FFA15A"
         },
         "name": "13600340",
         "offsetgroup": "13600340",
         "orientation": "v",
         "showlegend": true,
         "type": "histogram",
         "x": [
          "2053013557477376525"
         ],
         "xaxis": "x",
         "yaxis": "y"
        },
        {
         "alignmentgroup": "True",
         "bingroup": "x",
         "hovertemplate": "product_id=52000038<br>category_id=%{x}<br>count=%{y}<extra></extra>",
         "legendgroup": "52000038",
         "marker": {
          "color": "#19d3f3"
         },
         "name": "52000038",
         "offsetgroup": "52000038",
         "orientation": "v",
         "showlegend": true,
         "type": "histogram",
         "x": [
          "2137704922018218396"
         ],
         "xaxis": "x",
         "yaxis": "y"
        },
        {
         "alignmentgroup": "True",
         "bingroup": "x",
         "hovertemplate": "product_id=7100133<br>category_id=%{x}<br>count=%{y}<extra></extra>",
         "legendgroup": "7100133",
         "marker": {
          "color": "#FF6692"
         },
         "name": "7100133",
         "offsetgroup": "7100133",
         "orientation": "v",
         "showlegend": true,
         "type": "histogram",
         "x": [
          "2053013555464110485"
         ],
         "xaxis": "x",
         "yaxis": "y"
        },
        {
         "alignmentgroup": "True",
         "bingroup": "x",
         "hovertemplate": "product_id=22700202<br>category_id=%{x}<br>count=%{y}<extra></extra>",
         "legendgroup": "22700202",
         "marker": {
          "color": "#B6E880"
         },
         "name": "22700202",
         "offsetgroup": "22700202",
         "orientation": "v",
         "showlegend": true,
         "type": "histogram",
         "x": [
          "2053013556168753601"
         ],
         "xaxis": "x",
         "yaxis": "y"
        },
        {
         "alignmentgroup": "True",
         "bingroup": "x",
         "hovertemplate": "product_id=1004834<br>category_id=%{x}<br>count=%{y}<extra></extra>",
         "legendgroup": "1004834",
         "marker": {
          "color": "#FF97FF"
         },
         "name": "1004834",
         "offsetgroup": "1004834",
         "orientation": "v",
         "showlegend": true,
         "type": "histogram",
         "x": [
          "2053013555631882655"
         ],
         "xaxis": "x",
         "yaxis": "y"
        },
        {
         "alignmentgroup": "True",
         "bingroup": "x",
         "hovertemplate": "product_id=1004833<br>category_id=%{x}<br>count=%{y}<extra></extra>",
         "legendgroup": "1004833",
         "marker": {
          "color": "#FECB52"
         },
         "name": "1004833",
         "offsetgroup": "1004833",
         "orientation": "v",
         "showlegend": true,
         "type": "histogram",
         "x": [
          "2053013555631882655"
         ],
         "xaxis": "x",
         "yaxis": "y"
        },
        {
         "alignmentgroup": "True",
         "bingroup": "x",
         "hovertemplate": "product_id=5800506<br>category_id=%{x}<br>count=%{y}<extra></extra>",
         "legendgroup": "5800506",
         "marker": {
          "color": "#636efa"
         },
         "name": "5800506",
         "offsetgroup": "5800506",
         "orientation": "v",
         "showlegend": true,
         "type": "histogram",
         "x": [
          "2053013553945772349"
         ],
         "xaxis": "x",
         "yaxis": "y"
        },
        {
         "alignmentgroup": "True",
         "bingroup": "x",
         "hovertemplate": "product_id=15100337<br>category_id=%{x}<br>count=%{y}<extra></extra>",
         "legendgroup": "15100337",
         "marker": {
          "color": "#EF553B"
         },
         "name": "15100337",
         "offsetgroup": "15100337",
         "orientation": "v",
         "showlegend": true,
         "type": "histogram",
         "x": [
          "2053013557024391671"
         ],
         "xaxis": "x",
         "yaxis": "y"
        },
        {
         "alignmentgroup": "True",
         "bingroup": "x",
         "hovertemplate": "product_id=1005234<br>category_id=%{x}<br>count=%{y}<extra></extra>",
         "legendgroup": "1005234",
         "marker": {
          "color": "#00cc96"
         },
         "name": "1005234",
         "offsetgroup": "1005234",
         "orientation": "v",
         "showlegend": true,
         "type": "histogram",
         "x": [
          "2053013555631882655"
         ],
         "xaxis": "x",
         "yaxis": "y"
        },
        {
         "alignmentgroup": "True",
         "bingroup": "x",
         "hovertemplate": "product_id=15100148<br>category_id=%{x}<br>count=%{y}<extra></extra>",
         "legendgroup": "15100148",
         "marker": {
          "color": "#ab63fa"
         },
         "name": "15100148",
         "offsetgroup": "15100148",
         "orientation": "v",
         "showlegend": true,
         "type": "histogram",
         "x": [
          "2053013557024391671"
         ],
         "xaxis": "x",
         "yaxis": "y"
        },
        {
         "alignmentgroup": "True",
         "bingroup": "x",
         "hovertemplate": "product_id=1307012<br>category_id=%{x}<br>count=%{y}<extra></extra>",
         "legendgroup": "1307012",
         "marker": {
          "color": "#FFA15A"
         },
         "name": "1307012",
         "offsetgroup": "1307012",
         "orientation": "v",
         "showlegend": true,
         "type": "histogram",
         "x": [
          "2053013558920217191"
         ],
         "xaxis": "x",
         "yaxis": "y"
        },
        {
         "alignmentgroup": "True",
         "bingroup": "x",
         "hovertemplate": "product_id=36600031<br>category_id=%{x}<br>count=%{y}<extra></extra>",
         "legendgroup": "36600031",
         "marker": {
          "color": "#19d3f3"
         },
         "name": "36600031",
         "offsetgroup": "36600031",
         "orientation": "v",
         "showlegend": true,
         "type": "histogram",
         "x": [
          "2070747671722722162"
         ],
         "xaxis": "x",
         "yaxis": "y"
        },
        {
         "alignmentgroup": "True",
         "bingroup": "x",
         "hovertemplate": "product_id=1307065<br>category_id=%{x}<br>count=%{y}<extra></extra>",
         "legendgroup": "1307065",
         "marker": {
          "color": "#FF6692"
         },
         "name": "1307065",
         "offsetgroup": "1307065",
         "orientation": "v",
         "showlegend": true,
         "type": "histogram",
         "x": [
          "2053013558920217191"
         ],
         "xaxis": "x",
         "yaxis": "y"
        },
        {
         "alignmentgroup": "True",
         "bingroup": "x",
         "hovertemplate": "product_id=22700007<br>category_id=%{x}<br>count=%{y}<extra></extra>",
         "legendgroup": "22700007",
         "marker": {
          "color": "#B6E880"
         },
         "name": "22700007",
         "offsetgroup": "22700007",
         "orientation": "v",
         "showlegend": true,
         "type": "histogram",
         "x": [
          "2053013556168753601"
         ],
         "xaxis": "x",
         "yaxis": "y"
        },
        {
         "alignmentgroup": "True",
         "bingroup": "x",
         "hovertemplate": "product_id=26404402<br>category_id=%{x}<br>count=%{y}<extra></extra>",
         "legendgroup": "26404402",
         "marker": {
          "color": "#FF97FF"
         },
         "name": "26404402",
         "offsetgroup": "26404402",
         "orientation": "v",
         "showlegend": true,
         "type": "histogram",
         "x": [
          "2053013563651392361"
         ],
         "xaxis": "x",
         "yaxis": "y"
        },
        {
         "alignmentgroup": "True",
         "bingroup": "x",
         "hovertemplate": "product_id=15800155<br>category_id=%{x}<br>count=%{y}<extra></extra>",
         "legendgroup": "15800155",
         "marker": {
          "color": "#FECB52"
         },
         "name": "15800155",
         "offsetgroup": "15800155",
         "orientation": "v",
         "showlegend": true,
         "type": "histogram",
         "x": [
          "2053013560144954031"
         ],
         "xaxis": "x",
         "yaxis": "y"
        },
        {
         "alignmentgroup": "True",
         "bingroup": "x",
         "hovertemplate": "product_id=1307519<br>category_id=%{x}<br>count=%{y}<extra></extra>",
         "legendgroup": "1307519",
         "marker": {
          "color": "#636efa"
         },
         "name": "1307519",
         "offsetgroup": "1307519",
         "orientation": "v",
         "showlegend": true,
         "type": "histogram",
         "x": [
          "2053013558920217191"
         ],
         "xaxis": "x",
         "yaxis": "y"
        },
        {
         "alignmentgroup": "True",
         "bingroup": "x",
         "hovertemplate": "product_id=50600085<br>category_id=%{x}<br>count=%{y}<extra></extra>",
         "legendgroup": "50600085",
         "marker": {
          "color": "#EF553B"
         },
         "name": "50600085",
         "offsetgroup": "50600085",
         "orientation": "v",
         "showlegend": true,
         "type": "histogram",
         "x": [
          "2134905044833666047"
         ],
         "xaxis": "x",
         "yaxis": "y"
        },
        {
         "alignmentgroup": "True",
         "bingroup": "x",
         "hovertemplate": "product_id=30000218<br>category_id=%{x}<br>count=%{y}<extra></extra>",
         "legendgroup": "30000218",
         "marker": {
          "color": "#00cc96"
         },
         "name": "30000218",
         "offsetgroup": "30000218",
         "orientation": "v",
         "showlegend": true,
         "type": "histogram",
         "x": [
          "2127425436764865054"
         ],
         "xaxis": "x",
         "yaxis": "y"
        },
        {
         "alignmentgroup": "True",
         "bingroup": "x",
         "hovertemplate": "product_id=1004322<br>category_id=%{x}<br>count=%{y}<extra></extra>",
         "legendgroup": "1004322",
         "marker": {
          "color": "#ab63fa"
         },
         "name": "1004322",
         "offsetgroup": "1004322",
         "orientation": "v",
         "showlegend": true,
         "type": "histogram",
         "x": [
          "2053013555631882655"
         ],
         "xaxis": "x",
         "yaxis": "y"
        },
        {
         "alignmentgroup": "True",
         "bingroup": "x",
         "hovertemplate": "product_id=22700084<br>category_id=%{x}<br>count=%{y}<extra></extra>",
         "legendgroup": "22700084",
         "marker": {
          "color": "#FFA15A"
         },
         "name": "22700084",
         "offsetgroup": "22700084",
         "orientation": "v",
         "showlegend": true,
         "type": "histogram",
         "x": [
          "2053013556168753601"
         ],
         "xaxis": "x",
         "yaxis": "y"
        },
        {
         "alignmentgroup": "True",
         "bingroup": "x",
         "hovertemplate": "product_id=12710321<br>category_id=%{x}<br>count=%{y}<extra></extra>",
         "legendgroup": "12710321",
         "marker": {
          "color": "#19d3f3"
         },
         "name": "12710321",
         "offsetgroup": "12710321",
         "orientation": "v",
         "showlegend": true,
         "type": "histogram",
         "x": [
          "2053013553559896355"
         ],
         "xaxis": "x",
         "yaxis": "y"
        },
        {
         "alignmentgroup": "True",
         "bingroup": "x",
         "hovertemplate": "product_id=27800061<br>category_id=%{x}<br>count=%{y}<extra></extra>",
         "legendgroup": "27800061",
         "marker": {
          "color": "#FF6692"
         },
         "name": "27800061",
         "offsetgroup": "27800061",
         "orientation": "v",
         "showlegend": true,
         "type": "histogram",
         "x": [
          "2079713978300236035"
         ],
         "xaxis": "x",
         "yaxis": "y"
        },
        {
         "alignmentgroup": "True",
         "bingroup": "x",
         "hovertemplate": "product_id=17601982<br>category_id=%{x}<br>count=%{y}<extra></extra>",
         "legendgroup": "17601982",
         "marker": {
          "color": "#B6E880"
         },
         "name": "17601982",
         "offsetgroup": "17601982",
         "orientation": "v",
         "showlegend": true,
         "type": "histogram",
         "x": [
          "2053013558895051365"
         ],
         "xaxis": "x",
         "yaxis": "y"
        },
        {
         "alignmentgroup": "True",
         "bingroup": "x",
         "hovertemplate": "product_id=1600587<br>category_id=%{x}<br>count=%{y}<extra></extra>",
         "legendgroup": "1600587",
         "marker": {
          "color": "#FF97FF"
         },
         "name": "1600587",
         "offsetgroup": "1600587",
         "orientation": "v",
         "showlegend": true,
         "type": "histogram",
         "x": [
          "2053013553056579841"
         ],
         "xaxis": "x",
         "yaxis": "y"
        },
        {
         "alignmentgroup": "True",
         "bingroup": "x",
         "hovertemplate": "product_id=17301421<br>category_id=%{x}<br>count=%{y}<extra></extra>",
         "legendgroup": "17301421",
         "marker": {
          "color": "#FECB52"
         },
         "name": "17301421",
         "offsetgroup": "17301421",
         "orientation": "v",
         "showlegend": true,
         "type": "histogram",
         "x": [
          "2053013553853497655"
         ],
         "xaxis": "x",
         "yaxis": "y"
        },
        {
         "alignmentgroup": "True",
         "bingroup": "x",
         "hovertemplate": "product_id=1004720<br>category_id=%{x}<br>count=%{y}<extra></extra>",
         "legendgroup": "1004720",
         "marker": {
          "color": "#636efa"
         },
         "name": "1004720",
         "offsetgroup": "1004720",
         "orientation": "v",
         "showlegend": true,
         "type": "histogram",
         "x": [
          "2053013555631882655"
         ],
         "xaxis": "x",
         "yaxis": "y"
        },
        {
         "alignmentgroup": "True",
         "bingroup": "x",
         "hovertemplate": "product_id=4600541<br>category_id=%{x}<br>count=%{y}<extra></extra>",
         "legendgroup": "4600541",
         "marker": {
          "color": "#EF553B"
         },
         "name": "4600541",
         "offsetgroup": "4600541",
         "orientation": "v",
         "showlegend": true,
         "type": "histogram",
         "x": [
          "2053013563944993659"
         ],
         "xaxis": "x",
         "yaxis": "y"
        },
        {
         "alignmentgroup": "True",
         "bingroup": "x",
         "hovertemplate": "product_id=41100050<br>category_id=%{x}<br>count=%{y}<extra></extra>",
         "legendgroup": "41100050",
         "marker": {
          "color": "#00cc96"
         },
         "name": "41100050",
         "offsetgroup": "41100050",
         "orientation": "v",
         "showlegend": true,
         "type": "histogram",
         "x": [
          "2090228413959766319"
         ],
         "xaxis": "x",
         "yaxis": "y"
        },
        {
         "alignmentgroup": "True",
         "bingroup": "x",
         "hovertemplate": "product_id=1306571<br>category_id=%{x}<br>count=%{y}<extra></extra>",
         "legendgroup": "1306571",
         "marker": {
          "color": "#ab63fa"
         },
         "name": "1306571",
         "offsetgroup": "1306571",
         "orientation": "v",
         "showlegend": true,
         "type": "histogram",
         "x": [
          "2053013558920217191"
         ],
         "xaxis": "x",
         "yaxis": "y"
        },
        {
         "alignmentgroup": "True",
         "bingroup": "x",
         "hovertemplate": "product_id=5700352<br>category_id=%{x}<br>count=%{y}<extra></extra>",
         "legendgroup": "5700352",
         "marker": {
          "color": "#FFA15A"
         },
         "name": "5700352",
         "offsetgroup": "5700352",
         "orientation": "v",
         "showlegend": true,
         "type": "histogram",
         "x": [
          "2053013553970938175"
         ],
         "xaxis": "x",
         "yaxis": "y"
        },
        {
         "alignmentgroup": "True",
         "bingroup": "x",
         "hovertemplate": "product_id=53900036<br>category_id=%{x}<br>count=%{y}<extra></extra>",
         "legendgroup": "53900036",
         "marker": {
          "color": "#19d3f3"
         },
         "name": "53900036",
         "offsetgroup": "53900036",
         "orientation": "v",
         "showlegend": true,
         "type": "histogram",
         "x": [
          "2144916515806248980"
         ],
         "xaxis": "x",
         "yaxis": "y"
        },
        {
         "alignmentgroup": "True",
         "bingroup": "x",
         "hovertemplate": "product_id=1003869<br>category_id=%{x}<br>count=%{y}<extra></extra>",
         "legendgroup": "1003869",
         "marker": {
          "color": "#FF6692"
         },
         "name": "1003869",
         "offsetgroup": "1003869",
         "orientation": "v",
         "showlegend": true,
         "type": "histogram",
         "x": [
          "2053013555631882655"
         ],
         "xaxis": "x",
         "yaxis": "y"
        },
        {
         "alignmentgroup": "True",
         "bingroup": "x",
         "hovertemplate": "product_id=13100745<br>category_id=%{x}<br>count=%{y}<extra></extra>",
         "legendgroup": "13100745",
         "marker": {
          "color": "#B6E880"
         },
         "name": "13100745",
         "offsetgroup": "13100745",
         "orientation": "v",
         "showlegend": true,
         "type": "histogram",
         "x": [
          "2053013553526341921"
         ],
         "xaxis": "x",
         "yaxis": "y"
        },
        {
         "alignmentgroup": "True",
         "bingroup": "x",
         "hovertemplate": "product_id=5100797<br>category_id=%{x}<br>count=%{y}<extra></extra>",
         "legendgroup": "5100797",
         "marker": {
          "color": "#FF97FF"
         },
         "name": "5100797",
         "offsetgroup": "5100797",
         "orientation": "v",
         "showlegend": true,
         "type": "histogram",
         "x": [
          "2053013553341792533"
         ],
         "xaxis": "x",
         "yaxis": "y"
        },
        {
         "alignmentgroup": "True",
         "bingroup": "x",
         "hovertemplate": "product_id=16700384<br>category_id=%{x}<br>count=%{y}<extra></extra>",
         "legendgroup": "16700384",
         "marker": {
          "color": "#FECB52"
         },
         "name": "16700384",
         "offsetgroup": "16700384",
         "orientation": "v",
         "showlegend": true,
         "type": "histogram",
         "x": [
          "2053013559901684381",
          "2053013559901684381"
         ],
         "xaxis": "x",
         "yaxis": "y"
        },
        {
         "alignmentgroup": "True",
         "bingroup": "x",
         "hovertemplate": "product_id=1305977<br>category_id=%{x}<br>count=%{y}<extra></extra>",
         "legendgroup": "1305977",
         "marker": {
          "color": "#636efa"
         },
         "name": "1305977",
         "offsetgroup": "1305977",
         "orientation": "v",
         "showlegend": true,
         "type": "histogram",
         "x": [
          "2053013558920217191"
         ],
         "xaxis": "x",
         "yaxis": "y"
        },
        {
         "alignmentgroup": "True",
         "bingroup": "x",
         "hovertemplate": "product_id=2702611<br>category_id=%{x}<br>count=%{y}<extra></extra>",
         "legendgroup": "2702611",
         "marker": {
          "color": "#EF553B"
         },
         "name": "2702611",
         "offsetgroup": "2702611",
         "orientation": "v",
         "showlegend": true,
         "type": "histogram",
         "x": [
          "2053013563911439225"
         ],
         "xaxis": "x",
         "yaxis": "y"
        },
        {
         "alignmentgroup": "True",
         "bingroup": "x",
         "hovertemplate": "product_id=1004779<br>category_id=%{x}<br>count=%{y}<extra></extra>",
         "legendgroup": "1004779",
         "marker": {
          "color": "#00cc96"
         },
         "name": "1004779",
         "offsetgroup": "1004779",
         "orientation": "v",
         "showlegend": true,
         "type": "histogram",
         "x": [
          "2053013555631882655"
         ],
         "xaxis": "x",
         "yaxis": "y"
        },
        {
         "alignmentgroup": "True",
         "bingroup": "x",
         "hovertemplate": "product_id=24400436<br>category_id=%{x}<br>count=%{y}<extra></extra>",
         "legendgroup": "24400436",
         "marker": {
          "color": "#ab63fa"
         },
         "name": "24400436",
         "offsetgroup": "24400436",
         "orientation": "v",
         "showlegend": true,
         "type": "histogram",
         "x": [
          "2053013563215184719"
         ],
         "xaxis": "x",
         "yaxis": "y"
        },
        {
         "alignmentgroup": "True",
         "bingroup": "x",
         "hovertemplate": "product_id=16900083<br>category_id=%{x}<br>count=%{y}<extra></extra>",
         "legendgroup": "16900083",
         "marker": {
          "color": "#FFA15A"
         },
         "name": "16900083",
         "offsetgroup": "16900083",
         "orientation": "v",
         "showlegend": true,
         "type": "histogram",
         "x": [
          "2053013558433677895"
         ],
         "xaxis": "x",
         "yaxis": "y"
        },
        {
         "alignmentgroup": "True",
         "bingroup": "x",
         "hovertemplate": "product_id=26204072<br>category_id=%{x}<br>count=%{y}<extra></extra>",
         "legendgroup": "26204072",
         "marker": {
          "color": "#19d3f3"
         },
         "name": "26204072",
         "offsetgroup": "26204072",
         "orientation": "v",
         "showlegend": true,
         "type": "histogram",
         "x": [
          "2053013563693335403"
         ],
         "xaxis": "x",
         "yaxis": "y"
        },
        {
         "alignmentgroup": "True",
         "bingroup": "x",
         "hovertemplate": "product_id=12701967<br>category_id=%{x}<br>count=%{y}<extra></extra>",
         "legendgroup": "12701967",
         "marker": {
          "color": "#FF6692"
         },
         "name": "12701967",
         "offsetgroup": "12701967",
         "orientation": "v",
         "showlegend": true,
         "type": "histogram",
         "x": [
          "2053013553559896355"
         ],
         "xaxis": "x",
         "yaxis": "y"
        },
        {
         "alignmentgroup": "True",
         "bingroup": "x",
         "hovertemplate": "product_id=5801483<br>category_id=%{x}<br>count=%{y}<extra></extra>",
         "legendgroup": "5801483",
         "marker": {
          "color": "#B6E880"
         },
         "name": "5801483",
         "offsetgroup": "5801483",
         "orientation": "v",
         "showlegend": true,
         "type": "histogram",
         "x": [
          "2053013553945772349"
         ],
         "xaxis": "x",
         "yaxis": "y"
        },
        {
         "alignmentgroup": "True",
         "bingroup": "x",
         "hovertemplate": "product_id=17300136<br>category_id=%{x}<br>count=%{y}<extra></extra>",
         "legendgroup": "17300136",
         "marker": {
          "color": "#FF97FF"
         },
         "name": "17300136",
         "offsetgroup": "17300136",
         "orientation": "v",
         "showlegend": true,
         "type": "histogram",
         "x": [
          "2053013553853497655"
         ],
         "xaxis": "x",
         "yaxis": "y"
        },
        {
         "alignmentgroup": "True",
         "bingroup": "x",
         "hovertemplate": "product_id=45601414<br>category_id=%{x}<br>count=%{y}<extra></extra>",
         "legendgroup": "45601414",
         "marker": {
          "color": "#FECB52"
         },
         "name": "45601414",
         "offsetgroup": "45601414",
         "orientation": "v",
         "showlegend": true,
         "type": "histogram",
         "x": [
          "2116907524572577889"
         ],
         "xaxis": "x",
         "yaxis": "y"
        },
        {
         "alignmentgroup": "True",
         "bingroup": "x",
         "hovertemplate": "product_id=12708306<br>category_id=%{x}<br>count=%{y}<extra></extra>",
         "legendgroup": "12708306",
         "marker": {
          "color": "#636efa"
         },
         "name": "12708306",
         "offsetgroup": "12708306",
         "orientation": "v",
         "showlegend": true,
         "type": "histogram",
         "x": [
          "2053013553559896355"
         ],
         "xaxis": "x",
         "yaxis": "y"
        },
        {
         "alignmentgroup": "True",
         "bingroup": "x",
         "hovertemplate": "product_id=1004740<br>category_id=%{x}<br>count=%{y}<extra></extra>",
         "legendgroup": "1004740",
         "marker": {
          "color": "#EF553B"
         },
         "name": "1004740",
         "offsetgroup": "1004740",
         "orientation": "v",
         "showlegend": true,
         "type": "histogram",
         "x": [
          "2053013555631882655"
         ],
         "xaxis": "x",
         "yaxis": "y"
        },
        {
         "alignmentgroup": "True",
         "bingroup": "x",
         "hovertemplate": "product_id=12300231<br>category_id=%{x}<br>count=%{y}<extra></extra>",
         "legendgroup": "12300231",
         "marker": {
          "color": "#00cc96"
         },
         "name": "12300231",
         "offsetgroup": "12300231",
         "orientation": "v",
         "showlegend": true,
         "type": "histogram",
         "x": [
          "2053013556311359947"
         ],
         "xaxis": "x",
         "yaxis": "y"
        },
        {
         "alignmentgroup": "True",
         "bingroup": "x",
         "hovertemplate": "product_id=1004748<br>category_id=%{x}<br>count=%{y}<extra></extra>",
         "legendgroup": "1004748",
         "marker": {
          "color": "#ab63fa"
         },
         "name": "1004748",
         "offsetgroup": "1004748",
         "orientation": "v",
         "showlegend": true,
         "type": "histogram",
         "x": [
          "2053013555631882655"
         ],
         "xaxis": "x",
         "yaxis": "y"
        },
        {
         "alignmentgroup": "True",
         "bingroup": "x",
         "hovertemplate": "product_id=12300394<br>category_id=%{x}<br>count=%{y}<extra></extra>",
         "legendgroup": "12300394",
         "marker": {
          "color": "#FFA15A"
         },
         "name": "12300394",
         "offsetgroup": "12300394",
         "orientation": "v",
         "showlegend": true,
         "type": "histogram",
         "x": [
          "2053013556311359947"
         ],
         "xaxis": "x",
         "yaxis": "y"
        },
        {
         "alignmentgroup": "True",
         "bingroup": "x",
         "hovertemplate": "product_id=42900023<br>category_id=%{x}<br>count=%{y}<extra></extra>",
         "legendgroup": "42900023",
         "marker": {
          "color": "#19d3f3"
         },
         "name": "42900023",
         "offsetgroup": "42900023",
         "orientation": "v",
         "showlegend": true,
         "type": "histogram",
         "x": [
          "2098563450757186313"
         ],
         "xaxis": "x",
         "yaxis": "y"
        },
        {
         "alignmentgroup": "True",
         "bingroup": "x",
         "hovertemplate": "product_id=34800573<br>category_id=%{x}<br>count=%{y}<extra></extra>",
         "legendgroup": "34800573",
         "marker": {
          "color": "#FF6692"
         },
         "name": "34800573",
         "offsetgroup": "34800573",
         "orientation": "v",
         "showlegend": true,
         "type": "histogram",
         "x": [
          "2062461754293617058"
         ],
         "xaxis": "x",
         "yaxis": "y"
        },
        {
         "alignmentgroup": "True",
         "bingroup": "x",
         "hovertemplate": "product_id=1306895<br>category_id=%{x}<br>count=%{y}<extra></extra>",
         "legendgroup": "1306895",
         "marker": {
          "color": "#B6E880"
         },
         "name": "1306895",
         "offsetgroup": "1306895",
         "orientation": "v",
         "showlegend": true,
         "type": "histogram",
         "x": [
          "2053013558920217191"
         ],
         "xaxis": "x",
         "yaxis": "y"
        },
        {
         "alignmentgroup": "True",
         "bingroup": "x",
         "hovertemplate": "product_id=12705258<br>category_id=%{x}<br>count=%{y}<extra></extra>",
         "legendgroup": "12705258",
         "marker": {
          "color": "#FF97FF"
         },
         "name": "12705258",
         "offsetgroup": "12705258",
         "orientation": "v",
         "showlegend": true,
         "type": "histogram",
         "x": [
          "2053013553559896355"
         ],
         "xaxis": "x",
         "yaxis": "y"
        },
        {
         "alignmentgroup": "True",
         "bingroup": "x",
         "hovertemplate": "product_id=21400135<br>category_id=%{x}<br>count=%{y}<extra></extra>",
         "legendgroup": "21400135",
         "marker": {
          "color": "#FECB52"
         },
         "name": "21400135",
         "offsetgroup": "21400135",
         "orientation": "v",
         "showlegend": true,
         "type": "histogram",
         "x": [
          "2053013561579406073"
         ],
         "xaxis": "x",
         "yaxis": "y"
        },
        {
         "alignmentgroup": "True",
         "bingroup": "x",
         "hovertemplate": "product_id=26402378<br>category_id=%{x}<br>count=%{y}<extra></extra>",
         "legendgroup": "26402378",
         "marker": {
          "color": "#636efa"
         },
         "name": "26402378",
         "offsetgroup": "26402378",
         "orientation": "v",
         "showlegend": true,
         "type": "histogram",
         "x": [
          "2053013563651392361"
         ],
         "xaxis": "x",
         "yaxis": "y"
        },
        {
         "alignmentgroup": "True",
         "bingroup": "x",
         "hovertemplate": "product_id=57300036<br>category_id=%{x}<br>count=%{y}<extra></extra>",
         "legendgroup": "57300036",
         "marker": {
          "color": "#EF553B"
         },
         "name": "57300036",
         "offsetgroup": "57300036",
         "orientation": "v",
         "showlegend": true,
         "type": "histogram",
         "x": [
          "2173216765583032544"
         ],
         "xaxis": "x",
         "yaxis": "y"
        },
        {
         "alignmentgroup": "True",
         "bingroup": "x",
         "hovertemplate": "product_id=40900007<br>category_id=%{x}<br>count=%{y}<extra></extra>",
         "legendgroup": "40900007",
         "marker": {
          "color": "#00cc96"
         },
         "name": "40900007",
         "offsetgroup": "40900007",
         "orientation": "v",
         "showlegend": true,
         "type": "histogram",
         "x": [
          "2127425434894205468"
         ],
         "xaxis": "x",
         "yaxis": "y"
        },
        {
         "alignmentgroup": "True",
         "bingroup": "x",
         "hovertemplate": "product_id=21405259<br>category_id=%{x}<br>count=%{y}<extra></extra>",
         "legendgroup": "21405259",
         "marker": {
          "color": "#ab63fa"
         },
         "name": "21405259",
         "offsetgroup": "21405259",
         "orientation": "v",
         "showlegend": true,
         "type": "histogram",
         "x": [
          "2053013561579406073"
         ],
         "xaxis": "x",
         "yaxis": "y"
        },
        {
         "alignmentgroup": "True",
         "bingroup": "x",
         "hovertemplate": "product_id=17300435<br>category_id=%{x}<br>count=%{y}<extra></extra>",
         "legendgroup": "17300435",
         "marker": {
          "color": "#FFA15A"
         },
         "name": "17300435",
         "offsetgroup": "17300435",
         "orientation": "v",
         "showlegend": true,
         "type": "histogram",
         "x": [
          "2053013553853497655"
         ],
         "xaxis": "x",
         "yaxis": "y"
        },
        {
         "alignmentgroup": "True",
         "bingroup": "x",
         "hovertemplate": "product_id=1303355<br>category_id=%{x}<br>count=%{y}<extra></extra>",
         "legendgroup": "1303355",
         "marker": {
          "color": "#19d3f3"
         },
         "name": "1303355",
         "offsetgroup": "1303355",
         "orientation": "v",
         "showlegend": true,
         "type": "histogram",
         "x": [
          "2053013558920217191"
         ],
         "xaxis": "x",
         "yaxis": "y"
        },
        {
         "alignmentgroup": "True",
         "bingroup": "x",
         "hovertemplate": "product_id=15100252<br>category_id=%{x}<br>count=%{y}<extra></extra>",
         "legendgroup": "15100252",
         "marker": {
          "color": "#FF6692"
         },
         "name": "15100252",
         "offsetgroup": "15100252",
         "orientation": "v",
         "showlegend": true,
         "type": "histogram",
         "x": [
          "2053013557024391671"
         ],
         "xaxis": "x",
         "yaxis": "y"
        },
        {
         "alignmentgroup": "True",
         "bingroup": "x",
         "hovertemplate": "product_id=21407128<br>category_id=%{x}<br>count=%{y}<extra></extra>",
         "legendgroup": "21407128",
         "marker": {
          "color": "#B6E880"
         },
         "name": "21407128",
         "offsetgroup": "21407128",
         "orientation": "v",
         "showlegend": true,
         "type": "histogram",
         "x": [
          "2053013561579406073"
         ],
         "xaxis": "x",
         "yaxis": "y"
        },
        {
         "alignmentgroup": "True",
         "bingroup": "x",
         "hovertemplate": "product_id=5100855<br>category_id=%{x}<br>count=%{y}<extra></extra>",
         "legendgroup": "5100855",
         "marker": {
          "color": "#FF97FF"
         },
         "name": "5100855",
         "offsetgroup": "5100855",
         "orientation": "v",
         "showlegend": true,
         "type": "histogram",
         "x": [
          "2053013553341792533"
         ],
         "xaxis": "x",
         "yaxis": "y"
        },
        {
         "alignmentgroup": "True",
         "bingroup": "x",
         "hovertemplate": "product_id=5801550<br>category_id=%{x}<br>count=%{y}<extra></extra>",
         "legendgroup": "5801550",
         "marker": {
          "color": "#FECB52"
         },
         "name": "5801550",
         "offsetgroup": "5801550",
         "orientation": "v",
         "showlegend": true,
         "type": "histogram",
         "x": [
          "2053013553945772349"
         ],
         "xaxis": "x",
         "yaxis": "y"
        },
        {
         "alignmentgroup": "True",
         "bingroup": "x",
         "hovertemplate": "product_id=4804420<br>category_id=%{x}<br>count=%{y}<extra></extra>",
         "legendgroup": "4804420",
         "marker": {
          "color": "#636efa"
         },
         "name": "4804420",
         "offsetgroup": "4804420",
         "orientation": "v",
         "showlegend": true,
         "type": "histogram",
         "x": [
          "2053013554658804075"
         ],
         "xaxis": "x",
         "yaxis": "y"
        },
        {
         "alignmentgroup": "True",
         "bingroup": "x",
         "hovertemplate": "product_id=1304315<br>category_id=%{x}<br>count=%{y}<extra></extra>",
         "legendgroup": "1304315",
         "marker": {
          "color": "#EF553B"
         },
         "name": "1304315",
         "offsetgroup": "1304315",
         "orientation": "v",
         "showlegend": true,
         "type": "histogram",
         "x": [
          "2053013558920217191"
         ],
         "xaxis": "x",
         "yaxis": "y"
        },
        {
         "alignmentgroup": "True",
         "bingroup": "x",
         "hovertemplate": "product_id=5801656<br>category_id=%{x}<br>count=%{y}<extra></extra>",
         "legendgroup": "5801656",
         "marker": {
          "color": "#00cc96"
         },
         "name": "5801656",
         "offsetgroup": "5801656",
         "orientation": "v",
         "showlegend": true,
         "type": "histogram",
         "x": [
          "2053013553945772349"
         ],
         "xaxis": "x",
         "yaxis": "y"
        },
        {
         "alignmentgroup": "True",
         "bingroup": "x",
         "hovertemplate": "product_id=26400273<br>category_id=%{x}<br>count=%{y}<extra></extra>",
         "legendgroup": "26400273",
         "marker": {
          "color": "#ab63fa"
         },
         "name": "26400273",
         "offsetgroup": "26400273",
         "orientation": "v",
         "showlegend": true,
         "type": "histogram",
         "x": [
          "2053013563651392361"
         ],
         "xaxis": "x",
         "yaxis": "y"
        },
        {
         "alignmentgroup": "True",
         "bingroup": "x",
         "hovertemplate": "product_id=41100033<br>category_id=%{x}<br>count=%{y}<extra></extra>",
         "legendgroup": "41100033",
         "marker": {
          "color": "#FFA15A"
         },
         "name": "41100033",
         "offsetgroup": "41100033",
         "orientation": "v",
         "showlegend": true,
         "type": "histogram",
         "x": [
          "2090228413959766319"
         ],
         "xaxis": "x",
         "yaxis": "y"
        },
        {
         "alignmentgroup": "True",
         "bingroup": "x",
         "hovertemplate": "product_id=34600119<br>category_id=%{x}<br>count=%{y}<extra></extra>",
         "legendgroup": "34600119",
         "marker": {
          "color": "#19d3f3"
         },
         "name": "34600119",
         "offsetgroup": "34600119",
         "orientation": "v",
         "showlegend": true,
         "type": "histogram",
         "x": [
          "2060981320581906480"
         ],
         "xaxis": "x",
         "yaxis": "y"
        },
        {
         "alignmentgroup": "True",
         "bingroup": "x",
         "hovertemplate": "product_id=12705151<br>category_id=%{x}<br>count=%{y}<extra></extra>",
         "legendgroup": "12705151",
         "marker": {
          "color": "#FF6692"
         },
         "name": "12705151",
         "offsetgroup": "12705151",
         "orientation": "v",
         "showlegend": true,
         "type": "histogram",
         "x": [
          "2053013553559896355"
         ],
         "xaxis": "x",
         "yaxis": "y"
        },
        {
         "alignmentgroup": "True",
         "bingroup": "x",
         "hovertemplate": "product_id=15700204<br>category_id=%{x}<br>count=%{y}<extra></extra>",
         "legendgroup": "15700204",
         "marker": {
          "color": "#B6E880"
         },
         "name": "15700204",
         "offsetgroup": "15700204",
         "orientation": "v",
         "showlegend": true,
         "type": "histogram",
         "x": [
          "2053013559733912211"
         ],
         "xaxis": "x",
         "yaxis": "y"
        }
       ],
       "layout": {
        "barmode": "relative",
        "legend": {
         "title": {
          "text": "product_id"
         },
         "tracegroupgap": 0
        },
        "margin": {
         "t": 60
        },
        "template": {
         "data": {
          "bar": [
           {
            "error_x": {
             "color": "#2a3f5f"
            },
            "error_y": {
             "color": "#2a3f5f"
            },
            "marker": {
             "line": {
              "color": "#E5ECF6",
              "width": 0.5
             }
            },
            "type": "bar"
           }
          ],
          "barpolar": [
           {
            "marker": {
             "line": {
              "color": "#E5ECF6",
              "width": 0.5
             }
            },
            "type": "barpolar"
           }
          ],
          "carpet": [
           {
            "aaxis": {
             "endlinecolor": "#2a3f5f",
             "gridcolor": "white",
             "linecolor": "white",
             "minorgridcolor": "white",
             "startlinecolor": "#2a3f5f"
            },
            "baxis": {
             "endlinecolor": "#2a3f5f",
             "gridcolor": "white",
             "linecolor": "white",
             "minorgridcolor": "white",
             "startlinecolor": "#2a3f5f"
            },
            "type": "carpet"
           }
          ],
          "choropleth": [
           {
            "colorbar": {
             "outlinewidth": 0,
             "ticks": ""
            },
            "type": "choropleth"
           }
          ],
          "contour": [
           {
            "colorbar": {
             "outlinewidth": 0,
             "ticks": ""
            },
            "colorscale": [
             [
              0,
              "#0d0887"
             ],
             [
              0.1111111111111111,
              "#46039f"
             ],
             [
              0.2222222222222222,
              "#7201a8"
             ],
             [
              0.3333333333333333,
              "#9c179e"
             ],
             [
              0.4444444444444444,
              "#bd3786"
             ],
             [
              0.5555555555555556,
              "#d8576b"
             ],
             [
              0.6666666666666666,
              "#ed7953"
             ],
             [
              0.7777777777777778,
              "#fb9f3a"
             ],
             [
              0.8888888888888888,
              "#fdca26"
             ],
             [
              1,
              "#f0f921"
             ]
            ],
            "type": "contour"
           }
          ],
          "contourcarpet": [
           {
            "colorbar": {
             "outlinewidth": 0,
             "ticks": ""
            },
            "type": "contourcarpet"
           }
          ],
          "heatmap": [
           {
            "colorbar": {
             "outlinewidth": 0,
             "ticks": ""
            },
            "colorscale": [
             [
              0,
              "#0d0887"
             ],
             [
              0.1111111111111111,
              "#46039f"
             ],
             [
              0.2222222222222222,
              "#7201a8"
             ],
             [
              0.3333333333333333,
              "#9c179e"
             ],
             [
              0.4444444444444444,
              "#bd3786"
             ],
             [
              0.5555555555555556,
              "#d8576b"
             ],
             [
              0.6666666666666666,
              "#ed7953"
             ],
             [
              0.7777777777777778,
              "#fb9f3a"
             ],
             [
              0.8888888888888888,
              "#fdca26"
             ],
             [
              1,
              "#f0f921"
             ]
            ],
            "type": "heatmap"
           }
          ],
          "heatmapgl": [
           {
            "colorbar": {
             "outlinewidth": 0,
             "ticks": ""
            },
            "colorscale": [
             [
              0,
              "#0d0887"
             ],
             [
              0.1111111111111111,
              "#46039f"
             ],
             [
              0.2222222222222222,
              "#7201a8"
             ],
             [
              0.3333333333333333,
              "#9c179e"
             ],
             [
              0.4444444444444444,
              "#bd3786"
             ],
             [
              0.5555555555555556,
              "#d8576b"
             ],
             [
              0.6666666666666666,
              "#ed7953"
             ],
             [
              0.7777777777777778,
              "#fb9f3a"
             ],
             [
              0.8888888888888888,
              "#fdca26"
             ],
             [
              1,
              "#f0f921"
             ]
            ],
            "type": "heatmapgl"
           }
          ],
          "histogram": [
           {
            "marker": {
             "colorbar": {
              "outlinewidth": 0,
              "ticks": ""
             }
            },
            "type": "histogram"
           }
          ],
          "histogram2d": [
           {
            "colorbar": {
             "outlinewidth": 0,
             "ticks": ""
            },
            "colorscale": [
             [
              0,
              "#0d0887"
             ],
             [
              0.1111111111111111,
              "#46039f"
             ],
             [
              0.2222222222222222,
              "#7201a8"
             ],
             [
              0.3333333333333333,
              "#9c179e"
             ],
             [
              0.4444444444444444,
              "#bd3786"
             ],
             [
              0.5555555555555556,
              "#d8576b"
             ],
             [
              0.6666666666666666,
              "#ed7953"
             ],
             [
              0.7777777777777778,
              "#fb9f3a"
             ],
             [
              0.8888888888888888,
              "#fdca26"
             ],
             [
              1,
              "#f0f921"
             ]
            ],
            "type": "histogram2d"
           }
          ],
          "histogram2dcontour": [
           {
            "colorbar": {
             "outlinewidth": 0,
             "ticks": ""
            },
            "colorscale": [
             [
              0,
              "#0d0887"
             ],
             [
              0.1111111111111111,
              "#46039f"
             ],
             [
              0.2222222222222222,
              "#7201a8"
             ],
             [
              0.3333333333333333,
              "#9c179e"
             ],
             [
              0.4444444444444444,
              "#bd3786"
             ],
             [
              0.5555555555555556,
              "#d8576b"
             ],
             [
              0.6666666666666666,
              "#ed7953"
             ],
             [
              0.7777777777777778,
              "#fb9f3a"
             ],
             [
              0.8888888888888888,
              "#fdca26"
             ],
             [
              1,
              "#f0f921"
             ]
            ],
            "type": "histogram2dcontour"
           }
          ],
          "mesh3d": [
           {
            "colorbar": {
             "outlinewidth": 0,
             "ticks": ""
            },
            "type": "mesh3d"
           }
          ],
          "parcoords": [
           {
            "line": {
             "colorbar": {
              "outlinewidth": 0,
              "ticks": ""
             }
            },
            "type": "parcoords"
           }
          ],
          "pie": [
           {
            "automargin": true,
            "type": "pie"
           }
          ],
          "scatter": [
           {
            "marker": {
             "colorbar": {
              "outlinewidth": 0,
              "ticks": ""
             }
            },
            "type": "scatter"
           }
          ],
          "scatter3d": [
           {
            "line": {
             "colorbar": {
              "outlinewidth": 0,
              "ticks": ""
             }
            },
            "marker": {
             "colorbar": {
              "outlinewidth": 0,
              "ticks": ""
             }
            },
            "type": "scatter3d"
           }
          ],
          "scattercarpet": [
           {
            "marker": {
             "colorbar": {
              "outlinewidth": 0,
              "ticks": ""
             }
            },
            "type": "scattercarpet"
           }
          ],
          "scattergeo": [
           {
            "marker": {
             "colorbar": {
              "outlinewidth": 0,
              "ticks": ""
             }
            },
            "type": "scattergeo"
           }
          ],
          "scattergl": [
           {
            "marker": {
             "colorbar": {
              "outlinewidth": 0,
              "ticks": ""
             }
            },
            "type": "scattergl"
           }
          ],
          "scattermapbox": [
           {
            "marker": {
             "colorbar": {
              "outlinewidth": 0,
              "ticks": ""
             }
            },
            "type": "scattermapbox"
           }
          ],
          "scatterpolar": [
           {
            "marker": {
             "colorbar": {
              "outlinewidth": 0,
              "ticks": ""
             }
            },
            "type": "scatterpolar"
           }
          ],
          "scatterpolargl": [
           {
            "marker": {
             "colorbar": {
              "outlinewidth": 0,
              "ticks": ""
             }
            },
            "type": "scatterpolargl"
           }
          ],
          "scatterternary": [
           {
            "marker": {
             "colorbar": {
              "outlinewidth": 0,
              "ticks": ""
             }
            },
            "type": "scatterternary"
           }
          ],
          "surface": [
           {
            "colorbar": {
             "outlinewidth": 0,
             "ticks": ""
            },
            "colorscale": [
             [
              0,
              "#0d0887"
             ],
             [
              0.1111111111111111,
              "#46039f"
             ],
             [
              0.2222222222222222,
              "#7201a8"
             ],
             [
              0.3333333333333333,
              "#9c179e"
             ],
             [
              0.4444444444444444,
              "#bd3786"
             ],
             [
              0.5555555555555556,
              "#d8576b"
             ],
             [
              0.6666666666666666,
              "#ed7953"
             ],
             [
              0.7777777777777778,
              "#fb9f3a"
             ],
             [
              0.8888888888888888,
              "#fdca26"
             ],
             [
              1,
              "#f0f921"
             ]
            ],
            "type": "surface"
           }
          ],
          "table": [
           {
            "cells": {
             "fill": {
              "color": "#EBF0F8"
             },
             "line": {
              "color": "white"
             }
            },
            "header": {
             "fill": {
              "color": "#C8D4E3"
             },
             "line": {
              "color": "white"
             }
            },
            "type": "table"
           }
          ]
         },
         "layout": {
          "annotationdefaults": {
           "arrowcolor": "#2a3f5f",
           "arrowhead": 0,
           "arrowwidth": 1
          },
          "autotypenumbers": "strict",
          "coloraxis": {
           "colorbar": {
            "outlinewidth": 0,
            "ticks": ""
           }
          },
          "colorscale": {
           "diverging": [
            [
             0,
             "#8e0152"
            ],
            [
             0.1,
             "#c51b7d"
            ],
            [
             0.2,
             "#de77ae"
            ],
            [
             0.3,
             "#f1b6da"
            ],
            [
             0.4,
             "#fde0ef"
            ],
            [
             0.5,
             "#f7f7f7"
            ],
            [
             0.6,
             "#e6f5d0"
            ],
            [
             0.7,
             "#b8e186"
            ],
            [
             0.8,
             "#7fbc41"
            ],
            [
             0.9,
             "#4d9221"
            ],
            [
             1,
             "#276419"
            ]
           ],
           "sequential": [
            [
             0,
             "#0d0887"
            ],
            [
             0.1111111111111111,
             "#46039f"
            ],
            [
             0.2222222222222222,
             "#7201a8"
            ],
            [
             0.3333333333333333,
             "#9c179e"
            ],
            [
             0.4444444444444444,
             "#bd3786"
            ],
            [
             0.5555555555555556,
             "#d8576b"
            ],
            [
             0.6666666666666666,
             "#ed7953"
            ],
            [
             0.7777777777777778,
             "#fb9f3a"
            ],
            [
             0.8888888888888888,
             "#fdca26"
            ],
            [
             1,
             "#f0f921"
            ]
           ],
           "sequentialminus": [
            [
             0,
             "#0d0887"
            ],
            [
             0.1111111111111111,
             "#46039f"
            ],
            [
             0.2222222222222222,
             "#7201a8"
            ],
            [
             0.3333333333333333,
             "#9c179e"
            ],
            [
             0.4444444444444444,
             "#bd3786"
            ],
            [
             0.5555555555555556,
             "#d8576b"
            ],
            [
             0.6666666666666666,
             "#ed7953"
            ],
            [
             0.7777777777777778,
             "#fb9f3a"
            ],
            [
             0.8888888888888888,
             "#fdca26"
            ],
            [
             1,
             "#f0f921"
            ]
           ]
          },
          "colorway": [
           "#636efa",
           "#EF553B",
           "#00cc96",
           "#ab63fa",
           "#FFA15A",
           "#19d3f3",
           "#FF6692",
           "#B6E880",
           "#FF97FF",
           "#FECB52"
          ],
          "font": {
           "color": "#2a3f5f"
          },
          "geo": {
           "bgcolor": "white",
           "lakecolor": "white",
           "landcolor": "#E5ECF6",
           "showlakes": true,
           "showland": true,
           "subunitcolor": "white"
          },
          "hoverlabel": {
           "align": "left"
          },
          "hovermode": "closest",
          "mapbox": {
           "style": "light"
          },
          "paper_bgcolor": "white",
          "plot_bgcolor": "#E5ECF6",
          "polar": {
           "angularaxis": {
            "gridcolor": "white",
            "linecolor": "white",
            "ticks": ""
           },
           "bgcolor": "#E5ECF6",
           "radialaxis": {
            "gridcolor": "white",
            "linecolor": "white",
            "ticks": ""
           }
          },
          "scene": {
           "xaxis": {
            "backgroundcolor": "#E5ECF6",
            "gridcolor": "white",
            "gridwidth": 2,
            "linecolor": "white",
            "showbackground": true,
            "ticks": "",
            "zerolinecolor": "white"
           },
           "yaxis": {
            "backgroundcolor": "#E5ECF6",
            "gridcolor": "white",
            "gridwidth": 2,
            "linecolor": "white",
            "showbackground": true,
            "ticks": "",
            "zerolinecolor": "white"
           },
           "zaxis": {
            "backgroundcolor": "#E5ECF6",
            "gridcolor": "white",
            "gridwidth": 2,
            "linecolor": "white",
            "showbackground": true,
            "ticks": "",
            "zerolinecolor": "white"
           }
          },
          "shapedefaults": {
           "line": {
            "color": "#2a3f5f"
           }
          },
          "ternary": {
           "aaxis": {
            "gridcolor": "white",
            "linecolor": "white",
            "ticks": ""
           },
           "baxis": {
            "gridcolor": "white",
            "linecolor": "white",
            "ticks": ""
           },
           "bgcolor": "#E5ECF6",
           "caxis": {
            "gridcolor": "white",
            "linecolor": "white",
            "ticks": ""
           }
          },
          "title": {
           "x": 0.05
          },
          "xaxis": {
           "automargin": true,
           "gridcolor": "white",
           "linecolor": "white",
           "ticks": "",
           "title": {
            "standoff": 15
           },
           "zerolinecolor": "white",
           "zerolinewidth": 2
          },
          "yaxis": {
           "automargin": true,
           "gridcolor": "white",
           "linecolor": "white",
           "ticks": "",
           "title": {
            "standoff": 15
           },
           "zerolinecolor": "white",
           "zerolinewidth": 2
          }
         }
        },
        "xaxis": {
         "anchor": "y",
         "domain": [
          0,
          1
         ],
         "title": {
          "text": "category_id"
         }
        },
        "yaxis": {
         "anchor": "x",
         "domain": [
          0,
          1
         ],
         "title": {
          "text": "count"
         }
        }
       }
      }
     },
     "metadata": {}
    }
   ],
   "source": [
    "px.histogram(pdf, x=\"category_id\", color=\"product_id\")"
   ]
  },
  {
   "source": [
    "Mehrere Product_IDs gehören immer nur zu einer Category_ID."
   ],
   "cell_type": "markdown",
   "metadata": {}
  },
  {
   "source": [
    "Fazit: Eine Category Class vereinigt mehrere Category Codes. Diese vereinigt mehrere Category IDs und die Category IDS vereinigen wiederrum mehrere Product IDs. Die Brands hingegen verteillen sich über verschiedene Category Classes, Codes und IDS."
   ],
   "cell_type": "markdown",
   "metadata": {}
  },
  {
   "source": [
    "#### Zusammenhang mit dem Event-Type"
   ],
   "cell_type": "markdown",
   "metadata": {}
  },
  {
   "cell_type": "code",
   "execution_count": 119,
   "metadata": {},
   "outputs": [
    {
     "output_type": "stream",
     "name": "stdout",
     "text": [
      "+----------+-----+\n|event_type|Count|\n+----------+-----+\n|      view|  214|\n|  purchase|    2|\n|      cart|    1|\n+----------+-----+\n\n"
     ]
    }
   ],
   "source": [
    "spark.sql(\"SELECT event_type, Count(*) AS Count from Product_Data GROUP BY event_type ORDER BY Count DESC\").show()"
   ]
  },
  {
   "cell_type": "code",
   "execution_count": 94,
   "metadata": {},
   "outputs": [
    {
     "output_type": "display_data",
     "data": {
      "application/vnd.plotly.v1+json": {
       "config": {
        "plotlyServerURL": "https://plot.ly"
       },
       "data": [
        {
         "alignmentgroup": "True",
         "bingroup": "x",
         "hovertemplate": "event_type=%{x}<br>count=%{y}<extra></extra>",
         "legendgroup": "",
         "marker": {
          "color": "#636efa"
         },
         "name": "",
         "offsetgroup": "",
         "orientation": "v",
         "showlegend": false,
         "type": "histogram",
         "x": [
          "view",
          "view",
          "view",
          "view",
          "view",
          "view",
          "view",
          "view",
          "view",
          "view",
          "view",
          "view",
          "view",
          "view",
          "view",
          "view",
          "view",
          "view",
          "view",
          "view",
          "view",
          "view",
          "view",
          "view",
          "view",
          "view",
          "view",
          "view",
          "view",
          "view",
          "view",
          "view",
          "view",
          "view",
          "view",
          "view",
          "view",
          "view",
          "view",
          "view",
          "cart",
          "view",
          "view",
          "view",
          "view",
          "view",
          "view",
          "view",
          "view",
          "view",
          "view",
          "view",
          "view",
          "view",
          "view",
          "view",
          "view",
          "view",
          "view",
          "view",
          "view",
          "view",
          "view",
          "view",
          "view",
          "view",
          "view",
          "view",
          "view",
          "view",
          "view",
          "view",
          "view",
          "view",
          "view",
          "view",
          "view",
          "view",
          "view",
          "view",
          "view",
          "view",
          "view",
          "view",
          "view",
          "view",
          "view",
          "view",
          "view",
          "view",
          "view",
          "view",
          "view",
          "view",
          "view",
          "view",
          "view",
          "view",
          "view",
          "view",
          "view",
          "view",
          "view",
          "view",
          "view",
          "view",
          "view",
          "purchase",
          "view",
          "view",
          "view",
          "view",
          "view",
          "view",
          "view",
          "view",
          "view",
          "view",
          "view",
          "view",
          "view",
          "view",
          "view",
          "view",
          "view",
          "view",
          "view",
          "view",
          "view",
          "view",
          "view",
          "view",
          "view",
          "view",
          "view",
          "view",
          "view",
          "view",
          "view",
          "view",
          "view",
          "view",
          "view",
          "view",
          "view",
          "view",
          "view",
          "view",
          "view",
          "view",
          "view",
          "view",
          "view",
          "view",
          "view",
          "view",
          "view",
          "view",
          "view",
          "view",
          "view",
          "view",
          "view",
          "view",
          "view",
          "view",
          "view",
          "view",
          "purchase",
          "view",
          "view",
          "view",
          "view",
          "view",
          "view",
          "view",
          "view",
          "view",
          "view",
          "view",
          "view",
          "view",
          "view",
          "view",
          "view",
          "view",
          "view",
          "view",
          "view",
          "view",
          "view",
          "view",
          "view",
          "view",
          "view",
          "view",
          "view",
          "view",
          "view",
          "view",
          "view",
          "view",
          "view",
          "view",
          "view",
          "view",
          "view",
          "view",
          "view",
          "view",
          "view",
          "view",
          "view",
          "view",
          "view",
          "view",
          "view"
         ],
         "xaxis": "x",
         "yaxis": "y"
        }
       ],
       "layout": {
        "barmode": "relative",
        "legend": {
         "tracegroupgap": 0
        },
        "margin": {
         "t": 60
        },
        "template": {
         "data": {
          "bar": [
           {
            "error_x": {
             "color": "#2a3f5f"
            },
            "error_y": {
             "color": "#2a3f5f"
            },
            "marker": {
             "line": {
              "color": "#E5ECF6",
              "width": 0.5
             }
            },
            "type": "bar"
           }
          ],
          "barpolar": [
           {
            "marker": {
             "line": {
              "color": "#E5ECF6",
              "width": 0.5
             }
            },
            "type": "barpolar"
           }
          ],
          "carpet": [
           {
            "aaxis": {
             "endlinecolor": "#2a3f5f",
             "gridcolor": "white",
             "linecolor": "white",
             "minorgridcolor": "white",
             "startlinecolor": "#2a3f5f"
            },
            "baxis": {
             "endlinecolor": "#2a3f5f",
             "gridcolor": "white",
             "linecolor": "white",
             "minorgridcolor": "white",
             "startlinecolor": "#2a3f5f"
            },
            "type": "carpet"
           }
          ],
          "choropleth": [
           {
            "colorbar": {
             "outlinewidth": 0,
             "ticks": ""
            },
            "type": "choropleth"
           }
          ],
          "contour": [
           {
            "colorbar": {
             "outlinewidth": 0,
             "ticks": ""
            },
            "colorscale": [
             [
              0,
              "#0d0887"
             ],
             [
              0.1111111111111111,
              "#46039f"
             ],
             [
              0.2222222222222222,
              "#7201a8"
             ],
             [
              0.3333333333333333,
              "#9c179e"
             ],
             [
              0.4444444444444444,
              "#bd3786"
             ],
             [
              0.5555555555555556,
              "#d8576b"
             ],
             [
              0.6666666666666666,
              "#ed7953"
             ],
             [
              0.7777777777777778,
              "#fb9f3a"
             ],
             [
              0.8888888888888888,
              "#fdca26"
             ],
             [
              1,
              "#f0f921"
             ]
            ],
            "type": "contour"
           }
          ],
          "contourcarpet": [
           {
            "colorbar": {
             "outlinewidth": 0,
             "ticks": ""
            },
            "type": "contourcarpet"
           }
          ],
          "heatmap": [
           {
            "colorbar": {
             "outlinewidth": 0,
             "ticks": ""
            },
            "colorscale": [
             [
              0,
              "#0d0887"
             ],
             [
              0.1111111111111111,
              "#46039f"
             ],
             [
              0.2222222222222222,
              "#7201a8"
             ],
             [
              0.3333333333333333,
              "#9c179e"
             ],
             [
              0.4444444444444444,
              "#bd3786"
             ],
             [
              0.5555555555555556,
              "#d8576b"
             ],
             [
              0.6666666666666666,
              "#ed7953"
             ],
             [
              0.7777777777777778,
              "#fb9f3a"
             ],
             [
              0.8888888888888888,
              "#fdca26"
             ],
             [
              1,
              "#f0f921"
             ]
            ],
            "type": "heatmap"
           }
          ],
          "heatmapgl": [
           {
            "colorbar": {
             "outlinewidth": 0,
             "ticks": ""
            },
            "colorscale": [
             [
              0,
              "#0d0887"
             ],
             [
              0.1111111111111111,
              "#46039f"
             ],
             [
              0.2222222222222222,
              "#7201a8"
             ],
             [
              0.3333333333333333,
              "#9c179e"
             ],
             [
              0.4444444444444444,
              "#bd3786"
             ],
             [
              0.5555555555555556,
              "#d8576b"
             ],
             [
              0.6666666666666666,
              "#ed7953"
             ],
             [
              0.7777777777777778,
              "#fb9f3a"
             ],
             [
              0.8888888888888888,
              "#fdca26"
             ],
             [
              1,
              "#f0f921"
             ]
            ],
            "type": "heatmapgl"
           }
          ],
          "histogram": [
           {
            "marker": {
             "colorbar": {
              "outlinewidth": 0,
              "ticks": ""
             }
            },
            "type": "histogram"
           }
          ],
          "histogram2d": [
           {
            "colorbar": {
             "outlinewidth": 0,
             "ticks": ""
            },
            "colorscale": [
             [
              0,
              "#0d0887"
             ],
             [
              0.1111111111111111,
              "#46039f"
             ],
             [
              0.2222222222222222,
              "#7201a8"
             ],
             [
              0.3333333333333333,
              "#9c179e"
             ],
             [
              0.4444444444444444,
              "#bd3786"
             ],
             [
              0.5555555555555556,
              "#d8576b"
             ],
             [
              0.6666666666666666,
              "#ed7953"
             ],
             [
              0.7777777777777778,
              "#fb9f3a"
             ],
             [
              0.8888888888888888,
              "#fdca26"
             ],
             [
              1,
              "#f0f921"
             ]
            ],
            "type": "histogram2d"
           }
          ],
          "histogram2dcontour": [
           {
            "colorbar": {
             "outlinewidth": 0,
             "ticks": ""
            },
            "colorscale": [
             [
              0,
              "#0d0887"
             ],
             [
              0.1111111111111111,
              "#46039f"
             ],
             [
              0.2222222222222222,
              "#7201a8"
             ],
             [
              0.3333333333333333,
              "#9c179e"
             ],
             [
              0.4444444444444444,
              "#bd3786"
             ],
             [
              0.5555555555555556,
              "#d8576b"
             ],
             [
              0.6666666666666666,
              "#ed7953"
             ],
             [
              0.7777777777777778,
              "#fb9f3a"
             ],
             [
              0.8888888888888888,
              "#fdca26"
             ],
             [
              1,
              "#f0f921"
             ]
            ],
            "type": "histogram2dcontour"
           }
          ],
          "mesh3d": [
           {
            "colorbar": {
             "outlinewidth": 0,
             "ticks": ""
            },
            "type": "mesh3d"
           }
          ],
          "parcoords": [
           {
            "line": {
             "colorbar": {
              "outlinewidth": 0,
              "ticks": ""
             }
            },
            "type": "parcoords"
           }
          ],
          "pie": [
           {
            "automargin": true,
            "type": "pie"
           }
          ],
          "scatter": [
           {
            "marker": {
             "colorbar": {
              "outlinewidth": 0,
              "ticks": ""
             }
            },
            "type": "scatter"
           }
          ],
          "scatter3d": [
           {
            "line": {
             "colorbar": {
              "outlinewidth": 0,
              "ticks": ""
             }
            },
            "marker": {
             "colorbar": {
              "outlinewidth": 0,
              "ticks": ""
             }
            },
            "type": "scatter3d"
           }
          ],
          "scattercarpet": [
           {
            "marker": {
             "colorbar": {
              "outlinewidth": 0,
              "ticks": ""
             }
            },
            "type": "scattercarpet"
           }
          ],
          "scattergeo": [
           {
            "marker": {
             "colorbar": {
              "outlinewidth": 0,
              "ticks": ""
             }
            },
            "type": "scattergeo"
           }
          ],
          "scattergl": [
           {
            "marker": {
             "colorbar": {
              "outlinewidth": 0,
              "ticks": ""
             }
            },
            "type": "scattergl"
           }
          ],
          "scattermapbox": [
           {
            "marker": {
             "colorbar": {
              "outlinewidth": 0,
              "ticks": ""
             }
            },
            "type": "scattermapbox"
           }
          ],
          "scatterpolar": [
           {
            "marker": {
             "colorbar": {
              "outlinewidth": 0,
              "ticks": ""
             }
            },
            "type": "scatterpolar"
           }
          ],
          "scatterpolargl": [
           {
            "marker": {
             "colorbar": {
              "outlinewidth": 0,
              "ticks": ""
             }
            },
            "type": "scatterpolargl"
           }
          ],
          "scatterternary": [
           {
            "marker": {
             "colorbar": {
              "outlinewidth": 0,
              "ticks": ""
             }
            },
            "type": "scatterternary"
           }
          ],
          "surface": [
           {
            "colorbar": {
             "outlinewidth": 0,
             "ticks": ""
            },
            "colorscale": [
             [
              0,
              "#0d0887"
             ],
             [
              0.1111111111111111,
              "#46039f"
             ],
             [
              0.2222222222222222,
              "#7201a8"
             ],
             [
              0.3333333333333333,
              "#9c179e"
             ],
             [
              0.4444444444444444,
              "#bd3786"
             ],
             [
              0.5555555555555556,
              "#d8576b"
             ],
             [
              0.6666666666666666,
              "#ed7953"
             ],
             [
              0.7777777777777778,
              "#fb9f3a"
             ],
             [
              0.8888888888888888,
              "#fdca26"
             ],
             [
              1,
              "#f0f921"
             ]
            ],
            "type": "surface"
           }
          ],
          "table": [
           {
            "cells": {
             "fill": {
              "color": "#EBF0F8"
             },
             "line": {
              "color": "white"
             }
            },
            "header": {
             "fill": {
              "color": "#C8D4E3"
             },
             "line": {
              "color": "white"
             }
            },
            "type": "table"
           }
          ]
         },
         "layout": {
          "annotationdefaults": {
           "arrowcolor": "#2a3f5f",
           "arrowhead": 0,
           "arrowwidth": 1
          },
          "autotypenumbers": "strict",
          "coloraxis": {
           "colorbar": {
            "outlinewidth": 0,
            "ticks": ""
           }
          },
          "colorscale": {
           "diverging": [
            [
             0,
             "#8e0152"
            ],
            [
             0.1,
             "#c51b7d"
            ],
            [
             0.2,
             "#de77ae"
            ],
            [
             0.3,
             "#f1b6da"
            ],
            [
             0.4,
             "#fde0ef"
            ],
            [
             0.5,
             "#f7f7f7"
            ],
            [
             0.6,
             "#e6f5d0"
            ],
            [
             0.7,
             "#b8e186"
            ],
            [
             0.8,
             "#7fbc41"
            ],
            [
             0.9,
             "#4d9221"
            ],
            [
             1,
             "#276419"
            ]
           ],
           "sequential": [
            [
             0,
             "#0d0887"
            ],
            [
             0.1111111111111111,
             "#46039f"
            ],
            [
             0.2222222222222222,
             "#7201a8"
            ],
            [
             0.3333333333333333,
             "#9c179e"
            ],
            [
             0.4444444444444444,
             "#bd3786"
            ],
            [
             0.5555555555555556,
             "#d8576b"
            ],
            [
             0.6666666666666666,
             "#ed7953"
            ],
            [
             0.7777777777777778,
             "#fb9f3a"
            ],
            [
             0.8888888888888888,
             "#fdca26"
            ],
            [
             1,
             "#f0f921"
            ]
           ],
           "sequentialminus": [
            [
             0,
             "#0d0887"
            ],
            [
             0.1111111111111111,
             "#46039f"
            ],
            [
             0.2222222222222222,
             "#7201a8"
            ],
            [
             0.3333333333333333,
             "#9c179e"
            ],
            [
             0.4444444444444444,
             "#bd3786"
            ],
            [
             0.5555555555555556,
             "#d8576b"
            ],
            [
             0.6666666666666666,
             "#ed7953"
            ],
            [
             0.7777777777777778,
             "#fb9f3a"
            ],
            [
             0.8888888888888888,
             "#fdca26"
            ],
            [
             1,
             "#f0f921"
            ]
           ]
          },
          "colorway": [
           "#636efa",
           "#EF553B",
           "#00cc96",
           "#ab63fa",
           "#FFA15A",
           "#19d3f3",
           "#FF6692",
           "#B6E880",
           "#FF97FF",
           "#FECB52"
          ],
          "font": {
           "color": "#2a3f5f"
          },
          "geo": {
           "bgcolor": "white",
           "lakecolor": "white",
           "landcolor": "#E5ECF6",
           "showlakes": true,
           "showland": true,
           "subunitcolor": "white"
          },
          "hoverlabel": {
           "align": "left"
          },
          "hovermode": "closest",
          "mapbox": {
           "style": "light"
          },
          "paper_bgcolor": "white",
          "plot_bgcolor": "#E5ECF6",
          "polar": {
           "angularaxis": {
            "gridcolor": "white",
            "linecolor": "white",
            "ticks": ""
           },
           "bgcolor": "#E5ECF6",
           "radialaxis": {
            "gridcolor": "white",
            "linecolor": "white",
            "ticks": ""
           }
          },
          "scene": {
           "xaxis": {
            "backgroundcolor": "#E5ECF6",
            "gridcolor": "white",
            "gridwidth": 2,
            "linecolor": "white",
            "showbackground": true,
            "ticks": "",
            "zerolinecolor": "white"
           },
           "yaxis": {
            "backgroundcolor": "#E5ECF6",
            "gridcolor": "white",
            "gridwidth": 2,
            "linecolor": "white",
            "showbackground": true,
            "ticks": "",
            "zerolinecolor": "white"
           },
           "zaxis": {
            "backgroundcolor": "#E5ECF6",
            "gridcolor": "white",
            "gridwidth": 2,
            "linecolor": "white",
            "showbackground": true,
            "ticks": "",
            "zerolinecolor": "white"
           }
          },
          "shapedefaults": {
           "line": {
            "color": "#2a3f5f"
           }
          },
          "ternary": {
           "aaxis": {
            "gridcolor": "white",
            "linecolor": "white",
            "ticks": ""
           },
           "baxis": {
            "gridcolor": "white",
            "linecolor": "white",
            "ticks": ""
           },
           "bgcolor": "#E5ECF6",
           "caxis": {
            "gridcolor": "white",
            "linecolor": "white",
            "ticks": ""
           }
          },
          "title": {
           "x": 0.05
          },
          "xaxis": {
           "automargin": true,
           "gridcolor": "white",
           "linecolor": "white",
           "ticks": "",
           "title": {
            "standoff": 15
           },
           "zerolinecolor": "white",
           "zerolinewidth": 2
          },
          "yaxis": {
           "automargin": true,
           "gridcolor": "white",
           "linecolor": "white",
           "ticks": "",
           "title": {
            "standoff": 15
           },
           "zerolinecolor": "white",
           "zerolinewidth": 2
          }
         }
        },
        "xaxis": {
         "anchor": "y",
         "domain": [
          0,
          1
         ],
         "title": {
          "text": "event_type"
         }
        },
        "yaxis": {
         "anchor": "x",
         "domain": [
          0,
          1
         ],
         "title": {
          "text": "count"
         }
        }
       }
      }
     },
     "metadata": {}
    }
   ],
   "source": [
    "px.histogram(pdf, x=\"event_type\")"
   ]
  },
  {
   "source": [
    "##### Category Class - Event Type"
   ],
   "cell_type": "markdown",
   "metadata": {}
  },
  {
   "cell_type": "code",
   "execution_count": 121,
   "metadata": {},
   "outputs": [
    {
     "output_type": "stream",
     "name": "stdout",
     "text": [
      "+--------------+----------+-----+\n|Category_class|event_type|Count|\n+--------------+----------+-----+\n|     furniture|      view|   13|\n|     furniture|  purchase|    1|\n|   electronics|      view|   55|\n|   electronics|  purchase|    1|\n|   electronics|      cart|    1|\n|  construction|      view|    8|\n|     computers|      view|   23|\n|          auto|      view|    7|\n|    appliances|      view|   14|\n|       apparel|      view|    6|\n|   accessories|      view|    1|\n|          null|      view|   87|\n+--------------+----------+-----+\n\n"
     ]
    }
   ],
   "source": [
    "spark.sql(\"SELECT Category_class, event_type, Count(*) AS Count from Product_Data GROUP BY Category_class, event_type ORDER BY Category_class DESC, event_type DESC\").show()"
   ]
  },
  {
   "cell_type": "code",
   "execution_count": 95,
   "metadata": {},
   "outputs": [
    {
     "output_type": "display_data",
     "data": {
      "application/vnd.plotly.v1+json": {
       "config": {
        "plotlyServerURL": "https://plot.ly"
       },
       "data": [
        {
         "alignmentgroup": "True",
         "bingroup": "x",
         "hovertemplate": "event_type=view<br>category_class=%{x}<br>count=%{y}<extra></extra>",
         "legendgroup": "view",
         "marker": {
          "color": "#636efa"
         },
         "name": "view",
         "offsetgroup": "view",
         "orientation": "v",
         "showlegend": true,
         "type": "histogram",
         "x": [
          "electronics",
          "appliances",
          "unknown",
          "appliances",
          "electronics",
          "computers",
          "computers",
          "unknown",
          "unknown",
          "electronics",
          "furniture",
          "appliances",
          "furniture",
          "unknown",
          "appliances",
          "unknown",
          "unknown",
          "unknown",
          "electronics",
          "computers",
          "unknown",
          "electronics",
          "unknown",
          "furniture",
          "unknown",
          "unknown",
          "unknown",
          "electronics",
          "computers",
          "computers",
          "unknown",
          "furniture",
          "unknown",
          "unknown",
          "unknown",
          "unknown",
          "unknown",
          "electronics",
          "appliances",
          "electronics",
          "unknown",
          "unknown",
          "appliances",
          "appliances",
          "unknown",
          "unknown",
          "electronics",
          "unknown",
          "electronics",
          "electronics",
          "electronics",
          "apparel",
          "apparel",
          "electronics",
          "furniture",
          "unknown",
          "unknown",
          "unknown",
          "unknown",
          "unknown",
          "unknown",
          "computers",
          "unknown",
          "unknown",
          "electronics",
          "unknown",
          "unknown",
          "construction",
          "electronics",
          "unknown",
          "auto",
          "unknown",
          "unknown",
          "furniture",
          "computers",
          "unknown",
          "computers",
          "unknown",
          "electronics",
          "unknown",
          "unknown",
          "electronics",
          "unknown",
          "electronics",
          "computers",
          "auto",
          "computers",
          "electronics",
          "unknown",
          "accessories",
          "appliances",
          "apparel",
          "electronics",
          "unknown",
          "electronics",
          "electronics",
          "electronics",
          "appliances",
          "unknown",
          "computers",
          "electronics",
          "unknown",
          "computers",
          "unknown",
          "electronics",
          "computers",
          "unknown",
          "electronics",
          "electronics",
          "unknown",
          "unknown",
          "unknown",
          "appliances",
          "unknown",
          "unknown",
          "apparel",
          "auto",
          "construction",
          "computers",
          "electronics",
          "furniture",
          "unknown",
          "unknown",
          "furniture",
          "unknown",
          "electronics",
          "electronics",
          "electronics",
          "unknown",
          "electronics",
          "unknown",
          "computers",
          "electronics",
          "unknown",
          "unknown",
          "computers",
          "unknown",
          "unknown",
          "unknown",
          "computers",
          "unknown",
          "auto",
          "electronics",
          "construction",
          "electronics",
          "unknown",
          "electronics",
          "unknown",
          "unknown",
          "unknown",
          "appliances",
          "electronics",
          "computers",
          "unknown",
          "electronics",
          "appliances",
          "electronics",
          "electronics",
          "appliances",
          "unknown",
          "computers",
          "auto",
          "construction",
          "electronics",
          "unknown",
          "unknown",
          "electronics",
          "furniture",
          "unknown",
          "computers",
          "appliances",
          "electronics",
          "unknown",
          "auto",
          "furniture",
          "unknown",
          "unknown",
          "furniture",
          "electronics",
          "furniture",
          "unknown",
          "apparel",
          "unknown",
          "electronics",
          "construction",
          "electronics",
          "construction",
          "construction",
          "unknown",
          "computers",
          "unknown",
          "electronics",
          "unknown",
          "furniture",
          "apparel",
          "construction",
          "electronics",
          "unknown",
          "auto",
          "electronics",
          "computers",
          "unknown",
          "electronics",
          "electronics",
          "electronics",
          "electronics",
          "computers",
          "electronics",
          "unknown",
          "unknown",
          "unknown",
          "unknown",
          "unknown",
          "electronics"
         ],
         "xaxis": "x",
         "yaxis": "y"
        },
        {
         "alignmentgroup": "True",
         "bingroup": "x",
         "hovertemplate": "event_type=cart<br>category_class=%{x}<br>count=%{y}<extra></extra>",
         "legendgroup": "cart",
         "marker": {
          "color": "#EF553B"
         },
         "name": "cart",
         "offsetgroup": "cart",
         "orientation": "v",
         "showlegend": true,
         "type": "histogram",
         "x": [
          "electronics"
         ],
         "xaxis": "x",
         "yaxis": "y"
        },
        {
         "alignmentgroup": "True",
         "bingroup": "x",
         "hovertemplate": "event_type=purchase<br>category_class=%{x}<br>count=%{y}<extra></extra>",
         "legendgroup": "purchase",
         "marker": {
          "color": "#00cc96"
         },
         "name": "purchase",
         "offsetgroup": "purchase",
         "orientation": "v",
         "showlegend": true,
         "type": "histogram",
         "x": [
          "furniture",
          "electronics"
         ],
         "xaxis": "x",
         "yaxis": "y"
        }
       ],
       "layout": {
        "barmode": "relative",
        "legend": {
         "title": {
          "text": "event_type"
         },
         "tracegroupgap": 0
        },
        "margin": {
         "t": 60
        },
        "template": {
         "data": {
          "bar": [
           {
            "error_x": {
             "color": "#2a3f5f"
            },
            "error_y": {
             "color": "#2a3f5f"
            },
            "marker": {
             "line": {
              "color": "#E5ECF6",
              "width": 0.5
             }
            },
            "type": "bar"
           }
          ],
          "barpolar": [
           {
            "marker": {
             "line": {
              "color": "#E5ECF6",
              "width": 0.5
             }
            },
            "type": "barpolar"
           }
          ],
          "carpet": [
           {
            "aaxis": {
             "endlinecolor": "#2a3f5f",
             "gridcolor": "white",
             "linecolor": "white",
             "minorgridcolor": "white",
             "startlinecolor": "#2a3f5f"
            },
            "baxis": {
             "endlinecolor": "#2a3f5f",
             "gridcolor": "white",
             "linecolor": "white",
             "minorgridcolor": "white",
             "startlinecolor": "#2a3f5f"
            },
            "type": "carpet"
           }
          ],
          "choropleth": [
           {
            "colorbar": {
             "outlinewidth": 0,
             "ticks": ""
            },
            "type": "choropleth"
           }
          ],
          "contour": [
           {
            "colorbar": {
             "outlinewidth": 0,
             "ticks": ""
            },
            "colorscale": [
             [
              0,
              "#0d0887"
             ],
             [
              0.1111111111111111,
              "#46039f"
             ],
             [
              0.2222222222222222,
              "#7201a8"
             ],
             [
              0.3333333333333333,
              "#9c179e"
             ],
             [
              0.4444444444444444,
              "#bd3786"
             ],
             [
              0.5555555555555556,
              "#d8576b"
             ],
             [
              0.6666666666666666,
              "#ed7953"
             ],
             [
              0.7777777777777778,
              "#fb9f3a"
             ],
             [
              0.8888888888888888,
              "#fdca26"
             ],
             [
              1,
              "#f0f921"
             ]
            ],
            "type": "contour"
           }
          ],
          "contourcarpet": [
           {
            "colorbar": {
             "outlinewidth": 0,
             "ticks": ""
            },
            "type": "contourcarpet"
           }
          ],
          "heatmap": [
           {
            "colorbar": {
             "outlinewidth": 0,
             "ticks": ""
            },
            "colorscale": [
             [
              0,
              "#0d0887"
             ],
             [
              0.1111111111111111,
              "#46039f"
             ],
             [
              0.2222222222222222,
              "#7201a8"
             ],
             [
              0.3333333333333333,
              "#9c179e"
             ],
             [
              0.4444444444444444,
              "#bd3786"
             ],
             [
              0.5555555555555556,
              "#d8576b"
             ],
             [
              0.6666666666666666,
              "#ed7953"
             ],
             [
              0.7777777777777778,
              "#fb9f3a"
             ],
             [
              0.8888888888888888,
              "#fdca26"
             ],
             [
              1,
              "#f0f921"
             ]
            ],
            "type": "heatmap"
           }
          ],
          "heatmapgl": [
           {
            "colorbar": {
             "outlinewidth": 0,
             "ticks": ""
            },
            "colorscale": [
             [
              0,
              "#0d0887"
             ],
             [
              0.1111111111111111,
              "#46039f"
             ],
             [
              0.2222222222222222,
              "#7201a8"
             ],
             [
              0.3333333333333333,
              "#9c179e"
             ],
             [
              0.4444444444444444,
              "#bd3786"
             ],
             [
              0.5555555555555556,
              "#d8576b"
             ],
             [
              0.6666666666666666,
              "#ed7953"
             ],
             [
              0.7777777777777778,
              "#fb9f3a"
             ],
             [
              0.8888888888888888,
              "#fdca26"
             ],
             [
              1,
              "#f0f921"
             ]
            ],
            "type": "heatmapgl"
           }
          ],
          "histogram": [
           {
            "marker": {
             "colorbar": {
              "outlinewidth": 0,
              "ticks": ""
             }
            },
            "type": "histogram"
           }
          ],
          "histogram2d": [
           {
            "colorbar": {
             "outlinewidth": 0,
             "ticks": ""
            },
            "colorscale": [
             [
              0,
              "#0d0887"
             ],
             [
              0.1111111111111111,
              "#46039f"
             ],
             [
              0.2222222222222222,
              "#7201a8"
             ],
             [
              0.3333333333333333,
              "#9c179e"
             ],
             [
              0.4444444444444444,
              "#bd3786"
             ],
             [
              0.5555555555555556,
              "#d8576b"
             ],
             [
              0.6666666666666666,
              "#ed7953"
             ],
             [
              0.7777777777777778,
              "#fb9f3a"
             ],
             [
              0.8888888888888888,
              "#fdca26"
             ],
             [
              1,
              "#f0f921"
             ]
            ],
            "type": "histogram2d"
           }
          ],
          "histogram2dcontour": [
           {
            "colorbar": {
             "outlinewidth": 0,
             "ticks": ""
            },
            "colorscale": [
             [
              0,
              "#0d0887"
             ],
             [
              0.1111111111111111,
              "#46039f"
             ],
             [
              0.2222222222222222,
              "#7201a8"
             ],
             [
              0.3333333333333333,
              "#9c179e"
             ],
             [
              0.4444444444444444,
              "#bd3786"
             ],
             [
              0.5555555555555556,
              "#d8576b"
             ],
             [
              0.6666666666666666,
              "#ed7953"
             ],
             [
              0.7777777777777778,
              "#fb9f3a"
             ],
             [
              0.8888888888888888,
              "#fdca26"
             ],
             [
              1,
              "#f0f921"
             ]
            ],
            "type": "histogram2dcontour"
           }
          ],
          "mesh3d": [
           {
            "colorbar": {
             "outlinewidth": 0,
             "ticks": ""
            },
            "type": "mesh3d"
           }
          ],
          "parcoords": [
           {
            "line": {
             "colorbar": {
              "outlinewidth": 0,
              "ticks": ""
             }
            },
            "type": "parcoords"
           }
          ],
          "pie": [
           {
            "automargin": true,
            "type": "pie"
           }
          ],
          "scatter": [
           {
            "marker": {
             "colorbar": {
              "outlinewidth": 0,
              "ticks": ""
             }
            },
            "type": "scatter"
           }
          ],
          "scatter3d": [
           {
            "line": {
             "colorbar": {
              "outlinewidth": 0,
              "ticks": ""
             }
            },
            "marker": {
             "colorbar": {
              "outlinewidth": 0,
              "ticks": ""
             }
            },
            "type": "scatter3d"
           }
          ],
          "scattercarpet": [
           {
            "marker": {
             "colorbar": {
              "outlinewidth": 0,
              "ticks": ""
             }
            },
            "type": "scattercarpet"
           }
          ],
          "scattergeo": [
           {
            "marker": {
             "colorbar": {
              "outlinewidth": 0,
              "ticks": ""
             }
            },
            "type": "scattergeo"
           }
          ],
          "scattergl": [
           {
            "marker": {
             "colorbar": {
              "outlinewidth": 0,
              "ticks": ""
             }
            },
            "type": "scattergl"
           }
          ],
          "scattermapbox": [
           {
            "marker": {
             "colorbar": {
              "outlinewidth": 0,
              "ticks": ""
             }
            },
            "type": "scattermapbox"
           }
          ],
          "scatterpolar": [
           {
            "marker": {
             "colorbar": {
              "outlinewidth": 0,
              "ticks": ""
             }
            },
            "type": "scatterpolar"
           }
          ],
          "scatterpolargl": [
           {
            "marker": {
             "colorbar": {
              "outlinewidth": 0,
              "ticks": ""
             }
            },
            "type": "scatterpolargl"
           }
          ],
          "scatterternary": [
           {
            "marker": {
             "colorbar": {
              "outlinewidth": 0,
              "ticks": ""
             }
            },
            "type": "scatterternary"
           }
          ],
          "surface": [
           {
            "colorbar": {
             "outlinewidth": 0,
             "ticks": ""
            },
            "colorscale": [
             [
              0,
              "#0d0887"
             ],
             [
              0.1111111111111111,
              "#46039f"
             ],
             [
              0.2222222222222222,
              "#7201a8"
             ],
             [
              0.3333333333333333,
              "#9c179e"
             ],
             [
              0.4444444444444444,
              "#bd3786"
             ],
             [
              0.5555555555555556,
              "#d8576b"
             ],
             [
              0.6666666666666666,
              "#ed7953"
             ],
             [
              0.7777777777777778,
              "#fb9f3a"
             ],
             [
              0.8888888888888888,
              "#fdca26"
             ],
             [
              1,
              "#f0f921"
             ]
            ],
            "type": "surface"
           }
          ],
          "table": [
           {
            "cells": {
             "fill": {
              "color": "#EBF0F8"
             },
             "line": {
              "color": "white"
             }
            },
            "header": {
             "fill": {
              "color": "#C8D4E3"
             },
             "line": {
              "color": "white"
             }
            },
            "type": "table"
           }
          ]
         },
         "layout": {
          "annotationdefaults": {
           "arrowcolor": "#2a3f5f",
           "arrowhead": 0,
           "arrowwidth": 1
          },
          "autotypenumbers": "strict",
          "coloraxis": {
           "colorbar": {
            "outlinewidth": 0,
            "ticks": ""
           }
          },
          "colorscale": {
           "diverging": [
            [
             0,
             "#8e0152"
            ],
            [
             0.1,
             "#c51b7d"
            ],
            [
             0.2,
             "#de77ae"
            ],
            [
             0.3,
             "#f1b6da"
            ],
            [
             0.4,
             "#fde0ef"
            ],
            [
             0.5,
             "#f7f7f7"
            ],
            [
             0.6,
             "#e6f5d0"
            ],
            [
             0.7,
             "#b8e186"
            ],
            [
             0.8,
             "#7fbc41"
            ],
            [
             0.9,
             "#4d9221"
            ],
            [
             1,
             "#276419"
            ]
           ],
           "sequential": [
            [
             0,
             "#0d0887"
            ],
            [
             0.1111111111111111,
             "#46039f"
            ],
            [
             0.2222222222222222,
             "#7201a8"
            ],
            [
             0.3333333333333333,
             "#9c179e"
            ],
            [
             0.4444444444444444,
             "#bd3786"
            ],
            [
             0.5555555555555556,
             "#d8576b"
            ],
            [
             0.6666666666666666,
             "#ed7953"
            ],
            [
             0.7777777777777778,
             "#fb9f3a"
            ],
            [
             0.8888888888888888,
             "#fdca26"
            ],
            [
             1,
             "#f0f921"
            ]
           ],
           "sequentialminus": [
            [
             0,
             "#0d0887"
            ],
            [
             0.1111111111111111,
             "#46039f"
            ],
            [
             0.2222222222222222,
             "#7201a8"
            ],
            [
             0.3333333333333333,
             "#9c179e"
            ],
            [
             0.4444444444444444,
             "#bd3786"
            ],
            [
             0.5555555555555556,
             "#d8576b"
            ],
            [
             0.6666666666666666,
             "#ed7953"
            ],
            [
             0.7777777777777778,
             "#fb9f3a"
            ],
            [
             0.8888888888888888,
             "#fdca26"
            ],
            [
             1,
             "#f0f921"
            ]
           ]
          },
          "colorway": [
           "#636efa",
           "#EF553B",
           "#00cc96",
           "#ab63fa",
           "#FFA15A",
           "#19d3f3",
           "#FF6692",
           "#B6E880",
           "#FF97FF",
           "#FECB52"
          ],
          "font": {
           "color": "#2a3f5f"
          },
          "geo": {
           "bgcolor": "white",
           "lakecolor": "white",
           "landcolor": "#E5ECF6",
           "showlakes": true,
           "showland": true,
           "subunitcolor": "white"
          },
          "hoverlabel": {
           "align": "left"
          },
          "hovermode": "closest",
          "mapbox": {
           "style": "light"
          },
          "paper_bgcolor": "white",
          "plot_bgcolor": "#E5ECF6",
          "polar": {
           "angularaxis": {
            "gridcolor": "white",
            "linecolor": "white",
            "ticks": ""
           },
           "bgcolor": "#E5ECF6",
           "radialaxis": {
            "gridcolor": "white",
            "linecolor": "white",
            "ticks": ""
           }
          },
          "scene": {
           "xaxis": {
            "backgroundcolor": "#E5ECF6",
            "gridcolor": "white",
            "gridwidth": 2,
            "linecolor": "white",
            "showbackground": true,
            "ticks": "",
            "zerolinecolor": "white"
           },
           "yaxis": {
            "backgroundcolor": "#E5ECF6",
            "gridcolor": "white",
            "gridwidth": 2,
            "linecolor": "white",
            "showbackground": true,
            "ticks": "",
            "zerolinecolor": "white"
           },
           "zaxis": {
            "backgroundcolor": "#E5ECF6",
            "gridcolor": "white",
            "gridwidth": 2,
            "linecolor": "white",
            "showbackground": true,
            "ticks": "",
            "zerolinecolor": "white"
           }
          },
          "shapedefaults": {
           "line": {
            "color": "#2a3f5f"
           }
          },
          "ternary": {
           "aaxis": {
            "gridcolor": "white",
            "linecolor": "white",
            "ticks": ""
           },
           "baxis": {
            "gridcolor": "white",
            "linecolor": "white",
            "ticks": ""
           },
           "bgcolor": "#E5ECF6",
           "caxis": {
            "gridcolor": "white",
            "linecolor": "white",
            "ticks": ""
           }
          },
          "title": {
           "x": 0.05
          },
          "xaxis": {
           "automargin": true,
           "gridcolor": "white",
           "linecolor": "white",
           "ticks": "",
           "title": {
            "standoff": 15
           },
           "zerolinecolor": "white",
           "zerolinewidth": 2
          },
          "yaxis": {
           "automargin": true,
           "gridcolor": "white",
           "linecolor": "white",
           "ticks": "",
           "title": {
            "standoff": 15
           },
           "zerolinecolor": "white",
           "zerolinewidth": 2
          }
         }
        },
        "xaxis": {
         "anchor": "y",
         "domain": [
          0,
          1
         ],
         "title": {
          "text": "category_class"
         }
        },
        "yaxis": {
         "anchor": "x",
         "domain": [
          0,
          1
         ],
         "title": {
          "text": "count"
         }
        }
       }
      }
     },
     "metadata": {}
    }
   ],
   "source": [
    "px.histogram(pdf, x=\"category_class\", color=\"event_type\")"
   ]
  },
  {
   "source": [
    "##### Category Code - Event Type"
   ],
   "cell_type": "markdown",
   "metadata": {}
  },
  {
   "cell_type": "code",
   "execution_count": 122,
   "metadata": {},
   "outputs": [
    {
     "output_type": "stream",
     "name": "stdout",
     "text": [
      "+--------------------+----------+-----+\n|       Category_code|event_type|Count|\n+--------------------+----------+-----+\n|furniture.living_...|      view|    2|\n|furniture.kitchen...|      view|    1|\n|furniture.kitchen...|      view|    6|\n|furniture.bedroom...|      view|    3|\n|furniture.bedroom...|  purchase|    1|\n|furniture.bathroo...|      view|    1|\n|electronics.video.tv|      view|    1|\n|electronics.smart...|      view|   36|\n|electronics.smart...|  purchase|    1|\n|electronics.smart...|      cart|    1|\n|  electronics.clocks|      view|    8|\n|electronics.camer...|      view|    1|\n|electronics.audio...|      view|    4|\n|electronics.audio...|      view|    5|\n|construction.tool...|      view|    1|\n|construction.tool...|      view|    1|\n|construction.tool...|      view|    1|\n|construction.tool...|      view|    1|\n|construction.tool...|      view|    4|\n|computers.periphe...|      view|    2|\n+--------------------+----------+-----+\nonly showing top 20 rows\n\n"
     ]
    }
   ],
   "source": [
    "spark.sql(\"SELECT Category_code, event_type, Count(*) AS Count from Product_Data GROUP BY Category_code, event_type ORDER BY Category_code DESC, event_type DESC\").show()"
   ]
  },
  {
   "cell_type": "code",
   "execution_count": 96,
   "metadata": {},
   "outputs": [
    {
     "output_type": "display_data",
     "data": {
      "application/vnd.plotly.v1+json": {
       "config": {
        "plotlyServerURL": "https://plot.ly"
       },
       "data": [
        {
         "alignmentgroup": "True",
         "bingroup": "x",
         "hovertemplate": "event_type=view<br>category_code=%{x}<br>count=%{y}<extra></extra>",
         "legendgroup": "view",
         "marker": {
          "color": "#636efa"
         },
         "name": "view",
         "offsetgroup": "view",
         "orientation": "v",
         "showlegend": true,
         "type": "histogram",
         "x": [
          "electronics.smartphone",
          "appliances.sewing_machine",
          "unknown",
          "appliances.kitchen.washer",
          "electronics.smartphone",
          "computers.notebook",
          "computers.notebook",
          "unknown",
          "unknown",
          "electronics.smartphone",
          "furniture.living_room.sofa",
          "appliances.kitchen.refrigerators",
          "furniture.kitchen.chair",
          "unknown",
          "appliances.kitchen.dishwasher",
          "unknown",
          "unknown",
          "unknown",
          "electronics.smartphone",
          "computers.notebook",
          "unknown",
          "electronics.smartphone",
          "unknown",
          "furniture.living_room.sofa",
          "unknown",
          "unknown",
          "unknown",
          "electronics.smartphone",
          "computers.notebook",
          "computers.notebook",
          "unknown",
          "furniture.kitchen.chair",
          "unknown",
          "unknown",
          "unknown",
          "unknown",
          "unknown",
          "electronics.audio.headphone",
          "appliances.environment.vacuum",
          "electronics.smartphone",
          "unknown",
          "unknown",
          "appliances.environment.water_heater",
          "appliances.kitchen.dishwasher",
          "unknown",
          "unknown",
          "electronics.camera.video",
          "unknown",
          "electronics.smartphone",
          "electronics.clocks",
          "electronics.video.tv",
          "apparel.tshirt",
          "apparel.jeans",
          "electronics.smartphone",
          "furniture.kitchen.chair",
          "unknown",
          "unknown",
          "unknown",
          "unknown",
          "unknown",
          "unknown",
          "computers.notebook",
          "unknown",
          "unknown",
          "electronics.smartphone",
          "unknown",
          "unknown",
          "construction.tools.drill",
          "electronics.smartphone",
          "unknown",
          "auto.accessories.compressor",
          "unknown",
          "unknown",
          "furniture.kitchen.chair",
          "computers.components.motherboard",
          "unknown",
          "computers.peripherals.printer",
          "unknown",
          "electronics.smartphone",
          "unknown",
          "unknown",
          "electronics.audio.headphone",
          "unknown",
          "electronics.smartphone",
          "computers.desktop",
          "auto.accessories.player",
          "computers.notebook",
          "electronics.smartphone",
          "unknown",
          "accessories.bag",
          "appliances.kitchen.refrigerators",
          "apparel.jeans",
          "electronics.audio.headphone",
          "unknown",
          "electronics.smartphone",
          "electronics.smartphone",
          "electronics.clocks",
          "appliances.kitchen.refrigerators",
          "unknown",
          "computers.components.videocards",
          "electronics.smartphone",
          "unknown",
          "computers.notebook",
          "unknown",
          "electronics.smartphone",
          "computers.notebook",
          "unknown",
          "electronics.smartphone",
          "electronics.smartphone",
          "unknown",
          "unknown",
          "unknown",
          "appliances.kitchen.refrigerators",
          "unknown",
          "unknown",
          "apparel.jeans",
          "auto.accessories.player",
          "construction.tools.drill",
          "computers.notebook",
          "electronics.smartphone",
          "furniture.bathroom.bath",
          "unknown",
          "unknown",
          "furniture.bedroom.bed",
          "unknown",
          "electronics.smartphone",
          "electronics.smartphone",
          "electronics.audio.subwoofer",
          "unknown",
          "electronics.smartphone",
          "unknown",
          "computers.notebook",
          "electronics.clocks",
          "unknown",
          "unknown",
          "computers.notebook",
          "unknown",
          "unknown",
          "unknown",
          "computers.notebook",
          "unknown",
          "auto.accessories.compressor",
          "electronics.smartphone",
          "construction.tools.welding",
          "electronics.smartphone",
          "unknown",
          "electronics.smartphone",
          "unknown",
          "unknown",
          "unknown",
          "appliances.sewing_machine",
          "electronics.audio.headphone",
          "computers.peripherals.printer",
          "unknown",
          "electronics.smartphone",
          "appliances.kitchen.dishwasher",
          "electronics.smartphone",
          "electronics.smartphone",
          "appliances.kitchen.dishwasher",
          "unknown",
          "computers.notebook",
          "auto.accessories.player",
          "construction.tools.saw",
          "electronics.smartphone",
          "unknown",
          "unknown",
          "electronics.clocks",
          "furniture.kitchen.chair",
          "unknown",
          "computers.notebook",
          "appliances.kitchen.refrigerators",
          "electronics.smartphone",
          "unknown",
          "auto.accessories.player",
          "furniture.kitchen.table",
          "unknown",
          "unknown",
          "furniture.kitchen.chair",
          "electronics.audio.subwoofer",
          "furniture.bedroom.bed",
          "unknown",
          "apparel.shoes",
          "unknown",
          "electronics.smartphone",
          "construction.tools.drill",
          "electronics.smartphone",
          "construction.tools.drill",
          "construction.tools.light",
          "unknown",
          "computers.notebook",
          "unknown",
          "electronics.clocks",
          "unknown",
          "furniture.bedroom.bed",
          "apparel.shirt",
          "construction.tools.painting",
          "electronics.clocks",
          "unknown",
          "auto.accessories.player",
          "electronics.smartphone",
          "computers.notebook",
          "unknown",
          "electronics.clocks",
          "electronics.clocks",
          "electronics.audio.subwoofer",
          "electronics.audio.headphone",
          "computers.notebook",
          "electronics.audio.subwoofer",
          "unknown",
          "unknown",
          "unknown",
          "unknown",
          "unknown",
          "electronics.smartphone"
         ],
         "xaxis": "x",
         "yaxis": "y"
        },
        {
         "alignmentgroup": "True",
         "bingroup": "x",
         "hovertemplate": "event_type=cart<br>category_code=%{x}<br>count=%{y}<extra></extra>",
         "legendgroup": "cart",
         "marker": {
          "color": "#EF553B"
         },
         "name": "cart",
         "offsetgroup": "cart",
         "orientation": "v",
         "showlegend": true,
         "type": "histogram",
         "x": [
          "electronics.smartphone"
         ],
         "xaxis": "x",
         "yaxis": "y"
        },
        {
         "alignmentgroup": "True",
         "bingroup": "x",
         "hovertemplate": "event_type=purchase<br>category_code=%{x}<br>count=%{y}<extra></extra>",
         "legendgroup": "purchase",
         "marker": {
          "color": "#00cc96"
         },
         "name": "purchase",
         "offsetgroup": "purchase",
         "orientation": "v",
         "showlegend": true,
         "type": "histogram",
         "x": [
          "furniture.bedroom.bed",
          "electronics.smartphone"
         ],
         "xaxis": "x",
         "yaxis": "y"
        }
       ],
       "layout": {
        "barmode": "relative",
        "legend": {
         "title": {
          "text": "event_type"
         },
         "tracegroupgap": 0
        },
        "margin": {
         "t": 60
        },
        "template": {
         "data": {
          "bar": [
           {
            "error_x": {
             "color": "#2a3f5f"
            },
            "error_y": {
             "color": "#2a3f5f"
            },
            "marker": {
             "line": {
              "color": "#E5ECF6",
              "width": 0.5
             }
            },
            "type": "bar"
           }
          ],
          "barpolar": [
           {
            "marker": {
             "line": {
              "color": "#E5ECF6",
              "width": 0.5
             }
            },
            "type": "barpolar"
           }
          ],
          "carpet": [
           {
            "aaxis": {
             "endlinecolor": "#2a3f5f",
             "gridcolor": "white",
             "linecolor": "white",
             "minorgridcolor": "white",
             "startlinecolor": "#2a3f5f"
            },
            "baxis": {
             "endlinecolor": "#2a3f5f",
             "gridcolor": "white",
             "linecolor": "white",
             "minorgridcolor": "white",
             "startlinecolor": "#2a3f5f"
            },
            "type": "carpet"
           }
          ],
          "choropleth": [
           {
            "colorbar": {
             "outlinewidth": 0,
             "ticks": ""
            },
            "type": "choropleth"
           }
          ],
          "contour": [
           {
            "colorbar": {
             "outlinewidth": 0,
             "ticks": ""
            },
            "colorscale": [
             [
              0,
              "#0d0887"
             ],
             [
              0.1111111111111111,
              "#46039f"
             ],
             [
              0.2222222222222222,
              "#7201a8"
             ],
             [
              0.3333333333333333,
              "#9c179e"
             ],
             [
              0.4444444444444444,
              "#bd3786"
             ],
             [
              0.5555555555555556,
              "#d8576b"
             ],
             [
              0.6666666666666666,
              "#ed7953"
             ],
             [
              0.7777777777777778,
              "#fb9f3a"
             ],
             [
              0.8888888888888888,
              "#fdca26"
             ],
             [
              1,
              "#f0f921"
             ]
            ],
            "type": "contour"
           }
          ],
          "contourcarpet": [
           {
            "colorbar": {
             "outlinewidth": 0,
             "ticks": ""
            },
            "type": "contourcarpet"
           }
          ],
          "heatmap": [
           {
            "colorbar": {
             "outlinewidth": 0,
             "ticks": ""
            },
            "colorscale": [
             [
              0,
              "#0d0887"
             ],
             [
              0.1111111111111111,
              "#46039f"
             ],
             [
              0.2222222222222222,
              "#7201a8"
             ],
             [
              0.3333333333333333,
              "#9c179e"
             ],
             [
              0.4444444444444444,
              "#bd3786"
             ],
             [
              0.5555555555555556,
              "#d8576b"
             ],
             [
              0.6666666666666666,
              "#ed7953"
             ],
             [
              0.7777777777777778,
              "#fb9f3a"
             ],
             [
              0.8888888888888888,
              "#fdca26"
             ],
             [
              1,
              "#f0f921"
             ]
            ],
            "type": "heatmap"
           }
          ],
          "heatmapgl": [
           {
            "colorbar": {
             "outlinewidth": 0,
             "ticks": ""
            },
            "colorscale": [
             [
              0,
              "#0d0887"
             ],
             [
              0.1111111111111111,
              "#46039f"
             ],
             [
              0.2222222222222222,
              "#7201a8"
             ],
             [
              0.3333333333333333,
              "#9c179e"
             ],
             [
              0.4444444444444444,
              "#bd3786"
             ],
             [
              0.5555555555555556,
              "#d8576b"
             ],
             [
              0.6666666666666666,
              "#ed7953"
             ],
             [
              0.7777777777777778,
              "#fb9f3a"
             ],
             [
              0.8888888888888888,
              "#fdca26"
             ],
             [
              1,
              "#f0f921"
             ]
            ],
            "type": "heatmapgl"
           }
          ],
          "histogram": [
           {
            "marker": {
             "colorbar": {
              "outlinewidth": 0,
              "ticks": ""
             }
            },
            "type": "histogram"
           }
          ],
          "histogram2d": [
           {
            "colorbar": {
             "outlinewidth": 0,
             "ticks": ""
            },
            "colorscale": [
             [
              0,
              "#0d0887"
             ],
             [
              0.1111111111111111,
              "#46039f"
             ],
             [
              0.2222222222222222,
              "#7201a8"
             ],
             [
              0.3333333333333333,
              "#9c179e"
             ],
             [
              0.4444444444444444,
              "#bd3786"
             ],
             [
              0.5555555555555556,
              "#d8576b"
             ],
             [
              0.6666666666666666,
              "#ed7953"
             ],
             [
              0.7777777777777778,
              "#fb9f3a"
             ],
             [
              0.8888888888888888,
              "#fdca26"
             ],
             [
              1,
              "#f0f921"
             ]
            ],
            "type": "histogram2d"
           }
          ],
          "histogram2dcontour": [
           {
            "colorbar": {
             "outlinewidth": 0,
             "ticks": ""
            },
            "colorscale": [
             [
              0,
              "#0d0887"
             ],
             [
              0.1111111111111111,
              "#46039f"
             ],
             [
              0.2222222222222222,
              "#7201a8"
             ],
             [
              0.3333333333333333,
              "#9c179e"
             ],
             [
              0.4444444444444444,
              "#bd3786"
             ],
             [
              0.5555555555555556,
              "#d8576b"
             ],
             [
              0.6666666666666666,
              "#ed7953"
             ],
             [
              0.7777777777777778,
              "#fb9f3a"
             ],
             [
              0.8888888888888888,
              "#fdca26"
             ],
             [
              1,
              "#f0f921"
             ]
            ],
            "type": "histogram2dcontour"
           }
          ],
          "mesh3d": [
           {
            "colorbar": {
             "outlinewidth": 0,
             "ticks": ""
            },
            "type": "mesh3d"
           }
          ],
          "parcoords": [
           {
            "line": {
             "colorbar": {
              "outlinewidth": 0,
              "ticks": ""
             }
            },
            "type": "parcoords"
           }
          ],
          "pie": [
           {
            "automargin": true,
            "type": "pie"
           }
          ],
          "scatter": [
           {
            "marker": {
             "colorbar": {
              "outlinewidth": 0,
              "ticks": ""
             }
            },
            "type": "scatter"
           }
          ],
          "scatter3d": [
           {
            "line": {
             "colorbar": {
              "outlinewidth": 0,
              "ticks": ""
             }
            },
            "marker": {
             "colorbar": {
              "outlinewidth": 0,
              "ticks": ""
             }
            },
            "type": "scatter3d"
           }
          ],
          "scattercarpet": [
           {
            "marker": {
             "colorbar": {
              "outlinewidth": 0,
              "ticks": ""
             }
            },
            "type": "scattercarpet"
           }
          ],
          "scattergeo": [
           {
            "marker": {
             "colorbar": {
              "outlinewidth": 0,
              "ticks": ""
             }
            },
            "type": "scattergeo"
           }
          ],
          "scattergl": [
           {
            "marker": {
             "colorbar": {
              "outlinewidth": 0,
              "ticks": ""
             }
            },
            "type": "scattergl"
           }
          ],
          "scattermapbox": [
           {
            "marker": {
             "colorbar": {
              "outlinewidth": 0,
              "ticks": ""
             }
            },
            "type": "scattermapbox"
           }
          ],
          "scatterpolar": [
           {
            "marker": {
             "colorbar": {
              "outlinewidth": 0,
              "ticks": ""
             }
            },
            "type": "scatterpolar"
           }
          ],
          "scatterpolargl": [
           {
            "marker": {
             "colorbar": {
              "outlinewidth": 0,
              "ticks": ""
             }
            },
            "type": "scatterpolargl"
           }
          ],
          "scatterternary": [
           {
            "marker": {
             "colorbar": {
              "outlinewidth": 0,
              "ticks": ""
             }
            },
            "type": "scatterternary"
           }
          ],
          "surface": [
           {
            "colorbar": {
             "outlinewidth": 0,
             "ticks": ""
            },
            "colorscale": [
             [
              0,
              "#0d0887"
             ],
             [
              0.1111111111111111,
              "#46039f"
             ],
             [
              0.2222222222222222,
              "#7201a8"
             ],
             [
              0.3333333333333333,
              "#9c179e"
             ],
             [
              0.4444444444444444,
              "#bd3786"
             ],
             [
              0.5555555555555556,
              "#d8576b"
             ],
             [
              0.6666666666666666,
              "#ed7953"
             ],
             [
              0.7777777777777778,
              "#fb9f3a"
             ],
             [
              0.8888888888888888,
              "#fdca26"
             ],
             [
              1,
              "#f0f921"
             ]
            ],
            "type": "surface"
           }
          ],
          "table": [
           {
            "cells": {
             "fill": {
              "color": "#EBF0F8"
             },
             "line": {
              "color": "white"
             }
            },
            "header": {
             "fill": {
              "color": "#C8D4E3"
             },
             "line": {
              "color": "white"
             }
            },
            "type": "table"
           }
          ]
         },
         "layout": {
          "annotationdefaults": {
           "arrowcolor": "#2a3f5f",
           "arrowhead": 0,
           "arrowwidth": 1
          },
          "autotypenumbers": "strict",
          "coloraxis": {
           "colorbar": {
            "outlinewidth": 0,
            "ticks": ""
           }
          },
          "colorscale": {
           "diverging": [
            [
             0,
             "#8e0152"
            ],
            [
             0.1,
             "#c51b7d"
            ],
            [
             0.2,
             "#de77ae"
            ],
            [
             0.3,
             "#f1b6da"
            ],
            [
             0.4,
             "#fde0ef"
            ],
            [
             0.5,
             "#f7f7f7"
            ],
            [
             0.6,
             "#e6f5d0"
            ],
            [
             0.7,
             "#b8e186"
            ],
            [
             0.8,
             "#7fbc41"
            ],
            [
             0.9,
             "#4d9221"
            ],
            [
             1,
             "#276419"
            ]
           ],
           "sequential": [
            [
             0,
             "#0d0887"
            ],
            [
             0.1111111111111111,
             "#46039f"
            ],
            [
             0.2222222222222222,
             "#7201a8"
            ],
            [
             0.3333333333333333,
             "#9c179e"
            ],
            [
             0.4444444444444444,
             "#bd3786"
            ],
            [
             0.5555555555555556,
             "#d8576b"
            ],
            [
             0.6666666666666666,
             "#ed7953"
            ],
            [
             0.7777777777777778,
             "#fb9f3a"
            ],
            [
             0.8888888888888888,
             "#fdca26"
            ],
            [
             1,
             "#f0f921"
            ]
           ],
           "sequentialminus": [
            [
             0,
             "#0d0887"
            ],
            [
             0.1111111111111111,
             "#46039f"
            ],
            [
             0.2222222222222222,
             "#7201a8"
            ],
            [
             0.3333333333333333,
             "#9c179e"
            ],
            [
             0.4444444444444444,
             "#bd3786"
            ],
            [
             0.5555555555555556,
             "#d8576b"
            ],
            [
             0.6666666666666666,
             "#ed7953"
            ],
            [
             0.7777777777777778,
             "#fb9f3a"
            ],
            [
             0.8888888888888888,
             "#fdca26"
            ],
            [
             1,
             "#f0f921"
            ]
           ]
          },
          "colorway": [
           "#636efa",
           "#EF553B",
           "#00cc96",
           "#ab63fa",
           "#FFA15A",
           "#19d3f3",
           "#FF6692",
           "#B6E880",
           "#FF97FF",
           "#FECB52"
          ],
          "font": {
           "color": "#2a3f5f"
          },
          "geo": {
           "bgcolor": "white",
           "lakecolor": "white",
           "landcolor": "#E5ECF6",
           "showlakes": true,
           "showland": true,
           "subunitcolor": "white"
          },
          "hoverlabel": {
           "align": "left"
          },
          "hovermode": "closest",
          "mapbox": {
           "style": "light"
          },
          "paper_bgcolor": "white",
          "plot_bgcolor": "#E5ECF6",
          "polar": {
           "angularaxis": {
            "gridcolor": "white",
            "linecolor": "white",
            "ticks": ""
           },
           "bgcolor": "#E5ECF6",
           "radialaxis": {
            "gridcolor": "white",
            "linecolor": "white",
            "ticks": ""
           }
          },
          "scene": {
           "xaxis": {
            "backgroundcolor": "#E5ECF6",
            "gridcolor": "white",
            "gridwidth": 2,
            "linecolor": "white",
            "showbackground": true,
            "ticks": "",
            "zerolinecolor": "white"
           },
           "yaxis": {
            "backgroundcolor": "#E5ECF6",
            "gridcolor": "white",
            "gridwidth": 2,
            "linecolor": "white",
            "showbackground": true,
            "ticks": "",
            "zerolinecolor": "white"
           },
           "zaxis": {
            "backgroundcolor": "#E5ECF6",
            "gridcolor": "white",
            "gridwidth": 2,
            "linecolor": "white",
            "showbackground": true,
            "ticks": "",
            "zerolinecolor": "white"
           }
          },
          "shapedefaults": {
           "line": {
            "color": "#2a3f5f"
           }
          },
          "ternary": {
           "aaxis": {
            "gridcolor": "white",
            "linecolor": "white",
            "ticks": ""
           },
           "baxis": {
            "gridcolor": "white",
            "linecolor": "white",
            "ticks": ""
           },
           "bgcolor": "#E5ECF6",
           "caxis": {
            "gridcolor": "white",
            "linecolor": "white",
            "ticks": ""
           }
          },
          "title": {
           "x": 0.05
          },
          "xaxis": {
           "automargin": true,
           "gridcolor": "white",
           "linecolor": "white",
           "ticks": "",
           "title": {
            "standoff": 15
           },
           "zerolinecolor": "white",
           "zerolinewidth": 2
          },
          "yaxis": {
           "automargin": true,
           "gridcolor": "white",
           "linecolor": "white",
           "ticks": "",
           "title": {
            "standoff": 15
           },
           "zerolinecolor": "white",
           "zerolinewidth": 2
          }
         }
        },
        "xaxis": {
         "anchor": "y",
         "domain": [
          0,
          1
         ],
         "title": {
          "text": "category_code"
         }
        },
        "yaxis": {
         "anchor": "x",
         "domain": [
          0,
          1
         ],
         "title": {
          "text": "count"
         }
        }
       }
      }
     },
     "metadata": {}
    }
   ],
   "source": [
    "px.histogram(pdf, x=\"category_code\", color=\"event_type\")"
   ]
  },
  {
   "source": [
    "##### Category ID - Event Type"
   ],
   "cell_type": "markdown",
   "metadata": {}
  },
  {
   "cell_type": "code",
   "execution_count": 123,
   "metadata": {},
   "outputs": [
    {
     "output_type": "stream",
     "name": "stdout",
     "text": [
      "+-------------------+----------+-----+\n|        Category_id|event_type|Count|\n+-------------------+----------+-----+\n|2173216765583032544|      view|    1|\n|2152167773222993940|      view|    1|\n|2146660887346282824|      view|    1|\n|2144916515806248980|      view|    1|\n|2137704922018218396|      view|    2|\n|2134905044833666047|      view|    2|\n|2127425436764865054|      view|    1|\n|2127425434894205468|      view|    1|\n|2116907524572577889|      view|    1|\n|2100825583029060150|      view|    3|\n|2098563450757186313|      view|    1|\n|2090228413959766319|      view|    4|\n|2085718636156158307|      view|    2|\n|2079713978300236035|      view|    2|\n|2070747671722722162|      view|    1|\n|2062461754293617058|      view|    1|\n|2060981320581906480|      view|    2|\n|2059484601444729123|      view|    2|\n|2055156924407612189|      view|    1|\n|2055156924315337497|      view|    1|\n+-------------------+----------+-----+\nonly showing top 20 rows\n\n"
     ]
    }
   ],
   "source": [
    "spark.sql(\"SELECT Category_id, event_type, Count(*) AS Count from Product_Data GROUP BY Category_id, event_type ORDER BY Category_id DESC, event_type DESC\").show()"
   ]
  },
  {
   "cell_type": "code",
   "execution_count": 42,
   "metadata": {},
   "outputs": [
    {
     "output_type": "display_data",
     "data": {
      "application/vnd.plotly.v1+json": {
       "config": {
        "plotlyServerURL": "https://plot.ly"
       },
       "data": [
        {
         "alignmentgroup": "True",
         "bingroup": "x",
         "hovertemplate": "event_type=view<br>category_id=%{x}<br>count=%{y}<extra></extra>",
         "legendgroup": "view",
         "marker": {
          "color": "#636efa"
         },
         "name": "view",
         "offsetgroup": "view",
         "orientation": "v",
         "showlegend": true,
         "type": "histogram",
         "x": [
          "2053013555631882655",
          "2053013566100866035",
          "2053013553853497655",
          "2053013563810775923",
          "2053013555631882655",
          "2053013558920217191",
          "2053013558920217191",
          "2053013558190408249",
          "2053013553559896355",
          "2053013555631882655",
          "2053013559792632471",
          "2053013563911439225",
          "2053013559901684381",
          "2060981320581906480",
          "2053013563944993659",
          "2053013562183385881",
          "2053013563391345499",
          "2053013553375346967",
          "2053013555631882655",
          "2053013558920217191",
          "2053013553559896355",
          "2053013555631882655",
          "2053013562837697343",
          "2053013559792632471",
          "2053013553853497655",
          "2053013562837697343",
          "2053013558752445019",
          "2053013555631882655",
          "2053013558920217191",
          "2053013558920217191",
          "2090228413959766319",
          "2053013559901684381",
          "2053013556110033341",
          "2053013556168753601",
          "2053013554994348409",
          "2137704922018218396",
          "2053013553484398879",
          "2053013554658804075",
          "2053013565983425517",
          "2053013555631882655",
          "2079713978300236035",
          "2053013560555995845",
          "2053013552326770905",
          "2053013563944993659",
          "2053013561218695907",
          "2053013557955527211",
          "2053013560530830019",
          "2053013563651392361",
          "2053013555631882655",
          "2053013561579406073",
          "2053013554415534427",
          "2146660887346282824",
          "2100825583029060150",
          "2053013555631882655",
          "2053013559901684381",
          "2053013561277416167",
          "2053013563391345499",
          "2053013559675191951",
          "2053013553887052089",
          "2053013556168753601",
          "2053013563215184719",
          "2053013558920217191",
          "2055156924315337497",
          "2152167773222993940",
          "2053013555631882655",
          "2053013553559896355",
          "2053013558223962683",
          "2053013556311359947",
          "2053013555631882655",
          "2053013553115300101",
          "2134905044833666047",
          "2053013553559896355",
          "2053013556168753601",
          "2053013559901684381",
          "2053013554155487563",
          "2053013553526341921",
          "2053013553056579841",
          "2053013553853497655",
          "2053013555631882655",
          "2053013553484398879",
          "2053013553559896355",
          "2053013554658804075",
          "2053013553853497655",
          "2053013555631882655",
          "2053013559868129947",
          "2053013553970938175",
          "2053013558920217191",
          "2053013555631882655",
          "2085718636156158307",
          "2055156924407612189",
          "2053013563911439225",
          "2100825583029060150",
          "2053013554658804075",
          "2059484601444729123",
          "2053013555631882655",
          "2053013555631882655",
          "2053013561579406073",
          "2053013563911439225",
          "2053013554994348409",
          "2053013554247762257",
          "2053013555631882655",
          "2053013563215184719",
          "2053013558920217191",
          "2053013560555995845",
          "2053013555631882655",
          "2053013558920217191",
          "2090228413959766319",
          "2053013555631882655",
          "2053013555631882655",
          "2053013553559896355",
          "2053013553853497655",
          "2053013557955527211",
          "2053013563911439225",
          "2053013553375346967",
          "2053013553853497655",
          "2100825583029060150",
          "2053013553970938175",
          "2053013556311359947",
          "2053013558920217191",
          "2053013555631882655",
          "2053013557477376525",
          "2053013561218695907",
          "2137704922018218396",
          "2053013555464110485",
          "2053013556168753601",
          "2053013555631882655",
          "2053013555631882655",
          "2053013553945772349",
          "2053013557024391671",
          "2053013555631882655",
          "2053013557024391671",
          "2053013558920217191",
          "2053013561579406073",
          "2053013563215184719",
          "2070747671722722162",
          "2053013558920217191",
          "2053013556168753601",
          "2053013563651392361",
          "2053013560144954031",
          "2053013558920217191",
          "2053013553559896355",
          "2134905044833666047",
          "2053013555631882655",
          "2127425436764865054",
          "2053013555631882655",
          "2053013556168753601",
          "2053013555631882655",
          "2053013553559896355",
          "2079713978300236035",
          "2053013558895051365",
          "2053013566100866035",
          "2053013554658804075",
          "2053013553056579841",
          "2053013553853497655",
          "2053013555631882655",
          "2053013563944993659",
          "2053013555631882655",
          "2053013555631882655",
          "2053013563944993659",
          "2090228413959766319",
          "2053013558920217191",
          "2053013553970938175",
          "2144916515806248980",
          "2053013555631882655",
          "2085718636156158307",
          "2053013553526341921",
          "2053013553341792533",
          "2053013559901684381",
          "2059484601444729123",
          "2053013558920217191",
          "2053013563911439225",
          "2053013555631882655",
          "2053013563215184719",
          "2053013553970938175",
          "2053013558433677895",
          "2053013563693335403",
          "2053013553559896355",
          "2053013559901684381",
          "2053013553945772349",
          "2053013557192163841",
          "2053013553853497655",
          "2116907524572577889",
          "2053013553559896355",
          "2053013555631882655",
          "2053013556311359947",
          "2053013555631882655",
          "2053013556311359947",
          "2098563450757186313",
          "2062461754293617058",
          "2053013558920217191",
          "2053013553559896355",
          "2053013561579406073",
          "2053013563651392361",
          "2053013557192163841",
          "2173216765583032544",
          "2127425434894205468",
          "2053013561579406073",
          "2053013553853497655",
          "2053013553970938175",
          "2053013555631882655",
          "2053013558920217191",
          "2053013557024391671",
          "2053013561579406073",
          "2053013553341792533",
          "2053013553945772349",
          "2053013554658804075",
          "2053013558920217191",
          "2053013553945772349",
          "2053013563651392361",
          "2090228413959766319",
          "2060981320581906480",
          "2053013553559896355",
          "2053013559733912211",
          "2053013555631882655"
         ],
         "xaxis": "x",
         "yaxis": "y"
        },
        {
         "alignmentgroup": "True",
         "bingroup": "x",
         "hovertemplate": "event_type=cart<br>category_id=%{x}<br>count=%{y}<extra></extra>",
         "legendgroup": "cart",
         "marker": {
          "color": "#EF553B"
         },
         "name": "cart",
         "offsetgroup": "cart",
         "orientation": "v",
         "showlegend": true,
         "type": "histogram",
         "x": [
          "2053013555631882655"
         ],
         "xaxis": "x",
         "yaxis": "y"
        },
        {
         "alignmentgroup": "True",
         "bingroup": "x",
         "hovertemplate": "event_type=purchase<br>category_id=%{x}<br>count=%{y}<extra></extra>",
         "legendgroup": "purchase",
         "marker": {
          "color": "#00cc96"
         },
         "name": "purchase",
         "offsetgroup": "purchase",
         "orientation": "v",
         "showlegend": true,
         "type": "histogram",
         "x": [
          "2053013557192163841",
          "2053013555631882655"
         ],
         "xaxis": "x",
         "yaxis": "y"
        }
       ],
       "layout": {
        "barmode": "relative",
        "legend": {
         "title": {
          "text": "event_type"
         },
         "tracegroupgap": 0
        },
        "margin": {
         "t": 60
        },
        "template": {
         "data": {
          "bar": [
           {
            "error_x": {
             "color": "#2a3f5f"
            },
            "error_y": {
             "color": "#2a3f5f"
            },
            "marker": {
             "line": {
              "color": "#E5ECF6",
              "width": 0.5
             }
            },
            "type": "bar"
           }
          ],
          "barpolar": [
           {
            "marker": {
             "line": {
              "color": "#E5ECF6",
              "width": 0.5
             }
            },
            "type": "barpolar"
           }
          ],
          "carpet": [
           {
            "aaxis": {
             "endlinecolor": "#2a3f5f",
             "gridcolor": "white",
             "linecolor": "white",
             "minorgridcolor": "white",
             "startlinecolor": "#2a3f5f"
            },
            "baxis": {
             "endlinecolor": "#2a3f5f",
             "gridcolor": "white",
             "linecolor": "white",
             "minorgridcolor": "white",
             "startlinecolor": "#2a3f5f"
            },
            "type": "carpet"
           }
          ],
          "choropleth": [
           {
            "colorbar": {
             "outlinewidth": 0,
             "ticks": ""
            },
            "type": "choropleth"
           }
          ],
          "contour": [
           {
            "colorbar": {
             "outlinewidth": 0,
             "ticks": ""
            },
            "colorscale": [
             [
              0,
              "#0d0887"
             ],
             [
              0.1111111111111111,
              "#46039f"
             ],
             [
              0.2222222222222222,
              "#7201a8"
             ],
             [
              0.3333333333333333,
              "#9c179e"
             ],
             [
              0.4444444444444444,
              "#bd3786"
             ],
             [
              0.5555555555555556,
              "#d8576b"
             ],
             [
              0.6666666666666666,
              "#ed7953"
             ],
             [
              0.7777777777777778,
              "#fb9f3a"
             ],
             [
              0.8888888888888888,
              "#fdca26"
             ],
             [
              1,
              "#f0f921"
             ]
            ],
            "type": "contour"
           }
          ],
          "contourcarpet": [
           {
            "colorbar": {
             "outlinewidth": 0,
             "ticks": ""
            },
            "type": "contourcarpet"
           }
          ],
          "heatmap": [
           {
            "colorbar": {
             "outlinewidth": 0,
             "ticks": ""
            },
            "colorscale": [
             [
              0,
              "#0d0887"
             ],
             [
              0.1111111111111111,
              "#46039f"
             ],
             [
              0.2222222222222222,
              "#7201a8"
             ],
             [
              0.3333333333333333,
              "#9c179e"
             ],
             [
              0.4444444444444444,
              "#bd3786"
             ],
             [
              0.5555555555555556,
              "#d8576b"
             ],
             [
              0.6666666666666666,
              "#ed7953"
             ],
             [
              0.7777777777777778,
              "#fb9f3a"
             ],
             [
              0.8888888888888888,
              "#fdca26"
             ],
             [
              1,
              "#f0f921"
             ]
            ],
            "type": "heatmap"
           }
          ],
          "heatmapgl": [
           {
            "colorbar": {
             "outlinewidth": 0,
             "ticks": ""
            },
            "colorscale": [
             [
              0,
              "#0d0887"
             ],
             [
              0.1111111111111111,
              "#46039f"
             ],
             [
              0.2222222222222222,
              "#7201a8"
             ],
             [
              0.3333333333333333,
              "#9c179e"
             ],
             [
              0.4444444444444444,
              "#bd3786"
             ],
             [
              0.5555555555555556,
              "#d8576b"
             ],
             [
              0.6666666666666666,
              "#ed7953"
             ],
             [
              0.7777777777777778,
              "#fb9f3a"
             ],
             [
              0.8888888888888888,
              "#fdca26"
             ],
             [
              1,
              "#f0f921"
             ]
            ],
            "type": "heatmapgl"
           }
          ],
          "histogram": [
           {
            "marker": {
             "colorbar": {
              "outlinewidth": 0,
              "ticks": ""
             }
            },
            "type": "histogram"
           }
          ],
          "histogram2d": [
           {
            "colorbar": {
             "outlinewidth": 0,
             "ticks": ""
            },
            "colorscale": [
             [
              0,
              "#0d0887"
             ],
             [
              0.1111111111111111,
              "#46039f"
             ],
             [
              0.2222222222222222,
              "#7201a8"
             ],
             [
              0.3333333333333333,
              "#9c179e"
             ],
             [
              0.4444444444444444,
              "#bd3786"
             ],
             [
              0.5555555555555556,
              "#d8576b"
             ],
             [
              0.6666666666666666,
              "#ed7953"
             ],
             [
              0.7777777777777778,
              "#fb9f3a"
             ],
             [
              0.8888888888888888,
              "#fdca26"
             ],
             [
              1,
              "#f0f921"
             ]
            ],
            "type": "histogram2d"
           }
          ],
          "histogram2dcontour": [
           {
            "colorbar": {
             "outlinewidth": 0,
             "ticks": ""
            },
            "colorscale": [
             [
              0,
              "#0d0887"
             ],
             [
              0.1111111111111111,
              "#46039f"
             ],
             [
              0.2222222222222222,
              "#7201a8"
             ],
             [
              0.3333333333333333,
              "#9c179e"
             ],
             [
              0.4444444444444444,
              "#bd3786"
             ],
             [
              0.5555555555555556,
              "#d8576b"
             ],
             [
              0.6666666666666666,
              "#ed7953"
             ],
             [
              0.7777777777777778,
              "#fb9f3a"
             ],
             [
              0.8888888888888888,
              "#fdca26"
             ],
             [
              1,
              "#f0f921"
             ]
            ],
            "type": "histogram2dcontour"
           }
          ],
          "mesh3d": [
           {
            "colorbar": {
             "outlinewidth": 0,
             "ticks": ""
            },
            "type": "mesh3d"
           }
          ],
          "parcoords": [
           {
            "line": {
             "colorbar": {
              "outlinewidth": 0,
              "ticks": ""
             }
            },
            "type": "parcoords"
           }
          ],
          "pie": [
           {
            "automargin": true,
            "type": "pie"
           }
          ],
          "scatter": [
           {
            "marker": {
             "colorbar": {
              "outlinewidth": 0,
              "ticks": ""
             }
            },
            "type": "scatter"
           }
          ],
          "scatter3d": [
           {
            "line": {
             "colorbar": {
              "outlinewidth": 0,
              "ticks": ""
             }
            },
            "marker": {
             "colorbar": {
              "outlinewidth": 0,
              "ticks": ""
             }
            },
            "type": "scatter3d"
           }
          ],
          "scattercarpet": [
           {
            "marker": {
             "colorbar": {
              "outlinewidth": 0,
              "ticks": ""
             }
            },
            "type": "scattercarpet"
           }
          ],
          "scattergeo": [
           {
            "marker": {
             "colorbar": {
              "outlinewidth": 0,
              "ticks": ""
             }
            },
            "type": "scattergeo"
           }
          ],
          "scattergl": [
           {
            "marker": {
             "colorbar": {
              "outlinewidth": 0,
              "ticks": ""
             }
            },
            "type": "scattergl"
           }
          ],
          "scattermapbox": [
           {
            "marker": {
             "colorbar": {
              "outlinewidth": 0,
              "ticks": ""
             }
            },
            "type": "scattermapbox"
           }
          ],
          "scatterpolar": [
           {
            "marker": {
             "colorbar": {
              "outlinewidth": 0,
              "ticks": ""
             }
            },
            "type": "scatterpolar"
           }
          ],
          "scatterpolargl": [
           {
            "marker": {
             "colorbar": {
              "outlinewidth": 0,
              "ticks": ""
             }
            },
            "type": "scatterpolargl"
           }
          ],
          "scatterternary": [
           {
            "marker": {
             "colorbar": {
              "outlinewidth": 0,
              "ticks": ""
             }
            },
            "type": "scatterternary"
           }
          ],
          "surface": [
           {
            "colorbar": {
             "outlinewidth": 0,
             "ticks": ""
            },
            "colorscale": [
             [
              0,
              "#0d0887"
             ],
             [
              0.1111111111111111,
              "#46039f"
             ],
             [
              0.2222222222222222,
              "#7201a8"
             ],
             [
              0.3333333333333333,
              "#9c179e"
             ],
             [
              0.4444444444444444,
              "#bd3786"
             ],
             [
              0.5555555555555556,
              "#d8576b"
             ],
             [
              0.6666666666666666,
              "#ed7953"
             ],
             [
              0.7777777777777778,
              "#fb9f3a"
             ],
             [
              0.8888888888888888,
              "#fdca26"
             ],
             [
              1,
              "#f0f921"
             ]
            ],
            "type": "surface"
           }
          ],
          "table": [
           {
            "cells": {
             "fill": {
              "color": "#EBF0F8"
             },
             "line": {
              "color": "white"
             }
            },
            "header": {
             "fill": {
              "color": "#C8D4E3"
             },
             "line": {
              "color": "white"
             }
            },
            "type": "table"
           }
          ]
         },
         "layout": {
          "annotationdefaults": {
           "arrowcolor": "#2a3f5f",
           "arrowhead": 0,
           "arrowwidth": 1
          },
          "autotypenumbers": "strict",
          "coloraxis": {
           "colorbar": {
            "outlinewidth": 0,
            "ticks": ""
           }
          },
          "colorscale": {
           "diverging": [
            [
             0,
             "#8e0152"
            ],
            [
             0.1,
             "#c51b7d"
            ],
            [
             0.2,
             "#de77ae"
            ],
            [
             0.3,
             "#f1b6da"
            ],
            [
             0.4,
             "#fde0ef"
            ],
            [
             0.5,
             "#f7f7f7"
            ],
            [
             0.6,
             "#e6f5d0"
            ],
            [
             0.7,
             "#b8e186"
            ],
            [
             0.8,
             "#7fbc41"
            ],
            [
             0.9,
             "#4d9221"
            ],
            [
             1,
             "#276419"
            ]
           ],
           "sequential": [
            [
             0,
             "#0d0887"
            ],
            [
             0.1111111111111111,
             "#46039f"
            ],
            [
             0.2222222222222222,
             "#7201a8"
            ],
            [
             0.3333333333333333,
             "#9c179e"
            ],
            [
             0.4444444444444444,
             "#bd3786"
            ],
            [
             0.5555555555555556,
             "#d8576b"
            ],
            [
             0.6666666666666666,
             "#ed7953"
            ],
            [
             0.7777777777777778,
             "#fb9f3a"
            ],
            [
             0.8888888888888888,
             "#fdca26"
            ],
            [
             1,
             "#f0f921"
            ]
           ],
           "sequentialminus": [
            [
             0,
             "#0d0887"
            ],
            [
             0.1111111111111111,
             "#46039f"
            ],
            [
             0.2222222222222222,
             "#7201a8"
            ],
            [
             0.3333333333333333,
             "#9c179e"
            ],
            [
             0.4444444444444444,
             "#bd3786"
            ],
            [
             0.5555555555555556,
             "#d8576b"
            ],
            [
             0.6666666666666666,
             "#ed7953"
            ],
            [
             0.7777777777777778,
             "#fb9f3a"
            ],
            [
             0.8888888888888888,
             "#fdca26"
            ],
            [
             1,
             "#f0f921"
            ]
           ]
          },
          "colorway": [
           "#636efa",
           "#EF553B",
           "#00cc96",
           "#ab63fa",
           "#FFA15A",
           "#19d3f3",
           "#FF6692",
           "#B6E880",
           "#FF97FF",
           "#FECB52"
          ],
          "font": {
           "color": "#2a3f5f"
          },
          "geo": {
           "bgcolor": "white",
           "lakecolor": "white",
           "landcolor": "#E5ECF6",
           "showlakes": true,
           "showland": true,
           "subunitcolor": "white"
          },
          "hoverlabel": {
           "align": "left"
          },
          "hovermode": "closest",
          "mapbox": {
           "style": "light"
          },
          "paper_bgcolor": "white",
          "plot_bgcolor": "#E5ECF6",
          "polar": {
           "angularaxis": {
            "gridcolor": "white",
            "linecolor": "white",
            "ticks": ""
           },
           "bgcolor": "#E5ECF6",
           "radialaxis": {
            "gridcolor": "white",
            "linecolor": "white",
            "ticks": ""
           }
          },
          "scene": {
           "xaxis": {
            "backgroundcolor": "#E5ECF6",
            "gridcolor": "white",
            "gridwidth": 2,
            "linecolor": "white",
            "showbackground": true,
            "ticks": "",
            "zerolinecolor": "white"
           },
           "yaxis": {
            "backgroundcolor": "#E5ECF6",
            "gridcolor": "white",
            "gridwidth": 2,
            "linecolor": "white",
            "showbackground": true,
            "ticks": "",
            "zerolinecolor": "white"
           },
           "zaxis": {
            "backgroundcolor": "#E5ECF6",
            "gridcolor": "white",
            "gridwidth": 2,
            "linecolor": "white",
            "showbackground": true,
            "ticks": "",
            "zerolinecolor": "white"
           }
          },
          "shapedefaults": {
           "line": {
            "color": "#2a3f5f"
           }
          },
          "ternary": {
           "aaxis": {
            "gridcolor": "white",
            "linecolor": "white",
            "ticks": ""
           },
           "baxis": {
            "gridcolor": "white",
            "linecolor": "white",
            "ticks": ""
           },
           "bgcolor": "#E5ECF6",
           "caxis": {
            "gridcolor": "white",
            "linecolor": "white",
            "ticks": ""
           }
          },
          "title": {
           "x": 0.05
          },
          "xaxis": {
           "automargin": true,
           "gridcolor": "white",
           "linecolor": "white",
           "ticks": "",
           "title": {
            "standoff": 15
           },
           "zerolinecolor": "white",
           "zerolinewidth": 2
          },
          "yaxis": {
           "automargin": true,
           "gridcolor": "white",
           "linecolor": "white",
           "ticks": "",
           "title": {
            "standoff": 15
           },
           "zerolinecolor": "white",
           "zerolinewidth": 2
          }
         }
        },
        "xaxis": {
         "anchor": "y",
         "domain": [
          0,
          1
         ],
         "title": {
          "text": "category_id"
         }
        },
        "yaxis": {
         "anchor": "x",
         "domain": [
          0,
          1
         ],
         "title": {
          "text": "count"
         }
        }
       }
      }
     },
     "metadata": {}
    }
   ],
   "source": [
    "px.histogram(pdf, x=\"category_id\", color=\"event_type\")"
   ]
  },
  {
   "source": [
    "##### Product ID - Event Type"
   ],
   "cell_type": "markdown",
   "metadata": {}
  },
  {
   "cell_type": "code",
   "execution_count": 124,
   "metadata": {},
   "outputs": [
    {
     "output_type": "stream",
     "name": "stdout",
     "text": [
      "+----------+----------+-----+\n|Product_ID|event_type|Count|\n+----------+----------+-----+\n|  57300036|      view|    1|\n|  53900036|      view|    1|\n|  52000058|      view|    1|\n|  52000038|      view|    1|\n|  50600085|      view|    1|\n|  50600046|      view|    1|\n|  45601414|      view|    1|\n|  44300043|      view|    1|\n|  44300026|      view|    1|\n|  44300009|      view|    1|\n|  43200121|      view|    1|\n|  42900023|      view|    1|\n|  41100058|      view|    1|\n|  41100055|      view|    1|\n|  41100050|      view|    1|\n|  41100033|      view|    1|\n|  40900007|      view|    1|\n|  38900011|      view|    2|\n|  37900026|      view|    1|\n|  36600031|      view|    1|\n+----------+----------+-----+\nonly showing top 20 rows\n\n"
     ]
    }
   ],
   "source": [
    "spark.sql(\"SELECT Product_ID, event_type, Count(*) AS Count from Product_Data GROUP BY Product_ID, event_type ORDER BY Product_ID DESC, event_type DESC\").show()"
   ]
  },
  {
   "cell_type": "code",
   "execution_count": 84,
   "metadata": {},
   "outputs": [
    {
     "output_type": "display_data",
     "data": {
      "application/vnd.plotly.v1+json": {
       "config": {
        "plotlyServerURL": "https://plot.ly"
       },
       "data": [
        {
         "alignmentgroup": "True",
         "bingroup": "x",
         "hovertemplate": "event_type=view<br>product_id=%{x}<br>count=%{y}<extra></extra>",
         "legendgroup": "view",
         "marker": {
          "color": "#636efa"
         },
         "name": "view",
         "offsetgroup": "view",
         "orientation": "v",
         "showlegend": true,
         "type": "histogram",
         "x": [
          "1003461",
          "5000088",
          "17302664",
          "3601530",
          "1004775",
          "1306894",
          "1306421",
          "15900065",
          "12708937",
          "1004258",
          "17200570",
          "2701517",
          "16700260",
          "34600011",
          "4600658",
          "24900193",
          "27400066",
          "5100503",
          "1004566",
          "1307115",
          "12719154",
          "1004708",
          "26022534",
          "17200558",
          "17300016",
          "26019863",
          "17501048",
          "1005115",
          "1307350",
          "1307340",
          "41100055",
          "16700826",
          "30100041",
          "22700205",
          "10800182",
          "52000058",
          "15200565",
          "4804194",
          "3701016",
          "1002544",
          "27800054",
          "2201037",
          "3901174",
          "4600603",
          "4100297",
          "18100047",
          "2300214",
          "26400585",
          "1005161",
          "21406939",
          "1800729",
          "43200121",
          "44300043",
          "1003317",
          "16700826",
          "10701060",
          "27400066",
          "25600085",
          "26100002",
          "22700067",
          "24400437",
          "1307095",
          "31000152",
          "37900026",
          "1004856",
          "12720378",
          "16000004",
          "12300928",
          "1004877",
          "10301494",
          "50600046",
          "12719892",
          "22700324",
          "16700690",
          "6500912",
          "13102283",
          "1600557",
          "17300072",
          "1004237",
          "15200567",
          "12708937",
          "4804295",
          "17301495",
          "1004990",
          "17800132",
          "5701331",
          "1307338",
          "1004767",
          "38900011",
          "32900064",
          "2701305",
          "44300009",
          "4804151",
          "29900072",
          "1004184",
          "1003316",
          "21408240",
          "2701419",
          "10800076",
          "6700582",
          "1005116",
          "24400437",
          "1307115",
          "2200958",
          "1004241",
          "1307322",
          "41100058",
          "1004237",
          "1004840",
          "12720155",
          "17300072",
          "18100030",
          "2700598",
          "5100851",
          "17301611",
          "44300026",
          "5700662",
          "12301394",
          "1307255",
          "1003461",
          "13600340",
          "4100297",
          "52000038",
          "7100133",
          "22700202",
          "1004834",
          "1004833",
          "5800506",
          "15100337",
          "1005234",
          "15100148",
          "1307012",
          "21408240",
          "24400437",
          "36600031",
          "1307065",
          "22700007",
          "26404402",
          "15800155",
          "1307519",
          "12708937",
          "50600085",
          "1003316",
          "30000218",
          "1004322",
          "22700084",
          "1004767",
          "12710321",
          "27800061",
          "17601982",
          "5000088",
          "4804295",
          "1600587",
          "17301421",
          "1004720",
          "4600603",
          "1004856",
          "1005116",
          "4600541",
          "41100050",
          "1306571",
          "5700352",
          "53900036",
          "1003869",
          "38900011",
          "13100745",
          "5100797",
          "16700384",
          "29900072",
          "1305977",
          "2702611",
          "1004779",
          "24400436",
          "5701331",
          "16900083",
          "26204072",
          "12701967",
          "16700384",
          "5801483",
          "13200605",
          "17300136",
          "45601414",
          "12708306",
          "1004740",
          "12300231",
          "1004748",
          "12300394",
          "42900023",
          "34800573",
          "1306895",
          "12705258",
          "21400135",
          "26402378",
          "13200605",
          "57300036",
          "40900007",
          "21405259",
          "17300435",
          "5701331",
          "1004775",
          "1303355",
          "15100252",
          "21407128",
          "5100855",
          "5801550",
          "4804420",
          "1304315",
          "5801656",
          "26400273",
          "41100033",
          "34600119",
          "12705151",
          "15700204",
          "1004258"
         ],
         "xaxis": "x",
         "yaxis": "y"
        },
        {
         "alignmentgroup": "True",
         "bingroup": "x",
         "hovertemplate": "event_type=cart<br>product_id=%{x}<br>count=%{y}<extra></extra>",
         "legendgroup": "cart",
         "marker": {
          "color": "#EF553B"
         },
         "name": "cart",
         "offsetgroup": "cart",
         "orientation": "v",
         "showlegend": true,
         "type": "histogram",
         "x": [
          "1005014"
         ],
         "xaxis": "x",
         "yaxis": "y"
        },
        {
         "alignmentgroup": "True",
         "bingroup": "x",
         "hovertemplate": "event_type=purchase<br>product_id=%{x}<br>count=%{y}<extra></extra>",
         "legendgroup": "purchase",
         "marker": {
          "color": "#00cc96"
         },
         "name": "purchase",
         "offsetgroup": "purchase",
         "orientation": "v",
         "showlegend": true,
         "type": "histogram",
         "x": [
          "13200605",
          "1005161"
         ],
         "xaxis": "x",
         "yaxis": "y"
        }
       ],
       "layout": {
        "barmode": "relative",
        "legend": {
         "title": {
          "text": "event_type"
         },
         "tracegroupgap": 0
        },
        "margin": {
         "t": 60
        },
        "template": {
         "data": {
          "bar": [
           {
            "error_x": {
             "color": "#2a3f5f"
            },
            "error_y": {
             "color": "#2a3f5f"
            },
            "marker": {
             "line": {
              "color": "#E5ECF6",
              "width": 0.5
             }
            },
            "type": "bar"
           }
          ],
          "barpolar": [
           {
            "marker": {
             "line": {
              "color": "#E5ECF6",
              "width": 0.5
             }
            },
            "type": "barpolar"
           }
          ],
          "carpet": [
           {
            "aaxis": {
             "endlinecolor": "#2a3f5f",
             "gridcolor": "white",
             "linecolor": "white",
             "minorgridcolor": "white",
             "startlinecolor": "#2a3f5f"
            },
            "baxis": {
             "endlinecolor": "#2a3f5f",
             "gridcolor": "white",
             "linecolor": "white",
             "minorgridcolor": "white",
             "startlinecolor": "#2a3f5f"
            },
            "type": "carpet"
           }
          ],
          "choropleth": [
           {
            "colorbar": {
             "outlinewidth": 0,
             "ticks": ""
            },
            "type": "choropleth"
           }
          ],
          "contour": [
           {
            "colorbar": {
             "outlinewidth": 0,
             "ticks": ""
            },
            "colorscale": [
             [
              0,
              "#0d0887"
             ],
             [
              0.1111111111111111,
              "#46039f"
             ],
             [
              0.2222222222222222,
              "#7201a8"
             ],
             [
              0.3333333333333333,
              "#9c179e"
             ],
             [
              0.4444444444444444,
              "#bd3786"
             ],
             [
              0.5555555555555556,
              "#d8576b"
             ],
             [
              0.6666666666666666,
              "#ed7953"
             ],
             [
              0.7777777777777778,
              "#fb9f3a"
             ],
             [
              0.8888888888888888,
              "#fdca26"
             ],
             [
              1,
              "#f0f921"
             ]
            ],
            "type": "contour"
           }
          ],
          "contourcarpet": [
           {
            "colorbar": {
             "outlinewidth": 0,
             "ticks": ""
            },
            "type": "contourcarpet"
           }
          ],
          "heatmap": [
           {
            "colorbar": {
             "outlinewidth": 0,
             "ticks": ""
            },
            "colorscale": [
             [
              0,
              "#0d0887"
             ],
             [
              0.1111111111111111,
              "#46039f"
             ],
             [
              0.2222222222222222,
              "#7201a8"
             ],
             [
              0.3333333333333333,
              "#9c179e"
             ],
             [
              0.4444444444444444,
              "#bd3786"
             ],
             [
              0.5555555555555556,
              "#d8576b"
             ],
             [
              0.6666666666666666,
              "#ed7953"
             ],
             [
              0.7777777777777778,
              "#fb9f3a"
             ],
             [
              0.8888888888888888,
              "#fdca26"
             ],
             [
              1,
              "#f0f921"
             ]
            ],
            "type": "heatmap"
           }
          ],
          "heatmapgl": [
           {
            "colorbar": {
             "outlinewidth": 0,
             "ticks": ""
            },
            "colorscale": [
             [
              0,
              "#0d0887"
             ],
             [
              0.1111111111111111,
              "#46039f"
             ],
             [
              0.2222222222222222,
              "#7201a8"
             ],
             [
              0.3333333333333333,
              "#9c179e"
             ],
             [
              0.4444444444444444,
              "#bd3786"
             ],
             [
              0.5555555555555556,
              "#d8576b"
             ],
             [
              0.6666666666666666,
              "#ed7953"
             ],
             [
              0.7777777777777778,
              "#fb9f3a"
             ],
             [
              0.8888888888888888,
              "#fdca26"
             ],
             [
              1,
              "#f0f921"
             ]
            ],
            "type": "heatmapgl"
           }
          ],
          "histogram": [
           {
            "marker": {
             "colorbar": {
              "outlinewidth": 0,
              "ticks": ""
             }
            },
            "type": "histogram"
           }
          ],
          "histogram2d": [
           {
            "colorbar": {
             "outlinewidth": 0,
             "ticks": ""
            },
            "colorscale": [
             [
              0,
              "#0d0887"
             ],
             [
              0.1111111111111111,
              "#46039f"
             ],
             [
              0.2222222222222222,
              "#7201a8"
             ],
             [
              0.3333333333333333,
              "#9c179e"
             ],
             [
              0.4444444444444444,
              "#bd3786"
             ],
             [
              0.5555555555555556,
              "#d8576b"
             ],
             [
              0.6666666666666666,
              "#ed7953"
             ],
             [
              0.7777777777777778,
              "#fb9f3a"
             ],
             [
              0.8888888888888888,
              "#fdca26"
             ],
             [
              1,
              "#f0f921"
             ]
            ],
            "type": "histogram2d"
           }
          ],
          "histogram2dcontour": [
           {
            "colorbar": {
             "outlinewidth": 0,
             "ticks": ""
            },
            "colorscale": [
             [
              0,
              "#0d0887"
             ],
             [
              0.1111111111111111,
              "#46039f"
             ],
             [
              0.2222222222222222,
              "#7201a8"
             ],
             [
              0.3333333333333333,
              "#9c179e"
             ],
             [
              0.4444444444444444,
              "#bd3786"
             ],
             [
              0.5555555555555556,
              "#d8576b"
             ],
             [
              0.6666666666666666,
              "#ed7953"
             ],
             [
              0.7777777777777778,
              "#fb9f3a"
             ],
             [
              0.8888888888888888,
              "#fdca26"
             ],
             [
              1,
              "#f0f921"
             ]
            ],
            "type": "histogram2dcontour"
           }
          ],
          "mesh3d": [
           {
            "colorbar": {
             "outlinewidth": 0,
             "ticks": ""
            },
            "type": "mesh3d"
           }
          ],
          "parcoords": [
           {
            "line": {
             "colorbar": {
              "outlinewidth": 0,
              "ticks": ""
             }
            },
            "type": "parcoords"
           }
          ],
          "pie": [
           {
            "automargin": true,
            "type": "pie"
           }
          ],
          "scatter": [
           {
            "marker": {
             "colorbar": {
              "outlinewidth": 0,
              "ticks": ""
             }
            },
            "type": "scatter"
           }
          ],
          "scatter3d": [
           {
            "line": {
             "colorbar": {
              "outlinewidth": 0,
              "ticks": ""
             }
            },
            "marker": {
             "colorbar": {
              "outlinewidth": 0,
              "ticks": ""
             }
            },
            "type": "scatter3d"
           }
          ],
          "scattercarpet": [
           {
            "marker": {
             "colorbar": {
              "outlinewidth": 0,
              "ticks": ""
             }
            },
            "type": "scattercarpet"
           }
          ],
          "scattergeo": [
           {
            "marker": {
             "colorbar": {
              "outlinewidth": 0,
              "ticks": ""
             }
            },
            "type": "scattergeo"
           }
          ],
          "scattergl": [
           {
            "marker": {
             "colorbar": {
              "outlinewidth": 0,
              "ticks": ""
             }
            },
            "type": "scattergl"
           }
          ],
          "scattermapbox": [
           {
            "marker": {
             "colorbar": {
              "outlinewidth": 0,
              "ticks": ""
             }
            },
            "type": "scattermapbox"
           }
          ],
          "scatterpolar": [
           {
            "marker": {
             "colorbar": {
              "outlinewidth": 0,
              "ticks": ""
             }
            },
            "type": "scatterpolar"
           }
          ],
          "scatterpolargl": [
           {
            "marker": {
             "colorbar": {
              "outlinewidth": 0,
              "ticks": ""
             }
            },
            "type": "scatterpolargl"
           }
          ],
          "scatterternary": [
           {
            "marker": {
             "colorbar": {
              "outlinewidth": 0,
              "ticks": ""
             }
            },
            "type": "scatterternary"
           }
          ],
          "surface": [
           {
            "colorbar": {
             "outlinewidth": 0,
             "ticks": ""
            },
            "colorscale": [
             [
              0,
              "#0d0887"
             ],
             [
              0.1111111111111111,
              "#46039f"
             ],
             [
              0.2222222222222222,
              "#7201a8"
             ],
             [
              0.3333333333333333,
              "#9c179e"
             ],
             [
              0.4444444444444444,
              "#bd3786"
             ],
             [
              0.5555555555555556,
              "#d8576b"
             ],
             [
              0.6666666666666666,
              "#ed7953"
             ],
             [
              0.7777777777777778,
              "#fb9f3a"
             ],
             [
              0.8888888888888888,
              "#fdca26"
             ],
             [
              1,
              "#f0f921"
             ]
            ],
            "type": "surface"
           }
          ],
          "table": [
           {
            "cells": {
             "fill": {
              "color": "#EBF0F8"
             },
             "line": {
              "color": "white"
             }
            },
            "header": {
             "fill": {
              "color": "#C8D4E3"
             },
             "line": {
              "color": "white"
             }
            },
            "type": "table"
           }
          ]
         },
         "layout": {
          "annotationdefaults": {
           "arrowcolor": "#2a3f5f",
           "arrowhead": 0,
           "arrowwidth": 1
          },
          "autotypenumbers": "strict",
          "coloraxis": {
           "colorbar": {
            "outlinewidth": 0,
            "ticks": ""
           }
          },
          "colorscale": {
           "diverging": [
            [
             0,
             "#8e0152"
            ],
            [
             0.1,
             "#c51b7d"
            ],
            [
             0.2,
             "#de77ae"
            ],
            [
             0.3,
             "#f1b6da"
            ],
            [
             0.4,
             "#fde0ef"
            ],
            [
             0.5,
             "#f7f7f7"
            ],
            [
             0.6,
             "#e6f5d0"
            ],
            [
             0.7,
             "#b8e186"
            ],
            [
             0.8,
             "#7fbc41"
            ],
            [
             0.9,
             "#4d9221"
            ],
            [
             1,
             "#276419"
            ]
           ],
           "sequential": [
            [
             0,
             "#0d0887"
            ],
            [
             0.1111111111111111,
             "#46039f"
            ],
            [
             0.2222222222222222,
             "#7201a8"
            ],
            [
             0.3333333333333333,
             "#9c179e"
            ],
            [
             0.4444444444444444,
             "#bd3786"
            ],
            [
             0.5555555555555556,
             "#d8576b"
            ],
            [
             0.6666666666666666,
             "#ed7953"
            ],
            [
             0.7777777777777778,
             "#fb9f3a"
            ],
            [
             0.8888888888888888,
             "#fdca26"
            ],
            [
             1,
             "#f0f921"
            ]
           ],
           "sequentialminus": [
            [
             0,
             "#0d0887"
            ],
            [
             0.1111111111111111,
             "#46039f"
            ],
            [
             0.2222222222222222,
             "#7201a8"
            ],
            [
             0.3333333333333333,
             "#9c179e"
            ],
            [
             0.4444444444444444,
             "#bd3786"
            ],
            [
             0.5555555555555556,
             "#d8576b"
            ],
            [
             0.6666666666666666,
             "#ed7953"
            ],
            [
             0.7777777777777778,
             "#fb9f3a"
            ],
            [
             0.8888888888888888,
             "#fdca26"
            ],
            [
             1,
             "#f0f921"
            ]
           ]
          },
          "colorway": [
           "#636efa",
           "#EF553B",
           "#00cc96",
           "#ab63fa",
           "#FFA15A",
           "#19d3f3",
           "#FF6692",
           "#B6E880",
           "#FF97FF",
           "#FECB52"
          ],
          "font": {
           "color": "#2a3f5f"
          },
          "geo": {
           "bgcolor": "white",
           "lakecolor": "white",
           "landcolor": "#E5ECF6",
           "showlakes": true,
           "showland": true,
           "subunitcolor": "white"
          },
          "hoverlabel": {
           "align": "left"
          },
          "hovermode": "closest",
          "mapbox": {
           "style": "light"
          },
          "paper_bgcolor": "white",
          "plot_bgcolor": "#E5ECF6",
          "polar": {
           "angularaxis": {
            "gridcolor": "white",
            "linecolor": "white",
            "ticks": ""
           },
           "bgcolor": "#E5ECF6",
           "radialaxis": {
            "gridcolor": "white",
            "linecolor": "white",
            "ticks": ""
           }
          },
          "scene": {
           "xaxis": {
            "backgroundcolor": "#E5ECF6",
            "gridcolor": "white",
            "gridwidth": 2,
            "linecolor": "white",
            "showbackground": true,
            "ticks": "",
            "zerolinecolor": "white"
           },
           "yaxis": {
            "backgroundcolor": "#E5ECF6",
            "gridcolor": "white",
            "gridwidth": 2,
            "linecolor": "white",
            "showbackground": true,
            "ticks": "",
            "zerolinecolor": "white"
           },
           "zaxis": {
            "backgroundcolor": "#E5ECF6",
            "gridcolor": "white",
            "gridwidth": 2,
            "linecolor": "white",
            "showbackground": true,
            "ticks": "",
            "zerolinecolor": "white"
           }
          },
          "shapedefaults": {
           "line": {
            "color": "#2a3f5f"
           }
          },
          "ternary": {
           "aaxis": {
            "gridcolor": "white",
            "linecolor": "white",
            "ticks": ""
           },
           "baxis": {
            "gridcolor": "white",
            "linecolor": "white",
            "ticks": ""
           },
           "bgcolor": "#E5ECF6",
           "caxis": {
            "gridcolor": "white",
            "linecolor": "white",
            "ticks": ""
           }
          },
          "title": {
           "x": 0.05
          },
          "xaxis": {
           "automargin": true,
           "gridcolor": "white",
           "linecolor": "white",
           "ticks": "",
           "title": {
            "standoff": 15
           },
           "zerolinecolor": "white",
           "zerolinewidth": 2
          },
          "yaxis": {
           "automargin": true,
           "gridcolor": "white",
           "linecolor": "white",
           "ticks": "",
           "title": {
            "standoff": 15
           },
           "zerolinecolor": "white",
           "zerolinewidth": 2
          }
         }
        },
        "xaxis": {
         "anchor": "y",
         "domain": [
          0,
          1
         ],
         "title": {
          "text": "product_id"
         }
        },
        "yaxis": {
         "anchor": "x",
         "domain": [
          0,
          1
         ],
         "title": {
          "text": "count"
         }
        }
       }
      }
     },
     "metadata": {}
    }
   ],
   "source": [
    "px.histogram(pdf, x=\"product_id\", color=\"event_type\")"
   ]
  },
  {
   "source": [
    "##### Brand - Event Type"
   ],
   "cell_type": "markdown",
   "metadata": {}
  },
  {
   "cell_type": "code",
   "execution_count": 125,
   "metadata": {},
   "outputs": [
    {
     "output_type": "stream",
     "name": "stdout",
     "text": [
      "+---------+----------+-----+\n|    Brand|event_type|Count|\n+---------+----------+-----+\n| yokohama|      view|    2|\n|   xiaomi|      view|   14|\n|   xiaomi|  purchase|    1|\n|    welly|      view|    1|\n|trussardi|      view|    3|\n|  tomfarr|      view|    1|\n|   tissot|      view|    4|\n|    tefal|      view|    1|\n|  tarkett|      view|    1|\n|    t-rex|      view|    1|\n|       sv|      view|    1|\n|     sulu|      view|    1|\n|    stels|      view|    1|\n|  stanley|      view|    1|\n|     sony|      view|    2|\n|  sokolov|      view|    1|\n|     skad|      view|    1|\n|  samsung|      view|    9|\n|  samsung|      cart|    1|\n|  rondell|      view|    2|\n+---------+----------+-----+\nonly showing top 20 rows\n\n"
     ]
    }
   ],
   "source": [
    "spark.sql(\"SELECT Brand, event_type, Count(*) AS Count from Product_Data GROUP BY Brand, event_type ORDER BY Brand DESC, event_type DESC\").show()"
   ]
  },
  {
   "cell_type": "code",
   "execution_count": 99,
   "metadata": {},
   "outputs": [
    {
     "output_type": "display_data",
     "data": {
      "application/vnd.plotly.v1+json": {
       "config": {
        "plotlyServerURL": "https://plot.ly"
       },
       "data": [
        {
         "alignmentgroup": "True",
         "bingroup": "x",
         "hovertemplate": "event_type=view<br>brand=%{x}<br>count=%{y}<extra></extra>",
         "legendgroup": "view",
         "marker": {
          "color": "#636efa"
         },
         "name": "view",
         "offsetgroup": "view",
         "orientation": "v",
         "showlegend": true,
         "type": "histogram",
         "x": [
          "xiaomi",
          "janome",
          "creed",
          "lg",
          "xiaomi",
          "hp",
          "hp",
          "rondell",
          "michelin",
          "apple",
          "unknown",
          "unknown",
          "unknown",
          "unknown",
          "samsung",
          "unknown",
          "unknown",
          "xiaomi",
          "huawei",
          "hp",
          "yokohama",
          "huawei",
          "unknown",
          "unknown",
          "trussardi",
          "unknown",
          "eveline",
          "apple",
          "acer",
          "asus",
          "unknown",
          "nika",
          "unknown",
          "matrix",
          "redmond",
          "tomfarr",
          "hyper",
          "acme",
          "tefal",
          "apple",
          "unknown",
          "canon",
          "oasis",
          "bosch",
          "sony",
          "rezult",
          "unknown",
          "lucente",
          "xiaomi",
          "tissot",
          "samsung",
          "goodloot",
          "unknown",
          "apple",
          "nika",
          "unknown",
          "unknown",
          "brw",
          "sulu",
          "force",
          "kirkland",
          "lenovo",
          "humminbird",
          "merelani",
          "samsung",
          "roadx",
          "rondell",
          "dewalt",
          "xiaomi",
          "welly",
          "denzel",
          "nokian",
          "bosch",
          "mamadoma",
          "asus",
          "arrivo",
          "canon",
          "trussardi",
          "apple",
          "t-rex",
          "michelin",
          "xiaomi",
          "chanel",
          "oppo",
          "unknown",
          "ams",
          "asus",
          "samsung",
          "unknown",
          "fisherman",
          "samsung",
          "unknown",
          "acme",
          "peda",
          "xiaomi",
          "apple",
          "tissot",
          "unknown",
          "redmond",
          "palit",
          "apple",
          "kirkland",
          "hp",
          "canon",
          "apple",
          "hp",
          "unknown",
          "apple",
          "huawei",
          "aoteli",
          "trussardi",
          "tarkett",
          "indesit",
          "honor",
          "unknown",
          "unknown",
          "unknown",
          "dewalt",
          "lenovo",
          "xiaomi",
          "unknown",
          "sony",
          "harley-davidson",
          "unknown",
          "stels",
          "samsung",
          "samsung",
          "avatar",
          "unknown",
          "xiaomi",
          "lider",
          "apple",
          "tissot",
          "kirkland",
          "unknown",
          "hp",
          "kolner",
          "lucente",
          "denzel",
          "acer",
          "michelin",
          "laston",
          "apple",
          "magnetta",
          "huawei",
          "force",
          "samsung",
          "yokohama",
          "unknown",
          "evelinecosmetics",
          "janome",
          "xiaomi",
          "epson",
          "givenchy",
          "huawei",
          "bosch",
          "samsung",
          "apple",
          "beko",
          "brw",
          "acer",
          "pioneer",
          "dwt",
          "xiaomi",
          "unknown",
          "skad",
          "garmin",
          "unknown",
          "peda",
          "apple",
          "arg",
          "xiaomi",
          "kirkland",
          "ams",
          "brw",
          "unknown",
          "cordiant",
          "unknown",
          "pioneer",
          "unknown",
          "montale",
          "pablosky",
          "unknown",
          "xiaomi",
          "dewalt",
          "huawei",
          "unknown",
          "stanley",
          "carfashion",
          "hp",
          "unknown",
          "casio",
          "sokolov",
          "unknown",
          "jordan",
          "fubag",
          "armani",
          "unknown",
          "ams",
          "xiaomi",
          "hp",
          "unknown",
          "tissot",
          "apple",
          "alphard",
          "hp",
          "apple",
          "element",
          "lucente",
          "brw",
          "hycell",
          "cordiant",
          "sv",
          "apple"
         ],
         "xaxis": "x",
         "yaxis": "y"
        },
        {
         "alignmentgroup": "True",
         "bingroup": "x",
         "hovertemplate": "event_type=cart<br>brand=%{x}<br>count=%{y}<extra></extra>",
         "legendgroup": "cart",
         "marker": {
          "color": "#EF553B"
         },
         "name": "cart",
         "offsetgroup": "cart",
         "orientation": "v",
         "showlegend": true,
         "type": "histogram",
         "x": [
          "samsung"
         ],
         "xaxis": "x",
         "yaxis": "y"
        },
        {
         "alignmentgroup": "True",
         "bingroup": "x",
         "hovertemplate": "event_type=purchase<br>brand=%{x}<br>count=%{y}<extra></extra>",
         "legendgroup": "purchase",
         "marker": {
          "color": "#00cc96"
         },
         "name": "purchase",
         "offsetgroup": "purchase",
         "orientation": "v",
         "showlegend": true,
         "type": "histogram",
         "x": [
          "unknown",
          "xiaomi"
         ],
         "xaxis": "x",
         "yaxis": "y"
        }
       ],
       "layout": {
        "barmode": "relative",
        "legend": {
         "title": {
          "text": "event_type"
         },
         "tracegroupgap": 0
        },
        "margin": {
         "t": 60
        },
        "template": {
         "data": {
          "bar": [
           {
            "error_x": {
             "color": "#2a3f5f"
            },
            "error_y": {
             "color": "#2a3f5f"
            },
            "marker": {
             "line": {
              "color": "#E5ECF6",
              "width": 0.5
             }
            },
            "type": "bar"
           }
          ],
          "barpolar": [
           {
            "marker": {
             "line": {
              "color": "#E5ECF6",
              "width": 0.5
             }
            },
            "type": "barpolar"
           }
          ],
          "carpet": [
           {
            "aaxis": {
             "endlinecolor": "#2a3f5f",
             "gridcolor": "white",
             "linecolor": "white",
             "minorgridcolor": "white",
             "startlinecolor": "#2a3f5f"
            },
            "baxis": {
             "endlinecolor": "#2a3f5f",
             "gridcolor": "white",
             "linecolor": "white",
             "minorgridcolor": "white",
             "startlinecolor": "#2a3f5f"
            },
            "type": "carpet"
           }
          ],
          "choropleth": [
           {
            "colorbar": {
             "outlinewidth": 0,
             "ticks": ""
            },
            "type": "choropleth"
           }
          ],
          "contour": [
           {
            "colorbar": {
             "outlinewidth": 0,
             "ticks": ""
            },
            "colorscale": [
             [
              0,
              "#0d0887"
             ],
             [
              0.1111111111111111,
              "#46039f"
             ],
             [
              0.2222222222222222,
              "#7201a8"
             ],
             [
              0.3333333333333333,
              "#9c179e"
             ],
             [
              0.4444444444444444,
              "#bd3786"
             ],
             [
              0.5555555555555556,
              "#d8576b"
             ],
             [
              0.6666666666666666,
              "#ed7953"
             ],
             [
              0.7777777777777778,
              "#fb9f3a"
             ],
             [
              0.8888888888888888,
              "#fdca26"
             ],
             [
              1,
              "#f0f921"
             ]
            ],
            "type": "contour"
           }
          ],
          "contourcarpet": [
           {
            "colorbar": {
             "outlinewidth": 0,
             "ticks": ""
            },
            "type": "contourcarpet"
           }
          ],
          "heatmap": [
           {
            "colorbar": {
             "outlinewidth": 0,
             "ticks": ""
            },
            "colorscale": [
             [
              0,
              "#0d0887"
             ],
             [
              0.1111111111111111,
              "#46039f"
             ],
             [
              0.2222222222222222,
              "#7201a8"
             ],
             [
              0.3333333333333333,
              "#9c179e"
             ],
             [
              0.4444444444444444,
              "#bd3786"
             ],
             [
              0.5555555555555556,
              "#d8576b"
             ],
             [
              0.6666666666666666,
              "#ed7953"
             ],
             [
              0.7777777777777778,
              "#fb9f3a"
             ],
             [
              0.8888888888888888,
              "#fdca26"
             ],
             [
              1,
              "#f0f921"
             ]
            ],
            "type": "heatmap"
           }
          ],
          "heatmapgl": [
           {
            "colorbar": {
             "outlinewidth": 0,
             "ticks": ""
            },
            "colorscale": [
             [
              0,
              "#0d0887"
             ],
             [
              0.1111111111111111,
              "#46039f"
             ],
             [
              0.2222222222222222,
              "#7201a8"
             ],
             [
              0.3333333333333333,
              "#9c179e"
             ],
             [
              0.4444444444444444,
              "#bd3786"
             ],
             [
              0.5555555555555556,
              "#d8576b"
             ],
             [
              0.6666666666666666,
              "#ed7953"
             ],
             [
              0.7777777777777778,
              "#fb9f3a"
             ],
             [
              0.8888888888888888,
              "#fdca26"
             ],
             [
              1,
              "#f0f921"
             ]
            ],
            "type": "heatmapgl"
           }
          ],
          "histogram": [
           {
            "marker": {
             "colorbar": {
              "outlinewidth": 0,
              "ticks": ""
             }
            },
            "type": "histogram"
           }
          ],
          "histogram2d": [
           {
            "colorbar": {
             "outlinewidth": 0,
             "ticks": ""
            },
            "colorscale": [
             [
              0,
              "#0d0887"
             ],
             [
              0.1111111111111111,
              "#46039f"
             ],
             [
              0.2222222222222222,
              "#7201a8"
             ],
             [
              0.3333333333333333,
              "#9c179e"
             ],
             [
              0.4444444444444444,
              "#bd3786"
             ],
             [
              0.5555555555555556,
              "#d8576b"
             ],
             [
              0.6666666666666666,
              "#ed7953"
             ],
             [
              0.7777777777777778,
              "#fb9f3a"
             ],
             [
              0.8888888888888888,
              "#fdca26"
             ],
             [
              1,
              "#f0f921"
             ]
            ],
            "type": "histogram2d"
           }
          ],
          "histogram2dcontour": [
           {
            "colorbar": {
             "outlinewidth": 0,
             "ticks": ""
            },
            "colorscale": [
             [
              0,
              "#0d0887"
             ],
             [
              0.1111111111111111,
              "#46039f"
             ],
             [
              0.2222222222222222,
              "#7201a8"
             ],
             [
              0.3333333333333333,
              "#9c179e"
             ],
             [
              0.4444444444444444,
              "#bd3786"
             ],
             [
              0.5555555555555556,
              "#d8576b"
             ],
             [
              0.6666666666666666,
              "#ed7953"
             ],
             [
              0.7777777777777778,
              "#fb9f3a"
             ],
             [
              0.8888888888888888,
              "#fdca26"
             ],
             [
              1,
              "#f0f921"
             ]
            ],
            "type": "histogram2dcontour"
           }
          ],
          "mesh3d": [
           {
            "colorbar": {
             "outlinewidth": 0,
             "ticks": ""
            },
            "type": "mesh3d"
           }
          ],
          "parcoords": [
           {
            "line": {
             "colorbar": {
              "outlinewidth": 0,
              "ticks": ""
             }
            },
            "type": "parcoords"
           }
          ],
          "pie": [
           {
            "automargin": true,
            "type": "pie"
           }
          ],
          "scatter": [
           {
            "marker": {
             "colorbar": {
              "outlinewidth": 0,
              "ticks": ""
             }
            },
            "type": "scatter"
           }
          ],
          "scatter3d": [
           {
            "line": {
             "colorbar": {
              "outlinewidth": 0,
              "ticks": ""
             }
            },
            "marker": {
             "colorbar": {
              "outlinewidth": 0,
              "ticks": ""
             }
            },
            "type": "scatter3d"
           }
          ],
          "scattercarpet": [
           {
            "marker": {
             "colorbar": {
              "outlinewidth": 0,
              "ticks": ""
             }
            },
            "type": "scattercarpet"
           }
          ],
          "scattergeo": [
           {
            "marker": {
             "colorbar": {
              "outlinewidth": 0,
              "ticks": ""
             }
            },
            "type": "scattergeo"
           }
          ],
          "scattergl": [
           {
            "marker": {
             "colorbar": {
              "outlinewidth": 0,
              "ticks": ""
             }
            },
            "type": "scattergl"
           }
          ],
          "scattermapbox": [
           {
            "marker": {
             "colorbar": {
              "outlinewidth": 0,
              "ticks": ""
             }
            },
            "type": "scattermapbox"
           }
          ],
          "scatterpolar": [
           {
            "marker": {
             "colorbar": {
              "outlinewidth": 0,
              "ticks": ""
             }
            },
            "type": "scatterpolar"
           }
          ],
          "scatterpolargl": [
           {
            "marker": {
             "colorbar": {
              "outlinewidth": 0,
              "ticks": ""
             }
            },
            "type": "scatterpolargl"
           }
          ],
          "scatterternary": [
           {
            "marker": {
             "colorbar": {
              "outlinewidth": 0,
              "ticks": ""
             }
            },
            "type": "scatterternary"
           }
          ],
          "surface": [
           {
            "colorbar": {
             "outlinewidth": 0,
             "ticks": ""
            },
            "colorscale": [
             [
              0,
              "#0d0887"
             ],
             [
              0.1111111111111111,
              "#46039f"
             ],
             [
              0.2222222222222222,
              "#7201a8"
             ],
             [
              0.3333333333333333,
              "#9c179e"
             ],
             [
              0.4444444444444444,
              "#bd3786"
             ],
             [
              0.5555555555555556,
              "#d8576b"
             ],
             [
              0.6666666666666666,
              "#ed7953"
             ],
             [
              0.7777777777777778,
              "#fb9f3a"
             ],
             [
              0.8888888888888888,
              "#fdca26"
             ],
             [
              1,
              "#f0f921"
             ]
            ],
            "type": "surface"
           }
          ],
          "table": [
           {
            "cells": {
             "fill": {
              "color": "#EBF0F8"
             },
             "line": {
              "color": "white"
             }
            },
            "header": {
             "fill": {
              "color": "#C8D4E3"
             },
             "line": {
              "color": "white"
             }
            },
            "type": "table"
           }
          ]
         },
         "layout": {
          "annotationdefaults": {
           "arrowcolor": "#2a3f5f",
           "arrowhead": 0,
           "arrowwidth": 1
          },
          "autotypenumbers": "strict",
          "coloraxis": {
           "colorbar": {
            "outlinewidth": 0,
            "ticks": ""
           }
          },
          "colorscale": {
           "diverging": [
            [
             0,
             "#8e0152"
            ],
            [
             0.1,
             "#c51b7d"
            ],
            [
             0.2,
             "#de77ae"
            ],
            [
             0.3,
             "#f1b6da"
            ],
            [
             0.4,
             "#fde0ef"
            ],
            [
             0.5,
             "#f7f7f7"
            ],
            [
             0.6,
             "#e6f5d0"
            ],
            [
             0.7,
             "#b8e186"
            ],
            [
             0.8,
             "#7fbc41"
            ],
            [
             0.9,
             "#4d9221"
            ],
            [
             1,
             "#276419"
            ]
           ],
           "sequential": [
            [
             0,
             "#0d0887"
            ],
            [
             0.1111111111111111,
             "#46039f"
            ],
            [
             0.2222222222222222,
             "#7201a8"
            ],
            [
             0.3333333333333333,
             "#9c179e"
            ],
            [
             0.4444444444444444,
             "#bd3786"
            ],
            [
             0.5555555555555556,
             "#d8576b"
            ],
            [
             0.6666666666666666,
             "#ed7953"
            ],
            [
             0.7777777777777778,
             "#fb9f3a"
            ],
            [
             0.8888888888888888,
             "#fdca26"
            ],
            [
             1,
             "#f0f921"
            ]
           ],
           "sequentialminus": [
            [
             0,
             "#0d0887"
            ],
            [
             0.1111111111111111,
             "#46039f"
            ],
            [
             0.2222222222222222,
             "#7201a8"
            ],
            [
             0.3333333333333333,
             "#9c179e"
            ],
            [
             0.4444444444444444,
             "#bd3786"
            ],
            [
             0.5555555555555556,
             "#d8576b"
            ],
            [
             0.6666666666666666,
             "#ed7953"
            ],
            [
             0.7777777777777778,
             "#fb9f3a"
            ],
            [
             0.8888888888888888,
             "#fdca26"
            ],
            [
             1,
             "#f0f921"
            ]
           ]
          },
          "colorway": [
           "#636efa",
           "#EF553B",
           "#00cc96",
           "#ab63fa",
           "#FFA15A",
           "#19d3f3",
           "#FF6692",
           "#B6E880",
           "#FF97FF",
           "#FECB52"
          ],
          "font": {
           "color": "#2a3f5f"
          },
          "geo": {
           "bgcolor": "white",
           "lakecolor": "white",
           "landcolor": "#E5ECF6",
           "showlakes": true,
           "showland": true,
           "subunitcolor": "white"
          },
          "hoverlabel": {
           "align": "left"
          },
          "hovermode": "closest",
          "mapbox": {
           "style": "light"
          },
          "paper_bgcolor": "white",
          "plot_bgcolor": "#E5ECF6",
          "polar": {
           "angularaxis": {
            "gridcolor": "white",
            "linecolor": "white",
            "ticks": ""
           },
           "bgcolor": "#E5ECF6",
           "radialaxis": {
            "gridcolor": "white",
            "linecolor": "white",
            "ticks": ""
           }
          },
          "scene": {
           "xaxis": {
            "backgroundcolor": "#E5ECF6",
            "gridcolor": "white",
            "gridwidth": 2,
            "linecolor": "white",
            "showbackground": true,
            "ticks": "",
            "zerolinecolor": "white"
           },
           "yaxis": {
            "backgroundcolor": "#E5ECF6",
            "gridcolor": "white",
            "gridwidth": 2,
            "linecolor": "white",
            "showbackground": true,
            "ticks": "",
            "zerolinecolor": "white"
           },
           "zaxis": {
            "backgroundcolor": "#E5ECF6",
            "gridcolor": "white",
            "gridwidth": 2,
            "linecolor": "white",
            "showbackground": true,
            "ticks": "",
            "zerolinecolor": "white"
           }
          },
          "shapedefaults": {
           "line": {
            "color": "#2a3f5f"
           }
          },
          "ternary": {
           "aaxis": {
            "gridcolor": "white",
            "linecolor": "white",
            "ticks": ""
           },
           "baxis": {
            "gridcolor": "white",
            "linecolor": "white",
            "ticks": ""
           },
           "bgcolor": "#E5ECF6",
           "caxis": {
            "gridcolor": "white",
            "linecolor": "white",
            "ticks": ""
           }
          },
          "title": {
           "x": 0.05
          },
          "xaxis": {
           "automargin": true,
           "gridcolor": "white",
           "linecolor": "white",
           "ticks": "",
           "title": {
            "standoff": 15
           },
           "zerolinecolor": "white",
           "zerolinewidth": 2
          },
          "yaxis": {
           "automargin": true,
           "gridcolor": "white",
           "linecolor": "white",
           "ticks": "",
           "title": {
            "standoff": 15
           },
           "zerolinecolor": "white",
           "zerolinewidth": 2
          }
         }
        },
        "xaxis": {
         "anchor": "y",
         "domain": [
          0,
          1
         ],
         "title": {
          "text": "brand"
         }
        },
        "yaxis": {
         "anchor": "x",
         "domain": [
          0,
          1
         ],
         "title": {
          "text": "count"
         }
        }
       }
      }
     },
     "metadata": {}
    }
   ],
   "source": [
    "px.histogram(pdf, x=\"brand\", color=\"event_type\")"
   ]
  },
  {
   "cell_type": "code",
   "execution_count": null,
   "metadata": {},
   "outputs": [],
   "source": []
  }
 ],
 "metadata": {
  "kernelspec": {
   "name": "python383jvsc74a57bd0b3ba2566441a7c06988d0923437866b63cedc61552a5af99d1f4fb67d367b25f",
   "display_name": "Python 3.8.3 64-bit ('base': conda)"
  },
  "language_info": {
   "codemirror_mode": {
    "name": "ipython",
    "version": 3
   },
   "file_extension": ".py",
   "mimetype": "text/x-python",
   "name": "python",
   "nbconvert_exporter": "python",
   "pygments_lexer": "ipython3",
   "version": "3.8.3"
  }
 },
 "nbformat": 4,
 "nbformat_minor": 4
}