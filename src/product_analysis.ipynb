{
 "cells": [
  {
   "cell_type": "markdown",
   "metadata": {},
   "source": [
    "# Produktanalyse"
   ]
  },
  {
   "source": [
    "## Imports"
   ],
   "cell_type": "markdown",
   "metadata": {}
  },
  {
   "cell_type": "code",
   "execution_count": 1,
   "metadata": {},
   "outputs": [],
   "source": [
    "import pandas as pd\n",
    "import pyspark\n",
    "import pyspark.sql.functions as f\n",
    "import matplotlib.pyplot as plt\n",
    "import pandas as pd\n",
    "import numpy as np"
   ]
  },
  {
   "source": [
    "## Vorverarbeitung"
   ],
   "cell_type": "markdown",
   "metadata": {}
  },
  {
   "cell_type": "code",
   "execution_count": 56,
   "metadata": {},
   "outputs": [],
   "source": [
    "spark = pyspark.sql.SparkSession.builder.appName(\"app1\").getOrCreate()\n",
    "sdf = spark.read.csv(\"data/test_data.csv\", header=True, inferSchema=True)\n",
    "# sdf.show()\n",
    "# sdf.printSchema()\n"
   ]
  },
  {
   "cell_type": "code",
   "execution_count": 57,
   "metadata": {},
   "outputs": [],
   "source": [
    "sdf = sdf.withColumn(\"category_class\", pyspark.sql.functions.substring_index(sdf.category_code, '.', 1))\n",
    "sdf.createOrReplaceTempView(\"Product_Data\")"
   ]
  },
  {
   "source": [
    "## Analysen"
   ],
   "cell_type": "markdown",
   "metadata": {}
  },
  {
   "cell_type": "code",
   "execution_count": 58,
   "metadata": {},
   "outputs": [
    {
     "output_type": "stream",
     "name": "stdout",
     "text": [
      "+--------------------+----------+----------+-------------------+--------------------+--------+------+---------+--------------------+--------------+\n|          event_time|event_type|product_id|        category_id|       category_code|   brand| price|  user_id|        user_session|category_class|\n+--------------------+----------+----------+-------------------+--------------------+--------+------+---------+--------------------+--------------+\n|2019-11-01 00:00:...|      view|   1003461|2053013555631882655|electronics.smart...|  xiaomi|489.07|520088904|4d3b30da-a5e4-49d...|   electronics|\n|2019-11-01 00:00:...|      view|   5000088|2053013566100866035|appliances.sewing...|  janome|293.65|530496790|8e5f4f83-366c-4f7...|    appliances|\n|2019-11-01 00:00:...|      view|  17302664|2053013553853497655|                null|   creed| 28.31|561587266|755422e7-9040-477...|          null|\n|2019-11-01 00:00:...|      view|   3601530|2053013563810775923|appliances.kitche...|      lg|712.87|518085591|3bfb58cd-7892-48c...|    appliances|\n|2019-11-01 00:00:...|      view|   1004775|2053013555631882655|electronics.smart...|  xiaomi|183.27|558856683|313628f1-68b8-460...|   electronics|\n|2019-11-01 00:00:...|      view|   1306894|2053013558920217191|  computers.notebook|      hp|360.09|520772685|816a59f3-f5ae-4cc...|     computers|\n|2019-11-01 00:00:...|      view|   1306421|2053013558920217191|  computers.notebook|      hp|514.56|514028527|df8184cc-3694-454...|     computers|\n|2019-11-01 00:00:...|      view|  15900065|2053013558190408249|                null| rondell| 30.86|518574284|5e6ef132-4d7c-473...|          null|\n|2019-11-01 00:00:...|      view|  12708937|2053013553559896355|                null|michelin| 72.72|532364121|0a899268-31eb-46d...|          null|\n|2019-11-01 00:00:...|      view|   1004258|2053013555631882655|electronics.smart...|   apple|732.07|532647354|d2d3d2c6-631d-489...|   electronics|\n|2019-11-01 00:00:...|      view|  17200570|2053013559792632471|furniture.living_...|    null|437.33|518780843|aa806835-b14c-45a...|     furniture|\n|2019-11-01 00:00:...|      view|   2701517|2053013563911439225|appliances.kitche...|    null|155.11|518427361|c89b0d96-247f-404...|    appliances|\n|2019-11-01 00:00:...|      view|  16700260|2053013559901684381|furniture.kitchen...|    null| 31.64|566255262|173d7b72-1db7-463...|     furniture|\n|2019-11-01 00:00:...|      view|  34600011|2060981320581906480|                null|    null| 20.54|512416379|4dfe2c67-e537-4dc...|          null|\n|2019-11-01 00:00:...|      view|   4600658|2053013563944993659|appliances.kitche...| samsung|411.83|526595547|aab33a9a-29c3-4d5...|    appliances|\n|2019-11-01 00:00:...|      view|  24900193|2053013562183385881|                null|    null|  1.09|512651494|f603c815-f51a-46f...|          null|\n|2019-11-01 00:00:...|      view|  27400066|2053013563391345499|                null|    null|  8.55|551061950|3f6112f1-5695-4e8...|          null|\n|2019-11-01 00:00:...|      view|   5100503|2053013553375346967|                null|  xiaomi| 22.68|520037415|f54fa96a-f3f2-43a...|          null|\n|2019-11-01 00:00:...|      view|   1004566|2053013555631882655|electronics.smart...|  huawei|164.84|566265908|52c2c76c-b79e-479...|   electronics|\n|2019-11-01 00:00:...|      view|   1307115|2053013558920217191|  computers.notebook|      hp|411.59|514028527|df8184cc-3694-454...|     computers|\n+--------------------+----------+----------+-------------------+--------------------+--------+------+---------+--------------------+--------------+\nonly showing top 20 rows\n\n"
     ]
    }
   ],
   "source": [
    "spark.sql(\"SELECT *  from Product_Data\").show()"
   ]
  },
  {
   "cell_type": "code",
   "execution_count": 23,
   "metadata": {},
   "outputs": [
    {
     "output_type": "stream",
     "name": "stdout",
     "text": [
      "+---------+\n|Row_Count|\n+---------+\n|      217|\n+---------+\n\n"
     ]
    }
   ],
   "source": [
    "spark.sql(\"SELECT COUNT(*) AS Row_Count from Product_Data\").show()"
   ]
  },
  {
   "source": [
    "### Einzelbetrachtung"
   ],
   "cell_type": "markdown",
   "metadata": {}
  },
  {
   "source": [
    "#### Product_ID"
   ],
   "cell_type": "markdown",
   "metadata": {}
  },
  {
   "cell_type": "code",
   "execution_count": 31,
   "metadata": {},
   "outputs": [
    {
     "output_type": "stream",
     "name": "stdout",
     "text": [
      "+-----------------------+\n|Count_Unique_Product_ID|\n+-----------------------+\n|                    188|\n+-----------------------+\n\n"
     ]
    }
   ],
   "source": [
    "spark.sql(\"SELECT COUNT(DISTINCT(product_id)) AS Count_Unique_Product_ID from Product_Data\").show()"
   ]
  },
  {
   "cell_type": "code",
   "execution_count": 35,
   "metadata": {},
   "outputs": [
    {
     "output_type": "stream",
     "name": "stdout",
     "text": [
      "+----------+-----+\n|Product_ID|Count|\n+----------+-----+\n|  13200605|    3|\n|   5701331|    3|\n|  24400437|    3|\n|  12708937|    3|\n|   4100297|    2|\n|   1005161|    2|\n|   1004856|    2|\n|   1005116|    2|\n|   5000088|    2|\n|   1004775|    2|\n|  21408240|    2|\n|   1004237|    2|\n|   4804295|    2|\n|  38900011|    2|\n|  16700826|    2|\n|   1004258|    2|\n|   1307115|    2|\n|  17300072|    2|\n|   4600603|    2|\n|  29900072|    2|\n+----------+-----+\nonly showing top 20 rows\n\n"
     ]
    }
   ],
   "source": [
    "spark.sql(\"SELECT DISTINCT(product_id) AS Product_ID, COUNT(product_id) AS Count from Product_Data GROUP BY product_id ORDER BY Count DESC\").show()"
   ]
  },
  {
   "source": [
    "#### Category_ID"
   ],
   "cell_type": "markdown",
   "metadata": {}
  },
  {
   "cell_type": "code",
   "execution_count": 36,
   "metadata": {},
   "outputs": [
    {
     "output_type": "stream",
     "name": "stdout",
     "text": [
      "+------------------------+\n|Count_Unique_Category_ID|\n+------------------------+\n|                      74|\n+------------------------+\n\n"
     ]
    }
   ],
   "source": [
    "spark.sql(\"SELECT COUNT(DISTINCT(category_id)) AS Count_Unique_Category_ID from Product_Data\").show()"
   ]
  },
  {
   "cell_type": "code",
   "execution_count": 65,
   "metadata": {},
   "outputs": [
    {
     "output_type": "stream",
     "name": "stdout",
     "text": [
      "+-------------------+-----+\n|        Category_ID|Count|\n+-------------------+-----+\n|2053013555631882655|   38|\n|2053013558920217191|   18|\n|2053013553559896355|   12|\n|2053013553853497655|    9|\n|2053013559901684381|    6|\n|2053013556168753601|    6|\n|2053013561579406073|    6|\n|2053013553970938175|    5|\n|2053013563911439225|    5|\n|2053013554658804075|    5|\n|2053013553945772349|    4|\n|2053013563944993659|    4|\n|2053013556311359947|    4|\n|2090228413959766319|    4|\n|2053013563215184719|    4|\n|2053013563651392361|    4|\n|2053013557024391671|    3|\n|2100825583029060150|    3|\n|2053013557192163841|    3|\n|2060981320581906480|    2|\n+-------------------+-----+\nonly showing top 20 rows\n\n"
     ]
    }
   ],
   "source": [
    "spark.sql(\"SELECT DISTINCT(category_id) AS Category_ID, COUNT(product_id) AS Count from Product_Data GROUP BY category_id ORDER BY Count DESC\").show()"
   ]
  },
  {
   "source": [
    "#### Category_Code"
   ],
   "cell_type": "markdown",
   "metadata": {}
  },
  {
   "cell_type": "code",
   "execution_count": 38,
   "metadata": {},
   "outputs": [
    {
     "output_type": "stream",
     "name": "stdout",
     "text": [
      "+--------------------------+\n|Count_Unique_Category_Code|\n+--------------------------+\n|                        34|\n+--------------------------+\n\n"
     ]
    }
   ],
   "source": [
    "spark.sql(\"SELECT COUNT(DISTINCT(category_code)) AS Count_Unique_Category_Code from Product_Data\").show()"
   ]
  },
  {
   "cell_type": "code",
   "execution_count": 64,
   "metadata": {},
   "outputs": [
    {
     "output_type": "stream",
     "name": "stdout",
     "text": [
      "+--------------------+-----+\n|       Category_Code|Count|\n+--------------------+-----+\n|                null|   87|\n|electronics.smart...|   38|\n|  computers.notebook|   18|\n|  electronics.clocks|    8|\n|furniture.kitchen...|    6|\n|appliances.kitche...|    5|\n|auto.accessories....|    5|\n|electronics.audio...|    5|\n|furniture.bedroom...|    4|\n|appliances.kitche...|    4|\n|construction.tool...|    4|\n|electronics.audio...|    4|\n|       apparel.jeans|    3|\n|computers.periphe...|    2|\n|furniture.living_...|    2|\n|appliances.sewing...|    2|\n|auto.accessories....|    2|\n|electronics.camer...|    1|\n|furniture.bathroo...|    1|\n|construction.tool...|    1|\n+--------------------+-----+\nonly showing top 20 rows\n\n"
     ]
    }
   ],
   "source": [
    "spark.sql(\"SELECT DISTINCT(category_code) AS Category_Code, COUNT(product_id) AS Count from Product_Data GROUP BY category_code ORDER BY Count DESC\").show()"
   ]
  },
  {
   "source": [
    "#### Category_class"
   ],
   "cell_type": "markdown",
   "metadata": {}
  },
  {
   "cell_type": "code",
   "execution_count": 60,
   "metadata": {},
   "outputs": [
    {
     "output_type": "stream",
     "name": "stdout",
     "text": [
      "+---------------------------+\n|Count_Unique_Category_Class|\n+---------------------------+\n|                          8|\n+---------------------------+\n\n"
     ]
    }
   ],
   "source": [
    "spark.sql(\"SELECT COUNT(DISTINCT(category_class)) AS Count_Unique_Category_Class from Product_Data\").show()"
   ]
  },
  {
   "cell_type": "code",
   "execution_count": 62,
   "metadata": {},
   "outputs": [
    {
     "output_type": "stream",
     "name": "stdout",
     "text": [
      "+--------------+-----+\n|Category_Class|Count|\n+--------------+-----+\n|          null|   87|\n|   electronics|   57|\n|     computers|   23|\n|     furniture|   14|\n|    appliances|   14|\n|  construction|    8|\n|          auto|    7|\n|       apparel|    6|\n|   accessories|    1|\n+--------------+-----+\n\n"
     ]
    }
   ],
   "source": [
    "spark.sql(\"SELECT DISTINCT(category_class) AS Category_Class, COUNT(product_id) AS Count from Product_Data GROUP BY category_class ORDER BY Count DESC\").show()"
   ]
  },
  {
   "source": [
    "#### Brand"
   ],
   "cell_type": "markdown",
   "metadata": {}
  },
  {
   "cell_type": "code",
   "execution_count": 40,
   "metadata": {},
   "outputs": [
    {
     "output_type": "stream",
     "name": "stdout",
     "text": [
      "+------------------+\n|Count_Unique_Brand|\n+------------------+\n|                85|\n+------------------+\n\n"
     ]
    }
   ],
   "source": [
    "spark.sql(\"SELECT COUNT(DISTINCT(brand)) AS Count_Unique_Brand from Product_Data\").show()"
   ]
  },
  {
   "cell_type": "code",
   "execution_count": 63,
   "metadata": {},
   "outputs": [
    {
     "output_type": "stream",
     "name": "stdout",
     "text": [
      "+---------+-----+\n|    Brand|Count|\n+---------+-----+\n|     null|   41|\n|    apple|   16|\n|   xiaomi|   15|\n|  samsung|   10|\n|       hp|    9|\n|   huawei|    6|\n|   tissot|    4|\n| kirkland|    4|\n|      brw|    4|\n|      ams|    3|\n|   dewalt|    3|\n|    bosch|    3|\n|trussardi|    3|\n|    canon|    3|\n|     asus|    3|\n| michelin|    3|\n|     acer|    3|\n|  lucente|    3|\n|     acme|    2|\n|     peda|    2|\n+---------+-----+\nonly showing top 20 rows\n\n"
     ]
    }
   ],
   "source": [
    "spark.sql(\"SELECT DISTINCT(brand) AS Brand, COUNT(product_id) AS Count from Product_Data GROUP BY brand ORDER BY Count DESC\").show()"
   ]
  },
  {
   "source": [
    "#### Price"
   ],
   "cell_type": "markdown",
   "metadata": {}
  },
  {
   "cell_type": "code",
   "execution_count": 81,
   "metadata": {},
   "outputs": [
    {
     "output_type": "stream",
     "name": "stdout",
     "text": [
      "+------------------+-------+-----------------+----+\n|Count_Unique_Price|    MAX|             MEAN| MIN|\n+------------------+-------+-----------------+----+\n|               185|2496.59|306.6343778801842|1.09|\n+------------------+-------+-----------------+----+\n\n"
     ]
    }
   ],
   "source": [
    "spark.sql(\"SELECT COUNT(DISTINCT(price)) AS Count_Unique_Price, MAX(price) AS MAX, MEAN(price) AS MEAN, MIN(price) AS MIN from Product_Data\").show()"
   ]
  },
  {
   "source": [
    "### Kombibetrachtung"
   ],
   "cell_type": "markdown",
   "metadata": {}
  },
  {
   "source": [
    "#### Overview Counts"
   ],
   "cell_type": "markdown",
   "metadata": {}
  },
  {
   "cell_type": "code",
   "execution_count": 77,
   "metadata": {},
   "outputs": [
    {
     "output_type": "stream",
     "name": "stdout",
     "text": [
      "+---------+----------+--------------+-------------+-----------+-----+-----+\n|Row_Count|Product_ID|Category_Class|Category_Code|Category_ID|Brand|Price|\n+---------+----------+--------------+-------------+-----------+-----+-----+\n|      217|       188|             8|           34|         74|   85|  185|\n+---------+----------+--------------+-------------+-----------+-----+-----+\n\n"
     ]
    }
   ],
   "source": [
    "spark.sql(\"SELECT COUNT(*) AS Row_Count, COUNT(DISTINCT(product_id)) AS Product_ID, COUNT(DISTINCT(category_class)) AS Category_Class, COUNT(DISTINCT(category_code)) AS Category_Code, COUNT(DISTINCT(category_id)) AS Category_ID, COUNT(DISTINCT(brand)) AS Brand, COUNT(DISTINCT(price)) AS Price from Product_Data\").show()"
   ]
  },
  {
   "source": [
    "#### Preis-Verteilung"
   ],
   "cell_type": "markdown",
   "metadata": {}
  },
  {
   "source": [
    "##### Product_ID - Price"
   ],
   "cell_type": "markdown",
   "metadata": {}
  },
  {
   "cell_type": "code",
   "execution_count": 78,
   "metadata": {},
   "outputs": [
    {
     "output_type": "stream",
     "name": "stdout",
     "text": [
      "+----------+-------+\n|Product_ID|  Price|\n+----------+-------+\n|   1305977|2496.59|\n|   1307012|2342.15|\n|   1306571| 2312.8|\n|   1304315|2311.49|\n|   5100797|2239.44|\n|  15100252|1335.43|\n|   1307519|1209.55|\n|   1004241| 1173.6|\n|   1004237|1091.33|\n|   1004237|1091.33|\n|   1005116|1013.86|\n|   1005116|1013.86|\n|   1005115| 949.47|\n|   1004840| 946.73|\n|   1003316| 928.38|\n|   1003316| 928.38|\n|   1003317| 928.18|\n|  29900072| 900.92|\n|  29900072| 900.92|\n|  21406939| 895.78|\n+----------+-------+\nonly showing top 20 rows\n\n"
     ]
    }
   ],
   "source": [
    "spark.sql(\"SELECT Product_ID, Price from Product_Data ORDER BY Price Desc\").show()"
   ]
  },
  {
   "source": [
    "##### Category Class - Price"
   ],
   "cell_type": "markdown",
   "metadata": {}
  },
  {
   "cell_type": "code",
   "execution_count": 82,
   "metadata": {},
   "outputs": [
    {
     "output_type": "stream",
     "name": "stdout",
     "text": [
      "+--------------+------------------+-------+------------------+------+\n|Category_class|Count_Unique_Price|    MAX|              MEAN|   MIN|\n+--------------+------------------+-------+------------------+------+\n|     computers|                21|2496.59| 760.9530434782608| 51.46|\n|   electronics|                46|2239.44|  446.769298245614|  22.8|\n|    appliances|                12| 712.87|341.70214285714286| 32.66|\n|     furniture|                10| 591.78|241.24142857142854| 31.64|\n|          auto|                 5| 229.09|192.08428571428573|113.93|\n|          null|                77|1335.43| 147.3947126436782|  1.09|\n|  construction|                 8| 254.78|110.10125000000002| 24.71|\n|       apparel|                 6| 102.71| 52.25166666666666|  8.73|\n|   accessories|                 1|  48.43|             48.43| 48.43|\n+--------------+------------------+-------+------------------+------+\n\n"
     ]
    }
   ],
   "source": [
    "spark.sql(\"SELECT Category_class, COUNT(DISTINCT(price)) AS Count_Unique_Price, MAX(price) AS MAX, MEAN(price) AS MEAN, MIN(price) AS MIN from Product_Data GROUP BY Category_class ORDER BY MEAN DESC\").show()"
   ]
  },
  {
   "source": [
    "##### Cateogory Code - Price"
   ],
   "cell_type": "markdown",
   "metadata": {}
  },
  {
   "cell_type": "code",
   "execution_count": 83,
   "metadata": {},
   "outputs": [
    {
     "output_type": "stream",
     "name": "stdout",
     "text": [
      "+--------------------+------------------+-------+------------------+------+\n|       Category_code|Count_Unique_Price|    MAX|              MEAN|   MIN|\n+--------------------+------------------+-------+------------------+------+\n|  computers.notebook|                16|2496.59| 924.2788888888889|360.09|\n|  electronics.clocks|                 7|2239.44|          781.1975|165.26|\n|appliances.kitche...|                 1| 712.87|            712.87|712.87|\n|appliances.kitche...|                 3| 684.44|          519.7175|298.16|\n|furniture.living_...|                 2| 591.78|           514.555|437.33|\n|electronics.smart...|                29| 1173.6| 474.5957894736842| 84.65|\n|furniture.bedroom...|                 2|  566.3|           458.825| 136.4|\n|electronics.camer...|                 1| 386.08|            386.08|386.08|\n|appliances.sewing...|                 1| 293.65|            293.65|293.65|\n|electronics.video.tv|                 1| 289.33|            289.33|289.33|\n|computers.compone...|                 1| 287.83|            287.83|287.83|\n|construction.tool...|                 1| 254.78|            254.78|254.78|\n|appliances.kitche...|                 5| 499.94|           252.808|128.68|\n|auto.accessories....|                 3| 229.09|214.67600000000002|180.18|\n|furniture.kitchen...|                 1| 207.21|            207.21|207.21|\n|computers.periphe...|                 2| 203.84|            177.49|151.14|\n|computers.compone...|                 1| 170.63|            170.63|170.63|\n|                null|                77|1335.43| 147.3947126436782|  1.09|\n|auto.accessories....|                 2| 157.28|135.60500000000002|113.93|\n|construction.tool...|                 4| 226.83|          130.7775| 46.82|\n+--------------------+------------------+-------+------------------+------+\nonly showing top 20 rows\n\n"
     ]
    }
   ],
   "source": [
    "spark.sql(\"SELECT Category_code, COUNT(DISTINCT(price)) AS Count_Unique_Price, MAX(price) AS MAX, MEAN(price) AS MEAN, MIN(price) AS MIN from Product_Data GROUP BY Category_code ORDER BY MEAN DESC\").show()"
   ]
  },
  {
   "source": [
    "##### Category ID - Price"
   ],
   "cell_type": "markdown",
   "metadata": {}
  },
  {
   "cell_type": "code",
   "execution_count": 85,
   "metadata": {},
   "outputs": [
    {
     "output_type": "stream",
     "name": "stdout",
     "text": [
      "+-------------------+------------------+-------+-----------------+------+\n|        Category_id|Count_Unique_Price|    MAX|             MEAN|   MIN|\n+-------------------+------------------+-------+-----------------+------+\n|2053013553341792533|                 2|2239.44|          1395.79|552.14|\n|2053013558920217191|                16|2496.59|924.2788888888889|360.09|\n|2059484601444729123|                 1| 900.92|           900.92|900.92|\n|2055156924315337497|                 1| 733.61|           733.61|733.61|\n|2053013563810775923|                 1| 712.87|           712.87|712.87|\n|2053013557024391671|                 3|1335.43|           656.98|257.15|\n|2053013561579406073|                 5| 895.78|576.3333333333334|165.26|\n|2053013557192163841|                 1|  566.3|            566.3| 566.3|\n|2053013563944993659|                 3| 684.44|519.7175000000001|298.16|\n|2053013559792632471|                 2| 591.78|          514.555|437.33|\n|2053013561218695907|                 1| 511.13|           511.13|511.13|\n|2053013555631882655|                29| 1173.6|474.5957894736842| 84.65|\n|2137704922018218396|                 2| 751.63|          439.525|127.42|\n|2053013560530830019|                 1| 386.08|           386.08|386.08|\n|2053013560555995845|                 2| 437.29|           358.67|280.05|\n|2053013566100866035|                 1| 293.65|           293.65|293.65|\n|2053013554415534427|                 1| 289.33|           289.33|289.33|\n|2053013554155487563|                 1| 287.83|           287.83|287.83|\n|2053013563693335403|                 1| 277.23|           277.23|277.23|\n|2053013559733912211|                 1| 257.15|           257.15|257.15|\n+-------------------+------------------+-------+-----------------+------+\nonly showing top 20 rows\n\n"
     ]
    }
   ],
   "source": [
    "spark.sql(\"SELECT Category_id, COUNT(DISTINCT(price)) AS Count_Unique_Price, MAX(price) AS MAX, MEAN(price) AS MEAN, MIN(price) AS MIN from Product_Data GROUP BY Category_id ORDER BY MEAN DESC\").show()"
   ]
  },
  {
   "source": [
    "##### Brand - Price"
   ],
   "cell_type": "markdown",
   "metadata": {}
  },
  {
   "cell_type": "code",
   "execution_count": 86,
   "metadata": {},
   "outputs": [
    {
     "output_type": "stream",
     "name": "stdout",
     "text": [
      "+---------------+------------------+-------+------------------+-------+\n|          brand|Count_Unique_Price|    MAX|              MEAN|    MIN|\n+---------------+------------------+-------+------------------+-------+\n|         garmin|                 1|2239.44|           2239.44|2239.44|\n|           acer|                 3| 2312.8|1345.7133333333334| 514.79|\n|          apple|                12|2496.59|        1171.44875| 458.28|\n|           peda|                 1| 900.92|            900.92| 900.92|\n|harley-davidson|                 1| 751.63|            751.63| 751.63|\n|         tissot|                 3| 895.78|           749.825| 380.96|\n|     humminbird|                 1| 733.61|            733.61| 733.61|\n|             lg|                 1| 712.87|            712.87| 712.87|\n|           sony|                 1| 511.13|            511.13| 511.13|\n|           asus|                 3| 849.42|499.19666666666666| 287.83|\n|          bosch|                 2| 684.44| 463.2166666666667|  20.77|\n|         lenovo|                 2| 514.79|            450.32| 385.85|\n|             hp|                 8| 514.56| 378.5655555555556|  67.84|\n|          lider|                 1| 378.36|            378.36| 378.36|\n|        indesit|                 1| 314.08|            314.08| 314.08|\n|         huawei|                 6| 946.73| 308.4783333333333| 125.61|\n|           beko|                 1| 298.16|            298.16| 298.16|\n|         janome|                 1| 293.65|            293.65| 293.65|\n|         armani|                 1| 293.44|            293.44| 293.44|\n|          canon|                 3| 437.29|289.49333333333334| 151.14|\n+---------------+------------------+-------+------------------+-------+\nonly showing top 20 rows\n\n"
     ]
    }
   ],
   "source": [
    "spark.sql(\"SELECT brand, COUNT(DISTINCT(price)) AS Count_Unique_Price, MAX(price) AS MAX, MEAN(price) AS MEAN, MIN(price) AS MIN from Product_Data GROUP BY brand ORDER BY MEAN DESC\").show()"
   ]
  },
  {
   "source": [
    "#### Category-Vergleich"
   ],
   "cell_type": "markdown",
   "metadata": {}
  },
  {
   "source": [
    "##### Category Class - Category Code"
   ],
   "cell_type": "markdown",
   "metadata": {}
  },
  {
   "cell_type": "code",
   "execution_count": 87,
   "metadata": {},
   "outputs": [
    {
     "output_type": "stream",
     "name": "stdout",
     "text": [
      "+--------------+--------------------+\n|Category_Class|Count_Category_Codes|\n+--------------+--------------------+\n|     computers|                   5|\n|          auto|                   2|\n|          null|                   0|\n|       apparel|                   4|\n|    appliances|                   6|\n|     furniture|                   5|\n|   accessories|                   1|\n|   electronics|                   6|\n|  construction|                   5|\n+--------------+--------------------+\n\n"
     ]
    }
   ],
   "source": [
    "spark.sql(\"SELECT Category_Class, COUNT(DISTINCT(Category_Code)) AS Count_Category_Codes from Product_Data GROUP BY Category_Class\").show()"
   ]
  },
  {
   "cell_type": "code",
   "execution_count": 97,
   "metadata": {},
   "outputs": [
    {
     "output_type": "stream",
     "name": "stdout",
     "text": [
      "+--------------+--------------------+\n|Category_Class|       Category_Code|\n+--------------+--------------------+\n|     furniture|furniture.living_...|\n|     furniture|furniture.kitchen...|\n|     furniture|furniture.kitchen...|\n|     furniture|furniture.bedroom...|\n|     furniture|furniture.bathroo...|\n|   electronics|electronics.video.tv|\n|   electronics|electronics.smart...|\n|   electronics|  electronics.clocks|\n|   electronics|electronics.camer...|\n|   electronics|electronics.audio...|\n|   electronics|electronics.audio...|\n|  construction|construction.tool...|\n|  construction|construction.tool...|\n|  construction|construction.tool...|\n|  construction|construction.tool...|\n|  construction|construction.tool...|\n|     computers|computers.periphe...|\n|     computers|  computers.notebook|\n|     computers|   computers.desktop|\n|     computers|computers.compone...|\n+--------------+--------------------+\nonly showing top 20 rows\n\n"
     ]
    }
   ],
   "source": [
    "spark.sql(\"SELECT Category_Class, Category_Code from Product_Data GROUP BY Category_Class, Category_Code ORDER BY Category_Code DESC\").show()"
   ]
  },
  {
   "source": [
    "Mehrere Category Codes gehören immer nur zu einer Category Class."
   ],
   "cell_type": "markdown",
   "metadata": {}
  },
  {
   "source": [
    "##### Category Class - Category ID"
   ],
   "cell_type": "markdown",
   "metadata": {}
  },
  {
   "cell_type": "code",
   "execution_count": 99,
   "metadata": {},
   "outputs": [
    {
     "output_type": "stream",
     "name": "stdout",
     "text": [
      "+--------------+-----------------+\n|Category_Class|Count_Category_ID|\n+--------------+-----------------+\n|     computers|                5|\n|          auto|                2|\n|          null|               38|\n|       apparel|                4|\n|    appliances|                6|\n|     furniture|                6|\n|   accessories|                1|\n|   electronics|                7|\n|  construction|                5|\n+--------------+-----------------+\n\n"
     ]
    }
   ],
   "source": [
    "spark.sql(\"SELECT Category_Class, COUNT(DISTINCT(Category_ID)) AS Count_Category_ID from Product_Data GROUP BY Category_Class\").show()"
   ]
  },
  {
   "cell_type": "code",
   "execution_count": 102,
   "metadata": {},
   "outputs": [
    {
     "output_type": "stream",
     "name": "stdout",
     "text": [
      "+-------------------+--------------------+\n|        Category_ID|Count_Category_class|\n+-------------------+--------------------+\n|2127425434894205468|                   1|\n|2053013552326770905|                   1|\n|2053013556311359947|                   1|\n|2146660887346282824|                   1|\n|2053013563810775923|                   1|\n|2053013554155487563|                   1|\n|2053013560530830019|                   1|\n|2053013555631882655|                   1|\n|2053013563944993659|                   1|\n|2053013561579406073|                   1|\n|2053013559792632471|                   1|\n|2173216765583032544|                   1|\n|2053013558433677895|                   1|\n|2100825583029060150|                   1|\n|2127425436764865054|                   1|\n|2116907524572577889|                   1|\n|2053013558920217191|                   1|\n|2053013565983425517|                   1|\n|2053013557192163841|                   1|\n|2053013554415534427|                   1|\n+-------------------+--------------------+\nonly showing top 20 rows\n\n"
     ]
    }
   ],
   "source": [
    "spark.sql(\"SELECT Category_ID, COUNT(DISTINCT(Category_class)) AS Count_Category_class from Product_Data GROUP BY Category_ID ORDER BY Count_Category_class DESC\").show()"
   ]
  },
  {
   "cell_type": "code",
   "execution_count": 101,
   "metadata": {},
   "outputs": [
    {
     "output_type": "stream",
     "name": "stdout",
     "text": [
      "+--------------+-------------------+\n|Category_Class|        Category_ID|\n+--------------+-------------------+\n|     furniture|2053013559901684381|\n|     furniture|2053013559792632471|\n|     furniture|2053013558433677895|\n|     furniture|2053013557477376525|\n|     furniture|2053013557192163841|\n|     furniture|2053013555464110485|\n|   electronics|2053013561579406073|\n|   electronics|2053013560530830019|\n|   electronics|2053013555631882655|\n|   electronics|2053013554658804075|\n|   electronics|2053013554415534427|\n|   electronics|2053013553945772349|\n|   electronics|2053013553341792533|\n|  construction|2144916515806248980|\n|  construction|2127425436764865054|\n|  construction|2127425434894205468|\n|  construction|2098563450757186313|\n|  construction|2053013556311359947|\n|     computers|2053013559868129947|\n|     computers|2053013558920217191|\n+--------------+-------------------+\nonly showing top 20 rows\n\n"
     ]
    }
   ],
   "source": [
    "spark.sql(\"SELECT Category_Class, Category_ID from Product_Data GROUP BY Category_Class, Category_ID ORDER BY Category_Class DESC, Category_ID DESC\").show()"
   ]
  },
  {
   "source": [
    "Mehrere Category IDs gehören immer nur zur einen Category Class."
   ],
   "cell_type": "markdown",
   "metadata": {}
  },
  {
   "source": [
    "##### Category Class - Product ID"
   ],
   "cell_type": "markdown",
   "metadata": {}
  },
  {
   "cell_type": "code",
   "execution_count": 103,
   "metadata": {},
   "outputs": [
    {
     "output_type": "stream",
     "name": "stdout",
     "text": [
      "+--------------+----------------+\n|Category_Class|Count_Product_ID|\n+--------------+----------------+\n|     computers|              22|\n|          auto|               5|\n|          null|              78|\n|       apparel|               6|\n|    appliances|              12|\n|     furniture|              10|\n|   accessories|               1|\n|   electronics|              46|\n|  construction|               8|\n+--------------+----------------+\n\n"
     ]
    }
   ],
   "source": [
    "spark.sql(\"SELECT Category_Class, COUNT(DISTINCT(Product_ID)) AS Count_Product_ID from Product_Data GROUP BY Category_Class\").show()"
   ]
  },
  {
   "cell_type": "code",
   "execution_count": 104,
   "metadata": {},
   "outputs": [
    {
     "output_type": "stream",
     "name": "stdout",
     "text": [
      "+----------+--------------------+\n|Product_ID|Count_Category_class|\n+----------+--------------------+\n|   1305977|                   1|\n|   6500912|                   1|\n|   1004990|                   1|\n|   2700598|                   1|\n|   1004566|                   1|\n|   1307012|                   1|\n|   1005116|                   1|\n|   2701517|                   1|\n|   5800506|                   1|\n|   1303355|                   1|\n|  45601414|                   1|\n|   1306894|                   1|\n|   1307350|                   1|\n|   4804420|                   1|\n|   1004241|                   1|\n|   1004237|                   1|\n|  30000218|                   1|\n|   5100855|                   1|\n|  21406939|                   1|\n|   3901174|                   1|\n+----------+--------------------+\nonly showing top 20 rows\n\n"
     ]
    }
   ],
   "source": [
    "spark.sql(\"SELECT Product_ID, COUNT(DISTINCT(Category_class)) AS Count_Category_class from Product_Data GROUP BY Product_ID ORDER BY Count_Category_class DESC\").show()"
   ]
  },
  {
   "cell_type": "code",
   "execution_count": 105,
   "metadata": {},
   "outputs": [
    {
     "output_type": "stream",
     "name": "stdout",
     "text": [
      "+--------------+----------+\n|Category_Class|Product_ID|\n+--------------+----------+\n|     furniture|  17200570|\n|     furniture|  17200558|\n|     furniture|  16900083|\n|     furniture|  16700826|\n|     furniture|  16700690|\n|     furniture|  16700384|\n|     furniture|  16700260|\n|     furniture|  13600340|\n|     furniture|  13200605|\n|     furniture|   7100133|\n|   electronics|  21408240|\n|   electronics|  21407128|\n|   electronics|  21406939|\n|   electronics|  21405259|\n|   electronics|  21400135|\n|   electronics|   5801656|\n|   electronics|   5801550|\n|   electronics|   5801483|\n|   electronics|   5800506|\n|   electronics|   5100855|\n+--------------+----------+\nonly showing top 20 rows\n\n"
     ]
    }
   ],
   "source": [
    "spark.sql(\"SELECT Category_Class, Product_ID from Product_Data GROUP BY Category_Class, Product_ID ORDER BY Category_Class DESC, Product_ID DESC\").show()"
   ]
  },
  {
   "source": [
    "Mehrere Product IDs gehören immer nur zur einen Category Class"
   ],
   "cell_type": "markdown",
   "metadata": {}
  },
  {
   "source": [
    "##### Category Class - Brand"
   ],
   "cell_type": "markdown",
   "metadata": {}
  },
  {
   "cell_type": "code",
   "execution_count": 91,
   "metadata": {},
   "outputs": [
    {
     "output_type": "stream",
     "name": "stdout",
     "text": [
      "+--------------+-----------+\n|Category_Class|Count_Brand|\n+--------------+-----------+\n|     computers|          8|\n|          auto|          4|\n|          null|         46|\n|       apparel|          3|\n|    appliances|          9|\n|     furniture|          3|\n|   accessories|          1|\n|   electronics|         15|\n|  construction|          5|\n+--------------+-----------+\n\n"
     ]
    }
   ],
   "source": [
    "spark.sql(\"SELECT Category_Class, COUNT(DISTINCT(Brand)) AS Count_Brand from Product_Data GROUP BY Category_Class\").show()"
   ]
  },
  {
   "cell_type": "code",
   "execution_count": 98,
   "metadata": {},
   "outputs": [
    {
     "output_type": "stream",
     "name": "stdout",
     "text": [
      "+--------+--------------------+\n|   Brand|Count_Category_class|\n+--------+--------------------+\n|yokohama|                   0|\n|goodloot|                   1|\n|cordiant|                   0|\n| element|                   1|\n| rondell|                   0|\n|   epson|                   1|\n|   oasis|                   1|\n|  rezult|                   0|\n|   lider|                   0|\n| eveline|                   0|\n|   tefal|                   1|\n|givenchy|                   0|\n|   apple|                   2|\n|  jordan|                   1|\n|   casio|                   1|\n|    null|                   7|\n|   fubag|                   1|\n|  armani|                   1|\n|  kolner|                   0|\n|   canon|                   1|\n+--------+--------------------+\nonly showing top 20 rows\n\n"
     ]
    }
   ],
   "source": [
    "spark.sql(\"SELECT Brand, COUNT(DISTINCT(Category_class)) AS Count_Category_class from Product_Data GROUP BY Brand\").show()"
   ]
  },
  {
   "cell_type": "code",
   "execution_count": 96,
   "metadata": {},
   "outputs": [
    {
     "output_type": "stream",
     "name": "stdout",
     "text": [
      "+--------------+--------+\n|Category_Class|   Brand|\n+--------------+--------+\n|     furniture|    nika|\n|     furniture|mamadoma|\n|     furniture|     brw|\n|     furniture|    null|\n|   electronics|  xiaomi|\n|   electronics|  tissot|\n|   electronics| samsung|\n|   electronics| pioneer|\n|   electronics|    oppo|\n|   electronics|  huawei|\n|   electronics|      hp|\n|   electronics|  garmin|\n|   electronics| element|\n|   electronics|   casio|\n|   electronics|  avatar|\n|   electronics|  armani|\n|   electronics|   apple|\n|   electronics| alphard|\n|   electronics|    acme|\n|   electronics|    null|\n+--------------+--------+\nonly showing top 20 rows\n\n"
     ]
    }
   ],
   "source": [
    "spark.sql(\"SELECT Category_Class, Brand from Product_Data GROUP BY Category_Class, Brand ORDER BY Category_Class DESC, Brand DESC\").show()"
   ]
  },
  {
   "source": [
    "Mehrere Brands können zu mehreren Category Class gehören."
   ],
   "cell_type": "markdown",
   "metadata": {}
  },
  {
   "source": [
    "##### Category Code - Category ID"
   ],
   "cell_type": "markdown",
   "metadata": {}
  },
  {
   "cell_type": "code",
   "execution_count": 110,
   "metadata": {},
   "outputs": [
    {
     "output_type": "stream",
     "name": "stdout",
     "text": [
      "+--------------------+-----------------+\n|       Category_code|Count_Category_ID|\n+--------------------+-----------------+\n|       apparel.shirt|                1|\n|electronics.camer...|                1|\n|electronics.audio...|                1|\n|appliances.kitche...|                1|\n|       apparel.jeans|                1|\n|furniture.kitchen...|                1|\n|construction.tool...|                1|\n|auto.accessories....|                1|\n|                null|               38|\n|construction.tool...|                1|\n|construction.tool...|                1|\n|furniture.bathroo...|                1|\n|     accessories.bag|                1|\n|furniture.kitchen...|                1|\n|electronics.audio...|                1|\n|furniture.bedroom...|                2|\n|  electronics.clocks|                2|\n|      apparel.tshirt|                1|\n|electronics.smart...|                1|\n|construction.tool...|                1|\n+--------------------+-----------------+\nonly showing top 20 rows\n\n"
     ]
    }
   ],
   "source": [
    "spark.sql(\"SELECT Category_code, COUNT(DISTINCT(Category_ID)) AS Count_Category_ID from Product_Data GROUP BY Category_code\").show()"
   ]
  },
  {
   "cell_type": "code",
   "execution_count": 112,
   "metadata": {},
   "outputs": [
    {
     "output_type": "stream",
     "name": "stdout",
     "text": [
      "+-------------------+-------------------+\n|        Category_ID|Count_Category_code|\n+-------------------+-------------------+\n|2055156924407612189|                  1|\n|2053013558433677895|                  1|\n|2127425434894205468|                  1|\n|2053013563944993659|                  1|\n|2053013561579406073|                  1|\n|2100825583029060150|                  1|\n|2053013556311359947|                  1|\n|2053013555631882655|                  1|\n|2146660887346282824|                  1|\n|2053013565983425517|                  1|\n|2053013563810775923|                  1|\n|2053013559792632471|                  1|\n|2053013554155487563|                  1|\n|2053013560530830019|                  1|\n|2053013558920217191|                  1|\n|2173216765583032544|                  1|\n|2127425436764865054|                  1|\n|2053013557192163841|                  1|\n|2053013554415534427|                  1|\n|2116907524572577889|                  1|\n+-------------------+-------------------+\nonly showing top 20 rows\n\n"
     ]
    }
   ],
   "source": [
    "spark.sql(\"SELECT Category_ID, COUNT(DISTINCT(Category_code)) AS Count_Category_code from Product_Data GROUP BY Category_ID ORDER BY Count_Category_code DESC\").show()"
   ]
  },
  {
   "cell_type": "code",
   "execution_count": 113,
   "metadata": {},
   "outputs": [
    {
     "output_type": "stream",
     "name": "stdout",
     "text": [
      "+--------------------+-------------------+\n|       Category_code|        Category_ID|\n+--------------------+-------------------+\n|furniture.living_...|2053013559792632471|\n|furniture.kitchen...|2053013558433677895|\n|furniture.kitchen...|2053013559901684381|\n|furniture.bedroom...|2053013557192163841|\n|furniture.bedroom...|2053013555464110485|\n|furniture.bathroo...|2053013557477376525|\n|electronics.video.tv|2053013554415534427|\n|electronics.smart...|2053013555631882655|\n|  electronics.clocks|2053013561579406073|\n|  electronics.clocks|2053013553341792533|\n|electronics.camer...|2053013560530830019|\n|electronics.audio...|2053013553945772349|\n|electronics.audio...|2053013554658804075|\n|construction.tool...|2127425436764865054|\n|construction.tool...|2144916515806248980|\n|construction.tool...|2127425434894205468|\n|construction.tool...|2098563450757186313|\n|construction.tool...|2053013556311359947|\n|computers.periphe...|2053013553056579841|\n|  computers.notebook|2053013558920217191|\n+--------------------+-------------------+\nonly showing top 20 rows\n\n"
     ]
    }
   ],
   "source": [
    "spark.sql(\"SELECT Category_code, Category_ID from Product_Data GROUP BY Category_code, Category_ID ORDER BY Category_code DESC, Category_ID DESC\").show()"
   ]
  },
  {
   "cell_type": "code",
   "execution_count": null,
   "metadata": {},
   "outputs": [],
   "source": [
    "Mehrere Category_IDs gehören immer nur zu einem Category_code."
   ]
  },
  {
   "source": [
    "##### Category ID - Product ID"
   ],
   "cell_type": "markdown",
   "metadata": {}
  },
  {
   "cell_type": "code",
   "execution_count": 107,
   "metadata": {},
   "outputs": [
    {
     "output_type": "stream",
     "name": "stdout",
     "text": [
      "+-------------------+-------------+\n|        Category_ID|Count_Product|\n+-------------------+-------------+\n|2053013563944993659|            3|\n|2173216765583032544|            1|\n|2053013555631882655|           29|\n|2137704922018218396|            2|\n|2152167773222993940|            1|\n|2053013556110033341|            1|\n|2053013561277416167|            1|\n|2053013554415534427|            1|\n|2053013562183385881|            1|\n|2053013558223962683|            1|\n|2053013561218695907|            1|\n|2055156924315337497|            1|\n|2053013559792632471|            2|\n|2053013558920217191|           17|\n|2127425436764865054|            1|\n|2053013557192163841|            1|\n|2085718636156158307|            1|\n|2053013560555995845|            2|\n|2079713978300236035|            2|\n|2053013563651392361|            4|\n+-------------------+-------------+\nonly showing top 20 rows\n\n"
     ]
    }
   ],
   "source": [
    "spark.sql(\"SELECT Category_ID, COUNT(DISTINCT(Product_ID)) AS Count_Product from Product_Data GROUP BY Category_ID\").show()"
   ]
  },
  {
   "cell_type": "code",
   "execution_count": 108,
   "metadata": {},
   "outputs": [
    {
     "output_type": "stream",
     "name": "stdout",
     "text": [
      "+----------+-----------------+\n|Product_ID|Count_Category_ID|\n+----------+-----------------+\n|  24400436|                1|\n|   2701517|                1|\n|   5100855|                1|\n|   1303355|                1|\n|  17301495|                1|\n|   5800506|                1|\n|   1004241|                1|\n|  15100252|                1|\n|   1306894|                1|\n|  12720155|                1|\n|  22700202|                1|\n|  12701967|                1|\n|   4804420|                1|\n|  37900026|                1|\n|  12720378|                1|\n|  15200565|                1|\n|   1004237|                1|\n|  30000218|                1|\n|   3901174|                1|\n|   1004566|                1|\n+----------+-----------------+\nonly showing top 20 rows\n\n"
     ]
    }
   ],
   "source": [
    "spark.sql(\"SELECT Product_ID, COUNT(DISTINCT(Category_ID)) AS Count_Category_ID from Product_Data GROUP BY Product_ID\").show()"
   ]
  },
  {
   "cell_type": "code",
   "execution_count": 115,
   "metadata": {},
   "outputs": [
    {
     "output_type": "stream",
     "name": "stdout",
     "text": [
      "+-------------------+----------+\n|        Category_ID|Product_ID|\n+-------------------+----------+\n|2173216765583032544|  57300036|\n|2152167773222993940|  37900026|\n|2146660887346282824|  43200121|\n|2144916515806248980|  53900036|\n|2137704922018218396|  52000058|\n|2137704922018218396|  52000038|\n|2134905044833666047|  50600085|\n|2134905044833666047|  50600046|\n|2127425436764865054|  30000218|\n|2127425434894205468|  40900007|\n|2116907524572577889|  45601414|\n|2100825583029060150|  44300043|\n|2100825583029060150|  44300026|\n|2100825583029060150|  44300009|\n|2098563450757186313|  42900023|\n|2090228413959766319|  41100058|\n|2090228413959766319|  41100055|\n|2090228413959766319|  41100050|\n|2090228413959766319|  41100033|\n|2085718636156158307|  38900011|\n+-------------------+----------+\nonly showing top 20 rows\n\n"
     ]
    }
   ],
   "source": [
    "spark.sql(\"SELECT Category_ID, Product_ID from Product_Data GROUP BY Category_ID, Product_ID ORDER BY Category_ID DESC, Product_ID DESC\").show()"
   ]
  },
  {
   "source": [
    "Mehrere Product_IDs gehören immer nur zu einer Category_ID."
   ],
   "cell_type": "markdown",
   "metadata": {}
  },
  {
   "source": [
    "Fazit: Eine Category Class vereinigt mehrere Category Codes. Diese vereinigt mehrere Category IDs und die Category IDS vereinigen wiederrum mehrere Product IDs. Die Brands hingegen verteillen sich über verschiedene Category Classes, Codes und IDS."
   ],
   "cell_type": "markdown",
   "metadata": {}
  },
  {
   "source": [
    "#### Zusammenhang mit dem Event-Type"
   ],
   "cell_type": "markdown",
   "metadata": {}
  },
  {
   "cell_type": "code",
   "execution_count": 119,
   "metadata": {},
   "outputs": [
    {
     "output_type": "stream",
     "name": "stdout",
     "text": [
      "+----------+-----+\n|event_type|Count|\n+----------+-----+\n|      view|  214|\n|  purchase|    2|\n|      cart|    1|\n+----------+-----+\n\n"
     ]
    }
   ],
   "source": [
    "spark.sql(\"SELECT event_type, Count(*) AS Count from Product_Data GROUP BY event_type ORDER BY Count DESC\").show()"
   ]
  },
  {
   "source": [
    "##### Category Class - Event Type"
   ],
   "cell_type": "markdown",
   "metadata": {}
  },
  {
   "cell_type": "code",
   "execution_count": 121,
   "metadata": {},
   "outputs": [
    {
     "output_type": "stream",
     "name": "stdout",
     "text": [
      "+--------------+----------+-----+\n|Category_class|event_type|Count|\n+--------------+----------+-----+\n|     furniture|      view|   13|\n|     furniture|  purchase|    1|\n|   electronics|      view|   55|\n|   electronics|  purchase|    1|\n|   electronics|      cart|    1|\n|  construction|      view|    8|\n|     computers|      view|   23|\n|          auto|      view|    7|\n|    appliances|      view|   14|\n|       apparel|      view|    6|\n|   accessories|      view|    1|\n|          null|      view|   87|\n+--------------+----------+-----+\n\n"
     ]
    }
   ],
   "source": [
    "spark.sql(\"SELECT Category_class, event_type, Count(*) AS Count from Product_Data GROUP BY Category_class, event_type ORDER BY Category_class DESC, event_type DESC\").show()"
   ]
  },
  {
   "source": [
    "##### Category Code - Event Type"
   ],
   "cell_type": "markdown",
   "metadata": {}
  },
  {
   "cell_type": "code",
   "execution_count": 122,
   "metadata": {},
   "outputs": [
    {
     "output_type": "stream",
     "name": "stdout",
     "text": [
      "+--------------------+----------+-----+\n|       Category_code|event_type|Count|\n+--------------------+----------+-----+\n|furniture.living_...|      view|    2|\n|furniture.kitchen...|      view|    1|\n|furniture.kitchen...|      view|    6|\n|furniture.bedroom...|      view|    3|\n|furniture.bedroom...|  purchase|    1|\n|furniture.bathroo...|      view|    1|\n|electronics.video.tv|      view|    1|\n|electronics.smart...|      view|   36|\n|electronics.smart...|  purchase|    1|\n|electronics.smart...|      cart|    1|\n|  electronics.clocks|      view|    8|\n|electronics.camer...|      view|    1|\n|electronics.audio...|      view|    4|\n|electronics.audio...|      view|    5|\n|construction.tool...|      view|    1|\n|construction.tool...|      view|    1|\n|construction.tool...|      view|    1|\n|construction.tool...|      view|    1|\n|construction.tool...|      view|    4|\n|computers.periphe...|      view|    2|\n+--------------------+----------+-----+\nonly showing top 20 rows\n\n"
     ]
    }
   ],
   "source": [
    "spark.sql(\"SELECT Category_code, event_type, Count(*) AS Count from Product_Data GROUP BY Category_code, event_type ORDER BY Category_code DESC, event_type DESC\").show()"
   ]
  },
  {
   "source": [
    "##### Category ID - Event Type"
   ],
   "cell_type": "markdown",
   "metadata": {}
  },
  {
   "cell_type": "code",
   "execution_count": 123,
   "metadata": {},
   "outputs": [
    {
     "output_type": "stream",
     "name": "stdout",
     "text": [
      "+-------------------+----------+-----+\n|        Category_id|event_type|Count|\n+-------------------+----------+-----+\n|2173216765583032544|      view|    1|\n|2152167773222993940|      view|    1|\n|2146660887346282824|      view|    1|\n|2144916515806248980|      view|    1|\n|2137704922018218396|      view|    2|\n|2134905044833666047|      view|    2|\n|2127425436764865054|      view|    1|\n|2127425434894205468|      view|    1|\n|2116907524572577889|      view|    1|\n|2100825583029060150|      view|    3|\n|2098563450757186313|      view|    1|\n|2090228413959766319|      view|    4|\n|2085718636156158307|      view|    2|\n|2079713978300236035|      view|    2|\n|2070747671722722162|      view|    1|\n|2062461754293617058|      view|    1|\n|2060981320581906480|      view|    2|\n|2059484601444729123|      view|    2|\n|2055156924407612189|      view|    1|\n|2055156924315337497|      view|    1|\n+-------------------+----------+-----+\nonly showing top 20 rows\n\n"
     ]
    }
   ],
   "source": [
    "spark.sql(\"SELECT Category_id, event_type, Count(*) AS Count from Product_Data GROUP BY Category_id, event_type ORDER BY Category_id DESC, event_type DESC\").show()"
   ]
  },
  {
   "source": [
    "##### Product ID - Event Type"
   ],
   "cell_type": "markdown",
   "metadata": {}
  },
  {
   "cell_type": "code",
   "execution_count": 124,
   "metadata": {},
   "outputs": [
    {
     "output_type": "stream",
     "name": "stdout",
     "text": [
      "+----------+----------+-----+\n|Product_ID|event_type|Count|\n+----------+----------+-----+\n|  57300036|      view|    1|\n|  53900036|      view|    1|\n|  52000058|      view|    1|\n|  52000038|      view|    1|\n|  50600085|      view|    1|\n|  50600046|      view|    1|\n|  45601414|      view|    1|\n|  44300043|      view|    1|\n|  44300026|      view|    1|\n|  44300009|      view|    1|\n|  43200121|      view|    1|\n|  42900023|      view|    1|\n|  41100058|      view|    1|\n|  41100055|      view|    1|\n|  41100050|      view|    1|\n|  41100033|      view|    1|\n|  40900007|      view|    1|\n|  38900011|      view|    2|\n|  37900026|      view|    1|\n|  36600031|      view|    1|\n+----------+----------+-----+\nonly showing top 20 rows\n\n"
     ]
    }
   ],
   "source": [
    "spark.sql(\"SELECT Product_ID, event_type, Count(*) AS Count from Product_Data GROUP BY Product_ID, event_type ORDER BY Product_ID DESC, event_type DESC\").show()"
   ]
  },
  {
   "source": [
    "##### Brand - Event Type"
   ],
   "cell_type": "markdown",
   "metadata": {}
  },
  {
   "cell_type": "code",
   "execution_count": 125,
   "metadata": {},
   "outputs": [
    {
     "output_type": "stream",
     "name": "stdout",
     "text": [
      "+---------+----------+-----+\n|    Brand|event_type|Count|\n+---------+----------+-----+\n| yokohama|      view|    2|\n|   xiaomi|      view|   14|\n|   xiaomi|  purchase|    1|\n|    welly|      view|    1|\n|trussardi|      view|    3|\n|  tomfarr|      view|    1|\n|   tissot|      view|    4|\n|    tefal|      view|    1|\n|  tarkett|      view|    1|\n|    t-rex|      view|    1|\n|       sv|      view|    1|\n|     sulu|      view|    1|\n|    stels|      view|    1|\n|  stanley|      view|    1|\n|     sony|      view|    2|\n|  sokolov|      view|    1|\n|     skad|      view|    1|\n|  samsung|      view|    9|\n|  samsung|      cart|    1|\n|  rondell|      view|    2|\n+---------+----------+-----+\nonly showing top 20 rows\n\n"
     ]
    }
   ],
   "source": [
    "spark.sql(\"SELECT Brand, event_type, Count(*) AS Count from Product_Data GROUP BY Brand, event_type ORDER BY Brand DESC, event_type DESC\").show()"
   ]
  }
 ],
 "metadata": {
  "kernelspec": {
   "name": "python383jvsc74a57bd0b3ba2566441a7c06988d0923437866b63cedc61552a5af99d1f4fb67d367b25f",
   "display_name": "Python 3.8.3 64-bit ('base': conda)"
  },
  "language_info": {
   "codemirror_mode": {
    "name": "ipython",
    "version": 3
   },
   "file_extension": ".py",
   "mimetype": "text/x-python",
   "name": "python",
   "nbconvert_exporter": "python",
   "pygments_lexer": "ipython3",
   "version": "3.8.3"
  }
 },
 "nbformat": 4,
 "nbformat_minor": 4
}