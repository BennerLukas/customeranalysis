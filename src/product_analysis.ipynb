{
 "cells": [
  {
   "cell_type": "markdown",
   "metadata": {},
   "source": [
    "# Produktanalyse"
   ]
  },
  {
   "source": [
    "## Imports"
   ],
   "cell_type": "markdown",
   "metadata": {}
  },
  {
   "cell_type": "code",
   "execution_count": 1,
   "metadata": {},
   "outputs": [],
   "source": [
    "import pandas as pd\n",
    "import pyspark\n",
    "import pyspark.sql.functions as f\n",
    "import matplotlib.pyplot as plt\n",
    "import pandas as pd\n",
    "import numpy as np"
   ]
  },
  {
   "source": [
    "## Vorverarbeitung"
   ],
   "cell_type": "markdown",
   "metadata": {}
  },
  {
   "cell_type": "code",
   "execution_count": 56,
   "metadata": {},
   "outputs": [],
   "source": [
    "spark = pyspark.sql.SparkSession.builder.appName(\"app1\").getOrCreate()\n",
    "sdf = spark.read.csv(\"data/test_data.csv\", header=True, inferSchema=True)\n",
    "# sdf.show()\n",
    "# sdf.printSchema()\n"
   ]
  },
  {
   "cell_type": "code",
   "execution_count": 57,
   "metadata": {},
   "outputs": [],
   "source": [
    "sdf = sdf.withColumn(\"category_class\", pyspark.sql.functions.substring_index(sdf.category_code, '.', 1))\n",
    "sdf.createOrReplaceTempView(\"Product_Data\")"
   ]
  },
  {
   "source": [
    "## Analysen"
   ],
   "cell_type": "markdown",
   "metadata": {}
  },
  {
   "source": [
    "### SQL-Analysen"
   ],
   "cell_type": "markdown",
   "metadata": {}
  },
  {
   "cell_type": "code",
   "execution_count": 58,
   "metadata": {},
   "outputs": [
    {
     "output_type": "stream",
     "name": "stdout",
     "text": [
      "+--------------------+----------+----------+-------------------+--------------------+--------+------+---------+--------------------+--------------+\n|          event_time|event_type|product_id|        category_id|       category_code|   brand| price|  user_id|        user_session|category_class|\n+--------------------+----------+----------+-------------------+--------------------+--------+------+---------+--------------------+--------------+\n|2019-11-01 00:00:...|      view|   1003461|2053013555631882655|electronics.smart...|  xiaomi|489.07|520088904|4d3b30da-a5e4-49d...|   electronics|\n|2019-11-01 00:00:...|      view|   5000088|2053013566100866035|appliances.sewing...|  janome|293.65|530496790|8e5f4f83-366c-4f7...|    appliances|\n|2019-11-01 00:00:...|      view|  17302664|2053013553853497655|                null|   creed| 28.31|561587266|755422e7-9040-477...|          null|\n|2019-11-01 00:00:...|      view|   3601530|2053013563810775923|appliances.kitche...|      lg|712.87|518085591|3bfb58cd-7892-48c...|    appliances|\n|2019-11-01 00:00:...|      view|   1004775|2053013555631882655|electronics.smart...|  xiaomi|183.27|558856683|313628f1-68b8-460...|   electronics|\n|2019-11-01 00:00:...|      view|   1306894|2053013558920217191|  computers.notebook|      hp|360.09|520772685|816a59f3-f5ae-4cc...|     computers|\n|2019-11-01 00:00:...|      view|   1306421|2053013558920217191|  computers.notebook|      hp|514.56|514028527|df8184cc-3694-454...|     computers|\n|2019-11-01 00:00:...|      view|  15900065|2053013558190408249|                null| rondell| 30.86|518574284|5e6ef132-4d7c-473...|          null|\n|2019-11-01 00:00:...|      view|  12708937|2053013553559896355|                null|michelin| 72.72|532364121|0a899268-31eb-46d...|          null|\n|2019-11-01 00:00:...|      view|   1004258|2053013555631882655|electronics.smart...|   apple|732.07|532647354|d2d3d2c6-631d-489...|   electronics|\n|2019-11-01 00:00:...|      view|  17200570|2053013559792632471|furniture.living_...|    null|437.33|518780843|aa806835-b14c-45a...|     furniture|\n|2019-11-01 00:00:...|      view|   2701517|2053013563911439225|appliances.kitche...|    null|155.11|518427361|c89b0d96-247f-404...|    appliances|\n|2019-11-01 00:00:...|      view|  16700260|2053013559901684381|furniture.kitchen...|    null| 31.64|566255262|173d7b72-1db7-463...|     furniture|\n|2019-11-01 00:00:...|      view|  34600011|2060981320581906480|                null|    null| 20.54|512416379|4dfe2c67-e537-4dc...|          null|\n|2019-11-01 00:00:...|      view|   4600658|2053013563944993659|appliances.kitche...| samsung|411.83|526595547|aab33a9a-29c3-4d5...|    appliances|\n|2019-11-01 00:00:...|      view|  24900193|2053013562183385881|                null|    null|  1.09|512651494|f603c815-f51a-46f...|          null|\n|2019-11-01 00:00:...|      view|  27400066|2053013563391345499|                null|    null|  8.55|551061950|3f6112f1-5695-4e8...|          null|\n|2019-11-01 00:00:...|      view|   5100503|2053013553375346967|                null|  xiaomi| 22.68|520037415|f54fa96a-f3f2-43a...|          null|\n|2019-11-01 00:00:...|      view|   1004566|2053013555631882655|electronics.smart...|  huawei|164.84|566265908|52c2c76c-b79e-479...|   electronics|\n|2019-11-01 00:00:...|      view|   1307115|2053013558920217191|  computers.notebook|      hp|411.59|514028527|df8184cc-3694-454...|     computers|\n+--------------------+----------+----------+-------------------+--------------------+--------+------+---------+--------------------+--------------+\nonly showing top 20 rows\n\n"
     ]
    }
   ],
   "source": [
    "spark.sql(\"SELECT *  from Product_Data\").show()"
   ]
  },
  {
   "cell_type": "code",
   "execution_count": 23,
   "metadata": {},
   "outputs": [
    {
     "output_type": "stream",
     "name": "stdout",
     "text": [
      "+---------+\n|Row_Count|\n+---------+\n|      217|\n+---------+\n\n"
     ]
    }
   ],
   "source": [
    "spark.sql(\"SELECT COUNT(*) AS Row_Count from Product_Data\").show()"
   ]
  },
  {
   "source": [
    "#### Einzelbetrachtung"
   ],
   "cell_type": "markdown",
   "metadata": {}
  },
  {
   "source": [
    "##### Product_ID"
   ],
   "cell_type": "markdown",
   "metadata": {}
  },
  {
   "cell_type": "code",
   "execution_count": 31,
   "metadata": {},
   "outputs": [
    {
     "output_type": "stream",
     "name": "stdout",
     "text": [
      "+-----------------------+\n|Count_Unique_Product_ID|\n+-----------------------+\n|                    188|\n+-----------------------+\n\n"
     ]
    }
   ],
   "source": [
    "spark.sql(\"SELECT COUNT(DISTINCT(product_id)) AS Count_Unique_Product_ID from Product_Data\").show()"
   ]
  },
  {
   "cell_type": "code",
   "execution_count": 35,
   "metadata": {},
   "outputs": [
    {
     "output_type": "stream",
     "name": "stdout",
     "text": [
      "+----------+-----+\n|Product_ID|Count|\n+----------+-----+\n|  13200605|    3|\n|   5701331|    3|\n|  24400437|    3|\n|  12708937|    3|\n|   4100297|    2|\n|   1005161|    2|\n|   1004856|    2|\n|   1005116|    2|\n|   5000088|    2|\n|   1004775|    2|\n|  21408240|    2|\n|   1004237|    2|\n|   4804295|    2|\n|  38900011|    2|\n|  16700826|    2|\n|   1004258|    2|\n|   1307115|    2|\n|  17300072|    2|\n|   4600603|    2|\n|  29900072|    2|\n+----------+-----+\nonly showing top 20 rows\n\n"
     ]
    }
   ],
   "source": [
    "spark.sql(\"SELECT DISTINCT(product_id) AS Product_ID, COUNT(product_id) AS Count from Product_Data GROUP BY product_id ORDER BY Count DESC\").show()"
   ]
  },
  {
   "source": [
    "##### Category_ID"
   ],
   "cell_type": "markdown",
   "metadata": {}
  },
  {
   "cell_type": "code",
   "execution_count": 36,
   "metadata": {},
   "outputs": [
    {
     "output_type": "stream",
     "name": "stdout",
     "text": [
      "+------------------------+\n|Count_Unique_Category_ID|\n+------------------------+\n|                      74|\n+------------------------+\n\n"
     ]
    }
   ],
   "source": [
    "spark.sql(\"SELECT COUNT(DISTINCT(category_id)) AS Count_Unique_Category_ID from Product_Data\").show()"
   ]
  },
  {
   "cell_type": "code",
   "execution_count": 65,
   "metadata": {},
   "outputs": [
    {
     "output_type": "stream",
     "name": "stdout",
     "text": [
      "+-------------------+-----+\n|        Category_ID|Count|\n+-------------------+-----+\n|2053013555631882655|   38|\n|2053013558920217191|   18|\n|2053013553559896355|   12|\n|2053013553853497655|    9|\n|2053013559901684381|    6|\n|2053013556168753601|    6|\n|2053013561579406073|    6|\n|2053013553970938175|    5|\n|2053013563911439225|    5|\n|2053013554658804075|    5|\n|2053013553945772349|    4|\n|2053013563944993659|    4|\n|2053013556311359947|    4|\n|2090228413959766319|    4|\n|2053013563215184719|    4|\n|2053013563651392361|    4|\n|2053013557024391671|    3|\n|2100825583029060150|    3|\n|2053013557192163841|    3|\n|2060981320581906480|    2|\n+-------------------+-----+\nonly showing top 20 rows\n\n"
     ]
    }
   ],
   "source": [
    "spark.sql(\"SELECT DISTINCT(category_id) AS Category_ID, COUNT(product_id) AS Count from Product_Data GROUP BY category_id ORDER BY Count DESC\").show()"
   ]
  },
  {
   "source": [
    "##### Category_Code"
   ],
   "cell_type": "markdown",
   "metadata": {}
  },
  {
   "cell_type": "code",
   "execution_count": 38,
   "metadata": {},
   "outputs": [
    {
     "output_type": "stream",
     "name": "stdout",
     "text": [
      "+--------------------------+\n|Count_Unique_Category_Code|\n+--------------------------+\n|                        34|\n+--------------------------+\n\n"
     ]
    }
   ],
   "source": [
    "spark.sql(\"SELECT COUNT(DISTINCT(category_code)) AS Count_Unique_Category_Code from Product_Data\").show()"
   ]
  },
  {
   "cell_type": "code",
   "execution_count": 64,
   "metadata": {},
   "outputs": [
    {
     "output_type": "stream",
     "name": "stdout",
     "text": [
      "+--------------------+-----+\n|       Category_Code|Count|\n+--------------------+-----+\n|                null|   87|\n|electronics.smart...|   38|\n|  computers.notebook|   18|\n|  electronics.clocks|    8|\n|furniture.kitchen...|    6|\n|appliances.kitche...|    5|\n|auto.accessories....|    5|\n|electronics.audio...|    5|\n|furniture.bedroom...|    4|\n|appliances.kitche...|    4|\n|construction.tool...|    4|\n|electronics.audio...|    4|\n|       apparel.jeans|    3|\n|computers.periphe...|    2|\n|furniture.living_...|    2|\n|appliances.sewing...|    2|\n|auto.accessories....|    2|\n|electronics.camer...|    1|\n|furniture.bathroo...|    1|\n|construction.tool...|    1|\n+--------------------+-----+\nonly showing top 20 rows\n\n"
     ]
    }
   ],
   "source": [
    "spark.sql(\"SELECT DISTINCT(category_code) AS Category_Code, COUNT(product_id) AS Count from Product_Data GROUP BY category_code ORDER BY Count DESC\").show()"
   ]
  },
  {
   "source": [
    "##### Category_class"
   ],
   "cell_type": "markdown",
   "metadata": {}
  },
  {
   "cell_type": "code",
   "execution_count": 60,
   "metadata": {},
   "outputs": [
    {
     "output_type": "stream",
     "name": "stdout",
     "text": [
      "+---------------------------+\n|Count_Unique_Category_Class|\n+---------------------------+\n|                          8|\n+---------------------------+\n\n"
     ]
    }
   ],
   "source": [
    "spark.sql(\"SELECT COUNT(DISTINCT(category_class)) AS Count_Unique_Category_Class from Product_Data\").show()"
   ]
  },
  {
   "cell_type": "code",
   "execution_count": 62,
   "metadata": {},
   "outputs": [
    {
     "output_type": "stream",
     "name": "stdout",
     "text": [
      "+--------------+-----+\n|Category_Class|Count|\n+--------------+-----+\n|          null|   87|\n|   electronics|   57|\n|     computers|   23|\n|     furniture|   14|\n|    appliances|   14|\n|  construction|    8|\n|          auto|    7|\n|       apparel|    6|\n|   accessories|    1|\n+--------------+-----+\n\n"
     ]
    }
   ],
   "source": [
    "spark.sql(\"SELECT DISTINCT(category_class) AS Category_Class, COUNT(product_id) AS Count from Product_Data GROUP BY category_class ORDER BY Count DESC\").show()"
   ]
  },
  {
   "source": [
    "##### Brand"
   ],
   "cell_type": "markdown",
   "metadata": {}
  },
  {
   "cell_type": "code",
   "execution_count": 40,
   "metadata": {},
   "outputs": [
    {
     "output_type": "stream",
     "name": "stdout",
     "text": [
      "+------------------+\n|Count_Unique_Brand|\n+------------------+\n|                85|\n+------------------+\n\n"
     ]
    }
   ],
   "source": [
    "spark.sql(\"SELECT COUNT(DISTINCT(brand)) AS Count_Unique_Brand from Product_Data\").show()"
   ]
  },
  {
   "cell_type": "code",
   "execution_count": 63,
   "metadata": {},
   "outputs": [
    {
     "output_type": "stream",
     "name": "stdout",
     "text": [
      "+---------+-----+\n|    Brand|Count|\n+---------+-----+\n|     null|   41|\n|    apple|   16|\n|   xiaomi|   15|\n|  samsung|   10|\n|       hp|    9|\n|   huawei|    6|\n|   tissot|    4|\n| kirkland|    4|\n|      brw|    4|\n|      ams|    3|\n|   dewalt|    3|\n|    bosch|    3|\n|trussardi|    3|\n|    canon|    3|\n|     asus|    3|\n| michelin|    3|\n|     acer|    3|\n|  lucente|    3|\n|     acme|    2|\n|     peda|    2|\n+---------+-----+\nonly showing top 20 rows\n\n"
     ]
    }
   ],
   "source": [
    "spark.sql(\"SELECT DISTINCT(brand) AS Brand, COUNT(product_id) AS Count from Product_Data GROUP BY brand ORDER BY Count DESC\").show()"
   ]
  },
  {
   "source": [
    "##### Price"
   ],
   "cell_type": "markdown",
   "metadata": {}
  },
  {
   "cell_type": "code",
   "execution_count": 74,
   "metadata": {},
   "outputs": [
    {
     "output_type": "stream",
     "name": "stdout",
     "text": [
      "+------------------+-------+-----------------+----+-----------------+\n|Count_Unique_Price|    MAX|             MEAN| MIN|       avg(price)|\n+------------------+-------+-----------------+----+-----------------+\n|               185|2496.59|306.6343778801842|1.09|306.6343778801842|\n+------------------+-------+-----------------+----+-----------------+\n\n"
     ]
    }
   ],
   "source": [
    "spark.sql(\"SELECT COUNT(DISTINCT(price)) AS Count_Unique_Price, MAX(price) AS MAX, MEAN(price) AS MEAN, MIN(price) AS MIN, AVG(price) from Product_Data\").show()"
   ]
  },
  {
   "source": [
    "#### Kombibetrachtung"
   ],
   "cell_type": "markdown",
   "metadata": {}
  }
 ],
 "metadata": {
  "kernelspec": {
   "name": "python383jvsc74a57bd0b3ba2566441a7c06988d0923437866b63cedc61552a5af99d1f4fb67d367b25f",
   "display_name": "Python 3.8.3 64-bit ('base': conda)"
  },
  "language_info": {
   "codemirror_mode": {
    "name": "ipython",
    "version": 3
   },
   "file_extension": ".py",
   "mimetype": "text/x-python",
   "name": "python",
   "nbconvert_exporter": "python",
   "pygments_lexer": "ipython3",
   "version": "3.8.3"
  }
 },
 "nbformat": 4,
 "nbformat_minor": 4
}