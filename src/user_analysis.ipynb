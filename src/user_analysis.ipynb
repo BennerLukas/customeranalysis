{
 "cells": [
  {
   "cell_type": "markdown",
   "source": [
    "# What do I want to find out?\n",
    "- How many products does a user buy / view / put in cart on average?\n",
    "- How many products does a user interact with in one session on average?\n",
    "- How many sessions does a user have on average?\n",
    "- How many users are there?\n",
    "- How many sessions are there?\n",
    "- How did the indicators change from October to November?"
   ],
   "metadata": {
    "collapsed": false
   }
  },
  {
   "cell_type": "markdown",
   "source": [
    "### Imports"
   ],
   "metadata": {
    "collapsed": false,
    "pycharm": {
     "name": "#%% md\n"
    }
   }
  },
  {
   "cell_type": "code",
   "execution_count": 1,
   "outputs": [],
   "source": [
    "import pandas as pd\n",
    "import numpy as np\n",
    "import dask.dataframe as dd\n",
    "import time"
   ],
   "metadata": {
    "collapsed": false,
    "pycharm": {
     "name": "#%%\n"
    }
   }
  },
  {
   "cell_type": "markdown",
   "source": [
    "### Loading data"
   ],
   "metadata": {
    "collapsed": false,
    "pycharm": {
     "name": "#%% md\n"
    }
   }
  },
  {
   "cell_type": "code",
   "execution_count": 2,
   "outputs": [
    {
     "name": "stdout",
     "output_type": "stream",
     "text": [
      "\n",
      "Finished operation in 0.1s\n"
     ]
    }
   ],
   "source": [
    "t1 = time.time()\n",
    "df_oct = dd.read_csv(\"./data/2019-Oct.csv\")\n",
    "df_nov = dd.read_csv(\"./data/2019-Nov.csv\")\n",
    "\n",
    "# Runtime calculations\n",
    "t2 = time.time()\n",
    "print(f\"\\nFinished operation in {round(t2-t1, 2)}s\")"
   ],
   "metadata": {
    "collapsed": false,
    "pycharm": {
     "name": "#%%\n"
    }
   }
  },
  {
   "cell_type": "code",
   "execution_count": 3,
   "outputs": [
    {
     "data": {
      "text/plain": "Dask DataFrame Structure:\n              product_id category_id    price  user_id\nnpartitions=1                                         \n                 float64     float64  float64  float64\n                     ...         ...      ...      ...\nDask Name: describe-numeric, 3620 tasks",
      "text/html": "<div><strong>Dask DataFrame Structure:</strong></div>\n<div>\n<style scoped>\n    .dataframe tbody tr th:only-of-type {\n        vertical-align: middle;\n    }\n\n    .dataframe tbody tr th {\n        vertical-align: top;\n    }\n\n    .dataframe thead th {\n        text-align: right;\n    }\n</style>\n<table border=\"1\" class=\"dataframe\">\n  <thead>\n    <tr style=\"text-align: right;\">\n      <th></th>\n      <th>product_id</th>\n      <th>category_id</th>\n      <th>price</th>\n      <th>user_id</th>\n    </tr>\n    <tr>\n      <th>npartitions=1</th>\n      <th></th>\n      <th></th>\n      <th></th>\n      <th></th>\n    </tr>\n  </thead>\n  <tbody>\n    <tr>\n      <th></th>\n      <td>float64</td>\n      <td>float64</td>\n      <td>float64</td>\n      <td>float64</td>\n    </tr>\n    <tr>\n      <th></th>\n      <td>...</td>\n      <td>...</td>\n      <td>...</td>\n      <td>...</td>\n    </tr>\n  </tbody>\n</table>\n</div>\n<div>Dask Name: describe-numeric, 3620 tasks</div>"
     },
     "execution_count": 3,
     "metadata": {},
     "output_type": "execute_result"
    }
   ],
   "source": [
    "df_oct.describe()\n"
   ],
   "metadata": {
    "collapsed": false,
    "pycharm": {
     "name": "#%%\n"
    }
   }
  },
  {
   "cell_type": "markdown",
   "source": [
    "## How many unique users are there?"
   ],
   "metadata": {
    "collapsed": false,
    "pycharm": {
     "name": "#%% md\n"
    }
   }
  },
  {
   "cell_type": "code",
   "execution_count": 4,
   "outputs": [
    {
     "name": "stdout",
     "output_type": "stream",
     "text": [
      "Amount of unique users in October: 3022290\n",
      "Amount of unique users in November: 3696117\n",
      "Delta from October to November: 673827\n",
      "\n",
      "Finished operation in 133.61s\n"
     ]
    }
   ],
   "source": [
    "t1 = time.time()\n",
    "# Amount of users\n",
    "amount_usr_oct = df_oct[\"user_id\"].nunique().compute()\n",
    "amount_usr_nov = df_nov[\"user_id\"].nunique().compute()\n",
    "print(f\"Amount of unique users in October: {amount_usr_oct}\")\n",
    "print(f\"Amount of unique users in November: {amount_usr_nov}\")\n",
    "print(f\"Delta from October to November: {amount_usr_nov - amount_usr_oct}\")\n",
    "\n",
    "# Runtime calculations\n",
    "t2 = time.time()\n",
    "print(f\"\\nFinished operation in {round(t2-t1, 2)}s\")"
   ],
   "metadata": {
    "collapsed": false,
    "pycharm": {
     "name": "#%%\n"
    }
   }
  },
  {
   "cell_type": "markdown",
   "source": [
    "## How many sessions are there?"
   ],
   "metadata": {
    "collapsed": false
   }
  },
  {
   "cell_type": "code",
   "execution_count": 9,
   "outputs": [
    {
     "name": "stdout",
     "output_type": "stream",
     "text": [
      "Amount of unique sessions in October: 9244421\n",
      "Amount of unique users in November: 13776050\n",
      "Delta from October to November: 4531629\n",
      "Finished operation in 197.93s\n"
     ]
    }
   ],
   "source": [
    "t1 = time.time()\n",
    "# Amount of sessions\n",
    "amount_sess_oct = df_oct[\"user_session\"].compute().nunique()\n",
    "amount_sess_nov = df_nov[\"user_session\"].compute().nunique()\n",
    "print(f\"Amount of unique sessions in October: {amount_sess_oct}\")\n",
    "print(f\"Amount of unique users in November: {amount_sess_nov}\")\n",
    "print(f\"Delta from October to November: {amount_sess_nov - amount_sess_oct}\")\n",
    "\n",
    "# Runtime calculations\n",
    "t2 = time.time()\n",
    "print(f\"\\nFinished operation in {round(t2-t1, 2)}s\")"
   ],
   "metadata": {
    "collapsed": false,
    "pycharm": {
     "name": "#%%\n"
    }
   }
  },
  {
   "cell_type": "markdown",
   "source": [
    "## How many sessions does a user have on average?"
   ],
   "metadata": {
    "collapsed": false
   }
  },
  {
   "cell_type": "code",
   "execution_count": 10,
   "outputs": [
    {
     "name": "stdout",
     "output_type": "stream",
     "text": [
      "The average number of session a user had in October: 3.058747175155263\n",
      "The average number of session a user had in November: 3.727168268753397\n",
      "Delta from October to November: 0.6684210935981341\n",
      "Finished operation in 0.04s\n"
     ]
    }
   ],
   "source": [
    "t1 = time.time()\n",
    "avrg_sess_oct = amount_sess_oct/amount_usr_oct\n",
    "avrg_sess_nov = amount_sess_nov/amount_usr_nov\n",
    "print(f\"The average number of session a user had in October: {avrg_sess_oct}\")\n",
    "print(f\"The average number of session a user had in November: {avrg_sess_nov}\")\n",
    "print(f\"Delta from October to November: {avrg_sess_nov - avrg_sess_oct}\")\n",
    "\n",
    "# Runtime calculations\n",
    "t2 = time.time()\n",
    "print(f\"\\nFinished operation in {round(t2-t1, 2)}s\")"
   ],
   "metadata": {
    "collapsed": false,
    "pycharm": {
     "name": "#%%\n"
    }
   }
  },
  {
   "cell_type": "code",
   "execution_count": null,
   "outputs": [],
   "source": [
    "var_sess_oct = df_oct[[\"user_id\", \"user_session\"]].groupby(\"user_id\").compute()\n",
    "var_sess_oct.head()"
   ],
   "metadata": {
    "collapsed": false,
    "pycharm": {
     "name": "#%%\n"
    }
   }
  },
  {
   "cell_type": "markdown",
   "source": [
    "## How many products does a user buy / view / put in cart on average?"
   ],
   "metadata": {
    "collapsed": false,
    "pycharm": {
     "name": "#%% md\n"
    }
   }
  },
  {
   "cell_type": "code",
   "execution_count": 14,
   "outputs": [
    {
     "name": "stdout",
     "output_type": "stream",
     "text": [
      "            event_time\n",
      "event_type            \n",
      "cart           3028930\n",
      "purchase        916939\n",
      "view          63556110\n"
     ]
    }
   ],
   "source": [
    "t1 = time.time()\n",
    "\n",
    "amount_events_oct = df_oct[[\"user_id\", \"event_type\"]].groupby(\"event_type\").count().compute().reset_index()\n",
    "#amount_events_nov = df_nov[[\"user_id\", \"event_type\"]].groupby(\"user_id\").count().compute()\n",
    "print(amount_events_oct)\n",
    "#print(amount_events_nov)\n",
    "# Runtime calculations\n",
    "t2 = time.time()\n",
    "print(f\"\\nFinished operation in {round(t2-t1, 2)}s\")"
   ],
   "metadata": {
    "collapsed": false,
    "pycharm": {
     "name": "#%%\n"
    }
   }
  },
  {
   "cell_type": "code",
   "execution_count": 8,
   "outputs": [
    {
     "name": "stdout",
     "output_type": "stream",
     "text": [
      "     user_id event_type\n",
      "0   0.306561       cart\n",
      "1   0.245790   purchase\n",
      "2  13.492881       view\n"
     ]
    }
   ],
   "source": [
    "amount_interaction_oct = amount_events_oct[\"user_id\"].div(amount_usr_oct).reset_index().drop(\"index\", axis=1)\n",
    "amount_interaction_oct[\"event_type\"] = [\"cart\", \"purchase\", \"view\"]\n",
    "print(amount_interaction_oct)"
   ],
   "metadata": {
    "collapsed": false,
    "pycharm": {
     "name": "#%%\n"
    }
   }
  },
  {
   "cell_type": "code",
   "execution_count": 9,
   "outputs": [
    {
     "name": "stdout",
     "output_type": "stream",
     "text": [
      "The most active user has the ID 512475445 with a total of 7436 interactions.\n",
      "\n",
      "Finished operation in 89.12s\n"
     ]
    }
   ],
   "source": [
    "t1 = time.time()\n",
    "tt = df_oct[[\"user_id\", \"event_type\"]].groupby(\"user_id\").count().reset_index()\n",
    "tt_max = tt.idxmax().compute()\n",
    "x = tt.compute().iloc[tt_max[0]]\n",
    "print(f\"The most active user has the ID {x[0]} with a total of {x[1]} interactions.\")\n",
    "\n",
    "# Runtime calculations\n",
    "t2 = time.time()\n",
    "print(f\"\\nFinished operation in {round(t2-t1, 2)}s\")\n"
   ],
   "metadata": {
    "collapsed": false,
    "pycharm": {
     "name": "#%%\n"
    }
   }
  }
 ],
 "metadata": {
  "kernelspec": {
   "display_name": "Python 3",
   "language": "python",
   "name": "python3"
  },
  "language_info": {
   "codemirror_mode": {
    "name": "ipython",
    "version": 2
   },
   "file_extension": ".py",
   "mimetype": "text/x-python",
   "name": "python",
   "nbconvert_exporter": "python",
   "pygments_lexer": "ipython2",
   "version": "2.7.6"
  }
 },
 "nbformat": 4,
 "nbformat_minor": 0
}