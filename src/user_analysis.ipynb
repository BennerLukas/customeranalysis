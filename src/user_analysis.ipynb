{
 "cells": [
  {
   "cell_type": "markdown",
   "source": [
    "What do I want to find out?\n",
    "- How many products does a user buy / view / put in cart on average?\n",
    "- How many products does a user interact with in one session on average?\n",
    "- How many sessions does a user have on average?\n",
    "- How many users are there?\n",
    "- How many sessions are there?\n",
    "- How did the indicators change from October to November?"
   ],
   "metadata": {
    "collapsed": false
   }
  },
  {
   "cell_type": "markdown",
   "source": [
    "# Imports"
   ],
   "metadata": {
    "collapsed": false,
    "pycharm": {
     "name": "#%% md\n"
    }
   }
  },
  {
   "cell_type": "code",
   "execution_count": 1,
   "outputs": [],
   "source": [
    "import pandas as pd\n",
    "import numpy as np\n",
    "import dask.dataframe as dd"
   ],
   "metadata": {
    "collapsed": false,
    "pycharm": {
     "name": "#%%\n"
    }
   }
  },
  {
   "cell_type": "markdown",
   "source": [
    "# Loading data"
   ],
   "metadata": {
    "collapsed": false,
    "pycharm": {
     "name": "#%% md\n"
    }
   }
  },
  {
   "cell_type": "code",
   "execution_count": 2,
   "outputs": [],
   "source": [
    "df_oct = dd.read_csv(\"./data/2019-Oct.csv\")\n",
    "df_nov = dd.read_csv(\"./data/2019-Nov.csv\")\n"
   ],
   "metadata": {
    "collapsed": false,
    "pycharm": {
     "name": "#%%\n"
    }
   }
  },
  {
   "cell_type": "markdown",
   "source": [
    "How many unique users are there?"
   ],
   "metadata": {
    "collapsed": false,
    "pycharm": {
     "name": "#%% md\n"
    }
   }
  },
  {
   "cell_type": "code",
   "execution_count": 3,
   "outputs": [],
   "source": [
    "ddf_oct_usr_id = df_oct[\"user_id\"]\n",
    "df_oct_usr_id = ddf_oct_usr_id.compute()\n",
    "\n",
    "ddf_nov_usr_id = df_nov[\"user_id\"]\n",
    "df_nov_usr_id = ddf_nov_usr_id.compute()"
   ],
   "metadata": {
    "collapsed": false,
    "pycharm": {
     "name": "#%%\n"
    }
   }
  },
  {
   "cell_type": "code",
   "execution_count": 4,
   "outputs": [
    {
     "name": "stdout",
     "output_type": "stream",
     "text": [
      "Amount of unique users in October: 3022290\n",
      "Amount of unique users in November: 3696117\n",
      "Delta from October to November: -673827\n"
     ]
    }
   ],
   "source": [
    "# Amount of users\n",
    "amount = df_oct_usr_id.nunique()\n",
    "amount_nov = df_nov_usr_id.nunique()\n",
    "print(f\"Amount of unique users in October: {amount}\\nAmount of unique users in November: {amount_nov}\")\n",
    "print(f\"Delta from October to November: {amount_nov - amount}\")"
   ],
   "metadata": {
    "collapsed": false,
    "pycharm": {
     "name": "#%%\n"
    }
   }
  },
  {
   "cell_type": "markdown",
   "source": [
    "How many sessions are there?"
   ],
   "metadata": {
    "collapsed": false
   }
  },
  {
   "cell_type": "code",
   "execution_count": 7,
   "outputs": [],
   "source": [
    "ddf_oct_usr_ses = df_oct[\"user_session\"]\n",
    "df_oct_usr_ses = ddf_oct_usr_ses.compute()\n",
    "\n",
    "ddf_nov_usr_ses = df_nov[\"user_session\"]\n",
    "df_nov_usr_ses = ddf_nov_usr_ses.compute()"
   ],
   "metadata": {
    "collapsed": false,
    "pycharm": {
     "name": "#%%\n"
    }
   }
  },
  {
   "cell_type": "code",
   "execution_count": 8,
   "outputs": [
    {
     "name": "stdout",
     "output_type": "stream",
     "text": [
      "Amount of unique sessions in October: 9244421\n",
      "Amount of unique users in November: 13776050\n",
      "Delta from October to November: 4531629\n"
     ]
    }
   ],
   "source": [
    "# Amount of sessions\n",
    "amount_ses = df_oct_usr_ses.nunique()\n",
    "amount_nov_ses = df_nov_usr_ses.nunique()\n",
    "print(f\"Amount of unique sessions in October: {amount_ses}\\nAmount of unique users in November: {amount_nov_ses}\")\n",
    "print(f\"Delta from October to November: {amount_nov_ses - amount_ses}\")"
   ],
   "metadata": {
    "collapsed": false,
    "pycharm": {
     "name": "#%%\n"
    }
   }
  },
  {
   "cell_type": "markdown",
   "source": [],
   "metadata": {
    "collapsed": false
   }
  }
 ],
 "metadata": {
  "kernelspec": {
   "display_name": "Python 3",
   "language": "python",
   "name": "python3"
  },
  "language_info": {
   "codemirror_mode": {
    "name": "ipython",
    "version": 2
   },
   "file_extension": ".py",
   "mimetype": "text/x-python",
   "name": "python",
   "nbconvert_exporter": "python",
   "pygments_lexer": "ipython2",
   "version": "2.7.6"
  }
 },
 "nbformat": 4,
 "nbformat_minor": 0
}