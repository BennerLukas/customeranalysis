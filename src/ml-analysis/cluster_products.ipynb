{
 "metadata": {
  "language_info": {
   "codemirror_mode": {
    "name": "ipython",
    "version": 3
   },
   "file_extension": ".py",
   "mimetype": "text/x-python",
   "name": "python",
   "nbconvert_exporter": "python",
   "pygments_lexer": "ipython3",
   "version": "3.8.5"
  },
  "orig_nbformat": 2,
  "kernelspec": {
   "name": "python3",
   "language": "python",
   "display_name": "Python 3"
  }
 },
 "nbformat": 4,
 "nbformat_minor": 2,
 "cells": [
  {
   "source": [
    "# Customer Analysis - Model Customer Behavior\n"
   ],
   "cell_type": "markdown",
   "metadata": {}
  },
  {
   "source": [
    "## Import"
   ],
   "cell_type": "markdown",
   "metadata": {}
  },
  {
   "cell_type": "code",
   "execution_count": null,
   "metadata": {
    "pycharm": {
     "is_executing": true
    }
   },
   "outputs": [],
   "source": [
    "# General Pyspark Implementation\n",
    "import pyspark\n",
    "import pyspark.sql.functions as f\n",
    "\n",
    "# Machine Learning libary in Pyspark\n",
    "import pyspark.ml as ml"
   ]
  },
  {
   "source": [
    "## Read"
   ],
   "cell_type": "markdown",
   "metadata": {}
  },
  {
   "cell_type": "code",
   "execution_count": null,
   "metadata": {
    "pycharm": {
     "is_executing": true
    }
   },
   "outputs": [],
   "source": [
    "spark = pyspark.sql.SparkSession \\\n",
    "    .builder \\\n",
    "    .appName(\"Product\") \\\n",
    "    .config(\"spark.executor.memory\", f\"16g\") \\\n",
    "    .config(\"spark.driver.memory\", f\"16g\") \\\n",
    "    .config(\"spark.memory.offHeap.enabled\", True) \\\n",
    "    .config(\"spark.memory.offHeap.size\", f\"16g\") \\\n",
    "    .config(\"spark.sql.debug.maxToStringFields\", f\"16\") \\\n",
    "    .getOrCreate()\n",
    "\n",
    "# sdf_201911 = spark.read.csv(\"data/2019-Nov.csv\", header=True, inferSchema=True)\n",
    "# sdf_201910 = spark.read.csv(\"data/2019-Oct.csv\", header=True, inferSchema=True)\n",
    "\n",
    "# sdf = sdf_201910.union(sdf_201911)\n",
    "sdf = spark.read.csv(\"data/2019-Nov.csv\", header=True, inferSchema=True)\n",
    "# sdf = spark.read.csv(\"data/test_data.csv\", header=True, inferSchema=True)\n",
    "sdf.show(5)"
   ]
  },
  {
   "source": [
    "## Preparation"
   ],
   "cell_type": "markdown",
   "metadata": {}
  },
  {
   "cell_type": "code",
   "execution_count": null,
   "metadata": {
    "pycharm": {
     "is_executing": true
    }
   },
   "outputs": [],
   "source": [
    "# Datatypes\n",
    "sdf = sdf.withColumn(\"event_time\", sdf[\"event_time\"].cast(pyspark.sql.types.TimestampType()))\n",
    "sdf = sdf.withColumn(\"category_id\", sdf[\"category_id\"].cast(pyspark.sql.types.StringType()))\n",
    "sdf = sdf.withColumn(\"product_id\", sdf[\"product_id\"].cast(pyspark.sql.types.StringType()))\n",
    "sdf = sdf.withColumn(\"user_id\", sdf[\"user_id\"].cast(pyspark.sql.types.StringType()))\n",
    "\n",
    "sdf.printSchema()"
   ]
  },
  {
   "source": [
    "## Data Creation"
   ],
   "cell_type": "markdown",
   "metadata": {}
  },
  {
   "cell_type": "code",
   "execution_count": null,
   "metadata": {
    "pycharm": {
     "is_executing": true
    }
   },
   "outputs": [],
   "source": [
    "sdf_base = sdf.select(\"user_id\", \"user_session\", \"event_type\", \"product_id\", \"price\", \"event_time\")\n",
    "\n",
    "sdf_base = sdf_base.withColumn(\"views\", f.when(sdf_base.event_type == \"view\", 1).otherwise(0))\n",
    "sdf_base = sdf_base.withColumn(\"purchases\", f.when(sdf_base.event_type == \"purchase\", 1).otherwise(0))\n",
    "sdf_base = sdf_base.withColumn(\"carts\", f.when(sdf_base.event_type == \"cart\", 1).otherwise(0))\n"
   ]
  },
  {
   "source": [
    "## Modelling - Behaviour of users\n",
    "\n",
    "Algorithm used: FPGrowth"
   ],
   "cell_type": "markdown",
   "metadata": {}
  },
  {
   "cell_type": "markdown",
   "source": [
    "### View patterns"
   ],
   "metadata": {
    "collapsed": false,
    "pycharm": {
     "name": "#%% md\n"
    }
   }
  },
  {
   "cell_type": "markdown",
   "source": [
    "#### Data Preparation"
   ],
   "metadata": {
    "collapsed": false,
    "pycharm": {
     "name": "#%% md\n"
    }
   }
  },
  {
   "cell_type": "code",
   "execution_count": 5,
   "outputs": [
    {
     "name": "stdout",
     "output_type": "stream",
     "text": [
      "+---------+--------------------+\n",
      "|  user_id|               items|\n",
      "+---------+--------------------+\n",
      "|130084806|[15200482, 152008...|\n",
      "|222317983|           [3701005]|\n",
      "|227842721|[49100019, 491000...|\n",
      "|273506385|           [1005129]|\n",
      "|306133243|           [1005159]|\n",
      "|330587591|[28101103, 281029...|\n",
      "|332018895|[22700448, 100513...|\n",
      "|335512209|[6300680, 3150115...|\n",
      "|344636566|[12719156, 127014...|\n",
      "|372635850|           [2800382]|\n",
      "|376375665|[6301622, 4804056...|\n",
      "|381624492|           [1801634]|\n",
      "|393249031|           [2601298]|\n",
      "|395341538|          [26007955]|\n",
      "|396863890|          [29501514]|\n",
      "|398277136|[8500186, 1360002...|\n",
      "|405111134|[28703635, 17301863]|\n",
      "|406803663|           [1004814]|\n",
      "|411723376|          [31501194]|\n",
      "|423846383|[5701019, 5701020...|\n",
      "+---------+--------------------+\n",
      "only showing top 20 rows\n",
      "\n"
     ]
    }
   ],
   "source": [
    "# Grouping by user_id and creating column where all product_ids are concatenated into a list\n",
    "sdf_user_product_list_view = sdf_base.where(sdf_base.views == 1).select(\"user_id\", \"product_id\").distinct()\\\n",
    "    .groupBy(\"user_id\")\\\n",
    "    .agg(f.collect_list('product_id')).withColumnRenamed('collect_list(product_id)', 'items')\n",
    "sdf_user_product_list_view.show()\n"
   ],
   "metadata": {
    "collapsed": false,
    "pycharm": {
     "name": "#%%\n"
    }
   }
  },
  {
   "cell_type": "markdown",
   "source": [
    "#### Model creation"
   ],
   "metadata": {
    "collapsed": false,
    "pycharm": {
     "name": "#%% md\n"
    }
   }
  },
  {
   "cell_type": "code",
   "execution_count": 6,
   "outputs": [],
   "source": [
    "#Create model\n",
    "fp_view = ml.fpm.FPGrowth(minSupport=0.001, minConfidence=0.8)"
   ],
   "metadata": {
    "collapsed": false,
    "pycharm": {
     "name": "#%%\n"
    }
   }
  },
  {
   "cell_type": "markdown",
   "source": [
    "#### Model training"
   ],
   "metadata": {
    "collapsed": false,
    "pycharm": {
     "name": "#%% md\n"
    }
   }
  },
  {
   "cell_type": "code",
   "execution_count": 7,
   "outputs": [
    {
     "name": "stdout",
     "output_type": "stream",
     "text": [
      "+------------------+-----+\n",
      "|             items| freq|\n",
      "+------------------+-----+\n",
      "|         [1004957]|13244|\n",
      "|[1004957, 1005239]| 5436|\n",
      "|[1004957, 1005160]| 5015|\n",
      "|[1004957, 1004958]| 5195|\n",
      "|        [14700405]| 8328|\n",
      "+------------------+-----+\n",
      "only showing top 5 rows\n",
      "\n"
     ]
    }
   ],
   "source": [
    "# train\n",
    "fpm_view = fp_view.fit(sdf_user_product_list_view)\n",
    "fpm_view.setPredictionCol(\"newPrediction\")\n",
    "fpm_view.freqItemsets.show(5)"
   ],
   "metadata": {
    "collapsed": false,
    "pycharm": {
     "name": "#%%\n"
    }
   }
  },
  {
   "cell_type": "markdown",
   "source": [
    "#### Results"
   ],
   "metadata": {
    "collapsed": false,
    "pycharm": {
     "name": "#%% md\n"
    }
   }
  },
  {
   "cell_type": "code",
   "execution_count": 8,
   "outputs": [
    {
     "name": "stdout",
     "output_type": "stream",
     "text": [
      "+--------------------+----------+------------------+------------------+--------------------+\n",
      "|          antecedent|consequent|        confidence|              lift|             support|\n",
      "+--------------------+----------+------------------+------------------+--------------------+\n",
      "|[1003317, 1005116...| [1005115]|0.8472604188703194| 13.23062778125529|0.001083721768439...|\n",
      "|[1005098, 1004858...| [1004856]|0.8008811824900511|12.210026716973738|0.001524787057466...|\n",
      "|[1004739, 1005161...| [1005160]|0.8111631696883276|27.036562926250205|0.001077498147796...|\n",
      "|  [1005118, 1003317]| [1005115]|0.8001285347043702|12.494626898716295|0.001347549165250...|\n",
      "|[1004857, 1005098...| [1004856]|0.8200350723366945|12.502041952035642|0.001012285427148732|\n",
      "|[1005161, 1004741...| [1005160]|0.8514134521654366|28.378129377559667|0.001654400722156...|\n",
      "|[1005159, 1005161...| [1005160]| 0.844776119402985|28.156903030506168|0.001684707048764503|\n",
      "|[1003317, 1005116...| [1005115]|  0.83670005092514|13.065719455073758|0.001333748962955...|\n",
      "|[1004246, 1005116...| [1005115]|0.8274586597040905|12.921407972200885|0.001029062143663...|\n",
      "|[1004857, 1005100...| [1004856]| 0.854981847519161| 13.03483141941121|0.001147040343673...|\n",
      "|[1005161, 1005239...| [1005160]|0.8150670355394765| 27.16668115484382|0.001036368133114...|\n",
      "|  [4804572, 4802036]| [4804056]|0.8396039603960396|31.111766703081088|0.001032579842288041|\n",
      "|[1005217, 1005161...| [1005160]|0.8499822253821543|28.330425716405014|0.001293971909282...|\n",
      "|[1005161, 1004741...| [1005160]|0.8280241935483871| 27.59855112989197|0.001111322173028...|\n",
      "|[1005159, 1005161...| [1005160]| 0.857690384935844| 28.58734337318051|0.001392738062960...|\n",
      "|[1005161, 1005239...| [1005160]| 0.808476736775016|26.947022479615026|0.001372984832224...|\n",
      "|[1004250, 1005116...| [1005115]|0.8129340277777778|12.694594592988615|0.001013638388158...|\n",
      "|[1005221, 1005253...| [1005239]|0.8116812227074236|42.571137680950144|0.001207111812486...|\n",
      "|[1005161, 1004785...| [1005160]|0.8102475032566218|27.006043205896304|0.001009850097332015|\n",
      "|[1005135, 1004249...| [1005115]|0.8097447795823666| 12.64479201182734|0.001227676819827...|\n",
      "+--------------------+----------+------------------+------------------+--------------------+\n",
      "only showing top 20 rows\n",
      "\n"
     ]
    }
   ],
   "source": [
    "# eval\n",
    "fpm_view.associationRules.show()"
   ],
   "metadata": {
    "collapsed": false,
    "pycharm": {
     "name": "#%%\n"
    }
   }
  },
  {
   "cell_type": "markdown",
   "source": [
    "### Cart patterns"
   ],
   "metadata": {
    "collapsed": false
   }
  },
  {
   "cell_type": "markdown",
   "source": [
    "#### Data Preparation"
   ],
   "metadata": {
    "collapsed": false
   }
  },
  {
   "cell_type": "code",
   "execution_count": 9,
   "outputs": [
    {
     "name": "stdout",
     "output_type": "stream",
     "text": [
      "+---------+--------------------+\n",
      "|  user_id|               items|\n",
      "+---------+--------------------+\n",
      "|330587591|          [28102892]|\n",
      "|335512209|          [12709562]|\n",
      "|423846383|           [5701246]|\n",
      "|441092065|          [11900142]|\n",
      "|463869843|           [8500355]|\n",
      "|468103953|  [1004038, 1004166]|\n",
      "|479316462|           [5100564]|\n",
      "|480046242| [4803759, 13300554]|\n",
      "|487489100|  [1005169, 1005211]|\n",
      "|499942185|           [1005101]|\n",
      "|504807134|          [16200329]|\n",
      "|504866319|  [1801904, 1801691]|\n",
      "|509180654|[3601605, 1801968...|\n",
      "|511728441|           [5400367]|\n",
      "|512373616|[2700752, 3601248...|\n",
      "|512381561|[23000053, 12720610]|\n",
      "|512385518|           [1307236]|\n",
      "|512386605|          [12710257]|\n",
      "|512386977|[29502299, 114006...|\n",
      "|512388342|  [1307582, 1307350]|\n",
      "+---------+--------------------+\n",
      "only showing top 20 rows\n",
      "\n"
     ]
    }
   ],
   "source": [
    "# Grouping by user_id and creating column where all product_ids are concatenated into a list\n",
    "sdf_user_product_list_carts = sdf_base.where(sdf_base.carts == 1).select(\"user_id\", \"product_id\").distinct()\\\n",
    "    .groupBy(\"user_id\")\\\n",
    "    .agg(f.collect_list('product_id')).withColumnRenamed('collect_list(product_id)', 'items')\n",
    "sdf_user_product_list_carts.show()"
   ],
   "metadata": {
    "collapsed": false,
    "pycharm": {
     "name": "#%%\n"
    }
   }
  },
  {
   "cell_type": "markdown",
   "source": [
    "#### Model creation"
   ],
   "metadata": {
    "collapsed": false
   }
  },
  {
   "cell_type": "code",
   "execution_count": 10,
   "outputs": [],
   "source": [
    "#Create model\n",
    "fp_carts = ml.fpm.FPGrowth(minSupport=0.001, minConfidence=0.8)"
   ],
   "metadata": {
    "collapsed": false,
    "pycharm": {
     "name": "#%%\n"
    }
   }
  },
  {
   "cell_type": "markdown",
   "source": [
    "#### Model training"
   ],
   "metadata": {
    "collapsed": false
   }
  },
  {
   "cell_type": "code",
   "execution_count": 11,
   "outputs": [
    {
     "name": "stdout",
     "output_type": "stream",
     "text": [
      "+------------------+-----+\n",
      "|             items| freq|\n",
      "+------------------+-----+\n",
      "|         [3601485]|  878|\n",
      "|         [1004856]|36048|\n",
      "|         [1004767]|29550|\n",
      "|[1004767, 1004856]| 3243|\n",
      "|         [1005252]|  877|\n",
      "+------------------+-----+\n",
      "only showing top 5 rows\n",
      "\n"
     ]
    }
   ],
   "source": [
    "# train\n",
    "fpm_carts = fp_carts.fit(sdf_user_product_list_carts)\n",
    "fpm_carts.setPredictionCol(\"newPrediction\")\n",
    "fpm_carts.freqItemsets.show(5)"
   ],
   "metadata": {
    "collapsed": false,
    "pycharm": {
     "name": "#%%\n"
    }
   }
  },
  {
   "cell_type": "markdown",
   "source": [
    "#### Results"
   ],
   "metadata": {
    "collapsed": false
   }
  },
  {
   "cell_type": "code",
   "execution_count": 12,
   "outputs": [
    {
     "name": "stdout",
     "output_type": "stream",
     "text": [
      "+--------------------+----------+------------------+------------------+--------------------+\n",
      "|          antecedent|consequent|        confidence|              lift|             support|\n",
      "+--------------------+----------+------------------+------------------+--------------------+\n",
      "|[1003317, 1005116...| [1005115]|0.8472604188703194| 13.23062778125529|0.001083721768439...|\n",
      "|[1005098, 1004858...| [1004856]|0.8008811824900511|12.210026716973738|0.001524787057466...|\n",
      "|[1004739, 1005161...| [1005160]|0.8111631696883276|27.036562926250205|0.001077498147796...|\n",
      "|  [1005118, 1003317]| [1005115]|0.8001285347043702|12.494626898716295|0.001347549165250...|\n",
      "|[1004857, 1005098...| [1004856]|0.8200350723366945|12.502041952035642|0.001012285427148732|\n",
      "|[1005161, 1004741...| [1005160]|0.8514134521654366|28.378129377559667|0.001654400722156...|\n",
      "|[1005159, 1005161...| [1005160]| 0.844776119402985|28.156903030506168|0.001684707048764503|\n",
      "|[1003317, 1005116...| [1005115]|  0.83670005092514|13.065719455073758|0.001333748962955...|\n",
      "|[1004246, 1005116...| [1005115]|0.8274586597040905|12.921407972200885|0.001029062143663...|\n",
      "|[1004857, 1005100...| [1004856]| 0.854981847519161| 13.03483141941121|0.001147040343673...|\n",
      "|[1005161, 1005239...| [1005160]|0.8150670355394765| 27.16668115484382|0.001036368133114...|\n",
      "|  [4804572, 4802036]| [4804056]|0.8396039603960396|31.111766703081088|0.001032579842288041|\n",
      "|[1005217, 1005161...| [1005160]|0.8499822253821543|28.330425716405014|0.001293971909282...|\n",
      "|[1005161, 1004741...| [1005160]|0.8280241935483871| 27.59855112989197|0.001111322173028...|\n",
      "|[1005159, 1005161...| [1005160]| 0.857690384935844| 28.58734337318051|0.001392738062960...|\n",
      "|[1005161, 1005239...| [1005160]| 0.808476736775016|26.947022479615026|0.001372984832224...|\n",
      "|[1004250, 1005116...| [1005115]|0.8129340277777778|12.694594592988615|0.001013638388158...|\n",
      "|[1005221, 1005253...| [1005239]|0.8116812227074236|42.571137680950144|0.001207111812486...|\n",
      "|[1005161, 1004785...| [1005160]|0.8102475032566218|27.006043205896304|0.001009850097332015|\n",
      "|[1005135, 1004249...| [1005115]|0.8097447795823666| 12.64479201182734|0.001227676819827...|\n",
      "+--------------------+----------+------------------+------------------+--------------------+\n",
      "only showing top 20 rows\n",
      "\n"
     ]
    }
   ],
   "source": [
    "# eval\n",
    "fpm_view.associationRules.show()"
   ],
   "metadata": {
    "collapsed": false,
    "pycharm": {
     "name": "#%%\n"
    }
   }
  },
  {
   "cell_type": "markdown",
   "source": [
    "### Purchasing patterns"
   ],
   "metadata": {
    "collapsed": false
   }
  },
  {
   "cell_type": "markdown",
   "source": [
    "#### Data Preparation"
   ],
   "metadata": {
    "collapsed": false
   }
  },
  {
   "cell_type": "code",
   "execution_count": 13,
   "outputs": [
    {
     "name": "stdout",
     "output_type": "stream",
     "text": [
      "+---------+--------------------+\n",
      "|  user_id|               items|\n",
      "+---------+--------------------+\n",
      "|423846383|           [5701246]|\n",
      "|468103953|           [1004166]|\n",
      "|480046242|          [13300554]|\n",
      "|509180654|  [1801968, 3601278]|\n",
      "|512369688|          [38900028]|\n",
      "|512373616|[2700752, 3601248...|\n",
      "|512385518|           [1307236]|\n",
      "|512386977|          [53300009]|\n",
      "|512388760|[21400205, 214002...|\n",
      "|512389344|[1005105, 1005129...|\n",
      "|512394562|[12711053, 100483...|\n",
      "|512395692|  [4804295, 5600355]|\n",
      "|512397473|          [26300084]|\n",
      "|512412345|           [5301368]|\n",
      "|512414883|          [12718088]|\n",
      "|512420136|[12706857, 127071...|\n",
      "|512420187|          [26400273]|\n",
      "|512420588|           [4804056]|\n",
      "|512429276|[12800418, 620080...|\n",
      "|512436169|           [3200409]|\n",
      "+---------+--------------------+\n",
      "only showing top 20 rows\n",
      "\n"
     ]
    }
   ],
   "source": [
    "# Grouping by user_id and creating column where all product_ids are concatenated into a list\n",
    "sdf_user_product_list_purchases = sdf_base.where(sdf_base.purchases == 1).select(\"user_id\", \"product_id\").distinct()\\\n",
    "    .groupBy(\"user_id\")\\\n",
    "    .agg(f.collect_list('product_id')).withColumnRenamed('collect_list(product_id)', 'items')\n",
    "sdf_user_product_list_purchases.show()"
   ],
   "metadata": {
    "collapsed": false,
    "pycharm": {
     "name": "#%%\n"
    }
   }
  },
  {
   "cell_type": "markdown",
   "source": [
    "#### Model creation"
   ],
   "metadata": {
    "collapsed": false
   }
  },
  {
   "cell_type": "code",
   "execution_count": null,
   "outputs": [],
   "source": [
    "#Create model\n",
    "fp_purchases = ml.fpm.FPGrowth(minSupport=0.0001, minConfidence=0.8)"
   ],
   "metadata": {
    "collapsed": false,
    "pycharm": {
     "name": "#%%\n",
     "is_executing": true
    }
   }
  },
  {
   "cell_type": "markdown",
   "source": [
    "#### Model training"
   ],
   "metadata": {
    "collapsed": false
   }
  },
  {
   "cell_type": "code",
   "execution_count": null,
   "outputs": [],
   "source": [
    "# train\n",
    "fpm_purchases = fp_purchases.fit(sdf_user_product_list_purchases)\n",
    "fpm_purchases.setPredictionCol(\"newPrediction\")\n",
    "fpm_purchases.freqItemsets.show(5)"
   ],
   "metadata": {
    "collapsed": false,
    "pycharm": {
     "name": "#%%\n",
     "is_executing": true
    }
   }
  },
  {
   "cell_type": "markdown",
   "source": [
    "#### Results"
   ],
   "metadata": {
    "collapsed": false
   }
  },
  {
   "cell_type": "code",
   "execution_count": null,
   "outputs": [],
   "source": [
    "# eval\n",
    "fpm_purchases.associationRules.show()"
   ],
   "metadata": {
    "collapsed": false,
    "pycharm": {
     "name": "#%%\n",
     "is_executing": true
    }
   }
  },
  {
   "cell_type": "markdown",
   "source": [
    "### Saving models"
   ],
   "metadata": {
    "collapsed": false,
    "pycharm": {
     "name": "#%% md\n"
    }
   }
  },
  {
   "cell_type": "code",
   "execution_count": null,
   "outputs": [],
   "source": [
    "fpm_view.save(\"models/fpm_model_view\")\n",
    "fpm_carts.save(\"models/fpm_model_carts\")\n",
    "fpm_purchases.save(\"models/fpm_model_purchases\")"
   ],
   "metadata": {
    "collapsed": false,
    "pycharm": {
     "name": "#%%\n",
     "is_executing": true
    }
   }
  }
 ]
}