{
 "cells": [
  {
   "cell_type": "markdown",
   "metadata": {
    "collapsed": true,
    "pycharm": {
     "name": "#%% md\n"
    }
   },
   "source": [
    "# Customer Analysis - Explore Customer Behavior"
   ]
  },
  {
   "cell_type": "markdown",
   "source": [
    "## Import"
   ],
   "metadata": {
    "collapsed": false
   }
  },
  {
   "cell_type": "markdown",
   "source": [
    "Needed packages. Pyspark will be used for data managing and plotly for visualisations. Keep in mind to install\n",
    "JAVA so Spark will work properly.\n",
    "\n",
    "Used dataset is from https://rees46.com/de found on https://www.kaggle.com/mkechinov/ecommerce-behavior-data-from-multi-category-store."
   ],
   "metadata": {
    "collapsed": false,
    "pycharm": {
     "name": "#%% md\n"
    }
   }
  },
  {
   "cell_type": "code",
   "execution_count": 11,
   "outputs": [],
   "source": [
    "import os\n",
    "import pyspark\n",
    "import pandas as pd\n",
    "import pyspark.sql.functions as f\n",
    "import plotly.express as px\n",
    "import plotly.graph_objects as go"
   ],
   "metadata": {
    "collapsed": false,
    "pycharm": {
     "name": "#%%\n"
    }
   }
  },
  {
   "cell_type": "markdown",
   "source": [
    "## Read"
   ],
   "metadata": {
    "collapsed": false
   }
  },
  {
   "cell_type": "markdown",
   "source": [
    "The data needs to be located in ```data/``` in unzipped form as a csv."
   ],
   "metadata": {
    "collapsed": false,
    "pycharm": {
     "name": "#%% md\n"
    }
   }
  },
  {
   "cell_type": "code",
   "execution_count": 21,
   "outputs": [
    {
     "name": "stdout",
     "output_type": "stream",
     "text": [
      "+--------------------+----------+----------+-------------------+--------------------+--------+-------+---------+--------------------+\n",
      "|          event_time|event_type|product_id|        category_id|       category_code|   brand|  price|  user_id|        user_session|\n",
      "+--------------------+----------+----------+-------------------+--------------------+--------+-------+---------+--------------------+\n",
      "|2019-10-01 00:00:...|      view|  44600062|2103807459595387724|                null|shiseido|  35.79|541312140|72d76fde-8bb3-4e0...|\n",
      "|2019-10-01 00:00:...|      view|   3900821|2053013552326770905|appliances.enviro...|    aqua|   33.2|554748717|9333dfbd-b87a-470...|\n",
      "|2019-10-01 00:00:...|      view|  17200506|2053013559792632471|furniture.living_...|    null|  543.1|519107250|566511c2-e2e3-422...|\n",
      "|2019-10-01 00:00:...|      view|   1307067|2053013558920217191|  computers.notebook|  lenovo| 251.74|550050854|7c90fc70-0e80-459...|\n",
      "|2019-10-01 00:00:...|      view|   1004237|2053013555631882655|electronics.smart...|   apple|1081.98|535871217|c6bd7419-2748-4c5...|\n",
      "|2019-10-01 00:00:...|      view|   1480613|2053013561092866779|   computers.desktop|  pulser| 908.62|512742880|0d0d91c2-c9c2-4e8...|\n",
      "|2019-10-01 00:00:...|      view|  17300353|2053013553853497655|                null|   creed| 380.96|555447699|4fe811e9-91de-46d...|\n",
      "|2019-10-01 00:00:...|      view|  31500053|2053013558031024687|                null|luminarc|  41.16|550978835|6280d577-25c8-414...|\n",
      "|2019-10-01 00:00:...|      view|  28719074|2053013565480109009|  apparel.shoes.keds|   baden| 102.71|520571932|ac1cd4e5-a3ce-422...|\n",
      "|2019-10-01 00:00:...|      view|   1004545|2053013555631882655|electronics.smart...|  huawei| 566.01|537918940|406c46ed-90a4-478...|\n",
      "|2019-10-01 00:00:...|      view|   2900536|2053013554776244595|appliances.kitche...|elenberg|  51.46|555158050|b5bdd0b3-4ca2-4c5...|\n",
      "|2019-10-01 00:00:...|      view|   1005011|2053013555631882655|electronics.smart...| samsung| 900.64|530282093|50a293fb-5940-41b...|\n",
      "|2019-10-01 00:00:...|      view|   3900746|2053013552326770905|appliances.enviro...|   haier| 102.38|555444559|98b88fa0-d8fa-4b9...|\n",
      "|2019-10-01 00:00:...|      view|  44600062|2103807459595387724|                null|shiseido|  35.79|541312140|72d76fde-8bb3-4e0...|\n",
      "|2019-10-01 00:00:...|      view|  13500240|2053013557099889147|furniture.bedroom...|     brw|  93.18|555446365|7f0062d8-ead0-4e0...|\n",
      "|2019-10-01 00:00:...|      view|  23100006|2053013561638126333|                null|    null| 357.79|513642368|17566c27-0a8f-450...|\n",
      "|2019-10-01 00:00:...|      view|   1801995|2053013554415534427|electronics.video.tv|   haier| 193.03|537192226|e3151795-c355-4ef...|\n",
      "|2019-10-01 00:00:...|      view|  10900029|2053013555069845885|appliances.kitche...|   bosch|  58.95|519528062|901b9e3c-3f8f-414...|\n",
      "|2019-10-01 00:00:...|      view|   1306631|2053013558920217191|  computers.notebook|      hp| 580.89|550050854|7c90fc70-0e80-459...|\n",
      "|2019-10-01 00:00:...|      view|   1005135|2053013555631882655|electronics.smart...|   apple|1747.79|535871217|c6bd7419-2748-4c5...|\n",
      "+--------------------+----------+----------+-------------------+--------------------+--------+-------+---------+--------------------+\n",
      "only showing top 20 rows\n",
      "\n"
     ]
    }
   ],
   "source": [
    "# read raw data\n",
    "spark = pyspark.sql.SparkSession.builder.appName(\"app1\").getOrCreate()\n",
    "# sdf = spark.read.csv(\"data/*.csv\", header=True, inferSchema=True)\n",
    "sdf_201911 = spark.read.csv(\"data/2019-Nov.csv\", header=True, inferSchema=True)\n",
    "sdf_201910 = spark.read.csv(\"data/2019-Oct.csv\", header=True, inferSchema=True)"
   ],
   "metadata": {
    "collapsed": false,
    "pycharm": {
     "name": "#%%\n"
    }
   }
  },
  {
   "cell_type": "code",
   "execution_count": null,
   "outputs": [],
   "source": [
    "# join both months together\n",
    "sdf = sdf_201910.union(sdf_201911)\n",
    "# sdf = spark.read.csv(\"data/test_data.csv\", header=True, inferSchema=True)\n",
    "sdf.show()"
   ],
   "metadata": {
    "collapsed": false,
    "pycharm": {
     "name": "#%%\n"
    }
   }
  },
  {
   "cell_type": "markdown",
   "source": [
    "## Preparation"
   ],
   "metadata": {
    "collapsed": false,
    "pycharm": {
     "name": "#%% md\n"
    }
   }
  },
  {
   "cell_type": "markdown",
   "source": [
    "Prepare and enhance data for analysis and modelling."
   ],
   "metadata": {
    "collapsed": false
   }
  },
  {
   "cell_type": "code",
   "execution_count": 22,
   "outputs": [
    {
     "name": "stdout",
     "output_type": "stream",
     "text": [
      "root\n",
      " |-- event_time: timestamp (nullable = true)\n",
      " |-- event_type: string (nullable = false)\n",
      " |-- product_id: string (nullable = false)\n",
      " |-- category_id: string (nullable = false)\n",
      " |-- category_code: string (nullable = false)\n",
      " |-- brand: string (nullable = false)\n",
      " |-- price: double (nullable = true)\n",
      " |-- user_id: string (nullable = false)\n",
      " |-- user_session: string (nullable = false)\n",
      " |-- category_class: string (nullable = false)\n",
      " |-- category_sub_class: string (nullable = false)\n",
      " |-- category_sub_sub_class: string (nullable = false)\n",
      " |-- year: integer (nullable = true)\n",
      " |-- month: integer (nullable = true)\n",
      " |-- weekofyear: integer (nullable = true)\n",
      " |-- dayofyear: integer (nullable = true)\n",
      " |-- dayofweek: integer (nullable = true)\n",
      " |-- dayofmonth: integer (nullable = true)\n",
      "\n"
     ]
    }
   ],
   "source": [
    "# Datatypes\n",
    "sdf = sdf.withColumn(\"event_time\", sdf[\"event_time\"].cast(pyspark.sql.types.TimestampType()))\n",
    "sdf = sdf.withColumn(\"category_id\", sdf[\"category_id\"].cast(pyspark.sql.types.StringType()))\n",
    "sdf = sdf.withColumn(\"product_id\", sdf[\"product_id\"].cast(pyspark.sql.types.StringType()))\n",
    "sdf = sdf.withColumn(\"user_id\", sdf[\"user_id\"].cast(pyspark.sql.types.StringType()))\n",
    "\n",
    "# Feature Splitting\n",
    "sdf = sdf.withColumn(\"category_class\", f.substring_index(sdf.category_code, '.', 1))\n",
    "\n",
    "# sdf = sdf.withColumn(\"category_class\", f.split(sdf[\"category_code\"], \".\").getItem(0))\n",
    "# sdf = sdf.withColumn(\"category_sub_class\", f.split(sdf[\"category_code\"], \".\").getItem(1))\n",
    "# sdf = sdf.withColumn(\"category_sub_sub_class\", f.split(sdf[\"category_code\"], \".\").getItem(2))\n",
    "\n",
    "sdf = sdf.withColumn(\"year\", f.year(\"event_time\"))\n",
    "sdf = sdf.withColumn(\"month\", f.month(\"event_time\"))\n",
    "sdf = sdf.withColumn(\"weekofyear\", f.weekofyear(\"event_time\"))\n",
    "sdf = sdf.withColumn(\"dayofyear\", f.dayofyear(\"event_time\"))\n",
    "sdf = sdf.withColumn(\"dayofweek\", f.dayofweek(\"event_time\"))\n",
    "sdf = sdf.withColumn(\"dayofmonth\", f.dayofmonth(\"event_time\"))\n",
    "\n",
    "# None Handling\n",
    "sdf = sdf.fillna(value=\"not defined\")\n",
    "\n",
    "sdf.printSchema()"
   ],
   "metadata": {
    "collapsed": false,
    "pycharm": {
     "name": "#%%\n"
    }
   }
  },
  {
   "cell_type": "markdown",
   "source": [
    "## Dataframe Creation"
   ],
   "metadata": {
    "collapsed": false,
    "pycharm": {
     "name": "#%% md\n"
    }
   },
   "execution_count": 25
  },
  {
   "cell_type": "markdown",
   "source": [
    "create several dataframes with different aggregation level to answer different questions/ tasks."
   ],
   "metadata": {
    "collapsed": false,
    "pycharm": {
     "name": "#%% md\n"
    }
   }
  },
  {
   "cell_type": "code",
   "execution_count": 38,
   "outputs": [
    {
     "name": "stdout",
     "output_type": "stream",
     "text": [
      "+-------------------+----------+----------+-------------------+--------------------+-----------+-------+---------+--------------------+--------------+------------------+----------------------+----+-----+----------+---------+---------+----------+\n",
      "|         event_time|event_type|product_id|        category_id|       category_code|      brand|  price|  user_id|        user_session|category_class|category_sub_class|category_sub_sub_class|year|month|weekofyear|dayofyear|dayofweek|dayofmonth|\n",
      "+-------------------+----------+----------+-------------------+--------------------+-----------+-------+---------+--------------------+--------------+------------------+----------------------+----+-----+----------+---------+---------+----------+\n",
      "|2019-10-01 02:00:00|      view|  44600062|2103807459595387724|         not defined|   shiseido|  35.79|541312140|72d76fde-8bb3-4e0...|   not defined|       not defined|           not defined|2019|   10|        40|      274|        3|         1|\n",
      "|2019-10-01 02:00:00|      view|   3900821|2053013552326770905|appliances.enviro...|       aqua|   33.2|554748717|9333dfbd-b87a-470...|              |                  |                      |2019|   10|        40|      274|        3|         1|\n",
      "|2019-10-01 02:00:01|      view|  17200506|2053013559792632471|furniture.living_...|not defined|  543.1|519107250|566511c2-e2e3-422...|              |                  |                      |2019|   10|        40|      274|        3|         1|\n",
      "|2019-10-01 02:00:01|      view|   1307067|2053013558920217191|  computers.notebook|     lenovo| 251.74|550050854|7c90fc70-0e80-459...|              |                  |                      |2019|   10|        40|      274|        3|         1|\n",
      "|2019-10-01 02:00:04|      view|   1004237|2053013555631882655|electronics.smart...|      apple|1081.98|535871217|c6bd7419-2748-4c5...|              |                  |                      |2019|   10|        40|      274|        3|         1|\n",
      "|2019-10-01 02:00:05|      view|   1480613|2053013561092866779|   computers.desktop|     pulser| 908.62|512742880|0d0d91c2-c9c2-4e8...|              |                  |                      |2019|   10|        40|      274|        3|         1|\n",
      "|2019-10-01 02:00:08|      view|  17300353|2053013553853497655|         not defined|      creed| 380.96|555447699|4fe811e9-91de-46d...|   not defined|       not defined|           not defined|2019|   10|        40|      274|        3|         1|\n",
      "|2019-10-01 02:00:08|      view|  31500053|2053013558031024687|         not defined|   luminarc|  41.16|550978835|6280d577-25c8-414...|   not defined|       not defined|           not defined|2019|   10|        40|      274|        3|         1|\n",
      "|2019-10-01 02:00:10|      view|  28719074|2053013565480109009|  apparel.shoes.keds|      baden| 102.71|520571932|ac1cd4e5-a3ce-422...|              |                  |                      |2019|   10|        40|      274|        3|         1|\n",
      "|2019-10-01 02:00:11|      view|   1004545|2053013555631882655|electronics.smart...|     huawei| 566.01|537918940|406c46ed-90a4-478...|              |                  |                      |2019|   10|        40|      274|        3|         1|\n",
      "|2019-10-01 02:00:11|      view|   2900536|2053013554776244595|appliances.kitche...|   elenberg|  51.46|555158050|b5bdd0b3-4ca2-4c5...|              |                  |                      |2019|   10|        40|      274|        3|         1|\n",
      "|2019-10-01 02:00:11|      view|   1005011|2053013555631882655|electronics.smart...|    samsung| 900.64|530282093|50a293fb-5940-41b...|              |                  |                      |2019|   10|        40|      274|        3|         1|\n",
      "|2019-10-01 02:00:13|      view|   3900746|2053013552326770905|appliances.enviro...|      haier| 102.38|555444559|98b88fa0-d8fa-4b9...|              |                  |                      |2019|   10|        40|      274|        3|         1|\n",
      "|2019-10-01 02:00:15|      view|  44600062|2103807459595387724|         not defined|   shiseido|  35.79|541312140|72d76fde-8bb3-4e0...|   not defined|       not defined|           not defined|2019|   10|        40|      274|        3|         1|\n",
      "|2019-10-01 02:00:16|      view|  13500240|2053013557099889147|furniture.bedroom...|        brw|  93.18|555446365|7f0062d8-ead0-4e0...|              |                  |                      |2019|   10|        40|      274|        3|         1|\n",
      "|2019-10-01 02:00:17|      view|  23100006|2053013561638126333|         not defined|not defined| 357.79|513642368|17566c27-0a8f-450...|   not defined|       not defined|           not defined|2019|   10|        40|      274|        3|         1|\n",
      "|2019-10-01 02:00:18|      view|   1801995|2053013554415534427|electronics.video.tv|      haier| 193.03|537192226|e3151795-c355-4ef...|              |                  |                      |2019|   10|        40|      274|        3|         1|\n",
      "|2019-10-01 02:00:18|      view|  10900029|2053013555069845885|appliances.kitche...|      bosch|  58.95|519528062|901b9e3c-3f8f-414...|              |                  |                      |2019|   10|        40|      274|        3|         1|\n",
      "|2019-10-01 02:00:19|      view|   1306631|2053013558920217191|  computers.notebook|         hp| 580.89|550050854|7c90fc70-0e80-459...|              |                  |                      |2019|   10|        40|      274|        3|         1|\n",
      "|2019-10-01 02:00:19|      view|   1005135|2053013555631882655|electronics.smart...|      apple|1747.79|535871217|c6bd7419-2748-4c5...|              |                  |                      |2019|   10|        40|      274|        3|         1|\n",
      "+-------------------+----------+----------+-------------------+--------------------+-----------+-------+---------+--------------------+--------------+------------------+----------------------+----+-----+----------+---------+---------+----------+\n",
      "only showing top 20 rows\n",
      "\n"
     ]
    }
   ],
   "source": [
    "# raw\n",
    "sdf_raw = sdf\n",
    "sdf_raw.show()"
   ],
   "metadata": {
    "collapsed": false,
    "pycharm": {
     "name": "#%%\n"
    }
   }
  },
  {
   "cell_type": "code",
   "execution_count": 37,
   "outputs": [
    {
     "name": "stdout",
     "output_type": "stream",
     "text": [
      "+---------+--------------------+----------+----------+------------------+\n",
      "|  user_id|        user_session|event_type|product_id|        avg(price)|\n",
      "+---------+--------------------+----------+----------+------------------+\n",
      "|515483851|18ea1924-2c5a-4ac...|      view|  15700181|            214.16|\n",
      "|549736688|29ab2a23-cfa8-411...|      view|   1004935|            167.03|\n",
      "|477121012|413b498a-71d5-49f...|      view|   1004839|179.30666666666664|\n",
      "|555279241|56616147-d002-47b...|      view|   1005115|            975.57|\n",
      "|516692901|242696d6-672f-476...|      view|   1005115|            975.57|\n",
      "|555461758|bf8b4392-9803-410...|      view|   2601908|            437.57|\n",
      "|538138285|05f93693-8323-451...|      view|  17302407|            189.79|\n",
      "|516025438|86916d0f-ed46-4e0...|      view|   1004650|            628.78|\n",
      "|555462575|5ffa5556-648d-45c...|      view|   1700796|           2202.24|\n",
      "|555462875|a85e90a6-37df-43a...|      view|   1004739|            197.55|\n",
      "|555462891|4d8ee4c7-a87e-44f...|      view|   2800475|            207.93|\n",
      "|512724185|19248244-9f57-47d...|      view|  32801031|            556.44|\n",
      "|555462889|9e175e44-eea6-4d0...|      view|   1004133|            135.99|\n",
      "|515808099|596d1810-a418-468...|      view|   5000071|            235.24|\n",
      "|518962372|718c8069-2782-458...|  purchase|   1004566|             177.2|\n",
      "|512454319|528759b3-eb4a-483...|      view|   1004014|            138.97|\n",
      "|512900744|76b918d5-b344-41f...|      view|   1306646|            532.81|\n",
      "|552408931|e8b95f1a-5f87-40a...|      view|  31501046|            108.09|\n",
      "|512520626|18b3f37a-ed7f-452...|      view|  12300305|             25.74|\n",
      "|519178692|298f86c8-f88a-480...|      view|  14701097|            160.85|\n",
      "+---------+--------------------+----------+----------+------------------+\n",
      "only showing top 20 rows\n",
      "\n"
     ]
    }
   ],
   "source": [
    "# aggregated customer\n",
    "sdf_agg_cust = sdf.groupBy(\"user_id\", \"user_session\", \"event_type\", \"product_id\").mean(\"price\")\n",
    "sdf_agg_cust.show()"
   ],
   "metadata": {
    "collapsed": false,
    "pycharm": {
     "name": "#%%\n"
    }
   }
  },
  {
   "cell_type": "code",
   "execution_count": null,
   "outputs": [],
   "source": [
    "# aggregated session"
   ],
   "metadata": {
    "collapsed": false,
    "pycharm": {
     "name": "#%%\n"
    }
   }
  },
  {
   "cell_type": "code",
   "execution_count": null,
   "outputs": [],
   "source": [
    "# aggregated product\n"
   ],
   "metadata": {
    "collapsed": false,
    "pycharm": {
     "name": "#%%\n"
    }
   }
  },
  {
   "cell_type": "code",
   "execution_count": null,
   "outputs": [],
   "source": [
    "# aggregated class"
   ],
   "metadata": {
    "collapsed": false,
    "pycharm": {
     "name": "#%%\n"
    }
   }
  },
  {
   "cell_type": "code",
   "execution_count": null,
   "outputs": [],
   "source": [],
   "metadata": {
    "collapsed": false,
    "pycharm": {
     "name": "#%% aggregated time (weeks, dayofweeks, month)\n"
    }
   }
  },
  {
   "cell_type": "markdown",
   "source": [
    "## Field Explanations"
   ],
   "metadata": {
    "collapsed": false,
    "pycharm": {
     "name": "#%% md\n"
    }
   },
   "execution_count": 39
  },
  {
   "cell_type": "markdown",
   "source": [
    "Following fields are in the standard dataset:\n",
    "- event_time\n",
    "- product_id\n",
    "- category_id\n",
    "- category_code\n",
    "- brand\n",
    "- price\n",
    "- user_id\n",
    "- user_session"
   ],
   "metadata": {
    "collapsed": false,
    "pycharm": {
     "name": "#%% md\n"
    }
   }
  },
  {
   "cell_type": "code",
   "execution_count": null,
   "outputs": [],
   "source": [
    "# general"
   ],
   "metadata": {
    "collapsed": false,
    "pycharm": {
     "name": "#%%\n"
    }
   }
  },
  {
   "cell_type": "code",
   "execution_count": null,
   "outputs": [],
   "source": [
    "# event_time"
   ],
   "metadata": {
    "collapsed": false,
    "pycharm": {
     "name": "#%%\n"
    }
   }
  },
  {
   "cell_type": "code",
   "execution_count": null,
   "outputs": [],
   "source": [
    "# product_id"
   ],
   "metadata": {
    "collapsed": false,
    "pycharm": {
     "name": "#%%\n"
    }
   }
  },
  {
   "cell_type": "code",
   "execution_count": null,
   "outputs": [],
   "source": [
    "# category_id"
   ],
   "metadata": {
    "collapsed": false,
    "pycharm": {
     "name": "#%%\n"
    }
   }
  },
  {
   "cell_type": "code",
   "execution_count": null,
   "outputs": [],
   "source": [
    "# category_code\n"
   ],
   "metadata": {
    "collapsed": false,
    "pycharm": {
     "name": "#%%\n"
    }
   }
  },
  {
   "cell_type": "code",
   "execution_count": null,
   "outputs": [],
   "source": [
    "# brand\n"
   ],
   "metadata": {
    "collapsed": false,
    "pycharm": {
     "name": "#%%\n"
    }
   }
  },
  {
   "cell_type": "code",
   "execution_count": null,
   "outputs": [],
   "source": [
    "# price\n"
   ],
   "metadata": {
    "collapsed": false,
    "pycharm": {
     "name": "#%%\n"
    }
   }
  },
  {
   "cell_type": "code",
   "execution_count": null,
   "outputs": [],
   "source": [
    "# user_id\n"
   ],
   "metadata": {
    "collapsed": false,
    "pycharm": {
     "name": "#%%\n"
    }
   }
  },
  {
   "cell_type": "code",
   "execution_count": null,
   "outputs": [],
   "source": [
    "# user_session"
   ],
   "metadata": {
    "collapsed": false,
    "pycharm": {
     "name": "#%%\n"
    }
   }
  },
  {
   "cell_type": "markdown",
   "source": [
    "## Exploration and Analysis"
   ],
   "metadata": {
    "collapsed": false,
    "pycharm": {
     "name": "#%% md\n"
    }
   }
  },
  {
   "cell_type": "markdown",
   "source": [
    "### Time Distribution"
   ],
   "metadata": {
    "collapsed": false
   }
  },
  {
   "cell_type": "markdown",
   "source": [
    "### Category and products"
   ],
   "metadata": {
    "collapsed": false
   }
  },
  {
   "cell_type": "markdown",
   "source": [
    "### User analysis"
   ],
   "metadata": {
    "collapsed": false
   }
  },
  {
   "cell_type": "markdown",
   "source": [
    "### Customer Journey"
   ],
   "metadata": {
    "collapsed": false
   }
  },
  {
   "cell_type": "markdown",
   "source": [
    "## Clustering"
   ],
   "metadata": {
    "collapsed": false,
    "pycharm": {
     "name": "#%% md\n"
    }
   }
  }
 ],
 "metadata": {
  "kernelspec": {
   "display_name": "Python 3",
   "language": "python",
   "name": "python3"
  },
  "language_info": {
   "codemirror_mode": {
    "name": "ipython",
    "version": 2
   },
   "file_extension": ".py",
   "mimetype": "text/x-python",
   "name": "python",
   "nbconvert_exporter": "python",
   "pygments_lexer": "ipython2",
   "version": "2.7.6"
  }
 },
 "nbformat": 4,
 "nbformat_minor": 0
}