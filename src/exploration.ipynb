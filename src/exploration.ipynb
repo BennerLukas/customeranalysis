{
 "cells": [
  {
   "cell_type": "markdown",
   "metadata": {
    "pycharm": {
     "name": "#%% md\n"
    }
   },
   "source": [
    "# Customer Analysis - Explore Customer Behavior"
   ]
  },
  {
   "cell_type": "markdown",
   "metadata": {},
   "source": [
    "## Import"
   ]
  },
  {
   "cell_type": "markdown",
   "metadata": {
    "pycharm": {
     "name": "#%% md\n"
    }
   },
   "source": [
    "Needed packages. Pyspark will be used for data managing and plotly for visualisations. Keep in mind to install\n",
    "JAVA so Spark will work properly.\n",
    "\n",
    "Used dataset is from https://rees46.com/de found on https://www.kaggle.com/mkechinov/ecommerce-behavior-data-from-multi-category-store."
   ]
  },
  {
   "cell_type": "code",
   "execution_count": 1,
   "metadata": {
    "collapsed": false,
    "jupyter": {
     "outputs_hidden": false
    },
    "pycharm": {
     "name": "#%%\n",
     "is_executing": true
    }
   },
   "outputs": [],
   "source": [
    "%timeit\n",
    "import os\n",
    "import pyspark\n",
    "import pandas as pd\n",
    "import pyspark.sql.functions as f\n",
    "import plotly.express as px\n",
    "import plotly.graph_objects as go"
   ]
  },
  {
   "cell_type": "markdown",
   "metadata": {},
   "source": [
    "## Read"
   ]
  },
  {
   "cell_type": "markdown",
   "metadata": {
    "pycharm": {
     "name": "#%% md\n"
    }
   },
   "source": [
    "The data needs to be located in ```data/``` in unzipped form as a csv."
   ]
  },
  {
   "cell_type": "code",
   "execution_count": 2,
   "metadata": {
    "collapsed": false,
    "jupyter": {
     "outputs_hidden": false
    },
    "pycharm": {
     "name": "#%%\n"
    }
   },
   "outputs": [],
   "source": [
    "# spark = pyspark.sql.SparkSession.builder.appName(\"app1\").getOrCreate()\n",
    "spark = pyspark.sql.SparkSession \\\n",
    "    .builder \\\n",
    "    .appName(\"app_great\") \\\n",
    "    .master(\"local\") \\\n",
    "    .config(\"spark.executor.memory\", f\"16g\") \\\n",
    "    .config(\"spark.driver.memory\", f\"16g\") \\\n",
    "    .config(\"spark.memory.offHeap.enabled\", True) \\\n",
    "    .config(\"spark.memory.offHeap.size\", f\"16g\") \\\n",
    "    .config(\"spark.sql.debug.maxToStringFields\", f\"16\") \\\n",
    "    .config(\"spark.driver.maxResultSize\", f\"4g\") \\\n",
    "    .getOrCreate()\n",
    "sc = spark.sparkContext"
   ]
  },
  {
   "cell_type": "code",
   "execution_count": 3,
   "metadata": {
    "collapsed": false,
    "jupyter": {
     "outputs_hidden": false
    },
    "pycharm": {
     "name": "#%%\n"
    }
   },
   "outputs": [],
   "source": [
    "# read raw data\n",
    "sdf_201911 = spark.read.csv(\"data/2019-Nov.csv\", header=True, inferSchema=True)\n",
    "sdf_201910 = spark.read.csv(\"data/2019-Oct.csv\", header=True, inferSchema=True)\n",
    "\n",
    "# join both months together\n",
    "sdf = sdf_201910.union(sdf_201911)"
   ]
  },
  {
   "cell_type": "code",
   "execution_count": 3,
   "metadata": {},
   "outputs": [],
   "source": [
    "sdf = spark.read.csv(\"data/test_data.csv\", header=True, inferSchema=True)"
   ]
  },
  {
   "cell_type": "code",
   "execution_count": 4,
   "metadata": {},
   "outputs": [
    {
     "output_type": "stream",
     "name": "stdout",
     "text": [
      "+--------------------+----------+----------+-------------------+--------------------+------+------+---------+--------------------+\n|          event_time|event_type|product_id|        category_id|       category_code| brand| price|  user_id|        user_session|\n+--------------------+----------+----------+-------------------+--------------------+------+------+---------+--------------------+\n|2019-11-01 00:00:...|      view|   1003461|2053013555631882655|electronics.smart...|xiaomi|489.07|520088904|4d3b30da-a5e4-49d...|\n|2019-11-01 00:00:...|      view|   5000088|2053013566100866035|appliances.sewing...|janome|293.65|530496790|8e5f4f83-366c-4f7...|\n|2019-11-01 00:00:...|      view|  17302664|2053013553853497655|                null| creed| 28.31|561587266|755422e7-9040-477...|\n+--------------------+----------+----------+-------------------+--------------------+------+------+---------+--------------------+\nonly showing top 3 rows\n\n"
     ]
    }
   ],
   "source": [
    "sdf.show(3)"
   ]
  },
  {
   "cell_type": "markdown",
   "metadata": {
    "pycharm": {
     "name": "#%% md\n"
    }
   },
   "source": [
    "## Preparation"
   ]
  },
  {
   "cell_type": "markdown",
   "metadata": {},
   "source": [
    "Prepare and enhance data for analysis and modelling."
   ]
  },
  {
   "cell_type": "code",
   "execution_count": 5,
   "metadata": {},
   "outputs": [],
   "source": [
    "# Datatypes\n",
    "sdf = sdf.withColumn(\"event_time\", sdf[\"event_time\"].cast(pyspark.sql.types.TimestampType()))\n",
    "sdf = sdf.withColumn(\"category_id\", sdf[\"category_id\"].cast(pyspark.sql.types.StringType()))\n",
    "sdf = sdf.withColumn(\"product_id\", sdf[\"product_id\"].cast(pyspark.sql.types.StringType()))\n",
    "sdf = sdf.withColumn(\"user_id\", sdf[\"user_id\"].cast(pyspark.sql.types.StringType()))"
   ]
  },
  {
   "cell_type": "code",
   "execution_count": 6,
   "metadata": {},
   "outputs": [
    {
     "output_type": "stream",
     "name": "stdout",
     "text": [
      "root\n |-- event_time: timestamp (nullable = true)\n |-- event_type: string (nullable = true)\n |-- product_id: string (nullable = true)\n |-- category_id: string (nullable = true)\n |-- category_code: string (nullable = true)\n |-- brand: string (nullable = true)\n |-- price: double (nullable = true)\n |-- user_id: string (nullable = true)\n |-- user_session: string (nullable = true)\n |-- category_class: string (nullable = true)\n |-- category_sub_class: string (nullable = true)\n |-- category_sub_sub_class: string (nullable = true)\n |-- year: integer (nullable = true)\n |-- month: integer (nullable = true)\n |-- weekofyear: integer (nullable = true)\n |-- dayofyear: integer (nullable = true)\n |-- dayofweek: integer (nullable = true)\n |-- dayofmonth: integer (nullable = true)\n |-- hour: integer (nullable = true)\n |-- turnover: double (nullable = true)\n |-- bougth_quantity: integer (nullable = false)\n |-- viewed_quantity: integer (nullable = false)\n |-- cart_quantity: integer (nullable = false)\n\n"
     ]
    }
   ],
   "source": [
    "# Feature Splitting\n",
    "# sdf = sdf.withColumn(\"category_class\", f.substring_index(sdf.category_code, '.', 1))\n",
    "\n",
    "sdf = sdf.withColumn(\"category_class\", f.split(sdf[\"category_code\"], \"\\.\").getItem(0))\n",
    "sdf = sdf.withColumn(\"category_sub_class\", f.split(sdf[\"category_code\"], \"\\.\").getItem(1))\n",
    "sdf = sdf.withColumn(\"category_sub_sub_class\", f.split(sdf[\"category_code\"], \"\\.\").getItem(2))\n",
    "\n",
    "sdf = sdf.withColumn(\"year\", f.year(\"event_time\"))\n",
    "sdf = sdf.withColumn(\"month\", f.month(\"event_time\"))\n",
    "sdf = sdf.withColumn(\"weekofyear\", f.weekofyear(\"event_time\"))\n",
    "sdf = sdf.withColumn(\"dayofyear\", f.dayofyear(\"event_time\"))\n",
    "sdf = sdf.withColumn(\"dayofweek\", f.dayofweek(\"event_time\"))\n",
    "sdf = sdf.withColumn(\"dayofmonth\", f.dayofmonth(\"event_time\"))\n",
    "sdf = sdf.withColumn(\"hour\", f.hour(\"event_time\"))\n",
    "\n",
    "sdf = sdf.withColumn('turnover', f.when(f.col('event_type') == 'purchase', f.col('price')).otherwise(0))\n",
    "sdf = sdf.withColumn('bougth_quantity', f.when(f.col('event_type') == 'purchase', f.lit(1)).otherwise(0))\n",
    "sdf = sdf.withColumn('viewed_quantity', f.when(f.col('event_type') == 'view', f.lit(1)).otherwise(0))\n",
    "sdf = sdf.withColumn('cart_quantity', f.when(f.col('event_type') == 'cart', f.lit(1)).otherwise(0))\n",
    "# None Handling\n",
    "# sdf = sdf.fillna(value=\"not defined\")\n",
    "\n",
    "sdf.printSchema()"
   ]
  },
  {
   "cell_type": "markdown",
   "metadata": {
    "pycharm": {
     "name": "#%% md\n"
    }
   },
   "source": [
    "## Dataframe Creation"
   ]
  },
  {
   "cell_type": "markdown",
   "metadata": {
    "pycharm": {
     "name": "#%% md\n"
    }
   },
   "source": [
    "create several dataframes with different aggregation level to answer different questions/ tasks."
   ]
  },
  {
   "cell_type": "code",
   "execution_count": 7,
   "metadata": {
    "collapsed": false,
    "jupyter": {
     "outputs_hidden": false
    },
    "pycharm": {
     "name": "#%%\n"
    }
   },
   "outputs": [],
   "source": [
    "# raw\n",
    "sdf_raw = sdf"
   ]
  },
  {
   "cell_type": "code",
   "execution_count": 8,
   "metadata": {},
   "outputs": [],
   "source": [
    "sdf.createOrReplaceTempView(\"Data\")"
   ]
  },
  {
   "cell_type": "markdown",
   "metadata": {
    "pycharm": {
     "name": "#%% md\n"
    }
   },
   "source": [
    "## Field Explanations"
   ]
  },
  {
   "cell_type": "markdown",
   "metadata": {
    "pycharm": {
     "name": "#%% md\n"
    }
   },
   "source": [
    "Following fields are in the standard dataset:\n",
    "- event_time\n",
    "- product_id\n",
    "- category_id\n",
    "- category_code\n",
    "- brand\n",
    "- price\n",
    "- user_id\n",
    "- user_session"
   ]
  },
  {
   "cell_type": "markdown",
   "metadata": {
    "pycharm": {
     "name": "#%% md\n"
    }
   },
   "source": [
    "### General\n",
    "In this overview you can see the count of unique rows, product_ids, category_classes, category_codes, category_ids, brands, user_ids and user_sessions as well as the average price of the products."
   ]
  },
  {
   "cell_type": "code",
   "execution_count": 9,
   "metadata": {},
   "outputs": [
    {
     "output_type": "stream",
     "name": "stdout",
     "text": [
      "+---------+----------+--------------+-------------+-----------+-----+-------+------------+---------+\n|Row_Count|Product_ID|Category_Class|Category_Code|Category_ID|Brand|User_ID|User_Session|AVG_Price|\n+---------+----------+--------------+-------------+-----------+-----+-------+------------+---------+\n|      244|       214|             9|           41|         90|   98|    153|         153|   302.15|\n+---------+----------+--------------+-------------+-----------+-----+-------+------------+---------+\n\n"
     ]
    }
   ],
   "source": [
    "sdf_count_overview = spark.sql(\"SELECT COUNT(*) AS Row_Count, \\\n",
    "                                       COUNT(DISTINCT(product_id)) AS Product_ID, \\\n",
    "                                       COUNT(DISTINCT(category_class)) AS Category_Class, \\\n",
    "                                       COUNT(DISTINCT(category_code)) AS Category_Code, \\\n",
    "                                       COUNT(DISTINCT(category_id)) AS Category_ID, \\\n",
    "                                       COUNT(DISTINCT(brand)) AS Brand, \\\n",
    "                                       COUNT(DISTINCT(user_id)) AS User_ID, \\\n",
    "                                       COUNT(DISTINCT(user_session)) AS User_Session, \\\n",
    "                                       ROUND(MEAN(price),2) AS AVG_Price \\\n",
    "                                FROM Data\")\n",
    "sdf_count_overview.show()"
   ]
  },
  {
   "cell_type": "code",
   "execution_count": 17,
   "metadata": {},
   "outputs": [
    {
     "output_type": "stream",
     "name": "stdout",
     "text": [
      "+-------+--------------------+--------------+---------------+--------------------+--------+-------------------+--------------------+-----------------+\n|summary|          product_id|category_class|  category_code|         category_id|   brand|            user_id|        user_session|            price|\n+-------+--------------------+--------------+---------------+--------------------+--------+-------------------+--------------------+-----------------+\n|  count|                 244|           147|            147|                 244|     197|                244|                 244|              244|\n|   mean|1.4153765086065574E7|          null|           null|2.059847189983916...|    null|5.383615158237705E8|                null|302.1450819672131|\n| stddev|1.3860016253479123E7|          null|           null|2.062332237864476E16|    null|2.124596669667003E7|                null|425.3893301363122|\n|    min|             1002524|   accessories|accessories.bag| 2053013552326770905|    acer|          436701163|0110890b-96d6-4ae...|             1.09|\n|    max|             8700570|          kids|     kids.swing| 2173216765583032544|yokohama|          570363385|ff868137-fb3e-4da...|          2496.59|\n+-------+--------------------+--------------+---------------+--------------------+--------+-------------------+--------------------+-----------------+\n\n"
     ]
    }
   ],
   "source": [
    "sdf_raw.select(\"product_id\", \"category_class\", \"category_code\", \"category_id\", \"brand\", \"user_id\", \"user_session\", \"price\").describe().show()"
   ]
  },
  {
   "cell_type": "code",
   "execution_count": 26,
   "metadata": {
    "collapsed": false,
    "jupyter": {
     "outputs_hidden": false
    },
    "pycharm": {
     "name": "#%%\n"
    }
   },
   "outputs": [
    {
     "output_type": "stream",
     "name": "stdout",
     "text": [
      "-RECORD 0--------------------------------------\n event_time             | 2019-11-01 01:00:00  \n event_type             | view                 \n product_id             | 1003461              \n category_id            | 2053013555631882655  \n category_code          | electronics.smart... \n brand                  | xiaomi               \n price                  | 489.07               \n user_id                | 520088904            \n user_session           | 4d3b30da-a5e4-49d... \n category_class         | electronics          \n category_sub_class     | smartphone           \n category_sub_sub_class | null                 \n year                   | 2019                 \n month                  | 11                   \n weekofyear             | 44                   \n dayofyear              | 305                  \n dayofweek              | 6                    \n dayofmonth             | 1                    \n hour                   | 1                    \n turnover               | 0.0                  \n bougth_quantity        | 0                    \n viewed_quantity        | 1                    \n cart_quantity          | 0                    \nonly showing top 1 row\n\n"
     ]
    }
   ],
   "source": [
    "sdf_raw.show(1, vertical=True)\n"
   ]
  },
  {
   "cell_type": "markdown",
   "metadata": {
    "pycharm": {
     "name": "#%% md\n"
    }
   },
   "source": [
    "### event_time"
   ]
  },
  {
   "cell_type": "code",
   "execution_count": 19,
   "metadata": {
    "collapsed": false,
    "jupyter": {
     "outputs_hidden": false
    },
    "pycharm": {
     "name": "#%%\n"
    }
   },
   "outputs": [
    {
     "output_type": "stream",
     "name": "stdout",
     "text": [
      "+-------------------+\n|         event_time|\n+-------------------+\n|2019-11-01 01:00:00|\n|2019-11-01 01:00:00|\n|2019-11-01 01:00:01|\n|2019-11-01 01:00:01|\n|2019-11-01 01:00:01|\n+-------------------+\nonly showing top 5 rows\n\n"
     ]
    }
   ],
   "source": [
    "sdf_raw.select(\"event_time\").show(5)\n"
   ]
  },
  {
   "cell_type": "markdown",
   "metadata": {
    "pycharm": {
     "name": "#%% md\n"
    }
   },
   "source": [
    "### event_type\n",
    "The event_type describes the kind of interaction, an user had with a product. The field can take three forms: View, Cart and Purchase. The distribution of these three forms is represented in the following plot:"
   ]
  },
  {
   "cell_type": "code",
   "execution_count": 20,
   "metadata": {
    "collapsed": false,
    "jupyter": {
     "outputs_hidden": false
    },
    "pycharm": {
     "name": "#%%\n"
    }
   },
   "outputs": [
    {
     "output_type": "stream",
     "name": "stdout",
     "text": [
      "+----------+-----+\n|event_type|count|\n+----------+-----+\n|  purchase|    2|\n|      view|  240|\n|      cart|    2|\n+----------+-----+\n\n"
     ]
    }
   ],
   "source": [
    "sdf_event_type_dist = sdf_raw.groupBy(\"event_type\").count()\n",
    "sdf_event_type_dist.show()"
   ]
  },
  {
   "cell_type": "code",
   "execution_count": 21,
   "metadata": {
    "collapsed": false,
    "jupyter": {
     "outputs_hidden": false
    },
    "pycharm": {
     "name": "#%%\n"
    }
   },
   "outputs": [
    {
     "output_type": "display_data",
     "data": {
      "application/vnd.plotly.v1+json": {
       "config": {
        "plotlyServerURL": "https://plot.ly"
       },
       "data": [
        {
         "domain": {
          "x": [
           0,
           1
          ],
          "y": [
           0,
           1
          ]
         },
         "hovertemplate": "event_type=%{label}<br>count=%{value}<extra></extra>",
         "labels": [
          "purchase",
          "view",
          "cart"
         ],
         "legendgroup": "",
         "name": "",
         "showlegend": true,
         "type": "pie",
         "values": [
          2,
          240,
          2
         ]
        }
       ],
       "layout": {
        "legend": {
         "tracegroupgap": 0
        },
        "template": {
         "data": {
          "bar": [
           {
            "error_x": {
             "color": "#2a3f5f"
            },
            "error_y": {
             "color": "#2a3f5f"
            },
            "marker": {
             "line": {
              "color": "#E5ECF6",
              "width": 0.5
             }
            },
            "type": "bar"
           }
          ],
          "barpolar": [
           {
            "marker": {
             "line": {
              "color": "#E5ECF6",
              "width": 0.5
             }
            },
            "type": "barpolar"
           }
          ],
          "carpet": [
           {
            "aaxis": {
             "endlinecolor": "#2a3f5f",
             "gridcolor": "white",
             "linecolor": "white",
             "minorgridcolor": "white",
             "startlinecolor": "#2a3f5f"
            },
            "baxis": {
             "endlinecolor": "#2a3f5f",
             "gridcolor": "white",
             "linecolor": "white",
             "minorgridcolor": "white",
             "startlinecolor": "#2a3f5f"
            },
            "type": "carpet"
           }
          ],
          "choropleth": [
           {
            "colorbar": {
             "outlinewidth": 0,
             "ticks": ""
            },
            "type": "choropleth"
           }
          ],
          "contour": [
           {
            "colorbar": {
             "outlinewidth": 0,
             "ticks": ""
            },
            "colorscale": [
             [
              0,
              "#0d0887"
             ],
             [
              0.1111111111111111,
              "#46039f"
             ],
             [
              0.2222222222222222,
              "#7201a8"
             ],
             [
              0.3333333333333333,
              "#9c179e"
             ],
             [
              0.4444444444444444,
              "#bd3786"
             ],
             [
              0.5555555555555556,
              "#d8576b"
             ],
             [
              0.6666666666666666,
              "#ed7953"
             ],
             [
              0.7777777777777778,
              "#fb9f3a"
             ],
             [
              0.8888888888888888,
              "#fdca26"
             ],
             [
              1,
              "#f0f921"
             ]
            ],
            "type": "contour"
           }
          ],
          "contourcarpet": [
           {
            "colorbar": {
             "outlinewidth": 0,
             "ticks": ""
            },
            "type": "contourcarpet"
           }
          ],
          "heatmap": [
           {
            "colorbar": {
             "outlinewidth": 0,
             "ticks": ""
            },
            "colorscale": [
             [
              0,
              "#0d0887"
             ],
             [
              0.1111111111111111,
              "#46039f"
             ],
             [
              0.2222222222222222,
              "#7201a8"
             ],
             [
              0.3333333333333333,
              "#9c179e"
             ],
             [
              0.4444444444444444,
              "#bd3786"
             ],
             [
              0.5555555555555556,
              "#d8576b"
             ],
             [
              0.6666666666666666,
              "#ed7953"
             ],
             [
              0.7777777777777778,
              "#fb9f3a"
             ],
             [
              0.8888888888888888,
              "#fdca26"
             ],
             [
              1,
              "#f0f921"
             ]
            ],
            "type": "heatmap"
           }
          ],
          "heatmapgl": [
           {
            "colorbar": {
             "outlinewidth": 0,
             "ticks": ""
            },
            "colorscale": [
             [
              0,
              "#0d0887"
             ],
             [
              0.1111111111111111,
              "#46039f"
             ],
             [
              0.2222222222222222,
              "#7201a8"
             ],
             [
              0.3333333333333333,
              "#9c179e"
             ],
             [
              0.4444444444444444,
              "#bd3786"
             ],
             [
              0.5555555555555556,
              "#d8576b"
             ],
             [
              0.6666666666666666,
              "#ed7953"
             ],
             [
              0.7777777777777778,
              "#fb9f3a"
             ],
             [
              0.8888888888888888,
              "#fdca26"
             ],
             [
              1,
              "#f0f921"
             ]
            ],
            "type": "heatmapgl"
           }
          ],
          "histogram": [
           {
            "marker": {
             "colorbar": {
              "outlinewidth": 0,
              "ticks": ""
             }
            },
            "type": "histogram"
           }
          ],
          "histogram2d": [
           {
            "colorbar": {
             "outlinewidth": 0,
             "ticks": ""
            },
            "colorscale": [
             [
              0,
              "#0d0887"
             ],
             [
              0.1111111111111111,
              "#46039f"
             ],
             [
              0.2222222222222222,
              "#7201a8"
             ],
             [
              0.3333333333333333,
              "#9c179e"
             ],
             [
              0.4444444444444444,
              "#bd3786"
             ],
             [
              0.5555555555555556,
              "#d8576b"
             ],
             [
              0.6666666666666666,
              "#ed7953"
             ],
             [
              0.7777777777777778,
              "#fb9f3a"
             ],
             [
              0.8888888888888888,
              "#fdca26"
             ],
             [
              1,
              "#f0f921"
             ]
            ],
            "type": "histogram2d"
           }
          ],
          "histogram2dcontour": [
           {
            "colorbar": {
             "outlinewidth": 0,
             "ticks": ""
            },
            "colorscale": [
             [
              0,
              "#0d0887"
             ],
             [
              0.1111111111111111,
              "#46039f"
             ],
             [
              0.2222222222222222,
              "#7201a8"
             ],
             [
              0.3333333333333333,
              "#9c179e"
             ],
             [
              0.4444444444444444,
              "#bd3786"
             ],
             [
              0.5555555555555556,
              "#d8576b"
             ],
             [
              0.6666666666666666,
              "#ed7953"
             ],
             [
              0.7777777777777778,
              "#fb9f3a"
             ],
             [
              0.8888888888888888,
              "#fdca26"
             ],
             [
              1,
              "#f0f921"
             ]
            ],
            "type": "histogram2dcontour"
           }
          ],
          "mesh3d": [
           {
            "colorbar": {
             "outlinewidth": 0,
             "ticks": ""
            },
            "type": "mesh3d"
           }
          ],
          "parcoords": [
           {
            "line": {
             "colorbar": {
              "outlinewidth": 0,
              "ticks": ""
             }
            },
            "type": "parcoords"
           }
          ],
          "pie": [
           {
            "automargin": true,
            "type": "pie"
           }
          ],
          "scatter": [
           {
            "marker": {
             "colorbar": {
              "outlinewidth": 0,
              "ticks": ""
             }
            },
            "type": "scatter"
           }
          ],
          "scatter3d": [
           {
            "line": {
             "colorbar": {
              "outlinewidth": 0,
              "ticks": ""
             }
            },
            "marker": {
             "colorbar": {
              "outlinewidth": 0,
              "ticks": ""
             }
            },
            "type": "scatter3d"
           }
          ],
          "scattercarpet": [
           {
            "marker": {
             "colorbar": {
              "outlinewidth": 0,
              "ticks": ""
             }
            },
            "type": "scattercarpet"
           }
          ],
          "scattergeo": [
           {
            "marker": {
             "colorbar": {
              "outlinewidth": 0,
              "ticks": ""
             }
            },
            "type": "scattergeo"
           }
          ],
          "scattergl": [
           {
            "marker": {
             "colorbar": {
              "outlinewidth": 0,
              "ticks": ""
             }
            },
            "type": "scattergl"
           }
          ],
          "scattermapbox": [
           {
            "marker": {
             "colorbar": {
              "outlinewidth": 0,
              "ticks": ""
             }
            },
            "type": "scattermapbox"
           }
          ],
          "scatterpolar": [
           {
            "marker": {
             "colorbar": {
              "outlinewidth": 0,
              "ticks": ""
             }
            },
            "type": "scatterpolar"
           }
          ],
          "scatterpolargl": [
           {
            "marker": {
             "colorbar": {
              "outlinewidth": 0,
              "ticks": ""
             }
            },
            "type": "scatterpolargl"
           }
          ],
          "scatterternary": [
           {
            "marker": {
             "colorbar": {
              "outlinewidth": 0,
              "ticks": ""
             }
            },
            "type": "scatterternary"
           }
          ],
          "surface": [
           {
            "colorbar": {
             "outlinewidth": 0,
             "ticks": ""
            },
            "colorscale": [
             [
              0,
              "#0d0887"
             ],
             [
              0.1111111111111111,
              "#46039f"
             ],
             [
              0.2222222222222222,
              "#7201a8"
             ],
             [
              0.3333333333333333,
              "#9c179e"
             ],
             [
              0.4444444444444444,
              "#bd3786"
             ],
             [
              0.5555555555555556,
              "#d8576b"
             ],
             [
              0.6666666666666666,
              "#ed7953"
             ],
             [
              0.7777777777777778,
              "#fb9f3a"
             ],
             [
              0.8888888888888888,
              "#fdca26"
             ],
             [
              1,
              "#f0f921"
             ]
            ],
            "type": "surface"
           }
          ],
          "table": [
           {
            "cells": {
             "fill": {
              "color": "#EBF0F8"
             },
             "line": {
              "color": "white"
             }
            },
            "header": {
             "fill": {
              "color": "#C8D4E3"
             },
             "line": {
              "color": "white"
             }
            },
            "type": "table"
           }
          ]
         },
         "layout": {
          "annotationdefaults": {
           "arrowcolor": "#2a3f5f",
           "arrowhead": 0,
           "arrowwidth": 1
          },
          "autotypenumbers": "strict",
          "coloraxis": {
           "colorbar": {
            "outlinewidth": 0,
            "ticks": ""
           }
          },
          "colorscale": {
           "diverging": [
            [
             0,
             "#8e0152"
            ],
            [
             0.1,
             "#c51b7d"
            ],
            [
             0.2,
             "#de77ae"
            ],
            [
             0.3,
             "#f1b6da"
            ],
            [
             0.4,
             "#fde0ef"
            ],
            [
             0.5,
             "#f7f7f7"
            ],
            [
             0.6,
             "#e6f5d0"
            ],
            [
             0.7,
             "#b8e186"
            ],
            [
             0.8,
             "#7fbc41"
            ],
            [
             0.9,
             "#4d9221"
            ],
            [
             1,
             "#276419"
            ]
           ],
           "sequential": [
            [
             0,
             "#0d0887"
            ],
            [
             0.1111111111111111,
             "#46039f"
            ],
            [
             0.2222222222222222,
             "#7201a8"
            ],
            [
             0.3333333333333333,
             "#9c179e"
            ],
            [
             0.4444444444444444,
             "#bd3786"
            ],
            [
             0.5555555555555556,
             "#d8576b"
            ],
            [
             0.6666666666666666,
             "#ed7953"
            ],
            [
             0.7777777777777778,
             "#fb9f3a"
            ],
            [
             0.8888888888888888,
             "#fdca26"
            ],
            [
             1,
             "#f0f921"
            ]
           ],
           "sequentialminus": [
            [
             0,
             "#0d0887"
            ],
            [
             0.1111111111111111,
             "#46039f"
            ],
            [
             0.2222222222222222,
             "#7201a8"
            ],
            [
             0.3333333333333333,
             "#9c179e"
            ],
            [
             0.4444444444444444,
             "#bd3786"
            ],
            [
             0.5555555555555556,
             "#d8576b"
            ],
            [
             0.6666666666666666,
             "#ed7953"
            ],
            [
             0.7777777777777778,
             "#fb9f3a"
            ],
            [
             0.8888888888888888,
             "#fdca26"
            ],
            [
             1,
             "#f0f921"
            ]
           ]
          },
          "colorway": [
           "#636efa",
           "#EF553B",
           "#00cc96",
           "#ab63fa",
           "#FFA15A",
           "#19d3f3",
           "#FF6692",
           "#B6E880",
           "#FF97FF",
           "#FECB52"
          ],
          "font": {
           "color": "#2a3f5f"
          },
          "geo": {
           "bgcolor": "white",
           "lakecolor": "white",
           "landcolor": "#E5ECF6",
           "showlakes": true,
           "showland": true,
           "subunitcolor": "white"
          },
          "hoverlabel": {
           "align": "left"
          },
          "hovermode": "closest",
          "mapbox": {
           "style": "light"
          },
          "paper_bgcolor": "white",
          "plot_bgcolor": "#E5ECF6",
          "polar": {
           "angularaxis": {
            "gridcolor": "white",
            "linecolor": "white",
            "ticks": ""
           },
           "bgcolor": "#E5ECF6",
           "radialaxis": {
            "gridcolor": "white",
            "linecolor": "white",
            "ticks": ""
           }
          },
          "scene": {
           "xaxis": {
            "backgroundcolor": "#E5ECF6",
            "gridcolor": "white",
            "gridwidth": 2,
            "linecolor": "white",
            "showbackground": true,
            "ticks": "",
            "zerolinecolor": "white"
           },
           "yaxis": {
            "backgroundcolor": "#E5ECF6",
            "gridcolor": "white",
            "gridwidth": 2,
            "linecolor": "white",
            "showbackground": true,
            "ticks": "",
            "zerolinecolor": "white"
           },
           "zaxis": {
            "backgroundcolor": "#E5ECF6",
            "gridcolor": "white",
            "gridwidth": 2,
            "linecolor": "white",
            "showbackground": true,
            "ticks": "",
            "zerolinecolor": "white"
           }
          },
          "shapedefaults": {
           "line": {
            "color": "#2a3f5f"
           }
          },
          "ternary": {
           "aaxis": {
            "gridcolor": "white",
            "linecolor": "white",
            "ticks": ""
           },
           "baxis": {
            "gridcolor": "white",
            "linecolor": "white",
            "ticks": ""
           },
           "bgcolor": "#E5ECF6",
           "caxis": {
            "gridcolor": "white",
            "linecolor": "white",
            "ticks": ""
           }
          },
          "title": {
           "x": 0.05
          },
          "xaxis": {
           "automargin": true,
           "gridcolor": "white",
           "linecolor": "white",
           "ticks": "",
           "title": {
            "standoff": 15
           },
           "zerolinecolor": "white",
           "zerolinewidth": 2
          },
          "yaxis": {
           "automargin": true,
           "gridcolor": "white",
           "linecolor": "white",
           "ticks": "",
           "title": {
            "standoff": 15
           },
           "zerolinecolor": "white",
           "zerolinewidth": 2
          }
         }
        },
        "title": {
         "text": "Distribution of Customer Actions"
        }
       }
      }
     },
     "metadata": {}
    }
   ],
   "source": [
    "# Plot Event Types\n",
    "df = sdf_event_type_dist.select(\"count\", \"event_type\").toPandas()\n",
    "fig = px.pie(df, values='count', names='event_type', title='Distribution of Customer Actions')\n",
    "fig.show()"
   ]
  },
  {
   "cell_type": "markdown",
   "metadata": {
    "pycharm": {
     "name": "#%% md\n"
    }
   },
   "source": [
    "### product_id\n",
    "The product_id is the unique identificator for a product. As you can see in the overview, there are ... unique product_ids in the datasets Oct-2019 and Nov-2019, the users have interacted with.\n"
   ]
  },
  {
   "cell_type": "code",
   "execution_count": 30,
   "metadata": {
    "collapsed": false,
    "jupyter": {
     "outputs_hidden": false
    },
    "pycharm": {
     "name": "#%%\n"
    }
   },
   "outputs": [
    {
     "output_type": "display_data",
     "data": {
      "application/vnd.plotly.v1+json": {
       "config": {
        "plotlyServerURL": "https://plot.ly"
       },
       "data": [
        {
         "alignmentgroup": "True",
         "hovertemplate": "product_id=%{x}<br>count=%{y}<extra></extra>",
         "legendgroup": "",
         "marker": {
          "color": "#636efa"
         },
         "name": "",
         "offsetgroup": "",
         "orientation": "v",
         "showlegend": false,
         "textposition": "auto",
         "type": "bar",
         "x": [
          "24400437",
          "5701331",
          "12708937",
          "13200605",
          "1003461",
          "1307115",
          "4600603",
          "1004258",
          "4804295",
          "1004237"
         ],
         "xaxis": "x",
         "y": [
          3,
          3,
          3,
          3,
          2,
          2,
          2,
          2,
          2,
          2
         ],
         "yaxis": "y"
        }
       ],
       "layout": {
        "barmode": "relative",
        "legend": {
         "tracegroupgap": 0
        },
        "template": {
         "data": {
          "bar": [
           {
            "error_x": {
             "color": "#2a3f5f"
            },
            "error_y": {
             "color": "#2a3f5f"
            },
            "marker": {
             "line": {
              "color": "#E5ECF6",
              "width": 0.5
             }
            },
            "type": "bar"
           }
          ],
          "barpolar": [
           {
            "marker": {
             "line": {
              "color": "#E5ECF6",
              "width": 0.5
             }
            },
            "type": "barpolar"
           }
          ],
          "carpet": [
           {
            "aaxis": {
             "endlinecolor": "#2a3f5f",
             "gridcolor": "white",
             "linecolor": "white",
             "minorgridcolor": "white",
             "startlinecolor": "#2a3f5f"
            },
            "baxis": {
             "endlinecolor": "#2a3f5f",
             "gridcolor": "white",
             "linecolor": "white",
             "minorgridcolor": "white",
             "startlinecolor": "#2a3f5f"
            },
            "type": "carpet"
           }
          ],
          "choropleth": [
           {
            "colorbar": {
             "outlinewidth": 0,
             "ticks": ""
            },
            "type": "choropleth"
           }
          ],
          "contour": [
           {
            "colorbar": {
             "outlinewidth": 0,
             "ticks": ""
            },
            "colorscale": [
             [
              0,
              "#0d0887"
             ],
             [
              0.1111111111111111,
              "#46039f"
             ],
             [
              0.2222222222222222,
              "#7201a8"
             ],
             [
              0.3333333333333333,
              "#9c179e"
             ],
             [
              0.4444444444444444,
              "#bd3786"
             ],
             [
              0.5555555555555556,
              "#d8576b"
             ],
             [
              0.6666666666666666,
              "#ed7953"
             ],
             [
              0.7777777777777778,
              "#fb9f3a"
             ],
             [
              0.8888888888888888,
              "#fdca26"
             ],
             [
              1,
              "#f0f921"
             ]
            ],
            "type": "contour"
           }
          ],
          "contourcarpet": [
           {
            "colorbar": {
             "outlinewidth": 0,
             "ticks": ""
            },
            "type": "contourcarpet"
           }
          ],
          "heatmap": [
           {
            "colorbar": {
             "outlinewidth": 0,
             "ticks": ""
            },
            "colorscale": [
             [
              0,
              "#0d0887"
             ],
             [
              0.1111111111111111,
              "#46039f"
             ],
             [
              0.2222222222222222,
              "#7201a8"
             ],
             [
              0.3333333333333333,
              "#9c179e"
             ],
             [
              0.4444444444444444,
              "#bd3786"
             ],
             [
              0.5555555555555556,
              "#d8576b"
             ],
             [
              0.6666666666666666,
              "#ed7953"
             ],
             [
              0.7777777777777778,
              "#fb9f3a"
             ],
             [
              0.8888888888888888,
              "#fdca26"
             ],
             [
              1,
              "#f0f921"
             ]
            ],
            "type": "heatmap"
           }
          ],
          "heatmapgl": [
           {
            "colorbar": {
             "outlinewidth": 0,
             "ticks": ""
            },
            "colorscale": [
             [
              0,
              "#0d0887"
             ],
             [
              0.1111111111111111,
              "#46039f"
             ],
             [
              0.2222222222222222,
              "#7201a8"
             ],
             [
              0.3333333333333333,
              "#9c179e"
             ],
             [
              0.4444444444444444,
              "#bd3786"
             ],
             [
              0.5555555555555556,
              "#d8576b"
             ],
             [
              0.6666666666666666,
              "#ed7953"
             ],
             [
              0.7777777777777778,
              "#fb9f3a"
             ],
             [
              0.8888888888888888,
              "#fdca26"
             ],
             [
              1,
              "#f0f921"
             ]
            ],
            "type": "heatmapgl"
           }
          ],
          "histogram": [
           {
            "marker": {
             "colorbar": {
              "outlinewidth": 0,
              "ticks": ""
             }
            },
            "type": "histogram"
           }
          ],
          "histogram2d": [
           {
            "colorbar": {
             "outlinewidth": 0,
             "ticks": ""
            },
            "colorscale": [
             [
              0,
              "#0d0887"
             ],
             [
              0.1111111111111111,
              "#46039f"
             ],
             [
              0.2222222222222222,
              "#7201a8"
             ],
             [
              0.3333333333333333,
              "#9c179e"
             ],
             [
              0.4444444444444444,
              "#bd3786"
             ],
             [
              0.5555555555555556,
              "#d8576b"
             ],
             [
              0.6666666666666666,
              "#ed7953"
             ],
             [
              0.7777777777777778,
              "#fb9f3a"
             ],
             [
              0.8888888888888888,
              "#fdca26"
             ],
             [
              1,
              "#f0f921"
             ]
            ],
            "type": "histogram2d"
           }
          ],
          "histogram2dcontour": [
           {
            "colorbar": {
             "outlinewidth": 0,
             "ticks": ""
            },
            "colorscale": [
             [
              0,
              "#0d0887"
             ],
             [
              0.1111111111111111,
              "#46039f"
             ],
             [
              0.2222222222222222,
              "#7201a8"
             ],
             [
              0.3333333333333333,
              "#9c179e"
             ],
             [
              0.4444444444444444,
              "#bd3786"
             ],
             [
              0.5555555555555556,
              "#d8576b"
             ],
             [
              0.6666666666666666,
              "#ed7953"
             ],
             [
              0.7777777777777778,
              "#fb9f3a"
             ],
             [
              0.8888888888888888,
              "#fdca26"
             ],
             [
              1,
              "#f0f921"
             ]
            ],
            "type": "histogram2dcontour"
           }
          ],
          "mesh3d": [
           {
            "colorbar": {
             "outlinewidth": 0,
             "ticks": ""
            },
            "type": "mesh3d"
           }
          ],
          "parcoords": [
           {
            "line": {
             "colorbar": {
              "outlinewidth": 0,
              "ticks": ""
             }
            },
            "type": "parcoords"
           }
          ],
          "pie": [
           {
            "automargin": true,
            "type": "pie"
           }
          ],
          "scatter": [
           {
            "marker": {
             "colorbar": {
              "outlinewidth": 0,
              "ticks": ""
             }
            },
            "type": "scatter"
           }
          ],
          "scatter3d": [
           {
            "line": {
             "colorbar": {
              "outlinewidth": 0,
              "ticks": ""
             }
            },
            "marker": {
             "colorbar": {
              "outlinewidth": 0,
              "ticks": ""
             }
            },
            "type": "scatter3d"
           }
          ],
          "scattercarpet": [
           {
            "marker": {
             "colorbar": {
              "outlinewidth": 0,
              "ticks": ""
             }
            },
            "type": "scattercarpet"
           }
          ],
          "scattergeo": [
           {
            "marker": {
             "colorbar": {
              "outlinewidth": 0,
              "ticks": ""
             }
            },
            "type": "scattergeo"
           }
          ],
          "scattergl": [
           {
            "marker": {
             "colorbar": {
              "outlinewidth": 0,
              "ticks": ""
             }
            },
            "type": "scattergl"
           }
          ],
          "scattermapbox": [
           {
            "marker": {
             "colorbar": {
              "outlinewidth": 0,
              "ticks": ""
             }
            },
            "type": "scattermapbox"
           }
          ],
          "scatterpolar": [
           {
            "marker": {
             "colorbar": {
              "outlinewidth": 0,
              "ticks": ""
             }
            },
            "type": "scatterpolar"
           }
          ],
          "scatterpolargl": [
           {
            "marker": {
             "colorbar": {
              "outlinewidth": 0,
              "ticks": ""
             }
            },
            "type": "scatterpolargl"
           }
          ],
          "scatterternary": [
           {
            "marker": {
             "colorbar": {
              "outlinewidth": 0,
              "ticks": ""
             }
            },
            "type": "scatterternary"
           }
          ],
          "surface": [
           {
            "colorbar": {
             "outlinewidth": 0,
             "ticks": ""
            },
            "colorscale": [
             [
              0,
              "#0d0887"
             ],
             [
              0.1111111111111111,
              "#46039f"
             ],
             [
              0.2222222222222222,
              "#7201a8"
             ],
             [
              0.3333333333333333,
              "#9c179e"
             ],
             [
              0.4444444444444444,
              "#bd3786"
             ],
             [
              0.5555555555555556,
              "#d8576b"
             ],
             [
              0.6666666666666666,
              "#ed7953"
             ],
             [
              0.7777777777777778,
              "#fb9f3a"
             ],
             [
              0.8888888888888888,
              "#fdca26"
             ],
             [
              1,
              "#f0f921"
             ]
            ],
            "type": "surface"
           }
          ],
          "table": [
           {
            "cells": {
             "fill": {
              "color": "#EBF0F8"
             },
             "line": {
              "color": "white"
             }
            },
            "header": {
             "fill": {
              "color": "#C8D4E3"
             },
             "line": {
              "color": "white"
             }
            },
            "type": "table"
           }
          ]
         },
         "layout": {
          "annotationdefaults": {
           "arrowcolor": "#2a3f5f",
           "arrowhead": 0,
           "arrowwidth": 1
          },
          "autotypenumbers": "strict",
          "coloraxis": {
           "colorbar": {
            "outlinewidth": 0,
            "ticks": ""
           }
          },
          "colorscale": {
           "diverging": [
            [
             0,
             "#8e0152"
            ],
            [
             0.1,
             "#c51b7d"
            ],
            [
             0.2,
             "#de77ae"
            ],
            [
             0.3,
             "#f1b6da"
            ],
            [
             0.4,
             "#fde0ef"
            ],
            [
             0.5,
             "#f7f7f7"
            ],
            [
             0.6,
             "#e6f5d0"
            ],
            [
             0.7,
             "#b8e186"
            ],
            [
             0.8,
             "#7fbc41"
            ],
            [
             0.9,
             "#4d9221"
            ],
            [
             1,
             "#276419"
            ]
           ],
           "sequential": [
            [
             0,
             "#0d0887"
            ],
            [
             0.1111111111111111,
             "#46039f"
            ],
            [
             0.2222222222222222,
             "#7201a8"
            ],
            [
             0.3333333333333333,
             "#9c179e"
            ],
            [
             0.4444444444444444,
             "#bd3786"
            ],
            [
             0.5555555555555556,
             "#d8576b"
            ],
            [
             0.6666666666666666,
             "#ed7953"
            ],
            [
             0.7777777777777778,
             "#fb9f3a"
            ],
            [
             0.8888888888888888,
             "#fdca26"
            ],
            [
             1,
             "#f0f921"
            ]
           ],
           "sequentialminus": [
            [
             0,
             "#0d0887"
            ],
            [
             0.1111111111111111,
             "#46039f"
            ],
            [
             0.2222222222222222,
             "#7201a8"
            ],
            [
             0.3333333333333333,
             "#9c179e"
            ],
            [
             0.4444444444444444,
             "#bd3786"
            ],
            [
             0.5555555555555556,
             "#d8576b"
            ],
            [
             0.6666666666666666,
             "#ed7953"
            ],
            [
             0.7777777777777778,
             "#fb9f3a"
            ],
            [
             0.8888888888888888,
             "#fdca26"
            ],
            [
             1,
             "#f0f921"
            ]
           ]
          },
          "colorway": [
           "#636efa",
           "#EF553B",
           "#00cc96",
           "#ab63fa",
           "#FFA15A",
           "#19d3f3",
           "#FF6692",
           "#B6E880",
           "#FF97FF",
           "#FECB52"
          ],
          "font": {
           "color": "#2a3f5f"
          },
          "geo": {
           "bgcolor": "white",
           "lakecolor": "white",
           "landcolor": "#E5ECF6",
           "showlakes": true,
           "showland": true,
           "subunitcolor": "white"
          },
          "hoverlabel": {
           "align": "left"
          },
          "hovermode": "closest",
          "mapbox": {
           "style": "light"
          },
          "paper_bgcolor": "white",
          "plot_bgcolor": "#E5ECF6",
          "polar": {
           "angularaxis": {
            "gridcolor": "white",
            "linecolor": "white",
            "ticks": ""
           },
           "bgcolor": "#E5ECF6",
           "radialaxis": {
            "gridcolor": "white",
            "linecolor": "white",
            "ticks": ""
           }
          },
          "scene": {
           "xaxis": {
            "backgroundcolor": "#E5ECF6",
            "gridcolor": "white",
            "gridwidth": 2,
            "linecolor": "white",
            "showbackground": true,
            "ticks": "",
            "zerolinecolor": "white"
           },
           "yaxis": {
            "backgroundcolor": "#E5ECF6",
            "gridcolor": "white",
            "gridwidth": 2,
            "linecolor": "white",
            "showbackground": true,
            "ticks": "",
            "zerolinecolor": "white"
           },
           "zaxis": {
            "backgroundcolor": "#E5ECF6",
            "gridcolor": "white",
            "gridwidth": 2,
            "linecolor": "white",
            "showbackground": true,
            "ticks": "",
            "zerolinecolor": "white"
           }
          },
          "shapedefaults": {
           "line": {
            "color": "#2a3f5f"
           }
          },
          "ternary": {
           "aaxis": {
            "gridcolor": "white",
            "linecolor": "white",
            "ticks": ""
           },
           "baxis": {
            "gridcolor": "white",
            "linecolor": "white",
            "ticks": ""
           },
           "bgcolor": "#E5ECF6",
           "caxis": {
            "gridcolor": "white",
            "linecolor": "white",
            "ticks": ""
           }
          },
          "title": {
           "x": 0.05
          },
          "xaxis": {
           "automargin": true,
           "gridcolor": "white",
           "linecolor": "white",
           "ticks": "",
           "title": {
            "standoff": 15
           },
           "zerolinecolor": "white",
           "zerolinewidth": 2
          },
          "yaxis": {
           "automargin": true,
           "gridcolor": "white",
           "linecolor": "white",
           "ticks": "",
           "title": {
            "standoff": 15
           },
           "zerolinecolor": "white",
           "zerolinewidth": 2
          }
         }
        },
        "title": {
         "text": "Top 10 most interacted products"
        },
        "xaxis": {
         "anchor": "y",
         "domain": [
          0,
          1
         ],
         "title": {
          "text": "product_id"
         }
        },
        "yaxis": {
         "anchor": "x",
         "domain": [
          0,
          1
         ],
         "title": {
          "text": "count"
         }
        }
       }
      }
     },
     "metadata": {}
    }
   ],
   "source": [
    "\n",
    "sdf_count_per_product_id = sdf_raw.groupBy(\"product_id\").count().orderBy(f.desc(\"count\"))\n",
    "\n",
    "px.bar(sdf_count_per_product_id.limit(10).toPandas(), x='product_id', y='count', title=\"Top 10 most interacted products\")\n"
   ]
  },
  {
   "cell_type": "markdown",
   "metadata": {
    "pycharm": {
     "name": "#%% md\n"
    }
   },
   "source": [
    "### category_id\n",
    "The category_id is an unique identifier for the category of a Product. Every Product is assigned to a single category_id, which is summarizing many product_ids into categories. This knowledge is based on the more detailed analyzes within the file \"product_analysis.ipnynb\". As you can see in the overview, there are ... unique category_ids."
   ]
  },
  {
   "cell_type": "code",
   "execution_count": 32,
   "metadata": {
    "collapsed": false,
    "jupyter": {
     "outputs_hidden": false
    },
    "pycharm": {
     "name": "#%%\n"
    }
   },
   "outputs": [
    {
     "output_type": "display_data",
     "data": {
      "application/vnd.plotly.v1+json": {
       "config": {
        "plotlyServerURL": "https://plot.ly"
       },
       "data": [
        {
         "alignmentgroup": "True",
         "hovertemplate": "category_id=%{x}<br>count=%{y}<extra></extra>",
         "legendgroup": "",
         "marker": {
          "color": "#636efa"
         },
         "name": "",
         "offsetgroup": "",
         "orientation": "v",
         "showlegend": false,
         "textposition": "auto",
         "type": "bar",
         "x": [
          "2053013555631882655",
          "2053013558920217191",
          "2053013553559896355",
          "2053013553853497655",
          "2053013561579406073",
          "2053013559901684381",
          "2053013553970938175",
          "2053013556168753601",
          "2053013563911439225",
          "2053013554658804075"
         ],
         "xaxis": "x",
         "y": [
          43,
          18,
          12,
          9,
          6,
          6,
          6,
          6,
          5,
          5
         ],
         "yaxis": "y"
        }
       ],
       "layout": {
        "barmode": "relative",
        "legend": {
         "tracegroupgap": 0
        },
        "template": {
         "data": {
          "bar": [
           {
            "error_x": {
             "color": "#2a3f5f"
            },
            "error_y": {
             "color": "#2a3f5f"
            },
            "marker": {
             "line": {
              "color": "#E5ECF6",
              "width": 0.5
             }
            },
            "type": "bar"
           }
          ],
          "barpolar": [
           {
            "marker": {
             "line": {
              "color": "#E5ECF6",
              "width": 0.5
             }
            },
            "type": "barpolar"
           }
          ],
          "carpet": [
           {
            "aaxis": {
             "endlinecolor": "#2a3f5f",
             "gridcolor": "white",
             "linecolor": "white",
             "minorgridcolor": "white",
             "startlinecolor": "#2a3f5f"
            },
            "baxis": {
             "endlinecolor": "#2a3f5f",
             "gridcolor": "white",
             "linecolor": "white",
             "minorgridcolor": "white",
             "startlinecolor": "#2a3f5f"
            },
            "type": "carpet"
           }
          ],
          "choropleth": [
           {
            "colorbar": {
             "outlinewidth": 0,
             "ticks": ""
            },
            "type": "choropleth"
           }
          ],
          "contour": [
           {
            "colorbar": {
             "outlinewidth": 0,
             "ticks": ""
            },
            "colorscale": [
             [
              0,
              "#0d0887"
             ],
             [
              0.1111111111111111,
              "#46039f"
             ],
             [
              0.2222222222222222,
              "#7201a8"
             ],
             [
              0.3333333333333333,
              "#9c179e"
             ],
             [
              0.4444444444444444,
              "#bd3786"
             ],
             [
              0.5555555555555556,
              "#d8576b"
             ],
             [
              0.6666666666666666,
              "#ed7953"
             ],
             [
              0.7777777777777778,
              "#fb9f3a"
             ],
             [
              0.8888888888888888,
              "#fdca26"
             ],
             [
              1,
              "#f0f921"
             ]
            ],
            "type": "contour"
           }
          ],
          "contourcarpet": [
           {
            "colorbar": {
             "outlinewidth": 0,
             "ticks": ""
            },
            "type": "contourcarpet"
           }
          ],
          "heatmap": [
           {
            "colorbar": {
             "outlinewidth": 0,
             "ticks": ""
            },
            "colorscale": [
             [
              0,
              "#0d0887"
             ],
             [
              0.1111111111111111,
              "#46039f"
             ],
             [
              0.2222222222222222,
              "#7201a8"
             ],
             [
              0.3333333333333333,
              "#9c179e"
             ],
             [
              0.4444444444444444,
              "#bd3786"
             ],
             [
              0.5555555555555556,
              "#d8576b"
             ],
             [
              0.6666666666666666,
              "#ed7953"
             ],
             [
              0.7777777777777778,
              "#fb9f3a"
             ],
             [
              0.8888888888888888,
              "#fdca26"
             ],
             [
              1,
              "#f0f921"
             ]
            ],
            "type": "heatmap"
           }
          ],
          "heatmapgl": [
           {
            "colorbar": {
             "outlinewidth": 0,
             "ticks": ""
            },
            "colorscale": [
             [
              0,
              "#0d0887"
             ],
             [
              0.1111111111111111,
              "#46039f"
             ],
             [
              0.2222222222222222,
              "#7201a8"
             ],
             [
              0.3333333333333333,
              "#9c179e"
             ],
             [
              0.4444444444444444,
              "#bd3786"
             ],
             [
              0.5555555555555556,
              "#d8576b"
             ],
             [
              0.6666666666666666,
              "#ed7953"
             ],
             [
              0.7777777777777778,
              "#fb9f3a"
             ],
             [
              0.8888888888888888,
              "#fdca26"
             ],
             [
              1,
              "#f0f921"
             ]
            ],
            "type": "heatmapgl"
           }
          ],
          "histogram": [
           {
            "marker": {
             "colorbar": {
              "outlinewidth": 0,
              "ticks": ""
             }
            },
            "type": "histogram"
           }
          ],
          "histogram2d": [
           {
            "colorbar": {
             "outlinewidth": 0,
             "ticks": ""
            },
            "colorscale": [
             [
              0,
              "#0d0887"
             ],
             [
              0.1111111111111111,
              "#46039f"
             ],
             [
              0.2222222222222222,
              "#7201a8"
             ],
             [
              0.3333333333333333,
              "#9c179e"
             ],
             [
              0.4444444444444444,
              "#bd3786"
             ],
             [
              0.5555555555555556,
              "#d8576b"
             ],
             [
              0.6666666666666666,
              "#ed7953"
             ],
             [
              0.7777777777777778,
              "#fb9f3a"
             ],
             [
              0.8888888888888888,
              "#fdca26"
             ],
             [
              1,
              "#f0f921"
             ]
            ],
            "type": "histogram2d"
           }
          ],
          "histogram2dcontour": [
           {
            "colorbar": {
             "outlinewidth": 0,
             "ticks": ""
            },
            "colorscale": [
             [
              0,
              "#0d0887"
             ],
             [
              0.1111111111111111,
              "#46039f"
             ],
             [
              0.2222222222222222,
              "#7201a8"
             ],
             [
              0.3333333333333333,
              "#9c179e"
             ],
             [
              0.4444444444444444,
              "#bd3786"
             ],
             [
              0.5555555555555556,
              "#d8576b"
             ],
             [
              0.6666666666666666,
              "#ed7953"
             ],
             [
              0.7777777777777778,
              "#fb9f3a"
             ],
             [
              0.8888888888888888,
              "#fdca26"
             ],
             [
              1,
              "#f0f921"
             ]
            ],
            "type": "histogram2dcontour"
           }
          ],
          "mesh3d": [
           {
            "colorbar": {
             "outlinewidth": 0,
             "ticks": ""
            },
            "type": "mesh3d"
           }
          ],
          "parcoords": [
           {
            "line": {
             "colorbar": {
              "outlinewidth": 0,
              "ticks": ""
             }
            },
            "type": "parcoords"
           }
          ],
          "pie": [
           {
            "automargin": true,
            "type": "pie"
           }
          ],
          "scatter": [
           {
            "marker": {
             "colorbar": {
              "outlinewidth": 0,
              "ticks": ""
             }
            },
            "type": "scatter"
           }
          ],
          "scatter3d": [
           {
            "line": {
             "colorbar": {
              "outlinewidth": 0,
              "ticks": ""
             }
            },
            "marker": {
             "colorbar": {
              "outlinewidth": 0,
              "ticks": ""
             }
            },
            "type": "scatter3d"
           }
          ],
          "scattercarpet": [
           {
            "marker": {
             "colorbar": {
              "outlinewidth": 0,
              "ticks": ""
             }
            },
            "type": "scattercarpet"
           }
          ],
          "scattergeo": [
           {
            "marker": {
             "colorbar": {
              "outlinewidth": 0,
              "ticks": ""
             }
            },
            "type": "scattergeo"
           }
          ],
          "scattergl": [
           {
            "marker": {
             "colorbar": {
              "outlinewidth": 0,
              "ticks": ""
             }
            },
            "type": "scattergl"
           }
          ],
          "scattermapbox": [
           {
            "marker": {
             "colorbar": {
              "outlinewidth": 0,
              "ticks": ""
             }
            },
            "type": "scattermapbox"
           }
          ],
          "scatterpolar": [
           {
            "marker": {
             "colorbar": {
              "outlinewidth": 0,
              "ticks": ""
             }
            },
            "type": "scatterpolar"
           }
          ],
          "scatterpolargl": [
           {
            "marker": {
             "colorbar": {
              "outlinewidth": 0,
              "ticks": ""
             }
            },
            "type": "scatterpolargl"
           }
          ],
          "scatterternary": [
           {
            "marker": {
             "colorbar": {
              "outlinewidth": 0,
              "ticks": ""
             }
            },
            "type": "scatterternary"
           }
          ],
          "surface": [
           {
            "colorbar": {
             "outlinewidth": 0,
             "ticks": ""
            },
            "colorscale": [
             [
              0,
              "#0d0887"
             ],
             [
              0.1111111111111111,
              "#46039f"
             ],
             [
              0.2222222222222222,
              "#7201a8"
             ],
             [
              0.3333333333333333,
              "#9c179e"
             ],
             [
              0.4444444444444444,
              "#bd3786"
             ],
             [
              0.5555555555555556,
              "#d8576b"
             ],
             [
              0.6666666666666666,
              "#ed7953"
             ],
             [
              0.7777777777777778,
              "#fb9f3a"
             ],
             [
              0.8888888888888888,
              "#fdca26"
             ],
             [
              1,
              "#f0f921"
             ]
            ],
            "type": "surface"
           }
          ],
          "table": [
           {
            "cells": {
             "fill": {
              "color": "#EBF0F8"
             },
             "line": {
              "color": "white"
             }
            },
            "header": {
             "fill": {
              "color": "#C8D4E3"
             },
             "line": {
              "color": "white"
             }
            },
            "type": "table"
           }
          ]
         },
         "layout": {
          "annotationdefaults": {
           "arrowcolor": "#2a3f5f",
           "arrowhead": 0,
           "arrowwidth": 1
          },
          "autotypenumbers": "strict",
          "coloraxis": {
           "colorbar": {
            "outlinewidth": 0,
            "ticks": ""
           }
          },
          "colorscale": {
           "diverging": [
            [
             0,
             "#8e0152"
            ],
            [
             0.1,
             "#c51b7d"
            ],
            [
             0.2,
             "#de77ae"
            ],
            [
             0.3,
             "#f1b6da"
            ],
            [
             0.4,
             "#fde0ef"
            ],
            [
             0.5,
             "#f7f7f7"
            ],
            [
             0.6,
             "#e6f5d0"
            ],
            [
             0.7,
             "#b8e186"
            ],
            [
             0.8,
             "#7fbc41"
            ],
            [
             0.9,
             "#4d9221"
            ],
            [
             1,
             "#276419"
            ]
           ],
           "sequential": [
            [
             0,
             "#0d0887"
            ],
            [
             0.1111111111111111,
             "#46039f"
            ],
            [
             0.2222222222222222,
             "#7201a8"
            ],
            [
             0.3333333333333333,
             "#9c179e"
            ],
            [
             0.4444444444444444,
             "#bd3786"
            ],
            [
             0.5555555555555556,
             "#d8576b"
            ],
            [
             0.6666666666666666,
             "#ed7953"
            ],
            [
             0.7777777777777778,
             "#fb9f3a"
            ],
            [
             0.8888888888888888,
             "#fdca26"
            ],
            [
             1,
             "#f0f921"
            ]
           ],
           "sequentialminus": [
            [
             0,
             "#0d0887"
            ],
            [
             0.1111111111111111,
             "#46039f"
            ],
            [
             0.2222222222222222,
             "#7201a8"
            ],
            [
             0.3333333333333333,
             "#9c179e"
            ],
            [
             0.4444444444444444,
             "#bd3786"
            ],
            [
             0.5555555555555556,
             "#d8576b"
            ],
            [
             0.6666666666666666,
             "#ed7953"
            ],
            [
             0.7777777777777778,
             "#fb9f3a"
            ],
            [
             0.8888888888888888,
             "#fdca26"
            ],
            [
             1,
             "#f0f921"
            ]
           ]
          },
          "colorway": [
           "#636efa",
           "#EF553B",
           "#00cc96",
           "#ab63fa",
           "#FFA15A",
           "#19d3f3",
           "#FF6692",
           "#B6E880",
           "#FF97FF",
           "#FECB52"
          ],
          "font": {
           "color": "#2a3f5f"
          },
          "geo": {
           "bgcolor": "white",
           "lakecolor": "white",
           "landcolor": "#E5ECF6",
           "showlakes": true,
           "showland": true,
           "subunitcolor": "white"
          },
          "hoverlabel": {
           "align": "left"
          },
          "hovermode": "closest",
          "mapbox": {
           "style": "light"
          },
          "paper_bgcolor": "white",
          "plot_bgcolor": "#E5ECF6",
          "polar": {
           "angularaxis": {
            "gridcolor": "white",
            "linecolor": "white",
            "ticks": ""
           },
           "bgcolor": "#E5ECF6",
           "radialaxis": {
            "gridcolor": "white",
            "linecolor": "white",
            "ticks": ""
           }
          },
          "scene": {
           "xaxis": {
            "backgroundcolor": "#E5ECF6",
            "gridcolor": "white",
            "gridwidth": 2,
            "linecolor": "white",
            "showbackground": true,
            "ticks": "",
            "zerolinecolor": "white"
           },
           "yaxis": {
            "backgroundcolor": "#E5ECF6",
            "gridcolor": "white",
            "gridwidth": 2,
            "linecolor": "white",
            "showbackground": true,
            "ticks": "",
            "zerolinecolor": "white"
           },
           "zaxis": {
            "backgroundcolor": "#E5ECF6",
            "gridcolor": "white",
            "gridwidth": 2,
            "linecolor": "white",
            "showbackground": true,
            "ticks": "",
            "zerolinecolor": "white"
           }
          },
          "shapedefaults": {
           "line": {
            "color": "#2a3f5f"
           }
          },
          "ternary": {
           "aaxis": {
            "gridcolor": "white",
            "linecolor": "white",
            "ticks": ""
           },
           "baxis": {
            "gridcolor": "white",
            "linecolor": "white",
            "ticks": ""
           },
           "bgcolor": "#E5ECF6",
           "caxis": {
            "gridcolor": "white",
            "linecolor": "white",
            "ticks": ""
           }
          },
          "title": {
           "x": 0.05
          },
          "xaxis": {
           "automargin": true,
           "gridcolor": "white",
           "linecolor": "white",
           "ticks": "",
           "title": {
            "standoff": 15
           },
           "zerolinecolor": "white",
           "zerolinewidth": 2
          },
          "yaxis": {
           "automargin": true,
           "gridcolor": "white",
           "linecolor": "white",
           "ticks": "",
           "title": {
            "standoff": 15
           },
           "zerolinecolor": "white",
           "zerolinewidth": 2
          }
         }
        },
        "title": {
         "text": "Top 10  category_ids most interacted with"
        },
        "xaxis": {
         "anchor": "y",
         "domain": [
          0,
          1
         ],
         "title": {
          "text": "category_id"
         }
        },
        "yaxis": {
         "anchor": "x",
         "domain": [
          0,
          1
         ],
         "title": {
          "text": "count"
         }
        }
       }
      }
     },
     "metadata": {}
    }
   ],
   "source": [
    "sdf_count_per_category_id = sdf_raw.groupBy(\"category_id\").count().orderBy(f.desc(\"count\"))\n",
    "\n",
    "\n",
    "px.bar(sdf_count_per_category_id.limit(10).toPandas(), x=\"category_id\", y=\"count\", title=\"Top 10  category_ids most interacted with\")  "
   ]
  },
  {
   "cell_type": "markdown",
   "metadata": {
    "pycharm": {
     "name": "#%% md\n"
    }
   },
   "source": [
    "### category_code\n",
    "The category_code is describing the category, a product_id and category_id is assigned to. Every Product_id and Category_id is assigned to a single category_code, which is summarizing many product_ids and category_ids into categories. This knowledge is also based on the more detailed analyzes within the file \"product_analysis.ipnynb\". As you can see in the overview, there are ... unique category_code."
   ]
  },
  {
   "cell_type": "code",
   "execution_count": 35,
   "metadata": {},
   "outputs": [
    {
     "output_type": "display_data",
     "data": {
      "application/vnd.plotly.v1+json": {
       "config": {
        "plotlyServerURL": "https://plot.ly"
       },
       "data": [
        {
         "alignmentgroup": "True",
         "hovertemplate": "category_code=%{x}<br>count=%{y}<extra></extra>",
         "legendgroup": "",
         "marker": {
          "color": "#636efa"
         },
         "name": "",
         "offsetgroup": "",
         "orientation": "v",
         "showlegend": false,
         "textposition": "auto",
         "type": "bar",
         "x": [
          null,
          "electronics.smartphone",
          "computers.notebook",
          "electronics.clocks",
          "furniture.kitchen.chair",
          "auto.accessories.player",
          "electronics.audio.headphone",
          "appliances.kitchen.refrigerators",
          "electronics.audio.subwoofer",
          "appliances.kitchen.dishwasher"
         ],
         "xaxis": "x",
         "y": [
          97,
          43,
          18,
          8,
          6,
          6,
          5,
          5,
          4,
          4
         ],
         "yaxis": "y"
        }
       ],
       "layout": {
        "barmode": "relative",
        "legend": {
         "tracegroupgap": 0
        },
        "template": {
         "data": {
          "bar": [
           {
            "error_x": {
             "color": "#2a3f5f"
            },
            "error_y": {
             "color": "#2a3f5f"
            },
            "marker": {
             "line": {
              "color": "#E5ECF6",
              "width": 0.5
             }
            },
            "type": "bar"
           }
          ],
          "barpolar": [
           {
            "marker": {
             "line": {
              "color": "#E5ECF6",
              "width": 0.5
             }
            },
            "type": "barpolar"
           }
          ],
          "carpet": [
           {
            "aaxis": {
             "endlinecolor": "#2a3f5f",
             "gridcolor": "white",
             "linecolor": "white",
             "minorgridcolor": "white",
             "startlinecolor": "#2a3f5f"
            },
            "baxis": {
             "endlinecolor": "#2a3f5f",
             "gridcolor": "white",
             "linecolor": "white",
             "minorgridcolor": "white",
             "startlinecolor": "#2a3f5f"
            },
            "type": "carpet"
           }
          ],
          "choropleth": [
           {
            "colorbar": {
             "outlinewidth": 0,
             "ticks": ""
            },
            "type": "choropleth"
           }
          ],
          "contour": [
           {
            "colorbar": {
             "outlinewidth": 0,
             "ticks": ""
            },
            "colorscale": [
             [
              0,
              "#0d0887"
             ],
             [
              0.1111111111111111,
              "#46039f"
             ],
             [
              0.2222222222222222,
              "#7201a8"
             ],
             [
              0.3333333333333333,
              "#9c179e"
             ],
             [
              0.4444444444444444,
              "#bd3786"
             ],
             [
              0.5555555555555556,
              "#d8576b"
             ],
             [
              0.6666666666666666,
              "#ed7953"
             ],
             [
              0.7777777777777778,
              "#fb9f3a"
             ],
             [
              0.8888888888888888,
              "#fdca26"
             ],
             [
              1,
              "#f0f921"
             ]
            ],
            "type": "contour"
           }
          ],
          "contourcarpet": [
           {
            "colorbar": {
             "outlinewidth": 0,
             "ticks": ""
            },
            "type": "contourcarpet"
           }
          ],
          "heatmap": [
           {
            "colorbar": {
             "outlinewidth": 0,
             "ticks": ""
            },
            "colorscale": [
             [
              0,
              "#0d0887"
             ],
             [
              0.1111111111111111,
              "#46039f"
             ],
             [
              0.2222222222222222,
              "#7201a8"
             ],
             [
              0.3333333333333333,
              "#9c179e"
             ],
             [
              0.4444444444444444,
              "#bd3786"
             ],
             [
              0.5555555555555556,
              "#d8576b"
             ],
             [
              0.6666666666666666,
              "#ed7953"
             ],
             [
              0.7777777777777778,
              "#fb9f3a"
             ],
             [
              0.8888888888888888,
              "#fdca26"
             ],
             [
              1,
              "#f0f921"
             ]
            ],
            "type": "heatmap"
           }
          ],
          "heatmapgl": [
           {
            "colorbar": {
             "outlinewidth": 0,
             "ticks": ""
            },
            "colorscale": [
             [
              0,
              "#0d0887"
             ],
             [
              0.1111111111111111,
              "#46039f"
             ],
             [
              0.2222222222222222,
              "#7201a8"
             ],
             [
              0.3333333333333333,
              "#9c179e"
             ],
             [
              0.4444444444444444,
              "#bd3786"
             ],
             [
              0.5555555555555556,
              "#d8576b"
             ],
             [
              0.6666666666666666,
              "#ed7953"
             ],
             [
              0.7777777777777778,
              "#fb9f3a"
             ],
             [
              0.8888888888888888,
              "#fdca26"
             ],
             [
              1,
              "#f0f921"
             ]
            ],
            "type": "heatmapgl"
           }
          ],
          "histogram": [
           {
            "marker": {
             "colorbar": {
              "outlinewidth": 0,
              "ticks": ""
             }
            },
            "type": "histogram"
           }
          ],
          "histogram2d": [
           {
            "colorbar": {
             "outlinewidth": 0,
             "ticks": ""
            },
            "colorscale": [
             [
              0,
              "#0d0887"
             ],
             [
              0.1111111111111111,
              "#46039f"
             ],
             [
              0.2222222222222222,
              "#7201a8"
             ],
             [
              0.3333333333333333,
              "#9c179e"
             ],
             [
              0.4444444444444444,
              "#bd3786"
             ],
             [
              0.5555555555555556,
              "#d8576b"
             ],
             [
              0.6666666666666666,
              "#ed7953"
             ],
             [
              0.7777777777777778,
              "#fb9f3a"
             ],
             [
              0.8888888888888888,
              "#fdca26"
             ],
             [
              1,
              "#f0f921"
             ]
            ],
            "type": "histogram2d"
           }
          ],
          "histogram2dcontour": [
           {
            "colorbar": {
             "outlinewidth": 0,
             "ticks": ""
            },
            "colorscale": [
             [
              0,
              "#0d0887"
             ],
             [
              0.1111111111111111,
              "#46039f"
             ],
             [
              0.2222222222222222,
              "#7201a8"
             ],
             [
              0.3333333333333333,
              "#9c179e"
             ],
             [
              0.4444444444444444,
              "#bd3786"
             ],
             [
              0.5555555555555556,
              "#d8576b"
             ],
             [
              0.6666666666666666,
              "#ed7953"
             ],
             [
              0.7777777777777778,
              "#fb9f3a"
             ],
             [
              0.8888888888888888,
              "#fdca26"
             ],
             [
              1,
              "#f0f921"
             ]
            ],
            "type": "histogram2dcontour"
           }
          ],
          "mesh3d": [
           {
            "colorbar": {
             "outlinewidth": 0,
             "ticks": ""
            },
            "type": "mesh3d"
           }
          ],
          "parcoords": [
           {
            "line": {
             "colorbar": {
              "outlinewidth": 0,
              "ticks": ""
             }
            },
            "type": "parcoords"
           }
          ],
          "pie": [
           {
            "automargin": true,
            "type": "pie"
           }
          ],
          "scatter": [
           {
            "marker": {
             "colorbar": {
              "outlinewidth": 0,
              "ticks": ""
             }
            },
            "type": "scatter"
           }
          ],
          "scatter3d": [
           {
            "line": {
             "colorbar": {
              "outlinewidth": 0,
              "ticks": ""
             }
            },
            "marker": {
             "colorbar": {
              "outlinewidth": 0,
              "ticks": ""
             }
            },
            "type": "scatter3d"
           }
          ],
          "scattercarpet": [
           {
            "marker": {
             "colorbar": {
              "outlinewidth": 0,
              "ticks": ""
             }
            },
            "type": "scattercarpet"
           }
          ],
          "scattergeo": [
           {
            "marker": {
             "colorbar": {
              "outlinewidth": 0,
              "ticks": ""
             }
            },
            "type": "scattergeo"
           }
          ],
          "scattergl": [
           {
            "marker": {
             "colorbar": {
              "outlinewidth": 0,
              "ticks": ""
             }
            },
            "type": "scattergl"
           }
          ],
          "scattermapbox": [
           {
            "marker": {
             "colorbar": {
              "outlinewidth": 0,
              "ticks": ""
             }
            },
            "type": "scattermapbox"
           }
          ],
          "scatterpolar": [
           {
            "marker": {
             "colorbar": {
              "outlinewidth": 0,
              "ticks": ""
             }
            },
            "type": "scatterpolar"
           }
          ],
          "scatterpolargl": [
           {
            "marker": {
             "colorbar": {
              "outlinewidth": 0,
              "ticks": ""
             }
            },
            "type": "scatterpolargl"
           }
          ],
          "scatterternary": [
           {
            "marker": {
             "colorbar": {
              "outlinewidth": 0,
              "ticks": ""
             }
            },
            "type": "scatterternary"
           }
          ],
          "surface": [
           {
            "colorbar": {
             "outlinewidth": 0,
             "ticks": ""
            },
            "colorscale": [
             [
              0,
              "#0d0887"
             ],
             [
              0.1111111111111111,
              "#46039f"
             ],
             [
              0.2222222222222222,
              "#7201a8"
             ],
             [
              0.3333333333333333,
              "#9c179e"
             ],
             [
              0.4444444444444444,
              "#bd3786"
             ],
             [
              0.5555555555555556,
              "#d8576b"
             ],
             [
              0.6666666666666666,
              "#ed7953"
             ],
             [
              0.7777777777777778,
              "#fb9f3a"
             ],
             [
              0.8888888888888888,
              "#fdca26"
             ],
             [
              1,
              "#f0f921"
             ]
            ],
            "type": "surface"
           }
          ],
          "table": [
           {
            "cells": {
             "fill": {
              "color": "#EBF0F8"
             },
             "line": {
              "color": "white"
             }
            },
            "header": {
             "fill": {
              "color": "#C8D4E3"
             },
             "line": {
              "color": "white"
             }
            },
            "type": "table"
           }
          ]
         },
         "layout": {
          "annotationdefaults": {
           "arrowcolor": "#2a3f5f",
           "arrowhead": 0,
           "arrowwidth": 1
          },
          "autotypenumbers": "strict",
          "coloraxis": {
           "colorbar": {
            "outlinewidth": 0,
            "ticks": ""
           }
          },
          "colorscale": {
           "diverging": [
            [
             0,
             "#8e0152"
            ],
            [
             0.1,
             "#c51b7d"
            ],
            [
             0.2,
             "#de77ae"
            ],
            [
             0.3,
             "#f1b6da"
            ],
            [
             0.4,
             "#fde0ef"
            ],
            [
             0.5,
             "#f7f7f7"
            ],
            [
             0.6,
             "#e6f5d0"
            ],
            [
             0.7,
             "#b8e186"
            ],
            [
             0.8,
             "#7fbc41"
            ],
            [
             0.9,
             "#4d9221"
            ],
            [
             1,
             "#276419"
            ]
           ],
           "sequential": [
            [
             0,
             "#0d0887"
            ],
            [
             0.1111111111111111,
             "#46039f"
            ],
            [
             0.2222222222222222,
             "#7201a8"
            ],
            [
             0.3333333333333333,
             "#9c179e"
            ],
            [
             0.4444444444444444,
             "#bd3786"
            ],
            [
             0.5555555555555556,
             "#d8576b"
            ],
            [
             0.6666666666666666,
             "#ed7953"
            ],
            [
             0.7777777777777778,
             "#fb9f3a"
            ],
            [
             0.8888888888888888,
             "#fdca26"
            ],
            [
             1,
             "#f0f921"
            ]
           ],
           "sequentialminus": [
            [
             0,
             "#0d0887"
            ],
            [
             0.1111111111111111,
             "#46039f"
            ],
            [
             0.2222222222222222,
             "#7201a8"
            ],
            [
             0.3333333333333333,
             "#9c179e"
            ],
            [
             0.4444444444444444,
             "#bd3786"
            ],
            [
             0.5555555555555556,
             "#d8576b"
            ],
            [
             0.6666666666666666,
             "#ed7953"
            ],
            [
             0.7777777777777778,
             "#fb9f3a"
            ],
            [
             0.8888888888888888,
             "#fdca26"
            ],
            [
             1,
             "#f0f921"
            ]
           ]
          },
          "colorway": [
           "#636efa",
           "#EF553B",
           "#00cc96",
           "#ab63fa",
           "#FFA15A",
           "#19d3f3",
           "#FF6692",
           "#B6E880",
           "#FF97FF",
           "#FECB52"
          ],
          "font": {
           "color": "#2a3f5f"
          },
          "geo": {
           "bgcolor": "white",
           "lakecolor": "white",
           "landcolor": "#E5ECF6",
           "showlakes": true,
           "showland": true,
           "subunitcolor": "white"
          },
          "hoverlabel": {
           "align": "left"
          },
          "hovermode": "closest",
          "mapbox": {
           "style": "light"
          },
          "paper_bgcolor": "white",
          "plot_bgcolor": "#E5ECF6",
          "polar": {
           "angularaxis": {
            "gridcolor": "white",
            "linecolor": "white",
            "ticks": ""
           },
           "bgcolor": "#E5ECF6",
           "radialaxis": {
            "gridcolor": "white",
            "linecolor": "white",
            "ticks": ""
           }
          },
          "scene": {
           "xaxis": {
            "backgroundcolor": "#E5ECF6",
            "gridcolor": "white",
            "gridwidth": 2,
            "linecolor": "white",
            "showbackground": true,
            "ticks": "",
            "zerolinecolor": "white"
           },
           "yaxis": {
            "backgroundcolor": "#E5ECF6",
            "gridcolor": "white",
            "gridwidth": 2,
            "linecolor": "white",
            "showbackground": true,
            "ticks": "",
            "zerolinecolor": "white"
           },
           "zaxis": {
            "backgroundcolor": "#E5ECF6",
            "gridcolor": "white",
            "gridwidth": 2,
            "linecolor": "white",
            "showbackground": true,
            "ticks": "",
            "zerolinecolor": "white"
           }
          },
          "shapedefaults": {
           "line": {
            "color": "#2a3f5f"
           }
          },
          "ternary": {
           "aaxis": {
            "gridcolor": "white",
            "linecolor": "white",
            "ticks": ""
           },
           "baxis": {
            "gridcolor": "white",
            "linecolor": "white",
            "ticks": ""
           },
           "bgcolor": "#E5ECF6",
           "caxis": {
            "gridcolor": "white",
            "linecolor": "white",
            "ticks": ""
           }
          },
          "title": {
           "x": 0.05
          },
          "xaxis": {
           "automargin": true,
           "gridcolor": "white",
           "linecolor": "white",
           "ticks": "",
           "title": {
            "standoff": 15
           },
           "zerolinecolor": "white",
           "zerolinewidth": 2
          },
          "yaxis": {
           "automargin": true,
           "gridcolor": "white",
           "linecolor": "white",
           "ticks": "",
           "title": {
            "standoff": 15
           },
           "zerolinecolor": "white",
           "zerolinewidth": 2
          }
         }
        },
        "title": {
         "text": "Top 10 category_code most interacted with"
        },
        "xaxis": {
         "anchor": "y",
         "domain": [
          0,
          1
         ],
         "title": {
          "text": "category_code"
         }
        },
        "yaxis": {
         "anchor": "x",
         "domain": [
          0,
          1
         ],
         "title": {
          "text": "count"
         }
        }
       }
      }
     },
     "metadata": {}
    }
   ],
   "source": [
    "sdf_count_per_category_code = sdf_raw.groupBy(\"category_code\").count().orderBy(f.desc(\"count\"))\n",
    "\n",
    "                                        \n",
    "px.bar(sdf_count_per_category_code.limit(10).toPandas(), x=\"category_code\", y=\"count\", title=\"Top 10 category_code most interacted with\")"
   ]
  },
  {
   "source": [],
   "cell_type": "markdown",
   "metadata": {}
  },
  {
   "cell_type": "markdown",
   "metadata": {
    "pycharm": {
     "name": "#%% md\n"
    }
   },
   "source": [
    "### brand\n",
    "The brand indicates the brand of a product_id. It is independent of the categories, so that a brand can appear in many category_classes. This knowledge is also based on the more detailed analyzes within the file \"product_analysis.ipnynb\". There are ... unique brands in the dataset. Thereby you can see the most popular brands in the following plot:"
   ]
  },
  {
   "cell_type": "code",
   "execution_count": 36,
   "metadata": {},
   "outputs": [
    {
     "output_type": "display_data",
     "data": {
      "application/vnd.plotly.v1+json": {
       "config": {
        "plotlyServerURL": "https://plot.ly"
       },
       "data": [
        {
         "alignmentgroup": "True",
         "bingroup": "x",
         "histfunc": "sum",
         "hovertemplate": "brand=%{x}<br>sum of count=%{y}<extra></extra>",
         "legendgroup": "",
         "marker": {
          "color": "#636efa"
         },
         "name": "",
         "offsetgroup": "",
         "orientation": "v",
         "showlegend": false,
         "type": "histogram",
         "x": [
          null,
          "apple",
          "xiaomi",
          "samsung",
          "hp",
          "huawei",
          "bosch",
          "kirkland",
          "brw",
          "tissot"
         ],
         "xaxis": "x",
         "y": [
          47,
          18,
          15,
          13,
          9,
          6,
          4,
          4,
          4,
          4
         ],
         "yaxis": "y"
        }
       ],
       "layout": {
        "barmode": "relative",
        "legend": {
         "tracegroupgap": 0
        },
        "template": {
         "data": {
          "bar": [
           {
            "error_x": {
             "color": "#2a3f5f"
            },
            "error_y": {
             "color": "#2a3f5f"
            },
            "marker": {
             "line": {
              "color": "#E5ECF6",
              "width": 0.5
             }
            },
            "type": "bar"
           }
          ],
          "barpolar": [
           {
            "marker": {
             "line": {
              "color": "#E5ECF6",
              "width": 0.5
             }
            },
            "type": "barpolar"
           }
          ],
          "carpet": [
           {
            "aaxis": {
             "endlinecolor": "#2a3f5f",
             "gridcolor": "white",
             "linecolor": "white",
             "minorgridcolor": "white",
             "startlinecolor": "#2a3f5f"
            },
            "baxis": {
             "endlinecolor": "#2a3f5f",
             "gridcolor": "white",
             "linecolor": "white",
             "minorgridcolor": "white",
             "startlinecolor": "#2a3f5f"
            },
            "type": "carpet"
           }
          ],
          "choropleth": [
           {
            "colorbar": {
             "outlinewidth": 0,
             "ticks": ""
            },
            "type": "choropleth"
           }
          ],
          "contour": [
           {
            "colorbar": {
             "outlinewidth": 0,
             "ticks": ""
            },
            "colorscale": [
             [
              0,
              "#0d0887"
             ],
             [
              0.1111111111111111,
              "#46039f"
             ],
             [
              0.2222222222222222,
              "#7201a8"
             ],
             [
              0.3333333333333333,
              "#9c179e"
             ],
             [
              0.4444444444444444,
              "#bd3786"
             ],
             [
              0.5555555555555556,
              "#d8576b"
             ],
             [
              0.6666666666666666,
              "#ed7953"
             ],
             [
              0.7777777777777778,
              "#fb9f3a"
             ],
             [
              0.8888888888888888,
              "#fdca26"
             ],
             [
              1,
              "#f0f921"
             ]
            ],
            "type": "contour"
           }
          ],
          "contourcarpet": [
           {
            "colorbar": {
             "outlinewidth": 0,
             "ticks": ""
            },
            "type": "contourcarpet"
           }
          ],
          "heatmap": [
           {
            "colorbar": {
             "outlinewidth": 0,
             "ticks": ""
            },
            "colorscale": [
             [
              0,
              "#0d0887"
             ],
             [
              0.1111111111111111,
              "#46039f"
             ],
             [
              0.2222222222222222,
              "#7201a8"
             ],
             [
              0.3333333333333333,
              "#9c179e"
             ],
             [
              0.4444444444444444,
              "#bd3786"
             ],
             [
              0.5555555555555556,
              "#d8576b"
             ],
             [
              0.6666666666666666,
              "#ed7953"
             ],
             [
              0.7777777777777778,
              "#fb9f3a"
             ],
             [
              0.8888888888888888,
              "#fdca26"
             ],
             [
              1,
              "#f0f921"
             ]
            ],
            "type": "heatmap"
           }
          ],
          "heatmapgl": [
           {
            "colorbar": {
             "outlinewidth": 0,
             "ticks": ""
            },
            "colorscale": [
             [
              0,
              "#0d0887"
             ],
             [
              0.1111111111111111,
              "#46039f"
             ],
             [
              0.2222222222222222,
              "#7201a8"
             ],
             [
              0.3333333333333333,
              "#9c179e"
             ],
             [
              0.4444444444444444,
              "#bd3786"
             ],
             [
              0.5555555555555556,
              "#d8576b"
             ],
             [
              0.6666666666666666,
              "#ed7953"
             ],
             [
              0.7777777777777778,
              "#fb9f3a"
             ],
             [
              0.8888888888888888,
              "#fdca26"
             ],
             [
              1,
              "#f0f921"
             ]
            ],
            "type": "heatmapgl"
           }
          ],
          "histogram": [
           {
            "marker": {
             "colorbar": {
              "outlinewidth": 0,
              "ticks": ""
             }
            },
            "type": "histogram"
           }
          ],
          "histogram2d": [
           {
            "colorbar": {
             "outlinewidth": 0,
             "ticks": ""
            },
            "colorscale": [
             [
              0,
              "#0d0887"
             ],
             [
              0.1111111111111111,
              "#46039f"
             ],
             [
              0.2222222222222222,
              "#7201a8"
             ],
             [
              0.3333333333333333,
              "#9c179e"
             ],
             [
              0.4444444444444444,
              "#bd3786"
             ],
             [
              0.5555555555555556,
              "#d8576b"
             ],
             [
              0.6666666666666666,
              "#ed7953"
             ],
             [
              0.7777777777777778,
              "#fb9f3a"
             ],
             [
              0.8888888888888888,
              "#fdca26"
             ],
             [
              1,
              "#f0f921"
             ]
            ],
            "type": "histogram2d"
           }
          ],
          "histogram2dcontour": [
           {
            "colorbar": {
             "outlinewidth": 0,
             "ticks": ""
            },
            "colorscale": [
             [
              0,
              "#0d0887"
             ],
             [
              0.1111111111111111,
              "#46039f"
             ],
             [
              0.2222222222222222,
              "#7201a8"
             ],
             [
              0.3333333333333333,
              "#9c179e"
             ],
             [
              0.4444444444444444,
              "#bd3786"
             ],
             [
              0.5555555555555556,
              "#d8576b"
             ],
             [
              0.6666666666666666,
              "#ed7953"
             ],
             [
              0.7777777777777778,
              "#fb9f3a"
             ],
             [
              0.8888888888888888,
              "#fdca26"
             ],
             [
              1,
              "#f0f921"
             ]
            ],
            "type": "histogram2dcontour"
           }
          ],
          "mesh3d": [
           {
            "colorbar": {
             "outlinewidth": 0,
             "ticks": ""
            },
            "type": "mesh3d"
           }
          ],
          "parcoords": [
           {
            "line": {
             "colorbar": {
              "outlinewidth": 0,
              "ticks": ""
             }
            },
            "type": "parcoords"
           }
          ],
          "pie": [
           {
            "automargin": true,
            "type": "pie"
           }
          ],
          "scatter": [
           {
            "marker": {
             "colorbar": {
              "outlinewidth": 0,
              "ticks": ""
             }
            },
            "type": "scatter"
           }
          ],
          "scatter3d": [
           {
            "line": {
             "colorbar": {
              "outlinewidth": 0,
              "ticks": ""
             }
            },
            "marker": {
             "colorbar": {
              "outlinewidth": 0,
              "ticks": ""
             }
            },
            "type": "scatter3d"
           }
          ],
          "scattercarpet": [
           {
            "marker": {
             "colorbar": {
              "outlinewidth": 0,
              "ticks": ""
             }
            },
            "type": "scattercarpet"
           }
          ],
          "scattergeo": [
           {
            "marker": {
             "colorbar": {
              "outlinewidth": 0,
              "ticks": ""
             }
            },
            "type": "scattergeo"
           }
          ],
          "scattergl": [
           {
            "marker": {
             "colorbar": {
              "outlinewidth": 0,
              "ticks": ""
             }
            },
            "type": "scattergl"
           }
          ],
          "scattermapbox": [
           {
            "marker": {
             "colorbar": {
              "outlinewidth": 0,
              "ticks": ""
             }
            },
            "type": "scattermapbox"
           }
          ],
          "scatterpolar": [
           {
            "marker": {
             "colorbar": {
              "outlinewidth": 0,
              "ticks": ""
             }
            },
            "type": "scatterpolar"
           }
          ],
          "scatterpolargl": [
           {
            "marker": {
             "colorbar": {
              "outlinewidth": 0,
              "ticks": ""
             }
            },
            "type": "scatterpolargl"
           }
          ],
          "scatterternary": [
           {
            "marker": {
             "colorbar": {
              "outlinewidth": 0,
              "ticks": ""
             }
            },
            "type": "scatterternary"
           }
          ],
          "surface": [
           {
            "colorbar": {
             "outlinewidth": 0,
             "ticks": ""
            },
            "colorscale": [
             [
              0,
              "#0d0887"
             ],
             [
              0.1111111111111111,
              "#46039f"
             ],
             [
              0.2222222222222222,
              "#7201a8"
             ],
             [
              0.3333333333333333,
              "#9c179e"
             ],
             [
              0.4444444444444444,
              "#bd3786"
             ],
             [
              0.5555555555555556,
              "#d8576b"
             ],
             [
              0.6666666666666666,
              "#ed7953"
             ],
             [
              0.7777777777777778,
              "#fb9f3a"
             ],
             [
              0.8888888888888888,
              "#fdca26"
             ],
             [
              1,
              "#f0f921"
             ]
            ],
            "type": "surface"
           }
          ],
          "table": [
           {
            "cells": {
             "fill": {
              "color": "#EBF0F8"
             },
             "line": {
              "color": "white"
             }
            },
            "header": {
             "fill": {
              "color": "#C8D4E3"
             },
             "line": {
              "color": "white"
             }
            },
            "type": "table"
           }
          ]
         },
         "layout": {
          "annotationdefaults": {
           "arrowcolor": "#2a3f5f",
           "arrowhead": 0,
           "arrowwidth": 1
          },
          "autotypenumbers": "strict",
          "coloraxis": {
           "colorbar": {
            "outlinewidth": 0,
            "ticks": ""
           }
          },
          "colorscale": {
           "diverging": [
            [
             0,
             "#8e0152"
            ],
            [
             0.1,
             "#c51b7d"
            ],
            [
             0.2,
             "#de77ae"
            ],
            [
             0.3,
             "#f1b6da"
            ],
            [
             0.4,
             "#fde0ef"
            ],
            [
             0.5,
             "#f7f7f7"
            ],
            [
             0.6,
             "#e6f5d0"
            ],
            [
             0.7,
             "#b8e186"
            ],
            [
             0.8,
             "#7fbc41"
            ],
            [
             0.9,
             "#4d9221"
            ],
            [
             1,
             "#276419"
            ]
           ],
           "sequential": [
            [
             0,
             "#0d0887"
            ],
            [
             0.1111111111111111,
             "#46039f"
            ],
            [
             0.2222222222222222,
             "#7201a8"
            ],
            [
             0.3333333333333333,
             "#9c179e"
            ],
            [
             0.4444444444444444,
             "#bd3786"
            ],
            [
             0.5555555555555556,
             "#d8576b"
            ],
            [
             0.6666666666666666,
             "#ed7953"
            ],
            [
             0.7777777777777778,
             "#fb9f3a"
            ],
            [
             0.8888888888888888,
             "#fdca26"
            ],
            [
             1,
             "#f0f921"
            ]
           ],
           "sequentialminus": [
            [
             0,
             "#0d0887"
            ],
            [
             0.1111111111111111,
             "#46039f"
            ],
            [
             0.2222222222222222,
             "#7201a8"
            ],
            [
             0.3333333333333333,
             "#9c179e"
            ],
            [
             0.4444444444444444,
             "#bd3786"
            ],
            [
             0.5555555555555556,
             "#d8576b"
            ],
            [
             0.6666666666666666,
             "#ed7953"
            ],
            [
             0.7777777777777778,
             "#fb9f3a"
            ],
            [
             0.8888888888888888,
             "#fdca26"
            ],
            [
             1,
             "#f0f921"
            ]
           ]
          },
          "colorway": [
           "#636efa",
           "#EF553B",
           "#00cc96",
           "#ab63fa",
           "#FFA15A",
           "#19d3f3",
           "#FF6692",
           "#B6E880",
           "#FF97FF",
           "#FECB52"
          ],
          "font": {
           "color": "#2a3f5f"
          },
          "geo": {
           "bgcolor": "white",
           "lakecolor": "white",
           "landcolor": "#E5ECF6",
           "showlakes": true,
           "showland": true,
           "subunitcolor": "white"
          },
          "hoverlabel": {
           "align": "left"
          },
          "hovermode": "closest",
          "mapbox": {
           "style": "light"
          },
          "paper_bgcolor": "white",
          "plot_bgcolor": "#E5ECF6",
          "polar": {
           "angularaxis": {
            "gridcolor": "white",
            "linecolor": "white",
            "ticks": ""
           },
           "bgcolor": "#E5ECF6",
           "radialaxis": {
            "gridcolor": "white",
            "linecolor": "white",
            "ticks": ""
           }
          },
          "scene": {
           "xaxis": {
            "backgroundcolor": "#E5ECF6",
            "gridcolor": "white",
            "gridwidth": 2,
            "linecolor": "white",
            "showbackground": true,
            "ticks": "",
            "zerolinecolor": "white"
           },
           "yaxis": {
            "backgroundcolor": "#E5ECF6",
            "gridcolor": "white",
            "gridwidth": 2,
            "linecolor": "white",
            "showbackground": true,
            "ticks": "",
            "zerolinecolor": "white"
           },
           "zaxis": {
            "backgroundcolor": "#E5ECF6",
            "gridcolor": "white",
            "gridwidth": 2,
            "linecolor": "white",
            "showbackground": true,
            "ticks": "",
            "zerolinecolor": "white"
           }
          },
          "shapedefaults": {
           "line": {
            "color": "#2a3f5f"
           }
          },
          "ternary": {
           "aaxis": {
            "gridcolor": "white",
            "linecolor": "white",
            "ticks": ""
           },
           "baxis": {
            "gridcolor": "white",
            "linecolor": "white",
            "ticks": ""
           },
           "bgcolor": "#E5ECF6",
           "caxis": {
            "gridcolor": "white",
            "linecolor": "white",
            "ticks": ""
           }
          },
          "title": {
           "x": 0.05
          },
          "xaxis": {
           "automargin": true,
           "gridcolor": "white",
           "linecolor": "white",
           "ticks": "",
           "title": {
            "standoff": 15
           },
           "zerolinecolor": "white",
           "zerolinewidth": 2
          },
          "yaxis": {
           "automargin": true,
           "gridcolor": "white",
           "linecolor": "white",
           "ticks": "",
           "title": {
            "standoff": 15
           },
           "zerolinecolor": "white",
           "zerolinewidth": 2
          }
         }
        },
        "title": {
         "text": "Top 10 brands most interacted with"
        },
        "xaxis": {
         "anchor": "y",
         "domain": [
          0,
          1
         ],
         "title": {
          "text": "brand"
         }
        },
        "yaxis": {
         "anchor": "x",
         "domain": [
          0,
          1
         ],
         "title": {
          "text": "sum of count"
         }
        }
       }
      }
     },
     "metadata": {}
    }
   ],
   "source": [
    "sdf_count_per_brand = sdf_raw.groupBy(\"brand\").count().orderBy(f.desc(\"count\"))\n",
    "\n",
    "px.histogram(sdf_count_per_brand.limit(10).toPandas(), x=\"brand\", y=\"count\", title=\"Top 10 brands most interacted with\")                               "
   ]
  },
  {
   "cell_type": "markdown",
   "metadata": {
    "pycharm": {
     "name": "#%% md\n"
    }
   },
   "source": [
    "### price"
   ]
  },
  {
   "cell_type": "code",
   "execution_count": 20,
   "metadata": {
    "collapsed": false,
    "jupyter": {
     "outputs_hidden": false
    },
    "pycharm": {
     "name": "#%%\n"
    }
   },
   "outputs": [
    {
     "output_type": "stream",
     "name": "stdout",
     "text": [
      "+-------+------------------+\n|summary|             price|\n+-------+------------------+\n|  count|         109950743|\n|   mean|291.63480233260026|\n| stddev| 356.6799709149105|\n|    min|               0.0|\n|    max|           2574.07|\n+-------+------------------+\n\n"
     ]
    }
   ],
   "source": [
    "sdf_raw.describe(\"price\").show()"
   ]
  },
  {
   "cell_type": "code",
   "execution_count": 39,
   "metadata": {
    "collapsed": false,
    "jupyter": {
     "outputs_hidden": false
    },
    "pycharm": {
     "name": "#%%\n"
    }
   },
   "outputs": [
    {
     "output_type": "display_data",
     "data": {
      "application/vnd.plotly.v1+json": {
       "config": {
        "plotlyServerURL": "https://plot.ly"
       },
       "data": [
        {
         "alignmentgroup": "True",
         "hovertemplate": "price=%{y}<extra></extra>",
         "legendgroup": "",
         "marker": {
          "color": "#636efa"
         },
         "name": "",
         "notched": false,
         "offsetgroup": "",
         "orientation": "v",
         "showlegend": false,
         "type": "box",
         "x0": " ",
         "xaxis": "x",
         "y": [
          119.69,
          398.72,
          127.33,
          684.44,
          218.51,
          157.28,
          257.38,
          29.86,
          70.53,
          7.07,
          97.34,
          69.47,
          51.46,
          36.01,
          40.16,
          928.18,
          47.77,
          61.75,
          733.61,
          252.77,
          22.8,
          928.38,
          183.27,
          40.93,
          280.05,
          48.35,
          203.84,
          511.13,
          36.78,
          177.1,
          169.36,
          38.07,
          211.92,
          41.19,
          5.77,
          49.68,
          105.54,
          242.63,
          33.44,
          397.54,
          118.41,
          91.12,
          7.34,
          458.28,
          165.26,
          123.53,
          50.19,
          244.28,
          98.51,
          861.28,
          1335.43,
          12.91,
          55.33,
          226.83,
          125.61,
          20.54,
          20.77,
          51.48,
          221.37,
          23.4,
          172.23,
          164.84,
          514.79,
          437.29,
          17.49,
          895.78,
          47.32,
          65.64,
          378.36,
          293.44,
          552.14,
          32.18,
          69.5,
          84.69,
          128.68,
          514.56,
          406.68,
          334.37,
          514.79,
          254.78,
          24.71,
          195.37,
          134.37,
          50.43,
          503.09,
          171.17,
          58.17,
          2239.44,
          151.99,
          257.15,
          207.21,
          566.3,
          751.63,
          72.07,
          83.91,
          114.03,
          133.83,
          43.73,
          489.07,
          289.33,
          432.42,
          732.07,
          437.33,
          1997.99,
          499.94,
          136.4,
          77.22,
          2311.49,
          293.65,
          54.06,
          8.73,
          257.15,
          65.38,
          140.1,
          946.73,
          386.08,
          180.18,
          314.08,
          51.22,
          147.15,
          76.45,
          50.45,
          298.16,
          2496.59,
          70.27,
          168.06,
          194.76,
          46.16,
          287.83,
          38.61,
          72.59,
          11.79,
          48.43,
          47.62,
          849.42,
          224.46,
          360.34,
          248.66,
          2342.15,
          700.81,
          591.78,
          385.85,
          30.43,
          712.87,
          900.92,
          34.75,
          151.14,
          110.03,
          23.14,
          277.23,
          198.18,
          195.87,
          182.76,
          88.29,
          1173.6,
          411.59,
          64.33,
          159.59,
          58.69,
          28.31,
          66.9,
          15.62,
          113.93,
          46.82,
          84.65,
          8.55,
          69.24,
          128.42,
          411.34,
          108.09,
          380.96,
          25.48,
          565.63,
          229.83,
          31.64,
          10.17,
          51.46,
          51.22,
          20.57,
          1.09,
          155.11,
          2312.8,
          7.59,
          1013.86,
          105.54,
          1375.64,
          172.22,
          46.08,
          22.68,
          463.15,
          390.98,
          72.72,
          949.47,
          32.66,
          167.02,
          360.09,
          56.37,
          61.1,
          411.83,
          88.81,
          229.09,
          67.84,
          54.03,
          166.23,
          1091.33,
          102.71,
          23.37,
          28.19,
          30.86,
          150.95,
          56.63,
          127.42,
          170.63,
          1209.55
         ],
         "y0": " ",
         "yaxis": "y"
        }
       ],
       "layout": {
        "boxmode": "group",
        "legend": {
         "tracegroupgap": 0
        },
        "template": {
         "data": {
          "bar": [
           {
            "error_x": {
             "color": "#2a3f5f"
            },
            "error_y": {
             "color": "#2a3f5f"
            },
            "marker": {
             "line": {
              "color": "#E5ECF6",
              "width": 0.5
             }
            },
            "type": "bar"
           }
          ],
          "barpolar": [
           {
            "marker": {
             "line": {
              "color": "#E5ECF6",
              "width": 0.5
             }
            },
            "type": "barpolar"
           }
          ],
          "carpet": [
           {
            "aaxis": {
             "endlinecolor": "#2a3f5f",
             "gridcolor": "white",
             "linecolor": "white",
             "minorgridcolor": "white",
             "startlinecolor": "#2a3f5f"
            },
            "baxis": {
             "endlinecolor": "#2a3f5f",
             "gridcolor": "white",
             "linecolor": "white",
             "minorgridcolor": "white",
             "startlinecolor": "#2a3f5f"
            },
            "type": "carpet"
           }
          ],
          "choropleth": [
           {
            "colorbar": {
             "outlinewidth": 0,
             "ticks": ""
            },
            "type": "choropleth"
           }
          ],
          "contour": [
           {
            "colorbar": {
             "outlinewidth": 0,
             "ticks": ""
            },
            "colorscale": [
             [
              0,
              "#0d0887"
             ],
             [
              0.1111111111111111,
              "#46039f"
             ],
             [
              0.2222222222222222,
              "#7201a8"
             ],
             [
              0.3333333333333333,
              "#9c179e"
             ],
             [
              0.4444444444444444,
              "#bd3786"
             ],
             [
              0.5555555555555556,
              "#d8576b"
             ],
             [
              0.6666666666666666,
              "#ed7953"
             ],
             [
              0.7777777777777778,
              "#fb9f3a"
             ],
             [
              0.8888888888888888,
              "#fdca26"
             ],
             [
              1,
              "#f0f921"
             ]
            ],
            "type": "contour"
           }
          ],
          "contourcarpet": [
           {
            "colorbar": {
             "outlinewidth": 0,
             "ticks": ""
            },
            "type": "contourcarpet"
           }
          ],
          "heatmap": [
           {
            "colorbar": {
             "outlinewidth": 0,
             "ticks": ""
            },
            "colorscale": [
             [
              0,
              "#0d0887"
             ],
             [
              0.1111111111111111,
              "#46039f"
             ],
             [
              0.2222222222222222,
              "#7201a8"
             ],
             [
              0.3333333333333333,
              "#9c179e"
             ],
             [
              0.4444444444444444,
              "#bd3786"
             ],
             [
              0.5555555555555556,
              "#d8576b"
             ],
             [
              0.6666666666666666,
              "#ed7953"
             ],
             [
              0.7777777777777778,
              "#fb9f3a"
             ],
             [
              0.8888888888888888,
              "#fdca26"
             ],
             [
              1,
              "#f0f921"
             ]
            ],
            "type": "heatmap"
           }
          ],
          "heatmapgl": [
           {
            "colorbar": {
             "outlinewidth": 0,
             "ticks": ""
            },
            "colorscale": [
             [
              0,
              "#0d0887"
             ],
             [
              0.1111111111111111,
              "#46039f"
             ],
             [
              0.2222222222222222,
              "#7201a8"
             ],
             [
              0.3333333333333333,
              "#9c179e"
             ],
             [
              0.4444444444444444,
              "#bd3786"
             ],
             [
              0.5555555555555556,
              "#d8576b"
             ],
             [
              0.6666666666666666,
              "#ed7953"
             ],
             [
              0.7777777777777778,
              "#fb9f3a"
             ],
             [
              0.8888888888888888,
              "#fdca26"
             ],
             [
              1,
              "#f0f921"
             ]
            ],
            "type": "heatmapgl"
           }
          ],
          "histogram": [
           {
            "marker": {
             "colorbar": {
              "outlinewidth": 0,
              "ticks": ""
             }
            },
            "type": "histogram"
           }
          ],
          "histogram2d": [
           {
            "colorbar": {
             "outlinewidth": 0,
             "ticks": ""
            },
            "colorscale": [
             [
              0,
              "#0d0887"
             ],
             [
              0.1111111111111111,
              "#46039f"
             ],
             [
              0.2222222222222222,
              "#7201a8"
             ],
             [
              0.3333333333333333,
              "#9c179e"
             ],
             [
              0.4444444444444444,
              "#bd3786"
             ],
             [
              0.5555555555555556,
              "#d8576b"
             ],
             [
              0.6666666666666666,
              "#ed7953"
             ],
             [
              0.7777777777777778,
              "#fb9f3a"
             ],
             [
              0.8888888888888888,
              "#fdca26"
             ],
             [
              1,
              "#f0f921"
             ]
            ],
            "type": "histogram2d"
           }
          ],
          "histogram2dcontour": [
           {
            "colorbar": {
             "outlinewidth": 0,
             "ticks": ""
            },
            "colorscale": [
             [
              0,
              "#0d0887"
             ],
             [
              0.1111111111111111,
              "#46039f"
             ],
             [
              0.2222222222222222,
              "#7201a8"
             ],
             [
              0.3333333333333333,
              "#9c179e"
             ],
             [
              0.4444444444444444,
              "#bd3786"
             ],
             [
              0.5555555555555556,
              "#d8576b"
             ],
             [
              0.6666666666666666,
              "#ed7953"
             ],
             [
              0.7777777777777778,
              "#fb9f3a"
             ],
             [
              0.8888888888888888,
              "#fdca26"
             ],
             [
              1,
              "#f0f921"
             ]
            ],
            "type": "histogram2dcontour"
           }
          ],
          "mesh3d": [
           {
            "colorbar": {
             "outlinewidth": 0,
             "ticks": ""
            },
            "type": "mesh3d"
           }
          ],
          "parcoords": [
           {
            "line": {
             "colorbar": {
              "outlinewidth": 0,
              "ticks": ""
             }
            },
            "type": "parcoords"
           }
          ],
          "pie": [
           {
            "automargin": true,
            "type": "pie"
           }
          ],
          "scatter": [
           {
            "marker": {
             "colorbar": {
              "outlinewidth": 0,
              "ticks": ""
             }
            },
            "type": "scatter"
           }
          ],
          "scatter3d": [
           {
            "line": {
             "colorbar": {
              "outlinewidth": 0,
              "ticks": ""
             }
            },
            "marker": {
             "colorbar": {
              "outlinewidth": 0,
              "ticks": ""
             }
            },
            "type": "scatter3d"
           }
          ],
          "scattercarpet": [
           {
            "marker": {
             "colorbar": {
              "outlinewidth": 0,
              "ticks": ""
             }
            },
            "type": "scattercarpet"
           }
          ],
          "scattergeo": [
           {
            "marker": {
             "colorbar": {
              "outlinewidth": 0,
              "ticks": ""
             }
            },
            "type": "scattergeo"
           }
          ],
          "scattergl": [
           {
            "marker": {
             "colorbar": {
              "outlinewidth": 0,
              "ticks": ""
             }
            },
            "type": "scattergl"
           }
          ],
          "scattermapbox": [
           {
            "marker": {
             "colorbar": {
              "outlinewidth": 0,
              "ticks": ""
             }
            },
            "type": "scattermapbox"
           }
          ],
          "scatterpolar": [
           {
            "marker": {
             "colorbar": {
              "outlinewidth": 0,
              "ticks": ""
             }
            },
            "type": "scatterpolar"
           }
          ],
          "scatterpolargl": [
           {
            "marker": {
             "colorbar": {
              "outlinewidth": 0,
              "ticks": ""
             }
            },
            "type": "scatterpolargl"
           }
          ],
          "scatterternary": [
           {
            "marker": {
             "colorbar": {
              "outlinewidth": 0,
              "ticks": ""
             }
            },
            "type": "scatterternary"
           }
          ],
          "surface": [
           {
            "colorbar": {
             "outlinewidth": 0,
             "ticks": ""
            },
            "colorscale": [
             [
              0,
              "#0d0887"
             ],
             [
              0.1111111111111111,
              "#46039f"
             ],
             [
              0.2222222222222222,
              "#7201a8"
             ],
             [
              0.3333333333333333,
              "#9c179e"
             ],
             [
              0.4444444444444444,
              "#bd3786"
             ],
             [
              0.5555555555555556,
              "#d8576b"
             ],
             [
              0.6666666666666666,
              "#ed7953"
             ],
             [
              0.7777777777777778,
              "#fb9f3a"
             ],
             [
              0.8888888888888888,
              "#fdca26"
             ],
             [
              1,
              "#f0f921"
             ]
            ],
            "type": "surface"
           }
          ],
          "table": [
           {
            "cells": {
             "fill": {
              "color": "#EBF0F8"
             },
             "line": {
              "color": "white"
             }
            },
            "header": {
             "fill": {
              "color": "#C8D4E3"
             },
             "line": {
              "color": "white"
             }
            },
            "type": "table"
           }
          ]
         },
         "layout": {
          "annotationdefaults": {
           "arrowcolor": "#2a3f5f",
           "arrowhead": 0,
           "arrowwidth": 1
          },
          "autotypenumbers": "strict",
          "coloraxis": {
           "colorbar": {
            "outlinewidth": 0,
            "ticks": ""
           }
          },
          "colorscale": {
           "diverging": [
            [
             0,
             "#8e0152"
            ],
            [
             0.1,
             "#c51b7d"
            ],
            [
             0.2,
             "#de77ae"
            ],
            [
             0.3,
             "#f1b6da"
            ],
            [
             0.4,
             "#fde0ef"
            ],
            [
             0.5,
             "#f7f7f7"
            ],
            [
             0.6,
             "#e6f5d0"
            ],
            [
             0.7,
             "#b8e186"
            ],
            [
             0.8,
             "#7fbc41"
            ],
            [
             0.9,
             "#4d9221"
            ],
            [
             1,
             "#276419"
            ]
           ],
           "sequential": [
            [
             0,
             "#0d0887"
            ],
            [
             0.1111111111111111,
             "#46039f"
            ],
            [
             0.2222222222222222,
             "#7201a8"
            ],
            [
             0.3333333333333333,
             "#9c179e"
            ],
            [
             0.4444444444444444,
             "#bd3786"
            ],
            [
             0.5555555555555556,
             "#d8576b"
            ],
            [
             0.6666666666666666,
             "#ed7953"
            ],
            [
             0.7777777777777778,
             "#fb9f3a"
            ],
            [
             0.8888888888888888,
             "#fdca26"
            ],
            [
             1,
             "#f0f921"
            ]
           ],
           "sequentialminus": [
            [
             0,
             "#0d0887"
            ],
            [
             0.1111111111111111,
             "#46039f"
            ],
            [
             0.2222222222222222,
             "#7201a8"
            ],
            [
             0.3333333333333333,
             "#9c179e"
            ],
            [
             0.4444444444444444,
             "#bd3786"
            ],
            [
             0.5555555555555556,
             "#d8576b"
            ],
            [
             0.6666666666666666,
             "#ed7953"
            ],
            [
             0.7777777777777778,
             "#fb9f3a"
            ],
            [
             0.8888888888888888,
             "#fdca26"
            ],
            [
             1,
             "#f0f921"
            ]
           ]
          },
          "colorway": [
           "#636efa",
           "#EF553B",
           "#00cc96",
           "#ab63fa",
           "#FFA15A",
           "#19d3f3",
           "#FF6692",
           "#B6E880",
           "#FF97FF",
           "#FECB52"
          ],
          "font": {
           "color": "#2a3f5f"
          },
          "geo": {
           "bgcolor": "white",
           "lakecolor": "white",
           "landcolor": "#E5ECF6",
           "showlakes": true,
           "showland": true,
           "subunitcolor": "white"
          },
          "hoverlabel": {
           "align": "left"
          },
          "hovermode": "closest",
          "mapbox": {
           "style": "light"
          },
          "paper_bgcolor": "white",
          "plot_bgcolor": "#E5ECF6",
          "polar": {
           "angularaxis": {
            "gridcolor": "white",
            "linecolor": "white",
            "ticks": ""
           },
           "bgcolor": "#E5ECF6",
           "radialaxis": {
            "gridcolor": "white",
            "linecolor": "white",
            "ticks": ""
           }
          },
          "scene": {
           "xaxis": {
            "backgroundcolor": "#E5ECF6",
            "gridcolor": "white",
            "gridwidth": 2,
            "linecolor": "white",
            "showbackground": true,
            "ticks": "",
            "zerolinecolor": "white"
           },
           "yaxis": {
            "backgroundcolor": "#E5ECF6",
            "gridcolor": "white",
            "gridwidth": 2,
            "linecolor": "white",
            "showbackground": true,
            "ticks": "",
            "zerolinecolor": "white"
           },
           "zaxis": {
            "backgroundcolor": "#E5ECF6",
            "gridcolor": "white",
            "gridwidth": 2,
            "linecolor": "white",
            "showbackground": true,
            "ticks": "",
            "zerolinecolor": "white"
           }
          },
          "shapedefaults": {
           "line": {
            "color": "#2a3f5f"
           }
          },
          "ternary": {
           "aaxis": {
            "gridcolor": "white",
            "linecolor": "white",
            "ticks": ""
           },
           "baxis": {
            "gridcolor": "white",
            "linecolor": "white",
            "ticks": ""
           },
           "bgcolor": "#E5ECF6",
           "caxis": {
            "gridcolor": "white",
            "linecolor": "white",
            "ticks": ""
           }
          },
          "title": {
           "x": 0.05
          },
          "xaxis": {
           "automargin": true,
           "gridcolor": "white",
           "linecolor": "white",
           "ticks": "",
           "title": {
            "standoff": 15
           },
           "zerolinecolor": "white",
           "zerolinewidth": 2
          },
          "yaxis": {
           "automargin": true,
           "gridcolor": "white",
           "linecolor": "white",
           "ticks": "",
           "title": {
            "standoff": 15
           },
           "zerolinecolor": "white",
           "zerolinewidth": 2
          }
         }
        },
        "title": {
         "text": "Prices for every product"
        },
        "xaxis": {
         "anchor": "y",
         "domain": [
          0,
          1
         ]
        },
        "yaxis": {
         "anchor": "x",
         "domain": [
          0,
          1
         ],
         "title": {
          "text": "price"
         }
        }
       }
      }
     },
     "metadata": {}
    }
   ],
   "source": [
    "sdf_avg_prices = sdf_raw.select(\"product_id\", \"price\").distinct()\n",
    "px.box(sdf_avg_prices.toPandas(), y=\"price\", title=\"Prices for every product\")\n"
   ]
  },
  {
   "cell_type": "markdown",
   "metadata": {
    "pycharm": {
     "name": "#%% md\n"
    }
   },
   "source": [
    "### user_id"
   ]
  },
  {
   "cell_type": "code",
   "execution_count": 22,
   "metadata": {
    "collapsed": false,
    "jupyter": {
     "outputs_hidden": false
    },
    "pycharm": {
     "name": "#%%\n"
    }
   },
   "outputs": [
    {
     "output_type": "stream",
     "name": "stdout",
     "text": [
      "+---------+\n|  user_id|\n+---------+\n|541312140|\n|554748717|\n|519107250|\n|550050854|\n|535871217|\n+---------+\nonly showing top 5 rows\n\n"
     ]
    }
   ],
   "source": [
    "sdf_raw.select(\"user_id\").show(5)"
   ]
  },
  {
   "cell_type": "code",
   "execution_count": 23,
   "outputs": [],
   "source": [
    "# creating spark dataframe for unique number of users each month\n",
    "\n",
    "sdf_user_id_by_month = sdf_raw.select(\"user_id\", \"month\").distinct().groupBy(\"month\").count()"
   ],
   "metadata": {
    "collapsed": false,
    "pycharm": {
     "name": "#%%\n"
    }
   }
  },
  {
   "cell_type": "code",
   "execution_count": 24,
   "outputs": [
    {
     "output_type": "display_data",
     "data": {
      "application/vnd.plotly.v1+json": {
       "config": {
        "plotlyServerURL": "https://plot.ly"
       },
       "data": [
        {
         "alignmentgroup": "True",
         "hovertemplate": "month=%{x}<br>count=%{y}<extra></extra>",
         "legendgroup": "",
         "marker": {
          "color": "#636efa"
         },
         "name": "",
         "offsetgroup": "",
         "orientation": "v",
         "showlegend": false,
         "textposition": "auto",
         "type": "bar",
         "x": [
          "10",
          "11"
         ],
         "xaxis": "x",
         "y": [
          3021907,
          3696011
         ],
         "yaxis": "y"
        }
       ],
       "layout": {
        "barmode": "relative",
        "legend": {
         "tracegroupgap": 0
        },
        "template": {
         "data": {
          "bar": [
           {
            "error_x": {
             "color": "#2a3f5f"
            },
            "error_y": {
             "color": "#2a3f5f"
            },
            "marker": {
             "line": {
              "color": "#E5ECF6",
              "width": 0.5
             }
            },
            "type": "bar"
           }
          ],
          "barpolar": [
           {
            "marker": {
             "line": {
              "color": "#E5ECF6",
              "width": 0.5
             }
            },
            "type": "barpolar"
           }
          ],
          "carpet": [
           {
            "aaxis": {
             "endlinecolor": "#2a3f5f",
             "gridcolor": "white",
             "linecolor": "white",
             "minorgridcolor": "white",
             "startlinecolor": "#2a3f5f"
            },
            "baxis": {
             "endlinecolor": "#2a3f5f",
             "gridcolor": "white",
             "linecolor": "white",
             "minorgridcolor": "white",
             "startlinecolor": "#2a3f5f"
            },
            "type": "carpet"
           }
          ],
          "choropleth": [
           {
            "colorbar": {
             "outlinewidth": 0,
             "ticks": ""
            },
            "type": "choropleth"
           }
          ],
          "contour": [
           {
            "colorbar": {
             "outlinewidth": 0,
             "ticks": ""
            },
            "colorscale": [
             [
              0,
              "#0d0887"
             ],
             [
              0.1111111111111111,
              "#46039f"
             ],
             [
              0.2222222222222222,
              "#7201a8"
             ],
             [
              0.3333333333333333,
              "#9c179e"
             ],
             [
              0.4444444444444444,
              "#bd3786"
             ],
             [
              0.5555555555555556,
              "#d8576b"
             ],
             [
              0.6666666666666666,
              "#ed7953"
             ],
             [
              0.7777777777777778,
              "#fb9f3a"
             ],
             [
              0.8888888888888888,
              "#fdca26"
             ],
             [
              1,
              "#f0f921"
             ]
            ],
            "type": "contour"
           }
          ],
          "contourcarpet": [
           {
            "colorbar": {
             "outlinewidth": 0,
             "ticks": ""
            },
            "type": "contourcarpet"
           }
          ],
          "heatmap": [
           {
            "colorbar": {
             "outlinewidth": 0,
             "ticks": ""
            },
            "colorscale": [
             [
              0,
              "#0d0887"
             ],
             [
              0.1111111111111111,
              "#46039f"
             ],
             [
              0.2222222222222222,
              "#7201a8"
             ],
             [
              0.3333333333333333,
              "#9c179e"
             ],
             [
              0.4444444444444444,
              "#bd3786"
             ],
             [
              0.5555555555555556,
              "#d8576b"
             ],
             [
              0.6666666666666666,
              "#ed7953"
             ],
             [
              0.7777777777777778,
              "#fb9f3a"
             ],
             [
              0.8888888888888888,
              "#fdca26"
             ],
             [
              1,
              "#f0f921"
             ]
            ],
            "type": "heatmap"
           }
          ],
          "heatmapgl": [
           {
            "colorbar": {
             "outlinewidth": 0,
             "ticks": ""
            },
            "colorscale": [
             [
              0,
              "#0d0887"
             ],
             [
              0.1111111111111111,
              "#46039f"
             ],
             [
              0.2222222222222222,
              "#7201a8"
             ],
             [
              0.3333333333333333,
              "#9c179e"
             ],
             [
              0.4444444444444444,
              "#bd3786"
             ],
             [
              0.5555555555555556,
              "#d8576b"
             ],
             [
              0.6666666666666666,
              "#ed7953"
             ],
             [
              0.7777777777777778,
              "#fb9f3a"
             ],
             [
              0.8888888888888888,
              "#fdca26"
             ],
             [
              1,
              "#f0f921"
             ]
            ],
            "type": "heatmapgl"
           }
          ],
          "histogram": [
           {
            "marker": {
             "colorbar": {
              "outlinewidth": 0,
              "ticks": ""
             }
            },
            "type": "histogram"
           }
          ],
          "histogram2d": [
           {
            "colorbar": {
             "outlinewidth": 0,
             "ticks": ""
            },
            "colorscale": [
             [
              0,
              "#0d0887"
             ],
             [
              0.1111111111111111,
              "#46039f"
             ],
             [
              0.2222222222222222,
              "#7201a8"
             ],
             [
              0.3333333333333333,
              "#9c179e"
             ],
             [
              0.4444444444444444,
              "#bd3786"
             ],
             [
              0.5555555555555556,
              "#d8576b"
             ],
             [
              0.6666666666666666,
              "#ed7953"
             ],
             [
              0.7777777777777778,
              "#fb9f3a"
             ],
             [
              0.8888888888888888,
              "#fdca26"
             ],
             [
              1,
              "#f0f921"
             ]
            ],
            "type": "histogram2d"
           }
          ],
          "histogram2dcontour": [
           {
            "colorbar": {
             "outlinewidth": 0,
             "ticks": ""
            },
            "colorscale": [
             [
              0,
              "#0d0887"
             ],
             [
              0.1111111111111111,
              "#46039f"
             ],
             [
              0.2222222222222222,
              "#7201a8"
             ],
             [
              0.3333333333333333,
              "#9c179e"
             ],
             [
              0.4444444444444444,
              "#bd3786"
             ],
             [
              0.5555555555555556,
              "#d8576b"
             ],
             [
              0.6666666666666666,
              "#ed7953"
             ],
             [
              0.7777777777777778,
              "#fb9f3a"
             ],
             [
              0.8888888888888888,
              "#fdca26"
             ],
             [
              1,
              "#f0f921"
             ]
            ],
            "type": "histogram2dcontour"
           }
          ],
          "mesh3d": [
           {
            "colorbar": {
             "outlinewidth": 0,
             "ticks": ""
            },
            "type": "mesh3d"
           }
          ],
          "parcoords": [
           {
            "line": {
             "colorbar": {
              "outlinewidth": 0,
              "ticks": ""
             }
            },
            "type": "parcoords"
           }
          ],
          "pie": [
           {
            "automargin": true,
            "type": "pie"
           }
          ],
          "scatter": [
           {
            "marker": {
             "colorbar": {
              "outlinewidth": 0,
              "ticks": ""
             }
            },
            "type": "scatter"
           }
          ],
          "scatter3d": [
           {
            "line": {
             "colorbar": {
              "outlinewidth": 0,
              "ticks": ""
             }
            },
            "marker": {
             "colorbar": {
              "outlinewidth": 0,
              "ticks": ""
             }
            },
            "type": "scatter3d"
           }
          ],
          "scattercarpet": [
           {
            "marker": {
             "colorbar": {
              "outlinewidth": 0,
              "ticks": ""
             }
            },
            "type": "scattercarpet"
           }
          ],
          "scattergeo": [
           {
            "marker": {
             "colorbar": {
              "outlinewidth": 0,
              "ticks": ""
             }
            },
            "type": "scattergeo"
           }
          ],
          "scattergl": [
           {
            "marker": {
             "colorbar": {
              "outlinewidth": 0,
              "ticks": ""
             }
            },
            "type": "scattergl"
           }
          ],
          "scattermapbox": [
           {
            "marker": {
             "colorbar": {
              "outlinewidth": 0,
              "ticks": ""
             }
            },
            "type": "scattermapbox"
           }
          ],
          "scatterpolar": [
           {
            "marker": {
             "colorbar": {
              "outlinewidth": 0,
              "ticks": ""
             }
            },
            "type": "scatterpolar"
           }
          ],
          "scatterpolargl": [
           {
            "marker": {
             "colorbar": {
              "outlinewidth": 0,
              "ticks": ""
             }
            },
            "type": "scatterpolargl"
           }
          ],
          "scatterternary": [
           {
            "marker": {
             "colorbar": {
              "outlinewidth": 0,
              "ticks": ""
             }
            },
            "type": "scatterternary"
           }
          ],
          "surface": [
           {
            "colorbar": {
             "outlinewidth": 0,
             "ticks": ""
            },
            "colorscale": [
             [
              0,
              "#0d0887"
             ],
             [
              0.1111111111111111,
              "#46039f"
             ],
             [
              0.2222222222222222,
              "#7201a8"
             ],
             [
              0.3333333333333333,
              "#9c179e"
             ],
             [
              0.4444444444444444,
              "#bd3786"
             ],
             [
              0.5555555555555556,
              "#d8576b"
             ],
             [
              0.6666666666666666,
              "#ed7953"
             ],
             [
              0.7777777777777778,
              "#fb9f3a"
             ],
             [
              0.8888888888888888,
              "#fdca26"
             ],
             [
              1,
              "#f0f921"
             ]
            ],
            "type": "surface"
           }
          ],
          "table": [
           {
            "cells": {
             "fill": {
              "color": "#EBF0F8"
             },
             "line": {
              "color": "white"
             }
            },
            "header": {
             "fill": {
              "color": "#C8D4E3"
             },
             "line": {
              "color": "white"
             }
            },
            "type": "table"
           }
          ]
         },
         "layout": {
          "annotationdefaults": {
           "arrowcolor": "#2a3f5f",
           "arrowhead": 0,
           "arrowwidth": 1
          },
          "autotypenumbers": "strict",
          "coloraxis": {
           "colorbar": {
            "outlinewidth": 0,
            "ticks": ""
           }
          },
          "colorscale": {
           "diverging": [
            [
             0,
             "#8e0152"
            ],
            [
             0.1,
             "#c51b7d"
            ],
            [
             0.2,
             "#de77ae"
            ],
            [
             0.3,
             "#f1b6da"
            ],
            [
             0.4,
             "#fde0ef"
            ],
            [
             0.5,
             "#f7f7f7"
            ],
            [
             0.6,
             "#e6f5d0"
            ],
            [
             0.7,
             "#b8e186"
            ],
            [
             0.8,
             "#7fbc41"
            ],
            [
             0.9,
             "#4d9221"
            ],
            [
             1,
             "#276419"
            ]
           ],
           "sequential": [
            [
             0,
             "#0d0887"
            ],
            [
             0.1111111111111111,
             "#46039f"
            ],
            [
             0.2222222222222222,
             "#7201a8"
            ],
            [
             0.3333333333333333,
             "#9c179e"
            ],
            [
             0.4444444444444444,
             "#bd3786"
            ],
            [
             0.5555555555555556,
             "#d8576b"
            ],
            [
             0.6666666666666666,
             "#ed7953"
            ],
            [
             0.7777777777777778,
             "#fb9f3a"
            ],
            [
             0.8888888888888888,
             "#fdca26"
            ],
            [
             1,
             "#f0f921"
            ]
           ],
           "sequentialminus": [
            [
             0,
             "#0d0887"
            ],
            [
             0.1111111111111111,
             "#46039f"
            ],
            [
             0.2222222222222222,
             "#7201a8"
            ],
            [
             0.3333333333333333,
             "#9c179e"
            ],
            [
             0.4444444444444444,
             "#bd3786"
            ],
            [
             0.5555555555555556,
             "#d8576b"
            ],
            [
             0.6666666666666666,
             "#ed7953"
            ],
            [
             0.7777777777777778,
             "#fb9f3a"
            ],
            [
             0.8888888888888888,
             "#fdca26"
            ],
            [
             1,
             "#f0f921"
            ]
           ]
          },
          "colorway": [
           "#636efa",
           "#EF553B",
           "#00cc96",
           "#ab63fa",
           "#FFA15A",
           "#19d3f3",
           "#FF6692",
           "#B6E880",
           "#FF97FF",
           "#FECB52"
          ],
          "font": {
           "color": "#2a3f5f"
          },
          "geo": {
           "bgcolor": "white",
           "lakecolor": "white",
           "landcolor": "#E5ECF6",
           "showlakes": true,
           "showland": true,
           "subunitcolor": "white"
          },
          "hoverlabel": {
           "align": "left"
          },
          "hovermode": "closest",
          "mapbox": {
           "style": "light"
          },
          "paper_bgcolor": "white",
          "plot_bgcolor": "#E5ECF6",
          "polar": {
           "angularaxis": {
            "gridcolor": "white",
            "linecolor": "white",
            "ticks": ""
           },
           "bgcolor": "#E5ECF6",
           "radialaxis": {
            "gridcolor": "white",
            "linecolor": "white",
            "ticks": ""
           }
          },
          "scene": {
           "xaxis": {
            "backgroundcolor": "#E5ECF6",
            "gridcolor": "white",
            "gridwidth": 2,
            "linecolor": "white",
            "showbackground": true,
            "ticks": "",
            "zerolinecolor": "white"
           },
           "yaxis": {
            "backgroundcolor": "#E5ECF6",
            "gridcolor": "white",
            "gridwidth": 2,
            "linecolor": "white",
            "showbackground": true,
            "ticks": "",
            "zerolinecolor": "white"
           },
           "zaxis": {
            "backgroundcolor": "#E5ECF6",
            "gridcolor": "white",
            "gridwidth": 2,
            "linecolor": "white",
            "showbackground": true,
            "ticks": "",
            "zerolinecolor": "white"
           }
          },
          "shapedefaults": {
           "line": {
            "color": "#2a3f5f"
           }
          },
          "ternary": {
           "aaxis": {
            "gridcolor": "white",
            "linecolor": "white",
            "ticks": ""
           },
           "baxis": {
            "gridcolor": "white",
            "linecolor": "white",
            "ticks": ""
           },
           "bgcolor": "#E5ECF6",
           "caxis": {
            "gridcolor": "white",
            "linecolor": "white",
            "ticks": ""
           }
          },
          "title": {
           "x": 0.05
          },
          "xaxis": {
           "automargin": true,
           "gridcolor": "white",
           "linecolor": "white",
           "ticks": "",
           "title": {
            "standoff": 15
           },
           "zerolinecolor": "white",
           "zerolinewidth": 2
          },
          "yaxis": {
           "automargin": true,
           "gridcolor": "white",
           "linecolor": "white",
           "ticks": "",
           "title": {
            "standoff": 15
           },
           "zerolinecolor": "white",
           "zerolinewidth": 2
          }
         }
        },
        "title": {
         "text": "Unique users each month"
        },
        "xaxis": {
         "anchor": "y",
         "domain": [
          0,
          1
         ],
         "title": {
          "text": "month"
         }
        },
        "yaxis": {
         "anchor": "x",
         "domain": [
          0,
          1
         ],
         "title": {
          "text": "count"
         }
        }
       }
      }
     },
     "metadata": {}
    }
   ],
   "source": [
    "# Data Prep for user graph\n",
    "\n",
    "pdf_usr_id_by_mnth = sdf_user_id_by_month.toPandas()\n",
    "pdf_usr_id_by_mnth = pdf_usr_id_by_mnth[pdf_usr_id_by_mnth.month != 12]\n",
    "pdf_usr_id_by_mnth.month = pdf_usr_id_by_mnth.month.astype(str)\n",
    "px.bar(pdf_usr_id_by_mnth, x=\"month\", y=\"count\", title=\"Unique users each month\")"
   ],
   "metadata": {
    "collapsed": false,
    "pycharm": {
     "name": "#%%\n"
    }
   }
  },
  {
   "cell_type": "markdown",
   "source": [
    "In October 3.02 million people visited the site and in November the total user count grew to 3.696 million. Which nets\n",
    "a difference of around 700,000 users."
   ],
   "metadata": {
    "collapsed": false
   }
  },
  {
   "cell_type": "code",
   "execution_count": 25,
   "outputs": [
    {
     "output_type": "stream",
     "name": "stdout",
     "text": [
      "Amount of users that visited the site in both months: 1400979\n"
     ]
    }
   ],
   "source": [
    "sdf_user_id_both_months = sdf_raw.select(\"user_id\", \"month\").distinct().groupby(\"user_id\").sum()\n",
    "\n",
    "cnt = sdf_user_id_both_months.where(sdf_user_id_both_months[\"sum(month)\"] == 21).count()\n",
    "print(\"Amount of users that visited the site in both months:\", cnt)"
   ],
   "metadata": {
    "collapsed": false,
    "pycharm": {
     "name": "#%%\n"
    }
   }
  },
  {
   "cell_type": "markdown",
   "source": [
    "Not all users in October and November are to be expected to have only visited in the respective month.\n",
    "A total of 1,400,979 users visited the page in both October and November."
   ],
   "metadata": {
    "collapsed": false
   }
  },
  {
   "cell_type": "markdown",
   "metadata": {
    "pycharm": {
     "name": "#%% md\n"
    }
   },
   "source": [
    "### user_session"
   ]
  },
  {
   "cell_type": "code",
   "execution_count": 26,
   "metadata": {
    "collapsed": false,
    "jupyter": {
     "outputs_hidden": false
    },
    "pycharm": {
     "name": "#%%\n"
    }
   },
   "outputs": [
    {
     "output_type": "stream",
     "name": "stdout",
     "text": [
      "+-------+--------------------+-----------------+\n|summary|        user_session|            count|\n+-------+--------------------+-----------------+\n|  count|            23016650|         23016651|\n|   mean|                null|4.777008740324559|\n| stddev|                null|7.453234854645848|\n|    min|00000042-3e3f-42f...|                1|\n|    max|fffffde2-4522-4b4...|             4128|\n+-------+--------------------+-----------------+\n\n"
     ]
    }
   ],
   "source": [
    "# avg actions per session\n",
    "sdf_cnt_action_per_session = sdf_raw.groupby(\"user_session\").count()\n",
    "sdf_cnt_action_per_session.describe().show()"
   ]
  },
  {
   "source": [
    "## Feature Enginnering"
   ],
   "cell_type": "markdown",
   "metadata": {}
  },
  {
   "source": [
    "### category_class and category_sub_class\n",
    "The category_code consists of two or three parts in general, which are separeted by a dot. A possible category_code is for example: appliances.kitchen.washer or electronics.smartphone. Because of that the category code can be splited into to the categories: category_class, category_sub_class and category_sub_sub_class.\n",
    "\n",
    "The category_class is representing the fist part of the category_code. It can be used to summarize many category_codes into an overarching category_class. As you can see in the overview, there are ... unique category_classes."
   ],
   "cell_type": "markdown",
   "metadata": {}
  },
  {
   "cell_type": "code",
   "execution_count": 28,
   "metadata": {},
   "outputs": [
    {
     "output_type": "stream",
     "name": "stdout",
     "text": [
      "+--------------+------------------+----------------------+-------+\n|category_class|category_sub_class|category_sub_sub_class|  count|\n+--------------+------------------+----------------------+-------+\n|       apparel|            jacket|           not defined|    437|\n|       apparel|             jeans|           not defined| 109707|\n|    appliances|           kitchen|                 fryer|    108|\n|          auto|       accessories|            compressor| 148774|\n|   electronics|            tablet|           not defined| 809232|\n|    appliances|     ironing_board|           not defined|  99103|\n|       apparel|             shoes|           not defined|2650791|\n|  construction|             tools|                 drill| 677808|\n|       apparel|             shoes|               slipons|  11298|\n|       apparel|             shoes|           espadrilles|   2811|\n|    appliances|           kitchen|                kettle| 464711|\n|     furniture|         universal|                 light|  26047|\n|   electronics|             audio|             headphone|2917065|\n|    appliances|           kitchen|                   hob| 293177|\n|  country_yard|         furniture|                 bench|    192|\n|     computers|       peripherals|                 mouse| 187887|\n|       apparel|             shoes|               sandals|  24715|\n|     computers|       peripherals|                camera|  12342|\n|    appliances|           kitchen|               blender| 536159|\n|     computers|        components|          power_supply|  54151|\n+--------------+------------------+----------------------+-------+\nonly showing top 20 rows\n\n"
     ]
    }
   ],
   "source": [
    "sdf_agg_classes = sdf_raw.groupBy(\"category_class\", \"category_sub_class\", \"category_sub_sub_class\").count().na.fill(value=\"not defined\")\n",
    "sdf_agg_classes = sdf_agg_classes.where(sdf_agg_classes[\"category_class\"] != \"not defined\")\n",
    "sdf_agg_classes.show()"
   ]
  },
  {
   "cell_type": "code",
   "execution_count": 29,
   "metadata": {},
   "outputs": [
    {
     "output_type": "display_data",
     "data": {
      "application/vnd.plotly.v1+json": {
       "config": {
        "plotlyServerURL": "https://plot.ly"
       },
       "data": [
        {
         "branchvalues": "total",
         "domain": {
          "x": [
           0,
           1
          ],
          "y": [
           0,
           1
          ]
         },
         "hovertemplate": "labels=%{label}<br>count=%{value}<br>parent=%{parent}<br>id=%{id}<extra></extra>",
         "ids": [
          "electronics/audio/acoustic",
          "appliances/environment/air_conditioner",
          "appliances/environment/air_heater",
          "auto/accessories/alarm",
          "auto/accessories/anti_freeze",
          "apparel/shoes/ballet_shoes",
          "furniture/bathroom/bath",
          "furniture/bedroom/bed",
          "country_yard/furniture/bench",
          "furniture/bedroom/blanket",
          "appliances/kitchen/blender",
          "furniture/living_room/cabinet",
          "computers/peripherals/camera",
          "furniture/kitchen/chair",
          "furniture/living_room/chair",
          "appliances/kitchen/coffee_grinder",
          "appliances/kitchen/coffee_machine",
          "auto/accessories/compressor",
          "computers/components/cooler",
          "computers/components/cpu",
          "kids/fmcg/diapers",
          "appliances/kitchen/dishwasher",
          "construction/tools/drill",
          "apparel/shoes/espadrilles",
          "appliances/environment/fan",
          "construction/components/faucet",
          "appliances/kitchen/fryer",
          "construction/tools/generator",
          "appliances/kitchen/grill",
          "appliances/personal/hair_cutter",
          "country_yard/furniture/hammok",
          "computers/components/hdd",
          "electronics/audio/headphone",
          "appliances/kitchen/hob",
          "appliances/kitchen/hood",
          "appliances/kitchen/juicer",
          "apparel/shoes/keds",
          "appliances/kitchen/kettle",
          "computers/peripherals/keyboard",
          "construction/tools/light",
          "furniture/universal/light",
          "appliances/personal/massager",
          "appliances/kitchen/meat_grinder",
          "computers/components/memory",
          "electronics/audio/microphone",
          "appliances/kitchen/microwave",
          "appliances/kitchen/mixer",
          "apparel/shoes/moccasins",
          "computers/peripherals/monitor",
          "computers/components/motherboard",
          "computers/peripherals/mouse",
          "electronics/audio/music_tools",
          "accessories/bag/not defined",
          "apparel/belt/not defined",
          "sport/bicycle/not defined",
          "kids/carriage/not defined",
          "stationery/cartrige/not defined",
          "electronics/clocks/not defined",
          "apparel/costume/not defined",
          "country_yard/cultivator/not defined",
          "computers/desktop/not defined",
          "kids/dolls/not defined",
          "apparel/dress/not defined",
          "computers/ebooks/not defined",
          "apparel/glove/not defined",
          "appliances/iron/not defined",
          "appliances/ironing_board/not defined",
          "apparel/jacket/not defined",
          "apparel/jeans/not defined",
          "apparel/jumper/not defined",
          "country_yard/lawn_mower/not defined",
          "computers/notebook/not defined",
          "apparel/scarf/not defined",
          "appliances/sewing_machine/not defined",
          "apparel/shirt/not defined",
          "apparel/shoes/not defined",
          "apparel/shorts/not defined",
          "kids/skates/not defined",
          "sport/ski/not defined",
          "apparel/skirt/not defined",
          "electronics/smartphone/not defined",
          "sport/snowboard/not defined",
          "apparel/sock/not defined",
          "kids/swing/not defined",
          "electronics/tablet/not defined",
          "electronics/telephone/not defined",
          "sport/tennis/not defined",
          "kids/toys/not defined",
          "sport/trainer/not defined",
          "apparel/trousers/not defined",
          "apparel/tshirt/not defined",
          "accessories/umbrella/not defined",
          "apparel/underwear/not defined",
          "accessories/wallet/not defined",
          "appliances/kitchen/oven",
          "construction/tools/painting",
          "auto/accessories/parktronic",
          "electronics/camera/photo",
          "furniture/bedroom/pillow",
          "auto/accessories/player",
          "computers/components/power_supply",
          "computers/peripherals/printer",
          "electronics/video/projector",
          "construction/tools/pump",
          "auto/accessories/radar",
          "appliances/kitchen/refrigerators",
          "apparel/shoes/sandals",
          "construction/tools/saw",
          "appliances/personal/scales",
          "construction/tools/screw",
          "apparel/shoes/slipons",
          "furniture/living_room/sofa",
          "construction/tools/soldering",
          "appliances/kitchen/steam_cooker",
          "apparel/shoes/step_ins",
          "electronics/audio/subwoofer",
          "furniture/kitchen/table",
          "furniture/bathroom/toilet",
          "medicine/tools/tonometer",
          "appliances/kitchen/toster",
          "electronics/video/tv",
          "appliances/environment/vacuum",
          "electronics/camera/video",
          "computers/components/videocards",
          "auto/accessories/videoregister",
          "appliances/kitchen/washer",
          "appliances/environment/water_heater",
          "construction/tools/welding",
          "auto/accessories/winch",
          "auto/accessories",
          "electronics/audio",
          "accessories/bag",
          "furniture/bathroom",
          "furniture/bedroom",
          "apparel/belt",
          "sport/bicycle",
          "electronics/camera",
          "kids/carriage",
          "stationery/cartrige",
          "electronics/clocks",
          "computers/components",
          "construction/components",
          "apparel/costume",
          "country_yard/cultivator",
          "computers/desktop",
          "kids/dolls",
          "apparel/dress",
          "computers/ebooks",
          "appliances/environment",
          "kids/fmcg",
          "country_yard/furniture",
          "apparel/glove",
          "appliances/iron",
          "appliances/ironing_board",
          "apparel/jacket",
          "apparel/jeans",
          "apparel/jumper",
          "appliances/kitchen",
          "furniture/kitchen",
          "country_yard/lawn_mower",
          "furniture/living_room",
          "computers/notebook",
          "computers/peripherals",
          "appliances/personal",
          "apparel/scarf",
          "appliances/sewing_machine",
          "apparel/shirt",
          "apparel/shoes",
          "apparel/shorts",
          "kids/skates",
          "sport/ski",
          "apparel/skirt",
          "electronics/smartphone",
          "sport/snowboard",
          "apparel/sock",
          "kids/swing",
          "electronics/tablet",
          "electronics/telephone",
          "sport/tennis",
          "construction/tools",
          "medicine/tools",
          "kids/toys",
          "sport/trainer",
          "apparel/trousers",
          "apparel/tshirt",
          "accessories/umbrella",
          "apparel/underwear",
          "furniture/universal",
          "electronics/video",
          "accessories/wallet",
          "accessories",
          "apparel",
          "appliances",
          "auto",
          "computers",
          "construction",
          "country_yard",
          "electronics",
          "furniture",
          "kids",
          "medicine",
          "sport",
          "stationery"
         ],
         "labels": [
          "acoustic",
          "air_conditioner",
          "air_heater",
          "alarm",
          "anti_freeze",
          "ballet_shoes",
          "bath",
          "bed",
          "bench",
          "blanket",
          "blender",
          "cabinet",
          "camera",
          "chair",
          "chair",
          "coffee_grinder",
          "coffee_machine",
          "compressor",
          "cooler",
          "cpu",
          "diapers",
          "dishwasher",
          "drill",
          "espadrilles",
          "fan",
          "faucet",
          "fryer",
          "generator",
          "grill",
          "hair_cutter",
          "hammok",
          "hdd",
          "headphone",
          "hob",
          "hood",
          "juicer",
          "keds",
          "kettle",
          "keyboard",
          "light",
          "light",
          "massager",
          "meat_grinder",
          "memory",
          "microphone",
          "microwave",
          "mixer",
          "moccasins",
          "monitor",
          "motherboard",
          "mouse",
          "music_tools",
          "not defined",
          "not defined",
          "not defined",
          "not defined",
          "not defined",
          "not defined",
          "not defined",
          "not defined",
          "not defined",
          "not defined",
          "not defined",
          "not defined",
          "not defined",
          "not defined",
          "not defined",
          "not defined",
          "not defined",
          "not defined",
          "not defined",
          "not defined",
          "not defined",
          "not defined",
          "not defined",
          "not defined",
          "not defined",
          "not defined",
          "not defined",
          "not defined",
          "not defined",
          "not defined",
          "not defined",
          "not defined",
          "not defined",
          "not defined",
          "not defined",
          "not defined",
          "not defined",
          "not defined",
          "not defined",
          "not defined",
          "not defined",
          "not defined",
          "oven",
          "painting",
          "parktronic",
          "photo",
          "pillow",
          "player",
          "power_supply",
          "printer",
          "projector",
          "pump",
          "radar",
          "refrigerators",
          "sandals",
          "saw",
          "scales",
          "screw",
          "slipons",
          "sofa",
          "soldering",
          "steam_cooker",
          "step_ins",
          "subwoofer",
          "table",
          "toilet",
          "tonometer",
          "toster",
          "tv",
          "vacuum",
          "video",
          "videocards",
          "videoregister",
          "washer",
          "water_heater",
          "welding",
          "winch",
          "accessories",
          "audio",
          "bag",
          "bathroom",
          "bedroom",
          "belt",
          "bicycle",
          "camera",
          "carriage",
          "cartrige",
          "clocks",
          "components",
          "components",
          "costume",
          "cultivator",
          "desktop",
          "dolls",
          "dress",
          "ebooks",
          "environment",
          "fmcg",
          "furniture",
          "glove",
          "iron",
          "ironing_board",
          "jacket",
          "jeans",
          "jumper",
          "kitchen",
          "kitchen",
          "lawn_mower",
          "living_room",
          "notebook",
          "peripherals",
          "personal",
          "scarf",
          "sewing_machine",
          "shirt",
          "shoes",
          "shorts",
          "skates",
          "ski",
          "skirt",
          "smartphone",
          "snowboard",
          "sock",
          "swing",
          "tablet",
          "telephone",
          "tennis",
          "tools",
          "tools",
          "toys",
          "trainer",
          "trousers",
          "tshirt",
          "umbrella",
          "underwear",
          "universal",
          "video",
          "wallet",
          "accessories",
          "apparel",
          "appliances",
          "auto",
          "computers",
          "construction",
          "country_yard",
          "electronics",
          "furniture",
          "kids",
          "medicine",
          "sport",
          "stationery"
         ],
         "name": "",
         "parents": [
          "electronics/audio",
          "appliances/environment",
          "appliances/environment",
          "auto/accessories",
          "auto/accessories",
          "apparel/shoes",
          "furniture/bathroom",
          "furniture/bedroom",
          "country_yard/furniture",
          "furniture/bedroom",
          "appliances/kitchen",
          "furniture/living_room",
          "computers/peripherals",
          "furniture/kitchen",
          "furniture/living_room",
          "appliances/kitchen",
          "appliances/kitchen",
          "auto/accessories",
          "computers/components",
          "computers/components",
          "kids/fmcg",
          "appliances/kitchen",
          "construction/tools",
          "apparel/shoes",
          "appliances/environment",
          "construction/components",
          "appliances/kitchen",
          "construction/tools",
          "appliances/kitchen",
          "appliances/personal",
          "country_yard/furniture",
          "computers/components",
          "electronics/audio",
          "appliances/kitchen",
          "appliances/kitchen",
          "appliances/kitchen",
          "apparel/shoes",
          "appliances/kitchen",
          "computers/peripherals",
          "construction/tools",
          "furniture/universal",
          "appliances/personal",
          "appliances/kitchen",
          "computers/components",
          "electronics/audio",
          "appliances/kitchen",
          "appliances/kitchen",
          "apparel/shoes",
          "computers/peripherals",
          "computers/components",
          "computers/peripherals",
          "electronics/audio",
          "accessories/bag",
          "apparel/belt",
          "sport/bicycle",
          "kids/carriage",
          "stationery/cartrige",
          "electronics/clocks",
          "apparel/costume",
          "country_yard/cultivator",
          "computers/desktop",
          "kids/dolls",
          "apparel/dress",
          "computers/ebooks",
          "apparel/glove",
          "appliances/iron",
          "appliances/ironing_board",
          "apparel/jacket",
          "apparel/jeans",
          "apparel/jumper",
          "country_yard/lawn_mower",
          "computers/notebook",
          "apparel/scarf",
          "appliances/sewing_machine",
          "apparel/shirt",
          "apparel/shoes",
          "apparel/shorts",
          "kids/skates",
          "sport/ski",
          "apparel/skirt",
          "electronics/smartphone",
          "sport/snowboard",
          "apparel/sock",
          "kids/swing",
          "electronics/tablet",
          "electronics/telephone",
          "sport/tennis",
          "kids/toys",
          "sport/trainer",
          "apparel/trousers",
          "apparel/tshirt",
          "accessories/umbrella",
          "apparel/underwear",
          "accessories/wallet",
          "appliances/kitchen",
          "construction/tools",
          "auto/accessories",
          "electronics/camera",
          "furniture/bedroom",
          "auto/accessories",
          "computers/components",
          "computers/peripherals",
          "electronics/video",
          "construction/tools",
          "auto/accessories",
          "appliances/kitchen",
          "apparel/shoes",
          "construction/tools",
          "appliances/personal",
          "construction/tools",
          "apparel/shoes",
          "furniture/living_room",
          "construction/tools",
          "appliances/kitchen",
          "apparel/shoes",
          "electronics/audio",
          "furniture/kitchen",
          "furniture/bathroom",
          "medicine/tools",
          "appliances/kitchen",
          "electronics/video",
          "appliances/environment",
          "electronics/camera",
          "computers/components",
          "auto/accessories",
          "appliances/kitchen",
          "appliances/environment",
          "construction/tools",
          "auto/accessories",
          "auto",
          "electronics",
          "accessories",
          "furniture",
          "furniture",
          "apparel",
          "sport",
          "electronics",
          "kids",
          "stationery",
          "electronics",
          "computers",
          "construction",
          "apparel",
          "country_yard",
          "computers",
          "kids",
          "apparel",
          "computers",
          "appliances",
          "kids",
          "country_yard",
          "apparel",
          "appliances",
          "appliances",
          "apparel",
          "apparel",
          "apparel",
          "appliances",
          "furniture",
          "country_yard",
          "furniture",
          "computers",
          "computers",
          "appliances",
          "apparel",
          "appliances",
          "apparel",
          "apparel",
          "apparel",
          "kids",
          "sport",
          "apparel",
          "electronics",
          "sport",
          "apparel",
          "kids",
          "electronics",
          "electronics",
          "sport",
          "construction",
          "medicine",
          "kids",
          "sport",
          "apparel",
          "apparel",
          "accessories",
          "apparel",
          "furniture",
          "electronics",
          "accessories",
          "",
          "",
          "",
          "",
          "",
          "",
          "",
          "",
          "",
          "",
          "",
          "",
          ""
         ],
         "type": "sunburst",
         "values": [
          237582,
          140952,
          444842,
          492790,
          3819,
          7325,
          36777,
          891126,
          192,
          51772,
          536159,
          853052,
          12342,
          297206,
          160865,
          30845,
          214501,
          148774,
          117357,
          132840,
          57647,
          244662,
          677808,
          2811,
          5644,
          73453,
          108,
          319406,
          196073,
          156070,
          2807,
          179768,
          2917065,
          293177,
          306222,
          122578,
          896106,
          464711,
          141911,
          52996,
          26047,
          62637,
          416588,
          122782,
          75769,
          479650,
          238191,
          25969,
          317248,
          119605,
          187887,
          99581,
          505378,
          7167,
          239090,
          567718,
          20398,
          3397999,
          380291,
          16917,
          1114744,
          134573,
          133886,
          77918,
          3824,
          462925,
          99103,
          437,
          109707,
          34339,
          11892,
          3318177,
          6141,
          432871,
          64609,
          2650791,
          1284,
          158777,
          19759,
          9866,
          27882231,
          21689,
          6224,
          91541,
          809232,
          594428,
          11285,
          316747,
          132787,
          41422,
          40522,
          8912,
          92183,
          113986,
          574375,
          35170,
          27032,
          31270,
          50144,
          943306,
          54151,
          373520,
          36094,
          78389,
          93462,
          2314917,
          24715,
          338676,
          160355,
          184,
          11298,
          642066,
          4158,
          33139,
          3108,
          632802,
          304005,
          45929,
          37188,
          67981,
          3321796,
          2329728,
          105860,
          235325,
          503435,
          2273270,
          354845,
          242749,
          14656,
          2227274,
          3962799,
          505378,
          82706,
          993042,
          7167,
          239090,
          137130,
          567718,
          20398,
          3397999,
          961828,
          73453,
          380291,
          16917,
          1114744,
          134573,
          133886,
          77918,
          3276011,
          57647,
          2999,
          3824,
          462925,
          99103,
          437,
          109707,
          34339,
          8807147,
          601211,
          11892,
          1655983,
          3318177,
          1032908,
          379062,
          6141,
          432871,
          64609,
          3622123,
          1284,
          158777,
          19759,
          9866,
          27882231,
          21689,
          6224,
          91541,
          809232,
          594428,
          11285,
          1749536,
          37188,
          316747,
          132787,
          41422,
          40522,
          8912,
          92183,
          26047,
          3357890,
          113986,
          628276,
          4554025,
          13457119,
          2227274,
          6505575,
          1822989,
          31808,
          40141709,
          3358989,
          1327003,
          37188,
          424610,
          20398
         ]
        }
       ],
       "layout": {
        "legend": {
         "tracegroupgap": 0
        },
        "template": {
         "data": {
          "bar": [
           {
            "error_x": {
             "color": "#2a3f5f"
            },
            "error_y": {
             "color": "#2a3f5f"
            },
            "marker": {
             "line": {
              "color": "#E5ECF6",
              "width": 0.5
             }
            },
            "type": "bar"
           }
          ],
          "barpolar": [
           {
            "marker": {
             "line": {
              "color": "#E5ECF6",
              "width": 0.5
             }
            },
            "type": "barpolar"
           }
          ],
          "carpet": [
           {
            "aaxis": {
             "endlinecolor": "#2a3f5f",
             "gridcolor": "white",
             "linecolor": "white",
             "minorgridcolor": "white",
             "startlinecolor": "#2a3f5f"
            },
            "baxis": {
             "endlinecolor": "#2a3f5f",
             "gridcolor": "white",
             "linecolor": "white",
             "minorgridcolor": "white",
             "startlinecolor": "#2a3f5f"
            },
            "type": "carpet"
           }
          ],
          "choropleth": [
           {
            "colorbar": {
             "outlinewidth": 0,
             "ticks": ""
            },
            "type": "choropleth"
           }
          ],
          "contour": [
           {
            "colorbar": {
             "outlinewidth": 0,
             "ticks": ""
            },
            "colorscale": [
             [
              0,
              "#0d0887"
             ],
             [
              0.1111111111111111,
              "#46039f"
             ],
             [
              0.2222222222222222,
              "#7201a8"
             ],
             [
              0.3333333333333333,
              "#9c179e"
             ],
             [
              0.4444444444444444,
              "#bd3786"
             ],
             [
              0.5555555555555556,
              "#d8576b"
             ],
             [
              0.6666666666666666,
              "#ed7953"
             ],
             [
              0.7777777777777778,
              "#fb9f3a"
             ],
             [
              0.8888888888888888,
              "#fdca26"
             ],
             [
              1,
              "#f0f921"
             ]
            ],
            "type": "contour"
           }
          ],
          "contourcarpet": [
           {
            "colorbar": {
             "outlinewidth": 0,
             "ticks": ""
            },
            "type": "contourcarpet"
           }
          ],
          "heatmap": [
           {
            "colorbar": {
             "outlinewidth": 0,
             "ticks": ""
            },
            "colorscale": [
             [
              0,
              "#0d0887"
             ],
             [
              0.1111111111111111,
              "#46039f"
             ],
             [
              0.2222222222222222,
              "#7201a8"
             ],
             [
              0.3333333333333333,
              "#9c179e"
             ],
             [
              0.4444444444444444,
              "#bd3786"
             ],
             [
              0.5555555555555556,
              "#d8576b"
             ],
             [
              0.6666666666666666,
              "#ed7953"
             ],
             [
              0.7777777777777778,
              "#fb9f3a"
             ],
             [
              0.8888888888888888,
              "#fdca26"
             ],
             [
              1,
              "#f0f921"
             ]
            ],
            "type": "heatmap"
           }
          ],
          "heatmapgl": [
           {
            "colorbar": {
             "outlinewidth": 0,
             "ticks": ""
            },
            "colorscale": [
             [
              0,
              "#0d0887"
             ],
             [
              0.1111111111111111,
              "#46039f"
             ],
             [
              0.2222222222222222,
              "#7201a8"
             ],
             [
              0.3333333333333333,
              "#9c179e"
             ],
             [
              0.4444444444444444,
              "#bd3786"
             ],
             [
              0.5555555555555556,
              "#d8576b"
             ],
             [
              0.6666666666666666,
              "#ed7953"
             ],
             [
              0.7777777777777778,
              "#fb9f3a"
             ],
             [
              0.8888888888888888,
              "#fdca26"
             ],
             [
              1,
              "#f0f921"
             ]
            ],
            "type": "heatmapgl"
           }
          ],
          "histogram": [
           {
            "marker": {
             "colorbar": {
              "outlinewidth": 0,
              "ticks": ""
             }
            },
            "type": "histogram"
           }
          ],
          "histogram2d": [
           {
            "colorbar": {
             "outlinewidth": 0,
             "ticks": ""
            },
            "colorscale": [
             [
              0,
              "#0d0887"
             ],
             [
              0.1111111111111111,
              "#46039f"
             ],
             [
              0.2222222222222222,
              "#7201a8"
             ],
             [
              0.3333333333333333,
              "#9c179e"
             ],
             [
              0.4444444444444444,
              "#bd3786"
             ],
             [
              0.5555555555555556,
              "#d8576b"
             ],
             [
              0.6666666666666666,
              "#ed7953"
             ],
             [
              0.7777777777777778,
              "#fb9f3a"
             ],
             [
              0.8888888888888888,
              "#fdca26"
             ],
             [
              1,
              "#f0f921"
             ]
            ],
            "type": "histogram2d"
           }
          ],
          "histogram2dcontour": [
           {
            "colorbar": {
             "outlinewidth": 0,
             "ticks": ""
            },
            "colorscale": [
             [
              0,
              "#0d0887"
             ],
             [
              0.1111111111111111,
              "#46039f"
             ],
             [
              0.2222222222222222,
              "#7201a8"
             ],
             [
              0.3333333333333333,
              "#9c179e"
             ],
             [
              0.4444444444444444,
              "#bd3786"
             ],
             [
              0.5555555555555556,
              "#d8576b"
             ],
             [
              0.6666666666666666,
              "#ed7953"
             ],
             [
              0.7777777777777778,
              "#fb9f3a"
             ],
             [
              0.8888888888888888,
              "#fdca26"
             ],
             [
              1,
              "#f0f921"
             ]
            ],
            "type": "histogram2dcontour"
           }
          ],
          "mesh3d": [
           {
            "colorbar": {
             "outlinewidth": 0,
             "ticks": ""
            },
            "type": "mesh3d"
           }
          ],
          "parcoords": [
           {
            "line": {
             "colorbar": {
              "outlinewidth": 0,
              "ticks": ""
             }
            },
            "type": "parcoords"
           }
          ],
          "pie": [
           {
            "automargin": true,
            "type": "pie"
           }
          ],
          "scatter": [
           {
            "marker": {
             "colorbar": {
              "outlinewidth": 0,
              "ticks": ""
             }
            },
            "type": "scatter"
           }
          ],
          "scatter3d": [
           {
            "line": {
             "colorbar": {
              "outlinewidth": 0,
              "ticks": ""
             }
            },
            "marker": {
             "colorbar": {
              "outlinewidth": 0,
              "ticks": ""
             }
            },
            "type": "scatter3d"
           }
          ],
          "scattercarpet": [
           {
            "marker": {
             "colorbar": {
              "outlinewidth": 0,
              "ticks": ""
             }
            },
            "type": "scattercarpet"
           }
          ],
          "scattergeo": [
           {
            "marker": {
             "colorbar": {
              "outlinewidth": 0,
              "ticks": ""
             }
            },
            "type": "scattergeo"
           }
          ],
          "scattergl": [
           {
            "marker": {
             "colorbar": {
              "outlinewidth": 0,
              "ticks": ""
             }
            },
            "type": "scattergl"
           }
          ],
          "scattermapbox": [
           {
            "marker": {
             "colorbar": {
              "outlinewidth": 0,
              "ticks": ""
             }
            },
            "type": "scattermapbox"
           }
          ],
          "scatterpolar": [
           {
            "marker": {
             "colorbar": {
              "outlinewidth": 0,
              "ticks": ""
             }
            },
            "type": "scatterpolar"
           }
          ],
          "scatterpolargl": [
           {
            "marker": {
             "colorbar": {
              "outlinewidth": 0,
              "ticks": ""
             }
            },
            "type": "scatterpolargl"
           }
          ],
          "scatterternary": [
           {
            "marker": {
             "colorbar": {
              "outlinewidth": 0,
              "ticks": ""
             }
            },
            "type": "scatterternary"
           }
          ],
          "surface": [
           {
            "colorbar": {
             "outlinewidth": 0,
             "ticks": ""
            },
            "colorscale": [
             [
              0,
              "#0d0887"
             ],
             [
              0.1111111111111111,
              "#46039f"
             ],
             [
              0.2222222222222222,
              "#7201a8"
             ],
             [
              0.3333333333333333,
              "#9c179e"
             ],
             [
              0.4444444444444444,
              "#bd3786"
             ],
             [
              0.5555555555555556,
              "#d8576b"
             ],
             [
              0.6666666666666666,
              "#ed7953"
             ],
             [
              0.7777777777777778,
              "#fb9f3a"
             ],
             [
              0.8888888888888888,
              "#fdca26"
             ],
             [
              1,
              "#f0f921"
             ]
            ],
            "type": "surface"
           }
          ],
          "table": [
           {
            "cells": {
             "fill": {
              "color": "#EBF0F8"
             },
             "line": {
              "color": "white"
             }
            },
            "header": {
             "fill": {
              "color": "#C8D4E3"
             },
             "line": {
              "color": "white"
             }
            },
            "type": "table"
           }
          ]
         },
         "layout": {
          "annotationdefaults": {
           "arrowcolor": "#2a3f5f",
           "arrowhead": 0,
           "arrowwidth": 1
          },
          "autotypenumbers": "strict",
          "coloraxis": {
           "colorbar": {
            "outlinewidth": 0,
            "ticks": ""
           }
          },
          "colorscale": {
           "diverging": [
            [
             0,
             "#8e0152"
            ],
            [
             0.1,
             "#c51b7d"
            ],
            [
             0.2,
             "#de77ae"
            ],
            [
             0.3,
             "#f1b6da"
            ],
            [
             0.4,
             "#fde0ef"
            ],
            [
             0.5,
             "#f7f7f7"
            ],
            [
             0.6,
             "#e6f5d0"
            ],
            [
             0.7,
             "#b8e186"
            ],
            [
             0.8,
             "#7fbc41"
            ],
            [
             0.9,
             "#4d9221"
            ],
            [
             1,
             "#276419"
            ]
           ],
           "sequential": [
            [
             0,
             "#0d0887"
            ],
            [
             0.1111111111111111,
             "#46039f"
            ],
            [
             0.2222222222222222,
             "#7201a8"
            ],
            [
             0.3333333333333333,
             "#9c179e"
            ],
            [
             0.4444444444444444,
             "#bd3786"
            ],
            [
             0.5555555555555556,
             "#d8576b"
            ],
            [
             0.6666666666666666,
             "#ed7953"
            ],
            [
             0.7777777777777778,
             "#fb9f3a"
            ],
            [
             0.8888888888888888,
             "#fdca26"
            ],
            [
             1,
             "#f0f921"
            ]
           ],
           "sequentialminus": [
            [
             0,
             "#0d0887"
            ],
            [
             0.1111111111111111,
             "#46039f"
            ],
            [
             0.2222222222222222,
             "#7201a8"
            ],
            [
             0.3333333333333333,
             "#9c179e"
            ],
            [
             0.4444444444444444,
             "#bd3786"
            ],
            [
             0.5555555555555556,
             "#d8576b"
            ],
            [
             0.6666666666666666,
             "#ed7953"
            ],
            [
             0.7777777777777778,
             "#fb9f3a"
            ],
            [
             0.8888888888888888,
             "#fdca26"
            ],
            [
             1,
             "#f0f921"
            ]
           ]
          },
          "colorway": [
           "#636efa",
           "#EF553B",
           "#00cc96",
           "#ab63fa",
           "#FFA15A",
           "#19d3f3",
           "#FF6692",
           "#B6E880",
           "#FF97FF",
           "#FECB52"
          ],
          "font": {
           "color": "#2a3f5f"
          },
          "geo": {
           "bgcolor": "white",
           "lakecolor": "white",
           "landcolor": "#E5ECF6",
           "showlakes": true,
           "showland": true,
           "subunitcolor": "white"
          },
          "hoverlabel": {
           "align": "left"
          },
          "hovermode": "closest",
          "mapbox": {
           "style": "light"
          },
          "paper_bgcolor": "white",
          "plot_bgcolor": "#E5ECF6",
          "polar": {
           "angularaxis": {
            "gridcolor": "white",
            "linecolor": "white",
            "ticks": ""
           },
           "bgcolor": "#E5ECF6",
           "radialaxis": {
            "gridcolor": "white",
            "linecolor": "white",
            "ticks": ""
           }
          },
          "scene": {
           "xaxis": {
            "backgroundcolor": "#E5ECF6",
            "gridcolor": "white",
            "gridwidth": 2,
            "linecolor": "white",
            "showbackground": true,
            "ticks": "",
            "zerolinecolor": "white"
           },
           "yaxis": {
            "backgroundcolor": "#E5ECF6",
            "gridcolor": "white",
            "gridwidth": 2,
            "linecolor": "white",
            "showbackground": true,
            "ticks": "",
            "zerolinecolor": "white"
           },
           "zaxis": {
            "backgroundcolor": "#E5ECF6",
            "gridcolor": "white",
            "gridwidth": 2,
            "linecolor": "white",
            "showbackground": true,
            "ticks": "",
            "zerolinecolor": "white"
           }
          },
          "shapedefaults": {
           "line": {
            "color": "#2a3f5f"
           }
          },
          "ternary": {
           "aaxis": {
            "gridcolor": "white",
            "linecolor": "white",
            "ticks": ""
           },
           "baxis": {
            "gridcolor": "white",
            "linecolor": "white",
            "ticks": ""
           },
           "bgcolor": "#E5ECF6",
           "caxis": {
            "gridcolor": "white",
            "linecolor": "white",
            "ticks": ""
           }
          },
          "title": {
           "x": 0.05
          },
          "xaxis": {
           "automargin": true,
           "gridcolor": "white",
           "linecolor": "white",
           "ticks": "",
           "title": {
            "standoff": 15
           },
           "zerolinecolor": "white",
           "zerolinewidth": 2
          },
          "yaxis": {
           "automargin": true,
           "gridcolor": "white",
           "linecolor": "white",
           "ticks": "",
           "title": {
            "standoff": 15
           },
           "zerolinecolor": "white",
           "zerolinewidth": 2
          }
         }
        },
        "title": {
         "text": "Category Classes and Subclasses (without not defined data in category_class)"
        }
       }
      }
     },
     "metadata": {}
    }
   ],
   "source": [
    "px.sunburst(sdf_agg_classes.toPandas(), path=[\"category_class\", \"category_sub_class\", \"category_sub_sub_class\"], values=\"count\", title=\"Category Classes and Subclasses (without not defined data in category_class)\")"
   ]
  },
  {
   "source": [
    "### Time - Fields"
   ],
   "cell_type": "markdown",
   "metadata": {}
  },
  {
   "source": [
    "The column “event_time” allows you to create the following columns: year, month, weekofyear, dayofyear, dayofweek, dayofmonth and hour. These columns allow advanced analysis.\n",
    "\n",
    "- Year: The Year-column contains only the year 2019 since the dataset only covers this year.\n",
    "- Month: The month-column cotains the values 10, 11 and 12,  which are representing the october, november and december 2019.DeprecationWarning\n",
    "- Weekofyear: The weekofyear-column is covering the weeks ... - ...\n",
    "- Dayofyear: The dayofyear-column is covering the days .... - ...\n",
    "- Dayofweek: The dayofweek-column is covering the values 1-7. These values are representing days sunday(1), monday(2), Tuesday(3), Wednesday(4), Thursday(5), Friday(6) and Saturday(7).\n",
    "- Dayofmonth: The dayofmonth-column contains the values 1-31, which are reperesenting the day in the corresponding month.\n",
    "- hour: The hour-column contains the values 0-24, which are representing the hour of interaction."
   ],
   "cell_type": "markdown",
   "metadata": {}
  },
  {
   "source": [
    "### Turnover and quantities"
   ],
   "cell_type": "markdown",
   "metadata": {}
  },
  {
   "source": [
    "In the following table you can see that in some cases a product ID was purchased several times per user session."
   ],
   "cell_type": "markdown",
   "metadata": {}
  },
  {
   "cell_type": "code",
   "execution_count": 42,
   "metadata": {},
   "outputs": [
    {
     "output_type": "stream",
     "name": "stdout",
     "text": [
      "+--------------------+----------+----------+-----+\n|        user_session|product_id|event_type|count|\n+--------------------+----------+----------+-----+\n|e6b7ce9b-1938-4e2...|   1005161|  purchase|    1|\n|d6034fa2-41fb-4ac...|  13200605|  purchase|    1|\n+--------------------+----------+----------+-----+\n\n"
     ]
    }
   ],
   "source": [
    "sdf_count_session_product = sdf_raw.where(sdf_raw[\"event_Type\"] == 'purchase').groupBy(\"user_session\", \"product_id\", \"event_type\").count()\n",
    "\n",
    "sdf_count_session_product.show()"
   ]
  },
  {
   "source": [
    "From this it can be concluded that a single interaction is created for each product purchased. With the help of this information, the columns \"turnover\", \"bought_quantity\", \"viewed_quantity\", \"cart_quantity\" can be created.\n",
    "\n",
    "- Turnover: The turnover is equivalent to the price, if the event_type is equal to \"purchase\".\n",
    "- bought_quantity: The bought_quantity describes the quantity of a product,that had been bought. In the unaggregated form it only contains the values 0 and 1.\n",
    "- viewed_quantity: The viewed_quantity describes the quantity of a product,that had been viewed. In the unaggregated form it only contains the values 0 and 1.\n",
    "- cart_quantity: The cart_quantity describes the quantity of a product,that had been put into the cart. In the unaggregated form it only contains the values 0 and 1.\n",
    "\n",
    "These columns are particularly suitable for aggregated analyses."
   ],
   "cell_type": "markdown",
   "metadata": {}
  },
  {
   "cell_type": "code",
   "execution_count": 43,
   "metadata": {},
   "outputs": [
    {
     "output_type": "stream",
     "name": "stdout",
     "text": [
      "+-------------------+----------+----------+-------------------+--------------------+--------+------+---------+--------------------+--------------+------------------+----------------------+----+-----+----------+---------+---------+----------+----+--------+---------------+---------------+-------------+\n|         event_time|event_type|product_id|        category_id|       category_code|   brand| price|  user_id|        user_session|category_class|category_sub_class|category_sub_sub_class|year|month|weekofyear|dayofyear|dayofweek|dayofmonth|hour|turnover|bougth_quantity|viewed_quantity|cart_quantity|\n+-------------------+----------+----------+-------------------+--------------------+--------+------+---------+--------------------+--------------+------------------+----------------------+----+-----+----------+---------+---------+----------+----+--------+---------------+---------------+-------------+\n|2019-11-01 01:00:00|      view|   1003461|2053013555631882655|electronics.smart...|  xiaomi|489.07|520088904|4d3b30da-a5e4-49d...|   electronics|        smartphone|                  null|2019|   11|        44|      305|        6|         1|   1|     0.0|              0|              1|            0|\n|2019-11-01 01:00:00|      view|   5000088|2053013566100866035|appliances.sewing...|  janome|293.65|530496790|8e5f4f83-366c-4f7...|    appliances|    sewing_machine|                  null|2019|   11|        44|      305|        6|         1|   1|     0.0|              0|              1|            0|\n|2019-11-01 01:00:01|      view|  17302664|2053013553853497655|                null|   creed| 28.31|561587266|755422e7-9040-477...|          null|              null|                  null|2019|   11|        44|      305|        6|         1|   1|     0.0|              0|              1|            0|\n|2019-11-01 01:00:01|      view|   3601530|2053013563810775923|appliances.kitche...|      lg|712.87|518085591|3bfb58cd-7892-48c...|    appliances|           kitchen|                washer|2019|   11|        44|      305|        6|         1|   1|     0.0|              0|              1|            0|\n|2019-11-01 01:00:01|      view|   1004775|2053013555631882655|electronics.smart...|  xiaomi|183.27|558856683|313628f1-68b8-460...|   electronics|        smartphone|                  null|2019|   11|        44|      305|        6|         1|   1|     0.0|              0|              1|            0|\n|2019-11-01 01:00:01|      view|   1306894|2053013558920217191|  computers.notebook|      hp|360.09|520772685|816a59f3-f5ae-4cc...|     computers|          notebook|                  null|2019|   11|        44|      305|        6|         1|   1|     0.0|              0|              1|            0|\n|2019-11-01 01:00:01|      view|   1306421|2053013558920217191|  computers.notebook|      hp|514.56|514028527|df8184cc-3694-454...|     computers|          notebook|                  null|2019|   11|        44|      305|        6|         1|   1|     0.0|              0|              1|            0|\n|2019-11-01 01:00:02|      view|  15900065|2053013558190408249|                null| rondell| 30.86|518574284|5e6ef132-4d7c-473...|          null|              null|                  null|2019|   11|        44|      305|        6|         1|   1|     0.0|              0|              1|            0|\n|2019-11-01 01:00:02|      view|  12708937|2053013553559896355|                null|michelin| 72.72|532364121|0a899268-31eb-46d...|          null|              null|                  null|2019|   11|        44|      305|        6|         1|   1|     0.0|              0|              1|            0|\n|2019-11-01 01:00:02|      view|   1004258|2053013555631882655|electronics.smart...|   apple|732.07|532647354|d2d3d2c6-631d-489...|   electronics|        smartphone|                  null|2019|   11|        44|      305|        6|         1|   1|     0.0|              0|              1|            0|\n|2019-11-01 01:00:03|      view|  17200570|2053013559792632471|furniture.living_...|    null|437.33|518780843|aa806835-b14c-45a...|     furniture|       living_room|                  sofa|2019|   11|        44|      305|        6|         1|   1|     0.0|              0|              1|            0|\n|2019-11-01 01:00:03|      view|   2701517|2053013563911439225|appliances.kitche...|    null|155.11|518427361|c89b0d96-247f-404...|    appliances|           kitchen|         refrigerators|2019|   11|        44|      305|        6|         1|   1|     0.0|              0|              1|            0|\n|2019-11-01 01:00:03|      view|  16700260|2053013559901684381|furniture.kitchen...|    null| 31.64|566255262|173d7b72-1db7-463...|     furniture|           kitchen|                 chair|2019|   11|        44|      305|        6|         1|   1|     0.0|              0|              1|            0|\n|2019-11-01 01:00:04|      view|  34600011|2060981320581906480|                null|    null| 20.54|512416379|4dfe2c67-e537-4dc...|          null|              null|                  null|2019|   11|        44|      305|        6|         1|   1|     0.0|              0|              1|            0|\n|2019-11-01 01:00:05|      view|   4600658|2053013563944993659|appliances.kitche...| samsung|411.83|526595547|aab33a9a-29c3-4d5...|    appliances|           kitchen|            dishwasher|2019|   11|        44|      305|        6|         1|   1|     0.0|              0|              1|            0|\n|2019-11-01 01:00:06|      view|  24900193|2053013562183385881|                null|    null|  1.09|512651494|f603c815-f51a-46f...|          null|              null|                  null|2019|   11|        44|      305|        6|         1|   1|     0.0|              0|              1|            0|\n|2019-11-01 01:00:07|      view|  27400066|2053013563391345499|                null|    null|  8.55|551061950|3f6112f1-5695-4e8...|          null|              null|                  null|2019|   11|        44|      305|        6|         1|   1|     0.0|              0|              1|            0|\n|2019-11-01 01:00:07|      view|   5100503|2053013553375346967|                null|  xiaomi| 22.68|520037415|f54fa96a-f3f2-43a...|          null|              null|                  null|2019|   11|        44|      305|        6|         1|   1|     0.0|              0|              1|            0|\n|2019-11-01 01:00:07|      view|   1004566|2053013555631882655|electronics.smart...|  huawei|164.84|566265908|52c2c76c-b79e-479...|   electronics|        smartphone|                  null|2019|   11|        44|      305|        6|         1|   1|     0.0|              0|              1|            0|\n|2019-11-01 01:00:08|      view|   1307115|2053013558920217191|  computers.notebook|      hp|411.59|514028527|df8184cc-3694-454...|     computers|          notebook|                  null|2019|   11|        44|      305|        6|         1|   1|     0.0|              0|              1|            0|\n+-------------------+----------+----------+-------------------+--------------------+--------+------+---------+--------------------+--------------+------------------+----------------------+----+-----+----------+---------+---------+----------+----+--------+---------------+---------------+-------------+\nonly showing top 20 rows\n\n"
     ]
    }
   ],
   "source": [
    "sdf_raw.show()"
   ]
  },
  {
   "cell_type": "code",
   "execution_count": 48,
   "metadata": {},
   "outputs": [
    {
     "output_type": "stream",
     "name": "stdout",
     "text": [
      "+-----------------+--------------------+--------------------+------------------+\n|    sum(turnover)|sum(bougth_quantity)|sum(viewed_quantity)|sum(Cart_quantity)|\n+-----------------+--------------------+--------------------+------------------+\n|778.2199999999999|                   2|                 240|                 2|\n+-----------------+--------------------+--------------------+------------------+\n\n"
     ]
    }
   ],
   "source": [
    "sdf_count_turnover_quantity = sdf_raw.agg(f.sum(\"turnover\"), f.sum(\"bougth_quantity\"), f.sum(\"viewed_quantity\"), f.sum(\"Cart_quantity\"))                                       \n",
    "sdf_count_turnover_quantity.show()"
   ]
  },
  {
   "cell_type": "markdown",
   "metadata": {
    "pycharm": {
     "name": "#%% md\n"
    }
   },
   "source": [
    "## Exploration and Analysis"
   ]
  },
  {
   "cell_type": "markdown",
   "metadata": {},
   "source": [
    "### Time Distribution"
   ]
  },
  {
   "source": [
    "#### Time and Events"
   ],
   "cell_type": "markdown",
   "metadata": {}
  },
  {
   "cell_type": "code",
   "execution_count": 33,
   "metadata": {},
   "outputs": [],
   "source": [
    "# aggregated time (weeks, dayofweeks, month)\n",
    "\n",
    "sdf_time_dist_month = sdf.groupBy(\"event_type\", \"dayofmonth\").count()\n",
    "sdf_time_dist_month = sdf_time_dist_month.withColumnRenamed(\"count\", \"cnt\")\n",
    "sdf_time_dist_month = sdf_time_dist_month.sort(\"dayofmonth\", \"event_type\")\n",
    "sdf_time_dist_week = sdf.groupBy(\"event_type\", \"dayofweek\").count()\n",
    "sdf_time_dist_week = sdf_time_dist_week.withColumnRenamed(\"count\", \"cnt\")\n",
    "sdf_time_dist_week = sdf_time_dist_week.sort(\"dayofweek\", \"event_type\")\n",
    "\n",
    "sdf_time_dist_day = sdf.groupBy(\"event_type\", \"hour\").count()\n",
    "sdf_time_dist_day = sdf_time_dist_day.withColumnRenamed(\"count\", \"cnt\")\n",
    "sdf_time_dist_day = sdf_time_dist_day.sort(\"hour\", \"event_type\")"
   ]
  },
  {
   "cell_type": "code",
   "execution_count": 34,
   "metadata": {},
   "outputs": [
    {
     "output_type": "display_data",
     "data": {
      "application/vnd.plotly.v1+json": {
       "config": {
        "plotlyServerURL": "https://plot.ly"
       },
       "data": [
        {
         "alignmentgroup": "True",
         "hovertemplate": "event_type=cart<br>dayofmonth=%{x}<br>cnt=%{y}<extra></extra>",
         "legendgroup": "cart",
         "marker": {
          "color": "#636efa"
         },
         "name": "cart",
         "offsetgroup": "cart",
         "orientation": "v",
         "showlegend": true,
         "textposition": "auto",
         "type": "bar",
         "x": [
          1,
          2,
          3,
          4,
          5,
          6,
          7,
          8,
          9,
          10,
          11,
          12,
          13,
          14,
          15,
          16,
          17,
          18,
          19,
          20,
          21,
          22,
          23,
          24,
          25,
          26,
          27,
          28,
          29,
          30,
          31
         ],
         "xaxis": "x",
         "y": [
          35804,
          36594,
          39353,
          65815,
          54746,
          51991,
          37517,
          95560,
          88495,
          90562,
          96755,
          90313,
          96325,
          212255,
          535393,
          451420,
          468446,
          123434,
          112017,
          112939,
          112357,
          107163,
          101026,
          103836,
          108367,
          106298,
          106037,
          89285,
          109823,
          98740,
          16780
         ],
         "yaxis": "y"
        },
        {
         "alignmentgroup": "True",
         "hovertemplate": "event_type=purchase<br>dayofmonth=%{x}<br>cnt=%{y}<extra></extra>",
         "legendgroup": "purchase",
         "marker": {
          "color": "#EF553B"
         },
         "name": "purchase",
         "offsetgroup": "purchase",
         "orientation": "v",
         "showlegend": true,
         "textposition": "auto",
         "type": "bar",
         "x": [
          1,
          2,
          3,
          4,
          5,
          6,
          7,
          8,
          9,
          10,
          11,
          12,
          13,
          14,
          15,
          16,
          17,
          18,
          19,
          20,
          21,
          22,
          23,
          24,
          25,
          26,
          27,
          28,
          29,
          30,
          31
         ],
         "xaxis": "x",
         "y": [
          41765,
          41343,
          41306,
          53978,
          48361,
          47521,
          46261,
          48740,
          45467,
          44822,
          51239,
          48092,
          52088,
          50649,
          26372,
          99624,
          213328,
          54490,
          49614,
          50090,
          50436,
          49563,
          46918,
          47195,
          48747,
          46803,
          48067,
          45380,
          52478,
          48973,
          20078
         ],
         "yaxis": "y"
        },
        {
         "alignmentgroup": "True",
         "hovertemplate": "event_type=view<br>dayofmonth=%{x}<br>cnt=%{y}<extra></extra>",
         "legendgroup": "view",
         "marker": {
          "color": "#00cc96"
         },
         "name": "view",
         "offsetgroup": "view",
         "orientation": "v",
         "showlegend": true,
         "textposition": "auto",
         "type": "bar",
         "x": [
          1,
          2,
          3,
          4,
          5,
          6,
          7,
          8,
          9,
          10,
          11,
          12,
          13,
          14,
          15,
          16,
          17,
          18,
          19,
          20,
          21,
          22,
          23,
          24,
          25,
          26,
          27,
          28,
          29,
          30,
          31
         ],
         "xaxis": "x",
         "y": [
          2607456,
          2668416,
          2612149,
          3090211,
          2944444,
          2916113,
          2914028,
          3119810,
          3090206,
          3088452,
          3357878,
          3326749,
          3511794,
          4221951,
          7239800,
          7454315,
          7140241,
          3327006,
          3012665,
          3050132,
          2920329,
          2832419,
          2791183,
          2757226,
          2871086,
          2848689,
          2892505,
          2781780,
          2921894,
          2816675,
          1207907
         ],
         "yaxis": "y"
        }
       ],
       "layout": {
        "barmode": "stack",
        "legend": {
         "title": {
          "text": "event_type"
         },
         "tracegroupgap": 0
        },
        "margin": {
         "t": 60
        },
        "template": {
         "data": {
          "bar": [
           {
            "error_x": {
             "color": "#2a3f5f"
            },
            "error_y": {
             "color": "#2a3f5f"
            },
            "marker": {
             "line": {
              "color": "#E5ECF6",
              "width": 0.5
             }
            },
            "type": "bar"
           }
          ],
          "barpolar": [
           {
            "marker": {
             "line": {
              "color": "#E5ECF6",
              "width": 0.5
             }
            },
            "type": "barpolar"
           }
          ],
          "carpet": [
           {
            "aaxis": {
             "endlinecolor": "#2a3f5f",
             "gridcolor": "white",
             "linecolor": "white",
             "minorgridcolor": "white",
             "startlinecolor": "#2a3f5f"
            },
            "baxis": {
             "endlinecolor": "#2a3f5f",
             "gridcolor": "white",
             "linecolor": "white",
             "minorgridcolor": "white",
             "startlinecolor": "#2a3f5f"
            },
            "type": "carpet"
           }
          ],
          "choropleth": [
           {
            "colorbar": {
             "outlinewidth": 0,
             "ticks": ""
            },
            "type": "choropleth"
           }
          ],
          "contour": [
           {
            "colorbar": {
             "outlinewidth": 0,
             "ticks": ""
            },
            "colorscale": [
             [
              0,
              "#0d0887"
             ],
             [
              0.1111111111111111,
              "#46039f"
             ],
             [
              0.2222222222222222,
              "#7201a8"
             ],
             [
              0.3333333333333333,
              "#9c179e"
             ],
             [
              0.4444444444444444,
              "#bd3786"
             ],
             [
              0.5555555555555556,
              "#d8576b"
             ],
             [
              0.6666666666666666,
              "#ed7953"
             ],
             [
              0.7777777777777778,
              "#fb9f3a"
             ],
             [
              0.8888888888888888,
              "#fdca26"
             ],
             [
              1,
              "#f0f921"
             ]
            ],
            "type": "contour"
           }
          ],
          "contourcarpet": [
           {
            "colorbar": {
             "outlinewidth": 0,
             "ticks": ""
            },
            "type": "contourcarpet"
           }
          ],
          "heatmap": [
           {
            "colorbar": {
             "outlinewidth": 0,
             "ticks": ""
            },
            "colorscale": [
             [
              0,
              "#0d0887"
             ],
             [
              0.1111111111111111,
              "#46039f"
             ],
             [
              0.2222222222222222,
              "#7201a8"
             ],
             [
              0.3333333333333333,
              "#9c179e"
             ],
             [
              0.4444444444444444,
              "#bd3786"
             ],
             [
              0.5555555555555556,
              "#d8576b"
             ],
             [
              0.6666666666666666,
              "#ed7953"
             ],
             [
              0.7777777777777778,
              "#fb9f3a"
             ],
             [
              0.8888888888888888,
              "#fdca26"
             ],
             [
              1,
              "#f0f921"
             ]
            ],
            "type": "heatmap"
           }
          ],
          "heatmapgl": [
           {
            "colorbar": {
             "outlinewidth": 0,
             "ticks": ""
            },
            "colorscale": [
             [
              0,
              "#0d0887"
             ],
             [
              0.1111111111111111,
              "#46039f"
             ],
             [
              0.2222222222222222,
              "#7201a8"
             ],
             [
              0.3333333333333333,
              "#9c179e"
             ],
             [
              0.4444444444444444,
              "#bd3786"
             ],
             [
              0.5555555555555556,
              "#d8576b"
             ],
             [
              0.6666666666666666,
              "#ed7953"
             ],
             [
              0.7777777777777778,
              "#fb9f3a"
             ],
             [
              0.8888888888888888,
              "#fdca26"
             ],
             [
              1,
              "#f0f921"
             ]
            ],
            "type": "heatmapgl"
           }
          ],
          "histogram": [
           {
            "marker": {
             "colorbar": {
              "outlinewidth": 0,
              "ticks": ""
             }
            },
            "type": "histogram"
           }
          ],
          "histogram2d": [
           {
            "colorbar": {
             "outlinewidth": 0,
             "ticks": ""
            },
            "colorscale": [
             [
              0,
              "#0d0887"
             ],
             [
              0.1111111111111111,
              "#46039f"
             ],
             [
              0.2222222222222222,
              "#7201a8"
             ],
             [
              0.3333333333333333,
              "#9c179e"
             ],
             [
              0.4444444444444444,
              "#bd3786"
             ],
             [
              0.5555555555555556,
              "#d8576b"
             ],
             [
              0.6666666666666666,
              "#ed7953"
             ],
             [
              0.7777777777777778,
              "#fb9f3a"
             ],
             [
              0.8888888888888888,
              "#fdca26"
             ],
             [
              1,
              "#f0f921"
             ]
            ],
            "type": "histogram2d"
           }
          ],
          "histogram2dcontour": [
           {
            "colorbar": {
             "outlinewidth": 0,
             "ticks": ""
            },
            "colorscale": [
             [
              0,
              "#0d0887"
             ],
             [
              0.1111111111111111,
              "#46039f"
             ],
             [
              0.2222222222222222,
              "#7201a8"
             ],
             [
              0.3333333333333333,
              "#9c179e"
             ],
             [
              0.4444444444444444,
              "#bd3786"
             ],
             [
              0.5555555555555556,
              "#d8576b"
             ],
             [
              0.6666666666666666,
              "#ed7953"
             ],
             [
              0.7777777777777778,
              "#fb9f3a"
             ],
             [
              0.8888888888888888,
              "#fdca26"
             ],
             [
              1,
              "#f0f921"
             ]
            ],
            "type": "histogram2dcontour"
           }
          ],
          "mesh3d": [
           {
            "colorbar": {
             "outlinewidth": 0,
             "ticks": ""
            },
            "type": "mesh3d"
           }
          ],
          "parcoords": [
           {
            "line": {
             "colorbar": {
              "outlinewidth": 0,
              "ticks": ""
             }
            },
            "type": "parcoords"
           }
          ],
          "pie": [
           {
            "automargin": true,
            "type": "pie"
           }
          ],
          "scatter": [
           {
            "marker": {
             "colorbar": {
              "outlinewidth": 0,
              "ticks": ""
             }
            },
            "type": "scatter"
           }
          ],
          "scatter3d": [
           {
            "line": {
             "colorbar": {
              "outlinewidth": 0,
              "ticks": ""
             }
            },
            "marker": {
             "colorbar": {
              "outlinewidth": 0,
              "ticks": ""
             }
            },
            "type": "scatter3d"
           }
          ],
          "scattercarpet": [
           {
            "marker": {
             "colorbar": {
              "outlinewidth": 0,
              "ticks": ""
             }
            },
            "type": "scattercarpet"
           }
          ],
          "scattergeo": [
           {
            "marker": {
             "colorbar": {
              "outlinewidth": 0,
              "ticks": ""
             }
            },
            "type": "scattergeo"
           }
          ],
          "scattergl": [
           {
            "marker": {
             "colorbar": {
              "outlinewidth": 0,
              "ticks": ""
             }
            },
            "type": "scattergl"
           }
          ],
          "scattermapbox": [
           {
            "marker": {
             "colorbar": {
              "outlinewidth": 0,
              "ticks": ""
             }
            },
            "type": "scattermapbox"
           }
          ],
          "scatterpolar": [
           {
            "marker": {
             "colorbar": {
              "outlinewidth": 0,
              "ticks": ""
             }
            },
            "type": "scatterpolar"
           }
          ],
          "scatterpolargl": [
           {
            "marker": {
             "colorbar": {
              "outlinewidth": 0,
              "ticks": ""
             }
            },
            "type": "scatterpolargl"
           }
          ],
          "scatterternary": [
           {
            "marker": {
             "colorbar": {
              "outlinewidth": 0,
              "ticks": ""
             }
            },
            "type": "scatterternary"
           }
          ],
          "surface": [
           {
            "colorbar": {
             "outlinewidth": 0,
             "ticks": ""
            },
            "colorscale": [
             [
              0,
              "#0d0887"
             ],
             [
              0.1111111111111111,
              "#46039f"
             ],
             [
              0.2222222222222222,
              "#7201a8"
             ],
             [
              0.3333333333333333,
              "#9c179e"
             ],
             [
              0.4444444444444444,
              "#bd3786"
             ],
             [
              0.5555555555555556,
              "#d8576b"
             ],
             [
              0.6666666666666666,
              "#ed7953"
             ],
             [
              0.7777777777777778,
              "#fb9f3a"
             ],
             [
              0.8888888888888888,
              "#fdca26"
             ],
             [
              1,
              "#f0f921"
             ]
            ],
            "type": "surface"
           }
          ],
          "table": [
           {
            "cells": {
             "fill": {
              "color": "#EBF0F8"
             },
             "line": {
              "color": "white"
             }
            },
            "header": {
             "fill": {
              "color": "#C8D4E3"
             },
             "line": {
              "color": "white"
             }
            },
            "type": "table"
           }
          ]
         },
         "layout": {
          "annotationdefaults": {
           "arrowcolor": "#2a3f5f",
           "arrowhead": 0,
           "arrowwidth": 1
          },
          "autotypenumbers": "strict",
          "coloraxis": {
           "colorbar": {
            "outlinewidth": 0,
            "ticks": ""
           }
          },
          "colorscale": {
           "diverging": [
            [
             0,
             "#8e0152"
            ],
            [
             0.1,
             "#c51b7d"
            ],
            [
             0.2,
             "#de77ae"
            ],
            [
             0.3,
             "#f1b6da"
            ],
            [
             0.4,
             "#fde0ef"
            ],
            [
             0.5,
             "#f7f7f7"
            ],
            [
             0.6,
             "#e6f5d0"
            ],
            [
             0.7,
             "#b8e186"
            ],
            [
             0.8,
             "#7fbc41"
            ],
            [
             0.9,
             "#4d9221"
            ],
            [
             1,
             "#276419"
            ]
           ],
           "sequential": [
            [
             0,
             "#0d0887"
            ],
            [
             0.1111111111111111,
             "#46039f"
            ],
            [
             0.2222222222222222,
             "#7201a8"
            ],
            [
             0.3333333333333333,
             "#9c179e"
            ],
            [
             0.4444444444444444,
             "#bd3786"
            ],
            [
             0.5555555555555556,
             "#d8576b"
            ],
            [
             0.6666666666666666,
             "#ed7953"
            ],
            [
             0.7777777777777778,
             "#fb9f3a"
            ],
            [
             0.8888888888888888,
             "#fdca26"
            ],
            [
             1,
             "#f0f921"
            ]
           ],
           "sequentialminus": [
            [
             0,
             "#0d0887"
            ],
            [
             0.1111111111111111,
             "#46039f"
            ],
            [
             0.2222222222222222,
             "#7201a8"
            ],
            [
             0.3333333333333333,
             "#9c179e"
            ],
            [
             0.4444444444444444,
             "#bd3786"
            ],
            [
             0.5555555555555556,
             "#d8576b"
            ],
            [
             0.6666666666666666,
             "#ed7953"
            ],
            [
             0.7777777777777778,
             "#fb9f3a"
            ],
            [
             0.8888888888888888,
             "#fdca26"
            ],
            [
             1,
             "#f0f921"
            ]
           ]
          },
          "colorway": [
           "#636efa",
           "#EF553B",
           "#00cc96",
           "#ab63fa",
           "#FFA15A",
           "#19d3f3",
           "#FF6692",
           "#B6E880",
           "#FF97FF",
           "#FECB52"
          ],
          "font": {
           "color": "#2a3f5f"
          },
          "geo": {
           "bgcolor": "white",
           "lakecolor": "white",
           "landcolor": "#E5ECF6",
           "showlakes": true,
           "showland": true,
           "subunitcolor": "white"
          },
          "hoverlabel": {
           "align": "left"
          },
          "hovermode": "closest",
          "mapbox": {
           "style": "light"
          },
          "paper_bgcolor": "white",
          "plot_bgcolor": "#E5ECF6",
          "polar": {
           "angularaxis": {
            "gridcolor": "white",
            "linecolor": "white",
            "ticks": ""
           },
           "bgcolor": "#E5ECF6",
           "radialaxis": {
            "gridcolor": "white",
            "linecolor": "white",
            "ticks": ""
           }
          },
          "scene": {
           "xaxis": {
            "backgroundcolor": "#E5ECF6",
            "gridcolor": "white",
            "gridwidth": 2,
            "linecolor": "white",
            "showbackground": true,
            "ticks": "",
            "zerolinecolor": "white"
           },
           "yaxis": {
            "backgroundcolor": "#E5ECF6",
            "gridcolor": "white",
            "gridwidth": 2,
            "linecolor": "white",
            "showbackground": true,
            "ticks": "",
            "zerolinecolor": "white"
           },
           "zaxis": {
            "backgroundcolor": "#E5ECF6",
            "gridcolor": "white",
            "gridwidth": 2,
            "linecolor": "white",
            "showbackground": true,
            "ticks": "",
            "zerolinecolor": "white"
           }
          },
          "shapedefaults": {
           "line": {
            "color": "#2a3f5f"
           }
          },
          "ternary": {
           "aaxis": {
            "gridcolor": "white",
            "linecolor": "white",
            "ticks": ""
           },
           "baxis": {
            "gridcolor": "white",
            "linecolor": "white",
            "ticks": ""
           },
           "bgcolor": "#E5ECF6",
           "caxis": {
            "gridcolor": "white",
            "linecolor": "white",
            "ticks": ""
           }
          },
          "title": {
           "x": 0.05
          },
          "xaxis": {
           "automargin": true,
           "gridcolor": "white",
           "linecolor": "white",
           "ticks": "",
           "title": {
            "standoff": 15
           },
           "zerolinecolor": "white",
           "zerolinewidth": 2
          },
          "yaxis": {
           "automargin": true,
           "gridcolor": "white",
           "linecolor": "white",
           "ticks": "",
           "title": {
            "standoff": 15
           },
           "zerolinecolor": "white",
           "zerolinewidth": 2
          }
         }
        },
        "title": {
         "text": "Number of events over a month"
        },
        "xaxis": {
         "anchor": "y",
         "domain": [
          0,
          1
         ],
         "title": {
          "text": "Day of Month"
         },
         "type": "category"
        },
        "yaxis": {
         "anchor": "x",
         "domain": [
          0,
          1
         ],
         "title": {
          "text": "Number of Events"
         }
        }
       }
      }
     },
     "metadata": {}
    }
   ],
   "source": [
    "# Timestamp Distribution (per event_type) over every day of month\n",
    "\n",
    "df = sdf_time_dist_month.toPandas()\n",
    "\n",
    "fig = px.bar(df, x = 'dayofmonth', y = 'cnt', color ='event_type', barmode = 'stack')\n",
    "\n",
    "fig.update_layout(title = \"Number of events over a month\",\n",
    "     xaxis_title = 'Day of Month', yaxis_title = 'Number of Events')\n",
    "fig.update_xaxes(type=\"category\")\n",
    "fig.show()"
   ]
  },
  {
   "cell_type": "code",
   "execution_count": 35,
   "metadata": {},
   "outputs": [
    {
     "output_type": "display_data",
     "data": {
      "application/vnd.plotly.v1+json": {
       "config": {
        "plotlyServerURL": "https://plot.ly"
       },
       "data": [
        {
         "alignmentgroup": "True",
         "hovertemplate": "event_type=cart<br>dayofweek=%{x}<br>cnt=%{y}<extra></extra>",
         "legendgroup": "cart",
         "marker": {
          "color": "#636efa"
         },
         "name": "cart",
         "offsetgroup": "cart",
         "orientation": "v",
         "showlegend": true,
         "textposition": "auto",
         "type": "bar",
         "x": [
          1,
          2,
          3,
          4,
          5,
          6,
          7
         ],
         "xaxis": "x",
         "y": [
          720590,
          369597,
          371977,
          369438,
          464803,
          886709,
          772332
         ],
         "yaxis": "y"
        },
        {
         "alignmentgroup": "True",
         "hovertemplate": "event_type=purchase<br>dayofweek=%{x}<br>cnt=%{y}<extra></extra>",
         "legendgroup": "purchase",
         "marker": {
          "color": "#EF553B"
         },
         "name": "purchase",
         "offsetgroup": "purchase",
         "orientation": "v",
         "showlegend": true,
         "textposition": "auto",
         "type": "bar",
         "x": [
          1,
          2,
          3,
          4,
          5,
          6,
          7
         ],
         "xaxis": "x",
         "y": [
          353887,
          201448,
          211058,
          216415,
          210074,
          207588,
          259318
         ],
         "yaxis": "y"
        },
        {
         "alignmentgroup": "True",
         "hovertemplate": "event_type=view<br>dayofweek=%{x}<br>cnt=%{y}<extra></extra>",
         "legendgroup": "view",
         "marker": {
          "color": "#00cc96"
         },
         "name": "view",
         "offsetgroup": "view",
         "orientation": "v",
         "showlegend": true,
         "textposition": "auto",
         "type": "bar",
         "x": [
          1,
          2,
          3,
          4,
          5,
          6,
          7
         ],
         "xaxis": "x",
         "y": [
          16326988,
          12174247,
          13298191,
          13123564,
          13859823,
          17753073,
          17799623
         ],
         "yaxis": "y"
        }
       ],
       "layout": {
        "barmode": "stack",
        "legend": {
         "title": {
          "text": "event_type"
         },
         "tracegroupgap": 0
        },
        "margin": {
         "t": 60
        },
        "template": {
         "data": {
          "bar": [
           {
            "error_x": {
             "color": "#2a3f5f"
            },
            "error_y": {
             "color": "#2a3f5f"
            },
            "marker": {
             "line": {
              "color": "#E5ECF6",
              "width": 0.5
             }
            },
            "type": "bar"
           }
          ],
          "barpolar": [
           {
            "marker": {
             "line": {
              "color": "#E5ECF6",
              "width": 0.5
             }
            },
            "type": "barpolar"
           }
          ],
          "carpet": [
           {
            "aaxis": {
             "endlinecolor": "#2a3f5f",
             "gridcolor": "white",
             "linecolor": "white",
             "minorgridcolor": "white",
             "startlinecolor": "#2a3f5f"
            },
            "baxis": {
             "endlinecolor": "#2a3f5f",
             "gridcolor": "white",
             "linecolor": "white",
             "minorgridcolor": "white",
             "startlinecolor": "#2a3f5f"
            },
            "type": "carpet"
           }
          ],
          "choropleth": [
           {
            "colorbar": {
             "outlinewidth": 0,
             "ticks": ""
            },
            "type": "choropleth"
           }
          ],
          "contour": [
           {
            "colorbar": {
             "outlinewidth": 0,
             "ticks": ""
            },
            "colorscale": [
             [
              0,
              "#0d0887"
             ],
             [
              0.1111111111111111,
              "#46039f"
             ],
             [
              0.2222222222222222,
              "#7201a8"
             ],
             [
              0.3333333333333333,
              "#9c179e"
             ],
             [
              0.4444444444444444,
              "#bd3786"
             ],
             [
              0.5555555555555556,
              "#d8576b"
             ],
             [
              0.6666666666666666,
              "#ed7953"
             ],
             [
              0.7777777777777778,
              "#fb9f3a"
             ],
             [
              0.8888888888888888,
              "#fdca26"
             ],
             [
              1,
              "#f0f921"
             ]
            ],
            "type": "contour"
           }
          ],
          "contourcarpet": [
           {
            "colorbar": {
             "outlinewidth": 0,
             "ticks": ""
            },
            "type": "contourcarpet"
           }
          ],
          "heatmap": [
           {
            "colorbar": {
             "outlinewidth": 0,
             "ticks": ""
            },
            "colorscale": [
             [
              0,
              "#0d0887"
             ],
             [
              0.1111111111111111,
              "#46039f"
             ],
             [
              0.2222222222222222,
              "#7201a8"
             ],
             [
              0.3333333333333333,
              "#9c179e"
             ],
             [
              0.4444444444444444,
              "#bd3786"
             ],
             [
              0.5555555555555556,
              "#d8576b"
             ],
             [
              0.6666666666666666,
              "#ed7953"
             ],
             [
              0.7777777777777778,
              "#fb9f3a"
             ],
             [
              0.8888888888888888,
              "#fdca26"
             ],
             [
              1,
              "#f0f921"
             ]
            ],
            "type": "heatmap"
           }
          ],
          "heatmapgl": [
           {
            "colorbar": {
             "outlinewidth": 0,
             "ticks": ""
            },
            "colorscale": [
             [
              0,
              "#0d0887"
             ],
             [
              0.1111111111111111,
              "#46039f"
             ],
             [
              0.2222222222222222,
              "#7201a8"
             ],
             [
              0.3333333333333333,
              "#9c179e"
             ],
             [
              0.4444444444444444,
              "#bd3786"
             ],
             [
              0.5555555555555556,
              "#d8576b"
             ],
             [
              0.6666666666666666,
              "#ed7953"
             ],
             [
              0.7777777777777778,
              "#fb9f3a"
             ],
             [
              0.8888888888888888,
              "#fdca26"
             ],
             [
              1,
              "#f0f921"
             ]
            ],
            "type": "heatmapgl"
           }
          ],
          "histogram": [
           {
            "marker": {
             "colorbar": {
              "outlinewidth": 0,
              "ticks": ""
             }
            },
            "type": "histogram"
           }
          ],
          "histogram2d": [
           {
            "colorbar": {
             "outlinewidth": 0,
             "ticks": ""
            },
            "colorscale": [
             [
              0,
              "#0d0887"
             ],
             [
              0.1111111111111111,
              "#46039f"
             ],
             [
              0.2222222222222222,
              "#7201a8"
             ],
             [
              0.3333333333333333,
              "#9c179e"
             ],
             [
              0.4444444444444444,
              "#bd3786"
             ],
             [
              0.5555555555555556,
              "#d8576b"
             ],
             [
              0.6666666666666666,
              "#ed7953"
             ],
             [
              0.7777777777777778,
              "#fb9f3a"
             ],
             [
              0.8888888888888888,
              "#fdca26"
             ],
             [
              1,
              "#f0f921"
             ]
            ],
            "type": "histogram2d"
           }
          ],
          "histogram2dcontour": [
           {
            "colorbar": {
             "outlinewidth": 0,
             "ticks": ""
            },
            "colorscale": [
             [
              0,
              "#0d0887"
             ],
             [
              0.1111111111111111,
              "#46039f"
             ],
             [
              0.2222222222222222,
              "#7201a8"
             ],
             [
              0.3333333333333333,
              "#9c179e"
             ],
             [
              0.4444444444444444,
              "#bd3786"
             ],
             [
              0.5555555555555556,
              "#d8576b"
             ],
             [
              0.6666666666666666,
              "#ed7953"
             ],
             [
              0.7777777777777778,
              "#fb9f3a"
             ],
             [
              0.8888888888888888,
              "#fdca26"
             ],
             [
              1,
              "#f0f921"
             ]
            ],
            "type": "histogram2dcontour"
           }
          ],
          "mesh3d": [
           {
            "colorbar": {
             "outlinewidth": 0,
             "ticks": ""
            },
            "type": "mesh3d"
           }
          ],
          "parcoords": [
           {
            "line": {
             "colorbar": {
              "outlinewidth": 0,
              "ticks": ""
             }
            },
            "type": "parcoords"
           }
          ],
          "pie": [
           {
            "automargin": true,
            "type": "pie"
           }
          ],
          "scatter": [
           {
            "marker": {
             "colorbar": {
              "outlinewidth": 0,
              "ticks": ""
             }
            },
            "type": "scatter"
           }
          ],
          "scatter3d": [
           {
            "line": {
             "colorbar": {
              "outlinewidth": 0,
              "ticks": ""
             }
            },
            "marker": {
             "colorbar": {
              "outlinewidth": 0,
              "ticks": ""
             }
            },
            "type": "scatter3d"
           }
          ],
          "scattercarpet": [
           {
            "marker": {
             "colorbar": {
              "outlinewidth": 0,
              "ticks": ""
             }
            },
            "type": "scattercarpet"
           }
          ],
          "scattergeo": [
           {
            "marker": {
             "colorbar": {
              "outlinewidth": 0,
              "ticks": ""
             }
            },
            "type": "scattergeo"
           }
          ],
          "scattergl": [
           {
            "marker": {
             "colorbar": {
              "outlinewidth": 0,
              "ticks": ""
             }
            },
            "type": "scattergl"
           }
          ],
          "scattermapbox": [
           {
            "marker": {
             "colorbar": {
              "outlinewidth": 0,
              "ticks": ""
             }
            },
            "type": "scattermapbox"
           }
          ],
          "scatterpolar": [
           {
            "marker": {
             "colorbar": {
              "outlinewidth": 0,
              "ticks": ""
             }
            },
            "type": "scatterpolar"
           }
          ],
          "scatterpolargl": [
           {
            "marker": {
             "colorbar": {
              "outlinewidth": 0,
              "ticks": ""
             }
            },
            "type": "scatterpolargl"
           }
          ],
          "scatterternary": [
           {
            "marker": {
             "colorbar": {
              "outlinewidth": 0,
              "ticks": ""
             }
            },
            "type": "scatterternary"
           }
          ],
          "surface": [
           {
            "colorbar": {
             "outlinewidth": 0,
             "ticks": ""
            },
            "colorscale": [
             [
              0,
              "#0d0887"
             ],
             [
              0.1111111111111111,
              "#46039f"
             ],
             [
              0.2222222222222222,
              "#7201a8"
             ],
             [
              0.3333333333333333,
              "#9c179e"
             ],
             [
              0.4444444444444444,
              "#bd3786"
             ],
             [
              0.5555555555555556,
              "#d8576b"
             ],
             [
              0.6666666666666666,
              "#ed7953"
             ],
             [
              0.7777777777777778,
              "#fb9f3a"
             ],
             [
              0.8888888888888888,
              "#fdca26"
             ],
             [
              1,
              "#f0f921"
             ]
            ],
            "type": "surface"
           }
          ],
          "table": [
           {
            "cells": {
             "fill": {
              "color": "#EBF0F8"
             },
             "line": {
              "color": "white"
             }
            },
            "header": {
             "fill": {
              "color": "#C8D4E3"
             },
             "line": {
              "color": "white"
             }
            },
            "type": "table"
           }
          ]
         },
         "layout": {
          "annotationdefaults": {
           "arrowcolor": "#2a3f5f",
           "arrowhead": 0,
           "arrowwidth": 1
          },
          "autotypenumbers": "strict",
          "coloraxis": {
           "colorbar": {
            "outlinewidth": 0,
            "ticks": ""
           }
          },
          "colorscale": {
           "diverging": [
            [
             0,
             "#8e0152"
            ],
            [
             0.1,
             "#c51b7d"
            ],
            [
             0.2,
             "#de77ae"
            ],
            [
             0.3,
             "#f1b6da"
            ],
            [
             0.4,
             "#fde0ef"
            ],
            [
             0.5,
             "#f7f7f7"
            ],
            [
             0.6,
             "#e6f5d0"
            ],
            [
             0.7,
             "#b8e186"
            ],
            [
             0.8,
             "#7fbc41"
            ],
            [
             0.9,
             "#4d9221"
            ],
            [
             1,
             "#276419"
            ]
           ],
           "sequential": [
            [
             0,
             "#0d0887"
            ],
            [
             0.1111111111111111,
             "#46039f"
            ],
            [
             0.2222222222222222,
             "#7201a8"
            ],
            [
             0.3333333333333333,
             "#9c179e"
            ],
            [
             0.4444444444444444,
             "#bd3786"
            ],
            [
             0.5555555555555556,
             "#d8576b"
            ],
            [
             0.6666666666666666,
             "#ed7953"
            ],
            [
             0.7777777777777778,
             "#fb9f3a"
            ],
            [
             0.8888888888888888,
             "#fdca26"
            ],
            [
             1,
             "#f0f921"
            ]
           ],
           "sequentialminus": [
            [
             0,
             "#0d0887"
            ],
            [
             0.1111111111111111,
             "#46039f"
            ],
            [
             0.2222222222222222,
             "#7201a8"
            ],
            [
             0.3333333333333333,
             "#9c179e"
            ],
            [
             0.4444444444444444,
             "#bd3786"
            ],
            [
             0.5555555555555556,
             "#d8576b"
            ],
            [
             0.6666666666666666,
             "#ed7953"
            ],
            [
             0.7777777777777778,
             "#fb9f3a"
            ],
            [
             0.8888888888888888,
             "#fdca26"
            ],
            [
             1,
             "#f0f921"
            ]
           ]
          },
          "colorway": [
           "#636efa",
           "#EF553B",
           "#00cc96",
           "#ab63fa",
           "#FFA15A",
           "#19d3f3",
           "#FF6692",
           "#B6E880",
           "#FF97FF",
           "#FECB52"
          ],
          "font": {
           "color": "#2a3f5f"
          },
          "geo": {
           "bgcolor": "white",
           "lakecolor": "white",
           "landcolor": "#E5ECF6",
           "showlakes": true,
           "showland": true,
           "subunitcolor": "white"
          },
          "hoverlabel": {
           "align": "left"
          },
          "hovermode": "closest",
          "mapbox": {
           "style": "light"
          },
          "paper_bgcolor": "white",
          "plot_bgcolor": "#E5ECF6",
          "polar": {
           "angularaxis": {
            "gridcolor": "white",
            "linecolor": "white",
            "ticks": ""
           },
           "bgcolor": "#E5ECF6",
           "radialaxis": {
            "gridcolor": "white",
            "linecolor": "white",
            "ticks": ""
           }
          },
          "scene": {
           "xaxis": {
            "backgroundcolor": "#E5ECF6",
            "gridcolor": "white",
            "gridwidth": 2,
            "linecolor": "white",
            "showbackground": true,
            "ticks": "",
            "zerolinecolor": "white"
           },
           "yaxis": {
            "backgroundcolor": "#E5ECF6",
            "gridcolor": "white",
            "gridwidth": 2,
            "linecolor": "white",
            "showbackground": true,
            "ticks": "",
            "zerolinecolor": "white"
           },
           "zaxis": {
            "backgroundcolor": "#E5ECF6",
            "gridcolor": "white",
            "gridwidth": 2,
            "linecolor": "white",
            "showbackground": true,
            "ticks": "",
            "zerolinecolor": "white"
           }
          },
          "shapedefaults": {
           "line": {
            "color": "#2a3f5f"
           }
          },
          "ternary": {
           "aaxis": {
            "gridcolor": "white",
            "linecolor": "white",
            "ticks": ""
           },
           "baxis": {
            "gridcolor": "white",
            "linecolor": "white",
            "ticks": ""
           },
           "bgcolor": "#E5ECF6",
           "caxis": {
            "gridcolor": "white",
            "linecolor": "white",
            "ticks": ""
           }
          },
          "title": {
           "x": 0.05
          },
          "xaxis": {
           "automargin": true,
           "gridcolor": "white",
           "linecolor": "white",
           "ticks": "",
           "title": {
            "standoff": 15
           },
           "zerolinecolor": "white",
           "zerolinewidth": 2
          },
          "yaxis": {
           "automargin": true,
           "gridcolor": "white",
           "linecolor": "white",
           "ticks": "",
           "title": {
            "standoff": 15
           },
           "zerolinecolor": "white",
           "zerolinewidth": 2
          }
         }
        },
        "title": {
         "text": "Number of events over a week"
        },
        "xaxis": {
         "anchor": "y",
         "domain": [
          0,
          1
         ],
         "title": {
          "text": "Day of Week"
         },
         "type": "category"
        },
        "yaxis": {
         "anchor": "x",
         "domain": [
          0,
          1
         ],
         "title": {
          "text": "Number of Events"
         }
        }
       }
      }
     },
     "metadata": {}
    }
   ],
   "source": [
    "# Timestamp Distribution (per event_type) over every day of week\n",
    "\n",
    "df = sdf_time_dist_week.toPandas()\n",
    "\n",
    "fig = px.bar(df, x = 'dayofweek', y = 'cnt', color ='event_type', barmode = 'stack')\n",
    "\n",
    "fig.update_layout(title = \"Number of events over a week\",\n",
    "     xaxis_title = 'Day of Week', yaxis_title = 'Number of Events')\n",
    "fig.update_xaxes(type=\"category\")\n",
    "fig.show()"
   ]
  },
  {
   "cell_type": "code",
   "execution_count": 36,
   "metadata": {},
   "outputs": [
    {
     "output_type": "display_data",
     "data": {
      "application/vnd.plotly.v1+json": {
       "config": {
        "plotlyServerURL": "https://plot.ly"
       },
       "data": [
        {
         "alignmentgroup": "True",
         "hovertemplate": "event_type=cart<br>hour=%{x}<br>cnt=%{y}<extra></extra>",
         "legendgroup": "cart",
         "marker": {
          "color": "#636efa"
         },
         "name": "cart",
         "offsetgroup": "cart",
         "orientation": "v",
         "showlegend": true,
         "textposition": "auto",
         "type": "bar",
         "x": [
          0,
          1,
          2,
          3,
          4,
          5,
          6,
          7,
          8,
          9,
          10,
          11,
          12,
          13,
          14,
          15,
          16,
          17,
          18,
          19,
          20,
          21,
          22,
          23
         ],
         "xaxis": "x",
         "y": [
          16404,
          19607,
          38919,
          79145,
          138076,
          193031,
          225650,
          241764,
          250844,
          254495,
          254309,
          254885,
          247381,
          228341,
          222332,
          224376,
          223945,
          216203,
          197624,
          170157,
          116727,
          73920,
          42535,
          24776
         ],
         "yaxis": "y"
        },
        {
         "alignmentgroup": "True",
         "hovertemplate": "event_type=purchase<br>hour=%{x}<br>cnt=%{y}<extra></extra>",
         "legendgroup": "purchase",
         "marker": {
          "color": "#EF553B"
         },
         "name": "purchase",
         "offsetgroup": "purchase",
         "orientation": "v",
         "showlegend": true,
         "textposition": "auto",
         "type": "bar",
         "x": [
          0,
          1,
          2,
          3,
          4,
          5,
          6,
          7,
          8,
          9,
          10,
          11,
          12,
          13,
          14,
          15,
          16,
          17,
          18,
          19,
          20,
          21,
          22,
          23
         ],
         "xaxis": "x",
         "y": [
          6420,
          5508,
          7653,
          17638,
          42514,
          75571,
          95690,
          105888,
          111042,
          118803,
          126381,
          123785,
          115787,
          107663,
          101185,
          98772,
          89812,
          83554,
          80405,
          53576,
          40316,
          25838,
          15701,
          10286
         ],
         "yaxis": "y"
        },
        {
         "alignmentgroup": "True",
         "hovertemplate": "event_type=view<br>hour=%{x}<br>cnt=%{y}<extra></extra>",
         "legendgroup": "view",
         "marker": {
          "color": "#00cc96"
         },
         "name": "view",
         "offsetgroup": "view",
         "orientation": "v",
         "showlegend": true,
         "textposition": "auto",
         "type": "bar",
         "x": [
          0,
          1,
          2,
          3,
          4,
          5,
          6,
          7,
          8,
          9,
          10,
          11,
          12,
          13,
          14,
          15,
          16,
          17,
          18,
          19,
          20,
          21,
          22,
          23
         ],
         "xaxis": "x",
         "y": [
          581731,
          647710,
          1151038,
          2204048,
          3358263,
          4406869,
          5082744,
          5344207,
          5497858,
          5654259,
          5659099,
          5590602,
          5508231,
          5439228,
          5761330,
          6424715,
          6861211,
          7205677,
          7152537,
          5679820,
          4222376,
          2578790,
          1463629,
          859537
         ],
         "yaxis": "y"
        }
       ],
       "layout": {
        "barmode": "stack",
        "legend": {
         "title": {
          "text": "event_type"
         },
         "tracegroupgap": 0
        },
        "margin": {
         "t": 60
        },
        "template": {
         "data": {
          "bar": [
           {
            "error_x": {
             "color": "#2a3f5f"
            },
            "error_y": {
             "color": "#2a3f5f"
            },
            "marker": {
             "line": {
              "color": "#E5ECF6",
              "width": 0.5
             }
            },
            "type": "bar"
           }
          ],
          "barpolar": [
           {
            "marker": {
             "line": {
              "color": "#E5ECF6",
              "width": 0.5
             }
            },
            "type": "barpolar"
           }
          ],
          "carpet": [
           {
            "aaxis": {
             "endlinecolor": "#2a3f5f",
             "gridcolor": "white",
             "linecolor": "white",
             "minorgridcolor": "white",
             "startlinecolor": "#2a3f5f"
            },
            "baxis": {
             "endlinecolor": "#2a3f5f",
             "gridcolor": "white",
             "linecolor": "white",
             "minorgridcolor": "white",
             "startlinecolor": "#2a3f5f"
            },
            "type": "carpet"
           }
          ],
          "choropleth": [
           {
            "colorbar": {
             "outlinewidth": 0,
             "ticks": ""
            },
            "type": "choropleth"
           }
          ],
          "contour": [
           {
            "colorbar": {
             "outlinewidth": 0,
             "ticks": ""
            },
            "colorscale": [
             [
              0,
              "#0d0887"
             ],
             [
              0.1111111111111111,
              "#46039f"
             ],
             [
              0.2222222222222222,
              "#7201a8"
             ],
             [
              0.3333333333333333,
              "#9c179e"
             ],
             [
              0.4444444444444444,
              "#bd3786"
             ],
             [
              0.5555555555555556,
              "#d8576b"
             ],
             [
              0.6666666666666666,
              "#ed7953"
             ],
             [
              0.7777777777777778,
              "#fb9f3a"
             ],
             [
              0.8888888888888888,
              "#fdca26"
             ],
             [
              1,
              "#f0f921"
             ]
            ],
            "type": "contour"
           }
          ],
          "contourcarpet": [
           {
            "colorbar": {
             "outlinewidth": 0,
             "ticks": ""
            },
            "type": "contourcarpet"
           }
          ],
          "heatmap": [
           {
            "colorbar": {
             "outlinewidth": 0,
             "ticks": ""
            },
            "colorscale": [
             [
              0,
              "#0d0887"
             ],
             [
              0.1111111111111111,
              "#46039f"
             ],
             [
              0.2222222222222222,
              "#7201a8"
             ],
             [
              0.3333333333333333,
              "#9c179e"
             ],
             [
              0.4444444444444444,
              "#bd3786"
             ],
             [
              0.5555555555555556,
              "#d8576b"
             ],
             [
              0.6666666666666666,
              "#ed7953"
             ],
             [
              0.7777777777777778,
              "#fb9f3a"
             ],
             [
              0.8888888888888888,
              "#fdca26"
             ],
             [
              1,
              "#f0f921"
             ]
            ],
            "type": "heatmap"
           }
          ],
          "heatmapgl": [
           {
            "colorbar": {
             "outlinewidth": 0,
             "ticks": ""
            },
            "colorscale": [
             [
              0,
              "#0d0887"
             ],
             [
              0.1111111111111111,
              "#46039f"
             ],
             [
              0.2222222222222222,
              "#7201a8"
             ],
             [
              0.3333333333333333,
              "#9c179e"
             ],
             [
              0.4444444444444444,
              "#bd3786"
             ],
             [
              0.5555555555555556,
              "#d8576b"
             ],
             [
              0.6666666666666666,
              "#ed7953"
             ],
             [
              0.7777777777777778,
              "#fb9f3a"
             ],
             [
              0.8888888888888888,
              "#fdca26"
             ],
             [
              1,
              "#f0f921"
             ]
            ],
            "type": "heatmapgl"
           }
          ],
          "histogram": [
           {
            "marker": {
             "colorbar": {
              "outlinewidth": 0,
              "ticks": ""
             }
            },
            "type": "histogram"
           }
          ],
          "histogram2d": [
           {
            "colorbar": {
             "outlinewidth": 0,
             "ticks": ""
            },
            "colorscale": [
             [
              0,
              "#0d0887"
             ],
             [
              0.1111111111111111,
              "#46039f"
             ],
             [
              0.2222222222222222,
              "#7201a8"
             ],
             [
              0.3333333333333333,
              "#9c179e"
             ],
             [
              0.4444444444444444,
              "#bd3786"
             ],
             [
              0.5555555555555556,
              "#d8576b"
             ],
             [
              0.6666666666666666,
              "#ed7953"
             ],
             [
              0.7777777777777778,
              "#fb9f3a"
             ],
             [
              0.8888888888888888,
              "#fdca26"
             ],
             [
              1,
              "#f0f921"
             ]
            ],
            "type": "histogram2d"
           }
          ],
          "histogram2dcontour": [
           {
            "colorbar": {
             "outlinewidth": 0,
             "ticks": ""
            },
            "colorscale": [
             [
              0,
              "#0d0887"
             ],
             [
              0.1111111111111111,
              "#46039f"
             ],
             [
              0.2222222222222222,
              "#7201a8"
             ],
             [
              0.3333333333333333,
              "#9c179e"
             ],
             [
              0.4444444444444444,
              "#bd3786"
             ],
             [
              0.5555555555555556,
              "#d8576b"
             ],
             [
              0.6666666666666666,
              "#ed7953"
             ],
             [
              0.7777777777777778,
              "#fb9f3a"
             ],
             [
              0.8888888888888888,
              "#fdca26"
             ],
             [
              1,
              "#f0f921"
             ]
            ],
            "type": "histogram2dcontour"
           }
          ],
          "mesh3d": [
           {
            "colorbar": {
             "outlinewidth": 0,
             "ticks": ""
            },
            "type": "mesh3d"
           }
          ],
          "parcoords": [
           {
            "line": {
             "colorbar": {
              "outlinewidth": 0,
              "ticks": ""
             }
            },
            "type": "parcoords"
           }
          ],
          "pie": [
           {
            "automargin": true,
            "type": "pie"
           }
          ],
          "scatter": [
           {
            "marker": {
             "colorbar": {
              "outlinewidth": 0,
              "ticks": ""
             }
            },
            "type": "scatter"
           }
          ],
          "scatter3d": [
           {
            "line": {
             "colorbar": {
              "outlinewidth": 0,
              "ticks": ""
             }
            },
            "marker": {
             "colorbar": {
              "outlinewidth": 0,
              "ticks": ""
             }
            },
            "type": "scatter3d"
           }
          ],
          "scattercarpet": [
           {
            "marker": {
             "colorbar": {
              "outlinewidth": 0,
              "ticks": ""
             }
            },
            "type": "scattercarpet"
           }
          ],
          "scattergeo": [
           {
            "marker": {
             "colorbar": {
              "outlinewidth": 0,
              "ticks": ""
             }
            },
            "type": "scattergeo"
           }
          ],
          "scattergl": [
           {
            "marker": {
             "colorbar": {
              "outlinewidth": 0,
              "ticks": ""
             }
            },
            "type": "scattergl"
           }
          ],
          "scattermapbox": [
           {
            "marker": {
             "colorbar": {
              "outlinewidth": 0,
              "ticks": ""
             }
            },
            "type": "scattermapbox"
           }
          ],
          "scatterpolar": [
           {
            "marker": {
             "colorbar": {
              "outlinewidth": 0,
              "ticks": ""
             }
            },
            "type": "scatterpolar"
           }
          ],
          "scatterpolargl": [
           {
            "marker": {
             "colorbar": {
              "outlinewidth": 0,
              "ticks": ""
             }
            },
            "type": "scatterpolargl"
           }
          ],
          "scatterternary": [
           {
            "marker": {
             "colorbar": {
              "outlinewidth": 0,
              "ticks": ""
             }
            },
            "type": "scatterternary"
           }
          ],
          "surface": [
           {
            "colorbar": {
             "outlinewidth": 0,
             "ticks": ""
            },
            "colorscale": [
             [
              0,
              "#0d0887"
             ],
             [
              0.1111111111111111,
              "#46039f"
             ],
             [
              0.2222222222222222,
              "#7201a8"
             ],
             [
              0.3333333333333333,
              "#9c179e"
             ],
             [
              0.4444444444444444,
              "#bd3786"
             ],
             [
              0.5555555555555556,
              "#d8576b"
             ],
             [
              0.6666666666666666,
              "#ed7953"
             ],
             [
              0.7777777777777778,
              "#fb9f3a"
             ],
             [
              0.8888888888888888,
              "#fdca26"
             ],
             [
              1,
              "#f0f921"
             ]
            ],
            "type": "surface"
           }
          ],
          "table": [
           {
            "cells": {
             "fill": {
              "color": "#EBF0F8"
             },
             "line": {
              "color": "white"
             }
            },
            "header": {
             "fill": {
              "color": "#C8D4E3"
             },
             "line": {
              "color": "white"
             }
            },
            "type": "table"
           }
          ]
         },
         "layout": {
          "annotationdefaults": {
           "arrowcolor": "#2a3f5f",
           "arrowhead": 0,
           "arrowwidth": 1
          },
          "autotypenumbers": "strict",
          "coloraxis": {
           "colorbar": {
            "outlinewidth": 0,
            "ticks": ""
           }
          },
          "colorscale": {
           "diverging": [
            [
             0,
             "#8e0152"
            ],
            [
             0.1,
             "#c51b7d"
            ],
            [
             0.2,
             "#de77ae"
            ],
            [
             0.3,
             "#f1b6da"
            ],
            [
             0.4,
             "#fde0ef"
            ],
            [
             0.5,
             "#f7f7f7"
            ],
            [
             0.6,
             "#e6f5d0"
            ],
            [
             0.7,
             "#b8e186"
            ],
            [
             0.8,
             "#7fbc41"
            ],
            [
             0.9,
             "#4d9221"
            ],
            [
             1,
             "#276419"
            ]
           ],
           "sequential": [
            [
             0,
             "#0d0887"
            ],
            [
             0.1111111111111111,
             "#46039f"
            ],
            [
             0.2222222222222222,
             "#7201a8"
            ],
            [
             0.3333333333333333,
             "#9c179e"
            ],
            [
             0.4444444444444444,
             "#bd3786"
            ],
            [
             0.5555555555555556,
             "#d8576b"
            ],
            [
             0.6666666666666666,
             "#ed7953"
            ],
            [
             0.7777777777777778,
             "#fb9f3a"
            ],
            [
             0.8888888888888888,
             "#fdca26"
            ],
            [
             1,
             "#f0f921"
            ]
           ],
           "sequentialminus": [
            [
             0,
             "#0d0887"
            ],
            [
             0.1111111111111111,
             "#46039f"
            ],
            [
             0.2222222222222222,
             "#7201a8"
            ],
            [
             0.3333333333333333,
             "#9c179e"
            ],
            [
             0.4444444444444444,
             "#bd3786"
            ],
            [
             0.5555555555555556,
             "#d8576b"
            ],
            [
             0.6666666666666666,
             "#ed7953"
            ],
            [
             0.7777777777777778,
             "#fb9f3a"
            ],
            [
             0.8888888888888888,
             "#fdca26"
            ],
            [
             1,
             "#f0f921"
            ]
           ]
          },
          "colorway": [
           "#636efa",
           "#EF553B",
           "#00cc96",
           "#ab63fa",
           "#FFA15A",
           "#19d3f3",
           "#FF6692",
           "#B6E880",
           "#FF97FF",
           "#FECB52"
          ],
          "font": {
           "color": "#2a3f5f"
          },
          "geo": {
           "bgcolor": "white",
           "lakecolor": "white",
           "landcolor": "#E5ECF6",
           "showlakes": true,
           "showland": true,
           "subunitcolor": "white"
          },
          "hoverlabel": {
           "align": "left"
          },
          "hovermode": "closest",
          "mapbox": {
           "style": "light"
          },
          "paper_bgcolor": "white",
          "plot_bgcolor": "#E5ECF6",
          "polar": {
           "angularaxis": {
            "gridcolor": "white",
            "linecolor": "white",
            "ticks": ""
           },
           "bgcolor": "#E5ECF6",
           "radialaxis": {
            "gridcolor": "white",
            "linecolor": "white",
            "ticks": ""
           }
          },
          "scene": {
           "xaxis": {
            "backgroundcolor": "#E5ECF6",
            "gridcolor": "white",
            "gridwidth": 2,
            "linecolor": "white",
            "showbackground": true,
            "ticks": "",
            "zerolinecolor": "white"
           },
           "yaxis": {
            "backgroundcolor": "#E5ECF6",
            "gridcolor": "white",
            "gridwidth": 2,
            "linecolor": "white",
            "showbackground": true,
            "ticks": "",
            "zerolinecolor": "white"
           },
           "zaxis": {
            "backgroundcolor": "#E5ECF6",
            "gridcolor": "white",
            "gridwidth": 2,
            "linecolor": "white",
            "showbackground": true,
            "ticks": "",
            "zerolinecolor": "white"
           }
          },
          "shapedefaults": {
           "line": {
            "color": "#2a3f5f"
           }
          },
          "ternary": {
           "aaxis": {
            "gridcolor": "white",
            "linecolor": "white",
            "ticks": ""
           },
           "baxis": {
            "gridcolor": "white",
            "linecolor": "white",
            "ticks": ""
           },
           "bgcolor": "#E5ECF6",
           "caxis": {
            "gridcolor": "white",
            "linecolor": "white",
            "ticks": ""
           }
          },
          "title": {
           "x": 0.05
          },
          "xaxis": {
           "automargin": true,
           "gridcolor": "white",
           "linecolor": "white",
           "ticks": "",
           "title": {
            "standoff": 15
           },
           "zerolinecolor": "white",
           "zerolinewidth": 2
          },
          "yaxis": {
           "automargin": true,
           "gridcolor": "white",
           "linecolor": "white",
           "ticks": "",
           "title": {
            "standoff": 15
           },
           "zerolinecolor": "white",
           "zerolinewidth": 2
          }
         }
        },
        "title": {
         "text": "Number of events over a day"
        },
        "xaxis": {
         "anchor": "y",
         "domain": [
          0,
          1
         ],
         "title": {
          "text": "Hour of day"
         },
         "type": "category"
        },
        "yaxis": {
         "anchor": "x",
         "domain": [
          0,
          1
         ],
         "title": {
          "text": "Number of Events"
         }
        }
       }
      }
     },
     "metadata": {}
    }
   ],
   "source": [
    "# Timestamp Distribution (per event_type) over every hour of a day\n",
    "\n",
    "df = sdf_time_dist_day.toPandas()\n",
    "\n",
    "fig = px.bar(df, x = 'hour', y = 'cnt', color ='event_type', barmode = 'stack')\n",
    "\n",
    "fig.update_layout(title = \"Number of events over a day\",\n",
    "     xaxis_title = 'Hour of day', yaxis_title = 'Number of Events')\n",
    "fig.update_xaxes(type=\"category\")\n",
    "fig.show()"
   ]
  },
  {
   "source": [
    "#### Time and Turnover"
   ],
   "cell_type": "markdown",
   "metadata": {}
  },
  {
   "cell_type": "code",
   "execution_count": 57,
   "metadata": {},
   "outputs": [],
   "source": [
    "\n",
    "sdf_month_Umsatz = sdf_raw.groupBy(\"month\", \"dayofmonth\").sum(\"turnover\").orderBy(f.asc(\"month\"), f.asc(\"dayofmonth\"))                            "
   ]
  },
  {
   "cell_type": "code",
   "execution_count": 58,
   "metadata": {},
   "outputs": [],
   "source": [
    "sdf_month_Umsatz = sdf_month_Umsatz.withColumn(\"month\", sdf_month_Umsatz[\"month\"].cast(pyspark.sql.types.StringType()))\n"
   ]
  },
  {
   "cell_type": "code",
   "execution_count": 60,
   "metadata": {},
   "outputs": [
    {
     "output_type": "display_data",
     "data": {
      "application/vnd.plotly.v1+json": {
       "config": {
        "plotlyServerURL": "https://plot.ly"
       },
       "data": [
        {
         "alignmentgroup": "True",
         "hovertemplate": "month=10<br>dayofmonth=%{x}<br>sum(turnover)=%{y}<extra></extra>",
         "legendgroup": "10",
         "marker": {
          "color": "#636efa"
         },
         "name": "10",
         "offsetgroup": "10",
         "orientation": "v",
         "showlegend": true,
         "textposition": "auto",
         "type": "bar",
         "x": [
          9
         ],
         "xaxis": "x",
         "y": [
          0
         ],
         "yaxis": "y"
        },
        {
         "alignmentgroup": "True",
         "hovertemplate": "month=11<br>dayofmonth=%{x}<br>sum(turnover)=%{y}<extra></extra>",
         "legendgroup": "11",
         "marker": {
          "color": "#EF553B"
         },
         "name": "11",
         "offsetgroup": "11",
         "orientation": "v",
         "showlegend": true,
         "textposition": "auto",
         "type": "bar",
         "x": [
          1,
          12
         ],
         "xaxis": "x",
         "y": [
          778.2199999999999,
          0
         ],
         "yaxis": "y"
        }
       ],
       "layout": {
        "barmode": "stack",
        "legend": {
         "title": {
          "text": "month"
         },
         "tracegroupgap": 0
        },
        "margin": {
         "t": 60
        },
        "template": {
         "data": {
          "bar": [
           {
            "error_x": {
             "color": "#2a3f5f"
            },
            "error_y": {
             "color": "#2a3f5f"
            },
            "marker": {
             "line": {
              "color": "#E5ECF6",
              "width": 0.5
             }
            },
            "type": "bar"
           }
          ],
          "barpolar": [
           {
            "marker": {
             "line": {
              "color": "#E5ECF6",
              "width": 0.5
             }
            },
            "type": "barpolar"
           }
          ],
          "carpet": [
           {
            "aaxis": {
             "endlinecolor": "#2a3f5f",
             "gridcolor": "white",
             "linecolor": "white",
             "minorgridcolor": "white",
             "startlinecolor": "#2a3f5f"
            },
            "baxis": {
             "endlinecolor": "#2a3f5f",
             "gridcolor": "white",
             "linecolor": "white",
             "minorgridcolor": "white",
             "startlinecolor": "#2a3f5f"
            },
            "type": "carpet"
           }
          ],
          "choropleth": [
           {
            "colorbar": {
             "outlinewidth": 0,
             "ticks": ""
            },
            "type": "choropleth"
           }
          ],
          "contour": [
           {
            "colorbar": {
             "outlinewidth": 0,
             "ticks": ""
            },
            "colorscale": [
             [
              0,
              "#0d0887"
             ],
             [
              0.1111111111111111,
              "#46039f"
             ],
             [
              0.2222222222222222,
              "#7201a8"
             ],
             [
              0.3333333333333333,
              "#9c179e"
             ],
             [
              0.4444444444444444,
              "#bd3786"
             ],
             [
              0.5555555555555556,
              "#d8576b"
             ],
             [
              0.6666666666666666,
              "#ed7953"
             ],
             [
              0.7777777777777778,
              "#fb9f3a"
             ],
             [
              0.8888888888888888,
              "#fdca26"
             ],
             [
              1,
              "#f0f921"
             ]
            ],
            "type": "contour"
           }
          ],
          "contourcarpet": [
           {
            "colorbar": {
             "outlinewidth": 0,
             "ticks": ""
            },
            "type": "contourcarpet"
           }
          ],
          "heatmap": [
           {
            "colorbar": {
             "outlinewidth": 0,
             "ticks": ""
            },
            "colorscale": [
             [
              0,
              "#0d0887"
             ],
             [
              0.1111111111111111,
              "#46039f"
             ],
             [
              0.2222222222222222,
              "#7201a8"
             ],
             [
              0.3333333333333333,
              "#9c179e"
             ],
             [
              0.4444444444444444,
              "#bd3786"
             ],
             [
              0.5555555555555556,
              "#d8576b"
             ],
             [
              0.6666666666666666,
              "#ed7953"
             ],
             [
              0.7777777777777778,
              "#fb9f3a"
             ],
             [
              0.8888888888888888,
              "#fdca26"
             ],
             [
              1,
              "#f0f921"
             ]
            ],
            "type": "heatmap"
           }
          ],
          "heatmapgl": [
           {
            "colorbar": {
             "outlinewidth": 0,
             "ticks": ""
            },
            "colorscale": [
             [
              0,
              "#0d0887"
             ],
             [
              0.1111111111111111,
              "#46039f"
             ],
             [
              0.2222222222222222,
              "#7201a8"
             ],
             [
              0.3333333333333333,
              "#9c179e"
             ],
             [
              0.4444444444444444,
              "#bd3786"
             ],
             [
              0.5555555555555556,
              "#d8576b"
             ],
             [
              0.6666666666666666,
              "#ed7953"
             ],
             [
              0.7777777777777778,
              "#fb9f3a"
             ],
             [
              0.8888888888888888,
              "#fdca26"
             ],
             [
              1,
              "#f0f921"
             ]
            ],
            "type": "heatmapgl"
           }
          ],
          "histogram": [
           {
            "marker": {
             "colorbar": {
              "outlinewidth": 0,
              "ticks": ""
             }
            },
            "type": "histogram"
           }
          ],
          "histogram2d": [
           {
            "colorbar": {
             "outlinewidth": 0,
             "ticks": ""
            },
            "colorscale": [
             [
              0,
              "#0d0887"
             ],
             [
              0.1111111111111111,
              "#46039f"
             ],
             [
              0.2222222222222222,
              "#7201a8"
             ],
             [
              0.3333333333333333,
              "#9c179e"
             ],
             [
              0.4444444444444444,
              "#bd3786"
             ],
             [
              0.5555555555555556,
              "#d8576b"
             ],
             [
              0.6666666666666666,
              "#ed7953"
             ],
             [
              0.7777777777777778,
              "#fb9f3a"
             ],
             [
              0.8888888888888888,
              "#fdca26"
             ],
             [
              1,
              "#f0f921"
             ]
            ],
            "type": "histogram2d"
           }
          ],
          "histogram2dcontour": [
           {
            "colorbar": {
             "outlinewidth": 0,
             "ticks": ""
            },
            "colorscale": [
             [
              0,
              "#0d0887"
             ],
             [
              0.1111111111111111,
              "#46039f"
             ],
             [
              0.2222222222222222,
              "#7201a8"
             ],
             [
              0.3333333333333333,
              "#9c179e"
             ],
             [
              0.4444444444444444,
              "#bd3786"
             ],
             [
              0.5555555555555556,
              "#d8576b"
             ],
             [
              0.6666666666666666,
              "#ed7953"
             ],
             [
              0.7777777777777778,
              "#fb9f3a"
             ],
             [
              0.8888888888888888,
              "#fdca26"
             ],
             [
              1,
              "#f0f921"
             ]
            ],
            "type": "histogram2dcontour"
           }
          ],
          "mesh3d": [
           {
            "colorbar": {
             "outlinewidth": 0,
             "ticks": ""
            },
            "type": "mesh3d"
           }
          ],
          "parcoords": [
           {
            "line": {
             "colorbar": {
              "outlinewidth": 0,
              "ticks": ""
             }
            },
            "type": "parcoords"
           }
          ],
          "pie": [
           {
            "automargin": true,
            "type": "pie"
           }
          ],
          "scatter": [
           {
            "marker": {
             "colorbar": {
              "outlinewidth": 0,
              "ticks": ""
             }
            },
            "type": "scatter"
           }
          ],
          "scatter3d": [
           {
            "line": {
             "colorbar": {
              "outlinewidth": 0,
              "ticks": ""
             }
            },
            "marker": {
             "colorbar": {
              "outlinewidth": 0,
              "ticks": ""
             }
            },
            "type": "scatter3d"
           }
          ],
          "scattercarpet": [
           {
            "marker": {
             "colorbar": {
              "outlinewidth": 0,
              "ticks": ""
             }
            },
            "type": "scattercarpet"
           }
          ],
          "scattergeo": [
           {
            "marker": {
             "colorbar": {
              "outlinewidth": 0,
              "ticks": ""
             }
            },
            "type": "scattergeo"
           }
          ],
          "scattergl": [
           {
            "marker": {
             "colorbar": {
              "outlinewidth": 0,
              "ticks": ""
             }
            },
            "type": "scattergl"
           }
          ],
          "scattermapbox": [
           {
            "marker": {
             "colorbar": {
              "outlinewidth": 0,
              "ticks": ""
             }
            },
            "type": "scattermapbox"
           }
          ],
          "scatterpolar": [
           {
            "marker": {
             "colorbar": {
              "outlinewidth": 0,
              "ticks": ""
             }
            },
            "type": "scatterpolar"
           }
          ],
          "scatterpolargl": [
           {
            "marker": {
             "colorbar": {
              "outlinewidth": 0,
              "ticks": ""
             }
            },
            "type": "scatterpolargl"
           }
          ],
          "scatterternary": [
           {
            "marker": {
             "colorbar": {
              "outlinewidth": 0,
              "ticks": ""
             }
            },
            "type": "scatterternary"
           }
          ],
          "surface": [
           {
            "colorbar": {
             "outlinewidth": 0,
             "ticks": ""
            },
            "colorscale": [
             [
              0,
              "#0d0887"
             ],
             [
              0.1111111111111111,
              "#46039f"
             ],
             [
              0.2222222222222222,
              "#7201a8"
             ],
             [
              0.3333333333333333,
              "#9c179e"
             ],
             [
              0.4444444444444444,
              "#bd3786"
             ],
             [
              0.5555555555555556,
              "#d8576b"
             ],
             [
              0.6666666666666666,
              "#ed7953"
             ],
             [
              0.7777777777777778,
              "#fb9f3a"
             ],
             [
              0.8888888888888888,
              "#fdca26"
             ],
             [
              1,
              "#f0f921"
             ]
            ],
            "type": "surface"
           }
          ],
          "table": [
           {
            "cells": {
             "fill": {
              "color": "#EBF0F8"
             },
             "line": {
              "color": "white"
             }
            },
            "header": {
             "fill": {
              "color": "#C8D4E3"
             },
             "line": {
              "color": "white"
             }
            },
            "type": "table"
           }
          ]
         },
         "layout": {
          "annotationdefaults": {
           "arrowcolor": "#2a3f5f",
           "arrowhead": 0,
           "arrowwidth": 1
          },
          "autotypenumbers": "strict",
          "coloraxis": {
           "colorbar": {
            "outlinewidth": 0,
            "ticks": ""
           }
          },
          "colorscale": {
           "diverging": [
            [
             0,
             "#8e0152"
            ],
            [
             0.1,
             "#c51b7d"
            ],
            [
             0.2,
             "#de77ae"
            ],
            [
             0.3,
             "#f1b6da"
            ],
            [
             0.4,
             "#fde0ef"
            ],
            [
             0.5,
             "#f7f7f7"
            ],
            [
             0.6,
             "#e6f5d0"
            ],
            [
             0.7,
             "#b8e186"
            ],
            [
             0.8,
             "#7fbc41"
            ],
            [
             0.9,
             "#4d9221"
            ],
            [
             1,
             "#276419"
            ]
           ],
           "sequential": [
            [
             0,
             "#0d0887"
            ],
            [
             0.1111111111111111,
             "#46039f"
            ],
            [
             0.2222222222222222,
             "#7201a8"
            ],
            [
             0.3333333333333333,
             "#9c179e"
            ],
            [
             0.4444444444444444,
             "#bd3786"
            ],
            [
             0.5555555555555556,
             "#d8576b"
            ],
            [
             0.6666666666666666,
             "#ed7953"
            ],
            [
             0.7777777777777778,
             "#fb9f3a"
            ],
            [
             0.8888888888888888,
             "#fdca26"
            ],
            [
             1,
             "#f0f921"
            ]
           ],
           "sequentialminus": [
            [
             0,
             "#0d0887"
            ],
            [
             0.1111111111111111,
             "#46039f"
            ],
            [
             0.2222222222222222,
             "#7201a8"
            ],
            [
             0.3333333333333333,
             "#9c179e"
            ],
            [
             0.4444444444444444,
             "#bd3786"
            ],
            [
             0.5555555555555556,
             "#d8576b"
            ],
            [
             0.6666666666666666,
             "#ed7953"
            ],
            [
             0.7777777777777778,
             "#fb9f3a"
            ],
            [
             0.8888888888888888,
             "#fdca26"
            ],
            [
             1,
             "#f0f921"
            ]
           ]
          },
          "colorway": [
           "#636efa",
           "#EF553B",
           "#00cc96",
           "#ab63fa",
           "#FFA15A",
           "#19d3f3",
           "#FF6692",
           "#B6E880",
           "#FF97FF",
           "#FECB52"
          ],
          "font": {
           "color": "#2a3f5f"
          },
          "geo": {
           "bgcolor": "white",
           "lakecolor": "white",
           "landcolor": "#E5ECF6",
           "showlakes": true,
           "showland": true,
           "subunitcolor": "white"
          },
          "hoverlabel": {
           "align": "left"
          },
          "hovermode": "closest",
          "mapbox": {
           "style": "light"
          },
          "paper_bgcolor": "white",
          "plot_bgcolor": "#E5ECF6",
          "polar": {
           "angularaxis": {
            "gridcolor": "white",
            "linecolor": "white",
            "ticks": ""
           },
           "bgcolor": "#E5ECF6",
           "radialaxis": {
            "gridcolor": "white",
            "linecolor": "white",
            "ticks": ""
           }
          },
          "scene": {
           "xaxis": {
            "backgroundcolor": "#E5ECF6",
            "gridcolor": "white",
            "gridwidth": 2,
            "linecolor": "white",
            "showbackground": true,
            "ticks": "",
            "zerolinecolor": "white"
           },
           "yaxis": {
            "backgroundcolor": "#E5ECF6",
            "gridcolor": "white",
            "gridwidth": 2,
            "linecolor": "white",
            "showbackground": true,
            "ticks": "",
            "zerolinecolor": "white"
           },
           "zaxis": {
            "backgroundcolor": "#E5ECF6",
            "gridcolor": "white",
            "gridwidth": 2,
            "linecolor": "white",
            "showbackground": true,
            "ticks": "",
            "zerolinecolor": "white"
           }
          },
          "shapedefaults": {
           "line": {
            "color": "#2a3f5f"
           }
          },
          "ternary": {
           "aaxis": {
            "gridcolor": "white",
            "linecolor": "white",
            "ticks": ""
           },
           "baxis": {
            "gridcolor": "white",
            "linecolor": "white",
            "ticks": ""
           },
           "bgcolor": "#E5ECF6",
           "caxis": {
            "gridcolor": "white",
            "linecolor": "white",
            "ticks": ""
           }
          },
          "title": {
           "x": 0.05
          },
          "xaxis": {
           "automargin": true,
           "gridcolor": "white",
           "linecolor": "white",
           "ticks": "",
           "title": {
            "standoff": 15
           },
           "zerolinecolor": "white",
           "zerolinewidth": 2
          },
          "yaxis": {
           "automargin": true,
           "gridcolor": "white",
           "linecolor": "white",
           "ticks": "",
           "title": {
            "standoff": 15
           },
           "zerolinecolor": "white",
           "zerolinewidth": 2
          }
         }
        },
        "title": {
         "text": "Turnover per Month"
        },
        "xaxis": {
         "anchor": "y",
         "domain": [
          0,
          1
         ],
         "title": {
          "text": "Day of Month"
         },
         "type": "category"
        },
        "yaxis": {
         "anchor": "x",
         "domain": [
          0,
          1
         ],
         "title": {
          "text": "Turnover"
         }
        }
       }
      }
     },
     "metadata": {}
    }
   ],
   "source": [
    "df = sdf_month_Umsatz.toPandas()\n",
    "\n",
    "fig = px.bar(df, x = \"dayofmonth\", y = \"sum(turnover)\", color ='month', barmode = 'stack')\n",
    "\n",
    "fig.update_layout(title = \"Turnover per Month\",\n",
    "     xaxis_title = 'Day of Month', yaxis_title = 'Turnover')\n",
    "fig.update_xaxes(type=\"category\")\n",
    "fig.show()"
   ]
  },
  {
   "cell_type": "code",
   "execution_count": 63,
   "metadata": {},
   "outputs": [],
   "source": [
    "sdf_week_Umsatz = sdf_raw.groupBy(\"weekofyear\", \"dayofweek\").sum(\"turnover\").orderBy(f.asc(\"weekofyear\"), f.asc(\"dayofweek\"))                            "
   ]
  },
  {
   "cell_type": "code",
   "execution_count": 64,
   "metadata": {},
   "outputs": [],
   "source": [
    "sdf_week_Umsatz = sdf_week_Umsatz.withColumn(\"weekofyear\", sdf_week_Umsatz[\"weekofyear\"].cast(pyspark.sql.types.StringType()))\n"
   ]
  },
  {
   "cell_type": "code",
   "execution_count": 65,
   "metadata": {},
   "outputs": [
    {
     "output_type": "display_data",
     "data": {
      "application/vnd.plotly.v1+json": {
       "config": {
        "plotlyServerURL": "https://plot.ly"
       },
       "data": [
        {
         "alignmentgroup": "True",
         "hovertemplate": "weekofyear=41<br>dayofweek=%{x}<br>sum(turnover)=%{y}<extra></extra>",
         "legendgroup": "41",
         "marker": {
          "color": "#636efa"
         },
         "name": "41",
         "offsetgroup": "41",
         "orientation": "v",
         "showlegend": true,
         "textposition": "auto",
         "type": "bar",
         "x": [
          4
         ],
         "xaxis": "x",
         "y": [
          0
         ],
         "yaxis": "y"
        },
        {
         "alignmentgroup": "True",
         "hovertemplate": "weekofyear=44<br>dayofweek=%{x}<br>sum(turnover)=%{y}<extra></extra>",
         "legendgroup": "44",
         "marker": {
          "color": "#EF553B"
         },
         "name": "44",
         "offsetgroup": "44",
         "orientation": "v",
         "showlegend": true,
         "textposition": "auto",
         "type": "bar",
         "x": [
          6
         ],
         "xaxis": "x",
         "y": [
          778.2199999999999
         ],
         "yaxis": "y"
        },
        {
         "alignmentgroup": "True",
         "hovertemplate": "weekofyear=46<br>dayofweek=%{x}<br>sum(turnover)=%{y}<extra></extra>",
         "legendgroup": "46",
         "marker": {
          "color": "#00cc96"
         },
         "name": "46",
         "offsetgroup": "46",
         "orientation": "v",
         "showlegend": true,
         "textposition": "auto",
         "type": "bar",
         "x": [
          3
         ],
         "xaxis": "x",
         "y": [
          0
         ],
         "yaxis": "y"
        }
       ],
       "layout": {
        "barmode": "stack",
        "legend": {
         "title": {
          "text": "weekofyear"
         },
         "tracegroupgap": 0
        },
        "margin": {
         "t": 60
        },
        "template": {
         "data": {
          "bar": [
           {
            "error_x": {
             "color": "#2a3f5f"
            },
            "error_y": {
             "color": "#2a3f5f"
            },
            "marker": {
             "line": {
              "color": "#E5ECF6",
              "width": 0.5
             }
            },
            "type": "bar"
           }
          ],
          "barpolar": [
           {
            "marker": {
             "line": {
              "color": "#E5ECF6",
              "width": 0.5
             }
            },
            "type": "barpolar"
           }
          ],
          "carpet": [
           {
            "aaxis": {
             "endlinecolor": "#2a3f5f",
             "gridcolor": "white",
             "linecolor": "white",
             "minorgridcolor": "white",
             "startlinecolor": "#2a3f5f"
            },
            "baxis": {
             "endlinecolor": "#2a3f5f",
             "gridcolor": "white",
             "linecolor": "white",
             "minorgridcolor": "white",
             "startlinecolor": "#2a3f5f"
            },
            "type": "carpet"
           }
          ],
          "choropleth": [
           {
            "colorbar": {
             "outlinewidth": 0,
             "ticks": ""
            },
            "type": "choropleth"
           }
          ],
          "contour": [
           {
            "colorbar": {
             "outlinewidth": 0,
             "ticks": ""
            },
            "colorscale": [
             [
              0,
              "#0d0887"
             ],
             [
              0.1111111111111111,
              "#46039f"
             ],
             [
              0.2222222222222222,
              "#7201a8"
             ],
             [
              0.3333333333333333,
              "#9c179e"
             ],
             [
              0.4444444444444444,
              "#bd3786"
             ],
             [
              0.5555555555555556,
              "#d8576b"
             ],
             [
              0.6666666666666666,
              "#ed7953"
             ],
             [
              0.7777777777777778,
              "#fb9f3a"
             ],
             [
              0.8888888888888888,
              "#fdca26"
             ],
             [
              1,
              "#f0f921"
             ]
            ],
            "type": "contour"
           }
          ],
          "contourcarpet": [
           {
            "colorbar": {
             "outlinewidth": 0,
             "ticks": ""
            },
            "type": "contourcarpet"
           }
          ],
          "heatmap": [
           {
            "colorbar": {
             "outlinewidth": 0,
             "ticks": ""
            },
            "colorscale": [
             [
              0,
              "#0d0887"
             ],
             [
              0.1111111111111111,
              "#46039f"
             ],
             [
              0.2222222222222222,
              "#7201a8"
             ],
             [
              0.3333333333333333,
              "#9c179e"
             ],
             [
              0.4444444444444444,
              "#bd3786"
             ],
             [
              0.5555555555555556,
              "#d8576b"
             ],
             [
              0.6666666666666666,
              "#ed7953"
             ],
             [
              0.7777777777777778,
              "#fb9f3a"
             ],
             [
              0.8888888888888888,
              "#fdca26"
             ],
             [
              1,
              "#f0f921"
             ]
            ],
            "type": "heatmap"
           }
          ],
          "heatmapgl": [
           {
            "colorbar": {
             "outlinewidth": 0,
             "ticks": ""
            },
            "colorscale": [
             [
              0,
              "#0d0887"
             ],
             [
              0.1111111111111111,
              "#46039f"
             ],
             [
              0.2222222222222222,
              "#7201a8"
             ],
             [
              0.3333333333333333,
              "#9c179e"
             ],
             [
              0.4444444444444444,
              "#bd3786"
             ],
             [
              0.5555555555555556,
              "#d8576b"
             ],
             [
              0.6666666666666666,
              "#ed7953"
             ],
             [
              0.7777777777777778,
              "#fb9f3a"
             ],
             [
              0.8888888888888888,
              "#fdca26"
             ],
             [
              1,
              "#f0f921"
             ]
            ],
            "type": "heatmapgl"
           }
          ],
          "histogram": [
           {
            "marker": {
             "colorbar": {
              "outlinewidth": 0,
              "ticks": ""
             }
            },
            "type": "histogram"
           }
          ],
          "histogram2d": [
           {
            "colorbar": {
             "outlinewidth": 0,
             "ticks": ""
            },
            "colorscale": [
             [
              0,
              "#0d0887"
             ],
             [
              0.1111111111111111,
              "#46039f"
             ],
             [
              0.2222222222222222,
              "#7201a8"
             ],
             [
              0.3333333333333333,
              "#9c179e"
             ],
             [
              0.4444444444444444,
              "#bd3786"
             ],
             [
              0.5555555555555556,
              "#d8576b"
             ],
             [
              0.6666666666666666,
              "#ed7953"
             ],
             [
              0.7777777777777778,
              "#fb9f3a"
             ],
             [
              0.8888888888888888,
              "#fdca26"
             ],
             [
              1,
              "#f0f921"
             ]
            ],
            "type": "histogram2d"
           }
          ],
          "histogram2dcontour": [
           {
            "colorbar": {
             "outlinewidth": 0,
             "ticks": ""
            },
            "colorscale": [
             [
              0,
              "#0d0887"
             ],
             [
              0.1111111111111111,
              "#46039f"
             ],
             [
              0.2222222222222222,
              "#7201a8"
             ],
             [
              0.3333333333333333,
              "#9c179e"
             ],
             [
              0.4444444444444444,
              "#bd3786"
             ],
             [
              0.5555555555555556,
              "#d8576b"
             ],
             [
              0.6666666666666666,
              "#ed7953"
             ],
             [
              0.7777777777777778,
              "#fb9f3a"
             ],
             [
              0.8888888888888888,
              "#fdca26"
             ],
             [
              1,
              "#f0f921"
             ]
            ],
            "type": "histogram2dcontour"
           }
          ],
          "mesh3d": [
           {
            "colorbar": {
             "outlinewidth": 0,
             "ticks": ""
            },
            "type": "mesh3d"
           }
          ],
          "parcoords": [
           {
            "line": {
             "colorbar": {
              "outlinewidth": 0,
              "ticks": ""
             }
            },
            "type": "parcoords"
           }
          ],
          "pie": [
           {
            "automargin": true,
            "type": "pie"
           }
          ],
          "scatter": [
           {
            "marker": {
             "colorbar": {
              "outlinewidth": 0,
              "ticks": ""
             }
            },
            "type": "scatter"
           }
          ],
          "scatter3d": [
           {
            "line": {
             "colorbar": {
              "outlinewidth": 0,
              "ticks": ""
             }
            },
            "marker": {
             "colorbar": {
              "outlinewidth": 0,
              "ticks": ""
             }
            },
            "type": "scatter3d"
           }
          ],
          "scattercarpet": [
           {
            "marker": {
             "colorbar": {
              "outlinewidth": 0,
              "ticks": ""
             }
            },
            "type": "scattercarpet"
           }
          ],
          "scattergeo": [
           {
            "marker": {
             "colorbar": {
              "outlinewidth": 0,
              "ticks": ""
             }
            },
            "type": "scattergeo"
           }
          ],
          "scattergl": [
           {
            "marker": {
             "colorbar": {
              "outlinewidth": 0,
              "ticks": ""
             }
            },
            "type": "scattergl"
           }
          ],
          "scattermapbox": [
           {
            "marker": {
             "colorbar": {
              "outlinewidth": 0,
              "ticks": ""
             }
            },
            "type": "scattermapbox"
           }
          ],
          "scatterpolar": [
           {
            "marker": {
             "colorbar": {
              "outlinewidth": 0,
              "ticks": ""
             }
            },
            "type": "scatterpolar"
           }
          ],
          "scatterpolargl": [
           {
            "marker": {
             "colorbar": {
              "outlinewidth": 0,
              "ticks": ""
             }
            },
            "type": "scatterpolargl"
           }
          ],
          "scatterternary": [
           {
            "marker": {
             "colorbar": {
              "outlinewidth": 0,
              "ticks": ""
             }
            },
            "type": "scatterternary"
           }
          ],
          "surface": [
           {
            "colorbar": {
             "outlinewidth": 0,
             "ticks": ""
            },
            "colorscale": [
             [
              0,
              "#0d0887"
             ],
             [
              0.1111111111111111,
              "#46039f"
             ],
             [
              0.2222222222222222,
              "#7201a8"
             ],
             [
              0.3333333333333333,
              "#9c179e"
             ],
             [
              0.4444444444444444,
              "#bd3786"
             ],
             [
              0.5555555555555556,
              "#d8576b"
             ],
             [
              0.6666666666666666,
              "#ed7953"
             ],
             [
              0.7777777777777778,
              "#fb9f3a"
             ],
             [
              0.8888888888888888,
              "#fdca26"
             ],
             [
              1,
              "#f0f921"
             ]
            ],
            "type": "surface"
           }
          ],
          "table": [
           {
            "cells": {
             "fill": {
              "color": "#EBF0F8"
             },
             "line": {
              "color": "white"
             }
            },
            "header": {
             "fill": {
              "color": "#C8D4E3"
             },
             "line": {
              "color": "white"
             }
            },
            "type": "table"
           }
          ]
         },
         "layout": {
          "annotationdefaults": {
           "arrowcolor": "#2a3f5f",
           "arrowhead": 0,
           "arrowwidth": 1
          },
          "autotypenumbers": "strict",
          "coloraxis": {
           "colorbar": {
            "outlinewidth": 0,
            "ticks": ""
           }
          },
          "colorscale": {
           "diverging": [
            [
             0,
             "#8e0152"
            ],
            [
             0.1,
             "#c51b7d"
            ],
            [
             0.2,
             "#de77ae"
            ],
            [
             0.3,
             "#f1b6da"
            ],
            [
             0.4,
             "#fde0ef"
            ],
            [
             0.5,
             "#f7f7f7"
            ],
            [
             0.6,
             "#e6f5d0"
            ],
            [
             0.7,
             "#b8e186"
            ],
            [
             0.8,
             "#7fbc41"
            ],
            [
             0.9,
             "#4d9221"
            ],
            [
             1,
             "#276419"
            ]
           ],
           "sequential": [
            [
             0,
             "#0d0887"
            ],
            [
             0.1111111111111111,
             "#46039f"
            ],
            [
             0.2222222222222222,
             "#7201a8"
            ],
            [
             0.3333333333333333,
             "#9c179e"
            ],
            [
             0.4444444444444444,
             "#bd3786"
            ],
            [
             0.5555555555555556,
             "#d8576b"
            ],
            [
             0.6666666666666666,
             "#ed7953"
            ],
            [
             0.7777777777777778,
             "#fb9f3a"
            ],
            [
             0.8888888888888888,
             "#fdca26"
            ],
            [
             1,
             "#f0f921"
            ]
           ],
           "sequentialminus": [
            [
             0,
             "#0d0887"
            ],
            [
             0.1111111111111111,
             "#46039f"
            ],
            [
             0.2222222222222222,
             "#7201a8"
            ],
            [
             0.3333333333333333,
             "#9c179e"
            ],
            [
             0.4444444444444444,
             "#bd3786"
            ],
            [
             0.5555555555555556,
             "#d8576b"
            ],
            [
             0.6666666666666666,
             "#ed7953"
            ],
            [
             0.7777777777777778,
             "#fb9f3a"
            ],
            [
             0.8888888888888888,
             "#fdca26"
            ],
            [
             1,
             "#f0f921"
            ]
           ]
          },
          "colorway": [
           "#636efa",
           "#EF553B",
           "#00cc96",
           "#ab63fa",
           "#FFA15A",
           "#19d3f3",
           "#FF6692",
           "#B6E880",
           "#FF97FF",
           "#FECB52"
          ],
          "font": {
           "color": "#2a3f5f"
          },
          "geo": {
           "bgcolor": "white",
           "lakecolor": "white",
           "landcolor": "#E5ECF6",
           "showlakes": true,
           "showland": true,
           "subunitcolor": "white"
          },
          "hoverlabel": {
           "align": "left"
          },
          "hovermode": "closest",
          "mapbox": {
           "style": "light"
          },
          "paper_bgcolor": "white",
          "plot_bgcolor": "#E5ECF6",
          "polar": {
           "angularaxis": {
            "gridcolor": "white",
            "linecolor": "white",
            "ticks": ""
           },
           "bgcolor": "#E5ECF6",
           "radialaxis": {
            "gridcolor": "white",
            "linecolor": "white",
            "ticks": ""
           }
          },
          "scene": {
           "xaxis": {
            "backgroundcolor": "#E5ECF6",
            "gridcolor": "white",
            "gridwidth": 2,
            "linecolor": "white",
            "showbackground": true,
            "ticks": "",
            "zerolinecolor": "white"
           },
           "yaxis": {
            "backgroundcolor": "#E5ECF6",
            "gridcolor": "white",
            "gridwidth": 2,
            "linecolor": "white",
            "showbackground": true,
            "ticks": "",
            "zerolinecolor": "white"
           },
           "zaxis": {
            "backgroundcolor": "#E5ECF6",
            "gridcolor": "white",
            "gridwidth": 2,
            "linecolor": "white",
            "showbackground": true,
            "ticks": "",
            "zerolinecolor": "white"
           }
          },
          "shapedefaults": {
           "line": {
            "color": "#2a3f5f"
           }
          },
          "ternary": {
           "aaxis": {
            "gridcolor": "white",
            "linecolor": "white",
            "ticks": ""
           },
           "baxis": {
            "gridcolor": "white",
            "linecolor": "white",
            "ticks": ""
           },
           "bgcolor": "#E5ECF6",
           "caxis": {
            "gridcolor": "white",
            "linecolor": "white",
            "ticks": ""
           }
          },
          "title": {
           "x": 0.05
          },
          "xaxis": {
           "automargin": true,
           "gridcolor": "white",
           "linecolor": "white",
           "ticks": "",
           "title": {
            "standoff": 15
           },
           "zerolinecolor": "white",
           "zerolinewidth": 2
          },
          "yaxis": {
           "automargin": true,
           "gridcolor": "white",
           "linecolor": "white",
           "ticks": "",
           "title": {
            "standoff": 15
           },
           "zerolinecolor": "white",
           "zerolinewidth": 2
          }
         }
        },
        "title": {
         "text": "Turnover per Month"
        },
        "xaxis": {
         "anchor": "y",
         "domain": [
          0,
          1
         ],
         "title": {
          "text": "Day of Week"
         },
         "type": "category"
        },
        "yaxis": {
         "anchor": "x",
         "domain": [
          0,
          1
         ],
         "title": {
          "text": "Turnover"
         }
        }
       }
      }
     },
     "metadata": {}
    }
   ],
   "source": [
    "df = sdf_week_Umsatz.toPandas()\n",
    "\n",
    "fig = px.bar(df, x = \"dayofweek\", y = \"sum(turnover)\", color ='weekofyear', barmode = 'stack')\n",
    "\n",
    "fig.update_layout(title = \"Turnover per Month\",\n",
    "     xaxis_title = 'Day of Week', yaxis_title = 'Turnover')\n",
    "fig.update_xaxes(type=\"category\")\n",
    "fig.show()"
   ]
  },
  {
   "cell_type": "markdown",
   "metadata": {},
   "source": [
    "### Category and products\n",
    "\n",
    "#### Connection between category_class, category_code, category_id, product_id and brand\n",
    "\n",
    "Connection between category_class, category_code, category_id, product_id and brand\n",
    "The product_id is a subset of the category_id, which is a subset of the category_code. The category_code is in turn a subset of the category_class. (product_id ⊂ category_id ⊂ category_code ⊂ category_class). The brand on the otherhand is cross-class. This knowledge is based on the more detailed analyzes within the file \"product_analysis.ipnynb\".\n",
    "\n",
    "In the following plot you can see distribution of the product_id, category_id and category_code within the category_class. It´s possible to access a more detailed view by selecting a special category_class, category_code or category_id."
   ]
  },
  {
   "cell_type": "code",
   "execution_count": 45,
   "metadata": {},
   "outputs": [
    {
     "output_type": "display_data",
     "data": {
      "application/vnd.plotly.v1+json": {
       "config": {
        "plotlyServerURL": "https://plot.ly"
       },
       "data": [
        {
         "alignmentgroup": "True",
         "hovertemplate": "count(product_id)=%{y}<extra></extra>",
         "legendgroup": "",
         "marker": {
          "color": "#636efa"
         },
         "name": "",
         "notched": false,
         "offsetgroup": "",
         "orientation": "v",
         "showlegend": false,
         "type": "box",
         "x0": " ",
         "xaxis": "x",
         "y": [
          123,
          1,
          378,
          92,
          64,
          712,
          78,
          174,
          5022,
          10,
          1050,
          230,
          39,
          38,
          14,
          12,
          39,
          12,
          297,
          551,
          52,
          1929,
          927,
          43,
          237,
          524,
          174,
          53,
          9,
          700,
          64,
          145,
          446,
          136,
          34,
          1,
          530,
          96,
          105,
          214,
          183,
          305,
          82,
          16,
          220,
          24,
          614,
          80,
          52,
          201,
          26,
          7,
          176,
          23,
          369,
          107,
          17,
          145,
          720,
          27,
          40,
          2,
          1600,
          132,
          138,
          116,
          288,
          116,
          277,
          181,
          356,
          4,
          263,
          85,
          108,
          25,
          37,
          316,
          49,
          37,
          486,
          1300,
          49,
          595,
          449,
          31,
          54,
          1,
          148,
          93,
          121,
          55,
          11,
          60,
          112,
          409,
          1440,
          220,
          60,
          52,
          35,
          80,
          6,
          10,
          95,
          211,
          101,
          786,
          191,
          20,
          119,
          799,
          317,
          56,
          509,
          288,
          506,
          16,
          12,
          173,
          253,
          29,
          1,
          1858,
          168,
          10,
          266,
          81,
          15,
          168,
          56,
          39,
          41,
          179,
          406,
          233,
          39,
          1538,
          287,
          494,
          4,
          24,
          13,
          17,
          71,
          19,
          99,
          1,
          8,
          8,
          4,
          276,
          15,
          115,
          90,
          49,
          1371,
          35,
          63,
          256,
          466,
          187,
          111,
          52,
          7,
          26,
          389,
          14,
          21,
          392,
          486,
          171,
          160,
          774,
          68,
          10,
          72,
          783,
          417,
          1073,
          31,
          43,
          3335,
          233,
          28,
          18,
          111,
          1024,
          465,
          69,
          1,
          127,
          57,
          2501,
          105,
          43,
          3,
          4244,
          37,
          145,
          136,
          235,
          45,
          625,
          12,
          105,
          31,
          4,
          305,
          309,
          217,
          23,
          73,
          82,
          705,
          135,
          62,
          192,
          90,
          811,
          172,
          54,
          236,
          504,
          90,
          1346,
          83,
          18,
          592,
          431,
          14,
          189,
          312,
          7,
          51,
          33,
          29,
          28,
          4,
          26,
          52,
          243,
          3,
          7,
          1092,
          350,
          20,
          5,
          31,
          457,
          160,
          164,
          1578,
          251,
          419,
          22,
          11,
          18,
          11,
          1,
          625,
          290,
          19,
          78,
          84,
          15,
          3,
          18,
          8311,
          5,
          76,
          1852,
          300,
          212,
          190,
          1765,
          1,
          1585,
          84,
          10,
          101,
          34,
          23,
          7,
          51,
          1321,
          19,
          123,
          32,
          12,
          4,
          15,
          129,
          86,
          59,
          164,
          97,
          63,
          9,
          12,
          195,
          148,
          922,
          533,
          252,
          31,
          19,
          1363,
          127,
          81,
          162,
          6,
          212,
          259,
          10,
          34,
          38,
          705,
          215,
          173,
          146,
          13,
          11,
          14,
          40,
          1,
          697,
          167,
          39,
          58,
          48,
          36,
          2,
          270,
          591,
          333,
          216,
          33,
          229,
          38,
          131,
          19,
          513,
          4,
          12,
          1518,
          275,
          38,
          4,
          595,
          31,
          4,
          331,
          195,
          123,
          66,
          33,
          625,
          85,
          238,
          8,
          1306,
          342,
          7,
          66,
          75,
          55,
          29,
          204,
          67,
          126,
          119,
          449,
          16,
          18,
          29,
          17,
          23,
          1146,
          376,
          69,
          8,
          66,
          188,
          183,
          46,
          80,
          883,
          488,
          156,
          429,
          6,
          567,
          143,
          35,
          71,
          1,
          937,
          2210,
          119,
          37,
          181,
          20,
          1724,
          369,
          56,
          35,
          2264,
          126,
          5,
          6,
          247,
          544,
          82,
          24,
          87,
          10,
          5,
          734,
          65,
          71,
          11,
          24,
          22,
          43,
          33,
          234,
          130,
          88,
          71,
          12,
          629,
          253,
          581,
          164,
          126,
          1,
          19,
          70,
          156,
          297,
          54,
          60,
          509,
          357,
          70,
          313,
          205,
          103,
          241,
          165,
          144,
          49,
          12,
          2384,
          98,
          686,
          556,
          68,
          56,
          76,
          112,
          16,
          22,
          17,
          626,
          46,
          81,
          2,
          1,
          38,
          55,
          2,
          944,
          102,
          277,
          17,
          76,
          27,
          71,
          186,
          824,
          109,
          105,
          16,
          30,
          5,
          413,
          873,
          268,
          14,
          693,
          355,
          12,
          418,
          5,
          705,
          733,
          509,
          81,
          31,
          66,
          458,
          794,
          119,
          52,
          19,
          15,
          1,
          1278,
          467,
          101,
          10,
          65,
          289,
          337,
          187,
          7,
          298,
          674,
          425,
          211,
          45,
          12,
          499,
          10,
          757,
          92,
          47,
          15,
          18,
          20,
          20,
          15,
          92,
          12,
          449,
          16,
          14,
          1364,
          120,
          7,
          181,
          26,
          469,
          219,
          31,
          15,
          9,
          1516,
          245,
          408,
          262,
          77,
          239,
          258,
          47,
          27,
          52,
          322,
          502,
          745,
          271,
          60,
          20,
          647,
          15,
          1,
          411,
          510,
          342,
          246,
          154,
          36,
          1,
          5,
          1359,
          62,
          1111,
          13,
          896,
          74,
          112,
          3,
          49,
          31,
          105,
          24,
          13,
          1,
          246,
          55,
          52,
          10,
          628,
          173,
          561,
          9,
          38,
          107,
          57,
          67,
          74,
          53,
          37,
          4990,
          2946,
          519,
          6,
          152,
          265,
          146,
          87,
          349,
          108,
          215,
          16,
          79,
          569,
          188,
          36,
          49,
          652,
          298,
          49,
          248,
          164,
          57,
          16,
          1,
          16,
          562,
          9,
          755,
          374,
          8,
          111,
          2370,
          424,
          1,
          3,
          12214,
          497,
          30,
          7,
          797,
          50,
          76,
          120,
          71,
          45,
          55,
          155,
          81,
          70,
          366,
          179,
          30,
          48,
          58,
          270,
          171,
          45,
          24,
          157,
          4,
          8,
          21,
          258,
          661,
          205,
          200,
          1327,
          14,
          251,
          556,
          65,
          7,
          22,
          2738,
          106,
          495,
          2377,
          86,
          20,
          26,
          3,
          19,
          449,
          195,
          8
         ],
         "y0": " ",
         "yaxis": "y"
        }
       ],
       "layout": {
        "boxmode": "group",
        "legend": {
         "tracegroupgap": 0
        },
        "template": {
         "data": {
          "bar": [
           {
            "error_x": {
             "color": "#2a3f5f"
            },
            "error_y": {
             "color": "#2a3f5f"
            },
            "marker": {
             "line": {
              "color": "#E5ECF6",
              "width": 0.5
             }
            },
            "type": "bar"
           }
          ],
          "barpolar": [
           {
            "marker": {
             "line": {
              "color": "#E5ECF6",
              "width": 0.5
             }
            },
            "type": "barpolar"
           }
          ],
          "carpet": [
           {
            "aaxis": {
             "endlinecolor": "#2a3f5f",
             "gridcolor": "white",
             "linecolor": "white",
             "minorgridcolor": "white",
             "startlinecolor": "#2a3f5f"
            },
            "baxis": {
             "endlinecolor": "#2a3f5f",
             "gridcolor": "white",
             "linecolor": "white",
             "minorgridcolor": "white",
             "startlinecolor": "#2a3f5f"
            },
            "type": "carpet"
           }
          ],
          "choropleth": [
           {
            "colorbar": {
             "outlinewidth": 0,
             "ticks": ""
            },
            "type": "choropleth"
           }
          ],
          "contour": [
           {
            "colorbar": {
             "outlinewidth": 0,
             "ticks": ""
            },
            "colorscale": [
             [
              0,
              "#0d0887"
             ],
             [
              0.1111111111111111,
              "#46039f"
             ],
             [
              0.2222222222222222,
              "#7201a8"
             ],
             [
              0.3333333333333333,
              "#9c179e"
             ],
             [
              0.4444444444444444,
              "#bd3786"
             ],
             [
              0.5555555555555556,
              "#d8576b"
             ],
             [
              0.6666666666666666,
              "#ed7953"
             ],
             [
              0.7777777777777778,
              "#fb9f3a"
             ],
             [
              0.8888888888888888,
              "#fdca26"
             ],
             [
              1,
              "#f0f921"
             ]
            ],
            "type": "contour"
           }
          ],
          "contourcarpet": [
           {
            "colorbar": {
             "outlinewidth": 0,
             "ticks": ""
            },
            "type": "contourcarpet"
           }
          ],
          "heatmap": [
           {
            "colorbar": {
             "outlinewidth": 0,
             "ticks": ""
            },
            "colorscale": [
             [
              0,
              "#0d0887"
             ],
             [
              0.1111111111111111,
              "#46039f"
             ],
             [
              0.2222222222222222,
              "#7201a8"
             ],
             [
              0.3333333333333333,
              "#9c179e"
             ],
             [
              0.4444444444444444,
              "#bd3786"
             ],
             [
              0.5555555555555556,
              "#d8576b"
             ],
             [
              0.6666666666666666,
              "#ed7953"
             ],
             [
              0.7777777777777778,
              "#fb9f3a"
             ],
             [
              0.8888888888888888,
              "#fdca26"
             ],
             [
              1,
              "#f0f921"
             ]
            ],
            "type": "heatmap"
           }
          ],
          "heatmapgl": [
           {
            "colorbar": {
             "outlinewidth": 0,
             "ticks": ""
            },
            "colorscale": [
             [
              0,
              "#0d0887"
             ],
             [
              0.1111111111111111,
              "#46039f"
             ],
             [
              0.2222222222222222,
              "#7201a8"
             ],
             [
              0.3333333333333333,
              "#9c179e"
             ],
             [
              0.4444444444444444,
              "#bd3786"
             ],
             [
              0.5555555555555556,
              "#d8576b"
             ],
             [
              0.6666666666666666,
              "#ed7953"
             ],
             [
              0.7777777777777778,
              "#fb9f3a"
             ],
             [
              0.8888888888888888,
              "#fdca26"
             ],
             [
              1,
              "#f0f921"
             ]
            ],
            "type": "heatmapgl"
           }
          ],
          "histogram": [
           {
            "marker": {
             "colorbar": {
              "outlinewidth": 0,
              "ticks": ""
             }
            },
            "type": "histogram"
           }
          ],
          "histogram2d": [
           {
            "colorbar": {
             "outlinewidth": 0,
             "ticks": ""
            },
            "colorscale": [
             [
              0,
              "#0d0887"
             ],
             [
              0.1111111111111111,
              "#46039f"
             ],
             [
              0.2222222222222222,
              "#7201a8"
             ],
             [
              0.3333333333333333,
              "#9c179e"
             ],
             [
              0.4444444444444444,
              "#bd3786"
             ],
             [
              0.5555555555555556,
              "#d8576b"
             ],
             [
              0.6666666666666666,
              "#ed7953"
             ],
             [
              0.7777777777777778,
              "#fb9f3a"
             ],
             [
              0.8888888888888888,
              "#fdca26"
             ],
             [
              1,
              "#f0f921"
             ]
            ],
            "type": "histogram2d"
           }
          ],
          "histogram2dcontour": [
           {
            "colorbar": {
             "outlinewidth": 0,
             "ticks": ""
            },
            "colorscale": [
             [
              0,
              "#0d0887"
             ],
             [
              0.1111111111111111,
              "#46039f"
             ],
             [
              0.2222222222222222,
              "#7201a8"
             ],
             [
              0.3333333333333333,
              "#9c179e"
             ],
             [
              0.4444444444444444,
              "#bd3786"
             ],
             [
              0.5555555555555556,
              "#d8576b"
             ],
             [
              0.6666666666666666,
              "#ed7953"
             ],
             [
              0.7777777777777778,
              "#fb9f3a"
             ],
             [
              0.8888888888888888,
              "#fdca26"
             ],
             [
              1,
              "#f0f921"
             ]
            ],
            "type": "histogram2dcontour"
           }
          ],
          "mesh3d": [
           {
            "colorbar": {
             "outlinewidth": 0,
             "ticks": ""
            },
            "type": "mesh3d"
           }
          ],
          "parcoords": [
           {
            "line": {
             "colorbar": {
              "outlinewidth": 0,
              "ticks": ""
             }
            },
            "type": "parcoords"
           }
          ],
          "pie": [
           {
            "automargin": true,
            "type": "pie"
           }
          ],
          "scatter": [
           {
            "marker": {
             "colorbar": {
              "outlinewidth": 0,
              "ticks": ""
             }
            },
            "type": "scatter"
           }
          ],
          "scatter3d": [
           {
            "line": {
             "colorbar": {
              "outlinewidth": 0,
              "ticks": ""
             }
            },
            "marker": {
             "colorbar": {
              "outlinewidth": 0,
              "ticks": ""
             }
            },
            "type": "scatter3d"
           }
          ],
          "scattercarpet": [
           {
            "marker": {
             "colorbar": {
              "outlinewidth": 0,
              "ticks": ""
             }
            },
            "type": "scattercarpet"
           }
          ],
          "scattergeo": [
           {
            "marker": {
             "colorbar": {
              "outlinewidth": 0,
              "ticks": ""
             }
            },
            "type": "scattergeo"
           }
          ],
          "scattergl": [
           {
            "marker": {
             "colorbar": {
              "outlinewidth": 0,
              "ticks": ""
             }
            },
            "type": "scattergl"
           }
          ],
          "scattermapbox": [
           {
            "marker": {
             "colorbar": {
              "outlinewidth": 0,
              "ticks": ""
             }
            },
            "type": "scattermapbox"
           }
          ],
          "scatterpolar": [
           {
            "marker": {
             "colorbar": {
              "outlinewidth": 0,
              "ticks": ""
             }
            },
            "type": "scatterpolar"
           }
          ],
          "scatterpolargl": [
           {
            "marker": {
             "colorbar": {
              "outlinewidth": 0,
              "ticks": ""
             }
            },
            "type": "scatterpolargl"
           }
          ],
          "scatterternary": [
           {
            "marker": {
             "colorbar": {
              "outlinewidth": 0,
              "ticks": ""
             }
            },
            "type": "scatterternary"
           }
          ],
          "surface": [
           {
            "colorbar": {
             "outlinewidth": 0,
             "ticks": ""
            },
            "colorscale": [
             [
              0,
              "#0d0887"
             ],
             [
              0.1111111111111111,
              "#46039f"
             ],
             [
              0.2222222222222222,
              "#7201a8"
             ],
             [
              0.3333333333333333,
              "#9c179e"
             ],
             [
              0.4444444444444444,
              "#bd3786"
             ],
             [
              0.5555555555555556,
              "#d8576b"
             ],
             [
              0.6666666666666666,
              "#ed7953"
             ],
             [
              0.7777777777777778,
              "#fb9f3a"
             ],
             [
              0.8888888888888888,
              "#fdca26"
             ],
             [
              1,
              "#f0f921"
             ]
            ],
            "type": "surface"
           }
          ],
          "table": [
           {
            "cells": {
             "fill": {
              "color": "#EBF0F8"
             },
             "line": {
              "color": "white"
             }
            },
            "header": {
             "fill": {
              "color": "#C8D4E3"
             },
             "line": {
              "color": "white"
             }
            },
            "type": "table"
           }
          ]
         },
         "layout": {
          "annotationdefaults": {
           "arrowcolor": "#2a3f5f",
           "arrowhead": 0,
           "arrowwidth": 1
          },
          "autotypenumbers": "strict",
          "coloraxis": {
           "colorbar": {
            "outlinewidth": 0,
            "ticks": ""
           }
          },
          "colorscale": {
           "diverging": [
            [
             0,
             "#8e0152"
            ],
            [
             0.1,
             "#c51b7d"
            ],
            [
             0.2,
             "#de77ae"
            ],
            [
             0.3,
             "#f1b6da"
            ],
            [
             0.4,
             "#fde0ef"
            ],
            [
             0.5,
             "#f7f7f7"
            ],
            [
             0.6,
             "#e6f5d0"
            ],
            [
             0.7,
             "#b8e186"
            ],
            [
             0.8,
             "#7fbc41"
            ],
            [
             0.9,
             "#4d9221"
            ],
            [
             1,
             "#276419"
            ]
           ],
           "sequential": [
            [
             0,
             "#0d0887"
            ],
            [
             0.1111111111111111,
             "#46039f"
            ],
            [
             0.2222222222222222,
             "#7201a8"
            ],
            [
             0.3333333333333333,
             "#9c179e"
            ],
            [
             0.4444444444444444,
             "#bd3786"
            ],
            [
             0.5555555555555556,
             "#d8576b"
            ],
            [
             0.6666666666666666,
             "#ed7953"
            ],
            [
             0.7777777777777778,
             "#fb9f3a"
            ],
            [
             0.8888888888888888,
             "#fdca26"
            ],
            [
             1,
             "#f0f921"
            ]
           ],
           "sequentialminus": [
            [
             0,
             "#0d0887"
            ],
            [
             0.1111111111111111,
             "#46039f"
            ],
            [
             0.2222222222222222,
             "#7201a8"
            ],
            [
             0.3333333333333333,
             "#9c179e"
            ],
            [
             0.4444444444444444,
             "#bd3786"
            ],
            [
             0.5555555555555556,
             "#d8576b"
            ],
            [
             0.6666666666666666,
             "#ed7953"
            ],
            [
             0.7777777777777778,
             "#fb9f3a"
            ],
            [
             0.8888888888888888,
             "#fdca26"
            ],
            [
             1,
             "#f0f921"
            ]
           ]
          },
          "colorway": [
           "#636efa",
           "#EF553B",
           "#00cc96",
           "#ab63fa",
           "#FFA15A",
           "#19d3f3",
           "#FF6692",
           "#B6E880",
           "#FF97FF",
           "#FECB52"
          ],
          "font": {
           "color": "#2a3f5f"
          },
          "geo": {
           "bgcolor": "white",
           "lakecolor": "white",
           "landcolor": "#E5ECF6",
           "showlakes": true,
           "showland": true,
           "subunitcolor": "white"
          },
          "hoverlabel": {
           "align": "left"
          },
          "hovermode": "closest",
          "mapbox": {
           "style": "light"
          },
          "paper_bgcolor": "white",
          "plot_bgcolor": "#E5ECF6",
          "polar": {
           "angularaxis": {
            "gridcolor": "white",
            "linecolor": "white",
            "ticks": ""
           },
           "bgcolor": "#E5ECF6",
           "radialaxis": {
            "gridcolor": "white",
            "linecolor": "white",
            "ticks": ""
           }
          },
          "scene": {
           "xaxis": {
            "backgroundcolor": "#E5ECF6",
            "gridcolor": "white",
            "gridwidth": 2,
            "linecolor": "white",
            "showbackground": true,
            "ticks": "",
            "zerolinecolor": "white"
           },
           "yaxis": {
            "backgroundcolor": "#E5ECF6",
            "gridcolor": "white",
            "gridwidth": 2,
            "linecolor": "white",
            "showbackground": true,
            "ticks": "",
            "zerolinecolor": "white"
           },
           "zaxis": {
            "backgroundcolor": "#E5ECF6",
            "gridcolor": "white",
            "gridwidth": 2,
            "linecolor": "white",
            "showbackground": true,
            "ticks": "",
            "zerolinecolor": "white"
           }
          },
          "shapedefaults": {
           "line": {
            "color": "#2a3f5f"
           }
          },
          "ternary": {
           "aaxis": {
            "gridcolor": "white",
            "linecolor": "white",
            "ticks": ""
           },
           "baxis": {
            "gridcolor": "white",
            "linecolor": "white",
            "ticks": ""
           },
           "bgcolor": "#E5ECF6",
           "caxis": {
            "gridcolor": "white",
            "linecolor": "white",
            "ticks": ""
           }
          },
          "title": {
           "x": 0.05
          },
          "xaxis": {
           "automargin": true,
           "gridcolor": "white",
           "linecolor": "white",
           "ticks": "",
           "title": {
            "standoff": 15
           },
           "zerolinecolor": "white",
           "zerolinewidth": 2
          },
          "yaxis": {
           "automargin": true,
           "gridcolor": "white",
           "linecolor": "white",
           "ticks": "",
           "title": {
            "standoff": 15
           },
           "zerolinecolor": "white",
           "zerolinewidth": 2
          }
         }
        },
        "title": {
         "text": "Number of products per category_id"
        },
        "xaxis": {
         "anchor": "y",
         "domain": [
          0,
          1
         ]
        },
        "yaxis": {
         "anchor": "x",
         "domain": [
          0,
          1
         ],
         "title": {
          "text": "count(product_id)"
         }
        }
       }
      }
     },
     "metadata": {}
    }
   ],
   "source": [
    "sdf_product_per_category = sdf_raw.groupBy(\"category_id\").agg(f.countDistinct(\"product_id\"))\n",
    "\n",
    "df = sdf_product_per_category.toPandas()\n",
    "px.box(df, y=\"count(product_id)\", title=\"Number of products per category_id\")"
   ]
  },
  {
   "cell_type": "code",
   "execution_count": 46,
   "metadata": {},
   "outputs": [
    {
     "output_type": "display_data",
     "data": {
      "application/vnd.plotly.v1+json": {
       "config": {
        "plotlyServerURL": "https://plot.ly"
       },
       "data": [
        {
         "branchvalues": "total",
         "domain": {
          "x": [
           0,
           1
          ],
          "y": [
           0,
           1
          ]
         },
         "hovertemplate": "labels=%{label}<br>count=%{value}<br>parent=%{parent}<br>id=%{id}<extra></extra>",
         "ids": [
          "accessories/a-elita",
          "computers/aardwolf",
          "kids/abtoys",
          "country_yard/accumaster",
          "computers/acd",
          "accessories/acer",
          "computers/acer",
          "electronics/acer",
          "electronics/aces",
          "appliances/acme",
          "computers/acme",
          "electronics/acme",
          "electronics/acqua",
          "accessories/acron",
          "auto/acv",
          "electronics/acv",
          "electronics/adagio",
          "electronics/adam",
          "furniture/adamas",
          "furniture/adamex",
          "kids/adamex",
          "computers/adata",
          "furniture/adel",
          "apparel/adidas",
          "kids/adil",
          "electronics/admira",
          "electronics/adriatica",
          "furniture/adrilux",
          "appliances/aeg",
          "furniture/aero",
          "computers/aerocool",
          "furniture/aerocool",
          "construction/aeroforce",
          "computers/afox",
          "apparel/ag",
          "apparel/agatharuizdelaprada",
          "appliances/agness",
          "country_yard/agrimotor",
          "appliances/agu",
          "electronics/agu",
          "construction/aiken",
          "kids/aimile",
          "electronics/aimoto",
          "computers/air-cool",
          "appliances/airline",
          "auto/airline",
          "computers/airmax",
          "sport/aist",
          "apparel/aivengo",
          "electronics/akai",
          "appliances/akel",
          "electronics/akg",
          "construction/akor",
          "appliances/akpo",
          "appliances/akro",
          "appliances/aksion",
          "stationery/akvafor",
          "furniture/akvarel",
          "furniture/akvaton",
          "construction/al-ko",
          "country_yard/al-ko",
          "apparel/aladen",
          "apparel/alaskaoriginale",
          "furniture/alavann",
          "auto/alca",
          "electronics/alctron",
          "furniture/aldit",
          "electronics/alesis",
          "appliances/aletant",
          "furniture/alfa",
          "kids/alilo",
          "kids/alis",
          "auto/alligator",
          "appliances/almacom",
          "computers/almacom",
          "furniture/almaks",
          "electronics/alphard",
          "appliances/alpicool",
          "apparel/alpina",
          "electronics/alpina",
          "sport/alpina",
          "auto/alpine",
          "electronics/alpine",
          "computers/alser",
          "kids/altacto",
          "kids/altair",
          "sport/altair",
          "appliances/alteco",
          "auto/alteco",
          "construction/alteco",
          "country_yard/alteco",
          "furniture/alterna",
          "furniture/altinbasak",
          "electronics/alvarez",
          "furniture/alvitek",
          "construction/am.pm",
          "furniture/am.pm",
          "computers/amazon",
          "computers/amd",
          "accessories/amen",
          "sport/americanmotionfitness",
          "electronics/amistar",
          "construction/ampm",
          "auto/ams",
          "medicine/and",
          "accessories/andromeda",
          "kids/anex",
          "apparel/annaanna",
          "appliances/annovireverberi",
          "sport/anon",
          "furniture/anreks",
          "construction/ansmann",
          "sport/ansmann",
          "apparel/anta",
          "furniture/antika",
          "auto/anytek",
          "computers/aoc",
          "electronics/aoc",
          "appliances/aoki",
          "computers/aorus",
          "computers/apacer",
          "electronics/apart",
          "appliances/apollo",
          "accessories/apple",
          "computers/apple",
          "electronics/apple",
          "furniture/apriori",
          "appliances/aqua",
          "furniture/aqualife",
          "stationery/aquamarine",
          "accessories/aquatic",
          "appliances/aquaverso",
          "apparel/ara",
          "appliances/ardesia",
          "appliances/ardo",
          "appliances/arg",
          "electronics/arg",
          "electronics/aria",
          "appliances/ariete",
          "appliances/ariston",
          "electronics/ark",
          "electronics/armani",
          "appliances/arnica",
          "kids/arno",
          "accessories/arstisa",
          "appliances/artel",
          "electronics/artel",
          "electronics/artiny",
          "electronics/arturia",
          "auto/artway",
          "furniture/arua",
          "appliances/ascoli",
          "appliances/asel",
          "furniture/ashleyfurniture",
          "apparel/asics",
          "furniture/askona",
          "furniture/asm",
          "computers/asrock",
          "appliances/aston",
          "furniture/astrid",
          "accessories/asus",
          "computers/asus",
          "electronics/asus",
          "appliances/atlant",
          "sport/atlant",
          "appliances/atlantic",
          "apparel/atomic",
          "sport/atomic",
          "apparel/atrai",
          "appliances/attribute",
          "electronics/audac",
          "electronics/audio-technica",
          "electronics/audiotop",
          "electronics/audison",
          "electronics/aula",
          "kids/auldey",
          "appliances/aurora",
          "auto/aurora",
          "construction/aurora",
          "kids/aurora",
          "sport/author",
          "auto/autoline",
          "auto/autoprofi",
          "appliances/autovirazh",
          "auto/autovirazh",
          "appliances/aux",
          "appliances/ava",
          "electronics/ava",
          "computers/avalon",
          "electronics/avatar",
          "auto/avel",
          "electronics/avermedia",
          "auto/avis",
          "electronics/avis",
          "furniture/avrora",
          "furniture/avrorateksdizajn",
          "auto/avs",
          "electronics/awei",
          "sport/axis",
          "auto/axper",
          "kids/azbukvarik",
          "kids/b-kids",
          "sport/babolat",
          "kids/baboo",
          "furniture/baby",
          "apparel/babybotte",
          "furniture/babygo",
          "kids/babygo",
          "furniture/babyhit",
          "kids/babyhit",
          "sport/babyhit",
          "kids/babykiss",
          "appliances/babyliss",
          "appliances/babylisspro",
          "appliances/babylock",
          "kids/babymoov",
          "furniture/babys",
          "kids/babysinq",
          "kids/babyswing",
          "kids/babytime",
          "kids/babyzen",
          "kids/babyzz",
          "accessories/baden",
          "apparel/baden",
          "sport/bafang",
          "kids/bair",
          "computers/ballistix",
          "appliances/ballu",
          "electronics/balmain",
          "furniture/bambini",
          "furniture/bambola",
          "kids/bambola",
          "construction/bamboo",
          "apparel/baratto",
          "kids/barbie",
          "stationery/barer",
          "appliances/barhatnyjsezon",
          "computers/barneo",
          "furniture/barneo",
          "apparel/bartek",
          "kids/bartplast",
          "furniture/barty",
          "computers/basic",
          "kids/basik",
          "kids/batman",
          "kids/battat",
          "kids/bayer",
          "kids/bayerdolls",
          "furniture/bayerlux",
          "furniture/bazhou",
          "appliances/bbk",
          "kids/bburago",
          "appliances/beaba",
          "electronics/beats",
          "electronics/behringer",
          "appliances/beko",
          "kids/bel",
          "furniture/belashoff",
          "furniture/belecoo",
          "kids/belecoo",
          "furniture/bellamebel",
          "furniture/belux",
          "appliances/bene",
          "construction/bene",
          "kids/benebaby",
          "computers/benq",
          "sport/bentley",
          "appliances/berghoff",
          "appliances/bergner",
          "auto/berkut",
          "appliances/bernina",
          "furniture/bertoni",
          "kids/bertoni",
          "sport/bertoni",
          "furniture/besafe",
          "appliances/best",
          "accessories/bestlife",
          "kids/bestoy",
          "accessories/bestway",
          "construction/bestway",
          "apparel/betsy",
          "appliances/beurer",
          "electronics/beyerdynamic",
          "sport/bfsnowboards",
          "electronics/biema",
          "appliances/biemmedue",
          "appliances/binatone",
          "furniture/bio-tekstil",
          "apparel/biomecanics",
          "computers/biostar",
          "appliances/birusa",
          "appliances/bissell",
          "construction/bissell",
          "kids/biwec",
          "sport/biwec",
          "electronics/blackberry",
          "construction/blackdecker",
          "auto/blackvue",
          "electronics/blam",
          "construction/blanco",
          "appliances/blauberg",
          "electronics/blaupunkt",
          "electronics/blg",
          "electronics/bluedio",
          "apparel/blueseven",
          "auto/bluesonic",
          "electronics/bluesonic",
          "sport/bmw",
          "electronics/boccia",
          "apparel/bochetti",
          "appliances/bodykraft",
          "sport/bodysculpture",
          "furniture/bohemia",
          "appliances/bomann",
          "electronics/bomberg",
          "appliances/bompani",
          "computers/bona",
          "apparel/bond",
          "appliances/bonvini",
          "electronics/borasco",
          "appliances/bork",
          "construction/bork",
          "furniture/borovici",
          "accessories/bosch",
          "appliances/bosch",
          "construction/bosch",
          "country_yard/bosch",
          "electronics/bosch",
          "electronics/bose",
          "appliances/bosher",
          "construction/bossh",
          "furniture/botticelli",
          "kids/bouncin",
          "construction/bovidix",
          "appliances/boyscout",
          "electronics/bq",
          "appliances/bradex",
          "computers/brateck",
          "appliances/braun",
          "construction/bravat",
          "electronics/bravis",
          "furniture/brevi",
          "kids/brevi",
          "construction/britop",
          "appliances/brother",
          "stationery/brother",
          "furniture/brw",
          "appliances/bts",
          "furniture/bts",
          "kids/budibasa",
          "furniture/bugaboo",
          "kids/bugaboo",
          "apparel/bugatti",
          "electronics/bulova",
          "apparel/bumbleride",
          "kids/bumbleride",
          "apparel/burgerschuhe",
          "apparel/burton",
          "sport/burton",
          "kids/buttonblue",
          "electronics/byintek",
          "construction/caiman",
          "kids/callida",
          "construction/calorie",
          "electronics/calvinklein",
          "electronics/calypso",
          "furniture/cam",
          "kids/cam",
          "construction/cameo",
          "accessories/cameron",
          "appliances/cameron",
          "computers/cameron",
          "auto/camshel",
          "apparel/can-am",
          "furniture/candide",
          "appliances/candy",
          "electronics/candy",
          "kids/candy",
          "sport/cannondale",
          "computers/canon",
          "electronics/canon",
          "stationery/canon",
          "electronics/canton",
          "accessories/canyon",
          "computers/canyon",
          "electronics/canyon",
          "kids/capella",
          "accessories/capline",
          "apparel/caprice",
          "furniture/caramelia",
          "electronics/caravanmusic",
          "electronics/caraya",
          "auto/cardrox",
          "appliances/carhome",
          "appliances/carino",
          "accessories/carpisa",
          "apparel/carpisa",
          "apparel/carters",
          "appliances/carver",
          "construction/carver",
          "country_yard/carver",
          "appliances/casada",
          "sport/casada",
          "construction/casela",
          "electronics/casio",
          "country_yard/castelgarden",
          "kids/castorland",
          "appliances/cata",
          "apparel/catimini",
          "apparel/catunltd",
          "apparel/cavaletto",
          "appliances/cavanova",
          "electronics/celebrat",
          "appliances/cellarprivate",
          "auto/cenmax",
          "appliances/centek",
          "furniture/centrpravilnogosna",
          "auto/centurion",
          "sport/centurion",
          "furniture/cepeckaamf",
          "furniture/cersanit",
          "electronics/certina",
          "computers/chairman",
          "furniture/chairman",
          "auto/chameleon",
          "electronics/changhong",
          "sport/chaod",
          "appliances/char-broil",
          "appliances/chayka",
          "computers/chenri",
          "apparel/chicco",
          "furniture/chicco",
          "kids/chicco",
          "sport/chicco",
          "computers/chieftec",
          "appliances/chigo",
          "apparel/ciaobimbi",
          "furniture/cilek",
          "electronics/cinemood",
          "kids/circle",
          "electronics/citizen",
          "kids/cityrover",
          "auto/cityup",
          "auto/clarion",
          "electronics/clarion",
          "appliances/clatronic",
          "construction/clatronic",
          "electronics/claudebernard",
          "sport/cliff",
          "appliances/climadiff",
          "appliances/cmi",
          "construction/cmi",
          "country_yard/cmi",
          "computers/cnd",
          "electronics/cnd",
          "kids/coballe",
          "computers/cobra",
          "construction/cobra",
          "sport/cobra",
          "accessories/coccinelle",
          "accessories/coleman",
          "furniture/colombo",
          "stationery/colorfix",
          "computers/colorful",
          "stationery/colorway",
          "apparel/columbia",
          "sport/columbia",
          "appliances/comfee",
          "accessories/conceptclub",
          "apparel/conceptclub",
          "apparel/conte",
          "accessories/continent",
          "electronics/continent",
          "apparel/converse",
          "computers/coolermaster",
          "appliances/coolfort",
          "kids/coolmaster",
          "appliances/cooperhunter",
          "computers/corsair",
          "electronics/cort",
          "electronics/cortland",
          "computers/cougar",
          "electronics/cougar",
          "apparel/covani",
          "apparel/cover",
          "electronics/cover",
          "electronics/cowon",
          "electronics/creative",
          "kids/creature",
          "furniture/creavit",
          "furniture/creo",
          "furniture/creoceramique",
          "apparel/crockid",
          "apparel/crosby",
          "accessories/crown",
          "appliances/crown",
          "computers/crown",
          "construction/crown",
          "electronics/crown",
          "stationery/crown",
          "computers/crucial",
          "auto/crunch",
          "electronics/crunch",
          "electronics/crusader",
          "kids/crybabies",
          "medicine/csmedica",
          "sport/cube",
          "kids/cubicfun",
          "electronics/cvgaudio",
          "apparel/cybex",
          "furniture/cybex",
          "kids/cybex",
          "computers/d-link",
          "construction/dab",
          "appliances/daewoo",
          "construction/daewoo",
          "country_yard/daewoo",
          "appliances/daewooelectronics",
          "electronics/dagee",
          "appliances/dahatsu",
          "sport/dahon",
          "auto/dahua",
          "appliances/daiwerina",
          "accessories/dam",
          "appliances/dam",
          "construction/damixa",
          "apparel/daneildesch",
          "construction/daniel",
          "electronics/danielklein",
          "appliances/danke",
          "furniture/dardav",
          "appliances/darina",
          "appliances/dasch",
          "appliances/dauscher",
          "electronics/dauscher",
          "auto/davinci",
          "furniture/davita",
          "apparel/dcshoes",
          "construction/decoroom",
          "computers/deepcool",
          "kids/defalucy",
          "accessories/defender",
          "auto/defender",
          "computers/defender",
          "electronics/defender",
          "appliances/delimano",
          "accessories/dell",
          "computers/dell",
          "appliances/delonghi",
          "accessories/delsey",
          "appliances/delsot",
          "appliances/delta",
          "computers/delux",
          "electronics/delux",
          "accessories/deluxe",
          "appliances/deluxe",
          "auto/deluxe",
          "computers/deluxe",
          "construction/deluxe",
          "furniture/deluxe",
          "appliances/demark",
          "appliances/demiray",
          "electronics/denn",
          "appliances/denzel",
          "auto/denzel",
          "construction/denzel",
          "country_yard/denzel",
          "electronics/deppa",
          "kids/derevaski",
          "apparel/derspur",
          "apparel/destra",
          "electronics/detomaso",
          "appliances/deton",
          "electronics/deviser",
          "accessories/dewalt",
          "appliances/dewalt",
          "construction/dewalt",
          "country_yard/dewalt",
          "appliances/dexp",
          "electronics/dexp",
          "kids/dickie",
          "kids/dickietoys",
          "apparel/didistyle",
          "electronics/diesel",
          "apparel/dion",
          "apparel/dirkje",
          "kids/disney",
          "appliances/ditreex",
          "furniture/divalux",
          "electronics/dji",
          "sport/dk",
          "electronics/dkny",
          "electronics/dlaudio",
          "electronics/dls",
          "furniture/dobroparov",
          "kids/dodo",
          "appliances/dogrular",
          "apparel/dolcevita",
          "furniture/domani-spa",
          "appliances/domasnijocag",
          "accessories/dometic",
          "appliances/dometic",
          "furniture/domini",
          "sport/domyos",
          "electronics/doogee",
          "kids/doohan",
          "kids/doona",
          "furniture/dormeo",
          "kids/doubleeagle",
          "sport/doublefish",
          "auto/dowontec",
          "apparel/dragonfly",
          "computers/dreammachines",
          "construction/dremel",
          "construction/drgans",
          "construction/drop",
          "kids/dsland",
          "appliances/dsp",
          "electronics/dsppa",
          "appliances/dunavox",
          "electronics/dune",
          "electronics/dunu",
          "appliances/dwt",
          "construction/dwt",
          "computers/dxracer",
          "electronics/dynacord",
          "sport/dynastar",
          "appliances/dyson",
          "computers/e-blue",
          "kids/e-twow",
          "accessories/easycamp",
          "construction/easylink",
          "furniture/easylink",
          "kids/easywalker",
          "electronics/ecler",
          "construction/eco",
          "computers/ecocool",
          "appliances/ecoterm",
          "furniture/ecotex",
          "computers/ecs",
          "furniture/edelvejs",
          "furniture/edem",
          "electronics/edge",
          "computers/edifier",
          "electronics/edifier",
          "construction/edon",
          "electronics/edox",
          "kids/educa",
          "kids/educo",
          "furniture/efp",
          "construction/eger",
          "apparel/egg",
          "kids/egg",
          "construction/egp",
          "appliances/einhell",
          "auto/einhell",
          "construction/einhell",
          "sport/ekobike",
          "furniture/ekonomia",
          "sport/elan",
          "electronics/elari",
          "kids/elbasco",
          "electronics/electro-voice",
          "appliances/electrolux",
          "appliances/electronicsdeluxe",
          "electronics/element",
          "appliances/elenberg",
          "construction/elenberg",
          "electronics/elenberg",
          "appliances/elica",
          "appliances/elikor",
          "appliances/elite",
          "furniture/elitebohemia",
          "construction/elitech",
          "construction/elleci",
          "appliances/elna",
          "apparel/eltempo",
          "sport/eltreco",
          "appliances/elvin",
          "furniture/embawood",
          "furniture/emer",
          "furniture/emily",
          "kids/enchantimals",
          "construction/energolux",
          "appliances/energy",
          "electronics/energysistem",
          "computers/enermax",
          "appliances/engy",
          "construction/enkor",
          "electronics/enya",
          "computers/epicgear",
          "electronics/epiphone",
          "computers/epson",
          "electronics/epson",
          "stationery/epson",
          "apparel/ergo",
          "electronics/ergo",
          "auto/erisson",
          "appliances/ermila",
          "apparel/ersport",
          "furniture/ersport",
          "construction/esab",
          "construction/escada",
          "apparel/escan",
          "construction/esko",
          "kids/espiro",
          "furniture/estap",
          "apparel/estomoda",
          "appliances/etalon",
          "construction/etaltech",
          "apparel/etor",
          "appliances/eurogold",
          "construction/eurolight",
          "construction/eurolux",
          "stationery/europrint",
          "appliances/eurostek",
          "kids/evenflo",
          "furniture/everflo",
          "apparel/everlast",
          "sport/everlast",
          "computers/evga",
          "appliances/evgo",
          "sport/evo",
          "computers/evrika",
          "sport/evrodetal",
          "appliances/ewt",
          "kids/exost",
          "accessories/ezetil",
          "appliances/ezetil",
          "furniture/faans",
          "appliances/faber",
          "accessories/fabretti",
          "apparel/fabretti",
          "accessories/fabrikakarteks",
          "apparel/face",
          "appliances/fagor",
          "appliances/fais",
          "appliances/falmec",
          "electronics/fame",
          "appliances/family",
          "kids/fancy",
          "furniture/fant-mebel",
          "appliances/fantasia",
          "auto/farcar",
          "apparel/fassen",
          "kids/feile",
          "appliances/felisatti",
          "construction/felisatti",
          "electronics/fender",
          "furniture/fengnix",
          "sport/fenix",
          "furniture/ferrari",
          "kids/ferrari",
          "appliances/ferre",
          "electronics/festina",
          "construction/festool",
          "electronics/fiio",
          "apparel/fila",
          "appliances/firman",
          "construction/firman",
          "appliances/first",
          "apparel/fischer",
          "sport/fischer",
          "kids/fisher-price",
          "accessories/fisherman",
          "kids/fisherprice",
          "appliances/fissman",
          "construction/fit",
          "appliances/fit-rx",
          "electronics/fitbit",
          "kids/fitchbaby",
          "sport/fitlux",
          "sport/fitnex",
          "kids/fitrider",
          "apparel/five",
          "appliances/flama",
          "accessories/flambeau",
          "auto/flashpoint",
          "appliances/flavia",
          "furniture/flex",
          "electronics/fli",
          "kids/flicker",
          "electronics/flight",
          "construction/florentina",
          "apparel/fly",
          "electronics/fly",
          "furniture/fly",
          "sport/fly",
          "electronics/focal",
          "construction/force",
          "electronics/force",
          "furniture/force",
          "furniture/forminabanyo",
          "appliances/fornelli",
          "kids/fornite",
          "kids/forward",
          "sport/forward",
          "appliances/forza",
          "construction/forza",
          "electronics/fossil",
          "electronics/fostex",
          "computers/foxconn",
          "sport/foxx",
          "apparel/fracescodonni",
          "computers/fractaldesign",
          "apparel/francescodonni",
          "appliances/franke",
          "construction/franke",
          "kids/freefeet",
          "appliances/fresh",
          "computers/frozen",
          "kids/frozen",
          "electronics/fsd",
          "appliances/fubag",
          "auto/fubag",
          "construction/fubag",
          "auto/fujida",
          "electronics/fujifilm",
          "kids/funville",
          "kids/furreal",
          "construction/futura",
          "furniture/futura",
          "accessories/g-cube",
          "electronics/g-cube",
          "computers/g.skill",
          "apparel/gabor",
          "sport/gaint",
          "computers/gainward",
          "apparel/gaissina",
          "appliances/galanz",
          "appliances/galaxy",
          "construction/galaxy",
          "computers/gamdias",
          "electronics/gamdias",
          "computers/gamemax",
          "electronics/gamemax",
          "computers/gamerstorm",
          "medicine/gamma",
          "construction/garant",
          "appliances/garanterm",
          "appliances/gardena",
          "construction/gardena",
          "country_yard/gardena",
          "appliances/garmin",
          "auto/garmin",
          "electronics/garmin",
          "apparel/garvalin",
          "appliances/gefest",
          "computers/geil",
          "computers/gembird",
          "electronics/gembird",
          "apparel/genau",
          "furniture/genau",
          "construction/genebre",
          "appliances/geneticlab",
          "appliances/geneticlabnutrition",
          "computers/genius",
          "electronics/genius",
          "kids/genki",
          "furniture/gerbor",
          "construction/gerdamix",
          "furniture/gesso",
          "electronics/gewa",
          "appliances/gezatone",
          "sport/gf",
          "sport/giant",
          "computers/gigabyte",
          "electronics/gigabyte",
          "appliances/gimi",
          "electronics/gionee",
          "furniture/giornonotte",
          "apparel/gioseppo",
          "appliances/gipfel",
          "electronics/gladen",
          "apparel/glam-forever",
          "furniture/glamvers",
          "kids/glamvers",
          "sport/glamvers",
          "apparel/glasman",
          "kids/glimmies",
          "computers/global",
          "electronics/global",
          "kids/globber",
          "furniture/globex",
          "construction/globo",
          "kids/glory",
          "construction/gmslivgidromasao",
          "sport/gnu",
          "furniture/gomeldrev",
          "kids/goo.n",
          "kids/goodbaby",
          "apparel/goodloot",
          "computers/goodram",
          "auto/goodyear",
          "electronics/google",
          "kids/goon",
          "electronics/gopro",
          "appliances/gorenje",
          "construction/gorenje",
          "furniture/graco",
          "kids/graco",
          "kids/graffiti",
          "sport/graffiti",
          "electronics/graffitisound",
          "construction/gran-stone",
          "appliances/grand",
          "furniture/grandmanar",
          "construction/granfest",
          "construction/graphite",
          "appliances/gree",
          "sport/greenbike",
          "construction/greenpro",
          "appliances/greentek",
          "computers/greentree",
          "country_yard/greenworks",
          "appliances/greta",
          "electronics/gretsch",
          "apparel/greyder",
          "country_yard/grinda",
          "construction/grohe",
          "furniture/grohe",
          "accessories/gross",
          "electronics/groundzero",
          "kids/grow-with-me",
          "computers/gskill",
          "sport/gt",
          "kids/gulliver",
          "appliances/gutrend",
          "appliances/hada",
          "sport/hadaa",
          "appliances/haday",
          "appliances/haeger",
          "appliances/haier",
          "computers/haier",
          "electronics/haier",
          "kids/hairdorables",
          "computers/halmar",
          "furniture/halmar",
          "accessories/hama",
          "electronics/hamilton",
          "kids/hamilton",
          "construction/hammer",
          "appliances/hangzhoujindingimportexportcoltd",
          "sport/hanma",
          "electronics/hanowa",
          "appliances/hansa",
          "kids/hap-p-kid",
          "apparel/harley-davidson",
          "sport/haro",
          "auto/harper",
          "computers/harper",
          "electronics/harper",
          "kids/hartan",
          "kids/hasbro",
          "furniture/hauck",
          "kids/hauck",
          "appliances/haushalt",
          "appliances/hausmann",
          "electronics/havit",
          "apparel/hayabusa",
          "apparel/hayali",
          "kids/hb",
          "apparel/head",
          "sport/head",
          "electronics/headrush",
          "appliances/hebeigrindingwheelfactory",
          "computers/hec",
          "electronics/heco",
          "accessories/helios",
          "construction/helix",
          "auto/hellion",
          "construction/helvi",
          "kids/henglei",
          "electronics/hercules",
          "furniture/herman",
          "electronics/hertz",
          "auto/heyner",
          "furniture/heyner",
          "computers/hgst",
          "computers/hibertek",
          "electronics/hifiman",
          "kids/hightechway",
          "construction/hilti",
          "appliances/hintek",
          "computers/hiper",
          "electronics/hiper",
          "computers/his",
          "appliances/hisense",
          "electronics/hisense",
          "appliances/hitachi",
          "computers/hitachi",
          "construction/hitachi",
          "appliances/hobot",
          "accessories/hoco",
          "electronics/hoco",
          "apparel/hoka",
          "electronics/homage",
          "furniture/homeart",
          "appliances/homeelement",
          "appliances/homs",
          "electronics/honhongvictorygroupltd",
          "electronics/honor",
          "appliances/hoover",
          "computers/hori",
          "appliances/horizont",
          "electronics/horizont",
          "kids/hotmom",
          "furniture/hotner",
          "appliances/hotpoint-ariston",
          "appliances/hottek",
          "kids/hotwheels",
          "appliances/housefit",
          "sport/housefit",
          "appliances/household",
          "accessories/hp",
          "appliances/hp",
          "auto/hp",
          "computers/hp",
          "construction/hp",
          "electronics/hp",
          "kids/hp",
          "stationery/hp",
          "computers/hpe",
          "kids/hq",
          "furniture/hr",
          "electronics/htc",
          "furniture/htw",
          "kids/huanger",
          "appliances/huawei",
          "computers/huawei",
          "electronics/huawei",
          "kids/hubeiindustrialaimiletrading",
          "appliances/hubert",
          "kids/hubsan",
          "kids/huggies",
          "kids/huile",
          "electronics/huion",
          "appliances/humidifier",
          "kids/hunter",
          "computers/huntkey",
          "appliances/hurom",
          "appliances/husqvarna",
          "construction/husqvarna",
          "country_yard/husqvarna",
          "construction/huter",
          "country_yard/huter",
          "sport/hycell",
          "computers/hynix",
          "computers/hyperx",
          "electronics/hyperx",
          "appliances/hyundai",
          "auto/hyundai",
          "construction/hyundai",
          "country_yard/hyundai",
          "kids/i-baby",
          "sport/i-velo",
          "electronics/ibanez",
          "appliances/ibili",
          "auto/ibox",
          "computers/id-cooling",
          "construction/iddis",
          "furniture/iddis",
          "kids/idillia",
          "construction/iek",
          "computers/iiyama",
          "appliances/ikea",
          "computers/ikea",
          "construction/ikea",
          "electronics/ikea",
          "furniture/ikea",
          "appliances/ilife",
          "computers/ilife",
          "construction/illumico",
          "furniture/illumico",
          "accessories/imax",
          "kids/imctoys",
          "appliances/imetec",
          "furniture/imperial",
          "auto/imx",
          "furniture/incanto",
          "auto/incar",
          "accessories/incase",
          "appliances/indesit",
          "apparel/indiana",
          "apparel/indigo",
          "kids/indigo",
          "electronics/infinity",
          "apparel/inflame",
          "electronics/ingersoll",
          "apparel/inglesina",
          "furniture/inglesina",
          "kids/inglesina",
          "electronics/inkax",
          "electronics/inoi",
          "kids/insinse",
          "auto/inspector",
          "furniture/inspiwood",
          "sport/inswim",
          "auto/intego",
          "computers/intel",
          "construction/inter",
          "country_yard/interlink",
          "construction/intex",
          "electronics/intex",
          "furniture/intex",
          "kids/intex",
          "auto/intro",
          "electronics/intro",
          "electronics/invotone",
          "electronics/ipipoo",
          "computers/irbis",
          "electronics/irbis",
          "appliances/irest",
          "appliances/irit",
          "electronics/irit",
          "computers/iriver",
          "appliances/irobot",
          "auto/ismart",
          "sport/italtrike",
          "electronics/itc",
          "construction/ivt",
          "country_yard/ivt",
          "electronics/iwalk",
          "electronics/jabra",
          "appliances/jack",
          "construction/jacobdelafon",
          "furniture/jacobdelafon",
          "electronics/jacqueslemans",
          "appliances/jaguar",
          "electronics/jaguar",
          "kids/jakkspacific",
          "electronics/jamo",
          "appliances/janome",
          "construction/jasic",
          "apparel/jasmine",
          "appliances/jata",
          "kids/jazwares",
          "computers/jbl",
          "electronics/jbl",
          "electronics/jet",
          "appliances/jetair",
          "furniture/jetem",
          "kids/jetem",
          "kids/jiada",
          "furniture/jika",
          "kids/jimcarrey",
          "electronics/jinga",
          "kids/jinma",
          "sport/jinyuan",
          "kids/jjrc",
          "kids/joe",
          "sport/joerex",
          "apparel/joie",
          "furniture/joie",
          "kids/joie",
          "kids/joieanglia",
          "electronics/joker",
          "kids/joonies",
          "apparel/jordan",
          "kids/joyor",
          "electronics/joyroom",
          "accessories/jrc",
          "appliances/juki",
          "sport/julbo",
          "kids/junama",
          "appliances/junte",
          "appliances/jura",
          "furniture/juventa",
          "auto/jvc",
          "electronics/jvc",
          "electronics/k-lite",
          "kids/kacper",
          "auto/kaier",
          "construction/kaierda",
          "appliances/kaiser",
          "construction/kaiser",
          "kids/kakadu",
          "furniture/kale",
          "construction/kaledomino",
          "electronics/kalenji",
          "construction/kalibr",
          "appliances/kambrook",
          "kids/kampfer",
          "appliances/kangkang",
          "apparel/kapika",
          "furniture/karapuz",
          "kids/karapuz",
          "appliances/karcher",
          "construction/karcher",
          "appliances/karma",
          "accessories/karya",
          "stationery/katun",
          "apparel/kayser",
          "accessories/keddo",
          "apparel/keddo",
          "kids/keenway",
          "electronics/kef",
          "electronics/kehan",
          "appliances/kelet",
          "construction/kelet",
          "appliances/kelli",
          "construction/ken",
          "electronics/keneksi",
          "appliances/kenwood",
          "auto/kenwood",
          "electronics/kenwood",
          "sport/kessler",
          "kids/keter",
          "furniture/kettler",
          "sport/kettler",
          "furniture/kia",
          "electronics/kicker",
          "electronics/kicx",
          "kids/kiddieart",
          "furniture/kiddy",
          "kids/kiddy",
          "appliances/kiepe",
          "computers/kingmax",
          "kids/kingmeda",
          "accessories/kingslong",
          "kids/kingsong",
          "computers/kingston",
          "electronics/kingston",
          "auto/kingtony",
          "sport/kink",
          "kids/kinlee",
          "construction/kipor",
          "furniture/kirovit",
          "appliances/kitchenaid",
          "appliances/kitfort",
          "construction/kitfort",
          "electronics/kivi",
          "appliances/klima",
          "computers/kmk",
          "furniture/kmk",
          "appliances/kolner",
          "auto/kolner",
          "construction/kolner",
          "furniture/kolo",
          "furniture/kolpasan",
          "computers/komfort-s",
          "furniture/komfort-s",
          "sport/kona",
          "sport/konlega",
          "computers/konoos",
          "appliances/konov",
          "appliances/koopman",
          "country_yard/koopman",
          "electronics/korg",
          "accessories/korin",
          "appliances/korting",
          "construction/kosmos",
          "electronics/koss",
          "sport/kpt",
          "appliances/kraton",
          "construction/kress",
          "appliances/kristal",
          "electronics/krk",
          "appliances/kronasteel",
          "construction/kronwerk",
          "kids/kroskaa",
          "furniture/kroskindom",
          "appliances/krups",
          "kids/kskids",
          "kids/kugoo",
          "appliances/kumtel",
          "appliances/kuppersberg",
          "construction/kuppersberg",
          "appliances/kuppersbusch",
          "electronics/kuppersbusch",
          "furniture/kupu-kupu",
          "kids/kuqidai",
          "electronics/kurzweil",
          "computers/kyocera",
          "stationery/kyocera",
          "kids/la-di-da",
          "kids/ladida",
          "kids/lalaloopsy",
          "sport/lamborghini",
          "apparel/lange",
          "kids/lapkin",
          "apparel/larktale",
          "kids/larktale",
          "auto/laston",
          "construction/laston",
          "electronics/laudio",
          "furniture/laufen",
          "appliances/laurastar",
          "apparel/lauravalarosa",
          "apparel/lauravalorosa",
          "construction/lava",
          "appliances/leadbros",
          "appliances/leader",
          "electronics/leagoo",
          "apparel/lealelo",
          "electronics/leatherman",
          "sport/leco",
          "electronics/leeco",
          "electronics/leem",
          "appliances/lefard",
          "furniture/legkiesny",
          "apparel/legre",
          "furniture/lel",
          "construction/lemark",
          "accessories/lenovo",
          "computers/lenovo",
          "electronics/lenovo",
          "construction/leo",
          "apparel/leone",
          "appliances/lessar",
          "computers/leven",
          "computers/lexmark",
          "construction/lezard",
          "appliances/lg",
          "computers/lg",
          "construction/lg",
          "electronics/lg",
          "sport/lg",
          "furniture/libero",
          "electronics/liberty",
          "sport/libtech",
          "furniture/lider",
          "construction/lidonet",
          "furniture/lidonet",
          "appliances/liebherr",
          "kids/liebherr",
          "computers/lifedeco",
          "furniture/lifedeco",
          "sport/line",
          "furniture/listvig",
          "computers/lite-on",
          "sport/liv",
          "construction/livnynasos",
          "furniture/llarri",
          "kids/llorens",
          "computers/logitech",
          "electronics/logitech",
          "kids/lol",
          "construction/lom",
          "kids/lonex",
          "electronics/longines",
          "sport/longstyle",
          "kids/longway",
          "furniture/lorelli",
          "kids/lorelli",
          "sport/lorelli",
          "furniture/lorelli-bertoni",
          "kids/lorelli-bertoni",
          "sport/lorelli-bertoni",
          "kids/lorellibolgaria",
          "kids/lori",
          "electronics/lorus",
          "electronics/louiserard",
          "kids/lovular",
          "appliances/luazon",
          "furniture/lubimyjdom",
          "furniture/luciasvetlaa",
          "appliances/lumme",
          "electronics/luna",
          "accessories/luris",
          "construction/lutian",
          "sport/lux",
          "construction/lux-tools",
          "country_yard/lux-tools",
          "appliances/luxell",
          "electronics/m-audio",
          "sport/maak",
          "auto/maakavto",
          "electronics/machete",
          "electronics/mackie",
          "kids/maclaren",
          "country_yard/maclay",
          "accessories/mad",
          "furniture/madamecoco",
          "electronics/madina",
          "appliances/maestro",
          "electronics/magaudio",
          "kids/magic",
          "kids/magicbeartoys",
          "furniture/magkijson",
          "auto/magma",
          "electronics/magnat",
          "appliances/magnetta",
          "auto/magnetta",
          "construction/magnetta",
          "country_yard/magnetta",
          "kids/maidou",
          "kids/maisto",
          "furniture/maja",
          "country_yard/makarena",
          "apparel/makers",
          "appliances/makita",
          "construction/makita",
          "country_yard/makita",
          "computers/mam",
          "furniture/mamadoma",
          "appliances/maman",
          "construction/maman",
          "apparel/mangokids",
          "accessories/manhattan",
          "computers/manhattan",
          "electronics/manhattan",
          "kids/manke",
          "construction/mantra",
          "furniture/mantra",
          "kids/manuoki",
          "kids/maomaoku",
          "electronics/maono",
          "apparel/marcomen",
          "apparel/marcotozzi",
          "furniture/mariaiskusnica",
          "furniture/maribel",
          "kids/maribel",
          "electronics/mark",
          "construction/market",
          "apparel/marko",
          "electronics/marley",
          "computers/mars",
          "sport/mars",
          "electronics/marshall",
          "appliances/marta",
          "electronics/martinez",
          "kids/marvel",
          "sport/masi",
          "appliances/masima",
          "appliances/masstone",
          "kids/mastela",
          "appliances/master",
          "country_yard/masteryard",
          "auto/mateus",
          "construction/mateus",
          "accessories/matex",
          "accessories/matrix",
          "appliances/matrix",
          "construction/matrix",
          "furniture/matrix",
          "sport/matrix",
          "kids/mattel",
          "appliances/maunfeld",
          "kids/maxcolor",
          "kids/maxi",
          "apparel/maxi-cosi",
          "furniture/maxi-cosi",
          "kids/maxi-cosi",
          "appliances/maxima",
          "appliances/maxler",
          "electronics/maxvi",
          "appliances/maxwell",
          "construction/maxwell",
          "construction/maysun",
          "appliances/mbs",
          "furniture/mc",
          "kids/mccan",
          "appliances/mcculloch",
          "construction/mcculloch",
          "appliances/mdv",
          "furniture/mebberi",
          "furniture/mebbery.kz",
          "furniture/mebberykz",
          "furniture/mebelazii",
          "furniture/mebelcon",
          "furniture/mebelev",
          "furniture/mebels",
          "furniture/mebelservice",
          "computers/mebelson",
          "furniture/mebelson",
          "furniture/mebelswow-rn",
          "electronics/medeli",
          "appliances/medisana",
          "kids/mefferts",
          "electronics/meike",
          "accessories/meizu",
          "electronics/meizu",
          "construction/mekkan",
          "kids/melidadi",
          "kids/melissadoug",
          "appliances/melitta",
          "kids/mello",
          "sport/merach",
          "sport/merida",
          "kids/merries",
          "appliances/merrylock",
          "appliances/metabo",
          "auto/metabo",
          "construction/metabo",
          "appliances/metalac",
          "kids/metoo",
          "kids/metoyou",
          "electronics/meze",
          "furniture/mibb",
          "furniture/mica",
          "electronics/michaelkors",
          "sport/micio",
          "kids/micmax",
          "kids/micro",
          "computers/microlab",
          "electronics/microlab",
          "electronics/micromax",
          "computers/micron",
          "computers/microsoft",
          "electronics/microsoft",
          "furniture/micuna",
          "appliances/midea",
          "computers/midea",
          "construction/midea",
          "electronics/mido",
          "kids/midou",
          "appliances/miele",
          "apparel/miescarpe",
          "furniture/mifold",
          "appliances/milano",
          "apparel/milavitsa",
          "construction/military",
          "apparel/millionaire",
          "appliances/milwaukee",
          "construction/milwaukee",
          "apparel/mima",
          "furniture/mima",
          "kids/mima",
          "apparel/minimen",
          "kids/minimotors",
          "auto/mio",
          "furniture/mio",
          "kids/mioshi",
          "accessories/miracase",
          "accessories/miracle",
          "kids/miraculous",
          "furniture/mirodel",
          "furniture/miromaks",
          "furniture/miromax",
          "electronics/misfit",
          "furniture/misty",
          "apparel/mltl",
          "construction/modern",
          "furniture/modern",
          "furniture/mojdodyr",
          "furniture/mojmalys",
          "kids/molfix",
          "accessories/moliabal",
          "furniture/molodecnomebel",
          "electronics/momentum",
          "appliances/momert",
          "kids/momi",
          "kids/monchhichi",
          "sport/mongoose",
          "furniture/monkey",
          "furniture/monro",
          "appliances/monsher",
          "electronics/monster",
          "kids/moon",
          "kids/moongmbh",
          "kids/moony",
          "sport/mooveandfun",
          "electronics/morel",
          "appliances/moser",
          "kids/motivyotdyha",
          "electronics/motorola",
          "appliances/moulinex",
          "electronics/moxom",
          "furniture/mozgamebel",
          "appliances/mrm-power",
          "appliances/msb",
          "computers/msi",
          "electronics/msi",
          "kids/mstar",
          "kids/munchkin",
          "accessories/muqajankz",
          "construction/mustang",
          "kids/mutsy",
          "auto/mydean",
          "electronics/mykronoz",
          "apparel/myprotein",
          "auto/mystery",
          "electronics/mystery",
          "kids/mz",
          "electronics/nady",
          "appliances/nagano",
          "auto/nakamichi",
          "electronics/nakamichi",
          "accessories/namazu",
          "apparel/nanga",
          "furniture/nania",
          "appliances/naomi",
          "electronics/naranda",
          "appliances/nardi",
          "apparel/native",
          "appliances/natrol",
          "auto/navitel",
          "electronics/navitel",
          "computers/nec",
          "appliances/neff",
          "kids/nella",
          "accessories/neo",
          "appliances/neo",
          "computers/neo",
          "auto/neoline",
          "construction/neptun",
          "computers/netechnics",
          "electronics/neumann",
          "auto/newco",
          "accessories/nexpero",
          "apparel/nexpero",
          "kids/next",
          "electronics/nexttab",
          "construction/nexttool",
          "kids/nici",
          "kids/niio",
          "furniture/nik",
          "appliances/nika",
          "furniture/nika",
          "accessories/nike",
          "apparel/nike",
          "electronics/nikon",
          "kids/ninebot",
          "sport/nitecore",
          "kids/nizegorodskaaigruska",
          "electronics/nobby",
          "computers/noctua",
          "appliances/nodor",
          "electronics/nokia",
          "electronics/nomi",
          "apparel/noopies",
          "kids/noordi",
          "apparel/noppies",
          "appliances/nord",
          "sport/nordica",
          "sport/nordictrack",
          "accessories/norfin",
          "electronics/norman",
          "appliances/normann",
          "auto/novabright",
          "sport/novatrack",
          "appliances/now",
          "construction/nowodvorski",
          "computers/nowystyl",
          "electronics/nubia",
          "electronics/nuforce",
          "electronics/numark",
          "furniture/nuna",
          "kids/nuna",
          "appliances/nutrex",
          "appliances/nutribullet",
          "stationery/nvp",
          "stationery/nvprint",
          "computers/nzxt",
          "construction/oase",
          "appliances/oasis",
          "construction/oasis",
          "appliances/obi",
          "country_yard/obi",
          "furniture/obi",
          "kids/obi",
          "apparel/obsessive",
          "computers/ocz",
          "accessories/okuma",
          "furniture/ol-tex",
          "country_yard/oleo-mac",
          "kids/oley",
          "apparel/oliviabambino",
          "furniture/olmeko",
          "electronics/olmio",
          "kids/olsa",
          "appliances/olto",
          "electronics/olto",
          "electronics/olympus",
          "accessories/omabelle",
          "apparel/omero",
          "kids/omnio",
          "construction/omoikiri",
          "appliances/omron",
          "medicine/omron",
          "electronics/oneplus",
          "apparel/onhillsport",
          "kids/onlitop",
          "sport/onlitop",
          "furniture/opadiris",
          "construction/opple",
          "electronics/oppo",
          "appliances/optima",
          "electronics/optoma",
          "kids/orange",
          "kids/orbotix",
          "furniture/oribel",
          "kids/oribel",
          "computers/orico",
          "electronics/orico",
          "electronics/orient",
          "kids/origami",
          "stationery/originalamnet",
          "electronics/orimag",
          "appliances/orion",
          "electronics/oris",
          "electronics/ortega",
          "furniture/orto-bed",
          "kids/ortopazl",
          "kids/os",
          "kids/osann",
          "furniture/osminozka",
          "appliances/oster",
          "electronics/otan",
          "appliances/otex",
          "kids/ouaps",
          "electronics/oukitel",
          "kids/ourgeneration",
          "appliances/oursson",
          "accessories/outwell",
          "electronics/ovation",
          "sport/oxygen",
          "appliances/p.i.t.",
          "construction/p.i.t.",
          "apparel/pablosky",
          "construction/paint",
          "accessories/palisad",
          "country_yard/palisad",
          "computers/palit",
          "kids/pampers",
          "appliances/panasonic",
          "electronics/panasonic",
          "stationery/panasonic",
          "auto/pandect",
          "auto/pandora",
          "appliances/pangao",
          "kids/parklon",
          "auto/parkmaster",
          "electronics/parkwood",
          "electronics/parrot",
          "kids/parrot",
          "construction/parus",
          "construction/paton",
          "computers/patriot",
          "construction/patriot",
          "country_yard/patriot",
          "kids/pawpatrol",
          "computers/pccooler",
          "apparel/peak",
          "electronics/peavey",
          "electronics/pebble",
          "construction/pedrollo",
          "furniture/peg-perego",
          "kids/peg-perego",
          "kids/pegperego",
          "kids/penny",
          "appliances/perilla",
          "furniture/permanence",
          "accessories/persona",
          "apparel/persona",
          "sport/peruzzo",
          "accessories/petek",
          "apparel/petek",
          "electronics/phantom",
          "kids/philandteds",
          "appliances/philips",
          "computers/philips",
          "construction/philips",
          "electronics/philips",
          "kids/phoenix",
          "sport/phoenix",
          "stationery/phoenix",
          "accessories/picard",
          "electronics/pierrelannier",
          "electronics/pierrericaud",
          "appliances/pika",
          "sport/pinarello",
          "furniture/pinskdrev",
          "auto/pioneer",
          "electronics/pioneer",
          "appliances/pit",
          "construction/pit",
          "furniture/pituso",
          "kids/pituso",
          "accessories/plano",
          "electronics/plantronics",
          "kids/playgro",
          "kids/playlab",
          "kids/playmates",
          "auto/playme",
          "kids/playskool",
          "computers/plextor",
          "kids/plitex",
          "computers/pny",
          "computers/pocketbook",
          "electronics/polar",
          "appliances/polaris",
          "computers/polaris",
          "construction/polaris",
          "kids/polaris",
          "kids/polese",
          "furniture/polini",
          "appliances/polti",
          "construction/polti",
          "furniture/popov",
          "accessories/portcase",
          "kids/potatohead",
          "computers/powercolor",
          "stationery/powerplant",
          "appliances/pozis",
          "appliances/prc",
          "country_yard/prc",
          "electronics/preciosa",
          "furniture/preciosa",
          "stationery/premier",
          "electronics/presonus",
          "auto/prestige",
          "appliances/prestigio",
          "auto/prestigio",
          "computers/prestigio",
          "electronics/prestigio",
          "kids/prestigio",
          "electronics/pride",
          "electronics/pro-karaoke",
          "electronics/proel",
          "appliances/profteplo",
          "sport/progress",
          "electronics/prolike",
          "accessories/prologic",
          "auto/prology",
          "electronics/prology",
          "appliances/promozer",
          "sport/proteus",
          "construction/puckator",
          "computers/pulser",
          "accessories/puma",
          "apparel/puma",
          "kids/puzzles",
          "computers/qcyber",
          "electronics/qcyber",
          "kids/qixels",
          "computers/qmax",
          "sport/qplay",
          "electronics/qq",
          "furniture/quatro",
          "kids/quatro",
          "apparel/quiksilver",
          "apparel/quinny",
          "kids/quinny",
          "computers/r-senda",
          "sport/racer",
          "construction/radiant",
          "electronics/rado",
          "computers/raidmax",
          "furniture/rajton",
          "apparel/ralfringer",
          "furniture/rals",
          "appliances/ramili",
          "kids/rant",
          "accessories/rapala",
          "computers/rapoo",
          "electronics/rapoo",
          "kids/rastar",
          "furniture/ravak",
          "auto/ravenol",
          "computers/razer",
          "electronics/razer",
          "electronics/rcf",
          "apparel/rdx",
          "appliances/rebus",
          "electronics/rebus",
          "furniture/recaro",
          "kids/recaro",
          "electronics/recci",
          "construction/redblu",
          "construction/redbo",
          "furniture/redford",
          "kids/redford",
          "appliances/redmond",
          "auto/redpower",
          "computers/redragon",
          "electronics/redragon",
          "apparel/reebok",
          "appliances/regent",
          "electronics/remax",
          "construction/remer",
          "auto/remeza",
          "appliances/remington",
          "computers/remix",
          "accessories/remonte",
          "apparel/remonte",
          "sport/renegade",
          "appliances/renova",
          "appliances/resanta",
          "construction/resanta",
          "computers/reshin",
          "accessories/respect",
          "apparel/respect",
          "kids/restar",
          "kids/rexco",
          "apparel/rheinberger",
          "computers/ricoh",
          "electronics/ricoh",
          "stationery/ricoh",
          "apparel/ride",
          "sport/ride",
          "auto/ridian",
          "accessories/rieker",
          "apparel/rieker",
          "kids/riko",
          "appliances/rinnai",
          "accessories/ritmix",
          "auto/ritmix",
          "computers/ritmix",
          "electronics/ritmix",
          "accessories/rivacase",
          "furniture/rivalli",
          "kids/rizmo",
          "electronics/roamer",
          "kids/robocarpoli",
          "appliances/roborock",
          "furniture/roca",
          "electronics/rockdale",
          "electronics/rode",
          "computers/roeyuta",
          "electronics/roland",
          "furniture/romack",
          "electronics/romanson",
          "apparel/romax",
          "construction/rombica",
          "electronics/rombica",
          "apparel/romer",
          "accessories/roncato",
          "appliances/rondell",
          "apparel/rooman",
          "furniture/rosa",
          "apparel/rossignol",
          "sport/rossignol",
          "construction/rossinka",
          "construction/rotorazer",
          "apparel/rovigo",
          "appliances/rovus",
          "appliances/rowenta",
          "construction/rowenta",
          "apparel/roxy",
          "kids/roxy",
          "sport/roxy",
          "kids/roxykids",
          "electronics/royallondon",
          "kids/rubiks",
          "construction/rubineta",
          "kids/ruixinlang",
          "appliances/runwin",
          "kids/rw",
          "accessories/ryobi",
          "appliances/ryobi",
          "auto/ryobi",
          "construction/ryobi",
          "country_yard/ryobi",
          "kids/sabi",
          "apparel/sabyrzhanayrin",
          "kids/sachiko",
          "accessories/sacvoyage",
          "electronics/sades",
          "accessories/saksi",
          "appliances/sakura",
          "stationery/sakura",
          "apparel/salamander",
          "accessories/salmo",
          "apparel/salomon",
          "sport/salomon",
          "electronics/samson",
          "accessories/samsonite",
          "appliances/samsung",
          "computers/samsung",
          "electronics/samsung",
          "stationery/samsung",
          "computers/sandisk",
          "apparel/saniano",
          "furniture/sanita",
          "sport/santa-cruz",
          "sport/santacruz",
          "furniture/santek",
          "furniture/santeri",
          "computers/sapphire",
          "accessories/sarabella",
          "kids/sariel",
          "furniture/satura",
          "appliances/saturn",
          "construction/saturn",
          "electronics/saturn",
          "apparel/saucony",
          "accessories/savagegear",
          "kids/sbw",
          "appliances/scarlett",
          "construction/scarlett",
          "furniture/schardt",
          "appliances/schaublorenz",
          "auto/scher-khan",
          "auto/schneider",
          "construction/schneider",
          "kids/schreuders",
          "sport/schwinn",
          "accessories/scierra",
          "sport/scool",
          "appliances/scoole",
          "kids/scooter",
          "sport/scott",
          "apparel/scoyco",
          "kids/scruff-a-luvs",
          "computers/scythe",
          "computers/seagate",
          "computers/seasonic",
          "apparel/seed",
          "kids/seed",
          "computers/segotep",
          "kids/segway",
          "electronics/seiko",
          "kids/sekiguchi",
          "furniture/selby",
          "furniture/selena",
          "construction/senci",
          "appliances/sencor",
          "electronics/sennheiser",
          "furniture/senspa",
          "apparel/sergiorossi",
          "appliances/sess",
          "electronics/sevenfriday",
          "kids/sgary",
          "apparel/shagovita",
          "furniture/sharking",
          "furniture/sheffilton",
          "furniture/shenma",
          "kids/shenma",
          "appliances/shima",
          "accessories/shimano",
          "appliances/shindo",
          "appliances/shivaki",
          "electronics/shivaki",
          "auto/sho-me",
          "apparel/shoesrepublic",
          "accessories/shoiberg",
          "kids/shopkins",
          "sport/shua",
          "electronics/shure",
          "appliances/sibrteh",
          "construction/sibrteh",
          "electronics/siee",
          "appliances/siemens",
          "furniture/siger",
          "kids/sigikid",
          "electronics/sigma",
          "sport/sigma",
          "furniture/signal",
          "computers/silva",
          "furniture/silva",
          "kids/silverlit",
          "kids/simba",
          "appliances/simfer",
          "furniture/simpleparenting",
          "appliances/sinbo",
          "appliances/singer",
          "computers/sinotex",
          "construction/sinusprofi",
          "furniture/sitparad",
          "electronics/sjcam",
          "electronics/skagen",
          "furniture/skandika",
          "kids/skazocnyjpatrul",
          "apparel/skechers",
          "apparel/ski-doo",
          "furniture/skillmax",
          "kids/skillmax",
          "electronics/skullcandy",
          "furniture/skv",
          "furniture/skv-kompani",
          "kids/skytech",
          "appliances/skyworth",
          "electronics/skyworth",
          "kids/slaro",
          "construction/slezakrav",
          "kids/slider",
          "apparel/sly",
          "appliances/smalvic",
          "computers/smart",
          "computers/smartbuy",
          "sport/smartrike",
          "furniture/smarttextile",
          "kids/smartway",
          "appliances/smeg",
          "construction/smeg",
          "appliances/smile",
          "furniture/smile",
          "furniture/smk",
          "kids/smoby",
          "appliances/snez",
          "appliances/snowcap",
          "kids/softoy",
          "construction/solaris",
          "apparel/solostyle",
          "appliances/sonar",
          "electronics/sonda",
          "furniture/sonnaaskazka",
          "furniture/sonoterra",
          "auto/sony",
          "electronics/sony",
          "electronics/soundking",
          "electronics/soundstream",
          "accessories/soyntec",
          "kids/sozzy",
          "furniture/spalenka",
          "sport/specialized",
          "construction/speroni",
          "kids/sphero",
          "kids/spinmaster",
          "sport/sportelite",
          "sport/sportop",
          "apparel/spur",
          "electronics/squier",
          "electronics/stagg",
          "construction/stalker",
          "accessories/stanley",
          "appliances/stanley",
          "construction/stanley",
          "sport/stark",
          "auto/starline",
          "appliances/starmix",
          "furniture/startline",
          "sport/startline",
          "kids/starwars",
          "construction/stavr",
          "accessories/stayer",
          "construction/stayer",
          "auto/stealth",
          "appliances/steba",
          "sport/steelflex",
          "computers/steelseries",
          "electronics/steelseries",
          "kids/steffilove",
          "accessories/stels",
          "construction/stels",
          "sport/stels",
          "furniture/stendmebel",
          "kids/steppuzzle",
          "construction/stermay",
          "appliances/stern",
          "apparel/sterntaler",
          "construction/sti",
          "furniture/stiga",
          "kids/stiga",
          "sport/stiga",
          "appliances/stihl",
          "construction/stihl",
          "country_yard/stihl",
          "furniture/stilvasejspalni",
          "auto/stinger",
          "sport/stinger",
          "appliances/stinol",
          "appliances/stn",
          "sport/stockli",
          "furniture/stokke",
          "kids/stokke",
          "furniture/stolicatekstila",
          "furniture/stolline",
          "furniture/stolplit",
          "auto/stonelock",
          "electronics/storm",
          "apparel/strobbs",
          "furniture/stryj",
          "electronics/studiomaster",
          "kids/stuntcar",
          "apparel/suave",
          "auto/subini",
          "kids/sulongtojs",
          "sport/sumadl",
          "accessories/sumdex",
          "kids/sunbody",
          "kids/suncolor",
          "sport/sunday",
          "appliances/sunsystem",
          "stationery/superfine",
          "electronics/superlux",
          "computers/supermicro",
          "appliances/supra",
          "electronics/suunto",
          "electronics/suzuki",
          "computers/sv",
          "furniture/sv",
          "appliances/svar",
          "computers/sven",
          "electronics/sven",
          "furniture/svetogor",
          "auto/swat",
          "electronics/swat",
          "electronics/swatch",
          "kids/sweety",
          "appliances/swissline",
          "electronics/swissline",
          "electronics/swissmilitaryhanowa",
          "kids/syma",
          "auto/t-max",
          "electronics/t.bone",
          "sport/tailg",
          "electronics/takamine",
          "kids/tako",
          "appliances/taller",
          "apparel/tamaris",
          "furniture/tamish",
          "electronics/tamron",
          "electronics/tanglewood",
          "accessories/targus",
          "construction/tarlan",
          "electronics/tascam",
          "construction/tch",
          "appliances/tcl",
          "electronics/tcl",
          "computers/teamgroup",
          "auto/tec",
          "electronics/tecno",
          "kids/tedmyfriend",
          "appliances/tefal",
          "construction/tefal",
          "appliances/teka",
          "construction/teka",
          "furniture/teknum",
          "kids/teknum",
          "auto/telefunken",
          "construction/telwin",
          "appliances/temp",
          "construction/temp",
          "computers/tenda",
          "construction/teorema",
          "appliances/teplokryma",
          "appliances/teploross",
          "appliances/termia",
          "auto/teslastyle",
          "electronics/tesler",
          "furniture/tesma",
          "apparel/tesoro",
          "computers/tesoro",
          "electronics/tesoro",
          "construction/texa",
          "auto/texet",
          "electronics/texet",
          "computers/thermalright",
          "computers/thermaltake",
          "appliances/thermex",
          "appliances/thomas",
          "appliances/thor",
          "accessories/thule",
          "kids/thule",
          "sport/thule",
          "sport/tianzhanfitness",
          "appliances/tigerking",
          "kids/tigres",
          "kids/timbergroup",
          "appliances/timberk",
          "kids/tinytoes",
          "electronics/tissot",
          "accessories/titan",
          "computers/titan",
          "furniture/tizo",
          "accessories/tl",
          "kids/tmnt",
          "auto/tomahawk",
          "apparel/tomfarr",
          "kids/tomik",
          "kids/tomoloo",
          "accessories/tonybellucci",
          "apparel/tonybellucci",
          "kids/toocool",
          "electronics/torgue",
          "auto/tornado",
          "electronics/toro",
          "kids/torrent",
          "sport/torrent",
          "auto/torso",
          "computers/toshiba",
          "electronics/toshiba",
          "construction/total",
          "appliances/touchbeauty",
          "appliances/toyota",
          "electronics/tp-link",
          "auto/tpmaster",
          "furniture/tradiciatekstila",
          "appliances/tramontina",
          "auto/transcend",
          "computers/transcend",
          "electronics/traser",
          "accessories/travelite",
          "kids/traxxas",
          "kids/trefl",
          "sport/trek",
          "auto/trendvision",
          "furniture/trevi",
          "furniture/tridevatoecarstvo",
          "sport/trinx",
          "appliances/tristar",
          "furniture/triton",
          "electronics/troyka",
          "accessories/trunki",
          "accessories/trust",
          "computers/trust",
          "electronics/trust",
          "accessories/tsv",
          "accessories/tucano",
          "apparel/tuffoni",
          "construction/tundra",
          "appliances/turbo",
          "appliances/turboair",
          "electronics/turbosound",
          "kids/tutis",
          "kids/twistclimbingcar",
          "kids/ty",
          "accessories/tyr",
          "apparel/tyr",
          "apparel/ultimatumboxing",
          "construction/ultraflash",
          "electronics/ultrasone",
          "electronics/umi",
          "appliances/unit",
          "furniture/universal",
          "furniture/uomo",
          "electronics/ural",
          "electronics/urbanears",
          "electronics/usams",
          "furniture/uta",
          "computers/v-color",
          "furniture/v-unic",
          "furniture/vako",
          "furniture/value",
          "apparel/vans",
          "electronics/vasco",
          "furniture/vasden",
          "furniture/vasilisa",
          "appliances/vasin",
          "kids/vdovichev",
          "computers/vectron",
          "furniture/vegas",
          "electronics/veho",
          "apparel/velo",
          "apparel/velvet",
          "country_yard/ventara",
          "appliances/ventura",
          "apparel/venum",
          "computers/verbatim",
          "electronics/verbatim",
          "kids/verdi",
          "appliances/veritas",
          "furniture/verossa",
          "electronics/versace",
          "electronics/versus",
          "electronics/vertex",
          "appliances/ves",
          "kids/vesna",
          "furniture/vesta",
          "appliances/vestel",
          "electronics/vestel",
          "electronics/veston",
          "electronics/vibe",
          "auto/vicovation",
          "computers/viewsonic",
          "electronics/viewsonic",
          "kids/viga",
          "computers/vigoole",
          "appliances/vihr",
          "construction/vihr",
          "country_yard/viking",
          "apparel/vilatte",
          "furniture/vilt",
          "appliances/vinzer",
          "accessories/vipe",
          "apparel/visavis",
          "furniture/vista",
          "appliances/vitax",
          "appliances/vitek",
          "construction/vitek",
          "furniture/vitra",
          "electronics/vivitek",
          "electronics/vivo",
          "kids/vladitoys",
          "furniture/vmv",
          "construction/voda",
          "auto/voin",
          "kids/vokul",
          "appliances/volcano",
          "sport/volkl",
          "computers/vortex",
          "electronics/vox",
          "accessories/voyager",
          "kids/vtech",
          "kids/vulli",
          "electronics/wacom",
          "construction/wagner",
          "appliances/wahl",
          "apparel/walkmaxx",
          "kids/wangfeng",
          "computers/wd",
          "appliances/weber",
          "accessories/weekend",
          "apparel/weekend",
          "kids/weichao",
          "kids/weina",
          "kids/weitai",
          "appliances/wellberg",
          "appliances/wellneo",
          "kids/welly",
          "kids/wenyi",
          "construction/wert",
          "appliances/wester",
          "construction/wester",
          "computers/westerndigital",
          "electronics/westone",
          "sport/wethepeople",
          "sport/wh",
          "appliances/whirlpool",
          "auto/whistler",
          "furniture/whitewave",
          "kids/whito",
          "computers/wibtek",
          "appliances/willmark",
          "construction/wilo",
          "sport/wilson",
          "auto/winca",
          "kids/wincars",
          "appliances/wing",
          "kids/wingoffly",
          "computers/wintek",
          "kids/wiseson",
          "electronics/withings",
          "kids/wltoys",
          "kids/woddon",
          "electronics/wonlex",
          "electronics/work",
          "construction/wortex",
          "appliances/worwo",
          "kids/wowwee",
          "electronics/wster",
          "kids/wster",
          "auto/wurth",
          "electronics/wuw",
          "appliances/x-foot",
          "computers/x-game",
          "kids/x-game",
          "computers/xerox",
          "stationery/xerox",
          "electronics/xgimi",
          "accessories/xiaomi",
          "appliances/xiaomi",
          "auto/xiaomi",
          "computers/xiaomi",
          "construction/xiaomi",
          "electronics/xiaomi",
          "furniture/xiaomi",
          "kids/xiaomi",
          "sport/xiaomi",
          "stationery/xiaomi",
          "kids/xieming",
          "appliances/xing",
          "kids/xkg",
          "electronics/xp-pen",
          "apparel/xti",
          "appliances/yamaguchi",
          "electronics/yamaha",
          "country_yard/yardforce",
          "electronics/yasin",
          "kids/yellow",
          "kids/yh",
          "appliances/yika",
          "electronics/yison",
          "kids/yoga",
          "kids/yokito",
          "kids/yokosun",
          "kids/yoshioki",
          "construction/yota",
          "kids/yoya",
          "kids/yoyofactory",
          "construction/yuandong",
          "kids/zajkami",
          "computers/zalman",
          "electronics/zalman",
          "appliances/zanussi",
          "kids/zapfcreation",
          "furniture/zara",
          "appliances/zass",
          "kids/zazu",
          "kids/zegan",
          "appliances/zelmer",
          "computers/zeppelin",
          "electronics/zeppelin",
          "appliances/zerten",
          "computers/zeta",
          "furniture/zeta",
          "accessories/zfts",
          "kids/zinc",
          "electronics/zinvo",
          "furniture/zlatek",
          "appliances/zobo",
          "construction/zongshen",
          "electronics/zoom",
          "appliances/zorg",
          "computers/zotac",
          "sport/zpao",
          "electronics/zte",
          "accessories/zubr",
          "appliances/zubr",
          "auto/zubr",
          "construction/zubr",
          "kids/zuru",
          "computers/zwerg",
          "accessories",
          "apparel",
          "appliances",
          "auto",
          "computers",
          "construction",
          "country_yard",
          "electronics",
          "furniture",
          "kids",
          "medicine",
          "sport",
          "stationery"
         ],
         "labels": [
          "a-elita",
          "aardwolf",
          "abtoys",
          "accumaster",
          "acd",
          "acer",
          "acer",
          "acer",
          "aces",
          "acme",
          "acme",
          "acme",
          "acqua",
          "acron",
          "acv",
          "acv",
          "adagio",
          "adam",
          "adamas",
          "adamex",
          "adamex",
          "adata",
          "adel",
          "adidas",
          "adil",
          "admira",
          "adriatica",
          "adrilux",
          "aeg",
          "aero",
          "aerocool",
          "aerocool",
          "aeroforce",
          "afox",
          "ag",
          "agatharuizdelaprada",
          "agness",
          "agrimotor",
          "agu",
          "agu",
          "aiken",
          "aimile",
          "aimoto",
          "air-cool",
          "airline",
          "airline",
          "airmax",
          "aist",
          "aivengo",
          "akai",
          "akel",
          "akg",
          "akor",
          "akpo",
          "akro",
          "aksion",
          "akvafor",
          "akvarel",
          "akvaton",
          "al-ko",
          "al-ko",
          "aladen",
          "alaskaoriginale",
          "alavann",
          "alca",
          "alctron",
          "aldit",
          "alesis",
          "aletant",
          "alfa",
          "alilo",
          "alis",
          "alligator",
          "almacom",
          "almacom",
          "almaks",
          "alphard",
          "alpicool",
          "alpina",
          "alpina",
          "alpina",
          "alpine",
          "alpine",
          "alser",
          "altacto",
          "altair",
          "altair",
          "alteco",
          "alteco",
          "alteco",
          "alteco",
          "alterna",
          "altinbasak",
          "alvarez",
          "alvitek",
          "am.pm",
          "am.pm",
          "amazon",
          "amd",
          "amen",
          "americanmotionfitness",
          "amistar",
          "ampm",
          "ams",
          "and",
          "andromeda",
          "anex",
          "annaanna",
          "annovireverberi",
          "anon",
          "anreks",
          "ansmann",
          "ansmann",
          "anta",
          "antika",
          "anytek",
          "aoc",
          "aoc",
          "aoki",
          "aorus",
          "apacer",
          "apart",
          "apollo",
          "apple",
          "apple",
          "apple",
          "apriori",
          "aqua",
          "aqualife",
          "aquamarine",
          "aquatic",
          "aquaverso",
          "ara",
          "ardesia",
          "ardo",
          "arg",
          "arg",
          "aria",
          "ariete",
          "ariston",
          "ark",
          "armani",
          "arnica",
          "arno",
          "arstisa",
          "artel",
          "artel",
          "artiny",
          "arturia",
          "artway",
          "arua",
          "ascoli",
          "asel",
          "ashleyfurniture",
          "asics",
          "askona",
          "asm",
          "asrock",
          "aston",
          "astrid",
          "asus",
          "asus",
          "asus",
          "atlant",
          "atlant",
          "atlantic",
          "atomic",
          "atomic",
          "atrai",
          "attribute",
          "audac",
          "audio-technica",
          "audiotop",
          "audison",
          "aula",
          "auldey",
          "aurora",
          "aurora",
          "aurora",
          "aurora",
          "author",
          "autoline",
          "autoprofi",
          "autovirazh",
          "autovirazh",
          "aux",
          "ava",
          "ava",
          "avalon",
          "avatar",
          "avel",
          "avermedia",
          "avis",
          "avis",
          "avrora",
          "avrorateksdizajn",
          "avs",
          "awei",
          "axis",
          "axper",
          "azbukvarik",
          "b-kids",
          "babolat",
          "baboo",
          "baby",
          "babybotte",
          "babygo",
          "babygo",
          "babyhit",
          "babyhit",
          "babyhit",
          "babykiss",
          "babyliss",
          "babylisspro",
          "babylock",
          "babymoov",
          "babys",
          "babysinq",
          "babyswing",
          "babytime",
          "babyzen",
          "babyzz",
          "baden",
          "baden",
          "bafang",
          "bair",
          "ballistix",
          "ballu",
          "balmain",
          "bambini",
          "bambola",
          "bambola",
          "bamboo",
          "baratto",
          "barbie",
          "barer",
          "barhatnyjsezon",
          "barneo",
          "barneo",
          "bartek",
          "bartplast",
          "barty",
          "basic",
          "basik",
          "batman",
          "battat",
          "bayer",
          "bayerdolls",
          "bayerlux",
          "bazhou",
          "bbk",
          "bburago",
          "beaba",
          "beats",
          "behringer",
          "beko",
          "bel",
          "belashoff",
          "belecoo",
          "belecoo",
          "bellamebel",
          "belux",
          "bene",
          "bene",
          "benebaby",
          "benq",
          "bentley",
          "berghoff",
          "bergner",
          "berkut",
          "bernina",
          "bertoni",
          "bertoni",
          "bertoni",
          "besafe",
          "best",
          "bestlife",
          "bestoy",
          "bestway",
          "bestway",
          "betsy",
          "beurer",
          "beyerdynamic",
          "bfsnowboards",
          "biema",
          "biemmedue",
          "binatone",
          "bio-tekstil",
          "biomecanics",
          "biostar",
          "birusa",
          "bissell",
          "bissell",
          "biwec",
          "biwec",
          "blackberry",
          "blackdecker",
          "blackvue",
          "blam",
          "blanco",
          "blauberg",
          "blaupunkt",
          "blg",
          "bluedio",
          "blueseven",
          "bluesonic",
          "bluesonic",
          "bmw",
          "boccia",
          "bochetti",
          "bodykraft",
          "bodysculpture",
          "bohemia",
          "bomann",
          "bomberg",
          "bompani",
          "bona",
          "bond",
          "bonvini",
          "borasco",
          "bork",
          "bork",
          "borovici",
          "bosch",
          "bosch",
          "bosch",
          "bosch",
          "bosch",
          "bose",
          "bosher",
          "bossh",
          "botticelli",
          "bouncin",
          "bovidix",
          "boyscout",
          "bq",
          "bradex",
          "brateck",
          "braun",
          "bravat",
          "bravis",
          "brevi",
          "brevi",
          "britop",
          "brother",
          "brother",
          "brw",
          "bts",
          "bts",
          "budibasa",
          "bugaboo",
          "bugaboo",
          "bugatti",
          "bulova",
          "bumbleride",
          "bumbleride",
          "burgerschuhe",
          "burton",
          "burton",
          "buttonblue",
          "byintek",
          "caiman",
          "callida",
          "calorie",
          "calvinklein",
          "calypso",
          "cam",
          "cam",
          "cameo",
          "cameron",
          "cameron",
          "cameron",
          "camshel",
          "can-am",
          "candide",
          "candy",
          "candy",
          "candy",
          "cannondale",
          "canon",
          "canon",
          "canon",
          "canton",
          "canyon",
          "canyon",
          "canyon",
          "capella",
          "capline",
          "caprice",
          "caramelia",
          "caravanmusic",
          "caraya",
          "cardrox",
          "carhome",
          "carino",
          "carpisa",
          "carpisa",
          "carters",
          "carver",
          "carver",
          "carver",
          "casada",
          "casada",
          "casela",
          "casio",
          "castelgarden",
          "castorland",
          "cata",
          "catimini",
          "catunltd",
          "cavaletto",
          "cavanova",
          "celebrat",
          "cellarprivate",
          "cenmax",
          "centek",
          "centrpravilnogosna",
          "centurion",
          "centurion",
          "cepeckaamf",
          "cersanit",
          "certina",
          "chairman",
          "chairman",
          "chameleon",
          "changhong",
          "chaod",
          "char-broil",
          "chayka",
          "chenri",
          "chicco",
          "chicco",
          "chicco",
          "chicco",
          "chieftec",
          "chigo",
          "ciaobimbi",
          "cilek",
          "cinemood",
          "circle",
          "citizen",
          "cityrover",
          "cityup",
          "clarion",
          "clarion",
          "clatronic",
          "clatronic",
          "claudebernard",
          "cliff",
          "climadiff",
          "cmi",
          "cmi",
          "cmi",
          "cnd",
          "cnd",
          "coballe",
          "cobra",
          "cobra",
          "cobra",
          "coccinelle",
          "coleman",
          "colombo",
          "colorfix",
          "colorful",
          "colorway",
          "columbia",
          "columbia",
          "comfee",
          "conceptclub",
          "conceptclub",
          "conte",
          "continent",
          "continent",
          "converse",
          "coolermaster",
          "coolfort",
          "coolmaster",
          "cooperhunter",
          "corsair",
          "cort",
          "cortland",
          "cougar",
          "cougar",
          "covani",
          "cover",
          "cover",
          "cowon",
          "creative",
          "creature",
          "creavit",
          "creo",
          "creoceramique",
          "crockid",
          "crosby",
          "crown",
          "crown",
          "crown",
          "crown",
          "crown",
          "crown",
          "crucial",
          "crunch",
          "crunch",
          "crusader",
          "crybabies",
          "csmedica",
          "cube",
          "cubicfun",
          "cvgaudio",
          "cybex",
          "cybex",
          "cybex",
          "d-link",
          "dab",
          "daewoo",
          "daewoo",
          "daewoo",
          "daewooelectronics",
          "dagee",
          "dahatsu",
          "dahon",
          "dahua",
          "daiwerina",
          "dam",
          "dam",
          "damixa",
          "daneildesch",
          "daniel",
          "danielklein",
          "danke",
          "dardav",
          "darina",
          "dasch",
          "dauscher",
          "dauscher",
          "davinci",
          "davita",
          "dcshoes",
          "decoroom",
          "deepcool",
          "defalucy",
          "defender",
          "defender",
          "defender",
          "defender",
          "delimano",
          "dell",
          "dell",
          "delonghi",
          "delsey",
          "delsot",
          "delta",
          "delux",
          "delux",
          "deluxe",
          "deluxe",
          "deluxe",
          "deluxe",
          "deluxe",
          "deluxe",
          "demark",
          "demiray",
          "denn",
          "denzel",
          "denzel",
          "denzel",
          "denzel",
          "deppa",
          "derevaski",
          "derspur",
          "destra",
          "detomaso",
          "deton",
          "deviser",
          "dewalt",
          "dewalt",
          "dewalt",
          "dewalt",
          "dexp",
          "dexp",
          "dickie",
          "dickietoys",
          "didistyle",
          "diesel",
          "dion",
          "dirkje",
          "disney",
          "ditreex",
          "divalux",
          "dji",
          "dk",
          "dkny",
          "dlaudio",
          "dls",
          "dobroparov",
          "dodo",
          "dogrular",
          "dolcevita",
          "domani-spa",
          "domasnijocag",
          "dometic",
          "dometic",
          "domini",
          "domyos",
          "doogee",
          "doohan",
          "doona",
          "dormeo",
          "doubleeagle",
          "doublefish",
          "dowontec",
          "dragonfly",
          "dreammachines",
          "dremel",
          "drgans",
          "drop",
          "dsland",
          "dsp",
          "dsppa",
          "dunavox",
          "dune",
          "dunu",
          "dwt",
          "dwt",
          "dxracer",
          "dynacord",
          "dynastar",
          "dyson",
          "e-blue",
          "e-twow",
          "easycamp",
          "easylink",
          "easylink",
          "easywalker",
          "ecler",
          "eco",
          "ecocool",
          "ecoterm",
          "ecotex",
          "ecs",
          "edelvejs",
          "edem",
          "edge",
          "edifier",
          "edifier",
          "edon",
          "edox",
          "educa",
          "educo",
          "efp",
          "eger",
          "egg",
          "egg",
          "egp",
          "einhell",
          "einhell",
          "einhell",
          "ekobike",
          "ekonomia",
          "elan",
          "elari",
          "elbasco",
          "electro-voice",
          "electrolux",
          "electronicsdeluxe",
          "element",
          "elenberg",
          "elenberg",
          "elenberg",
          "elica",
          "elikor",
          "elite",
          "elitebohemia",
          "elitech",
          "elleci",
          "elna",
          "eltempo",
          "eltreco",
          "elvin",
          "embawood",
          "emer",
          "emily",
          "enchantimals",
          "energolux",
          "energy",
          "energysistem",
          "enermax",
          "engy",
          "enkor",
          "enya",
          "epicgear",
          "epiphone",
          "epson",
          "epson",
          "epson",
          "ergo",
          "ergo",
          "erisson",
          "ermila",
          "ersport",
          "ersport",
          "esab",
          "escada",
          "escan",
          "esko",
          "espiro",
          "estap",
          "estomoda",
          "etalon",
          "etaltech",
          "etor",
          "eurogold",
          "eurolight",
          "eurolux",
          "europrint",
          "eurostek",
          "evenflo",
          "everflo",
          "everlast",
          "everlast",
          "evga",
          "evgo",
          "evo",
          "evrika",
          "evrodetal",
          "ewt",
          "exost",
          "ezetil",
          "ezetil",
          "faans",
          "faber",
          "fabretti",
          "fabretti",
          "fabrikakarteks",
          "face",
          "fagor",
          "fais",
          "falmec",
          "fame",
          "family",
          "fancy",
          "fant-mebel",
          "fantasia",
          "farcar",
          "fassen",
          "feile",
          "felisatti",
          "felisatti",
          "fender",
          "fengnix",
          "fenix",
          "ferrari",
          "ferrari",
          "ferre",
          "festina",
          "festool",
          "fiio",
          "fila",
          "firman",
          "firman",
          "first",
          "fischer",
          "fischer",
          "fisher-price",
          "fisherman",
          "fisherprice",
          "fissman",
          "fit",
          "fit-rx",
          "fitbit",
          "fitchbaby",
          "fitlux",
          "fitnex",
          "fitrider",
          "five",
          "flama",
          "flambeau",
          "flashpoint",
          "flavia",
          "flex",
          "fli",
          "flicker",
          "flight",
          "florentina",
          "fly",
          "fly",
          "fly",
          "fly",
          "focal",
          "force",
          "force",
          "force",
          "forminabanyo",
          "fornelli",
          "fornite",
          "forward",
          "forward",
          "forza",
          "forza",
          "fossil",
          "fostex",
          "foxconn",
          "foxx",
          "fracescodonni",
          "fractaldesign",
          "francescodonni",
          "franke",
          "franke",
          "freefeet",
          "fresh",
          "frozen",
          "frozen",
          "fsd",
          "fubag",
          "fubag",
          "fubag",
          "fujida",
          "fujifilm",
          "funville",
          "furreal",
          "futura",
          "futura",
          "g-cube",
          "g-cube",
          "g.skill",
          "gabor",
          "gaint",
          "gainward",
          "gaissina",
          "galanz",
          "galaxy",
          "galaxy",
          "gamdias",
          "gamdias",
          "gamemax",
          "gamemax",
          "gamerstorm",
          "gamma",
          "garant",
          "garanterm",
          "gardena",
          "gardena",
          "gardena",
          "garmin",
          "garmin",
          "garmin",
          "garvalin",
          "gefest",
          "geil",
          "gembird",
          "gembird",
          "genau",
          "genau",
          "genebre",
          "geneticlab",
          "geneticlabnutrition",
          "genius",
          "genius",
          "genki",
          "gerbor",
          "gerdamix",
          "gesso",
          "gewa",
          "gezatone",
          "gf",
          "giant",
          "gigabyte",
          "gigabyte",
          "gimi",
          "gionee",
          "giornonotte",
          "gioseppo",
          "gipfel",
          "gladen",
          "glam-forever",
          "glamvers",
          "glamvers",
          "glamvers",
          "glasman",
          "glimmies",
          "global",
          "global",
          "globber",
          "globex",
          "globo",
          "glory",
          "gmslivgidromasao",
          "gnu",
          "gomeldrev",
          "goo.n",
          "goodbaby",
          "goodloot",
          "goodram",
          "goodyear",
          "google",
          "goon",
          "gopro",
          "gorenje",
          "gorenje",
          "graco",
          "graco",
          "graffiti",
          "graffiti",
          "graffitisound",
          "gran-stone",
          "grand",
          "grandmanar",
          "granfest",
          "graphite",
          "gree",
          "greenbike",
          "greenpro",
          "greentek",
          "greentree",
          "greenworks",
          "greta",
          "gretsch",
          "greyder",
          "grinda",
          "grohe",
          "grohe",
          "gross",
          "groundzero",
          "grow-with-me",
          "gskill",
          "gt",
          "gulliver",
          "gutrend",
          "hada",
          "hadaa",
          "haday",
          "haeger",
          "haier",
          "haier",
          "haier",
          "hairdorables",
          "halmar",
          "halmar",
          "hama",
          "hamilton",
          "hamilton",
          "hammer",
          "hangzhoujindingimportexportcoltd",
          "hanma",
          "hanowa",
          "hansa",
          "hap-p-kid",
          "harley-davidson",
          "haro",
          "harper",
          "harper",
          "harper",
          "hartan",
          "hasbro",
          "hauck",
          "hauck",
          "haushalt",
          "hausmann",
          "havit",
          "hayabusa",
          "hayali",
          "hb",
          "head",
          "head",
          "headrush",
          "hebeigrindingwheelfactory",
          "hec",
          "heco",
          "helios",
          "helix",
          "hellion",
          "helvi",
          "henglei",
          "hercules",
          "herman",
          "hertz",
          "heyner",
          "heyner",
          "hgst",
          "hibertek",
          "hifiman",
          "hightechway",
          "hilti",
          "hintek",
          "hiper",
          "hiper",
          "his",
          "hisense",
          "hisense",
          "hitachi",
          "hitachi",
          "hitachi",
          "hobot",
          "hoco",
          "hoco",
          "hoka",
          "homage",
          "homeart",
          "homeelement",
          "homs",
          "honhongvictorygroupltd",
          "honor",
          "hoover",
          "hori",
          "horizont",
          "horizont",
          "hotmom",
          "hotner",
          "hotpoint-ariston",
          "hottek",
          "hotwheels",
          "housefit",
          "housefit",
          "household",
          "hp",
          "hp",
          "hp",
          "hp",
          "hp",
          "hp",
          "hp",
          "hp",
          "hpe",
          "hq",
          "hr",
          "htc",
          "htw",
          "huanger",
          "huawei",
          "huawei",
          "huawei",
          "hubeiindustrialaimiletrading",
          "hubert",
          "hubsan",
          "huggies",
          "huile",
          "huion",
          "humidifier",
          "hunter",
          "huntkey",
          "hurom",
          "husqvarna",
          "husqvarna",
          "husqvarna",
          "huter",
          "huter",
          "hycell",
          "hynix",
          "hyperx",
          "hyperx",
          "hyundai",
          "hyundai",
          "hyundai",
          "hyundai",
          "i-baby",
          "i-velo",
          "ibanez",
          "ibili",
          "ibox",
          "id-cooling",
          "iddis",
          "iddis",
          "idillia",
          "iek",
          "iiyama",
          "ikea",
          "ikea",
          "ikea",
          "ikea",
          "ikea",
          "ilife",
          "ilife",
          "illumico",
          "illumico",
          "imax",
          "imctoys",
          "imetec",
          "imperial",
          "imx",
          "incanto",
          "incar",
          "incase",
          "indesit",
          "indiana",
          "indigo",
          "indigo",
          "infinity",
          "inflame",
          "ingersoll",
          "inglesina",
          "inglesina",
          "inglesina",
          "inkax",
          "inoi",
          "insinse",
          "inspector",
          "inspiwood",
          "inswim",
          "intego",
          "intel",
          "inter",
          "interlink",
          "intex",
          "intex",
          "intex",
          "intex",
          "intro",
          "intro",
          "invotone",
          "ipipoo",
          "irbis",
          "irbis",
          "irest",
          "irit",
          "irit",
          "iriver",
          "irobot",
          "ismart",
          "italtrike",
          "itc",
          "ivt",
          "ivt",
          "iwalk",
          "jabra",
          "jack",
          "jacobdelafon",
          "jacobdelafon",
          "jacqueslemans",
          "jaguar",
          "jaguar",
          "jakkspacific",
          "jamo",
          "janome",
          "jasic",
          "jasmine",
          "jata",
          "jazwares",
          "jbl",
          "jbl",
          "jet",
          "jetair",
          "jetem",
          "jetem",
          "jiada",
          "jika",
          "jimcarrey",
          "jinga",
          "jinma",
          "jinyuan",
          "jjrc",
          "joe",
          "joerex",
          "joie",
          "joie",
          "joie",
          "joieanglia",
          "joker",
          "joonies",
          "jordan",
          "joyor",
          "joyroom",
          "jrc",
          "juki",
          "julbo",
          "junama",
          "junte",
          "jura",
          "juventa",
          "jvc",
          "jvc",
          "k-lite",
          "kacper",
          "kaier",
          "kaierda",
          "kaiser",
          "kaiser",
          "kakadu",
          "kale",
          "kaledomino",
          "kalenji",
          "kalibr",
          "kambrook",
          "kampfer",
          "kangkang",
          "kapika",
          "karapuz",
          "karapuz",
          "karcher",
          "karcher",
          "karma",
          "karya",
          "katun",
          "kayser",
          "keddo",
          "keddo",
          "keenway",
          "kef",
          "kehan",
          "kelet",
          "kelet",
          "kelli",
          "ken",
          "keneksi",
          "kenwood",
          "kenwood",
          "kenwood",
          "kessler",
          "keter",
          "kettler",
          "kettler",
          "kia",
          "kicker",
          "kicx",
          "kiddieart",
          "kiddy",
          "kiddy",
          "kiepe",
          "kingmax",
          "kingmeda",
          "kingslong",
          "kingsong",
          "kingston",
          "kingston",
          "kingtony",
          "kink",
          "kinlee",
          "kipor",
          "kirovit",
          "kitchenaid",
          "kitfort",
          "kitfort",
          "kivi",
          "klima",
          "kmk",
          "kmk",
          "kolner",
          "kolner",
          "kolner",
          "kolo",
          "kolpasan",
          "komfort-s",
          "komfort-s",
          "kona",
          "konlega",
          "konoos",
          "konov",
          "koopman",
          "koopman",
          "korg",
          "korin",
          "korting",
          "kosmos",
          "koss",
          "kpt",
          "kraton",
          "kress",
          "kristal",
          "krk",
          "kronasteel",
          "kronwerk",
          "kroskaa",
          "kroskindom",
          "krups",
          "kskids",
          "kugoo",
          "kumtel",
          "kuppersberg",
          "kuppersberg",
          "kuppersbusch",
          "kuppersbusch",
          "kupu-kupu",
          "kuqidai",
          "kurzweil",
          "kyocera",
          "kyocera",
          "la-di-da",
          "ladida",
          "lalaloopsy",
          "lamborghini",
          "lange",
          "lapkin",
          "larktale",
          "larktale",
          "laston",
          "laston",
          "laudio",
          "laufen",
          "laurastar",
          "lauravalarosa",
          "lauravalorosa",
          "lava",
          "leadbros",
          "leader",
          "leagoo",
          "lealelo",
          "leatherman",
          "leco",
          "leeco",
          "leem",
          "lefard",
          "legkiesny",
          "legre",
          "lel",
          "lemark",
          "lenovo",
          "lenovo",
          "lenovo",
          "leo",
          "leone",
          "lessar",
          "leven",
          "lexmark",
          "lezard",
          "lg",
          "lg",
          "lg",
          "lg",
          "lg",
          "libero",
          "liberty",
          "libtech",
          "lider",
          "lidonet",
          "lidonet",
          "liebherr",
          "liebherr",
          "lifedeco",
          "lifedeco",
          "line",
          "listvig",
          "lite-on",
          "liv",
          "livnynasos",
          "llarri",
          "llorens",
          "logitech",
          "logitech",
          "lol",
          "lom",
          "lonex",
          "longines",
          "longstyle",
          "longway",
          "lorelli",
          "lorelli",
          "lorelli",
          "lorelli-bertoni",
          "lorelli-bertoni",
          "lorelli-bertoni",
          "lorellibolgaria",
          "lori",
          "lorus",
          "louiserard",
          "lovular",
          "luazon",
          "lubimyjdom",
          "luciasvetlaa",
          "lumme",
          "luna",
          "luris",
          "lutian",
          "lux",
          "lux-tools",
          "lux-tools",
          "luxell",
          "m-audio",
          "maak",
          "maakavto",
          "machete",
          "mackie",
          "maclaren",
          "maclay",
          "mad",
          "madamecoco",
          "madina",
          "maestro",
          "magaudio",
          "magic",
          "magicbeartoys",
          "magkijson",
          "magma",
          "magnat",
          "magnetta",
          "magnetta",
          "magnetta",
          "magnetta",
          "maidou",
          "maisto",
          "maja",
          "makarena",
          "makers",
          "makita",
          "makita",
          "makita",
          "mam",
          "mamadoma",
          "maman",
          "maman",
          "mangokids",
          "manhattan",
          "manhattan",
          "manhattan",
          "manke",
          "mantra",
          "mantra",
          "manuoki",
          "maomaoku",
          "maono",
          "marcomen",
          "marcotozzi",
          "mariaiskusnica",
          "maribel",
          "maribel",
          "mark",
          "market",
          "marko",
          "marley",
          "mars",
          "mars",
          "marshall",
          "marta",
          "martinez",
          "marvel",
          "masi",
          "masima",
          "masstone",
          "mastela",
          "master",
          "masteryard",
          "mateus",
          "mateus",
          "matex",
          "matrix",
          "matrix",
          "matrix",
          "matrix",
          "matrix",
          "mattel",
          "maunfeld",
          "maxcolor",
          "maxi",
          "maxi-cosi",
          "maxi-cosi",
          "maxi-cosi",
          "maxima",
          "maxler",
          "maxvi",
          "maxwell",
          "maxwell",
          "maysun",
          "mbs",
          "mc",
          "mccan",
          "mcculloch",
          "mcculloch",
          "mdv",
          "mebberi",
          "mebbery.kz",
          "mebberykz",
          "mebelazii",
          "mebelcon",
          "mebelev",
          "mebels",
          "mebelservice",
          "mebelson",
          "mebelson",
          "mebelswow-rn",
          "medeli",
          "medisana",
          "mefferts",
          "meike",
          "meizu",
          "meizu",
          "mekkan",
          "melidadi",
          "melissadoug",
          "melitta",
          "mello",
          "merach",
          "merida",
          "merries",
          "merrylock",
          "metabo",
          "metabo",
          "metabo",
          "metalac",
          "metoo",
          "metoyou",
          "meze",
          "mibb",
          "mica",
          "michaelkors",
          "micio",
          "micmax",
          "micro",
          "microlab",
          "microlab",
          "micromax",
          "micron",
          "microsoft",
          "microsoft",
          "micuna",
          "midea",
          "midea",
          "midea",
          "mido",
          "midou",
          "miele",
          "miescarpe",
          "mifold",
          "milano",
          "milavitsa",
          "military",
          "millionaire",
          "milwaukee",
          "milwaukee",
          "mima",
          "mima",
          "mima",
          "minimen",
          "minimotors",
          "mio",
          "mio",
          "mioshi",
          "miracase",
          "miracle",
          "miraculous",
          "mirodel",
          "miromaks",
          "miromax",
          "misfit",
          "misty",
          "mltl",
          "modern",
          "modern",
          "mojdodyr",
          "mojmalys",
          "molfix",
          "moliabal",
          "molodecnomebel",
          "momentum",
          "momert",
          "momi",
          "monchhichi",
          "mongoose",
          "monkey",
          "monro",
          "monsher",
          "monster",
          "moon",
          "moongmbh",
          "moony",
          "mooveandfun",
          "morel",
          "moser",
          "motivyotdyha",
          "motorola",
          "moulinex",
          "moxom",
          "mozgamebel",
          "mrm-power",
          "msb",
          "msi",
          "msi",
          "mstar",
          "munchkin",
          "muqajankz",
          "mustang",
          "mutsy",
          "mydean",
          "mykronoz",
          "myprotein",
          "mystery",
          "mystery",
          "mz",
          "nady",
          "nagano",
          "nakamichi",
          "nakamichi",
          "namazu",
          "nanga",
          "nania",
          "naomi",
          "naranda",
          "nardi",
          "native",
          "natrol",
          "navitel",
          "navitel",
          "nec",
          "neff",
          "nella",
          "neo",
          "neo",
          "neo",
          "neoline",
          "neptun",
          "netechnics",
          "neumann",
          "newco",
          "nexpero",
          "nexpero",
          "next",
          "nexttab",
          "nexttool",
          "nici",
          "niio",
          "nik",
          "nika",
          "nika",
          "nike",
          "nike",
          "nikon",
          "ninebot",
          "nitecore",
          "nizegorodskaaigruska",
          "nobby",
          "noctua",
          "nodor",
          "nokia",
          "nomi",
          "noopies",
          "noordi",
          "noppies",
          "nord",
          "nordica",
          "nordictrack",
          "norfin",
          "norman",
          "normann",
          "novabright",
          "novatrack",
          "now",
          "nowodvorski",
          "nowystyl",
          "nubia",
          "nuforce",
          "numark",
          "nuna",
          "nuna",
          "nutrex",
          "nutribullet",
          "nvp",
          "nvprint",
          "nzxt",
          "oase",
          "oasis",
          "oasis",
          "obi",
          "obi",
          "obi",
          "obi",
          "obsessive",
          "ocz",
          "okuma",
          "ol-tex",
          "oleo-mac",
          "oley",
          "oliviabambino",
          "olmeko",
          "olmio",
          "olsa",
          "olto",
          "olto",
          "olympus",
          "omabelle",
          "omero",
          "omnio",
          "omoikiri",
          "omron",
          "omron",
          "oneplus",
          "onhillsport",
          "onlitop",
          "onlitop",
          "opadiris",
          "opple",
          "oppo",
          "optima",
          "optoma",
          "orange",
          "orbotix",
          "oribel",
          "oribel",
          "orico",
          "orico",
          "orient",
          "origami",
          "originalamnet",
          "orimag",
          "orion",
          "oris",
          "ortega",
          "orto-bed",
          "ortopazl",
          "os",
          "osann",
          "osminozka",
          "oster",
          "otan",
          "otex",
          "ouaps",
          "oukitel",
          "ourgeneration",
          "oursson",
          "outwell",
          "ovation",
          "oxygen",
          "p.i.t.",
          "p.i.t.",
          "pablosky",
          "paint",
          "palisad",
          "palisad",
          "palit",
          "pampers",
          "panasonic",
          "panasonic",
          "panasonic",
          "pandect",
          "pandora",
          "pangao",
          "parklon",
          "parkmaster",
          "parkwood",
          "parrot",
          "parrot",
          "parus",
          "paton",
          "patriot",
          "patriot",
          "patriot",
          "pawpatrol",
          "pccooler",
          "peak",
          "peavey",
          "pebble",
          "pedrollo",
          "peg-perego",
          "peg-perego",
          "pegperego",
          "penny",
          "perilla",
          "permanence",
          "persona",
          "persona",
          "peruzzo",
          "petek",
          "petek",
          "phantom",
          "philandteds",
          "philips",
          "philips",
          "philips",
          "philips",
          "phoenix",
          "phoenix",
          "phoenix",
          "picard",
          "pierrelannier",
          "pierrericaud",
          "pika",
          "pinarello",
          "pinskdrev",
          "pioneer",
          "pioneer",
          "pit",
          "pit",
          "pituso",
          "pituso",
          "plano",
          "plantronics",
          "playgro",
          "playlab",
          "playmates",
          "playme",
          "playskool",
          "plextor",
          "plitex",
          "pny",
          "pocketbook",
          "polar",
          "polaris",
          "polaris",
          "polaris",
          "polaris",
          "polese",
          "polini",
          "polti",
          "polti",
          "popov",
          "portcase",
          "potatohead",
          "powercolor",
          "powerplant",
          "pozis",
          "prc",
          "prc",
          "preciosa",
          "preciosa",
          "premier",
          "presonus",
          "prestige",
          "prestigio",
          "prestigio",
          "prestigio",
          "prestigio",
          "prestigio",
          "pride",
          "pro-karaoke",
          "proel",
          "profteplo",
          "progress",
          "prolike",
          "prologic",
          "prology",
          "prology",
          "promozer",
          "proteus",
          "puckator",
          "pulser",
          "puma",
          "puma",
          "puzzles",
          "qcyber",
          "qcyber",
          "qixels",
          "qmax",
          "qplay",
          "qq",
          "quatro",
          "quatro",
          "quiksilver",
          "quinny",
          "quinny",
          "r-senda",
          "racer",
          "radiant",
          "rado",
          "raidmax",
          "rajton",
          "ralfringer",
          "rals",
          "ramili",
          "rant",
          "rapala",
          "rapoo",
          "rapoo",
          "rastar",
          "ravak",
          "ravenol",
          "razer",
          "razer",
          "rcf",
          "rdx",
          "rebus",
          "rebus",
          "recaro",
          "recaro",
          "recci",
          "redblu",
          "redbo",
          "redford",
          "redford",
          "redmond",
          "redpower",
          "redragon",
          "redragon",
          "reebok",
          "regent",
          "remax",
          "remer",
          "remeza",
          "remington",
          "remix",
          "remonte",
          "remonte",
          "renegade",
          "renova",
          "resanta",
          "resanta",
          "reshin",
          "respect",
          "respect",
          "restar",
          "rexco",
          "rheinberger",
          "ricoh",
          "ricoh",
          "ricoh",
          "ride",
          "ride",
          "ridian",
          "rieker",
          "rieker",
          "riko",
          "rinnai",
          "ritmix",
          "ritmix",
          "ritmix",
          "ritmix",
          "rivacase",
          "rivalli",
          "rizmo",
          "roamer",
          "robocarpoli",
          "roborock",
          "roca",
          "rockdale",
          "rode",
          "roeyuta",
          "roland",
          "romack",
          "romanson",
          "romax",
          "rombica",
          "rombica",
          "romer",
          "roncato",
          "rondell",
          "rooman",
          "rosa",
          "rossignol",
          "rossignol",
          "rossinka",
          "rotorazer",
          "rovigo",
          "rovus",
          "rowenta",
          "rowenta",
          "roxy",
          "roxy",
          "roxy",
          "roxykids",
          "royallondon",
          "rubiks",
          "rubineta",
          "ruixinlang",
          "runwin",
          "rw",
          "ryobi",
          "ryobi",
          "ryobi",
          "ryobi",
          "ryobi",
          "sabi",
          "sabyrzhanayrin",
          "sachiko",
          "sacvoyage",
          "sades",
          "saksi",
          "sakura",
          "sakura",
          "salamander",
          "salmo",
          "salomon",
          "salomon",
          "samson",
          "samsonite",
          "samsung",
          "samsung",
          "samsung",
          "samsung",
          "sandisk",
          "saniano",
          "sanita",
          "santa-cruz",
          "santacruz",
          "santek",
          "santeri",
          "sapphire",
          "sarabella",
          "sariel",
          "satura",
          "saturn",
          "saturn",
          "saturn",
          "saucony",
          "savagegear",
          "sbw",
          "scarlett",
          "scarlett",
          "schardt",
          "schaublorenz",
          "scher-khan",
          "schneider",
          "schneider",
          "schreuders",
          "schwinn",
          "scierra",
          "scool",
          "scoole",
          "scooter",
          "scott",
          "scoyco",
          "scruff-a-luvs",
          "scythe",
          "seagate",
          "seasonic",
          "seed",
          "seed",
          "segotep",
          "segway",
          "seiko",
          "sekiguchi",
          "selby",
          "selena",
          "senci",
          "sencor",
          "sennheiser",
          "senspa",
          "sergiorossi",
          "sess",
          "sevenfriday",
          "sgary",
          "shagovita",
          "sharking",
          "sheffilton",
          "shenma",
          "shenma",
          "shima",
          "shimano",
          "shindo",
          "shivaki",
          "shivaki",
          "sho-me",
          "shoesrepublic",
          "shoiberg",
          "shopkins",
          "shua",
          "shure",
          "sibrteh",
          "sibrteh",
          "siee",
          "siemens",
          "siger",
          "sigikid",
          "sigma",
          "sigma",
          "signal",
          "silva",
          "silva",
          "silverlit",
          "simba",
          "simfer",
          "simpleparenting",
          "sinbo",
          "singer",
          "sinotex",
          "sinusprofi",
          "sitparad",
          "sjcam",
          "skagen",
          "skandika",
          "skazocnyjpatrul",
          "skechers",
          "ski-doo",
          "skillmax",
          "skillmax",
          "skullcandy",
          "skv",
          "skv-kompani",
          "skytech",
          "skyworth",
          "skyworth",
          "slaro",
          "slezakrav",
          "slider",
          "sly",
          "smalvic",
          "smart",
          "smartbuy",
          "smartrike",
          "smarttextile",
          "smartway",
          "smeg",
          "smeg",
          "smile",
          "smile",
          "smk",
          "smoby",
          "snez",
          "snowcap",
          "softoy",
          "solaris",
          "solostyle",
          "sonar",
          "sonda",
          "sonnaaskazka",
          "sonoterra",
          "sony",
          "sony",
          "soundking",
          "soundstream",
          "soyntec",
          "sozzy",
          "spalenka",
          "specialized",
          "speroni",
          "sphero",
          "spinmaster",
          "sportelite",
          "sportop",
          "spur",
          "squier",
          "stagg",
          "stalker",
          "stanley",
          "stanley",
          "stanley",
          "stark",
          "starline",
          "starmix",
          "startline",
          "startline",
          "starwars",
          "stavr",
          "stayer",
          "stayer",
          "stealth",
          "steba",
          "steelflex",
          "steelseries",
          "steelseries",
          "steffilove",
          "stels",
          "stels",
          "stels",
          "stendmebel",
          "steppuzzle",
          "stermay",
          "stern",
          "sterntaler",
          "sti",
          "stiga",
          "stiga",
          "stiga",
          "stihl",
          "stihl",
          "stihl",
          "stilvasejspalni",
          "stinger",
          "stinger",
          "stinol",
          "stn",
          "stockli",
          "stokke",
          "stokke",
          "stolicatekstila",
          "stolline",
          "stolplit",
          "stonelock",
          "storm",
          "strobbs",
          "stryj",
          "studiomaster",
          "stuntcar",
          "suave",
          "subini",
          "sulongtojs",
          "sumadl",
          "sumdex",
          "sunbody",
          "suncolor",
          "sunday",
          "sunsystem",
          "superfine",
          "superlux",
          "supermicro",
          "supra",
          "suunto",
          "suzuki",
          "sv",
          "sv",
          "svar",
          "sven",
          "sven",
          "svetogor",
          "swat",
          "swat",
          "swatch",
          "sweety",
          "swissline",
          "swissline",
          "swissmilitaryhanowa",
          "syma",
          "t-max",
          "t.bone",
          "tailg",
          "takamine",
          "tako",
          "taller",
          "tamaris",
          "tamish",
          "tamron",
          "tanglewood",
          "targus",
          "tarlan",
          "tascam",
          "tch",
          "tcl",
          "tcl",
          "teamgroup",
          "tec",
          "tecno",
          "tedmyfriend",
          "tefal",
          "tefal",
          "teka",
          "teka",
          "teknum",
          "teknum",
          "telefunken",
          "telwin",
          "temp",
          "temp",
          "tenda",
          "teorema",
          "teplokryma",
          "teploross",
          "termia",
          "teslastyle",
          "tesler",
          "tesma",
          "tesoro",
          "tesoro",
          "tesoro",
          "texa",
          "texet",
          "texet",
          "thermalright",
          "thermaltake",
          "thermex",
          "thomas",
          "thor",
          "thule",
          "thule",
          "thule",
          "tianzhanfitness",
          "tigerking",
          "tigres",
          "timbergroup",
          "timberk",
          "tinytoes",
          "tissot",
          "titan",
          "titan",
          "tizo",
          "tl",
          "tmnt",
          "tomahawk",
          "tomfarr",
          "tomik",
          "tomoloo",
          "tonybellucci",
          "tonybellucci",
          "toocool",
          "torgue",
          "tornado",
          "toro",
          "torrent",
          "torrent",
          "torso",
          "toshiba",
          "toshiba",
          "total",
          "touchbeauty",
          "toyota",
          "tp-link",
          "tpmaster",
          "tradiciatekstila",
          "tramontina",
          "transcend",
          "transcend",
          "traser",
          "travelite",
          "traxxas",
          "trefl",
          "trek",
          "trendvision",
          "trevi",
          "tridevatoecarstvo",
          "trinx",
          "tristar",
          "triton",
          "troyka",
          "trunki",
          "trust",
          "trust",
          "trust",
          "tsv",
          "tucano",
          "tuffoni",
          "tundra",
          "turbo",
          "turboair",
          "turbosound",
          "tutis",
          "twistclimbingcar",
          "ty",
          "tyr",
          "tyr",
          "ultimatumboxing",
          "ultraflash",
          "ultrasone",
          "umi",
          "unit",
          "universal",
          "uomo",
          "ural",
          "urbanears",
          "usams",
          "uta",
          "v-color",
          "v-unic",
          "vako",
          "value",
          "vans",
          "vasco",
          "vasden",
          "vasilisa",
          "vasin",
          "vdovichev",
          "vectron",
          "vegas",
          "veho",
          "velo",
          "velvet",
          "ventara",
          "ventura",
          "venum",
          "verbatim",
          "verbatim",
          "verdi",
          "veritas",
          "verossa",
          "versace",
          "versus",
          "vertex",
          "ves",
          "vesna",
          "vesta",
          "vestel",
          "vestel",
          "veston",
          "vibe",
          "vicovation",
          "viewsonic",
          "viewsonic",
          "viga",
          "vigoole",
          "vihr",
          "vihr",
          "viking",
          "vilatte",
          "vilt",
          "vinzer",
          "vipe",
          "visavis",
          "vista",
          "vitax",
          "vitek",
          "vitek",
          "vitra",
          "vivitek",
          "vivo",
          "vladitoys",
          "vmv",
          "voda",
          "voin",
          "vokul",
          "volcano",
          "volkl",
          "vortex",
          "vox",
          "voyager",
          "vtech",
          "vulli",
          "wacom",
          "wagner",
          "wahl",
          "walkmaxx",
          "wangfeng",
          "wd",
          "weber",
          "weekend",
          "weekend",
          "weichao",
          "weina",
          "weitai",
          "wellberg",
          "wellneo",
          "welly",
          "wenyi",
          "wert",
          "wester",
          "wester",
          "westerndigital",
          "westone",
          "wethepeople",
          "wh",
          "whirlpool",
          "whistler",
          "whitewave",
          "whito",
          "wibtek",
          "willmark",
          "wilo",
          "wilson",
          "winca",
          "wincars",
          "wing",
          "wingoffly",
          "wintek",
          "wiseson",
          "withings",
          "wltoys",
          "woddon",
          "wonlex",
          "work",
          "wortex",
          "worwo",
          "wowwee",
          "wster",
          "wster",
          "wurth",
          "wuw",
          "x-foot",
          "x-game",
          "x-game",
          "xerox",
          "xerox",
          "xgimi",
          "xiaomi",
          "xiaomi",
          "xiaomi",
          "xiaomi",
          "xiaomi",
          "xiaomi",
          "xiaomi",
          "xiaomi",
          "xiaomi",
          "xiaomi",
          "xieming",
          "xing",
          "xkg",
          "xp-pen",
          "xti",
          "yamaguchi",
          "yamaha",
          "yardforce",
          "yasin",
          "yellow",
          "yh",
          "yika",
          "yison",
          "yoga",
          "yokito",
          "yokosun",
          "yoshioki",
          "yota",
          "yoya",
          "yoyofactory",
          "yuandong",
          "zajkami",
          "zalman",
          "zalman",
          "zanussi",
          "zapfcreation",
          "zara",
          "zass",
          "zazu",
          "zegan",
          "zelmer",
          "zeppelin",
          "zeppelin",
          "zerten",
          "zeta",
          "zeta",
          "zfts",
          "zinc",
          "zinvo",
          "zlatek",
          "zobo",
          "zongshen",
          "zoom",
          "zorg",
          "zotac",
          "zpao",
          "zte",
          "zubr",
          "zubr",
          "zubr",
          "zubr",
          "zuru",
          "zwerg",
          "accessories",
          "apparel",
          "appliances",
          "auto",
          "computers",
          "construction",
          "country_yard",
          "electronics",
          "furniture",
          "kids",
          "medicine",
          "sport",
          "stationery"
         ],
         "name": "",
         "parents": [
          "accessories",
          "computers",
          "kids",
          "country_yard",
          "computers",
          "accessories",
          "computers",
          "electronics",
          "electronics",
          "appliances",
          "computers",
          "electronics",
          "electronics",
          "accessories",
          "auto",
          "electronics",
          "electronics",
          "electronics",
          "furniture",
          "furniture",
          "kids",
          "computers",
          "furniture",
          "apparel",
          "kids",
          "electronics",
          "electronics",
          "furniture",
          "appliances",
          "furniture",
          "computers",
          "furniture",
          "construction",
          "computers",
          "apparel",
          "apparel",
          "appliances",
          "country_yard",
          "appliances",
          "electronics",
          "construction",
          "kids",
          "electronics",
          "computers",
          "appliances",
          "auto",
          "computers",
          "sport",
          "apparel",
          "electronics",
          "appliances",
          "electronics",
          "construction",
          "appliances",
          "appliances",
          "appliances",
          "stationery",
          "furniture",
          "furniture",
          "construction",
          "country_yard",
          "apparel",
          "apparel",
          "furniture",
          "auto",
          "electronics",
          "furniture",
          "electronics",
          "appliances",
          "furniture",
          "kids",
          "kids",
          "auto",
          "appliances",
          "computers",
          "furniture",
          "electronics",
          "appliances",
          "apparel",
          "electronics",
          "sport",
          "auto",
          "electronics",
          "computers",
          "kids",
          "kids",
          "sport",
          "appliances",
          "auto",
          "construction",
          "country_yard",
          "furniture",
          "furniture",
          "electronics",
          "furniture",
          "construction",
          "furniture",
          "computers",
          "computers",
          "accessories",
          "sport",
          "electronics",
          "construction",
          "auto",
          "medicine",
          "accessories",
          "kids",
          "apparel",
          "appliances",
          "sport",
          "furniture",
          "construction",
          "sport",
          "apparel",
          "furniture",
          "auto",
          "computers",
          "electronics",
          "appliances",
          "computers",
          "computers",
          "electronics",
          "appliances",
          "accessories",
          "computers",
          "electronics",
          "furniture",
          "appliances",
          "furniture",
          "stationery",
          "accessories",
          "appliances",
          "apparel",
          "appliances",
          "appliances",
          "appliances",
          "electronics",
          "electronics",
          "appliances",
          "appliances",
          "electronics",
          "electronics",
          "appliances",
          "kids",
          "accessories",
          "appliances",
          "electronics",
          "electronics",
          "electronics",
          "auto",
          "furniture",
          "appliances",
          "appliances",
          "furniture",
          "apparel",
          "furniture",
          "furniture",
          "computers",
          "appliances",
          "furniture",
          "accessories",
          "computers",
          "electronics",
          "appliances",
          "sport",
          "appliances",
          "apparel",
          "sport",
          "apparel",
          "appliances",
          "electronics",
          "electronics",
          "electronics",
          "electronics",
          "electronics",
          "kids",
          "appliances",
          "auto",
          "construction",
          "kids",
          "sport",
          "auto",
          "auto",
          "appliances",
          "auto",
          "appliances",
          "appliances",
          "electronics",
          "computers",
          "electronics",
          "auto",
          "electronics",
          "auto",
          "electronics",
          "furniture",
          "furniture",
          "auto",
          "electronics",
          "sport",
          "auto",
          "kids",
          "kids",
          "sport",
          "kids",
          "furniture",
          "apparel",
          "furniture",
          "kids",
          "furniture",
          "kids",
          "sport",
          "kids",
          "appliances",
          "appliances",
          "appliances",
          "kids",
          "furniture",
          "kids",
          "kids",
          "kids",
          "kids",
          "kids",
          "accessories",
          "apparel",
          "sport",
          "kids",
          "computers",
          "appliances",
          "electronics",
          "furniture",
          "furniture",
          "kids",
          "construction",
          "apparel",
          "kids",
          "stationery",
          "appliances",
          "computers",
          "furniture",
          "apparel",
          "kids",
          "furniture",
          "computers",
          "kids",
          "kids",
          "kids",
          "kids",
          "kids",
          "furniture",
          "furniture",
          "appliances",
          "kids",
          "appliances",
          "electronics",
          "electronics",
          "appliances",
          "kids",
          "furniture",
          "furniture",
          "kids",
          "furniture",
          "furniture",
          "appliances",
          "construction",
          "kids",
          "computers",
          "sport",
          "appliances",
          "appliances",
          "auto",
          "appliances",
          "furniture",
          "kids",
          "sport",
          "furniture",
          "appliances",
          "accessories",
          "kids",
          "accessories",
          "construction",
          "apparel",
          "appliances",
          "electronics",
          "sport",
          "electronics",
          "appliances",
          "appliances",
          "furniture",
          "apparel",
          "computers",
          "appliances",
          "appliances",
          "construction",
          "kids",
          "sport",
          "electronics",
          "construction",
          "auto",
          "electronics",
          "construction",
          "appliances",
          "electronics",
          "electronics",
          "electronics",
          "apparel",
          "auto",
          "electronics",
          "sport",
          "electronics",
          "apparel",
          "appliances",
          "sport",
          "furniture",
          "appliances",
          "electronics",
          "appliances",
          "computers",
          "apparel",
          "appliances",
          "electronics",
          "appliances",
          "construction",
          "furniture",
          "accessories",
          "appliances",
          "construction",
          "country_yard",
          "electronics",
          "electronics",
          "appliances",
          "construction",
          "furniture",
          "kids",
          "construction",
          "appliances",
          "electronics",
          "appliances",
          "computers",
          "appliances",
          "construction",
          "electronics",
          "furniture",
          "kids",
          "construction",
          "appliances",
          "stationery",
          "furniture",
          "appliances",
          "furniture",
          "kids",
          "furniture",
          "kids",
          "apparel",
          "electronics",
          "apparel",
          "kids",
          "apparel",
          "apparel",
          "sport",
          "kids",
          "electronics",
          "construction",
          "kids",
          "construction",
          "electronics",
          "electronics",
          "furniture",
          "kids",
          "construction",
          "accessories",
          "appliances",
          "computers",
          "auto",
          "apparel",
          "furniture",
          "appliances",
          "electronics",
          "kids",
          "sport",
          "computers",
          "electronics",
          "stationery",
          "electronics",
          "accessories",
          "computers",
          "electronics",
          "kids",
          "accessories",
          "apparel",
          "furniture",
          "electronics",
          "electronics",
          "auto",
          "appliances",
          "appliances",
          "accessories",
          "apparel",
          "apparel",
          "appliances",
          "construction",
          "country_yard",
          "appliances",
          "sport",
          "construction",
          "electronics",
          "country_yard",
          "kids",
          "appliances",
          "apparel",
          "apparel",
          "apparel",
          "appliances",
          "electronics",
          "appliances",
          "auto",
          "appliances",
          "furniture",
          "auto",
          "sport",
          "furniture",
          "furniture",
          "electronics",
          "computers",
          "furniture",
          "auto",
          "electronics",
          "sport",
          "appliances",
          "appliances",
          "computers",
          "apparel",
          "furniture",
          "kids",
          "sport",
          "computers",
          "appliances",
          "apparel",
          "furniture",
          "electronics",
          "kids",
          "electronics",
          "kids",
          "auto",
          "auto",
          "electronics",
          "appliances",
          "construction",
          "electronics",
          "sport",
          "appliances",
          "appliances",
          "construction",
          "country_yard",
          "computers",
          "electronics",
          "kids",
          "computers",
          "construction",
          "sport",
          "accessories",
          "accessories",
          "furniture",
          "stationery",
          "computers",
          "stationery",
          "apparel",
          "sport",
          "appliances",
          "accessories",
          "apparel",
          "apparel",
          "accessories",
          "electronics",
          "apparel",
          "computers",
          "appliances",
          "kids",
          "appliances",
          "computers",
          "electronics",
          "electronics",
          "computers",
          "electronics",
          "apparel",
          "apparel",
          "electronics",
          "electronics",
          "electronics",
          "kids",
          "furniture",
          "furniture",
          "furniture",
          "apparel",
          "apparel",
          "accessories",
          "appliances",
          "computers",
          "construction",
          "electronics",
          "stationery",
          "computers",
          "auto",
          "electronics",
          "electronics",
          "kids",
          "medicine",
          "sport",
          "kids",
          "electronics",
          "apparel",
          "furniture",
          "kids",
          "computers",
          "construction",
          "appliances",
          "construction",
          "country_yard",
          "appliances",
          "electronics",
          "appliances",
          "sport",
          "auto",
          "appliances",
          "accessories",
          "appliances",
          "construction",
          "apparel",
          "construction",
          "electronics",
          "appliances",
          "furniture",
          "appliances",
          "appliances",
          "appliances",
          "electronics",
          "auto",
          "furniture",
          "apparel",
          "construction",
          "computers",
          "kids",
          "accessories",
          "auto",
          "computers",
          "electronics",
          "appliances",
          "accessories",
          "computers",
          "appliances",
          "accessories",
          "appliances",
          "appliances",
          "computers",
          "electronics",
          "accessories",
          "appliances",
          "auto",
          "computers",
          "construction",
          "furniture",
          "appliances",
          "appliances",
          "electronics",
          "appliances",
          "auto",
          "construction",
          "country_yard",
          "electronics",
          "kids",
          "apparel",
          "apparel",
          "electronics",
          "appliances",
          "electronics",
          "accessories",
          "appliances",
          "construction",
          "country_yard",
          "appliances",
          "electronics",
          "kids",
          "kids",
          "apparel",
          "electronics",
          "apparel",
          "apparel",
          "kids",
          "appliances",
          "furniture",
          "electronics",
          "sport",
          "electronics",
          "electronics",
          "electronics",
          "furniture",
          "kids",
          "appliances",
          "apparel",
          "furniture",
          "appliances",
          "accessories",
          "appliances",
          "furniture",
          "sport",
          "electronics",
          "kids",
          "kids",
          "furniture",
          "kids",
          "sport",
          "auto",
          "apparel",
          "computers",
          "construction",
          "construction",
          "construction",
          "kids",
          "appliances",
          "electronics",
          "appliances",
          "electronics",
          "electronics",
          "appliances",
          "construction",
          "computers",
          "electronics",
          "sport",
          "appliances",
          "computers",
          "kids",
          "accessories",
          "construction",
          "furniture",
          "kids",
          "electronics",
          "construction",
          "computers",
          "appliances",
          "furniture",
          "computers",
          "furniture",
          "furniture",
          "electronics",
          "computers",
          "electronics",
          "construction",
          "electronics",
          "kids",
          "kids",
          "furniture",
          "construction",
          "apparel",
          "kids",
          "construction",
          "appliances",
          "auto",
          "construction",
          "sport",
          "furniture",
          "sport",
          "electronics",
          "kids",
          "electronics",
          "appliances",
          "appliances",
          "electronics",
          "appliances",
          "construction",
          "electronics",
          "appliances",
          "appliances",
          "appliances",
          "furniture",
          "construction",
          "construction",
          "appliances",
          "apparel",
          "sport",
          "appliances",
          "furniture",
          "furniture",
          "furniture",
          "kids",
          "construction",
          "appliances",
          "electronics",
          "computers",
          "appliances",
          "construction",
          "electronics",
          "computers",
          "electronics",
          "computers",
          "electronics",
          "stationery",
          "apparel",
          "electronics",
          "auto",
          "appliances",
          "apparel",
          "furniture",
          "construction",
          "construction",
          "apparel",
          "construction",
          "kids",
          "furniture",
          "apparel",
          "appliances",
          "construction",
          "apparel",
          "appliances",
          "construction",
          "construction",
          "stationery",
          "appliances",
          "kids",
          "furniture",
          "apparel",
          "sport",
          "computers",
          "appliances",
          "sport",
          "computers",
          "sport",
          "appliances",
          "kids",
          "accessories",
          "appliances",
          "furniture",
          "appliances",
          "accessories",
          "apparel",
          "accessories",
          "apparel",
          "appliances",
          "appliances",
          "appliances",
          "electronics",
          "appliances",
          "kids",
          "furniture",
          "appliances",
          "auto",
          "apparel",
          "kids",
          "appliances",
          "construction",
          "electronics",
          "furniture",
          "sport",
          "furniture",
          "kids",
          "appliances",
          "electronics",
          "construction",
          "electronics",
          "apparel",
          "appliances",
          "construction",
          "appliances",
          "apparel",
          "sport",
          "kids",
          "accessories",
          "kids",
          "appliances",
          "construction",
          "appliances",
          "electronics",
          "kids",
          "sport",
          "sport",
          "kids",
          "apparel",
          "appliances",
          "accessories",
          "auto",
          "appliances",
          "furniture",
          "electronics",
          "kids",
          "electronics",
          "construction",
          "apparel",
          "electronics",
          "furniture",
          "sport",
          "electronics",
          "construction",
          "electronics",
          "furniture",
          "furniture",
          "appliances",
          "kids",
          "kids",
          "sport",
          "appliances",
          "construction",
          "electronics",
          "electronics",
          "computers",
          "sport",
          "apparel",
          "computers",
          "apparel",
          "appliances",
          "construction",
          "kids",
          "appliances",
          "computers",
          "kids",
          "electronics",
          "appliances",
          "auto",
          "construction",
          "auto",
          "electronics",
          "kids",
          "kids",
          "construction",
          "furniture",
          "accessories",
          "electronics",
          "computers",
          "apparel",
          "sport",
          "computers",
          "apparel",
          "appliances",
          "appliances",
          "construction",
          "computers",
          "electronics",
          "computers",
          "electronics",
          "computers",
          "medicine",
          "construction",
          "appliances",
          "appliances",
          "construction",
          "country_yard",
          "appliances",
          "auto",
          "electronics",
          "apparel",
          "appliances",
          "computers",
          "computers",
          "electronics",
          "apparel",
          "furniture",
          "construction",
          "appliances",
          "appliances",
          "computers",
          "electronics",
          "kids",
          "furniture",
          "construction",
          "furniture",
          "electronics",
          "appliances",
          "sport",
          "sport",
          "computers",
          "electronics",
          "appliances",
          "electronics",
          "furniture",
          "apparel",
          "appliances",
          "electronics",
          "apparel",
          "furniture",
          "kids",
          "sport",
          "apparel",
          "kids",
          "computers",
          "electronics",
          "kids",
          "furniture",
          "construction",
          "kids",
          "construction",
          "sport",
          "furniture",
          "kids",
          "kids",
          "apparel",
          "computers",
          "auto",
          "electronics",
          "kids",
          "electronics",
          "appliances",
          "construction",
          "furniture",
          "kids",
          "kids",
          "sport",
          "electronics",
          "construction",
          "appliances",
          "furniture",
          "construction",
          "construction",
          "appliances",
          "sport",
          "construction",
          "appliances",
          "computers",
          "country_yard",
          "appliances",
          "electronics",
          "apparel",
          "country_yard",
          "construction",
          "furniture",
          "accessories",
          "electronics",
          "kids",
          "computers",
          "sport",
          "kids",
          "appliances",
          "appliances",
          "sport",
          "appliances",
          "appliances",
          "appliances",
          "computers",
          "electronics",
          "kids",
          "computers",
          "furniture",
          "accessories",
          "electronics",
          "kids",
          "construction",
          "appliances",
          "sport",
          "electronics",
          "appliances",
          "kids",
          "apparel",
          "sport",
          "auto",
          "computers",
          "electronics",
          "kids",
          "kids",
          "furniture",
          "kids",
          "appliances",
          "appliances",
          "electronics",
          "apparel",
          "apparel",
          "kids",
          "apparel",
          "sport",
          "electronics",
          "appliances",
          "computers",
          "electronics",
          "accessories",
          "construction",
          "auto",
          "construction",
          "kids",
          "electronics",
          "furniture",
          "electronics",
          "auto",
          "furniture",
          "computers",
          "computers",
          "electronics",
          "kids",
          "construction",
          "appliances",
          "computers",
          "electronics",
          "computers",
          "appliances",
          "electronics",
          "appliances",
          "computers",
          "construction",
          "appliances",
          "accessories",
          "electronics",
          "apparel",
          "electronics",
          "furniture",
          "appliances",
          "appliances",
          "electronics",
          "electronics",
          "appliances",
          "computers",
          "appliances",
          "electronics",
          "kids",
          "furniture",
          "appliances",
          "appliances",
          "kids",
          "appliances",
          "sport",
          "appliances",
          "accessories",
          "appliances",
          "auto",
          "computers",
          "construction",
          "electronics",
          "kids",
          "stationery",
          "computers",
          "kids",
          "furniture",
          "electronics",
          "furniture",
          "kids",
          "appliances",
          "computers",
          "electronics",
          "kids",
          "appliances",
          "kids",
          "kids",
          "kids",
          "electronics",
          "appliances",
          "kids",
          "computers",
          "appliances",
          "appliances",
          "construction",
          "country_yard",
          "construction",
          "country_yard",
          "sport",
          "computers",
          "computers",
          "electronics",
          "appliances",
          "auto",
          "construction",
          "country_yard",
          "kids",
          "sport",
          "electronics",
          "appliances",
          "auto",
          "computers",
          "construction",
          "furniture",
          "kids",
          "construction",
          "computers",
          "appliances",
          "computers",
          "construction",
          "electronics",
          "furniture",
          "appliances",
          "computers",
          "construction",
          "furniture",
          "accessories",
          "kids",
          "appliances",
          "furniture",
          "auto",
          "furniture",
          "auto",
          "accessories",
          "appliances",
          "apparel",
          "apparel",
          "kids",
          "electronics",
          "apparel",
          "electronics",
          "apparel",
          "furniture",
          "kids",
          "electronics",
          "electronics",
          "kids",
          "auto",
          "furniture",
          "sport",
          "auto",
          "computers",
          "construction",
          "country_yard",
          "construction",
          "electronics",
          "furniture",
          "kids",
          "auto",
          "electronics",
          "electronics",
          "electronics",
          "computers",
          "electronics",
          "appliances",
          "appliances",
          "electronics",
          "computers",
          "appliances",
          "auto",
          "sport",
          "electronics",
          "construction",
          "country_yard",
          "electronics",
          "electronics",
          "appliances",
          "construction",
          "furniture",
          "electronics",
          "appliances",
          "electronics",
          "kids",
          "electronics",
          "appliances",
          "construction",
          "apparel",
          "appliances",
          "kids",
          "computers",
          "electronics",
          "electronics",
          "appliances",
          "furniture",
          "kids",
          "kids",
          "furniture",
          "kids",
          "electronics",
          "kids",
          "sport",
          "kids",
          "kids",
          "sport",
          "apparel",
          "furniture",
          "kids",
          "kids",
          "electronics",
          "kids",
          "apparel",
          "kids",
          "electronics",
          "accessories",
          "appliances",
          "sport",
          "kids",
          "appliances",
          "appliances",
          "furniture",
          "auto",
          "electronics",
          "electronics",
          "kids",
          "auto",
          "construction",
          "appliances",
          "construction",
          "kids",
          "furniture",
          "construction",
          "electronics",
          "construction",
          "appliances",
          "kids",
          "appliances",
          "apparel",
          "furniture",
          "kids",
          "appliances",
          "construction",
          "appliances",
          "accessories",
          "stationery",
          "apparel",
          "accessories",
          "apparel",
          "kids",
          "electronics",
          "electronics",
          "appliances",
          "construction",
          "appliances",
          "construction",
          "electronics",
          "appliances",
          "auto",
          "electronics",
          "sport",
          "kids",
          "furniture",
          "sport",
          "furniture",
          "electronics",
          "electronics",
          "kids",
          "furniture",
          "kids",
          "appliances",
          "computers",
          "kids",
          "accessories",
          "kids",
          "computers",
          "electronics",
          "auto",
          "sport",
          "kids",
          "construction",
          "furniture",
          "appliances",
          "appliances",
          "construction",
          "electronics",
          "appliances",
          "computers",
          "furniture",
          "appliances",
          "auto",
          "construction",
          "furniture",
          "furniture",
          "computers",
          "furniture",
          "sport",
          "sport",
          "computers",
          "appliances",
          "appliances",
          "country_yard",
          "electronics",
          "accessories",
          "appliances",
          "construction",
          "electronics",
          "sport",
          "appliances",
          "construction",
          "appliances",
          "electronics",
          "appliances",
          "construction",
          "kids",
          "furniture",
          "appliances",
          "kids",
          "kids",
          "appliances",
          "appliances",
          "construction",
          "appliances",
          "electronics",
          "furniture",
          "kids",
          "electronics",
          "computers",
          "stationery",
          "kids",
          "kids",
          "kids",
          "sport",
          "apparel",
          "kids",
          "apparel",
          "kids",
          "auto",
          "construction",
          "electronics",
          "furniture",
          "appliances",
          "apparel",
          "apparel",
          "construction",
          "appliances",
          "appliances",
          "electronics",
          "apparel",
          "electronics",
          "sport",
          "electronics",
          "electronics",
          "appliances",
          "furniture",
          "apparel",
          "furniture",
          "construction",
          "accessories",
          "computers",
          "electronics",
          "construction",
          "apparel",
          "appliances",
          "computers",
          "computers",
          "construction",
          "appliances",
          "computers",
          "construction",
          "electronics",
          "sport",
          "furniture",
          "electronics",
          "sport",
          "furniture",
          "construction",
          "furniture",
          "appliances",
          "kids",
          "computers",
          "furniture",
          "sport",
          "furniture",
          "computers",
          "sport",
          "construction",
          "furniture",
          "kids",
          "computers",
          "electronics",
          "kids",
          "construction",
          "kids",
          "electronics",
          "sport",
          "kids",
          "furniture",
          "kids",
          "sport",
          "furniture",
          "kids",
          "sport",
          "kids",
          "kids",
          "electronics",
          "electronics",
          "kids",
          "appliances",
          "furniture",
          "furniture",
          "appliances",
          "electronics",
          "accessories",
          "construction",
          "sport",
          "construction",
          "country_yard",
          "appliances",
          "electronics",
          "sport",
          "auto",
          "electronics",
          "electronics",
          "kids",
          "country_yard",
          "accessories",
          "furniture",
          "electronics",
          "appliances",
          "electronics",
          "kids",
          "kids",
          "furniture",
          "auto",
          "electronics",
          "appliances",
          "auto",
          "construction",
          "country_yard",
          "kids",
          "kids",
          "furniture",
          "country_yard",
          "apparel",
          "appliances",
          "construction",
          "country_yard",
          "computers",
          "furniture",
          "appliances",
          "construction",
          "apparel",
          "accessories",
          "computers",
          "electronics",
          "kids",
          "construction",
          "furniture",
          "kids",
          "kids",
          "electronics",
          "apparel",
          "apparel",
          "furniture",
          "furniture",
          "kids",
          "electronics",
          "construction",
          "apparel",
          "electronics",
          "computers",
          "sport",
          "electronics",
          "appliances",
          "electronics",
          "kids",
          "sport",
          "appliances",
          "appliances",
          "kids",
          "appliances",
          "country_yard",
          "auto",
          "construction",
          "accessories",
          "accessories",
          "appliances",
          "construction",
          "furniture",
          "sport",
          "kids",
          "appliances",
          "kids",
          "kids",
          "apparel",
          "furniture",
          "kids",
          "appliances",
          "appliances",
          "electronics",
          "appliances",
          "construction",
          "construction",
          "appliances",
          "furniture",
          "kids",
          "appliances",
          "construction",
          "appliances",
          "furniture",
          "furniture",
          "furniture",
          "furniture",
          "furniture",
          "furniture",
          "furniture",
          "furniture",
          "computers",
          "furniture",
          "furniture",
          "electronics",
          "appliances",
          "kids",
          "electronics",
          "accessories",
          "electronics",
          "construction",
          "kids",
          "kids",
          "appliances",
          "kids",
          "sport",
          "sport",
          "kids",
          "appliances",
          "appliances",
          "auto",
          "construction",
          "appliances",
          "kids",
          "kids",
          "electronics",
          "furniture",
          "furniture",
          "electronics",
          "sport",
          "kids",
          "kids",
          "computers",
          "electronics",
          "electronics",
          "computers",
          "computers",
          "electronics",
          "furniture",
          "appliances",
          "computers",
          "construction",
          "electronics",
          "kids",
          "appliances",
          "apparel",
          "furniture",
          "appliances",
          "apparel",
          "construction",
          "apparel",
          "appliances",
          "construction",
          "apparel",
          "furniture",
          "kids",
          "apparel",
          "kids",
          "auto",
          "furniture",
          "kids",
          "accessories",
          "accessories",
          "kids",
          "furniture",
          "furniture",
          "furniture",
          "electronics",
          "furniture",
          "apparel",
          "construction",
          "furniture",
          "furniture",
          "furniture",
          "kids",
          "accessories",
          "furniture",
          "electronics",
          "appliances",
          "kids",
          "kids",
          "sport",
          "furniture",
          "furniture",
          "appliances",
          "electronics",
          "kids",
          "kids",
          "kids",
          "sport",
          "electronics",
          "appliances",
          "kids",
          "electronics",
          "appliances",
          "electronics",
          "furniture",
          "appliances",
          "appliances",
          "computers",
          "electronics",
          "kids",
          "kids",
          "accessories",
          "construction",
          "kids",
          "auto",
          "electronics",
          "apparel",
          "auto",
          "electronics",
          "kids",
          "electronics",
          "appliances",
          "auto",
          "electronics",
          "accessories",
          "apparel",
          "furniture",
          "appliances",
          "electronics",
          "appliances",
          "apparel",
          "appliances",
          "auto",
          "electronics",
          "computers",
          "appliances",
          "kids",
          "accessories",
          "appliances",
          "computers",
          "auto",
          "construction",
          "computers",
          "electronics",
          "auto",
          "accessories",
          "apparel",
          "kids",
          "electronics",
          "construction",
          "kids",
          "kids",
          "furniture",
          "appliances",
          "furniture",
          "accessories",
          "apparel",
          "electronics",
          "kids",
          "sport",
          "kids",
          "electronics",
          "computers",
          "appliances",
          "electronics",
          "electronics",
          "apparel",
          "kids",
          "apparel",
          "appliances",
          "sport",
          "sport",
          "accessories",
          "electronics",
          "appliances",
          "auto",
          "sport",
          "appliances",
          "construction",
          "computers",
          "electronics",
          "electronics",
          "electronics",
          "furniture",
          "kids",
          "appliances",
          "appliances",
          "stationery",
          "stationery",
          "computers",
          "construction",
          "appliances",
          "construction",
          "appliances",
          "country_yard",
          "furniture",
          "kids",
          "apparel",
          "computers",
          "accessories",
          "furniture",
          "country_yard",
          "kids",
          "apparel",
          "furniture",
          "electronics",
          "kids",
          "appliances",
          "electronics",
          "electronics",
          "accessories",
          "apparel",
          "kids",
          "construction",
          "appliances",
          "medicine",
          "electronics",
          "apparel",
          "kids",
          "sport",
          "furniture",
          "construction",
          "electronics",
          "appliances",
          "electronics",
          "kids",
          "kids",
          "furniture",
          "kids",
          "computers",
          "electronics",
          "electronics",
          "kids",
          "stationery",
          "electronics",
          "appliances",
          "electronics",
          "electronics",
          "furniture",
          "kids",
          "kids",
          "kids",
          "furniture",
          "appliances",
          "electronics",
          "appliances",
          "kids",
          "electronics",
          "kids",
          "appliances",
          "accessories",
          "electronics",
          "sport",
          "appliances",
          "construction",
          "apparel",
          "construction",
          "accessories",
          "country_yard",
          "computers",
          "kids",
          "appliances",
          "electronics",
          "stationery",
          "auto",
          "auto",
          "appliances",
          "kids",
          "auto",
          "electronics",
          "electronics",
          "kids",
          "construction",
          "construction",
          "computers",
          "construction",
          "country_yard",
          "kids",
          "computers",
          "apparel",
          "electronics",
          "electronics",
          "construction",
          "furniture",
          "kids",
          "kids",
          "kids",
          "appliances",
          "furniture",
          "accessories",
          "apparel",
          "sport",
          "accessories",
          "apparel",
          "electronics",
          "kids",
          "appliances",
          "computers",
          "construction",
          "electronics",
          "kids",
          "sport",
          "stationery",
          "accessories",
          "electronics",
          "electronics",
          "appliances",
          "sport",
          "furniture",
          "auto",
          "electronics",
          "appliances",
          "construction",
          "furniture",
          "kids",
          "accessories",
          "electronics",
          "kids",
          "kids",
          "kids",
          "auto",
          "kids",
          "computers",
          "kids",
          "computers",
          "computers",
          "electronics",
          "appliances",
          "computers",
          "construction",
          "kids",
          "kids",
          "furniture",
          "appliances",
          "construction",
          "furniture",
          "accessories",
          "kids",
          "computers",
          "stationery",
          "appliances",
          "appliances",
          "country_yard",
          "electronics",
          "furniture",
          "stationery",
          "electronics",
          "auto",
          "appliances",
          "auto",
          "computers",
          "electronics",
          "kids",
          "electronics",
          "electronics",
          "electronics",
          "appliances",
          "sport",
          "electronics",
          "accessories",
          "auto",
          "electronics",
          "appliances",
          "sport",
          "construction",
          "computers",
          "accessories",
          "apparel",
          "kids",
          "computers",
          "electronics",
          "kids",
          "computers",
          "sport",
          "electronics",
          "furniture",
          "kids",
          "apparel",
          "apparel",
          "kids",
          "computers",
          "sport",
          "construction",
          "electronics",
          "computers",
          "furniture",
          "apparel",
          "furniture",
          "appliances",
          "kids",
          "accessories",
          "computers",
          "electronics",
          "kids",
          "furniture",
          "auto",
          "computers",
          "electronics",
          "electronics",
          "apparel",
          "appliances",
          "electronics",
          "furniture",
          "kids",
          "electronics",
          "construction",
          "construction",
          "furniture",
          "kids",
          "appliances",
          "auto",
          "computers",
          "electronics",
          "apparel",
          "appliances",
          "electronics",
          "construction",
          "auto",
          "appliances",
          "computers",
          "accessories",
          "apparel",
          "sport",
          "appliances",
          "appliances",
          "construction",
          "computers",
          "accessories",
          "apparel",
          "kids",
          "kids",
          "apparel",
          "computers",
          "electronics",
          "stationery",
          "apparel",
          "sport",
          "auto",
          "accessories",
          "apparel",
          "kids",
          "appliances",
          "accessories",
          "auto",
          "computers",
          "electronics",
          "accessories",
          "furniture",
          "kids",
          "electronics",
          "kids",
          "appliances",
          "furniture",
          "electronics",
          "electronics",
          "computers",
          "electronics",
          "furniture",
          "electronics",
          "apparel",
          "construction",
          "electronics",
          "apparel",
          "accessories",
          "appliances",
          "apparel",
          "furniture",
          "apparel",
          "sport",
          "construction",
          "construction",
          "apparel",
          "appliances",
          "appliances",
          "construction",
          "apparel",
          "kids",
          "sport",
          "kids",
          "electronics",
          "kids",
          "construction",
          "kids",
          "appliances",
          "kids",
          "accessories",
          "appliances",
          "auto",
          "construction",
          "country_yard",
          "kids",
          "apparel",
          "kids",
          "accessories",
          "electronics",
          "accessories",
          "appliances",
          "stationery",
          "apparel",
          "accessories",
          "apparel",
          "sport",
          "electronics",
          "accessories",
          "appliances",
          "computers",
          "electronics",
          "stationery",
          "computers",
          "apparel",
          "furniture",
          "sport",
          "sport",
          "furniture",
          "furniture",
          "computers",
          "accessories",
          "kids",
          "furniture",
          "appliances",
          "construction",
          "electronics",
          "apparel",
          "accessories",
          "kids",
          "appliances",
          "construction",
          "furniture",
          "appliances",
          "auto",
          "auto",
          "construction",
          "kids",
          "sport",
          "accessories",
          "sport",
          "appliances",
          "kids",
          "sport",
          "apparel",
          "kids",
          "computers",
          "computers",
          "computers",
          "apparel",
          "kids",
          "computers",
          "kids",
          "electronics",
          "kids",
          "furniture",
          "furniture",
          "construction",
          "appliances",
          "electronics",
          "furniture",
          "apparel",
          "appliances",
          "electronics",
          "kids",
          "apparel",
          "furniture",
          "furniture",
          "furniture",
          "kids",
          "appliances",
          "accessories",
          "appliances",
          "appliances",
          "electronics",
          "auto",
          "apparel",
          "accessories",
          "kids",
          "sport",
          "electronics",
          "appliances",
          "construction",
          "electronics",
          "appliances",
          "furniture",
          "kids",
          "electronics",
          "sport",
          "furniture",
          "computers",
          "furniture",
          "kids",
          "kids",
          "appliances",
          "furniture",
          "appliances",
          "appliances",
          "computers",
          "construction",
          "furniture",
          "electronics",
          "electronics",
          "furniture",
          "kids",
          "apparel",
          "apparel",
          "furniture",
          "kids",
          "electronics",
          "furniture",
          "furniture",
          "kids",
          "appliances",
          "electronics",
          "kids",
          "construction",
          "kids",
          "apparel",
          "appliances",
          "computers",
          "computers",
          "sport",
          "furniture",
          "kids",
          "appliances",
          "construction",
          "appliances",
          "furniture",
          "furniture",
          "kids",
          "appliances",
          "appliances",
          "kids",
          "construction",
          "apparel",
          "appliances",
          "electronics",
          "furniture",
          "furniture",
          "auto",
          "electronics",
          "electronics",
          "electronics",
          "accessories",
          "kids",
          "furniture",
          "sport",
          "construction",
          "kids",
          "kids",
          "sport",
          "sport",
          "apparel",
          "electronics",
          "electronics",
          "construction",
          "accessories",
          "appliances",
          "construction",
          "sport",
          "auto",
          "appliances",
          "furniture",
          "sport",
          "kids",
          "construction",
          "accessories",
          "construction",
          "auto",
          "appliances",
          "sport",
          "computers",
          "electronics",
          "kids",
          "accessories",
          "construction",
          "sport",
          "furniture",
          "kids",
          "construction",
          "appliances",
          "apparel",
          "construction",
          "furniture",
          "kids",
          "sport",
          "appliances",
          "construction",
          "country_yard",
          "furniture",
          "auto",
          "sport",
          "appliances",
          "appliances",
          "sport",
          "furniture",
          "kids",
          "furniture",
          "furniture",
          "furniture",
          "auto",
          "electronics",
          "apparel",
          "furniture",
          "electronics",
          "kids",
          "apparel",
          "auto",
          "kids",
          "sport",
          "accessories",
          "kids",
          "kids",
          "sport",
          "appliances",
          "stationery",
          "electronics",
          "computers",
          "appliances",
          "electronics",
          "electronics",
          "computers",
          "furniture",
          "appliances",
          "computers",
          "electronics",
          "furniture",
          "auto",
          "electronics",
          "electronics",
          "kids",
          "appliances",
          "electronics",
          "electronics",
          "kids",
          "auto",
          "electronics",
          "sport",
          "electronics",
          "kids",
          "appliances",
          "apparel",
          "furniture",
          "electronics",
          "electronics",
          "accessories",
          "construction",
          "electronics",
          "construction",
          "appliances",
          "electronics",
          "computers",
          "auto",
          "electronics",
          "kids",
          "appliances",
          "construction",
          "appliances",
          "construction",
          "furniture",
          "kids",
          "auto",
          "construction",
          "appliances",
          "construction",
          "computers",
          "construction",
          "appliances",
          "appliances",
          "appliances",
          "auto",
          "electronics",
          "furniture",
          "apparel",
          "computers",
          "electronics",
          "construction",
          "auto",
          "electronics",
          "computers",
          "computers",
          "appliances",
          "appliances",
          "appliances",
          "accessories",
          "kids",
          "sport",
          "sport",
          "appliances",
          "kids",
          "kids",
          "appliances",
          "kids",
          "electronics",
          "accessories",
          "computers",
          "furniture",
          "accessories",
          "kids",
          "auto",
          "apparel",
          "kids",
          "kids",
          "accessories",
          "apparel",
          "kids",
          "electronics",
          "auto",
          "electronics",
          "kids",
          "sport",
          "auto",
          "computers",
          "electronics",
          "construction",
          "appliances",
          "appliances",
          "electronics",
          "auto",
          "furniture",
          "appliances",
          "auto",
          "computers",
          "electronics",
          "accessories",
          "kids",
          "kids",
          "sport",
          "auto",
          "furniture",
          "furniture",
          "sport",
          "appliances",
          "furniture",
          "electronics",
          "accessories",
          "accessories",
          "computers",
          "electronics",
          "accessories",
          "accessories",
          "apparel",
          "construction",
          "appliances",
          "appliances",
          "electronics",
          "kids",
          "kids",
          "kids",
          "accessories",
          "apparel",
          "apparel",
          "construction",
          "electronics",
          "electronics",
          "appliances",
          "furniture",
          "furniture",
          "electronics",
          "electronics",
          "electronics",
          "furniture",
          "computers",
          "furniture",
          "furniture",
          "furniture",
          "apparel",
          "electronics",
          "furniture",
          "furniture",
          "appliances",
          "kids",
          "computers",
          "furniture",
          "electronics",
          "apparel",
          "apparel",
          "country_yard",
          "appliances",
          "apparel",
          "computers",
          "electronics",
          "kids",
          "appliances",
          "furniture",
          "electronics",
          "electronics",
          "electronics",
          "appliances",
          "kids",
          "furniture",
          "appliances",
          "electronics",
          "electronics",
          "electronics",
          "auto",
          "computers",
          "electronics",
          "kids",
          "computers",
          "appliances",
          "construction",
          "country_yard",
          "apparel",
          "furniture",
          "appliances",
          "accessories",
          "apparel",
          "furniture",
          "appliances",
          "appliances",
          "construction",
          "furniture",
          "electronics",
          "electronics",
          "kids",
          "furniture",
          "construction",
          "auto",
          "kids",
          "appliances",
          "sport",
          "computers",
          "electronics",
          "accessories",
          "kids",
          "kids",
          "electronics",
          "construction",
          "appliances",
          "apparel",
          "kids",
          "computers",
          "appliances",
          "accessories",
          "apparel",
          "kids",
          "kids",
          "kids",
          "appliances",
          "appliances",
          "kids",
          "kids",
          "construction",
          "appliances",
          "construction",
          "computers",
          "electronics",
          "sport",
          "sport",
          "appliances",
          "auto",
          "furniture",
          "kids",
          "computers",
          "appliances",
          "construction",
          "sport",
          "auto",
          "kids",
          "appliances",
          "kids",
          "computers",
          "kids",
          "electronics",
          "kids",
          "kids",
          "electronics",
          "electronics",
          "construction",
          "appliances",
          "kids",
          "electronics",
          "kids",
          "auto",
          "electronics",
          "appliances",
          "computers",
          "kids",
          "computers",
          "stationery",
          "electronics",
          "accessories",
          "appliances",
          "auto",
          "computers",
          "construction",
          "electronics",
          "furniture",
          "kids",
          "sport",
          "stationery",
          "kids",
          "appliances",
          "kids",
          "electronics",
          "apparel",
          "appliances",
          "electronics",
          "country_yard",
          "electronics",
          "kids",
          "kids",
          "appliances",
          "electronics",
          "kids",
          "kids",
          "kids",
          "kids",
          "construction",
          "kids",
          "kids",
          "construction",
          "kids",
          "computers",
          "electronics",
          "appliances",
          "kids",
          "furniture",
          "appliances",
          "kids",
          "kids",
          "appliances",
          "computers",
          "electronics",
          "appliances",
          "computers",
          "furniture",
          "accessories",
          "kids",
          "electronics",
          "furniture",
          "appliances",
          "construction",
          "electronics",
          "appliances",
          "computers",
          "sport",
          "electronics",
          "accessories",
          "appliances",
          "auto",
          "construction",
          "kids",
          "computers",
          "",
          "",
          "",
          "",
          "",
          "",
          "",
          "",
          "",
          "",
          "",
          "",
          ""
         ],
         "type": "sunburst",
         "values": [
          521,
          526,
          192,
          50,
          93,
          4515,
          1109961,
          12515,
          586,
          1331,
          2262,
          11874,
          408,
          116,
          1710,
          2761,
          761,
          267,
          313,
          1072,
          14163,
          7922,
          58,
          57613,
          601,
          2326,
          12934,
          2,
          2908,
          10955,
          44112,
          20,
          3,
          2040,
          851,
          4025,
          177,
          43,
          1212,
          579,
          295,
          327,
          55254,
          310,
          671,
          2813,
          12,
          44,
          1988,
          6228,
          338,
          2302,
          11,
          8841,
          96,
          353,
          238,
          58,
          2389,
          295,
          143,
          93,
          226,
          350,
          4569,
          1289,
          127,
          10989,
          227,
          76,
          2485,
          25764,
          6114,
          43928,
          25920,
          4,
          36632,
          1924,
          11949,
          1784,
          135,
          50617,
          22988,
          8858,
          256,
          164,
          1776,
          4796,
          721,
          85862,
          10,
          1071,
          77,
          50,
          9384,
          577,
          339,
          12970,
          50211,
          1394,
          75,
          60,
          3,
          10662,
          1,
          86,
          9303,
          15885,
          79,
          2053,
          198,
          2468,
          215,
          5278,
          1323,
          22290,
          18807,
          200,
          188,
          1062,
          16883,
          510,
          6480,
          11268,
          289105,
          10006181,
          84,
          34277,
          192,
          19,
          214,
          51,
          2458,
          417,
          36,
          124197,
          23665,
          2189,
          2908,
          166932,
          102,
          46547,
          54952,
          93,
          185,
          248778,
          460615,
          13,
          238,
          1156,
          3134,
          23,
          92017,
          18,
          33033,
          7043,
          31806,
          43474,
          1809,
          163,
          745,
          657595,
          14178,
          217486,
          1649,
          27793,
          737,
          614,
          1239,
          330,
          649,
          9371,
          32,
          3853,
          132,
          4,
          6,
          10,
          3337,
          1728,
          5011,
          7165,
          4007,
          637,
          91,
          213,
          5080,
          409,
          27960,
          5181,
          2890,
          170,
          1877,
          85,
          160,
          16,
          1194,
          14813,
          29569,
          5276,
          563,
          26,
          1081,
          182,
          20,
          6728,
          1782,
          134,
          276,
          733,
          116,
          3684,
          4591,
          209,
          729,
          384,
          3111,
          103,
          8374,
          32644,
          12234,
          2921,
          28031,
          366987,
          3983,
          1379,
          492,
          62587,
          2219,
          3768,
          14226,
          3186,
          145,
          4241,
          13634,
          454,
          14,
          811,
          12785,
          8318,
          91,
          971,
          3491,
          3490,
          10,
          41,
          734,
          36,
          91,
          914,
          5775,
          20,
          9,
          14076,
          4706,
          488055,
          36,
          11756,
          36,
          113800,
          5930,
          38,
          16170,
          2741,
          2010,
          1037,
          196,
          1782,
          1357,
          4858,
          19503,
          2856,
          10513,
          136,
          372,
          20,
          299,
          16035,
          573,
          1171,
          3898,
          26,
          4762,
          148,
          364,
          301,
          6,
          119,
          5060,
          1631,
          1971,
          2711,
          334,
          7,
          3869,
          8426,
          62,
          5186,
          3016,
          568,
          38,
          17073,
          58,
          855,
          49,
          847,
          328,
          462,
          33313,
          6344,
          6,
          4832,
          514,
          2,
          1007,
          310,
          605,
          742,
          252,
          94,
          8140,
          341,
          106,
          2004,
          762508,
          166797,
          3983,
          66,
          10498,
          5652,
          148,
          42,
          28,
          4,
          318,
          146589,
          5861,
          33,
          218304,
          2248,
          662,
          641,
          888,
          8,
          36748,
          1,
          245281,
          2038,
          102619,
          232,
          77,
          1223,
          1775,
          179,
          514,
          4242,
          39683,
          9015,
          6078,
          174,
          4125,
          183,
          328,
          4530,
          599,
          363,
          759,
          905,
          875,
          199,
          2,
          454,
          494,
          615,
          400,
          72304,
          116,
          63,
          3575,
          67440,
          16096,
          2520,
          63,
          511,
          4140,
          38273,
          392,
          145,
          9900,
          1005,
          980,
          168,
          309,
          1886,
          2,
          607,
          100,
          663,
          894,
          3703,
          541,
          3113,
          107,
          32,
          620327,
          15,
          1819,
          1051,
          67,
          2895,
          6092,
          528,
          17,
          39,
          19509,
          1169,
          2226,
          21243,
          446,
          78,
          12839,
          11280,
          1735,
          96,
          6312,
          44634,
          19,
          863,
          40055,
          90,
          1817,
          23421,
          45021,
          12,
          2319,
          2279,
          216,
          3,
          725,
          297,
          7673,
          329,
          1868,
          3133,
          456,
          8835,
          468,
          493,
          452,
          437,
          156,
          176,
          43,
          3220,
          844,
          20181,
          327,
          10,
          130,
          6141,
          799,
          2086,
          442,
          1202,
          19,
          5001,
          67,
          2798,
          266,
          103722,
          69,
          8294,
          595,
          1836,
          241,
          10326,
          20,
          4,
          1825,
          7385,
          30740,
          7785,
          101,
          14575,
          19366,
          11865,
          377,
          162,
          106,
          12,
          11,
          250,
          1396,
          6923,
          1718,
          3272,
          10530,
          96693,
          2527,
          37,
          13897,
          243,
          154,
          24,
          374,
          545,
          6995,
          1421,
          193,
          620,
          7093,
          17336,
          67,
          427,
          1355,
          4,
          244,
          143,
          503,
          17,
          1528,
          26,
          326,
          644,
          277,
          36,
          18593,
          16,
          14930,
          2324,
          1066,
          14252,
          97,
          425486,
          2992,
          873,
          275,
          4292,
          21262,
          36409,
          283,
          974,
          3,
          51094,
          23129,
          339,
          1376,
          106644,
          108797,
          811,
          3,
          1807,
          16115,
          485,
          1881,
          1731,
          2564,
          2484,
          992,
          477,
          175,
          3972,
          12412,
          403,
          17337,
          12246,
          127,
          4,
          234,
          1472,
          1808,
          170,
          239,
          35,
          3254,
          1135,
          101759,
          59,
          516,
          1797,
          2743,
          45,
          6698,
          11201,
          19323,
          17,
          15531,
          650,
          2023,
          6872,
          3664,
          9800,
          51,
          1715,
          21,
          169,
          34,
          282,
          1460,
          4433,
          1143,
          11887,
          47734,
          7678,
          39736,
          2643,
          11,
          292,
          507,
          76,
          1299,
          339,
          193,
          1279,
          54,
          5,
          4110,
          1880,
          1165,
          163,
          72,
          211,
          1597,
          24645,
          30404,
          1584,
          313,
          26513,
          2292,
          1925,
          394,
          76,
          1,
          4122,
          9,
          3101,
          10848,
          459,
          2279,
          22,
          13,
          11,
          26209,
          4231,
          1150,
          10766,
          5189,
          20,
          47,
          28,
          150,
          181,
          173,
          33,
          436,
          389,
          2255,
          1,
          92,
          8618,
          121184,
          229,
          5325,
          147452,
          1767,
          29538,
          399128,
          14932,
          23797,
          2296,
          14066,
          17,
          6,
          339,
          8,
          4207,
          7690,
          2594,
          44,
          24,
          1016,
          9,
          46,
          229,
          46,
          241,
          1267,
          62,
          158,
          65,
          67,
          2,
          143298,
          12112,
          2810,
          12922,
          17288,
          4345,
          90,
          2745,
          13538,
          291,
          687,
          29781,
          129,
          16,
          790,
          366,
          1435,
          175,
          57922,
          773,
          327,
          39064,
          1426,
          95,
          280,
          83,
          284,
          90,
          890,
          359,
          1,
          142,
          675,
          137,
          142,
          1600,
          8986,
          89,
          324,
          7287,
          8065,
          33,
          35,
          171,
          6,
          214,
          1,
          302,
          11883,
          566,
          1705,
          1267,
          80644,
          4,
          575,
          281,
          18727,
          1605,
          331,
          373,
          530,
          285,
          3332,
          2891,
          394,
          29572,
          1989,
          4598,
          3385,
          8,
          213,
          6167,
          2493,
          927,
          1146,
          146,
          61,
          822,
          541,
          3849,
          4,
          349,
          49,
          1968,
          3094,
          927,
          2723,
          3,
          2393,
          6,
          830,
          440,
          26803,
          19101,
          232,
          103,
          6332,
          2,
          27,
          1,
          86,
          2909,
          38,
          95,
          2735,
          264,
          3932,
          30609,
          408,
          35,
          71,
          171,
          30,
          232,
          2561,
          397,
          167,
          618,
          11,
          1453,
          573,
          546,
          2815,
          15559,
          5185,
          41,
          6,
          184,
          103,
          118,
          683,
          55,
          326,
          545,
          413,
          3259,
          163,
          7246,
          69902,
          4536,
          1653,
          36,
          8432,
          698,
          54,
          903,
          79,
          4358,
          326,
          1133,
          574,
          1407,
          862,
          145804,
          25257,
          74182,
          26819,
          2778,
          67,
          2813,
          2243,
          1488,
          6,
          669,
          6578,
          1243,
          956,
          1628,
          547,
          930,
          131,
          11691,
          597,
          28778,
          104427,
          149,
          957,
          7665,
          5146,
          127,
          2603,
          546,
          172,
          979,
          125,
          621,
          326,
          72,
          432,
          1679,
          2572,
          276,
          31,
          217,
          3,
          54,
          77,
          2036,
          28,
          10961,
          1138,
          70,
          34196,
          12,
          29247,
          120599,
          1,
          816,
          512,
          799,
          1108,
          172,
          1218,
          1,
          554,
          6,
          1225,
          19723,
          2396,
          1067,
          2399,
          1145,
          21,
          1266,
          476,
          106166,
          22,
          6418,
          927,
          1097,
          43,
          10987,
          1881,
          2248,
          14604,
          27,
          244,
          1,
          2127,
          275,
          205021,
          175,
          233973,
          847,
          148,
          1656,
          1347,
          63,
          96,
          1046,
          30,
          1138,
          4763,
          187463,
          14,
          10663,
          7013,
          2044,
          425,
          70441,
          353,
          4893,
          113,
          703,
          431,
          331,
          530,
          75,
          6660,
          16092,
          826,
          3323,
          168,
          29,
          36,
          240,
          1276,
          53,
          199,
          549,
          1390,
          88,
          132,
          35590,
          2513,
          2874,
          140,
          57,
          38,
          85,
          698,
          257,
          132,
          4911,
          149,
          86,
          15453,
          4469,
          308,
          4933,
          3000,
          787,
          8320,
          56,
          538,
          1143,
          285,
          5,
          554,
          195333,
          13533,
          311,
          24300,
          19757,
          721,
          691,
          42995,
          1158,
          304,
          206,
          28450,
          288,
          20120,
          278,
          35,
          750672,
          329,
          7530,
          14071,
          5283,
          705,
          634,
          18,
          9923,
          959,
          5444,
          5312,
          654,
          2470534,
          547,
          89,
          237,
          27785,
          1746,
          16477,
          104,
          98,
          5901,
          27,
          170,
          1133,
          310,
          121126,
          12518,
          310,
          93,
          27210,
          19938,
          14030,
          1758,
          15221,
          4299,
          4855,
          4,
          345,
          648,
          87503,
          10486,
          1125,
          53,
          43,
          179,
          4889,
          949,
          24,
          321,
          17,
          31937,
          5837,
          269,
          9,
          454,
          23,
          29,
          189,
          10779,
          9016,
          55507,
          5760,
          1,
          718922,
          314,
          1065,
          941,
          6623,
          8,
          234,
          45,
          598,
          2829,
          1138,
          49429,
          296,
          7914,
          6,
          52,
          10377,
          84660,
          87,
          4,
          1396,
          55,
          270,
          51,
          201,
          353,
          1,
          436,
          23,
          31558,
          835,
          167,
          361,
          123,
          20073,
          1,
          405,
          102,
          8367,
          7,
          4,
          7789,
          1814,
          111,
          55,
          2287,
          39282,
          3554,
          168,
          4,
          267154,
          5361,
          3767,
          499,
          66,
          661,
          228200,
          24063,
          3162,
          3,
          1001,
          28,
          532,
          294,
          19847,
          10,
          69,
          67,
          64,
          277,
          398,
          28128,
          39587,
          232,
          122,
          386,
          38188,
          1964,
          1362,
          127,
          792,
          262,
          749,
          79,
          4606,
          185,
          70439,
          22365,
          511,
          380,
          171,
          126,
          7282,
          365,
          69,
          404,
          11,
          119,
          35,
          339,
          518,
          207,
          13516,
          220,
          375,
          168924,
          40955,
          274,
          122266,
          115,
          1,
          398,
          1538,
          321,
          2197,
          178,
          1,
          349,
          175,
          615,
          1462,
          22809,
          93160,
          17821,
          106,
          241,
          989,
          1246,
          5,
          265,
          57627,
          1334,
          324,
          162,
          384,
          602,
          116,
          586,
          3,
          96175,
          14701,
          7,
          2220,
          203,
          229,
          65,
          18311,
          97115,
          3469,
          147953,
          11796,
          9,
          3556,
          8117,
          271,
          12081,
          975,
          1,
          439,
          25227,
          346,
          2818,
          90,
          917,
          949,
          1,
          1014,
          258,
          2057,
          68,
          2396,
          1439,
          48,
          139,
          11848,
          1764,
          4173,
          817,
          46,
          3,
          2489,
          58,
          21564,
          327,
          3082,
          50,
          1210,
          401,
          28,
          16,
          3010,
          339,
          2,
          1164,
          3045,
          113,
          163,
          789,
          66,
          19,
          125,
          2015,
          3112,
          1274,
          1070,
          4094,
          2,
          36,
          39,
          18863,
          3955,
          417,
          5,
          962,
          164,
          2650,
          3885,
          20,
          25,
          33428,
          96,
          9994,
          13963,
          975761,
          75525,
          4226,
          271,
          124,
          358,
          2156,
          970,
          944271,
          26661,
          150,
          561014,
          1154,
          204,
          190,
          190,
          904,
          1065,
          6076,
          1229,
          39,
          467,
          620,
          91,
          1844,
          1076,
          1672,
          2,
          224,
          45633,
          40216,
          1487,
          686,
          4,
          989,
          17171,
          1438,
          11779,
          44761,
          33372,
          1660,
          10261,
          1111,
          14,
          277,
          294,
          5523,
          1432,
          1139,
          139,
          421,
          1,
          5198,
          4,
          35,
          97,
          1806,
          63,
          24,
          10120,
          13630,
          744,
          15,
          409,
          113,
          640,
          217,
          40,
          1,
          672,
          221,
          14,
          223,
          317,
          95,
          553,
          28,
          967,
          9247,
          57077,
          64,
          123,
          1321,
          14,
          185,
          694,
          7344,
          75371,
          529,
          61,
          5171,
          312,
          249,
          2,
          280,
          162,
          416,
          1558,
          4413,
          1676,
          1975,
          14845,
          10,
          16730,
          484,
          27,
          1319,
          3269,
          15,
          26,
          14,
          1506,
          573,
          733,
          31585,
          632,
          69,
          29,
          407,
          160,
          3897,
          1851,
          1143,
          216,
          745,
          1035,
          3,
          175,
          657,
          752,
          343,
          2350,
          3214,
          13290,
          163,
          582,
          123,
          2426,
          378,
          3724,
          903,
          27803,
          102372,
          405,
          274,
          4860,
          240,
          136,
          110,
          206,
          369,
          2672,
          149,
          1187,
          1551,
          19,
          1178,
          2011,
          717,
          1287,
          15001,
          13546,
          2120,
          4,
          41,
          110,
          2536,
          366504,
          278,
          141,
          83,
          5722,
          7,
          67,
          105,
          5715,
          135,
          227,
          1228,
          19515,
          16,
          85,
          87,
          44,
          1160,
          63,
          1907,
          1715,
          1912,
          1131,
          55142,
          3103,
          1183,
          249,
          2714,
          9756,
          1011,
          397102,
          11800,
          2594,
          2783,
          22,
          1302,
          68,
          240,
          541,
          73561,
          5,
          23916,
          383,
          8118,
          21,
          575,
          2885,
          1337,
          2824,
          4650,
          115,
          72,
          850,
          185,
          399,
          25,
          32,
          50,
          434,
          347,
          9847,
          236,
          558,
          77,
          88,
          46,
          3918,
          489,
          1232,
          542,
          19,
          287,
          281,
          187,
          198,
          31,
          218,
          1950,
          12,
          2157,
          159,
          6824,
          7460,
          230,
          785,
          84929,
          1,
          293,
          379,
          7,
          113118,
          171,
          282,
          8,
          12809,
          4,
          346,
          3361,
          15355,
          237,
          2579,
          10281,
          3249,
          44,
          93,
          15627,
          4243,
          449,
          2819,
          9524,
          339,
          273,
          22,
          14253,
          954,
          17039,
          982,
          1,
          44,
          81,
          48,
          1604,
          28247,
          108522,
          336,
          47856,
          421,
          12,
          888,
          116660,
          786,
          12447,
          182,
          315,
          2290,
          1489,
          52441,
          516,
          1330,
          188880,
          7166,
          3165,
          960,
          56,
          4337,
          116,
          253,
          426407,
          132,
          9,
          29,
          14022,
          1270,
          1,
          431,
          167,
          22,
          73,
          16,
          785,
          623,
          62,
          190,
          5110,
          23,
          115,
          779,
          3307,
          4,
          1076,
          9,
          30,
          859,
          155,
          126614,
          2784,
          3532,
          2,
          141,
          565,
          2825,
          233,
          302,
          553,
          10,
          812,
          2,
          3570,
          18395,
          616,
          618,
          8006,
          846,
          592,
          3626,
          88,
          1390,
          4563,
          34487,
          176044,
          300,
          990,
          167,
          493,
          1,
          1294585,
          4059,
          3939,
          10699,
          4,
          57,
          5,
          63,
          640,
          94185,
          152,
          256,
          85,
          49,
          9342,
          7,
          2177,
          331,
          53,
          537,
          8,
          1268,
          9881,
          1964,
          1,
          754,
          699,
          15990,
          272,
          438,
          2789,
          362,
          22685,
          19707,
          75,
          75,
          1203,
          48434,
          7153,
          79732,
          74353,
          25,
          2451,
          70692,
          2333,
          448,
          18942,
          91,
          237,
          1048,
          32,
          2,
          2070,
          3347,
          6,
          20,
          3088,
          3729,
          8091,
          6,
          3713,
          21035,
          1064,
          3,
          274,
          24867,
          926,
          115,
          5986,
          2446,
          36306,
          822,
          13071,
          29,
          315884,
          12277,
          28849,
          93414,
          1279,
          39793,
          4,
          32629,
          1201,
          2,
          71,
          538,
          13314,
          291895,
          83224,
          23,
          40,
          8037,
          14005,
          2218,
          32431,
          1577,
          281,
          148,
          20530,
          41,
          3442,
          23,
          3311,
          57269,
          6304,
          259434,
          353,
          25653,
          28,
          586,
          25636,
          1560,
          895,
          2001,
          5587,
          16,
          12118,
          1,
          24358,
          18,
          2,
          757,
          1093,
          153,
          216,
          179,
          24,
          11458,
          10303,
          97770,
          73,
          38998,
          2824,
          332,
          41,
          435,
          2953,
          2712,
          3475,
          158,
          1338,
          3,
          2388,
          212872,
          731,
          39905,
          5,
          1,
          594,
          2,
          10930,
          79,
          1148,
          201,
          1230,
          2856,
          190,
          2155,
          46,
          6490,
          107,
          10674,
          437,
          546,
          28,
          95063,
          511,
          16735,
          545,
          8420,
          204,
          24707,
          246,
          321,
          15464,
          6020,
          981,
          120,
          4705,
          12526,
          408,
          300,
          4,
          38,
          8320,
          6812,
          2384,
          334624,
          62,
          10090,
          6945,
          49233,
          1899,
          968,
          36,
          39,
          11400,
          2681,
          2051,
          4321,
          1280,
          12298,
          218,
          9308,
          1,
          24176,
          963995,
          32,
          53,
          1223,
          2601,
          2,
          31,
          1414,
          3392,
          611,
          4585,
          229551,
          3086,
          776,
          27730,
          9041,
          20383,
          26414,
          4813,
          1468,
          156,
          4328,
          7,
          5516,
          2073,
          1948,
          644,
          152,
          3059,
          1079,
          11389,
          5579,
          1267,
          628,
          694,
          11321,
          7896,
          55135,
          7945,
          334,
          32,
          4082,
          79,
          514,
          422,
          12294,
          1710,
          2456,
          185,
          223,
          74,
          533,
          750,
          4469,
          169,
          6,
          1996,
          11,
          1396,
          1569,
          8979,
          1396,
          98,
          4028,
          275,
          110,
          97,
          175,
          3323,
          34,
          105900,
          3067,
          1815,
          670,
          1023,
          797,
          1631411,
          120677,
          11139113,
          1030,
          21,
          133,
          4763,
          243,
          40,
          5251,
          9243,
          8431,
          144,
          1443,
          6294,
          46952,
          970,
          4994,
          94,
          30,
          96,
          204609,
          14013,
          7,
          5353,
          3896,
          2124,
          807,
          1938,
          1072,
          162,
          502,
          466,
          1176,
          3168,
          81,
          387,
          9,
          16329,
          138,
          112,
          193,
          195,
          3271,
          11992,
          13,
          21490,
          53,
          2673,
          89,
          12207,
          108,
          66,
          3,
          823,
          46,
          29166,
          538,
          703,
          11665,
          471,
          308,
          1220,
          1355,
          20545,
          24847,
          110221,
          325,
          1268,
          123,
          824,
          10174,
          663,
          1011,
          69,
          798,
          4891,
          250,
          100,
          398,
          2073,
          17,
          4338,
          4453,
          14560,
          3765,
          763,
          1208,
          3975,
          2418,
          425,
          355,
          14462,
          6802,
          218,
          40,
          42,
          539,
          172,
          995,
          20,
          119,
          9,
          1846,
          9327,
          94,
          164,
          2,
          463,
          1557,
          267,
          29892,
          129,
          2291,
          39,
          28,
          66638,
          931,
          7092,
          41,
          221,
          24,
          183,
          8974,
          745,
          1457,
          1474,
          42,
          936,
          3,
          21,
          26298,
          551426,
          730,
          340,
          905,
          28,
          118,
          780,
          568,
          121,
          1370,
          9670,
          1129,
          8901,
          1671,
          13517,
          2948,
          29934,
          865,
          8197,
          1223,
          337742,
          225,
          86,
          712,
          16,
          364,
          3531,
          424,
          148,
          92,
          8,
          14281,
          3921,
          199,
          512,
          4452,
          3941,
          32413,
          3843,
          132,
          156,
          880,
          636,
          428,
          766,
          502,
          3044,
          37646,
          36,
          176,
          1453,
          429,
          580,
          35,
          405,
          897,
          538,
          66,
          148,
          2441,
          681,
          551,
          104083,
          457,
          219,
          347,
          3261,
          8979,
          15,
          1,
          8576,
          915,
          301,
          2655,
          393,
          56,
          425,
          108,
          8,
          10400,
          43,
          22205,
          235859,
          168,
          38753,
          20285,
          77,
          29875,
          2295,
          11250,
          2168,
          1086,
          192,
          213,
          2421,
          11505,
          1,
          21,
          2510,
          671,
          1233,
          22253,
          1456,
          40,
          810,
          362,
          983,
          198,
          4085,
          9422,
          118102,
          1075,
          3778,
          13130,
          186,
          365704,
          63319,
          3386,
          225,
          4851,
          2548,
          3489,
          559,
          8,
          638,
          218,
          983,
          367,
          12655,
          6,
          657,
          428,
          62,
          6126,
          75,
          18,
          314,
          67,
          94717,
          9,
          17238,
          33018,
          115976,
          75,
          11064,
          213,
          5304,
          84,
          50,
          31,
          99,
          16520,
          17,
          95014,
          1640,
          46,
          575,
          249,
          121,
          27665,
          18083,
          28,
          205,
          11418,
          661,
          214,
          54,
          14,
          45,
          1120,
          13092,
          645,
          13234,
          35385,
          15952,
          38,
          11698,
          52094,
          1553,
          7,
          120,
          654,
          19626,
          1849,
          451,
          268,
          1023,
          5716,
          273,
          816,
          361,
          5459,
          1596,
          10542,
          4534,
          13,
          2422,
          14950,
          18040,
          133,
          1852,
          5738,
          455,
          28717,
          22001,
          356,
          5162,
          98,
          2779,
          32,
          30,
          16,
          1283,
          30,
          20269,
          14275,
          51,
          319,
          180,
          277,
          14771,
          114,
          37,
          105,
          5595,
          367,
          2676,
          10,
          26,
          112,
          134,
          37,
          4244,
          12394,
          1884,
          220,
          2,
          1381,
          410,
          111,
          2052,
          7,
          1509,
          2010,
          3533,
          18021,
          910,
          2700,
          720,
          66,
          59,
          8,
          11811,
          460,
          566,
          5,
          349,
          5471,
          1,
          1,
          731,
          528,
          2259,
          909,
          9,
          5271,
          922,
          8418,
          488,
          4,
          373589,
          10276,
          401,
          1548,
          272532,
          341,
          488,
          118,
          85,
          107,
          856,
          825,
          101,
          44,
          99,
          117,
          1035,
          17187,
          3698,
          2115,
          2702,
          480,
          49,
          764,
          698,
          11624,
          20,
          147,
          1,
          287,
          440,
          192,
          152,
          564,
          541,
          185,
          366,
          237,
          3092,
          49,
          20420,
          1358,
          424,
          25,
          135,
          57572,
          1342,
          1075,
          9937,
          2058,
          287,
          53294,
          524,
          316,
          658,
          97,
          681,
          83112,
          129,
          850,
          211,
          443,
          4676,
          210,
          3456,
          728,
          349,
          16251,
          7162,
          11649,
          83,
          2761,
          25605,
          236514,
          55926,
          66469,
          7226,
          6388618,
          707,
          47779,
          6822,
          90,
          538,
          6884,
          10,
          7565,
          195,
          616,
          76360,
          35,
          113511,
          6,
          426,
          842,
          4,
          1037,
          57,
          3,
          70,
          138,
          11737,
          18,
          320,
          172,
          1493,
          101,
          5210,
          254,
          131,
          10,
          2,
          606,
          14649,
          4420,
          5338,
          520,
          129250,
          25865,
          754,
          631,
          731,
          12971,
          350,
          2074,
          663,
          224,
          1582,
          12,
          20731,
          839,
          682,
          1549,
          8005,
          4,
          18,
          546015,
          3533539,
          12656698,
          1757402,
          6299931,
          1400027,
          30579,
          39417049,
          1542740,
          1076054,
          35936,
          339054,
          15168
         ]
        }
       ],
       "layout": {
        "legend": {
         "tracegroupgap": 0
        },
        "template": {
         "data": {
          "bar": [
           {
            "error_x": {
             "color": "#2a3f5f"
            },
            "error_y": {
             "color": "#2a3f5f"
            },
            "marker": {
             "line": {
              "color": "#E5ECF6",
              "width": 0.5
             }
            },
            "type": "bar"
           }
          ],
          "barpolar": [
           {
            "marker": {
             "line": {
              "color": "#E5ECF6",
              "width": 0.5
             }
            },
            "type": "barpolar"
           }
          ],
          "carpet": [
           {
            "aaxis": {
             "endlinecolor": "#2a3f5f",
             "gridcolor": "white",
             "linecolor": "white",
             "minorgridcolor": "white",
             "startlinecolor": "#2a3f5f"
            },
            "baxis": {
             "endlinecolor": "#2a3f5f",
             "gridcolor": "white",
             "linecolor": "white",
             "minorgridcolor": "white",
             "startlinecolor": "#2a3f5f"
            },
            "type": "carpet"
           }
          ],
          "choropleth": [
           {
            "colorbar": {
             "outlinewidth": 0,
             "ticks": ""
            },
            "type": "choropleth"
           }
          ],
          "contour": [
           {
            "colorbar": {
             "outlinewidth": 0,
             "ticks": ""
            },
            "colorscale": [
             [
              0,
              "#0d0887"
             ],
             [
              0.1111111111111111,
              "#46039f"
             ],
             [
              0.2222222222222222,
              "#7201a8"
             ],
             [
              0.3333333333333333,
              "#9c179e"
             ],
             [
              0.4444444444444444,
              "#bd3786"
             ],
             [
              0.5555555555555556,
              "#d8576b"
             ],
             [
              0.6666666666666666,
              "#ed7953"
             ],
             [
              0.7777777777777778,
              "#fb9f3a"
             ],
             [
              0.8888888888888888,
              "#fdca26"
             ],
             [
              1,
              "#f0f921"
             ]
            ],
            "type": "contour"
           }
          ],
          "contourcarpet": [
           {
            "colorbar": {
             "outlinewidth": 0,
             "ticks": ""
            },
            "type": "contourcarpet"
           }
          ],
          "heatmap": [
           {
            "colorbar": {
             "outlinewidth": 0,
             "ticks": ""
            },
            "colorscale": [
             [
              0,
              "#0d0887"
             ],
             [
              0.1111111111111111,
              "#46039f"
             ],
             [
              0.2222222222222222,
              "#7201a8"
             ],
             [
              0.3333333333333333,
              "#9c179e"
             ],
             [
              0.4444444444444444,
              "#bd3786"
             ],
             [
              0.5555555555555556,
              "#d8576b"
             ],
             [
              0.6666666666666666,
              "#ed7953"
             ],
             [
              0.7777777777777778,
              "#fb9f3a"
             ],
             [
              0.8888888888888888,
              "#fdca26"
             ],
             [
              1,
              "#f0f921"
             ]
            ],
            "type": "heatmap"
           }
          ],
          "heatmapgl": [
           {
            "colorbar": {
             "outlinewidth": 0,
             "ticks": ""
            },
            "colorscale": [
             [
              0,
              "#0d0887"
             ],
             [
              0.1111111111111111,
              "#46039f"
             ],
             [
              0.2222222222222222,
              "#7201a8"
             ],
             [
              0.3333333333333333,
              "#9c179e"
             ],
             [
              0.4444444444444444,
              "#bd3786"
             ],
             [
              0.5555555555555556,
              "#d8576b"
             ],
             [
              0.6666666666666666,
              "#ed7953"
             ],
             [
              0.7777777777777778,
              "#fb9f3a"
             ],
             [
              0.8888888888888888,
              "#fdca26"
             ],
             [
              1,
              "#f0f921"
             ]
            ],
            "type": "heatmapgl"
           }
          ],
          "histogram": [
           {
            "marker": {
             "colorbar": {
              "outlinewidth": 0,
              "ticks": ""
             }
            },
            "type": "histogram"
           }
          ],
          "histogram2d": [
           {
            "colorbar": {
             "outlinewidth": 0,
             "ticks": ""
            },
            "colorscale": [
             [
              0,
              "#0d0887"
             ],
             [
              0.1111111111111111,
              "#46039f"
             ],
             [
              0.2222222222222222,
              "#7201a8"
             ],
             [
              0.3333333333333333,
              "#9c179e"
             ],
             [
              0.4444444444444444,
              "#bd3786"
             ],
             [
              0.5555555555555556,
              "#d8576b"
             ],
             [
              0.6666666666666666,
              "#ed7953"
             ],
             [
              0.7777777777777778,
              "#fb9f3a"
             ],
             [
              0.8888888888888888,
              "#fdca26"
             ],
             [
              1,
              "#f0f921"
             ]
            ],
            "type": "histogram2d"
           }
          ],
          "histogram2dcontour": [
           {
            "colorbar": {
             "outlinewidth": 0,
             "ticks": ""
            },
            "colorscale": [
             [
              0,
              "#0d0887"
             ],
             [
              0.1111111111111111,
              "#46039f"
             ],
             [
              0.2222222222222222,
              "#7201a8"
             ],
             [
              0.3333333333333333,
              "#9c179e"
             ],
             [
              0.4444444444444444,
              "#bd3786"
             ],
             [
              0.5555555555555556,
              "#d8576b"
             ],
             [
              0.6666666666666666,
              "#ed7953"
             ],
             [
              0.7777777777777778,
              "#fb9f3a"
             ],
             [
              0.8888888888888888,
              "#fdca26"
             ],
             [
              1,
              "#f0f921"
             ]
            ],
            "type": "histogram2dcontour"
           }
          ],
          "mesh3d": [
           {
            "colorbar": {
             "outlinewidth": 0,
             "ticks": ""
            },
            "type": "mesh3d"
           }
          ],
          "parcoords": [
           {
            "line": {
             "colorbar": {
              "outlinewidth": 0,
              "ticks": ""
             }
            },
            "type": "parcoords"
           }
          ],
          "pie": [
           {
            "automargin": true,
            "type": "pie"
           }
          ],
          "scatter": [
           {
            "marker": {
             "colorbar": {
              "outlinewidth": 0,
              "ticks": ""
             }
            },
            "type": "scatter"
           }
          ],
          "scatter3d": [
           {
            "line": {
             "colorbar": {
              "outlinewidth": 0,
              "ticks": ""
             }
            },
            "marker": {
             "colorbar": {
              "outlinewidth": 0,
              "ticks": ""
             }
            },
            "type": "scatter3d"
           }
          ],
          "scattercarpet": [
           {
            "marker": {
             "colorbar": {
              "outlinewidth": 0,
              "ticks": ""
             }
            },
            "type": "scattercarpet"
           }
          ],
          "scattergeo": [
           {
            "marker": {
             "colorbar": {
              "outlinewidth": 0,
              "ticks": ""
             }
            },
            "type": "scattergeo"
           }
          ],
          "scattergl": [
           {
            "marker": {
             "colorbar": {
              "outlinewidth": 0,
              "ticks": ""
             }
            },
            "type": "scattergl"
           }
          ],
          "scattermapbox": [
           {
            "marker": {
             "colorbar": {
              "outlinewidth": 0,
              "ticks": ""
             }
            },
            "type": "scattermapbox"
           }
          ],
          "scatterpolar": [
           {
            "marker": {
             "colorbar": {
              "outlinewidth": 0,
              "ticks": ""
             }
            },
            "type": "scatterpolar"
           }
          ],
          "scatterpolargl": [
           {
            "marker": {
             "colorbar": {
              "outlinewidth": 0,
              "ticks": ""
             }
            },
            "type": "scatterpolargl"
           }
          ],
          "scatterternary": [
           {
            "marker": {
             "colorbar": {
              "outlinewidth": 0,
              "ticks": ""
             }
            },
            "type": "scatterternary"
           }
          ],
          "surface": [
           {
            "colorbar": {
             "outlinewidth": 0,
             "ticks": ""
            },
            "colorscale": [
             [
              0,
              "#0d0887"
             ],
             [
              0.1111111111111111,
              "#46039f"
             ],
             [
              0.2222222222222222,
              "#7201a8"
             ],
             [
              0.3333333333333333,
              "#9c179e"
             ],
             [
              0.4444444444444444,
              "#bd3786"
             ],
             [
              0.5555555555555556,
              "#d8576b"
             ],
             [
              0.6666666666666666,
              "#ed7953"
             ],
             [
              0.7777777777777778,
              "#fb9f3a"
             ],
             [
              0.8888888888888888,
              "#fdca26"
             ],
             [
              1,
              "#f0f921"
             ]
            ],
            "type": "surface"
           }
          ],
          "table": [
           {
            "cells": {
             "fill": {
              "color": "#EBF0F8"
             },
             "line": {
              "color": "white"
             }
            },
            "header": {
             "fill": {
              "color": "#C8D4E3"
             },
             "line": {
              "color": "white"
             }
            },
            "type": "table"
           }
          ]
         },
         "layout": {
          "annotationdefaults": {
           "arrowcolor": "#2a3f5f",
           "arrowhead": 0,
           "arrowwidth": 1
          },
          "autotypenumbers": "strict",
          "coloraxis": {
           "colorbar": {
            "outlinewidth": 0,
            "ticks": ""
           }
          },
          "colorscale": {
           "diverging": [
            [
             0,
             "#8e0152"
            ],
            [
             0.1,
             "#c51b7d"
            ],
            [
             0.2,
             "#de77ae"
            ],
            [
             0.3,
             "#f1b6da"
            ],
            [
             0.4,
             "#fde0ef"
            ],
            [
             0.5,
             "#f7f7f7"
            ],
            [
             0.6,
             "#e6f5d0"
            ],
            [
             0.7,
             "#b8e186"
            ],
            [
             0.8,
             "#7fbc41"
            ],
            [
             0.9,
             "#4d9221"
            ],
            [
             1,
             "#276419"
            ]
           ],
           "sequential": [
            [
             0,
             "#0d0887"
            ],
            [
             0.1111111111111111,
             "#46039f"
            ],
            [
             0.2222222222222222,
             "#7201a8"
            ],
            [
             0.3333333333333333,
             "#9c179e"
            ],
            [
             0.4444444444444444,
             "#bd3786"
            ],
            [
             0.5555555555555556,
             "#d8576b"
            ],
            [
             0.6666666666666666,
             "#ed7953"
            ],
            [
             0.7777777777777778,
             "#fb9f3a"
            ],
            [
             0.8888888888888888,
             "#fdca26"
            ],
            [
             1,
             "#f0f921"
            ]
           ],
           "sequentialminus": [
            [
             0,
             "#0d0887"
            ],
            [
             0.1111111111111111,
             "#46039f"
            ],
            [
             0.2222222222222222,
             "#7201a8"
            ],
            [
             0.3333333333333333,
             "#9c179e"
            ],
            [
             0.4444444444444444,
             "#bd3786"
            ],
            [
             0.5555555555555556,
             "#d8576b"
            ],
            [
             0.6666666666666666,
             "#ed7953"
            ],
            [
             0.7777777777777778,
             "#fb9f3a"
            ],
            [
             0.8888888888888888,
             "#fdca26"
            ],
            [
             1,
             "#f0f921"
            ]
           ]
          },
          "colorway": [
           "#636efa",
           "#EF553B",
           "#00cc96",
           "#ab63fa",
           "#FFA15A",
           "#19d3f3",
           "#FF6692",
           "#B6E880",
           "#FF97FF",
           "#FECB52"
          ],
          "font": {
           "color": "#2a3f5f"
          },
          "geo": {
           "bgcolor": "white",
           "lakecolor": "white",
           "landcolor": "#E5ECF6",
           "showlakes": true,
           "showland": true,
           "subunitcolor": "white"
          },
          "hoverlabel": {
           "align": "left"
          },
          "hovermode": "closest",
          "mapbox": {
           "style": "light"
          },
          "paper_bgcolor": "white",
          "plot_bgcolor": "#E5ECF6",
          "polar": {
           "angularaxis": {
            "gridcolor": "white",
            "linecolor": "white",
            "ticks": ""
           },
           "bgcolor": "#E5ECF6",
           "radialaxis": {
            "gridcolor": "white",
            "linecolor": "white",
            "ticks": ""
           }
          },
          "scene": {
           "xaxis": {
            "backgroundcolor": "#E5ECF6",
            "gridcolor": "white",
            "gridwidth": 2,
            "linecolor": "white",
            "showbackground": true,
            "ticks": "",
            "zerolinecolor": "white"
           },
           "yaxis": {
            "backgroundcolor": "#E5ECF6",
            "gridcolor": "white",
            "gridwidth": 2,
            "linecolor": "white",
            "showbackground": true,
            "ticks": "",
            "zerolinecolor": "white"
           },
           "zaxis": {
            "backgroundcolor": "#E5ECF6",
            "gridcolor": "white",
            "gridwidth": 2,
            "linecolor": "white",
            "showbackground": true,
            "ticks": "",
            "zerolinecolor": "white"
           }
          },
          "shapedefaults": {
           "line": {
            "color": "#2a3f5f"
           }
          },
          "ternary": {
           "aaxis": {
            "gridcolor": "white",
            "linecolor": "white",
            "ticks": ""
           },
           "baxis": {
            "gridcolor": "white",
            "linecolor": "white",
            "ticks": ""
           },
           "bgcolor": "#E5ECF6",
           "caxis": {
            "gridcolor": "white",
            "linecolor": "white",
            "ticks": ""
           }
          },
          "title": {
           "x": 0.05
          },
          "xaxis": {
           "automargin": true,
           "gridcolor": "white",
           "linecolor": "white",
           "ticks": "",
           "title": {
            "standoff": 15
           },
           "zerolinecolor": "white",
           "zerolinewidth": 2
          },
          "yaxis": {
           "automargin": true,
           "gridcolor": "white",
           "linecolor": "white",
           "ticks": "",
           "title": {
            "standoff": 15
           },
           "zerolinecolor": "white",
           "zerolinewidth": 2
          }
         }
        },
        "title": {
         "text": "Brands per Category_class (without not defined data"
        }
       }
      }
     },
     "metadata": {}
    }
   ],
   "source": [
    "sdf_agg_brand_category = sdf_raw.groupBy(\"category_class\", \"brand\", \"product_id\").count().na.drop()\n",
    "px.sunburst(sdf_agg_brand_category.toPandas(), path=[\"category_class\", \"brand\"], values=\"count\", title=\"Brands per Category_class (without not defined data\")"
   ]
  },
  {
   "source": [
    "#### Connection to the price\n",
    "\n",
    "The following plots will represent the price distribution within the category_classes, category_codes, category_ids, product_ids and brands."
   ],
   "cell_type": "markdown",
   "metadata": {}
  },
  {
   "cell_type": "code",
   "execution_count": 67,
   "metadata": {},
   "outputs": [
    {
     "output_type": "display_data",
     "data": {
      "application/vnd.plotly.v1+json": {
       "config": {
        "plotlyServerURL": "https://plot.ly"
       },
       "data": [
        {
         "alignmentgroup": "True",
         "hovertemplate": "category_class=%{x}<br>price=%{y}<extra></extra>",
         "legendgroup": "",
         "marker": {
          "color": "#636efa"
         },
         "name": "",
         "notched": false,
         "offsetgroup": "",
         "orientation": "v",
         "showlegend": false,
         "type": "box",
         "x": [
          "electronics",
          "appliances",
          null,
          "appliances",
          "electronics",
          "computers",
          "computers",
          null,
          null,
          "electronics",
          "furniture",
          "appliances",
          "furniture",
          null,
          "appliances",
          null,
          null,
          null,
          "electronics",
          "computers",
          null,
          "electronics",
          null,
          "furniture",
          null,
          null,
          null,
          "electronics",
          "computers",
          "computers",
          null,
          "furniture",
          null,
          null,
          null,
          null,
          null,
          "electronics",
          "appliances",
          "electronics",
          "electronics",
          null,
          null,
          "appliances",
          "appliances",
          null,
          null,
          "electronics",
          null,
          "electronics",
          "electronics",
          "electronics",
          "apparel",
          "apparel",
          "electronics",
          "furniture",
          null,
          null,
          null,
          null,
          null,
          null,
          "computers",
          null,
          null,
          "electronics",
          null,
          null,
          "construction",
          "electronics",
          null,
          "auto",
          null,
          null,
          "furniture",
          "computers",
          null,
          "computers",
          null,
          "electronics",
          null,
          null,
          "electronics",
          null,
          "electronics",
          "computers",
          "auto",
          "computers",
          "electronics",
          null,
          "accessories",
          "appliances",
          "apparel",
          "electronics",
          null,
          "electronics",
          "electronics",
          "electronics",
          "appliances",
          null,
          "computers",
          "electronics",
          null,
          "computers",
          null,
          "electronics",
          "computers",
          "furniture",
          null,
          "electronics",
          "electronics",
          null,
          null,
          null,
          "appliances",
          null,
          null,
          "apparel",
          "auto",
          "construction",
          "computers",
          "electronics",
          "furniture",
          null,
          null,
          "furniture",
          null,
          "electronics",
          "electronics",
          "electronics",
          null,
          "electronics",
          null,
          "computers",
          "electronics",
          null,
          null,
          "computers",
          null,
          null,
          null,
          "computers",
          null,
          "auto",
          "electronics",
          "construction",
          "electronics",
          null,
          "electronics",
          null,
          null,
          null,
          "appliances",
          "electronics",
          "computers",
          null,
          "electronics",
          "appliances",
          "electronics",
          "electronics",
          "appliances",
          null,
          "computers",
          "auto",
          "construction",
          "electronics",
          null,
          null,
          "electronics",
          "electronics",
          "furniture",
          null,
          "computers",
          "appliances",
          "electronics",
          null,
          "auto",
          "furniture",
          null,
          null,
          "furniture",
          "electronics",
          "furniture",
          null,
          "apparel",
          null,
          "electronics",
          "construction",
          "electronics",
          "construction",
          "construction",
          null,
          "computers",
          null,
          "electronics",
          null,
          "furniture",
          "apparel",
          "construction",
          "electronics",
          null,
          "auto",
          "electronics",
          "computers",
          null,
          "electronics",
          "electronics",
          "electronics",
          "electronics",
          "computers",
          "electronics",
          null,
          null,
          null,
          null,
          null,
          "electronics",
          "auto",
          null,
          null,
          null,
          "computers",
          "furniture",
          "electronics",
          "electronics",
          null,
          "electronics",
          "appliances",
          "electronics",
          "computers",
          "kids",
          null,
          "appliances",
          "appliances",
          "appliances",
          null,
          "auto",
          null,
          "appliances",
          null,
          "electronics",
          null,
          "appliances",
          null
         ],
         "x0": " ",
         "xaxis": "x",
         "y": [
          489.07,
          293.65,
          28.31,
          712.87,
          183.27,
          360.09,
          514.56,
          30.86,
          72.72,
          732.07,
          437.33,
          155.11,
          31.64,
          20.54,
          411.83,
          1.09,
          8.55,
          22.68,
          164.84,
          411.59,
          88.81,
          151.99,
          7.07,
          591.78,
          55.33,
          11.79,
          7.59,
          949.47,
          514.79,
          360.34,
          38.07,
          47.77,
          23.4,
          23.14,
          61.1,
          127.42,
          54.06,
          69.24,
          108.09,
          458.28,
          503.09,
          119.69,
          437.29,
          32.66,
          684.44,
          511.13,
          15.62,
          386.08,
          248.66,
          211.92,
          895.78,
          289.33,
          8.73,
          40.16,
          928.18,
          47.77,
          66.9,
          8.55,
          134.37,
          51.48,
          83.91,
          28.19,
          385.85,
          733.61,
          105.54,
          128.42,
          50.19,
          43.73,
          98.51,
          84.65,
          5.77,
          157.28,
          252.77,
          20.77,
          34.75,
          287.83,
          91.12,
          151.14,
          61.75,
          1091.33,
          46.16,
          72.72,
          22.8,
          171.17,
          257.38,
          51.46,
          221.37,
          849.42,
          242.63,
          40.93,
          48.43,
          499.94,
          50.45,
          51.22,
          900.92,
          463.15,
          928.38,
          861.28,
          166.23,
          64.33,
          170.63,
          1013.86,
          28.19,
          411.59,
          280.05,
          1173.6,
          390.98,
          566.3,
          50.43,
          1091.33,
          946.73,
          58.17,
          61.75,
          17.49,
          314.08,
          47.62,
          47.32,
          46.08,
          180.18,
          226.83,
          514.79,
          489.07,
          70.27,
          511.13,
          751.63,
          136.4,
          182.76,
          172.22,
          172.23,
          41.19,
          257.15,
          398.72,
          378.36,
          2342.15,
          861.28,
          28.19,
          114.03,
          406.68,
          25.48,
          49.68,
          76.45,
          1209.55,
          72.72,
          113.93,
          928.38,
          254.78,
          334.37,
          244.28,
          242.63,
          70.53,
          118.41,
          7.34,
          293.65,
          22.8,
          203.84,
          77.22,
          125.61,
          684.44,
          128.42,
          1013.86,
          298.16,
          84.69,
          2312.8,
          229.09,
          48.35,
          167.02,
          40.93,
          177.1,
          211.92,
          2239.44,
          36.78,
          900.92,
          2496.59,
          128.68,
          195.37,
          10.17,
          221.37,
          207.21,
          277.23,
          32.18,
          36.78,
          58.69,
          566.3,
          69.5,
          65.38,
          30.43,
          218.51,
          150.95,
          127.33,
          46.82,
          29.86,
          65.64,
          411.34,
          72.59,
          165.26,
          97.34,
          566.3,
          102.71,
          24.71,
          293.44,
          397.54,
          221.37,
          183.27,
          432.42,
          1335.43,
          380.96,
          552.14,
          38.61,
          67.84,
          2311.49,
          133.83,
          224.46,
          72.07,
          20.57,
          51.22,
          257.15,
          732.07,
          140.1,
          105.54,
          23.37,
          198.18,
          169.36,
          168.06,
          194.76,
          565.63,
          33.44,
          229.83,
          69.47,
          88.29,
          1997.99,
          110.03,
          195.87,
          54.03,
          1375.64,
          147.15,
          119.69,
          123.53,
          56.63,
          36.01,
          56.37,
          700.81,
          51.46,
          12.91,
          159.59
         ],
         "y0": " ",
         "yaxis": "y"
        }
       ],
       "layout": {
        "boxmode": "group",
        "legend": {
         "tracegroupgap": 0
        },
        "template": {
         "data": {
          "bar": [
           {
            "error_x": {
             "color": "#2a3f5f"
            },
            "error_y": {
             "color": "#2a3f5f"
            },
            "marker": {
             "line": {
              "color": "#E5ECF6",
              "width": 0.5
             }
            },
            "type": "bar"
           }
          ],
          "barpolar": [
           {
            "marker": {
             "line": {
              "color": "#E5ECF6",
              "width": 0.5
             }
            },
            "type": "barpolar"
           }
          ],
          "carpet": [
           {
            "aaxis": {
             "endlinecolor": "#2a3f5f",
             "gridcolor": "white",
             "linecolor": "white",
             "minorgridcolor": "white",
             "startlinecolor": "#2a3f5f"
            },
            "baxis": {
             "endlinecolor": "#2a3f5f",
             "gridcolor": "white",
             "linecolor": "white",
             "minorgridcolor": "white",
             "startlinecolor": "#2a3f5f"
            },
            "type": "carpet"
           }
          ],
          "choropleth": [
           {
            "colorbar": {
             "outlinewidth": 0,
             "ticks": ""
            },
            "type": "choropleth"
           }
          ],
          "contour": [
           {
            "colorbar": {
             "outlinewidth": 0,
             "ticks": ""
            },
            "colorscale": [
             [
              0,
              "#0d0887"
             ],
             [
              0.1111111111111111,
              "#46039f"
             ],
             [
              0.2222222222222222,
              "#7201a8"
             ],
             [
              0.3333333333333333,
              "#9c179e"
             ],
             [
              0.4444444444444444,
              "#bd3786"
             ],
             [
              0.5555555555555556,
              "#d8576b"
             ],
             [
              0.6666666666666666,
              "#ed7953"
             ],
             [
              0.7777777777777778,
              "#fb9f3a"
             ],
             [
              0.8888888888888888,
              "#fdca26"
             ],
             [
              1,
              "#f0f921"
             ]
            ],
            "type": "contour"
           }
          ],
          "contourcarpet": [
           {
            "colorbar": {
             "outlinewidth": 0,
             "ticks": ""
            },
            "type": "contourcarpet"
           }
          ],
          "heatmap": [
           {
            "colorbar": {
             "outlinewidth": 0,
             "ticks": ""
            },
            "colorscale": [
             [
              0,
              "#0d0887"
             ],
             [
              0.1111111111111111,
              "#46039f"
             ],
             [
              0.2222222222222222,
              "#7201a8"
             ],
             [
              0.3333333333333333,
              "#9c179e"
             ],
             [
              0.4444444444444444,
              "#bd3786"
             ],
             [
              0.5555555555555556,
              "#d8576b"
             ],
             [
              0.6666666666666666,
              "#ed7953"
             ],
             [
              0.7777777777777778,
              "#fb9f3a"
             ],
             [
              0.8888888888888888,
              "#fdca26"
             ],
             [
              1,
              "#f0f921"
             ]
            ],
            "type": "heatmap"
           }
          ],
          "heatmapgl": [
           {
            "colorbar": {
             "outlinewidth": 0,
             "ticks": ""
            },
            "colorscale": [
             [
              0,
              "#0d0887"
             ],
             [
              0.1111111111111111,
              "#46039f"
             ],
             [
              0.2222222222222222,
              "#7201a8"
             ],
             [
              0.3333333333333333,
              "#9c179e"
             ],
             [
              0.4444444444444444,
              "#bd3786"
             ],
             [
              0.5555555555555556,
              "#d8576b"
             ],
             [
              0.6666666666666666,
              "#ed7953"
             ],
             [
              0.7777777777777778,
              "#fb9f3a"
             ],
             [
              0.8888888888888888,
              "#fdca26"
             ],
             [
              1,
              "#f0f921"
             ]
            ],
            "type": "heatmapgl"
           }
          ],
          "histogram": [
           {
            "marker": {
             "colorbar": {
              "outlinewidth": 0,
              "ticks": ""
             }
            },
            "type": "histogram"
           }
          ],
          "histogram2d": [
           {
            "colorbar": {
             "outlinewidth": 0,
             "ticks": ""
            },
            "colorscale": [
             [
              0,
              "#0d0887"
             ],
             [
              0.1111111111111111,
              "#46039f"
             ],
             [
              0.2222222222222222,
              "#7201a8"
             ],
             [
              0.3333333333333333,
              "#9c179e"
             ],
             [
              0.4444444444444444,
              "#bd3786"
             ],
             [
              0.5555555555555556,
              "#d8576b"
             ],
             [
              0.6666666666666666,
              "#ed7953"
             ],
             [
              0.7777777777777778,
              "#fb9f3a"
             ],
             [
              0.8888888888888888,
              "#fdca26"
             ],
             [
              1,
              "#f0f921"
             ]
            ],
            "type": "histogram2d"
           }
          ],
          "histogram2dcontour": [
           {
            "colorbar": {
             "outlinewidth": 0,
             "ticks": ""
            },
            "colorscale": [
             [
              0,
              "#0d0887"
             ],
             [
              0.1111111111111111,
              "#46039f"
             ],
             [
              0.2222222222222222,
              "#7201a8"
             ],
             [
              0.3333333333333333,
              "#9c179e"
             ],
             [
              0.4444444444444444,
              "#bd3786"
             ],
             [
              0.5555555555555556,
              "#d8576b"
             ],
             [
              0.6666666666666666,
              "#ed7953"
             ],
             [
              0.7777777777777778,
              "#fb9f3a"
             ],
             [
              0.8888888888888888,
              "#fdca26"
             ],
             [
              1,
              "#f0f921"
             ]
            ],
            "type": "histogram2dcontour"
           }
          ],
          "mesh3d": [
           {
            "colorbar": {
             "outlinewidth": 0,
             "ticks": ""
            },
            "type": "mesh3d"
           }
          ],
          "parcoords": [
           {
            "line": {
             "colorbar": {
              "outlinewidth": 0,
              "ticks": ""
             }
            },
            "type": "parcoords"
           }
          ],
          "pie": [
           {
            "automargin": true,
            "type": "pie"
           }
          ],
          "scatter": [
           {
            "marker": {
             "colorbar": {
              "outlinewidth": 0,
              "ticks": ""
             }
            },
            "type": "scatter"
           }
          ],
          "scatter3d": [
           {
            "line": {
             "colorbar": {
              "outlinewidth": 0,
              "ticks": ""
             }
            },
            "marker": {
             "colorbar": {
              "outlinewidth": 0,
              "ticks": ""
             }
            },
            "type": "scatter3d"
           }
          ],
          "scattercarpet": [
           {
            "marker": {
             "colorbar": {
              "outlinewidth": 0,
              "ticks": ""
             }
            },
            "type": "scattercarpet"
           }
          ],
          "scattergeo": [
           {
            "marker": {
             "colorbar": {
              "outlinewidth": 0,
              "ticks": ""
             }
            },
            "type": "scattergeo"
           }
          ],
          "scattergl": [
           {
            "marker": {
             "colorbar": {
              "outlinewidth": 0,
              "ticks": ""
             }
            },
            "type": "scattergl"
           }
          ],
          "scattermapbox": [
           {
            "marker": {
             "colorbar": {
              "outlinewidth": 0,
              "ticks": ""
             }
            },
            "type": "scattermapbox"
           }
          ],
          "scatterpolar": [
           {
            "marker": {
             "colorbar": {
              "outlinewidth": 0,
              "ticks": ""
             }
            },
            "type": "scatterpolar"
           }
          ],
          "scatterpolargl": [
           {
            "marker": {
             "colorbar": {
              "outlinewidth": 0,
              "ticks": ""
             }
            },
            "type": "scatterpolargl"
           }
          ],
          "scatterternary": [
           {
            "marker": {
             "colorbar": {
              "outlinewidth": 0,
              "ticks": ""
             }
            },
            "type": "scatterternary"
           }
          ],
          "surface": [
           {
            "colorbar": {
             "outlinewidth": 0,
             "ticks": ""
            },
            "colorscale": [
             [
              0,
              "#0d0887"
             ],
             [
              0.1111111111111111,
              "#46039f"
             ],
             [
              0.2222222222222222,
              "#7201a8"
             ],
             [
              0.3333333333333333,
              "#9c179e"
             ],
             [
              0.4444444444444444,
              "#bd3786"
             ],
             [
              0.5555555555555556,
              "#d8576b"
             ],
             [
              0.6666666666666666,
              "#ed7953"
             ],
             [
              0.7777777777777778,
              "#fb9f3a"
             ],
             [
              0.8888888888888888,
              "#fdca26"
             ],
             [
              1,
              "#f0f921"
             ]
            ],
            "type": "surface"
           }
          ],
          "table": [
           {
            "cells": {
             "fill": {
              "color": "#EBF0F8"
             },
             "line": {
              "color": "white"
             }
            },
            "header": {
             "fill": {
              "color": "#C8D4E3"
             },
             "line": {
              "color": "white"
             }
            },
            "type": "table"
           }
          ]
         },
         "layout": {
          "annotationdefaults": {
           "arrowcolor": "#2a3f5f",
           "arrowhead": 0,
           "arrowwidth": 1
          },
          "autotypenumbers": "strict",
          "coloraxis": {
           "colorbar": {
            "outlinewidth": 0,
            "ticks": ""
           }
          },
          "colorscale": {
           "diverging": [
            [
             0,
             "#8e0152"
            ],
            [
             0.1,
             "#c51b7d"
            ],
            [
             0.2,
             "#de77ae"
            ],
            [
             0.3,
             "#f1b6da"
            ],
            [
             0.4,
             "#fde0ef"
            ],
            [
             0.5,
             "#f7f7f7"
            ],
            [
             0.6,
             "#e6f5d0"
            ],
            [
             0.7,
             "#b8e186"
            ],
            [
             0.8,
             "#7fbc41"
            ],
            [
             0.9,
             "#4d9221"
            ],
            [
             1,
             "#276419"
            ]
           ],
           "sequential": [
            [
             0,
             "#0d0887"
            ],
            [
             0.1111111111111111,
             "#46039f"
            ],
            [
             0.2222222222222222,
             "#7201a8"
            ],
            [
             0.3333333333333333,
             "#9c179e"
            ],
            [
             0.4444444444444444,
             "#bd3786"
            ],
            [
             0.5555555555555556,
             "#d8576b"
            ],
            [
             0.6666666666666666,
             "#ed7953"
            ],
            [
             0.7777777777777778,
             "#fb9f3a"
            ],
            [
             0.8888888888888888,
             "#fdca26"
            ],
            [
             1,
             "#f0f921"
            ]
           ],
           "sequentialminus": [
            [
             0,
             "#0d0887"
            ],
            [
             0.1111111111111111,
             "#46039f"
            ],
            [
             0.2222222222222222,
             "#7201a8"
            ],
            [
             0.3333333333333333,
             "#9c179e"
            ],
            [
             0.4444444444444444,
             "#bd3786"
            ],
            [
             0.5555555555555556,
             "#d8576b"
            ],
            [
             0.6666666666666666,
             "#ed7953"
            ],
            [
             0.7777777777777778,
             "#fb9f3a"
            ],
            [
             0.8888888888888888,
             "#fdca26"
            ],
            [
             1,
             "#f0f921"
            ]
           ]
          },
          "colorway": [
           "#636efa",
           "#EF553B",
           "#00cc96",
           "#ab63fa",
           "#FFA15A",
           "#19d3f3",
           "#FF6692",
           "#B6E880",
           "#FF97FF",
           "#FECB52"
          ],
          "font": {
           "color": "#2a3f5f"
          },
          "geo": {
           "bgcolor": "white",
           "lakecolor": "white",
           "landcolor": "#E5ECF6",
           "showlakes": true,
           "showland": true,
           "subunitcolor": "white"
          },
          "hoverlabel": {
           "align": "left"
          },
          "hovermode": "closest",
          "mapbox": {
           "style": "light"
          },
          "paper_bgcolor": "white",
          "plot_bgcolor": "#E5ECF6",
          "polar": {
           "angularaxis": {
            "gridcolor": "white",
            "linecolor": "white",
            "ticks": ""
           },
           "bgcolor": "#E5ECF6",
           "radialaxis": {
            "gridcolor": "white",
            "linecolor": "white",
            "ticks": ""
           }
          },
          "scene": {
           "xaxis": {
            "backgroundcolor": "#E5ECF6",
            "gridcolor": "white",
            "gridwidth": 2,
            "linecolor": "white",
            "showbackground": true,
            "ticks": "",
            "zerolinecolor": "white"
           },
           "yaxis": {
            "backgroundcolor": "#E5ECF6",
            "gridcolor": "white",
            "gridwidth": 2,
            "linecolor": "white",
            "showbackground": true,
            "ticks": "",
            "zerolinecolor": "white"
           },
           "zaxis": {
            "backgroundcolor": "#E5ECF6",
            "gridcolor": "white",
            "gridwidth": 2,
            "linecolor": "white",
            "showbackground": true,
            "ticks": "",
            "zerolinecolor": "white"
           }
          },
          "shapedefaults": {
           "line": {
            "color": "#2a3f5f"
           }
          },
          "ternary": {
           "aaxis": {
            "gridcolor": "white",
            "linecolor": "white",
            "ticks": ""
           },
           "baxis": {
            "gridcolor": "white",
            "linecolor": "white",
            "ticks": ""
           },
           "bgcolor": "#E5ECF6",
           "caxis": {
            "gridcolor": "white",
            "linecolor": "white",
            "ticks": ""
           }
          },
          "title": {
           "x": 0.05
          },
          "xaxis": {
           "automargin": true,
           "gridcolor": "white",
           "linecolor": "white",
           "ticks": "",
           "title": {
            "standoff": 15
           },
           "zerolinecolor": "white",
           "zerolinewidth": 2
          },
          "yaxis": {
           "automargin": true,
           "gridcolor": "white",
           "linecolor": "white",
           "ticks": "",
           "title": {
            "standoff": 15
           },
           "zerolinecolor": "white",
           "zerolinewidth": 2
          }
         }
        },
        "title": {
         "text": "Price ~ Category_class"
        },
        "xaxis": {
         "anchor": "y",
         "domain": [
          0,
          1
         ],
         "title": {
          "text": "category_class"
         }
        },
        "yaxis": {
         "anchor": "x",
         "domain": [
          0,
          1
         ],
         "title": {
          "text": "price"
         }
        }
       }
      }
     },
     "metadata": {}
    }
   ],
   "source": [
    "px.box(sdf_raw.select(\"category_class\", \"price\").toPandas(), x=\"category_class\", y=\"price\", title=\"Price ~ Category_class\")"
   ]
  },
  {
   "cell_type": "code",
   "execution_count": 69,
   "metadata": {},
   "outputs": [
    {
     "output_type": "stream",
     "name": "stdout",
     "text": [
      "+----------+-------+\n|product_id|  price|\n+----------+-------+\n|   1305977|2496.59|\n|   1307012|2342.15|\n|   1306571| 2312.8|\n|   1304315|2311.49|\n|   5100797|2239.44|\n|   1480434|1997.99|\n|   2900878|1375.64|\n|  15100252|1335.43|\n|   1307519|1209.55|\n|   1004241| 1173.6|\n+----------+-------+\nonly showing top 10 rows\n\n"
     ]
    }
   ],
   "source": [
    "sdf_price_per_product = sdf_raw.select(\"product_id\", \"price\").distinct().orderBy(f.desc(\"price\"))\n",
    "\n",
    "sdf_price_per_product.show(10)"
   ]
  },
  {
   "source": [
    "#### Connection to the event-type\n",
    "The following plots will represent the event_type distribution within the category_classes, category_codes, category_ids, product_ids and brands."
   ],
   "cell_type": "markdown",
   "metadata": {}
  },
  {
   "cell_type": "code",
   "execution_count": 72,
   "metadata": {},
   "outputs": [
    {
     "output_type": "display_data",
     "data": {
      "application/vnd.plotly.v1+json": {
       "config": {
        "plotlyServerURL": "https://plot.ly"
       },
       "data": [
        {
         "branchvalues": "total",
         "domain": {
          "x": [
           0,
           1
          ],
          "y": [
           0,
           1
          ]
         },
         "hovertemplate": "labels=%{label}<br>count=%{value}<br>parent=%{parent}<br>id=%{id}<extra></extra>",
         "ids": [
          "electronics/cart",
          "electronics/purchase",
          "furniture/purchase",
          "accessories/view",
          "apparel/view",
          "appliances/view",
          "auto/view",
          "computers/view",
          "construction/view",
          "electronics/view",
          "furniture/view",
          "kids/view",
          "accessories",
          "apparel",
          "appliances",
          "auto",
          "computers",
          "construction",
          "electronics",
          "furniture",
          "kids"
         ],
         "labels": [
          "cart",
          "purchase",
          "purchase",
          "view",
          "view",
          "view",
          "view",
          "view",
          "view",
          "view",
          "view",
          "view",
          "accessories",
          "apparel",
          "appliances",
          "auto",
          "computers",
          "construction",
          "electronics",
          "furniture",
          "kids"
         ],
         "name": "",
         "parents": [
          "electronics",
          "electronics",
          "furniture",
          "accessories",
          "apparel",
          "appliances",
          "auto",
          "computers",
          "construction",
          "electronics",
          "furniture",
          "kids",
          "",
          "",
          "",
          "",
          "",
          "",
          "",
          "",
          ""
         ],
         "type": "sunburst",
         "values": [
          1,
          1,
          1,
          1,
          6,
          20,
          9,
          25,
          8,
          60,
          14,
          1,
          1,
          6,
          20,
          9,
          25,
          8,
          62,
          15,
          1
         ]
        }
       ],
       "layout": {
        "legend": {
         "tracegroupgap": 0
        },
        "template": {
         "data": {
          "bar": [
           {
            "error_x": {
             "color": "#2a3f5f"
            },
            "error_y": {
             "color": "#2a3f5f"
            },
            "marker": {
             "line": {
              "color": "#E5ECF6",
              "width": 0.5
             }
            },
            "type": "bar"
           }
          ],
          "barpolar": [
           {
            "marker": {
             "line": {
              "color": "#E5ECF6",
              "width": 0.5
             }
            },
            "type": "barpolar"
           }
          ],
          "carpet": [
           {
            "aaxis": {
             "endlinecolor": "#2a3f5f",
             "gridcolor": "white",
             "linecolor": "white",
             "minorgridcolor": "white",
             "startlinecolor": "#2a3f5f"
            },
            "baxis": {
             "endlinecolor": "#2a3f5f",
             "gridcolor": "white",
             "linecolor": "white",
             "minorgridcolor": "white",
             "startlinecolor": "#2a3f5f"
            },
            "type": "carpet"
           }
          ],
          "choropleth": [
           {
            "colorbar": {
             "outlinewidth": 0,
             "ticks": ""
            },
            "type": "choropleth"
           }
          ],
          "contour": [
           {
            "colorbar": {
             "outlinewidth": 0,
             "ticks": ""
            },
            "colorscale": [
             [
              0,
              "#0d0887"
             ],
             [
              0.1111111111111111,
              "#46039f"
             ],
             [
              0.2222222222222222,
              "#7201a8"
             ],
             [
              0.3333333333333333,
              "#9c179e"
             ],
             [
              0.4444444444444444,
              "#bd3786"
             ],
             [
              0.5555555555555556,
              "#d8576b"
             ],
             [
              0.6666666666666666,
              "#ed7953"
             ],
             [
              0.7777777777777778,
              "#fb9f3a"
             ],
             [
              0.8888888888888888,
              "#fdca26"
             ],
             [
              1,
              "#f0f921"
             ]
            ],
            "type": "contour"
           }
          ],
          "contourcarpet": [
           {
            "colorbar": {
             "outlinewidth": 0,
             "ticks": ""
            },
            "type": "contourcarpet"
           }
          ],
          "heatmap": [
           {
            "colorbar": {
             "outlinewidth": 0,
             "ticks": ""
            },
            "colorscale": [
             [
              0,
              "#0d0887"
             ],
             [
              0.1111111111111111,
              "#46039f"
             ],
             [
              0.2222222222222222,
              "#7201a8"
             ],
             [
              0.3333333333333333,
              "#9c179e"
             ],
             [
              0.4444444444444444,
              "#bd3786"
             ],
             [
              0.5555555555555556,
              "#d8576b"
             ],
             [
              0.6666666666666666,
              "#ed7953"
             ],
             [
              0.7777777777777778,
              "#fb9f3a"
             ],
             [
              0.8888888888888888,
              "#fdca26"
             ],
             [
              1,
              "#f0f921"
             ]
            ],
            "type": "heatmap"
           }
          ],
          "heatmapgl": [
           {
            "colorbar": {
             "outlinewidth": 0,
             "ticks": ""
            },
            "colorscale": [
             [
              0,
              "#0d0887"
             ],
             [
              0.1111111111111111,
              "#46039f"
             ],
             [
              0.2222222222222222,
              "#7201a8"
             ],
             [
              0.3333333333333333,
              "#9c179e"
             ],
             [
              0.4444444444444444,
              "#bd3786"
             ],
             [
              0.5555555555555556,
              "#d8576b"
             ],
             [
              0.6666666666666666,
              "#ed7953"
             ],
             [
              0.7777777777777778,
              "#fb9f3a"
             ],
             [
              0.8888888888888888,
              "#fdca26"
             ],
             [
              1,
              "#f0f921"
             ]
            ],
            "type": "heatmapgl"
           }
          ],
          "histogram": [
           {
            "marker": {
             "colorbar": {
              "outlinewidth": 0,
              "ticks": ""
             }
            },
            "type": "histogram"
           }
          ],
          "histogram2d": [
           {
            "colorbar": {
             "outlinewidth": 0,
             "ticks": ""
            },
            "colorscale": [
             [
              0,
              "#0d0887"
             ],
             [
              0.1111111111111111,
              "#46039f"
             ],
             [
              0.2222222222222222,
              "#7201a8"
             ],
             [
              0.3333333333333333,
              "#9c179e"
             ],
             [
              0.4444444444444444,
              "#bd3786"
             ],
             [
              0.5555555555555556,
              "#d8576b"
             ],
             [
              0.6666666666666666,
              "#ed7953"
             ],
             [
              0.7777777777777778,
              "#fb9f3a"
             ],
             [
              0.8888888888888888,
              "#fdca26"
             ],
             [
              1,
              "#f0f921"
             ]
            ],
            "type": "histogram2d"
           }
          ],
          "histogram2dcontour": [
           {
            "colorbar": {
             "outlinewidth": 0,
             "ticks": ""
            },
            "colorscale": [
             [
              0,
              "#0d0887"
             ],
             [
              0.1111111111111111,
              "#46039f"
             ],
             [
              0.2222222222222222,
              "#7201a8"
             ],
             [
              0.3333333333333333,
              "#9c179e"
             ],
             [
              0.4444444444444444,
              "#bd3786"
             ],
             [
              0.5555555555555556,
              "#d8576b"
             ],
             [
              0.6666666666666666,
              "#ed7953"
             ],
             [
              0.7777777777777778,
              "#fb9f3a"
             ],
             [
              0.8888888888888888,
              "#fdca26"
             ],
             [
              1,
              "#f0f921"
             ]
            ],
            "type": "histogram2dcontour"
           }
          ],
          "mesh3d": [
           {
            "colorbar": {
             "outlinewidth": 0,
             "ticks": ""
            },
            "type": "mesh3d"
           }
          ],
          "parcoords": [
           {
            "line": {
             "colorbar": {
              "outlinewidth": 0,
              "ticks": ""
             }
            },
            "type": "parcoords"
           }
          ],
          "pie": [
           {
            "automargin": true,
            "type": "pie"
           }
          ],
          "scatter": [
           {
            "marker": {
             "colorbar": {
              "outlinewidth": 0,
              "ticks": ""
             }
            },
            "type": "scatter"
           }
          ],
          "scatter3d": [
           {
            "line": {
             "colorbar": {
              "outlinewidth": 0,
              "ticks": ""
             }
            },
            "marker": {
             "colorbar": {
              "outlinewidth": 0,
              "ticks": ""
             }
            },
            "type": "scatter3d"
           }
          ],
          "scattercarpet": [
           {
            "marker": {
             "colorbar": {
              "outlinewidth": 0,
              "ticks": ""
             }
            },
            "type": "scattercarpet"
           }
          ],
          "scattergeo": [
           {
            "marker": {
             "colorbar": {
              "outlinewidth": 0,
              "ticks": ""
             }
            },
            "type": "scattergeo"
           }
          ],
          "scattergl": [
           {
            "marker": {
             "colorbar": {
              "outlinewidth": 0,
              "ticks": ""
             }
            },
            "type": "scattergl"
           }
          ],
          "scattermapbox": [
           {
            "marker": {
             "colorbar": {
              "outlinewidth": 0,
              "ticks": ""
             }
            },
            "type": "scattermapbox"
           }
          ],
          "scatterpolar": [
           {
            "marker": {
             "colorbar": {
              "outlinewidth": 0,
              "ticks": ""
             }
            },
            "type": "scatterpolar"
           }
          ],
          "scatterpolargl": [
           {
            "marker": {
             "colorbar": {
              "outlinewidth": 0,
              "ticks": ""
             }
            },
            "type": "scatterpolargl"
           }
          ],
          "scatterternary": [
           {
            "marker": {
             "colorbar": {
              "outlinewidth": 0,
              "ticks": ""
             }
            },
            "type": "scatterternary"
           }
          ],
          "surface": [
           {
            "colorbar": {
             "outlinewidth": 0,
             "ticks": ""
            },
            "colorscale": [
             [
              0,
              "#0d0887"
             ],
             [
              0.1111111111111111,
              "#46039f"
             ],
             [
              0.2222222222222222,
              "#7201a8"
             ],
             [
              0.3333333333333333,
              "#9c179e"
             ],
             [
              0.4444444444444444,
              "#bd3786"
             ],
             [
              0.5555555555555556,
              "#d8576b"
             ],
             [
              0.6666666666666666,
              "#ed7953"
             ],
             [
              0.7777777777777778,
              "#fb9f3a"
             ],
             [
              0.8888888888888888,
              "#fdca26"
             ],
             [
              1,
              "#f0f921"
             ]
            ],
            "type": "surface"
           }
          ],
          "table": [
           {
            "cells": {
             "fill": {
              "color": "#EBF0F8"
             },
             "line": {
              "color": "white"
             }
            },
            "header": {
             "fill": {
              "color": "#C8D4E3"
             },
             "line": {
              "color": "white"
             }
            },
            "type": "table"
           }
          ]
         },
         "layout": {
          "annotationdefaults": {
           "arrowcolor": "#2a3f5f",
           "arrowhead": 0,
           "arrowwidth": 1
          },
          "autotypenumbers": "strict",
          "coloraxis": {
           "colorbar": {
            "outlinewidth": 0,
            "ticks": ""
           }
          },
          "colorscale": {
           "diverging": [
            [
             0,
             "#8e0152"
            ],
            [
             0.1,
             "#c51b7d"
            ],
            [
             0.2,
             "#de77ae"
            ],
            [
             0.3,
             "#f1b6da"
            ],
            [
             0.4,
             "#fde0ef"
            ],
            [
             0.5,
             "#f7f7f7"
            ],
            [
             0.6,
             "#e6f5d0"
            ],
            [
             0.7,
             "#b8e186"
            ],
            [
             0.8,
             "#7fbc41"
            ],
            [
             0.9,
             "#4d9221"
            ],
            [
             1,
             "#276419"
            ]
           ],
           "sequential": [
            [
             0,
             "#0d0887"
            ],
            [
             0.1111111111111111,
             "#46039f"
            ],
            [
             0.2222222222222222,
             "#7201a8"
            ],
            [
             0.3333333333333333,
             "#9c179e"
            ],
            [
             0.4444444444444444,
             "#bd3786"
            ],
            [
             0.5555555555555556,
             "#d8576b"
            ],
            [
             0.6666666666666666,
             "#ed7953"
            ],
            [
             0.7777777777777778,
             "#fb9f3a"
            ],
            [
             0.8888888888888888,
             "#fdca26"
            ],
            [
             1,
             "#f0f921"
            ]
           ],
           "sequentialminus": [
            [
             0,
             "#0d0887"
            ],
            [
             0.1111111111111111,
             "#46039f"
            ],
            [
             0.2222222222222222,
             "#7201a8"
            ],
            [
             0.3333333333333333,
             "#9c179e"
            ],
            [
             0.4444444444444444,
             "#bd3786"
            ],
            [
             0.5555555555555556,
             "#d8576b"
            ],
            [
             0.6666666666666666,
             "#ed7953"
            ],
            [
             0.7777777777777778,
             "#fb9f3a"
            ],
            [
             0.8888888888888888,
             "#fdca26"
            ],
            [
             1,
             "#f0f921"
            ]
           ]
          },
          "colorway": [
           "#636efa",
           "#EF553B",
           "#00cc96",
           "#ab63fa",
           "#FFA15A",
           "#19d3f3",
           "#FF6692",
           "#B6E880",
           "#FF97FF",
           "#FECB52"
          ],
          "font": {
           "color": "#2a3f5f"
          },
          "geo": {
           "bgcolor": "white",
           "lakecolor": "white",
           "landcolor": "#E5ECF6",
           "showlakes": true,
           "showland": true,
           "subunitcolor": "white"
          },
          "hoverlabel": {
           "align": "left"
          },
          "hovermode": "closest",
          "mapbox": {
           "style": "light"
          },
          "paper_bgcolor": "white",
          "plot_bgcolor": "#E5ECF6",
          "polar": {
           "angularaxis": {
            "gridcolor": "white",
            "linecolor": "white",
            "ticks": ""
           },
           "bgcolor": "#E5ECF6",
           "radialaxis": {
            "gridcolor": "white",
            "linecolor": "white",
            "ticks": ""
           }
          },
          "scene": {
           "xaxis": {
            "backgroundcolor": "#E5ECF6",
            "gridcolor": "white",
            "gridwidth": 2,
            "linecolor": "white",
            "showbackground": true,
            "ticks": "",
            "zerolinecolor": "white"
           },
           "yaxis": {
            "backgroundcolor": "#E5ECF6",
            "gridcolor": "white",
            "gridwidth": 2,
            "linecolor": "white",
            "showbackground": true,
            "ticks": "",
            "zerolinecolor": "white"
           },
           "zaxis": {
            "backgroundcolor": "#E5ECF6",
            "gridcolor": "white",
            "gridwidth": 2,
            "linecolor": "white",
            "showbackground": true,
            "ticks": "",
            "zerolinecolor": "white"
           }
          },
          "shapedefaults": {
           "line": {
            "color": "#2a3f5f"
           }
          },
          "ternary": {
           "aaxis": {
            "gridcolor": "white",
            "linecolor": "white",
            "ticks": ""
           },
           "baxis": {
            "gridcolor": "white",
            "linecolor": "white",
            "ticks": ""
           },
           "bgcolor": "#E5ECF6",
           "caxis": {
            "gridcolor": "white",
            "linecolor": "white",
            "ticks": ""
           }
          },
          "title": {
           "x": 0.05
          },
          "xaxis": {
           "automargin": true,
           "gridcolor": "white",
           "linecolor": "white",
           "ticks": "",
           "title": {
            "standoff": 15
           },
           "zerolinecolor": "white",
           "zerolinewidth": 2
          },
          "yaxis": {
           "automargin": true,
           "gridcolor": "white",
           "linecolor": "white",
           "ticks": "",
           "title": {
            "standoff": 15
           },
           "zerolinecolor": "white",
           "zerolinewidth": 2
          }
         }
        },
        "title": {
         "text": "Event Type per Category_Class (no None Values)"
        }
       }
      }
     },
     "metadata": {}
    }
   ],
   "source": [
    "sdf_category_class_event_distribution = sdf_raw.groupBy(\"category_class\", \"event_type\").count().na.drop()   \n",
    "\n",
    "px.sunburst(sdf_category_class_event_distribution.toPandas(), path=['category_class','event_type'], values=\"count\", title=\"Event Type per Category_Class (no None Values)\")"
   ]
  },
  {
   "source": [
    "#### Connection to the turnover"
   ],
   "cell_type": "markdown",
   "metadata": {}
  },
  {
   "cell_type": "code",
   "execution_count": 84,
   "metadata": {},
   "outputs": [
    {
     "output_type": "stream",
     "name": "stdout",
     "text": [
      "+--------+-------------+----------+--------------------+------------------+--------------------+\n|   brand|sum(turnover)|avg(price)|sum(viewed_quantity)|sum(cart_quantity)|sum(bougth_quantity)|\n+--------+-------------+----------+--------------------+------------------+--------------------+\n|    null|        566.3|     174.8|                  45|                 1|                   1|\n|  xiaomi|       211.92|    224.28|                  14|                 0|                   1|\n|goodloot|          0.0|      8.73|                   1|                 0|                   0|\n| element|          0.0|    133.83|                   1|                 0|                   0|\n|cordiant|          0.0|      41.7|                   2|                 0|                   0|\n|  rezult|          0.0|     15.62|                   1|                 0|                   0|\n| rondell|          0.0|      37.3|                   2|                 0|                   0|\n|   oasis|          0.0|     32.66|                   1|                 0|                   0|\n|   epson|          0.0|    203.84|                   1|                 0|                   0|\n|   lider|          0.0|    378.36|                   1|                 0|                   0|\n+--------+-------------+----------+--------------------+------------------+--------------------+\nonly showing top 10 rows\n\n"
     ]
    }
   ],
   "source": [
    "sdf_brand_overview = sdf_raw.groupBy(\"brand\").agg(f.sum(\"turnover\"), f.avg(\"price\"), f.sum(\"viewed_quantity\"), f.sum(\"cart_quantity\"), f.sum(\"bougth_quantity\")).orderBy(f.desc(\"sum(turnover)\"))\n",
    "sdf_brand_overview = sdf_brand_overview.withColumn(\"sum(turnover)\", f.round(sdf_brand_overview[\"sum(turnover)\"], 2))\n",
    "sdf_brand_overview = sdf_brand_overview.withColumn(\"avg(price)\", f.round(sdf_brand_overview[\"avg(price)\"], 2))\n",
    "\n",
    "sdf_brand_overview.show(10)\n"
   ]
  },
  {
   "cell_type": "code",
   "execution_count": 86,
   "metadata": {},
   "outputs": [
    {
     "output_type": "stream",
     "name": "stdout",
     "text": [
      "+--------------------+-------------+----------+--------------------+------------------+--------------------+\n|       category_code|sum(turnover)|avg(price)|sum(viewed_quantity)|sum(cart_quantity)|sum(bougth_quantity)|\n+--------------------+-------------+----------+--------------------+------------------+--------------------+\n|furniture.bedroom...|        566.3|    458.83|                   3|                 0|                   1|\n|electronics.smart...|       211.92|    460.79|                  41|                 1|                   1|\n|       apparel.shirt|          0.0|    102.71|                   1|                 0|                   0|\n|electronics.audio...|          0.0|     46.78|                   5|                 0|                   0|\n|appliances.kitche...|          0.0|    519.72|                   4|                 0|                   0|\n|construction.tool...|          0.0|    130.78|                   4|                 0|                   0|\n|       apparel.jeans|          0.0|     45.56|                   3|                 0|                   0|\n|furniture.living_...|          0.0|    168.06|                   1|                 0|                   0|\n|furniture.kitchen...|          0.0|     39.25|                   6|                 0|                   0|\n|auto.accessories....|          0.0|    135.61|                   2|                 0|                   0|\n+--------------------+-------------+----------+--------------------+------------------+--------------------+\nonly showing top 10 rows\n\n"
     ]
    }
   ],
   "source": [
    "sdf_category_code_overview = sdf_raw.groupBy(\"category_code\").agg(f.sum(\"turnover\"), f.avg(\"price\"), f.sum(\"viewed_quantity\"), f.sum(\"cart_quantity\"), f.sum(\"bougth_quantity\")).orderBy(f.desc(\"sum(turnover)\"))\n",
    "sdf_category_code_overview = sdf_category_code_overview.withColumn(\"sum(turnover)\", f.round(sdf_category_code_overview[\"sum(turnover)\"], 2))\n",
    "sdf_category_code_overview = sdf_category_code_overview.withColumn(\"avg(price)\", f.round(sdf_category_code_overview[\"avg(price)\"], 2))\n",
    "\n",
    "sdf_category_code_overview.show(10)\n",
    "\n"
   ]
  },
  {
   "cell_type": "code",
   "execution_count": 87,
   "metadata": {},
   "outputs": [
    {
     "output_type": "stream",
     "name": "stdout",
     "text": [
      "+--------------+-------------+----------+--------------------+------------------+--------------------+\n|category_class|sum(turnover)|avg(price)|sum(viewed_quantity)|sum(cart_quantity)|sum(bougth_quantity)|\n+--------------+-------------+----------+--------------------+------------------+--------------------+\n|     furniture|        566.3|    236.36|                  14|                 0|                   1|\n|   electronics|       211.92|    439.44|                  60|                 1|                   1|\n|     computers|          0.0|    786.77|                  25|                 0|                   0|\n|          auto|          0.0|    178.69|                   9|                 0|                   0|\n|          null|          0.0|    142.51|                  96|                 1|                   0|\n|       apparel|          0.0|     52.25|                   6|                 0|                   0|\n|    appliances|          0.0|    323.95|                  20|                 0|                   0|\n|   accessories|          0.0|     48.43|                   1|                 0|                   0|\n|          kids|          0.0|    110.03|                   1|                 0|                   0|\n|  construction|          0.0|     110.1|                   8|                 0|                   0|\n+--------------+-------------+----------+--------------------+------------------+--------------------+\n\n"
     ]
    }
   ],
   "source": [
    " sdf_category_class_overview = sdf_raw.groupBy(\"category_class\").agg(f.sum(\"turnover\"), f.avg(\"price\"), f.sum(\"viewed_quantity\"), f.sum(\"cart_quantity\"), f.sum(\"bougth_quantity\")).orderBy(f.desc(\"sum(turnover)\"))\n",
    "sdf_category_class_overview = sdf_category_class_overview.withColumn(\"sum(turnover)\", f.round(sdf_category_class_overview[\"sum(turnover)\"], 2))\n",
    "sdf_category_class_overview = sdf_category_class_overview.withColumn(\"avg(price)\", f.round(sdf_category_class_overview[\"avg(price)\"], 2))\n",
    "\n",
    "sdf_category_class_overview.show(10)\n"
   ]
  },
  {
   "cell_type": "markdown",
   "metadata": {
    "pycharm": {
     "name": "#%% md\n"
    }
   },
   "source": [
    "### Event_Type and Price\n",
    "The following plot represents the distribution of the price within the event_type."
   ]
  },
  {
   "cell_type": "markdown",
   "metadata": {},
   "source": [
    "### User analysis\n",
    "\n",
    "Overview:\n",
    "- How many sessions does a user have on average?\n",
    "- How many products does a user buy / view / put in cart on average?\n",
    "- How many interactions does a user have within one session on average?\n",
    "- Avrg Sessions per (Week)Day => Boxplot?\n"
   ]
  },
  {
   "cell_type": "markdown",
   "source": [
    "#### How many sessions does a user have on average?"
   ],
   "metadata": {
    "collapsed": false
   }
  },
  {
   "cell_type": "code",
   "execution_count": 54,
   "outputs": [
    {
     "output_type": "stream",
     "name": "stdout",
     "text": [
      "+-------+-----------------+\n|summary|            count|\n+-------+-----------------+\n|  count|          5316649|\n|   mean|4.329343915688247|\n| stddev|16.38290912513072|\n|    min|                1|\n|    max|            22542|\n+-------+-----------------+\n\n"
     ]
    }
   ],
   "source": [
    "sdf_agg_user = sdf_raw.select(\"user_id\", \"user_session\").distinct().groupBy(\"user_id\").count()\n",
    "sdf_agg_user.select(\"count\").describe().show()"
   ],
   "metadata": {
    "collapsed": false,
    "pycharm": {
     "name": "#%%\n"
    }
   }
  },
  {
   "cell_type": "code",
   "execution_count": 55,
   "outputs": [
    {
     "output_type": "stream",
     "name": "stdout",
     "text": [
      "Statistical distribution of Sessions per User in October\n",
      "+-------+-----------------+\n",
      "|summary|            count|\n",
      "+-------+-----------------+\n",
      "|  count|          3021907|\n",
      "|   mean|3.058779439605521|\n",
      "| stddev|6.757104875132899|\n",
      "|    min|                1|\n",
      "|    max|             7400|\n",
      "+-------+-----------------+\n",
      "\n",
      "Statistical distribution of Sessions per User in November\n",
      "+-------+------------------+\n",
      "|summary|             count|\n",
      "+-------+------------------+\n",
      "|  count|           3696011|\n",
      "|   mean| 3.727345508441398|\n",
      "| stddev|17.042089468107456|\n",
      "|    min|                 1|\n",
      "|    max|             22542|\n",
      "+-------+------------------+\n",
      "\n"
     ]
    }
   ],
   "source": [
    "print(\"Statistical distribution of Sessions per User in October\")\n",
    "sdf_agg_user_mnth = sdf_raw.select(\"user_id\", \"user_session\", \"month\").distinct().groupBy(\"user_id\", \"month\").count()\n",
    "sdf_agg_user_mnth.where(sdf_agg_user_mnth.month == 10).select(\"count\").describe().show()\n",
    "\n",
    "print(\"Statistical distribution of Sessions per User in November\")\n",
    "sdf_agg_user_mnth = sdf_raw.select(\"user_id\", \"user_session\", \"month\").distinct().groupBy(\"user_id\", \"month\").count()\n",
    "sdf_agg_user_mnth.where(sdf_agg_user_mnth.month == 11).select(\"count\").describe().show()"
   ],
   "metadata": {
    "collapsed": false,
    "pycharm": {
     "name": "#%%\n"
    }
   }
  },
  {
   "cell_type": "markdown",
   "source": [
    "#### How many products does a user buy / view / put in cart on average?"
   ],
   "metadata": {
    "collapsed": false
   }
  },
  {
   "cell_type": "code",
   "execution_count": 56,
   "outputs": [
    {
     "output_type": "stream",
     "name": "stdout",
     "text": [
      "  event_type      count\n0   purchase   0.312187\n1       view  19.624299\n2       cart   0.743974\n"
     ]
    }
   ],
   "source": [
    "sdf_amount_events = sdf_raw.select(\"user_id\", \"event_type\").groupBy(\"event_type\").count()\n",
    "amount_usr = sdf_raw.select(\"user_id\").distinct().count()\n",
    "pdf_avrg_events_usr = sdf_amount_events.toPandas()\n",
    "\n",
    "pdf_avrg_events_usr[\"count\"] = pdf_avrg_events_usr[\"count\"].div(amount_usr)\n",
    "print(pdf_avrg_events_usr)"
   ],
   "metadata": {
    "collapsed": false,
    "pycharm": {
     "name": "#%%\n"
    }
   }
  },
  {
   "cell_type": "markdown",
   "source": [
    "A user views on average XX item, puts XX items in their cart and buys XX items.\n"
   ],
   "metadata": {
    "collapsed": false
   }
  },
  {
   "cell_type": "code",
   "execution_count": 57,
   "outputs": [
    {
     "output_type": "stream",
     "name": "stdout",
     "text": [
      "The most active user has the ID 568778435 with a total of 22929 interactions.\n"
     ]
    }
   ],
   "source": [
    "sdf_agg_user_type = sdf_raw.select(\"user_id\", \"event_type\").groupBy(\"user_id\").count()\n",
    "most_active_user = sdf_agg_user_type.sort(\"count\", ascending=False).take(1)\n",
    "\n",
    "print(f\"The most active user has the ID {most_active_user[0][0]} with a total of {most_active_user[0][1]} interactions.\")"
   ],
   "metadata": {
    "collapsed": false,
    "pycharm": {
     "name": "#%%\n"
    }
   }
  },
  {
   "cell_type": "markdown",
   "source": [
    "#### How many interactions does a user have within one session on average? - done"
   ],
   "metadata": {
    "collapsed": false
   }
  },
  {
   "cell_type": "code",
   "execution_count": 58,
   "outputs": [
    {
     "output_type": "stream",
     "name": "stdout",
     "text": [
      "Average amount of views per session:\n",
      "+-----------------+\n",
      "|       avg(count)|\n",
      "+-----------------+\n",
      "|4.535221658828069|\n",
      "+-----------------+\n",
      "\n",
      "Average amount of 'Add to Cart' per session:\n",
      "+------------------+\n",
      "|        avg(count)|\n",
      "+------------------+\n",
      "|1.7075589926408405|\n",
      "+------------------+\n",
      "\n",
      "Average amount of purchases per session:\n",
      "+-----------------+\n",
      "|       avg(count)|\n",
      "+-----------------+\n",
      "|1.183231890318929|\n",
      "+-----------------+\n",
      "\n"
     ]
    }
   ],
   "source": [
    "sdf_amount_interactions_per_sess = sdf_raw.select(\"user_session\", \"event_type\").groupBy(\"user_session\", \"event_type\").count()\n",
    "# sdf_amount_interactions_per_sess.show()\n",
    "print(\"Average amount of views per session:\")\n",
    "sdf_amount_interactions_per_sess.where(sdf_amount_interactions_per_sess.event_type == \"view\").agg({\"count\":\"mean\"}).show()\n",
    "print(\"Average amount of 'Add to Cart' per session:\")\n",
    "sdf_amount_interactions_per_sess.where(sdf_amount_interactions_per_sess.event_type == \"cart\").agg({\"count\":\"mean\"}).show()\n",
    "print(\"Average amount of purchases per session:\")\n",
    "sdf_amount_interactions_per_sess.where(sdf_amount_interactions_per_sess.event_type == \"purchase\").agg({\"count\":\"mean\"}).show()"
   ],
   "metadata": {
    "collapsed": false,
    "pycharm": {
     "name": "#%%\n"
    }
   }
  },
  {
   "cell_type": "markdown",
   "source": [
    "#### Avrg Sessions per week day"
   ],
   "metadata": {
    "collapsed": false
   }
  },
  {
   "cell_type": "code",
   "execution_count": 59,
   "outputs": [
    {
     "output_type": "display_data",
     "data": {
      "application/vnd.plotly.v1+json": {
       "config": {
        "plotlyServerURL": "https://plot.ly"
       },
       "data": [
        {
         "alignmentgroup": "True",
         "hovertemplate": "dayofweek=%{x}<br>count=%{y}<extra></extra>",
         "legendgroup": "",
         "marker": {
          "color": "#636efa"
         },
         "name": "",
         "notched": false,
         "offsetgroup": "",
         "orientation": "v",
         "showlegend": false,
         "type": "box",
         "x": [
          1,
          2,
          3,
          5,
          2,
          3,
          6,
          5,
          5,
          2,
          4,
          4,
          6,
          2,
          6,
          7,
          7,
          1,
          1,
          3,
          4,
          7,
          1,
          6,
          1,
          3,
          3,
          7,
          5,
          4,
          3,
          7,
          7,
          5,
          6,
          1,
          6,
          4,
          4,
          4,
          1,
          6,
          2,
          1,
          1,
          4,
          5,
          7,
          6,
          2,
          5,
          7,
          2,
          7,
          3,
          3,
          6,
          2,
          3,
          5,
          5,
          4
         ],
         "x0": " ",
         "xaxis": "x",
         "y": [
          1567336,
          1202095,
          1987062,
          1282164,
          1404701,
          1228801,
          1480488,
          1125472,
          1406134,
          2009730,
          1694232,
          1521948,
          1415900,
          1260293,
          1894738,
          1347303,
          6483411,
          1591676,
          1321393,
          1421758,
          1377511,
          1478092,
          1399681,
          1444670,
          9953,
          1230402,
          1542742,
          1328554,
          3029300,
          1210241,
          1718997,
          1561616,
          1877483,
          1795711,
          1855394,
          1641000,
          1496142,
          1700288,
          1646928,
          2019207,
          6415881,
          1567387,
          1794104,
          1941672,
          1512873,
          1192377,
          1656152,
          1446691,
          6258823,
          1594372,
          1678421,
          1754147,
          1455555,
          1553976,
          1727605,
          1654487,
          1433828,
          2024442,
          1369372,
          1316581,
          1244765,
          1346685
         ],
         "y0": " ",
         "yaxis": "y"
        }
       ],
       "layout": {
        "boxmode": "group",
        "legend": {
         "tracegroupgap": 0
        },
        "template": {
         "data": {
          "bar": [
           {
            "error_x": {
             "color": "#2a3f5f"
            },
            "error_y": {
             "color": "#2a3f5f"
            },
            "marker": {
             "line": {
              "color": "#E5ECF6",
              "width": 0.5
             }
            },
            "type": "bar"
           }
          ],
          "barpolar": [
           {
            "marker": {
             "line": {
              "color": "#E5ECF6",
              "width": 0.5
             }
            },
            "type": "barpolar"
           }
          ],
          "carpet": [
           {
            "aaxis": {
             "endlinecolor": "#2a3f5f",
             "gridcolor": "white",
             "linecolor": "white",
             "minorgridcolor": "white",
             "startlinecolor": "#2a3f5f"
            },
            "baxis": {
             "endlinecolor": "#2a3f5f",
             "gridcolor": "white",
             "linecolor": "white",
             "minorgridcolor": "white",
             "startlinecolor": "#2a3f5f"
            },
            "type": "carpet"
           }
          ],
          "choropleth": [
           {
            "colorbar": {
             "outlinewidth": 0,
             "ticks": ""
            },
            "type": "choropleth"
           }
          ],
          "contour": [
           {
            "colorbar": {
             "outlinewidth": 0,
             "ticks": ""
            },
            "colorscale": [
             [
              0,
              "#0d0887"
             ],
             [
              0.1111111111111111,
              "#46039f"
             ],
             [
              0.2222222222222222,
              "#7201a8"
             ],
             [
              0.3333333333333333,
              "#9c179e"
             ],
             [
              0.4444444444444444,
              "#bd3786"
             ],
             [
              0.5555555555555556,
              "#d8576b"
             ],
             [
              0.6666666666666666,
              "#ed7953"
             ],
             [
              0.7777777777777778,
              "#fb9f3a"
             ],
             [
              0.8888888888888888,
              "#fdca26"
             ],
             [
              1,
              "#f0f921"
             ]
            ],
            "type": "contour"
           }
          ],
          "contourcarpet": [
           {
            "colorbar": {
             "outlinewidth": 0,
             "ticks": ""
            },
            "type": "contourcarpet"
           }
          ],
          "heatmap": [
           {
            "colorbar": {
             "outlinewidth": 0,
             "ticks": ""
            },
            "colorscale": [
             [
              0,
              "#0d0887"
             ],
             [
              0.1111111111111111,
              "#46039f"
             ],
             [
              0.2222222222222222,
              "#7201a8"
             ],
             [
              0.3333333333333333,
              "#9c179e"
             ],
             [
              0.4444444444444444,
              "#bd3786"
             ],
             [
              0.5555555555555556,
              "#d8576b"
             ],
             [
              0.6666666666666666,
              "#ed7953"
             ],
             [
              0.7777777777777778,
              "#fb9f3a"
             ],
             [
              0.8888888888888888,
              "#fdca26"
             ],
             [
              1,
              "#f0f921"
             ]
            ],
            "type": "heatmap"
           }
          ],
          "heatmapgl": [
           {
            "colorbar": {
             "outlinewidth": 0,
             "ticks": ""
            },
            "colorscale": [
             [
              0,
              "#0d0887"
             ],
             [
              0.1111111111111111,
              "#46039f"
             ],
             [
              0.2222222222222222,
              "#7201a8"
             ],
             [
              0.3333333333333333,
              "#9c179e"
             ],
             [
              0.4444444444444444,
              "#bd3786"
             ],
             [
              0.5555555555555556,
              "#d8576b"
             ],
             [
              0.6666666666666666,
              "#ed7953"
             ],
             [
              0.7777777777777778,
              "#fb9f3a"
             ],
             [
              0.8888888888888888,
              "#fdca26"
             ],
             [
              1,
              "#f0f921"
             ]
            ],
            "type": "heatmapgl"
           }
          ],
          "histogram": [
           {
            "marker": {
             "colorbar": {
              "outlinewidth": 0,
              "ticks": ""
             }
            },
            "type": "histogram"
           }
          ],
          "histogram2d": [
           {
            "colorbar": {
             "outlinewidth": 0,
             "ticks": ""
            },
            "colorscale": [
             [
              0,
              "#0d0887"
             ],
             [
              0.1111111111111111,
              "#46039f"
             ],
             [
              0.2222222222222222,
              "#7201a8"
             ],
             [
              0.3333333333333333,
              "#9c179e"
             ],
             [
              0.4444444444444444,
              "#bd3786"
             ],
             [
              0.5555555555555556,
              "#d8576b"
             ],
             [
              0.6666666666666666,
              "#ed7953"
             ],
             [
              0.7777777777777778,
              "#fb9f3a"
             ],
             [
              0.8888888888888888,
              "#fdca26"
             ],
             [
              1,
              "#f0f921"
             ]
            ],
            "type": "histogram2d"
           }
          ],
          "histogram2dcontour": [
           {
            "colorbar": {
             "outlinewidth": 0,
             "ticks": ""
            },
            "colorscale": [
             [
              0,
              "#0d0887"
             ],
             [
              0.1111111111111111,
              "#46039f"
             ],
             [
              0.2222222222222222,
              "#7201a8"
             ],
             [
              0.3333333333333333,
              "#9c179e"
             ],
             [
              0.4444444444444444,
              "#bd3786"
             ],
             [
              0.5555555555555556,
              "#d8576b"
             ],
             [
              0.6666666666666666,
              "#ed7953"
             ],
             [
              0.7777777777777778,
              "#fb9f3a"
             ],
             [
              0.8888888888888888,
              "#fdca26"
             ],
             [
              1,
              "#f0f921"
             ]
            ],
            "type": "histogram2dcontour"
           }
          ],
          "mesh3d": [
           {
            "colorbar": {
             "outlinewidth": 0,
             "ticks": ""
            },
            "type": "mesh3d"
           }
          ],
          "parcoords": [
           {
            "line": {
             "colorbar": {
              "outlinewidth": 0,
              "ticks": ""
             }
            },
            "type": "parcoords"
           }
          ],
          "pie": [
           {
            "automargin": true,
            "type": "pie"
           }
          ],
          "scatter": [
           {
            "marker": {
             "colorbar": {
              "outlinewidth": 0,
              "ticks": ""
             }
            },
            "type": "scatter"
           }
          ],
          "scatter3d": [
           {
            "line": {
             "colorbar": {
              "outlinewidth": 0,
              "ticks": ""
             }
            },
            "marker": {
             "colorbar": {
              "outlinewidth": 0,
              "ticks": ""
             }
            },
            "type": "scatter3d"
           }
          ],
          "scattercarpet": [
           {
            "marker": {
             "colorbar": {
              "outlinewidth": 0,
              "ticks": ""
             }
            },
            "type": "scattercarpet"
           }
          ],
          "scattergeo": [
           {
            "marker": {
             "colorbar": {
              "outlinewidth": 0,
              "ticks": ""
             }
            },
            "type": "scattergeo"
           }
          ],
          "scattergl": [
           {
            "marker": {
             "colorbar": {
              "outlinewidth": 0,
              "ticks": ""
             }
            },
            "type": "scattergl"
           }
          ],
          "scattermapbox": [
           {
            "marker": {
             "colorbar": {
              "outlinewidth": 0,
              "ticks": ""
             }
            },
            "type": "scattermapbox"
           }
          ],
          "scatterpolar": [
           {
            "marker": {
             "colorbar": {
              "outlinewidth": 0,
              "ticks": ""
             }
            },
            "type": "scatterpolar"
           }
          ],
          "scatterpolargl": [
           {
            "marker": {
             "colorbar": {
              "outlinewidth": 0,
              "ticks": ""
             }
            },
            "type": "scatterpolargl"
           }
          ],
          "scatterternary": [
           {
            "marker": {
             "colorbar": {
              "outlinewidth": 0,
              "ticks": ""
             }
            },
            "type": "scatterternary"
           }
          ],
          "surface": [
           {
            "colorbar": {
             "outlinewidth": 0,
             "ticks": ""
            },
            "colorscale": [
             [
              0,
              "#0d0887"
             ],
             [
              0.1111111111111111,
              "#46039f"
             ],
             [
              0.2222222222222222,
              "#7201a8"
             ],
             [
              0.3333333333333333,
              "#9c179e"
             ],
             [
              0.4444444444444444,
              "#bd3786"
             ],
             [
              0.5555555555555556,
              "#d8576b"
             ],
             [
              0.6666666666666666,
              "#ed7953"
             ],
             [
              0.7777777777777778,
              "#fb9f3a"
             ],
             [
              0.8888888888888888,
              "#fdca26"
             ],
             [
              1,
              "#f0f921"
             ]
            ],
            "type": "surface"
           }
          ],
          "table": [
           {
            "cells": {
             "fill": {
              "color": "#EBF0F8"
             },
             "line": {
              "color": "white"
             }
            },
            "header": {
             "fill": {
              "color": "#C8D4E3"
             },
             "line": {
              "color": "white"
             }
            },
            "type": "table"
           }
          ]
         },
         "layout": {
          "annotationdefaults": {
           "arrowcolor": "#2a3f5f",
           "arrowhead": 0,
           "arrowwidth": 1
          },
          "autotypenumbers": "strict",
          "coloraxis": {
           "colorbar": {
            "outlinewidth": 0,
            "ticks": ""
           }
          },
          "colorscale": {
           "diverging": [
            [
             0,
             "#8e0152"
            ],
            [
             0.1,
             "#c51b7d"
            ],
            [
             0.2,
             "#de77ae"
            ],
            [
             0.3,
             "#f1b6da"
            ],
            [
             0.4,
             "#fde0ef"
            ],
            [
             0.5,
             "#f7f7f7"
            ],
            [
             0.6,
             "#e6f5d0"
            ],
            [
             0.7,
             "#b8e186"
            ],
            [
             0.8,
             "#7fbc41"
            ],
            [
             0.9,
             "#4d9221"
            ],
            [
             1,
             "#276419"
            ]
           ],
           "sequential": [
            [
             0,
             "#0d0887"
            ],
            [
             0.1111111111111111,
             "#46039f"
            ],
            [
             0.2222222222222222,
             "#7201a8"
            ],
            [
             0.3333333333333333,
             "#9c179e"
            ],
            [
             0.4444444444444444,
             "#bd3786"
            ],
            [
             0.5555555555555556,
             "#d8576b"
            ],
            [
             0.6666666666666666,
             "#ed7953"
            ],
            [
             0.7777777777777778,
             "#fb9f3a"
            ],
            [
             0.8888888888888888,
             "#fdca26"
            ],
            [
             1,
             "#f0f921"
            ]
           ],
           "sequentialminus": [
            [
             0,
             "#0d0887"
            ],
            [
             0.1111111111111111,
             "#46039f"
            ],
            [
             0.2222222222222222,
             "#7201a8"
            ],
            [
             0.3333333333333333,
             "#9c179e"
            ],
            [
             0.4444444444444444,
             "#bd3786"
            ],
            [
             0.5555555555555556,
             "#d8576b"
            ],
            [
             0.6666666666666666,
             "#ed7953"
            ],
            [
             0.7777777777777778,
             "#fb9f3a"
            ],
            [
             0.8888888888888888,
             "#fdca26"
            ],
            [
             1,
             "#f0f921"
            ]
           ]
          },
          "colorway": [
           "#636efa",
           "#EF553B",
           "#00cc96",
           "#ab63fa",
           "#FFA15A",
           "#19d3f3",
           "#FF6692",
           "#B6E880",
           "#FF97FF",
           "#FECB52"
          ],
          "font": {
           "color": "#2a3f5f"
          },
          "geo": {
           "bgcolor": "white",
           "lakecolor": "white",
           "landcolor": "#E5ECF6",
           "showlakes": true,
           "showland": true,
           "subunitcolor": "white"
          },
          "hoverlabel": {
           "align": "left"
          },
          "hovermode": "closest",
          "mapbox": {
           "style": "light"
          },
          "paper_bgcolor": "white",
          "plot_bgcolor": "#E5ECF6",
          "polar": {
           "angularaxis": {
            "gridcolor": "white",
            "linecolor": "white",
            "ticks": ""
           },
           "bgcolor": "#E5ECF6",
           "radialaxis": {
            "gridcolor": "white",
            "linecolor": "white",
            "ticks": ""
           }
          },
          "scene": {
           "xaxis": {
            "backgroundcolor": "#E5ECF6",
            "gridcolor": "white",
            "gridwidth": 2,
            "linecolor": "white",
            "showbackground": true,
            "ticks": "",
            "zerolinecolor": "white"
           },
           "yaxis": {
            "backgroundcolor": "#E5ECF6",
            "gridcolor": "white",
            "gridwidth": 2,
            "linecolor": "white",
            "showbackground": true,
            "ticks": "",
            "zerolinecolor": "white"
           },
           "zaxis": {
            "backgroundcolor": "#E5ECF6",
            "gridcolor": "white",
            "gridwidth": 2,
            "linecolor": "white",
            "showbackground": true,
            "ticks": "",
            "zerolinecolor": "white"
           }
          },
          "shapedefaults": {
           "line": {
            "color": "#2a3f5f"
           }
          },
          "ternary": {
           "aaxis": {
            "gridcolor": "white",
            "linecolor": "white",
            "ticks": ""
           },
           "baxis": {
            "gridcolor": "white",
            "linecolor": "white",
            "ticks": ""
           },
           "bgcolor": "#E5ECF6",
           "caxis": {
            "gridcolor": "white",
            "linecolor": "white",
            "ticks": ""
           }
          },
          "title": {
           "x": 0.05
          },
          "xaxis": {
           "automargin": true,
           "gridcolor": "white",
           "linecolor": "white",
           "ticks": "",
           "title": {
            "standoff": 15
           },
           "zerolinecolor": "white",
           "zerolinewidth": 2
          },
          "yaxis": {
           "automargin": true,
           "gridcolor": "white",
           "linecolor": "white",
           "ticks": "",
           "title": {
            "standoff": 15
           },
           "zerolinecolor": "white",
           "zerolinewidth": 2
          }
         }
        },
        "title": {
         "text": "Average Sessions per Weekday"
        },
        "xaxis": {
         "anchor": "y",
         "domain": [
          0,
          1
         ],
         "title": {
          "text": "Day of Week"
         }
        },
        "yaxis": {
         "anchor": "x",
         "domain": [
          0,
          1
         ],
         "title": {
          "text": "count"
         }
        }
       }
      }
     },
     "metadata": {}
    }
   ],
   "source": [
    "# User session distribution over every day of week\n",
    "\n",
    "sdf_usr_ses_dist_week = sdf_raw.select(\"user_session\", \"dayofyear\", \"dayofweek\").groupBy(\"user_session\",\"dayofyear\",\"dayofweek\").count()\n",
    "pdf_usr_sess_time_dist = sdf_usr_ses_dist_week.toPandas()\n",
    "fig_usr_time = px.box(pdf_usr_sess_time_dist, x=\"dayofweek\", y=\"Session\", title=\"Average Sessions per Weekday\")\n",
    "fig_usr_time.update_layout(\n",
    "    xaxis_title=\"Day of Week\"\n",
    ")"
   ],
   "metadata": {
    "collapsed": false,
    "pycharm": {
     "name": "#%%\n"
    }
   }
  },
  {
   "source": [
    "### Unique sessions each month"
   ],
   "cell_type": "markdown",
   "metadata": {}
  },
  {
   "cell_type": "code",
   "execution_count": null,
   "metadata": {},
   "outputs": [],
   "source": [
    "sdf_ses_by_mnth = sdf_raw.select(\"user_session\", \"month\").distinct().groupby(\"month\").count()\n",
    "\n",
    "pdf_usr_ses_by_mnth = sdf_ses_by_mnth.toPandas()\n",
    "pdf_usr_ses_by_mnth = pdf_usr_ses_by_mnth[pdf_usr_ses_by_mnth.month != 12]\n",
    "pdf_usr_ses_by_mnth.month = pdf_usr_id_by_mnth.month.astype(str)\n",
    "px.bar(pdf_usr_id_by_mnth, x=\"month\", y=\"count\", title=\"Unique sessions each month\")"
   ]
  },
  {
   "source": [
    "#### User and turnover"
   ],
   "cell_type": "markdown",
   "metadata": {}
  },
  {
   "cell_type": "code",
   "execution_count": 94,
   "metadata": {},
   "outputs": [
    {
     "output_type": "stream",
     "name": "stdout",
     "text": [
      "+---------+-------------+-------------------+--------------------+------------------+--------------------+\n|  user_id|sum(turnover)|count(user_session)|sum(viewed_quantity)|sum(cart_quantity)|sum(bougth_quantity)|\n+---------+-------------+-------------------+--------------------+------------------+--------------------+\n|559368633|        566.3|                  3|                   2|                 0|                   1|\n|513351129|       211.92|                  2|                   1|                 0|                   1|\n|518045858|          0.0|                  2|                   2|                 0|                   0|\n|512651494|          0.0|                  2|                   2|                 0|                   0|\n|566280399|          0.0|                  1|                   1|                 0|                   0|\n|519041881|          0.0|                  1|                   1|                 0|                   0|\n|564599988|          0.0|                  3|                   3|                 0|                   0|\n|515240495|          0.0|                  1|                   1|                 0|                   0|\n|515782589|          0.0|                  1|                   1|                 0|                   0|\n|518398361|          0.0|                  1|                   1|                 0|                   0|\n+---------+-------------+-------------------+--------------------+------------------+--------------------+\nonly showing top 10 rows\n\n"
     ]
    }
   ],
   "source": [
    "sdf_user_overview = sdf_raw.groupBy(\"user_id\").agg(f.sum(\"turnover\"), f.count(\"user_session\"), f.sum(\"viewed_quantity\"), f.sum(\"cart_quantity\"), f.sum(\"bougth_quantity\")).orderBy(f.desc(\"sum(turnover)\"))                                \n",
    "sdf_user_overview.show(10)"
   ]
  },
  {
   "source": [
    "### session analysis\n",
    "\n"
   ],
   "cell_type": "markdown",
   "metadata": {}
  },
  {
   "source": [
    "- number of events\n",
    "- session_start_time\n",
    "- session_stop_time\n",
    "- session_success\n",
    "- products_bought\n",
    "- products_viewed\n",
    "- turnover\n"
   ],
   "cell_type": "markdown",
   "metadata": {}
  },
  {
   "cell_type": "code",
   "execution_count": 61,
   "metadata": {},
   "outputs": [],
   "source": [
    "sdf_session = sdf.select(\"user_id\", \"user_session\", \"event_type\", \"product_id\", \"price\", \"event_time\") #.orderBy(\"user_id\", \"user_session\")"
   ]
  },
  {
   "cell_type": "code",
   "execution_count": 62,
   "metadata": {},
   "outputs": [],
   "source": [
    "sdf_session = sdf_session.withColumn(\"views\", f.when(sdf_session.event_type == \"view\", 1).otherwise(0))\n",
    "sdf_session = sdf_session.withColumn(\"purchases\", f.when(sdf_session.event_type == \"purchase\", 1).otherwise(0))\n",
    "sdf_session = sdf_session.withColumn(\"carts\", f.when(sdf_session.event_type == \"cart\", 1).otherwise(0))\n",
    "sdf_session = sdf_session.withColumn(\"turnover\", f.when(sdf_session.event_type == \"purchase\", sdf_session[\"price\"]).otherwise(0))\n",
    "\n",
    "sdf_session = sdf_session.withColumn(\"first_event\", sdf_session.event_time)\n",
    "sdf_session = sdf_session.withColumn(\"last_event\", sdf_session.event_time)"
   ]
  },
  {
   "cell_type": "code",
   "execution_count": 63,
   "metadata": {},
   "outputs": [],
   "source": [
    "sdf_session_agg = sdf_session.groupBy(\"user_id\", \"user_session\").agg(f.sum(\"turnover\"), f.sum(\"views\"), f.sum(\"purchases\"), f.sum(\"carts\"), f.min(\"event_time\"), f.max(\"event_time\"))\n",
    "sdf_session_agg = sdf_session_agg.withColumn(\"duration\", (sdf_session_agg[\"max(event_time)\"] - sdf_session_agg[\"min(event_time)\"]))\n",
    "sdf_session_agg = sdf_session_agg.withColumn(\"sum(events)\", (sdf_session_agg[\"sum(views)\"] + sdf_session_agg[\"sum(purchases)\"] + sdf_session_agg[\"sum(carts)\"]))\n",
    "sdf_session_agg = sdf_session_agg.withColumn(\"turnover\", f.when(sdf_session_agg[\"sum(purchases)\"] > 0, (sdf_session_agg[\"sum(purchases)\"] *  sdf_session_agg[\"sum(turnover)\"])).otherwise(0))\n",
    "\n",
    "sdf_session_agg = sdf_session_agg.withColumn(\"successfull\", f.when(sdf_session_agg[\"sum(purchases)\"] > 0, 1).otherwise(0))"
   ]
  },
  {
   "cell_type": "code",
   "execution_count": 64,
   "metadata": {},
   "outputs": [
    {
     "output_type": "stream",
     "name": "stdout",
     "text": [
      "root\n |-- user_id: string (nullable = true)\n |-- user_session: string (nullable = true)\n |-- sum(turnover): double (nullable = true)\n |-- sum(views): long (nullable = true)\n |-- sum(purchases): long (nullable = true)\n |-- sum(carts): long (nullable = true)\n |-- min(event_time): timestamp (nullable = true)\n |-- max(event_time): timestamp (nullable = true)\n |-- duration: interval (nullable = true)\n |-- sum(events): long (nullable = true)\n |-- turnover: double (nullable = true)\n |-- successfull: integer (nullable = false)\n\n"
     ]
    }
   ],
   "source": [
    "sdf_session_agg.printSchema()"
   ]
  },
  {
   "cell_type": "code",
   "execution_count": 65,
   "metadata": {},
   "outputs": [
    {
     "output_type": "stream",
     "name": "stdout",
     "text": [
      "+---------+--------------------+-------------+----------+--------------+----------+-------------------+-------------------+--------------------+-----------+--------+-----------+\n|  user_id|        user_session|sum(turnover)|sum(views)|sum(purchases)|sum(carts)|    min(event_time)|    max(event_time)|            duration|sum(events)|turnover|successfull|\n+---------+--------------------+-------------+----------+--------------+----------+-------------------+-------------------+--------------------+-----------+--------+-----------+\n|513714706|46db4ccb-9e24-4a1...|          0.0|         1|             0|         0|2019-10-01 04:18:39|2019-10-01 04:18:39|           0 seconds|          1|     0.0|          0|\n|513733456|16d54a72-0afc-4fb...|          0.0|         6|             0|         0|2019-10-01 04:20:35|2019-10-01 04:32:06|11 minutes 31 sec...|          6|     0.0|          0|\n|512553095|404a4a56-3aac-408...|          0.0|         4|             0|         0|2019-10-01 04:22:00|2019-10-01 04:23:25|1 minutes 25 seconds|          4|     0.0|          0|\n|546370010|f17c0638-ba23-468...|          0.0|         5|             0|         0|2019-10-01 04:23:31|2019-10-01 04:25:52|2 minutes 21 seconds|          5|     0.0|          0|\n|549811725|ff5dad2d-1418-47c...|          0.0|         2|             0|         0|2019-10-01 04:24:38|2019-10-01 04:26:03|1 minutes 25 seconds|          2|     0.0|          0|\n|545803882|90222c7f-e14b-472...|       185.08|        10|             1|         0|2019-10-01 04:27:12|2019-10-01 04:49:56|22 minutes 44 sec...|         11|  185.08|          1|\n|524102815|e7382057-39be-476...|       223.43|         1|             1|         0|2019-10-01 04:27:22|2019-10-01 04:30:44|3 minutes 22 seconds|          2|  223.43|          1|\n|555129192|65468bc2-5ce0-4de...|          0.0|         9|             0|         0|2019-10-01 04:28:51|2019-10-02 04:37:03|24 hours 8 minute...|          9|     0.0|          0|\n|522959877|f440487c-9a86-452...|          0.0|         1|             0|         0|2019-10-01 04:29:31|2019-10-01 04:29:31|           0 seconds|          1|     0.0|          0|\n|551456160|c6ea65c5-86c7-44b...|          0.0|         5|             0|         0|2019-10-01 04:30:40|2019-10-01 04:31:35|          55 seconds|          5|     0.0|          0|\n|553428874|268eac90-33d5-475...|          0.0|         1|             0|         0|2019-10-01 04:31:30|2019-10-01 04:31:30|           0 seconds|          1|     0.0|          0|\n|513194193|4bd689a1-d939-405...|          0.0|        13|             0|         0|2019-10-01 04:33:00|2019-10-01 04:40:52|7 minutes 52 seconds|         13|     0.0|          0|\n|537112281|26d05444-5c44-4ef...|          0.0|         2|             0|         0|2019-10-01 04:34:49|2019-10-01 04:35:30|          41 seconds|          2|     0.0|          0|\n|515256034|583dddf1-9343-4ce...|          0.0|         4|             0|         0|2019-10-01 04:35:25|2019-10-01 04:39:18|3 minutes 53 seconds|          4|     0.0|          0|\n|551352669|ea650606-ae00-4e9...|          0.0|         4|             0|         0|2019-10-01 04:37:08|2019-10-01 04:38:03|          55 seconds|          4|     0.0|          0|\n|530487829|21234c6a-9cbd-43a...|          0.0|         3|             0|         0|2019-10-01 04:37:33|2019-10-01 04:39:23|1 minutes 50 seconds|          3|     0.0|          0|\n|554291657|a749db7b-c9d5-4bc...|          0.0|         5|             0|         0|2019-10-01 04:37:47|2019-10-01 04:43:46|5 minutes 59 seconds|          5|     0.0|          0|\n|519589854|da366db2-c0e4-4dd...|          0.0|         2|             0|         0|2019-10-01 04:37:50|2019-10-01 04:39:11|1 minutes 21 seconds|          2|     0.0|          0|\n|522637243|bea6f7d5-9a7d-421...|          0.0|         1|             0|         0|2019-10-01 04:40:01|2019-10-01 04:40:01|           0 seconds|          1|     0.0|          0|\n|520744547|69f99b06-b514-499...|          0.0|         1|             0|         0|2019-10-01 04:40:33|2019-10-01 04:40:33|           0 seconds|          1|     0.0|          0|\n+---------+--------------------+-------------+----------+--------------+----------+-------------------+-------------------+--------------------+-----------+--------+-----------+\nonly showing top 20 rows\n\n"
     ]
    }
   ],
   "source": [
    "sdf_session_agg.show()"
   ]
  },
  {
   "cell_type": "markdown",
   "metadata": {
    "pycharm": {
     "name": "#%% md\n"
    }
   },
   "source": [
    "### Customer Profiles"
   ]
  },
  {
   "source": [
    "In preparation for clustering a customer profile will be created:\n",
    "\n",
    "- customer_id\n",
    "- number_of_view_events\n",
    "- number_of_cart_events\n",
    "- number_of_purchase_events\n",
    "- total_turnover\n",
    "- number_of_bought_items (resolve multiple purchasing events for quantity)\n",
    "- avg_sold_cart\n",
    "- avg_session_time\n",
    "- avg_actions_per_session\n",
    "\n"
   ],
   "cell_type": "markdown",
   "metadata": {}
  },
  {
   "cell_type": "code",
   "execution_count": 66,
   "metadata": {},
   "outputs": [],
   "source": [
    "# time period simply dependend on input data\n",
    "sdf_customer_profile = sdf_session_agg.groupBy(\"user_id\").agg(f.sum(\"sum(events)\"), f.sum(\"sum(views)\"), f.sum(\"sum(purchases)\"), f.sum(\"sum(carts)\"), f.sum(\"turnover\"), f.count(\"user_session\"), f.sum(\"successfull\"))\n",
    "\n",
    "sdf_customer_profile = sdf_customer_profile.withColumn(\"avg_turnover_per_session\", (sdf_customer_profile[\"sum(turnover)\"] / sdf_customer_profile[\"count(user_session)\"]))\n",
    "sdf_customer_profile = sdf_customer_profile.withColumn(\"avg_events_per_session\", (sdf_customer_profile[\"sum(sum(events))\"] / sdf_customer_profile[\"count(user_session)\"]))"
   ]
  },
  {
   "cell_type": "code",
   "execution_count": 67,
   "metadata": {},
   "outputs": [
    {
     "output_type": "stream",
     "name": "stdout",
     "text": [
      "+---------+----------------+---------------+-------------------+---------------+-------------+-------------------+----------------+------------------------+----------------------+\n|  user_id|sum(sum(events))|sum(sum(views))|sum(sum(purchases))|sum(sum(carts))|sum(turnover)|count(user_session)|sum(successfull)|avg_turnover_per_session|avg_events_per_session|\n+---------+----------------+---------------+-------------------+---------------+-------------+-------------------+----------------+------------------------+----------------------+\n|555470175|               1|              1|                  0|              0|          0.0|                  1|               0|                     0.0|                   1.0|\n|551648024|               9|              9|                  0|              0|          0.0|                  2|               0|                     0.0|                   4.5|\n|514094318|               9|              9|                  0|              0|          0.0|                  2|               0|                     0.0|                   4.5|\n|517251370|               1|              1|                  0|              0|          0.0|                  1|               0|                     0.0|                   1.0|\n|513044730|             484|            400|                 32|             52|     17711.57|                119|              27|      148.83672268907563|     4.067226890756302|\n|532334106|              24|             24|                  0|              0|          0.0|                  3|               0|                     0.0|                   8.0|\n|548714103|              25|             25|                  0|              0|          0.0|                  6|               0|                     0.0|     4.166666666666667|\n|513130253|              25|             25|                  0|              0|          0.0|                  7|               0|                     0.0|    3.5714285714285716|\n|513792576|              70|             70|                  0|              0|          0.0|                 19|               0|                     0.0|    3.6842105263157894|\n|520700265|              13|             10|                  2|              1|       365.98|                  3|               2|      121.99333333333334|     4.333333333333333|\n|513800860|               3|              3|                  0|              0|          0.0|                  3|               0|                     0.0|                   1.0|\n|521922056|               1|              1|                  0|              0|          0.0|                  1|               0|                     0.0|                   1.0|\n|556127411|              19|             19|                  0|              0|          0.0|                  1|               0|                     0.0|                  19.0|\n|514013862|             134|            134|                  0|              0|          0.0|                 19|               0|                     0.0|     7.052631578947368|\n|519984900|              20|             18|                  0|              2|          0.0|                  9|               0|                     0.0|    2.2222222222222223|\n|549473770|              13|             10|                  1|              2|       165.24|                  3|               1|      55.080000000000005|     4.333333333333333|\n|527019644|              34|             34|                  0|              0|          0.0|                  7|               0|                     0.0|     4.857142857142857|\n|537180607|              69|             67|                  1|              1|        73.14|                 14|               1|       5.224285714285714|     4.928571428571429|\n|522968015|             128|            126|                  1|              1|      1672.89|                 18|               1|       92.93833333333333|     7.111111111111111|\n|512717111|              80|             78|                  2|              0|      2603.77|                 28|               2|       92.99178571428571|     2.857142857142857|\n+---------+----------------+---------------+-------------------+---------------+-------------+-------------------+----------------+------------------------+----------------------+\nonly showing top 20 rows\n\n"
     ]
    }
   ],
   "source": [
    "sdf_customer_profile.show()"
   ]
  },
  {
   "source": [
    "### Correlation matrix"
   ],
   "cell_type": "markdown",
   "metadata": {}
  },
  {
   "source": [
    "#### Daytime - Correlation Matrix"
   ],
   "cell_type": "markdown",
   "metadata": {}
  },
  {
   "cell_type": "code",
   "execution_count": 95,
   "metadata": {},
   "outputs": [],
   "source": [
    "sdf_corr_time = sdf_raw.select(\"event_time\", \"turnover\", \"bougth_quantity\", \"viewed_quantity\", \"cart_quantity\")\n",
    "sdf_corr_time = sdf_corr_time.withColumn(\"hour\", f.hour(\"event_time\"))"
   ]
  },
  {
   "cell_type": "code",
   "execution_count": 96,
   "metadata": {},
   "outputs": [],
   "source": [
    "sdf_corr_time = sdf_corr_time.withColumn('Morning', f.when((f.col('hour')>=6) & (f.col('hour')<12), f.lit(1)).otherwise(0))\n",
    "sdf_corr_time = sdf_corr_time.withColumn('Afternoon', f.when((f.col('hour')>=12) & (f.col('hour')<18), f.lit(1)).otherwise(0))\n",
    "sdf_corr_time = sdf_corr_time.withColumn('Evening', f.when(f.col('hour') > 18 , f.lit(1)).otherwise(0))\n",
    "sdf_corr_time = sdf_corr_time.withColumn('Night', f.when(f.col('hour') < 6, f.lit(1)).otherwise(0))"
   ]
  },
  {
   "cell_type": "code",
   "execution_count": 97,
   "metadata": {},
   "outputs": [],
   "source": [
    "sdf_corr_time = sdf_corr_time.select(\"Morning\", \"Afternoon\", \"Evening\", \"Night\", \"turnover\", \"bougth_quantity\", \"viewed_quantity\", \"cart_quantity\")"
   ]
  },
  {
   "cell_type": "code",
<<<<<<< HEAD
   "execution_count": 99,
   "metadata": {},
   "outputs": [
    {
     "output_type": "execute_result",
     "data": {
      "text/plain": [
       "<pandas.io.formats.style.Styler at 0x1c9430b5070>"
      ],
      "text/html": "<style  type=\"text/css\" >\n#T_159d5_row0_col0,#T_159d5_row0_col1,#T_159d5_row0_col2,#T_159d5_row0_col3,#T_159d5_row0_col4,#T_159d5_row0_col5,#T_159d5_row0_col6,#T_159d5_row0_col7,#T_159d5_row1_col0,#T_159d5_row1_col2,#T_159d5_row2_col0,#T_159d5_row2_col1,#T_159d5_row2_col2,#T_159d5_row2_col3,#T_159d5_row2_col4,#T_159d5_row2_col5,#T_159d5_row2_col6,#T_159d5_row2_col7,#T_159d5_row3_col0,#T_159d5_row3_col2,#T_159d5_row4_col0,#T_159d5_row4_col2,#T_159d5_row5_col0,#T_159d5_row5_col2,#T_159d5_row6_col0,#T_159d5_row6_col2,#T_159d5_row7_col0,#T_159d5_row7_col2{\n            background-color:  #000000;\n            color:  #f1f1f1;\n        }#T_159d5_row1_col1,#T_159d5_row3_col3,#T_159d5_row4_col4,#T_159d5_row5_col5,#T_159d5_row6_col6,#T_159d5_row7_col7{\n            background-color:  #ff0000;\n            color:  #f1f1f1;\n        }#T_159d5_row1_col3,#T_159d5_row3_col1,#T_159d5_row5_col6,#T_159d5_row6_col4,#T_159d5_row6_col5,#T_159d5_row6_col7,#T_159d5_row7_col6{\n            background-color:  #0000ff;\n            color:  #f1f1f1;\n        }#T_159d5_row1_col4{\n            background-color:  #c2c2ff;\n            color:  #000000;\n        }#T_159d5_row1_col5,#T_159d5_row1_col7{\n            background-color:  #ceceff;\n            color:  #000000;\n        }#T_159d5_row1_col6{\n            background-color:  #dadaff;\n            color:  #000000;\n        }#T_159d5_row3_col4,#T_159d5_row3_col6{\n            background-color:  #ccccff;\n            color:  #000000;\n        }#T_159d5_row3_col5,#T_159d5_row3_col7{\n            background-color:  #d8d8ff;\n            color:  #000000;\n        }#T_159d5_row4_col1{\n            background-color:  #fcfcff;\n            color:  #000000;\n        }#T_159d5_row4_col3{\n            background-color:  #fffcfc;\n            color:  #000000;\n        }#T_159d5_row4_col5{\n            background-color:  #ff1a1a;\n            color:  #f1f1f1;\n        }#T_159d5_row4_col6{\n            background-color:  #1212ff;\n            color:  #f1f1f1;\n        }#T_159d5_row4_col7,#T_159d5_row5_col7,#T_159d5_row7_col5{\n            background-color:  #d0d0ff;\n            color:  #000000;\n        }#T_159d5_row5_col1,#T_159d5_row7_col1{\n            background-color:  #fafaff;\n            color:  #000000;\n        }#T_159d5_row5_col3,#T_159d5_row7_col3{\n            background-color:  #fffafa;\n            color:  #000000;\n        }#T_159d5_row5_col4{\n            background-color:  #ff1c1c;\n            color:  #f1f1f1;\n        }#T_159d5_row6_col1{\n            background-color:  #fff8f8;\n            color:  #000000;\n        }#T_159d5_row6_col3{\n            background-color:  #f8f8ff;\n            color:  #000000;\n        }#T_159d5_row7_col4{\n            background-color:  #c4c4ff;\n            color:  #000000;\n        }</style><table id=\"T_159d5_\" ><thead>    <tr>        <th class=\"blank level0\" ></th>        <th class=\"col_heading level0 col0\" >Morning</th>        <th class=\"col_heading level0 col1\" >Afternoon</th>        <th class=\"col_heading level0 col2\" >Evening</th>        <th class=\"col_heading level0 col3\" >Night</th>        <th class=\"col_heading level0 col4\" >turnover</th>        <th class=\"col_heading level0 col5\" >bougth_quantity</th>        <th class=\"col_heading level0 col6\" >viewed_quantity</th>        <th class=\"col_heading level0 col7\" >cart_quantity</th>    </tr></thead><tbody>\n                <tr>\n                        <th id=\"T_159d5_level0_row0\" class=\"row_heading level0 row0\" >Morning</th>\n                        <td id=\"T_159d5_row0_col0\" class=\"data row0 col0\" >nan</td>\n                        <td id=\"T_159d5_row0_col1\" class=\"data row0 col1\" >nan</td>\n                        <td id=\"T_159d5_row0_col2\" class=\"data row0 col2\" >nan</td>\n                        <td id=\"T_159d5_row0_col3\" class=\"data row0 col3\" >nan</td>\n                        <td id=\"T_159d5_row0_col4\" class=\"data row0 col4\" >nan</td>\n                        <td id=\"T_159d5_row0_col5\" class=\"data row0 col5\" >nan</td>\n                        <td id=\"T_159d5_row0_col6\" class=\"data row0 col6\" >nan</td>\n                        <td id=\"T_159d5_row0_col7\" class=\"data row0 col7\" >nan</td>\n            </tr>\n            <tr>\n                        <th id=\"T_159d5_level0_row1\" class=\"row_heading level0 row1\" >Afternoon</th>\n                        <td id=\"T_159d5_row1_col0\" class=\"data row1 col0\" >nan</td>\n                        <td id=\"T_159d5_row1_col1\" class=\"data row1 col1\" >1.000000</td>\n                        <td id=\"T_159d5_row1_col2\" class=\"data row1 col2\" >nan</td>\n                        <td id=\"T_159d5_row1_col3\" class=\"data row1 col3\" >-1.000000</td>\n                        <td id=\"T_159d5_row1_col4\" class=\"data row1 col4\" >-0.015222</td>\n                        <td id=\"T_159d5_row1_col5\" class=\"data row1 col5\" >-0.016738</td>\n                        <td id=\"T_159d5_row1_col6\" class=\"data row1 col6\" >0.023769</td>\n                        <td id=\"T_159d5_row1_col7\" class=\"data row1 col7\" >-0.016738</td>\n            </tr>\n            <tr>\n                        <th id=\"T_159d5_level0_row2\" class=\"row_heading level0 row2\" >Evening</th>\n                        <td id=\"T_159d5_row2_col0\" class=\"data row2 col0\" >nan</td>\n                        <td id=\"T_159d5_row2_col1\" class=\"data row2 col1\" >nan</td>\n                        <td id=\"T_159d5_row2_col2\" class=\"data row2 col2\" >nan</td>\n                        <td id=\"T_159d5_row2_col3\" class=\"data row2 col3\" >nan</td>\n                        <td id=\"T_159d5_row2_col4\" class=\"data row2 col4\" >nan</td>\n                        <td id=\"T_159d5_row2_col5\" class=\"data row2 col5\" >nan</td>\n                        <td id=\"T_159d5_row2_col6\" class=\"data row2 col6\" >nan</td>\n                        <td id=\"T_159d5_row2_col7\" class=\"data row2 col7\" >nan</td>\n            </tr>\n            <tr>\n                        <th id=\"T_159d5_level0_row3\" class=\"row_heading level0 row3\" >Night</th>\n                        <td id=\"T_159d5_row3_col0\" class=\"data row3 col0\" >nan</td>\n                        <td id=\"T_159d5_row3_col1\" class=\"data row3 col1\" >-1.000000</td>\n                        <td id=\"T_159d5_row3_col2\" class=\"data row3 col2\" >nan</td>\n                        <td id=\"T_159d5_row3_col3\" class=\"data row3 col3\" >1.000000</td>\n                        <td id=\"T_159d5_row3_col4\" class=\"data row3 col4\" >0.015222</td>\n                        <td id=\"T_159d5_row3_col5\" class=\"data row3 col5\" >0.016738</td>\n                        <td id=\"T_159d5_row3_col6\" class=\"data row3 col6\" >-0.023769</td>\n                        <td id=\"T_159d5_row3_col7\" class=\"data row3 col7\" >0.016738</td>\n            </tr>\n            <tr>\n                        <th id=\"T_159d5_level0_row4\" class=\"row_heading level0 row4\" >turnover</th>\n                        <td id=\"T_159d5_row4_col0\" class=\"data row4 col0\" >nan</td>\n                        <td id=\"T_159d5_row4_col1\" class=\"data row4 col1\" >-0.015222</td>\n                        <td id=\"T_159d5_row4_col2\" class=\"data row4 col2\" >nan</td>\n                        <td id=\"T_159d5_row4_col3\" class=\"data row4 col3\" >0.015222</td>\n                        <td id=\"T_159d5_row4_col4\" class=\"data row4 col4\" >1.000000</td>\n                        <td id=\"T_159d5_row4_col5\" class=\"data row4 col5\" >0.909438</td>\n                        <td id=\"T_159d5_row4_col6\" class=\"data row4 col6\" >-0.640407</td>\n                        <td id=\"T_159d5_row4_col7\" class=\"data row4 col7\" >-0.007516</td>\n            </tr>\n            <tr>\n                        <th id=\"T_159d5_level0_row5\" class=\"row_heading level0 row5\" >bougth_quantity</th>\n                        <td id=\"T_159d5_row5_col0\" class=\"data row5 col0\" >nan</td>\n                        <td id=\"T_159d5_row5_col1\" class=\"data row5 col1\" >-0.016738</td>\n                        <td id=\"T_159d5_row5_col2\" class=\"data row5 col2\" >nan</td>\n                        <td id=\"T_159d5_row5_col3\" class=\"data row5 col3\" >0.016738</td>\n                        <td id=\"T_159d5_row5_col4\" class=\"data row5 col4\" >0.909438</td>\n                        <td id=\"T_159d5_row5_col5\" class=\"data row5 col5\" >1.000000</td>\n                        <td id=\"T_159d5_row5_col6\" class=\"data row5 col6\" >-0.704179</td>\n                        <td id=\"T_159d5_row5_col7\" class=\"data row5 col7\" >-0.008264</td>\n            </tr>\n            <tr>\n                        <th id=\"T_159d5_level0_row6\" class=\"row_heading level0 row6\" >viewed_quantity</th>\n                        <td id=\"T_159d5_row6_col0\" class=\"data row6 col0\" >nan</td>\n                        <td id=\"T_159d5_row6_col1\" class=\"data row6 col1\" >0.023769</td>\n                        <td id=\"T_159d5_row6_col2\" class=\"data row6 col2\" >nan</td>\n                        <td id=\"T_159d5_row6_col3\" class=\"data row6 col3\" >-0.023769</td>\n                        <td id=\"T_159d5_row6_col4\" class=\"data row6 col4\" >-0.640407</td>\n                        <td id=\"T_159d5_row6_col5\" class=\"data row6 col5\" >-0.704179</td>\n                        <td id=\"T_159d5_row6_col6\" class=\"data row6 col6\" >1.000000</td>\n                        <td id=\"T_159d5_row6_col7\" class=\"data row6 col7\" >-0.704179</td>\n            </tr>\n            <tr>\n                        <th id=\"T_159d5_level0_row7\" class=\"row_heading level0 row7\" >cart_quantity</th>\n                        <td id=\"T_159d5_row7_col0\" class=\"data row7 col0\" >nan</td>\n                        <td id=\"T_159d5_row7_col1\" class=\"data row7 col1\" >-0.016738</td>\n                        <td id=\"T_159d5_row7_col2\" class=\"data row7 col2\" >nan</td>\n                        <td id=\"T_159d5_row7_col3\" class=\"data row7 col3\" >0.016738</td>\n                        <td id=\"T_159d5_row7_col4\" class=\"data row7 col4\" >-0.007516</td>\n                        <td id=\"T_159d5_row7_col5\" class=\"data row7 col5\" >-0.008264</td>\n                        <td id=\"T_159d5_row7_col6\" class=\"data row7 col6\" >-0.704179</td>\n                        <td id=\"T_159d5_row7_col7\" class=\"data row7 col7\" >1.000000</td>\n            </tr>\n    </tbody></table>"
     },
     "metadata": {},
     "execution_count": 99
    }
   ],
=======
   "execution_count": 71,
   "metadata": {},
   "outputs": [],
>>>>>>> 93a12e307ad8f1aa95bc15f7e7cdd680c2fdc9f4
   "source": [
    "sdf_corr_time.toPandas().corr().style.background_gradient(cmap='bwr')"
   ]
  },
  {
   "source": [
    "#### Weekday - Correlation Matrix"
   ],
   "cell_type": "markdown",
   "metadata": {}
  },
  {
   "cell_type": "code",
   "execution_count": 100,
   "metadata": {},
   "outputs": [],
   "source": [
    "sdf_corr_dayofweek = sdf_raw.select(\"dayofweek\", \"turnover\", \"bougth_quantity\", \"viewed_quantity\", \"cart_quantity\")"
   ]
  },
  {
   "cell_type": "code",
   "execution_count": 101,
   "metadata": {},
   "outputs": [],
   "source": [
    "# One-hot-encoding\n",
    "sdf_corr_dayofweek = sdf_corr_dayofweek.withColumn('Sunday', f.when(f.col('dayofweek') == '1', f.lit(1)).otherwise(0))\n",
    "sdf_corr_dayofweek = sdf_corr_dayofweek.withColumn('Monday', f.when(f.col('dayofweek') == '2', f.lit(1)).otherwise(0))\n",
    "sdf_corr_dayofweek = sdf_corr_dayofweek.withColumn('Tuesday', f.when(f.col('dayofweek') == '3', f.lit(1)).otherwise(0))\n",
    "sdf_corr_dayofweek = sdf_corr_dayofweek.withColumn('Wednesday', f.when(f.col('dayofweek') == '4', f.lit(1)).otherwise(0))\n",
    "sdf_corr_dayofweek = sdf_corr_dayofweek.withColumn('Thursday', f.when(f.col('dayofweek') == '5', f.lit(1)).otherwise(0))\n",
    "sdf_corr_dayofweek = sdf_corr_dayofweek.withColumn('Friday', f.when(f.col('dayofweek') == '6', f.lit(1)).otherwise(0))\n",
    "sdf_corr_dayofweek = sdf_corr_dayofweek.withColumn('Saturday', f.when(f.col('dayofweek') == '7', f.lit(1)).otherwise(0))"
   ]
  },
  {
   "cell_type": "code",
   "execution_count": 102,
   "metadata": {},
   "outputs": [],
   "source": [
    "sdf_corr_dayofweek = sdf_corr_dayofweek.select(\"Monday\", \"Tuesday\", \"Wednesday\", \"Thursday\", \"Friday\", \"Saturday\", \"Sunday\",  \"turnover\", \"bougth_quantity\", \"viewed_quantity\", \"cart_quantity\" )"
   ]
  },
  {
   "cell_type": "code",
   "execution_count": 103,
   "metadata": {},
   "outputs": [
    {
     "output_type": "execute_result",
     "data": {
      "text/plain": [
       "<pandas.io.formats.style.Styler at 0x1c943a642e0>"
      ],
      "text/html": "<style  type=\"text/css\" >\n#T_23ff1_row0_col0,#T_23ff1_row0_col1,#T_23ff1_row0_col2,#T_23ff1_row0_col3,#T_23ff1_row0_col4,#T_23ff1_row0_col5,#T_23ff1_row0_col6,#T_23ff1_row0_col7,#T_23ff1_row0_col8,#T_23ff1_row0_col9,#T_23ff1_row0_col10,#T_23ff1_row1_col0,#T_23ff1_row1_col3,#T_23ff1_row1_col5,#T_23ff1_row1_col6,#T_23ff1_row2_col0,#T_23ff1_row2_col3,#T_23ff1_row2_col5,#T_23ff1_row2_col6,#T_23ff1_row3_col0,#T_23ff1_row3_col1,#T_23ff1_row3_col2,#T_23ff1_row3_col3,#T_23ff1_row3_col4,#T_23ff1_row3_col5,#T_23ff1_row3_col6,#T_23ff1_row3_col7,#T_23ff1_row3_col8,#T_23ff1_row3_col9,#T_23ff1_row3_col10,#T_23ff1_row4_col0,#T_23ff1_row4_col3,#T_23ff1_row4_col5,#T_23ff1_row4_col6,#T_23ff1_row5_col0,#T_23ff1_row5_col1,#T_23ff1_row5_col2,#T_23ff1_row5_col3,#T_23ff1_row5_col4,#T_23ff1_row5_col5,#T_23ff1_row5_col6,#T_23ff1_row5_col7,#T_23ff1_row5_col8,#T_23ff1_row5_col9,#T_23ff1_row5_col10,#T_23ff1_row6_col0,#T_23ff1_row6_col1,#T_23ff1_row6_col2,#T_23ff1_row6_col3,#T_23ff1_row6_col4,#T_23ff1_row6_col5,#T_23ff1_row6_col6,#T_23ff1_row6_col7,#T_23ff1_row6_col8,#T_23ff1_row6_col9,#T_23ff1_row6_col10,#T_23ff1_row7_col0,#T_23ff1_row7_col3,#T_23ff1_row7_col5,#T_23ff1_row7_col6,#T_23ff1_row8_col0,#T_23ff1_row8_col3,#T_23ff1_row8_col5,#T_23ff1_row8_col6,#T_23ff1_row9_col0,#T_23ff1_row9_col3,#T_23ff1_row9_col5,#T_23ff1_row9_col6,#T_23ff1_row10_col0,#T_23ff1_row10_col3,#T_23ff1_row10_col5,#T_23ff1_row10_col6{\n            background-color:  #000000;\n            color:  #f1f1f1;\n        }#T_23ff1_row1_col1,#T_23ff1_row2_col2,#T_23ff1_row4_col4,#T_23ff1_row7_col7,#T_23ff1_row8_col8,#T_23ff1_row9_col9,#T_23ff1_row10_col10{\n            background-color:  #ff0000;\n            color:  #f1f1f1;\n        }#T_23ff1_row1_col2{\n            background-color:  #9c9cff;\n            color:  #000000;\n        }#T_23ff1_row1_col4,#T_23ff1_row4_col1,#T_23ff1_row4_col2,#T_23ff1_row8_col9,#T_23ff1_row9_col7,#T_23ff1_row9_col8,#T_23ff1_row9_col10,#T_23ff1_row10_col9{\n            background-color:  #0000ff;\n            color:  #f1f1f1;\n        }#T_23ff1_row1_col7{\n            background-color:  #c0c0ff;\n            color:  #000000;\n        }#T_23ff1_row1_col8{\n            background-color:  #cacaff;\n            color:  #000000;\n        }#T_23ff1_row1_col9{\n            background-color:  #babaff;\n            color:  #000000;\n        }#T_23ff1_row1_col10{\n            background-color:  #fefeff;\n            color:  #000000;\n        }#T_23ff1_row2_col1{\n            background-color:  #d8d8ff;\n            color:  #000000;\n        }#T_23ff1_row2_col4{\n            background-color:  #5454ff;\n            color:  #f1f1f1;\n        }#T_23ff1_row2_col7{\n            background-color:  #c2c2ff;\n            color:  #000000;\n        }#T_23ff1_row2_col8,#T_23ff1_row2_col10,#T_23ff1_row9_col1{\n            background-color:  #ceceff;\n            color:  #000000;\n        }#T_23ff1_row2_col9{\n            background-color:  #dadaff;\n            color:  #000000;\n        }#T_23ff1_row4_col7,#T_23ff1_row7_col10,#T_23ff1_row8_col10,#T_23ff1_row10_col8{\n            background-color:  #d0d0ff;\n            color:  #000000;\n        }#T_23ff1_row4_col8{\n            background-color:  #dcdcff;\n            color:  #000000;\n        }#T_23ff1_row4_col9{\n            background-color:  #e4e4ff;\n            color:  #000000;\n        }#T_23ff1_row4_col10{\n            background-color:  #b0b0ff;\n            color:  #000000;\n        }#T_23ff1_row7_col1{\n            background-color:  #e0e0ff;\n            color:  #000000;\n        }#T_23ff1_row7_col2{\n            background-color:  #aaaaff;\n            color:  #000000;\n        }#T_23ff1_row7_col4{\n            background-color:  #eeeeff;\n            color:  #000000;\n        }#T_23ff1_row7_col8{\n            background-color:  #ff1a1a;\n            color:  #f1f1f1;\n        }#T_23ff1_row7_col9{\n            background-color:  #1212ff;\n            color:  #f1f1f1;\n        }#T_23ff1_row8_col1{\n            background-color:  #dedeff;\n            color:  #000000;\n        }#T_23ff1_row8_col2,#T_23ff1_row10_col2{\n            background-color:  #a8a8ff;\n            color:  #000000;\n        }#T_23ff1_row8_col4{\n            background-color:  #f0f0ff;\n            color:  #000000;\n        }#T_23ff1_row8_col7{\n            background-color:  #ff1c1c;\n            color:  #f1f1f1;\n        }#T_23ff1_row9_col2{\n            background-color:  #b6b6ff;\n            color:  #000000;\n        }#T_23ff1_row9_col4{\n            background-color:  #f6f6ff;\n            color:  #000000;\n        }#T_23ff1_row10_col1{\n            background-color:  #fff0f0;\n            color:  #000000;\n        }#T_23ff1_row10_col4{\n            background-color:  #c6c6ff;\n            color:  #000000;\n        }#T_23ff1_row10_col7{\n            background-color:  #c4c4ff;\n            color:  #000000;\n        }</style><table id=\"T_23ff1_\" ><thead>    <tr>        <th class=\"blank level0\" ></th>        <th class=\"col_heading level0 col0\" >Monday</th>        <th class=\"col_heading level0 col1\" >Tuesday</th>        <th class=\"col_heading level0 col2\" >Wednesday</th>        <th class=\"col_heading level0 col3\" >Thursday</th>        <th class=\"col_heading level0 col4\" >Friday</th>        <th class=\"col_heading level0 col5\" >Saturday</th>        <th class=\"col_heading level0 col6\" >Sunday</th>        <th class=\"col_heading level0 col7\" >turnover</th>        <th class=\"col_heading level0 col8\" >bougth_quantity</th>        <th class=\"col_heading level0 col9\" >viewed_quantity</th>        <th class=\"col_heading level0 col10\" >cart_quantity</th>    </tr></thead><tbody>\n                <tr>\n                        <th id=\"T_23ff1_level0_row0\" class=\"row_heading level0 row0\" >Monday</th>\n                        <td id=\"T_23ff1_row0_col0\" class=\"data row0 col0\" >nan</td>\n                        <td id=\"T_23ff1_row0_col1\" class=\"data row0 col1\" >nan</td>\n                        <td id=\"T_23ff1_row0_col2\" class=\"data row0 col2\" >nan</td>\n                        <td id=\"T_23ff1_row0_col3\" class=\"data row0 col3\" >nan</td>\n                        <td id=\"T_23ff1_row0_col4\" class=\"data row0 col4\" >nan</td>\n                        <td id=\"T_23ff1_row0_col5\" class=\"data row0 col5\" >nan</td>\n                        <td id=\"T_23ff1_row0_col6\" class=\"data row0 col6\" >nan</td>\n                        <td id=\"T_23ff1_row0_col7\" class=\"data row0 col7\" >nan</td>\n                        <td id=\"T_23ff1_row0_col8\" class=\"data row0 col8\" >nan</td>\n                        <td id=\"T_23ff1_row0_col9\" class=\"data row0 col9\" >nan</td>\n                        <td id=\"T_23ff1_row0_col10\" class=\"data row0 col10\" >nan</td>\n            </tr>\n            <tr>\n                        <th id=\"T_23ff1_level0_row1\" class=\"row_heading level0 row1\" >Tuesday</th>\n                        <td id=\"T_23ff1_row1_col0\" class=\"data row1 col0\" >nan</td>\n                        <td id=\"T_23ff1_row1_col1\" class=\"data row1 col1\" >1.000000</td>\n                        <td id=\"T_23ff1_row1_col2\" class=\"data row1 col2\" >-0.053503</td>\n                        <td id=\"T_23ff1_row1_col3\" class=\"data row1 col3\" >nan</td>\n                        <td id=\"T_23ff1_row1_col4\" class=\"data row1 col4\" >-0.823822</td>\n                        <td id=\"T_23ff1_row1_col5\" class=\"data row1 col5\" >nan</td>\n                        <td id=\"T_23ff1_row1_col6\" class=\"data row1 col6\" >nan</td>\n                        <td id=\"T_23ff1_row1_col7\" class=\"data row1 col7\" >-0.024025</td>\n                        <td id=\"T_23ff1_row1_col8\" class=\"data row1 col8\" >-0.026418</td>\n                        <td id=\"T_23ff1_row1_col9\" class=\"data row1 col9\" >-0.082929</td>\n                        <td id=\"T_23ff1_row1_col10\" class=\"data row1 col10\" >0.143211</td>\n            </tr>\n            <tr>\n                        <th id=\"T_23ff1_level0_row2\" class=\"row_heading level0 row2\" >Wednesday</th>\n                        <td id=\"T_23ff1_row2_col0\" class=\"data row2 col0\" >nan</td>\n                        <td id=\"T_23ff1_row2_col1\" class=\"data row2 col1\" >-0.053503</td>\n                        <td id=\"T_23ff1_row2_col2\" class=\"data row2 col2\" >1.000000</td>\n                        <td id=\"T_23ff1_row2_col3\" class=\"data row2 col3\" >nan</td>\n                        <td id=\"T_23ff1_row2_col4\" class=\"data row2 col4\" >-0.521960</td>\n                        <td id=\"T_23ff1_row2_col5\" class=\"data row2 col5\" >nan</td>\n                        <td id=\"T_23ff1_row2_col6\" class=\"data row2 col6\" >nan</td>\n                        <td id=\"T_23ff1_row2_col7\" class=\"data row2 col7\" >-0.015222</td>\n                        <td id=\"T_23ff1_row2_col8\" class=\"data row2 col8\" >-0.016738</td>\n                        <td id=\"T_23ff1_row2_col9\" class=\"data row2 col9\" >0.023769</td>\n                        <td id=\"T_23ff1_row2_col10\" class=\"data row2 col10\" >-0.016738</td>\n            </tr>\n            <tr>\n                        <th id=\"T_23ff1_level0_row3\" class=\"row_heading level0 row3\" >Thursday</th>\n                        <td id=\"T_23ff1_row3_col0\" class=\"data row3 col0\" >nan</td>\n                        <td id=\"T_23ff1_row3_col1\" class=\"data row3 col1\" >nan</td>\n                        <td id=\"T_23ff1_row3_col2\" class=\"data row3 col2\" >nan</td>\n                        <td id=\"T_23ff1_row3_col3\" class=\"data row3 col3\" >nan</td>\n                        <td id=\"T_23ff1_row3_col4\" class=\"data row3 col4\" >nan</td>\n                        <td id=\"T_23ff1_row3_col5\" class=\"data row3 col5\" >nan</td>\n                        <td id=\"T_23ff1_row3_col6\" class=\"data row3 col6\" >nan</td>\n                        <td id=\"T_23ff1_row3_col7\" class=\"data row3 col7\" >nan</td>\n                        <td id=\"T_23ff1_row3_col8\" class=\"data row3 col8\" >nan</td>\n                        <td id=\"T_23ff1_row3_col9\" class=\"data row3 col9\" >nan</td>\n                        <td id=\"T_23ff1_row3_col10\" class=\"data row3 col10\" >nan</td>\n            </tr>\n            <tr>\n                        <th id=\"T_23ff1_level0_row4\" class=\"row_heading level0 row4\" >Friday</th>\n                        <td id=\"T_23ff1_row4_col0\" class=\"data row4 col0\" >nan</td>\n                        <td id=\"T_23ff1_row4_col1\" class=\"data row4 col1\" >-0.823822</td>\n                        <td id=\"T_23ff1_row4_col2\" class=\"data row4 col2\" >-0.521960</td>\n                        <td id=\"T_23ff1_row4_col3\" class=\"data row4 col3\" >nan</td>\n                        <td id=\"T_23ff1_row4_col4\" class=\"data row4 col4\" >1.000000</td>\n                        <td id=\"T_23ff1_row4_col5\" class=\"data row4 col5\" >nan</td>\n                        <td id=\"T_23ff1_row4_col6\" class=\"data row4 col6\" >nan</td>\n                        <td id=\"T_23ff1_row4_col7\" class=\"data row4 col7\" >0.029163</td>\n                        <td id=\"T_23ff1_row4_col8\" class=\"data row4 col8\" >0.032067</td>\n                        <td id=\"T_23ff1_row4_col9\" class=\"data row4 col9\" >0.057344</td>\n                        <td id=\"T_23ff1_row4_col10\" class=\"data row4 col10\" >-0.112829</td>\n            </tr>\n            <tr>\n                        <th id=\"T_23ff1_level0_row5\" class=\"row_heading level0 row5\" >Saturday</th>\n                        <td id=\"T_23ff1_row5_col0\" class=\"data row5 col0\" >nan</td>\n                        <td id=\"T_23ff1_row5_col1\" class=\"data row5 col1\" >nan</td>\n                        <td id=\"T_23ff1_row5_col2\" class=\"data row5 col2\" >nan</td>\n                        <td id=\"T_23ff1_row5_col3\" class=\"data row5 col3\" >nan</td>\n                        <td id=\"T_23ff1_row5_col4\" class=\"data row5 col4\" >nan</td>\n                        <td id=\"T_23ff1_row5_col5\" class=\"data row5 col5\" >nan</td>\n                        <td id=\"T_23ff1_row5_col6\" class=\"data row5 col6\" >nan</td>\n                        <td id=\"T_23ff1_row5_col7\" class=\"data row5 col7\" >nan</td>\n                        <td id=\"T_23ff1_row5_col8\" class=\"data row5 col8\" >nan</td>\n                        <td id=\"T_23ff1_row5_col9\" class=\"data row5 col9\" >nan</td>\n                        <td id=\"T_23ff1_row5_col10\" class=\"data row5 col10\" >nan</td>\n            </tr>\n            <tr>\n                        <th id=\"T_23ff1_level0_row6\" class=\"row_heading level0 row6\" >Sunday</th>\n                        <td id=\"T_23ff1_row6_col0\" class=\"data row6 col0\" >nan</td>\n                        <td id=\"T_23ff1_row6_col1\" class=\"data row6 col1\" >nan</td>\n                        <td id=\"T_23ff1_row6_col2\" class=\"data row6 col2\" >nan</td>\n                        <td id=\"T_23ff1_row6_col3\" class=\"data row6 col3\" >nan</td>\n                        <td id=\"T_23ff1_row6_col4\" class=\"data row6 col4\" >nan</td>\n                        <td id=\"T_23ff1_row6_col5\" class=\"data row6 col5\" >nan</td>\n                        <td id=\"T_23ff1_row6_col6\" class=\"data row6 col6\" >nan</td>\n                        <td id=\"T_23ff1_row6_col7\" class=\"data row6 col7\" >nan</td>\n                        <td id=\"T_23ff1_row6_col8\" class=\"data row6 col8\" >nan</td>\n                        <td id=\"T_23ff1_row6_col9\" class=\"data row6 col9\" >nan</td>\n                        <td id=\"T_23ff1_row6_col10\" class=\"data row6 col10\" >nan</td>\n            </tr>\n            <tr>\n                        <th id=\"T_23ff1_level0_row7\" class=\"row_heading level0 row7\" >turnover</th>\n                        <td id=\"T_23ff1_row7_col0\" class=\"data row7 col0\" >nan</td>\n                        <td id=\"T_23ff1_row7_col1\" class=\"data row7 col1\" >-0.024025</td>\n                        <td id=\"T_23ff1_row7_col2\" class=\"data row7 col2\" >-0.015222</td>\n                        <td id=\"T_23ff1_row7_col3\" class=\"data row7 col3\" >nan</td>\n                        <td id=\"T_23ff1_row7_col4\" class=\"data row7 col4\" >0.029163</td>\n                        <td id=\"T_23ff1_row7_col5\" class=\"data row7 col5\" >nan</td>\n                        <td id=\"T_23ff1_row7_col6\" class=\"data row7 col6\" >nan</td>\n                        <td id=\"T_23ff1_row7_col7\" class=\"data row7 col7\" >1.000000</td>\n                        <td id=\"T_23ff1_row7_col8\" class=\"data row7 col8\" >0.909438</td>\n                        <td id=\"T_23ff1_row7_col9\" class=\"data row7 col9\" >-0.640407</td>\n                        <td id=\"T_23ff1_row7_col10\" class=\"data row7 col10\" >-0.007516</td>\n            </tr>\n            <tr>\n                        <th id=\"T_23ff1_level0_row8\" class=\"row_heading level0 row8\" >bougth_quantity</th>\n                        <td id=\"T_23ff1_row8_col0\" class=\"data row8 col0\" >nan</td>\n                        <td id=\"T_23ff1_row8_col1\" class=\"data row8 col1\" >-0.026418</td>\n                        <td id=\"T_23ff1_row8_col2\" class=\"data row8 col2\" >-0.016738</td>\n                        <td id=\"T_23ff1_row8_col3\" class=\"data row8 col3\" >nan</td>\n                        <td id=\"T_23ff1_row8_col4\" class=\"data row8 col4\" >0.032067</td>\n                        <td id=\"T_23ff1_row8_col5\" class=\"data row8 col5\" >nan</td>\n                        <td id=\"T_23ff1_row8_col6\" class=\"data row8 col6\" >nan</td>\n                        <td id=\"T_23ff1_row8_col7\" class=\"data row8 col7\" >0.909438</td>\n                        <td id=\"T_23ff1_row8_col8\" class=\"data row8 col8\" >1.000000</td>\n                        <td id=\"T_23ff1_row8_col9\" class=\"data row8 col9\" >-0.704179</td>\n                        <td id=\"T_23ff1_row8_col10\" class=\"data row8 col10\" >-0.008264</td>\n            </tr>\n            <tr>\n                        <th id=\"T_23ff1_level0_row9\" class=\"row_heading level0 row9\" >viewed_quantity</th>\n                        <td id=\"T_23ff1_row9_col0\" class=\"data row9 col0\" >nan</td>\n                        <td id=\"T_23ff1_row9_col1\" class=\"data row9 col1\" >-0.082929</td>\n                        <td id=\"T_23ff1_row9_col2\" class=\"data row9 col2\" >0.023769</td>\n                        <td id=\"T_23ff1_row9_col3\" class=\"data row9 col3\" >nan</td>\n                        <td id=\"T_23ff1_row9_col4\" class=\"data row9 col4\" >0.057344</td>\n                        <td id=\"T_23ff1_row9_col5\" class=\"data row9 col5\" >nan</td>\n                        <td id=\"T_23ff1_row9_col6\" class=\"data row9 col6\" >nan</td>\n                        <td id=\"T_23ff1_row9_col7\" class=\"data row9 col7\" >-0.640407</td>\n                        <td id=\"T_23ff1_row9_col8\" class=\"data row9 col8\" >-0.704179</td>\n                        <td id=\"T_23ff1_row9_col9\" class=\"data row9 col9\" >1.000000</td>\n                        <td id=\"T_23ff1_row9_col10\" class=\"data row9 col10\" >-0.704179</td>\n            </tr>\n            <tr>\n                        <th id=\"T_23ff1_level0_row10\" class=\"row_heading level0 row10\" >cart_quantity</th>\n                        <td id=\"T_23ff1_row10_col0\" class=\"data row10 col0\" >nan</td>\n                        <td id=\"T_23ff1_row10_col1\" class=\"data row10 col1\" >0.143211</td>\n                        <td id=\"T_23ff1_row10_col2\" class=\"data row10 col2\" >-0.016738</td>\n                        <td id=\"T_23ff1_row10_col3\" class=\"data row10 col3\" >nan</td>\n                        <td id=\"T_23ff1_row10_col4\" class=\"data row10 col4\" >-0.112829</td>\n                        <td id=\"T_23ff1_row10_col5\" class=\"data row10 col5\" >nan</td>\n                        <td id=\"T_23ff1_row10_col6\" class=\"data row10 col6\" >nan</td>\n                        <td id=\"T_23ff1_row10_col7\" class=\"data row10 col7\" >-0.007516</td>\n                        <td id=\"T_23ff1_row10_col8\" class=\"data row10 col8\" >-0.008264</td>\n                        <td id=\"T_23ff1_row10_col9\" class=\"data row10 col9\" >-0.704179</td>\n                        <td id=\"T_23ff1_row10_col10\" class=\"data row10 col10\" >1.000000</td>\n            </tr>\n    </tbody></table>"
     },
     "metadata": {},
     "execution_count": 103
    }
   ],
   "source": [
    "sdf_corr_dayofweek.toPandas().corr().style.background_gradient(cmap='bwr')"
   ]
  },
  {
   "source": [
    "#### Category Class - Correlation Matrix"
   ],
   "cell_type": "markdown",
   "metadata": {}
  },
  {
   "cell_type": "code",
   "execution_count": 104,
   "metadata": {},
   "outputs": [],
   "source": [
    "sdf_corr_category_class = sdf_raw.select(\"category_class\", \"turnover\", \"bougth_quantity\", \"viewed_quantity\", \"cart_quantity\")"
   ]
  },
  {
   "cell_type": "code",
   "execution_count": 105,
   "metadata": {},
   "outputs": [],
   "source": [
    "# One-hot-encoding\n",
    "sdf_corr_category_class = sdf_corr_category_class.withColumn('computers', f.when(f.col('category_class') == 'computers', f.lit(1)).otherwise(0))\n",
    "sdf_corr_category_class = sdf_corr_category_class.withColumn('auto', f.when(f.col('category_class') == 'auto', f.lit(1)).otherwise(0))\n",
    "sdf_corr_category_class = sdf_corr_category_class.withColumn('apparel', f.when(f.col('category_class') == 'apparel', f.lit(1)).otherwise(0))\n",
    "sdf_corr_category_class = sdf_corr_category_class.withColumn('appliances', f.when(f.col('category_class') == 'appliances', f.lit(1)).otherwise(0))\n",
    "sdf_corr_category_class = sdf_corr_category_class.withColumn('furniture', f.when(f.col('category_class') == 'furniture', f.lit(1)).otherwise(0))\n",
    "sdf_corr_category_class = sdf_corr_category_class.withColumn('accessories', f.when(f.col('category_class') == 'accessories', f.lit(1)).otherwise(0))\n",
    "sdf_corr_category_class = sdf_corr_category_class.withColumn('electronics', f.when(f.col('category_class') == 'electronics', f.lit(1)).otherwise(0))\n",
    "sdf_corr_category_class = sdf_corr_category_class.withColumn('construction', f.when(f.col('category_class') == 'construction', f.lit(1)).otherwise(0))\n",
    "sdf_corr_category_class = sdf_corr_category_class.withColumn('not_defined', f.when(f.col('category_class') == 'not defined', f.lit(1)).otherwise(0))"
   ]
  },
  {
   "cell_type": "code",
   "execution_count": 106,
   "metadata": {},
   "outputs": [],
   "source": [
    "sdf_corr_category_class = sdf_corr_category_class.select(\"computers\", \"auto\", \"apparel\", \"appliances\", \"furniture\", \"accessories\", \"electronics\", \"construction\", \"not_defined\", \"turnover\", \"bougth_quantity\", \"viewed_quantity\", \"cart_quantity\" )"
   ]
  },
  {
   "cell_type": "code",
   "execution_count": 107,
   "metadata": {},
   "outputs": [
    {
     "output_type": "execute_result",
     "data": {
      "text/plain": [
       "<pandas.io.formats.style.Styler at 0x1c943aecac0>"
      ],
      "text/html": "<style  type=\"text/css\" >\n#T_cac81_row0_col0,#T_cac81_row1_col1,#T_cac81_row2_col2,#T_cac81_row3_col3,#T_cac81_row4_col4,#T_cac81_row5_col5,#T_cac81_row6_col6,#T_cac81_row7_col7,#T_cac81_row9_col9,#T_cac81_row10_col10,#T_cac81_row11_col11,#T_cac81_row12_col12{\n            background-color:  #ff0000;\n            color:  #f1f1f1;\n        }#T_cac81_row0_col1,#T_cac81_row11_col5{\n            background-color:  #1616ff;\n            color:  #f1f1f1;\n        }#T_cac81_row0_col2,#T_cac81_row9_col11{\n            background-color:  #1212ff;\n            color:  #f1f1f1;\n        }#T_cac81_row0_col3,#T_cac81_row1_col7,#T_cac81_row3_col4{\n            background-color:  #2020ff;\n            color:  #f1f1f1;\n        }#T_cac81_row0_col4,#T_cac81_row1_col2,#T_cac81_row4_col1,#T_cac81_row7_col2{\n            background-color:  #1c1cff;\n            color:  #f1f1f1;\n        }#T_cac81_row0_col5{\n            background-color:  #0606ff;\n            color:  #f1f1f1;\n        }#T_cac81_row0_col6,#T_cac81_row6_col0,#T_cac81_row6_col1,#T_cac81_row6_col2,#T_cac81_row6_col3,#T_cac81_row6_col4,#T_cac81_row6_col5,#T_cac81_row6_col7,#T_cac81_row10_col11,#T_cac81_row11_col9,#T_cac81_row11_col10,#T_cac81_row11_col12,#T_cac81_row12_col11{\n            background-color:  #0000ff;\n            color:  #f1f1f1;\n        }#T_cac81_row0_col7,#T_cac81_row3_col2,#T_cac81_row4_col6,#T_cac81_row11_col4{\n            background-color:  #1414ff;\n            color:  #f1f1f1;\n        }#T_cac81_row0_col8,#T_cac81_row1_col8,#T_cac81_row2_col8,#T_cac81_row3_col8,#T_cac81_row4_col8,#T_cac81_row5_col8,#T_cac81_row6_col8,#T_cac81_row7_col8,#T_cac81_row8_col0,#T_cac81_row8_col1,#T_cac81_row8_col2,#T_cac81_row8_col3,#T_cac81_row8_col4,#T_cac81_row8_col5,#T_cac81_row8_col6,#T_cac81_row8_col7,#T_cac81_row8_col8,#T_cac81_row8_col9,#T_cac81_row8_col10,#T_cac81_row8_col11,#T_cac81_row8_col12,#T_cac81_row9_col8,#T_cac81_row10_col8,#T_cac81_row11_col8,#T_cac81_row12_col8{\n            background-color:  #000000;\n            color:  #f1f1f1;\n        }#T_cac81_row0_col9{\n            background-color:  #bebeff;\n            color:  #000000;\n        }#T_cac81_row0_col10,#T_cac81_row0_col12,#T_cac81_row3_col10,#T_cac81_row3_col12{\n            background-color:  #cacaff;\n            color:  #000000;\n        }#T_cac81_row0_col11{\n            background-color:  #e0e0ff;\n            color:  #000000;\n        }#T_cac81_row1_col0,#T_cac81_row7_col0,#T_cac81_row12_col4{\n            background-color:  #3838ff;\n            color:  #f1f1f1;\n        }#T_cac81_row1_col3{\n            background-color:  #3232ff;\n            color:  #f1f1f1;\n        }#T_cac81_row1_col4,#T_cac81_row2_col6,#T_cac81_row5_col7,#T_cac81_row7_col4,#T_cac81_row9_col1,#T_cac81_row10_col1,#T_cac81_row12_col1{\n            background-color:  #2c2cff;\n            color:  #f1f1f1;\n        }#T_cac81_row1_col5,#T_cac81_row2_col5,#T_cac81_row7_col5{\n            background-color:  #0c0cff;\n            color:  #f1f1f1;\n        }#T_cac81_row1_col6,#T_cac81_row7_col1{\n            background-color:  #2222ff;\n            color:  #f1f1f1;\n        }#T_cac81_row1_col9,#T_cac81_row2_col9,#T_cac81_row7_col9{\n            background-color:  #c2c2ff;\n            color:  #000000;\n        }#T_cac81_row1_col10,#T_cac81_row1_col12,#T_cac81_row2_col10,#T_cac81_row2_col12,#T_cac81_row7_col10,#T_cac81_row7_col12{\n            background-color:  #ceceff;\n            color:  #000000;\n        }#T_cac81_row1_col11,#T_cac81_row7_col11{\n            background-color:  #dadaff;\n            color:  #000000;\n        }#T_cac81_row2_col0,#T_cac81_row11_col7{\n            background-color:  #3c3cff;\n            color:  #f1f1f1;\n        }#T_cac81_row2_col1,#T_cac81_row5_col2,#T_cac81_row7_col6{\n            background-color:  #2626ff;\n            color:  #f1f1f1;\n        }#T_cac81_row2_col3{\n            background-color:  #3636ff;\n            color:  #f1f1f1;\n        }#T_cac81_row2_col4{\n            background-color:  #3030ff;\n            color:  #f1f1f1;\n        }#T_cac81_row2_col7,#T_cac81_row9_col2,#T_cac81_row10_col2,#T_cac81_row12_col2{\n            background-color:  #2424ff;\n            color:  #f1f1f1;\n        }#T_cac81_row2_col11{\n            background-color:  #d8d8ff;\n            color:  #000000;\n        }#T_cac81_row3_col0,#T_cac81_row10_col7,#T_cac81_row12_col7{\n            background-color:  #2828ff;\n            color:  #f1f1f1;\n        }#T_cac81_row3_col1,#T_cac81_row3_col7,#T_cac81_row4_col2{\n            background-color:  #1818ff;\n            color:  #f1f1f1;\n        }#T_cac81_row3_col5,#T_cac81_row3_col6{\n            background-color:  #0808ff;\n            color:  #f1f1f1;\n        }#T_cac81_row3_col9{\n            background-color:  #c0c0ff;\n            color:  #000000;\n        }#T_cac81_row3_col11{\n            background-color:  #dedeff;\n            color:  #000000;\n        }#T_cac81_row4_col0,#T_cac81_row5_col1{\n            background-color:  #2e2eff;\n            color:  #f1f1f1;\n        }#T_cac81_row4_col3,#T_cac81_row9_col7{\n            background-color:  #2a2aff;\n            color:  #f1f1f1;\n        }#T_cac81_row4_col5{\n            background-color:  #0a0aff;\n            color:  #f1f1f1;\n        }#T_cac81_row4_col7{\n            background-color:  #1a1aff;\n            color:  #f1f1f1;\n        }#T_cac81_row4_col9{\n            background-color:  #fff0f0;\n            color:  #000000;\n        }#T_cac81_row4_col10{\n            background-color:  #fffafa;\n            color:  #000000;\n        }#T_cac81_row4_col11{\n            background-color:  #b4b4ff;\n            color:  #000000;\n        }#T_cac81_row4_col12{\n            background-color:  #ccccff;\n            color:  #000000;\n        }#T_cac81_row5_col0{\n            background-color:  #4a4aff;\n            color:  #f1f1f1;\n        }#T_cac81_row5_col3{\n            background-color:  #4242ff;\n            color:  #f1f1f1;\n        }#T_cac81_row5_col4{\n            background-color:  #3a3aff;\n            color:  #f1f1f1;\n        }#T_cac81_row5_col6{\n            background-color:  #4444ff;\n            color:  #f1f1f1;\n        }#T_cac81_row5_col9{\n            background-color:  #c6c6ff;\n            color:  #000000;\n        }#T_cac81_row5_col10,#T_cac81_row5_col12,#T_cac81_row9_col12,#T_cac81_row10_col12,#T_cac81_row12_col10{\n            background-color:  #d0d0ff;\n            color:  #000000;\n        }#T_cac81_row5_col11{\n            background-color:  #d6d6ff;\n            color:  #000000;\n        }#T_cac81_row6_col9{\n            background-color:  #c8c8ff;\n            color:  #000000;\n        }#T_cac81_row6_col10,#T_cac81_row6_col12{\n            background-color:  #e2e2ff;\n            color:  #000000;\n        }#T_cac81_row6_col11{\n            background-color:  #bcbcff;\n            color:  #000000;\n        }#T_cac81_row7_col3,#T_cac81_row11_col2,#T_cac81_row11_col6{\n            background-color:  #3434ff;\n            color:  #f1f1f1;\n        }#T_cac81_row9_col0{\n            background-color:  #4848ff;\n            color:  #f1f1f1;\n        }#T_cac81_row9_col3,#T_cac81_row10_col3,#T_cac81_row11_col1,#T_cac81_row12_col3{\n            background-color:  #4040ff;\n            color:  #f1f1f1;\n        }#T_cac81_row9_col4{\n            background-color:  #a8a8ff;\n            color:  #000000;\n        }#T_cac81_row9_col5,#T_cac81_row10_col5,#T_cac81_row12_col5{\n            background-color:  #0e0eff;\n            color:  #f1f1f1;\n        }#T_cac81_row9_col6{\n            background-color:  #5454ff;\n            color:  #f1f1f1;\n        }#T_cac81_row9_col10{\n            background-color:  #ff1a1a;\n            color:  #f1f1f1;\n        }#T_cac81_row10_col0,#T_cac81_row12_col0{\n            background-color:  #4646ff;\n            color:  #f1f1f1;\n        }#T_cac81_row10_col4{\n            background-color:  #8c8cff;\n            color:  #000000;\n        }#T_cac81_row10_col6,#T_cac81_row12_col6{\n            background-color:  #6a6aff;\n            color:  #000000;\n        }#T_cac81_row10_col9{\n            background-color:  #ff1c1c;\n            color:  #f1f1f1;\n        }#T_cac81_row11_col0{\n            background-color:  #6666ff;\n            color:  #000000;\n        }#T_cac81_row11_col3{\n            background-color:  #5c5cff;\n            color:  #f1f1f1;\n        }#T_cac81_row12_col9{\n            background-color:  #c4c4ff;\n            color:  #000000;\n        }</style><table id=\"T_cac81_\" ><thead>    <tr>        <th class=\"blank level0\" ></th>        <th class=\"col_heading level0 col0\" >computers</th>        <th class=\"col_heading level0 col1\" >auto</th>        <th class=\"col_heading level0 col2\" >apparel</th>        <th class=\"col_heading level0 col3\" >appliances</th>        <th class=\"col_heading level0 col4\" >furniture</th>        <th class=\"col_heading level0 col5\" >accessories</th>        <th class=\"col_heading level0 col6\" >electronics</th>        <th class=\"col_heading level0 col7\" >construction</th>        <th class=\"col_heading level0 col8\" >not_defined</th>        <th class=\"col_heading level0 col9\" >turnover</th>        <th class=\"col_heading level0 col10\" >bougth_quantity</th>        <th class=\"col_heading level0 col11\" >viewed_quantity</th>        <th class=\"col_heading level0 col12\" >cart_quantity</th>    </tr></thead><tbody>\n                <tr>\n                        <th id=\"T_cac81_level0_row0\" class=\"row_heading level0 row0\" >computers</th>\n                        <td id=\"T_cac81_row0_col0\" class=\"data row0 col0\" >1.000000</td>\n                        <td id=\"T_cac81_row0_col1\" class=\"data row0 col1\" >-0.066120</td>\n                        <td id=\"T_cac81_row0_col2\" class=\"data row0 col2\" >-0.053646</td>\n                        <td id=\"T_cac81_row0_col3\" class=\"data row0 col3\" >-0.100958</td>\n                        <td id=\"T_cac81_row0_col4\" class=\"data row0 col4\" >-0.086472</td>\n                        <td id=\"T_cac81_row0_col5\" class=\"data row0 col5\" >-0.021674</td>\n                        <td id=\"T_cac81_row0_col6\" class=\"data row0 col6\" >-0.197201</td>\n                        <td id=\"T_cac81_row0_col7\" class=\"data row0 col7\" >-0.062207</td>\n                        <td id=\"T_cac81_row0_col8\" class=\"data row0 col8\" >nan</td>\n                        <td id=\"T_cac81_row0_col9\" class=\"data row0 col9\" >-0.027934</td>\n                        <td id=\"T_cac81_row0_col10\" class=\"data row0 col10\" >-0.030715</td>\n                        <td id=\"T_cac81_row0_col11\" class=\"data row0 col11\" >0.043619</td>\n                        <td id=\"T_cac81_row0_col12\" class=\"data row0 col12\" >-0.030715</td>\n            </tr>\n            <tr>\n                        <th id=\"T_cac81_level0_row1\" class=\"row_heading level0 row1\" >auto</th>\n                        <td id=\"T_cac81_row1_col0\" class=\"data row1 col0\" >-0.066120</td>\n                        <td id=\"T_cac81_row1_col1\" class=\"data row1 col1\" >1.000000</td>\n                        <td id=\"T_cac81_row1_col2\" class=\"data row1 col2\" >-0.031072</td>\n                        <td id=\"T_cac81_row1_col3\" class=\"data row1 col3\" >-0.058476</td>\n                        <td id=\"T_cac81_row1_col4\" class=\"data row1 col4\" >-0.050086</td>\n                        <td id=\"T_cac81_row1_col5\" class=\"data row1 col5\" >-0.012554</td>\n                        <td id=\"T_cac81_row1_col6\" class=\"data row1 col6\" >-0.114221</td>\n                        <td id=\"T_cac81_row1_col7\" class=\"data row1 col7\" >-0.036031</td>\n                        <td id=\"T_cac81_row1_col8\" class=\"data row1 col8\" >nan</td>\n                        <td id=\"T_cac81_row1_col9\" class=\"data row1 col9\" >-0.016180</td>\n                        <td id=\"T_cac81_row1_col10\" class=\"data row1 col10\" >-0.017791</td>\n                        <td id=\"T_cac81_row1_col11\" class=\"data row1 col11\" >0.025265</td>\n                        <td id=\"T_cac81_row1_col12\" class=\"data row1 col12\" >-0.017791</td>\n            </tr>\n            <tr>\n                        <th id=\"T_cac81_level0_row2\" class=\"row_heading level0 row2\" >apparel</th>\n                        <td id=\"T_cac81_row2_col0\" class=\"data row2 col0\" >-0.053646</td>\n                        <td id=\"T_cac81_row2_col1\" class=\"data row2 col1\" >-0.031072</td>\n                        <td id=\"T_cac81_row2_col2\" class=\"data row2 col2\" >1.000000</td>\n                        <td id=\"T_cac81_row2_col3\" class=\"data row2 col3\" >-0.047444</td>\n                        <td id=\"T_cac81_row2_col4\" class=\"data row2 col4\" >-0.040636</td>\n                        <td id=\"T_cac81_row2_col5\" class=\"data row2 col5\" >-0.010186</td>\n                        <td id=\"T_cac81_row2_col6\" class=\"data row2 col6\" >-0.092672</td>\n                        <td id=\"T_cac81_row2_col7\" class=\"data row2 col7\" >-0.029233</td>\n                        <td id=\"T_cac81_row2_col8\" class=\"data row2 col8\" >nan</td>\n                        <td id=\"T_cac81_row2_col9\" class=\"data row2 col9\" >-0.013127</td>\n                        <td id=\"T_cac81_row2_col10\" class=\"data row2 col10\" >-0.014434</td>\n                        <td id=\"T_cac81_row2_col11\" class=\"data row2 col11\" >0.020498</td>\n                        <td id=\"T_cac81_row2_col12\" class=\"data row2 col12\" >-0.014434</td>\n            </tr>\n            <tr>\n                        <th id=\"T_cac81_level0_row3\" class=\"row_heading level0 row3\" >appliances</th>\n                        <td id=\"T_cac81_row3_col0\" class=\"data row3 col0\" >-0.100958</td>\n                        <td id=\"T_cac81_row3_col1\" class=\"data row3 col1\" >-0.058476</td>\n                        <td id=\"T_cac81_row3_col2\" class=\"data row3 col2\" >-0.047444</td>\n                        <td id=\"T_cac81_row3_col3\" class=\"data row3 col3\" >1.000000</td>\n                        <td id=\"T_cac81_row3_col4\" class=\"data row3 col4\" >-0.076475</td>\n                        <td id=\"T_cac81_row3_col5\" class=\"data row3 col5\" >-0.019168</td>\n                        <td id=\"T_cac81_row3_col6\" class=\"data row3 col6\" >-0.174402</td>\n                        <td id=\"T_cac81_row3_col7\" class=\"data row3 col7\" >-0.055015</td>\n                        <td id=\"T_cac81_row3_col8\" class=\"data row3 col8\" >nan</td>\n                        <td id=\"T_cac81_row3_col9\" class=\"data row3 col9\" >-0.024704</td>\n                        <td id=\"T_cac81_row3_col10\" class=\"data row3 col10\" >-0.027164</td>\n                        <td id=\"T_cac81_row3_col11\" class=\"data row3 col11\" >0.038576</td>\n                        <td id=\"T_cac81_row3_col12\" class=\"data row3 col12\" >-0.027164</td>\n            </tr>\n            <tr>\n                        <th id=\"T_cac81_level0_row4\" class=\"row_heading level0 row4\" >furniture</th>\n                        <td id=\"T_cac81_row4_col0\" class=\"data row4 col0\" >-0.086472</td>\n                        <td id=\"T_cac81_row4_col1\" class=\"data row4 col1\" >-0.050086</td>\n                        <td id=\"T_cac81_row4_col2\" class=\"data row4 col2\" >-0.040636</td>\n                        <td id=\"T_cac81_row4_col3\" class=\"data row4 col3\" >-0.076475</td>\n                        <td id=\"T_cac81_row4_col4\" class=\"data row4 col4\" >1.000000</td>\n                        <td id=\"T_cac81_row4_col5\" class=\"data row4 col5\" >-0.016418</td>\n                        <td id=\"T_cac81_row4_col6\" class=\"data row4 col6\" >-0.149378</td>\n                        <td id=\"T_cac81_row4_col7\" class=\"data row4 col7\" >-0.047121</td>\n                        <td id=\"T_cac81_row4_col8\" class=\"data row4 col8\" >nan</td>\n                        <td id=\"T_cac81_row4_col9\" class=\"data row4 col9\" >0.229308</td>\n                        <td id=\"T_cac81_row4_col10\" class=\"data row4 col10\" >0.165969</td>\n                        <td id=\"T_cac81_row4_col11\" class=\"data row4 col11\" >-0.101326</td>\n                        <td id=\"T_cac81_row4_col12\" class=\"data row4 col12\" >-0.023267</td>\n            </tr>\n            <tr>\n                        <th id=\"T_cac81_level0_row5\" class=\"row_heading level0 row5\" >accessories</th>\n                        <td id=\"T_cac81_row5_col0\" class=\"data row5 col0\" >-0.021674</td>\n                        <td id=\"T_cac81_row5_col1\" class=\"data row5 col1\" >-0.012554</td>\n                        <td id=\"T_cac81_row5_col2\" class=\"data row5 col2\" >-0.010186</td>\n                        <td id=\"T_cac81_row5_col3\" class=\"data row5 col3\" >-0.019168</td>\n                        <td id=\"T_cac81_row5_col4\" class=\"data row5 col4\" >-0.016418</td>\n                        <td id=\"T_cac81_row5_col5\" class=\"data row5 col5\" >1.000000</td>\n                        <td id=\"T_cac81_row5_col6\" class=\"data row5 col6\" >-0.037442</td>\n                        <td id=\"T_cac81_row5_col7\" class=\"data row5 col7\" >-0.011811</td>\n                        <td id=\"T_cac81_row5_col8\" class=\"data row5 col8\" >nan</td>\n                        <td id=\"T_cac81_row5_col9\" class=\"data row5 col9\" >-0.005304</td>\n                        <td id=\"T_cac81_row5_col10\" class=\"data row5 col10\" >-0.005832</td>\n                        <td id=\"T_cac81_row5_col11\" class=\"data row5 col11\" >0.008282</td>\n                        <td id=\"T_cac81_row5_col12\" class=\"data row5 col12\" >-0.005832</td>\n            </tr>\n            <tr>\n                        <th id=\"T_cac81_level0_row6\" class=\"row_heading level0 row6\" >electronics</th>\n                        <td id=\"T_cac81_row6_col0\" class=\"data row6 col0\" >-0.197201</td>\n                        <td id=\"T_cac81_row6_col1\" class=\"data row6 col1\" >-0.114221</td>\n                        <td id=\"T_cac81_row6_col2\" class=\"data row6 col2\" >-0.092672</td>\n                        <td id=\"T_cac81_row6_col3\" class=\"data row6 col3\" >-0.174402</td>\n                        <td id=\"T_cac81_row6_col4\" class=\"data row6 col4\" >-0.149378</td>\n                        <td id=\"T_cac81_row6_col5\" class=\"data row6 col5\" >-0.037442</td>\n                        <td id=\"T_cac81_row6_col6\" class=\"data row6 col6\" >1.000000</td>\n                        <td id=\"T_cac81_row6_col7\" class=\"data row6 col7\" >-0.107461</td>\n                        <td id=\"T_cac81_row6_col8\" class=\"data row6 col8\" >nan</td>\n                        <td id=\"T_cac81_row6_col9\" class=\"data row6 col9\" >0.003459</td>\n                        <td id=\"T_cac81_row6_col10\" class=\"data row6 col10\" >0.051348</td>\n                        <td id=\"T_cac81_row6_col11\" class=\"data row6 col11\" >-0.072920</td>\n                        <td id=\"T_cac81_row6_col12\" class=\"data row6 col12\" >0.051348</td>\n            </tr>\n            <tr>\n                        <th id=\"T_cac81_level0_row7\" class=\"row_heading level0 row7\" >construction</th>\n                        <td id=\"T_cac81_row7_col0\" class=\"data row7 col0\" >-0.062207</td>\n                        <td id=\"T_cac81_row7_col1\" class=\"data row7 col1\" >-0.036031</td>\n                        <td id=\"T_cac81_row7_col2\" class=\"data row7 col2\" >-0.029233</td>\n                        <td id=\"T_cac81_row7_col3\" class=\"data row7 col3\" >-0.055015</td>\n                        <td id=\"T_cac81_row7_col4\" class=\"data row7 col4\" >-0.047121</td>\n                        <td id=\"T_cac81_row7_col5\" class=\"data row7 col5\" >-0.011811</td>\n                        <td id=\"T_cac81_row7_col6\" class=\"data row7 col6\" >-0.107461</td>\n                        <td id=\"T_cac81_row7_col7\" class=\"data row7 col7\" >1.000000</td>\n                        <td id=\"T_cac81_row7_col8\" class=\"data row7 col8\" >nan</td>\n                        <td id=\"T_cac81_row7_col9\" class=\"data row7 col9\" >-0.015222</td>\n                        <td id=\"T_cac81_row7_col10\" class=\"data row7 col10\" >-0.016738</td>\n                        <td id=\"T_cac81_row7_col11\" class=\"data row7 col11\" >0.023769</td>\n                        <td id=\"T_cac81_row7_col12\" class=\"data row7 col12\" >-0.016738</td>\n            </tr>\n            <tr>\n                        <th id=\"T_cac81_level0_row8\" class=\"row_heading level0 row8\" >not_defined</th>\n                        <td id=\"T_cac81_row8_col0\" class=\"data row8 col0\" >nan</td>\n                        <td id=\"T_cac81_row8_col1\" class=\"data row8 col1\" >nan</td>\n                        <td id=\"T_cac81_row8_col2\" class=\"data row8 col2\" >nan</td>\n                        <td id=\"T_cac81_row8_col3\" class=\"data row8 col3\" >nan</td>\n                        <td id=\"T_cac81_row8_col4\" class=\"data row8 col4\" >nan</td>\n                        <td id=\"T_cac81_row8_col5\" class=\"data row8 col5\" >nan</td>\n                        <td id=\"T_cac81_row8_col6\" class=\"data row8 col6\" >nan</td>\n                        <td id=\"T_cac81_row8_col7\" class=\"data row8 col7\" >nan</td>\n                        <td id=\"T_cac81_row8_col8\" class=\"data row8 col8\" >nan</td>\n                        <td id=\"T_cac81_row8_col9\" class=\"data row8 col9\" >nan</td>\n                        <td id=\"T_cac81_row8_col10\" class=\"data row8 col10\" >nan</td>\n                        <td id=\"T_cac81_row8_col11\" class=\"data row8 col11\" >nan</td>\n                        <td id=\"T_cac81_row8_col12\" class=\"data row8 col12\" >nan</td>\n            </tr>\n            <tr>\n                        <th id=\"T_cac81_level0_row9\" class=\"row_heading level0 row9\" >turnover</th>\n                        <td id=\"T_cac81_row9_col0\" class=\"data row9 col0\" >-0.027934</td>\n                        <td id=\"T_cac81_row9_col1\" class=\"data row9 col1\" >-0.016180</td>\n                        <td id=\"T_cac81_row9_col2\" class=\"data row9 col2\" >-0.013127</td>\n                        <td id=\"T_cac81_row9_col3\" class=\"data row9 col3\" >-0.024704</td>\n                        <td id=\"T_cac81_row9_col4\" class=\"data row9 col4\" >0.229308</td>\n                        <td id=\"T_cac81_row9_col5\" class=\"data row9 col5\" >-0.005304</td>\n                        <td id=\"T_cac81_row9_col6\" class=\"data row9 col6\" >0.003459</td>\n                        <td id=\"T_cac81_row9_col7\" class=\"data row9 col7\" >-0.015222</td>\n                        <td id=\"T_cac81_row9_col8\" class=\"data row9 col8\" >nan</td>\n                        <td id=\"T_cac81_row9_col9\" class=\"data row9 col9\" >1.000000</td>\n                        <td id=\"T_cac81_row9_col10\" class=\"data row9 col10\" >0.909438</td>\n                        <td id=\"T_cac81_row9_col11\" class=\"data row9 col11\" >-0.640407</td>\n                        <td id=\"T_cac81_row9_col12\" class=\"data row9 col12\" >-0.007516</td>\n            </tr>\n            <tr>\n                        <th id=\"T_cac81_level0_row10\" class=\"row_heading level0 row10\" >bougth_quantity</th>\n                        <td id=\"T_cac81_row10_col0\" class=\"data row10 col0\" >-0.030715</td>\n                        <td id=\"T_cac81_row10_col1\" class=\"data row10 col1\" >-0.017791</td>\n                        <td id=\"T_cac81_row10_col2\" class=\"data row10 col2\" >-0.014434</td>\n                        <td id=\"T_cac81_row10_col3\" class=\"data row10 col3\" >-0.027164</td>\n                        <td id=\"T_cac81_row10_col4\" class=\"data row10 col4\" >0.165969</td>\n                        <td id=\"T_cac81_row10_col5\" class=\"data row10 col5\" >-0.005832</td>\n                        <td id=\"T_cac81_row10_col6\" class=\"data row10 col6\" >0.051348</td>\n                        <td id=\"T_cac81_row10_col7\" class=\"data row10 col7\" >-0.016738</td>\n                        <td id=\"T_cac81_row10_col8\" class=\"data row10 col8\" >nan</td>\n                        <td id=\"T_cac81_row10_col9\" class=\"data row10 col9\" >0.909438</td>\n                        <td id=\"T_cac81_row10_col10\" class=\"data row10 col10\" >1.000000</td>\n                        <td id=\"T_cac81_row10_col11\" class=\"data row10 col11\" >-0.704179</td>\n                        <td id=\"T_cac81_row10_col12\" class=\"data row10 col12\" >-0.008264</td>\n            </tr>\n            <tr>\n                        <th id=\"T_cac81_level0_row11\" class=\"row_heading level0 row11\" >viewed_quantity</th>\n                        <td id=\"T_cac81_row11_col0\" class=\"data row11 col0\" >0.043619</td>\n                        <td id=\"T_cac81_row11_col1\" class=\"data row11 col1\" >0.025265</td>\n                        <td id=\"T_cac81_row11_col2\" class=\"data row11 col2\" >0.020498</td>\n                        <td id=\"T_cac81_row11_col3\" class=\"data row11 col3\" >0.038576</td>\n                        <td id=\"T_cac81_row11_col4\" class=\"data row11 col4\" >-0.101326</td>\n                        <td id=\"T_cac81_row11_col5\" class=\"data row11 col5\" >0.008282</td>\n                        <td id=\"T_cac81_row11_col6\" class=\"data row11 col6\" >-0.072920</td>\n                        <td id=\"T_cac81_row11_col7\" class=\"data row11 col7\" >0.023769</td>\n                        <td id=\"T_cac81_row11_col8\" class=\"data row11 col8\" >nan</td>\n                        <td id=\"T_cac81_row11_col9\" class=\"data row11 col9\" >-0.640407</td>\n                        <td id=\"T_cac81_row11_col10\" class=\"data row11 col10\" >-0.704179</td>\n                        <td id=\"T_cac81_row11_col11\" class=\"data row11 col11\" >1.000000</td>\n                        <td id=\"T_cac81_row11_col12\" class=\"data row11 col12\" >-0.704179</td>\n            </tr>\n            <tr>\n                        <th id=\"T_cac81_level0_row12\" class=\"row_heading level0 row12\" >cart_quantity</th>\n                        <td id=\"T_cac81_row12_col0\" class=\"data row12 col0\" >-0.030715</td>\n                        <td id=\"T_cac81_row12_col1\" class=\"data row12 col1\" >-0.017791</td>\n                        <td id=\"T_cac81_row12_col2\" class=\"data row12 col2\" >-0.014434</td>\n                        <td id=\"T_cac81_row12_col3\" class=\"data row12 col3\" >-0.027164</td>\n                        <td id=\"T_cac81_row12_col4\" class=\"data row12 col4\" >-0.023267</td>\n                        <td id=\"T_cac81_row12_col5\" class=\"data row12 col5\" >-0.005832</td>\n                        <td id=\"T_cac81_row12_col6\" class=\"data row12 col6\" >0.051348</td>\n                        <td id=\"T_cac81_row12_col7\" class=\"data row12 col7\" >-0.016738</td>\n                        <td id=\"T_cac81_row12_col8\" class=\"data row12 col8\" >nan</td>\n                        <td id=\"T_cac81_row12_col9\" class=\"data row12 col9\" >-0.007516</td>\n                        <td id=\"T_cac81_row12_col10\" class=\"data row12 col10\" >-0.008264</td>\n                        <td id=\"T_cac81_row12_col11\" class=\"data row12 col11\" >-0.704179</td>\n                        <td id=\"T_cac81_row12_col12\" class=\"data row12 col12\" >1.000000</td>\n            </tr>\n    </tbody></table>"
     },
     "metadata": {},
     "execution_count": 107
    }
   ],
   "source": [
    "sdf_corr_category_class.toPandas().corr().style.background_gradient(cmap='bwr')"
   ]
  },
  {
   "source": [
    "#### Month - Correlation Matrix"
   ],
   "cell_type": "markdown",
   "metadata": {}
  },
  {
   "cell_type": "code",
   "execution_count": 108,
   "metadata": {},
   "outputs": [],
   "source": [
    "sdf_corr_month = sdf_raw.select(\"dayofmonth\", \"turnover\", \"bougth_quantity\", \"viewed_quantity\", \"cart_quantity\")"
   ]
  },
  {
   "cell_type": "code",
   "execution_count": 109,
   "metadata": {},
   "outputs": [],
   "source": [
    "# One-hot-encoding\n",
    "sdf_corr_month = sdf_corr_month.withColumn('Beginningofmonth', f.when(f.col('dayofmonth')<10, f.lit(1)).otherwise(0))\n",
    "sdf_corr_month = sdf_corr_month.withColumn('Middleofmonth', f.when((f.col('dayofmonth')>=10) & (f.col('dayofmonth')<20), f.lit(1)).otherwise(0))\n",
    "sdf_corr_month = sdf_corr_month.withColumn('Endofmonth', f.when(f.col('dayofmonth') > 20 , f.lit(1)).otherwise(0))"
   ]
  },
  {
   "cell_type": "code",
   "execution_count": 110,
   "metadata": {},
   "outputs": [],
   "source": [
    "sdf_corr_month = sdf_corr_month.select(\"Beginningofmonth\", \"Middleofmonth\", \"Endofmonth\", \"turnover\", \"bougth_quantity\", \"viewed_quantity\", \"cart_quantity\" )"
   ]
  },
  {
   "cell_type": "code",
   "execution_count": 111,
   "metadata": {},
   "outputs": [
    {
     "output_type": "execute_result",
     "data": {
      "text/plain": [
       "<pandas.io.formats.style.Styler at 0x1c943ae6670>"
      ],
      "text/html": "<style  type=\"text/css\" >\n#T_092e4_row0_col0,#T_092e4_row1_col1,#T_092e4_row3_col3,#T_092e4_row4_col4,#T_092e4_row5_col5,#T_092e4_row6_col6{\n            background-color:  #ff0000;\n            color:  #f1f1f1;\n        }#T_092e4_row0_col1,#T_092e4_row1_col0,#T_092e4_row4_col5,#T_092e4_row5_col3,#T_092e4_row5_col4,#T_092e4_row5_col6,#T_092e4_row6_col5{\n            background-color:  #0000ff;\n            color:  #f1f1f1;\n        }#T_092e4_row0_col2,#T_092e4_row1_col2,#T_092e4_row2_col0,#T_092e4_row2_col1,#T_092e4_row2_col2,#T_092e4_row2_col3,#T_092e4_row2_col4,#T_092e4_row2_col5,#T_092e4_row2_col6,#T_092e4_row3_col2,#T_092e4_row4_col2,#T_092e4_row5_col2,#T_092e4_row6_col2{\n            background-color:  #000000;\n            color:  #f1f1f1;\n        }#T_092e4_row0_col3{\n            background-color:  #ceceff;\n            color:  #000000;\n        }#T_092e4_row0_col4,#T_092e4_row6_col0{\n            background-color:  #dadaff;\n            color:  #000000;\n        }#T_092e4_row0_col5{\n            background-color:  #ececff;\n            color:  #000000;\n        }#T_092e4_row0_col6{\n            background-color:  #a8a8ff;\n            color:  #000000;\n        }#T_092e4_row1_col3{\n            background-color:  #c0c0ff;\n            color:  #000000;\n        }#T_092e4_row1_col4{\n            background-color:  #cacaff;\n            color:  #000000;\n        }#T_092e4_row1_col5{\n            background-color:  #babaff;\n            color:  #000000;\n        }#T_092e4_row1_col6{\n            background-color:  #fefeff;\n            color:  #000000;\n        }#T_092e4_row3_col0,#T_092e4_row4_col0{\n            background-color:  #fff8f8;\n            color:  #000000;\n        }#T_092e4_row3_col1,#T_092e4_row4_col1{\n            background-color:  #f8f8ff;\n            color:  #000000;\n        }#T_092e4_row3_col4{\n            background-color:  #ff1a1a;\n            color:  #f1f1f1;\n        }#T_092e4_row3_col5{\n            background-color:  #1212ff;\n            color:  #f1f1f1;\n        }#T_092e4_row3_col6,#T_092e4_row4_col6,#T_092e4_row6_col4{\n            background-color:  #d0d0ff;\n            color:  #000000;\n        }#T_092e4_row4_col3{\n            background-color:  #ff1c1c;\n            color:  #f1f1f1;\n        }#T_092e4_row5_col0{\n            background-color:  #ffeaea;\n            color:  #000000;\n        }#T_092e4_row5_col1{\n            background-color:  #eaeaff;\n            color:  #000000;\n        }#T_092e4_row6_col1{\n            background-color:  #ffdada;\n            color:  #000000;\n        }#T_092e4_row6_col3{\n            background-color:  #c4c4ff;\n            color:  #000000;\n        }</style><table id=\"T_092e4_\" ><thead>    <tr>        <th class=\"blank level0\" ></th>        <th class=\"col_heading level0 col0\" >Beginningofmonth</th>        <th class=\"col_heading level0 col1\" >Middleofmonth</th>        <th class=\"col_heading level0 col2\" >Endofmonth</th>        <th class=\"col_heading level0 col3\" >turnover</th>        <th class=\"col_heading level0 col4\" >bougth_quantity</th>        <th class=\"col_heading level0 col5\" >viewed_quantity</th>        <th class=\"col_heading level0 col6\" >cart_quantity</th>    </tr></thead><tbody>\n                <tr>\n                        <th id=\"T_092e4_level0_row0\" class=\"row_heading level0 row0\" >Beginningofmonth</th>\n                        <td id=\"T_092e4_row0_col0\" class=\"data row0 col0\" >1.000000</td>\n                        <td id=\"T_092e4_row0_col1\" class=\"data row0 col1\" >-1.000000</td>\n                        <td id=\"T_092e4_row0_col2\" class=\"data row0 col2\" >nan</td>\n                        <td id=\"T_092e4_row0_col3\" class=\"data row0 col3\" >0.024025</td>\n                        <td id=\"T_092e4_row0_col4\" class=\"data row0 col4\" >0.026418</td>\n                        <td id=\"T_092e4_row0_col5\" class=\"data row0 col5\" >0.082929</td>\n                        <td id=\"T_092e4_row0_col6\" class=\"data row0 col6\" >-0.143211</td>\n            </tr>\n            <tr>\n                        <th id=\"T_092e4_level0_row1\" class=\"row_heading level0 row1\" >Middleofmonth</th>\n                        <td id=\"T_092e4_row1_col0\" class=\"data row1 col0\" >-1.000000</td>\n                        <td id=\"T_092e4_row1_col1\" class=\"data row1 col1\" >1.000000</td>\n                        <td id=\"T_092e4_row1_col2\" class=\"data row1 col2\" >nan</td>\n                        <td id=\"T_092e4_row1_col3\" class=\"data row1 col3\" >-0.024025</td>\n                        <td id=\"T_092e4_row1_col4\" class=\"data row1 col4\" >-0.026418</td>\n                        <td id=\"T_092e4_row1_col5\" class=\"data row1 col5\" >-0.082929</td>\n                        <td id=\"T_092e4_row1_col6\" class=\"data row1 col6\" >0.143211</td>\n            </tr>\n            <tr>\n                        <th id=\"T_092e4_level0_row2\" class=\"row_heading level0 row2\" >Endofmonth</th>\n                        <td id=\"T_092e4_row2_col0\" class=\"data row2 col0\" >nan</td>\n                        <td id=\"T_092e4_row2_col1\" class=\"data row2 col1\" >nan</td>\n                        <td id=\"T_092e4_row2_col2\" class=\"data row2 col2\" >nan</td>\n                        <td id=\"T_092e4_row2_col3\" class=\"data row2 col3\" >nan</td>\n                        <td id=\"T_092e4_row2_col4\" class=\"data row2 col4\" >nan</td>\n                        <td id=\"T_092e4_row2_col5\" class=\"data row2 col5\" >nan</td>\n                        <td id=\"T_092e4_row2_col6\" class=\"data row2 col6\" >nan</td>\n            </tr>\n            <tr>\n                        <th id=\"T_092e4_level0_row3\" class=\"row_heading level0 row3\" >turnover</th>\n                        <td id=\"T_092e4_row3_col0\" class=\"data row3 col0\" >0.024025</td>\n                        <td id=\"T_092e4_row3_col1\" class=\"data row3 col1\" >-0.024025</td>\n                        <td id=\"T_092e4_row3_col2\" class=\"data row3 col2\" >nan</td>\n                        <td id=\"T_092e4_row3_col3\" class=\"data row3 col3\" >1.000000</td>\n                        <td id=\"T_092e4_row3_col4\" class=\"data row3 col4\" >0.909438</td>\n                        <td id=\"T_092e4_row3_col5\" class=\"data row3 col5\" >-0.640407</td>\n                        <td id=\"T_092e4_row3_col6\" class=\"data row3 col6\" >-0.007516</td>\n            </tr>\n            <tr>\n                        <th id=\"T_092e4_level0_row4\" class=\"row_heading level0 row4\" >bougth_quantity</th>\n                        <td id=\"T_092e4_row4_col0\" class=\"data row4 col0\" >0.026418</td>\n                        <td id=\"T_092e4_row4_col1\" class=\"data row4 col1\" >-0.026418</td>\n                        <td id=\"T_092e4_row4_col2\" class=\"data row4 col2\" >nan</td>\n                        <td id=\"T_092e4_row4_col3\" class=\"data row4 col3\" >0.909438</td>\n                        <td id=\"T_092e4_row4_col4\" class=\"data row4 col4\" >1.000000</td>\n                        <td id=\"T_092e4_row4_col5\" class=\"data row4 col5\" >-0.704179</td>\n                        <td id=\"T_092e4_row4_col6\" class=\"data row4 col6\" >-0.008264</td>\n            </tr>\n            <tr>\n                        <th id=\"T_092e4_level0_row5\" class=\"row_heading level0 row5\" >viewed_quantity</th>\n                        <td id=\"T_092e4_row5_col0\" class=\"data row5 col0\" >0.082929</td>\n                        <td id=\"T_092e4_row5_col1\" class=\"data row5 col1\" >-0.082929</td>\n                        <td id=\"T_092e4_row5_col2\" class=\"data row5 col2\" >nan</td>\n                        <td id=\"T_092e4_row5_col3\" class=\"data row5 col3\" >-0.640407</td>\n                        <td id=\"T_092e4_row5_col4\" class=\"data row5 col4\" >-0.704179</td>\n                        <td id=\"T_092e4_row5_col5\" class=\"data row5 col5\" >1.000000</td>\n                        <td id=\"T_092e4_row5_col6\" class=\"data row5 col6\" >-0.704179</td>\n            </tr>\n            <tr>\n                        <th id=\"T_092e4_level0_row6\" class=\"row_heading level0 row6\" >cart_quantity</th>\n                        <td id=\"T_092e4_row6_col0\" class=\"data row6 col0\" >-0.143211</td>\n                        <td id=\"T_092e4_row6_col1\" class=\"data row6 col1\" >0.143211</td>\n                        <td id=\"T_092e4_row6_col2\" class=\"data row6 col2\" >nan</td>\n                        <td id=\"T_092e4_row6_col3\" class=\"data row6 col3\" >-0.007516</td>\n                        <td id=\"T_092e4_row6_col4\" class=\"data row6 col4\" >-0.008264</td>\n                        <td id=\"T_092e4_row6_col5\" class=\"data row6 col5\" >-0.704179</td>\n                        <td id=\"T_092e4_row6_col6\" class=\"data row6 col6\" >1.000000</td>\n            </tr>\n    </tbody></table>"
     },
     "metadata": {},
     "execution_count": 111
    }
   ],
   "source": [
    "sdf_corr_month.toPandas().corr().style.background_gradient(cmap='bwr')"
   ]
  },
  {
   "source": [
    "#### Price - Correlation Matrix"
   ],
   "cell_type": "markdown",
   "metadata": {}
  },
  {
   "cell_type": "code",
   "execution_count": 112,
   "metadata": {},
   "outputs": [
    {
     "output_type": "execute_result",
     "data": {
      "text/plain": [
       "<pandas.io.formats.style.Styler at 0x1c943bf85e0>"
      ],
      "text/html": "<style  type=\"text/css\" >\n#T_d8234_row0_col0,#T_d8234_row1_col1,#T_d8234_row2_col2,#T_d8234_row3_col3,#T_d8234_row4_col4{\n            background-color:  #ff0000;\n            color:  #f1f1f1;\n        }#T_d8234_row0_col1{\n            background-color:  #d2d2ff;\n            color:  #000000;\n        }#T_d8234_row0_col2{\n            background-color:  #d8d8ff;\n            color:  #000000;\n        }#T_d8234_row0_col3{\n            background-color:  #ceceff;\n            color:  #000000;\n        }#T_d8234_row0_col4{\n            background-color:  #d4d4ff;\n            color:  #000000;\n        }#T_d8234_row1_col0{\n            background-color:  #1616ff;\n            color:  #f1f1f1;\n        }#T_d8234_row1_col2{\n            background-color:  #ff1a1a;\n            color:  #f1f1f1;\n        }#T_d8234_row1_col3{\n            background-color:  #1212ff;\n            color:  #f1f1f1;\n        }#T_d8234_row1_col4,#T_d8234_row2_col4,#T_d8234_row4_col2{\n            background-color:  #d0d0ff;\n            color:  #000000;\n        }#T_d8234_row2_col0{\n            background-color:  #1010ff;\n            color:  #f1f1f1;\n        }#T_d8234_row2_col1{\n            background-color:  #ff1c1c;\n            color:  #f1f1f1;\n        }#T_d8234_row2_col3,#T_d8234_row3_col0,#T_d8234_row3_col1,#T_d8234_row3_col2,#T_d8234_row3_col4,#T_d8234_row4_col3{\n            background-color:  #0000ff;\n            color:  #f1f1f1;\n        }#T_d8234_row4_col0{\n            background-color:  #0808ff;\n            color:  #f1f1f1;\n        }#T_d8234_row4_col1{\n            background-color:  #c4c4ff;\n            color:  #000000;\n        }</style><table id=\"T_d8234_\" ><thead>    <tr>        <th class=\"blank level0\" ></th>        <th class=\"col_heading level0 col0\" >price</th>        <th class=\"col_heading level0 col1\" >turnover</th>        <th class=\"col_heading level0 col2\" >bougth_quantity</th>        <th class=\"col_heading level0 col3\" >viewed_quantity</th>        <th class=\"col_heading level0 col4\" >cart_quantity</th>    </tr></thead><tbody>\n                <tr>\n                        <th id=\"T_d8234_level0_row0\" class=\"row_heading level0 row0\" >price</th>\n                        <td id=\"T_d8234_row0_col0\" class=\"data row0 col0\" >1.000000</td>\n                        <td id=\"T_d8234_row0_col1\" class=\"data row0 col1\" >0.032651</td>\n                        <td id=\"T_d8234_row0_col2\" class=\"data row0 col2\" >0.018623</td>\n                        <td id=\"T_d8234_row0_col3\" class=\"data row0 col3\" >-0.014629</td>\n                        <td id=\"T_d8234_row0_col4\" class=\"data row0 col4\" >0.001980</td>\n            </tr>\n            <tr>\n                        <th id=\"T_d8234_level0_row1\" class=\"row_heading level0 row1\" >turnover</th>\n                        <td id=\"T_d8234_row1_col0\" class=\"data row1 col0\" >0.032651</td>\n                        <td id=\"T_d8234_row1_col1\" class=\"data row1 col1\" >1.000000</td>\n                        <td id=\"T_d8234_row1_col2\" class=\"data row1 col2\" >0.909438</td>\n                        <td id=\"T_d8234_row1_col3\" class=\"data row1 col3\" >-0.640407</td>\n                        <td id=\"T_d8234_row1_col4\" class=\"data row1 col4\" >-0.007516</td>\n            </tr>\n            <tr>\n                        <th id=\"T_d8234_level0_row2\" class=\"row_heading level0 row2\" >bougth_quantity</th>\n                        <td id=\"T_d8234_row2_col0\" class=\"data row2 col0\" >0.018623</td>\n                        <td id=\"T_d8234_row2_col1\" class=\"data row2 col1\" >0.909438</td>\n                        <td id=\"T_d8234_row2_col2\" class=\"data row2 col2\" >1.000000</td>\n                        <td id=\"T_d8234_row2_col3\" class=\"data row2 col3\" >-0.704179</td>\n                        <td id=\"T_d8234_row2_col4\" class=\"data row2 col4\" >-0.008264</td>\n            </tr>\n            <tr>\n                        <th id=\"T_d8234_level0_row3\" class=\"row_heading level0 row3\" >viewed_quantity</th>\n                        <td id=\"T_d8234_row3_col0\" class=\"data row3 col0\" >-0.014629</td>\n                        <td id=\"T_d8234_row3_col1\" class=\"data row3 col1\" >-0.640407</td>\n                        <td id=\"T_d8234_row3_col2\" class=\"data row3 col2\" >-0.704179</td>\n                        <td id=\"T_d8234_row3_col3\" class=\"data row3 col3\" >1.000000</td>\n                        <td id=\"T_d8234_row3_col4\" class=\"data row3 col4\" >-0.704179</td>\n            </tr>\n            <tr>\n                        <th id=\"T_d8234_level0_row4\" class=\"row_heading level0 row4\" >cart_quantity</th>\n                        <td id=\"T_d8234_row4_col0\" class=\"data row4 col0\" >0.001980</td>\n                        <td id=\"T_d8234_row4_col1\" class=\"data row4 col1\" >-0.007516</td>\n                        <td id=\"T_d8234_row4_col2\" class=\"data row4 col2\" >-0.008264</td>\n                        <td id=\"T_d8234_row4_col3\" class=\"data row4 col3\" >-0.704179</td>\n                        <td id=\"T_d8234_row4_col4\" class=\"data row4 col4\" >1.000000</td>\n            </tr>\n    </tbody></table>"
     },
     "metadata": {},
     "execution_count": 112
    }
   ],
   "source": [
    "sdf_corr_price = sdf_raw.select(\"price\", \"turnover\", \"bougth_quantity\", \"viewed_quantity\", \"cart_quantity\")\n",
    "sdf_corr_price.toPandas().corr().style.background_gradient(cmap='bwr')"
   ]
  }
 ],
 "metadata": {
  "kernelspec": {
   "name": "python3",
   "display_name": "Python 3.8.10 64-bit",
   "metadata": {
    "interpreter": {
     "hash": "b88c2bc458692b1a44f0b21d7e1dd52ad305b15f1b4b92eaef68c720f7c43993"
    }
   }
  },
  "language_info": {
   "codemirror_mode": {
    "name": "ipython",
    "version": 3
   },
   "file_extension": ".py",
   "mimetype": "text/x-python",
   "name": "python",
   "nbconvert_exporter": "python",
   "pygments_lexer": "ipython3",
   "version": "3.8.10"
  }
 },
 "nbformat": 4,
 "nbformat_minor": 4
}