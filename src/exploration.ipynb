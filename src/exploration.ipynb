{
 "cells": [
  {
   "cell_type": "markdown",
   "metadata": {
    "collapsed": true,
    "pycharm": {
     "name": "#%% md\n"
    }
   },
   "source": [
    "# Customer Analysis - Explore Customer Behavior"
   ]
  },
  {
   "cell_type": "markdown",
   "source": [
    "## Import"
   ],
   "metadata": {
    "collapsed": false
   }
  },
  {
   "cell_type": "markdown",
   "source": [
    "Needed packages. Pyspark will be used for data managing and plotly for visualisations. Keep in mind to install\n",
    "JAVA so Spark will work properly.\n",
    "\n",
    "Used dataset is from https://rees46.com/de found on https://www.kaggle.com/mkechinov/ecommerce-behavior-data-from-multi-category-store."
   ],
   "metadata": {
    "collapsed": false,
    "pycharm": {
     "name": "#%% md\n"
    }
   }
  },
  {
   "cell_type": "code",
   "execution_count": 1,
   "outputs": [],
   "source": [
    "import os\n",
    "import pyspark\n",
    "import pandas as pd\n",
    "import pyspark.sql.functions as f\n",
    "import plotly.express as px\n",
    "import plotly.graph_objects as go"
   ],
   "metadata": {
    "collapsed": false,
    "pycharm": {
     "name": "#%%\n"
    }
   }
  },
  {
   "cell_type": "markdown",
   "source": [
    "## Read"
   ],
   "metadata": {
    "collapsed": false
   }
  },
  {
   "cell_type": "markdown",
   "source": [
    "The data needs to be located in ```data/``` in unzipped form as a csv."
   ],
   "metadata": {
    "collapsed": false,
    "pycharm": {
     "name": "#%% md\n"
    }
   }
  },
  {
   "cell_type": "code",
   "execution_count": 7,
   "outputs": [],
   "source": [
    "# read raw data\n",
    "spark = pyspark.sql.SparkSession.builder.appName(\"app1\").getOrCreate()\n",
    "# sdf = spark.read.csv(\"data/*.csv\", header=True, inferSchema=True)\n",
    "#sdf_201911 = spark.read.csv(\"data/2019-Nov.csv\", header=True, inferSchema=True)\n",
    "#sdf_201910 = spark.read.csv(\"data/2019-Oct.csv\", header=True, inferSchema=True)\n",
    "sdf = spark.read.csv(\"data/test_data.csv\", header=True, inferSchema=True)"
   ],
   "metadata": {
    "collapsed": false,
    "pycharm": {
     "name": "#%%\n"
    }
   }
  },
  {
   "cell_type": "code",
   "execution_count": 8,
   "outputs": [
    {
     "output_type": "stream",
     "name": "stdout",
     "text": [
      "+--------------------+----------+----------+-------------------+--------------------+--------+------+---------+--------------------+\n|          event_time|event_type|product_id|        category_id|       category_code|   brand| price|  user_id|        user_session|\n+--------------------+----------+----------+-------------------+--------------------+--------+------+---------+--------------------+\n|2019-11-01 00:00:...|      view|   1003461|2053013555631882655|electronics.smart...|  xiaomi|489.07|520088904|4d3b30da-a5e4-49d...|\n|2019-11-01 00:00:...|      view|   5000088|2053013566100866035|appliances.sewing...|  janome|293.65|530496790|8e5f4f83-366c-4f7...|\n|2019-11-01 00:00:...|      view|  17302664|2053013553853497655|                null|   creed| 28.31|561587266|755422e7-9040-477...|\n|2019-11-01 00:00:...|      view|   3601530|2053013563810775923|appliances.kitche...|      lg|712.87|518085591|3bfb58cd-7892-48c...|\n|2019-11-01 00:00:...|      view|   1004775|2053013555631882655|electronics.smart...|  xiaomi|183.27|558856683|313628f1-68b8-460...|\n|2019-11-01 00:00:...|      view|   1306894|2053013558920217191|  computers.notebook|      hp|360.09|520772685|816a59f3-f5ae-4cc...|\n|2019-11-01 00:00:...|      view|   1306421|2053013558920217191|  computers.notebook|      hp|514.56|514028527|df8184cc-3694-454...|\n|2019-11-01 00:00:...|      view|  15900065|2053013558190408249|                null| rondell| 30.86|518574284|5e6ef132-4d7c-473...|\n|2019-11-01 00:00:...|      view|  12708937|2053013553559896355|                null|michelin| 72.72|532364121|0a899268-31eb-46d...|\n|2019-11-01 00:00:...|      view|   1004258|2053013555631882655|electronics.smart...|   apple|732.07|532647354|d2d3d2c6-631d-489...|\n|2019-11-01 00:00:...|      view|  17200570|2053013559792632471|furniture.living_...|    null|437.33|518780843|aa806835-b14c-45a...|\n|2019-11-01 00:00:...|      view|   2701517|2053013563911439225|appliances.kitche...|    null|155.11|518427361|c89b0d96-247f-404...|\n|2019-11-01 00:00:...|      view|  16700260|2053013559901684381|furniture.kitchen...|    null| 31.64|566255262|173d7b72-1db7-463...|\n|2019-11-01 00:00:...|      view|  34600011|2060981320581906480|                null|    null| 20.54|512416379|4dfe2c67-e537-4dc...|\n|2019-11-01 00:00:...|      view|   4600658|2053013563944993659|appliances.kitche...| samsung|411.83|526595547|aab33a9a-29c3-4d5...|\n|2019-11-01 00:00:...|      view|  24900193|2053013562183385881|                null|    null|  1.09|512651494|f603c815-f51a-46f...|\n|2019-11-01 00:00:...|      view|  27400066|2053013563391345499|                null|    null|  8.55|551061950|3f6112f1-5695-4e8...|\n|2019-11-01 00:00:...|      view|   5100503|2053013553375346967|                null|  xiaomi| 22.68|520037415|f54fa96a-f3f2-43a...|\n|2019-11-01 00:00:...|      view|   1004566|2053013555631882655|electronics.smart...|  huawei|164.84|566265908|52c2c76c-b79e-479...|\n|2019-11-01 00:00:...|      view|   1307115|2053013558920217191|  computers.notebook|      hp|411.59|514028527|df8184cc-3694-454...|\n+--------------------+----------+----------+-------------------+--------------------+--------+------+---------+--------------------+\nonly showing top 20 rows\n\n"
     ]
    }
   ],
   "source": [
    "# join both months together\n",
    "#sdf = sdf_201910.union(sdf_201911)\n",
    "# sdf = spark.read.csv(\"data/test_data.csv\", header=True, inferSchema=True)\n",
    "sdf.show()"
   ],
   "metadata": {
    "collapsed": false,
    "pycharm": {
     "name": "#%%\n"
    }
   }
  },
  {
   "cell_type": "markdown",
   "source": [
    "## Preparation"
   ],
   "metadata": {
    "collapsed": false,
    "pycharm": {
     "name": "#%% md\n"
    }
   }
  },
  {
   "cell_type": "markdown",
   "source": [
    "Prepare and enhance data for analysis and modelling."
   ],
   "metadata": {
    "collapsed": false
   }
  },
  {
   "cell_type": "code",
   "execution_count": 9,
   "outputs": [
    {
     "output_type": "stream",
     "name": "stdout",
     "text": [
      "root\n |-- event_time: timestamp (nullable = true)\n |-- event_type: string (nullable = false)\n |-- product_id: string (nullable = false)\n |-- category_id: string (nullable = false)\n |-- category_code: string (nullable = false)\n |-- brand: string (nullable = false)\n |-- price: double (nullable = true)\n |-- user_id: string (nullable = false)\n |-- user_session: string (nullable = false)\n |-- category_class: string (nullable = false)\n |-- year: integer (nullable = true)\n |-- month: integer (nullable = true)\n |-- weekofyear: integer (nullable = true)\n |-- dayofyear: integer (nullable = true)\n |-- dayofweek: integer (nullable = true)\n |-- dayofmonth: integer (nullable = true)\n\n"
     ]
    }
   ],
   "source": [
    "# Datatypes\n",
    "sdf = sdf.withColumn(\"event_time\", sdf[\"event_time\"].cast(pyspark.sql.types.TimestampType()))\n",
    "sdf = sdf.withColumn(\"category_id\", sdf[\"category_id\"].cast(pyspark.sql.types.StringType()))\n",
    "sdf = sdf.withColumn(\"product_id\", sdf[\"product_id\"].cast(pyspark.sql.types.StringType()))\n",
    "sdf = sdf.withColumn(\"user_id\", sdf[\"user_id\"].cast(pyspark.sql.types.StringType()))\n",
    "\n",
    "# Feature Splitting\n",
    "sdf = sdf.withColumn(\"category_class\", f.substring_index(sdf.category_code, '.', 1))\n",
    "\n",
    "# sdf = sdf.withColumn(\"category_class\", f.split(sdf[\"category_code\"], \".\").getItem(0))\n",
    "# sdf = sdf.withColumn(\"category_sub_class\", f.split(sdf[\"category_code\"], \".\").getItem(1))\n",
    "# sdf = sdf.withColumn(\"category_sub_sub_class\", f.split(sdf[\"category_code\"], \".\").getItem(2))\n",
    "\n",
    "sdf = sdf.withColumn(\"year\", f.year(\"event_time\"))\n",
    "sdf = sdf.withColumn(\"month\", f.month(\"event_time\"))\n",
    "sdf = sdf.withColumn(\"weekofyear\", f.weekofyear(\"event_time\"))\n",
    "sdf = sdf.withColumn(\"dayofyear\", f.dayofyear(\"event_time\"))\n",
    "sdf = sdf.withColumn(\"dayofweek\", f.dayofweek(\"event_time\"))\n",
    "sdf = sdf.withColumn(\"dayofmonth\", f.dayofmonth(\"event_time\"))\n",
    "\n",
    "# None Handling\n",
    "sdf = sdf.fillna(value=\"not defined\")\n",
    "\n",
    "sdf.printSchema()"
   ],
   "metadata": {
    "collapsed": false,
    "pycharm": {
     "name": "#%%\n"
    }
   }
  },
  {
   "cell_type": "markdown",
   "source": [
    "## Dataframe Creation"
   ],
   "metadata": {
    "collapsed": false,
    "pycharm": {
     "name": "#%% md\n"
    }
   }
  },
  {
   "cell_type": "markdown",
   "source": [
    "create several dataframes with different aggregation level to answer different questions/ tasks."
   ],
   "metadata": {
    "collapsed": false,
    "pycharm": {
     "name": "#%% md\n"
    }
   }
  },
  {
   "cell_type": "code",
   "execution_count": 10,
   "outputs": [
    {
     "output_type": "stream",
     "name": "stdout",
     "text": [
      "+-------------------+----------+----------+-------------------+--------------------+-----------+------+---------+--------------------+--------------+----+-----+----------+---------+---------+----------+\n|         event_time|event_type|product_id|        category_id|       category_code|      brand| price|  user_id|        user_session|category_class|year|month|weekofyear|dayofyear|dayofweek|dayofmonth|\n+-------------------+----------+----------+-------------------+--------------------+-----------+------+---------+--------------------+--------------+----+-----+----------+---------+---------+----------+\n|2019-11-01 01:00:00|      view|   1003461|2053013555631882655|electronics.smart...|     xiaomi|489.07|520088904|4d3b30da-a5e4-49d...|   electronics|2019|   11|        44|      305|        6|         1|\n|2019-11-01 01:00:00|      view|   5000088|2053013566100866035|appliances.sewing...|     janome|293.65|530496790|8e5f4f83-366c-4f7...|    appliances|2019|   11|        44|      305|        6|         1|\n|2019-11-01 01:00:01|      view|  17302664|2053013553853497655|         not defined|      creed| 28.31|561587266|755422e7-9040-477...|   not defined|2019|   11|        44|      305|        6|         1|\n|2019-11-01 01:00:01|      view|   3601530|2053013563810775923|appliances.kitche...|         lg|712.87|518085591|3bfb58cd-7892-48c...|    appliances|2019|   11|        44|      305|        6|         1|\n|2019-11-01 01:00:01|      view|   1004775|2053013555631882655|electronics.smart...|     xiaomi|183.27|558856683|313628f1-68b8-460...|   electronics|2019|   11|        44|      305|        6|         1|\n|2019-11-01 01:00:01|      view|   1306894|2053013558920217191|  computers.notebook|         hp|360.09|520772685|816a59f3-f5ae-4cc...|     computers|2019|   11|        44|      305|        6|         1|\n|2019-11-01 01:00:01|      view|   1306421|2053013558920217191|  computers.notebook|         hp|514.56|514028527|df8184cc-3694-454...|     computers|2019|   11|        44|      305|        6|         1|\n|2019-11-01 01:00:02|      view|  15900065|2053013558190408249|         not defined|    rondell| 30.86|518574284|5e6ef132-4d7c-473...|   not defined|2019|   11|        44|      305|        6|         1|\n|2019-11-01 01:00:02|      view|  12708937|2053013553559896355|         not defined|   michelin| 72.72|532364121|0a899268-31eb-46d...|   not defined|2019|   11|        44|      305|        6|         1|\n|2019-11-01 01:00:02|      view|   1004258|2053013555631882655|electronics.smart...|      apple|732.07|532647354|d2d3d2c6-631d-489...|   electronics|2019|   11|        44|      305|        6|         1|\n|2019-11-01 01:00:03|      view|  17200570|2053013559792632471|furniture.living_...|not defined|437.33|518780843|aa806835-b14c-45a...|     furniture|2019|   11|        44|      305|        6|         1|\n|2019-11-01 01:00:03|      view|   2701517|2053013563911439225|appliances.kitche...|not defined|155.11|518427361|c89b0d96-247f-404...|    appliances|2019|   11|        44|      305|        6|         1|\n|2019-11-01 01:00:03|      view|  16700260|2053013559901684381|furniture.kitchen...|not defined| 31.64|566255262|173d7b72-1db7-463...|     furniture|2019|   11|        44|      305|        6|         1|\n|2019-11-01 01:00:04|      view|  34600011|2060981320581906480|         not defined|not defined| 20.54|512416379|4dfe2c67-e537-4dc...|   not defined|2019|   11|        44|      305|        6|         1|\n|2019-11-01 01:00:05|      view|   4600658|2053013563944993659|appliances.kitche...|    samsung|411.83|526595547|aab33a9a-29c3-4d5...|    appliances|2019|   11|        44|      305|        6|         1|\n|2019-11-01 01:00:06|      view|  24900193|2053013562183385881|         not defined|not defined|  1.09|512651494|f603c815-f51a-46f...|   not defined|2019|   11|        44|      305|        6|         1|\n|2019-11-01 01:00:07|      view|  27400066|2053013563391345499|         not defined|not defined|  8.55|551061950|3f6112f1-5695-4e8...|   not defined|2019|   11|        44|      305|        6|         1|\n|2019-11-01 01:00:07|      view|   5100503|2053013553375346967|         not defined|     xiaomi| 22.68|520037415|f54fa96a-f3f2-43a...|   not defined|2019|   11|        44|      305|        6|         1|\n|2019-11-01 01:00:07|      view|   1004566|2053013555631882655|electronics.smart...|     huawei|164.84|566265908|52c2c76c-b79e-479...|   electronics|2019|   11|        44|      305|        6|         1|\n|2019-11-01 01:00:08|      view|   1307115|2053013558920217191|  computers.notebook|         hp|411.59|514028527|df8184cc-3694-454...|     computers|2019|   11|        44|      305|        6|         1|\n+-------------------+----------+----------+-------------------+--------------------+-----------+------+---------+--------------------+--------------+----+-----+----------+---------+---------+----------+\nonly showing top 20 rows\n\n"
     ]
    }
   ],
   "source": [
    "# raw\n",
    "sdf_raw = sdf\n",
    "sdf.createOrReplaceTempView(\"Data\")\n",
    "sdf_raw.show()"
   ],
   "metadata": {
    "collapsed": false,
    "pycharm": {
     "name": "#%%\n"
    }
   }
  },
  {
   "cell_type": "code",
   "execution_count": 11,
   "outputs": [
    {
     "output_type": "stream",
     "name": "stdout",
     "text": [
      "+---------+--------------------+----------+----------+----------+\n|  user_id|        user_session|event_type|product_id|avg(price)|\n+---------+--------------------+----------+----------+----------+\n|513998949|a7b196d9-afe5-4dc...|      view|  50600085|    113.93|\n|565731881|5d8cb7aa-ca44-470...|      view|   4804194|     69.24|\n|565731881|5d8cb7aa-ca44-470...|      view|   4804151|     51.22|\n|550043341|200ebe4a-40e6-4c3...|      view|  16000004|     43.73|\n|532647354|d2d3d2c6-631d-489...|      view|   1004258|    732.07|\n|544896141|80a43be5-1e98-44e...|      view|   1005116|   1013.86|\n|566143627|aa610ab3-5c60-455...|      view|   1004708|    151.99|\n|566280567|8cd74350-34e7-423...|      view|   1004322|    334.37|\n|515782589|f2081cf0-0ee3-4bf...|      view|   1800729|    289.33|\n|517081324|bd1d99b3-0c06-4e1...|      view|  12301394|    226.83|\n|566255262|173d7b72-1db7-463...|      view|  16700384|     36.78|\n|520772685|816a59f3-f5ae-4cc...|      view|   1306894|    360.09|\n|565098257|dfbfd3f3-9347-45a...|      view|  37900026|    105.54|\n|557799444|242b6d4d-720e-49a...|      view|   1307255|    514.79|\n|527322328|5054190a-46cb-421...|      view|   4600541|    298.16|\n|566265908|52c2c76c-b79e-479...|      view|   1004834|    172.22|\n|566255262|173d7b72-1db7-463...|      view|  16700826|     47.77|\n|551977964|2058fb5d-047d-46a...|      view|   4100297|    511.13|\n|513118352|4c14bf2a-2820-450...|      view|  21407128|    380.96|\n|566280946|9b9c18a3-9a35-4e7...|      view|   5700662|    180.18|\n+---------+--------------------+----------+----------+----------+\nonly showing top 20 rows\n\n"
     ]
    }
   ],
   "source": [
    "# aggregated customer\n",
    "sdf_agg_cust = sdf.groupBy(\"user_id\", \"user_session\", \"event_type\", \"product_id\").mean(\"price\")\n",
    "sdf_agg_cust.show()"
   ],
   "metadata": {
    "collapsed": false,
    "pycharm": {
     "name": "#%%\n"
    }
   }
  },
  {
   "cell_type": "code",
   "execution_count": null,
   "outputs": [],
   "source": [
    "# aggregated session"
   ],
   "metadata": {
    "collapsed": false,
    "pycharm": {
     "name": "#%%\n"
    }
   }
  },
  {
   "cell_type": "code",
   "execution_count": null,
   "outputs": [],
   "source": [
    "# aggregated product\n"
   ],
   "metadata": {
    "collapsed": false,
    "pycharm": {
     "name": "#%%\n"
    }
   }
  },
  {
   "cell_type": "code",
   "execution_count": null,
   "outputs": [],
   "source": [
    "# aggregated class"
   ],
   "metadata": {
    "collapsed": false,
    "pycharm": {
     "name": "#%%\n"
    }
   }
  },
  {
   "cell_type": "code",
   "execution_count": null,
   "outputs": [],
   "source": [],
   "metadata": {
    "collapsed": false,
    "pycharm": {
     "name": "#%% aggregated time (weeks, dayofweeks, month)\n"
    }
   }
  },
  {
   "cell_type": "markdown",
   "source": [
    "## Field Explanations"
   ],
   "metadata": {
    "collapsed": false,
    "pycharm": {
     "name": "#%% md\n"
    }
   }
  },
  {
   "cell_type": "markdown",
   "source": [
    "Following fields are in the standard dataset:\n",
    "- event_time\n",
    "- event_type\n",
    "- product_id\n",
    "- category_id\n",
    "- category_code\n",
    "- brand\n",
    "- price\n",
    "- user_id\n",
    "- user_session"
   ],
   "metadata": {
    "collapsed": false,
    "pycharm": {
     "name": "#%% md\n"
    }
   }
  },
  {
   "source": [
    "### General"
   ],
   "cell_type": "markdown",
   "metadata": {
    "collapsed": false,
    "pycharm": {
     "name": "#%%\n"
    }
   }
  },
  {
   "cell_type": "code",
   "execution_count": 14,
   "metadata": {},
   "outputs": [
    {
     "output_type": "stream",
     "name": "stdout",
     "text": [
      "+---------+----------+--------------+-------------+-----------+-----+-------+------------+---------+\n|Row_Count|Product_ID|Category_Class|Category_Code|Category_ID|Brand|User_ID|User_Session|AVG_Price|\n+---------+----------+--------------+-------------+-----------+-----+-------+------------+---------+\n|      217|       188|             9|           35|         74|   86|    126|         126|   306.63|\n+---------+----------+--------------+-------------+-----------+-----+-------+------------+---------+\n\n"
     ]
    }
   ],
   "source": [
    "sdf_count_overview = spark.sql(\"SELECT COUNT(*) AS Row_Count, \\\n",
    "                                       COUNT(DISTINCT(product_id)) AS Product_ID, \\\n",
    "                                       COUNT(DISTINCT(category_class)) AS Category_Class, \\\n",
    "                                       COUNT(DISTINCT(category_code)) AS Category_Code, \\\n",
    "                                       COUNT(DISTINCT(category_id)) AS Category_ID, \\\n",
    "                                       COUNT(DISTINCT(brand)) AS Brand, \\\n",
    "                                       COUNT(DISTINCT(user_id)) AS User_ID, \\\n",
    "                                       COUNT(DISTINCT(user_session)) AS User_Session, \\\n",
    "                                       ROUND(MEAN(price),2) AS AVG_Price \\\n",
    "                                FROM Data\")\n",
    "sdf_count_overview.show()"
   ]
  },
  {
   "source": [
    "In this overview you can see the count of unique rows, product_ids, category_classes, category_codes, category_ids, brands, user_ids and user_sessions as well as the average price of the products."
   ],
   "cell_type": "markdown",
   "metadata": {}
  },
  {
   "source": [
    "### event_time"
   ],
   "cell_type": "markdown",
   "metadata": {
    "collapsed": false,
    "pycharm": {
     "name": "#%%\n"
    }
   }
  },
  {
   "source": [
    "### event_type"
   ],
   "cell_type": "markdown",
   "metadata": {}
  },
  {
   "source": [
    "The event_type describes the kind of interaction, an user had with a product. The field can take three forms: View, Cart and Purchase. The distribution of these three forms is represented in the following plot:"
   ],
   "cell_type": "markdown",
   "metadata": {}
  },
  {
   "cell_type": "code",
   "execution_count": 63,
   "metadata": {},
   "outputs": [
    {
     "output_type": "display_data",
     "data": {
      "application/vnd.plotly.v1+json": {
       "config": {
        "plotlyServerURL": "https://plot.ly"
       },
       "data": [
        {
         "branchvalues": "total",
         "domain": {
          "x": [
           0,
           1
          ],
          "y": [
           0,
           1
          ]
         },
         "hovertemplate": "labels=%{label}<br>Count=%{value}<br>parent=%{parent}<br>id=%{id}<extra></extra>",
         "ids": [
          "cart",
          "purchase",
          "view"
         ],
         "labels": [
          "cart",
          "purchase",
          "view"
         ],
         "name": "",
         "parents": [
          "",
          "",
          ""
         ],
         "type": "sunburst",
         "values": [
          1,
          2,
          214
         ]
        }
       ],
       "layout": {
        "legend": {
         "tracegroupgap": 0
        },
        "margin": {
         "t": 60
        },
        "template": {
         "data": {
          "bar": [
           {
            "error_x": {
             "color": "#2a3f5f"
            },
            "error_y": {
             "color": "#2a3f5f"
            },
            "marker": {
             "line": {
              "color": "#E5ECF6",
              "width": 0.5
             }
            },
            "type": "bar"
           }
          ],
          "barpolar": [
           {
            "marker": {
             "line": {
              "color": "#E5ECF6",
              "width": 0.5
             }
            },
            "type": "barpolar"
           }
          ],
          "carpet": [
           {
            "aaxis": {
             "endlinecolor": "#2a3f5f",
             "gridcolor": "white",
             "linecolor": "white",
             "minorgridcolor": "white",
             "startlinecolor": "#2a3f5f"
            },
            "baxis": {
             "endlinecolor": "#2a3f5f",
             "gridcolor": "white",
             "linecolor": "white",
             "minorgridcolor": "white",
             "startlinecolor": "#2a3f5f"
            },
            "type": "carpet"
           }
          ],
          "choropleth": [
           {
            "colorbar": {
             "outlinewidth": 0,
             "ticks": ""
            },
            "type": "choropleth"
           }
          ],
          "contour": [
           {
            "colorbar": {
             "outlinewidth": 0,
             "ticks": ""
            },
            "colorscale": [
             [
              0,
              "#0d0887"
             ],
             [
              0.1111111111111111,
              "#46039f"
             ],
             [
              0.2222222222222222,
              "#7201a8"
             ],
             [
              0.3333333333333333,
              "#9c179e"
             ],
             [
              0.4444444444444444,
              "#bd3786"
             ],
             [
              0.5555555555555556,
              "#d8576b"
             ],
             [
              0.6666666666666666,
              "#ed7953"
             ],
             [
              0.7777777777777778,
              "#fb9f3a"
             ],
             [
              0.8888888888888888,
              "#fdca26"
             ],
             [
              1,
              "#f0f921"
             ]
            ],
            "type": "contour"
           }
          ],
          "contourcarpet": [
           {
            "colorbar": {
             "outlinewidth": 0,
             "ticks": ""
            },
            "type": "contourcarpet"
           }
          ],
          "heatmap": [
           {
            "colorbar": {
             "outlinewidth": 0,
             "ticks": ""
            },
            "colorscale": [
             [
              0,
              "#0d0887"
             ],
             [
              0.1111111111111111,
              "#46039f"
             ],
             [
              0.2222222222222222,
              "#7201a8"
             ],
             [
              0.3333333333333333,
              "#9c179e"
             ],
             [
              0.4444444444444444,
              "#bd3786"
             ],
             [
              0.5555555555555556,
              "#d8576b"
             ],
             [
              0.6666666666666666,
              "#ed7953"
             ],
             [
              0.7777777777777778,
              "#fb9f3a"
             ],
             [
              0.8888888888888888,
              "#fdca26"
             ],
             [
              1,
              "#f0f921"
             ]
            ],
            "type": "heatmap"
           }
          ],
          "heatmapgl": [
           {
            "colorbar": {
             "outlinewidth": 0,
             "ticks": ""
            },
            "colorscale": [
             [
              0,
              "#0d0887"
             ],
             [
              0.1111111111111111,
              "#46039f"
             ],
             [
              0.2222222222222222,
              "#7201a8"
             ],
             [
              0.3333333333333333,
              "#9c179e"
             ],
             [
              0.4444444444444444,
              "#bd3786"
             ],
             [
              0.5555555555555556,
              "#d8576b"
             ],
             [
              0.6666666666666666,
              "#ed7953"
             ],
             [
              0.7777777777777778,
              "#fb9f3a"
             ],
             [
              0.8888888888888888,
              "#fdca26"
             ],
             [
              1,
              "#f0f921"
             ]
            ],
            "type": "heatmapgl"
           }
          ],
          "histogram": [
           {
            "marker": {
             "colorbar": {
              "outlinewidth": 0,
              "ticks": ""
             }
            },
            "type": "histogram"
           }
          ],
          "histogram2d": [
           {
            "colorbar": {
             "outlinewidth": 0,
             "ticks": ""
            },
            "colorscale": [
             [
              0,
              "#0d0887"
             ],
             [
              0.1111111111111111,
              "#46039f"
             ],
             [
              0.2222222222222222,
              "#7201a8"
             ],
             [
              0.3333333333333333,
              "#9c179e"
             ],
             [
              0.4444444444444444,
              "#bd3786"
             ],
             [
              0.5555555555555556,
              "#d8576b"
             ],
             [
              0.6666666666666666,
              "#ed7953"
             ],
             [
              0.7777777777777778,
              "#fb9f3a"
             ],
             [
              0.8888888888888888,
              "#fdca26"
             ],
             [
              1,
              "#f0f921"
             ]
            ],
            "type": "histogram2d"
           }
          ],
          "histogram2dcontour": [
           {
            "colorbar": {
             "outlinewidth": 0,
             "ticks": ""
            },
            "colorscale": [
             [
              0,
              "#0d0887"
             ],
             [
              0.1111111111111111,
              "#46039f"
             ],
             [
              0.2222222222222222,
              "#7201a8"
             ],
             [
              0.3333333333333333,
              "#9c179e"
             ],
             [
              0.4444444444444444,
              "#bd3786"
             ],
             [
              0.5555555555555556,
              "#d8576b"
             ],
             [
              0.6666666666666666,
              "#ed7953"
             ],
             [
              0.7777777777777778,
              "#fb9f3a"
             ],
             [
              0.8888888888888888,
              "#fdca26"
             ],
             [
              1,
              "#f0f921"
             ]
            ],
            "type": "histogram2dcontour"
           }
          ],
          "mesh3d": [
           {
            "colorbar": {
             "outlinewidth": 0,
             "ticks": ""
            },
            "type": "mesh3d"
           }
          ],
          "parcoords": [
           {
            "line": {
             "colorbar": {
              "outlinewidth": 0,
              "ticks": ""
             }
            },
            "type": "parcoords"
           }
          ],
          "pie": [
           {
            "automargin": true,
            "type": "pie"
           }
          ],
          "scatter": [
           {
            "marker": {
             "colorbar": {
              "outlinewidth": 0,
              "ticks": ""
             }
            },
            "type": "scatter"
           }
          ],
          "scatter3d": [
           {
            "line": {
             "colorbar": {
              "outlinewidth": 0,
              "ticks": ""
             }
            },
            "marker": {
             "colorbar": {
              "outlinewidth": 0,
              "ticks": ""
             }
            },
            "type": "scatter3d"
           }
          ],
          "scattercarpet": [
           {
            "marker": {
             "colorbar": {
              "outlinewidth": 0,
              "ticks": ""
             }
            },
            "type": "scattercarpet"
           }
          ],
          "scattergeo": [
           {
            "marker": {
             "colorbar": {
              "outlinewidth": 0,
              "ticks": ""
             }
            },
            "type": "scattergeo"
           }
          ],
          "scattergl": [
           {
            "marker": {
             "colorbar": {
              "outlinewidth": 0,
              "ticks": ""
             }
            },
            "type": "scattergl"
           }
          ],
          "scattermapbox": [
           {
            "marker": {
             "colorbar": {
              "outlinewidth": 0,
              "ticks": ""
             }
            },
            "type": "scattermapbox"
           }
          ],
          "scatterpolar": [
           {
            "marker": {
             "colorbar": {
              "outlinewidth": 0,
              "ticks": ""
             }
            },
            "type": "scatterpolar"
           }
          ],
          "scatterpolargl": [
           {
            "marker": {
             "colorbar": {
              "outlinewidth": 0,
              "ticks": ""
             }
            },
            "type": "scatterpolargl"
           }
          ],
          "scatterternary": [
           {
            "marker": {
             "colorbar": {
              "outlinewidth": 0,
              "ticks": ""
             }
            },
            "type": "scatterternary"
           }
          ],
          "surface": [
           {
            "colorbar": {
             "outlinewidth": 0,
             "ticks": ""
            },
            "colorscale": [
             [
              0,
              "#0d0887"
             ],
             [
              0.1111111111111111,
              "#46039f"
             ],
             [
              0.2222222222222222,
              "#7201a8"
             ],
             [
              0.3333333333333333,
              "#9c179e"
             ],
             [
              0.4444444444444444,
              "#bd3786"
             ],
             [
              0.5555555555555556,
              "#d8576b"
             ],
             [
              0.6666666666666666,
              "#ed7953"
             ],
             [
              0.7777777777777778,
              "#fb9f3a"
             ],
             [
              0.8888888888888888,
              "#fdca26"
             ],
             [
              1,
              "#f0f921"
             ]
            ],
            "type": "surface"
           }
          ],
          "table": [
           {
            "cells": {
             "fill": {
              "color": "#EBF0F8"
             },
             "line": {
              "color": "white"
             }
            },
            "header": {
             "fill": {
              "color": "#C8D4E3"
             },
             "line": {
              "color": "white"
             }
            },
            "type": "table"
           }
          ]
         },
         "layout": {
          "annotationdefaults": {
           "arrowcolor": "#2a3f5f",
           "arrowhead": 0,
           "arrowwidth": 1
          },
          "autotypenumbers": "strict",
          "coloraxis": {
           "colorbar": {
            "outlinewidth": 0,
            "ticks": ""
           }
          },
          "colorscale": {
           "diverging": [
            [
             0,
             "#8e0152"
            ],
            [
             0.1,
             "#c51b7d"
            ],
            [
             0.2,
             "#de77ae"
            ],
            [
             0.3,
             "#f1b6da"
            ],
            [
             0.4,
             "#fde0ef"
            ],
            [
             0.5,
             "#f7f7f7"
            ],
            [
             0.6,
             "#e6f5d0"
            ],
            [
             0.7,
             "#b8e186"
            ],
            [
             0.8,
             "#7fbc41"
            ],
            [
             0.9,
             "#4d9221"
            ],
            [
             1,
             "#276419"
            ]
           ],
           "sequential": [
            [
             0,
             "#0d0887"
            ],
            [
             0.1111111111111111,
             "#46039f"
            ],
            [
             0.2222222222222222,
             "#7201a8"
            ],
            [
             0.3333333333333333,
             "#9c179e"
            ],
            [
             0.4444444444444444,
             "#bd3786"
            ],
            [
             0.5555555555555556,
             "#d8576b"
            ],
            [
             0.6666666666666666,
             "#ed7953"
            ],
            [
             0.7777777777777778,
             "#fb9f3a"
            ],
            [
             0.8888888888888888,
             "#fdca26"
            ],
            [
             1,
             "#f0f921"
            ]
           ],
           "sequentialminus": [
            [
             0,
             "#0d0887"
            ],
            [
             0.1111111111111111,
             "#46039f"
            ],
            [
             0.2222222222222222,
             "#7201a8"
            ],
            [
             0.3333333333333333,
             "#9c179e"
            ],
            [
             0.4444444444444444,
             "#bd3786"
            ],
            [
             0.5555555555555556,
             "#d8576b"
            ],
            [
             0.6666666666666666,
             "#ed7953"
            ],
            [
             0.7777777777777778,
             "#fb9f3a"
            ],
            [
             0.8888888888888888,
             "#fdca26"
            ],
            [
             1,
             "#f0f921"
            ]
           ]
          },
          "colorway": [
           "#636efa",
           "#EF553B",
           "#00cc96",
           "#ab63fa",
           "#FFA15A",
           "#19d3f3",
           "#FF6692",
           "#B6E880",
           "#FF97FF",
           "#FECB52"
          ],
          "font": {
           "color": "#2a3f5f"
          },
          "geo": {
           "bgcolor": "white",
           "lakecolor": "white",
           "landcolor": "#E5ECF6",
           "showlakes": true,
           "showland": true,
           "subunitcolor": "white"
          },
          "hoverlabel": {
           "align": "left"
          },
          "hovermode": "closest",
          "mapbox": {
           "style": "light"
          },
          "paper_bgcolor": "white",
          "plot_bgcolor": "#E5ECF6",
          "polar": {
           "angularaxis": {
            "gridcolor": "white",
            "linecolor": "white",
            "ticks": ""
           },
           "bgcolor": "#E5ECF6",
           "radialaxis": {
            "gridcolor": "white",
            "linecolor": "white",
            "ticks": ""
           }
          },
          "scene": {
           "xaxis": {
            "backgroundcolor": "#E5ECF6",
            "gridcolor": "white",
            "gridwidth": 2,
            "linecolor": "white",
            "showbackground": true,
            "ticks": "",
            "zerolinecolor": "white"
           },
           "yaxis": {
            "backgroundcolor": "#E5ECF6",
            "gridcolor": "white",
            "gridwidth": 2,
            "linecolor": "white",
            "showbackground": true,
            "ticks": "",
            "zerolinecolor": "white"
           },
           "zaxis": {
            "backgroundcolor": "#E5ECF6",
            "gridcolor": "white",
            "gridwidth": 2,
            "linecolor": "white",
            "showbackground": true,
            "ticks": "",
            "zerolinecolor": "white"
           }
          },
          "shapedefaults": {
           "line": {
            "color": "#2a3f5f"
           }
          },
          "ternary": {
           "aaxis": {
            "gridcolor": "white",
            "linecolor": "white",
            "ticks": ""
           },
           "baxis": {
            "gridcolor": "white",
            "linecolor": "white",
            "ticks": ""
           },
           "bgcolor": "#E5ECF6",
           "caxis": {
            "gridcolor": "white",
            "linecolor": "white",
            "ticks": ""
           }
          },
          "title": {
           "x": 0.05
          },
          "xaxis": {
           "automargin": true,
           "gridcolor": "white",
           "linecolor": "white",
           "ticks": "",
           "title": {
            "standoff": 15
           },
           "zerolinecolor": "white",
           "zerolinewidth": 2
          },
          "yaxis": {
           "automargin": true,
           "gridcolor": "white",
           "linecolor": "white",
           "ticks": "",
           "title": {
            "standoff": 15
           },
           "zerolinecolor": "white",
           "zerolinewidth": 2
          }
         }
        }
       }
      }
     },
     "metadata": {}
    }
   ],
   "source": [
    "sdf_event_distribution = spark.sql(\"SELECT event_type, \\\n",
    "                                              Count(*) AS Count \\\n",
    "                                      FROM Data \\\n",
    "                                      GROUP BY event_type\")\n",
    "px.sunburst(sdf_event_distribution.toPandas(), path=['event_type'], values=\"Count\")"
   ]
  },
  {
   "source": [
    "### product_id"
   ],
   "cell_type": "markdown",
   "metadata": {
    "collapsed": false,
    "pycharm": {
     "name": "#%%\n"
    }
   }
  },
  {
   "source": [
    "The product_id is the unique identificator for a product. As you can see in the overview, there are [...] unique product_ids in the datasets Oct-2019 and Nov-2019, the users have interacted with."
   ],
   "cell_type": "markdown",
   "metadata": {}
  },
  {
   "cell_type": "code",
   "execution_count": 15,
   "metadata": {},
   "outputs": [
    {
     "output_type": "display_data",
     "data": {
      "application/vnd.plotly.v1+json": {
       "config": {
        "plotlyServerURL": "https://plot.ly"
       },
       "data": [
        {
         "alignmentgroup": "True",
         "hovertemplate": "Product_ID=%{x}<br>Count=%{y}<extra></extra>",
         "legendgroup": "",
         "marker": {
          "color": "#636efa"
         },
         "name": "",
         "offsetgroup": "",
         "orientation": "v",
         "showlegend": false,
         "textposition": "auto",
         "type": "bar",
         "x": [
          "24400437",
          "5701331",
          "12708937",
          "13200605",
          "1003461",
          "1307115",
          "16700826",
          "1004258",
          "4804295",
          "1004237"
         ],
         "xaxis": "x",
         "y": [
          3,
          3,
          3,
          3,
          2,
          2,
          2,
          2,
          2,
          2
         ],
         "yaxis": "y"
        }
       ],
       "layout": {
        "barmode": "relative",
        "legend": {
         "tracegroupgap": 0
        },
        "margin": {
         "t": 60
        },
        "template": {
         "data": {
          "bar": [
           {
            "error_x": {
             "color": "#2a3f5f"
            },
            "error_y": {
             "color": "#2a3f5f"
            },
            "marker": {
             "line": {
              "color": "#E5ECF6",
              "width": 0.5
             }
            },
            "type": "bar"
           }
          ],
          "barpolar": [
           {
            "marker": {
             "line": {
              "color": "#E5ECF6",
              "width": 0.5
             }
            },
            "type": "barpolar"
           }
          ],
          "carpet": [
           {
            "aaxis": {
             "endlinecolor": "#2a3f5f",
             "gridcolor": "white",
             "linecolor": "white",
             "minorgridcolor": "white",
             "startlinecolor": "#2a3f5f"
            },
            "baxis": {
             "endlinecolor": "#2a3f5f",
             "gridcolor": "white",
             "linecolor": "white",
             "minorgridcolor": "white",
             "startlinecolor": "#2a3f5f"
            },
            "type": "carpet"
           }
          ],
          "choropleth": [
           {
            "colorbar": {
             "outlinewidth": 0,
             "ticks": ""
            },
            "type": "choropleth"
           }
          ],
          "contour": [
           {
            "colorbar": {
             "outlinewidth": 0,
             "ticks": ""
            },
            "colorscale": [
             [
              0,
              "#0d0887"
             ],
             [
              0.1111111111111111,
              "#46039f"
             ],
             [
              0.2222222222222222,
              "#7201a8"
             ],
             [
              0.3333333333333333,
              "#9c179e"
             ],
             [
              0.4444444444444444,
              "#bd3786"
             ],
             [
              0.5555555555555556,
              "#d8576b"
             ],
             [
              0.6666666666666666,
              "#ed7953"
             ],
             [
              0.7777777777777778,
              "#fb9f3a"
             ],
             [
              0.8888888888888888,
              "#fdca26"
             ],
             [
              1,
              "#f0f921"
             ]
            ],
            "type": "contour"
           }
          ],
          "contourcarpet": [
           {
            "colorbar": {
             "outlinewidth": 0,
             "ticks": ""
            },
            "type": "contourcarpet"
           }
          ],
          "heatmap": [
           {
            "colorbar": {
             "outlinewidth": 0,
             "ticks": ""
            },
            "colorscale": [
             [
              0,
              "#0d0887"
             ],
             [
              0.1111111111111111,
              "#46039f"
             ],
             [
              0.2222222222222222,
              "#7201a8"
             ],
             [
              0.3333333333333333,
              "#9c179e"
             ],
             [
              0.4444444444444444,
              "#bd3786"
             ],
             [
              0.5555555555555556,
              "#d8576b"
             ],
             [
              0.6666666666666666,
              "#ed7953"
             ],
             [
              0.7777777777777778,
              "#fb9f3a"
             ],
             [
              0.8888888888888888,
              "#fdca26"
             ],
             [
              1,
              "#f0f921"
             ]
            ],
            "type": "heatmap"
           }
          ],
          "heatmapgl": [
           {
            "colorbar": {
             "outlinewidth": 0,
             "ticks": ""
            },
            "colorscale": [
             [
              0,
              "#0d0887"
             ],
             [
              0.1111111111111111,
              "#46039f"
             ],
             [
              0.2222222222222222,
              "#7201a8"
             ],
             [
              0.3333333333333333,
              "#9c179e"
             ],
             [
              0.4444444444444444,
              "#bd3786"
             ],
             [
              0.5555555555555556,
              "#d8576b"
             ],
             [
              0.6666666666666666,
              "#ed7953"
             ],
             [
              0.7777777777777778,
              "#fb9f3a"
             ],
             [
              0.8888888888888888,
              "#fdca26"
             ],
             [
              1,
              "#f0f921"
             ]
            ],
            "type": "heatmapgl"
           }
          ],
          "histogram": [
           {
            "marker": {
             "colorbar": {
              "outlinewidth": 0,
              "ticks": ""
             }
            },
            "type": "histogram"
           }
          ],
          "histogram2d": [
           {
            "colorbar": {
             "outlinewidth": 0,
             "ticks": ""
            },
            "colorscale": [
             [
              0,
              "#0d0887"
             ],
             [
              0.1111111111111111,
              "#46039f"
             ],
             [
              0.2222222222222222,
              "#7201a8"
             ],
             [
              0.3333333333333333,
              "#9c179e"
             ],
             [
              0.4444444444444444,
              "#bd3786"
             ],
             [
              0.5555555555555556,
              "#d8576b"
             ],
             [
              0.6666666666666666,
              "#ed7953"
             ],
             [
              0.7777777777777778,
              "#fb9f3a"
             ],
             [
              0.8888888888888888,
              "#fdca26"
             ],
             [
              1,
              "#f0f921"
             ]
            ],
            "type": "histogram2d"
           }
          ],
          "histogram2dcontour": [
           {
            "colorbar": {
             "outlinewidth": 0,
             "ticks": ""
            },
            "colorscale": [
             [
              0,
              "#0d0887"
             ],
             [
              0.1111111111111111,
              "#46039f"
             ],
             [
              0.2222222222222222,
              "#7201a8"
             ],
             [
              0.3333333333333333,
              "#9c179e"
             ],
             [
              0.4444444444444444,
              "#bd3786"
             ],
             [
              0.5555555555555556,
              "#d8576b"
             ],
             [
              0.6666666666666666,
              "#ed7953"
             ],
             [
              0.7777777777777778,
              "#fb9f3a"
             ],
             [
              0.8888888888888888,
              "#fdca26"
             ],
             [
              1,
              "#f0f921"
             ]
            ],
            "type": "histogram2dcontour"
           }
          ],
          "mesh3d": [
           {
            "colorbar": {
             "outlinewidth": 0,
             "ticks": ""
            },
            "type": "mesh3d"
           }
          ],
          "parcoords": [
           {
            "line": {
             "colorbar": {
              "outlinewidth": 0,
              "ticks": ""
             }
            },
            "type": "parcoords"
           }
          ],
          "pie": [
           {
            "automargin": true,
            "type": "pie"
           }
          ],
          "scatter": [
           {
            "marker": {
             "colorbar": {
              "outlinewidth": 0,
              "ticks": ""
             }
            },
            "type": "scatter"
           }
          ],
          "scatter3d": [
           {
            "line": {
             "colorbar": {
              "outlinewidth": 0,
              "ticks": ""
             }
            },
            "marker": {
             "colorbar": {
              "outlinewidth": 0,
              "ticks": ""
             }
            },
            "type": "scatter3d"
           }
          ],
          "scattercarpet": [
           {
            "marker": {
             "colorbar": {
              "outlinewidth": 0,
              "ticks": ""
             }
            },
            "type": "scattercarpet"
           }
          ],
          "scattergeo": [
           {
            "marker": {
             "colorbar": {
              "outlinewidth": 0,
              "ticks": ""
             }
            },
            "type": "scattergeo"
           }
          ],
          "scattergl": [
           {
            "marker": {
             "colorbar": {
              "outlinewidth": 0,
              "ticks": ""
             }
            },
            "type": "scattergl"
           }
          ],
          "scattermapbox": [
           {
            "marker": {
             "colorbar": {
              "outlinewidth": 0,
              "ticks": ""
             }
            },
            "type": "scattermapbox"
           }
          ],
          "scatterpolar": [
           {
            "marker": {
             "colorbar": {
              "outlinewidth": 0,
              "ticks": ""
             }
            },
            "type": "scatterpolar"
           }
          ],
          "scatterpolargl": [
           {
            "marker": {
             "colorbar": {
              "outlinewidth": 0,
              "ticks": ""
             }
            },
            "type": "scatterpolargl"
           }
          ],
          "scatterternary": [
           {
            "marker": {
             "colorbar": {
              "outlinewidth": 0,
              "ticks": ""
             }
            },
            "type": "scatterternary"
           }
          ],
          "surface": [
           {
            "colorbar": {
             "outlinewidth": 0,
             "ticks": ""
            },
            "colorscale": [
             [
              0,
              "#0d0887"
             ],
             [
              0.1111111111111111,
              "#46039f"
             ],
             [
              0.2222222222222222,
              "#7201a8"
             ],
             [
              0.3333333333333333,
              "#9c179e"
             ],
             [
              0.4444444444444444,
              "#bd3786"
             ],
             [
              0.5555555555555556,
              "#d8576b"
             ],
             [
              0.6666666666666666,
              "#ed7953"
             ],
             [
              0.7777777777777778,
              "#fb9f3a"
             ],
             [
              0.8888888888888888,
              "#fdca26"
             ],
             [
              1,
              "#f0f921"
             ]
            ],
            "type": "surface"
           }
          ],
          "table": [
           {
            "cells": {
             "fill": {
              "color": "#EBF0F8"
             },
             "line": {
              "color": "white"
             }
            },
            "header": {
             "fill": {
              "color": "#C8D4E3"
             },
             "line": {
              "color": "white"
             }
            },
            "type": "table"
           }
          ]
         },
         "layout": {
          "annotationdefaults": {
           "arrowcolor": "#2a3f5f",
           "arrowhead": 0,
           "arrowwidth": 1
          },
          "autotypenumbers": "strict",
          "coloraxis": {
           "colorbar": {
            "outlinewidth": 0,
            "ticks": ""
           }
          },
          "colorscale": {
           "diverging": [
            [
             0,
             "#8e0152"
            ],
            [
             0.1,
             "#c51b7d"
            ],
            [
             0.2,
             "#de77ae"
            ],
            [
             0.3,
             "#f1b6da"
            ],
            [
             0.4,
             "#fde0ef"
            ],
            [
             0.5,
             "#f7f7f7"
            ],
            [
             0.6,
             "#e6f5d0"
            ],
            [
             0.7,
             "#b8e186"
            ],
            [
             0.8,
             "#7fbc41"
            ],
            [
             0.9,
             "#4d9221"
            ],
            [
             1,
             "#276419"
            ]
           ],
           "sequential": [
            [
             0,
             "#0d0887"
            ],
            [
             0.1111111111111111,
             "#46039f"
            ],
            [
             0.2222222222222222,
             "#7201a8"
            ],
            [
             0.3333333333333333,
             "#9c179e"
            ],
            [
             0.4444444444444444,
             "#bd3786"
            ],
            [
             0.5555555555555556,
             "#d8576b"
            ],
            [
             0.6666666666666666,
             "#ed7953"
            ],
            [
             0.7777777777777778,
             "#fb9f3a"
            ],
            [
             0.8888888888888888,
             "#fdca26"
            ],
            [
             1,
             "#f0f921"
            ]
           ],
           "sequentialminus": [
            [
             0,
             "#0d0887"
            ],
            [
             0.1111111111111111,
             "#46039f"
            ],
            [
             0.2222222222222222,
             "#7201a8"
            ],
            [
             0.3333333333333333,
             "#9c179e"
            ],
            [
             0.4444444444444444,
             "#bd3786"
            ],
            [
             0.5555555555555556,
             "#d8576b"
            ],
            [
             0.6666666666666666,
             "#ed7953"
            ],
            [
             0.7777777777777778,
             "#fb9f3a"
            ],
            [
             0.8888888888888888,
             "#fdca26"
            ],
            [
             1,
             "#f0f921"
            ]
           ]
          },
          "colorway": [
           "#636efa",
           "#EF553B",
           "#00cc96",
           "#ab63fa",
           "#FFA15A",
           "#19d3f3",
           "#FF6692",
           "#B6E880",
           "#FF97FF",
           "#FECB52"
          ],
          "font": {
           "color": "#2a3f5f"
          },
          "geo": {
           "bgcolor": "white",
           "lakecolor": "white",
           "landcolor": "#E5ECF6",
           "showlakes": true,
           "showland": true,
           "subunitcolor": "white"
          },
          "hoverlabel": {
           "align": "left"
          },
          "hovermode": "closest",
          "mapbox": {
           "style": "light"
          },
          "paper_bgcolor": "white",
          "plot_bgcolor": "#E5ECF6",
          "polar": {
           "angularaxis": {
            "gridcolor": "white",
            "linecolor": "white",
            "ticks": ""
           },
           "bgcolor": "#E5ECF6",
           "radialaxis": {
            "gridcolor": "white",
            "linecolor": "white",
            "ticks": ""
           }
          },
          "scene": {
           "xaxis": {
            "backgroundcolor": "#E5ECF6",
            "gridcolor": "white",
            "gridwidth": 2,
            "linecolor": "white",
            "showbackground": true,
            "ticks": "",
            "zerolinecolor": "white"
           },
           "yaxis": {
            "backgroundcolor": "#E5ECF6",
            "gridcolor": "white",
            "gridwidth": 2,
            "linecolor": "white",
            "showbackground": true,
            "ticks": "",
            "zerolinecolor": "white"
           },
           "zaxis": {
            "backgroundcolor": "#E5ECF6",
            "gridcolor": "white",
            "gridwidth": 2,
            "linecolor": "white",
            "showbackground": true,
            "ticks": "",
            "zerolinecolor": "white"
           }
          },
          "shapedefaults": {
           "line": {
            "color": "#2a3f5f"
           }
          },
          "ternary": {
           "aaxis": {
            "gridcolor": "white",
            "linecolor": "white",
            "ticks": ""
           },
           "baxis": {
            "gridcolor": "white",
            "linecolor": "white",
            "ticks": ""
           },
           "bgcolor": "#E5ECF6",
           "caxis": {
            "gridcolor": "white",
            "linecolor": "white",
            "ticks": ""
           }
          },
          "title": {
           "x": 0.05
          },
          "xaxis": {
           "automargin": true,
           "gridcolor": "white",
           "linecolor": "white",
           "ticks": "",
           "title": {
            "standoff": 15
           },
           "zerolinecolor": "white",
           "zerolinewidth": 2
          },
          "yaxis": {
           "automargin": true,
           "gridcolor": "white",
           "linecolor": "white",
           "ticks": "",
           "title": {
            "standoff": 15
           },
           "zerolinecolor": "white",
           "zerolinewidth": 2
          }
         }
        },
        "xaxis": {
         "anchor": "y",
         "domain": [
          0,
          1
         ],
         "title": {
          "text": "Product_ID"
         }
        },
        "yaxis": {
         "anchor": "x",
         "domain": [
          0,
          1
         ],
         "title": {
          "text": "Count"
         }
        }
       }
      }
     },
     "metadata": {}
    }
   ],
   "source": [
    "sdf_count_per_product_id = spark.sql(\"SELECT DISTINCT(product_id) AS Product_ID, \\\n",
    "                                                COUNT(product_id) AS Count \\\n",
    "                                        FROM Data \\\n",
    "                                        GROUP BY product_id \\\n",
    "                                        ORDER BY Count DESC\")\n",
    "px.bar(sdf_count_per_product_id.limit(10).toPandas(), x='Product_ID', y='Count')\n"
   ]
  },
  {
   "source": [
    "In the plot above you can see the Product_IDS, the users have interacted with most as well as the count of the interactions."
   ],
   "cell_type": "markdown",
   "metadata": {}
  },
  {
   "source": [
    "### category_id"
   ],
   "cell_type": "markdown",
   "metadata": {
    "collapsed": false,
    "pycharm": {
     "name": "#%%\n"
    }
   }
  },
  {
   "source": [
    "The category_id is an unique identifier for the category of a Product. Every Product is assigned to a single category_id, which is summarizing many product_ids into categories. This knowledge is based on the more detailed analyzes within the file \"product_analysis.ipnynb\". As you can see in the overview, there are [...] unique category_ids."
   ],
   "cell_type": "markdown",
   "metadata": {}
  },
  {
   "cell_type": "code",
   "execution_count": 18,
   "metadata": {},
   "outputs": [
    {
     "output_type": "display_data",
     "data": {
      "application/vnd.plotly.v1+json": {
       "config": {
        "plotlyServerURL": "https://plot.ly"
       },
       "data": [
        {
         "alignmentgroup": "True",
         "hovertemplate": "Category_ID=%{x}<br>Count=%{y}<extra></extra>",
         "legendgroup": "",
         "marker": {
          "color": "#636efa"
         },
         "name": "",
         "offsetgroup": "",
         "orientation": "v",
         "showlegend": false,
         "textposition": "auto",
         "type": "bar",
         "x": [
          "2053013555631882655",
          "2053013558920217191",
          "2053013553559896355",
          "2053013553853497655",
          "2053013556168753601",
          "2053013561579406073",
          "2053013559901684381",
          "2053013554658804075",
          "2053013563911439225",
          "2053013553970938175"
         ],
         "xaxis": "x",
         "y": [
          38,
          18,
          12,
          9,
          6,
          6,
          6,
          5,
          5,
          5
         ],
         "yaxis": "y"
        }
       ],
       "layout": {
        "barmode": "relative",
        "legend": {
         "tracegroupgap": 0
        },
        "margin": {
         "t": 60
        },
        "template": {
         "data": {
          "bar": [
           {
            "error_x": {
             "color": "#2a3f5f"
            },
            "error_y": {
             "color": "#2a3f5f"
            },
            "marker": {
             "line": {
              "color": "#E5ECF6",
              "width": 0.5
             }
            },
            "type": "bar"
           }
          ],
          "barpolar": [
           {
            "marker": {
             "line": {
              "color": "#E5ECF6",
              "width": 0.5
             }
            },
            "type": "barpolar"
           }
          ],
          "carpet": [
           {
            "aaxis": {
             "endlinecolor": "#2a3f5f",
             "gridcolor": "white",
             "linecolor": "white",
             "minorgridcolor": "white",
             "startlinecolor": "#2a3f5f"
            },
            "baxis": {
             "endlinecolor": "#2a3f5f",
             "gridcolor": "white",
             "linecolor": "white",
             "minorgridcolor": "white",
             "startlinecolor": "#2a3f5f"
            },
            "type": "carpet"
           }
          ],
          "choropleth": [
           {
            "colorbar": {
             "outlinewidth": 0,
             "ticks": ""
            },
            "type": "choropleth"
           }
          ],
          "contour": [
           {
            "colorbar": {
             "outlinewidth": 0,
             "ticks": ""
            },
            "colorscale": [
             [
              0,
              "#0d0887"
             ],
             [
              0.1111111111111111,
              "#46039f"
             ],
             [
              0.2222222222222222,
              "#7201a8"
             ],
             [
              0.3333333333333333,
              "#9c179e"
             ],
             [
              0.4444444444444444,
              "#bd3786"
             ],
             [
              0.5555555555555556,
              "#d8576b"
             ],
             [
              0.6666666666666666,
              "#ed7953"
             ],
             [
              0.7777777777777778,
              "#fb9f3a"
             ],
             [
              0.8888888888888888,
              "#fdca26"
             ],
             [
              1,
              "#f0f921"
             ]
            ],
            "type": "contour"
           }
          ],
          "contourcarpet": [
           {
            "colorbar": {
             "outlinewidth": 0,
             "ticks": ""
            },
            "type": "contourcarpet"
           }
          ],
          "heatmap": [
           {
            "colorbar": {
             "outlinewidth": 0,
             "ticks": ""
            },
            "colorscale": [
             [
              0,
              "#0d0887"
             ],
             [
              0.1111111111111111,
              "#46039f"
             ],
             [
              0.2222222222222222,
              "#7201a8"
             ],
             [
              0.3333333333333333,
              "#9c179e"
             ],
             [
              0.4444444444444444,
              "#bd3786"
             ],
             [
              0.5555555555555556,
              "#d8576b"
             ],
             [
              0.6666666666666666,
              "#ed7953"
             ],
             [
              0.7777777777777778,
              "#fb9f3a"
             ],
             [
              0.8888888888888888,
              "#fdca26"
             ],
             [
              1,
              "#f0f921"
             ]
            ],
            "type": "heatmap"
           }
          ],
          "heatmapgl": [
           {
            "colorbar": {
             "outlinewidth": 0,
             "ticks": ""
            },
            "colorscale": [
             [
              0,
              "#0d0887"
             ],
             [
              0.1111111111111111,
              "#46039f"
             ],
             [
              0.2222222222222222,
              "#7201a8"
             ],
             [
              0.3333333333333333,
              "#9c179e"
             ],
             [
              0.4444444444444444,
              "#bd3786"
             ],
             [
              0.5555555555555556,
              "#d8576b"
             ],
             [
              0.6666666666666666,
              "#ed7953"
             ],
             [
              0.7777777777777778,
              "#fb9f3a"
             ],
             [
              0.8888888888888888,
              "#fdca26"
             ],
             [
              1,
              "#f0f921"
             ]
            ],
            "type": "heatmapgl"
           }
          ],
          "histogram": [
           {
            "marker": {
             "colorbar": {
              "outlinewidth": 0,
              "ticks": ""
             }
            },
            "type": "histogram"
           }
          ],
          "histogram2d": [
           {
            "colorbar": {
             "outlinewidth": 0,
             "ticks": ""
            },
            "colorscale": [
             [
              0,
              "#0d0887"
             ],
             [
              0.1111111111111111,
              "#46039f"
             ],
             [
              0.2222222222222222,
              "#7201a8"
             ],
             [
              0.3333333333333333,
              "#9c179e"
             ],
             [
              0.4444444444444444,
              "#bd3786"
             ],
             [
              0.5555555555555556,
              "#d8576b"
             ],
             [
              0.6666666666666666,
              "#ed7953"
             ],
             [
              0.7777777777777778,
              "#fb9f3a"
             ],
             [
              0.8888888888888888,
              "#fdca26"
             ],
             [
              1,
              "#f0f921"
             ]
            ],
            "type": "histogram2d"
           }
          ],
          "histogram2dcontour": [
           {
            "colorbar": {
             "outlinewidth": 0,
             "ticks": ""
            },
            "colorscale": [
             [
              0,
              "#0d0887"
             ],
             [
              0.1111111111111111,
              "#46039f"
             ],
             [
              0.2222222222222222,
              "#7201a8"
             ],
             [
              0.3333333333333333,
              "#9c179e"
             ],
             [
              0.4444444444444444,
              "#bd3786"
             ],
             [
              0.5555555555555556,
              "#d8576b"
             ],
             [
              0.6666666666666666,
              "#ed7953"
             ],
             [
              0.7777777777777778,
              "#fb9f3a"
             ],
             [
              0.8888888888888888,
              "#fdca26"
             ],
             [
              1,
              "#f0f921"
             ]
            ],
            "type": "histogram2dcontour"
           }
          ],
          "mesh3d": [
           {
            "colorbar": {
             "outlinewidth": 0,
             "ticks": ""
            },
            "type": "mesh3d"
           }
          ],
          "parcoords": [
           {
            "line": {
             "colorbar": {
              "outlinewidth": 0,
              "ticks": ""
             }
            },
            "type": "parcoords"
           }
          ],
          "pie": [
           {
            "automargin": true,
            "type": "pie"
           }
          ],
          "scatter": [
           {
            "marker": {
             "colorbar": {
              "outlinewidth": 0,
              "ticks": ""
             }
            },
            "type": "scatter"
           }
          ],
          "scatter3d": [
           {
            "line": {
             "colorbar": {
              "outlinewidth": 0,
              "ticks": ""
             }
            },
            "marker": {
             "colorbar": {
              "outlinewidth": 0,
              "ticks": ""
             }
            },
            "type": "scatter3d"
           }
          ],
          "scattercarpet": [
           {
            "marker": {
             "colorbar": {
              "outlinewidth": 0,
              "ticks": ""
             }
            },
            "type": "scattercarpet"
           }
          ],
          "scattergeo": [
           {
            "marker": {
             "colorbar": {
              "outlinewidth": 0,
              "ticks": ""
             }
            },
            "type": "scattergeo"
           }
          ],
          "scattergl": [
           {
            "marker": {
             "colorbar": {
              "outlinewidth": 0,
              "ticks": ""
             }
            },
            "type": "scattergl"
           }
          ],
          "scattermapbox": [
           {
            "marker": {
             "colorbar": {
              "outlinewidth": 0,
              "ticks": ""
             }
            },
            "type": "scattermapbox"
           }
          ],
          "scatterpolar": [
           {
            "marker": {
             "colorbar": {
              "outlinewidth": 0,
              "ticks": ""
             }
            },
            "type": "scatterpolar"
           }
          ],
          "scatterpolargl": [
           {
            "marker": {
             "colorbar": {
              "outlinewidth": 0,
              "ticks": ""
             }
            },
            "type": "scatterpolargl"
           }
          ],
          "scatterternary": [
           {
            "marker": {
             "colorbar": {
              "outlinewidth": 0,
              "ticks": ""
             }
            },
            "type": "scatterternary"
           }
          ],
          "surface": [
           {
            "colorbar": {
             "outlinewidth": 0,
             "ticks": ""
            },
            "colorscale": [
             [
              0,
              "#0d0887"
             ],
             [
              0.1111111111111111,
              "#46039f"
             ],
             [
              0.2222222222222222,
              "#7201a8"
             ],
             [
              0.3333333333333333,
              "#9c179e"
             ],
             [
              0.4444444444444444,
              "#bd3786"
             ],
             [
              0.5555555555555556,
              "#d8576b"
             ],
             [
              0.6666666666666666,
              "#ed7953"
             ],
             [
              0.7777777777777778,
              "#fb9f3a"
             ],
             [
              0.8888888888888888,
              "#fdca26"
             ],
             [
              1,
              "#f0f921"
             ]
            ],
            "type": "surface"
           }
          ],
          "table": [
           {
            "cells": {
             "fill": {
              "color": "#EBF0F8"
             },
             "line": {
              "color": "white"
             }
            },
            "header": {
             "fill": {
              "color": "#C8D4E3"
             },
             "line": {
              "color": "white"
             }
            },
            "type": "table"
           }
          ]
         },
         "layout": {
          "annotationdefaults": {
           "arrowcolor": "#2a3f5f",
           "arrowhead": 0,
           "arrowwidth": 1
          },
          "autotypenumbers": "strict",
          "coloraxis": {
           "colorbar": {
            "outlinewidth": 0,
            "ticks": ""
           }
          },
          "colorscale": {
           "diverging": [
            [
             0,
             "#8e0152"
            ],
            [
             0.1,
             "#c51b7d"
            ],
            [
             0.2,
             "#de77ae"
            ],
            [
             0.3,
             "#f1b6da"
            ],
            [
             0.4,
             "#fde0ef"
            ],
            [
             0.5,
             "#f7f7f7"
            ],
            [
             0.6,
             "#e6f5d0"
            ],
            [
             0.7,
             "#b8e186"
            ],
            [
             0.8,
             "#7fbc41"
            ],
            [
             0.9,
             "#4d9221"
            ],
            [
             1,
             "#276419"
            ]
           ],
           "sequential": [
            [
             0,
             "#0d0887"
            ],
            [
             0.1111111111111111,
             "#46039f"
            ],
            [
             0.2222222222222222,
             "#7201a8"
            ],
            [
             0.3333333333333333,
             "#9c179e"
            ],
            [
             0.4444444444444444,
             "#bd3786"
            ],
            [
             0.5555555555555556,
             "#d8576b"
            ],
            [
             0.6666666666666666,
             "#ed7953"
            ],
            [
             0.7777777777777778,
             "#fb9f3a"
            ],
            [
             0.8888888888888888,
             "#fdca26"
            ],
            [
             1,
             "#f0f921"
            ]
           ],
           "sequentialminus": [
            [
             0,
             "#0d0887"
            ],
            [
             0.1111111111111111,
             "#46039f"
            ],
            [
             0.2222222222222222,
             "#7201a8"
            ],
            [
             0.3333333333333333,
             "#9c179e"
            ],
            [
             0.4444444444444444,
             "#bd3786"
            ],
            [
             0.5555555555555556,
             "#d8576b"
            ],
            [
             0.6666666666666666,
             "#ed7953"
            ],
            [
             0.7777777777777778,
             "#fb9f3a"
            ],
            [
             0.8888888888888888,
             "#fdca26"
            ],
            [
             1,
             "#f0f921"
            ]
           ]
          },
          "colorway": [
           "#636efa",
           "#EF553B",
           "#00cc96",
           "#ab63fa",
           "#FFA15A",
           "#19d3f3",
           "#FF6692",
           "#B6E880",
           "#FF97FF",
           "#FECB52"
          ],
          "font": {
           "color": "#2a3f5f"
          },
          "geo": {
           "bgcolor": "white",
           "lakecolor": "white",
           "landcolor": "#E5ECF6",
           "showlakes": true,
           "showland": true,
           "subunitcolor": "white"
          },
          "hoverlabel": {
           "align": "left"
          },
          "hovermode": "closest",
          "mapbox": {
           "style": "light"
          },
          "paper_bgcolor": "white",
          "plot_bgcolor": "#E5ECF6",
          "polar": {
           "angularaxis": {
            "gridcolor": "white",
            "linecolor": "white",
            "ticks": ""
           },
           "bgcolor": "#E5ECF6",
           "radialaxis": {
            "gridcolor": "white",
            "linecolor": "white",
            "ticks": ""
           }
          },
          "scene": {
           "xaxis": {
            "backgroundcolor": "#E5ECF6",
            "gridcolor": "white",
            "gridwidth": 2,
            "linecolor": "white",
            "showbackground": true,
            "ticks": "",
            "zerolinecolor": "white"
           },
           "yaxis": {
            "backgroundcolor": "#E5ECF6",
            "gridcolor": "white",
            "gridwidth": 2,
            "linecolor": "white",
            "showbackground": true,
            "ticks": "",
            "zerolinecolor": "white"
           },
           "zaxis": {
            "backgroundcolor": "#E5ECF6",
            "gridcolor": "white",
            "gridwidth": 2,
            "linecolor": "white",
            "showbackground": true,
            "ticks": "",
            "zerolinecolor": "white"
           }
          },
          "shapedefaults": {
           "line": {
            "color": "#2a3f5f"
           }
          },
          "ternary": {
           "aaxis": {
            "gridcolor": "white",
            "linecolor": "white",
            "ticks": ""
           },
           "baxis": {
            "gridcolor": "white",
            "linecolor": "white",
            "ticks": ""
           },
           "bgcolor": "#E5ECF6",
           "caxis": {
            "gridcolor": "white",
            "linecolor": "white",
            "ticks": ""
           }
          },
          "title": {
           "x": 0.05
          },
          "xaxis": {
           "automargin": true,
           "gridcolor": "white",
           "linecolor": "white",
           "ticks": "",
           "title": {
            "standoff": 15
           },
           "zerolinecolor": "white",
           "zerolinewidth": 2
          },
          "yaxis": {
           "automargin": true,
           "gridcolor": "white",
           "linecolor": "white",
           "ticks": "",
           "title": {
            "standoff": 15
           },
           "zerolinecolor": "white",
           "zerolinewidth": 2
          }
         }
        },
        "xaxis": {
         "anchor": "y",
         "domain": [
          0,
          1
         ],
         "title": {
          "text": "Category_ID"
         }
        },
        "yaxis": {
         "anchor": "x",
         "domain": [
          0,
          1
         ],
         "title": {
          "text": "Count"
         }
        }
       }
      }
     },
     "metadata": {}
    }
   ],
   "source": [
    "sdf_count_per_category_id=spark.sql(\"SELECT DISTINCT(category_id) AS Category_ID, \\\n",
    "                                            COUNT(product_id) AS Count \\\n",
    "                                     FROM Data \\\n",
    "                                     GROUP BY category_id \\\n",
    "                                     ORDER BY Count DESC\")\n",
    "                                     \n",
    "px.bar(sdf_count_per_category_id.limit(10).toPandas(), x=\"Category_ID\", y=\"Count\")                               "
   ]
  },
  {
   "source": [
    "In the plot above you can see the category_ids with the most interactions."
   ],
   "cell_type": "markdown",
   "metadata": {}
  },
  {
   "source": [
    "### category_code\n"
   ],
   "cell_type": "markdown",
   "metadata": {
    "collapsed": false,
    "pycharm": {
     "name": "#%%\n"
    }
   }
  },
  {
   "source": [
    "The category_code is describing the category, a product_id and category_id is assigned to. Every Product_id and Category_id is assigned to a single category_code, which is summarizing many product_ids and category_ids into categories. This knowledge is also based on the more detailed analyzes within the file \"product_analysis.ipnynb\". As you can see in the overview, there are ... unique category_code."
   ],
   "cell_type": "markdown",
   "metadata": {}
  },
  {
   "cell_type": "code",
   "execution_count": 20,
   "metadata": {},
   "outputs": [
    {
     "output_type": "display_data",
     "data": {
      "application/vnd.plotly.v1+json": {
       "config": {
        "plotlyServerURL": "https://plot.ly"
       },
       "data": [
        {
         "alignmentgroup": "True",
         "hovertemplate": "Category_Code=%{x}<br>Count=%{y}<extra></extra>",
         "legendgroup": "",
         "marker": {
          "color": "#636efa"
         },
         "name": "",
         "offsetgroup": "",
         "orientation": "v",
         "showlegend": false,
         "textposition": "auto",
         "type": "bar",
         "x": [
          "not defined",
          "electronics.smartphone",
          "computers.notebook",
          "electronics.clocks",
          "furniture.kitchen.chair",
          "electronics.audio.headphone",
          "auto.accessories.player",
          "appliances.kitchen.refrigerators",
          "appliances.kitchen.dishwasher",
          "construction.tools.drill"
         ],
         "xaxis": "x",
         "y": [
          87,
          38,
          18,
          8,
          6,
          5,
          5,
          5,
          4,
          4
         ],
         "yaxis": "y"
        }
       ],
       "layout": {
        "barmode": "relative",
        "legend": {
         "tracegroupgap": 0
        },
        "margin": {
         "t": 60
        },
        "template": {
         "data": {
          "bar": [
           {
            "error_x": {
             "color": "#2a3f5f"
            },
            "error_y": {
             "color": "#2a3f5f"
            },
            "marker": {
             "line": {
              "color": "#E5ECF6",
              "width": 0.5
             }
            },
            "type": "bar"
           }
          ],
          "barpolar": [
           {
            "marker": {
             "line": {
              "color": "#E5ECF6",
              "width": 0.5
             }
            },
            "type": "barpolar"
           }
          ],
          "carpet": [
           {
            "aaxis": {
             "endlinecolor": "#2a3f5f",
             "gridcolor": "white",
             "linecolor": "white",
             "minorgridcolor": "white",
             "startlinecolor": "#2a3f5f"
            },
            "baxis": {
             "endlinecolor": "#2a3f5f",
             "gridcolor": "white",
             "linecolor": "white",
             "minorgridcolor": "white",
             "startlinecolor": "#2a3f5f"
            },
            "type": "carpet"
           }
          ],
          "choropleth": [
           {
            "colorbar": {
             "outlinewidth": 0,
             "ticks": ""
            },
            "type": "choropleth"
           }
          ],
          "contour": [
           {
            "colorbar": {
             "outlinewidth": 0,
             "ticks": ""
            },
            "colorscale": [
             [
              0,
              "#0d0887"
             ],
             [
              0.1111111111111111,
              "#46039f"
             ],
             [
              0.2222222222222222,
              "#7201a8"
             ],
             [
              0.3333333333333333,
              "#9c179e"
             ],
             [
              0.4444444444444444,
              "#bd3786"
             ],
             [
              0.5555555555555556,
              "#d8576b"
             ],
             [
              0.6666666666666666,
              "#ed7953"
             ],
             [
              0.7777777777777778,
              "#fb9f3a"
             ],
             [
              0.8888888888888888,
              "#fdca26"
             ],
             [
              1,
              "#f0f921"
             ]
            ],
            "type": "contour"
           }
          ],
          "contourcarpet": [
           {
            "colorbar": {
             "outlinewidth": 0,
             "ticks": ""
            },
            "type": "contourcarpet"
           }
          ],
          "heatmap": [
           {
            "colorbar": {
             "outlinewidth": 0,
             "ticks": ""
            },
            "colorscale": [
             [
              0,
              "#0d0887"
             ],
             [
              0.1111111111111111,
              "#46039f"
             ],
             [
              0.2222222222222222,
              "#7201a8"
             ],
             [
              0.3333333333333333,
              "#9c179e"
             ],
             [
              0.4444444444444444,
              "#bd3786"
             ],
             [
              0.5555555555555556,
              "#d8576b"
             ],
             [
              0.6666666666666666,
              "#ed7953"
             ],
             [
              0.7777777777777778,
              "#fb9f3a"
             ],
             [
              0.8888888888888888,
              "#fdca26"
             ],
             [
              1,
              "#f0f921"
             ]
            ],
            "type": "heatmap"
           }
          ],
          "heatmapgl": [
           {
            "colorbar": {
             "outlinewidth": 0,
             "ticks": ""
            },
            "colorscale": [
             [
              0,
              "#0d0887"
             ],
             [
              0.1111111111111111,
              "#46039f"
             ],
             [
              0.2222222222222222,
              "#7201a8"
             ],
             [
              0.3333333333333333,
              "#9c179e"
             ],
             [
              0.4444444444444444,
              "#bd3786"
             ],
             [
              0.5555555555555556,
              "#d8576b"
             ],
             [
              0.6666666666666666,
              "#ed7953"
             ],
             [
              0.7777777777777778,
              "#fb9f3a"
             ],
             [
              0.8888888888888888,
              "#fdca26"
             ],
             [
              1,
              "#f0f921"
             ]
            ],
            "type": "heatmapgl"
           }
          ],
          "histogram": [
           {
            "marker": {
             "colorbar": {
              "outlinewidth": 0,
              "ticks": ""
             }
            },
            "type": "histogram"
           }
          ],
          "histogram2d": [
           {
            "colorbar": {
             "outlinewidth": 0,
             "ticks": ""
            },
            "colorscale": [
             [
              0,
              "#0d0887"
             ],
             [
              0.1111111111111111,
              "#46039f"
             ],
             [
              0.2222222222222222,
              "#7201a8"
             ],
             [
              0.3333333333333333,
              "#9c179e"
             ],
             [
              0.4444444444444444,
              "#bd3786"
             ],
             [
              0.5555555555555556,
              "#d8576b"
             ],
             [
              0.6666666666666666,
              "#ed7953"
             ],
             [
              0.7777777777777778,
              "#fb9f3a"
             ],
             [
              0.8888888888888888,
              "#fdca26"
             ],
             [
              1,
              "#f0f921"
             ]
            ],
            "type": "histogram2d"
           }
          ],
          "histogram2dcontour": [
           {
            "colorbar": {
             "outlinewidth": 0,
             "ticks": ""
            },
            "colorscale": [
             [
              0,
              "#0d0887"
             ],
             [
              0.1111111111111111,
              "#46039f"
             ],
             [
              0.2222222222222222,
              "#7201a8"
             ],
             [
              0.3333333333333333,
              "#9c179e"
             ],
             [
              0.4444444444444444,
              "#bd3786"
             ],
             [
              0.5555555555555556,
              "#d8576b"
             ],
             [
              0.6666666666666666,
              "#ed7953"
             ],
             [
              0.7777777777777778,
              "#fb9f3a"
             ],
             [
              0.8888888888888888,
              "#fdca26"
             ],
             [
              1,
              "#f0f921"
             ]
            ],
            "type": "histogram2dcontour"
           }
          ],
          "mesh3d": [
           {
            "colorbar": {
             "outlinewidth": 0,
             "ticks": ""
            },
            "type": "mesh3d"
           }
          ],
          "parcoords": [
           {
            "line": {
             "colorbar": {
              "outlinewidth": 0,
              "ticks": ""
             }
            },
            "type": "parcoords"
           }
          ],
          "pie": [
           {
            "automargin": true,
            "type": "pie"
           }
          ],
          "scatter": [
           {
            "marker": {
             "colorbar": {
              "outlinewidth": 0,
              "ticks": ""
             }
            },
            "type": "scatter"
           }
          ],
          "scatter3d": [
           {
            "line": {
             "colorbar": {
              "outlinewidth": 0,
              "ticks": ""
             }
            },
            "marker": {
             "colorbar": {
              "outlinewidth": 0,
              "ticks": ""
             }
            },
            "type": "scatter3d"
           }
          ],
          "scattercarpet": [
           {
            "marker": {
             "colorbar": {
              "outlinewidth": 0,
              "ticks": ""
             }
            },
            "type": "scattercarpet"
           }
          ],
          "scattergeo": [
           {
            "marker": {
             "colorbar": {
              "outlinewidth": 0,
              "ticks": ""
             }
            },
            "type": "scattergeo"
           }
          ],
          "scattergl": [
           {
            "marker": {
             "colorbar": {
              "outlinewidth": 0,
              "ticks": ""
             }
            },
            "type": "scattergl"
           }
          ],
          "scattermapbox": [
           {
            "marker": {
             "colorbar": {
              "outlinewidth": 0,
              "ticks": ""
             }
            },
            "type": "scattermapbox"
           }
          ],
          "scatterpolar": [
           {
            "marker": {
             "colorbar": {
              "outlinewidth": 0,
              "ticks": ""
             }
            },
            "type": "scatterpolar"
           }
          ],
          "scatterpolargl": [
           {
            "marker": {
             "colorbar": {
              "outlinewidth": 0,
              "ticks": ""
             }
            },
            "type": "scatterpolargl"
           }
          ],
          "scatterternary": [
           {
            "marker": {
             "colorbar": {
              "outlinewidth": 0,
              "ticks": ""
             }
            },
            "type": "scatterternary"
           }
          ],
          "surface": [
           {
            "colorbar": {
             "outlinewidth": 0,
             "ticks": ""
            },
            "colorscale": [
             [
              0,
              "#0d0887"
             ],
             [
              0.1111111111111111,
              "#46039f"
             ],
             [
              0.2222222222222222,
              "#7201a8"
             ],
             [
              0.3333333333333333,
              "#9c179e"
             ],
             [
              0.4444444444444444,
              "#bd3786"
             ],
             [
              0.5555555555555556,
              "#d8576b"
             ],
             [
              0.6666666666666666,
              "#ed7953"
             ],
             [
              0.7777777777777778,
              "#fb9f3a"
             ],
             [
              0.8888888888888888,
              "#fdca26"
             ],
             [
              1,
              "#f0f921"
             ]
            ],
            "type": "surface"
           }
          ],
          "table": [
           {
            "cells": {
             "fill": {
              "color": "#EBF0F8"
             },
             "line": {
              "color": "white"
             }
            },
            "header": {
             "fill": {
              "color": "#C8D4E3"
             },
             "line": {
              "color": "white"
             }
            },
            "type": "table"
           }
          ]
         },
         "layout": {
          "annotationdefaults": {
           "arrowcolor": "#2a3f5f",
           "arrowhead": 0,
           "arrowwidth": 1
          },
          "autotypenumbers": "strict",
          "coloraxis": {
           "colorbar": {
            "outlinewidth": 0,
            "ticks": ""
           }
          },
          "colorscale": {
           "diverging": [
            [
             0,
             "#8e0152"
            ],
            [
             0.1,
             "#c51b7d"
            ],
            [
             0.2,
             "#de77ae"
            ],
            [
             0.3,
             "#f1b6da"
            ],
            [
             0.4,
             "#fde0ef"
            ],
            [
             0.5,
             "#f7f7f7"
            ],
            [
             0.6,
             "#e6f5d0"
            ],
            [
             0.7,
             "#b8e186"
            ],
            [
             0.8,
             "#7fbc41"
            ],
            [
             0.9,
             "#4d9221"
            ],
            [
             1,
             "#276419"
            ]
           ],
           "sequential": [
            [
             0,
             "#0d0887"
            ],
            [
             0.1111111111111111,
             "#46039f"
            ],
            [
             0.2222222222222222,
             "#7201a8"
            ],
            [
             0.3333333333333333,
             "#9c179e"
            ],
            [
             0.4444444444444444,
             "#bd3786"
            ],
            [
             0.5555555555555556,
             "#d8576b"
            ],
            [
             0.6666666666666666,
             "#ed7953"
            ],
            [
             0.7777777777777778,
             "#fb9f3a"
            ],
            [
             0.8888888888888888,
             "#fdca26"
            ],
            [
             1,
             "#f0f921"
            ]
           ],
           "sequentialminus": [
            [
             0,
             "#0d0887"
            ],
            [
             0.1111111111111111,
             "#46039f"
            ],
            [
             0.2222222222222222,
             "#7201a8"
            ],
            [
             0.3333333333333333,
             "#9c179e"
            ],
            [
             0.4444444444444444,
             "#bd3786"
            ],
            [
             0.5555555555555556,
             "#d8576b"
            ],
            [
             0.6666666666666666,
             "#ed7953"
            ],
            [
             0.7777777777777778,
             "#fb9f3a"
            ],
            [
             0.8888888888888888,
             "#fdca26"
            ],
            [
             1,
             "#f0f921"
            ]
           ]
          },
          "colorway": [
           "#636efa",
           "#EF553B",
           "#00cc96",
           "#ab63fa",
           "#FFA15A",
           "#19d3f3",
           "#FF6692",
           "#B6E880",
           "#FF97FF",
           "#FECB52"
          ],
          "font": {
           "color": "#2a3f5f"
          },
          "geo": {
           "bgcolor": "white",
           "lakecolor": "white",
           "landcolor": "#E5ECF6",
           "showlakes": true,
           "showland": true,
           "subunitcolor": "white"
          },
          "hoverlabel": {
           "align": "left"
          },
          "hovermode": "closest",
          "mapbox": {
           "style": "light"
          },
          "paper_bgcolor": "white",
          "plot_bgcolor": "#E5ECF6",
          "polar": {
           "angularaxis": {
            "gridcolor": "white",
            "linecolor": "white",
            "ticks": ""
           },
           "bgcolor": "#E5ECF6",
           "radialaxis": {
            "gridcolor": "white",
            "linecolor": "white",
            "ticks": ""
           }
          },
          "scene": {
           "xaxis": {
            "backgroundcolor": "#E5ECF6",
            "gridcolor": "white",
            "gridwidth": 2,
            "linecolor": "white",
            "showbackground": true,
            "ticks": "",
            "zerolinecolor": "white"
           },
           "yaxis": {
            "backgroundcolor": "#E5ECF6",
            "gridcolor": "white",
            "gridwidth": 2,
            "linecolor": "white",
            "showbackground": true,
            "ticks": "",
            "zerolinecolor": "white"
           },
           "zaxis": {
            "backgroundcolor": "#E5ECF6",
            "gridcolor": "white",
            "gridwidth": 2,
            "linecolor": "white",
            "showbackground": true,
            "ticks": "",
            "zerolinecolor": "white"
           }
          },
          "shapedefaults": {
           "line": {
            "color": "#2a3f5f"
           }
          },
          "ternary": {
           "aaxis": {
            "gridcolor": "white",
            "linecolor": "white",
            "ticks": ""
           },
           "baxis": {
            "gridcolor": "white",
            "linecolor": "white",
            "ticks": ""
           },
           "bgcolor": "#E5ECF6",
           "caxis": {
            "gridcolor": "white",
            "linecolor": "white",
            "ticks": ""
           }
          },
          "title": {
           "x": 0.05
          },
          "xaxis": {
           "automargin": true,
           "gridcolor": "white",
           "linecolor": "white",
           "ticks": "",
           "title": {
            "standoff": 15
           },
           "zerolinecolor": "white",
           "zerolinewidth": 2
          },
          "yaxis": {
           "automargin": true,
           "gridcolor": "white",
           "linecolor": "white",
           "ticks": "",
           "title": {
            "standoff": 15
           },
           "zerolinecolor": "white",
           "zerolinewidth": 2
          }
         }
        },
        "xaxis": {
         "anchor": "y",
         "domain": [
          0,
          1
         ],
         "title": {
          "text": "Category_Code"
         }
        },
        "yaxis": {
         "anchor": "x",
         "domain": [
          0,
          1
         ],
         "title": {
          "text": "Count"
         }
        }
       }
      }
     },
     "metadata": {}
    }
   ],
   "source": [
    "sdf_count_per_category_code=spark.sql(\"SELECT DISTINCT(category_code) AS Category_Code, \\\n",
    "                                              COUNT(product_id) AS Count \\\n",
    "                                        FROM Data \\\n",
    "                                        GROUP BY category_code \\\n",
    "                                        ORDER BY Count DESC\")\n",
    "px.bar(sdf_count_per_category_code.limit(10).toPandas(), x=\"Category_Code\", y=\"Count\")"
   ]
  },
  {
   "source": [
    "The plot above represents again the category_codes with the most interactions."
   ],
   "cell_type": "markdown",
   "metadata": {}
  },
  {
   "source": [
    "The category_code consists of two or three parts in general, which are separeted by a dot. A possible category_code is for example: appliances.kitchen.washer or electronics.smartphone. Because of that the category code can be splited into to the categories: category_class, category_sub_class and category_sub_sub_class."
   ],
   "cell_type": "markdown",
   "metadata": {}
  },
  {
   "source": [
    "#### Category_class"
   ],
   "cell_type": "markdown",
   "metadata": {}
  },
  {
   "source": [
    "The category_class is representing the fist part of the category_code. It can be used to summarize many category_codes into an overarching category_class. As you can see in the overview, there are [...] unique category_classes."
   ],
   "cell_type": "markdown",
   "metadata": {}
  },
  {
   "cell_type": "code",
   "execution_count": 23,
   "metadata": {},
   "outputs": [
    {
     "output_type": "display_data",
     "data": {
      "application/vnd.plotly.v1+json": {
       "config": {
        "plotlyServerURL": "https://plot.ly"
       },
       "data": [
        {
         "alignmentgroup": "True",
         "hovertemplate": "Category_Class=%{x}<br>Count=%{y}<extra></extra>",
         "legendgroup": "",
         "marker": {
          "color": "#636efa"
         },
         "name": "",
         "offsetgroup": "",
         "orientation": "v",
         "showlegend": false,
         "textposition": "auto",
         "type": "bar",
         "x": [
          "not defined",
          "electronics",
          "computers",
          "appliances",
          "furniture",
          "construction",
          "auto",
          "apparel",
          "accessories"
         ],
         "xaxis": "x",
         "y": [
          87,
          57,
          23,
          14,
          14,
          8,
          7,
          6,
          1
         ],
         "yaxis": "y"
        }
       ],
       "layout": {
        "barmode": "relative",
        "legend": {
         "tracegroupgap": 0
        },
        "margin": {
         "t": 60
        },
        "template": {
         "data": {
          "bar": [
           {
            "error_x": {
             "color": "#2a3f5f"
            },
            "error_y": {
             "color": "#2a3f5f"
            },
            "marker": {
             "line": {
              "color": "#E5ECF6",
              "width": 0.5
             }
            },
            "type": "bar"
           }
          ],
          "barpolar": [
           {
            "marker": {
             "line": {
              "color": "#E5ECF6",
              "width": 0.5
             }
            },
            "type": "barpolar"
           }
          ],
          "carpet": [
           {
            "aaxis": {
             "endlinecolor": "#2a3f5f",
             "gridcolor": "white",
             "linecolor": "white",
             "minorgridcolor": "white",
             "startlinecolor": "#2a3f5f"
            },
            "baxis": {
             "endlinecolor": "#2a3f5f",
             "gridcolor": "white",
             "linecolor": "white",
             "minorgridcolor": "white",
             "startlinecolor": "#2a3f5f"
            },
            "type": "carpet"
           }
          ],
          "choropleth": [
           {
            "colorbar": {
             "outlinewidth": 0,
             "ticks": ""
            },
            "type": "choropleth"
           }
          ],
          "contour": [
           {
            "colorbar": {
             "outlinewidth": 0,
             "ticks": ""
            },
            "colorscale": [
             [
              0,
              "#0d0887"
             ],
             [
              0.1111111111111111,
              "#46039f"
             ],
             [
              0.2222222222222222,
              "#7201a8"
             ],
             [
              0.3333333333333333,
              "#9c179e"
             ],
             [
              0.4444444444444444,
              "#bd3786"
             ],
             [
              0.5555555555555556,
              "#d8576b"
             ],
             [
              0.6666666666666666,
              "#ed7953"
             ],
             [
              0.7777777777777778,
              "#fb9f3a"
             ],
             [
              0.8888888888888888,
              "#fdca26"
             ],
             [
              1,
              "#f0f921"
             ]
            ],
            "type": "contour"
           }
          ],
          "contourcarpet": [
           {
            "colorbar": {
             "outlinewidth": 0,
             "ticks": ""
            },
            "type": "contourcarpet"
           }
          ],
          "heatmap": [
           {
            "colorbar": {
             "outlinewidth": 0,
             "ticks": ""
            },
            "colorscale": [
             [
              0,
              "#0d0887"
             ],
             [
              0.1111111111111111,
              "#46039f"
             ],
             [
              0.2222222222222222,
              "#7201a8"
             ],
             [
              0.3333333333333333,
              "#9c179e"
             ],
             [
              0.4444444444444444,
              "#bd3786"
             ],
             [
              0.5555555555555556,
              "#d8576b"
             ],
             [
              0.6666666666666666,
              "#ed7953"
             ],
             [
              0.7777777777777778,
              "#fb9f3a"
             ],
             [
              0.8888888888888888,
              "#fdca26"
             ],
             [
              1,
              "#f0f921"
             ]
            ],
            "type": "heatmap"
           }
          ],
          "heatmapgl": [
           {
            "colorbar": {
             "outlinewidth": 0,
             "ticks": ""
            },
            "colorscale": [
             [
              0,
              "#0d0887"
             ],
             [
              0.1111111111111111,
              "#46039f"
             ],
             [
              0.2222222222222222,
              "#7201a8"
             ],
             [
              0.3333333333333333,
              "#9c179e"
             ],
             [
              0.4444444444444444,
              "#bd3786"
             ],
             [
              0.5555555555555556,
              "#d8576b"
             ],
             [
              0.6666666666666666,
              "#ed7953"
             ],
             [
              0.7777777777777778,
              "#fb9f3a"
             ],
             [
              0.8888888888888888,
              "#fdca26"
             ],
             [
              1,
              "#f0f921"
             ]
            ],
            "type": "heatmapgl"
           }
          ],
          "histogram": [
           {
            "marker": {
             "colorbar": {
              "outlinewidth": 0,
              "ticks": ""
             }
            },
            "type": "histogram"
           }
          ],
          "histogram2d": [
           {
            "colorbar": {
             "outlinewidth": 0,
             "ticks": ""
            },
            "colorscale": [
             [
              0,
              "#0d0887"
             ],
             [
              0.1111111111111111,
              "#46039f"
             ],
             [
              0.2222222222222222,
              "#7201a8"
             ],
             [
              0.3333333333333333,
              "#9c179e"
             ],
             [
              0.4444444444444444,
              "#bd3786"
             ],
             [
              0.5555555555555556,
              "#d8576b"
             ],
             [
              0.6666666666666666,
              "#ed7953"
             ],
             [
              0.7777777777777778,
              "#fb9f3a"
             ],
             [
              0.8888888888888888,
              "#fdca26"
             ],
             [
              1,
              "#f0f921"
             ]
            ],
            "type": "histogram2d"
           }
          ],
          "histogram2dcontour": [
           {
            "colorbar": {
             "outlinewidth": 0,
             "ticks": ""
            },
            "colorscale": [
             [
              0,
              "#0d0887"
             ],
             [
              0.1111111111111111,
              "#46039f"
             ],
             [
              0.2222222222222222,
              "#7201a8"
             ],
             [
              0.3333333333333333,
              "#9c179e"
             ],
             [
              0.4444444444444444,
              "#bd3786"
             ],
             [
              0.5555555555555556,
              "#d8576b"
             ],
             [
              0.6666666666666666,
              "#ed7953"
             ],
             [
              0.7777777777777778,
              "#fb9f3a"
             ],
             [
              0.8888888888888888,
              "#fdca26"
             ],
             [
              1,
              "#f0f921"
             ]
            ],
            "type": "histogram2dcontour"
           }
          ],
          "mesh3d": [
           {
            "colorbar": {
             "outlinewidth": 0,
             "ticks": ""
            },
            "type": "mesh3d"
           }
          ],
          "parcoords": [
           {
            "line": {
             "colorbar": {
              "outlinewidth": 0,
              "ticks": ""
             }
            },
            "type": "parcoords"
           }
          ],
          "pie": [
           {
            "automargin": true,
            "type": "pie"
           }
          ],
          "scatter": [
           {
            "marker": {
             "colorbar": {
              "outlinewidth": 0,
              "ticks": ""
             }
            },
            "type": "scatter"
           }
          ],
          "scatter3d": [
           {
            "line": {
             "colorbar": {
              "outlinewidth": 0,
              "ticks": ""
             }
            },
            "marker": {
             "colorbar": {
              "outlinewidth": 0,
              "ticks": ""
             }
            },
            "type": "scatter3d"
           }
          ],
          "scattercarpet": [
           {
            "marker": {
             "colorbar": {
              "outlinewidth": 0,
              "ticks": ""
             }
            },
            "type": "scattercarpet"
           }
          ],
          "scattergeo": [
           {
            "marker": {
             "colorbar": {
              "outlinewidth": 0,
              "ticks": ""
             }
            },
            "type": "scattergeo"
           }
          ],
          "scattergl": [
           {
            "marker": {
             "colorbar": {
              "outlinewidth": 0,
              "ticks": ""
             }
            },
            "type": "scattergl"
           }
          ],
          "scattermapbox": [
           {
            "marker": {
             "colorbar": {
              "outlinewidth": 0,
              "ticks": ""
             }
            },
            "type": "scattermapbox"
           }
          ],
          "scatterpolar": [
           {
            "marker": {
             "colorbar": {
              "outlinewidth": 0,
              "ticks": ""
             }
            },
            "type": "scatterpolar"
           }
          ],
          "scatterpolargl": [
           {
            "marker": {
             "colorbar": {
              "outlinewidth": 0,
              "ticks": ""
             }
            },
            "type": "scatterpolargl"
           }
          ],
          "scatterternary": [
           {
            "marker": {
             "colorbar": {
              "outlinewidth": 0,
              "ticks": ""
             }
            },
            "type": "scatterternary"
           }
          ],
          "surface": [
           {
            "colorbar": {
             "outlinewidth": 0,
             "ticks": ""
            },
            "colorscale": [
             [
              0,
              "#0d0887"
             ],
             [
              0.1111111111111111,
              "#46039f"
             ],
             [
              0.2222222222222222,
              "#7201a8"
             ],
             [
              0.3333333333333333,
              "#9c179e"
             ],
             [
              0.4444444444444444,
              "#bd3786"
             ],
             [
              0.5555555555555556,
              "#d8576b"
             ],
             [
              0.6666666666666666,
              "#ed7953"
             ],
             [
              0.7777777777777778,
              "#fb9f3a"
             ],
             [
              0.8888888888888888,
              "#fdca26"
             ],
             [
              1,
              "#f0f921"
             ]
            ],
            "type": "surface"
           }
          ],
          "table": [
           {
            "cells": {
             "fill": {
              "color": "#EBF0F8"
             },
             "line": {
              "color": "white"
             }
            },
            "header": {
             "fill": {
              "color": "#C8D4E3"
             },
             "line": {
              "color": "white"
             }
            },
            "type": "table"
           }
          ]
         },
         "layout": {
          "annotationdefaults": {
           "arrowcolor": "#2a3f5f",
           "arrowhead": 0,
           "arrowwidth": 1
          },
          "autotypenumbers": "strict",
          "coloraxis": {
           "colorbar": {
            "outlinewidth": 0,
            "ticks": ""
           }
          },
          "colorscale": {
           "diverging": [
            [
             0,
             "#8e0152"
            ],
            [
             0.1,
             "#c51b7d"
            ],
            [
             0.2,
             "#de77ae"
            ],
            [
             0.3,
             "#f1b6da"
            ],
            [
             0.4,
             "#fde0ef"
            ],
            [
             0.5,
             "#f7f7f7"
            ],
            [
             0.6,
             "#e6f5d0"
            ],
            [
             0.7,
             "#b8e186"
            ],
            [
             0.8,
             "#7fbc41"
            ],
            [
             0.9,
             "#4d9221"
            ],
            [
             1,
             "#276419"
            ]
           ],
           "sequential": [
            [
             0,
             "#0d0887"
            ],
            [
             0.1111111111111111,
             "#46039f"
            ],
            [
             0.2222222222222222,
             "#7201a8"
            ],
            [
             0.3333333333333333,
             "#9c179e"
            ],
            [
             0.4444444444444444,
             "#bd3786"
            ],
            [
             0.5555555555555556,
             "#d8576b"
            ],
            [
             0.6666666666666666,
             "#ed7953"
            ],
            [
             0.7777777777777778,
             "#fb9f3a"
            ],
            [
             0.8888888888888888,
             "#fdca26"
            ],
            [
             1,
             "#f0f921"
            ]
           ],
           "sequentialminus": [
            [
             0,
             "#0d0887"
            ],
            [
             0.1111111111111111,
             "#46039f"
            ],
            [
             0.2222222222222222,
             "#7201a8"
            ],
            [
             0.3333333333333333,
             "#9c179e"
            ],
            [
             0.4444444444444444,
             "#bd3786"
            ],
            [
             0.5555555555555556,
             "#d8576b"
            ],
            [
             0.6666666666666666,
             "#ed7953"
            ],
            [
             0.7777777777777778,
             "#fb9f3a"
            ],
            [
             0.8888888888888888,
             "#fdca26"
            ],
            [
             1,
             "#f0f921"
            ]
           ]
          },
          "colorway": [
           "#636efa",
           "#EF553B",
           "#00cc96",
           "#ab63fa",
           "#FFA15A",
           "#19d3f3",
           "#FF6692",
           "#B6E880",
           "#FF97FF",
           "#FECB52"
          ],
          "font": {
           "color": "#2a3f5f"
          },
          "geo": {
           "bgcolor": "white",
           "lakecolor": "white",
           "landcolor": "#E5ECF6",
           "showlakes": true,
           "showland": true,
           "subunitcolor": "white"
          },
          "hoverlabel": {
           "align": "left"
          },
          "hovermode": "closest",
          "mapbox": {
           "style": "light"
          },
          "paper_bgcolor": "white",
          "plot_bgcolor": "#E5ECF6",
          "polar": {
           "angularaxis": {
            "gridcolor": "white",
            "linecolor": "white",
            "ticks": ""
           },
           "bgcolor": "#E5ECF6",
           "radialaxis": {
            "gridcolor": "white",
            "linecolor": "white",
            "ticks": ""
           }
          },
          "scene": {
           "xaxis": {
            "backgroundcolor": "#E5ECF6",
            "gridcolor": "white",
            "gridwidth": 2,
            "linecolor": "white",
            "showbackground": true,
            "ticks": "",
            "zerolinecolor": "white"
           },
           "yaxis": {
            "backgroundcolor": "#E5ECF6",
            "gridcolor": "white",
            "gridwidth": 2,
            "linecolor": "white",
            "showbackground": true,
            "ticks": "",
            "zerolinecolor": "white"
           },
           "zaxis": {
            "backgroundcolor": "#E5ECF6",
            "gridcolor": "white",
            "gridwidth": 2,
            "linecolor": "white",
            "showbackground": true,
            "ticks": "",
            "zerolinecolor": "white"
           }
          },
          "shapedefaults": {
           "line": {
            "color": "#2a3f5f"
           }
          },
          "ternary": {
           "aaxis": {
            "gridcolor": "white",
            "linecolor": "white",
            "ticks": ""
           },
           "baxis": {
            "gridcolor": "white",
            "linecolor": "white",
            "ticks": ""
           },
           "bgcolor": "#E5ECF6",
           "caxis": {
            "gridcolor": "white",
            "linecolor": "white",
            "ticks": ""
           }
          },
          "title": {
           "x": 0.05
          },
          "xaxis": {
           "automargin": true,
           "gridcolor": "white",
           "linecolor": "white",
           "ticks": "",
           "title": {
            "standoff": 15
           },
           "zerolinecolor": "white",
           "zerolinewidth": 2
          },
          "yaxis": {
           "automargin": true,
           "gridcolor": "white",
           "linecolor": "white",
           "ticks": "",
           "title": {
            "standoff": 15
           },
           "zerolinecolor": "white",
           "zerolinewidth": 2
          }
         }
        },
        "xaxis": {
         "anchor": "y",
         "domain": [
          0,
          1
         ],
         "title": {
          "text": "Category_Class"
         }
        },
        "yaxis": {
         "anchor": "x",
         "domain": [
          0,
          1
         ],
         "title": {
          "text": "Count"
         }
        }
       }
      }
     },
     "metadata": {}
    }
   ],
   "source": [
    "sdf_count_per_category_class=spark.sql(\"SELECT DISTINCT(category_class) AS Category_Class, \\\n",
    "                                               COUNT(product_id) AS Count \\\n",
    "                                        FROM Data \\\n",
    "                                        GROUP BY category_class \\\n",
    "                                        ORDER BY Count DESC\")\n",
    "                                        \n",
    "px.bar(sdf_count_per_category_class.limit(10).toPandas(), x=\"Category_Class\", y=\"Count\")"
   ]
  },
  {
   "source": [
    "The plot above represents again the category_classes with the most interactions."
   ],
   "cell_type": "markdown",
   "metadata": {}
  },
  {
   "source": [
    "#### Category_sub_class"
   ],
   "cell_type": "markdown",
   "metadata": {}
  },
  {
   "source": [
    "#### Category_sub_sub_class"
   ],
   "cell_type": "markdown",
   "metadata": {}
  },
  {
   "source": [
    "### brand\n"
   ],
   "cell_type": "markdown",
   "metadata": {
    "collapsed": false,
    "pycharm": {
     "name": "#%%\n"
    }
   }
  },
  {
   "source": [
    "The brand indicates the brand of a product_id. It is independent of the categories, so that a brand can appear in many category_classes.  This knowledge is also based on the more detailed analyzes within the file \"product_analysis.ipnynb\". There are [...] unique brands in the dataset. Thereby you can see the most popular brands in the following plot:"
   ],
   "cell_type": "markdown",
   "metadata": {}
  },
  {
   "cell_type": "code",
   "execution_count": 24,
   "metadata": {},
   "outputs": [
    {
     "output_type": "display_data",
     "data": {
      "application/vnd.plotly.v1+json": {
       "config": {
        "plotlyServerURL": "https://plot.ly"
       },
       "data": [
        {
         "alignmentgroup": "True",
         "bingroup": "x",
         "histfunc": "sum",
         "hovertemplate": "Brand=%{x}<br>sum of Count=%{y}<extra></extra>",
         "legendgroup": "",
         "marker": {
          "color": "#636efa"
         },
         "name": "",
         "offsetgroup": "",
         "orientation": "v",
         "showlegend": false,
         "type": "histogram",
         "x": [
          "not defined",
          "apple",
          "xiaomi",
          "samsung",
          "hp",
          "huawei",
          "kirkland",
          "brw",
          "tissot",
          "dewalt"
         ],
         "xaxis": "x",
         "y": [
          41,
          16,
          15,
          10,
          9,
          6,
          4,
          4,
          4,
          3
         ],
         "yaxis": "y"
        }
       ],
       "layout": {
        "barmode": "relative",
        "legend": {
         "tracegroupgap": 0
        },
        "margin": {
         "t": 60
        },
        "template": {
         "data": {
          "bar": [
           {
            "error_x": {
             "color": "#2a3f5f"
            },
            "error_y": {
             "color": "#2a3f5f"
            },
            "marker": {
             "line": {
              "color": "#E5ECF6",
              "width": 0.5
             }
            },
            "type": "bar"
           }
          ],
          "barpolar": [
           {
            "marker": {
             "line": {
              "color": "#E5ECF6",
              "width": 0.5
             }
            },
            "type": "barpolar"
           }
          ],
          "carpet": [
           {
            "aaxis": {
             "endlinecolor": "#2a3f5f",
             "gridcolor": "white",
             "linecolor": "white",
             "minorgridcolor": "white",
             "startlinecolor": "#2a3f5f"
            },
            "baxis": {
             "endlinecolor": "#2a3f5f",
             "gridcolor": "white",
             "linecolor": "white",
             "minorgridcolor": "white",
             "startlinecolor": "#2a3f5f"
            },
            "type": "carpet"
           }
          ],
          "choropleth": [
           {
            "colorbar": {
             "outlinewidth": 0,
             "ticks": ""
            },
            "type": "choropleth"
           }
          ],
          "contour": [
           {
            "colorbar": {
             "outlinewidth": 0,
             "ticks": ""
            },
            "colorscale": [
             [
              0,
              "#0d0887"
             ],
             [
              0.1111111111111111,
              "#46039f"
             ],
             [
              0.2222222222222222,
              "#7201a8"
             ],
             [
              0.3333333333333333,
              "#9c179e"
             ],
             [
              0.4444444444444444,
              "#bd3786"
             ],
             [
              0.5555555555555556,
              "#d8576b"
             ],
             [
              0.6666666666666666,
              "#ed7953"
             ],
             [
              0.7777777777777778,
              "#fb9f3a"
             ],
             [
              0.8888888888888888,
              "#fdca26"
             ],
             [
              1,
              "#f0f921"
             ]
            ],
            "type": "contour"
           }
          ],
          "contourcarpet": [
           {
            "colorbar": {
             "outlinewidth": 0,
             "ticks": ""
            },
            "type": "contourcarpet"
           }
          ],
          "heatmap": [
           {
            "colorbar": {
             "outlinewidth": 0,
             "ticks": ""
            },
            "colorscale": [
             [
              0,
              "#0d0887"
             ],
             [
              0.1111111111111111,
              "#46039f"
             ],
             [
              0.2222222222222222,
              "#7201a8"
             ],
             [
              0.3333333333333333,
              "#9c179e"
             ],
             [
              0.4444444444444444,
              "#bd3786"
             ],
             [
              0.5555555555555556,
              "#d8576b"
             ],
             [
              0.6666666666666666,
              "#ed7953"
             ],
             [
              0.7777777777777778,
              "#fb9f3a"
             ],
             [
              0.8888888888888888,
              "#fdca26"
             ],
             [
              1,
              "#f0f921"
             ]
            ],
            "type": "heatmap"
           }
          ],
          "heatmapgl": [
           {
            "colorbar": {
             "outlinewidth": 0,
             "ticks": ""
            },
            "colorscale": [
             [
              0,
              "#0d0887"
             ],
             [
              0.1111111111111111,
              "#46039f"
             ],
             [
              0.2222222222222222,
              "#7201a8"
             ],
             [
              0.3333333333333333,
              "#9c179e"
             ],
             [
              0.4444444444444444,
              "#bd3786"
             ],
             [
              0.5555555555555556,
              "#d8576b"
             ],
             [
              0.6666666666666666,
              "#ed7953"
             ],
             [
              0.7777777777777778,
              "#fb9f3a"
             ],
             [
              0.8888888888888888,
              "#fdca26"
             ],
             [
              1,
              "#f0f921"
             ]
            ],
            "type": "heatmapgl"
           }
          ],
          "histogram": [
           {
            "marker": {
             "colorbar": {
              "outlinewidth": 0,
              "ticks": ""
             }
            },
            "type": "histogram"
           }
          ],
          "histogram2d": [
           {
            "colorbar": {
             "outlinewidth": 0,
             "ticks": ""
            },
            "colorscale": [
             [
              0,
              "#0d0887"
             ],
             [
              0.1111111111111111,
              "#46039f"
             ],
             [
              0.2222222222222222,
              "#7201a8"
             ],
             [
              0.3333333333333333,
              "#9c179e"
             ],
             [
              0.4444444444444444,
              "#bd3786"
             ],
             [
              0.5555555555555556,
              "#d8576b"
             ],
             [
              0.6666666666666666,
              "#ed7953"
             ],
             [
              0.7777777777777778,
              "#fb9f3a"
             ],
             [
              0.8888888888888888,
              "#fdca26"
             ],
             [
              1,
              "#f0f921"
             ]
            ],
            "type": "histogram2d"
           }
          ],
          "histogram2dcontour": [
           {
            "colorbar": {
             "outlinewidth": 0,
             "ticks": ""
            },
            "colorscale": [
             [
              0,
              "#0d0887"
             ],
             [
              0.1111111111111111,
              "#46039f"
             ],
             [
              0.2222222222222222,
              "#7201a8"
             ],
             [
              0.3333333333333333,
              "#9c179e"
             ],
             [
              0.4444444444444444,
              "#bd3786"
             ],
             [
              0.5555555555555556,
              "#d8576b"
             ],
             [
              0.6666666666666666,
              "#ed7953"
             ],
             [
              0.7777777777777778,
              "#fb9f3a"
             ],
             [
              0.8888888888888888,
              "#fdca26"
             ],
             [
              1,
              "#f0f921"
             ]
            ],
            "type": "histogram2dcontour"
           }
          ],
          "mesh3d": [
           {
            "colorbar": {
             "outlinewidth": 0,
             "ticks": ""
            },
            "type": "mesh3d"
           }
          ],
          "parcoords": [
           {
            "line": {
             "colorbar": {
              "outlinewidth": 0,
              "ticks": ""
             }
            },
            "type": "parcoords"
           }
          ],
          "pie": [
           {
            "automargin": true,
            "type": "pie"
           }
          ],
          "scatter": [
           {
            "marker": {
             "colorbar": {
              "outlinewidth": 0,
              "ticks": ""
             }
            },
            "type": "scatter"
           }
          ],
          "scatter3d": [
           {
            "line": {
             "colorbar": {
              "outlinewidth": 0,
              "ticks": ""
             }
            },
            "marker": {
             "colorbar": {
              "outlinewidth": 0,
              "ticks": ""
             }
            },
            "type": "scatter3d"
           }
          ],
          "scattercarpet": [
           {
            "marker": {
             "colorbar": {
              "outlinewidth": 0,
              "ticks": ""
             }
            },
            "type": "scattercarpet"
           }
          ],
          "scattergeo": [
           {
            "marker": {
             "colorbar": {
              "outlinewidth": 0,
              "ticks": ""
             }
            },
            "type": "scattergeo"
           }
          ],
          "scattergl": [
           {
            "marker": {
             "colorbar": {
              "outlinewidth": 0,
              "ticks": ""
             }
            },
            "type": "scattergl"
           }
          ],
          "scattermapbox": [
           {
            "marker": {
             "colorbar": {
              "outlinewidth": 0,
              "ticks": ""
             }
            },
            "type": "scattermapbox"
           }
          ],
          "scatterpolar": [
           {
            "marker": {
             "colorbar": {
              "outlinewidth": 0,
              "ticks": ""
             }
            },
            "type": "scatterpolar"
           }
          ],
          "scatterpolargl": [
           {
            "marker": {
             "colorbar": {
              "outlinewidth": 0,
              "ticks": ""
             }
            },
            "type": "scatterpolargl"
           }
          ],
          "scatterternary": [
           {
            "marker": {
             "colorbar": {
              "outlinewidth": 0,
              "ticks": ""
             }
            },
            "type": "scatterternary"
           }
          ],
          "surface": [
           {
            "colorbar": {
             "outlinewidth": 0,
             "ticks": ""
            },
            "colorscale": [
             [
              0,
              "#0d0887"
             ],
             [
              0.1111111111111111,
              "#46039f"
             ],
             [
              0.2222222222222222,
              "#7201a8"
             ],
             [
              0.3333333333333333,
              "#9c179e"
             ],
             [
              0.4444444444444444,
              "#bd3786"
             ],
             [
              0.5555555555555556,
              "#d8576b"
             ],
             [
              0.6666666666666666,
              "#ed7953"
             ],
             [
              0.7777777777777778,
              "#fb9f3a"
             ],
             [
              0.8888888888888888,
              "#fdca26"
             ],
             [
              1,
              "#f0f921"
             ]
            ],
            "type": "surface"
           }
          ],
          "table": [
           {
            "cells": {
             "fill": {
              "color": "#EBF0F8"
             },
             "line": {
              "color": "white"
             }
            },
            "header": {
             "fill": {
              "color": "#C8D4E3"
             },
             "line": {
              "color": "white"
             }
            },
            "type": "table"
           }
          ]
         },
         "layout": {
          "annotationdefaults": {
           "arrowcolor": "#2a3f5f",
           "arrowhead": 0,
           "arrowwidth": 1
          },
          "autotypenumbers": "strict",
          "coloraxis": {
           "colorbar": {
            "outlinewidth": 0,
            "ticks": ""
           }
          },
          "colorscale": {
           "diverging": [
            [
             0,
             "#8e0152"
            ],
            [
             0.1,
             "#c51b7d"
            ],
            [
             0.2,
             "#de77ae"
            ],
            [
             0.3,
             "#f1b6da"
            ],
            [
             0.4,
             "#fde0ef"
            ],
            [
             0.5,
             "#f7f7f7"
            ],
            [
             0.6,
             "#e6f5d0"
            ],
            [
             0.7,
             "#b8e186"
            ],
            [
             0.8,
             "#7fbc41"
            ],
            [
             0.9,
             "#4d9221"
            ],
            [
             1,
             "#276419"
            ]
           ],
           "sequential": [
            [
             0,
             "#0d0887"
            ],
            [
             0.1111111111111111,
             "#46039f"
            ],
            [
             0.2222222222222222,
             "#7201a8"
            ],
            [
             0.3333333333333333,
             "#9c179e"
            ],
            [
             0.4444444444444444,
             "#bd3786"
            ],
            [
             0.5555555555555556,
             "#d8576b"
            ],
            [
             0.6666666666666666,
             "#ed7953"
            ],
            [
             0.7777777777777778,
             "#fb9f3a"
            ],
            [
             0.8888888888888888,
             "#fdca26"
            ],
            [
             1,
             "#f0f921"
            ]
           ],
           "sequentialminus": [
            [
             0,
             "#0d0887"
            ],
            [
             0.1111111111111111,
             "#46039f"
            ],
            [
             0.2222222222222222,
             "#7201a8"
            ],
            [
             0.3333333333333333,
             "#9c179e"
            ],
            [
             0.4444444444444444,
             "#bd3786"
            ],
            [
             0.5555555555555556,
             "#d8576b"
            ],
            [
             0.6666666666666666,
             "#ed7953"
            ],
            [
             0.7777777777777778,
             "#fb9f3a"
            ],
            [
             0.8888888888888888,
             "#fdca26"
            ],
            [
             1,
             "#f0f921"
            ]
           ]
          },
          "colorway": [
           "#636efa",
           "#EF553B",
           "#00cc96",
           "#ab63fa",
           "#FFA15A",
           "#19d3f3",
           "#FF6692",
           "#B6E880",
           "#FF97FF",
           "#FECB52"
          ],
          "font": {
           "color": "#2a3f5f"
          },
          "geo": {
           "bgcolor": "white",
           "lakecolor": "white",
           "landcolor": "#E5ECF6",
           "showlakes": true,
           "showland": true,
           "subunitcolor": "white"
          },
          "hoverlabel": {
           "align": "left"
          },
          "hovermode": "closest",
          "mapbox": {
           "style": "light"
          },
          "paper_bgcolor": "white",
          "plot_bgcolor": "#E5ECF6",
          "polar": {
           "angularaxis": {
            "gridcolor": "white",
            "linecolor": "white",
            "ticks": ""
           },
           "bgcolor": "#E5ECF6",
           "radialaxis": {
            "gridcolor": "white",
            "linecolor": "white",
            "ticks": ""
           }
          },
          "scene": {
           "xaxis": {
            "backgroundcolor": "#E5ECF6",
            "gridcolor": "white",
            "gridwidth": 2,
            "linecolor": "white",
            "showbackground": true,
            "ticks": "",
            "zerolinecolor": "white"
           },
           "yaxis": {
            "backgroundcolor": "#E5ECF6",
            "gridcolor": "white",
            "gridwidth": 2,
            "linecolor": "white",
            "showbackground": true,
            "ticks": "",
            "zerolinecolor": "white"
           },
           "zaxis": {
            "backgroundcolor": "#E5ECF6",
            "gridcolor": "white",
            "gridwidth": 2,
            "linecolor": "white",
            "showbackground": true,
            "ticks": "",
            "zerolinecolor": "white"
           }
          },
          "shapedefaults": {
           "line": {
            "color": "#2a3f5f"
           }
          },
          "ternary": {
           "aaxis": {
            "gridcolor": "white",
            "linecolor": "white",
            "ticks": ""
           },
           "baxis": {
            "gridcolor": "white",
            "linecolor": "white",
            "ticks": ""
           },
           "bgcolor": "#E5ECF6",
           "caxis": {
            "gridcolor": "white",
            "linecolor": "white",
            "ticks": ""
           }
          },
          "title": {
           "x": 0.05
          },
          "xaxis": {
           "automargin": true,
           "gridcolor": "white",
           "linecolor": "white",
           "ticks": "",
           "title": {
            "standoff": 15
           },
           "zerolinecolor": "white",
           "zerolinewidth": 2
          },
          "yaxis": {
           "automargin": true,
           "gridcolor": "white",
           "linecolor": "white",
           "ticks": "",
           "title": {
            "standoff": 15
           },
           "zerolinecolor": "white",
           "zerolinewidth": 2
          }
         }
        },
        "xaxis": {
         "anchor": "y",
         "domain": [
          0,
          1
         ],
         "title": {
          "text": "Brand"
         }
        },
        "yaxis": {
         "anchor": "x",
         "domain": [
          0,
          1
         ],
         "title": {
          "text": "sum of Count"
         }
        }
       }
      }
     },
     "metadata": {}
    }
   ],
   "source": [
    "sdf_count_per_brand=spark.sql(\"SELECT DISTINCT(brand) AS Brand, \\\n",
    "                                      COUNT(product_id) AS Count \\\n",
    "                                FROM Data \\\n",
    "                                GROUP BY brand \\\n",
    "                                ORDER BY Count DESC\")\n",
    "\n",
    "px.histogram(sdf_count_per_brand.limit(10).toPandas(), x=\"Brand\", y=\"Count\")                               "
   ]
  },
  {
   "source": [
    "### price\n"
   ],
   "cell_type": "markdown",
   "metadata": {
    "collapsed": false,
    "pycharm": {
     "name": "#%%\n"
    }
   }
  },
  {
   "source": [
    "The price-column is indicating the price of a product_id. In the following table and plot you can see the general distribution of the price in the dataset."
   ],
   "cell_type": "markdown",
   "metadata": {}
  },
  {
   "cell_type": "code",
   "execution_count": 26,
   "metadata": {},
   "outputs": [
    {
     "output_type": "stream",
     "name": "stdout",
     "text": [
      "+-------+-----------------+----+\n|    MAX|             MEAN| MIN|\n+-------+-----------------+----+\n|2496.59|306.6343778801844|1.09|\n+-------+-----------------+----+\n\n"
     ]
    }
   ],
   "source": [
    "sdf_price_distribution = spark.sql(\"SELECT MAX(price) AS MAX, \\\n",
    "                                           MEAN(price) AS MEAN, \\\n",
    "                                           MIN(price) AS MIN \\\n",
    "                                    FROM Data\")\n",
    "sdf_price_distribution.show()"
   ]
  },
  {
   "cell_type": "code",
   "execution_count": 25,
   "metadata": {},
   "outputs": [
    {
     "output_type": "display_data",
     "data": {
      "application/vnd.plotly.v1+json": {
       "config": {
        "plotlyServerURL": "https://plot.ly"
       },
       "data": [
        {
         "alignmentgroup": "True",
         "hovertemplate": "price=%{y}<extra></extra>",
         "legendgroup": "",
         "marker": {
          "color": "#636efa"
         },
         "name": "",
         "notched": false,
         "offsetgroup": "",
         "orientation": "v",
         "showlegend": false,
         "type": "box",
         "x0": " ",
         "xaxis": "x",
         "y": [
          489.07,
          293.65,
          28.31,
          712.87,
          183.27,
          360.09,
          514.56,
          30.86,
          72.72,
          732.07,
          437.33,
          155.11,
          31.64,
          20.54,
          411.83,
          1.09,
          8.55,
          22.68,
          164.84,
          411.59,
          88.81,
          151.99,
          7.07,
          591.78,
          55.33,
          11.79,
          7.59,
          949.47,
          514.79,
          360.34,
          38.07,
          47.77,
          23.4,
          23.14,
          61.1,
          127.42,
          54.06,
          69.24,
          108.09,
          458.28,
          503.09,
          119.69,
          437.29,
          32.66,
          684.44,
          511.13,
          15.62,
          386.08,
          248.66,
          211.92,
          895.78,
          289.33,
          8.73,
          40.16,
          928.18,
          47.77,
          66.9,
          8.55,
          134.37,
          51.48,
          83.91,
          28.19,
          385.85,
          733.61,
          105.54,
          128.42,
          50.19,
          43.73,
          98.51,
          84.65,
          5.77,
          157.28,
          252.77,
          20.77,
          34.75,
          287.83,
          91.12,
          151.14,
          61.75,
          1091.33,
          46.16,
          72.72,
          22.8,
          171.17,
          257.38,
          51.46,
          221.37,
          849.42,
          242.63,
          40.93,
          48.43,
          499.94,
          50.45,
          51.22,
          900.92,
          463.15,
          928.38,
          861.28,
          166.23,
          64.33,
          170.63,
          1013.86,
          28.19,
          411.59,
          280.05,
          1173.6,
          390.98,
          566.3,
          50.43,
          1091.33,
          946.73,
          58.17,
          61.75,
          17.49,
          314.08,
          47.62,
          47.32,
          46.08,
          180.18,
          226.83,
          514.79,
          489.07,
          70.27,
          511.13,
          751.63,
          136.4,
          182.76,
          172.22,
          172.23,
          41.19,
          257.15,
          398.72,
          378.36,
          2342.15,
          861.28,
          28.19,
          114.03,
          406.68,
          25.48,
          49.68,
          76.45,
          1209.55,
          72.72,
          113.93,
          928.38,
          254.78,
          334.37,
          244.28,
          242.63,
          70.53,
          118.41,
          7.34,
          293.65,
          22.8,
          203.84,
          77.22,
          125.61,
          684.44,
          128.42,
          1013.86,
          298.16,
          84.69,
          2312.8,
          229.09,
          48.35,
          167.02,
          40.93,
          177.1,
          211.92,
          2239.44,
          36.78,
          900.92,
          2496.59,
          128.68,
          195.37,
          10.17,
          221.37,
          207.21,
          277.23,
          32.18,
          36.78,
          58.69,
          566.3,
          69.5,
          65.38,
          30.43,
          218.51,
          150.95,
          127.33,
          46.82,
          29.86,
          65.64,
          411.34,
          72.59,
          165.26,
          97.34,
          566.3,
          102.71,
          24.71,
          293.44,
          397.54,
          221.37,
          183.27,
          432.42,
          1335.43,
          380.96,
          552.14,
          38.61,
          67.84,
          2311.49,
          133.83,
          224.46,
          72.07,
          20.57,
          51.22,
          257.15,
          732.07
         ],
         "y0": " ",
         "yaxis": "y"
        }
       ],
       "layout": {
        "boxmode": "group",
        "legend": {
         "tracegroupgap": 0
        },
        "margin": {
         "t": 60
        },
        "template": {
         "data": {
          "bar": [
           {
            "error_x": {
             "color": "#2a3f5f"
            },
            "error_y": {
             "color": "#2a3f5f"
            },
            "marker": {
             "line": {
              "color": "#E5ECF6",
              "width": 0.5
             }
            },
            "type": "bar"
           }
          ],
          "barpolar": [
           {
            "marker": {
             "line": {
              "color": "#E5ECF6",
              "width": 0.5
             }
            },
            "type": "barpolar"
           }
          ],
          "carpet": [
           {
            "aaxis": {
             "endlinecolor": "#2a3f5f",
             "gridcolor": "white",
             "linecolor": "white",
             "minorgridcolor": "white",
             "startlinecolor": "#2a3f5f"
            },
            "baxis": {
             "endlinecolor": "#2a3f5f",
             "gridcolor": "white",
             "linecolor": "white",
             "minorgridcolor": "white",
             "startlinecolor": "#2a3f5f"
            },
            "type": "carpet"
           }
          ],
          "choropleth": [
           {
            "colorbar": {
             "outlinewidth": 0,
             "ticks": ""
            },
            "type": "choropleth"
           }
          ],
          "contour": [
           {
            "colorbar": {
             "outlinewidth": 0,
             "ticks": ""
            },
            "colorscale": [
             [
              0,
              "#0d0887"
             ],
             [
              0.1111111111111111,
              "#46039f"
             ],
             [
              0.2222222222222222,
              "#7201a8"
             ],
             [
              0.3333333333333333,
              "#9c179e"
             ],
             [
              0.4444444444444444,
              "#bd3786"
             ],
             [
              0.5555555555555556,
              "#d8576b"
             ],
             [
              0.6666666666666666,
              "#ed7953"
             ],
             [
              0.7777777777777778,
              "#fb9f3a"
             ],
             [
              0.8888888888888888,
              "#fdca26"
             ],
             [
              1,
              "#f0f921"
             ]
            ],
            "type": "contour"
           }
          ],
          "contourcarpet": [
           {
            "colorbar": {
             "outlinewidth": 0,
             "ticks": ""
            },
            "type": "contourcarpet"
           }
          ],
          "heatmap": [
           {
            "colorbar": {
             "outlinewidth": 0,
             "ticks": ""
            },
            "colorscale": [
             [
              0,
              "#0d0887"
             ],
             [
              0.1111111111111111,
              "#46039f"
             ],
             [
              0.2222222222222222,
              "#7201a8"
             ],
             [
              0.3333333333333333,
              "#9c179e"
             ],
             [
              0.4444444444444444,
              "#bd3786"
             ],
             [
              0.5555555555555556,
              "#d8576b"
             ],
             [
              0.6666666666666666,
              "#ed7953"
             ],
             [
              0.7777777777777778,
              "#fb9f3a"
             ],
             [
              0.8888888888888888,
              "#fdca26"
             ],
             [
              1,
              "#f0f921"
             ]
            ],
            "type": "heatmap"
           }
          ],
          "heatmapgl": [
           {
            "colorbar": {
             "outlinewidth": 0,
             "ticks": ""
            },
            "colorscale": [
             [
              0,
              "#0d0887"
             ],
             [
              0.1111111111111111,
              "#46039f"
             ],
             [
              0.2222222222222222,
              "#7201a8"
             ],
             [
              0.3333333333333333,
              "#9c179e"
             ],
             [
              0.4444444444444444,
              "#bd3786"
             ],
             [
              0.5555555555555556,
              "#d8576b"
             ],
             [
              0.6666666666666666,
              "#ed7953"
             ],
             [
              0.7777777777777778,
              "#fb9f3a"
             ],
             [
              0.8888888888888888,
              "#fdca26"
             ],
             [
              1,
              "#f0f921"
             ]
            ],
            "type": "heatmapgl"
           }
          ],
          "histogram": [
           {
            "marker": {
             "colorbar": {
              "outlinewidth": 0,
              "ticks": ""
             }
            },
            "type": "histogram"
           }
          ],
          "histogram2d": [
           {
            "colorbar": {
             "outlinewidth": 0,
             "ticks": ""
            },
            "colorscale": [
             [
              0,
              "#0d0887"
             ],
             [
              0.1111111111111111,
              "#46039f"
             ],
             [
              0.2222222222222222,
              "#7201a8"
             ],
             [
              0.3333333333333333,
              "#9c179e"
             ],
             [
              0.4444444444444444,
              "#bd3786"
             ],
             [
              0.5555555555555556,
              "#d8576b"
             ],
             [
              0.6666666666666666,
              "#ed7953"
             ],
             [
              0.7777777777777778,
              "#fb9f3a"
             ],
             [
              0.8888888888888888,
              "#fdca26"
             ],
             [
              1,
              "#f0f921"
             ]
            ],
            "type": "histogram2d"
           }
          ],
          "histogram2dcontour": [
           {
            "colorbar": {
             "outlinewidth": 0,
             "ticks": ""
            },
            "colorscale": [
             [
              0,
              "#0d0887"
             ],
             [
              0.1111111111111111,
              "#46039f"
             ],
             [
              0.2222222222222222,
              "#7201a8"
             ],
             [
              0.3333333333333333,
              "#9c179e"
             ],
             [
              0.4444444444444444,
              "#bd3786"
             ],
             [
              0.5555555555555556,
              "#d8576b"
             ],
             [
              0.6666666666666666,
              "#ed7953"
             ],
             [
              0.7777777777777778,
              "#fb9f3a"
             ],
             [
              0.8888888888888888,
              "#fdca26"
             ],
             [
              1,
              "#f0f921"
             ]
            ],
            "type": "histogram2dcontour"
           }
          ],
          "mesh3d": [
           {
            "colorbar": {
             "outlinewidth": 0,
             "ticks": ""
            },
            "type": "mesh3d"
           }
          ],
          "parcoords": [
           {
            "line": {
             "colorbar": {
              "outlinewidth": 0,
              "ticks": ""
             }
            },
            "type": "parcoords"
           }
          ],
          "pie": [
           {
            "automargin": true,
            "type": "pie"
           }
          ],
          "scatter": [
           {
            "marker": {
             "colorbar": {
              "outlinewidth": 0,
              "ticks": ""
             }
            },
            "type": "scatter"
           }
          ],
          "scatter3d": [
           {
            "line": {
             "colorbar": {
              "outlinewidth": 0,
              "ticks": ""
             }
            },
            "marker": {
             "colorbar": {
              "outlinewidth": 0,
              "ticks": ""
             }
            },
            "type": "scatter3d"
           }
          ],
          "scattercarpet": [
           {
            "marker": {
             "colorbar": {
              "outlinewidth": 0,
              "ticks": ""
             }
            },
            "type": "scattercarpet"
           }
          ],
          "scattergeo": [
           {
            "marker": {
             "colorbar": {
              "outlinewidth": 0,
              "ticks": ""
             }
            },
            "type": "scattergeo"
           }
          ],
          "scattergl": [
           {
            "marker": {
             "colorbar": {
              "outlinewidth": 0,
              "ticks": ""
             }
            },
            "type": "scattergl"
           }
          ],
          "scattermapbox": [
           {
            "marker": {
             "colorbar": {
              "outlinewidth": 0,
              "ticks": ""
             }
            },
            "type": "scattermapbox"
           }
          ],
          "scatterpolar": [
           {
            "marker": {
             "colorbar": {
              "outlinewidth": 0,
              "ticks": ""
             }
            },
            "type": "scatterpolar"
           }
          ],
          "scatterpolargl": [
           {
            "marker": {
             "colorbar": {
              "outlinewidth": 0,
              "ticks": ""
             }
            },
            "type": "scatterpolargl"
           }
          ],
          "scatterternary": [
           {
            "marker": {
             "colorbar": {
              "outlinewidth": 0,
              "ticks": ""
             }
            },
            "type": "scatterternary"
           }
          ],
          "surface": [
           {
            "colorbar": {
             "outlinewidth": 0,
             "ticks": ""
            },
            "colorscale": [
             [
              0,
              "#0d0887"
             ],
             [
              0.1111111111111111,
              "#46039f"
             ],
             [
              0.2222222222222222,
              "#7201a8"
             ],
             [
              0.3333333333333333,
              "#9c179e"
             ],
             [
              0.4444444444444444,
              "#bd3786"
             ],
             [
              0.5555555555555556,
              "#d8576b"
             ],
             [
              0.6666666666666666,
              "#ed7953"
             ],
             [
              0.7777777777777778,
              "#fb9f3a"
             ],
             [
              0.8888888888888888,
              "#fdca26"
             ],
             [
              1,
              "#f0f921"
             ]
            ],
            "type": "surface"
           }
          ],
          "table": [
           {
            "cells": {
             "fill": {
              "color": "#EBF0F8"
             },
             "line": {
              "color": "white"
             }
            },
            "header": {
             "fill": {
              "color": "#C8D4E3"
             },
             "line": {
              "color": "white"
             }
            },
            "type": "table"
           }
          ]
         },
         "layout": {
          "annotationdefaults": {
           "arrowcolor": "#2a3f5f",
           "arrowhead": 0,
           "arrowwidth": 1
          },
          "autotypenumbers": "strict",
          "coloraxis": {
           "colorbar": {
            "outlinewidth": 0,
            "ticks": ""
           }
          },
          "colorscale": {
           "diverging": [
            [
             0,
             "#8e0152"
            ],
            [
             0.1,
             "#c51b7d"
            ],
            [
             0.2,
             "#de77ae"
            ],
            [
             0.3,
             "#f1b6da"
            ],
            [
             0.4,
             "#fde0ef"
            ],
            [
             0.5,
             "#f7f7f7"
            ],
            [
             0.6,
             "#e6f5d0"
            ],
            [
             0.7,
             "#b8e186"
            ],
            [
             0.8,
             "#7fbc41"
            ],
            [
             0.9,
             "#4d9221"
            ],
            [
             1,
             "#276419"
            ]
           ],
           "sequential": [
            [
             0,
             "#0d0887"
            ],
            [
             0.1111111111111111,
             "#46039f"
            ],
            [
             0.2222222222222222,
             "#7201a8"
            ],
            [
             0.3333333333333333,
             "#9c179e"
            ],
            [
             0.4444444444444444,
             "#bd3786"
            ],
            [
             0.5555555555555556,
             "#d8576b"
            ],
            [
             0.6666666666666666,
             "#ed7953"
            ],
            [
             0.7777777777777778,
             "#fb9f3a"
            ],
            [
             0.8888888888888888,
             "#fdca26"
            ],
            [
             1,
             "#f0f921"
            ]
           ],
           "sequentialminus": [
            [
             0,
             "#0d0887"
            ],
            [
             0.1111111111111111,
             "#46039f"
            ],
            [
             0.2222222222222222,
             "#7201a8"
            ],
            [
             0.3333333333333333,
             "#9c179e"
            ],
            [
             0.4444444444444444,
             "#bd3786"
            ],
            [
             0.5555555555555556,
             "#d8576b"
            ],
            [
             0.6666666666666666,
             "#ed7953"
            ],
            [
             0.7777777777777778,
             "#fb9f3a"
            ],
            [
             0.8888888888888888,
             "#fdca26"
            ],
            [
             1,
             "#f0f921"
            ]
           ]
          },
          "colorway": [
           "#636efa",
           "#EF553B",
           "#00cc96",
           "#ab63fa",
           "#FFA15A",
           "#19d3f3",
           "#FF6692",
           "#B6E880",
           "#FF97FF",
           "#FECB52"
          ],
          "font": {
           "color": "#2a3f5f"
          },
          "geo": {
           "bgcolor": "white",
           "lakecolor": "white",
           "landcolor": "#E5ECF6",
           "showlakes": true,
           "showland": true,
           "subunitcolor": "white"
          },
          "hoverlabel": {
           "align": "left"
          },
          "hovermode": "closest",
          "mapbox": {
           "style": "light"
          },
          "paper_bgcolor": "white",
          "plot_bgcolor": "#E5ECF6",
          "polar": {
           "angularaxis": {
            "gridcolor": "white",
            "linecolor": "white",
            "ticks": ""
           },
           "bgcolor": "#E5ECF6",
           "radialaxis": {
            "gridcolor": "white",
            "linecolor": "white",
            "ticks": ""
           }
          },
          "scene": {
           "xaxis": {
            "backgroundcolor": "#E5ECF6",
            "gridcolor": "white",
            "gridwidth": 2,
            "linecolor": "white",
            "showbackground": true,
            "ticks": "",
            "zerolinecolor": "white"
           },
           "yaxis": {
            "backgroundcolor": "#E5ECF6",
            "gridcolor": "white",
            "gridwidth": 2,
            "linecolor": "white",
            "showbackground": true,
            "ticks": "",
            "zerolinecolor": "white"
           },
           "zaxis": {
            "backgroundcolor": "#E5ECF6",
            "gridcolor": "white",
            "gridwidth": 2,
            "linecolor": "white",
            "showbackground": true,
            "ticks": "",
            "zerolinecolor": "white"
           }
          },
          "shapedefaults": {
           "line": {
            "color": "#2a3f5f"
           }
          },
          "ternary": {
           "aaxis": {
            "gridcolor": "white",
            "linecolor": "white",
            "ticks": ""
           },
           "baxis": {
            "gridcolor": "white",
            "linecolor": "white",
            "ticks": ""
           },
           "bgcolor": "#E5ECF6",
           "caxis": {
            "gridcolor": "white",
            "linecolor": "white",
            "ticks": ""
           }
          },
          "title": {
           "x": 0.05
          },
          "xaxis": {
           "automargin": true,
           "gridcolor": "white",
           "linecolor": "white",
           "ticks": "",
           "title": {
            "standoff": 15
           },
           "zerolinecolor": "white",
           "zerolinewidth": 2
          },
          "yaxis": {
           "automargin": true,
           "gridcolor": "white",
           "linecolor": "white",
           "ticks": "",
           "title": {
            "standoff": 15
           },
           "zerolinecolor": "white",
           "zerolinewidth": 2
          }
         }
        },
        "xaxis": {
         "anchor": "y",
         "domain": [
          0,
          1
         ]
        },
        "yaxis": {
         "anchor": "x",
         "domain": [
          0,
          1
         ],
         "title": {
          "text": "price"
         }
        }
       }
      }
     },
     "metadata": {}
    }
   ],
   "source": [
    "px.box(sdf_raw.toPandas(), y=\"price\")"
   ]
  },
  {
   "source": [
    "### user_id\n"
   ],
   "cell_type": "markdown",
   "metadata": {
    "collapsed": false,
    "pycharm": {
     "name": "#%%\n"
    }
   }
  },
  {
   "source": [
    "### user_session"
   ],
   "cell_type": "markdown",
   "metadata": {
    "collapsed": false,
    "pycharm": {
     "name": "#%%\n"
    }
   }
  },
  {
   "cell_type": "markdown",
   "source": [
    "## Exploration and Analysis"
   ],
   "metadata": {
    "collapsed": false,
    "pycharm": {
     "name": "#%% md\n"
    }
   }
  },
  {
   "source": [
    "In the following part, the connections and the dependencies between the single fields will be analysed."
   ],
   "cell_type": "markdown",
   "metadata": {}
  },
  {
   "cell_type": "markdown",
   "source": [
    "### Time Distribution"
   ],
   "metadata": {
    "collapsed": false
   }
  },
  {
   "cell_type": "markdown",
   "source": [
    "### Category and products"
   ],
   "metadata": {
    "collapsed": false
   }
  },
  {
   "source": [
    "#### Connection between category_class, category_code, category_id, product_id and brand"
   ],
   "cell_type": "markdown",
   "metadata": {}
  },
  {
   "source": [
    "The product_id is a subset of the category_id, which is a subset of the category_code. The category_code is in turn a subset of the category_class. (product_id ⊂ category_id ⊂ category_code ⊂ category_class). The brand on the otherhand is cross-class. This knowledge is based on the more detailed analyzes within the file \"product_analysis.ipnynb\"."
   ],
   "cell_type": "markdown",
   "metadata": {}
  },
  {
   "source": [
    "In the following plot you can see distribution of the product_id, category_id and category_code within the category_class. It´s possible to access a more detailed view by selecting a special category_class, category_code or category_id."
   ],
   "cell_type": "markdown",
   "metadata": {}
  },
  {
   "cell_type": "code",
   "execution_count": 42,
   "metadata": {},
   "outputs": [
    {
     "output_type": "display_data",
     "data": {
      "application/vnd.plotly.v1+json": {
       "config": {
        "plotlyServerURL": "https://plot.ly"
       },
       "data": [
        {
         "branchvalues": "total",
         "domain": {
          "x": [
           0,
           1
          ],
          "y": [
           0,
           1
          ]
         },
         "hovertemplate": "labels=%{label}<br>Count=%{value}<br>parent=%{parent}<br>id=%{id}<extra></extra>",
         "ids": [
          "electronics/electronics.smartphone/2053013555631882655/1002544",
          "electronics/electronics.smartphone/2053013555631882655/1003316",
          "electronics/electronics.smartphone/2053013555631882655/1003317",
          "electronics/electronics.smartphone/2053013555631882655/1003461",
          "electronics/electronics.smartphone/2053013555631882655/1003869",
          "electronics/electronics.smartphone/2053013555631882655/1004184",
          "electronics/electronics.smartphone/2053013555631882655/1004237",
          "electronics/electronics.smartphone/2053013555631882655/1004241",
          "electronics/electronics.smartphone/2053013555631882655/1004258",
          "electronics/electronics.smartphone/2053013555631882655/1004322",
          "electronics/electronics.smartphone/2053013555631882655/1004566",
          "electronics/electronics.smartphone/2053013555631882655/1004708",
          "electronics/electronics.smartphone/2053013555631882655/1004720",
          "electronics/electronics.smartphone/2053013555631882655/1004740",
          "electronics/electronics.smartphone/2053013555631882655/1004748",
          "electronics/electronics.smartphone/2053013555631882655/1004767",
          "electronics/electronics.smartphone/2053013555631882655/1004775",
          "electronics/electronics.smartphone/2053013555631882655/1004779",
          "electronics/electronics.smartphone/2053013555631882655/1004833",
          "electronics/electronics.smartphone/2053013555631882655/1004834",
          "electronics/electronics.smartphone/2053013555631882655/1004840",
          "electronics/electronics.smartphone/2053013555631882655/1004856",
          "electronics/electronics.smartphone/2053013555631882655/1004877",
          "electronics/electronics.smartphone/2053013555631882655/1004990",
          "electronics/electronics.smartphone/2053013555631882655/1005014",
          "electronics/electronics.smartphone/2053013555631882655/1005115",
          "electronics/electronics.smartphone/2053013555631882655/1005116",
          "electronics/electronics.smartphone/2053013555631882655/1005161",
          "electronics/electronics.smartphone/2053013555631882655/1005234",
          "not defined/not defined/2053013553115300101/10301494",
          "not defined/not defined/2053013561277416167/10701060",
          "not defined/not defined/2053013554994348409/10800076",
          "not defined/not defined/2053013554994348409/10800182",
          "construction/construction.tools.drill/2053013556311359947/12300231",
          "construction/construction.tools.drill/2053013556311359947/12300394",
          "construction/construction.tools.drill/2053013556311359947/12300928",
          "construction/construction.tools.drill/2053013556311359947/12301394",
          "not defined/not defined/2053013553559896355/12701967",
          "not defined/not defined/2053013553559896355/12705151",
          "not defined/not defined/2053013553559896355/12705258",
          "not defined/not defined/2053013553559896355/12708306",
          "not defined/not defined/2053013553559896355/12708937",
          "not defined/not defined/2053013553559896355/12710321",
          "not defined/not defined/2053013553559896355/12719154",
          "not defined/not defined/2053013553559896355/12719892",
          "not defined/not defined/2053013553559896355/12720155",
          "not defined/not defined/2053013553559896355/12720378",
          "computers/computers.notebook/2053013558920217191/1303355",
          "computers/computers.notebook/2053013558920217191/1304315",
          "computers/computers.notebook/2053013558920217191/1305977",
          "computers/computers.notebook/2053013558920217191/1306421",
          "computers/computers.notebook/2053013558920217191/1306571",
          "computers/computers.notebook/2053013558920217191/1306894",
          "computers/computers.notebook/2053013558920217191/1306895",
          "computers/computers.notebook/2053013558920217191/1307012",
          "computers/computers.notebook/2053013558920217191/1307065",
          "computers/computers.notebook/2053013558920217191/1307095",
          "computers/computers.notebook/2053013558920217191/1307115",
          "computers/computers.notebook/2053013558920217191/1307255",
          "computers/computers.notebook/2053013558920217191/1307322",
          "computers/computers.notebook/2053013558920217191/1307338",
          "computers/computers.notebook/2053013558920217191/1307340",
          "computers/computers.notebook/2053013558920217191/1307350",
          "computers/computers.notebook/2053013558920217191/1307519",
          "not defined/not defined/2053013553526341921/13100745",
          "not defined/not defined/2053013553526341921/13102283",
          "furniture/furniture.bedroom.bed/2053013557192163841/13200605",
          "furniture/furniture.bathroom.bath/2053013557477376525/13600340",
          "not defined/not defined/2053013557024391671/15100148",
          "not defined/not defined/2053013557024391671/15100252",
          "not defined/not defined/2053013557024391671/15100337",
          "not defined/not defined/2053013553484398879/15200565",
          "not defined/not defined/2053013553484398879/15200567",
          "not defined/not defined/2053013559733912211/15700204",
          "not defined/not defined/2053013560144954031/15800155",
          "not defined/not defined/2053013558190408249/15900065",
          "not defined/not defined/2053013558223962683/16000004",
          "computers/computers.peripherals.printer/2053013553056579841/1600557",
          "computers/computers.peripherals.printer/2053013553056579841/1600587",
          "furniture/furniture.kitchen.chair/2053013559901684381/16700260",
          "furniture/furniture.kitchen.chair/2053013559901684381/16700384",
          "furniture/furniture.kitchen.chair/2053013559901684381/16700690",
          "furniture/furniture.kitchen.chair/2053013559901684381/16700826",
          "furniture/furniture.kitchen.table/2053013558433677895/16900083",
          "furniture/furniture.living_room.sofa/2053013559792632471/17200558",
          "furniture/furniture.living_room.sofa/2053013559792632471/17200570",
          "not defined/not defined/2053013553853497655/17300016",
          "not defined/not defined/2053013553853497655/17300072",
          "not defined/not defined/2053013553853497655/17300136",
          "not defined/not defined/2053013553853497655/17300435",
          "not defined/not defined/2053013553853497655/17301421",
          "not defined/not defined/2053013553853497655/17301495",
          "not defined/not defined/2053013553853497655/17301611",
          "not defined/not defined/2053013553853497655/17302664",
          "not defined/not defined/2053013558752445019/17501048",
          "not defined/not defined/2053013558895051365/17601982",
          "computers/computers.desktop/2053013559868129947/17800132",
          "electronics/electronics.video.tv/2053013554415534427/1800729",
          "not defined/not defined/2053013557955527211/18100030",
          "not defined/not defined/2053013557955527211/18100047",
          "electronics/electronics.clocks/2053013561579406073/21400135",
          "electronics/electronics.clocks/2053013561579406073/21405259",
          "electronics/electronics.clocks/2053013561579406073/21406939",
          "electronics/electronics.clocks/2053013561579406073/21407128",
          "electronics/electronics.clocks/2053013561579406073/21408240",
          "not defined/not defined/2053013560555995845/2200958",
          "not defined/not defined/2053013560555995845/2201037",
          "not defined/not defined/2053013556168753601/22700007",
          "not defined/not defined/2053013556168753601/22700067",
          "not defined/not defined/2053013556168753601/22700084",
          "not defined/not defined/2053013556168753601/22700202",
          "not defined/not defined/2053013556168753601/22700205",
          "not defined/not defined/2053013556168753601/22700324",
          "electronics/electronics.camera.video/2053013560530830019/2300214",
          "not defined/not defined/2053013563215184719/24400436",
          "not defined/not defined/2053013563215184719/24400437",
          "not defined/not defined/2053013562183385881/24900193",
          "not defined/not defined/2053013559675191951/25600085",
          "not defined/not defined/2053013562837697343/26019863",
          "not defined/not defined/2053013562837697343/26022534",
          "not defined/not defined/2053013553887052089/26100002",
          "not defined/not defined/2053013563693335403/26204072",
          "not defined/not defined/2053013563651392361/26400273",
          "not defined/not defined/2053013563651392361/26400585",
          "not defined/not defined/2053013563651392361/26402378",
          "not defined/not defined/2053013563651392361/26404402",
          "appliances/appliances.kitchen.refrigerators/2053013563911439225/2700598",
          "appliances/appliances.kitchen.refrigerators/2053013563911439225/2701305",
          "appliances/appliances.kitchen.refrigerators/2053013563911439225/2701419",
          "appliances/appliances.kitchen.refrigerators/2053013563911439225/2701517",
          "appliances/appliances.kitchen.refrigerators/2053013563911439225/2702611",
          "not defined/not defined/2053013563391345499/27400066",
          "not defined/not defined/2079713978300236035/27800054",
          "not defined/not defined/2079713978300236035/27800061",
          "not defined/not defined/2059484601444729123/29900072",
          "construction/construction.tools.welding/2127425436764865054/30000218",
          "not defined/not defined/2053013556110033341/30100041",
          "not defined/not defined/2055156924315337497/31000152",
          "accessories/accessories.bag/2055156924407612189/32900064",
          "not defined/not defined/2060981320581906480/34600011",
          "not defined/not defined/2060981320581906480/34600119",
          "not defined/not defined/2062461754293617058/34800573",
          "appliances/appliances.kitchen.washer/2053013563810775923/3601530",
          "not defined/not defined/2070747671722722162/36600031",
          "appliances/appliances.environment.vacuum/2053013565983425517/3701016",
          "not defined/not defined/2152167773222993940/37900026",
          "not defined/not defined/2085718636156158307/38900011",
          "appliances/appliances.environment.water_heater/2053013552326770905/3901174",
          "construction/construction.tools.painting/2127425434894205468/40900007",
          "not defined/not defined/2053013561218695907/4100297",
          "not defined/not defined/2090228413959766319/41100033",
          "not defined/not defined/2090228413959766319/41100050",
          "not defined/not defined/2090228413959766319/41100055",
          "not defined/not defined/2090228413959766319/41100058",
          "construction/construction.tools.light/2098563450757186313/42900023",
          "apparel/apparel.tshirt/2146660887346282824/43200121",
          "apparel/apparel.jeans/2100825583029060150/44300009",
          "apparel/apparel.jeans/2100825583029060150/44300026",
          "apparel/apparel.jeans/2100825583029060150/44300043",
          "apparel/apparel.shoes/2116907524572577889/45601414",
          "appliances/appliances.kitchen.dishwasher/2053013563944993659/4600541",
          "appliances/appliances.kitchen.dishwasher/2053013563944993659/4600603",
          "appliances/appliances.kitchen.dishwasher/2053013563944993659/4600658",
          "electronics/electronics.audio.headphone/2053013554658804075/4804151",
          "electronics/electronics.audio.headphone/2053013554658804075/4804194",
          "electronics/electronics.audio.headphone/2053013554658804075/4804295",
          "electronics/electronics.audio.headphone/2053013554658804075/4804420",
          "appliances/appliances.sewing_machine/2053013566100866035/5000088",
          "auto/auto.accessories.compressor/2134905044833666047/50600046",
          "auto/auto.accessories.compressor/2134905044833666047/50600085",
          "not defined/not defined/2053013553375346967/5100503",
          "electronics/electronics.clocks/2053013553341792533/5100797",
          "not defined/not defined/2053013553375346967/5100851",
          "electronics/electronics.clocks/2053013553341792533/5100855",
          "not defined/not defined/2137704922018218396/52000038",
          "not defined/not defined/2137704922018218396/52000058",
          "construction/construction.tools.saw/2144916515806248980/53900036",
          "auto/auto.accessories.player/2053013553970938175/5700352",
          "auto/auto.accessories.player/2053013553970938175/5700662",
          "auto/auto.accessories.player/2053013553970938175/5701331",
          "apparel/apparel.shirt/2173216765583032544/57300036",
          "electronics/electronics.audio.subwoofer/2053013553945772349/5800506",
          "electronics/electronics.audio.subwoofer/2053013553945772349/5801483",
          "electronics/electronics.audio.subwoofer/2053013553945772349/5801550",
          "electronics/electronics.audio.subwoofer/2053013553945772349/5801656",
          "computers/computers.components.motherboard/2053013554155487563/6500912",
          "computers/computers.components.videocards/2053013554247762257/6700582",
          "furniture/furniture.bedroom.bed/2053013555464110485/7100133",
          "appliances/appliances.environment.water_heater/2053013552326770905",
          "computers/computers.peripherals.printer/2053013553056579841",
          "not defined/not defined/2053013553115300101",
          "electronics/electronics.clocks/2053013553341792533",
          "not defined/not defined/2053013553375346967",
          "not defined/not defined/2053013553484398879",
          "not defined/not defined/2053013553526341921",
          "not defined/not defined/2053013553559896355",
          "not defined/not defined/2053013553853497655",
          "not defined/not defined/2053013553887052089",
          "electronics/electronics.audio.subwoofer/2053013553945772349",
          "auto/auto.accessories.player/2053013553970938175",
          "computers/computers.components.motherboard/2053013554155487563",
          "computers/computers.components.videocards/2053013554247762257",
          "electronics/electronics.video.tv/2053013554415534427",
          "electronics/electronics.audio.headphone/2053013554658804075",
          "not defined/not defined/2053013554994348409",
          "furniture/furniture.bedroom.bed/2053013555464110485",
          "electronics/electronics.smartphone/2053013555631882655",
          "not defined/not defined/2053013556110033341",
          "not defined/not defined/2053013556168753601",
          "construction/construction.tools.drill/2053013556311359947",
          "not defined/not defined/2053013557024391671",
          "furniture/furniture.bedroom.bed/2053013557192163841",
          "furniture/furniture.bathroom.bath/2053013557477376525",
          "not defined/not defined/2053013557955527211",
          "not defined/not defined/2053013558190408249",
          "not defined/not defined/2053013558223962683",
          "furniture/furniture.kitchen.table/2053013558433677895",
          "not defined/not defined/2053013558752445019",
          "not defined/not defined/2053013558895051365",
          "computers/computers.notebook/2053013558920217191",
          "not defined/not defined/2053013559675191951",
          "not defined/not defined/2053013559733912211",
          "furniture/furniture.living_room.sofa/2053013559792632471",
          "computers/computers.desktop/2053013559868129947",
          "furniture/furniture.kitchen.chair/2053013559901684381",
          "not defined/not defined/2053013560144954031",
          "electronics/electronics.camera.video/2053013560530830019",
          "not defined/not defined/2053013560555995845",
          "not defined/not defined/2053013561218695907",
          "not defined/not defined/2053013561277416167",
          "electronics/electronics.clocks/2053013561579406073",
          "not defined/not defined/2053013562183385881",
          "not defined/not defined/2053013562837697343",
          "not defined/not defined/2053013563215184719",
          "not defined/not defined/2053013563391345499",
          "not defined/not defined/2053013563651392361",
          "not defined/not defined/2053013563693335403",
          "appliances/appliances.kitchen.washer/2053013563810775923",
          "appliances/appliances.kitchen.refrigerators/2053013563911439225",
          "appliances/appliances.kitchen.dishwasher/2053013563944993659",
          "appliances/appliances.environment.vacuum/2053013565983425517",
          "appliances/appliances.sewing_machine/2053013566100866035",
          "not defined/not defined/2055156924315337497",
          "accessories/accessories.bag/2055156924407612189",
          "not defined/not defined/2059484601444729123",
          "not defined/not defined/2060981320581906480",
          "not defined/not defined/2062461754293617058",
          "not defined/not defined/2070747671722722162",
          "not defined/not defined/2079713978300236035",
          "not defined/not defined/2085718636156158307",
          "not defined/not defined/2090228413959766319",
          "construction/construction.tools.light/2098563450757186313",
          "apparel/apparel.jeans/2100825583029060150",
          "apparel/apparel.shoes/2116907524572577889",
          "construction/construction.tools.painting/2127425434894205468",
          "construction/construction.tools.welding/2127425436764865054",
          "auto/auto.accessories.compressor/2134905044833666047",
          "not defined/not defined/2137704922018218396",
          "construction/construction.tools.saw/2144916515806248980",
          "apparel/apparel.tshirt/2146660887346282824",
          "not defined/not defined/2152167773222993940",
          "apparel/apparel.shirt/2173216765583032544",
          "accessories/accessories.bag",
          "apparel/apparel.jeans",
          "apparel/apparel.shirt",
          "apparel/apparel.shoes",
          "apparel/apparel.tshirt",
          "appliances/appliances.environment.vacuum",
          "appliances/appliances.environment.water_heater",
          "appliances/appliances.kitchen.dishwasher",
          "appliances/appliances.kitchen.refrigerators",
          "appliances/appliances.kitchen.washer",
          "appliances/appliances.sewing_machine",
          "auto/auto.accessories.compressor",
          "auto/auto.accessories.player",
          "computers/computers.components.motherboard",
          "computers/computers.components.videocards",
          "computers/computers.desktop",
          "computers/computers.notebook",
          "computers/computers.peripherals.printer",
          "construction/construction.tools.drill",
          "construction/construction.tools.light",
          "construction/construction.tools.painting",
          "construction/construction.tools.saw",
          "construction/construction.tools.welding",
          "electronics/electronics.audio.headphone",
          "electronics/electronics.audio.subwoofer",
          "electronics/electronics.camera.video",
          "electronics/electronics.clocks",
          "electronics/electronics.smartphone",
          "electronics/electronics.video.tv",
          "furniture/furniture.bathroom.bath",
          "furniture/furniture.bedroom.bed",
          "furniture/furniture.kitchen.chair",
          "furniture/furniture.kitchen.table",
          "furniture/furniture.living_room.sofa",
          "not defined/not defined",
          "accessories",
          "apparel",
          "appliances",
          "auto",
          "computers",
          "construction",
          "electronics",
          "furniture",
          "not defined"
         ],
         "labels": [
          "1002544",
          "1003316",
          "1003317",
          "1003461",
          "1003869",
          "1004184",
          "1004237",
          "1004241",
          "1004258",
          "1004322",
          "1004566",
          "1004708",
          "1004720",
          "1004740",
          "1004748",
          "1004767",
          "1004775",
          "1004779",
          "1004833",
          "1004834",
          "1004840",
          "1004856",
          "1004877",
          "1004990",
          "1005014",
          "1005115",
          "1005116",
          "1005161",
          "1005234",
          "10301494",
          "10701060",
          "10800076",
          "10800182",
          "12300231",
          "12300394",
          "12300928",
          "12301394",
          "12701967",
          "12705151",
          "12705258",
          "12708306",
          "12708937",
          "12710321",
          "12719154",
          "12719892",
          "12720155",
          "12720378",
          "1303355",
          "1304315",
          "1305977",
          "1306421",
          "1306571",
          "1306894",
          "1306895",
          "1307012",
          "1307065",
          "1307095",
          "1307115",
          "1307255",
          "1307322",
          "1307338",
          "1307340",
          "1307350",
          "1307519",
          "13100745",
          "13102283",
          "13200605",
          "13600340",
          "15100148",
          "15100252",
          "15100337",
          "15200565",
          "15200567",
          "15700204",
          "15800155",
          "15900065",
          "16000004",
          "1600557",
          "1600587",
          "16700260",
          "16700384",
          "16700690",
          "16700826",
          "16900083",
          "17200558",
          "17200570",
          "17300016",
          "17300072",
          "17300136",
          "17300435",
          "17301421",
          "17301495",
          "17301611",
          "17302664",
          "17501048",
          "17601982",
          "17800132",
          "1800729",
          "18100030",
          "18100047",
          "21400135",
          "21405259",
          "21406939",
          "21407128",
          "21408240",
          "2200958",
          "2201037",
          "22700007",
          "22700067",
          "22700084",
          "22700202",
          "22700205",
          "22700324",
          "2300214",
          "24400436",
          "24400437",
          "24900193",
          "25600085",
          "26019863",
          "26022534",
          "26100002",
          "26204072",
          "26400273",
          "26400585",
          "26402378",
          "26404402",
          "2700598",
          "2701305",
          "2701419",
          "2701517",
          "2702611",
          "27400066",
          "27800054",
          "27800061",
          "29900072",
          "30000218",
          "30100041",
          "31000152",
          "32900064",
          "34600011",
          "34600119",
          "34800573",
          "3601530",
          "36600031",
          "3701016",
          "37900026",
          "38900011",
          "3901174",
          "40900007",
          "4100297",
          "41100033",
          "41100050",
          "41100055",
          "41100058",
          "42900023",
          "43200121",
          "44300009",
          "44300026",
          "44300043",
          "45601414",
          "4600541",
          "4600603",
          "4600658",
          "4804151",
          "4804194",
          "4804295",
          "4804420",
          "5000088",
          "50600046",
          "50600085",
          "5100503",
          "5100797",
          "5100851",
          "5100855",
          "52000038",
          "52000058",
          "53900036",
          "5700352",
          "5700662",
          "5701331",
          "57300036",
          "5800506",
          "5801483",
          "5801550",
          "5801656",
          "6500912",
          "6700582",
          "7100133",
          "2053013552326770905",
          "2053013553056579841",
          "2053013553115300101",
          "2053013553341792533",
          "2053013553375346967",
          "2053013553484398879",
          "2053013553526341921",
          "2053013553559896355",
          "2053013553853497655",
          "2053013553887052089",
          "2053013553945772349",
          "2053013553970938175",
          "2053013554155487563",
          "2053013554247762257",
          "2053013554415534427",
          "2053013554658804075",
          "2053013554994348409",
          "2053013555464110485",
          "2053013555631882655",
          "2053013556110033341",
          "2053013556168753601",
          "2053013556311359947",
          "2053013557024391671",
          "2053013557192163841",
          "2053013557477376525",
          "2053013557955527211",
          "2053013558190408249",
          "2053013558223962683",
          "2053013558433677895",
          "2053013558752445019",
          "2053013558895051365",
          "2053013558920217191",
          "2053013559675191951",
          "2053013559733912211",
          "2053013559792632471",
          "2053013559868129947",
          "2053013559901684381",
          "2053013560144954031",
          "2053013560530830019",
          "2053013560555995845",
          "2053013561218695907",
          "2053013561277416167",
          "2053013561579406073",
          "2053013562183385881",
          "2053013562837697343",
          "2053013563215184719",
          "2053013563391345499",
          "2053013563651392361",
          "2053013563693335403",
          "2053013563810775923",
          "2053013563911439225",
          "2053013563944993659",
          "2053013565983425517",
          "2053013566100866035",
          "2055156924315337497",
          "2055156924407612189",
          "2059484601444729123",
          "2060981320581906480",
          "2062461754293617058",
          "2070747671722722162",
          "2079713978300236035",
          "2085718636156158307",
          "2090228413959766319",
          "2098563450757186313",
          "2100825583029060150",
          "2116907524572577889",
          "2127425434894205468",
          "2127425436764865054",
          "2134905044833666047",
          "2137704922018218396",
          "2144916515806248980",
          "2146660887346282824",
          "2152167773222993940",
          "2173216765583032544",
          "accessories.bag",
          "apparel.jeans",
          "apparel.shirt",
          "apparel.shoes",
          "apparel.tshirt",
          "appliances.environment.vacuum",
          "appliances.environment.water_heater",
          "appliances.kitchen.dishwasher",
          "appliances.kitchen.refrigerators",
          "appliances.kitchen.washer",
          "appliances.sewing_machine",
          "auto.accessories.compressor",
          "auto.accessories.player",
          "computers.components.motherboard",
          "computers.components.videocards",
          "computers.desktop",
          "computers.notebook",
          "computers.peripherals.printer",
          "construction.tools.drill",
          "construction.tools.light",
          "construction.tools.painting",
          "construction.tools.saw",
          "construction.tools.welding",
          "electronics.audio.headphone",
          "electronics.audio.subwoofer",
          "electronics.camera.video",
          "electronics.clocks",
          "electronics.smartphone",
          "electronics.video.tv",
          "furniture.bathroom.bath",
          "furniture.bedroom.bed",
          "furniture.kitchen.chair",
          "furniture.kitchen.table",
          "furniture.living_room.sofa",
          "not defined",
          "accessories",
          "apparel",
          "appliances",
          "auto",
          "computers",
          "construction",
          "electronics",
          "furniture",
          "not defined"
         ],
         "name": "",
         "parents": [
          "electronics/electronics.smartphone/2053013555631882655",
          "electronics/electronics.smartphone/2053013555631882655",
          "electronics/electronics.smartphone/2053013555631882655",
          "electronics/electronics.smartphone/2053013555631882655",
          "electronics/electronics.smartphone/2053013555631882655",
          "electronics/electronics.smartphone/2053013555631882655",
          "electronics/electronics.smartphone/2053013555631882655",
          "electronics/electronics.smartphone/2053013555631882655",
          "electronics/electronics.smartphone/2053013555631882655",
          "electronics/electronics.smartphone/2053013555631882655",
          "electronics/electronics.smartphone/2053013555631882655",
          "electronics/electronics.smartphone/2053013555631882655",
          "electronics/electronics.smartphone/2053013555631882655",
          "electronics/electronics.smartphone/2053013555631882655",
          "electronics/electronics.smartphone/2053013555631882655",
          "electronics/electronics.smartphone/2053013555631882655",
          "electronics/electronics.smartphone/2053013555631882655",
          "electronics/electronics.smartphone/2053013555631882655",
          "electronics/electronics.smartphone/2053013555631882655",
          "electronics/electronics.smartphone/2053013555631882655",
          "electronics/electronics.smartphone/2053013555631882655",
          "electronics/electronics.smartphone/2053013555631882655",
          "electronics/electronics.smartphone/2053013555631882655",
          "electronics/electronics.smartphone/2053013555631882655",
          "electronics/electronics.smartphone/2053013555631882655",
          "electronics/electronics.smartphone/2053013555631882655",
          "electronics/electronics.smartphone/2053013555631882655",
          "electronics/electronics.smartphone/2053013555631882655",
          "electronics/electronics.smartphone/2053013555631882655",
          "not defined/not defined/2053013553115300101",
          "not defined/not defined/2053013561277416167",
          "not defined/not defined/2053013554994348409",
          "not defined/not defined/2053013554994348409",
          "construction/construction.tools.drill/2053013556311359947",
          "construction/construction.tools.drill/2053013556311359947",
          "construction/construction.tools.drill/2053013556311359947",
          "construction/construction.tools.drill/2053013556311359947",
          "not defined/not defined/2053013553559896355",
          "not defined/not defined/2053013553559896355",
          "not defined/not defined/2053013553559896355",
          "not defined/not defined/2053013553559896355",
          "not defined/not defined/2053013553559896355",
          "not defined/not defined/2053013553559896355",
          "not defined/not defined/2053013553559896355",
          "not defined/not defined/2053013553559896355",
          "not defined/not defined/2053013553559896355",
          "not defined/not defined/2053013553559896355",
          "computers/computers.notebook/2053013558920217191",
          "computers/computers.notebook/2053013558920217191",
          "computers/computers.notebook/2053013558920217191",
          "computers/computers.notebook/2053013558920217191",
          "computers/computers.notebook/2053013558920217191",
          "computers/computers.notebook/2053013558920217191",
          "computers/computers.notebook/2053013558920217191",
          "computers/computers.notebook/2053013558920217191",
          "computers/computers.notebook/2053013558920217191",
          "computers/computers.notebook/2053013558920217191",
          "computers/computers.notebook/2053013558920217191",
          "computers/computers.notebook/2053013558920217191",
          "computers/computers.notebook/2053013558920217191",
          "computers/computers.notebook/2053013558920217191",
          "computers/computers.notebook/2053013558920217191",
          "computers/computers.notebook/2053013558920217191",
          "computers/computers.notebook/2053013558920217191",
          "not defined/not defined/2053013553526341921",
          "not defined/not defined/2053013553526341921",
          "furniture/furniture.bedroom.bed/2053013557192163841",
          "furniture/furniture.bathroom.bath/2053013557477376525",
          "not defined/not defined/2053013557024391671",
          "not defined/not defined/2053013557024391671",
          "not defined/not defined/2053013557024391671",
          "not defined/not defined/2053013553484398879",
          "not defined/not defined/2053013553484398879",
          "not defined/not defined/2053013559733912211",
          "not defined/not defined/2053013560144954031",
          "not defined/not defined/2053013558190408249",
          "not defined/not defined/2053013558223962683",
          "computers/computers.peripherals.printer/2053013553056579841",
          "computers/computers.peripherals.printer/2053013553056579841",
          "furniture/furniture.kitchen.chair/2053013559901684381",
          "furniture/furniture.kitchen.chair/2053013559901684381",
          "furniture/furniture.kitchen.chair/2053013559901684381",
          "furniture/furniture.kitchen.chair/2053013559901684381",
          "furniture/furniture.kitchen.table/2053013558433677895",
          "furniture/furniture.living_room.sofa/2053013559792632471",
          "furniture/furniture.living_room.sofa/2053013559792632471",
          "not defined/not defined/2053013553853497655",
          "not defined/not defined/2053013553853497655",
          "not defined/not defined/2053013553853497655",
          "not defined/not defined/2053013553853497655",
          "not defined/not defined/2053013553853497655",
          "not defined/not defined/2053013553853497655",
          "not defined/not defined/2053013553853497655",
          "not defined/not defined/2053013553853497655",
          "not defined/not defined/2053013558752445019",
          "not defined/not defined/2053013558895051365",
          "computers/computers.desktop/2053013559868129947",
          "electronics/electronics.video.tv/2053013554415534427",
          "not defined/not defined/2053013557955527211",
          "not defined/not defined/2053013557955527211",
          "electronics/electronics.clocks/2053013561579406073",
          "electronics/electronics.clocks/2053013561579406073",
          "electronics/electronics.clocks/2053013561579406073",
          "electronics/electronics.clocks/2053013561579406073",
          "electronics/electronics.clocks/2053013561579406073",
          "not defined/not defined/2053013560555995845",
          "not defined/not defined/2053013560555995845",
          "not defined/not defined/2053013556168753601",
          "not defined/not defined/2053013556168753601",
          "not defined/not defined/2053013556168753601",
          "not defined/not defined/2053013556168753601",
          "not defined/not defined/2053013556168753601",
          "not defined/not defined/2053013556168753601",
          "electronics/electronics.camera.video/2053013560530830019",
          "not defined/not defined/2053013563215184719",
          "not defined/not defined/2053013563215184719",
          "not defined/not defined/2053013562183385881",
          "not defined/not defined/2053013559675191951",
          "not defined/not defined/2053013562837697343",
          "not defined/not defined/2053013562837697343",
          "not defined/not defined/2053013553887052089",
          "not defined/not defined/2053013563693335403",
          "not defined/not defined/2053013563651392361",
          "not defined/not defined/2053013563651392361",
          "not defined/not defined/2053013563651392361",
          "not defined/not defined/2053013563651392361",
          "appliances/appliances.kitchen.refrigerators/2053013563911439225",
          "appliances/appliances.kitchen.refrigerators/2053013563911439225",
          "appliances/appliances.kitchen.refrigerators/2053013563911439225",
          "appliances/appliances.kitchen.refrigerators/2053013563911439225",
          "appliances/appliances.kitchen.refrigerators/2053013563911439225",
          "not defined/not defined/2053013563391345499",
          "not defined/not defined/2079713978300236035",
          "not defined/not defined/2079713978300236035",
          "not defined/not defined/2059484601444729123",
          "construction/construction.tools.welding/2127425436764865054",
          "not defined/not defined/2053013556110033341",
          "not defined/not defined/2055156924315337497",
          "accessories/accessories.bag/2055156924407612189",
          "not defined/not defined/2060981320581906480",
          "not defined/not defined/2060981320581906480",
          "not defined/not defined/2062461754293617058",
          "appliances/appliances.kitchen.washer/2053013563810775923",
          "not defined/not defined/2070747671722722162",
          "appliances/appliances.environment.vacuum/2053013565983425517",
          "not defined/not defined/2152167773222993940",
          "not defined/not defined/2085718636156158307",
          "appliances/appliances.environment.water_heater/2053013552326770905",
          "construction/construction.tools.painting/2127425434894205468",
          "not defined/not defined/2053013561218695907",
          "not defined/not defined/2090228413959766319",
          "not defined/not defined/2090228413959766319",
          "not defined/not defined/2090228413959766319",
          "not defined/not defined/2090228413959766319",
          "construction/construction.tools.light/2098563450757186313",
          "apparel/apparel.tshirt/2146660887346282824",
          "apparel/apparel.jeans/2100825583029060150",
          "apparel/apparel.jeans/2100825583029060150",
          "apparel/apparel.jeans/2100825583029060150",
          "apparel/apparel.shoes/2116907524572577889",
          "appliances/appliances.kitchen.dishwasher/2053013563944993659",
          "appliances/appliances.kitchen.dishwasher/2053013563944993659",
          "appliances/appliances.kitchen.dishwasher/2053013563944993659",
          "electronics/electronics.audio.headphone/2053013554658804075",
          "electronics/electronics.audio.headphone/2053013554658804075",
          "electronics/electronics.audio.headphone/2053013554658804075",
          "electronics/electronics.audio.headphone/2053013554658804075",
          "appliances/appliances.sewing_machine/2053013566100866035",
          "auto/auto.accessories.compressor/2134905044833666047",
          "auto/auto.accessories.compressor/2134905044833666047",
          "not defined/not defined/2053013553375346967",
          "electronics/electronics.clocks/2053013553341792533",
          "not defined/not defined/2053013553375346967",
          "electronics/electronics.clocks/2053013553341792533",
          "not defined/not defined/2137704922018218396",
          "not defined/not defined/2137704922018218396",
          "construction/construction.tools.saw/2144916515806248980",
          "auto/auto.accessories.player/2053013553970938175",
          "auto/auto.accessories.player/2053013553970938175",
          "auto/auto.accessories.player/2053013553970938175",
          "apparel/apparel.shirt/2173216765583032544",
          "electronics/electronics.audio.subwoofer/2053013553945772349",
          "electronics/electronics.audio.subwoofer/2053013553945772349",
          "electronics/electronics.audio.subwoofer/2053013553945772349",
          "electronics/electronics.audio.subwoofer/2053013553945772349",
          "computers/computers.components.motherboard/2053013554155487563",
          "computers/computers.components.videocards/2053013554247762257",
          "furniture/furniture.bedroom.bed/2053013555464110485",
          "appliances/appliances.environment.water_heater",
          "computers/computers.peripherals.printer",
          "not defined/not defined",
          "electronics/electronics.clocks",
          "not defined/not defined",
          "not defined/not defined",
          "not defined/not defined",
          "not defined/not defined",
          "not defined/not defined",
          "not defined/not defined",
          "electronics/electronics.audio.subwoofer",
          "auto/auto.accessories.player",
          "computers/computers.components.motherboard",
          "computers/computers.components.videocards",
          "electronics/electronics.video.tv",
          "electronics/electronics.audio.headphone",
          "not defined/not defined",
          "furniture/furniture.bedroom.bed",
          "electronics/electronics.smartphone",
          "not defined/not defined",
          "not defined/not defined",
          "construction/construction.tools.drill",
          "not defined/not defined",
          "furniture/furniture.bedroom.bed",
          "furniture/furniture.bathroom.bath",
          "not defined/not defined",
          "not defined/not defined",
          "not defined/not defined",
          "furniture/furniture.kitchen.table",
          "not defined/not defined",
          "not defined/not defined",
          "computers/computers.notebook",
          "not defined/not defined",
          "not defined/not defined",
          "furniture/furniture.living_room.sofa",
          "computers/computers.desktop",
          "furniture/furniture.kitchen.chair",
          "not defined/not defined",
          "electronics/electronics.camera.video",
          "not defined/not defined",
          "not defined/not defined",
          "not defined/not defined",
          "electronics/electronics.clocks",
          "not defined/not defined",
          "not defined/not defined",
          "not defined/not defined",
          "not defined/not defined",
          "not defined/not defined",
          "not defined/not defined",
          "appliances/appliances.kitchen.washer",
          "appliances/appliances.kitchen.refrigerators",
          "appliances/appliances.kitchen.dishwasher",
          "appliances/appliances.environment.vacuum",
          "appliances/appliances.sewing_machine",
          "not defined/not defined",
          "accessories/accessories.bag",
          "not defined/not defined",
          "not defined/not defined",
          "not defined/not defined",
          "not defined/not defined",
          "not defined/not defined",
          "not defined/not defined",
          "not defined/not defined",
          "construction/construction.tools.light",
          "apparel/apparel.jeans",
          "apparel/apparel.shoes",
          "construction/construction.tools.painting",
          "construction/construction.tools.welding",
          "auto/auto.accessories.compressor",
          "not defined/not defined",
          "construction/construction.tools.saw",
          "apparel/apparel.tshirt",
          "not defined/not defined",
          "apparel/apparel.shirt",
          "accessories",
          "apparel",
          "apparel",
          "apparel",
          "apparel",
          "appliances",
          "appliances",
          "appliances",
          "appliances",
          "appliances",
          "appliances",
          "auto",
          "auto",
          "computers",
          "computers",
          "computers",
          "computers",
          "computers",
          "construction",
          "construction",
          "construction",
          "construction",
          "construction",
          "electronics",
          "electronics",
          "electronics",
          "electronics",
          "electronics",
          "electronics",
          "furniture",
          "furniture",
          "furniture",
          "furniture",
          "furniture",
          "not defined",
          "",
          "",
          "",
          "",
          "",
          "",
          "",
          "",
          ""
         ],
         "type": "sunburst",
         "values": [
          1,
          2,
          1,
          2,
          1,
          1,
          2,
          1,
          2,
          1,
          1,
          1,
          1,
          1,
          1,
          2,
          2,
          1,
          1,
          1,
          1,
          2,
          1,
          1,
          1,
          1,
          2,
          2,
          1,
          1,
          1,
          1,
          1,
          1,
          1,
          1,
          1,
          1,
          1,
          1,
          1,
          3,
          1,
          1,
          1,
          1,
          1,
          1,
          1,
          1,
          1,
          1,
          1,
          1,
          1,
          1,
          1,
          2,
          1,
          1,
          1,
          1,
          1,
          1,
          1,
          1,
          3,
          1,
          1,
          1,
          1,
          1,
          1,
          1,
          1,
          1,
          1,
          1,
          1,
          1,
          2,
          1,
          2,
          1,
          1,
          1,
          1,
          2,
          1,
          1,
          1,
          1,
          1,
          1,
          1,
          1,
          1,
          1,
          1,
          1,
          1,
          1,
          1,
          1,
          2,
          1,
          1,
          1,
          1,
          1,
          1,
          1,
          1,
          1,
          1,
          3,
          1,
          1,
          1,
          1,
          1,
          1,
          1,
          1,
          1,
          1,
          1,
          1,
          1,
          1,
          1,
          2,
          1,
          1,
          2,
          1,
          1,
          1,
          1,
          1,
          1,
          1,
          1,
          1,
          1,
          1,
          2,
          1,
          1,
          2,
          1,
          1,
          1,
          1,
          1,
          1,
          1,
          1,
          1,
          1,
          1,
          2,
          1,
          1,
          1,
          2,
          1,
          2,
          1,
          1,
          1,
          1,
          1,
          1,
          1,
          1,
          1,
          1,
          1,
          3,
          1,
          1,
          1,
          1,
          1,
          1,
          1,
          1,
          1,
          2,
          1,
          2,
          2,
          2,
          2,
          12,
          9,
          1,
          4,
          5,
          1,
          1,
          1,
          5,
          2,
          1,
          38,
          1,
          6,
          4,
          3,
          3,
          1,
          2,
          1,
          1,
          1,
          1,
          1,
          18,
          1,
          1,
          2,
          1,
          6,
          1,
          1,
          2,
          2,
          1,
          6,
          1,
          2,
          4,
          2,
          4,
          1,
          1,
          5,
          4,
          1,
          2,
          1,
          1,
          2,
          2,
          1,
          1,
          2,
          2,
          4,
          1,
          3,
          1,
          1,
          1,
          2,
          2,
          1,
          1,
          1,
          1,
          1,
          3,
          1,
          1,
          1,
          1,
          1,
          4,
          5,
          1,
          2,
          2,
          5,
          1,
          1,
          1,
          18,
          2,
          4,
          1,
          1,
          1,
          1,
          5,
          4,
          1,
          8,
          38,
          1,
          1,
          4,
          6,
          1,
          2,
          87,
          1,
          6,
          14,
          7,
          23,
          8,
          57,
          14,
          87
         ]
        }
       ],
       "layout": {
        "legend": {
         "tracegroupgap": 0
        },
        "margin": {
         "t": 60
        },
        "template": {
         "data": {
          "bar": [
           {
            "error_x": {
             "color": "#2a3f5f"
            },
            "error_y": {
             "color": "#2a3f5f"
            },
            "marker": {
             "line": {
              "color": "#E5ECF6",
              "width": 0.5
             }
            },
            "type": "bar"
           }
          ],
          "barpolar": [
           {
            "marker": {
             "line": {
              "color": "#E5ECF6",
              "width": 0.5
             }
            },
            "type": "barpolar"
           }
          ],
          "carpet": [
           {
            "aaxis": {
             "endlinecolor": "#2a3f5f",
             "gridcolor": "white",
             "linecolor": "white",
             "minorgridcolor": "white",
             "startlinecolor": "#2a3f5f"
            },
            "baxis": {
             "endlinecolor": "#2a3f5f",
             "gridcolor": "white",
             "linecolor": "white",
             "minorgridcolor": "white",
             "startlinecolor": "#2a3f5f"
            },
            "type": "carpet"
           }
          ],
          "choropleth": [
           {
            "colorbar": {
             "outlinewidth": 0,
             "ticks": ""
            },
            "type": "choropleth"
           }
          ],
          "contour": [
           {
            "colorbar": {
             "outlinewidth": 0,
             "ticks": ""
            },
            "colorscale": [
             [
              0,
              "#0d0887"
             ],
             [
              0.1111111111111111,
              "#46039f"
             ],
             [
              0.2222222222222222,
              "#7201a8"
             ],
             [
              0.3333333333333333,
              "#9c179e"
             ],
             [
              0.4444444444444444,
              "#bd3786"
             ],
             [
              0.5555555555555556,
              "#d8576b"
             ],
             [
              0.6666666666666666,
              "#ed7953"
             ],
             [
              0.7777777777777778,
              "#fb9f3a"
             ],
             [
              0.8888888888888888,
              "#fdca26"
             ],
             [
              1,
              "#f0f921"
             ]
            ],
            "type": "contour"
           }
          ],
          "contourcarpet": [
           {
            "colorbar": {
             "outlinewidth": 0,
             "ticks": ""
            },
            "type": "contourcarpet"
           }
          ],
          "heatmap": [
           {
            "colorbar": {
             "outlinewidth": 0,
             "ticks": ""
            },
            "colorscale": [
             [
              0,
              "#0d0887"
             ],
             [
              0.1111111111111111,
              "#46039f"
             ],
             [
              0.2222222222222222,
              "#7201a8"
             ],
             [
              0.3333333333333333,
              "#9c179e"
             ],
             [
              0.4444444444444444,
              "#bd3786"
             ],
             [
              0.5555555555555556,
              "#d8576b"
             ],
             [
              0.6666666666666666,
              "#ed7953"
             ],
             [
              0.7777777777777778,
              "#fb9f3a"
             ],
             [
              0.8888888888888888,
              "#fdca26"
             ],
             [
              1,
              "#f0f921"
             ]
            ],
            "type": "heatmap"
           }
          ],
          "heatmapgl": [
           {
            "colorbar": {
             "outlinewidth": 0,
             "ticks": ""
            },
            "colorscale": [
             [
              0,
              "#0d0887"
             ],
             [
              0.1111111111111111,
              "#46039f"
             ],
             [
              0.2222222222222222,
              "#7201a8"
             ],
             [
              0.3333333333333333,
              "#9c179e"
             ],
             [
              0.4444444444444444,
              "#bd3786"
             ],
             [
              0.5555555555555556,
              "#d8576b"
             ],
             [
              0.6666666666666666,
              "#ed7953"
             ],
             [
              0.7777777777777778,
              "#fb9f3a"
             ],
             [
              0.8888888888888888,
              "#fdca26"
             ],
             [
              1,
              "#f0f921"
             ]
            ],
            "type": "heatmapgl"
           }
          ],
          "histogram": [
           {
            "marker": {
             "colorbar": {
              "outlinewidth": 0,
              "ticks": ""
             }
            },
            "type": "histogram"
           }
          ],
          "histogram2d": [
           {
            "colorbar": {
             "outlinewidth": 0,
             "ticks": ""
            },
            "colorscale": [
             [
              0,
              "#0d0887"
             ],
             [
              0.1111111111111111,
              "#46039f"
             ],
             [
              0.2222222222222222,
              "#7201a8"
             ],
             [
              0.3333333333333333,
              "#9c179e"
             ],
             [
              0.4444444444444444,
              "#bd3786"
             ],
             [
              0.5555555555555556,
              "#d8576b"
             ],
             [
              0.6666666666666666,
              "#ed7953"
             ],
             [
              0.7777777777777778,
              "#fb9f3a"
             ],
             [
              0.8888888888888888,
              "#fdca26"
             ],
             [
              1,
              "#f0f921"
             ]
            ],
            "type": "histogram2d"
           }
          ],
          "histogram2dcontour": [
           {
            "colorbar": {
             "outlinewidth": 0,
             "ticks": ""
            },
            "colorscale": [
             [
              0,
              "#0d0887"
             ],
             [
              0.1111111111111111,
              "#46039f"
             ],
             [
              0.2222222222222222,
              "#7201a8"
             ],
             [
              0.3333333333333333,
              "#9c179e"
             ],
             [
              0.4444444444444444,
              "#bd3786"
             ],
             [
              0.5555555555555556,
              "#d8576b"
             ],
             [
              0.6666666666666666,
              "#ed7953"
             ],
             [
              0.7777777777777778,
              "#fb9f3a"
             ],
             [
              0.8888888888888888,
              "#fdca26"
             ],
             [
              1,
              "#f0f921"
             ]
            ],
            "type": "histogram2dcontour"
           }
          ],
          "mesh3d": [
           {
            "colorbar": {
             "outlinewidth": 0,
             "ticks": ""
            },
            "type": "mesh3d"
           }
          ],
          "parcoords": [
           {
            "line": {
             "colorbar": {
              "outlinewidth": 0,
              "ticks": ""
             }
            },
            "type": "parcoords"
           }
          ],
          "pie": [
           {
            "automargin": true,
            "type": "pie"
           }
          ],
          "scatter": [
           {
            "marker": {
             "colorbar": {
              "outlinewidth": 0,
              "ticks": ""
             }
            },
            "type": "scatter"
           }
          ],
          "scatter3d": [
           {
            "line": {
             "colorbar": {
              "outlinewidth": 0,
              "ticks": ""
             }
            },
            "marker": {
             "colorbar": {
              "outlinewidth": 0,
              "ticks": ""
             }
            },
            "type": "scatter3d"
           }
          ],
          "scattercarpet": [
           {
            "marker": {
             "colorbar": {
              "outlinewidth": 0,
              "ticks": ""
             }
            },
            "type": "scattercarpet"
           }
          ],
          "scattergeo": [
           {
            "marker": {
             "colorbar": {
              "outlinewidth": 0,
              "ticks": ""
             }
            },
            "type": "scattergeo"
           }
          ],
          "scattergl": [
           {
            "marker": {
             "colorbar": {
              "outlinewidth": 0,
              "ticks": ""
             }
            },
            "type": "scattergl"
           }
          ],
          "scattermapbox": [
           {
            "marker": {
             "colorbar": {
              "outlinewidth": 0,
              "ticks": ""
             }
            },
            "type": "scattermapbox"
           }
          ],
          "scatterpolar": [
           {
            "marker": {
             "colorbar": {
              "outlinewidth": 0,
              "ticks": ""
             }
            },
            "type": "scatterpolar"
           }
          ],
          "scatterpolargl": [
           {
            "marker": {
             "colorbar": {
              "outlinewidth": 0,
              "ticks": ""
             }
            },
            "type": "scatterpolargl"
           }
          ],
          "scatterternary": [
           {
            "marker": {
             "colorbar": {
              "outlinewidth": 0,
              "ticks": ""
             }
            },
            "type": "scatterternary"
           }
          ],
          "surface": [
           {
            "colorbar": {
             "outlinewidth": 0,
             "ticks": ""
            },
            "colorscale": [
             [
              0,
              "#0d0887"
             ],
             [
              0.1111111111111111,
              "#46039f"
             ],
             [
              0.2222222222222222,
              "#7201a8"
             ],
             [
              0.3333333333333333,
              "#9c179e"
             ],
             [
              0.4444444444444444,
              "#bd3786"
             ],
             [
              0.5555555555555556,
              "#d8576b"
             ],
             [
              0.6666666666666666,
              "#ed7953"
             ],
             [
              0.7777777777777778,
              "#fb9f3a"
             ],
             [
              0.8888888888888888,
              "#fdca26"
             ],
             [
              1,
              "#f0f921"
             ]
            ],
            "type": "surface"
           }
          ],
          "table": [
           {
            "cells": {
             "fill": {
              "color": "#EBF0F8"
             },
             "line": {
              "color": "white"
             }
            },
            "header": {
             "fill": {
              "color": "#C8D4E3"
             },
             "line": {
              "color": "white"
             }
            },
            "type": "table"
           }
          ]
         },
         "layout": {
          "annotationdefaults": {
           "arrowcolor": "#2a3f5f",
           "arrowhead": 0,
           "arrowwidth": 1
          },
          "autotypenumbers": "strict",
          "coloraxis": {
           "colorbar": {
            "outlinewidth": 0,
            "ticks": ""
           }
          },
          "colorscale": {
           "diverging": [
            [
             0,
             "#8e0152"
            ],
            [
             0.1,
             "#c51b7d"
            ],
            [
             0.2,
             "#de77ae"
            ],
            [
             0.3,
             "#f1b6da"
            ],
            [
             0.4,
             "#fde0ef"
            ],
            [
             0.5,
             "#f7f7f7"
            ],
            [
             0.6,
             "#e6f5d0"
            ],
            [
             0.7,
             "#b8e186"
            ],
            [
             0.8,
             "#7fbc41"
            ],
            [
             0.9,
             "#4d9221"
            ],
            [
             1,
             "#276419"
            ]
           ],
           "sequential": [
            [
             0,
             "#0d0887"
            ],
            [
             0.1111111111111111,
             "#46039f"
            ],
            [
             0.2222222222222222,
             "#7201a8"
            ],
            [
             0.3333333333333333,
             "#9c179e"
            ],
            [
             0.4444444444444444,
             "#bd3786"
            ],
            [
             0.5555555555555556,
             "#d8576b"
            ],
            [
             0.6666666666666666,
             "#ed7953"
            ],
            [
             0.7777777777777778,
             "#fb9f3a"
            ],
            [
             0.8888888888888888,
             "#fdca26"
            ],
            [
             1,
             "#f0f921"
            ]
           ],
           "sequentialminus": [
            [
             0,
             "#0d0887"
            ],
            [
             0.1111111111111111,
             "#46039f"
            ],
            [
             0.2222222222222222,
             "#7201a8"
            ],
            [
             0.3333333333333333,
             "#9c179e"
            ],
            [
             0.4444444444444444,
             "#bd3786"
            ],
            [
             0.5555555555555556,
             "#d8576b"
            ],
            [
             0.6666666666666666,
             "#ed7953"
            ],
            [
             0.7777777777777778,
             "#fb9f3a"
            ],
            [
             0.8888888888888888,
             "#fdca26"
            ],
            [
             1,
             "#f0f921"
            ]
           ]
          },
          "colorway": [
           "#636efa",
           "#EF553B",
           "#00cc96",
           "#ab63fa",
           "#FFA15A",
           "#19d3f3",
           "#FF6692",
           "#B6E880",
           "#FF97FF",
           "#FECB52"
          ],
          "font": {
           "color": "#2a3f5f"
          },
          "geo": {
           "bgcolor": "white",
           "lakecolor": "white",
           "landcolor": "#E5ECF6",
           "showlakes": true,
           "showland": true,
           "subunitcolor": "white"
          },
          "hoverlabel": {
           "align": "left"
          },
          "hovermode": "closest",
          "mapbox": {
           "style": "light"
          },
          "paper_bgcolor": "white",
          "plot_bgcolor": "#E5ECF6",
          "polar": {
           "angularaxis": {
            "gridcolor": "white",
            "linecolor": "white",
            "ticks": ""
           },
           "bgcolor": "#E5ECF6",
           "radialaxis": {
            "gridcolor": "white",
            "linecolor": "white",
            "ticks": ""
           }
          },
          "scene": {
           "xaxis": {
            "backgroundcolor": "#E5ECF6",
            "gridcolor": "white",
            "gridwidth": 2,
            "linecolor": "white",
            "showbackground": true,
            "ticks": "",
            "zerolinecolor": "white"
           },
           "yaxis": {
            "backgroundcolor": "#E5ECF6",
            "gridcolor": "white",
            "gridwidth": 2,
            "linecolor": "white",
            "showbackground": true,
            "ticks": "",
            "zerolinecolor": "white"
           },
           "zaxis": {
            "backgroundcolor": "#E5ECF6",
            "gridcolor": "white",
            "gridwidth": 2,
            "linecolor": "white",
            "showbackground": true,
            "ticks": "",
            "zerolinecolor": "white"
           }
          },
          "shapedefaults": {
           "line": {
            "color": "#2a3f5f"
           }
          },
          "ternary": {
           "aaxis": {
            "gridcolor": "white",
            "linecolor": "white",
            "ticks": ""
           },
           "baxis": {
            "gridcolor": "white",
            "linecolor": "white",
            "ticks": ""
           },
           "bgcolor": "#E5ECF6",
           "caxis": {
            "gridcolor": "white",
            "linecolor": "white",
            "ticks": ""
           }
          },
          "title": {
           "x": 0.05
          },
          "xaxis": {
           "automargin": true,
           "gridcolor": "white",
           "linecolor": "white",
           "ticks": "",
           "title": {
            "standoff": 15
           },
           "zerolinecolor": "white",
           "zerolinewidth": 2
          },
          "yaxis": {
           "automargin": true,
           "gridcolor": "white",
           "linecolor": "white",
           "ticks": "",
           "title": {
            "standoff": 15
           },
           "zerolinecolor": "white",
           "zerolinewidth": 2
          }
         }
        }
       }
      }
     },
     "metadata": {}
    }
   ],
   "source": [
    "sdf_category_distribution = spark.sql(\"SELECT category_class, \\\n",
    "                                              category_code, \\\n",
    "                                              category_id, \\\n",
    "                                              product_id, \\\n",
    "                                              Count(*) AS Count \\\n",
    "                                      FROM Data \\\n",
    "                                      GROUP BY category_class, category_code, category_id, product_id\")\n",
    "px.sunburst(sdf_category_distribution.toPandas(), path=['category_class', 'category_code', 'category_id', \"product_id\"], values=\"Count\")"
   ]
  },
  {
   "source": [
    "The distribution of the brand within the category_classes is represented in the following plot:"
   ],
   "cell_type": "markdown",
   "metadata": {}
  },
  {
   "cell_type": "code",
   "execution_count": 43,
   "metadata": {},
   "outputs": [
    {
     "output_type": "display_data",
     "data": {
      "application/vnd.plotly.v1+json": {
       "config": {
        "plotlyServerURL": "https://plot.ly"
       },
       "data": [
        {
         "alignmentgroup": "True",
         "bingroup": "x",
         "hovertemplate": "brand=xiaomi<br>category_class=%{x}<br>count=%{y}<extra></extra>",
         "legendgroup": "xiaomi",
         "marker": {
          "color": "#636efa"
         },
         "name": "xiaomi",
         "offsetgroup": "xiaomi",
         "orientation": "v",
         "showlegend": true,
         "type": "histogram",
         "x": [
          "electronics",
          "electronics",
          "not defined",
          "electronics",
          "electronics",
          "electronics",
          "electronics",
          "electronics",
          "electronics",
          "electronics",
          "electronics",
          "electronics",
          "electronics",
          "electronics",
          "electronics"
         ],
         "xaxis": "x",
         "yaxis": "y"
        },
        {
         "alignmentgroup": "True",
         "bingroup": "x",
         "hovertemplate": "brand=janome<br>category_class=%{x}<br>count=%{y}<extra></extra>",
         "legendgroup": "janome",
         "marker": {
          "color": "#EF553B"
         },
         "name": "janome",
         "offsetgroup": "janome",
         "orientation": "v",
         "showlegend": true,
         "type": "histogram",
         "x": [
          "appliances",
          "appliances"
         ],
         "xaxis": "x",
         "yaxis": "y"
        },
        {
         "alignmentgroup": "True",
         "bingroup": "x",
         "hovertemplate": "brand=creed<br>category_class=%{x}<br>count=%{y}<extra></extra>",
         "legendgroup": "creed",
         "marker": {
          "color": "#00cc96"
         },
         "name": "creed",
         "offsetgroup": "creed",
         "orientation": "v",
         "showlegend": true,
         "type": "histogram",
         "x": [
          "not defined"
         ],
         "xaxis": "x",
         "yaxis": "y"
        },
        {
         "alignmentgroup": "True",
         "bingroup": "x",
         "hovertemplate": "brand=lg<br>category_class=%{x}<br>count=%{y}<extra></extra>",
         "legendgroup": "lg",
         "marker": {
          "color": "#ab63fa"
         },
         "name": "lg",
         "offsetgroup": "lg",
         "orientation": "v",
         "showlegend": true,
         "type": "histogram",
         "x": [
          "appliances"
         ],
         "xaxis": "x",
         "yaxis": "y"
        },
        {
         "alignmentgroup": "True",
         "bingroup": "x",
         "hovertemplate": "brand=hp<br>category_class=%{x}<br>count=%{y}<extra></extra>",
         "legendgroup": "hp",
         "marker": {
          "color": "#FFA15A"
         },
         "name": "hp",
         "offsetgroup": "hp",
         "orientation": "v",
         "showlegend": true,
         "type": "histogram",
         "x": [
          "computers",
          "computers",
          "computers",
          "computers",
          "computers",
          "computers",
          "computers",
          "computers",
          "electronics"
         ],
         "xaxis": "x",
         "yaxis": "y"
        },
        {
         "alignmentgroup": "True",
         "bingroup": "x",
         "hovertemplate": "brand=rondell<br>category_class=%{x}<br>count=%{y}<extra></extra>",
         "legendgroup": "rondell",
         "marker": {
          "color": "#19d3f3"
         },
         "name": "rondell",
         "offsetgroup": "rondell",
         "orientation": "v",
         "showlegend": true,
         "type": "histogram",
         "x": [
          "not defined",
          "not defined"
         ],
         "xaxis": "x",
         "yaxis": "y"
        },
        {
         "alignmentgroup": "True",
         "bingroup": "x",
         "hovertemplate": "brand=michelin<br>category_class=%{x}<br>count=%{y}<extra></extra>",
         "legendgroup": "michelin",
         "marker": {
          "color": "#FF6692"
         },
         "name": "michelin",
         "offsetgroup": "michelin",
         "orientation": "v",
         "showlegend": true,
         "type": "histogram",
         "x": [
          "not defined",
          "not defined",
          "not defined"
         ],
         "xaxis": "x",
         "yaxis": "y"
        },
        {
         "alignmentgroup": "True",
         "bingroup": "x",
         "hovertemplate": "brand=apple<br>category_class=%{x}<br>count=%{y}<extra></extra>",
         "legendgroup": "apple",
         "marker": {
          "color": "#B6E880"
         },
         "name": "apple",
         "offsetgroup": "apple",
         "orientation": "v",
         "showlegend": true,
         "type": "histogram",
         "x": [
          "electronics",
          "electronics",
          "electronics",
          "electronics",
          "electronics",
          "electronics",
          "electronics",
          "electronics",
          "electronics",
          "computers",
          "electronics",
          "electronics",
          "computers",
          "electronics",
          "computers",
          "electronics"
         ],
         "xaxis": "x",
         "yaxis": "y"
        },
        {
         "alignmentgroup": "True",
         "bingroup": "x",
         "hovertemplate": "brand=not defined<br>category_class=%{x}<br>count=%{y}<extra></extra>",
         "legendgroup": "not defined",
         "marker": {
          "color": "#FF97FF"
         },
         "name": "not defined",
         "offsetgroup": "not defined",
         "orientation": "v",
         "showlegend": true,
         "type": "histogram",
         "x": [
          "furniture",
          "appliances",
          "furniture",
          "not defined",
          "not defined",
          "not defined",
          "not defined",
          "furniture",
          "not defined",
          "not defined",
          "not defined",
          "not defined",
          "electronics",
          "apparel",
          "not defined",
          "not defined",
          "computers",
          "not defined",
          "apparel",
          "appliances",
          "furniture",
          "not defined",
          "not defined",
          "apparel",
          "auto",
          "furniture",
          "furniture",
          "not defined",
          "not defined",
          "not defined",
          "not defined",
          "furniture",
          "not defined",
          "furniture",
          "furniture",
          "not defined",
          "construction",
          "not defined",
          "furniture",
          "not defined",
          "not defined"
         ],
         "xaxis": "x",
         "yaxis": "y"
        },
        {
         "alignmentgroup": "True",
         "bingroup": "x",
         "hovertemplate": "brand=samsung<br>category_class=%{x}<br>count=%{y}<extra></extra>",
         "legendgroup": "samsung",
         "marker": {
          "color": "#FECB52"
         },
         "name": "samsung",
         "offsetgroup": "samsung",
         "orientation": "v",
         "showlegend": true,
         "type": "histogram",
         "x": [
          "appliances",
          "electronics",
          "electronics",
          "electronics",
          "electronics",
          "appliances",
          "electronics",
          "electronics",
          "electronics",
          "electronics"
         ],
         "xaxis": "x",
         "yaxis": "y"
        },
        {
         "alignmentgroup": "True",
         "bingroup": "x",
         "hovertemplate": "brand=huawei<br>category_class=%{x}<br>count=%{y}<extra></extra>",
         "legendgroup": "huawei",
         "marker": {
          "color": "#636efa"
         },
         "name": "huawei",
         "offsetgroup": "huawei",
         "orientation": "v",
         "showlegend": true,
         "type": "histogram",
         "x": [
          "electronics",
          "electronics",
          "electronics",
          "electronics",
          "electronics",
          "electronics"
         ],
         "xaxis": "x",
         "yaxis": "y"
        },
        {
         "alignmentgroup": "True",
         "bingroup": "x",
         "hovertemplate": "brand=yokohama<br>category_class=%{x}<br>count=%{y}<extra></extra>",
         "legendgroup": "yokohama",
         "marker": {
          "color": "#EF553B"
         },
         "name": "yokohama",
         "offsetgroup": "yokohama",
         "orientation": "v",
         "showlegend": true,
         "type": "histogram",
         "x": [
          "not defined",
          "not defined"
         ],
         "xaxis": "x",
         "yaxis": "y"
        },
        {
         "alignmentgroup": "True",
         "bingroup": "x",
         "hovertemplate": "brand=trussardi<br>category_class=%{x}<br>count=%{y}<extra></extra>",
         "legendgroup": "trussardi",
         "marker": {
          "color": "#00cc96"
         },
         "name": "trussardi",
         "offsetgroup": "trussardi",
         "orientation": "v",
         "showlegend": true,
         "type": "histogram",
         "x": [
          "not defined",
          "not defined",
          "not defined"
         ],
         "xaxis": "x",
         "yaxis": "y"
        },
        {
         "alignmentgroup": "True",
         "bingroup": "x",
         "hovertemplate": "brand=eveline<br>category_class=%{x}<br>count=%{y}<extra></extra>",
         "legendgroup": "eveline",
         "marker": {
          "color": "#ab63fa"
         },
         "name": "eveline",
         "offsetgroup": "eveline",
         "orientation": "v",
         "showlegend": true,
         "type": "histogram",
         "x": [
          "not defined"
         ],
         "xaxis": "x",
         "yaxis": "y"
        },
        {
         "alignmentgroup": "True",
         "bingroup": "x",
         "hovertemplate": "brand=acer<br>category_class=%{x}<br>count=%{y}<extra></extra>",
         "legendgroup": "acer",
         "marker": {
          "color": "#FFA15A"
         },
         "name": "acer",
         "offsetgroup": "acer",
         "orientation": "v",
         "showlegend": true,
         "type": "histogram",
         "x": [
          "computers",
          "computers",
          "computers"
         ],
         "xaxis": "x",
         "yaxis": "y"
        },
        {
         "alignmentgroup": "True",
         "bingroup": "x",
         "hovertemplate": "brand=asus<br>category_class=%{x}<br>count=%{y}<extra></extra>",
         "legendgroup": "asus",
         "marker": {
          "color": "#19d3f3"
         },
         "name": "asus",
         "offsetgroup": "asus",
         "orientation": "v",
         "showlegend": true,
         "type": "histogram",
         "x": [
          "computers",
          "computers",
          "computers"
         ],
         "xaxis": "x",
         "yaxis": "y"
        },
        {
         "alignmentgroup": "True",
         "bingroup": "x",
         "hovertemplate": "brand=nika<br>category_class=%{x}<br>count=%{y}<extra></extra>",
         "legendgroup": "nika",
         "marker": {
          "color": "#FF6692"
         },
         "name": "nika",
         "offsetgroup": "nika",
         "orientation": "v",
         "showlegend": true,
         "type": "histogram",
         "x": [
          "furniture",
          "furniture"
         ],
         "xaxis": "x",
         "yaxis": "y"
        },
        {
         "alignmentgroup": "True",
         "bingroup": "x",
         "hovertemplate": "brand=matrix<br>category_class=%{x}<br>count=%{y}<extra></extra>",
         "legendgroup": "matrix",
         "marker": {
          "color": "#B6E880"
         },
         "name": "matrix",
         "offsetgroup": "matrix",
         "orientation": "v",
         "showlegend": true,
         "type": "histogram",
         "x": [
          "not defined"
         ],
         "xaxis": "x",
         "yaxis": "y"
        },
        {
         "alignmentgroup": "True",
         "bingroup": "x",
         "hovertemplate": "brand=redmond<br>category_class=%{x}<br>count=%{y}<extra></extra>",
         "legendgroup": "redmond",
         "marker": {
          "color": "#FF97FF"
         },
         "name": "redmond",
         "offsetgroup": "redmond",
         "orientation": "v",
         "showlegend": true,
         "type": "histogram",
         "x": [
          "not defined",
          "not defined"
         ],
         "xaxis": "x",
         "yaxis": "y"
        },
        {
         "alignmentgroup": "True",
         "bingroup": "x",
         "hovertemplate": "brand=tomfarr<br>category_class=%{x}<br>count=%{y}<extra></extra>",
         "legendgroup": "tomfarr",
         "marker": {
          "color": "#FECB52"
         },
         "name": "tomfarr",
         "offsetgroup": "tomfarr",
         "orientation": "v",
         "showlegend": true,
         "type": "histogram",
         "x": [
          "not defined"
         ],
         "xaxis": "x",
         "yaxis": "y"
        },
        {
         "alignmentgroup": "True",
         "bingroup": "x",
         "hovertemplate": "brand=hyper<br>category_class=%{x}<br>count=%{y}<extra></extra>",
         "legendgroup": "hyper",
         "marker": {
          "color": "#636efa"
         },
         "name": "hyper",
         "offsetgroup": "hyper",
         "orientation": "v",
         "showlegend": true,
         "type": "histogram",
         "x": [
          "not defined"
         ],
         "xaxis": "x",
         "yaxis": "y"
        },
        {
         "alignmentgroup": "True",
         "bingroup": "x",
         "hovertemplate": "brand=acme<br>category_class=%{x}<br>count=%{y}<extra></extra>",
         "legendgroup": "acme",
         "marker": {
          "color": "#EF553B"
         },
         "name": "acme",
         "offsetgroup": "acme",
         "orientation": "v",
         "showlegend": true,
         "type": "histogram",
         "x": [
          "electronics",
          "electronics"
         ],
         "xaxis": "x",
         "yaxis": "y"
        },
        {
         "alignmentgroup": "True",
         "bingroup": "x",
         "hovertemplate": "brand=tefal<br>category_class=%{x}<br>count=%{y}<extra></extra>",
         "legendgroup": "tefal",
         "marker": {
          "color": "#00cc96"
         },
         "name": "tefal",
         "offsetgroup": "tefal",
         "orientation": "v",
         "showlegend": true,
         "type": "histogram",
         "x": [
          "appliances"
         ],
         "xaxis": "x",
         "yaxis": "y"
        },
        {
         "alignmentgroup": "True",
         "bingroup": "x",
         "hovertemplate": "brand=canon<br>category_class=%{x}<br>count=%{y}<extra></extra>",
         "legendgroup": "canon",
         "marker": {
          "color": "#ab63fa"
         },
         "name": "canon",
         "offsetgroup": "canon",
         "orientation": "v",
         "showlegend": true,
         "type": "histogram",
         "x": [
          "not defined",
          "computers",
          "not defined"
         ],
         "xaxis": "x",
         "yaxis": "y"
        },
        {
         "alignmentgroup": "True",
         "bingroup": "x",
         "hovertemplate": "brand=oasis<br>category_class=%{x}<br>count=%{y}<extra></extra>",
         "legendgroup": "oasis",
         "marker": {
          "color": "#FFA15A"
         },
         "name": "oasis",
         "offsetgroup": "oasis",
         "orientation": "v",
         "showlegend": true,
         "type": "histogram",
         "x": [
          "appliances"
         ],
         "xaxis": "x",
         "yaxis": "y"
        },
        {
         "alignmentgroup": "True",
         "bingroup": "x",
         "hovertemplate": "brand=bosch<br>category_class=%{x}<br>count=%{y}<extra></extra>",
         "legendgroup": "bosch",
         "marker": {
          "color": "#19d3f3"
         },
         "name": "bosch",
         "offsetgroup": "bosch",
         "orientation": "v",
         "showlegend": true,
         "type": "histogram",
         "x": [
          "appliances",
          "not defined",
          "appliances"
         ],
         "xaxis": "x",
         "yaxis": "y"
        },
        {
         "alignmentgroup": "True",
         "bingroup": "x",
         "hovertemplate": "brand=sony<br>category_class=%{x}<br>count=%{y}<extra></extra>",
         "legendgroup": "sony",
         "marker": {
          "color": "#FF6692"
         },
         "name": "sony",
         "offsetgroup": "sony",
         "orientation": "v",
         "showlegend": true,
         "type": "histogram",
         "x": [
          "not defined",
          "not defined"
         ],
         "xaxis": "x",
         "yaxis": "y"
        },
        {
         "alignmentgroup": "True",
         "bingroup": "x",
         "hovertemplate": "brand=rezult<br>category_class=%{x}<br>count=%{y}<extra></extra>",
         "legendgroup": "rezult",
         "marker": {
          "color": "#B6E880"
         },
         "name": "rezult",
         "offsetgroup": "rezult",
         "orientation": "v",
         "showlegend": true,
         "type": "histogram",
         "x": [
          "not defined"
         ],
         "xaxis": "x",
         "yaxis": "y"
        },
        {
         "alignmentgroup": "True",
         "bingroup": "x",
         "hovertemplate": "brand=lucente<br>category_class=%{x}<br>count=%{y}<extra></extra>",
         "legendgroup": "lucente",
         "marker": {
          "color": "#FF97FF"
         },
         "name": "lucente",
         "offsetgroup": "lucente",
         "orientation": "v",
         "showlegend": true,
         "type": "histogram",
         "x": [
          "not defined",
          "not defined",
          "not defined"
         ],
         "xaxis": "x",
         "yaxis": "y"
        },
        {
         "alignmentgroup": "True",
         "bingroup": "x",
         "hovertemplate": "brand=tissot<br>category_class=%{x}<br>count=%{y}<extra></extra>",
         "legendgroup": "tissot",
         "marker": {
          "color": "#FECB52"
         },
         "name": "tissot",
         "offsetgroup": "tissot",
         "orientation": "v",
         "showlegend": true,
         "type": "histogram",
         "x": [
          "electronics",
          "electronics",
          "electronics",
          "electronics"
         ],
         "xaxis": "x",
         "yaxis": "y"
        },
        {
         "alignmentgroup": "True",
         "bingroup": "x",
         "hovertemplate": "brand=goodloot<br>category_class=%{x}<br>count=%{y}<extra></extra>",
         "legendgroup": "goodloot",
         "marker": {
          "color": "#636efa"
         },
         "name": "goodloot",
         "offsetgroup": "goodloot",
         "orientation": "v",
         "showlegend": true,
         "type": "histogram",
         "x": [
          "apparel"
         ],
         "xaxis": "x",
         "yaxis": "y"
        },
        {
         "alignmentgroup": "True",
         "bingroup": "x",
         "hovertemplate": "brand=brw<br>category_class=%{x}<br>count=%{y}<extra></extra>",
         "legendgroup": "brw",
         "marker": {
          "color": "#EF553B"
         },
         "name": "brw",
         "offsetgroup": "brw",
         "orientation": "v",
         "showlegend": true,
         "type": "histogram",
         "x": [
          "not defined",
          "not defined",
          "furniture",
          "not defined"
         ],
         "xaxis": "x",
         "yaxis": "y"
        },
        {
         "alignmentgroup": "True",
         "bingroup": "x",
         "hovertemplate": "brand=sulu<br>category_class=%{x}<br>count=%{y}<extra></extra>",
         "legendgroup": "sulu",
         "marker": {
          "color": "#00cc96"
         },
         "name": "sulu",
         "offsetgroup": "sulu",
         "orientation": "v",
         "showlegend": true,
         "type": "histogram",
         "x": [
          "not defined"
         ],
         "xaxis": "x",
         "yaxis": "y"
        },
        {
         "alignmentgroup": "True",
         "bingroup": "x",
         "hovertemplate": "brand=force<br>category_class=%{x}<br>count=%{y}<extra></extra>",
         "legendgroup": "force",
         "marker": {
          "color": "#ab63fa"
         },
         "name": "force",
         "offsetgroup": "force",
         "orientation": "v",
         "showlegend": true,
         "type": "histogram",
         "x": [
          "not defined",
          "not defined"
         ],
         "xaxis": "x",
         "yaxis": "y"
        },
        {
         "alignmentgroup": "True",
         "bingroup": "x",
         "hovertemplate": "brand=kirkland<br>category_class=%{x}<br>count=%{y}<extra></extra>",
         "legendgroup": "kirkland",
         "marker": {
          "color": "#FFA15A"
         },
         "name": "kirkland",
         "offsetgroup": "kirkland",
         "orientation": "v",
         "showlegend": true,
         "type": "histogram",
         "x": [
          "not defined",
          "not defined",
          "not defined",
          "not defined"
         ],
         "xaxis": "x",
         "yaxis": "y"
        },
        {
         "alignmentgroup": "True",
         "bingroup": "x",
         "hovertemplate": "brand=lenovo<br>category_class=%{x}<br>count=%{y}<extra></extra>",
         "legendgroup": "lenovo",
         "marker": {
          "color": "#19d3f3"
         },
         "name": "lenovo",
         "offsetgroup": "lenovo",
         "orientation": "v",
         "showlegend": true,
         "type": "histogram",
         "x": [
          "computers",
          "computers"
         ],
         "xaxis": "x",
         "yaxis": "y"
        },
        {
         "alignmentgroup": "True",
         "bingroup": "x",
         "hovertemplate": "brand=humminbird<br>category_class=%{x}<br>count=%{y}<extra></extra>",
         "legendgroup": "humminbird",
         "marker": {
          "color": "#FF6692"
         },
         "name": "humminbird",
         "offsetgroup": "humminbird",
         "orientation": "v",
         "showlegend": true,
         "type": "histogram",
         "x": [
          "not defined"
         ],
         "xaxis": "x",
         "yaxis": "y"
        },
        {
         "alignmentgroup": "True",
         "bingroup": "x",
         "hovertemplate": "brand=merelani<br>category_class=%{x}<br>count=%{y}<extra></extra>",
         "legendgroup": "merelani",
         "marker": {
          "color": "#B6E880"
         },
         "name": "merelani",
         "offsetgroup": "merelani",
         "orientation": "v",
         "showlegend": true,
         "type": "histogram",
         "x": [
          "not defined"
         ],
         "xaxis": "x",
         "yaxis": "y"
        },
        {
         "alignmentgroup": "True",
         "bingroup": "x",
         "hovertemplate": "brand=roadx<br>category_class=%{x}<br>count=%{y}<extra></extra>",
         "legendgroup": "roadx",
         "marker": {
          "color": "#FF97FF"
         },
         "name": "roadx",
         "offsetgroup": "roadx",
         "orientation": "v",
         "showlegend": true,
         "type": "histogram",
         "x": [
          "not defined"
         ],
         "xaxis": "x",
         "yaxis": "y"
        },
        {
         "alignmentgroup": "True",
         "bingroup": "x",
         "hovertemplate": "brand=dewalt<br>category_class=%{x}<br>count=%{y}<extra></extra>",
         "legendgroup": "dewalt",
         "marker": {
          "color": "#FECB52"
         },
         "name": "dewalt",
         "offsetgroup": "dewalt",
         "orientation": "v",
         "showlegend": true,
         "type": "histogram",
         "x": [
          "construction",
          "construction",
          "construction"
         ],
         "xaxis": "x",
         "yaxis": "y"
        },
        {
         "alignmentgroup": "True",
         "bingroup": "x",
         "hovertemplate": "brand=welly<br>category_class=%{x}<br>count=%{y}<extra></extra>",
         "legendgroup": "welly",
         "marker": {
          "color": "#636efa"
         },
         "name": "welly",
         "offsetgroup": "welly",
         "orientation": "v",
         "showlegend": true,
         "type": "histogram",
         "x": [
          "not defined"
         ],
         "xaxis": "x",
         "yaxis": "y"
        },
        {
         "alignmentgroup": "True",
         "bingroup": "x",
         "hovertemplate": "brand=denzel<br>category_class=%{x}<br>count=%{y}<extra></extra>",
         "legendgroup": "denzel",
         "marker": {
          "color": "#EF553B"
         },
         "name": "denzel",
         "offsetgroup": "denzel",
         "orientation": "v",
         "showlegend": true,
         "type": "histogram",
         "x": [
          "auto",
          "not defined"
         ],
         "xaxis": "x",
         "yaxis": "y"
        },
        {
         "alignmentgroup": "True",
         "bingroup": "x",
         "hovertemplate": "brand=nokian<br>category_class=%{x}<br>count=%{y}<extra></extra>",
         "legendgroup": "nokian",
         "marker": {
          "color": "#00cc96"
         },
         "name": "nokian",
         "offsetgroup": "nokian",
         "orientation": "v",
         "showlegend": true,
         "type": "histogram",
         "x": [
          "not defined"
         ],
         "xaxis": "x",
         "yaxis": "y"
        },
        {
         "alignmentgroup": "True",
         "bingroup": "x",
         "hovertemplate": "brand=mamadoma<br>category_class=%{x}<br>count=%{y}<extra></extra>",
         "legendgroup": "mamadoma",
         "marker": {
          "color": "#ab63fa"
         },
         "name": "mamadoma",
         "offsetgroup": "mamadoma",
         "orientation": "v",
         "showlegend": true,
         "type": "histogram",
         "x": [
          "furniture"
         ],
         "xaxis": "x",
         "yaxis": "y"
        },
        {
         "alignmentgroup": "True",
         "bingroup": "x",
         "hovertemplate": "brand=arrivo<br>category_class=%{x}<br>count=%{y}<extra></extra>",
         "legendgroup": "arrivo",
         "marker": {
          "color": "#FFA15A"
         },
         "name": "arrivo",
         "offsetgroup": "arrivo",
         "orientation": "v",
         "showlegend": true,
         "type": "histogram",
         "x": [
          "not defined"
         ],
         "xaxis": "x",
         "yaxis": "y"
        },
        {
         "alignmentgroup": "True",
         "bingroup": "x",
         "hovertemplate": "brand=t-rex<br>category_class=%{x}<br>count=%{y}<extra></extra>",
         "legendgroup": "t-rex",
         "marker": {
          "color": "#19d3f3"
         },
         "name": "t-rex",
         "offsetgroup": "t-rex",
         "orientation": "v",
         "showlegend": true,
         "type": "histogram",
         "x": [
          "not defined"
         ],
         "xaxis": "x",
         "yaxis": "y"
        },
        {
         "alignmentgroup": "True",
         "bingroup": "x",
         "hovertemplate": "brand=chanel<br>category_class=%{x}<br>count=%{y}<extra></extra>",
         "legendgroup": "chanel",
         "marker": {
          "color": "#FF6692"
         },
         "name": "chanel",
         "offsetgroup": "chanel",
         "orientation": "v",
         "showlegend": true,
         "type": "histogram",
         "x": [
          "not defined"
         ],
         "xaxis": "x",
         "yaxis": "y"
        },
        {
         "alignmentgroup": "True",
         "bingroup": "x",
         "hovertemplate": "brand=oppo<br>category_class=%{x}<br>count=%{y}<extra></extra>",
         "legendgroup": "oppo",
         "marker": {
          "color": "#B6E880"
         },
         "name": "oppo",
         "offsetgroup": "oppo",
         "orientation": "v",
         "showlegend": true,
         "type": "histogram",
         "x": [
          "electronics"
         ],
         "xaxis": "x",
         "yaxis": "y"
        },
        {
         "alignmentgroup": "True",
         "bingroup": "x",
         "hovertemplate": "brand=ams<br>category_class=%{x}<br>count=%{y}<extra></extra>",
         "legendgroup": "ams",
         "marker": {
          "color": "#FF97FF"
         },
         "name": "ams",
         "offsetgroup": "ams",
         "orientation": "v",
         "showlegend": true,
         "type": "histogram",
         "x": [
          "auto",
          "auto",
          "auto"
         ],
         "xaxis": "x",
         "yaxis": "y"
        },
        {
         "alignmentgroup": "True",
         "bingroup": "x",
         "hovertemplate": "brand=fisherman<br>category_class=%{x}<br>count=%{y}<extra></extra>",
         "legendgroup": "fisherman",
         "marker": {
          "color": "#FECB52"
         },
         "name": "fisherman",
         "offsetgroup": "fisherman",
         "orientation": "v",
         "showlegend": true,
         "type": "histogram",
         "x": [
          "accessories"
         ],
         "xaxis": "x",
         "yaxis": "y"
        },
        {
         "alignmentgroup": "True",
         "bingroup": "x",
         "hovertemplate": "brand=peda<br>category_class=%{x}<br>count=%{y}<extra></extra>",
         "legendgroup": "peda",
         "marker": {
          "color": "#636efa"
         },
         "name": "peda",
         "offsetgroup": "peda",
         "orientation": "v",
         "showlegend": true,
         "type": "histogram",
         "x": [
          "not defined",
          "not defined"
         ],
         "xaxis": "x",
         "yaxis": "y"
        },
        {
         "alignmentgroup": "True",
         "bingroup": "x",
         "hovertemplate": "brand=palit<br>category_class=%{x}<br>count=%{y}<extra></extra>",
         "legendgroup": "palit",
         "marker": {
          "color": "#EF553B"
         },
         "name": "palit",
         "offsetgroup": "palit",
         "orientation": "v",
         "showlegend": true,
         "type": "histogram",
         "x": [
          "computers"
         ],
         "xaxis": "x",
         "yaxis": "y"
        },
        {
         "alignmentgroup": "True",
         "bingroup": "x",
         "hovertemplate": "brand=aoteli<br>category_class=%{x}<br>count=%{y}<extra></extra>",
         "legendgroup": "aoteli",
         "marker": {
          "color": "#00cc96"
         },
         "name": "aoteli",
         "offsetgroup": "aoteli",
         "orientation": "v",
         "showlegend": true,
         "type": "histogram",
         "x": [
          "not defined"
         ],
         "xaxis": "x",
         "yaxis": "y"
        },
        {
         "alignmentgroup": "True",
         "bingroup": "x",
         "hovertemplate": "brand=tarkett<br>category_class=%{x}<br>count=%{y}<extra></extra>",
         "legendgroup": "tarkett",
         "marker": {
          "color": "#ab63fa"
         },
         "name": "tarkett",
         "offsetgroup": "tarkett",
         "orientation": "v",
         "showlegend": true,
         "type": "histogram",
         "x": [
          "not defined"
         ],
         "xaxis": "x",
         "yaxis": "y"
        },
        {
         "alignmentgroup": "True",
         "bingroup": "x",
         "hovertemplate": "brand=indesit<br>category_class=%{x}<br>count=%{y}<extra></extra>",
         "legendgroup": "indesit",
         "marker": {
          "color": "#FFA15A"
         },
         "name": "indesit",
         "offsetgroup": "indesit",
         "orientation": "v",
         "showlegend": true,
         "type": "histogram",
         "x": [
          "appliances"
         ],
         "xaxis": "x",
         "yaxis": "y"
        },
        {
         "alignmentgroup": "True",
         "bingroup": "x",
         "hovertemplate": "brand=honor<br>category_class=%{x}<br>count=%{y}<extra></extra>",
         "legendgroup": "honor",
         "marker": {
          "color": "#19d3f3"
         },
         "name": "honor",
         "offsetgroup": "honor",
         "orientation": "v",
         "showlegend": true,
         "type": "histogram",
         "x": [
          "not defined"
         ],
         "xaxis": "x",
         "yaxis": "y"
        },
        {
         "alignmentgroup": "True",
         "bingroup": "x",
         "hovertemplate": "brand=harley-davidson<br>category_class=%{x}<br>count=%{y}<extra></extra>",
         "legendgroup": "harley-davidson",
         "marker": {
          "color": "#FF6692"
         },
         "name": "harley-davidson",
         "offsetgroup": "harley-davidson",
         "orientation": "v",
         "showlegend": true,
         "type": "histogram",
         "x": [
          "not defined"
         ],
         "xaxis": "x",
         "yaxis": "y"
        },
        {
         "alignmentgroup": "True",
         "bingroup": "x",
         "hovertemplate": "brand=stels<br>category_class=%{x}<br>count=%{y}<extra></extra>",
         "legendgroup": "stels",
         "marker": {
          "color": "#B6E880"
         },
         "name": "stels",
         "offsetgroup": "stels",
         "orientation": "v",
         "showlegend": true,
         "type": "histogram",
         "x": [
          "not defined"
         ],
         "xaxis": "x",
         "yaxis": "y"
        },
        {
         "alignmentgroup": "True",
         "bingroup": "x",
         "hovertemplate": "brand=avatar<br>category_class=%{x}<br>count=%{y}<extra></extra>",
         "legendgroup": "avatar",
         "marker": {
          "color": "#FF97FF"
         },
         "name": "avatar",
         "offsetgroup": "avatar",
         "orientation": "v",
         "showlegend": true,
         "type": "histogram",
         "x": [
          "electronics"
         ],
         "xaxis": "x",
         "yaxis": "y"
        },
        {
         "alignmentgroup": "True",
         "bingroup": "x",
         "hovertemplate": "brand=lider<br>category_class=%{x}<br>count=%{y}<extra></extra>",
         "legendgroup": "lider",
         "marker": {
          "color": "#FECB52"
         },
         "name": "lider",
         "offsetgroup": "lider",
         "orientation": "v",
         "showlegend": true,
         "type": "histogram",
         "x": [
          "not defined"
         ],
         "xaxis": "x",
         "yaxis": "y"
        },
        {
         "alignmentgroup": "True",
         "bingroup": "x",
         "hovertemplate": "brand=kolner<br>category_class=%{x}<br>count=%{y}<extra></extra>",
         "legendgroup": "kolner",
         "marker": {
          "color": "#636efa"
         },
         "name": "kolner",
         "offsetgroup": "kolner",
         "orientation": "v",
         "showlegend": true,
         "type": "histogram",
         "x": [
          "not defined"
         ],
         "xaxis": "x",
         "yaxis": "y"
        },
        {
         "alignmentgroup": "True",
         "bingroup": "x",
         "hovertemplate": "brand=laston<br>category_class=%{x}<br>count=%{y}<extra></extra>",
         "legendgroup": "laston",
         "marker": {
          "color": "#EF553B"
         },
         "name": "laston",
         "offsetgroup": "laston",
         "orientation": "v",
         "showlegend": true,
         "type": "histogram",
         "x": [
          "auto"
         ],
         "xaxis": "x",
         "yaxis": "y"
        },
        {
         "alignmentgroup": "True",
         "bingroup": "x",
         "hovertemplate": "brand=magnetta<br>category_class=%{x}<br>count=%{y}<extra></extra>",
         "legendgroup": "magnetta",
         "marker": {
          "color": "#00cc96"
         },
         "name": "magnetta",
         "offsetgroup": "magnetta",
         "orientation": "v",
         "showlegend": true,
         "type": "histogram",
         "x": [
          "construction"
         ],
         "xaxis": "x",
         "yaxis": "y"
        },
        {
         "alignmentgroup": "True",
         "bingroup": "x",
         "hovertemplate": "brand=evelinecosmetics<br>category_class=%{x}<br>count=%{y}<extra></extra>",
         "legendgroup": "evelinecosmetics",
         "marker": {
          "color": "#ab63fa"
         },
         "name": "evelinecosmetics",
         "offsetgroup": "evelinecosmetics",
         "orientation": "v",
         "showlegend": true,
         "type": "histogram",
         "x": [
          "not defined"
         ],
         "xaxis": "x",
         "yaxis": "y"
        },
        {
         "alignmentgroup": "True",
         "bingroup": "x",
         "hovertemplate": "brand=epson<br>category_class=%{x}<br>count=%{y}<extra></extra>",
         "legendgroup": "epson",
         "marker": {
          "color": "#FFA15A"
         },
         "name": "epson",
         "offsetgroup": "epson",
         "orientation": "v",
         "showlegend": true,
         "type": "histogram",
         "x": [
          "computers"
         ],
         "xaxis": "x",
         "yaxis": "y"
        },
        {
         "alignmentgroup": "True",
         "bingroup": "x",
         "hovertemplate": "brand=givenchy<br>category_class=%{x}<br>count=%{y}<extra></extra>",
         "legendgroup": "givenchy",
         "marker": {
          "color": "#19d3f3"
         },
         "name": "givenchy",
         "offsetgroup": "givenchy",
         "orientation": "v",
         "showlegend": true,
         "type": "histogram",
         "x": [
          "not defined"
         ],
         "xaxis": "x",
         "yaxis": "y"
        },
        {
         "alignmentgroup": "True",
         "bingroup": "x",
         "hovertemplate": "brand=beko<br>category_class=%{x}<br>count=%{y}<extra></extra>",
         "legendgroup": "beko",
         "marker": {
          "color": "#FF6692"
         },
         "name": "beko",
         "offsetgroup": "beko",
         "orientation": "v",
         "showlegend": true,
         "type": "histogram",
         "x": [
          "appliances"
         ],
         "xaxis": "x",
         "yaxis": "y"
        },
        {
         "alignmentgroup": "True",
         "bingroup": "x",
         "hovertemplate": "brand=pioneer<br>category_class=%{x}<br>count=%{y}<extra></extra>",
         "legendgroup": "pioneer",
         "marker": {
          "color": "#B6E880"
         },
         "name": "pioneer",
         "offsetgroup": "pioneer",
         "orientation": "v",
         "showlegend": true,
         "type": "histogram",
         "x": [
          "auto",
          "electronics"
         ],
         "xaxis": "x",
         "yaxis": "y"
        },
        {
         "alignmentgroup": "True",
         "bingroup": "x",
         "hovertemplate": "brand=dwt<br>category_class=%{x}<br>count=%{y}<extra></extra>",
         "legendgroup": "dwt",
         "marker": {
          "color": "#FF97FF"
         },
         "name": "dwt",
         "offsetgroup": "dwt",
         "orientation": "v",
         "showlegend": true,
         "type": "histogram",
         "x": [
          "construction"
         ],
         "xaxis": "x",
         "yaxis": "y"
        },
        {
         "alignmentgroup": "True",
         "bingroup": "x",
         "hovertemplate": "brand=skad<br>category_class=%{x}<br>count=%{y}<extra></extra>",
         "legendgroup": "skad",
         "marker": {
          "color": "#FECB52"
         },
         "name": "skad",
         "offsetgroup": "skad",
         "orientation": "v",
         "showlegend": true,
         "type": "histogram",
         "x": [
          "not defined"
         ],
         "xaxis": "x",
         "yaxis": "y"
        },
        {
         "alignmentgroup": "True",
         "bingroup": "x",
         "hovertemplate": "brand=garmin<br>category_class=%{x}<br>count=%{y}<extra></extra>",
         "legendgroup": "garmin",
         "marker": {
          "color": "#636efa"
         },
         "name": "garmin",
         "offsetgroup": "garmin",
         "orientation": "v",
         "showlegend": true,
         "type": "histogram",
         "x": [
          "electronics"
         ],
         "xaxis": "x",
         "yaxis": "y"
        },
        {
         "alignmentgroup": "True",
         "bingroup": "x",
         "hovertemplate": "brand=arg<br>category_class=%{x}<br>count=%{y}<extra></extra>",
         "legendgroup": "arg",
         "marker": {
          "color": "#EF553B"
         },
         "name": "arg",
         "offsetgroup": "arg",
         "orientation": "v",
         "showlegend": true,
         "type": "histogram",
         "x": [
          "appliances"
         ],
         "xaxis": "x",
         "yaxis": "y"
        },
        {
         "alignmentgroup": "True",
         "bingroup": "x",
         "hovertemplate": "brand=cordiant<br>category_class=%{x}<br>count=%{y}<extra></extra>",
         "legendgroup": "cordiant",
         "marker": {
          "color": "#00cc96"
         },
         "name": "cordiant",
         "offsetgroup": "cordiant",
         "orientation": "v",
         "showlegend": true,
         "type": "histogram",
         "x": [
          "not defined",
          "not defined"
         ],
         "xaxis": "x",
         "yaxis": "y"
        },
        {
         "alignmentgroup": "True",
         "bingroup": "x",
         "hovertemplate": "brand=montale<br>category_class=%{x}<br>count=%{y}<extra></extra>",
         "legendgroup": "montale",
         "marker": {
          "color": "#ab63fa"
         },
         "name": "montale",
         "offsetgroup": "montale",
         "orientation": "v",
         "showlegend": true,
         "type": "histogram",
         "x": [
          "not defined"
         ],
         "xaxis": "x",
         "yaxis": "y"
        },
        {
         "alignmentgroup": "True",
         "bingroup": "x",
         "hovertemplate": "brand=pablosky<br>category_class=%{x}<br>count=%{y}<extra></extra>",
         "legendgroup": "pablosky",
         "marker": {
          "color": "#FFA15A"
         },
         "name": "pablosky",
         "offsetgroup": "pablosky",
         "orientation": "v",
         "showlegend": true,
         "type": "histogram",
         "x": [
          "apparel"
         ],
         "xaxis": "x",
         "yaxis": "y"
        },
        {
         "alignmentgroup": "True",
         "bingroup": "x",
         "hovertemplate": "brand=stanley<br>category_class=%{x}<br>count=%{y}<extra></extra>",
         "legendgroup": "stanley",
         "marker": {
          "color": "#19d3f3"
         },
         "name": "stanley",
         "offsetgroup": "stanley",
         "orientation": "v",
         "showlegend": true,
         "type": "histogram",
         "x": [
          "construction"
         ],
         "xaxis": "x",
         "yaxis": "y"
        },
        {
         "alignmentgroup": "True",
         "bingroup": "x",
         "hovertemplate": "brand=carfashion<br>category_class=%{x}<br>count=%{y}<extra></extra>",
         "legendgroup": "carfashion",
         "marker": {
          "color": "#FF6692"
         },
         "name": "carfashion",
         "offsetgroup": "carfashion",
         "orientation": "v",
         "showlegend": true,
         "type": "histogram",
         "x": [
          "not defined"
         ],
         "xaxis": "x",
         "yaxis": "y"
        },
        {
         "alignmentgroup": "True",
         "bingroup": "x",
         "hovertemplate": "brand=casio<br>category_class=%{x}<br>count=%{y}<extra></extra>",
         "legendgroup": "casio",
         "marker": {
          "color": "#B6E880"
         },
         "name": "casio",
         "offsetgroup": "casio",
         "orientation": "v",
         "showlegend": true,
         "type": "histogram",
         "x": [
          "electronics"
         ],
         "xaxis": "x",
         "yaxis": "y"
        },
        {
         "alignmentgroup": "True",
         "bingroup": "x",
         "hovertemplate": "brand=sokolov<br>category_class=%{x}<br>count=%{y}<extra></extra>",
         "legendgroup": "sokolov",
         "marker": {
          "color": "#FF97FF"
         },
         "name": "sokolov",
         "offsetgroup": "sokolov",
         "orientation": "v",
         "showlegend": true,
         "type": "histogram",
         "x": [
          "not defined"
         ],
         "xaxis": "x",
         "yaxis": "y"
        },
        {
         "alignmentgroup": "True",
         "bingroup": "x",
         "hovertemplate": "brand=jordan<br>category_class=%{x}<br>count=%{y}<extra></extra>",
         "legendgroup": "jordan",
         "marker": {
          "color": "#FECB52"
         },
         "name": "jordan",
         "offsetgroup": "jordan",
         "orientation": "v",
         "showlegend": true,
         "type": "histogram",
         "x": [
          "apparel"
         ],
         "xaxis": "x",
         "yaxis": "y"
        },
        {
         "alignmentgroup": "True",
         "bingroup": "x",
         "hovertemplate": "brand=fubag<br>category_class=%{x}<br>count=%{y}<extra></extra>",
         "legendgroup": "fubag",
         "marker": {
          "color": "#636efa"
         },
         "name": "fubag",
         "offsetgroup": "fubag",
         "orientation": "v",
         "showlegend": true,
         "type": "histogram",
         "x": [
          "construction"
         ],
         "xaxis": "x",
         "yaxis": "y"
        },
        {
         "alignmentgroup": "True",
         "bingroup": "x",
         "hovertemplate": "brand=armani<br>category_class=%{x}<br>count=%{y}<extra></extra>",
         "legendgroup": "armani",
         "marker": {
          "color": "#EF553B"
         },
         "name": "armani",
         "offsetgroup": "armani",
         "orientation": "v",
         "showlegend": true,
         "type": "histogram",
         "x": [
          "electronics"
         ],
         "xaxis": "x",
         "yaxis": "y"
        },
        {
         "alignmentgroup": "True",
         "bingroup": "x",
         "hovertemplate": "brand=alphard<br>category_class=%{x}<br>count=%{y}<extra></extra>",
         "legendgroup": "alphard",
         "marker": {
          "color": "#00cc96"
         },
         "name": "alphard",
         "offsetgroup": "alphard",
         "orientation": "v",
         "showlegend": true,
         "type": "histogram",
         "x": [
          "electronics"
         ],
         "xaxis": "x",
         "yaxis": "y"
        },
        {
         "alignmentgroup": "True",
         "bingroup": "x",
         "hovertemplate": "brand=element<br>category_class=%{x}<br>count=%{y}<extra></extra>",
         "legendgroup": "element",
         "marker": {
          "color": "#ab63fa"
         },
         "name": "element",
         "offsetgroup": "element",
         "orientation": "v",
         "showlegend": true,
         "type": "histogram",
         "x": [
          "electronics"
         ],
         "xaxis": "x",
         "yaxis": "y"
        },
        {
         "alignmentgroup": "True",
         "bingroup": "x",
         "hovertemplate": "brand=hycell<br>category_class=%{x}<br>count=%{y}<extra></extra>",
         "legendgroup": "hycell",
         "marker": {
          "color": "#FFA15A"
         },
         "name": "hycell",
         "offsetgroup": "hycell",
         "orientation": "v",
         "showlegend": true,
         "type": "histogram",
         "x": [
          "not defined"
         ],
         "xaxis": "x",
         "yaxis": "y"
        },
        {
         "alignmentgroup": "True",
         "bingroup": "x",
         "hovertemplate": "brand=sv<br>category_class=%{x}<br>count=%{y}<extra></extra>",
         "legendgroup": "sv",
         "marker": {
          "color": "#19d3f3"
         },
         "name": "sv",
         "offsetgroup": "sv",
         "orientation": "v",
         "showlegend": true,
         "type": "histogram",
         "x": [
          "not defined"
         ],
         "xaxis": "x",
         "yaxis": "y"
        }
       ],
       "layout": {
        "barmode": "relative",
        "legend": {
         "title": {
          "text": "brand"
         },
         "tracegroupgap": 0
        },
        "margin": {
         "t": 60
        },
        "template": {
         "data": {
          "bar": [
           {
            "error_x": {
             "color": "#2a3f5f"
            },
            "error_y": {
             "color": "#2a3f5f"
            },
            "marker": {
             "line": {
              "color": "#E5ECF6",
              "width": 0.5
             }
            },
            "type": "bar"
           }
          ],
          "barpolar": [
           {
            "marker": {
             "line": {
              "color": "#E5ECF6",
              "width": 0.5
             }
            },
            "type": "barpolar"
           }
          ],
          "carpet": [
           {
            "aaxis": {
             "endlinecolor": "#2a3f5f",
             "gridcolor": "white",
             "linecolor": "white",
             "minorgridcolor": "white",
             "startlinecolor": "#2a3f5f"
            },
            "baxis": {
             "endlinecolor": "#2a3f5f",
             "gridcolor": "white",
             "linecolor": "white",
             "minorgridcolor": "white",
             "startlinecolor": "#2a3f5f"
            },
            "type": "carpet"
           }
          ],
          "choropleth": [
           {
            "colorbar": {
             "outlinewidth": 0,
             "ticks": ""
            },
            "type": "choropleth"
           }
          ],
          "contour": [
           {
            "colorbar": {
             "outlinewidth": 0,
             "ticks": ""
            },
            "colorscale": [
             [
              0,
              "#0d0887"
             ],
             [
              0.1111111111111111,
              "#46039f"
             ],
             [
              0.2222222222222222,
              "#7201a8"
             ],
             [
              0.3333333333333333,
              "#9c179e"
             ],
             [
              0.4444444444444444,
              "#bd3786"
             ],
             [
              0.5555555555555556,
              "#d8576b"
             ],
             [
              0.6666666666666666,
              "#ed7953"
             ],
             [
              0.7777777777777778,
              "#fb9f3a"
             ],
             [
              0.8888888888888888,
              "#fdca26"
             ],
             [
              1,
              "#f0f921"
             ]
            ],
            "type": "contour"
           }
          ],
          "contourcarpet": [
           {
            "colorbar": {
             "outlinewidth": 0,
             "ticks": ""
            },
            "type": "contourcarpet"
           }
          ],
          "heatmap": [
           {
            "colorbar": {
             "outlinewidth": 0,
             "ticks": ""
            },
            "colorscale": [
             [
              0,
              "#0d0887"
             ],
             [
              0.1111111111111111,
              "#46039f"
             ],
             [
              0.2222222222222222,
              "#7201a8"
             ],
             [
              0.3333333333333333,
              "#9c179e"
             ],
             [
              0.4444444444444444,
              "#bd3786"
             ],
             [
              0.5555555555555556,
              "#d8576b"
             ],
             [
              0.6666666666666666,
              "#ed7953"
             ],
             [
              0.7777777777777778,
              "#fb9f3a"
             ],
             [
              0.8888888888888888,
              "#fdca26"
             ],
             [
              1,
              "#f0f921"
             ]
            ],
            "type": "heatmap"
           }
          ],
          "heatmapgl": [
           {
            "colorbar": {
             "outlinewidth": 0,
             "ticks": ""
            },
            "colorscale": [
             [
              0,
              "#0d0887"
             ],
             [
              0.1111111111111111,
              "#46039f"
             ],
             [
              0.2222222222222222,
              "#7201a8"
             ],
             [
              0.3333333333333333,
              "#9c179e"
             ],
             [
              0.4444444444444444,
              "#bd3786"
             ],
             [
              0.5555555555555556,
              "#d8576b"
             ],
             [
              0.6666666666666666,
              "#ed7953"
             ],
             [
              0.7777777777777778,
              "#fb9f3a"
             ],
             [
              0.8888888888888888,
              "#fdca26"
             ],
             [
              1,
              "#f0f921"
             ]
            ],
            "type": "heatmapgl"
           }
          ],
          "histogram": [
           {
            "marker": {
             "colorbar": {
              "outlinewidth": 0,
              "ticks": ""
             }
            },
            "type": "histogram"
           }
          ],
          "histogram2d": [
           {
            "colorbar": {
             "outlinewidth": 0,
             "ticks": ""
            },
            "colorscale": [
             [
              0,
              "#0d0887"
             ],
             [
              0.1111111111111111,
              "#46039f"
             ],
             [
              0.2222222222222222,
              "#7201a8"
             ],
             [
              0.3333333333333333,
              "#9c179e"
             ],
             [
              0.4444444444444444,
              "#bd3786"
             ],
             [
              0.5555555555555556,
              "#d8576b"
             ],
             [
              0.6666666666666666,
              "#ed7953"
             ],
             [
              0.7777777777777778,
              "#fb9f3a"
             ],
             [
              0.8888888888888888,
              "#fdca26"
             ],
             [
              1,
              "#f0f921"
             ]
            ],
            "type": "histogram2d"
           }
          ],
          "histogram2dcontour": [
           {
            "colorbar": {
             "outlinewidth": 0,
             "ticks": ""
            },
            "colorscale": [
             [
              0,
              "#0d0887"
             ],
             [
              0.1111111111111111,
              "#46039f"
             ],
             [
              0.2222222222222222,
              "#7201a8"
             ],
             [
              0.3333333333333333,
              "#9c179e"
             ],
             [
              0.4444444444444444,
              "#bd3786"
             ],
             [
              0.5555555555555556,
              "#d8576b"
             ],
             [
              0.6666666666666666,
              "#ed7953"
             ],
             [
              0.7777777777777778,
              "#fb9f3a"
             ],
             [
              0.8888888888888888,
              "#fdca26"
             ],
             [
              1,
              "#f0f921"
             ]
            ],
            "type": "histogram2dcontour"
           }
          ],
          "mesh3d": [
           {
            "colorbar": {
             "outlinewidth": 0,
             "ticks": ""
            },
            "type": "mesh3d"
           }
          ],
          "parcoords": [
           {
            "line": {
             "colorbar": {
              "outlinewidth": 0,
              "ticks": ""
             }
            },
            "type": "parcoords"
           }
          ],
          "pie": [
           {
            "automargin": true,
            "type": "pie"
           }
          ],
          "scatter": [
           {
            "marker": {
             "colorbar": {
              "outlinewidth": 0,
              "ticks": ""
             }
            },
            "type": "scatter"
           }
          ],
          "scatter3d": [
           {
            "line": {
             "colorbar": {
              "outlinewidth": 0,
              "ticks": ""
             }
            },
            "marker": {
             "colorbar": {
              "outlinewidth": 0,
              "ticks": ""
             }
            },
            "type": "scatter3d"
           }
          ],
          "scattercarpet": [
           {
            "marker": {
             "colorbar": {
              "outlinewidth": 0,
              "ticks": ""
             }
            },
            "type": "scattercarpet"
           }
          ],
          "scattergeo": [
           {
            "marker": {
             "colorbar": {
              "outlinewidth": 0,
              "ticks": ""
             }
            },
            "type": "scattergeo"
           }
          ],
          "scattergl": [
           {
            "marker": {
             "colorbar": {
              "outlinewidth": 0,
              "ticks": ""
             }
            },
            "type": "scattergl"
           }
          ],
          "scattermapbox": [
           {
            "marker": {
             "colorbar": {
              "outlinewidth": 0,
              "ticks": ""
             }
            },
            "type": "scattermapbox"
           }
          ],
          "scatterpolar": [
           {
            "marker": {
             "colorbar": {
              "outlinewidth": 0,
              "ticks": ""
             }
            },
            "type": "scatterpolar"
           }
          ],
          "scatterpolargl": [
           {
            "marker": {
             "colorbar": {
              "outlinewidth": 0,
              "ticks": ""
             }
            },
            "type": "scatterpolargl"
           }
          ],
          "scatterternary": [
           {
            "marker": {
             "colorbar": {
              "outlinewidth": 0,
              "ticks": ""
             }
            },
            "type": "scatterternary"
           }
          ],
          "surface": [
           {
            "colorbar": {
             "outlinewidth": 0,
             "ticks": ""
            },
            "colorscale": [
             [
              0,
              "#0d0887"
             ],
             [
              0.1111111111111111,
              "#46039f"
             ],
             [
              0.2222222222222222,
              "#7201a8"
             ],
             [
              0.3333333333333333,
              "#9c179e"
             ],
             [
              0.4444444444444444,
              "#bd3786"
             ],
             [
              0.5555555555555556,
              "#d8576b"
             ],
             [
              0.6666666666666666,
              "#ed7953"
             ],
             [
              0.7777777777777778,
              "#fb9f3a"
             ],
             [
              0.8888888888888888,
              "#fdca26"
             ],
             [
              1,
              "#f0f921"
             ]
            ],
            "type": "surface"
           }
          ],
          "table": [
           {
            "cells": {
             "fill": {
              "color": "#EBF0F8"
             },
             "line": {
              "color": "white"
             }
            },
            "header": {
             "fill": {
              "color": "#C8D4E3"
             },
             "line": {
              "color": "white"
             }
            },
            "type": "table"
           }
          ]
         },
         "layout": {
          "annotationdefaults": {
           "arrowcolor": "#2a3f5f",
           "arrowhead": 0,
           "arrowwidth": 1
          },
          "autotypenumbers": "strict",
          "coloraxis": {
           "colorbar": {
            "outlinewidth": 0,
            "ticks": ""
           }
          },
          "colorscale": {
           "diverging": [
            [
             0,
             "#8e0152"
            ],
            [
             0.1,
             "#c51b7d"
            ],
            [
             0.2,
             "#de77ae"
            ],
            [
             0.3,
             "#f1b6da"
            ],
            [
             0.4,
             "#fde0ef"
            ],
            [
             0.5,
             "#f7f7f7"
            ],
            [
             0.6,
             "#e6f5d0"
            ],
            [
             0.7,
             "#b8e186"
            ],
            [
             0.8,
             "#7fbc41"
            ],
            [
             0.9,
             "#4d9221"
            ],
            [
             1,
             "#276419"
            ]
           ],
           "sequential": [
            [
             0,
             "#0d0887"
            ],
            [
             0.1111111111111111,
             "#46039f"
            ],
            [
             0.2222222222222222,
             "#7201a8"
            ],
            [
             0.3333333333333333,
             "#9c179e"
            ],
            [
             0.4444444444444444,
             "#bd3786"
            ],
            [
             0.5555555555555556,
             "#d8576b"
            ],
            [
             0.6666666666666666,
             "#ed7953"
            ],
            [
             0.7777777777777778,
             "#fb9f3a"
            ],
            [
             0.8888888888888888,
             "#fdca26"
            ],
            [
             1,
             "#f0f921"
            ]
           ],
           "sequentialminus": [
            [
             0,
             "#0d0887"
            ],
            [
             0.1111111111111111,
             "#46039f"
            ],
            [
             0.2222222222222222,
             "#7201a8"
            ],
            [
             0.3333333333333333,
             "#9c179e"
            ],
            [
             0.4444444444444444,
             "#bd3786"
            ],
            [
             0.5555555555555556,
             "#d8576b"
            ],
            [
             0.6666666666666666,
             "#ed7953"
            ],
            [
             0.7777777777777778,
             "#fb9f3a"
            ],
            [
             0.8888888888888888,
             "#fdca26"
            ],
            [
             1,
             "#f0f921"
            ]
           ]
          },
          "colorway": [
           "#636efa",
           "#EF553B",
           "#00cc96",
           "#ab63fa",
           "#FFA15A",
           "#19d3f3",
           "#FF6692",
           "#B6E880",
           "#FF97FF",
           "#FECB52"
          ],
          "font": {
           "color": "#2a3f5f"
          },
          "geo": {
           "bgcolor": "white",
           "lakecolor": "white",
           "landcolor": "#E5ECF6",
           "showlakes": true,
           "showland": true,
           "subunitcolor": "white"
          },
          "hoverlabel": {
           "align": "left"
          },
          "hovermode": "closest",
          "mapbox": {
           "style": "light"
          },
          "paper_bgcolor": "white",
          "plot_bgcolor": "#E5ECF6",
          "polar": {
           "angularaxis": {
            "gridcolor": "white",
            "linecolor": "white",
            "ticks": ""
           },
           "bgcolor": "#E5ECF6",
           "radialaxis": {
            "gridcolor": "white",
            "linecolor": "white",
            "ticks": ""
           }
          },
          "scene": {
           "xaxis": {
            "backgroundcolor": "#E5ECF6",
            "gridcolor": "white",
            "gridwidth": 2,
            "linecolor": "white",
            "showbackground": true,
            "ticks": "",
            "zerolinecolor": "white"
           },
           "yaxis": {
            "backgroundcolor": "#E5ECF6",
            "gridcolor": "white",
            "gridwidth": 2,
            "linecolor": "white",
            "showbackground": true,
            "ticks": "",
            "zerolinecolor": "white"
           },
           "zaxis": {
            "backgroundcolor": "#E5ECF6",
            "gridcolor": "white",
            "gridwidth": 2,
            "linecolor": "white",
            "showbackground": true,
            "ticks": "",
            "zerolinecolor": "white"
           }
          },
          "shapedefaults": {
           "line": {
            "color": "#2a3f5f"
           }
          },
          "ternary": {
           "aaxis": {
            "gridcolor": "white",
            "linecolor": "white",
            "ticks": ""
           },
           "baxis": {
            "gridcolor": "white",
            "linecolor": "white",
            "ticks": ""
           },
           "bgcolor": "#E5ECF6",
           "caxis": {
            "gridcolor": "white",
            "linecolor": "white",
            "ticks": ""
           }
          },
          "title": {
           "x": 0.05
          },
          "xaxis": {
           "automargin": true,
           "gridcolor": "white",
           "linecolor": "white",
           "ticks": "",
           "title": {
            "standoff": 15
           },
           "zerolinecolor": "white",
           "zerolinewidth": 2
          },
          "yaxis": {
           "automargin": true,
           "gridcolor": "white",
           "linecolor": "white",
           "ticks": "",
           "title": {
            "standoff": 15
           },
           "zerolinecolor": "white",
           "zerolinewidth": 2
          }
         }
        },
        "xaxis": {
         "anchor": "y",
         "domain": [
          0,
          1
         ],
         "title": {
          "text": "category_class"
         }
        },
        "yaxis": {
         "anchor": "x",
         "domain": [
          0,
          1
         ],
         "title": {
          "text": "count"
         }
        }
       }
      }
     },
     "metadata": {}
    }
   ],
   "source": [
    "px.histogram(sdf_raw.toPandas(), x=\"category_class\", color=\"brand\")"
   ]
  },
  {
   "source": [
    "#### Connection to the price"
   ],
   "cell_type": "markdown",
   "metadata": {}
  },
  {
   "source": [
    "The following plots will represent the price distribution within the category_classes, category_codes, category_ids, product_ids and brands."
   ],
   "cell_type": "markdown",
   "metadata": {}
  },
  {
   "cell_type": "code",
   "execution_count": 48,
   "metadata": {},
   "outputs": [
    {
     "output_type": "display_data",
     "data": {
      "application/vnd.plotly.v1+json": {
       "config": {
        "plotlyServerURL": "https://plot.ly"
       },
       "data": [
        {
         "alignmentgroup": "True",
         "hovertemplate": "category_class=%{x}<br>price=%{y}<extra></extra>",
         "legendgroup": "",
         "marker": {
          "color": "#636efa"
         },
         "name": "",
         "notched": false,
         "offsetgroup": "",
         "orientation": "v",
         "showlegend": false,
         "type": "box",
         "x": [
          "electronics",
          "appliances",
          "not defined",
          "appliances",
          "electronics",
          "computers",
          "computers",
          "not defined",
          "not defined",
          "electronics",
          "furniture",
          "appliances",
          "furniture",
          "not defined",
          "appliances",
          "not defined",
          "not defined",
          "not defined",
          "electronics",
          "computers",
          "not defined",
          "electronics",
          "not defined",
          "furniture",
          "not defined",
          "not defined",
          "not defined",
          "electronics",
          "computers",
          "computers",
          "not defined",
          "furniture",
          "not defined",
          "not defined",
          "not defined",
          "not defined",
          "not defined",
          "electronics",
          "appliances",
          "electronics",
          "electronics",
          "not defined",
          "not defined",
          "appliances",
          "appliances",
          "not defined",
          "not defined",
          "electronics",
          "not defined",
          "electronics",
          "electronics",
          "electronics",
          "apparel",
          "apparel",
          "electronics",
          "furniture",
          "not defined",
          "not defined",
          "not defined",
          "not defined",
          "not defined",
          "not defined",
          "computers",
          "not defined",
          "not defined",
          "electronics",
          "not defined",
          "not defined",
          "construction",
          "electronics",
          "not defined",
          "auto",
          "not defined",
          "not defined",
          "furniture",
          "computers",
          "not defined",
          "computers",
          "not defined",
          "electronics",
          "not defined",
          "not defined",
          "electronics",
          "not defined",
          "electronics",
          "computers",
          "auto",
          "computers",
          "electronics",
          "not defined",
          "accessories",
          "appliances",
          "apparel",
          "electronics",
          "not defined",
          "electronics",
          "electronics",
          "electronics",
          "appliances",
          "not defined",
          "computers",
          "electronics",
          "not defined",
          "computers",
          "not defined",
          "electronics",
          "computers",
          "furniture",
          "not defined",
          "electronics",
          "electronics",
          "not defined",
          "not defined",
          "not defined",
          "appliances",
          "not defined",
          "not defined",
          "apparel",
          "auto",
          "construction",
          "computers",
          "electronics",
          "furniture",
          "not defined",
          "not defined",
          "furniture",
          "not defined",
          "electronics",
          "electronics",
          "electronics",
          "not defined",
          "electronics",
          "not defined",
          "computers",
          "electronics",
          "not defined",
          "not defined",
          "computers",
          "not defined",
          "not defined",
          "not defined",
          "computers",
          "not defined",
          "auto",
          "electronics",
          "construction",
          "electronics",
          "not defined",
          "electronics",
          "not defined",
          "not defined",
          "not defined",
          "appliances",
          "electronics",
          "computers",
          "not defined",
          "electronics",
          "appliances",
          "electronics",
          "electronics",
          "appliances",
          "not defined",
          "computers",
          "auto",
          "construction",
          "electronics",
          "not defined",
          "not defined",
          "electronics",
          "electronics",
          "furniture",
          "not defined",
          "computers",
          "appliances",
          "electronics",
          "not defined",
          "auto",
          "furniture",
          "not defined",
          "not defined",
          "furniture",
          "electronics",
          "furniture",
          "not defined",
          "apparel",
          "not defined",
          "electronics",
          "construction",
          "electronics",
          "construction",
          "construction",
          "not defined",
          "computers",
          "not defined",
          "electronics",
          "not defined",
          "furniture",
          "apparel",
          "construction",
          "electronics",
          "not defined",
          "auto",
          "electronics",
          "computers",
          "not defined",
          "electronics",
          "electronics",
          "electronics",
          "electronics",
          "computers",
          "electronics",
          "not defined",
          "not defined",
          "not defined",
          "not defined",
          "not defined",
          "electronics"
         ],
         "x0": " ",
         "xaxis": "x",
         "y": [
          489.07,
          293.65,
          28.31,
          712.87,
          183.27,
          360.09,
          514.56,
          30.86,
          72.72,
          732.07,
          437.33,
          155.11,
          31.64,
          20.54,
          411.83,
          1.09,
          8.55,
          22.68,
          164.84,
          411.59,
          88.81,
          151.99,
          7.07,
          591.78,
          55.33,
          11.79,
          7.59,
          949.47,
          514.79,
          360.34,
          38.07,
          47.77,
          23.4,
          23.14,
          61.1,
          127.42,
          54.06,
          69.24,
          108.09,
          458.28,
          503.09,
          119.69,
          437.29,
          32.66,
          684.44,
          511.13,
          15.62,
          386.08,
          248.66,
          211.92,
          895.78,
          289.33,
          8.73,
          40.16,
          928.18,
          47.77,
          66.9,
          8.55,
          134.37,
          51.48,
          83.91,
          28.19,
          385.85,
          733.61,
          105.54,
          128.42,
          50.19,
          43.73,
          98.51,
          84.65,
          5.77,
          157.28,
          252.77,
          20.77,
          34.75,
          287.83,
          91.12,
          151.14,
          61.75,
          1091.33,
          46.16,
          72.72,
          22.8,
          171.17,
          257.38,
          51.46,
          221.37,
          849.42,
          242.63,
          40.93,
          48.43,
          499.94,
          50.45,
          51.22,
          900.92,
          463.15,
          928.38,
          861.28,
          166.23,
          64.33,
          170.63,
          1013.86,
          28.19,
          411.59,
          280.05,
          1173.6,
          390.98,
          566.3,
          50.43,
          1091.33,
          946.73,
          58.17,
          61.75,
          17.49,
          314.08,
          47.62,
          47.32,
          46.08,
          180.18,
          226.83,
          514.79,
          489.07,
          70.27,
          511.13,
          751.63,
          136.4,
          182.76,
          172.22,
          172.23,
          41.19,
          257.15,
          398.72,
          378.36,
          2342.15,
          861.28,
          28.19,
          114.03,
          406.68,
          25.48,
          49.68,
          76.45,
          1209.55,
          72.72,
          113.93,
          928.38,
          254.78,
          334.37,
          244.28,
          242.63,
          70.53,
          118.41,
          7.34,
          293.65,
          22.8,
          203.84,
          77.22,
          125.61,
          684.44,
          128.42,
          1013.86,
          298.16,
          84.69,
          2312.8,
          229.09,
          48.35,
          167.02,
          40.93,
          177.1,
          211.92,
          2239.44,
          36.78,
          900.92,
          2496.59,
          128.68,
          195.37,
          10.17,
          221.37,
          207.21,
          277.23,
          32.18,
          36.78,
          58.69,
          566.3,
          69.5,
          65.38,
          30.43,
          218.51,
          150.95,
          127.33,
          46.82,
          29.86,
          65.64,
          411.34,
          72.59,
          165.26,
          97.34,
          566.3,
          102.71,
          24.71,
          293.44,
          397.54,
          221.37,
          183.27,
          432.42,
          1335.43,
          380.96,
          552.14,
          38.61,
          67.84,
          2311.49,
          133.83,
          224.46,
          72.07,
          20.57,
          51.22,
          257.15,
          732.07
         ],
         "y0": " ",
         "yaxis": "y"
        }
       ],
       "layout": {
        "boxmode": "group",
        "legend": {
         "tracegroupgap": 0
        },
        "template": {
         "data": {
          "bar": [
           {
            "error_x": {
             "color": "#2a3f5f"
            },
            "error_y": {
             "color": "#2a3f5f"
            },
            "marker": {
             "line": {
              "color": "#E5ECF6",
              "width": 0.5
             }
            },
            "type": "bar"
           }
          ],
          "barpolar": [
           {
            "marker": {
             "line": {
              "color": "#E5ECF6",
              "width": 0.5
             }
            },
            "type": "barpolar"
           }
          ],
          "carpet": [
           {
            "aaxis": {
             "endlinecolor": "#2a3f5f",
             "gridcolor": "white",
             "linecolor": "white",
             "minorgridcolor": "white",
             "startlinecolor": "#2a3f5f"
            },
            "baxis": {
             "endlinecolor": "#2a3f5f",
             "gridcolor": "white",
             "linecolor": "white",
             "minorgridcolor": "white",
             "startlinecolor": "#2a3f5f"
            },
            "type": "carpet"
           }
          ],
          "choropleth": [
           {
            "colorbar": {
             "outlinewidth": 0,
             "ticks": ""
            },
            "type": "choropleth"
           }
          ],
          "contour": [
           {
            "colorbar": {
             "outlinewidth": 0,
             "ticks": ""
            },
            "colorscale": [
             [
              0,
              "#0d0887"
             ],
             [
              0.1111111111111111,
              "#46039f"
             ],
             [
              0.2222222222222222,
              "#7201a8"
             ],
             [
              0.3333333333333333,
              "#9c179e"
             ],
             [
              0.4444444444444444,
              "#bd3786"
             ],
             [
              0.5555555555555556,
              "#d8576b"
             ],
             [
              0.6666666666666666,
              "#ed7953"
             ],
             [
              0.7777777777777778,
              "#fb9f3a"
             ],
             [
              0.8888888888888888,
              "#fdca26"
             ],
             [
              1,
              "#f0f921"
             ]
            ],
            "type": "contour"
           }
          ],
          "contourcarpet": [
           {
            "colorbar": {
             "outlinewidth": 0,
             "ticks": ""
            },
            "type": "contourcarpet"
           }
          ],
          "heatmap": [
           {
            "colorbar": {
             "outlinewidth": 0,
             "ticks": ""
            },
            "colorscale": [
             [
              0,
              "#0d0887"
             ],
             [
              0.1111111111111111,
              "#46039f"
             ],
             [
              0.2222222222222222,
              "#7201a8"
             ],
             [
              0.3333333333333333,
              "#9c179e"
             ],
             [
              0.4444444444444444,
              "#bd3786"
             ],
             [
              0.5555555555555556,
              "#d8576b"
             ],
             [
              0.6666666666666666,
              "#ed7953"
             ],
             [
              0.7777777777777778,
              "#fb9f3a"
             ],
             [
              0.8888888888888888,
              "#fdca26"
             ],
             [
              1,
              "#f0f921"
             ]
            ],
            "type": "heatmap"
           }
          ],
          "heatmapgl": [
           {
            "colorbar": {
             "outlinewidth": 0,
             "ticks": ""
            },
            "colorscale": [
             [
              0,
              "#0d0887"
             ],
             [
              0.1111111111111111,
              "#46039f"
             ],
             [
              0.2222222222222222,
              "#7201a8"
             ],
             [
              0.3333333333333333,
              "#9c179e"
             ],
             [
              0.4444444444444444,
              "#bd3786"
             ],
             [
              0.5555555555555556,
              "#d8576b"
             ],
             [
              0.6666666666666666,
              "#ed7953"
             ],
             [
              0.7777777777777778,
              "#fb9f3a"
             ],
             [
              0.8888888888888888,
              "#fdca26"
             ],
             [
              1,
              "#f0f921"
             ]
            ],
            "type": "heatmapgl"
           }
          ],
          "histogram": [
           {
            "marker": {
             "colorbar": {
              "outlinewidth": 0,
              "ticks": ""
             }
            },
            "type": "histogram"
           }
          ],
          "histogram2d": [
           {
            "colorbar": {
             "outlinewidth": 0,
             "ticks": ""
            },
            "colorscale": [
             [
              0,
              "#0d0887"
             ],
             [
              0.1111111111111111,
              "#46039f"
             ],
             [
              0.2222222222222222,
              "#7201a8"
             ],
             [
              0.3333333333333333,
              "#9c179e"
             ],
             [
              0.4444444444444444,
              "#bd3786"
             ],
             [
              0.5555555555555556,
              "#d8576b"
             ],
             [
              0.6666666666666666,
              "#ed7953"
             ],
             [
              0.7777777777777778,
              "#fb9f3a"
             ],
             [
              0.8888888888888888,
              "#fdca26"
             ],
             [
              1,
              "#f0f921"
             ]
            ],
            "type": "histogram2d"
           }
          ],
          "histogram2dcontour": [
           {
            "colorbar": {
             "outlinewidth": 0,
             "ticks": ""
            },
            "colorscale": [
             [
              0,
              "#0d0887"
             ],
             [
              0.1111111111111111,
              "#46039f"
             ],
             [
              0.2222222222222222,
              "#7201a8"
             ],
             [
              0.3333333333333333,
              "#9c179e"
             ],
             [
              0.4444444444444444,
              "#bd3786"
             ],
             [
              0.5555555555555556,
              "#d8576b"
             ],
             [
              0.6666666666666666,
              "#ed7953"
             ],
             [
              0.7777777777777778,
              "#fb9f3a"
             ],
             [
              0.8888888888888888,
              "#fdca26"
             ],
             [
              1,
              "#f0f921"
             ]
            ],
            "type": "histogram2dcontour"
           }
          ],
          "mesh3d": [
           {
            "colorbar": {
             "outlinewidth": 0,
             "ticks": ""
            },
            "type": "mesh3d"
           }
          ],
          "parcoords": [
           {
            "line": {
             "colorbar": {
              "outlinewidth": 0,
              "ticks": ""
             }
            },
            "type": "parcoords"
           }
          ],
          "pie": [
           {
            "automargin": true,
            "type": "pie"
           }
          ],
          "scatter": [
           {
            "marker": {
             "colorbar": {
              "outlinewidth": 0,
              "ticks": ""
             }
            },
            "type": "scatter"
           }
          ],
          "scatter3d": [
           {
            "line": {
             "colorbar": {
              "outlinewidth": 0,
              "ticks": ""
             }
            },
            "marker": {
             "colorbar": {
              "outlinewidth": 0,
              "ticks": ""
             }
            },
            "type": "scatter3d"
           }
          ],
          "scattercarpet": [
           {
            "marker": {
             "colorbar": {
              "outlinewidth": 0,
              "ticks": ""
             }
            },
            "type": "scattercarpet"
           }
          ],
          "scattergeo": [
           {
            "marker": {
             "colorbar": {
              "outlinewidth": 0,
              "ticks": ""
             }
            },
            "type": "scattergeo"
           }
          ],
          "scattergl": [
           {
            "marker": {
             "colorbar": {
              "outlinewidth": 0,
              "ticks": ""
             }
            },
            "type": "scattergl"
           }
          ],
          "scattermapbox": [
           {
            "marker": {
             "colorbar": {
              "outlinewidth": 0,
              "ticks": ""
             }
            },
            "type": "scattermapbox"
           }
          ],
          "scatterpolar": [
           {
            "marker": {
             "colorbar": {
              "outlinewidth": 0,
              "ticks": ""
             }
            },
            "type": "scatterpolar"
           }
          ],
          "scatterpolargl": [
           {
            "marker": {
             "colorbar": {
              "outlinewidth": 0,
              "ticks": ""
             }
            },
            "type": "scatterpolargl"
           }
          ],
          "scatterternary": [
           {
            "marker": {
             "colorbar": {
              "outlinewidth": 0,
              "ticks": ""
             }
            },
            "type": "scatterternary"
           }
          ],
          "surface": [
           {
            "colorbar": {
             "outlinewidth": 0,
             "ticks": ""
            },
            "colorscale": [
             [
              0,
              "#0d0887"
             ],
             [
              0.1111111111111111,
              "#46039f"
             ],
             [
              0.2222222222222222,
              "#7201a8"
             ],
             [
              0.3333333333333333,
              "#9c179e"
             ],
             [
              0.4444444444444444,
              "#bd3786"
             ],
             [
              0.5555555555555556,
              "#d8576b"
             ],
             [
              0.6666666666666666,
              "#ed7953"
             ],
             [
              0.7777777777777778,
              "#fb9f3a"
             ],
             [
              0.8888888888888888,
              "#fdca26"
             ],
             [
              1,
              "#f0f921"
             ]
            ],
            "type": "surface"
           }
          ],
          "table": [
           {
            "cells": {
             "fill": {
              "color": "#EBF0F8"
             },
             "line": {
              "color": "white"
             }
            },
            "header": {
             "fill": {
              "color": "#C8D4E3"
             },
             "line": {
              "color": "white"
             }
            },
            "type": "table"
           }
          ]
         },
         "layout": {
          "annotationdefaults": {
           "arrowcolor": "#2a3f5f",
           "arrowhead": 0,
           "arrowwidth": 1
          },
          "autotypenumbers": "strict",
          "coloraxis": {
           "colorbar": {
            "outlinewidth": 0,
            "ticks": ""
           }
          },
          "colorscale": {
           "diverging": [
            [
             0,
             "#8e0152"
            ],
            [
             0.1,
             "#c51b7d"
            ],
            [
             0.2,
             "#de77ae"
            ],
            [
             0.3,
             "#f1b6da"
            ],
            [
             0.4,
             "#fde0ef"
            ],
            [
             0.5,
             "#f7f7f7"
            ],
            [
             0.6,
             "#e6f5d0"
            ],
            [
             0.7,
             "#b8e186"
            ],
            [
             0.8,
             "#7fbc41"
            ],
            [
             0.9,
             "#4d9221"
            ],
            [
             1,
             "#276419"
            ]
           ],
           "sequential": [
            [
             0,
             "#0d0887"
            ],
            [
             0.1111111111111111,
             "#46039f"
            ],
            [
             0.2222222222222222,
             "#7201a8"
            ],
            [
             0.3333333333333333,
             "#9c179e"
            ],
            [
             0.4444444444444444,
             "#bd3786"
            ],
            [
             0.5555555555555556,
             "#d8576b"
            ],
            [
             0.6666666666666666,
             "#ed7953"
            ],
            [
             0.7777777777777778,
             "#fb9f3a"
            ],
            [
             0.8888888888888888,
             "#fdca26"
            ],
            [
             1,
             "#f0f921"
            ]
           ],
           "sequentialminus": [
            [
             0,
             "#0d0887"
            ],
            [
             0.1111111111111111,
             "#46039f"
            ],
            [
             0.2222222222222222,
             "#7201a8"
            ],
            [
             0.3333333333333333,
             "#9c179e"
            ],
            [
             0.4444444444444444,
             "#bd3786"
            ],
            [
             0.5555555555555556,
             "#d8576b"
            ],
            [
             0.6666666666666666,
             "#ed7953"
            ],
            [
             0.7777777777777778,
             "#fb9f3a"
            ],
            [
             0.8888888888888888,
             "#fdca26"
            ],
            [
             1,
             "#f0f921"
            ]
           ]
          },
          "colorway": [
           "#636efa",
           "#EF553B",
           "#00cc96",
           "#ab63fa",
           "#FFA15A",
           "#19d3f3",
           "#FF6692",
           "#B6E880",
           "#FF97FF",
           "#FECB52"
          ],
          "font": {
           "color": "#2a3f5f"
          },
          "geo": {
           "bgcolor": "white",
           "lakecolor": "white",
           "landcolor": "#E5ECF6",
           "showlakes": true,
           "showland": true,
           "subunitcolor": "white"
          },
          "hoverlabel": {
           "align": "left"
          },
          "hovermode": "closest",
          "mapbox": {
           "style": "light"
          },
          "paper_bgcolor": "white",
          "plot_bgcolor": "#E5ECF6",
          "polar": {
           "angularaxis": {
            "gridcolor": "white",
            "linecolor": "white",
            "ticks": ""
           },
           "bgcolor": "#E5ECF6",
           "radialaxis": {
            "gridcolor": "white",
            "linecolor": "white",
            "ticks": ""
           }
          },
          "scene": {
           "xaxis": {
            "backgroundcolor": "#E5ECF6",
            "gridcolor": "white",
            "gridwidth": 2,
            "linecolor": "white",
            "showbackground": true,
            "ticks": "",
            "zerolinecolor": "white"
           },
           "yaxis": {
            "backgroundcolor": "#E5ECF6",
            "gridcolor": "white",
            "gridwidth": 2,
            "linecolor": "white",
            "showbackground": true,
            "ticks": "",
            "zerolinecolor": "white"
           },
           "zaxis": {
            "backgroundcolor": "#E5ECF6",
            "gridcolor": "white",
            "gridwidth": 2,
            "linecolor": "white",
            "showbackground": true,
            "ticks": "",
            "zerolinecolor": "white"
           }
          },
          "shapedefaults": {
           "line": {
            "color": "#2a3f5f"
           }
          },
          "ternary": {
           "aaxis": {
            "gridcolor": "white",
            "linecolor": "white",
            "ticks": ""
           },
           "baxis": {
            "gridcolor": "white",
            "linecolor": "white",
            "ticks": ""
           },
           "bgcolor": "#E5ECF6",
           "caxis": {
            "gridcolor": "white",
            "linecolor": "white",
            "ticks": ""
           }
          },
          "title": {
           "x": 0.05
          },
          "xaxis": {
           "automargin": true,
           "gridcolor": "white",
           "linecolor": "white",
           "ticks": "",
           "title": {
            "standoff": 15
           },
           "zerolinecolor": "white",
           "zerolinewidth": 2
          },
          "yaxis": {
           "automargin": true,
           "gridcolor": "white",
           "linecolor": "white",
           "ticks": "",
           "title": {
            "standoff": 15
           },
           "zerolinecolor": "white",
           "zerolinewidth": 2
          }
         }
        },
        "title": {
         "text": "Price ~ Category_class"
        },
        "xaxis": {
         "anchor": "y",
         "domain": [
          0,
          1
         ],
         "title": {
          "text": "category_class"
         }
        },
        "yaxis": {
         "anchor": "x",
         "domain": [
          0,
          1
         ],
         "title": {
          "text": "price"
         }
        }
       }
      }
     },
     "metadata": {}
    }
   ],
   "source": [
    "px.box(sdf_raw.toPandas(), x=\"category_class\", y=\"price\", title=\"Price ~ Category_class\")"
   ]
  },
  {
   "cell_type": "code",
   "execution_count": 51,
   "metadata": {},
   "outputs": [
    {
     "output_type": "display_data",
     "data": {
      "application/vnd.plotly.v1+json": {
       "config": {
        "plotlyServerURL": "https://plot.ly"
       },
       "data": [
        {
         "alignmentgroup": "True",
         "hovertemplate": "category_code=%{x}<br>price=%{y}<extra></extra>",
         "legendgroup": "",
         "marker": {
          "color": "#636efa"
         },
         "name": "",
         "notched": false,
         "offsetgroup": "",
         "orientation": "v",
         "showlegend": false,
         "type": "box",
         "x": [
          "electronics.smartphone",
          "appliances.sewing_machine",
          "not defined",
          "appliances.kitchen.washer",
          "electronics.smartphone",
          "computers.notebook",
          "computers.notebook",
          "not defined",
          "not defined",
          "electronics.smartphone",
          "furniture.living_room.sofa",
          "appliances.kitchen.refrigerators",
          "furniture.kitchen.chair",
          "not defined",
          "appliances.kitchen.dishwasher",
          "not defined",
          "not defined",
          "not defined",
          "electronics.smartphone",
          "computers.notebook",
          "not defined",
          "electronics.smartphone",
          "not defined",
          "furniture.living_room.sofa",
          "not defined",
          "not defined",
          "not defined",
          "electronics.smartphone",
          "computers.notebook",
          "computers.notebook",
          "not defined",
          "furniture.kitchen.chair",
          "not defined",
          "not defined",
          "not defined",
          "not defined",
          "not defined",
          "electronics.audio.headphone",
          "appliances.environment.vacuum",
          "electronics.smartphone",
          "electronics.smartphone",
          "not defined",
          "not defined",
          "appliances.environment.water_heater",
          "appliances.kitchen.dishwasher",
          "not defined",
          "not defined",
          "electronics.camera.video",
          "not defined",
          "electronics.smartphone",
          "electronics.clocks",
          "electronics.video.tv",
          "apparel.tshirt",
          "apparel.jeans",
          "electronics.smartphone",
          "furniture.kitchen.chair",
          "not defined",
          "not defined",
          "not defined",
          "not defined",
          "not defined",
          "not defined",
          "computers.notebook",
          "not defined",
          "not defined",
          "electronics.smartphone",
          "not defined",
          "not defined",
          "construction.tools.drill",
          "electronics.smartphone",
          "not defined",
          "auto.accessories.compressor",
          "not defined",
          "not defined",
          "furniture.kitchen.chair",
          "computers.components.motherboard",
          "not defined",
          "computers.peripherals.printer",
          "not defined",
          "electronics.smartphone",
          "not defined",
          "not defined",
          "electronics.audio.headphone",
          "not defined",
          "electronics.smartphone",
          "computers.desktop",
          "auto.accessories.player",
          "computers.notebook",
          "electronics.smartphone",
          "not defined",
          "accessories.bag",
          "appliances.kitchen.refrigerators",
          "apparel.jeans",
          "electronics.audio.headphone",
          "not defined",
          "electronics.smartphone",
          "electronics.smartphone",
          "electronics.clocks",
          "appliances.kitchen.refrigerators",
          "not defined",
          "computers.components.videocards",
          "electronics.smartphone",
          "not defined",
          "computers.notebook",
          "not defined",
          "electronics.smartphone",
          "computers.notebook",
          "furniture.bedroom.bed",
          "not defined",
          "electronics.smartphone",
          "electronics.smartphone",
          "not defined",
          "not defined",
          "not defined",
          "appliances.kitchen.refrigerators",
          "not defined",
          "not defined",
          "apparel.jeans",
          "auto.accessories.player",
          "construction.tools.drill",
          "computers.notebook",
          "electronics.smartphone",
          "furniture.bathroom.bath",
          "not defined",
          "not defined",
          "furniture.bedroom.bed",
          "not defined",
          "electronics.smartphone",
          "electronics.smartphone",
          "electronics.audio.subwoofer",
          "not defined",
          "electronics.smartphone",
          "not defined",
          "computers.notebook",
          "electronics.clocks",
          "not defined",
          "not defined",
          "computers.notebook",
          "not defined",
          "not defined",
          "not defined",
          "computers.notebook",
          "not defined",
          "auto.accessories.compressor",
          "electronics.smartphone",
          "construction.tools.welding",
          "electronics.smartphone",
          "not defined",
          "electronics.smartphone",
          "not defined",
          "not defined",
          "not defined",
          "appliances.sewing_machine",
          "electronics.audio.headphone",
          "computers.peripherals.printer",
          "not defined",
          "electronics.smartphone",
          "appliances.kitchen.dishwasher",
          "electronics.smartphone",
          "electronics.smartphone",
          "appliances.kitchen.dishwasher",
          "not defined",
          "computers.notebook",
          "auto.accessories.player",
          "construction.tools.saw",
          "electronics.smartphone",
          "not defined",
          "not defined",
          "electronics.smartphone",
          "electronics.clocks",
          "furniture.kitchen.chair",
          "not defined",
          "computers.notebook",
          "appliances.kitchen.refrigerators",
          "electronics.smartphone",
          "not defined",
          "auto.accessories.player",
          "furniture.kitchen.table",
          "not defined",
          "not defined",
          "furniture.kitchen.chair",
          "electronics.audio.subwoofer",
          "furniture.bedroom.bed",
          "not defined",
          "apparel.shoes",
          "not defined",
          "electronics.smartphone",
          "construction.tools.drill",
          "electronics.smartphone",
          "construction.tools.drill",
          "construction.tools.light",
          "not defined",
          "computers.notebook",
          "not defined",
          "electronics.clocks",
          "not defined",
          "furniture.bedroom.bed",
          "apparel.shirt",
          "construction.tools.painting",
          "electronics.clocks",
          "not defined",
          "auto.accessories.player",
          "electronics.smartphone",
          "computers.notebook",
          "not defined",
          "electronics.clocks",
          "electronics.clocks",
          "electronics.audio.subwoofer",
          "electronics.audio.headphone",
          "computers.notebook",
          "electronics.audio.subwoofer",
          "not defined",
          "not defined",
          "not defined",
          "not defined",
          "not defined",
          "electronics.smartphone"
         ],
         "x0": " ",
         "xaxis": "x",
         "y": [
          489.07,
          293.65,
          28.31,
          712.87,
          183.27,
          360.09,
          514.56,
          30.86,
          72.72,
          732.07,
          437.33,
          155.11,
          31.64,
          20.54,
          411.83,
          1.09,
          8.55,
          22.68,
          164.84,
          411.59,
          88.81,
          151.99,
          7.07,
          591.78,
          55.33,
          11.79,
          7.59,
          949.47,
          514.79,
          360.34,
          38.07,
          47.77,
          23.4,
          23.14,
          61.1,
          127.42,
          54.06,
          69.24,
          108.09,
          458.28,
          503.09,
          119.69,
          437.29,
          32.66,
          684.44,
          511.13,
          15.62,
          386.08,
          248.66,
          211.92,
          895.78,
          289.33,
          8.73,
          40.16,
          928.18,
          47.77,
          66.9,
          8.55,
          134.37,
          51.48,
          83.91,
          28.19,
          385.85,
          733.61,
          105.54,
          128.42,
          50.19,
          43.73,
          98.51,
          84.65,
          5.77,
          157.28,
          252.77,
          20.77,
          34.75,
          287.83,
          91.12,
          151.14,
          61.75,
          1091.33,
          46.16,
          72.72,
          22.8,
          171.17,
          257.38,
          51.46,
          221.37,
          849.42,
          242.63,
          40.93,
          48.43,
          499.94,
          50.45,
          51.22,
          900.92,
          463.15,
          928.38,
          861.28,
          166.23,
          64.33,
          170.63,
          1013.86,
          28.19,
          411.59,
          280.05,
          1173.6,
          390.98,
          566.3,
          50.43,
          1091.33,
          946.73,
          58.17,
          61.75,
          17.49,
          314.08,
          47.62,
          47.32,
          46.08,
          180.18,
          226.83,
          514.79,
          489.07,
          70.27,
          511.13,
          751.63,
          136.4,
          182.76,
          172.22,
          172.23,
          41.19,
          257.15,
          398.72,
          378.36,
          2342.15,
          861.28,
          28.19,
          114.03,
          406.68,
          25.48,
          49.68,
          76.45,
          1209.55,
          72.72,
          113.93,
          928.38,
          254.78,
          334.37,
          244.28,
          242.63,
          70.53,
          118.41,
          7.34,
          293.65,
          22.8,
          203.84,
          77.22,
          125.61,
          684.44,
          128.42,
          1013.86,
          298.16,
          84.69,
          2312.8,
          229.09,
          48.35,
          167.02,
          40.93,
          177.1,
          211.92,
          2239.44,
          36.78,
          900.92,
          2496.59,
          128.68,
          195.37,
          10.17,
          221.37,
          207.21,
          277.23,
          32.18,
          36.78,
          58.69,
          566.3,
          69.5,
          65.38,
          30.43,
          218.51,
          150.95,
          127.33,
          46.82,
          29.86,
          65.64,
          411.34,
          72.59,
          165.26,
          97.34,
          566.3,
          102.71,
          24.71,
          293.44,
          397.54,
          221.37,
          183.27,
          432.42,
          1335.43,
          380.96,
          552.14,
          38.61,
          67.84,
          2311.49,
          133.83,
          224.46,
          72.07,
          20.57,
          51.22,
          257.15,
          732.07
         ],
         "y0": " ",
         "yaxis": "y"
        }
       ],
       "layout": {
        "boxmode": "group",
        "legend": {
         "tracegroupgap": 0
        },
        "template": {
         "data": {
          "bar": [
           {
            "error_x": {
             "color": "#2a3f5f"
            },
            "error_y": {
             "color": "#2a3f5f"
            },
            "marker": {
             "line": {
              "color": "#E5ECF6",
              "width": 0.5
             }
            },
            "type": "bar"
           }
          ],
          "barpolar": [
           {
            "marker": {
             "line": {
              "color": "#E5ECF6",
              "width": 0.5
             }
            },
            "type": "barpolar"
           }
          ],
          "carpet": [
           {
            "aaxis": {
             "endlinecolor": "#2a3f5f",
             "gridcolor": "white",
             "linecolor": "white",
             "minorgridcolor": "white",
             "startlinecolor": "#2a3f5f"
            },
            "baxis": {
             "endlinecolor": "#2a3f5f",
             "gridcolor": "white",
             "linecolor": "white",
             "minorgridcolor": "white",
             "startlinecolor": "#2a3f5f"
            },
            "type": "carpet"
           }
          ],
          "choropleth": [
           {
            "colorbar": {
             "outlinewidth": 0,
             "ticks": ""
            },
            "type": "choropleth"
           }
          ],
          "contour": [
           {
            "colorbar": {
             "outlinewidth": 0,
             "ticks": ""
            },
            "colorscale": [
             [
              0,
              "#0d0887"
             ],
             [
              0.1111111111111111,
              "#46039f"
             ],
             [
              0.2222222222222222,
              "#7201a8"
             ],
             [
              0.3333333333333333,
              "#9c179e"
             ],
             [
              0.4444444444444444,
              "#bd3786"
             ],
             [
              0.5555555555555556,
              "#d8576b"
             ],
             [
              0.6666666666666666,
              "#ed7953"
             ],
             [
              0.7777777777777778,
              "#fb9f3a"
             ],
             [
              0.8888888888888888,
              "#fdca26"
             ],
             [
              1,
              "#f0f921"
             ]
            ],
            "type": "contour"
           }
          ],
          "contourcarpet": [
           {
            "colorbar": {
             "outlinewidth": 0,
             "ticks": ""
            },
            "type": "contourcarpet"
           }
          ],
          "heatmap": [
           {
            "colorbar": {
             "outlinewidth": 0,
             "ticks": ""
            },
            "colorscale": [
             [
              0,
              "#0d0887"
             ],
             [
              0.1111111111111111,
              "#46039f"
             ],
             [
              0.2222222222222222,
              "#7201a8"
             ],
             [
              0.3333333333333333,
              "#9c179e"
             ],
             [
              0.4444444444444444,
              "#bd3786"
             ],
             [
              0.5555555555555556,
              "#d8576b"
             ],
             [
              0.6666666666666666,
              "#ed7953"
             ],
             [
              0.7777777777777778,
              "#fb9f3a"
             ],
             [
              0.8888888888888888,
              "#fdca26"
             ],
             [
              1,
              "#f0f921"
             ]
            ],
            "type": "heatmap"
           }
          ],
          "heatmapgl": [
           {
            "colorbar": {
             "outlinewidth": 0,
             "ticks": ""
            },
            "colorscale": [
             [
              0,
              "#0d0887"
             ],
             [
              0.1111111111111111,
              "#46039f"
             ],
             [
              0.2222222222222222,
              "#7201a8"
             ],
             [
              0.3333333333333333,
              "#9c179e"
             ],
             [
              0.4444444444444444,
              "#bd3786"
             ],
             [
              0.5555555555555556,
              "#d8576b"
             ],
             [
              0.6666666666666666,
              "#ed7953"
             ],
             [
              0.7777777777777778,
              "#fb9f3a"
             ],
             [
              0.8888888888888888,
              "#fdca26"
             ],
             [
              1,
              "#f0f921"
             ]
            ],
            "type": "heatmapgl"
           }
          ],
          "histogram": [
           {
            "marker": {
             "colorbar": {
              "outlinewidth": 0,
              "ticks": ""
             }
            },
            "type": "histogram"
           }
          ],
          "histogram2d": [
           {
            "colorbar": {
             "outlinewidth": 0,
             "ticks": ""
            },
            "colorscale": [
             [
              0,
              "#0d0887"
             ],
             [
              0.1111111111111111,
              "#46039f"
             ],
             [
              0.2222222222222222,
              "#7201a8"
             ],
             [
              0.3333333333333333,
              "#9c179e"
             ],
             [
              0.4444444444444444,
              "#bd3786"
             ],
             [
              0.5555555555555556,
              "#d8576b"
             ],
             [
              0.6666666666666666,
              "#ed7953"
             ],
             [
              0.7777777777777778,
              "#fb9f3a"
             ],
             [
              0.8888888888888888,
              "#fdca26"
             ],
             [
              1,
              "#f0f921"
             ]
            ],
            "type": "histogram2d"
           }
          ],
          "histogram2dcontour": [
           {
            "colorbar": {
             "outlinewidth": 0,
             "ticks": ""
            },
            "colorscale": [
             [
              0,
              "#0d0887"
             ],
             [
              0.1111111111111111,
              "#46039f"
             ],
             [
              0.2222222222222222,
              "#7201a8"
             ],
             [
              0.3333333333333333,
              "#9c179e"
             ],
             [
              0.4444444444444444,
              "#bd3786"
             ],
             [
              0.5555555555555556,
              "#d8576b"
             ],
             [
              0.6666666666666666,
              "#ed7953"
             ],
             [
              0.7777777777777778,
              "#fb9f3a"
             ],
             [
              0.8888888888888888,
              "#fdca26"
             ],
             [
              1,
              "#f0f921"
             ]
            ],
            "type": "histogram2dcontour"
           }
          ],
          "mesh3d": [
           {
            "colorbar": {
             "outlinewidth": 0,
             "ticks": ""
            },
            "type": "mesh3d"
           }
          ],
          "parcoords": [
           {
            "line": {
             "colorbar": {
              "outlinewidth": 0,
              "ticks": ""
             }
            },
            "type": "parcoords"
           }
          ],
          "pie": [
           {
            "automargin": true,
            "type": "pie"
           }
          ],
          "scatter": [
           {
            "marker": {
             "colorbar": {
              "outlinewidth": 0,
              "ticks": ""
             }
            },
            "type": "scatter"
           }
          ],
          "scatter3d": [
           {
            "line": {
             "colorbar": {
              "outlinewidth": 0,
              "ticks": ""
             }
            },
            "marker": {
             "colorbar": {
              "outlinewidth": 0,
              "ticks": ""
             }
            },
            "type": "scatter3d"
           }
          ],
          "scattercarpet": [
           {
            "marker": {
             "colorbar": {
              "outlinewidth": 0,
              "ticks": ""
             }
            },
            "type": "scattercarpet"
           }
          ],
          "scattergeo": [
           {
            "marker": {
             "colorbar": {
              "outlinewidth": 0,
              "ticks": ""
             }
            },
            "type": "scattergeo"
           }
          ],
          "scattergl": [
           {
            "marker": {
             "colorbar": {
              "outlinewidth": 0,
              "ticks": ""
             }
            },
            "type": "scattergl"
           }
          ],
          "scattermapbox": [
           {
            "marker": {
             "colorbar": {
              "outlinewidth": 0,
              "ticks": ""
             }
            },
            "type": "scattermapbox"
           }
          ],
          "scatterpolar": [
           {
            "marker": {
             "colorbar": {
              "outlinewidth": 0,
              "ticks": ""
             }
            },
            "type": "scatterpolar"
           }
          ],
          "scatterpolargl": [
           {
            "marker": {
             "colorbar": {
              "outlinewidth": 0,
              "ticks": ""
             }
            },
            "type": "scatterpolargl"
           }
          ],
          "scatterternary": [
           {
            "marker": {
             "colorbar": {
              "outlinewidth": 0,
              "ticks": ""
             }
            },
            "type": "scatterternary"
           }
          ],
          "surface": [
           {
            "colorbar": {
             "outlinewidth": 0,
             "ticks": ""
            },
            "colorscale": [
             [
              0,
              "#0d0887"
             ],
             [
              0.1111111111111111,
              "#46039f"
             ],
             [
              0.2222222222222222,
              "#7201a8"
             ],
             [
              0.3333333333333333,
              "#9c179e"
             ],
             [
              0.4444444444444444,
              "#bd3786"
             ],
             [
              0.5555555555555556,
              "#d8576b"
             ],
             [
              0.6666666666666666,
              "#ed7953"
             ],
             [
              0.7777777777777778,
              "#fb9f3a"
             ],
             [
              0.8888888888888888,
              "#fdca26"
             ],
             [
              1,
              "#f0f921"
             ]
            ],
            "type": "surface"
           }
          ],
          "table": [
           {
            "cells": {
             "fill": {
              "color": "#EBF0F8"
             },
             "line": {
              "color": "white"
             }
            },
            "header": {
             "fill": {
              "color": "#C8D4E3"
             },
             "line": {
              "color": "white"
             }
            },
            "type": "table"
           }
          ]
         },
         "layout": {
          "annotationdefaults": {
           "arrowcolor": "#2a3f5f",
           "arrowhead": 0,
           "arrowwidth": 1
          },
          "autotypenumbers": "strict",
          "coloraxis": {
           "colorbar": {
            "outlinewidth": 0,
            "ticks": ""
           }
          },
          "colorscale": {
           "diverging": [
            [
             0,
             "#8e0152"
            ],
            [
             0.1,
             "#c51b7d"
            ],
            [
             0.2,
             "#de77ae"
            ],
            [
             0.3,
             "#f1b6da"
            ],
            [
             0.4,
             "#fde0ef"
            ],
            [
             0.5,
             "#f7f7f7"
            ],
            [
             0.6,
             "#e6f5d0"
            ],
            [
             0.7,
             "#b8e186"
            ],
            [
             0.8,
             "#7fbc41"
            ],
            [
             0.9,
             "#4d9221"
            ],
            [
             1,
             "#276419"
            ]
           ],
           "sequential": [
            [
             0,
             "#0d0887"
            ],
            [
             0.1111111111111111,
             "#46039f"
            ],
            [
             0.2222222222222222,
             "#7201a8"
            ],
            [
             0.3333333333333333,
             "#9c179e"
            ],
            [
             0.4444444444444444,
             "#bd3786"
            ],
            [
             0.5555555555555556,
             "#d8576b"
            ],
            [
             0.6666666666666666,
             "#ed7953"
            ],
            [
             0.7777777777777778,
             "#fb9f3a"
            ],
            [
             0.8888888888888888,
             "#fdca26"
            ],
            [
             1,
             "#f0f921"
            ]
           ],
           "sequentialminus": [
            [
             0,
             "#0d0887"
            ],
            [
             0.1111111111111111,
             "#46039f"
            ],
            [
             0.2222222222222222,
             "#7201a8"
            ],
            [
             0.3333333333333333,
             "#9c179e"
            ],
            [
             0.4444444444444444,
             "#bd3786"
            ],
            [
             0.5555555555555556,
             "#d8576b"
            ],
            [
             0.6666666666666666,
             "#ed7953"
            ],
            [
             0.7777777777777778,
             "#fb9f3a"
            ],
            [
             0.8888888888888888,
             "#fdca26"
            ],
            [
             1,
             "#f0f921"
            ]
           ]
          },
          "colorway": [
           "#636efa",
           "#EF553B",
           "#00cc96",
           "#ab63fa",
           "#FFA15A",
           "#19d3f3",
           "#FF6692",
           "#B6E880",
           "#FF97FF",
           "#FECB52"
          ],
          "font": {
           "color": "#2a3f5f"
          },
          "geo": {
           "bgcolor": "white",
           "lakecolor": "white",
           "landcolor": "#E5ECF6",
           "showlakes": true,
           "showland": true,
           "subunitcolor": "white"
          },
          "hoverlabel": {
           "align": "left"
          },
          "hovermode": "closest",
          "mapbox": {
           "style": "light"
          },
          "paper_bgcolor": "white",
          "plot_bgcolor": "#E5ECF6",
          "polar": {
           "angularaxis": {
            "gridcolor": "white",
            "linecolor": "white",
            "ticks": ""
           },
           "bgcolor": "#E5ECF6",
           "radialaxis": {
            "gridcolor": "white",
            "linecolor": "white",
            "ticks": ""
           }
          },
          "scene": {
           "xaxis": {
            "backgroundcolor": "#E5ECF6",
            "gridcolor": "white",
            "gridwidth": 2,
            "linecolor": "white",
            "showbackground": true,
            "ticks": "",
            "zerolinecolor": "white"
           },
           "yaxis": {
            "backgroundcolor": "#E5ECF6",
            "gridcolor": "white",
            "gridwidth": 2,
            "linecolor": "white",
            "showbackground": true,
            "ticks": "",
            "zerolinecolor": "white"
           },
           "zaxis": {
            "backgroundcolor": "#E5ECF6",
            "gridcolor": "white",
            "gridwidth": 2,
            "linecolor": "white",
            "showbackground": true,
            "ticks": "",
            "zerolinecolor": "white"
           }
          },
          "shapedefaults": {
           "line": {
            "color": "#2a3f5f"
           }
          },
          "ternary": {
           "aaxis": {
            "gridcolor": "white",
            "linecolor": "white",
            "ticks": ""
           },
           "baxis": {
            "gridcolor": "white",
            "linecolor": "white",
            "ticks": ""
           },
           "bgcolor": "#E5ECF6",
           "caxis": {
            "gridcolor": "white",
            "linecolor": "white",
            "ticks": ""
           }
          },
          "title": {
           "x": 0.05
          },
          "xaxis": {
           "automargin": true,
           "gridcolor": "white",
           "linecolor": "white",
           "ticks": "",
           "title": {
            "standoff": 15
           },
           "zerolinecolor": "white",
           "zerolinewidth": 2
          },
          "yaxis": {
           "automargin": true,
           "gridcolor": "white",
           "linecolor": "white",
           "ticks": "",
           "title": {
            "standoff": 15
           },
           "zerolinecolor": "white",
           "zerolinewidth": 2
          }
         }
        },
        "title": {
         "text": "Price ~ Category_code"
        },
        "xaxis": {
         "anchor": "y",
         "domain": [
          0,
          1
         ],
         "title": {
          "text": "category_code"
         }
        },
        "yaxis": {
         "anchor": "x",
         "domain": [
          0,
          1
         ],
         "title": {
          "text": "price"
         }
        }
       }
      }
     },
     "metadata": {}
    }
   ],
   "source": [
    "px.box(sdf_raw.toPandas(), x=\"category_code\", y=\"price\", title=\"Price ~ Category_code\")"
   ]
  },
  {
   "cell_type": "code",
   "execution_count": 52,
   "metadata": {},
   "outputs": [
    {
     "output_type": "display_data",
     "data": {
      "application/vnd.plotly.v1+json": {
       "config": {
        "plotlyServerURL": "https://plot.ly"
       },
       "data": [
        {
         "alignmentgroup": "True",
         "hovertemplate": "category_id=%{x}<br>price=%{y}<extra></extra>",
         "legendgroup": "",
         "marker": {
          "color": "#636efa"
         },
         "name": "",
         "notched": false,
         "offsetgroup": "",
         "orientation": "v",
         "showlegend": false,
         "type": "box",
         "x": [
          "2053013555631882655",
          "2053013566100866035",
          "2053013553853497655",
          "2053013563810775923",
          "2053013555631882655",
          "2053013558920217191",
          "2053013558920217191",
          "2053013558190408249",
          "2053013553559896355",
          "2053013555631882655",
          "2053013559792632471",
          "2053013563911439225",
          "2053013559901684381",
          "2060981320581906480",
          "2053013563944993659",
          "2053013562183385881",
          "2053013563391345499",
          "2053013553375346967",
          "2053013555631882655",
          "2053013558920217191",
          "2053013553559896355",
          "2053013555631882655",
          "2053013562837697343",
          "2053013559792632471",
          "2053013553853497655",
          "2053013562837697343",
          "2053013558752445019",
          "2053013555631882655",
          "2053013558920217191",
          "2053013558920217191",
          "2090228413959766319",
          "2053013559901684381",
          "2053013556110033341",
          "2053013556168753601",
          "2053013554994348409",
          "2137704922018218396",
          "2053013553484398879",
          "2053013554658804075",
          "2053013565983425517",
          "2053013555631882655",
          "2053013555631882655",
          "2079713978300236035",
          "2053013560555995845",
          "2053013552326770905",
          "2053013563944993659",
          "2053013561218695907",
          "2053013557955527211",
          "2053013560530830019",
          "2053013563651392361",
          "2053013555631882655",
          "2053013561579406073",
          "2053013554415534427",
          "2146660887346282824",
          "2100825583029060150",
          "2053013555631882655",
          "2053013559901684381",
          "2053013561277416167",
          "2053013563391345499",
          "2053013559675191951",
          "2053013553887052089",
          "2053013556168753601",
          "2053013563215184719",
          "2053013558920217191",
          "2055156924315337497",
          "2152167773222993940",
          "2053013555631882655",
          "2053013553559896355",
          "2053013558223962683",
          "2053013556311359947",
          "2053013555631882655",
          "2053013553115300101",
          "2134905044833666047",
          "2053013553559896355",
          "2053013556168753601",
          "2053013559901684381",
          "2053013554155487563",
          "2053013553526341921",
          "2053013553056579841",
          "2053013553853497655",
          "2053013555631882655",
          "2053013553484398879",
          "2053013553559896355",
          "2053013554658804075",
          "2053013553853497655",
          "2053013555631882655",
          "2053013559868129947",
          "2053013553970938175",
          "2053013558920217191",
          "2053013555631882655",
          "2085718636156158307",
          "2055156924407612189",
          "2053013563911439225",
          "2100825583029060150",
          "2053013554658804075",
          "2059484601444729123",
          "2053013555631882655",
          "2053013555631882655",
          "2053013561579406073",
          "2053013563911439225",
          "2053013554994348409",
          "2053013554247762257",
          "2053013555631882655",
          "2053013563215184719",
          "2053013558920217191",
          "2053013560555995845",
          "2053013555631882655",
          "2053013558920217191",
          "2053013557192163841",
          "2090228413959766319",
          "2053013555631882655",
          "2053013555631882655",
          "2053013553559896355",
          "2053013553853497655",
          "2053013557955527211",
          "2053013563911439225",
          "2053013553375346967",
          "2053013553853497655",
          "2100825583029060150",
          "2053013553970938175",
          "2053013556311359947",
          "2053013558920217191",
          "2053013555631882655",
          "2053013557477376525",
          "2053013561218695907",
          "2137704922018218396",
          "2053013555464110485",
          "2053013556168753601",
          "2053013555631882655",
          "2053013555631882655",
          "2053013553945772349",
          "2053013557024391671",
          "2053013555631882655",
          "2053013557024391671",
          "2053013558920217191",
          "2053013561579406073",
          "2053013563215184719",
          "2070747671722722162",
          "2053013558920217191",
          "2053013556168753601",
          "2053013563651392361",
          "2053013560144954031",
          "2053013558920217191",
          "2053013553559896355",
          "2134905044833666047",
          "2053013555631882655",
          "2127425436764865054",
          "2053013555631882655",
          "2053013556168753601",
          "2053013555631882655",
          "2053013553559896355",
          "2079713978300236035",
          "2053013558895051365",
          "2053013566100866035",
          "2053013554658804075",
          "2053013553056579841",
          "2053013553853497655",
          "2053013555631882655",
          "2053013563944993659",
          "2053013555631882655",
          "2053013555631882655",
          "2053013563944993659",
          "2090228413959766319",
          "2053013558920217191",
          "2053013553970938175",
          "2144916515806248980",
          "2053013555631882655",
          "2085718636156158307",
          "2053013553526341921",
          "2053013555631882655",
          "2053013553341792533",
          "2053013559901684381",
          "2059484601444729123",
          "2053013558920217191",
          "2053013563911439225",
          "2053013555631882655",
          "2053013563215184719",
          "2053013553970938175",
          "2053013558433677895",
          "2053013563693335403",
          "2053013553559896355",
          "2053013559901684381",
          "2053013553945772349",
          "2053013557192163841",
          "2053013553853497655",
          "2116907524572577889",
          "2053013553559896355",
          "2053013555631882655",
          "2053013556311359947",
          "2053013555631882655",
          "2053013556311359947",
          "2098563450757186313",
          "2062461754293617058",
          "2053013558920217191",
          "2053013553559896355",
          "2053013561579406073",
          "2053013563651392361",
          "2053013557192163841",
          "2173216765583032544",
          "2127425434894205468",
          "2053013561579406073",
          "2053013553853497655",
          "2053013553970938175",
          "2053013555631882655",
          "2053013558920217191",
          "2053013557024391671",
          "2053013561579406073",
          "2053013553341792533",
          "2053013553945772349",
          "2053013554658804075",
          "2053013558920217191",
          "2053013553945772349",
          "2053013563651392361",
          "2090228413959766319",
          "2060981320581906480",
          "2053013553559896355",
          "2053013559733912211",
          "2053013555631882655"
         ],
         "x0": " ",
         "xaxis": "x",
         "y": [
          489.07,
          293.65,
          28.31,
          712.87,
          183.27,
          360.09,
          514.56,
          30.86,
          72.72,
          732.07,
          437.33,
          155.11,
          31.64,
          20.54,
          411.83,
          1.09,
          8.55,
          22.68,
          164.84,
          411.59,
          88.81,
          151.99,
          7.07,
          591.78,
          55.33,
          11.79,
          7.59,
          949.47,
          514.79,
          360.34,
          38.07,
          47.77,
          23.4,
          23.14,
          61.1,
          127.42,
          54.06,
          69.24,
          108.09,
          458.28,
          503.09,
          119.69,
          437.29,
          32.66,
          684.44,
          511.13,
          15.62,
          386.08,
          248.66,
          211.92,
          895.78,
          289.33,
          8.73,
          40.16,
          928.18,
          47.77,
          66.9,
          8.55,
          134.37,
          51.48,
          83.91,
          28.19,
          385.85,
          733.61,
          105.54,
          128.42,
          50.19,
          43.73,
          98.51,
          84.65,
          5.77,
          157.28,
          252.77,
          20.77,
          34.75,
          287.83,
          91.12,
          151.14,
          61.75,
          1091.33,
          46.16,
          72.72,
          22.8,
          171.17,
          257.38,
          51.46,
          221.37,
          849.42,
          242.63,
          40.93,
          48.43,
          499.94,
          50.45,
          51.22,
          900.92,
          463.15,
          928.38,
          861.28,
          166.23,
          64.33,
          170.63,
          1013.86,
          28.19,
          411.59,
          280.05,
          1173.6,
          390.98,
          566.3,
          50.43,
          1091.33,
          946.73,
          58.17,
          61.75,
          17.49,
          314.08,
          47.62,
          47.32,
          46.08,
          180.18,
          226.83,
          514.79,
          489.07,
          70.27,
          511.13,
          751.63,
          136.4,
          182.76,
          172.22,
          172.23,
          41.19,
          257.15,
          398.72,
          378.36,
          2342.15,
          861.28,
          28.19,
          114.03,
          406.68,
          25.48,
          49.68,
          76.45,
          1209.55,
          72.72,
          113.93,
          928.38,
          254.78,
          334.37,
          244.28,
          242.63,
          70.53,
          118.41,
          7.34,
          293.65,
          22.8,
          203.84,
          77.22,
          125.61,
          684.44,
          128.42,
          1013.86,
          298.16,
          84.69,
          2312.8,
          229.09,
          48.35,
          167.02,
          40.93,
          177.1,
          211.92,
          2239.44,
          36.78,
          900.92,
          2496.59,
          128.68,
          195.37,
          10.17,
          221.37,
          207.21,
          277.23,
          32.18,
          36.78,
          58.69,
          566.3,
          69.5,
          65.38,
          30.43,
          218.51,
          150.95,
          127.33,
          46.82,
          29.86,
          65.64,
          411.34,
          72.59,
          165.26,
          97.34,
          566.3,
          102.71,
          24.71,
          293.44,
          397.54,
          221.37,
          183.27,
          432.42,
          1335.43,
          380.96,
          552.14,
          38.61,
          67.84,
          2311.49,
          133.83,
          224.46,
          72.07,
          20.57,
          51.22,
          257.15,
          732.07
         ],
         "y0": " ",
         "yaxis": "y"
        }
       ],
       "layout": {
        "boxmode": "group",
        "legend": {
         "tracegroupgap": 0
        },
        "template": {
         "data": {
          "bar": [
           {
            "error_x": {
             "color": "#2a3f5f"
            },
            "error_y": {
             "color": "#2a3f5f"
            },
            "marker": {
             "line": {
              "color": "#E5ECF6",
              "width": 0.5
             }
            },
            "type": "bar"
           }
          ],
          "barpolar": [
           {
            "marker": {
             "line": {
              "color": "#E5ECF6",
              "width": 0.5
             }
            },
            "type": "barpolar"
           }
          ],
          "carpet": [
           {
            "aaxis": {
             "endlinecolor": "#2a3f5f",
             "gridcolor": "white",
             "linecolor": "white",
             "minorgridcolor": "white",
             "startlinecolor": "#2a3f5f"
            },
            "baxis": {
             "endlinecolor": "#2a3f5f",
             "gridcolor": "white",
             "linecolor": "white",
             "minorgridcolor": "white",
             "startlinecolor": "#2a3f5f"
            },
            "type": "carpet"
           }
          ],
          "choropleth": [
           {
            "colorbar": {
             "outlinewidth": 0,
             "ticks": ""
            },
            "type": "choropleth"
           }
          ],
          "contour": [
           {
            "colorbar": {
             "outlinewidth": 0,
             "ticks": ""
            },
            "colorscale": [
             [
              0,
              "#0d0887"
             ],
             [
              0.1111111111111111,
              "#46039f"
             ],
             [
              0.2222222222222222,
              "#7201a8"
             ],
             [
              0.3333333333333333,
              "#9c179e"
             ],
             [
              0.4444444444444444,
              "#bd3786"
             ],
             [
              0.5555555555555556,
              "#d8576b"
             ],
             [
              0.6666666666666666,
              "#ed7953"
             ],
             [
              0.7777777777777778,
              "#fb9f3a"
             ],
             [
              0.8888888888888888,
              "#fdca26"
             ],
             [
              1,
              "#f0f921"
             ]
            ],
            "type": "contour"
           }
          ],
          "contourcarpet": [
           {
            "colorbar": {
             "outlinewidth": 0,
             "ticks": ""
            },
            "type": "contourcarpet"
           }
          ],
          "heatmap": [
           {
            "colorbar": {
             "outlinewidth": 0,
             "ticks": ""
            },
            "colorscale": [
             [
              0,
              "#0d0887"
             ],
             [
              0.1111111111111111,
              "#46039f"
             ],
             [
              0.2222222222222222,
              "#7201a8"
             ],
             [
              0.3333333333333333,
              "#9c179e"
             ],
             [
              0.4444444444444444,
              "#bd3786"
             ],
             [
              0.5555555555555556,
              "#d8576b"
             ],
             [
              0.6666666666666666,
              "#ed7953"
             ],
             [
              0.7777777777777778,
              "#fb9f3a"
             ],
             [
              0.8888888888888888,
              "#fdca26"
             ],
             [
              1,
              "#f0f921"
             ]
            ],
            "type": "heatmap"
           }
          ],
          "heatmapgl": [
           {
            "colorbar": {
             "outlinewidth": 0,
             "ticks": ""
            },
            "colorscale": [
             [
              0,
              "#0d0887"
             ],
             [
              0.1111111111111111,
              "#46039f"
             ],
             [
              0.2222222222222222,
              "#7201a8"
             ],
             [
              0.3333333333333333,
              "#9c179e"
             ],
             [
              0.4444444444444444,
              "#bd3786"
             ],
             [
              0.5555555555555556,
              "#d8576b"
             ],
             [
              0.6666666666666666,
              "#ed7953"
             ],
             [
              0.7777777777777778,
              "#fb9f3a"
             ],
             [
              0.8888888888888888,
              "#fdca26"
             ],
             [
              1,
              "#f0f921"
             ]
            ],
            "type": "heatmapgl"
           }
          ],
          "histogram": [
           {
            "marker": {
             "colorbar": {
              "outlinewidth": 0,
              "ticks": ""
             }
            },
            "type": "histogram"
           }
          ],
          "histogram2d": [
           {
            "colorbar": {
             "outlinewidth": 0,
             "ticks": ""
            },
            "colorscale": [
             [
              0,
              "#0d0887"
             ],
             [
              0.1111111111111111,
              "#46039f"
             ],
             [
              0.2222222222222222,
              "#7201a8"
             ],
             [
              0.3333333333333333,
              "#9c179e"
             ],
             [
              0.4444444444444444,
              "#bd3786"
             ],
             [
              0.5555555555555556,
              "#d8576b"
             ],
             [
              0.6666666666666666,
              "#ed7953"
             ],
             [
              0.7777777777777778,
              "#fb9f3a"
             ],
             [
              0.8888888888888888,
              "#fdca26"
             ],
             [
              1,
              "#f0f921"
             ]
            ],
            "type": "histogram2d"
           }
          ],
          "histogram2dcontour": [
           {
            "colorbar": {
             "outlinewidth": 0,
             "ticks": ""
            },
            "colorscale": [
             [
              0,
              "#0d0887"
             ],
             [
              0.1111111111111111,
              "#46039f"
             ],
             [
              0.2222222222222222,
              "#7201a8"
             ],
             [
              0.3333333333333333,
              "#9c179e"
             ],
             [
              0.4444444444444444,
              "#bd3786"
             ],
             [
              0.5555555555555556,
              "#d8576b"
             ],
             [
              0.6666666666666666,
              "#ed7953"
             ],
             [
              0.7777777777777778,
              "#fb9f3a"
             ],
             [
              0.8888888888888888,
              "#fdca26"
             ],
             [
              1,
              "#f0f921"
             ]
            ],
            "type": "histogram2dcontour"
           }
          ],
          "mesh3d": [
           {
            "colorbar": {
             "outlinewidth": 0,
             "ticks": ""
            },
            "type": "mesh3d"
           }
          ],
          "parcoords": [
           {
            "line": {
             "colorbar": {
              "outlinewidth": 0,
              "ticks": ""
             }
            },
            "type": "parcoords"
           }
          ],
          "pie": [
           {
            "automargin": true,
            "type": "pie"
           }
          ],
          "scatter": [
           {
            "marker": {
             "colorbar": {
              "outlinewidth": 0,
              "ticks": ""
             }
            },
            "type": "scatter"
           }
          ],
          "scatter3d": [
           {
            "line": {
             "colorbar": {
              "outlinewidth": 0,
              "ticks": ""
             }
            },
            "marker": {
             "colorbar": {
              "outlinewidth": 0,
              "ticks": ""
             }
            },
            "type": "scatter3d"
           }
          ],
          "scattercarpet": [
           {
            "marker": {
             "colorbar": {
              "outlinewidth": 0,
              "ticks": ""
             }
            },
            "type": "scattercarpet"
           }
          ],
          "scattergeo": [
           {
            "marker": {
             "colorbar": {
              "outlinewidth": 0,
              "ticks": ""
             }
            },
            "type": "scattergeo"
           }
          ],
          "scattergl": [
           {
            "marker": {
             "colorbar": {
              "outlinewidth": 0,
              "ticks": ""
             }
            },
            "type": "scattergl"
           }
          ],
          "scattermapbox": [
           {
            "marker": {
             "colorbar": {
              "outlinewidth": 0,
              "ticks": ""
             }
            },
            "type": "scattermapbox"
           }
          ],
          "scatterpolar": [
           {
            "marker": {
             "colorbar": {
              "outlinewidth": 0,
              "ticks": ""
             }
            },
            "type": "scatterpolar"
           }
          ],
          "scatterpolargl": [
           {
            "marker": {
             "colorbar": {
              "outlinewidth": 0,
              "ticks": ""
             }
            },
            "type": "scatterpolargl"
           }
          ],
          "scatterternary": [
           {
            "marker": {
             "colorbar": {
              "outlinewidth": 0,
              "ticks": ""
             }
            },
            "type": "scatterternary"
           }
          ],
          "surface": [
           {
            "colorbar": {
             "outlinewidth": 0,
             "ticks": ""
            },
            "colorscale": [
             [
              0,
              "#0d0887"
             ],
             [
              0.1111111111111111,
              "#46039f"
             ],
             [
              0.2222222222222222,
              "#7201a8"
             ],
             [
              0.3333333333333333,
              "#9c179e"
             ],
             [
              0.4444444444444444,
              "#bd3786"
             ],
             [
              0.5555555555555556,
              "#d8576b"
             ],
             [
              0.6666666666666666,
              "#ed7953"
             ],
             [
              0.7777777777777778,
              "#fb9f3a"
             ],
             [
              0.8888888888888888,
              "#fdca26"
             ],
             [
              1,
              "#f0f921"
             ]
            ],
            "type": "surface"
           }
          ],
          "table": [
           {
            "cells": {
             "fill": {
              "color": "#EBF0F8"
             },
             "line": {
              "color": "white"
             }
            },
            "header": {
             "fill": {
              "color": "#C8D4E3"
             },
             "line": {
              "color": "white"
             }
            },
            "type": "table"
           }
          ]
         },
         "layout": {
          "annotationdefaults": {
           "arrowcolor": "#2a3f5f",
           "arrowhead": 0,
           "arrowwidth": 1
          },
          "autotypenumbers": "strict",
          "coloraxis": {
           "colorbar": {
            "outlinewidth": 0,
            "ticks": ""
           }
          },
          "colorscale": {
           "diverging": [
            [
             0,
             "#8e0152"
            ],
            [
             0.1,
             "#c51b7d"
            ],
            [
             0.2,
             "#de77ae"
            ],
            [
             0.3,
             "#f1b6da"
            ],
            [
             0.4,
             "#fde0ef"
            ],
            [
             0.5,
             "#f7f7f7"
            ],
            [
             0.6,
             "#e6f5d0"
            ],
            [
             0.7,
             "#b8e186"
            ],
            [
             0.8,
             "#7fbc41"
            ],
            [
             0.9,
             "#4d9221"
            ],
            [
             1,
             "#276419"
            ]
           ],
           "sequential": [
            [
             0,
             "#0d0887"
            ],
            [
             0.1111111111111111,
             "#46039f"
            ],
            [
             0.2222222222222222,
             "#7201a8"
            ],
            [
             0.3333333333333333,
             "#9c179e"
            ],
            [
             0.4444444444444444,
             "#bd3786"
            ],
            [
             0.5555555555555556,
             "#d8576b"
            ],
            [
             0.6666666666666666,
             "#ed7953"
            ],
            [
             0.7777777777777778,
             "#fb9f3a"
            ],
            [
             0.8888888888888888,
             "#fdca26"
            ],
            [
             1,
             "#f0f921"
            ]
           ],
           "sequentialminus": [
            [
             0,
             "#0d0887"
            ],
            [
             0.1111111111111111,
             "#46039f"
            ],
            [
             0.2222222222222222,
             "#7201a8"
            ],
            [
             0.3333333333333333,
             "#9c179e"
            ],
            [
             0.4444444444444444,
             "#bd3786"
            ],
            [
             0.5555555555555556,
             "#d8576b"
            ],
            [
             0.6666666666666666,
             "#ed7953"
            ],
            [
             0.7777777777777778,
             "#fb9f3a"
            ],
            [
             0.8888888888888888,
             "#fdca26"
            ],
            [
             1,
             "#f0f921"
            ]
           ]
          },
          "colorway": [
           "#636efa",
           "#EF553B",
           "#00cc96",
           "#ab63fa",
           "#FFA15A",
           "#19d3f3",
           "#FF6692",
           "#B6E880",
           "#FF97FF",
           "#FECB52"
          ],
          "font": {
           "color": "#2a3f5f"
          },
          "geo": {
           "bgcolor": "white",
           "lakecolor": "white",
           "landcolor": "#E5ECF6",
           "showlakes": true,
           "showland": true,
           "subunitcolor": "white"
          },
          "hoverlabel": {
           "align": "left"
          },
          "hovermode": "closest",
          "mapbox": {
           "style": "light"
          },
          "paper_bgcolor": "white",
          "plot_bgcolor": "#E5ECF6",
          "polar": {
           "angularaxis": {
            "gridcolor": "white",
            "linecolor": "white",
            "ticks": ""
           },
           "bgcolor": "#E5ECF6",
           "radialaxis": {
            "gridcolor": "white",
            "linecolor": "white",
            "ticks": ""
           }
          },
          "scene": {
           "xaxis": {
            "backgroundcolor": "#E5ECF6",
            "gridcolor": "white",
            "gridwidth": 2,
            "linecolor": "white",
            "showbackground": true,
            "ticks": "",
            "zerolinecolor": "white"
           },
           "yaxis": {
            "backgroundcolor": "#E5ECF6",
            "gridcolor": "white",
            "gridwidth": 2,
            "linecolor": "white",
            "showbackground": true,
            "ticks": "",
            "zerolinecolor": "white"
           },
           "zaxis": {
            "backgroundcolor": "#E5ECF6",
            "gridcolor": "white",
            "gridwidth": 2,
            "linecolor": "white",
            "showbackground": true,
            "ticks": "",
            "zerolinecolor": "white"
           }
          },
          "shapedefaults": {
           "line": {
            "color": "#2a3f5f"
           }
          },
          "ternary": {
           "aaxis": {
            "gridcolor": "white",
            "linecolor": "white",
            "ticks": ""
           },
           "baxis": {
            "gridcolor": "white",
            "linecolor": "white",
            "ticks": ""
           },
           "bgcolor": "#E5ECF6",
           "caxis": {
            "gridcolor": "white",
            "linecolor": "white",
            "ticks": ""
           }
          },
          "title": {
           "x": 0.05
          },
          "xaxis": {
           "automargin": true,
           "gridcolor": "white",
           "linecolor": "white",
           "ticks": "",
           "title": {
            "standoff": 15
           },
           "zerolinecolor": "white",
           "zerolinewidth": 2
          },
          "yaxis": {
           "automargin": true,
           "gridcolor": "white",
           "linecolor": "white",
           "ticks": "",
           "title": {
            "standoff": 15
           },
           "zerolinecolor": "white",
           "zerolinewidth": 2
          }
         }
        },
        "title": {
         "text": "Price ~ Category_id"
        },
        "xaxis": {
         "anchor": "y",
         "domain": [
          0,
          1
         ],
         "title": {
          "text": "category_id"
         }
        },
        "yaxis": {
         "anchor": "x",
         "domain": [
          0,
          1
         ],
         "title": {
          "text": "price"
         }
        }
       }
      }
     },
     "metadata": {}
    }
   ],
   "source": [
    "px.box(sdf_raw.toPandas(), x=\"category_id\", y=\"price\", title=\"Price ~ Category_id\")"
   ]
  },
  {
   "cell_type": "code",
   "execution_count": 53,
   "metadata": {},
   "outputs": [
    {
     "output_type": "display_data",
     "data": {
      "application/vnd.plotly.v1+json": {
       "config": {
        "plotlyServerURL": "https://plot.ly"
       },
       "data": [
        {
         "alignmentgroup": "True",
         "hovertemplate": "brand=%{x}<br>price=%{y}<extra></extra>",
         "legendgroup": "",
         "marker": {
          "color": "#636efa"
         },
         "name": "",
         "notched": false,
         "offsetgroup": "",
         "orientation": "v",
         "showlegend": false,
         "type": "box",
         "x": [
          "xiaomi",
          "janome",
          "creed",
          "lg",
          "xiaomi",
          "hp",
          "hp",
          "rondell",
          "michelin",
          "apple",
          "not defined",
          "not defined",
          "not defined",
          "not defined",
          "samsung",
          "not defined",
          "not defined",
          "xiaomi",
          "huawei",
          "hp",
          "yokohama",
          "huawei",
          "not defined",
          "not defined",
          "trussardi",
          "not defined",
          "eveline",
          "apple",
          "acer",
          "asus",
          "not defined",
          "nika",
          "not defined",
          "matrix",
          "redmond",
          "tomfarr",
          "hyper",
          "acme",
          "tefal",
          "apple",
          "samsung",
          "not defined",
          "canon",
          "oasis",
          "bosch",
          "sony",
          "rezult",
          "not defined",
          "lucente",
          "xiaomi",
          "tissot",
          "samsung",
          "goodloot",
          "not defined",
          "apple",
          "nika",
          "not defined",
          "not defined",
          "brw",
          "sulu",
          "force",
          "kirkland",
          "lenovo",
          "humminbird",
          "merelani",
          "samsung",
          "roadx",
          "rondell",
          "dewalt",
          "xiaomi",
          "welly",
          "denzel",
          "nokian",
          "bosch",
          "mamadoma",
          "asus",
          "arrivo",
          "canon",
          "trussardi",
          "apple",
          "t-rex",
          "michelin",
          "xiaomi",
          "chanel",
          "oppo",
          "not defined",
          "ams",
          "asus",
          "samsung",
          "not defined",
          "fisherman",
          "samsung",
          "not defined",
          "acme",
          "peda",
          "xiaomi",
          "apple",
          "tissot",
          "not defined",
          "redmond",
          "palit",
          "apple",
          "kirkland",
          "hp",
          "canon",
          "apple",
          "hp",
          "not defined",
          "not defined",
          "apple",
          "huawei",
          "aoteli",
          "trussardi",
          "tarkett",
          "indesit",
          "honor",
          "not defined",
          "not defined",
          "not defined",
          "dewalt",
          "lenovo",
          "xiaomi",
          "not defined",
          "sony",
          "harley-davidson",
          "not defined",
          "stels",
          "samsung",
          "samsung",
          "avatar",
          "not defined",
          "xiaomi",
          "lider",
          "apple",
          "tissot",
          "kirkland",
          "not defined",
          "hp",
          "kolner",
          "lucente",
          "denzel",
          "acer",
          "michelin",
          "laston",
          "apple",
          "magnetta",
          "huawei",
          "force",
          "samsung",
          "yokohama",
          "not defined",
          "evelinecosmetics",
          "janome",
          "xiaomi",
          "epson",
          "givenchy",
          "huawei",
          "bosch",
          "samsung",
          "apple",
          "beko",
          "brw",
          "acer",
          "pioneer",
          "dwt",
          "xiaomi",
          "not defined",
          "skad",
          "xiaomi",
          "garmin",
          "not defined",
          "peda",
          "apple",
          "arg",
          "xiaomi",
          "kirkland",
          "ams",
          "brw",
          "not defined",
          "cordiant",
          "not defined",
          "pioneer",
          "not defined",
          "montale",
          "pablosky",
          "not defined",
          "xiaomi",
          "dewalt",
          "huawei",
          "not defined",
          "stanley",
          "carfashion",
          "hp",
          "not defined",
          "casio",
          "sokolov",
          "not defined",
          "jordan",
          "fubag",
          "armani",
          "not defined",
          "ams",
          "xiaomi",
          "hp",
          "not defined",
          "tissot",
          "apple",
          "alphard",
          "hp",
          "apple",
          "element",
          "lucente",
          "brw",
          "hycell",
          "cordiant",
          "sv",
          "apple"
         ],
         "x0": " ",
         "xaxis": "x",
         "y": [
          489.07,
          293.65,
          28.31,
          712.87,
          183.27,
          360.09,
          514.56,
          30.86,
          72.72,
          732.07,
          437.33,
          155.11,
          31.64,
          20.54,
          411.83,
          1.09,
          8.55,
          22.68,
          164.84,
          411.59,
          88.81,
          151.99,
          7.07,
          591.78,
          55.33,
          11.79,
          7.59,
          949.47,
          514.79,
          360.34,
          38.07,
          47.77,
          23.4,
          23.14,
          61.1,
          127.42,
          54.06,
          69.24,
          108.09,
          458.28,
          503.09,
          119.69,
          437.29,
          32.66,
          684.44,
          511.13,
          15.62,
          386.08,
          248.66,
          211.92,
          895.78,
          289.33,
          8.73,
          40.16,
          928.18,
          47.77,
          66.9,
          8.55,
          134.37,
          51.48,
          83.91,
          28.19,
          385.85,
          733.61,
          105.54,
          128.42,
          50.19,
          43.73,
          98.51,
          84.65,
          5.77,
          157.28,
          252.77,
          20.77,
          34.75,
          287.83,
          91.12,
          151.14,
          61.75,
          1091.33,
          46.16,
          72.72,
          22.8,
          171.17,
          257.38,
          51.46,
          221.37,
          849.42,
          242.63,
          40.93,
          48.43,
          499.94,
          50.45,
          51.22,
          900.92,
          463.15,
          928.38,
          861.28,
          166.23,
          64.33,
          170.63,
          1013.86,
          28.19,
          411.59,
          280.05,
          1173.6,
          390.98,
          566.3,
          50.43,
          1091.33,
          946.73,
          58.17,
          61.75,
          17.49,
          314.08,
          47.62,
          47.32,
          46.08,
          180.18,
          226.83,
          514.79,
          489.07,
          70.27,
          511.13,
          751.63,
          136.4,
          182.76,
          172.22,
          172.23,
          41.19,
          257.15,
          398.72,
          378.36,
          2342.15,
          861.28,
          28.19,
          114.03,
          406.68,
          25.48,
          49.68,
          76.45,
          1209.55,
          72.72,
          113.93,
          928.38,
          254.78,
          334.37,
          244.28,
          242.63,
          70.53,
          118.41,
          7.34,
          293.65,
          22.8,
          203.84,
          77.22,
          125.61,
          684.44,
          128.42,
          1013.86,
          298.16,
          84.69,
          2312.8,
          229.09,
          48.35,
          167.02,
          40.93,
          177.1,
          211.92,
          2239.44,
          36.78,
          900.92,
          2496.59,
          128.68,
          195.37,
          10.17,
          221.37,
          207.21,
          277.23,
          32.18,
          36.78,
          58.69,
          566.3,
          69.5,
          65.38,
          30.43,
          218.51,
          150.95,
          127.33,
          46.82,
          29.86,
          65.64,
          411.34,
          72.59,
          165.26,
          97.34,
          566.3,
          102.71,
          24.71,
          293.44,
          397.54,
          221.37,
          183.27,
          432.42,
          1335.43,
          380.96,
          552.14,
          38.61,
          67.84,
          2311.49,
          133.83,
          224.46,
          72.07,
          20.57,
          51.22,
          257.15,
          732.07
         ],
         "y0": " ",
         "yaxis": "y"
        }
       ],
       "layout": {
        "boxmode": "group",
        "legend": {
         "tracegroupgap": 0
        },
        "template": {
         "data": {
          "bar": [
           {
            "error_x": {
             "color": "#2a3f5f"
            },
            "error_y": {
             "color": "#2a3f5f"
            },
            "marker": {
             "line": {
              "color": "#E5ECF6",
              "width": 0.5
             }
            },
            "type": "bar"
           }
          ],
          "barpolar": [
           {
            "marker": {
             "line": {
              "color": "#E5ECF6",
              "width": 0.5
             }
            },
            "type": "barpolar"
           }
          ],
          "carpet": [
           {
            "aaxis": {
             "endlinecolor": "#2a3f5f",
             "gridcolor": "white",
             "linecolor": "white",
             "minorgridcolor": "white",
             "startlinecolor": "#2a3f5f"
            },
            "baxis": {
             "endlinecolor": "#2a3f5f",
             "gridcolor": "white",
             "linecolor": "white",
             "minorgridcolor": "white",
             "startlinecolor": "#2a3f5f"
            },
            "type": "carpet"
           }
          ],
          "choropleth": [
           {
            "colorbar": {
             "outlinewidth": 0,
             "ticks": ""
            },
            "type": "choropleth"
           }
          ],
          "contour": [
           {
            "colorbar": {
             "outlinewidth": 0,
             "ticks": ""
            },
            "colorscale": [
             [
              0,
              "#0d0887"
             ],
             [
              0.1111111111111111,
              "#46039f"
             ],
             [
              0.2222222222222222,
              "#7201a8"
             ],
             [
              0.3333333333333333,
              "#9c179e"
             ],
             [
              0.4444444444444444,
              "#bd3786"
             ],
             [
              0.5555555555555556,
              "#d8576b"
             ],
             [
              0.6666666666666666,
              "#ed7953"
             ],
             [
              0.7777777777777778,
              "#fb9f3a"
             ],
             [
              0.8888888888888888,
              "#fdca26"
             ],
             [
              1,
              "#f0f921"
             ]
            ],
            "type": "contour"
           }
          ],
          "contourcarpet": [
           {
            "colorbar": {
             "outlinewidth": 0,
             "ticks": ""
            },
            "type": "contourcarpet"
           }
          ],
          "heatmap": [
           {
            "colorbar": {
             "outlinewidth": 0,
             "ticks": ""
            },
            "colorscale": [
             [
              0,
              "#0d0887"
             ],
             [
              0.1111111111111111,
              "#46039f"
             ],
             [
              0.2222222222222222,
              "#7201a8"
             ],
             [
              0.3333333333333333,
              "#9c179e"
             ],
             [
              0.4444444444444444,
              "#bd3786"
             ],
             [
              0.5555555555555556,
              "#d8576b"
             ],
             [
              0.6666666666666666,
              "#ed7953"
             ],
             [
              0.7777777777777778,
              "#fb9f3a"
             ],
             [
              0.8888888888888888,
              "#fdca26"
             ],
             [
              1,
              "#f0f921"
             ]
            ],
            "type": "heatmap"
           }
          ],
          "heatmapgl": [
           {
            "colorbar": {
             "outlinewidth": 0,
             "ticks": ""
            },
            "colorscale": [
             [
              0,
              "#0d0887"
             ],
             [
              0.1111111111111111,
              "#46039f"
             ],
             [
              0.2222222222222222,
              "#7201a8"
             ],
             [
              0.3333333333333333,
              "#9c179e"
             ],
             [
              0.4444444444444444,
              "#bd3786"
             ],
             [
              0.5555555555555556,
              "#d8576b"
             ],
             [
              0.6666666666666666,
              "#ed7953"
             ],
             [
              0.7777777777777778,
              "#fb9f3a"
             ],
             [
              0.8888888888888888,
              "#fdca26"
             ],
             [
              1,
              "#f0f921"
             ]
            ],
            "type": "heatmapgl"
           }
          ],
          "histogram": [
           {
            "marker": {
             "colorbar": {
              "outlinewidth": 0,
              "ticks": ""
             }
            },
            "type": "histogram"
           }
          ],
          "histogram2d": [
           {
            "colorbar": {
             "outlinewidth": 0,
             "ticks": ""
            },
            "colorscale": [
             [
              0,
              "#0d0887"
             ],
             [
              0.1111111111111111,
              "#46039f"
             ],
             [
              0.2222222222222222,
              "#7201a8"
             ],
             [
              0.3333333333333333,
              "#9c179e"
             ],
             [
              0.4444444444444444,
              "#bd3786"
             ],
             [
              0.5555555555555556,
              "#d8576b"
             ],
             [
              0.6666666666666666,
              "#ed7953"
             ],
             [
              0.7777777777777778,
              "#fb9f3a"
             ],
             [
              0.8888888888888888,
              "#fdca26"
             ],
             [
              1,
              "#f0f921"
             ]
            ],
            "type": "histogram2d"
           }
          ],
          "histogram2dcontour": [
           {
            "colorbar": {
             "outlinewidth": 0,
             "ticks": ""
            },
            "colorscale": [
             [
              0,
              "#0d0887"
             ],
             [
              0.1111111111111111,
              "#46039f"
             ],
             [
              0.2222222222222222,
              "#7201a8"
             ],
             [
              0.3333333333333333,
              "#9c179e"
             ],
             [
              0.4444444444444444,
              "#bd3786"
             ],
             [
              0.5555555555555556,
              "#d8576b"
             ],
             [
              0.6666666666666666,
              "#ed7953"
             ],
             [
              0.7777777777777778,
              "#fb9f3a"
             ],
             [
              0.8888888888888888,
              "#fdca26"
             ],
             [
              1,
              "#f0f921"
             ]
            ],
            "type": "histogram2dcontour"
           }
          ],
          "mesh3d": [
           {
            "colorbar": {
             "outlinewidth": 0,
             "ticks": ""
            },
            "type": "mesh3d"
           }
          ],
          "parcoords": [
           {
            "line": {
             "colorbar": {
              "outlinewidth": 0,
              "ticks": ""
             }
            },
            "type": "parcoords"
           }
          ],
          "pie": [
           {
            "automargin": true,
            "type": "pie"
           }
          ],
          "scatter": [
           {
            "marker": {
             "colorbar": {
              "outlinewidth": 0,
              "ticks": ""
             }
            },
            "type": "scatter"
           }
          ],
          "scatter3d": [
           {
            "line": {
             "colorbar": {
              "outlinewidth": 0,
              "ticks": ""
             }
            },
            "marker": {
             "colorbar": {
              "outlinewidth": 0,
              "ticks": ""
             }
            },
            "type": "scatter3d"
           }
          ],
          "scattercarpet": [
           {
            "marker": {
             "colorbar": {
              "outlinewidth": 0,
              "ticks": ""
             }
            },
            "type": "scattercarpet"
           }
          ],
          "scattergeo": [
           {
            "marker": {
             "colorbar": {
              "outlinewidth": 0,
              "ticks": ""
             }
            },
            "type": "scattergeo"
           }
          ],
          "scattergl": [
           {
            "marker": {
             "colorbar": {
              "outlinewidth": 0,
              "ticks": ""
             }
            },
            "type": "scattergl"
           }
          ],
          "scattermapbox": [
           {
            "marker": {
             "colorbar": {
              "outlinewidth": 0,
              "ticks": ""
             }
            },
            "type": "scattermapbox"
           }
          ],
          "scatterpolar": [
           {
            "marker": {
             "colorbar": {
              "outlinewidth": 0,
              "ticks": ""
             }
            },
            "type": "scatterpolar"
           }
          ],
          "scatterpolargl": [
           {
            "marker": {
             "colorbar": {
              "outlinewidth": 0,
              "ticks": ""
             }
            },
            "type": "scatterpolargl"
           }
          ],
          "scatterternary": [
           {
            "marker": {
             "colorbar": {
              "outlinewidth": 0,
              "ticks": ""
             }
            },
            "type": "scatterternary"
           }
          ],
          "surface": [
           {
            "colorbar": {
             "outlinewidth": 0,
             "ticks": ""
            },
            "colorscale": [
             [
              0,
              "#0d0887"
             ],
             [
              0.1111111111111111,
              "#46039f"
             ],
             [
              0.2222222222222222,
              "#7201a8"
             ],
             [
              0.3333333333333333,
              "#9c179e"
             ],
             [
              0.4444444444444444,
              "#bd3786"
             ],
             [
              0.5555555555555556,
              "#d8576b"
             ],
             [
              0.6666666666666666,
              "#ed7953"
             ],
             [
              0.7777777777777778,
              "#fb9f3a"
             ],
             [
              0.8888888888888888,
              "#fdca26"
             ],
             [
              1,
              "#f0f921"
             ]
            ],
            "type": "surface"
           }
          ],
          "table": [
           {
            "cells": {
             "fill": {
              "color": "#EBF0F8"
             },
             "line": {
              "color": "white"
             }
            },
            "header": {
             "fill": {
              "color": "#C8D4E3"
             },
             "line": {
              "color": "white"
             }
            },
            "type": "table"
           }
          ]
         },
         "layout": {
          "annotationdefaults": {
           "arrowcolor": "#2a3f5f",
           "arrowhead": 0,
           "arrowwidth": 1
          },
          "autotypenumbers": "strict",
          "coloraxis": {
           "colorbar": {
            "outlinewidth": 0,
            "ticks": ""
           }
          },
          "colorscale": {
           "diverging": [
            [
             0,
             "#8e0152"
            ],
            [
             0.1,
             "#c51b7d"
            ],
            [
             0.2,
             "#de77ae"
            ],
            [
             0.3,
             "#f1b6da"
            ],
            [
             0.4,
             "#fde0ef"
            ],
            [
             0.5,
             "#f7f7f7"
            ],
            [
             0.6,
             "#e6f5d0"
            ],
            [
             0.7,
             "#b8e186"
            ],
            [
             0.8,
             "#7fbc41"
            ],
            [
             0.9,
             "#4d9221"
            ],
            [
             1,
             "#276419"
            ]
           ],
           "sequential": [
            [
             0,
             "#0d0887"
            ],
            [
             0.1111111111111111,
             "#46039f"
            ],
            [
             0.2222222222222222,
             "#7201a8"
            ],
            [
             0.3333333333333333,
             "#9c179e"
            ],
            [
             0.4444444444444444,
             "#bd3786"
            ],
            [
             0.5555555555555556,
             "#d8576b"
            ],
            [
             0.6666666666666666,
             "#ed7953"
            ],
            [
             0.7777777777777778,
             "#fb9f3a"
            ],
            [
             0.8888888888888888,
             "#fdca26"
            ],
            [
             1,
             "#f0f921"
            ]
           ],
           "sequentialminus": [
            [
             0,
             "#0d0887"
            ],
            [
             0.1111111111111111,
             "#46039f"
            ],
            [
             0.2222222222222222,
             "#7201a8"
            ],
            [
             0.3333333333333333,
             "#9c179e"
            ],
            [
             0.4444444444444444,
             "#bd3786"
            ],
            [
             0.5555555555555556,
             "#d8576b"
            ],
            [
             0.6666666666666666,
             "#ed7953"
            ],
            [
             0.7777777777777778,
             "#fb9f3a"
            ],
            [
             0.8888888888888888,
             "#fdca26"
            ],
            [
             1,
             "#f0f921"
            ]
           ]
          },
          "colorway": [
           "#636efa",
           "#EF553B",
           "#00cc96",
           "#ab63fa",
           "#FFA15A",
           "#19d3f3",
           "#FF6692",
           "#B6E880",
           "#FF97FF",
           "#FECB52"
          ],
          "font": {
           "color": "#2a3f5f"
          },
          "geo": {
           "bgcolor": "white",
           "lakecolor": "white",
           "landcolor": "#E5ECF6",
           "showlakes": true,
           "showland": true,
           "subunitcolor": "white"
          },
          "hoverlabel": {
           "align": "left"
          },
          "hovermode": "closest",
          "mapbox": {
           "style": "light"
          },
          "paper_bgcolor": "white",
          "plot_bgcolor": "#E5ECF6",
          "polar": {
           "angularaxis": {
            "gridcolor": "white",
            "linecolor": "white",
            "ticks": ""
           },
           "bgcolor": "#E5ECF6",
           "radialaxis": {
            "gridcolor": "white",
            "linecolor": "white",
            "ticks": ""
           }
          },
          "scene": {
           "xaxis": {
            "backgroundcolor": "#E5ECF6",
            "gridcolor": "white",
            "gridwidth": 2,
            "linecolor": "white",
            "showbackground": true,
            "ticks": "",
            "zerolinecolor": "white"
           },
           "yaxis": {
            "backgroundcolor": "#E5ECF6",
            "gridcolor": "white",
            "gridwidth": 2,
            "linecolor": "white",
            "showbackground": true,
            "ticks": "",
            "zerolinecolor": "white"
           },
           "zaxis": {
            "backgroundcolor": "#E5ECF6",
            "gridcolor": "white",
            "gridwidth": 2,
            "linecolor": "white",
            "showbackground": true,
            "ticks": "",
            "zerolinecolor": "white"
           }
          },
          "shapedefaults": {
           "line": {
            "color": "#2a3f5f"
           }
          },
          "ternary": {
           "aaxis": {
            "gridcolor": "white",
            "linecolor": "white",
            "ticks": ""
           },
           "baxis": {
            "gridcolor": "white",
            "linecolor": "white",
            "ticks": ""
           },
           "bgcolor": "#E5ECF6",
           "caxis": {
            "gridcolor": "white",
            "linecolor": "white",
            "ticks": ""
           }
          },
          "title": {
           "x": 0.05
          },
          "xaxis": {
           "automargin": true,
           "gridcolor": "white",
           "linecolor": "white",
           "ticks": "",
           "title": {
            "standoff": 15
           },
           "zerolinecolor": "white",
           "zerolinewidth": 2
          },
          "yaxis": {
           "automargin": true,
           "gridcolor": "white",
           "linecolor": "white",
           "ticks": "",
           "title": {
            "standoff": 15
           },
           "zerolinecolor": "white",
           "zerolinewidth": 2
          }
         }
        },
        "title": {
         "text": "Price ~ brand"
        },
        "xaxis": {
         "anchor": "y",
         "domain": [
          0,
          1
         ],
         "title": {
          "text": "brand"
         }
        },
        "yaxis": {
         "anchor": "x",
         "domain": [
          0,
          1
         ],
         "title": {
          "text": "price"
         }
        }
       }
      }
     },
     "metadata": {}
    }
   ],
   "source": [
    "px.box(sdf_raw.toPandas(), x=\"brand\", y=\"price\", title=\"Price ~ brand\")"
   ]
  },
  {
   "cell_type": "code",
   "execution_count": 57,
   "metadata": {},
   "outputs": [
    {
     "output_type": "display_data",
     "data": {
      "application/vnd.plotly.v1+json": {
       "config": {
        "plotlyServerURL": "https://plot.ly"
       },
       "data": [
        {
         "alignmentgroup": "True",
         "hovertemplate": "Product_ID=%{x}<br>Price=%{y}<extra></extra>",
         "legendgroup": "",
         "marker": {
          "color": "#636efa"
         },
         "name": "",
         "offsetgroup": "",
         "orientation": "v",
         "showlegend": false,
         "textposition": "auto",
         "type": "bar",
         "x": [
          "1305977",
          "1307012",
          "1306571",
          "1304315",
          "5100797",
          "15100252",
          "1307519",
          "1004241",
          "1004237",
          "1005116"
         ],
         "xaxis": "x",
         "y": [
          2496.59,
          2342.15,
          2312.8,
          2311.49,
          2239.44,
          1335.43,
          1209.55,
          1173.6,
          1091.33,
          1013.86
         ],
         "yaxis": "y"
        }
       ],
       "layout": {
        "barmode": "relative",
        "legend": {
         "tracegroupgap": 0
        },
        "template": {
         "data": {
          "bar": [
           {
            "error_x": {
             "color": "#2a3f5f"
            },
            "error_y": {
             "color": "#2a3f5f"
            },
            "marker": {
             "line": {
              "color": "#E5ECF6",
              "width": 0.5
             }
            },
            "type": "bar"
           }
          ],
          "barpolar": [
           {
            "marker": {
             "line": {
              "color": "#E5ECF6",
              "width": 0.5
             }
            },
            "type": "barpolar"
           }
          ],
          "carpet": [
           {
            "aaxis": {
             "endlinecolor": "#2a3f5f",
             "gridcolor": "white",
             "linecolor": "white",
             "minorgridcolor": "white",
             "startlinecolor": "#2a3f5f"
            },
            "baxis": {
             "endlinecolor": "#2a3f5f",
             "gridcolor": "white",
             "linecolor": "white",
             "minorgridcolor": "white",
             "startlinecolor": "#2a3f5f"
            },
            "type": "carpet"
           }
          ],
          "choropleth": [
           {
            "colorbar": {
             "outlinewidth": 0,
             "ticks": ""
            },
            "type": "choropleth"
           }
          ],
          "contour": [
           {
            "colorbar": {
             "outlinewidth": 0,
             "ticks": ""
            },
            "colorscale": [
             [
              0,
              "#0d0887"
             ],
             [
              0.1111111111111111,
              "#46039f"
             ],
             [
              0.2222222222222222,
              "#7201a8"
             ],
             [
              0.3333333333333333,
              "#9c179e"
             ],
             [
              0.4444444444444444,
              "#bd3786"
             ],
             [
              0.5555555555555556,
              "#d8576b"
             ],
             [
              0.6666666666666666,
              "#ed7953"
             ],
             [
              0.7777777777777778,
              "#fb9f3a"
             ],
             [
              0.8888888888888888,
              "#fdca26"
             ],
             [
              1,
              "#f0f921"
             ]
            ],
            "type": "contour"
           }
          ],
          "contourcarpet": [
           {
            "colorbar": {
             "outlinewidth": 0,
             "ticks": ""
            },
            "type": "contourcarpet"
           }
          ],
          "heatmap": [
           {
            "colorbar": {
             "outlinewidth": 0,
             "ticks": ""
            },
            "colorscale": [
             [
              0,
              "#0d0887"
             ],
             [
              0.1111111111111111,
              "#46039f"
             ],
             [
              0.2222222222222222,
              "#7201a8"
             ],
             [
              0.3333333333333333,
              "#9c179e"
             ],
             [
              0.4444444444444444,
              "#bd3786"
             ],
             [
              0.5555555555555556,
              "#d8576b"
             ],
             [
              0.6666666666666666,
              "#ed7953"
             ],
             [
              0.7777777777777778,
              "#fb9f3a"
             ],
             [
              0.8888888888888888,
              "#fdca26"
             ],
             [
              1,
              "#f0f921"
             ]
            ],
            "type": "heatmap"
           }
          ],
          "heatmapgl": [
           {
            "colorbar": {
             "outlinewidth": 0,
             "ticks": ""
            },
            "colorscale": [
             [
              0,
              "#0d0887"
             ],
             [
              0.1111111111111111,
              "#46039f"
             ],
             [
              0.2222222222222222,
              "#7201a8"
             ],
             [
              0.3333333333333333,
              "#9c179e"
             ],
             [
              0.4444444444444444,
              "#bd3786"
             ],
             [
              0.5555555555555556,
              "#d8576b"
             ],
             [
              0.6666666666666666,
              "#ed7953"
             ],
             [
              0.7777777777777778,
              "#fb9f3a"
             ],
             [
              0.8888888888888888,
              "#fdca26"
             ],
             [
              1,
              "#f0f921"
             ]
            ],
            "type": "heatmapgl"
           }
          ],
          "histogram": [
           {
            "marker": {
             "colorbar": {
              "outlinewidth": 0,
              "ticks": ""
             }
            },
            "type": "histogram"
           }
          ],
          "histogram2d": [
           {
            "colorbar": {
             "outlinewidth": 0,
             "ticks": ""
            },
            "colorscale": [
             [
              0,
              "#0d0887"
             ],
             [
              0.1111111111111111,
              "#46039f"
             ],
             [
              0.2222222222222222,
              "#7201a8"
             ],
             [
              0.3333333333333333,
              "#9c179e"
             ],
             [
              0.4444444444444444,
              "#bd3786"
             ],
             [
              0.5555555555555556,
              "#d8576b"
             ],
             [
              0.6666666666666666,
              "#ed7953"
             ],
             [
              0.7777777777777778,
              "#fb9f3a"
             ],
             [
              0.8888888888888888,
              "#fdca26"
             ],
             [
              1,
              "#f0f921"
             ]
            ],
            "type": "histogram2d"
           }
          ],
          "histogram2dcontour": [
           {
            "colorbar": {
             "outlinewidth": 0,
             "ticks": ""
            },
            "colorscale": [
             [
              0,
              "#0d0887"
             ],
             [
              0.1111111111111111,
              "#46039f"
             ],
             [
              0.2222222222222222,
              "#7201a8"
             ],
             [
              0.3333333333333333,
              "#9c179e"
             ],
             [
              0.4444444444444444,
              "#bd3786"
             ],
             [
              0.5555555555555556,
              "#d8576b"
             ],
             [
              0.6666666666666666,
              "#ed7953"
             ],
             [
              0.7777777777777778,
              "#fb9f3a"
             ],
             [
              0.8888888888888888,
              "#fdca26"
             ],
             [
              1,
              "#f0f921"
             ]
            ],
            "type": "histogram2dcontour"
           }
          ],
          "mesh3d": [
           {
            "colorbar": {
             "outlinewidth": 0,
             "ticks": ""
            },
            "type": "mesh3d"
           }
          ],
          "parcoords": [
           {
            "line": {
             "colorbar": {
              "outlinewidth": 0,
              "ticks": ""
             }
            },
            "type": "parcoords"
           }
          ],
          "pie": [
           {
            "automargin": true,
            "type": "pie"
           }
          ],
          "scatter": [
           {
            "marker": {
             "colorbar": {
              "outlinewidth": 0,
              "ticks": ""
             }
            },
            "type": "scatter"
           }
          ],
          "scatter3d": [
           {
            "line": {
             "colorbar": {
              "outlinewidth": 0,
              "ticks": ""
             }
            },
            "marker": {
             "colorbar": {
              "outlinewidth": 0,
              "ticks": ""
             }
            },
            "type": "scatter3d"
           }
          ],
          "scattercarpet": [
           {
            "marker": {
             "colorbar": {
              "outlinewidth": 0,
              "ticks": ""
             }
            },
            "type": "scattercarpet"
           }
          ],
          "scattergeo": [
           {
            "marker": {
             "colorbar": {
              "outlinewidth": 0,
              "ticks": ""
             }
            },
            "type": "scattergeo"
           }
          ],
          "scattergl": [
           {
            "marker": {
             "colorbar": {
              "outlinewidth": 0,
              "ticks": ""
             }
            },
            "type": "scattergl"
           }
          ],
          "scattermapbox": [
           {
            "marker": {
             "colorbar": {
              "outlinewidth": 0,
              "ticks": ""
             }
            },
            "type": "scattermapbox"
           }
          ],
          "scatterpolar": [
           {
            "marker": {
             "colorbar": {
              "outlinewidth": 0,
              "ticks": ""
             }
            },
            "type": "scatterpolar"
           }
          ],
          "scatterpolargl": [
           {
            "marker": {
             "colorbar": {
              "outlinewidth": 0,
              "ticks": ""
             }
            },
            "type": "scatterpolargl"
           }
          ],
          "scatterternary": [
           {
            "marker": {
             "colorbar": {
              "outlinewidth": 0,
              "ticks": ""
             }
            },
            "type": "scatterternary"
           }
          ],
          "surface": [
           {
            "colorbar": {
             "outlinewidth": 0,
             "ticks": ""
            },
            "colorscale": [
             [
              0,
              "#0d0887"
             ],
             [
              0.1111111111111111,
              "#46039f"
             ],
             [
              0.2222222222222222,
              "#7201a8"
             ],
             [
              0.3333333333333333,
              "#9c179e"
             ],
             [
              0.4444444444444444,
              "#bd3786"
             ],
             [
              0.5555555555555556,
              "#d8576b"
             ],
             [
              0.6666666666666666,
              "#ed7953"
             ],
             [
              0.7777777777777778,
              "#fb9f3a"
             ],
             [
              0.8888888888888888,
              "#fdca26"
             ],
             [
              1,
              "#f0f921"
             ]
            ],
            "type": "surface"
           }
          ],
          "table": [
           {
            "cells": {
             "fill": {
              "color": "#EBF0F8"
             },
             "line": {
              "color": "white"
             }
            },
            "header": {
             "fill": {
              "color": "#C8D4E3"
             },
             "line": {
              "color": "white"
             }
            },
            "type": "table"
           }
          ]
         },
         "layout": {
          "annotationdefaults": {
           "arrowcolor": "#2a3f5f",
           "arrowhead": 0,
           "arrowwidth": 1
          },
          "autotypenumbers": "strict",
          "coloraxis": {
           "colorbar": {
            "outlinewidth": 0,
            "ticks": ""
           }
          },
          "colorscale": {
           "diverging": [
            [
             0,
             "#8e0152"
            ],
            [
             0.1,
             "#c51b7d"
            ],
            [
             0.2,
             "#de77ae"
            ],
            [
             0.3,
             "#f1b6da"
            ],
            [
             0.4,
             "#fde0ef"
            ],
            [
             0.5,
             "#f7f7f7"
            ],
            [
             0.6,
             "#e6f5d0"
            ],
            [
             0.7,
             "#b8e186"
            ],
            [
             0.8,
             "#7fbc41"
            ],
            [
             0.9,
             "#4d9221"
            ],
            [
             1,
             "#276419"
            ]
           ],
           "sequential": [
            [
             0,
             "#0d0887"
            ],
            [
             0.1111111111111111,
             "#46039f"
            ],
            [
             0.2222222222222222,
             "#7201a8"
            ],
            [
             0.3333333333333333,
             "#9c179e"
            ],
            [
             0.4444444444444444,
             "#bd3786"
            ],
            [
             0.5555555555555556,
             "#d8576b"
            ],
            [
             0.6666666666666666,
             "#ed7953"
            ],
            [
             0.7777777777777778,
             "#fb9f3a"
            ],
            [
             0.8888888888888888,
             "#fdca26"
            ],
            [
             1,
             "#f0f921"
            ]
           ],
           "sequentialminus": [
            [
             0,
             "#0d0887"
            ],
            [
             0.1111111111111111,
             "#46039f"
            ],
            [
             0.2222222222222222,
             "#7201a8"
            ],
            [
             0.3333333333333333,
             "#9c179e"
            ],
            [
             0.4444444444444444,
             "#bd3786"
            ],
            [
             0.5555555555555556,
             "#d8576b"
            ],
            [
             0.6666666666666666,
             "#ed7953"
            ],
            [
             0.7777777777777778,
             "#fb9f3a"
            ],
            [
             0.8888888888888888,
             "#fdca26"
            ],
            [
             1,
             "#f0f921"
            ]
           ]
          },
          "colorway": [
           "#636efa",
           "#EF553B",
           "#00cc96",
           "#ab63fa",
           "#FFA15A",
           "#19d3f3",
           "#FF6692",
           "#B6E880",
           "#FF97FF",
           "#FECB52"
          ],
          "font": {
           "color": "#2a3f5f"
          },
          "geo": {
           "bgcolor": "white",
           "lakecolor": "white",
           "landcolor": "#E5ECF6",
           "showlakes": true,
           "showland": true,
           "subunitcolor": "white"
          },
          "hoverlabel": {
           "align": "left"
          },
          "hovermode": "closest",
          "mapbox": {
           "style": "light"
          },
          "paper_bgcolor": "white",
          "plot_bgcolor": "#E5ECF6",
          "polar": {
           "angularaxis": {
            "gridcolor": "white",
            "linecolor": "white",
            "ticks": ""
           },
           "bgcolor": "#E5ECF6",
           "radialaxis": {
            "gridcolor": "white",
            "linecolor": "white",
            "ticks": ""
           }
          },
          "scene": {
           "xaxis": {
            "backgroundcolor": "#E5ECF6",
            "gridcolor": "white",
            "gridwidth": 2,
            "linecolor": "white",
            "showbackground": true,
            "ticks": "",
            "zerolinecolor": "white"
           },
           "yaxis": {
            "backgroundcolor": "#E5ECF6",
            "gridcolor": "white",
            "gridwidth": 2,
            "linecolor": "white",
            "showbackground": true,
            "ticks": "",
            "zerolinecolor": "white"
           },
           "zaxis": {
            "backgroundcolor": "#E5ECF6",
            "gridcolor": "white",
            "gridwidth": 2,
            "linecolor": "white",
            "showbackground": true,
            "ticks": "",
            "zerolinecolor": "white"
           }
          },
          "shapedefaults": {
           "line": {
            "color": "#2a3f5f"
           }
          },
          "ternary": {
           "aaxis": {
            "gridcolor": "white",
            "linecolor": "white",
            "ticks": ""
           },
           "baxis": {
            "gridcolor": "white",
            "linecolor": "white",
            "ticks": ""
           },
           "bgcolor": "#E5ECF6",
           "caxis": {
            "gridcolor": "white",
            "linecolor": "white",
            "ticks": ""
           }
          },
          "title": {
           "x": 0.05
          },
          "xaxis": {
           "automargin": true,
           "gridcolor": "white",
           "linecolor": "white",
           "ticks": "",
           "title": {
            "standoff": 15
           },
           "zerolinecolor": "white",
           "zerolinewidth": 2
          },
          "yaxis": {
           "automargin": true,
           "gridcolor": "white",
           "linecolor": "white",
           "ticks": "",
           "title": {
            "standoff": 15
           },
           "zerolinecolor": "white",
           "zerolinewidth": 2
          }
         }
        },
        "title": {
         "text": "TOP 10 most expensive Product_IDs"
        },
        "xaxis": {
         "anchor": "y",
         "domain": [
          0,
          1
         ],
         "title": {
          "text": "Product_ID"
         }
        },
        "yaxis": {
         "anchor": "x",
         "domain": [
          0,
          1
         ],
         "title": {
          "text": "Price"
         }
        }
       }
      }
     },
     "metadata": {}
    }
   ],
   "source": [
    "sdf_price_per_product=spark.sql(\"SELECT DISTINCT(Product_ID), \\\n",
    "                                        Price \\\n",
    "                                 FROM Data \\\n",
    "                                 ORDER BY Price Desc\")\n",
    "px.bar(sdf_price_per_product.limit(10).toPandas(), x=\"Product_ID\", y=\"Price\", title=\"TOP 10 most expensive Product_IDs\")"
   ]
  },
  {
   "source": [
    "#### Connection to the event-type"
   ],
   "cell_type": "markdown",
   "metadata": {}
  },
  {
   "cell_type": "code",
   "execution_count": null,
   "metadata": {},
   "outputs": [],
   "source": [
    "The following plots will represent the event_type distribution within the category_classes, category_codes, category_ids, product_ids and brands."
   ]
  },
  {
   "cell_type": "code",
   "execution_count": 65,
   "metadata": {},
   "outputs": [
    {
     "output_type": "display_data",
     "data": {
      "application/vnd.plotly.v1+json": {
       "config": {
        "plotlyServerURL": "https://plot.ly"
       },
       "data": [
        {
         "branchvalues": "total",
         "domain": {
          "x": [
           0,
           1
          ],
          "y": [
           0,
           1
          ]
         },
         "hovertemplate": "labels=%{label}<br>Count=%{value}<br>parent=%{parent}<br>id=%{id}<extra></extra>",
         "ids": [
          "electronics/cart",
          "electronics/purchase",
          "furniture/purchase",
          "accessories/view",
          "apparel/view",
          "appliances/view",
          "auto/view",
          "computers/view",
          "construction/view",
          "electronics/view",
          "furniture/view",
          "not defined/view",
          "accessories",
          "apparel",
          "appliances",
          "auto",
          "computers",
          "construction",
          "electronics",
          "furniture",
          "not defined"
         ],
         "labels": [
          "cart",
          "purchase",
          "purchase",
          "view",
          "view",
          "view",
          "view",
          "view",
          "view",
          "view",
          "view",
          "view",
          "accessories",
          "apparel",
          "appliances",
          "auto",
          "computers",
          "construction",
          "electronics",
          "furniture",
          "not defined"
         ],
         "name": "",
         "parents": [
          "electronics",
          "electronics",
          "furniture",
          "accessories",
          "apparel",
          "appliances",
          "auto",
          "computers",
          "construction",
          "electronics",
          "furniture",
          "not defined",
          "",
          "",
          "",
          "",
          "",
          "",
          "",
          "",
          ""
         ],
         "type": "sunburst",
         "values": [
          1,
          1,
          1,
          1,
          6,
          14,
          7,
          23,
          8,
          55,
          13,
          87,
          1,
          6,
          14,
          7,
          23,
          8,
          57,
          14,
          87
         ]
        }
       ],
       "layout": {
        "legend": {
         "tracegroupgap": 0
        },
        "margin": {
         "t": 60
        },
        "template": {
         "data": {
          "bar": [
           {
            "error_x": {
             "color": "#2a3f5f"
            },
            "error_y": {
             "color": "#2a3f5f"
            },
            "marker": {
             "line": {
              "color": "#E5ECF6",
              "width": 0.5
             }
            },
            "type": "bar"
           }
          ],
          "barpolar": [
           {
            "marker": {
             "line": {
              "color": "#E5ECF6",
              "width": 0.5
             }
            },
            "type": "barpolar"
           }
          ],
          "carpet": [
           {
            "aaxis": {
             "endlinecolor": "#2a3f5f",
             "gridcolor": "white",
             "linecolor": "white",
             "minorgridcolor": "white",
             "startlinecolor": "#2a3f5f"
            },
            "baxis": {
             "endlinecolor": "#2a3f5f",
             "gridcolor": "white",
             "linecolor": "white",
             "minorgridcolor": "white",
             "startlinecolor": "#2a3f5f"
            },
            "type": "carpet"
           }
          ],
          "choropleth": [
           {
            "colorbar": {
             "outlinewidth": 0,
             "ticks": ""
            },
            "type": "choropleth"
           }
          ],
          "contour": [
           {
            "colorbar": {
             "outlinewidth": 0,
             "ticks": ""
            },
            "colorscale": [
             [
              0,
              "#0d0887"
             ],
             [
              0.1111111111111111,
              "#46039f"
             ],
             [
              0.2222222222222222,
              "#7201a8"
             ],
             [
              0.3333333333333333,
              "#9c179e"
             ],
             [
              0.4444444444444444,
              "#bd3786"
             ],
             [
              0.5555555555555556,
              "#d8576b"
             ],
             [
              0.6666666666666666,
              "#ed7953"
             ],
             [
              0.7777777777777778,
              "#fb9f3a"
             ],
             [
              0.8888888888888888,
              "#fdca26"
             ],
             [
              1,
              "#f0f921"
             ]
            ],
            "type": "contour"
           }
          ],
          "contourcarpet": [
           {
            "colorbar": {
             "outlinewidth": 0,
             "ticks": ""
            },
            "type": "contourcarpet"
           }
          ],
          "heatmap": [
           {
            "colorbar": {
             "outlinewidth": 0,
             "ticks": ""
            },
            "colorscale": [
             [
              0,
              "#0d0887"
             ],
             [
              0.1111111111111111,
              "#46039f"
             ],
             [
              0.2222222222222222,
              "#7201a8"
             ],
             [
              0.3333333333333333,
              "#9c179e"
             ],
             [
              0.4444444444444444,
              "#bd3786"
             ],
             [
              0.5555555555555556,
              "#d8576b"
             ],
             [
              0.6666666666666666,
              "#ed7953"
             ],
             [
              0.7777777777777778,
              "#fb9f3a"
             ],
             [
              0.8888888888888888,
              "#fdca26"
             ],
             [
              1,
              "#f0f921"
             ]
            ],
            "type": "heatmap"
           }
          ],
          "heatmapgl": [
           {
            "colorbar": {
             "outlinewidth": 0,
             "ticks": ""
            },
            "colorscale": [
             [
              0,
              "#0d0887"
             ],
             [
              0.1111111111111111,
              "#46039f"
             ],
             [
              0.2222222222222222,
              "#7201a8"
             ],
             [
              0.3333333333333333,
              "#9c179e"
             ],
             [
              0.4444444444444444,
              "#bd3786"
             ],
             [
              0.5555555555555556,
              "#d8576b"
             ],
             [
              0.6666666666666666,
              "#ed7953"
             ],
             [
              0.7777777777777778,
              "#fb9f3a"
             ],
             [
              0.8888888888888888,
              "#fdca26"
             ],
             [
              1,
              "#f0f921"
             ]
            ],
            "type": "heatmapgl"
           }
          ],
          "histogram": [
           {
            "marker": {
             "colorbar": {
              "outlinewidth": 0,
              "ticks": ""
             }
            },
            "type": "histogram"
           }
          ],
          "histogram2d": [
           {
            "colorbar": {
             "outlinewidth": 0,
             "ticks": ""
            },
            "colorscale": [
             [
              0,
              "#0d0887"
             ],
             [
              0.1111111111111111,
              "#46039f"
             ],
             [
              0.2222222222222222,
              "#7201a8"
             ],
             [
              0.3333333333333333,
              "#9c179e"
             ],
             [
              0.4444444444444444,
              "#bd3786"
             ],
             [
              0.5555555555555556,
              "#d8576b"
             ],
             [
              0.6666666666666666,
              "#ed7953"
             ],
             [
              0.7777777777777778,
              "#fb9f3a"
             ],
             [
              0.8888888888888888,
              "#fdca26"
             ],
             [
              1,
              "#f0f921"
             ]
            ],
            "type": "histogram2d"
           }
          ],
          "histogram2dcontour": [
           {
            "colorbar": {
             "outlinewidth": 0,
             "ticks": ""
            },
            "colorscale": [
             [
              0,
              "#0d0887"
             ],
             [
              0.1111111111111111,
              "#46039f"
             ],
             [
              0.2222222222222222,
              "#7201a8"
             ],
             [
              0.3333333333333333,
              "#9c179e"
             ],
             [
              0.4444444444444444,
              "#bd3786"
             ],
             [
              0.5555555555555556,
              "#d8576b"
             ],
             [
              0.6666666666666666,
              "#ed7953"
             ],
             [
              0.7777777777777778,
              "#fb9f3a"
             ],
             [
              0.8888888888888888,
              "#fdca26"
             ],
             [
              1,
              "#f0f921"
             ]
            ],
            "type": "histogram2dcontour"
           }
          ],
          "mesh3d": [
           {
            "colorbar": {
             "outlinewidth": 0,
             "ticks": ""
            },
            "type": "mesh3d"
           }
          ],
          "parcoords": [
           {
            "line": {
             "colorbar": {
              "outlinewidth": 0,
              "ticks": ""
             }
            },
            "type": "parcoords"
           }
          ],
          "pie": [
           {
            "automargin": true,
            "type": "pie"
           }
          ],
          "scatter": [
           {
            "marker": {
             "colorbar": {
              "outlinewidth": 0,
              "ticks": ""
             }
            },
            "type": "scatter"
           }
          ],
          "scatter3d": [
           {
            "line": {
             "colorbar": {
              "outlinewidth": 0,
              "ticks": ""
             }
            },
            "marker": {
             "colorbar": {
              "outlinewidth": 0,
              "ticks": ""
             }
            },
            "type": "scatter3d"
           }
          ],
          "scattercarpet": [
           {
            "marker": {
             "colorbar": {
              "outlinewidth": 0,
              "ticks": ""
             }
            },
            "type": "scattercarpet"
           }
          ],
          "scattergeo": [
           {
            "marker": {
             "colorbar": {
              "outlinewidth": 0,
              "ticks": ""
             }
            },
            "type": "scattergeo"
           }
          ],
          "scattergl": [
           {
            "marker": {
             "colorbar": {
              "outlinewidth": 0,
              "ticks": ""
             }
            },
            "type": "scattergl"
           }
          ],
          "scattermapbox": [
           {
            "marker": {
             "colorbar": {
              "outlinewidth": 0,
              "ticks": ""
             }
            },
            "type": "scattermapbox"
           }
          ],
          "scatterpolar": [
           {
            "marker": {
             "colorbar": {
              "outlinewidth": 0,
              "ticks": ""
             }
            },
            "type": "scatterpolar"
           }
          ],
          "scatterpolargl": [
           {
            "marker": {
             "colorbar": {
              "outlinewidth": 0,
              "ticks": ""
             }
            },
            "type": "scatterpolargl"
           }
          ],
          "scatterternary": [
           {
            "marker": {
             "colorbar": {
              "outlinewidth": 0,
              "ticks": ""
             }
            },
            "type": "scatterternary"
           }
          ],
          "surface": [
           {
            "colorbar": {
             "outlinewidth": 0,
             "ticks": ""
            },
            "colorscale": [
             [
              0,
              "#0d0887"
             ],
             [
              0.1111111111111111,
              "#46039f"
             ],
             [
              0.2222222222222222,
              "#7201a8"
             ],
             [
              0.3333333333333333,
              "#9c179e"
             ],
             [
              0.4444444444444444,
              "#bd3786"
             ],
             [
              0.5555555555555556,
              "#d8576b"
             ],
             [
              0.6666666666666666,
              "#ed7953"
             ],
             [
              0.7777777777777778,
              "#fb9f3a"
             ],
             [
              0.8888888888888888,
              "#fdca26"
             ],
             [
              1,
              "#f0f921"
             ]
            ],
            "type": "surface"
           }
          ],
          "table": [
           {
            "cells": {
             "fill": {
              "color": "#EBF0F8"
             },
             "line": {
              "color": "white"
             }
            },
            "header": {
             "fill": {
              "color": "#C8D4E3"
             },
             "line": {
              "color": "white"
             }
            },
            "type": "table"
           }
          ]
         },
         "layout": {
          "annotationdefaults": {
           "arrowcolor": "#2a3f5f",
           "arrowhead": 0,
           "arrowwidth": 1
          },
          "autotypenumbers": "strict",
          "coloraxis": {
           "colorbar": {
            "outlinewidth": 0,
            "ticks": ""
           }
          },
          "colorscale": {
           "diverging": [
            [
             0,
             "#8e0152"
            ],
            [
             0.1,
             "#c51b7d"
            ],
            [
             0.2,
             "#de77ae"
            ],
            [
             0.3,
             "#f1b6da"
            ],
            [
             0.4,
             "#fde0ef"
            ],
            [
             0.5,
             "#f7f7f7"
            ],
            [
             0.6,
             "#e6f5d0"
            ],
            [
             0.7,
             "#b8e186"
            ],
            [
             0.8,
             "#7fbc41"
            ],
            [
             0.9,
             "#4d9221"
            ],
            [
             1,
             "#276419"
            ]
           ],
           "sequential": [
            [
             0,
             "#0d0887"
            ],
            [
             0.1111111111111111,
             "#46039f"
            ],
            [
             0.2222222222222222,
             "#7201a8"
            ],
            [
             0.3333333333333333,
             "#9c179e"
            ],
            [
             0.4444444444444444,
             "#bd3786"
            ],
            [
             0.5555555555555556,
             "#d8576b"
            ],
            [
             0.6666666666666666,
             "#ed7953"
            ],
            [
             0.7777777777777778,
             "#fb9f3a"
            ],
            [
             0.8888888888888888,
             "#fdca26"
            ],
            [
             1,
             "#f0f921"
            ]
           ],
           "sequentialminus": [
            [
             0,
             "#0d0887"
            ],
            [
             0.1111111111111111,
             "#46039f"
            ],
            [
             0.2222222222222222,
             "#7201a8"
            ],
            [
             0.3333333333333333,
             "#9c179e"
            ],
            [
             0.4444444444444444,
             "#bd3786"
            ],
            [
             0.5555555555555556,
             "#d8576b"
            ],
            [
             0.6666666666666666,
             "#ed7953"
            ],
            [
             0.7777777777777778,
             "#fb9f3a"
            ],
            [
             0.8888888888888888,
             "#fdca26"
            ],
            [
             1,
             "#f0f921"
            ]
           ]
          },
          "colorway": [
           "#636efa",
           "#EF553B",
           "#00cc96",
           "#ab63fa",
           "#FFA15A",
           "#19d3f3",
           "#FF6692",
           "#B6E880",
           "#FF97FF",
           "#FECB52"
          ],
          "font": {
           "color": "#2a3f5f"
          },
          "geo": {
           "bgcolor": "white",
           "lakecolor": "white",
           "landcolor": "#E5ECF6",
           "showlakes": true,
           "showland": true,
           "subunitcolor": "white"
          },
          "hoverlabel": {
           "align": "left"
          },
          "hovermode": "closest",
          "mapbox": {
           "style": "light"
          },
          "paper_bgcolor": "white",
          "plot_bgcolor": "#E5ECF6",
          "polar": {
           "angularaxis": {
            "gridcolor": "white",
            "linecolor": "white",
            "ticks": ""
           },
           "bgcolor": "#E5ECF6",
           "radialaxis": {
            "gridcolor": "white",
            "linecolor": "white",
            "ticks": ""
           }
          },
          "scene": {
           "xaxis": {
            "backgroundcolor": "#E5ECF6",
            "gridcolor": "white",
            "gridwidth": 2,
            "linecolor": "white",
            "showbackground": true,
            "ticks": "",
            "zerolinecolor": "white"
           },
           "yaxis": {
            "backgroundcolor": "#E5ECF6",
            "gridcolor": "white",
            "gridwidth": 2,
            "linecolor": "white",
            "showbackground": true,
            "ticks": "",
            "zerolinecolor": "white"
           },
           "zaxis": {
            "backgroundcolor": "#E5ECF6",
            "gridcolor": "white",
            "gridwidth": 2,
            "linecolor": "white",
            "showbackground": true,
            "ticks": "",
            "zerolinecolor": "white"
           }
          },
          "shapedefaults": {
           "line": {
            "color": "#2a3f5f"
           }
          },
          "ternary": {
           "aaxis": {
            "gridcolor": "white",
            "linecolor": "white",
            "ticks": ""
           },
           "baxis": {
            "gridcolor": "white",
            "linecolor": "white",
            "ticks": ""
           },
           "bgcolor": "#E5ECF6",
           "caxis": {
            "gridcolor": "white",
            "linecolor": "white",
            "ticks": ""
           }
          },
          "title": {
           "x": 0.05
          },
          "xaxis": {
           "automargin": true,
           "gridcolor": "white",
           "linecolor": "white",
           "ticks": "",
           "title": {
            "standoff": 15
           },
           "zerolinecolor": "white",
           "zerolinewidth": 2
          },
          "yaxis": {
           "automargin": true,
           "gridcolor": "white",
           "linecolor": "white",
           "ticks": "",
           "title": {
            "standoff": 15
           },
           "zerolinecolor": "white",
           "zerolinewidth": 2
          }
         }
        }
       }
      }
     },
     "metadata": {}
    }
   ],
   "source": [
    "sdf_category_class_event_distribution = spark.sql(\"SELECT category_class, \\\n",
    "                                                          event_type, \\\n",
    "                                                          Count(*) AS Count \\\n",
    "                                                    FROM Data \\\n",
    "                                                    GROUP BY category_class, event_type\")\n",
    "px.sunburst(sdf_category_class_event_distribution.toPandas(), path=['category_class','event_type'], values=\"Count\")"
   ]
  },
  {
   "cell_type": "code",
   "execution_count": 66,
   "metadata": {},
   "outputs": [
    {
     "output_type": "display_data",
     "data": {
      "application/vnd.plotly.v1+json": {
       "config": {
        "plotlyServerURL": "https://plot.ly"
       },
       "data": [
        {
         "branchvalues": "total",
         "domain": {
          "x": [
           0,
           1
          ],
          "y": [
           0,
           1
          ]
         },
         "hovertemplate": "labels=%{label}<br>Count=%{value}<br>parent=%{parent}<br>id=%{id}<extra></extra>",
         "ids": [
          "electronics.smartphone/cart",
          "electronics.smartphone/purchase",
          "furniture.bedroom.bed/purchase",
          "accessories.bag/view",
          "apparel.jeans/view",
          "apparel.shirt/view",
          "apparel.shoes/view",
          "apparel.tshirt/view",
          "appliances.environment.vacuum/view",
          "appliances.environment.water_heater/view",
          "appliances.kitchen.dishwasher/view",
          "appliances.kitchen.refrigerators/view",
          "appliances.kitchen.washer/view",
          "appliances.sewing_machine/view",
          "auto.accessories.compressor/view",
          "auto.accessories.player/view",
          "computers.components.motherboard/view",
          "computers.components.videocards/view",
          "computers.desktop/view",
          "computers.notebook/view",
          "computers.peripherals.printer/view",
          "construction.tools.drill/view",
          "construction.tools.light/view",
          "construction.tools.painting/view",
          "construction.tools.saw/view",
          "construction.tools.welding/view",
          "electronics.audio.headphone/view",
          "electronics.audio.subwoofer/view",
          "electronics.camera.video/view",
          "electronics.clocks/view",
          "electronics.smartphone/view",
          "electronics.video.tv/view",
          "furniture.bathroom.bath/view",
          "furniture.bedroom.bed/view",
          "furniture.kitchen.chair/view",
          "furniture.kitchen.table/view",
          "furniture.living_room.sofa/view",
          "not defined/view",
          "accessories.bag",
          "apparel.jeans",
          "apparel.shirt",
          "apparel.shoes",
          "apparel.tshirt",
          "appliances.environment.vacuum",
          "appliances.environment.water_heater",
          "appliances.kitchen.dishwasher",
          "appliances.kitchen.refrigerators",
          "appliances.kitchen.washer",
          "appliances.sewing_machine",
          "auto.accessories.compressor",
          "auto.accessories.player",
          "computers.components.motherboard",
          "computers.components.videocards",
          "computers.desktop",
          "computers.notebook",
          "computers.peripherals.printer",
          "construction.tools.drill",
          "construction.tools.light",
          "construction.tools.painting",
          "construction.tools.saw",
          "construction.tools.welding",
          "electronics.audio.headphone",
          "electronics.audio.subwoofer",
          "electronics.camera.video",
          "electronics.clocks",
          "electronics.smartphone",
          "electronics.video.tv",
          "furniture.bathroom.bath",
          "furniture.bedroom.bed",
          "furniture.kitchen.chair",
          "furniture.kitchen.table",
          "furniture.living_room.sofa",
          "not defined"
         ],
         "labels": [
          "cart",
          "purchase",
          "purchase",
          "view",
          "view",
          "view",
          "view",
          "view",
          "view",
          "view",
          "view",
          "view",
          "view",
          "view",
          "view",
          "view",
          "view",
          "view",
          "view",
          "view",
          "view",
          "view",
          "view",
          "view",
          "view",
          "view",
          "view",
          "view",
          "view",
          "view",
          "view",
          "view",
          "view",
          "view",
          "view",
          "view",
          "view",
          "view",
          "accessories.bag",
          "apparel.jeans",
          "apparel.shirt",
          "apparel.shoes",
          "apparel.tshirt",
          "appliances.environment.vacuum",
          "appliances.environment.water_heater",
          "appliances.kitchen.dishwasher",
          "appliances.kitchen.refrigerators",
          "appliances.kitchen.washer",
          "appliances.sewing_machine",
          "auto.accessories.compressor",
          "auto.accessories.player",
          "computers.components.motherboard",
          "computers.components.videocards",
          "computers.desktop",
          "computers.notebook",
          "computers.peripherals.printer",
          "construction.tools.drill",
          "construction.tools.light",
          "construction.tools.painting",
          "construction.tools.saw",
          "construction.tools.welding",
          "electronics.audio.headphone",
          "electronics.audio.subwoofer",
          "electronics.camera.video",
          "electronics.clocks",
          "electronics.smartphone",
          "electronics.video.tv",
          "furniture.bathroom.bath",
          "furniture.bedroom.bed",
          "furniture.kitchen.chair",
          "furniture.kitchen.table",
          "furniture.living_room.sofa",
          "not defined"
         ],
         "name": "",
         "parents": [
          "electronics.smartphone",
          "electronics.smartphone",
          "furniture.bedroom.bed",
          "accessories.bag",
          "apparel.jeans",
          "apparel.shirt",
          "apparel.shoes",
          "apparel.tshirt",
          "appliances.environment.vacuum",
          "appliances.environment.water_heater",
          "appliances.kitchen.dishwasher",
          "appliances.kitchen.refrigerators",
          "appliances.kitchen.washer",
          "appliances.sewing_machine",
          "auto.accessories.compressor",
          "auto.accessories.player",
          "computers.components.motherboard",
          "computers.components.videocards",
          "computers.desktop",
          "computers.notebook",
          "computers.peripherals.printer",
          "construction.tools.drill",
          "construction.tools.light",
          "construction.tools.painting",
          "construction.tools.saw",
          "construction.tools.welding",
          "electronics.audio.headphone",
          "electronics.audio.subwoofer",
          "electronics.camera.video",
          "electronics.clocks",
          "electronics.smartphone",
          "electronics.video.tv",
          "furniture.bathroom.bath",
          "furniture.bedroom.bed",
          "furniture.kitchen.chair",
          "furniture.kitchen.table",
          "furniture.living_room.sofa",
          "not defined",
          "",
          "",
          "",
          "",
          "",
          "",
          "",
          "",
          "",
          "",
          "",
          "",
          "",
          "",
          "",
          "",
          "",
          "",
          "",
          "",
          "",
          "",
          "",
          "",
          "",
          "",
          "",
          "",
          "",
          "",
          "",
          "",
          "",
          "",
          ""
         ],
         "type": "sunburst",
         "values": [
          1,
          1,
          1,
          1,
          3,
          1,
          1,
          1,
          1,
          1,
          4,
          5,
          1,
          2,
          2,
          5,
          1,
          1,
          1,
          18,
          2,
          4,
          1,
          1,
          1,
          1,
          5,
          4,
          1,
          8,
          36,
          1,
          1,
          3,
          6,
          1,
          2,
          87,
          1,
          3,
          1,
          1,
          1,
          1,
          1,
          4,
          5,
          1,
          2,
          2,
          5,
          1,
          1,
          1,
          18,
          2,
          4,
          1,
          1,
          1,
          1,
          5,
          4,
          1,
          8,
          38,
          1,
          1,
          4,
          6,
          1,
          2,
          87
         ]
        }
       ],
       "layout": {
        "legend": {
         "tracegroupgap": 0
        },
        "margin": {
         "t": 60
        },
        "template": {
         "data": {
          "bar": [
           {
            "error_x": {
             "color": "#2a3f5f"
            },
            "error_y": {
             "color": "#2a3f5f"
            },
            "marker": {
             "line": {
              "color": "#E5ECF6",
              "width": 0.5
             }
            },
            "type": "bar"
           }
          ],
          "barpolar": [
           {
            "marker": {
             "line": {
              "color": "#E5ECF6",
              "width": 0.5
             }
            },
            "type": "barpolar"
           }
          ],
          "carpet": [
           {
            "aaxis": {
             "endlinecolor": "#2a3f5f",
             "gridcolor": "white",
             "linecolor": "white",
             "minorgridcolor": "white",
             "startlinecolor": "#2a3f5f"
            },
            "baxis": {
             "endlinecolor": "#2a3f5f",
             "gridcolor": "white",
             "linecolor": "white",
             "minorgridcolor": "white",
             "startlinecolor": "#2a3f5f"
            },
            "type": "carpet"
           }
          ],
          "choropleth": [
           {
            "colorbar": {
             "outlinewidth": 0,
             "ticks": ""
            },
            "type": "choropleth"
           }
          ],
          "contour": [
           {
            "colorbar": {
             "outlinewidth": 0,
             "ticks": ""
            },
            "colorscale": [
             [
              0,
              "#0d0887"
             ],
             [
              0.1111111111111111,
              "#46039f"
             ],
             [
              0.2222222222222222,
              "#7201a8"
             ],
             [
              0.3333333333333333,
              "#9c179e"
             ],
             [
              0.4444444444444444,
              "#bd3786"
             ],
             [
              0.5555555555555556,
              "#d8576b"
             ],
             [
              0.6666666666666666,
              "#ed7953"
             ],
             [
              0.7777777777777778,
              "#fb9f3a"
             ],
             [
              0.8888888888888888,
              "#fdca26"
             ],
             [
              1,
              "#f0f921"
             ]
            ],
            "type": "contour"
           }
          ],
          "contourcarpet": [
           {
            "colorbar": {
             "outlinewidth": 0,
             "ticks": ""
            },
            "type": "contourcarpet"
           }
          ],
          "heatmap": [
           {
            "colorbar": {
             "outlinewidth": 0,
             "ticks": ""
            },
            "colorscale": [
             [
              0,
              "#0d0887"
             ],
             [
              0.1111111111111111,
              "#46039f"
             ],
             [
              0.2222222222222222,
              "#7201a8"
             ],
             [
              0.3333333333333333,
              "#9c179e"
             ],
             [
              0.4444444444444444,
              "#bd3786"
             ],
             [
              0.5555555555555556,
              "#d8576b"
             ],
             [
              0.6666666666666666,
              "#ed7953"
             ],
             [
              0.7777777777777778,
              "#fb9f3a"
             ],
             [
              0.8888888888888888,
              "#fdca26"
             ],
             [
              1,
              "#f0f921"
             ]
            ],
            "type": "heatmap"
           }
          ],
          "heatmapgl": [
           {
            "colorbar": {
             "outlinewidth": 0,
             "ticks": ""
            },
            "colorscale": [
             [
              0,
              "#0d0887"
             ],
             [
              0.1111111111111111,
              "#46039f"
             ],
             [
              0.2222222222222222,
              "#7201a8"
             ],
             [
              0.3333333333333333,
              "#9c179e"
             ],
             [
              0.4444444444444444,
              "#bd3786"
             ],
             [
              0.5555555555555556,
              "#d8576b"
             ],
             [
              0.6666666666666666,
              "#ed7953"
             ],
             [
              0.7777777777777778,
              "#fb9f3a"
             ],
             [
              0.8888888888888888,
              "#fdca26"
             ],
             [
              1,
              "#f0f921"
             ]
            ],
            "type": "heatmapgl"
           }
          ],
          "histogram": [
           {
            "marker": {
             "colorbar": {
              "outlinewidth": 0,
              "ticks": ""
             }
            },
            "type": "histogram"
           }
          ],
          "histogram2d": [
           {
            "colorbar": {
             "outlinewidth": 0,
             "ticks": ""
            },
            "colorscale": [
             [
              0,
              "#0d0887"
             ],
             [
              0.1111111111111111,
              "#46039f"
             ],
             [
              0.2222222222222222,
              "#7201a8"
             ],
             [
              0.3333333333333333,
              "#9c179e"
             ],
             [
              0.4444444444444444,
              "#bd3786"
             ],
             [
              0.5555555555555556,
              "#d8576b"
             ],
             [
              0.6666666666666666,
              "#ed7953"
             ],
             [
              0.7777777777777778,
              "#fb9f3a"
             ],
             [
              0.8888888888888888,
              "#fdca26"
             ],
             [
              1,
              "#f0f921"
             ]
            ],
            "type": "histogram2d"
           }
          ],
          "histogram2dcontour": [
           {
            "colorbar": {
             "outlinewidth": 0,
             "ticks": ""
            },
            "colorscale": [
             [
              0,
              "#0d0887"
             ],
             [
              0.1111111111111111,
              "#46039f"
             ],
             [
              0.2222222222222222,
              "#7201a8"
             ],
             [
              0.3333333333333333,
              "#9c179e"
             ],
             [
              0.4444444444444444,
              "#bd3786"
             ],
             [
              0.5555555555555556,
              "#d8576b"
             ],
             [
              0.6666666666666666,
              "#ed7953"
             ],
             [
              0.7777777777777778,
              "#fb9f3a"
             ],
             [
              0.8888888888888888,
              "#fdca26"
             ],
             [
              1,
              "#f0f921"
             ]
            ],
            "type": "histogram2dcontour"
           }
          ],
          "mesh3d": [
           {
            "colorbar": {
             "outlinewidth": 0,
             "ticks": ""
            },
            "type": "mesh3d"
           }
          ],
          "parcoords": [
           {
            "line": {
             "colorbar": {
              "outlinewidth": 0,
              "ticks": ""
             }
            },
            "type": "parcoords"
           }
          ],
          "pie": [
           {
            "automargin": true,
            "type": "pie"
           }
          ],
          "scatter": [
           {
            "marker": {
             "colorbar": {
              "outlinewidth": 0,
              "ticks": ""
             }
            },
            "type": "scatter"
           }
          ],
          "scatter3d": [
           {
            "line": {
             "colorbar": {
              "outlinewidth": 0,
              "ticks": ""
             }
            },
            "marker": {
             "colorbar": {
              "outlinewidth": 0,
              "ticks": ""
             }
            },
            "type": "scatter3d"
           }
          ],
          "scattercarpet": [
           {
            "marker": {
             "colorbar": {
              "outlinewidth": 0,
              "ticks": ""
             }
            },
            "type": "scattercarpet"
           }
          ],
          "scattergeo": [
           {
            "marker": {
             "colorbar": {
              "outlinewidth": 0,
              "ticks": ""
             }
            },
            "type": "scattergeo"
           }
          ],
          "scattergl": [
           {
            "marker": {
             "colorbar": {
              "outlinewidth": 0,
              "ticks": ""
             }
            },
            "type": "scattergl"
           }
          ],
          "scattermapbox": [
           {
            "marker": {
             "colorbar": {
              "outlinewidth": 0,
              "ticks": ""
             }
            },
            "type": "scattermapbox"
           }
          ],
          "scatterpolar": [
           {
            "marker": {
             "colorbar": {
              "outlinewidth": 0,
              "ticks": ""
             }
            },
            "type": "scatterpolar"
           }
          ],
          "scatterpolargl": [
           {
            "marker": {
             "colorbar": {
              "outlinewidth": 0,
              "ticks": ""
             }
            },
            "type": "scatterpolargl"
           }
          ],
          "scatterternary": [
           {
            "marker": {
             "colorbar": {
              "outlinewidth": 0,
              "ticks": ""
             }
            },
            "type": "scatterternary"
           }
          ],
          "surface": [
           {
            "colorbar": {
             "outlinewidth": 0,
             "ticks": ""
            },
            "colorscale": [
             [
              0,
              "#0d0887"
             ],
             [
              0.1111111111111111,
              "#46039f"
             ],
             [
              0.2222222222222222,
              "#7201a8"
             ],
             [
              0.3333333333333333,
              "#9c179e"
             ],
             [
              0.4444444444444444,
              "#bd3786"
             ],
             [
              0.5555555555555556,
              "#d8576b"
             ],
             [
              0.6666666666666666,
              "#ed7953"
             ],
             [
              0.7777777777777778,
              "#fb9f3a"
             ],
             [
              0.8888888888888888,
              "#fdca26"
             ],
             [
              1,
              "#f0f921"
             ]
            ],
            "type": "surface"
           }
          ],
          "table": [
           {
            "cells": {
             "fill": {
              "color": "#EBF0F8"
             },
             "line": {
              "color": "white"
             }
            },
            "header": {
             "fill": {
              "color": "#C8D4E3"
             },
             "line": {
              "color": "white"
             }
            },
            "type": "table"
           }
          ]
         },
         "layout": {
          "annotationdefaults": {
           "arrowcolor": "#2a3f5f",
           "arrowhead": 0,
           "arrowwidth": 1
          },
          "autotypenumbers": "strict",
          "coloraxis": {
           "colorbar": {
            "outlinewidth": 0,
            "ticks": ""
           }
          },
          "colorscale": {
           "diverging": [
            [
             0,
             "#8e0152"
            ],
            [
             0.1,
             "#c51b7d"
            ],
            [
             0.2,
             "#de77ae"
            ],
            [
             0.3,
             "#f1b6da"
            ],
            [
             0.4,
             "#fde0ef"
            ],
            [
             0.5,
             "#f7f7f7"
            ],
            [
             0.6,
             "#e6f5d0"
            ],
            [
             0.7,
             "#b8e186"
            ],
            [
             0.8,
             "#7fbc41"
            ],
            [
             0.9,
             "#4d9221"
            ],
            [
             1,
             "#276419"
            ]
           ],
           "sequential": [
            [
             0,
             "#0d0887"
            ],
            [
             0.1111111111111111,
             "#46039f"
            ],
            [
             0.2222222222222222,
             "#7201a8"
            ],
            [
             0.3333333333333333,
             "#9c179e"
            ],
            [
             0.4444444444444444,
             "#bd3786"
            ],
            [
             0.5555555555555556,
             "#d8576b"
            ],
            [
             0.6666666666666666,
             "#ed7953"
            ],
            [
             0.7777777777777778,
             "#fb9f3a"
            ],
            [
             0.8888888888888888,
             "#fdca26"
            ],
            [
             1,
             "#f0f921"
            ]
           ],
           "sequentialminus": [
            [
             0,
             "#0d0887"
            ],
            [
             0.1111111111111111,
             "#46039f"
            ],
            [
             0.2222222222222222,
             "#7201a8"
            ],
            [
             0.3333333333333333,
             "#9c179e"
            ],
            [
             0.4444444444444444,
             "#bd3786"
            ],
            [
             0.5555555555555556,
             "#d8576b"
            ],
            [
             0.6666666666666666,
             "#ed7953"
            ],
            [
             0.7777777777777778,
             "#fb9f3a"
            ],
            [
             0.8888888888888888,
             "#fdca26"
            ],
            [
             1,
             "#f0f921"
            ]
           ]
          },
          "colorway": [
           "#636efa",
           "#EF553B",
           "#00cc96",
           "#ab63fa",
           "#FFA15A",
           "#19d3f3",
           "#FF6692",
           "#B6E880",
           "#FF97FF",
           "#FECB52"
          ],
          "font": {
           "color": "#2a3f5f"
          },
          "geo": {
           "bgcolor": "white",
           "lakecolor": "white",
           "landcolor": "#E5ECF6",
           "showlakes": true,
           "showland": true,
           "subunitcolor": "white"
          },
          "hoverlabel": {
           "align": "left"
          },
          "hovermode": "closest",
          "mapbox": {
           "style": "light"
          },
          "paper_bgcolor": "white",
          "plot_bgcolor": "#E5ECF6",
          "polar": {
           "angularaxis": {
            "gridcolor": "white",
            "linecolor": "white",
            "ticks": ""
           },
           "bgcolor": "#E5ECF6",
           "radialaxis": {
            "gridcolor": "white",
            "linecolor": "white",
            "ticks": ""
           }
          },
          "scene": {
           "xaxis": {
            "backgroundcolor": "#E5ECF6",
            "gridcolor": "white",
            "gridwidth": 2,
            "linecolor": "white",
            "showbackground": true,
            "ticks": "",
            "zerolinecolor": "white"
           },
           "yaxis": {
            "backgroundcolor": "#E5ECF6",
            "gridcolor": "white",
            "gridwidth": 2,
            "linecolor": "white",
            "showbackground": true,
            "ticks": "",
            "zerolinecolor": "white"
           },
           "zaxis": {
            "backgroundcolor": "#E5ECF6",
            "gridcolor": "white",
            "gridwidth": 2,
            "linecolor": "white",
            "showbackground": true,
            "ticks": "",
            "zerolinecolor": "white"
           }
          },
          "shapedefaults": {
           "line": {
            "color": "#2a3f5f"
           }
          },
          "ternary": {
           "aaxis": {
            "gridcolor": "white",
            "linecolor": "white",
            "ticks": ""
           },
           "baxis": {
            "gridcolor": "white",
            "linecolor": "white",
            "ticks": ""
           },
           "bgcolor": "#E5ECF6",
           "caxis": {
            "gridcolor": "white",
            "linecolor": "white",
            "ticks": ""
           }
          },
          "title": {
           "x": 0.05
          },
          "xaxis": {
           "automargin": true,
           "gridcolor": "white",
           "linecolor": "white",
           "ticks": "",
           "title": {
            "standoff": 15
           },
           "zerolinecolor": "white",
           "zerolinewidth": 2
          },
          "yaxis": {
           "automargin": true,
           "gridcolor": "white",
           "linecolor": "white",
           "ticks": "",
           "title": {
            "standoff": 15
           },
           "zerolinecolor": "white",
           "zerolinewidth": 2
          }
         }
        }
       }
      }
     },
     "metadata": {}
    }
   ],
   "source": [
    "sdf_category_code_event_distribution = spark.sql(\"SELECT category_code, \\\n",
    "                                                          event_type, \\\n",
    "                                                          Count(*) AS Count \\\n",
    "                                                    FROM Data \\\n",
    "                                                    GROUP BY category_code, event_type\")\n",
    "px.sunburst(sdf_category_code_event_distribution.toPandas(), path=['category_code','event_type'], values=\"Count\")"
   ]
  },
  {
   "cell_type": "code",
   "execution_count": 67,
   "metadata": {},
   "outputs": [
    {
     "output_type": "display_data",
     "data": {
      "application/vnd.plotly.v1+json": {
       "config": {
        "plotlyServerURL": "https://plot.ly"
       },
       "data": [
        {
         "branchvalues": "total",
         "domain": {
          "x": [
           0,
           1
          ],
          "y": [
           0,
           1
          ]
         },
         "hovertemplate": "labels=%{label}<br>Count=%{value}<br>parent=%{parent}<br>id=%{id}<extra></extra>",
         "ids": [
          "2053013555631882655/cart",
          "2053013555631882655/purchase",
          "2053013557192163841/purchase",
          "2053013552326770905/view",
          "2053013553056579841/view",
          "2053013553115300101/view",
          "2053013553341792533/view",
          "2053013553375346967/view",
          "2053013553484398879/view",
          "2053013553526341921/view",
          "2053013553559896355/view",
          "2053013553853497655/view",
          "2053013553887052089/view",
          "2053013553945772349/view",
          "2053013553970938175/view",
          "2053013554155487563/view",
          "2053013554247762257/view",
          "2053013554415534427/view",
          "2053013554658804075/view",
          "2053013554994348409/view",
          "2053013555464110485/view",
          "2053013555631882655/view",
          "2053013556110033341/view",
          "2053013556168753601/view",
          "2053013556311359947/view",
          "2053013557024391671/view",
          "2053013557192163841/view",
          "2053013557477376525/view",
          "2053013557955527211/view",
          "2053013558190408249/view",
          "2053013558223962683/view",
          "2053013558433677895/view",
          "2053013558752445019/view",
          "2053013558895051365/view",
          "2053013558920217191/view",
          "2053013559675191951/view",
          "2053013559733912211/view",
          "2053013559792632471/view",
          "2053013559868129947/view",
          "2053013559901684381/view",
          "2053013560144954031/view",
          "2053013560530830019/view",
          "2053013560555995845/view",
          "2053013561218695907/view",
          "2053013561277416167/view",
          "2053013561579406073/view",
          "2053013562183385881/view",
          "2053013562837697343/view",
          "2053013563215184719/view",
          "2053013563391345499/view",
          "2053013563651392361/view",
          "2053013563693335403/view",
          "2053013563810775923/view",
          "2053013563911439225/view",
          "2053013563944993659/view",
          "2053013565983425517/view",
          "2053013566100866035/view",
          "2055156924315337497/view",
          "2055156924407612189/view",
          "2059484601444729123/view",
          "2060981320581906480/view",
          "2062461754293617058/view",
          "2070747671722722162/view",
          "2079713978300236035/view",
          "2085718636156158307/view",
          "2090228413959766319/view",
          "2098563450757186313/view",
          "2100825583029060150/view",
          "2116907524572577889/view",
          "2127425434894205468/view",
          "2127425436764865054/view",
          "2134905044833666047/view",
          "2137704922018218396/view",
          "2144916515806248980/view",
          "2146660887346282824/view",
          "2152167773222993940/view",
          "2173216765583032544/view",
          "2053013552326770905",
          "2053013553056579841",
          "2053013553115300101",
          "2053013553341792533",
          "2053013553375346967",
          "2053013553484398879",
          "2053013553526341921",
          "2053013553559896355",
          "2053013553853497655",
          "2053013553887052089",
          "2053013553945772349",
          "2053013553970938175",
          "2053013554155487563",
          "2053013554247762257",
          "2053013554415534427",
          "2053013554658804075",
          "2053013554994348409",
          "2053013555464110485",
          "2053013555631882655",
          "2053013556110033341",
          "2053013556168753601",
          "2053013556311359947",
          "2053013557024391671",
          "2053013557192163841",
          "2053013557477376525",
          "2053013557955527211",
          "2053013558190408249",
          "2053013558223962683",
          "2053013558433677895",
          "2053013558752445019",
          "2053013558895051365",
          "2053013558920217191",
          "2053013559675191951",
          "2053013559733912211",
          "2053013559792632471",
          "2053013559868129947",
          "2053013559901684381",
          "2053013560144954031",
          "2053013560530830019",
          "2053013560555995845",
          "2053013561218695907",
          "2053013561277416167",
          "2053013561579406073",
          "2053013562183385881",
          "2053013562837697343",
          "2053013563215184719",
          "2053013563391345499",
          "2053013563651392361",
          "2053013563693335403",
          "2053013563810775923",
          "2053013563911439225",
          "2053013563944993659",
          "2053013565983425517",
          "2053013566100866035",
          "2055156924315337497",
          "2055156924407612189",
          "2059484601444729123",
          "2060981320581906480",
          "2062461754293617058",
          "2070747671722722162",
          "2079713978300236035",
          "2085718636156158307",
          "2090228413959766319",
          "2098563450757186313",
          "2100825583029060150",
          "2116907524572577889",
          "2127425434894205468",
          "2127425436764865054",
          "2134905044833666047",
          "2137704922018218396",
          "2144916515806248980",
          "2146660887346282824",
          "2152167773222993940",
          "2173216765583032544"
         ],
         "labels": [
          "cart",
          "purchase",
          "purchase",
          "view",
          "view",
          "view",
          "view",
          "view",
          "view",
          "view",
          "view",
          "view",
          "view",
          "view",
          "view",
          "view",
          "view",
          "view",
          "view",
          "view",
          "view",
          "view",
          "view",
          "view",
          "view",
          "view",
          "view",
          "view",
          "view",
          "view",
          "view",
          "view",
          "view",
          "view",
          "view",
          "view",
          "view",
          "view",
          "view",
          "view",
          "view",
          "view",
          "view",
          "view",
          "view",
          "view",
          "view",
          "view",
          "view",
          "view",
          "view",
          "view",
          "view",
          "view",
          "view",
          "view",
          "view",
          "view",
          "view",
          "view",
          "view",
          "view",
          "view",
          "view",
          "view",
          "view",
          "view",
          "view",
          "view",
          "view",
          "view",
          "view",
          "view",
          "view",
          "view",
          "view",
          "view",
          "2053013552326770905",
          "2053013553056579841",
          "2053013553115300101",
          "2053013553341792533",
          "2053013553375346967",
          "2053013553484398879",
          "2053013553526341921",
          "2053013553559896355",
          "2053013553853497655",
          "2053013553887052089",
          "2053013553945772349",
          "2053013553970938175",
          "2053013554155487563",
          "2053013554247762257",
          "2053013554415534427",
          "2053013554658804075",
          "2053013554994348409",
          "2053013555464110485",
          "2053013555631882655",
          "2053013556110033341",
          "2053013556168753601",
          "2053013556311359947",
          "2053013557024391671",
          "2053013557192163841",
          "2053013557477376525",
          "2053013557955527211",
          "2053013558190408249",
          "2053013558223962683",
          "2053013558433677895",
          "2053013558752445019",
          "2053013558895051365",
          "2053013558920217191",
          "2053013559675191951",
          "2053013559733912211",
          "2053013559792632471",
          "2053013559868129947",
          "2053013559901684381",
          "2053013560144954031",
          "2053013560530830019",
          "2053013560555995845",
          "2053013561218695907",
          "2053013561277416167",
          "2053013561579406073",
          "2053013562183385881",
          "2053013562837697343",
          "2053013563215184719",
          "2053013563391345499",
          "2053013563651392361",
          "2053013563693335403",
          "2053013563810775923",
          "2053013563911439225",
          "2053013563944993659",
          "2053013565983425517",
          "2053013566100866035",
          "2055156924315337497",
          "2055156924407612189",
          "2059484601444729123",
          "2060981320581906480",
          "2062461754293617058",
          "2070747671722722162",
          "2079713978300236035",
          "2085718636156158307",
          "2090228413959766319",
          "2098563450757186313",
          "2100825583029060150",
          "2116907524572577889",
          "2127425434894205468",
          "2127425436764865054",
          "2134905044833666047",
          "2137704922018218396",
          "2144916515806248980",
          "2146660887346282824",
          "2152167773222993940",
          "2173216765583032544"
         ],
         "name": "",
         "parents": [
          "2053013555631882655",
          "2053013555631882655",
          "2053013557192163841",
          "2053013552326770905",
          "2053013553056579841",
          "2053013553115300101",
          "2053013553341792533",
          "2053013553375346967",
          "2053013553484398879",
          "2053013553526341921",
          "2053013553559896355",
          "2053013553853497655",
          "2053013553887052089",
          "2053013553945772349",
          "2053013553970938175",
          "2053013554155487563",
          "2053013554247762257",
          "2053013554415534427",
          "2053013554658804075",
          "2053013554994348409",
          "2053013555464110485",
          "2053013555631882655",
          "2053013556110033341",
          "2053013556168753601",
          "2053013556311359947",
          "2053013557024391671",
          "2053013557192163841",
          "2053013557477376525",
          "2053013557955527211",
          "2053013558190408249",
          "2053013558223962683",
          "2053013558433677895",
          "2053013558752445019",
          "2053013558895051365",
          "2053013558920217191",
          "2053013559675191951",
          "2053013559733912211",
          "2053013559792632471",
          "2053013559868129947",
          "2053013559901684381",
          "2053013560144954031",
          "2053013560530830019",
          "2053013560555995845",
          "2053013561218695907",
          "2053013561277416167",
          "2053013561579406073",
          "2053013562183385881",
          "2053013562837697343",
          "2053013563215184719",
          "2053013563391345499",
          "2053013563651392361",
          "2053013563693335403",
          "2053013563810775923",
          "2053013563911439225",
          "2053013563944993659",
          "2053013565983425517",
          "2053013566100866035",
          "2055156924315337497",
          "2055156924407612189",
          "2059484601444729123",
          "2060981320581906480",
          "2062461754293617058",
          "2070747671722722162",
          "2079713978300236035",
          "2085718636156158307",
          "2090228413959766319",
          "2098563450757186313",
          "2100825583029060150",
          "2116907524572577889",
          "2127425434894205468",
          "2127425436764865054",
          "2134905044833666047",
          "2137704922018218396",
          "2144916515806248980",
          "2146660887346282824",
          "2152167773222993940",
          "2173216765583032544",
          "",
          "",
          "",
          "",
          "",
          "",
          "",
          "",
          "",
          "",
          "",
          "",
          "",
          "",
          "",
          "",
          "",
          "",
          "",
          "",
          "",
          "",
          "",
          "",
          "",
          "",
          "",
          "",
          "",
          "",
          "",
          "",
          "",
          "",
          "",
          "",
          "",
          "",
          "",
          "",
          "",
          "",
          "",
          "",
          "",
          "",
          "",
          "",
          "",
          "",
          "",
          "",
          "",
          "",
          "",
          "",
          "",
          "",
          "",
          "",
          "",
          "",
          "",
          "",
          "",
          "",
          "",
          "",
          "",
          "",
          "",
          "",
          "",
          ""
         ],
         "type": "sunburst",
         "values": [
          1,
          1,
          1,
          1,
          2,
          1,
          2,
          2,
          2,
          2,
          12,
          9,
          1,
          4,
          5,
          1,
          1,
          1,
          5,
          2,
          1,
          36,
          1,
          6,
          4,
          3,
          2,
          1,
          2,
          1,
          1,
          1,
          1,
          1,
          18,
          1,
          1,
          2,
          1,
          6,
          1,
          1,
          2,
          2,
          1,
          6,
          1,
          2,
          4,
          2,
          4,
          1,
          1,
          5,
          4,
          1,
          2,
          1,
          1,
          2,
          2,
          1,
          1,
          2,
          2,
          4,
          1,
          3,
          1,
          1,
          1,
          2,
          2,
          1,
          1,
          1,
          1,
          1,
          2,
          1,
          2,
          2,
          2,
          2,
          12,
          9,
          1,
          4,
          5,
          1,
          1,
          1,
          5,
          2,
          1,
          38,
          1,
          6,
          4,
          3,
          3,
          1,
          2,
          1,
          1,
          1,
          1,
          1,
          18,
          1,
          1,
          2,
          1,
          6,
          1,
          1,
          2,
          2,
          1,
          6,
          1,
          2,
          4,
          2,
          4,
          1,
          1,
          5,
          4,
          1,
          2,
          1,
          1,
          2,
          2,
          1,
          1,
          2,
          2,
          4,
          1,
          3,
          1,
          1,
          1,
          2,
          2,
          1,
          1,
          1,
          1
         ]
        }
       ],
       "layout": {
        "legend": {
         "tracegroupgap": 0
        },
        "margin": {
         "t": 60
        },
        "template": {
         "data": {
          "bar": [
           {
            "error_x": {
             "color": "#2a3f5f"
            },
            "error_y": {
             "color": "#2a3f5f"
            },
            "marker": {
             "line": {
              "color": "#E5ECF6",
              "width": 0.5
             }
            },
            "type": "bar"
           }
          ],
          "barpolar": [
           {
            "marker": {
             "line": {
              "color": "#E5ECF6",
              "width": 0.5
             }
            },
            "type": "barpolar"
           }
          ],
          "carpet": [
           {
            "aaxis": {
             "endlinecolor": "#2a3f5f",
             "gridcolor": "white",
             "linecolor": "white",
             "minorgridcolor": "white",
             "startlinecolor": "#2a3f5f"
            },
            "baxis": {
             "endlinecolor": "#2a3f5f",
             "gridcolor": "white",
             "linecolor": "white",
             "minorgridcolor": "white",
             "startlinecolor": "#2a3f5f"
            },
            "type": "carpet"
           }
          ],
          "choropleth": [
           {
            "colorbar": {
             "outlinewidth": 0,
             "ticks": ""
            },
            "type": "choropleth"
           }
          ],
          "contour": [
           {
            "colorbar": {
             "outlinewidth": 0,
             "ticks": ""
            },
            "colorscale": [
             [
              0,
              "#0d0887"
             ],
             [
              0.1111111111111111,
              "#46039f"
             ],
             [
              0.2222222222222222,
              "#7201a8"
             ],
             [
              0.3333333333333333,
              "#9c179e"
             ],
             [
              0.4444444444444444,
              "#bd3786"
             ],
             [
              0.5555555555555556,
              "#d8576b"
             ],
             [
              0.6666666666666666,
              "#ed7953"
             ],
             [
              0.7777777777777778,
              "#fb9f3a"
             ],
             [
              0.8888888888888888,
              "#fdca26"
             ],
             [
              1,
              "#f0f921"
             ]
            ],
            "type": "contour"
           }
          ],
          "contourcarpet": [
           {
            "colorbar": {
             "outlinewidth": 0,
             "ticks": ""
            },
            "type": "contourcarpet"
           }
          ],
          "heatmap": [
           {
            "colorbar": {
             "outlinewidth": 0,
             "ticks": ""
            },
            "colorscale": [
             [
              0,
              "#0d0887"
             ],
             [
              0.1111111111111111,
              "#46039f"
             ],
             [
              0.2222222222222222,
              "#7201a8"
             ],
             [
              0.3333333333333333,
              "#9c179e"
             ],
             [
              0.4444444444444444,
              "#bd3786"
             ],
             [
              0.5555555555555556,
              "#d8576b"
             ],
             [
              0.6666666666666666,
              "#ed7953"
             ],
             [
              0.7777777777777778,
              "#fb9f3a"
             ],
             [
              0.8888888888888888,
              "#fdca26"
             ],
             [
              1,
              "#f0f921"
             ]
            ],
            "type": "heatmap"
           }
          ],
          "heatmapgl": [
           {
            "colorbar": {
             "outlinewidth": 0,
             "ticks": ""
            },
            "colorscale": [
             [
              0,
              "#0d0887"
             ],
             [
              0.1111111111111111,
              "#46039f"
             ],
             [
              0.2222222222222222,
              "#7201a8"
             ],
             [
              0.3333333333333333,
              "#9c179e"
             ],
             [
              0.4444444444444444,
              "#bd3786"
             ],
             [
              0.5555555555555556,
              "#d8576b"
             ],
             [
              0.6666666666666666,
              "#ed7953"
             ],
             [
              0.7777777777777778,
              "#fb9f3a"
             ],
             [
              0.8888888888888888,
              "#fdca26"
             ],
             [
              1,
              "#f0f921"
             ]
            ],
            "type": "heatmapgl"
           }
          ],
          "histogram": [
           {
            "marker": {
             "colorbar": {
              "outlinewidth": 0,
              "ticks": ""
             }
            },
            "type": "histogram"
           }
          ],
          "histogram2d": [
           {
            "colorbar": {
             "outlinewidth": 0,
             "ticks": ""
            },
            "colorscale": [
             [
              0,
              "#0d0887"
             ],
             [
              0.1111111111111111,
              "#46039f"
             ],
             [
              0.2222222222222222,
              "#7201a8"
             ],
             [
              0.3333333333333333,
              "#9c179e"
             ],
             [
              0.4444444444444444,
              "#bd3786"
             ],
             [
              0.5555555555555556,
              "#d8576b"
             ],
             [
              0.6666666666666666,
              "#ed7953"
             ],
             [
              0.7777777777777778,
              "#fb9f3a"
             ],
             [
              0.8888888888888888,
              "#fdca26"
             ],
             [
              1,
              "#f0f921"
             ]
            ],
            "type": "histogram2d"
           }
          ],
          "histogram2dcontour": [
           {
            "colorbar": {
             "outlinewidth": 0,
             "ticks": ""
            },
            "colorscale": [
             [
              0,
              "#0d0887"
             ],
             [
              0.1111111111111111,
              "#46039f"
             ],
             [
              0.2222222222222222,
              "#7201a8"
             ],
             [
              0.3333333333333333,
              "#9c179e"
             ],
             [
              0.4444444444444444,
              "#bd3786"
             ],
             [
              0.5555555555555556,
              "#d8576b"
             ],
             [
              0.6666666666666666,
              "#ed7953"
             ],
             [
              0.7777777777777778,
              "#fb9f3a"
             ],
             [
              0.8888888888888888,
              "#fdca26"
             ],
             [
              1,
              "#f0f921"
             ]
            ],
            "type": "histogram2dcontour"
           }
          ],
          "mesh3d": [
           {
            "colorbar": {
             "outlinewidth": 0,
             "ticks": ""
            },
            "type": "mesh3d"
           }
          ],
          "parcoords": [
           {
            "line": {
             "colorbar": {
              "outlinewidth": 0,
              "ticks": ""
             }
            },
            "type": "parcoords"
           }
          ],
          "pie": [
           {
            "automargin": true,
            "type": "pie"
           }
          ],
          "scatter": [
           {
            "marker": {
             "colorbar": {
              "outlinewidth": 0,
              "ticks": ""
             }
            },
            "type": "scatter"
           }
          ],
          "scatter3d": [
           {
            "line": {
             "colorbar": {
              "outlinewidth": 0,
              "ticks": ""
             }
            },
            "marker": {
             "colorbar": {
              "outlinewidth": 0,
              "ticks": ""
             }
            },
            "type": "scatter3d"
           }
          ],
          "scattercarpet": [
           {
            "marker": {
             "colorbar": {
              "outlinewidth": 0,
              "ticks": ""
             }
            },
            "type": "scattercarpet"
           }
          ],
          "scattergeo": [
           {
            "marker": {
             "colorbar": {
              "outlinewidth": 0,
              "ticks": ""
             }
            },
            "type": "scattergeo"
           }
          ],
          "scattergl": [
           {
            "marker": {
             "colorbar": {
              "outlinewidth": 0,
              "ticks": ""
             }
            },
            "type": "scattergl"
           }
          ],
          "scattermapbox": [
           {
            "marker": {
             "colorbar": {
              "outlinewidth": 0,
              "ticks": ""
             }
            },
            "type": "scattermapbox"
           }
          ],
          "scatterpolar": [
           {
            "marker": {
             "colorbar": {
              "outlinewidth": 0,
              "ticks": ""
             }
            },
            "type": "scatterpolar"
           }
          ],
          "scatterpolargl": [
           {
            "marker": {
             "colorbar": {
              "outlinewidth": 0,
              "ticks": ""
             }
            },
            "type": "scatterpolargl"
           }
          ],
          "scatterternary": [
           {
            "marker": {
             "colorbar": {
              "outlinewidth": 0,
              "ticks": ""
             }
            },
            "type": "scatterternary"
           }
          ],
          "surface": [
           {
            "colorbar": {
             "outlinewidth": 0,
             "ticks": ""
            },
            "colorscale": [
             [
              0,
              "#0d0887"
             ],
             [
              0.1111111111111111,
              "#46039f"
             ],
             [
              0.2222222222222222,
              "#7201a8"
             ],
             [
              0.3333333333333333,
              "#9c179e"
             ],
             [
              0.4444444444444444,
              "#bd3786"
             ],
             [
              0.5555555555555556,
              "#d8576b"
             ],
             [
              0.6666666666666666,
              "#ed7953"
             ],
             [
              0.7777777777777778,
              "#fb9f3a"
             ],
             [
              0.8888888888888888,
              "#fdca26"
             ],
             [
              1,
              "#f0f921"
             ]
            ],
            "type": "surface"
           }
          ],
          "table": [
           {
            "cells": {
             "fill": {
              "color": "#EBF0F8"
             },
             "line": {
              "color": "white"
             }
            },
            "header": {
             "fill": {
              "color": "#C8D4E3"
             },
             "line": {
              "color": "white"
             }
            },
            "type": "table"
           }
          ]
         },
         "layout": {
          "annotationdefaults": {
           "arrowcolor": "#2a3f5f",
           "arrowhead": 0,
           "arrowwidth": 1
          },
          "autotypenumbers": "strict",
          "coloraxis": {
           "colorbar": {
            "outlinewidth": 0,
            "ticks": ""
           }
          },
          "colorscale": {
           "diverging": [
            [
             0,
             "#8e0152"
            ],
            [
             0.1,
             "#c51b7d"
            ],
            [
             0.2,
             "#de77ae"
            ],
            [
             0.3,
             "#f1b6da"
            ],
            [
             0.4,
             "#fde0ef"
            ],
            [
             0.5,
             "#f7f7f7"
            ],
            [
             0.6,
             "#e6f5d0"
            ],
            [
             0.7,
             "#b8e186"
            ],
            [
             0.8,
             "#7fbc41"
            ],
            [
             0.9,
             "#4d9221"
            ],
            [
             1,
             "#276419"
            ]
           ],
           "sequential": [
            [
             0,
             "#0d0887"
            ],
            [
             0.1111111111111111,
             "#46039f"
            ],
            [
             0.2222222222222222,
             "#7201a8"
            ],
            [
             0.3333333333333333,
             "#9c179e"
            ],
            [
             0.4444444444444444,
             "#bd3786"
            ],
            [
             0.5555555555555556,
             "#d8576b"
            ],
            [
             0.6666666666666666,
             "#ed7953"
            ],
            [
             0.7777777777777778,
             "#fb9f3a"
            ],
            [
             0.8888888888888888,
             "#fdca26"
            ],
            [
             1,
             "#f0f921"
            ]
           ],
           "sequentialminus": [
            [
             0,
             "#0d0887"
            ],
            [
             0.1111111111111111,
             "#46039f"
            ],
            [
             0.2222222222222222,
             "#7201a8"
            ],
            [
             0.3333333333333333,
             "#9c179e"
            ],
            [
             0.4444444444444444,
             "#bd3786"
            ],
            [
             0.5555555555555556,
             "#d8576b"
            ],
            [
             0.6666666666666666,
             "#ed7953"
            ],
            [
             0.7777777777777778,
             "#fb9f3a"
            ],
            [
             0.8888888888888888,
             "#fdca26"
            ],
            [
             1,
             "#f0f921"
            ]
           ]
          },
          "colorway": [
           "#636efa",
           "#EF553B",
           "#00cc96",
           "#ab63fa",
           "#FFA15A",
           "#19d3f3",
           "#FF6692",
           "#B6E880",
           "#FF97FF",
           "#FECB52"
          ],
          "font": {
           "color": "#2a3f5f"
          },
          "geo": {
           "bgcolor": "white",
           "lakecolor": "white",
           "landcolor": "#E5ECF6",
           "showlakes": true,
           "showland": true,
           "subunitcolor": "white"
          },
          "hoverlabel": {
           "align": "left"
          },
          "hovermode": "closest",
          "mapbox": {
           "style": "light"
          },
          "paper_bgcolor": "white",
          "plot_bgcolor": "#E5ECF6",
          "polar": {
           "angularaxis": {
            "gridcolor": "white",
            "linecolor": "white",
            "ticks": ""
           },
           "bgcolor": "#E5ECF6",
           "radialaxis": {
            "gridcolor": "white",
            "linecolor": "white",
            "ticks": ""
           }
          },
          "scene": {
           "xaxis": {
            "backgroundcolor": "#E5ECF6",
            "gridcolor": "white",
            "gridwidth": 2,
            "linecolor": "white",
            "showbackground": true,
            "ticks": "",
            "zerolinecolor": "white"
           },
           "yaxis": {
            "backgroundcolor": "#E5ECF6",
            "gridcolor": "white",
            "gridwidth": 2,
            "linecolor": "white",
            "showbackground": true,
            "ticks": "",
            "zerolinecolor": "white"
           },
           "zaxis": {
            "backgroundcolor": "#E5ECF6",
            "gridcolor": "white",
            "gridwidth": 2,
            "linecolor": "white",
            "showbackground": true,
            "ticks": "",
            "zerolinecolor": "white"
           }
          },
          "shapedefaults": {
           "line": {
            "color": "#2a3f5f"
           }
          },
          "ternary": {
           "aaxis": {
            "gridcolor": "white",
            "linecolor": "white",
            "ticks": ""
           },
           "baxis": {
            "gridcolor": "white",
            "linecolor": "white",
            "ticks": ""
           },
           "bgcolor": "#E5ECF6",
           "caxis": {
            "gridcolor": "white",
            "linecolor": "white",
            "ticks": ""
           }
          },
          "title": {
           "x": 0.05
          },
          "xaxis": {
           "automargin": true,
           "gridcolor": "white",
           "linecolor": "white",
           "ticks": "",
           "title": {
            "standoff": 15
           },
           "zerolinecolor": "white",
           "zerolinewidth": 2
          },
          "yaxis": {
           "automargin": true,
           "gridcolor": "white",
           "linecolor": "white",
           "ticks": "",
           "title": {
            "standoff": 15
           },
           "zerolinecolor": "white",
           "zerolinewidth": 2
          }
         }
        }
       }
      }
     },
     "metadata": {}
    }
   ],
   "source": [
    "sdf_category_id_event_distribution = spark.sql(\"SELECT category_id, \\\n",
    "                                                          event_type, \\\n",
    "                                                          Count(*) AS Count \\\n",
    "                                                    FROM Data \\\n",
    "                                                    GROUP BY category_id, event_type\")\n",
    "px.sunburst(sdf_category_id_event_distribution.toPandas(), path=['category_id','event_type'], values=\"Count\")"
   ]
  },
  {
   "cell_type": "code",
   "execution_count": 68,
   "metadata": {},
   "outputs": [
    {
     "output_type": "display_data",
     "data": {
      "application/vnd.plotly.v1+json": {
       "config": {
        "plotlyServerURL": "https://plot.ly"
       },
       "data": [
        {
         "branchvalues": "total",
         "domain": {
          "x": [
           0,
           1
          ],
          "y": [
           0,
           1
          ]
         },
         "hovertemplate": "labels=%{label}<br>Count=%{value}<br>parent=%{parent}<br>id=%{id}<extra></extra>",
         "ids": [
          "1005014/cart",
          "1005161/purchase",
          "13200605/purchase",
          "1002544/view",
          "1003316/view",
          "1003317/view",
          "1003461/view",
          "1003869/view",
          "1004184/view",
          "1004237/view",
          "1004241/view",
          "1004258/view",
          "1004322/view",
          "1004566/view",
          "1004708/view",
          "1004720/view",
          "1004740/view",
          "1004748/view",
          "1004767/view",
          "1004775/view",
          "1004779/view",
          "1004833/view",
          "1004834/view",
          "1004840/view",
          "1004856/view",
          "1004877/view",
          "1004990/view",
          "1005115/view",
          "1005116/view",
          "1005161/view",
          "1005234/view",
          "10301494/view",
          "10701060/view",
          "10800076/view",
          "10800182/view",
          "12300231/view",
          "12300394/view",
          "12300928/view",
          "12301394/view",
          "12701967/view",
          "12705151/view",
          "12705258/view",
          "12708306/view",
          "12708937/view",
          "12710321/view",
          "12719154/view",
          "12719892/view",
          "12720155/view",
          "12720378/view",
          "1303355/view",
          "1304315/view",
          "1305977/view",
          "1306421/view",
          "1306571/view",
          "1306894/view",
          "1306895/view",
          "1307012/view",
          "1307065/view",
          "1307095/view",
          "1307115/view",
          "1307255/view",
          "1307322/view",
          "1307338/view",
          "1307340/view",
          "1307350/view",
          "1307519/view",
          "13100745/view",
          "13102283/view",
          "13200605/view",
          "13600340/view",
          "15100148/view",
          "15100252/view",
          "15100337/view",
          "15200565/view",
          "15200567/view",
          "15700204/view",
          "15800155/view",
          "15900065/view",
          "16000004/view",
          "1600557/view",
          "1600587/view",
          "16700260/view",
          "16700384/view",
          "16700690/view",
          "16700826/view",
          "16900083/view",
          "17200558/view",
          "17200570/view",
          "17300016/view",
          "17300072/view",
          "17300136/view",
          "17300435/view",
          "17301421/view",
          "17301495/view",
          "17301611/view",
          "17302664/view",
          "17501048/view",
          "17601982/view",
          "17800132/view",
          "1800729/view",
          "18100030/view",
          "18100047/view",
          "21400135/view",
          "21405259/view",
          "21406939/view",
          "21407128/view",
          "21408240/view",
          "2200958/view",
          "2201037/view",
          "22700007/view",
          "22700067/view",
          "22700084/view",
          "22700202/view",
          "22700205/view",
          "22700324/view",
          "2300214/view",
          "24400436/view",
          "24400437/view",
          "24900193/view",
          "25600085/view",
          "26019863/view",
          "26022534/view",
          "26100002/view",
          "26204072/view",
          "26400273/view",
          "26400585/view",
          "26402378/view",
          "26404402/view",
          "2700598/view",
          "2701305/view",
          "2701419/view",
          "2701517/view",
          "2702611/view",
          "27400066/view",
          "27800054/view",
          "27800061/view",
          "29900072/view",
          "30000218/view",
          "30100041/view",
          "31000152/view",
          "32900064/view",
          "34600011/view",
          "34600119/view",
          "34800573/view",
          "3601530/view",
          "36600031/view",
          "3701016/view",
          "37900026/view",
          "38900011/view",
          "3901174/view",
          "40900007/view",
          "4100297/view",
          "41100033/view",
          "41100050/view",
          "41100055/view",
          "41100058/view",
          "42900023/view",
          "43200121/view",
          "44300009/view",
          "44300026/view",
          "44300043/view",
          "45601414/view",
          "4600541/view",
          "4600603/view",
          "4600658/view",
          "4804151/view",
          "4804194/view",
          "4804295/view",
          "4804420/view",
          "5000088/view",
          "50600046/view",
          "50600085/view",
          "5100503/view",
          "5100797/view",
          "5100851/view",
          "5100855/view",
          "52000038/view",
          "52000058/view",
          "53900036/view",
          "5700352/view",
          "5700662/view",
          "5701331/view",
          "57300036/view",
          "5800506/view",
          "5801483/view",
          "5801550/view",
          "5801656/view",
          "6500912/view",
          "6700582/view",
          "7100133/view",
          "1002544",
          "1003316",
          "1003317",
          "1003461",
          "1003869",
          "1004184",
          "1004237",
          "1004241",
          "1004258",
          "1004322",
          "1004566",
          "1004708",
          "1004720",
          "1004740",
          "1004748",
          "1004767",
          "1004775",
          "1004779",
          "1004833",
          "1004834",
          "1004840",
          "1004856",
          "1004877",
          "1004990",
          "1005014",
          "1005115",
          "1005116",
          "1005161",
          "1005234",
          "10301494",
          "10701060",
          "10800076",
          "10800182",
          "12300231",
          "12300394",
          "12300928",
          "12301394",
          "12701967",
          "12705151",
          "12705258",
          "12708306",
          "12708937",
          "12710321",
          "12719154",
          "12719892",
          "12720155",
          "12720378",
          "1303355",
          "1304315",
          "1305977",
          "1306421",
          "1306571",
          "1306894",
          "1306895",
          "1307012",
          "1307065",
          "1307095",
          "1307115",
          "1307255",
          "1307322",
          "1307338",
          "1307340",
          "1307350",
          "1307519",
          "13100745",
          "13102283",
          "13200605",
          "13600340",
          "15100148",
          "15100252",
          "15100337",
          "15200565",
          "15200567",
          "15700204",
          "15800155",
          "15900065",
          "16000004",
          "1600557",
          "1600587",
          "16700260",
          "16700384",
          "16700690",
          "16700826",
          "16900083",
          "17200558",
          "17200570",
          "17300016",
          "17300072",
          "17300136",
          "17300435",
          "17301421",
          "17301495",
          "17301611",
          "17302664",
          "17501048",
          "17601982",
          "17800132",
          "1800729",
          "18100030",
          "18100047",
          "21400135",
          "21405259",
          "21406939",
          "21407128",
          "21408240",
          "2200958",
          "2201037",
          "22700007",
          "22700067",
          "22700084",
          "22700202",
          "22700205",
          "22700324",
          "2300214",
          "24400436",
          "24400437",
          "24900193",
          "25600085",
          "26019863",
          "26022534",
          "26100002",
          "26204072",
          "26400273",
          "26400585",
          "26402378",
          "26404402",
          "2700598",
          "2701305",
          "2701419",
          "2701517",
          "2702611",
          "27400066",
          "27800054",
          "27800061",
          "29900072",
          "30000218",
          "30100041",
          "31000152",
          "32900064",
          "34600011",
          "34600119",
          "34800573",
          "3601530",
          "36600031",
          "3701016",
          "37900026",
          "38900011",
          "3901174",
          "40900007",
          "4100297",
          "41100033",
          "41100050",
          "41100055",
          "41100058",
          "42900023",
          "43200121",
          "44300009",
          "44300026",
          "44300043",
          "45601414",
          "4600541",
          "4600603",
          "4600658",
          "4804151",
          "4804194",
          "4804295",
          "4804420",
          "5000088",
          "50600046",
          "50600085",
          "5100503",
          "5100797",
          "5100851",
          "5100855",
          "52000038",
          "52000058",
          "53900036",
          "5700352",
          "5700662",
          "5701331",
          "57300036",
          "5800506",
          "5801483",
          "5801550",
          "5801656",
          "6500912",
          "6700582",
          "7100133"
         ],
         "labels": [
          "cart",
          "purchase",
          "purchase",
          "view",
          "view",
          "view",
          "view",
          "view",
          "view",
          "view",
          "view",
          "view",
          "view",
          "view",
          "view",
          "view",
          "view",
          "view",
          "view",
          "view",
          "view",
          "view",
          "view",
          "view",
          "view",
          "view",
          "view",
          "view",
          "view",
          "view",
          "view",
          "view",
          "view",
          "view",
          "view",
          "view",
          "view",
          "view",
          "view",
          "view",
          "view",
          "view",
          "view",
          "view",
          "view",
          "view",
          "view",
          "view",
          "view",
          "view",
          "view",
          "view",
          "view",
          "view",
          "view",
          "view",
          "view",
          "view",
          "view",
          "view",
          "view",
          "view",
          "view",
          "view",
          "view",
          "view",
          "view",
          "view",
          "view",
          "view",
          "view",
          "view",
          "view",
          "view",
          "view",
          "view",
          "view",
          "view",
          "view",
          "view",
          "view",
          "view",
          "view",
          "view",
          "view",
          "view",
          "view",
          "view",
          "view",
          "view",
          "view",
          "view",
          "view",
          "view",
          "view",
          "view",
          "view",
          "view",
          "view",
          "view",
          "view",
          "view",
          "view",
          "view",
          "view",
          "view",
          "view",
          "view",
          "view",
          "view",
          "view",
          "view",
          "view",
          "view",
          "view",
          "view",
          "view",
          "view",
          "view",
          "view",
          "view",
          "view",
          "view",
          "view",
          "view",
          "view",
          "view",
          "view",
          "view",
          "view",
          "view",
          "view",
          "view",
          "view",
          "view",
          "view",
          "view",
          "view",
          "view",
          "view",
          "view",
          "view",
          "view",
          "view",
          "view",
          "view",
          "view",
          "view",
          "view",
          "view",
          "view",
          "view",
          "view",
          "view",
          "view",
          "view",
          "view",
          "view",
          "view",
          "view",
          "view",
          "view",
          "view",
          "view",
          "view",
          "view",
          "view",
          "view",
          "view",
          "view",
          "view",
          "view",
          "view",
          "view",
          "view",
          "view",
          "view",
          "view",
          "view",
          "view",
          "view",
          "view",
          "view",
          "view",
          "view",
          "view",
          "view",
          "view",
          "view",
          "view",
          "1002544",
          "1003316",
          "1003317",
          "1003461",
          "1003869",
          "1004184",
          "1004237",
          "1004241",
          "1004258",
          "1004322",
          "1004566",
          "1004708",
          "1004720",
          "1004740",
          "1004748",
          "1004767",
          "1004775",
          "1004779",
          "1004833",
          "1004834",
          "1004840",
          "1004856",
          "1004877",
          "1004990",
          "1005014",
          "1005115",
          "1005116",
          "1005161",
          "1005234",
          "10301494",
          "10701060",
          "10800076",
          "10800182",
          "12300231",
          "12300394",
          "12300928",
          "12301394",
          "12701967",
          "12705151",
          "12705258",
          "12708306",
          "12708937",
          "12710321",
          "12719154",
          "12719892",
          "12720155",
          "12720378",
          "1303355",
          "1304315",
          "1305977",
          "1306421",
          "1306571",
          "1306894",
          "1306895",
          "1307012",
          "1307065",
          "1307095",
          "1307115",
          "1307255",
          "1307322",
          "1307338",
          "1307340",
          "1307350",
          "1307519",
          "13100745",
          "13102283",
          "13200605",
          "13600340",
          "15100148",
          "15100252",
          "15100337",
          "15200565",
          "15200567",
          "15700204",
          "15800155",
          "15900065",
          "16000004",
          "1600557",
          "1600587",
          "16700260",
          "16700384",
          "16700690",
          "16700826",
          "16900083",
          "17200558",
          "17200570",
          "17300016",
          "17300072",
          "17300136",
          "17300435",
          "17301421",
          "17301495",
          "17301611",
          "17302664",
          "17501048",
          "17601982",
          "17800132",
          "1800729",
          "18100030",
          "18100047",
          "21400135",
          "21405259",
          "21406939",
          "21407128",
          "21408240",
          "2200958",
          "2201037",
          "22700007",
          "22700067",
          "22700084",
          "22700202",
          "22700205",
          "22700324",
          "2300214",
          "24400436",
          "24400437",
          "24900193",
          "25600085",
          "26019863",
          "26022534",
          "26100002",
          "26204072",
          "26400273",
          "26400585",
          "26402378",
          "26404402",
          "2700598",
          "2701305",
          "2701419",
          "2701517",
          "2702611",
          "27400066",
          "27800054",
          "27800061",
          "29900072",
          "30000218",
          "30100041",
          "31000152",
          "32900064",
          "34600011",
          "34600119",
          "34800573",
          "3601530",
          "36600031",
          "3701016",
          "37900026",
          "38900011",
          "3901174",
          "40900007",
          "4100297",
          "41100033",
          "41100050",
          "41100055",
          "41100058",
          "42900023",
          "43200121",
          "44300009",
          "44300026",
          "44300043",
          "45601414",
          "4600541",
          "4600603",
          "4600658",
          "4804151",
          "4804194",
          "4804295",
          "4804420",
          "5000088",
          "50600046",
          "50600085",
          "5100503",
          "5100797",
          "5100851",
          "5100855",
          "52000038",
          "52000058",
          "53900036",
          "5700352",
          "5700662",
          "5701331",
          "57300036",
          "5800506",
          "5801483",
          "5801550",
          "5801656",
          "6500912",
          "6700582",
          "7100133"
         ],
         "name": "",
         "parents": [
          "1005014",
          "1005161",
          "13200605",
          "1002544",
          "1003316",
          "1003317",
          "1003461",
          "1003869",
          "1004184",
          "1004237",
          "1004241",
          "1004258",
          "1004322",
          "1004566",
          "1004708",
          "1004720",
          "1004740",
          "1004748",
          "1004767",
          "1004775",
          "1004779",
          "1004833",
          "1004834",
          "1004840",
          "1004856",
          "1004877",
          "1004990",
          "1005115",
          "1005116",
          "1005161",
          "1005234",
          "10301494",
          "10701060",
          "10800076",
          "10800182",
          "12300231",
          "12300394",
          "12300928",
          "12301394",
          "12701967",
          "12705151",
          "12705258",
          "12708306",
          "12708937",
          "12710321",
          "12719154",
          "12719892",
          "12720155",
          "12720378",
          "1303355",
          "1304315",
          "1305977",
          "1306421",
          "1306571",
          "1306894",
          "1306895",
          "1307012",
          "1307065",
          "1307095",
          "1307115",
          "1307255",
          "1307322",
          "1307338",
          "1307340",
          "1307350",
          "1307519",
          "13100745",
          "13102283",
          "13200605",
          "13600340",
          "15100148",
          "15100252",
          "15100337",
          "15200565",
          "15200567",
          "15700204",
          "15800155",
          "15900065",
          "16000004",
          "1600557",
          "1600587",
          "16700260",
          "16700384",
          "16700690",
          "16700826",
          "16900083",
          "17200558",
          "17200570",
          "17300016",
          "17300072",
          "17300136",
          "17300435",
          "17301421",
          "17301495",
          "17301611",
          "17302664",
          "17501048",
          "17601982",
          "17800132",
          "1800729",
          "18100030",
          "18100047",
          "21400135",
          "21405259",
          "21406939",
          "21407128",
          "21408240",
          "2200958",
          "2201037",
          "22700007",
          "22700067",
          "22700084",
          "22700202",
          "22700205",
          "22700324",
          "2300214",
          "24400436",
          "24400437",
          "24900193",
          "25600085",
          "26019863",
          "26022534",
          "26100002",
          "26204072",
          "26400273",
          "26400585",
          "26402378",
          "26404402",
          "2700598",
          "2701305",
          "2701419",
          "2701517",
          "2702611",
          "27400066",
          "27800054",
          "27800061",
          "29900072",
          "30000218",
          "30100041",
          "31000152",
          "32900064",
          "34600011",
          "34600119",
          "34800573",
          "3601530",
          "36600031",
          "3701016",
          "37900026",
          "38900011",
          "3901174",
          "40900007",
          "4100297",
          "41100033",
          "41100050",
          "41100055",
          "41100058",
          "42900023",
          "43200121",
          "44300009",
          "44300026",
          "44300043",
          "45601414",
          "4600541",
          "4600603",
          "4600658",
          "4804151",
          "4804194",
          "4804295",
          "4804420",
          "5000088",
          "50600046",
          "50600085",
          "5100503",
          "5100797",
          "5100851",
          "5100855",
          "52000038",
          "52000058",
          "53900036",
          "5700352",
          "5700662",
          "5701331",
          "57300036",
          "5800506",
          "5801483",
          "5801550",
          "5801656",
          "6500912",
          "6700582",
          "7100133",
          "",
          "",
          "",
          "",
          "",
          "",
          "",
          "",
          "",
          "",
          "",
          "",
          "",
          "",
          "",
          "",
          "",
          "",
          "",
          "",
          "",
          "",
          "",
          "",
          "",
          "",
          "",
          "",
          "",
          "",
          "",
          "",
          "",
          "",
          "",
          "",
          "",
          "",
          "",
          "",
          "",
          "",
          "",
          "",
          "",
          "",
          "",
          "",
          "",
          "",
          "",
          "",
          "",
          "",
          "",
          "",
          "",
          "",
          "",
          "",
          "",
          "",
          "",
          "",
          "",
          "",
          "",
          "",
          "",
          "",
          "",
          "",
          "",
          "",
          "",
          "",
          "",
          "",
          "",
          "",
          "",
          "",
          "",
          "",
          "",
          "",
          "",
          "",
          "",
          "",
          "",
          "",
          "",
          "",
          "",
          "",
          "",
          "",
          "",
          "",
          "",
          "",
          "",
          "",
          "",
          "",
          "",
          "",
          "",
          "",
          "",
          "",
          "",
          "",
          "",
          "",
          "",
          "",
          "",
          "",
          "",
          "",
          "",
          "",
          "",
          "",
          "",
          "",
          "",
          "",
          "",
          "",
          "",
          "",
          "",
          "",
          "",
          "",
          "",
          "",
          "",
          "",
          "",
          "",
          "",
          "",
          "",
          "",
          "",
          "",
          "",
          "",
          "",
          "",
          "",
          "",
          "",
          "",
          "",
          "",
          "",
          "",
          "",
          "",
          "",
          "",
          "",
          "",
          "",
          "",
          "",
          "",
          "",
          "",
          "",
          "",
          "",
          "",
          "",
          "",
          "",
          "",
          "",
          "",
          "",
          "",
          "",
          ""
         ],
         "type": "sunburst",
         "values": [
          1,
          1,
          1,
          1,
          2,
          1,
          2,
          1,
          1,
          2,
          1,
          2,
          1,
          1,
          1,
          1,
          1,
          1,
          2,
          2,
          1,
          1,
          1,
          1,
          2,
          1,
          1,
          1,
          2,
          1,
          1,
          1,
          1,
          1,
          1,
          1,
          1,
          1,
          1,
          1,
          1,
          1,
          1,
          3,
          1,
          1,
          1,
          1,
          1,
          1,
          1,
          1,
          1,
          1,
          1,
          1,
          1,
          1,
          1,
          2,
          1,
          1,
          1,
          1,
          1,
          1,
          1,
          1,
          2,
          1,
          1,
          1,
          1,
          1,
          1,
          1,
          1,
          1,
          1,
          1,
          1,
          1,
          2,
          1,
          2,
          1,
          1,
          1,
          1,
          2,
          1,
          1,
          1,
          1,
          1,
          1,
          1,
          1,
          1,
          1,
          1,
          1,
          1,
          1,
          1,
          1,
          2,
          1,
          1,
          1,
          1,
          1,
          1,
          1,
          1,
          1,
          1,
          3,
          1,
          1,
          1,
          1,
          1,
          1,
          1,
          1,
          1,
          1,
          1,
          1,
          1,
          1,
          1,
          2,
          1,
          1,
          2,
          1,
          1,
          1,
          1,
          1,
          1,
          1,
          1,
          1,
          1,
          1,
          2,
          1,
          1,
          2,
          1,
          1,
          1,
          1,
          1,
          1,
          1,
          1,
          1,
          1,
          1,
          2,
          1,
          1,
          1,
          2,
          1,
          2,
          1,
          1,
          1,
          1,
          1,
          1,
          1,
          1,
          1,
          1,
          1,
          3,
          1,
          1,
          1,
          1,
          1,
          1,
          1,
          1,
          1,
          2,
          1,
          2,
          1,
          1,
          2,
          1,
          2,
          1,
          1,
          1,
          1,
          1,
          1,
          2,
          2,
          1,
          1,
          1,
          1,
          2,
          1,
          1,
          1,
          1,
          2,
          2,
          1,
          1,
          1,
          1,
          1,
          1,
          1,
          1,
          1,
          1,
          1,
          1,
          1,
          3,
          1,
          1,
          1,
          1,
          1,
          1,
          1,
          1,
          1,
          1,
          1,
          1,
          1,
          1,
          1,
          2,
          1,
          1,
          1,
          1,
          1,
          1,
          1,
          1,
          3,
          1,
          1,
          1,
          1,
          1,
          1,
          1,
          1,
          1,
          1,
          1,
          1,
          1,
          2,
          1,
          2,
          1,
          1,
          1,
          1,
          2,
          1,
          1,
          1,
          1,
          1,
          1,
          1,
          1,
          1,
          1,
          1,
          1,
          1,
          1,
          1,
          1,
          2,
          1,
          1,
          1,
          1,
          1,
          1,
          1,
          1,
          1,
          1,
          3,
          1,
          1,
          1,
          1,
          1,
          1,
          1,
          1,
          1,
          1,
          1,
          1,
          1,
          1,
          1,
          2,
          1,
          1,
          2,
          1,
          1,
          1,
          1,
          1,
          1,
          1,
          1,
          1,
          1,
          1,
          2,
          1,
          1,
          2,
          1,
          1,
          1,
          1,
          1,
          1,
          1,
          1,
          1,
          1,
          1,
          2,
          1,
          1,
          1,
          2,
          1,
          2,
          1,
          1,
          1,
          1,
          1,
          1,
          1,
          1,
          1,
          1,
          1,
          3,
          1,
          1,
          1,
          1,
          1,
          1,
          1,
          1
         ]
        }
       ],
       "layout": {
        "legend": {
         "tracegroupgap": 0
        },
        "margin": {
         "t": 60
        },
        "template": {
         "data": {
          "bar": [
           {
            "error_x": {
             "color": "#2a3f5f"
            },
            "error_y": {
             "color": "#2a3f5f"
            },
            "marker": {
             "line": {
              "color": "#E5ECF6",
              "width": 0.5
             }
            },
            "type": "bar"
           }
          ],
          "barpolar": [
           {
            "marker": {
             "line": {
              "color": "#E5ECF6",
              "width": 0.5
             }
            },
            "type": "barpolar"
           }
          ],
          "carpet": [
           {
            "aaxis": {
             "endlinecolor": "#2a3f5f",
             "gridcolor": "white",
             "linecolor": "white",
             "minorgridcolor": "white",
             "startlinecolor": "#2a3f5f"
            },
            "baxis": {
             "endlinecolor": "#2a3f5f",
             "gridcolor": "white",
             "linecolor": "white",
             "minorgridcolor": "white",
             "startlinecolor": "#2a3f5f"
            },
            "type": "carpet"
           }
          ],
          "choropleth": [
           {
            "colorbar": {
             "outlinewidth": 0,
             "ticks": ""
            },
            "type": "choropleth"
           }
          ],
          "contour": [
           {
            "colorbar": {
             "outlinewidth": 0,
             "ticks": ""
            },
            "colorscale": [
             [
              0,
              "#0d0887"
             ],
             [
              0.1111111111111111,
              "#46039f"
             ],
             [
              0.2222222222222222,
              "#7201a8"
             ],
             [
              0.3333333333333333,
              "#9c179e"
             ],
             [
              0.4444444444444444,
              "#bd3786"
             ],
             [
              0.5555555555555556,
              "#d8576b"
             ],
             [
              0.6666666666666666,
              "#ed7953"
             ],
             [
              0.7777777777777778,
              "#fb9f3a"
             ],
             [
              0.8888888888888888,
              "#fdca26"
             ],
             [
              1,
              "#f0f921"
             ]
            ],
            "type": "contour"
           }
          ],
          "contourcarpet": [
           {
            "colorbar": {
             "outlinewidth": 0,
             "ticks": ""
            },
            "type": "contourcarpet"
           }
          ],
          "heatmap": [
           {
            "colorbar": {
             "outlinewidth": 0,
             "ticks": ""
            },
            "colorscale": [
             [
              0,
              "#0d0887"
             ],
             [
              0.1111111111111111,
              "#46039f"
             ],
             [
              0.2222222222222222,
              "#7201a8"
             ],
             [
              0.3333333333333333,
              "#9c179e"
             ],
             [
              0.4444444444444444,
              "#bd3786"
             ],
             [
              0.5555555555555556,
              "#d8576b"
             ],
             [
              0.6666666666666666,
              "#ed7953"
             ],
             [
              0.7777777777777778,
              "#fb9f3a"
             ],
             [
              0.8888888888888888,
              "#fdca26"
             ],
             [
              1,
              "#f0f921"
             ]
            ],
            "type": "heatmap"
           }
          ],
          "heatmapgl": [
           {
            "colorbar": {
             "outlinewidth": 0,
             "ticks": ""
            },
            "colorscale": [
             [
              0,
              "#0d0887"
             ],
             [
              0.1111111111111111,
              "#46039f"
             ],
             [
              0.2222222222222222,
              "#7201a8"
             ],
             [
              0.3333333333333333,
              "#9c179e"
             ],
             [
              0.4444444444444444,
              "#bd3786"
             ],
             [
              0.5555555555555556,
              "#d8576b"
             ],
             [
              0.6666666666666666,
              "#ed7953"
             ],
             [
              0.7777777777777778,
              "#fb9f3a"
             ],
             [
              0.8888888888888888,
              "#fdca26"
             ],
             [
              1,
              "#f0f921"
             ]
            ],
            "type": "heatmapgl"
           }
          ],
          "histogram": [
           {
            "marker": {
             "colorbar": {
              "outlinewidth": 0,
              "ticks": ""
             }
            },
            "type": "histogram"
           }
          ],
          "histogram2d": [
           {
            "colorbar": {
             "outlinewidth": 0,
             "ticks": ""
            },
            "colorscale": [
             [
              0,
              "#0d0887"
             ],
             [
              0.1111111111111111,
              "#46039f"
             ],
             [
              0.2222222222222222,
              "#7201a8"
             ],
             [
              0.3333333333333333,
              "#9c179e"
             ],
             [
              0.4444444444444444,
              "#bd3786"
             ],
             [
              0.5555555555555556,
              "#d8576b"
             ],
             [
              0.6666666666666666,
              "#ed7953"
             ],
             [
              0.7777777777777778,
              "#fb9f3a"
             ],
             [
              0.8888888888888888,
              "#fdca26"
             ],
             [
              1,
              "#f0f921"
             ]
            ],
            "type": "histogram2d"
           }
          ],
          "histogram2dcontour": [
           {
            "colorbar": {
             "outlinewidth": 0,
             "ticks": ""
            },
            "colorscale": [
             [
              0,
              "#0d0887"
             ],
             [
              0.1111111111111111,
              "#46039f"
             ],
             [
              0.2222222222222222,
              "#7201a8"
             ],
             [
              0.3333333333333333,
              "#9c179e"
             ],
             [
              0.4444444444444444,
              "#bd3786"
             ],
             [
              0.5555555555555556,
              "#d8576b"
             ],
             [
              0.6666666666666666,
              "#ed7953"
             ],
             [
              0.7777777777777778,
              "#fb9f3a"
             ],
             [
              0.8888888888888888,
              "#fdca26"
             ],
             [
              1,
              "#f0f921"
             ]
            ],
            "type": "histogram2dcontour"
           }
          ],
          "mesh3d": [
           {
            "colorbar": {
             "outlinewidth": 0,
             "ticks": ""
            },
            "type": "mesh3d"
           }
          ],
          "parcoords": [
           {
            "line": {
             "colorbar": {
              "outlinewidth": 0,
              "ticks": ""
             }
            },
            "type": "parcoords"
           }
          ],
          "pie": [
           {
            "automargin": true,
            "type": "pie"
           }
          ],
          "scatter": [
           {
            "marker": {
             "colorbar": {
              "outlinewidth": 0,
              "ticks": ""
             }
            },
            "type": "scatter"
           }
          ],
          "scatter3d": [
           {
            "line": {
             "colorbar": {
              "outlinewidth": 0,
              "ticks": ""
             }
            },
            "marker": {
             "colorbar": {
              "outlinewidth": 0,
              "ticks": ""
             }
            },
            "type": "scatter3d"
           }
          ],
          "scattercarpet": [
           {
            "marker": {
             "colorbar": {
              "outlinewidth": 0,
              "ticks": ""
             }
            },
            "type": "scattercarpet"
           }
          ],
          "scattergeo": [
           {
            "marker": {
             "colorbar": {
              "outlinewidth": 0,
              "ticks": ""
             }
            },
            "type": "scattergeo"
           }
          ],
          "scattergl": [
           {
            "marker": {
             "colorbar": {
              "outlinewidth": 0,
              "ticks": ""
             }
            },
            "type": "scattergl"
           }
          ],
          "scattermapbox": [
           {
            "marker": {
             "colorbar": {
              "outlinewidth": 0,
              "ticks": ""
             }
            },
            "type": "scattermapbox"
           }
          ],
          "scatterpolar": [
           {
            "marker": {
             "colorbar": {
              "outlinewidth": 0,
              "ticks": ""
             }
            },
            "type": "scatterpolar"
           }
          ],
          "scatterpolargl": [
           {
            "marker": {
             "colorbar": {
              "outlinewidth": 0,
              "ticks": ""
             }
            },
            "type": "scatterpolargl"
           }
          ],
          "scatterternary": [
           {
            "marker": {
             "colorbar": {
              "outlinewidth": 0,
              "ticks": ""
             }
            },
            "type": "scatterternary"
           }
          ],
          "surface": [
           {
            "colorbar": {
             "outlinewidth": 0,
             "ticks": ""
            },
            "colorscale": [
             [
              0,
              "#0d0887"
             ],
             [
              0.1111111111111111,
              "#46039f"
             ],
             [
              0.2222222222222222,
              "#7201a8"
             ],
             [
              0.3333333333333333,
              "#9c179e"
             ],
             [
              0.4444444444444444,
              "#bd3786"
             ],
             [
              0.5555555555555556,
              "#d8576b"
             ],
             [
              0.6666666666666666,
              "#ed7953"
             ],
             [
              0.7777777777777778,
              "#fb9f3a"
             ],
             [
              0.8888888888888888,
              "#fdca26"
             ],
             [
              1,
              "#f0f921"
             ]
            ],
            "type": "surface"
           }
          ],
          "table": [
           {
            "cells": {
             "fill": {
              "color": "#EBF0F8"
             },
             "line": {
              "color": "white"
             }
            },
            "header": {
             "fill": {
              "color": "#C8D4E3"
             },
             "line": {
              "color": "white"
             }
            },
            "type": "table"
           }
          ]
         },
         "layout": {
          "annotationdefaults": {
           "arrowcolor": "#2a3f5f",
           "arrowhead": 0,
           "arrowwidth": 1
          },
          "autotypenumbers": "strict",
          "coloraxis": {
           "colorbar": {
            "outlinewidth": 0,
            "ticks": ""
           }
          },
          "colorscale": {
           "diverging": [
            [
             0,
             "#8e0152"
            ],
            [
             0.1,
             "#c51b7d"
            ],
            [
             0.2,
             "#de77ae"
            ],
            [
             0.3,
             "#f1b6da"
            ],
            [
             0.4,
             "#fde0ef"
            ],
            [
             0.5,
             "#f7f7f7"
            ],
            [
             0.6,
             "#e6f5d0"
            ],
            [
             0.7,
             "#b8e186"
            ],
            [
             0.8,
             "#7fbc41"
            ],
            [
             0.9,
             "#4d9221"
            ],
            [
             1,
             "#276419"
            ]
           ],
           "sequential": [
            [
             0,
             "#0d0887"
            ],
            [
             0.1111111111111111,
             "#46039f"
            ],
            [
             0.2222222222222222,
             "#7201a8"
            ],
            [
             0.3333333333333333,
             "#9c179e"
            ],
            [
             0.4444444444444444,
             "#bd3786"
            ],
            [
             0.5555555555555556,
             "#d8576b"
            ],
            [
             0.6666666666666666,
             "#ed7953"
            ],
            [
             0.7777777777777778,
             "#fb9f3a"
            ],
            [
             0.8888888888888888,
             "#fdca26"
            ],
            [
             1,
             "#f0f921"
            ]
           ],
           "sequentialminus": [
            [
             0,
             "#0d0887"
            ],
            [
             0.1111111111111111,
             "#46039f"
            ],
            [
             0.2222222222222222,
             "#7201a8"
            ],
            [
             0.3333333333333333,
             "#9c179e"
            ],
            [
             0.4444444444444444,
             "#bd3786"
            ],
            [
             0.5555555555555556,
             "#d8576b"
            ],
            [
             0.6666666666666666,
             "#ed7953"
            ],
            [
             0.7777777777777778,
             "#fb9f3a"
            ],
            [
             0.8888888888888888,
             "#fdca26"
            ],
            [
             1,
             "#f0f921"
            ]
           ]
          },
          "colorway": [
           "#636efa",
           "#EF553B",
           "#00cc96",
           "#ab63fa",
           "#FFA15A",
           "#19d3f3",
           "#FF6692",
           "#B6E880",
           "#FF97FF",
           "#FECB52"
          ],
          "font": {
           "color": "#2a3f5f"
          },
          "geo": {
           "bgcolor": "white",
           "lakecolor": "white",
           "landcolor": "#E5ECF6",
           "showlakes": true,
           "showland": true,
           "subunitcolor": "white"
          },
          "hoverlabel": {
           "align": "left"
          },
          "hovermode": "closest",
          "mapbox": {
           "style": "light"
          },
          "paper_bgcolor": "white",
          "plot_bgcolor": "#E5ECF6",
          "polar": {
           "angularaxis": {
            "gridcolor": "white",
            "linecolor": "white",
            "ticks": ""
           },
           "bgcolor": "#E5ECF6",
           "radialaxis": {
            "gridcolor": "white",
            "linecolor": "white",
            "ticks": ""
           }
          },
          "scene": {
           "xaxis": {
            "backgroundcolor": "#E5ECF6",
            "gridcolor": "white",
            "gridwidth": 2,
            "linecolor": "white",
            "showbackground": true,
            "ticks": "",
            "zerolinecolor": "white"
           },
           "yaxis": {
            "backgroundcolor": "#E5ECF6",
            "gridcolor": "white",
            "gridwidth": 2,
            "linecolor": "white",
            "showbackground": true,
            "ticks": "",
            "zerolinecolor": "white"
           },
           "zaxis": {
            "backgroundcolor": "#E5ECF6",
            "gridcolor": "white",
            "gridwidth": 2,
            "linecolor": "white",
            "showbackground": true,
            "ticks": "",
            "zerolinecolor": "white"
           }
          },
          "shapedefaults": {
           "line": {
            "color": "#2a3f5f"
           }
          },
          "ternary": {
           "aaxis": {
            "gridcolor": "white",
            "linecolor": "white",
            "ticks": ""
           },
           "baxis": {
            "gridcolor": "white",
            "linecolor": "white",
            "ticks": ""
           },
           "bgcolor": "#E5ECF6",
           "caxis": {
            "gridcolor": "white",
            "linecolor": "white",
            "ticks": ""
           }
          },
          "title": {
           "x": 0.05
          },
          "xaxis": {
           "automargin": true,
           "gridcolor": "white",
           "linecolor": "white",
           "ticks": "",
           "title": {
            "standoff": 15
           },
           "zerolinecolor": "white",
           "zerolinewidth": 2
          },
          "yaxis": {
           "automargin": true,
           "gridcolor": "white",
           "linecolor": "white",
           "ticks": "",
           "title": {
            "standoff": 15
           },
           "zerolinecolor": "white",
           "zerolinewidth": 2
          }
         }
        }
       }
      }
     },
     "metadata": {}
    }
   ],
   "source": [
    "sdf_product_id_event_distribution = spark.sql(\"SELECT product_id, \\\n",
    "                                                          event_type, \\\n",
    "                                                          Count(*) AS Count \\\n",
    "                                                    FROM Data \\\n",
    "                                                    GROUP BY product_id, event_type\")\n",
    "px.sunburst(sdf_product_id_event_distribution.toPandas(), path=['product_id','event_type'], values=\"Count\")"
   ]
  },
  {
   "cell_type": "code",
   "execution_count": 69,
   "metadata": {},
   "outputs": [
    {
     "output_type": "display_data",
     "data": {
      "application/vnd.plotly.v1+json": {
       "config": {
        "plotlyServerURL": "https://plot.ly"
       },
       "data": [
        {
         "branchvalues": "total",
         "domain": {
          "x": [
           0,
           1
          ],
          "y": [
           0,
           1
          ]
         },
         "hovertemplate": "labels=%{label}<br>Count=%{value}<br>parent=%{parent}<br>id=%{id}<extra></extra>",
         "ids": [
          "samsung/cart",
          "not defined/purchase",
          "xiaomi/purchase",
          "acer/view",
          "acme/view",
          "alphard/view",
          "ams/view",
          "aoteli/view",
          "apple/view",
          "arg/view",
          "armani/view",
          "arrivo/view",
          "asus/view",
          "avatar/view",
          "beko/view",
          "bosch/view",
          "brw/view",
          "canon/view",
          "carfashion/view",
          "casio/view",
          "chanel/view",
          "cordiant/view",
          "creed/view",
          "denzel/view",
          "dewalt/view",
          "dwt/view",
          "element/view",
          "epson/view",
          "eveline/view",
          "evelinecosmetics/view",
          "fisherman/view",
          "force/view",
          "fubag/view",
          "garmin/view",
          "givenchy/view",
          "goodloot/view",
          "harley-davidson/view",
          "honor/view",
          "hp/view",
          "huawei/view",
          "humminbird/view",
          "hycell/view",
          "hyper/view",
          "indesit/view",
          "janome/view",
          "jordan/view",
          "kirkland/view",
          "kolner/view",
          "laston/view",
          "lenovo/view",
          "lg/view",
          "lider/view",
          "lucente/view",
          "magnetta/view",
          "mamadoma/view",
          "matrix/view",
          "merelani/view",
          "michelin/view",
          "montale/view",
          "nika/view",
          "nokian/view",
          "not defined/view",
          "oasis/view",
          "oppo/view",
          "pablosky/view",
          "palit/view",
          "peda/view",
          "pioneer/view",
          "redmond/view",
          "rezult/view",
          "roadx/view",
          "rondell/view",
          "samsung/view",
          "skad/view",
          "sokolov/view",
          "sony/view",
          "stanley/view",
          "stels/view",
          "sulu/view",
          "sv/view",
          "t-rex/view",
          "tarkett/view",
          "tefal/view",
          "tissot/view",
          "tomfarr/view",
          "trussardi/view",
          "welly/view",
          "xiaomi/view",
          "yokohama/view",
          "acer",
          "acme",
          "alphard",
          "ams",
          "aoteli",
          "apple",
          "arg",
          "armani",
          "arrivo",
          "asus",
          "avatar",
          "beko",
          "bosch",
          "brw",
          "canon",
          "carfashion",
          "casio",
          "chanel",
          "cordiant",
          "creed",
          "denzel",
          "dewalt",
          "dwt",
          "element",
          "epson",
          "eveline",
          "evelinecosmetics",
          "fisherman",
          "force",
          "fubag",
          "garmin",
          "givenchy",
          "goodloot",
          "harley-davidson",
          "honor",
          "hp",
          "huawei",
          "humminbird",
          "hycell",
          "hyper",
          "indesit",
          "janome",
          "jordan",
          "kirkland",
          "kolner",
          "laston",
          "lenovo",
          "lg",
          "lider",
          "lucente",
          "magnetta",
          "mamadoma",
          "matrix",
          "merelani",
          "michelin",
          "montale",
          "nika",
          "nokian",
          "not defined",
          "oasis",
          "oppo",
          "pablosky",
          "palit",
          "peda",
          "pioneer",
          "redmond",
          "rezult",
          "roadx",
          "rondell",
          "samsung",
          "skad",
          "sokolov",
          "sony",
          "stanley",
          "stels",
          "sulu",
          "sv",
          "t-rex",
          "tarkett",
          "tefal",
          "tissot",
          "tomfarr",
          "trussardi",
          "welly",
          "xiaomi",
          "yokohama"
         ],
         "labels": [
          "cart",
          "purchase",
          "purchase",
          "view",
          "view",
          "view",
          "view",
          "view",
          "view",
          "view",
          "view",
          "view",
          "view",
          "view",
          "view",
          "view",
          "view",
          "view",
          "view",
          "view",
          "view",
          "view",
          "view",
          "view",
          "view",
          "view",
          "view",
          "view",
          "view",
          "view",
          "view",
          "view",
          "view",
          "view",
          "view",
          "view",
          "view",
          "view",
          "view",
          "view",
          "view",
          "view",
          "view",
          "view",
          "view",
          "view",
          "view",
          "view",
          "view",
          "view",
          "view",
          "view",
          "view",
          "view",
          "view",
          "view",
          "view",
          "view",
          "view",
          "view",
          "view",
          "view",
          "view",
          "view",
          "view",
          "view",
          "view",
          "view",
          "view",
          "view",
          "view",
          "view",
          "view",
          "view",
          "view",
          "view",
          "view",
          "view",
          "view",
          "view",
          "view",
          "view",
          "view",
          "view",
          "view",
          "view",
          "view",
          "view",
          "view",
          "acer",
          "acme",
          "alphard",
          "ams",
          "aoteli",
          "apple",
          "arg",
          "armani",
          "arrivo",
          "asus",
          "avatar",
          "beko",
          "bosch",
          "brw",
          "canon",
          "carfashion",
          "casio",
          "chanel",
          "cordiant",
          "creed",
          "denzel",
          "dewalt",
          "dwt",
          "element",
          "epson",
          "eveline",
          "evelinecosmetics",
          "fisherman",
          "force",
          "fubag",
          "garmin",
          "givenchy",
          "goodloot",
          "harley-davidson",
          "honor",
          "hp",
          "huawei",
          "humminbird",
          "hycell",
          "hyper",
          "indesit",
          "janome",
          "jordan",
          "kirkland",
          "kolner",
          "laston",
          "lenovo",
          "lg",
          "lider",
          "lucente",
          "magnetta",
          "mamadoma",
          "matrix",
          "merelani",
          "michelin",
          "montale",
          "nika",
          "nokian",
          "not defined",
          "oasis",
          "oppo",
          "pablosky",
          "palit",
          "peda",
          "pioneer",
          "redmond",
          "rezult",
          "roadx",
          "rondell",
          "samsung",
          "skad",
          "sokolov",
          "sony",
          "stanley",
          "stels",
          "sulu",
          "sv",
          "t-rex",
          "tarkett",
          "tefal",
          "tissot",
          "tomfarr",
          "trussardi",
          "welly",
          "xiaomi",
          "yokohama"
         ],
         "name": "",
         "parents": [
          "samsung",
          "not defined",
          "xiaomi",
          "acer",
          "acme",
          "alphard",
          "ams",
          "aoteli",
          "apple",
          "arg",
          "armani",
          "arrivo",
          "asus",
          "avatar",
          "beko",
          "bosch",
          "brw",
          "canon",
          "carfashion",
          "casio",
          "chanel",
          "cordiant",
          "creed",
          "denzel",
          "dewalt",
          "dwt",
          "element",
          "epson",
          "eveline",
          "evelinecosmetics",
          "fisherman",
          "force",
          "fubag",
          "garmin",
          "givenchy",
          "goodloot",
          "harley-davidson",
          "honor",
          "hp",
          "huawei",
          "humminbird",
          "hycell",
          "hyper",
          "indesit",
          "janome",
          "jordan",
          "kirkland",
          "kolner",
          "laston",
          "lenovo",
          "lg",
          "lider",
          "lucente",
          "magnetta",
          "mamadoma",
          "matrix",
          "merelani",
          "michelin",
          "montale",
          "nika",
          "nokian",
          "not defined",
          "oasis",
          "oppo",
          "pablosky",
          "palit",
          "peda",
          "pioneer",
          "redmond",
          "rezult",
          "roadx",
          "rondell",
          "samsung",
          "skad",
          "sokolov",
          "sony",
          "stanley",
          "stels",
          "sulu",
          "sv",
          "t-rex",
          "tarkett",
          "tefal",
          "tissot",
          "tomfarr",
          "trussardi",
          "welly",
          "xiaomi",
          "yokohama",
          "",
          "",
          "",
          "",
          "",
          "",
          "",
          "",
          "",
          "",
          "",
          "",
          "",
          "",
          "",
          "",
          "",
          "",
          "",
          "",
          "",
          "",
          "",
          "",
          "",
          "",
          "",
          "",
          "",
          "",
          "",
          "",
          "",
          "",
          "",
          "",
          "",
          "",
          "",
          "",
          "",
          "",
          "",
          "",
          "",
          "",
          "",
          "",
          "",
          "",
          "",
          "",
          "",
          "",
          "",
          "",
          "",
          "",
          "",
          "",
          "",
          "",
          "",
          "",
          "",
          "",
          "",
          "",
          "",
          "",
          "",
          "",
          "",
          "",
          "",
          "",
          "",
          "",
          "",
          "",
          "",
          "",
          "",
          "",
          "",
          ""
         ],
         "type": "sunburst",
         "values": [
          1,
          1,
          1,
          3,
          2,
          1,
          3,
          1,
          16,
          1,
          1,
          1,
          3,
          1,
          1,
          3,
          4,
          3,
          1,
          1,
          1,
          2,
          1,
          2,
          3,
          1,
          1,
          1,
          1,
          1,
          1,
          2,
          1,
          1,
          1,
          1,
          1,
          1,
          9,
          6,
          1,
          1,
          1,
          1,
          2,
          1,
          4,
          1,
          1,
          2,
          1,
          1,
          3,
          1,
          1,
          1,
          1,
          3,
          1,
          2,
          1,
          40,
          1,
          1,
          1,
          1,
          2,
          2,
          2,
          1,
          1,
          2,
          9,
          1,
          1,
          2,
          1,
          1,
          1,
          1,
          1,
          1,
          1,
          4,
          1,
          3,
          1,
          14,
          2,
          3,
          2,
          1,
          3,
          1,
          16,
          1,
          1,
          1,
          3,
          1,
          1,
          3,
          4,
          3,
          1,
          1,
          1,
          2,
          1,
          2,
          3,
          1,
          1,
          1,
          1,
          1,
          1,
          2,
          1,
          1,
          1,
          1,
          1,
          1,
          9,
          6,
          1,
          1,
          1,
          1,
          2,
          1,
          4,
          1,
          1,
          2,
          1,
          1,
          3,
          1,
          1,
          1,
          1,
          3,
          1,
          2,
          1,
          41,
          1,
          1,
          1,
          1,
          2,
          2,
          2,
          1,
          1,
          2,
          10,
          1,
          1,
          2,
          1,
          1,
          1,
          1,
          1,
          1,
          1,
          4,
          1,
          3,
          1,
          15,
          2
         ]
        }
       ],
       "layout": {
        "legend": {
         "tracegroupgap": 0
        },
        "margin": {
         "t": 60
        },
        "template": {
         "data": {
          "bar": [
           {
            "error_x": {
             "color": "#2a3f5f"
            },
            "error_y": {
             "color": "#2a3f5f"
            },
            "marker": {
             "line": {
              "color": "#E5ECF6",
              "width": 0.5
             }
            },
            "type": "bar"
           }
          ],
          "barpolar": [
           {
            "marker": {
             "line": {
              "color": "#E5ECF6",
              "width": 0.5
             }
            },
            "type": "barpolar"
           }
          ],
          "carpet": [
           {
            "aaxis": {
             "endlinecolor": "#2a3f5f",
             "gridcolor": "white",
             "linecolor": "white",
             "minorgridcolor": "white",
             "startlinecolor": "#2a3f5f"
            },
            "baxis": {
             "endlinecolor": "#2a3f5f",
             "gridcolor": "white",
             "linecolor": "white",
             "minorgridcolor": "white",
             "startlinecolor": "#2a3f5f"
            },
            "type": "carpet"
           }
          ],
          "choropleth": [
           {
            "colorbar": {
             "outlinewidth": 0,
             "ticks": ""
            },
            "type": "choropleth"
           }
          ],
          "contour": [
           {
            "colorbar": {
             "outlinewidth": 0,
             "ticks": ""
            },
            "colorscale": [
             [
              0,
              "#0d0887"
             ],
             [
              0.1111111111111111,
              "#46039f"
             ],
             [
              0.2222222222222222,
              "#7201a8"
             ],
             [
              0.3333333333333333,
              "#9c179e"
             ],
             [
              0.4444444444444444,
              "#bd3786"
             ],
             [
              0.5555555555555556,
              "#d8576b"
             ],
             [
              0.6666666666666666,
              "#ed7953"
             ],
             [
              0.7777777777777778,
              "#fb9f3a"
             ],
             [
              0.8888888888888888,
              "#fdca26"
             ],
             [
              1,
              "#f0f921"
             ]
            ],
            "type": "contour"
           }
          ],
          "contourcarpet": [
           {
            "colorbar": {
             "outlinewidth": 0,
             "ticks": ""
            },
            "type": "contourcarpet"
           }
          ],
          "heatmap": [
           {
            "colorbar": {
             "outlinewidth": 0,
             "ticks": ""
            },
            "colorscale": [
             [
              0,
              "#0d0887"
             ],
             [
              0.1111111111111111,
              "#46039f"
             ],
             [
              0.2222222222222222,
              "#7201a8"
             ],
             [
              0.3333333333333333,
              "#9c179e"
             ],
             [
              0.4444444444444444,
              "#bd3786"
             ],
             [
              0.5555555555555556,
              "#d8576b"
             ],
             [
              0.6666666666666666,
              "#ed7953"
             ],
             [
              0.7777777777777778,
              "#fb9f3a"
             ],
             [
              0.8888888888888888,
              "#fdca26"
             ],
             [
              1,
              "#f0f921"
             ]
            ],
            "type": "heatmap"
           }
          ],
          "heatmapgl": [
           {
            "colorbar": {
             "outlinewidth": 0,
             "ticks": ""
            },
            "colorscale": [
             [
              0,
              "#0d0887"
             ],
             [
              0.1111111111111111,
              "#46039f"
             ],
             [
              0.2222222222222222,
              "#7201a8"
             ],
             [
              0.3333333333333333,
              "#9c179e"
             ],
             [
              0.4444444444444444,
              "#bd3786"
             ],
             [
              0.5555555555555556,
              "#d8576b"
             ],
             [
              0.6666666666666666,
              "#ed7953"
             ],
             [
              0.7777777777777778,
              "#fb9f3a"
             ],
             [
              0.8888888888888888,
              "#fdca26"
             ],
             [
              1,
              "#f0f921"
             ]
            ],
            "type": "heatmapgl"
           }
          ],
          "histogram": [
           {
            "marker": {
             "colorbar": {
              "outlinewidth": 0,
              "ticks": ""
             }
            },
            "type": "histogram"
           }
          ],
          "histogram2d": [
           {
            "colorbar": {
             "outlinewidth": 0,
             "ticks": ""
            },
            "colorscale": [
             [
              0,
              "#0d0887"
             ],
             [
              0.1111111111111111,
              "#46039f"
             ],
             [
              0.2222222222222222,
              "#7201a8"
             ],
             [
              0.3333333333333333,
              "#9c179e"
             ],
             [
              0.4444444444444444,
              "#bd3786"
             ],
             [
              0.5555555555555556,
              "#d8576b"
             ],
             [
              0.6666666666666666,
              "#ed7953"
             ],
             [
              0.7777777777777778,
              "#fb9f3a"
             ],
             [
              0.8888888888888888,
              "#fdca26"
             ],
             [
              1,
              "#f0f921"
             ]
            ],
            "type": "histogram2d"
           }
          ],
          "histogram2dcontour": [
           {
            "colorbar": {
             "outlinewidth": 0,
             "ticks": ""
            },
            "colorscale": [
             [
              0,
              "#0d0887"
             ],
             [
              0.1111111111111111,
              "#46039f"
             ],
             [
              0.2222222222222222,
              "#7201a8"
             ],
             [
              0.3333333333333333,
              "#9c179e"
             ],
             [
              0.4444444444444444,
              "#bd3786"
             ],
             [
              0.5555555555555556,
              "#d8576b"
             ],
             [
              0.6666666666666666,
              "#ed7953"
             ],
             [
              0.7777777777777778,
              "#fb9f3a"
             ],
             [
              0.8888888888888888,
              "#fdca26"
             ],
             [
              1,
              "#f0f921"
             ]
            ],
            "type": "histogram2dcontour"
           }
          ],
          "mesh3d": [
           {
            "colorbar": {
             "outlinewidth": 0,
             "ticks": ""
            },
            "type": "mesh3d"
           }
          ],
          "parcoords": [
           {
            "line": {
             "colorbar": {
              "outlinewidth": 0,
              "ticks": ""
             }
            },
            "type": "parcoords"
           }
          ],
          "pie": [
           {
            "automargin": true,
            "type": "pie"
           }
          ],
          "scatter": [
           {
            "marker": {
             "colorbar": {
              "outlinewidth": 0,
              "ticks": ""
             }
            },
            "type": "scatter"
           }
          ],
          "scatter3d": [
           {
            "line": {
             "colorbar": {
              "outlinewidth": 0,
              "ticks": ""
             }
            },
            "marker": {
             "colorbar": {
              "outlinewidth": 0,
              "ticks": ""
             }
            },
            "type": "scatter3d"
           }
          ],
          "scattercarpet": [
           {
            "marker": {
             "colorbar": {
              "outlinewidth": 0,
              "ticks": ""
             }
            },
            "type": "scattercarpet"
           }
          ],
          "scattergeo": [
           {
            "marker": {
             "colorbar": {
              "outlinewidth": 0,
              "ticks": ""
             }
            },
            "type": "scattergeo"
           }
          ],
          "scattergl": [
           {
            "marker": {
             "colorbar": {
              "outlinewidth": 0,
              "ticks": ""
             }
            },
            "type": "scattergl"
           }
          ],
          "scattermapbox": [
           {
            "marker": {
             "colorbar": {
              "outlinewidth": 0,
              "ticks": ""
             }
            },
            "type": "scattermapbox"
           }
          ],
          "scatterpolar": [
           {
            "marker": {
             "colorbar": {
              "outlinewidth": 0,
              "ticks": ""
             }
            },
            "type": "scatterpolar"
           }
          ],
          "scatterpolargl": [
           {
            "marker": {
             "colorbar": {
              "outlinewidth": 0,
              "ticks": ""
             }
            },
            "type": "scatterpolargl"
           }
          ],
          "scatterternary": [
           {
            "marker": {
             "colorbar": {
              "outlinewidth": 0,
              "ticks": ""
             }
            },
            "type": "scatterternary"
           }
          ],
          "surface": [
           {
            "colorbar": {
             "outlinewidth": 0,
             "ticks": ""
            },
            "colorscale": [
             [
              0,
              "#0d0887"
             ],
             [
              0.1111111111111111,
              "#46039f"
             ],
             [
              0.2222222222222222,
              "#7201a8"
             ],
             [
              0.3333333333333333,
              "#9c179e"
             ],
             [
              0.4444444444444444,
              "#bd3786"
             ],
             [
              0.5555555555555556,
              "#d8576b"
             ],
             [
              0.6666666666666666,
              "#ed7953"
             ],
             [
              0.7777777777777778,
              "#fb9f3a"
             ],
             [
              0.8888888888888888,
              "#fdca26"
             ],
             [
              1,
              "#f0f921"
             ]
            ],
            "type": "surface"
           }
          ],
          "table": [
           {
            "cells": {
             "fill": {
              "color": "#EBF0F8"
             },
             "line": {
              "color": "white"
             }
            },
            "header": {
             "fill": {
              "color": "#C8D4E3"
             },
             "line": {
              "color": "white"
             }
            },
            "type": "table"
           }
          ]
         },
         "layout": {
          "annotationdefaults": {
           "arrowcolor": "#2a3f5f",
           "arrowhead": 0,
           "arrowwidth": 1
          },
          "autotypenumbers": "strict",
          "coloraxis": {
           "colorbar": {
            "outlinewidth": 0,
            "ticks": ""
           }
          },
          "colorscale": {
           "diverging": [
            [
             0,
             "#8e0152"
            ],
            [
             0.1,
             "#c51b7d"
            ],
            [
             0.2,
             "#de77ae"
            ],
            [
             0.3,
             "#f1b6da"
            ],
            [
             0.4,
             "#fde0ef"
            ],
            [
             0.5,
             "#f7f7f7"
            ],
            [
             0.6,
             "#e6f5d0"
            ],
            [
             0.7,
             "#b8e186"
            ],
            [
             0.8,
             "#7fbc41"
            ],
            [
             0.9,
             "#4d9221"
            ],
            [
             1,
             "#276419"
            ]
           ],
           "sequential": [
            [
             0,
             "#0d0887"
            ],
            [
             0.1111111111111111,
             "#46039f"
            ],
            [
             0.2222222222222222,
             "#7201a8"
            ],
            [
             0.3333333333333333,
             "#9c179e"
            ],
            [
             0.4444444444444444,
             "#bd3786"
            ],
            [
             0.5555555555555556,
             "#d8576b"
            ],
            [
             0.6666666666666666,
             "#ed7953"
            ],
            [
             0.7777777777777778,
             "#fb9f3a"
            ],
            [
             0.8888888888888888,
             "#fdca26"
            ],
            [
             1,
             "#f0f921"
            ]
           ],
           "sequentialminus": [
            [
             0,
             "#0d0887"
            ],
            [
             0.1111111111111111,
             "#46039f"
            ],
            [
             0.2222222222222222,
             "#7201a8"
            ],
            [
             0.3333333333333333,
             "#9c179e"
            ],
            [
             0.4444444444444444,
             "#bd3786"
            ],
            [
             0.5555555555555556,
             "#d8576b"
            ],
            [
             0.6666666666666666,
             "#ed7953"
            ],
            [
             0.7777777777777778,
             "#fb9f3a"
            ],
            [
             0.8888888888888888,
             "#fdca26"
            ],
            [
             1,
             "#f0f921"
            ]
           ]
          },
          "colorway": [
           "#636efa",
           "#EF553B",
           "#00cc96",
           "#ab63fa",
           "#FFA15A",
           "#19d3f3",
           "#FF6692",
           "#B6E880",
           "#FF97FF",
           "#FECB52"
          ],
          "font": {
           "color": "#2a3f5f"
          },
          "geo": {
           "bgcolor": "white",
           "lakecolor": "white",
           "landcolor": "#E5ECF6",
           "showlakes": true,
           "showland": true,
           "subunitcolor": "white"
          },
          "hoverlabel": {
           "align": "left"
          },
          "hovermode": "closest",
          "mapbox": {
           "style": "light"
          },
          "paper_bgcolor": "white",
          "plot_bgcolor": "#E5ECF6",
          "polar": {
           "angularaxis": {
            "gridcolor": "white",
            "linecolor": "white",
            "ticks": ""
           },
           "bgcolor": "#E5ECF6",
           "radialaxis": {
            "gridcolor": "white",
            "linecolor": "white",
            "ticks": ""
           }
          },
          "scene": {
           "xaxis": {
            "backgroundcolor": "#E5ECF6",
            "gridcolor": "white",
            "gridwidth": 2,
            "linecolor": "white",
            "showbackground": true,
            "ticks": "",
            "zerolinecolor": "white"
           },
           "yaxis": {
            "backgroundcolor": "#E5ECF6",
            "gridcolor": "white",
            "gridwidth": 2,
            "linecolor": "white",
            "showbackground": true,
            "ticks": "",
            "zerolinecolor": "white"
           },
           "zaxis": {
            "backgroundcolor": "#E5ECF6",
            "gridcolor": "white",
            "gridwidth": 2,
            "linecolor": "white",
            "showbackground": true,
            "ticks": "",
            "zerolinecolor": "white"
           }
          },
          "shapedefaults": {
           "line": {
            "color": "#2a3f5f"
           }
          },
          "ternary": {
           "aaxis": {
            "gridcolor": "white",
            "linecolor": "white",
            "ticks": ""
           },
           "baxis": {
            "gridcolor": "white",
            "linecolor": "white",
            "ticks": ""
           },
           "bgcolor": "#E5ECF6",
           "caxis": {
            "gridcolor": "white",
            "linecolor": "white",
            "ticks": ""
           }
          },
          "title": {
           "x": 0.05
          },
          "xaxis": {
           "automargin": true,
           "gridcolor": "white",
           "linecolor": "white",
           "ticks": "",
           "title": {
            "standoff": 15
           },
           "zerolinecolor": "white",
           "zerolinewidth": 2
          },
          "yaxis": {
           "automargin": true,
           "gridcolor": "white",
           "linecolor": "white",
           "ticks": "",
           "title": {
            "standoff": 15
           },
           "zerolinecolor": "white",
           "zerolinewidth": 2
          }
         }
        }
       }
      }
     },
     "metadata": {}
    }
   ],
   "source": [
    "sdf_brand_event_distribution = spark.sql(\"SELECT brand, \\\n",
    "                                                 event_type, \\\n",
    "                                                 Count(*) AS Count \\\n",
    "                                        FROM Data \\\n",
    "                                        GROUP BY brand, event_type\")\n",
    "px.sunburst(sdf_brand_event_distribution.toPandas(), path=['brand','event_type'], values=\"Count\")"
   ]
  },
  {
   "cell_type": "markdown",
   "source": [
    "### User analysis"
   ],
   "metadata": {
    "collapsed": false
   }
  },
  {
   "source": [
    "### Event_Type and Price"
   ],
   "cell_type": "markdown",
   "metadata": {}
  },
  {
   "source": [
    "The following plot represents the distribution of the price within the event_type."
   ],
   "cell_type": "markdown",
   "metadata": {}
  },
  {
   "cell_type": "code",
   "execution_count": 70,
   "metadata": {},
   "outputs": [
    {
     "output_type": "display_data",
     "data": {
      "application/vnd.plotly.v1+json": {
       "config": {
        "plotlyServerURL": "https://plot.ly"
       },
       "data": [
        {
         "alignmentgroup": "True",
         "hovertemplate": "event_type=%{x}<br>price=%{y}<extra></extra>",
         "legendgroup": "",
         "marker": {
          "color": "#636efa"
         },
         "name": "",
         "notched": false,
         "offsetgroup": "",
         "orientation": "v",
         "showlegend": false,
         "type": "box",
         "x": [
          "view",
          "view",
          "view",
          "view",
          "view",
          "view",
          "view",
          "view",
          "view",
          "view",
          "view",
          "view",
          "view",
          "view",
          "view",
          "view",
          "view",
          "view",
          "view",
          "view",
          "view",
          "view",
          "view",
          "view",
          "view",
          "view",
          "view",
          "view",
          "view",
          "view",
          "view",
          "view",
          "view",
          "view",
          "view",
          "view",
          "view",
          "view",
          "view",
          "view",
          "cart",
          "view",
          "view",
          "view",
          "view",
          "view",
          "view",
          "view",
          "view",
          "view",
          "view",
          "view",
          "view",
          "view",
          "view",
          "view",
          "view",
          "view",
          "view",
          "view",
          "view",
          "view",
          "view",
          "view",
          "view",
          "view",
          "view",
          "view",
          "view",
          "view",
          "view",
          "view",
          "view",
          "view",
          "view",
          "view",
          "view",
          "view",
          "view",
          "view",
          "view",
          "view",
          "view",
          "view",
          "view",
          "view",
          "view",
          "view",
          "view",
          "view",
          "view",
          "view",
          "view",
          "view",
          "view",
          "view",
          "view",
          "view",
          "view",
          "view",
          "view",
          "view",
          "view",
          "view",
          "view",
          "view",
          "view",
          "purchase",
          "view",
          "view",
          "view",
          "view",
          "view",
          "view",
          "view",
          "view",
          "view",
          "view",
          "view",
          "view",
          "view",
          "view",
          "view",
          "view",
          "view",
          "view",
          "view",
          "view",
          "view",
          "view",
          "view",
          "view",
          "view",
          "view",
          "view",
          "view",
          "view",
          "view",
          "view",
          "view",
          "view",
          "view",
          "view",
          "view",
          "view",
          "view",
          "view",
          "view",
          "view",
          "view",
          "view",
          "view",
          "view",
          "view",
          "view",
          "view",
          "view",
          "view",
          "view",
          "view",
          "view",
          "view",
          "view",
          "view",
          "view",
          "view",
          "view",
          "view",
          "purchase",
          "view",
          "view",
          "view",
          "view",
          "view",
          "view",
          "view",
          "view",
          "view",
          "view",
          "view",
          "view",
          "view",
          "view",
          "view",
          "view",
          "view",
          "view",
          "view",
          "view",
          "view",
          "view",
          "view",
          "view",
          "view",
          "view",
          "view",
          "view",
          "view",
          "view",
          "view",
          "view",
          "view",
          "view",
          "view",
          "view",
          "view",
          "view",
          "view",
          "view",
          "view",
          "view",
          "view",
          "view",
          "view",
          "view",
          "view",
          "view"
         ],
         "x0": " ",
         "xaxis": "x",
         "y": [
          489.07,
          293.65,
          28.31,
          712.87,
          183.27,
          360.09,
          514.56,
          30.86,
          72.72,
          732.07,
          437.33,
          155.11,
          31.64,
          20.54,
          411.83,
          1.09,
          8.55,
          22.68,
          164.84,
          411.59,
          88.81,
          151.99,
          7.07,
          591.78,
          55.33,
          11.79,
          7.59,
          949.47,
          514.79,
          360.34,
          38.07,
          47.77,
          23.4,
          23.14,
          61.1,
          127.42,
          54.06,
          69.24,
          108.09,
          458.28,
          503.09,
          119.69,
          437.29,
          32.66,
          684.44,
          511.13,
          15.62,
          386.08,
          248.66,
          211.92,
          895.78,
          289.33,
          8.73,
          40.16,
          928.18,
          47.77,
          66.9,
          8.55,
          134.37,
          51.48,
          83.91,
          28.19,
          385.85,
          733.61,
          105.54,
          128.42,
          50.19,
          43.73,
          98.51,
          84.65,
          5.77,
          157.28,
          252.77,
          20.77,
          34.75,
          287.83,
          91.12,
          151.14,
          61.75,
          1091.33,
          46.16,
          72.72,
          22.8,
          171.17,
          257.38,
          51.46,
          221.37,
          849.42,
          242.63,
          40.93,
          48.43,
          499.94,
          50.45,
          51.22,
          900.92,
          463.15,
          928.38,
          861.28,
          166.23,
          64.33,
          170.63,
          1013.86,
          28.19,
          411.59,
          280.05,
          1173.6,
          390.98,
          566.3,
          50.43,
          1091.33,
          946.73,
          58.17,
          61.75,
          17.49,
          314.08,
          47.62,
          47.32,
          46.08,
          180.18,
          226.83,
          514.79,
          489.07,
          70.27,
          511.13,
          751.63,
          136.4,
          182.76,
          172.22,
          172.23,
          41.19,
          257.15,
          398.72,
          378.36,
          2342.15,
          861.28,
          28.19,
          114.03,
          406.68,
          25.48,
          49.68,
          76.45,
          1209.55,
          72.72,
          113.93,
          928.38,
          254.78,
          334.37,
          244.28,
          242.63,
          70.53,
          118.41,
          7.34,
          293.65,
          22.8,
          203.84,
          77.22,
          125.61,
          684.44,
          128.42,
          1013.86,
          298.16,
          84.69,
          2312.8,
          229.09,
          48.35,
          167.02,
          40.93,
          177.1,
          211.92,
          2239.44,
          36.78,
          900.92,
          2496.59,
          128.68,
          195.37,
          10.17,
          221.37,
          207.21,
          277.23,
          32.18,
          36.78,
          58.69,
          566.3,
          69.5,
          65.38,
          30.43,
          218.51,
          150.95,
          127.33,
          46.82,
          29.86,
          65.64,
          411.34,
          72.59,
          165.26,
          97.34,
          566.3,
          102.71,
          24.71,
          293.44,
          397.54,
          221.37,
          183.27,
          432.42,
          1335.43,
          380.96,
          552.14,
          38.61,
          67.84,
          2311.49,
          133.83,
          224.46,
          72.07,
          20.57,
          51.22,
          257.15,
          732.07
         ],
         "y0": " ",
         "yaxis": "y"
        }
       ],
       "layout": {
        "boxmode": "group",
        "legend": {
         "tracegroupgap": 0
        },
        "template": {
         "data": {
          "bar": [
           {
            "error_x": {
             "color": "#2a3f5f"
            },
            "error_y": {
             "color": "#2a3f5f"
            },
            "marker": {
             "line": {
              "color": "#E5ECF6",
              "width": 0.5
             }
            },
            "type": "bar"
           }
          ],
          "barpolar": [
           {
            "marker": {
             "line": {
              "color": "#E5ECF6",
              "width": 0.5
             }
            },
            "type": "barpolar"
           }
          ],
          "carpet": [
           {
            "aaxis": {
             "endlinecolor": "#2a3f5f",
             "gridcolor": "white",
             "linecolor": "white",
             "minorgridcolor": "white",
             "startlinecolor": "#2a3f5f"
            },
            "baxis": {
             "endlinecolor": "#2a3f5f",
             "gridcolor": "white",
             "linecolor": "white",
             "minorgridcolor": "white",
             "startlinecolor": "#2a3f5f"
            },
            "type": "carpet"
           }
          ],
          "choropleth": [
           {
            "colorbar": {
             "outlinewidth": 0,
             "ticks": ""
            },
            "type": "choropleth"
           }
          ],
          "contour": [
           {
            "colorbar": {
             "outlinewidth": 0,
             "ticks": ""
            },
            "colorscale": [
             [
              0,
              "#0d0887"
             ],
             [
              0.1111111111111111,
              "#46039f"
             ],
             [
              0.2222222222222222,
              "#7201a8"
             ],
             [
              0.3333333333333333,
              "#9c179e"
             ],
             [
              0.4444444444444444,
              "#bd3786"
             ],
             [
              0.5555555555555556,
              "#d8576b"
             ],
             [
              0.6666666666666666,
              "#ed7953"
             ],
             [
              0.7777777777777778,
              "#fb9f3a"
             ],
             [
              0.8888888888888888,
              "#fdca26"
             ],
             [
              1,
              "#f0f921"
             ]
            ],
            "type": "contour"
           }
          ],
          "contourcarpet": [
           {
            "colorbar": {
             "outlinewidth": 0,
             "ticks": ""
            },
            "type": "contourcarpet"
           }
          ],
          "heatmap": [
           {
            "colorbar": {
             "outlinewidth": 0,
             "ticks": ""
            },
            "colorscale": [
             [
              0,
              "#0d0887"
             ],
             [
              0.1111111111111111,
              "#46039f"
             ],
             [
              0.2222222222222222,
              "#7201a8"
             ],
             [
              0.3333333333333333,
              "#9c179e"
             ],
             [
              0.4444444444444444,
              "#bd3786"
             ],
             [
              0.5555555555555556,
              "#d8576b"
             ],
             [
              0.6666666666666666,
              "#ed7953"
             ],
             [
              0.7777777777777778,
              "#fb9f3a"
             ],
             [
              0.8888888888888888,
              "#fdca26"
             ],
             [
              1,
              "#f0f921"
             ]
            ],
            "type": "heatmap"
           }
          ],
          "heatmapgl": [
           {
            "colorbar": {
             "outlinewidth": 0,
             "ticks": ""
            },
            "colorscale": [
             [
              0,
              "#0d0887"
             ],
             [
              0.1111111111111111,
              "#46039f"
             ],
             [
              0.2222222222222222,
              "#7201a8"
             ],
             [
              0.3333333333333333,
              "#9c179e"
             ],
             [
              0.4444444444444444,
              "#bd3786"
             ],
             [
              0.5555555555555556,
              "#d8576b"
             ],
             [
              0.6666666666666666,
              "#ed7953"
             ],
             [
              0.7777777777777778,
              "#fb9f3a"
             ],
             [
              0.8888888888888888,
              "#fdca26"
             ],
             [
              1,
              "#f0f921"
             ]
            ],
            "type": "heatmapgl"
           }
          ],
          "histogram": [
           {
            "marker": {
             "colorbar": {
              "outlinewidth": 0,
              "ticks": ""
             }
            },
            "type": "histogram"
           }
          ],
          "histogram2d": [
           {
            "colorbar": {
             "outlinewidth": 0,
             "ticks": ""
            },
            "colorscale": [
             [
              0,
              "#0d0887"
             ],
             [
              0.1111111111111111,
              "#46039f"
             ],
             [
              0.2222222222222222,
              "#7201a8"
             ],
             [
              0.3333333333333333,
              "#9c179e"
             ],
             [
              0.4444444444444444,
              "#bd3786"
             ],
             [
              0.5555555555555556,
              "#d8576b"
             ],
             [
              0.6666666666666666,
              "#ed7953"
             ],
             [
              0.7777777777777778,
              "#fb9f3a"
             ],
             [
              0.8888888888888888,
              "#fdca26"
             ],
             [
              1,
              "#f0f921"
             ]
            ],
            "type": "histogram2d"
           }
          ],
          "histogram2dcontour": [
           {
            "colorbar": {
             "outlinewidth": 0,
             "ticks": ""
            },
            "colorscale": [
             [
              0,
              "#0d0887"
             ],
             [
              0.1111111111111111,
              "#46039f"
             ],
             [
              0.2222222222222222,
              "#7201a8"
             ],
             [
              0.3333333333333333,
              "#9c179e"
             ],
             [
              0.4444444444444444,
              "#bd3786"
             ],
             [
              0.5555555555555556,
              "#d8576b"
             ],
             [
              0.6666666666666666,
              "#ed7953"
             ],
             [
              0.7777777777777778,
              "#fb9f3a"
             ],
             [
              0.8888888888888888,
              "#fdca26"
             ],
             [
              1,
              "#f0f921"
             ]
            ],
            "type": "histogram2dcontour"
           }
          ],
          "mesh3d": [
           {
            "colorbar": {
             "outlinewidth": 0,
             "ticks": ""
            },
            "type": "mesh3d"
           }
          ],
          "parcoords": [
           {
            "line": {
             "colorbar": {
              "outlinewidth": 0,
              "ticks": ""
             }
            },
            "type": "parcoords"
           }
          ],
          "pie": [
           {
            "automargin": true,
            "type": "pie"
           }
          ],
          "scatter": [
           {
            "marker": {
             "colorbar": {
              "outlinewidth": 0,
              "ticks": ""
             }
            },
            "type": "scatter"
           }
          ],
          "scatter3d": [
           {
            "line": {
             "colorbar": {
              "outlinewidth": 0,
              "ticks": ""
             }
            },
            "marker": {
             "colorbar": {
              "outlinewidth": 0,
              "ticks": ""
             }
            },
            "type": "scatter3d"
           }
          ],
          "scattercarpet": [
           {
            "marker": {
             "colorbar": {
              "outlinewidth": 0,
              "ticks": ""
             }
            },
            "type": "scattercarpet"
           }
          ],
          "scattergeo": [
           {
            "marker": {
             "colorbar": {
              "outlinewidth": 0,
              "ticks": ""
             }
            },
            "type": "scattergeo"
           }
          ],
          "scattergl": [
           {
            "marker": {
             "colorbar": {
              "outlinewidth": 0,
              "ticks": ""
             }
            },
            "type": "scattergl"
           }
          ],
          "scattermapbox": [
           {
            "marker": {
             "colorbar": {
              "outlinewidth": 0,
              "ticks": ""
             }
            },
            "type": "scattermapbox"
           }
          ],
          "scatterpolar": [
           {
            "marker": {
             "colorbar": {
              "outlinewidth": 0,
              "ticks": ""
             }
            },
            "type": "scatterpolar"
           }
          ],
          "scatterpolargl": [
           {
            "marker": {
             "colorbar": {
              "outlinewidth": 0,
              "ticks": ""
             }
            },
            "type": "scatterpolargl"
           }
          ],
          "scatterternary": [
           {
            "marker": {
             "colorbar": {
              "outlinewidth": 0,
              "ticks": ""
             }
            },
            "type": "scatterternary"
           }
          ],
          "surface": [
           {
            "colorbar": {
             "outlinewidth": 0,
             "ticks": ""
            },
            "colorscale": [
             [
              0,
              "#0d0887"
             ],
             [
              0.1111111111111111,
              "#46039f"
             ],
             [
              0.2222222222222222,
              "#7201a8"
             ],
             [
              0.3333333333333333,
              "#9c179e"
             ],
             [
              0.4444444444444444,
              "#bd3786"
             ],
             [
              0.5555555555555556,
              "#d8576b"
             ],
             [
              0.6666666666666666,
              "#ed7953"
             ],
             [
              0.7777777777777778,
              "#fb9f3a"
             ],
             [
              0.8888888888888888,
              "#fdca26"
             ],
             [
              1,
              "#f0f921"
             ]
            ],
            "type": "surface"
           }
          ],
          "table": [
           {
            "cells": {
             "fill": {
              "color": "#EBF0F8"
             },
             "line": {
              "color": "white"
             }
            },
            "header": {
             "fill": {
              "color": "#C8D4E3"
             },
             "line": {
              "color": "white"
             }
            },
            "type": "table"
           }
          ]
         },
         "layout": {
          "annotationdefaults": {
           "arrowcolor": "#2a3f5f",
           "arrowhead": 0,
           "arrowwidth": 1
          },
          "autotypenumbers": "strict",
          "coloraxis": {
           "colorbar": {
            "outlinewidth": 0,
            "ticks": ""
           }
          },
          "colorscale": {
           "diverging": [
            [
             0,
             "#8e0152"
            ],
            [
             0.1,
             "#c51b7d"
            ],
            [
             0.2,
             "#de77ae"
            ],
            [
             0.3,
             "#f1b6da"
            ],
            [
             0.4,
             "#fde0ef"
            ],
            [
             0.5,
             "#f7f7f7"
            ],
            [
             0.6,
             "#e6f5d0"
            ],
            [
             0.7,
             "#b8e186"
            ],
            [
             0.8,
             "#7fbc41"
            ],
            [
             0.9,
             "#4d9221"
            ],
            [
             1,
             "#276419"
            ]
           ],
           "sequential": [
            [
             0,
             "#0d0887"
            ],
            [
             0.1111111111111111,
             "#46039f"
            ],
            [
             0.2222222222222222,
             "#7201a8"
            ],
            [
             0.3333333333333333,
             "#9c179e"
            ],
            [
             0.4444444444444444,
             "#bd3786"
            ],
            [
             0.5555555555555556,
             "#d8576b"
            ],
            [
             0.6666666666666666,
             "#ed7953"
            ],
            [
             0.7777777777777778,
             "#fb9f3a"
            ],
            [
             0.8888888888888888,
             "#fdca26"
            ],
            [
             1,
             "#f0f921"
            ]
           ],
           "sequentialminus": [
            [
             0,
             "#0d0887"
            ],
            [
             0.1111111111111111,
             "#46039f"
            ],
            [
             0.2222222222222222,
             "#7201a8"
            ],
            [
             0.3333333333333333,
             "#9c179e"
            ],
            [
             0.4444444444444444,
             "#bd3786"
            ],
            [
             0.5555555555555556,
             "#d8576b"
            ],
            [
             0.6666666666666666,
             "#ed7953"
            ],
            [
             0.7777777777777778,
             "#fb9f3a"
            ],
            [
             0.8888888888888888,
             "#fdca26"
            ],
            [
             1,
             "#f0f921"
            ]
           ]
          },
          "colorway": [
           "#636efa",
           "#EF553B",
           "#00cc96",
           "#ab63fa",
           "#FFA15A",
           "#19d3f3",
           "#FF6692",
           "#B6E880",
           "#FF97FF",
           "#FECB52"
          ],
          "font": {
           "color": "#2a3f5f"
          },
          "geo": {
           "bgcolor": "white",
           "lakecolor": "white",
           "landcolor": "#E5ECF6",
           "showlakes": true,
           "showland": true,
           "subunitcolor": "white"
          },
          "hoverlabel": {
           "align": "left"
          },
          "hovermode": "closest",
          "mapbox": {
           "style": "light"
          },
          "paper_bgcolor": "white",
          "plot_bgcolor": "#E5ECF6",
          "polar": {
           "angularaxis": {
            "gridcolor": "white",
            "linecolor": "white",
            "ticks": ""
           },
           "bgcolor": "#E5ECF6",
           "radialaxis": {
            "gridcolor": "white",
            "linecolor": "white",
            "ticks": ""
           }
          },
          "scene": {
           "xaxis": {
            "backgroundcolor": "#E5ECF6",
            "gridcolor": "white",
            "gridwidth": 2,
            "linecolor": "white",
            "showbackground": true,
            "ticks": "",
            "zerolinecolor": "white"
           },
           "yaxis": {
            "backgroundcolor": "#E5ECF6",
            "gridcolor": "white",
            "gridwidth": 2,
            "linecolor": "white",
            "showbackground": true,
            "ticks": "",
            "zerolinecolor": "white"
           },
           "zaxis": {
            "backgroundcolor": "#E5ECF6",
            "gridcolor": "white",
            "gridwidth": 2,
            "linecolor": "white",
            "showbackground": true,
            "ticks": "",
            "zerolinecolor": "white"
           }
          },
          "shapedefaults": {
           "line": {
            "color": "#2a3f5f"
           }
          },
          "ternary": {
           "aaxis": {
            "gridcolor": "white",
            "linecolor": "white",
            "ticks": ""
           },
           "baxis": {
            "gridcolor": "white",
            "linecolor": "white",
            "ticks": ""
           },
           "bgcolor": "#E5ECF6",
           "caxis": {
            "gridcolor": "white",
            "linecolor": "white",
            "ticks": ""
           }
          },
          "title": {
           "x": 0.05
          },
          "xaxis": {
           "automargin": true,
           "gridcolor": "white",
           "linecolor": "white",
           "ticks": "",
           "title": {
            "standoff": 15
           },
           "zerolinecolor": "white",
           "zerolinewidth": 2
          },
          "yaxis": {
           "automargin": true,
           "gridcolor": "white",
           "linecolor": "white",
           "ticks": "",
           "title": {
            "standoff": 15
           },
           "zerolinecolor": "white",
           "zerolinewidth": 2
          }
         }
        },
        "title": {
         "text": "Price ~ Event_Type"
        },
        "xaxis": {
         "anchor": "y",
         "domain": [
          0,
          1
         ],
         "title": {
          "text": "event_type"
         }
        },
        "yaxis": {
         "anchor": "x",
         "domain": [
          0,
          1
         ],
         "title": {
          "text": "price"
         }
        }
       }
      }
     },
     "metadata": {}
    }
   ],
   "source": [
    "px.box(sdf_raw.toPandas(), x=\"event_type\", y=\"price\", title=\"Price ~ Event_Type\")"
   ]
  },
  {
   "cell_type": "markdown",
   "source": [
    "### Customer Journey"
   ],
   "metadata": {
    "collapsed": false
   }
  },
  {
   "source": [
    "### Correlation Matrix"
   ],
   "cell_type": "markdown",
   "metadata": {}
  },
  {
   "source": [
    "In the following correlation Matrix you can see the attributes, which have a big impact on the event_type."
   ],
   "cell_type": "markdown",
   "metadata": {}
  },
  {
   "cell_type": "code",
   "execution_count": null,
   "metadata": {},
   "outputs": [],
   "source": []
  },
  {
   "cell_type": "markdown",
   "source": [
    "# Clustering"
   ],
   "metadata": {
    "collapsed": false,
    "pycharm": {
     "name": "#%% md\n"
    }
   }
  }
 ],
 "metadata": {
  "kernelspec": {
   "name": "python383jvsc74a57bd0b3ba2566441a7c06988d0923437866b63cedc61552a5af99d1f4fb67d367b25f",
   "display_name": "Python 3.8.3 64-bit ('base': conda)"
  },
  "language_info": {
   "codemirror_mode": {
    "name": "ipython",
    "version": 2
   },
   "file_extension": ".py",
   "mimetype": "text/x-python",
   "name": "python",
   "nbconvert_exporter": "python",
   "pygments_lexer": "ipython2",
   "version": "3.8.3"
  }
 },
 "nbformat": 4,
 "nbformat_minor": 0
}