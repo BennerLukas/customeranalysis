{
 "cells": [
  {
   "cell_type": "markdown",
   "metadata": {
    "pycharm": {
     "name": "#%% md\n"
    }
   },
   "source": [
    "# Customer Analysis - Explore Customer Behavior"
   ]
  },
  {
   "cell_type": "markdown",
   "metadata": {},
   "source": [
    "## Import"
   ]
  },
  {
   "cell_type": "markdown",
   "metadata": {
    "pycharm": {
     "name": "#%% md\n"
    }
   },
   "source": [
    "Needed packages. Pyspark will be used for data managing and plotly for visualisations. Keep in mind to install\n",
    "JAVA so Spark will work properly.\n",
    "\n",
    "Used dataset is from https://rees46.com/de found on https://www.kaggle.com/mkechinov/ecommerce-behavior-data-from-multi-category-store."
   ]
  },
  {
   "cell_type": "code",
   "execution_count": 2,
   "metadata": {
    "collapsed": false,
    "jupyter": {
     "outputs_hidden": false
    },
    "pycharm": {
     "name": "#%%\n",
     "is_executing": true
    }
   },
   "outputs": [],
   "source": [
    "import os\n",
    "import pyspark\n",
    "import pandas as pd\n",
    "import pyspark.sql.functions as f\n",
    "import plotly.express as px\n",
    "import plotly.graph_objects as go"
   ]
  },
  {
   "cell_type": "markdown",
   "metadata": {},
   "source": [
    "## Read"
   ]
  },
  {
   "cell_type": "markdown",
   "metadata": {
    "pycharm": {
     "name": "#%% md\n"
    }
   },
   "source": [
    "The data needs to be located in ```data/``` in unzipped form as a csv."
   ]
  },
  {
   "cell_type": "code",
   "execution_count": 3,
   "metadata": {
    "collapsed": false,
    "jupyter": {
     "outputs_hidden": false
    },
    "pycharm": {
     "name": "#%%\n"
    }
   },
   "outputs": [],
   "source": [
    "# read raw data\n",
    "spark = pyspark.sql.SparkSession.builder.appName(\"app1\").getOrCreate()\n",
    "# sdf = spark.read.csv(\"data/*.csv\", header=True, inferSchema=True)\n",
    "# sdf_201911 = spark.read.csv(\"data/2019-Nov.csv\", header=True, inferSchema=True)\n",
    "# sdf_201910 = spark.read.csv(\"data/2019-Oct.csv\", header=True, inferSchema=True)"
   ]
  },
  {
   "cell_type": "code",
   "execution_count": 4,
   "metadata": {
    "collapsed": false,
    "jupyter": {
     "outputs_hidden": false
    },
    "pycharm": {
     "name": "#%%\n"
    }
   },
   "outputs": [
    {
     "output_type": "stream",
     "name": "stdout",
     "text": [
      "+--------------------+----------+----------+-------------------+--------------------+--------+------+---------+--------------------+\n|          event_time|event_type|product_id|        category_id|       category_code|   brand| price|  user_id|        user_session|\n+--------------------+----------+----------+-------------------+--------------------+--------+------+---------+--------------------+\n|2019-11-01 00:00:...|      view|   1003461|2053013555631882655|electronics.smart...|  xiaomi|489.07|520088904|4d3b30da-a5e4-49d...|\n|2019-11-01 00:00:...|      view|   5000088|2053013566100866035|appliances.sewing...|  janome|293.65|530496790|8e5f4f83-366c-4f7...|\n|2019-11-01 00:00:...|      view|  17302664|2053013553853497655|                null|   creed| 28.31|561587266|755422e7-9040-477...|\n|2019-11-01 00:00:...|      view|   3601530|2053013563810775923|appliances.kitche...|      lg|712.87|518085591|3bfb58cd-7892-48c...|\n|2019-11-01 00:00:...|      view|   1004775|2053013555631882655|electronics.smart...|  xiaomi|183.27|558856683|313628f1-68b8-460...|\n|2019-11-01 00:00:...|      view|   1306894|2053013558920217191|  computers.notebook|      hp|360.09|520772685|816a59f3-f5ae-4cc...|\n|2019-11-01 00:00:...|      view|   1306421|2053013558920217191|  computers.notebook|      hp|514.56|514028527|df8184cc-3694-454...|\n|2019-11-01 00:00:...|      view|  15900065|2053013558190408249|                null| rondell| 30.86|518574284|5e6ef132-4d7c-473...|\n|2019-11-01 00:00:...|      view|  12708937|2053013553559896355|                null|michelin| 72.72|532364121|0a899268-31eb-46d...|\n|2019-11-01 00:00:...|      view|   1004258|2053013555631882655|electronics.smart...|   apple|732.07|532647354|d2d3d2c6-631d-489...|\n|2019-11-01 00:00:...|      view|  17200570|2053013559792632471|furniture.living_...|    null|437.33|518780843|aa806835-b14c-45a...|\n|2019-11-01 00:00:...|      view|   2701517|2053013563911439225|appliances.kitche...|    null|155.11|518427361|c89b0d96-247f-404...|\n|2019-11-01 00:00:...|      view|  16700260|2053013559901684381|furniture.kitchen...|    null| 31.64|566255262|173d7b72-1db7-463...|\n|2019-11-01 00:00:...|      view|  34600011|2060981320581906480|                null|    null| 20.54|512416379|4dfe2c67-e537-4dc...|\n|2019-11-01 00:00:...|      view|   4600658|2053013563944993659|appliances.kitche...| samsung|411.83|526595547|aab33a9a-29c3-4d5...|\n|2019-11-01 00:00:...|      view|  24900193|2053013562183385881|                null|    null|  1.09|512651494|f603c815-f51a-46f...|\n|2019-11-01 00:00:...|      view|  27400066|2053013563391345499|                null|    null|  8.55|551061950|3f6112f1-5695-4e8...|\n|2019-11-01 00:00:...|      view|   5100503|2053013553375346967|                null|  xiaomi| 22.68|520037415|f54fa96a-f3f2-43a...|\n|2019-11-01 00:00:...|      view|   1004566|2053013555631882655|electronics.smart...|  huawei|164.84|566265908|52c2c76c-b79e-479...|\n|2019-11-01 00:00:...|      view|   1307115|2053013558920217191|  computers.notebook|      hp|411.59|514028527|df8184cc-3694-454...|\n+--------------------+----------+----------+-------------------+--------------------+--------+------+---------+--------------------+\nonly showing top 20 rows\n\n"
     ]
    }
   ],
   "source": [
    "# join both months together\n",
    "# sdf = sdf_201910.union(sdf_201911)\n",
    "sdf = spark.read.csv(\"data/test_data.csv\", header=True, inferSchema=True)\n",
    "sdf.show()"
   ]
  },
  {
   "cell_type": "markdown",
   "metadata": {
    "pycharm": {
     "name": "#%% md\n"
    }
   },
   "source": [
    "## Preparation"
   ]
  },
  {
   "cell_type": "markdown",
   "metadata": {},
   "source": [
    "Prepare and enhance data for analysis and modelling."
   ]
  },
  {
   "cell_type": "code",
   "execution_count": 5,
   "metadata": {
    "collapsed": false,
    "jupyter": {
     "outputs_hidden": false
    },
    "pycharm": {
     "name": "#%%\n"
    }
   },
   "outputs": [
    {
     "output_type": "stream",
     "name": "stdout",
     "text": [
      "root\n |-- event_time: timestamp (nullable = true)\n |-- event_type: string (nullable = true)\n |-- product_id: string (nullable = true)\n |-- category_id: string (nullable = true)\n |-- category_code: string (nullable = true)\n |-- brand: string (nullable = true)\n |-- price: double (nullable = true)\n |-- user_id: string (nullable = true)\n |-- user_session: string (nullable = true)\n |-- category_class: string (nullable = true)\n |-- category_sub_class: string (nullable = true)\n |-- category_sub_sub_class: string (nullable = true)\n |-- year: integer (nullable = true)\n |-- month: integer (nullable = true)\n |-- weekofyear: integer (nullable = true)\n |-- dayofyear: integer (nullable = true)\n |-- dayofweek: integer (nullable = true)\n |-- dayofmonth: integer (nullable = true)\n |-- hour: integer (nullable = true)\n |-- turnover: double (nullable = true)\n |-- bougth_quantity: integer (nullable = false)\n |-- viewed_quantity: integer (nullable = false)\n |-- cart_quantity: integer (nullable = false)\n\n"
     ]
    }
   ],
   "source": [
    "# Datatypes\n",
    "sdf = sdf.withColumn(\"event_time\", sdf[\"event_time\"].cast(pyspark.sql.types.TimestampType()))\n",
    "sdf = sdf.withColumn(\"category_id\", sdf[\"category_id\"].cast(pyspark.sql.types.StringType()))\n",
    "sdf = sdf.withColumn(\"product_id\", sdf[\"product_id\"].cast(pyspark.sql.types.StringType()))\n",
    "sdf = sdf.withColumn(\"user_id\", sdf[\"user_id\"].cast(pyspark.sql.types.StringType()))\n",
    "\n",
    "# Feature Splitting\n",
    "# sdf = sdf.withColumn(\"category_class\", f.substring_index(sdf.category_code, '.', 1))\n",
    "\n",
    "sdf = sdf.withColumn(\"category_class\", f.split(sdf[\"category_code\"], \"\\.\").getItem(0))\n",
    "sdf = sdf.withColumn(\"category_sub_class\", f.split(sdf[\"category_code\"], \"\\.\").getItem(1))\n",
    "sdf = sdf.withColumn(\"category_sub_sub_class\", f.split(sdf[\"category_code\"], \"\\.\").getItem(2))\n",
    "\n",
    "sdf = sdf.withColumn(\"year\", f.year(\"event_time\"))\n",
    "sdf = sdf.withColumn(\"month\", f.month(\"event_time\"))\n",
    "sdf = sdf.withColumn(\"weekofyear\", f.weekofyear(\"event_time\"))\n",
    "sdf = sdf.withColumn(\"dayofyear\", f.dayofyear(\"event_time\"))\n",
    "sdf = sdf.withColumn(\"dayofweek\", f.dayofweek(\"event_time\"))\n",
    "sdf = sdf.withColumn(\"dayofmonth\", f.dayofmonth(\"event_time\"))\n",
    "sdf = sdf.withColumn(\"hour\", f.hour(\"event_time\"))\n",
    "\n",
    "sdf = sdf.withColumn('turnover', f.when(f.col('event_type') == 'purchase', f.col('price')).otherwise(0))\n",
    "sdf = sdf.withColumn('bougth_quantity', f.when(f.col('event_type') == 'purchase', f.lit(1)).otherwise(0))\n",
    "sdf = sdf.withColumn('viewed_quantity', f.when(f.col('event_type') == 'view', f.lit(1)).otherwise(0))\n",
    "sdf = sdf.withColumn('cart_quantity', f.when(f.col('event_type') == 'cart', f.lit(1)).otherwise(0))\n",
    "# None Handling\n",
    "# sdf = sdf.fillna(value=\"not defined\")\n",
    "\n",
    "sdf.printSchema()"
   ]
  },
  {
   "cell_type": "markdown",
   "metadata": {
    "pycharm": {
     "name": "#%% md\n"
    }
   },
   "source": [
    "## Dataframe Creation"
   ]
  },
  {
   "cell_type": "markdown",
   "metadata": {
    "pycharm": {
     "name": "#%% md\n"
    }
   },
   "source": [
    "create several dataframes with different aggregation level to answer different questions/ tasks."
   ]
  },
  {
   "cell_type": "code",
   "execution_count": 6,
   "metadata": {
    "collapsed": false,
    "jupyter": {
     "outputs_hidden": false
    },
    "pycharm": {
     "name": "#%%\n"
    }
   },
   "outputs": [],
   "source": [
    "# raw\n",
    "sdf_raw = sdf"
   ]
  },
  {
   "cell_type": "code",
   "execution_count": 7,
   "metadata": {},
   "outputs": [],
   "source": [
    "sdf.createOrReplaceTempView(\"Data\")"
   ]
  },
  {
   "cell_type": "code",
   "execution_count": 8,
   "metadata": {
    "collapsed": false,
    "jupyter": {
     "outputs_hidden": false
    },
    "pycharm": {
     "name": "#%%\n"
    }
   },
   "outputs": [],
   "source": [
    "# aggregated customer\n",
    "sdf_agg_cust = sdf.groupBy(\"user_id\", \"user_session\", \"event_type\", \"product_id\").mean(\"price\")\n"
   ]
  },
  {
   "cell_type": "code",
   "execution_count": 9,
   "metadata": {
    "collapsed": false,
    "jupyter": {
     "outputs_hidden": false
    },
    "pycharm": {
     "name": "#%%\n"
    }
   },
   "outputs": [],
   "source": [
    "# aggregated session"
   ]
  },
  {
   "cell_type": "code",
   "execution_count": 10,
   "metadata": {
    "collapsed": false,
    "jupyter": {
     "outputs_hidden": false
    },
    "pycharm": {
     "name": "#%%\n"
    }
   },
   "outputs": [],
   "source": [
    "# aggregated product\n"
   ]
  },
  {
   "cell_type": "code",
   "execution_count": 11,
   "metadata": {
    "collapsed": false,
    "jupyter": {
     "outputs_hidden": false
    },
    "pycharm": {
     "name": "#%%\n"
    }
   },
   "outputs": [],
   "source": [
    "# aggregated class"
   ]
  },
  {
   "cell_type": "code",
   "execution_count": 12,
   "metadata": {
    "collapsed": false,
    "jupyter": {
     "outputs_hidden": false
    },
    "pycharm": {
     "name": "#%%\n"
    }
   },
   "outputs": [],
   "source": [
    "# aggregated time (weeks, dayofweeks, month)\n",
    "\n",
    "sdf_time_dist_month = sdf.groupBy(\"event_type\", \"dayofmonth\").count()\n",
    "sdf_time_dist_month = sdf_time_dist_month.withColumnRenamed(\"count\", \"cnt\")\n",
    "sdf_time_dist_month = sdf_time_dist_month.sort(\"dayofmonth\", \"event_type\")\n"
   ]
  },
  {
   "cell_type": "code",
   "execution_count": 13,
   "metadata": {},
   "outputs": [],
   "source": [
    "sdf_time_dist_week = sdf.groupBy(\"event_type\", \"dayofweek\").count()\n",
    "sdf_time_dist_week = sdf_time_dist_week.withColumnRenamed(\"count\", \"cnt\")\n",
    "sdf_time_dist_week = sdf_time_dist_week.sort(\"dayofweek\", \"event_type\")\n"
   ]
  },
  {
   "cell_type": "code",
   "execution_count": 14,
   "metadata": {},
   "outputs": [],
   "source": [
    "sdf_time_dist_day = sdf.groupBy(\"event_type\", \"hour\").count()\n",
    "sdf_time_dist_day = sdf_time_dist_day.withColumnRenamed(\"count\", \"cnt\")\n",
    "sdf_time_dist_day = sdf_time_dist_day.sort(\"hour\", \"event_type\")\n"
   ]
  },
  {
   "cell_type": "code",
   "execution_count": null,
   "metadata": {},
   "outputs": [],
   "source": []
  },
  {
   "cell_type": "markdown",
   "metadata": {
    "pycharm": {
     "name": "#%% md\n"
    }
   },
   "source": [
    "## Field Explanations"
   ]
  },
  {
   "cell_type": "markdown",
   "metadata": {
    "pycharm": {
     "name": "#%% md\n"
    }
   },
   "source": [
    "Following fields are in the standard dataset:\n",
    "- event_time\n",
    "- product_id\n",
    "- category_id\n",
    "- category_code\n",
    "- brand\n",
    "- price\n",
    "- user_id\n",
    "- user_session"
   ]
  },
  {
   "cell_type": "markdown",
   "metadata": {
    "pycharm": {
     "name": "#%% md\n"
    }
   },
   "source": [
    "### General\n",
    "In this overview you can see the count of unique rows, product_ids, category_classes, category_codes, category_ids, brands, user_ids and user_sessions as well as the average price of the products."
   ]
  },
  {
   "cell_type": "code",
   "execution_count": 15,
   "metadata": {},
   "outputs": [
    {
     "output_type": "stream",
     "name": "stdout",
     "text": [
      "+---------+----------+--------------+-------------+-----------+-----+-------+------------+---------+\n|Row_Count|Product_ID|Category_Class|Category_Code|Category_ID|Brand|User_ID|User_Session|AVG_Price|\n+---------+----------+--------------+-------------+-----------+-----+-------+------------+---------+\n|      244|       214|             9|           41|         90|   98|    153|         153|   302.15|\n+---------+----------+--------------+-------------+-----------+-----+-------+------------+---------+\n\n"
     ]
    }
   ],
   "source": [
    "sdf_count_overview = spark.sql(\"SELECT COUNT(*) AS Row_Count, \\\n",
    "                                       COUNT(DISTINCT(product_id)) AS Product_ID, \\\n",
    "                                       COUNT(DISTINCT(category_class)) AS Category_Class, \\\n",
    "                                       COUNT(DISTINCT(category_code)) AS Category_Code, \\\n",
    "                                       COUNT(DISTINCT(category_id)) AS Category_ID, \\\n",
    "                                       COUNT(DISTINCT(brand)) AS Brand, \\\n",
    "                                       COUNT(DISTINCT(user_id)) AS User_ID, \\\n",
    "                                       COUNT(DISTINCT(user_session)) AS User_Session, \\\n",
    "                                       ROUND(MEAN(price),2) AS AVG_Price \\\n",
    "                                FROM Data\")\n",
    "sdf_count_overview.show()"
   ]
  },
  {
   "cell_type": "code",
   "execution_count": 16,
   "metadata": {
    "collapsed": false,
    "jupyter": {
     "outputs_hidden": false
    },
    "pycharm": {
     "name": "#%%\n"
    }
   },
   "outputs": [
    {
     "output_type": "stream",
     "name": "stdout",
     "text": [
      "-RECORD 0--------------------------------------\n event_time             | 2019-11-01 01:00:00  \n event_type             | view                 \n product_id             | 1003461              \n category_id            | 2053013555631882655  \n category_code          | electronics.smart... \n brand                  | xiaomi               \n price                  | 489.07               \n user_id                | 520088904            \n user_session           | 4d3b30da-a5e4-49d... \n category_class         | electronics          \n category_sub_class     | smartphone           \n category_sub_sub_class | null                 \n year                   | 2019                 \n month                  | 11                   \n weekofyear             | 44                   \n dayofyear              | 305                  \n dayofweek              | 6                    \n dayofmonth             | 1                    \n hour                   | 1                    \n turnover               | 0.0                  \n bougth_quantity        | 0                    \n viewed_quantity        | 1                    \n cart_quantity          | 0                    \nonly showing top 1 row\n\nNumber of total rows: 244\n"
     ]
    }
   ],
   "source": [
    "sdf_raw.show(1, vertical=True)\n",
    "print(f\"Number of total rows: {sdf_raw.count()}\")"
   ]
  },
  {
   "cell_type": "markdown",
   "metadata": {
    "pycharm": {
     "name": "#%% md\n"
    }
   },
   "source": [
    "### event_time"
   ]
  },
  {
   "cell_type": "code",
   "execution_count": 17,
   "metadata": {
    "collapsed": false,
    "jupyter": {
     "outputs_hidden": false
    },
    "pycharm": {
     "name": "#%%\n"
    }
   },
   "outputs": [
    {
     "output_type": "stream",
     "name": "stdout",
     "text": [
      "+-------------------+\n",
      "|         event_time|\n",
      "+-------------------+\n",
      "|2019-11-01 01:00:00|\n",
      "|2019-11-01 01:00:00|\n",
      "|2019-11-01 01:00:01|\n",
      "|2019-11-01 01:00:01|\n",
      "|2019-11-01 01:00:01|\n",
      "+-------------------+\n",
      "only showing top 5 rows\n",
      "\n",
      "Number of distinct event_time rows: 84\n"
     ]
    }
   ],
   "source": [
    "sdf_raw.select(\"event_time\").show(5)\n",
    "print(f\"Number of distinct event_time rows: {sdf_raw.select('event_time').distinct().count()}\")"
   ]
  },
  {
   "cell_type": "markdown",
   "metadata": {
    "pycharm": {
     "name": "#%% md\n"
    }
   },
   "source": [
    "### event_type\n",
    "The event_type describes the kind of interaction, an user had with a product. The field can take three forms: View, Cart and Purchase. The distribution of these three forms is represented in the following plot:"
   ]
  },
  {
   "cell_type": "code",
   "execution_count": 18,
   "metadata": {
    "collapsed": false,
    "jupyter": {
     "outputs_hidden": false
    },
    "pycharm": {
     "name": "#%%\n"
    }
   },
   "outputs": [
    {
     "output_type": "stream",
     "name": "stdout",
     "text": [
      "+----------+-----+\n|event_type|count|\n+----------+-----+\n|  purchase|    2|\n|      view|  240|\n|      cart|    2|\n+----------+-----+\n\n"
     ]
    }
   ],
   "source": [
    "sdf_event_type_dist = sdf_raw.groupBy(\"event_type\").count()\n",
    "sdf_event_type_dist.show()"
   ]
  },
  {
   "cell_type": "code",
   "execution_count": 19,
   "metadata": {
    "collapsed": false,
    "jupyter": {
     "outputs_hidden": false
    },
    "pycharm": {
     "name": "#%%\n"
    }
   },
   "outputs": [
    {
     "output_type": "display_data",
     "data": {
      "application/vnd.plotly.v1+json": {
       "config": {
        "plotlyServerURL": "https://plot.ly"
       },
       "data": [
        {
         "domain": {
          "x": [
           0,
           1
          ],
          "y": [
           0,
           1
          ]
         },
         "hovertemplate": "event_type=%{label}<br>count=%{value}<extra></extra>",
         "labels": [
          "purchase",
          "view",
          "cart"
         ],
         "legendgroup": "",
         "name": "",
         "showlegend": true,
         "type": "pie",
         "values": [
          2,
          240,
          2
         ]
        }
       ],
       "layout": {
        "legend": {
         "tracegroupgap": 0
        },
        "template": {
         "data": {
          "bar": [
           {
            "error_x": {
             "color": "#2a3f5f"
            },
            "error_y": {
             "color": "#2a3f5f"
            },
            "marker": {
             "line": {
              "color": "#E5ECF6",
              "width": 0.5
             }
            },
            "type": "bar"
           }
          ],
          "barpolar": [
           {
            "marker": {
             "line": {
              "color": "#E5ECF6",
              "width": 0.5
             }
            },
            "type": "barpolar"
           }
          ],
          "carpet": [
           {
            "aaxis": {
             "endlinecolor": "#2a3f5f",
             "gridcolor": "white",
             "linecolor": "white",
             "minorgridcolor": "white",
             "startlinecolor": "#2a3f5f"
            },
            "baxis": {
             "endlinecolor": "#2a3f5f",
             "gridcolor": "white",
             "linecolor": "white",
             "minorgridcolor": "white",
             "startlinecolor": "#2a3f5f"
            },
            "type": "carpet"
           }
          ],
          "choropleth": [
           {
            "colorbar": {
             "outlinewidth": 0,
             "ticks": ""
            },
            "type": "choropleth"
           }
          ],
          "contour": [
           {
            "colorbar": {
             "outlinewidth": 0,
             "ticks": ""
            },
            "colorscale": [
             [
              0,
              "#0d0887"
             ],
             [
              0.1111111111111111,
              "#46039f"
             ],
             [
              0.2222222222222222,
              "#7201a8"
             ],
             [
              0.3333333333333333,
              "#9c179e"
             ],
             [
              0.4444444444444444,
              "#bd3786"
             ],
             [
              0.5555555555555556,
              "#d8576b"
             ],
             [
              0.6666666666666666,
              "#ed7953"
             ],
             [
              0.7777777777777778,
              "#fb9f3a"
             ],
             [
              0.8888888888888888,
              "#fdca26"
             ],
             [
              1,
              "#f0f921"
             ]
            ],
            "type": "contour"
           }
          ],
          "contourcarpet": [
           {
            "colorbar": {
             "outlinewidth": 0,
             "ticks": ""
            },
            "type": "contourcarpet"
           }
          ],
          "heatmap": [
           {
            "colorbar": {
             "outlinewidth": 0,
             "ticks": ""
            },
            "colorscale": [
             [
              0,
              "#0d0887"
             ],
             [
              0.1111111111111111,
              "#46039f"
             ],
             [
              0.2222222222222222,
              "#7201a8"
             ],
             [
              0.3333333333333333,
              "#9c179e"
             ],
             [
              0.4444444444444444,
              "#bd3786"
             ],
             [
              0.5555555555555556,
              "#d8576b"
             ],
             [
              0.6666666666666666,
              "#ed7953"
             ],
             [
              0.7777777777777778,
              "#fb9f3a"
             ],
             [
              0.8888888888888888,
              "#fdca26"
             ],
             [
              1,
              "#f0f921"
             ]
            ],
            "type": "heatmap"
           }
          ],
          "heatmapgl": [
           {
            "colorbar": {
             "outlinewidth": 0,
             "ticks": ""
            },
            "colorscale": [
             [
              0,
              "#0d0887"
             ],
             [
              0.1111111111111111,
              "#46039f"
             ],
             [
              0.2222222222222222,
              "#7201a8"
             ],
             [
              0.3333333333333333,
              "#9c179e"
             ],
             [
              0.4444444444444444,
              "#bd3786"
             ],
             [
              0.5555555555555556,
              "#d8576b"
             ],
             [
              0.6666666666666666,
              "#ed7953"
             ],
             [
              0.7777777777777778,
              "#fb9f3a"
             ],
             [
              0.8888888888888888,
              "#fdca26"
             ],
             [
              1,
              "#f0f921"
             ]
            ],
            "type": "heatmapgl"
           }
          ],
          "histogram": [
           {
            "marker": {
             "colorbar": {
              "outlinewidth": 0,
              "ticks": ""
             }
            },
            "type": "histogram"
           }
          ],
          "histogram2d": [
           {
            "colorbar": {
             "outlinewidth": 0,
             "ticks": ""
            },
            "colorscale": [
             [
              0,
              "#0d0887"
             ],
             [
              0.1111111111111111,
              "#46039f"
             ],
             [
              0.2222222222222222,
              "#7201a8"
             ],
             [
              0.3333333333333333,
              "#9c179e"
             ],
             [
              0.4444444444444444,
              "#bd3786"
             ],
             [
              0.5555555555555556,
              "#d8576b"
             ],
             [
              0.6666666666666666,
              "#ed7953"
             ],
             [
              0.7777777777777778,
              "#fb9f3a"
             ],
             [
              0.8888888888888888,
              "#fdca26"
             ],
             [
              1,
              "#f0f921"
             ]
            ],
            "type": "histogram2d"
           }
          ],
          "histogram2dcontour": [
           {
            "colorbar": {
             "outlinewidth": 0,
             "ticks": ""
            },
            "colorscale": [
             [
              0,
              "#0d0887"
             ],
             [
              0.1111111111111111,
              "#46039f"
             ],
             [
              0.2222222222222222,
              "#7201a8"
             ],
             [
              0.3333333333333333,
              "#9c179e"
             ],
             [
              0.4444444444444444,
              "#bd3786"
             ],
             [
              0.5555555555555556,
              "#d8576b"
             ],
             [
              0.6666666666666666,
              "#ed7953"
             ],
             [
              0.7777777777777778,
              "#fb9f3a"
             ],
             [
              0.8888888888888888,
              "#fdca26"
             ],
             [
              1,
              "#f0f921"
             ]
            ],
            "type": "histogram2dcontour"
           }
          ],
          "mesh3d": [
           {
            "colorbar": {
             "outlinewidth": 0,
             "ticks": ""
            },
            "type": "mesh3d"
           }
          ],
          "parcoords": [
           {
            "line": {
             "colorbar": {
              "outlinewidth": 0,
              "ticks": ""
             }
            },
            "type": "parcoords"
           }
          ],
          "pie": [
           {
            "automargin": true,
            "type": "pie"
           }
          ],
          "scatter": [
           {
            "marker": {
             "colorbar": {
              "outlinewidth": 0,
              "ticks": ""
             }
            },
            "type": "scatter"
           }
          ],
          "scatter3d": [
           {
            "line": {
             "colorbar": {
              "outlinewidth": 0,
              "ticks": ""
             }
            },
            "marker": {
             "colorbar": {
              "outlinewidth": 0,
              "ticks": ""
             }
            },
            "type": "scatter3d"
           }
          ],
          "scattercarpet": [
           {
            "marker": {
             "colorbar": {
              "outlinewidth": 0,
              "ticks": ""
             }
            },
            "type": "scattercarpet"
           }
          ],
          "scattergeo": [
           {
            "marker": {
             "colorbar": {
              "outlinewidth": 0,
              "ticks": ""
             }
            },
            "type": "scattergeo"
           }
          ],
          "scattergl": [
           {
            "marker": {
             "colorbar": {
              "outlinewidth": 0,
              "ticks": ""
             }
            },
            "type": "scattergl"
           }
          ],
          "scattermapbox": [
           {
            "marker": {
             "colorbar": {
              "outlinewidth": 0,
              "ticks": ""
             }
            },
            "type": "scattermapbox"
           }
          ],
          "scatterpolar": [
           {
            "marker": {
             "colorbar": {
              "outlinewidth": 0,
              "ticks": ""
             }
            },
            "type": "scatterpolar"
           }
          ],
          "scatterpolargl": [
           {
            "marker": {
             "colorbar": {
              "outlinewidth": 0,
              "ticks": ""
             }
            },
            "type": "scatterpolargl"
           }
          ],
          "scatterternary": [
           {
            "marker": {
             "colorbar": {
              "outlinewidth": 0,
              "ticks": ""
             }
            },
            "type": "scatterternary"
           }
          ],
          "surface": [
           {
            "colorbar": {
             "outlinewidth": 0,
             "ticks": ""
            },
            "colorscale": [
             [
              0,
              "#0d0887"
             ],
             [
              0.1111111111111111,
              "#46039f"
             ],
             [
              0.2222222222222222,
              "#7201a8"
             ],
             [
              0.3333333333333333,
              "#9c179e"
             ],
             [
              0.4444444444444444,
              "#bd3786"
             ],
             [
              0.5555555555555556,
              "#d8576b"
             ],
             [
              0.6666666666666666,
              "#ed7953"
             ],
             [
              0.7777777777777778,
              "#fb9f3a"
             ],
             [
              0.8888888888888888,
              "#fdca26"
             ],
             [
              1,
              "#f0f921"
             ]
            ],
            "type": "surface"
           }
          ],
          "table": [
           {
            "cells": {
             "fill": {
              "color": "#EBF0F8"
             },
             "line": {
              "color": "white"
             }
            },
            "header": {
             "fill": {
              "color": "#C8D4E3"
             },
             "line": {
              "color": "white"
             }
            },
            "type": "table"
           }
          ]
         },
         "layout": {
          "annotationdefaults": {
           "arrowcolor": "#2a3f5f",
           "arrowhead": 0,
           "arrowwidth": 1
          },
          "autotypenumbers": "strict",
          "coloraxis": {
           "colorbar": {
            "outlinewidth": 0,
            "ticks": ""
           }
          },
          "colorscale": {
           "diverging": [
            [
             0,
             "#8e0152"
            ],
            [
             0.1,
             "#c51b7d"
            ],
            [
             0.2,
             "#de77ae"
            ],
            [
             0.3,
             "#f1b6da"
            ],
            [
             0.4,
             "#fde0ef"
            ],
            [
             0.5,
             "#f7f7f7"
            ],
            [
             0.6,
             "#e6f5d0"
            ],
            [
             0.7,
             "#b8e186"
            ],
            [
             0.8,
             "#7fbc41"
            ],
            [
             0.9,
             "#4d9221"
            ],
            [
             1,
             "#276419"
            ]
           ],
           "sequential": [
            [
             0,
             "#0d0887"
            ],
            [
             0.1111111111111111,
             "#46039f"
            ],
            [
             0.2222222222222222,
             "#7201a8"
            ],
            [
             0.3333333333333333,
             "#9c179e"
            ],
            [
             0.4444444444444444,
             "#bd3786"
            ],
            [
             0.5555555555555556,
             "#d8576b"
            ],
            [
             0.6666666666666666,
             "#ed7953"
            ],
            [
             0.7777777777777778,
             "#fb9f3a"
            ],
            [
             0.8888888888888888,
             "#fdca26"
            ],
            [
             1,
             "#f0f921"
            ]
           ],
           "sequentialminus": [
            [
             0,
             "#0d0887"
            ],
            [
             0.1111111111111111,
             "#46039f"
            ],
            [
             0.2222222222222222,
             "#7201a8"
            ],
            [
             0.3333333333333333,
             "#9c179e"
            ],
            [
             0.4444444444444444,
             "#bd3786"
            ],
            [
             0.5555555555555556,
             "#d8576b"
            ],
            [
             0.6666666666666666,
             "#ed7953"
            ],
            [
             0.7777777777777778,
             "#fb9f3a"
            ],
            [
             0.8888888888888888,
             "#fdca26"
            ],
            [
             1,
             "#f0f921"
            ]
           ]
          },
          "colorway": [
           "#636efa",
           "#EF553B",
           "#00cc96",
           "#ab63fa",
           "#FFA15A",
           "#19d3f3",
           "#FF6692",
           "#B6E880",
           "#FF97FF",
           "#FECB52"
          ],
          "font": {
           "color": "#2a3f5f"
          },
          "geo": {
           "bgcolor": "white",
           "lakecolor": "white",
           "landcolor": "#E5ECF6",
           "showlakes": true,
           "showland": true,
           "subunitcolor": "white"
          },
          "hoverlabel": {
           "align": "left"
          },
          "hovermode": "closest",
          "mapbox": {
           "style": "light"
          },
          "paper_bgcolor": "white",
          "plot_bgcolor": "#E5ECF6",
          "polar": {
           "angularaxis": {
            "gridcolor": "white",
            "linecolor": "white",
            "ticks": ""
           },
           "bgcolor": "#E5ECF6",
           "radialaxis": {
            "gridcolor": "white",
            "linecolor": "white",
            "ticks": ""
           }
          },
          "scene": {
           "xaxis": {
            "backgroundcolor": "#E5ECF6",
            "gridcolor": "white",
            "gridwidth": 2,
            "linecolor": "white",
            "showbackground": true,
            "ticks": "",
            "zerolinecolor": "white"
           },
           "yaxis": {
            "backgroundcolor": "#E5ECF6",
            "gridcolor": "white",
            "gridwidth": 2,
            "linecolor": "white",
            "showbackground": true,
            "ticks": "",
            "zerolinecolor": "white"
           },
           "zaxis": {
            "backgroundcolor": "#E5ECF6",
            "gridcolor": "white",
            "gridwidth": 2,
            "linecolor": "white",
            "showbackground": true,
            "ticks": "",
            "zerolinecolor": "white"
           }
          },
          "shapedefaults": {
           "line": {
            "color": "#2a3f5f"
           }
          },
          "ternary": {
           "aaxis": {
            "gridcolor": "white",
            "linecolor": "white",
            "ticks": ""
           },
           "baxis": {
            "gridcolor": "white",
            "linecolor": "white",
            "ticks": ""
           },
           "bgcolor": "#E5ECF6",
           "caxis": {
            "gridcolor": "white",
            "linecolor": "white",
            "ticks": ""
           }
          },
          "title": {
           "x": 0.05
          },
          "xaxis": {
           "automargin": true,
           "gridcolor": "white",
           "linecolor": "white",
           "ticks": "",
           "title": {
            "standoff": 15
           },
           "zerolinecolor": "white",
           "zerolinewidth": 2
          },
          "yaxis": {
           "automargin": true,
           "gridcolor": "white",
           "linecolor": "white",
           "ticks": "",
           "title": {
            "standoff": 15
           },
           "zerolinecolor": "white",
           "zerolinewidth": 2
          }
         }
        },
        "title": {
         "text": "Distribution of Customer Actions"
        }
       }
      }
     },
     "metadata": {}
    }
   ],
   "source": [
    "# Plot Event Types\n",
    "df = sdf_event_type_dist.toPandas()\n",
    "fig = px.pie(df, values='count', names='event_type', title='Distribution of Customer Actions')\n",
    "fig.show()"
   ]
  },
  {
   "cell_type": "markdown",
   "metadata": {
    "pycharm": {
     "name": "#%% md\n"
    }
   },
   "source": [
    "### product_id\n",
    "The product_id is the unique identificator for a product. As you can see in the overview, there are ... unique product_ids in the datasets Oct-2019 and Nov-2019, the users have interacted with.\n"
   ]
  },
  {
   "cell_type": "code",
   "execution_count": 20,
   "metadata": {
    "collapsed": false,
    "jupyter": {
     "outputs_hidden": false
    },
    "pycharm": {
     "name": "#%%\n"
    }
   },
   "outputs": [
    {
     "output_type": "display_data",
     "data": {
      "application/vnd.plotly.v1+json": {
       "config": {
        "plotlyServerURL": "https://plot.ly"
       },
       "data": [
        {
         "alignmentgroup": "True",
         "hovertemplate": "Product_ID=%{x}<br>Count=%{y}<extra></extra>",
         "legendgroup": "",
         "marker": {
          "color": "#636efa"
         },
         "name": "",
         "offsetgroup": "",
         "orientation": "v",
         "showlegend": false,
         "textposition": "auto",
         "type": "bar",
         "x": [
          "12708937",
          "24400437",
          "5701331",
          "13200605",
          "1307115",
          "1004258",
          "16700384",
          "4804295",
          "4600603",
          "1004237"
         ],
         "xaxis": "x",
         "y": [
          3,
          3,
          3,
          3,
          2,
          2,
          2,
          2,
          2,
          2
         ],
         "yaxis": "y"
        }
       ],
       "layout": {
        "barmode": "relative",
        "legend": {
         "tracegroupgap": 0
        },
        "template": {
         "data": {
          "bar": [
           {
            "error_x": {
             "color": "#2a3f5f"
            },
            "error_y": {
             "color": "#2a3f5f"
            },
            "marker": {
             "line": {
              "color": "#E5ECF6",
              "width": 0.5
             }
            },
            "type": "bar"
           }
          ],
          "barpolar": [
           {
            "marker": {
             "line": {
              "color": "#E5ECF6",
              "width": 0.5
             }
            },
            "type": "barpolar"
           }
          ],
          "carpet": [
           {
            "aaxis": {
             "endlinecolor": "#2a3f5f",
             "gridcolor": "white",
             "linecolor": "white",
             "minorgridcolor": "white",
             "startlinecolor": "#2a3f5f"
            },
            "baxis": {
             "endlinecolor": "#2a3f5f",
             "gridcolor": "white",
             "linecolor": "white",
             "minorgridcolor": "white",
             "startlinecolor": "#2a3f5f"
            },
            "type": "carpet"
           }
          ],
          "choropleth": [
           {
            "colorbar": {
             "outlinewidth": 0,
             "ticks": ""
            },
            "type": "choropleth"
           }
          ],
          "contour": [
           {
            "colorbar": {
             "outlinewidth": 0,
             "ticks": ""
            },
            "colorscale": [
             [
              0,
              "#0d0887"
             ],
             [
              0.1111111111111111,
              "#46039f"
             ],
             [
              0.2222222222222222,
              "#7201a8"
             ],
             [
              0.3333333333333333,
              "#9c179e"
             ],
             [
              0.4444444444444444,
              "#bd3786"
             ],
             [
              0.5555555555555556,
              "#d8576b"
             ],
             [
              0.6666666666666666,
              "#ed7953"
             ],
             [
              0.7777777777777778,
              "#fb9f3a"
             ],
             [
              0.8888888888888888,
              "#fdca26"
             ],
             [
              1,
              "#f0f921"
             ]
            ],
            "type": "contour"
           }
          ],
          "contourcarpet": [
           {
            "colorbar": {
             "outlinewidth": 0,
             "ticks": ""
            },
            "type": "contourcarpet"
           }
          ],
          "heatmap": [
           {
            "colorbar": {
             "outlinewidth": 0,
             "ticks": ""
            },
            "colorscale": [
             [
              0,
              "#0d0887"
             ],
             [
              0.1111111111111111,
              "#46039f"
             ],
             [
              0.2222222222222222,
              "#7201a8"
             ],
             [
              0.3333333333333333,
              "#9c179e"
             ],
             [
              0.4444444444444444,
              "#bd3786"
             ],
             [
              0.5555555555555556,
              "#d8576b"
             ],
             [
              0.6666666666666666,
              "#ed7953"
             ],
             [
              0.7777777777777778,
              "#fb9f3a"
             ],
             [
              0.8888888888888888,
              "#fdca26"
             ],
             [
              1,
              "#f0f921"
             ]
            ],
            "type": "heatmap"
           }
          ],
          "heatmapgl": [
           {
            "colorbar": {
             "outlinewidth": 0,
             "ticks": ""
            },
            "colorscale": [
             [
              0,
              "#0d0887"
             ],
             [
              0.1111111111111111,
              "#46039f"
             ],
             [
              0.2222222222222222,
              "#7201a8"
             ],
             [
              0.3333333333333333,
              "#9c179e"
             ],
             [
              0.4444444444444444,
              "#bd3786"
             ],
             [
              0.5555555555555556,
              "#d8576b"
             ],
             [
              0.6666666666666666,
              "#ed7953"
             ],
             [
              0.7777777777777778,
              "#fb9f3a"
             ],
             [
              0.8888888888888888,
              "#fdca26"
             ],
             [
              1,
              "#f0f921"
             ]
            ],
            "type": "heatmapgl"
           }
          ],
          "histogram": [
           {
            "marker": {
             "colorbar": {
              "outlinewidth": 0,
              "ticks": ""
             }
            },
            "type": "histogram"
           }
          ],
          "histogram2d": [
           {
            "colorbar": {
             "outlinewidth": 0,
             "ticks": ""
            },
            "colorscale": [
             [
              0,
              "#0d0887"
             ],
             [
              0.1111111111111111,
              "#46039f"
             ],
             [
              0.2222222222222222,
              "#7201a8"
             ],
             [
              0.3333333333333333,
              "#9c179e"
             ],
             [
              0.4444444444444444,
              "#bd3786"
             ],
             [
              0.5555555555555556,
              "#d8576b"
             ],
             [
              0.6666666666666666,
              "#ed7953"
             ],
             [
              0.7777777777777778,
              "#fb9f3a"
             ],
             [
              0.8888888888888888,
              "#fdca26"
             ],
             [
              1,
              "#f0f921"
             ]
            ],
            "type": "histogram2d"
           }
          ],
          "histogram2dcontour": [
           {
            "colorbar": {
             "outlinewidth": 0,
             "ticks": ""
            },
            "colorscale": [
             [
              0,
              "#0d0887"
             ],
             [
              0.1111111111111111,
              "#46039f"
             ],
             [
              0.2222222222222222,
              "#7201a8"
             ],
             [
              0.3333333333333333,
              "#9c179e"
             ],
             [
              0.4444444444444444,
              "#bd3786"
             ],
             [
              0.5555555555555556,
              "#d8576b"
             ],
             [
              0.6666666666666666,
              "#ed7953"
             ],
             [
              0.7777777777777778,
              "#fb9f3a"
             ],
             [
              0.8888888888888888,
              "#fdca26"
             ],
             [
              1,
              "#f0f921"
             ]
            ],
            "type": "histogram2dcontour"
           }
          ],
          "mesh3d": [
           {
            "colorbar": {
             "outlinewidth": 0,
             "ticks": ""
            },
            "type": "mesh3d"
           }
          ],
          "parcoords": [
           {
            "line": {
             "colorbar": {
              "outlinewidth": 0,
              "ticks": ""
             }
            },
            "type": "parcoords"
           }
          ],
          "pie": [
           {
            "automargin": true,
            "type": "pie"
           }
          ],
          "scatter": [
           {
            "marker": {
             "colorbar": {
              "outlinewidth": 0,
              "ticks": ""
             }
            },
            "type": "scatter"
           }
          ],
          "scatter3d": [
           {
            "line": {
             "colorbar": {
              "outlinewidth": 0,
              "ticks": ""
             }
            },
            "marker": {
             "colorbar": {
              "outlinewidth": 0,
              "ticks": ""
             }
            },
            "type": "scatter3d"
           }
          ],
          "scattercarpet": [
           {
            "marker": {
             "colorbar": {
              "outlinewidth": 0,
              "ticks": ""
             }
            },
            "type": "scattercarpet"
           }
          ],
          "scattergeo": [
           {
            "marker": {
             "colorbar": {
              "outlinewidth": 0,
              "ticks": ""
             }
            },
            "type": "scattergeo"
           }
          ],
          "scattergl": [
           {
            "marker": {
             "colorbar": {
              "outlinewidth": 0,
              "ticks": ""
             }
            },
            "type": "scattergl"
           }
          ],
          "scattermapbox": [
           {
            "marker": {
             "colorbar": {
              "outlinewidth": 0,
              "ticks": ""
             }
            },
            "type": "scattermapbox"
           }
          ],
          "scatterpolar": [
           {
            "marker": {
             "colorbar": {
              "outlinewidth": 0,
              "ticks": ""
             }
            },
            "type": "scatterpolar"
           }
          ],
          "scatterpolargl": [
           {
            "marker": {
             "colorbar": {
              "outlinewidth": 0,
              "ticks": ""
             }
            },
            "type": "scatterpolargl"
           }
          ],
          "scatterternary": [
           {
            "marker": {
             "colorbar": {
              "outlinewidth": 0,
              "ticks": ""
             }
            },
            "type": "scatterternary"
           }
          ],
          "surface": [
           {
            "colorbar": {
             "outlinewidth": 0,
             "ticks": ""
            },
            "colorscale": [
             [
              0,
              "#0d0887"
             ],
             [
              0.1111111111111111,
              "#46039f"
             ],
             [
              0.2222222222222222,
              "#7201a8"
             ],
             [
              0.3333333333333333,
              "#9c179e"
             ],
             [
              0.4444444444444444,
              "#bd3786"
             ],
             [
              0.5555555555555556,
              "#d8576b"
             ],
             [
              0.6666666666666666,
              "#ed7953"
             ],
             [
              0.7777777777777778,
              "#fb9f3a"
             ],
             [
              0.8888888888888888,
              "#fdca26"
             ],
             [
              1,
              "#f0f921"
             ]
            ],
            "type": "surface"
           }
          ],
          "table": [
           {
            "cells": {
             "fill": {
              "color": "#EBF0F8"
             },
             "line": {
              "color": "white"
             }
            },
            "header": {
             "fill": {
              "color": "#C8D4E3"
             },
             "line": {
              "color": "white"
             }
            },
            "type": "table"
           }
          ]
         },
         "layout": {
          "annotationdefaults": {
           "arrowcolor": "#2a3f5f",
           "arrowhead": 0,
           "arrowwidth": 1
          },
          "autotypenumbers": "strict",
          "coloraxis": {
           "colorbar": {
            "outlinewidth": 0,
            "ticks": ""
           }
          },
          "colorscale": {
           "diverging": [
            [
             0,
             "#8e0152"
            ],
            [
             0.1,
             "#c51b7d"
            ],
            [
             0.2,
             "#de77ae"
            ],
            [
             0.3,
             "#f1b6da"
            ],
            [
             0.4,
             "#fde0ef"
            ],
            [
             0.5,
             "#f7f7f7"
            ],
            [
             0.6,
             "#e6f5d0"
            ],
            [
             0.7,
             "#b8e186"
            ],
            [
             0.8,
             "#7fbc41"
            ],
            [
             0.9,
             "#4d9221"
            ],
            [
             1,
             "#276419"
            ]
           ],
           "sequential": [
            [
             0,
             "#0d0887"
            ],
            [
             0.1111111111111111,
             "#46039f"
            ],
            [
             0.2222222222222222,
             "#7201a8"
            ],
            [
             0.3333333333333333,
             "#9c179e"
            ],
            [
             0.4444444444444444,
             "#bd3786"
            ],
            [
             0.5555555555555556,
             "#d8576b"
            ],
            [
             0.6666666666666666,
             "#ed7953"
            ],
            [
             0.7777777777777778,
             "#fb9f3a"
            ],
            [
             0.8888888888888888,
             "#fdca26"
            ],
            [
             1,
             "#f0f921"
            ]
           ],
           "sequentialminus": [
            [
             0,
             "#0d0887"
            ],
            [
             0.1111111111111111,
             "#46039f"
            ],
            [
             0.2222222222222222,
             "#7201a8"
            ],
            [
             0.3333333333333333,
             "#9c179e"
            ],
            [
             0.4444444444444444,
             "#bd3786"
            ],
            [
             0.5555555555555556,
             "#d8576b"
            ],
            [
             0.6666666666666666,
             "#ed7953"
            ],
            [
             0.7777777777777778,
             "#fb9f3a"
            ],
            [
             0.8888888888888888,
             "#fdca26"
            ],
            [
             1,
             "#f0f921"
            ]
           ]
          },
          "colorway": [
           "#636efa",
           "#EF553B",
           "#00cc96",
           "#ab63fa",
           "#FFA15A",
           "#19d3f3",
           "#FF6692",
           "#B6E880",
           "#FF97FF",
           "#FECB52"
          ],
          "font": {
           "color": "#2a3f5f"
          },
          "geo": {
           "bgcolor": "white",
           "lakecolor": "white",
           "landcolor": "#E5ECF6",
           "showlakes": true,
           "showland": true,
           "subunitcolor": "white"
          },
          "hoverlabel": {
           "align": "left"
          },
          "hovermode": "closest",
          "mapbox": {
           "style": "light"
          },
          "paper_bgcolor": "white",
          "plot_bgcolor": "#E5ECF6",
          "polar": {
           "angularaxis": {
            "gridcolor": "white",
            "linecolor": "white",
            "ticks": ""
           },
           "bgcolor": "#E5ECF6",
           "radialaxis": {
            "gridcolor": "white",
            "linecolor": "white",
            "ticks": ""
           }
          },
          "scene": {
           "xaxis": {
            "backgroundcolor": "#E5ECF6",
            "gridcolor": "white",
            "gridwidth": 2,
            "linecolor": "white",
            "showbackground": true,
            "ticks": "",
            "zerolinecolor": "white"
           },
           "yaxis": {
            "backgroundcolor": "#E5ECF6",
            "gridcolor": "white",
            "gridwidth": 2,
            "linecolor": "white",
            "showbackground": true,
            "ticks": "",
            "zerolinecolor": "white"
           },
           "zaxis": {
            "backgroundcolor": "#E5ECF6",
            "gridcolor": "white",
            "gridwidth": 2,
            "linecolor": "white",
            "showbackground": true,
            "ticks": "",
            "zerolinecolor": "white"
           }
          },
          "shapedefaults": {
           "line": {
            "color": "#2a3f5f"
           }
          },
          "ternary": {
           "aaxis": {
            "gridcolor": "white",
            "linecolor": "white",
            "ticks": ""
           },
           "baxis": {
            "gridcolor": "white",
            "linecolor": "white",
            "ticks": ""
           },
           "bgcolor": "#E5ECF6",
           "caxis": {
            "gridcolor": "white",
            "linecolor": "white",
            "ticks": ""
           }
          },
          "title": {
           "x": 0.05
          },
          "xaxis": {
           "automargin": true,
           "gridcolor": "white",
           "linecolor": "white",
           "ticks": "",
           "title": {
            "standoff": 15
           },
           "zerolinecolor": "white",
           "zerolinewidth": 2
          },
          "yaxis": {
           "automargin": true,
           "gridcolor": "white",
           "linecolor": "white",
           "ticks": "",
           "title": {
            "standoff": 15
           },
           "zerolinecolor": "white",
           "zerolinewidth": 2
          }
         }
        },
        "title": {
         "text": "Top 10 most interacted products"
        },
        "xaxis": {
         "anchor": "y",
         "domain": [
          0,
          1
         ],
         "title": {
          "text": "Product_ID"
         }
        },
        "yaxis": {
         "anchor": "x",
         "domain": [
          0,
          1
         ],
         "title": {
          "text": "Count"
         }
        }
       }
      }
     },
     "metadata": {}
    }
   ],
   "source": [
    "sdf_count_per_product_id = spark.sql(\"SELECT DISTINCT(product_id) AS Product_ID, \\\n",
    "                                                COUNT(product_id) AS Count \\\n",
    "                                        FROM Data \\\n",
    "                                        GROUP BY product_id \\\n",
    "                                        ORDER BY Count DESC\")\n",
    "px.bar(sdf_count_per_product_id.limit(10).toPandas(), x='Product_ID', y='Count', title=\"Top 10 most interacted products\")\n"
   ]
  },
  {
   "cell_type": "code",
   "execution_count": 21,
   "metadata": {
    "collapsed": false,
    "jupyter": {
     "outputs_hidden": false
    },
    "pycharm": {
     "name": "#%%\n"
    }
   },
   "outputs": [
    {
     "output_type": "display_data",
     "data": {
      "application/vnd.plotly.v1+json": {
       "config": {
        "plotlyServerURL": "https://plot.ly"
       },
       "data": [
        {
         "alignmentgroup": "True",
         "hovertemplate": "product_id=%{x}<br>count=%{y}<extra></extra>",
         "legendgroup": "",
         "marker": {
          "color": "#636efa"
         },
         "name": "",
         "offsetgroup": "",
         "orientation": "v",
         "showlegend": false,
         "textposition": "auto",
         "type": "bar",
         "x": [
          "1306571",
          "1307012",
          "26204072",
          "3100034",
          "25600085",
          "26402378",
          "2400216",
          "2300214",
          "15100148",
          "3901174"
         ],
         "xaxis": "x",
         "y": [
          1,
          1,
          1,
          1,
          1,
          1,
          1,
          1,
          1,
          1
         ],
         "yaxis": "y"
        }
       ],
       "layout": {
        "barmode": "relative",
        "legend": {
         "tracegroupgap": 0
        },
        "template": {
         "data": {
          "bar": [
           {
            "error_x": {
             "color": "#2a3f5f"
            },
            "error_y": {
             "color": "#2a3f5f"
            },
            "marker": {
             "line": {
              "color": "#E5ECF6",
              "width": 0.5
             }
            },
            "type": "bar"
           }
          ],
          "barpolar": [
           {
            "marker": {
             "line": {
              "color": "#E5ECF6",
              "width": 0.5
             }
            },
            "type": "barpolar"
           }
          ],
          "carpet": [
           {
            "aaxis": {
             "endlinecolor": "#2a3f5f",
             "gridcolor": "white",
             "linecolor": "white",
             "minorgridcolor": "white",
             "startlinecolor": "#2a3f5f"
            },
            "baxis": {
             "endlinecolor": "#2a3f5f",
             "gridcolor": "white",
             "linecolor": "white",
             "minorgridcolor": "white",
             "startlinecolor": "#2a3f5f"
            },
            "type": "carpet"
           }
          ],
          "choropleth": [
           {
            "colorbar": {
             "outlinewidth": 0,
             "ticks": ""
            },
            "type": "choropleth"
           }
          ],
          "contour": [
           {
            "colorbar": {
             "outlinewidth": 0,
             "ticks": ""
            },
            "colorscale": [
             [
              0,
              "#0d0887"
             ],
             [
              0.1111111111111111,
              "#46039f"
             ],
             [
              0.2222222222222222,
              "#7201a8"
             ],
             [
              0.3333333333333333,
              "#9c179e"
             ],
             [
              0.4444444444444444,
              "#bd3786"
             ],
             [
              0.5555555555555556,
              "#d8576b"
             ],
             [
              0.6666666666666666,
              "#ed7953"
             ],
             [
              0.7777777777777778,
              "#fb9f3a"
             ],
             [
              0.8888888888888888,
              "#fdca26"
             ],
             [
              1,
              "#f0f921"
             ]
            ],
            "type": "contour"
           }
          ],
          "contourcarpet": [
           {
            "colorbar": {
             "outlinewidth": 0,
             "ticks": ""
            },
            "type": "contourcarpet"
           }
          ],
          "heatmap": [
           {
            "colorbar": {
             "outlinewidth": 0,
             "ticks": ""
            },
            "colorscale": [
             [
              0,
              "#0d0887"
             ],
             [
              0.1111111111111111,
              "#46039f"
             ],
             [
              0.2222222222222222,
              "#7201a8"
             ],
             [
              0.3333333333333333,
              "#9c179e"
             ],
             [
              0.4444444444444444,
              "#bd3786"
             ],
             [
              0.5555555555555556,
              "#d8576b"
             ],
             [
              0.6666666666666666,
              "#ed7953"
             ],
             [
              0.7777777777777778,
              "#fb9f3a"
             ],
             [
              0.8888888888888888,
              "#fdca26"
             ],
             [
              1,
              "#f0f921"
             ]
            ],
            "type": "heatmap"
           }
          ],
          "heatmapgl": [
           {
            "colorbar": {
             "outlinewidth": 0,
             "ticks": ""
            },
            "colorscale": [
             [
              0,
              "#0d0887"
             ],
             [
              0.1111111111111111,
              "#46039f"
             ],
             [
              0.2222222222222222,
              "#7201a8"
             ],
             [
              0.3333333333333333,
              "#9c179e"
             ],
             [
              0.4444444444444444,
              "#bd3786"
             ],
             [
              0.5555555555555556,
              "#d8576b"
             ],
             [
              0.6666666666666666,
              "#ed7953"
             ],
             [
              0.7777777777777778,
              "#fb9f3a"
             ],
             [
              0.8888888888888888,
              "#fdca26"
             ],
             [
              1,
              "#f0f921"
             ]
            ],
            "type": "heatmapgl"
           }
          ],
          "histogram": [
           {
            "marker": {
             "colorbar": {
              "outlinewidth": 0,
              "ticks": ""
             }
            },
            "type": "histogram"
           }
          ],
          "histogram2d": [
           {
            "colorbar": {
             "outlinewidth": 0,
             "ticks": ""
            },
            "colorscale": [
             [
              0,
              "#0d0887"
             ],
             [
              0.1111111111111111,
              "#46039f"
             ],
             [
              0.2222222222222222,
              "#7201a8"
             ],
             [
              0.3333333333333333,
              "#9c179e"
             ],
             [
              0.4444444444444444,
              "#bd3786"
             ],
             [
              0.5555555555555556,
              "#d8576b"
             ],
             [
              0.6666666666666666,
              "#ed7953"
             ],
             [
              0.7777777777777778,
              "#fb9f3a"
             ],
             [
              0.8888888888888888,
              "#fdca26"
             ],
             [
              1,
              "#f0f921"
             ]
            ],
            "type": "histogram2d"
           }
          ],
          "histogram2dcontour": [
           {
            "colorbar": {
             "outlinewidth": 0,
             "ticks": ""
            },
            "colorscale": [
             [
              0,
              "#0d0887"
             ],
             [
              0.1111111111111111,
              "#46039f"
             ],
             [
              0.2222222222222222,
              "#7201a8"
             ],
             [
              0.3333333333333333,
              "#9c179e"
             ],
             [
              0.4444444444444444,
              "#bd3786"
             ],
             [
              0.5555555555555556,
              "#d8576b"
             ],
             [
              0.6666666666666666,
              "#ed7953"
             ],
             [
              0.7777777777777778,
              "#fb9f3a"
             ],
             [
              0.8888888888888888,
              "#fdca26"
             ],
             [
              1,
              "#f0f921"
             ]
            ],
            "type": "histogram2dcontour"
           }
          ],
          "mesh3d": [
           {
            "colorbar": {
             "outlinewidth": 0,
             "ticks": ""
            },
            "type": "mesh3d"
           }
          ],
          "parcoords": [
           {
            "line": {
             "colorbar": {
              "outlinewidth": 0,
              "ticks": ""
             }
            },
            "type": "parcoords"
           }
          ],
          "pie": [
           {
            "automargin": true,
            "type": "pie"
           }
          ],
          "scatter": [
           {
            "marker": {
             "colorbar": {
              "outlinewidth": 0,
              "ticks": ""
             }
            },
            "type": "scatter"
           }
          ],
          "scatter3d": [
           {
            "line": {
             "colorbar": {
              "outlinewidth": 0,
              "ticks": ""
             }
            },
            "marker": {
             "colorbar": {
              "outlinewidth": 0,
              "ticks": ""
             }
            },
            "type": "scatter3d"
           }
          ],
          "scattercarpet": [
           {
            "marker": {
             "colorbar": {
              "outlinewidth": 0,
              "ticks": ""
             }
            },
            "type": "scattercarpet"
           }
          ],
          "scattergeo": [
           {
            "marker": {
             "colorbar": {
              "outlinewidth": 0,
              "ticks": ""
             }
            },
            "type": "scattergeo"
           }
          ],
          "scattergl": [
           {
            "marker": {
             "colorbar": {
              "outlinewidth": 0,
              "ticks": ""
             }
            },
            "type": "scattergl"
           }
          ],
          "scattermapbox": [
           {
            "marker": {
             "colorbar": {
              "outlinewidth": 0,
              "ticks": ""
             }
            },
            "type": "scattermapbox"
           }
          ],
          "scatterpolar": [
           {
            "marker": {
             "colorbar": {
              "outlinewidth": 0,
              "ticks": ""
             }
            },
            "type": "scatterpolar"
           }
          ],
          "scatterpolargl": [
           {
            "marker": {
             "colorbar": {
              "outlinewidth": 0,
              "ticks": ""
             }
            },
            "type": "scatterpolargl"
           }
          ],
          "scatterternary": [
           {
            "marker": {
             "colorbar": {
              "outlinewidth": 0,
              "ticks": ""
             }
            },
            "type": "scatterternary"
           }
          ],
          "surface": [
           {
            "colorbar": {
             "outlinewidth": 0,
             "ticks": ""
            },
            "colorscale": [
             [
              0,
              "#0d0887"
             ],
             [
              0.1111111111111111,
              "#46039f"
             ],
             [
              0.2222222222222222,
              "#7201a8"
             ],
             [
              0.3333333333333333,
              "#9c179e"
             ],
             [
              0.4444444444444444,
              "#bd3786"
             ],
             [
              0.5555555555555556,
              "#d8576b"
             ],
             [
              0.6666666666666666,
              "#ed7953"
             ],
             [
              0.7777777777777778,
              "#fb9f3a"
             ],
             [
              0.8888888888888888,
              "#fdca26"
             ],
             [
              1,
              "#f0f921"
             ]
            ],
            "type": "surface"
           }
          ],
          "table": [
           {
            "cells": {
             "fill": {
              "color": "#EBF0F8"
             },
             "line": {
              "color": "white"
             }
            },
            "header": {
             "fill": {
              "color": "#C8D4E3"
             },
             "line": {
              "color": "white"
             }
            },
            "type": "table"
           }
          ]
         },
         "layout": {
          "annotationdefaults": {
           "arrowcolor": "#2a3f5f",
           "arrowhead": 0,
           "arrowwidth": 1
          },
          "autotypenumbers": "strict",
          "coloraxis": {
           "colorbar": {
            "outlinewidth": 0,
            "ticks": ""
           }
          },
          "colorscale": {
           "diverging": [
            [
             0,
             "#8e0152"
            ],
            [
             0.1,
             "#c51b7d"
            ],
            [
             0.2,
             "#de77ae"
            ],
            [
             0.3,
             "#f1b6da"
            ],
            [
             0.4,
             "#fde0ef"
            ],
            [
             0.5,
             "#f7f7f7"
            ],
            [
             0.6,
             "#e6f5d0"
            ],
            [
             0.7,
             "#b8e186"
            ],
            [
             0.8,
             "#7fbc41"
            ],
            [
             0.9,
             "#4d9221"
            ],
            [
             1,
             "#276419"
            ]
           ],
           "sequential": [
            [
             0,
             "#0d0887"
            ],
            [
             0.1111111111111111,
             "#46039f"
            ],
            [
             0.2222222222222222,
             "#7201a8"
            ],
            [
             0.3333333333333333,
             "#9c179e"
            ],
            [
             0.4444444444444444,
             "#bd3786"
            ],
            [
             0.5555555555555556,
             "#d8576b"
            ],
            [
             0.6666666666666666,
             "#ed7953"
            ],
            [
             0.7777777777777778,
             "#fb9f3a"
            ],
            [
             0.8888888888888888,
             "#fdca26"
            ],
            [
             1,
             "#f0f921"
            ]
           ],
           "sequentialminus": [
            [
             0,
             "#0d0887"
            ],
            [
             0.1111111111111111,
             "#46039f"
            ],
            [
             0.2222222222222222,
             "#7201a8"
            ],
            [
             0.3333333333333333,
             "#9c179e"
            ],
            [
             0.4444444444444444,
             "#bd3786"
            ],
            [
             0.5555555555555556,
             "#d8576b"
            ],
            [
             0.6666666666666666,
             "#ed7953"
            ],
            [
             0.7777777777777778,
             "#fb9f3a"
            ],
            [
             0.8888888888888888,
             "#fdca26"
            ],
            [
             1,
             "#f0f921"
            ]
           ]
          },
          "colorway": [
           "#636efa",
           "#EF553B",
           "#00cc96",
           "#ab63fa",
           "#FFA15A",
           "#19d3f3",
           "#FF6692",
           "#B6E880",
           "#FF97FF",
           "#FECB52"
          ],
          "font": {
           "color": "#2a3f5f"
          },
          "geo": {
           "bgcolor": "white",
           "lakecolor": "white",
           "landcolor": "#E5ECF6",
           "showlakes": true,
           "showland": true,
           "subunitcolor": "white"
          },
          "hoverlabel": {
           "align": "left"
          },
          "hovermode": "closest",
          "mapbox": {
           "style": "light"
          },
          "paper_bgcolor": "white",
          "plot_bgcolor": "#E5ECF6",
          "polar": {
           "angularaxis": {
            "gridcolor": "white",
            "linecolor": "white",
            "ticks": ""
           },
           "bgcolor": "#E5ECF6",
           "radialaxis": {
            "gridcolor": "white",
            "linecolor": "white",
            "ticks": ""
           }
          },
          "scene": {
           "xaxis": {
            "backgroundcolor": "#E5ECF6",
            "gridcolor": "white",
            "gridwidth": 2,
            "linecolor": "white",
            "showbackground": true,
            "ticks": "",
            "zerolinecolor": "white"
           },
           "yaxis": {
            "backgroundcolor": "#E5ECF6",
            "gridcolor": "white",
            "gridwidth": 2,
            "linecolor": "white",
            "showbackground": true,
            "ticks": "",
            "zerolinecolor": "white"
           },
           "zaxis": {
            "backgroundcolor": "#E5ECF6",
            "gridcolor": "white",
            "gridwidth": 2,
            "linecolor": "white",
            "showbackground": true,
            "ticks": "",
            "zerolinecolor": "white"
           }
          },
          "shapedefaults": {
           "line": {
            "color": "#2a3f5f"
           }
          },
          "ternary": {
           "aaxis": {
            "gridcolor": "white",
            "linecolor": "white",
            "ticks": ""
           },
           "baxis": {
            "gridcolor": "white",
            "linecolor": "white",
            "ticks": ""
           },
           "bgcolor": "#E5ECF6",
           "caxis": {
            "gridcolor": "white",
            "linecolor": "white",
            "ticks": ""
           }
          },
          "title": {
           "x": 0.05
          },
          "xaxis": {
           "automargin": true,
           "gridcolor": "white",
           "linecolor": "white",
           "ticks": "",
           "title": {
            "standoff": 15
           },
           "zerolinecolor": "white",
           "zerolinewidth": 2
          },
          "yaxis": {
           "automargin": true,
           "gridcolor": "white",
           "linecolor": "white",
           "ticks": "",
           "title": {
            "standoff": 15
           },
           "zerolinecolor": "white",
           "zerolinewidth": 2
          }
         }
        },
        "title": {
         "text": "Top 10 most interacted products"
        },
        "xaxis": {
         "anchor": "y",
         "domain": [
          0,
          1
         ],
         "title": {
          "text": "product_id"
         }
        },
        "yaxis": {
         "anchor": "x",
         "domain": [
          0,
          1
         ],
         "title": {
          "text": "count"
         }
        }
       }
      }
     },
     "metadata": {}
    }
   ],
   "source": [
    "# TODO BE DELTED -> find error why not equal to above\n",
    "sdf_product_id_dist = sdf_raw.groupBy(\"product_id\").count().orderBy(\"count\")\n",
    "\n",
    "px.bar(sdf_product_id_dist.limit(10).toPandas(), x='product_id', y='count', title=\"Top 10 most interacted products\")"
   ]
  },
  {
   "cell_type": "markdown",
   "metadata": {
    "pycharm": {
     "name": "#%% md\n"
    }
   },
   "source": [
    "### category_id\n",
    "The category_id is an unique identifier for the category of a Product. Every Product is assigned to a single category_id, which is summarizing many product_ids into categories. This knowledge is based on the more detailed analyzes within the file \"product_analysis.ipnynb\". As you can see in the overview, there are ... unique category_ids."
   ]
  },
  {
   "cell_type": "code",
   "execution_count": 22,
   "metadata": {
    "collapsed": false,
    "jupyter": {
     "outputs_hidden": false
    },
    "pycharm": {
     "name": "#%%\n"
    }
   },
   "outputs": [
    {
     "output_type": "display_data",
     "data": {
      "application/vnd.plotly.v1+json": {
       "config": {
        "plotlyServerURL": "https://plot.ly"
       },
       "data": [
        {
         "alignmentgroup": "True",
         "hovertemplate": "Category_ID=%{x}<br>Count=%{y}<extra></extra>",
         "legendgroup": "",
         "marker": {
          "color": "#636efa"
         },
         "name": "",
         "offsetgroup": "",
         "orientation": "v",
         "showlegend": false,
         "textposition": "auto",
         "type": "bar",
         "x": [
          "2053013555631882655",
          "2053013558920217191",
          "2053013553559896355",
          "2053013553853497655",
          "2053013559901684381",
          "2053013561579406073",
          "2053013553970938175",
          "2053013556168753601",
          "2053013563911439225",
          "2053013554658804075"
         ],
         "xaxis": "x",
         "y": [
          43,
          18,
          12,
          9,
          6,
          6,
          6,
          6,
          5,
          5
         ],
         "yaxis": "y"
        }
       ],
       "layout": {
        "barmode": "relative",
        "legend": {
         "tracegroupgap": 0
        },
        "template": {
         "data": {
          "bar": [
           {
            "error_x": {
             "color": "#2a3f5f"
            },
            "error_y": {
             "color": "#2a3f5f"
            },
            "marker": {
             "line": {
              "color": "#E5ECF6",
              "width": 0.5
             }
            },
            "type": "bar"
           }
          ],
          "barpolar": [
           {
            "marker": {
             "line": {
              "color": "#E5ECF6",
              "width": 0.5
             }
            },
            "type": "barpolar"
           }
          ],
          "carpet": [
           {
            "aaxis": {
             "endlinecolor": "#2a3f5f",
             "gridcolor": "white",
             "linecolor": "white",
             "minorgridcolor": "white",
             "startlinecolor": "#2a3f5f"
            },
            "baxis": {
             "endlinecolor": "#2a3f5f",
             "gridcolor": "white",
             "linecolor": "white",
             "minorgridcolor": "white",
             "startlinecolor": "#2a3f5f"
            },
            "type": "carpet"
           }
          ],
          "choropleth": [
           {
            "colorbar": {
             "outlinewidth": 0,
             "ticks": ""
            },
            "type": "choropleth"
           }
          ],
          "contour": [
           {
            "colorbar": {
             "outlinewidth": 0,
             "ticks": ""
            },
            "colorscale": [
             [
              0,
              "#0d0887"
             ],
             [
              0.1111111111111111,
              "#46039f"
             ],
             [
              0.2222222222222222,
              "#7201a8"
             ],
             [
              0.3333333333333333,
              "#9c179e"
             ],
             [
              0.4444444444444444,
              "#bd3786"
             ],
             [
              0.5555555555555556,
              "#d8576b"
             ],
             [
              0.6666666666666666,
              "#ed7953"
             ],
             [
              0.7777777777777778,
              "#fb9f3a"
             ],
             [
              0.8888888888888888,
              "#fdca26"
             ],
             [
              1,
              "#f0f921"
             ]
            ],
            "type": "contour"
           }
          ],
          "contourcarpet": [
           {
            "colorbar": {
             "outlinewidth": 0,
             "ticks": ""
            },
            "type": "contourcarpet"
           }
          ],
          "heatmap": [
           {
            "colorbar": {
             "outlinewidth": 0,
             "ticks": ""
            },
            "colorscale": [
             [
              0,
              "#0d0887"
             ],
             [
              0.1111111111111111,
              "#46039f"
             ],
             [
              0.2222222222222222,
              "#7201a8"
             ],
             [
              0.3333333333333333,
              "#9c179e"
             ],
             [
              0.4444444444444444,
              "#bd3786"
             ],
             [
              0.5555555555555556,
              "#d8576b"
             ],
             [
              0.6666666666666666,
              "#ed7953"
             ],
             [
              0.7777777777777778,
              "#fb9f3a"
             ],
             [
              0.8888888888888888,
              "#fdca26"
             ],
             [
              1,
              "#f0f921"
             ]
            ],
            "type": "heatmap"
           }
          ],
          "heatmapgl": [
           {
            "colorbar": {
             "outlinewidth": 0,
             "ticks": ""
            },
            "colorscale": [
             [
              0,
              "#0d0887"
             ],
             [
              0.1111111111111111,
              "#46039f"
             ],
             [
              0.2222222222222222,
              "#7201a8"
             ],
             [
              0.3333333333333333,
              "#9c179e"
             ],
             [
              0.4444444444444444,
              "#bd3786"
             ],
             [
              0.5555555555555556,
              "#d8576b"
             ],
             [
              0.6666666666666666,
              "#ed7953"
             ],
             [
              0.7777777777777778,
              "#fb9f3a"
             ],
             [
              0.8888888888888888,
              "#fdca26"
             ],
             [
              1,
              "#f0f921"
             ]
            ],
            "type": "heatmapgl"
           }
          ],
          "histogram": [
           {
            "marker": {
             "colorbar": {
              "outlinewidth": 0,
              "ticks": ""
             }
            },
            "type": "histogram"
           }
          ],
          "histogram2d": [
           {
            "colorbar": {
             "outlinewidth": 0,
             "ticks": ""
            },
            "colorscale": [
             [
              0,
              "#0d0887"
             ],
             [
              0.1111111111111111,
              "#46039f"
             ],
             [
              0.2222222222222222,
              "#7201a8"
             ],
             [
              0.3333333333333333,
              "#9c179e"
             ],
             [
              0.4444444444444444,
              "#bd3786"
             ],
             [
              0.5555555555555556,
              "#d8576b"
             ],
             [
              0.6666666666666666,
              "#ed7953"
             ],
             [
              0.7777777777777778,
              "#fb9f3a"
             ],
             [
              0.8888888888888888,
              "#fdca26"
             ],
             [
              1,
              "#f0f921"
             ]
            ],
            "type": "histogram2d"
           }
          ],
          "histogram2dcontour": [
           {
            "colorbar": {
             "outlinewidth": 0,
             "ticks": ""
            },
            "colorscale": [
             [
              0,
              "#0d0887"
             ],
             [
              0.1111111111111111,
              "#46039f"
             ],
             [
              0.2222222222222222,
              "#7201a8"
             ],
             [
              0.3333333333333333,
              "#9c179e"
             ],
             [
              0.4444444444444444,
              "#bd3786"
             ],
             [
              0.5555555555555556,
              "#d8576b"
             ],
             [
              0.6666666666666666,
              "#ed7953"
             ],
             [
              0.7777777777777778,
              "#fb9f3a"
             ],
             [
              0.8888888888888888,
              "#fdca26"
             ],
             [
              1,
              "#f0f921"
             ]
            ],
            "type": "histogram2dcontour"
           }
          ],
          "mesh3d": [
           {
            "colorbar": {
             "outlinewidth": 0,
             "ticks": ""
            },
            "type": "mesh3d"
           }
          ],
          "parcoords": [
           {
            "line": {
             "colorbar": {
              "outlinewidth": 0,
              "ticks": ""
             }
            },
            "type": "parcoords"
           }
          ],
          "pie": [
           {
            "automargin": true,
            "type": "pie"
           }
          ],
          "scatter": [
           {
            "marker": {
             "colorbar": {
              "outlinewidth": 0,
              "ticks": ""
             }
            },
            "type": "scatter"
           }
          ],
          "scatter3d": [
           {
            "line": {
             "colorbar": {
              "outlinewidth": 0,
              "ticks": ""
             }
            },
            "marker": {
             "colorbar": {
              "outlinewidth": 0,
              "ticks": ""
             }
            },
            "type": "scatter3d"
           }
          ],
          "scattercarpet": [
           {
            "marker": {
             "colorbar": {
              "outlinewidth": 0,
              "ticks": ""
             }
            },
            "type": "scattercarpet"
           }
          ],
          "scattergeo": [
           {
            "marker": {
             "colorbar": {
              "outlinewidth": 0,
              "ticks": ""
             }
            },
            "type": "scattergeo"
           }
          ],
          "scattergl": [
           {
            "marker": {
             "colorbar": {
              "outlinewidth": 0,
              "ticks": ""
             }
            },
            "type": "scattergl"
           }
          ],
          "scattermapbox": [
           {
            "marker": {
             "colorbar": {
              "outlinewidth": 0,
              "ticks": ""
             }
            },
            "type": "scattermapbox"
           }
          ],
          "scatterpolar": [
           {
            "marker": {
             "colorbar": {
              "outlinewidth": 0,
              "ticks": ""
             }
            },
            "type": "scatterpolar"
           }
          ],
          "scatterpolargl": [
           {
            "marker": {
             "colorbar": {
              "outlinewidth": 0,
              "ticks": ""
             }
            },
            "type": "scatterpolargl"
           }
          ],
          "scatterternary": [
           {
            "marker": {
             "colorbar": {
              "outlinewidth": 0,
              "ticks": ""
             }
            },
            "type": "scatterternary"
           }
          ],
          "surface": [
           {
            "colorbar": {
             "outlinewidth": 0,
             "ticks": ""
            },
            "colorscale": [
             [
              0,
              "#0d0887"
             ],
             [
              0.1111111111111111,
              "#46039f"
             ],
             [
              0.2222222222222222,
              "#7201a8"
             ],
             [
              0.3333333333333333,
              "#9c179e"
             ],
             [
              0.4444444444444444,
              "#bd3786"
             ],
             [
              0.5555555555555556,
              "#d8576b"
             ],
             [
              0.6666666666666666,
              "#ed7953"
             ],
             [
              0.7777777777777778,
              "#fb9f3a"
             ],
             [
              0.8888888888888888,
              "#fdca26"
             ],
             [
              1,
              "#f0f921"
             ]
            ],
            "type": "surface"
           }
          ],
          "table": [
           {
            "cells": {
             "fill": {
              "color": "#EBF0F8"
             },
             "line": {
              "color": "white"
             }
            },
            "header": {
             "fill": {
              "color": "#C8D4E3"
             },
             "line": {
              "color": "white"
             }
            },
            "type": "table"
           }
          ]
         },
         "layout": {
          "annotationdefaults": {
           "arrowcolor": "#2a3f5f",
           "arrowhead": 0,
           "arrowwidth": 1
          },
          "autotypenumbers": "strict",
          "coloraxis": {
           "colorbar": {
            "outlinewidth": 0,
            "ticks": ""
           }
          },
          "colorscale": {
           "diverging": [
            [
             0,
             "#8e0152"
            ],
            [
             0.1,
             "#c51b7d"
            ],
            [
             0.2,
             "#de77ae"
            ],
            [
             0.3,
             "#f1b6da"
            ],
            [
             0.4,
             "#fde0ef"
            ],
            [
             0.5,
             "#f7f7f7"
            ],
            [
             0.6,
             "#e6f5d0"
            ],
            [
             0.7,
             "#b8e186"
            ],
            [
             0.8,
             "#7fbc41"
            ],
            [
             0.9,
             "#4d9221"
            ],
            [
             1,
             "#276419"
            ]
           ],
           "sequential": [
            [
             0,
             "#0d0887"
            ],
            [
             0.1111111111111111,
             "#46039f"
            ],
            [
             0.2222222222222222,
             "#7201a8"
            ],
            [
             0.3333333333333333,
             "#9c179e"
            ],
            [
             0.4444444444444444,
             "#bd3786"
            ],
            [
             0.5555555555555556,
             "#d8576b"
            ],
            [
             0.6666666666666666,
             "#ed7953"
            ],
            [
             0.7777777777777778,
             "#fb9f3a"
            ],
            [
             0.8888888888888888,
             "#fdca26"
            ],
            [
             1,
             "#f0f921"
            ]
           ],
           "sequentialminus": [
            [
             0,
             "#0d0887"
            ],
            [
             0.1111111111111111,
             "#46039f"
            ],
            [
             0.2222222222222222,
             "#7201a8"
            ],
            [
             0.3333333333333333,
             "#9c179e"
            ],
            [
             0.4444444444444444,
             "#bd3786"
            ],
            [
             0.5555555555555556,
             "#d8576b"
            ],
            [
             0.6666666666666666,
             "#ed7953"
            ],
            [
             0.7777777777777778,
             "#fb9f3a"
            ],
            [
             0.8888888888888888,
             "#fdca26"
            ],
            [
             1,
             "#f0f921"
            ]
           ]
          },
          "colorway": [
           "#636efa",
           "#EF553B",
           "#00cc96",
           "#ab63fa",
           "#FFA15A",
           "#19d3f3",
           "#FF6692",
           "#B6E880",
           "#FF97FF",
           "#FECB52"
          ],
          "font": {
           "color": "#2a3f5f"
          },
          "geo": {
           "bgcolor": "white",
           "lakecolor": "white",
           "landcolor": "#E5ECF6",
           "showlakes": true,
           "showland": true,
           "subunitcolor": "white"
          },
          "hoverlabel": {
           "align": "left"
          },
          "hovermode": "closest",
          "mapbox": {
           "style": "light"
          },
          "paper_bgcolor": "white",
          "plot_bgcolor": "#E5ECF6",
          "polar": {
           "angularaxis": {
            "gridcolor": "white",
            "linecolor": "white",
            "ticks": ""
           },
           "bgcolor": "#E5ECF6",
           "radialaxis": {
            "gridcolor": "white",
            "linecolor": "white",
            "ticks": ""
           }
          },
          "scene": {
           "xaxis": {
            "backgroundcolor": "#E5ECF6",
            "gridcolor": "white",
            "gridwidth": 2,
            "linecolor": "white",
            "showbackground": true,
            "ticks": "",
            "zerolinecolor": "white"
           },
           "yaxis": {
            "backgroundcolor": "#E5ECF6",
            "gridcolor": "white",
            "gridwidth": 2,
            "linecolor": "white",
            "showbackground": true,
            "ticks": "",
            "zerolinecolor": "white"
           },
           "zaxis": {
            "backgroundcolor": "#E5ECF6",
            "gridcolor": "white",
            "gridwidth": 2,
            "linecolor": "white",
            "showbackground": true,
            "ticks": "",
            "zerolinecolor": "white"
           }
          },
          "shapedefaults": {
           "line": {
            "color": "#2a3f5f"
           }
          },
          "ternary": {
           "aaxis": {
            "gridcolor": "white",
            "linecolor": "white",
            "ticks": ""
           },
           "baxis": {
            "gridcolor": "white",
            "linecolor": "white",
            "ticks": ""
           },
           "bgcolor": "#E5ECF6",
           "caxis": {
            "gridcolor": "white",
            "linecolor": "white",
            "ticks": ""
           }
          },
          "title": {
           "x": 0.05
          },
          "xaxis": {
           "automargin": true,
           "gridcolor": "white",
           "linecolor": "white",
           "ticks": "",
           "title": {
            "standoff": 15
           },
           "zerolinecolor": "white",
           "zerolinewidth": 2
          },
          "yaxis": {
           "automargin": true,
           "gridcolor": "white",
           "linecolor": "white",
           "ticks": "",
           "title": {
            "standoff": 15
           },
           "zerolinecolor": "white",
           "zerolinewidth": 2
          }
         }
        },
        "title": {
         "text": "Top 10  category_ids most interacted with"
        },
        "xaxis": {
         "anchor": "y",
         "domain": [
          0,
          1
         ],
         "title": {
          "text": "Category_ID"
         }
        },
        "yaxis": {
         "anchor": "x",
         "domain": [
          0,
          1
         ],
         "title": {
          "text": "Count"
         }
        }
       }
      }
     },
     "metadata": {}
    }
   ],
   "source": [
    "sdf_count_per_category_id=spark.sql(\"SELECT DISTINCT(category_id) AS Category_ID, \\\n",
    "                                            COUNT(*) AS Count \\\n",
    "                                     FROM Data \\\n",
    "                                     GROUP BY category_id \\\n",
    "                                     ORDER BY Count DESC\")\n",
    "                                     \n",
    "px.bar(sdf_count_per_category_id.limit(10).toPandas(), x=\"Category_ID\", y=\"Count\", title=\"Top 10  category_ids most interacted with\")  "
   ]
  },
  {
   "cell_type": "markdown",
   "metadata": {
    "pycharm": {
     "name": "#%% md\n"
    }
   },
   "source": [
    "### category_code\n",
    "The category_code is describing the category, a product_id and category_id is assigned to. Every Product_id and Category_id is assigned to a single category_code, which is summarizing many product_ids and category_ids into categories. This knowledge is also based on the more detailed analyzes within the file \"product_analysis.ipnynb\". As you can see in the overview, there are ... unique category_code."
   ]
  },
  {
   "cell_type": "code",
   "execution_count": 23,
   "metadata": {},
   "outputs": [
    {
     "output_type": "display_data",
     "data": {
      "application/vnd.plotly.v1+json": {
       "config": {
        "plotlyServerURL": "https://plot.ly"
       },
       "data": [
        {
         "alignmentgroup": "True",
         "hovertemplate": "Category_Code=%{x}<br>Count=%{y}<extra></extra>",
         "legendgroup": "",
         "marker": {
          "color": "#636efa"
         },
         "name": "",
         "offsetgroup": "",
         "orientation": "v",
         "showlegend": false,
         "textposition": "auto",
         "type": "bar",
         "x": [
          null,
          "electronics.smartphone",
          "computers.notebook",
          "electronics.clocks",
          "furniture.kitchen.chair",
          "auto.accessories.player",
          "electronics.audio.headphone",
          "appliances.kitchen.refrigerators",
          "furniture.bedroom.bed",
          "construction.tools.drill"
         ],
         "xaxis": "x",
         "y": [
          97,
          43,
          18,
          8,
          6,
          6,
          5,
          5,
          4,
          4
         ],
         "yaxis": "y"
        }
       ],
       "layout": {
        "barmode": "relative",
        "legend": {
         "tracegroupgap": 0
        },
        "template": {
         "data": {
          "bar": [
           {
            "error_x": {
             "color": "#2a3f5f"
            },
            "error_y": {
             "color": "#2a3f5f"
            },
            "marker": {
             "line": {
              "color": "#E5ECF6",
              "width": 0.5
             }
            },
            "type": "bar"
           }
          ],
          "barpolar": [
           {
            "marker": {
             "line": {
              "color": "#E5ECF6",
              "width": 0.5
             }
            },
            "type": "barpolar"
           }
          ],
          "carpet": [
           {
            "aaxis": {
             "endlinecolor": "#2a3f5f",
             "gridcolor": "white",
             "linecolor": "white",
             "minorgridcolor": "white",
             "startlinecolor": "#2a3f5f"
            },
            "baxis": {
             "endlinecolor": "#2a3f5f",
             "gridcolor": "white",
             "linecolor": "white",
             "minorgridcolor": "white",
             "startlinecolor": "#2a3f5f"
            },
            "type": "carpet"
           }
          ],
          "choropleth": [
           {
            "colorbar": {
             "outlinewidth": 0,
             "ticks": ""
            },
            "type": "choropleth"
           }
          ],
          "contour": [
           {
            "colorbar": {
             "outlinewidth": 0,
             "ticks": ""
            },
            "colorscale": [
             [
              0,
              "#0d0887"
             ],
             [
              0.1111111111111111,
              "#46039f"
             ],
             [
              0.2222222222222222,
              "#7201a8"
             ],
             [
              0.3333333333333333,
              "#9c179e"
             ],
             [
              0.4444444444444444,
              "#bd3786"
             ],
             [
              0.5555555555555556,
              "#d8576b"
             ],
             [
              0.6666666666666666,
              "#ed7953"
             ],
             [
              0.7777777777777778,
              "#fb9f3a"
             ],
             [
              0.8888888888888888,
              "#fdca26"
             ],
             [
              1,
              "#f0f921"
             ]
            ],
            "type": "contour"
           }
          ],
          "contourcarpet": [
           {
            "colorbar": {
             "outlinewidth": 0,
             "ticks": ""
            },
            "type": "contourcarpet"
           }
          ],
          "heatmap": [
           {
            "colorbar": {
             "outlinewidth": 0,
             "ticks": ""
            },
            "colorscale": [
             [
              0,
              "#0d0887"
             ],
             [
              0.1111111111111111,
              "#46039f"
             ],
             [
              0.2222222222222222,
              "#7201a8"
             ],
             [
              0.3333333333333333,
              "#9c179e"
             ],
             [
              0.4444444444444444,
              "#bd3786"
             ],
             [
              0.5555555555555556,
              "#d8576b"
             ],
             [
              0.6666666666666666,
              "#ed7953"
             ],
             [
              0.7777777777777778,
              "#fb9f3a"
             ],
             [
              0.8888888888888888,
              "#fdca26"
             ],
             [
              1,
              "#f0f921"
             ]
            ],
            "type": "heatmap"
           }
          ],
          "heatmapgl": [
           {
            "colorbar": {
             "outlinewidth": 0,
             "ticks": ""
            },
            "colorscale": [
             [
              0,
              "#0d0887"
             ],
             [
              0.1111111111111111,
              "#46039f"
             ],
             [
              0.2222222222222222,
              "#7201a8"
             ],
             [
              0.3333333333333333,
              "#9c179e"
             ],
             [
              0.4444444444444444,
              "#bd3786"
             ],
             [
              0.5555555555555556,
              "#d8576b"
             ],
             [
              0.6666666666666666,
              "#ed7953"
             ],
             [
              0.7777777777777778,
              "#fb9f3a"
             ],
             [
              0.8888888888888888,
              "#fdca26"
             ],
             [
              1,
              "#f0f921"
             ]
            ],
            "type": "heatmapgl"
           }
          ],
          "histogram": [
           {
            "marker": {
             "colorbar": {
              "outlinewidth": 0,
              "ticks": ""
             }
            },
            "type": "histogram"
           }
          ],
          "histogram2d": [
           {
            "colorbar": {
             "outlinewidth": 0,
             "ticks": ""
            },
            "colorscale": [
             [
              0,
              "#0d0887"
             ],
             [
              0.1111111111111111,
              "#46039f"
             ],
             [
              0.2222222222222222,
              "#7201a8"
             ],
             [
              0.3333333333333333,
              "#9c179e"
             ],
             [
              0.4444444444444444,
              "#bd3786"
             ],
             [
              0.5555555555555556,
              "#d8576b"
             ],
             [
              0.6666666666666666,
              "#ed7953"
             ],
             [
              0.7777777777777778,
              "#fb9f3a"
             ],
             [
              0.8888888888888888,
              "#fdca26"
             ],
             [
              1,
              "#f0f921"
             ]
            ],
            "type": "histogram2d"
           }
          ],
          "histogram2dcontour": [
           {
            "colorbar": {
             "outlinewidth": 0,
             "ticks": ""
            },
            "colorscale": [
             [
              0,
              "#0d0887"
             ],
             [
              0.1111111111111111,
              "#46039f"
             ],
             [
              0.2222222222222222,
              "#7201a8"
             ],
             [
              0.3333333333333333,
              "#9c179e"
             ],
             [
              0.4444444444444444,
              "#bd3786"
             ],
             [
              0.5555555555555556,
              "#d8576b"
             ],
             [
              0.6666666666666666,
              "#ed7953"
             ],
             [
              0.7777777777777778,
              "#fb9f3a"
             ],
             [
              0.8888888888888888,
              "#fdca26"
             ],
             [
              1,
              "#f0f921"
             ]
            ],
            "type": "histogram2dcontour"
           }
          ],
          "mesh3d": [
           {
            "colorbar": {
             "outlinewidth": 0,
             "ticks": ""
            },
            "type": "mesh3d"
           }
          ],
          "parcoords": [
           {
            "line": {
             "colorbar": {
              "outlinewidth": 0,
              "ticks": ""
             }
            },
            "type": "parcoords"
           }
          ],
          "pie": [
           {
            "automargin": true,
            "type": "pie"
           }
          ],
          "scatter": [
           {
            "marker": {
             "colorbar": {
              "outlinewidth": 0,
              "ticks": ""
             }
            },
            "type": "scatter"
           }
          ],
          "scatter3d": [
           {
            "line": {
             "colorbar": {
              "outlinewidth": 0,
              "ticks": ""
             }
            },
            "marker": {
             "colorbar": {
              "outlinewidth": 0,
              "ticks": ""
             }
            },
            "type": "scatter3d"
           }
          ],
          "scattercarpet": [
           {
            "marker": {
             "colorbar": {
              "outlinewidth": 0,
              "ticks": ""
             }
            },
            "type": "scattercarpet"
           }
          ],
          "scattergeo": [
           {
            "marker": {
             "colorbar": {
              "outlinewidth": 0,
              "ticks": ""
             }
            },
            "type": "scattergeo"
           }
          ],
          "scattergl": [
           {
            "marker": {
             "colorbar": {
              "outlinewidth": 0,
              "ticks": ""
             }
            },
            "type": "scattergl"
           }
          ],
          "scattermapbox": [
           {
            "marker": {
             "colorbar": {
              "outlinewidth": 0,
              "ticks": ""
             }
            },
            "type": "scattermapbox"
           }
          ],
          "scatterpolar": [
           {
            "marker": {
             "colorbar": {
              "outlinewidth": 0,
              "ticks": ""
             }
            },
            "type": "scatterpolar"
           }
          ],
          "scatterpolargl": [
           {
            "marker": {
             "colorbar": {
              "outlinewidth": 0,
              "ticks": ""
             }
            },
            "type": "scatterpolargl"
           }
          ],
          "scatterternary": [
           {
            "marker": {
             "colorbar": {
              "outlinewidth": 0,
              "ticks": ""
             }
            },
            "type": "scatterternary"
           }
          ],
          "surface": [
           {
            "colorbar": {
             "outlinewidth": 0,
             "ticks": ""
            },
            "colorscale": [
             [
              0,
              "#0d0887"
             ],
             [
              0.1111111111111111,
              "#46039f"
             ],
             [
              0.2222222222222222,
              "#7201a8"
             ],
             [
              0.3333333333333333,
              "#9c179e"
             ],
             [
              0.4444444444444444,
              "#bd3786"
             ],
             [
              0.5555555555555556,
              "#d8576b"
             ],
             [
              0.6666666666666666,
              "#ed7953"
             ],
             [
              0.7777777777777778,
              "#fb9f3a"
             ],
             [
              0.8888888888888888,
              "#fdca26"
             ],
             [
              1,
              "#f0f921"
             ]
            ],
            "type": "surface"
           }
          ],
          "table": [
           {
            "cells": {
             "fill": {
              "color": "#EBF0F8"
             },
             "line": {
              "color": "white"
             }
            },
            "header": {
             "fill": {
              "color": "#C8D4E3"
             },
             "line": {
              "color": "white"
             }
            },
            "type": "table"
           }
          ]
         },
         "layout": {
          "annotationdefaults": {
           "arrowcolor": "#2a3f5f",
           "arrowhead": 0,
           "arrowwidth": 1
          },
          "autotypenumbers": "strict",
          "coloraxis": {
           "colorbar": {
            "outlinewidth": 0,
            "ticks": ""
           }
          },
          "colorscale": {
           "diverging": [
            [
             0,
             "#8e0152"
            ],
            [
             0.1,
             "#c51b7d"
            ],
            [
             0.2,
             "#de77ae"
            ],
            [
             0.3,
             "#f1b6da"
            ],
            [
             0.4,
             "#fde0ef"
            ],
            [
             0.5,
             "#f7f7f7"
            ],
            [
             0.6,
             "#e6f5d0"
            ],
            [
             0.7,
             "#b8e186"
            ],
            [
             0.8,
             "#7fbc41"
            ],
            [
             0.9,
             "#4d9221"
            ],
            [
             1,
             "#276419"
            ]
           ],
           "sequential": [
            [
             0,
             "#0d0887"
            ],
            [
             0.1111111111111111,
             "#46039f"
            ],
            [
             0.2222222222222222,
             "#7201a8"
            ],
            [
             0.3333333333333333,
             "#9c179e"
            ],
            [
             0.4444444444444444,
             "#bd3786"
            ],
            [
             0.5555555555555556,
             "#d8576b"
            ],
            [
             0.6666666666666666,
             "#ed7953"
            ],
            [
             0.7777777777777778,
             "#fb9f3a"
            ],
            [
             0.8888888888888888,
             "#fdca26"
            ],
            [
             1,
             "#f0f921"
            ]
           ],
           "sequentialminus": [
            [
             0,
             "#0d0887"
            ],
            [
             0.1111111111111111,
             "#46039f"
            ],
            [
             0.2222222222222222,
             "#7201a8"
            ],
            [
             0.3333333333333333,
             "#9c179e"
            ],
            [
             0.4444444444444444,
             "#bd3786"
            ],
            [
             0.5555555555555556,
             "#d8576b"
            ],
            [
             0.6666666666666666,
             "#ed7953"
            ],
            [
             0.7777777777777778,
             "#fb9f3a"
            ],
            [
             0.8888888888888888,
             "#fdca26"
            ],
            [
             1,
             "#f0f921"
            ]
           ]
          },
          "colorway": [
           "#636efa",
           "#EF553B",
           "#00cc96",
           "#ab63fa",
           "#FFA15A",
           "#19d3f3",
           "#FF6692",
           "#B6E880",
           "#FF97FF",
           "#FECB52"
          ],
          "font": {
           "color": "#2a3f5f"
          },
          "geo": {
           "bgcolor": "white",
           "lakecolor": "white",
           "landcolor": "#E5ECF6",
           "showlakes": true,
           "showland": true,
           "subunitcolor": "white"
          },
          "hoverlabel": {
           "align": "left"
          },
          "hovermode": "closest",
          "mapbox": {
           "style": "light"
          },
          "paper_bgcolor": "white",
          "plot_bgcolor": "#E5ECF6",
          "polar": {
           "angularaxis": {
            "gridcolor": "white",
            "linecolor": "white",
            "ticks": ""
           },
           "bgcolor": "#E5ECF6",
           "radialaxis": {
            "gridcolor": "white",
            "linecolor": "white",
            "ticks": ""
           }
          },
          "scene": {
           "xaxis": {
            "backgroundcolor": "#E5ECF6",
            "gridcolor": "white",
            "gridwidth": 2,
            "linecolor": "white",
            "showbackground": true,
            "ticks": "",
            "zerolinecolor": "white"
           },
           "yaxis": {
            "backgroundcolor": "#E5ECF6",
            "gridcolor": "white",
            "gridwidth": 2,
            "linecolor": "white",
            "showbackground": true,
            "ticks": "",
            "zerolinecolor": "white"
           },
           "zaxis": {
            "backgroundcolor": "#E5ECF6",
            "gridcolor": "white",
            "gridwidth": 2,
            "linecolor": "white",
            "showbackground": true,
            "ticks": "",
            "zerolinecolor": "white"
           }
          },
          "shapedefaults": {
           "line": {
            "color": "#2a3f5f"
           }
          },
          "ternary": {
           "aaxis": {
            "gridcolor": "white",
            "linecolor": "white",
            "ticks": ""
           },
           "baxis": {
            "gridcolor": "white",
            "linecolor": "white",
            "ticks": ""
           },
           "bgcolor": "#E5ECF6",
           "caxis": {
            "gridcolor": "white",
            "linecolor": "white",
            "ticks": ""
           }
          },
          "title": {
           "x": 0.05
          },
          "xaxis": {
           "automargin": true,
           "gridcolor": "white",
           "linecolor": "white",
           "ticks": "",
           "title": {
            "standoff": 15
           },
           "zerolinecolor": "white",
           "zerolinewidth": 2
          },
          "yaxis": {
           "automargin": true,
           "gridcolor": "white",
           "linecolor": "white",
           "ticks": "",
           "title": {
            "standoff": 15
           },
           "zerolinecolor": "white",
           "zerolinewidth": 2
          }
         }
        },
        "title": {
         "text": "Top 10 category_code most interacted with"
        },
        "xaxis": {
         "anchor": "y",
         "domain": [
          0,
          1
         ],
         "title": {
          "text": "Category_Code"
         }
        },
        "yaxis": {
         "anchor": "x",
         "domain": [
          0,
          1
         ],
         "title": {
          "text": "Count"
         }
        }
       }
      }
     },
     "metadata": {}
    }
   ],
   "source": [
    "sdf_count_per_category_code=spark.sql(\"SELECT DISTINCT(category_code) AS Category_Code, \\\n",
    "                                              COUNT(product_id) AS Count \\\n",
    "                                        FROM Data \\\n",
    "                                        GROUP BY category_code \\\n",
    "                                        ORDER BY Count DESC\")\n",
    "px.bar(sdf_count_per_category_code.limit(10).toPandas(), x=\"Category_Code\", y=\"Count\", title=\"Top 10 category_code most interacted with\")"
   ]
  },
  {
   "source": [],
   "cell_type": "markdown",
   "metadata": {}
  },
  {
   "cell_type": "code",
   "execution_count": 24,
   "metadata": {},
   "outputs": [
    {
     "output_type": "stream",
     "name": "stdout",
     "text": [
      "+--------------+------------------+----------------------+-----+\n|category_class|category_sub_class|category_sub_sub_class|count|\n+--------------+------------------+----------------------+-----+\n|       apparel|             jeans|           not defined|    3|\n|          auto|       accessories|            compressor|    2|\n|       apparel|             shoes|           not defined|    1|\n|  construction|             tools|                 drill|    4|\n|   electronics|             audio|             headphone|    5|\n|    appliances|           kitchen|               blender|    1|\n|     furniture|           kitchen|                 table|    1|\n|    appliances|    sewing_machine|           not defined|    2|\n|    appliances|           kitchen|         refrigerators|    5|\n|   accessories|               bag|           not defined|    1|\n|     computers|       peripherals|               printer|    2|\n|     furniture|          bathroom|                  bath|    1|\n|    appliances|          personal|           hair_cutter|    1|\n|     furniture|       living_room|               cabinet|    1|\n|    appliances|           kitchen|            dishwasher|    4|\n|     furniture|           bedroom|                   bed|    4|\n|    appliances|           kitchen|             microwave|    2|\n|   electronics|        smartphone|           not defined|   43|\n|     furniture|           kitchen|                 chair|    6|\n|    appliances|       environment|          water_heater|    1|\n+--------------+------------------+----------------------+-----+\nonly showing top 20 rows\n\n"
     ]
    }
   ],
   "source": [
    "sdf_agg_classes = sdf_raw.groupBy(\"category_class\", \"category_sub_class\", \"category_sub_sub_class\").count().na.fill(value=\"not defined\")\n",
    "sdf_agg_classes = sdf_agg_classes.where(sdf_agg_classes[\"category_class\"] != \"not defined\")\n",
    "sdf_agg_classes.show()"
   ]
  },
  {
   "cell_type": "code",
   "execution_count": 24,
   "metadata": {},
   "outputs": [
    {
     "output_type": "display_data",
     "data": {
      "application/vnd.plotly.v1+json": {
       "config": {
        "plotlyServerURL": "https://plot.ly"
       },
       "data": [
        {
         "branchvalues": "total",
         "domain": {
          "x": [
           0,
           1
          ],
          "y": [
           0,
           1
          ]
         },
         "hovertemplate": "labels=%{label}<br>count=%{value}<br>parent=%{parent}<br>id=%{id}<extra></extra>",
         "ids": [
          "furniture/bathroom/bath",
          "furniture/bedroom/bed",
          "appliances/kitchen/blender",
          "furniture/living_room/cabinet",
          "furniture/kitchen/chair",
          "auto/accessories/compressor",
          "appliances/kitchen/dishwasher",
          "construction/tools/drill",
          "appliances/personal/hair_cutter",
          "electronics/audio/headphone",
          "appliances/kitchen/hood",
          "construction/tools/light",
          "appliances/kitchen/microwave",
          "computers/components/motherboard",
          "accessories/bag/not defined",
          "electronics/clocks/not defined",
          "computers/desktop/not defined",
          "apparel/jeans/not defined",
          "computers/notebook/not defined",
          "appliances/sewing_machine/not defined",
          "apparel/shirt/not defined",
          "apparel/shoes/not defined",
          "electronics/smartphone/not defined",
          "kids/swing/not defined",
          "apparel/tshirt/not defined",
          "construction/tools/painting",
          "auto/accessories/player",
          "computers/peripherals/printer",
          "appliances/kitchen/refrigerators",
          "construction/tools/saw",
          "furniture/living_room/sofa",
          "electronics/audio/subwoofer",
          "furniture/kitchen/table",
          "electronics/video/tv",
          "appliances/environment/vacuum",
          "electronics/camera/video",
          "computers/components/videocards",
          "auto/accessories/videoregister",
          "appliances/kitchen/washer",
          "appliances/environment/water_heater",
          "construction/tools/welding",
          "auto/accessories",
          "electronics/audio",
          "accessories/bag",
          "furniture/bathroom",
          "furniture/bedroom",
          "electronics/camera",
          "electronics/clocks",
          "computers/components",
          "computers/desktop",
          "appliances/environment",
          "apparel/jeans",
          "appliances/kitchen",
          "furniture/kitchen",
          "furniture/living_room",
          "computers/notebook",
          "computers/peripherals",
          "appliances/personal",
          "appliances/sewing_machine",
          "apparel/shirt",
          "apparel/shoes",
          "electronics/smartphone",
          "kids/swing",
          "construction/tools",
          "apparel/tshirt",
          "electronics/video",
          "accessories",
          "apparel",
          "appliances",
          "auto",
          "computers",
          "construction",
          "electronics",
          "furniture",
          "kids"
         ],
         "labels": [
          "bath",
          "bed",
          "blender",
          "cabinet",
          "chair",
          "compressor",
          "dishwasher",
          "drill",
          "hair_cutter",
          "headphone",
          "hood",
          "light",
          "microwave",
          "motherboard",
          "not defined",
          "not defined",
          "not defined",
          "not defined",
          "not defined",
          "not defined",
          "not defined",
          "not defined",
          "not defined",
          "not defined",
          "not defined",
          "painting",
          "player",
          "printer",
          "refrigerators",
          "saw",
          "sofa",
          "subwoofer",
          "table",
          "tv",
          "vacuum",
          "video",
          "videocards",
          "videoregister",
          "washer",
          "water_heater",
          "welding",
          "accessories",
          "audio",
          "bag",
          "bathroom",
          "bedroom",
          "camera",
          "clocks",
          "components",
          "desktop",
          "environment",
          "jeans",
          "kitchen",
          "kitchen",
          "living_room",
          "notebook",
          "peripherals",
          "personal",
          "sewing_machine",
          "shirt",
          "shoes",
          "smartphone",
          "swing",
          "tools",
          "tshirt",
          "video",
          "accessories",
          "apparel",
          "appliances",
          "auto",
          "computers",
          "construction",
          "electronics",
          "furniture",
          "kids"
         ],
         "name": "",
         "parents": [
          "furniture/bathroom",
          "furniture/bedroom",
          "appliances/kitchen",
          "furniture/living_room",
          "furniture/kitchen",
          "auto/accessories",
          "appliances/kitchen",
          "construction/tools",
          "appliances/personal",
          "electronics/audio",
          "appliances/kitchen",
          "construction/tools",
          "appliances/kitchen",
          "computers/components",
          "accessories/bag",
          "electronics/clocks",
          "computers/desktop",
          "apparel/jeans",
          "computers/notebook",
          "appliances/sewing_machine",
          "apparel/shirt",
          "apparel/shoes",
          "electronics/smartphone",
          "kids/swing",
          "apparel/tshirt",
          "construction/tools",
          "auto/accessories",
          "computers/peripherals",
          "appliances/kitchen",
          "construction/tools",
          "furniture/living_room",
          "electronics/audio",
          "furniture/kitchen",
          "electronics/video",
          "appliances/environment",
          "electronics/camera",
          "computers/components",
          "auto/accessories",
          "appliances/kitchen",
          "appliances/environment",
          "construction/tools",
          "auto",
          "electronics",
          "accessories",
          "furniture",
          "furniture",
          "electronics",
          "electronics",
          "computers",
          "computers",
          "appliances",
          "apparel",
          "appliances",
          "furniture",
          "furniture",
          "computers",
          "computers",
          "appliances",
          "appliances",
          "apparel",
          "apparel",
          "electronics",
          "kids",
          "construction",
          "apparel",
          "electronics",
          "",
          "",
          "",
          "",
          "",
          "",
          "",
          "",
          ""
         ],
         "type": "sunburst",
         "values": [
          1,
          4,
          1,
          1,
          6,
          2,
          4,
          4,
          1,
          5,
          1,
          1,
          2,
          1,
          1,
          8,
          2,
          3,
          18,
          2,
          1,
          1,
          43,
          1,
          1,
          1,
          6,
          2,
          5,
          1,
          2,
          4,
          1,
          1,
          2,
          1,
          2,
          1,
          1,
          1,
          1,
          9,
          9,
          1,
          1,
          4,
          1,
          8,
          3,
          2,
          3,
          3,
          14,
          7,
          3,
          18,
          2,
          1,
          2,
          1,
          1,
          43,
          1,
          8,
          1,
          1,
          1,
          6,
          20,
          9,
          25,
          8,
          62,
          15,
          1
         ]
        }
       ],
       "layout": {
        "legend": {
         "tracegroupgap": 0
        },
        "template": {
         "data": {
          "bar": [
           {
            "error_x": {
             "color": "#2a3f5f"
            },
            "error_y": {
             "color": "#2a3f5f"
            },
            "marker": {
             "line": {
              "color": "#E5ECF6",
              "width": 0.5
             }
            },
            "type": "bar"
           }
          ],
          "barpolar": [
           {
            "marker": {
             "line": {
              "color": "#E5ECF6",
              "width": 0.5
             }
            },
            "type": "barpolar"
           }
          ],
          "carpet": [
           {
            "aaxis": {
             "endlinecolor": "#2a3f5f",
             "gridcolor": "white",
             "linecolor": "white",
             "minorgridcolor": "white",
             "startlinecolor": "#2a3f5f"
            },
            "baxis": {
             "endlinecolor": "#2a3f5f",
             "gridcolor": "white",
             "linecolor": "white",
             "minorgridcolor": "white",
             "startlinecolor": "#2a3f5f"
            },
            "type": "carpet"
           }
          ],
          "choropleth": [
           {
            "colorbar": {
             "outlinewidth": 0,
             "ticks": ""
            },
            "type": "choropleth"
           }
          ],
          "contour": [
           {
            "colorbar": {
             "outlinewidth": 0,
             "ticks": ""
            },
            "colorscale": [
             [
              0,
              "#0d0887"
             ],
             [
              0.1111111111111111,
              "#46039f"
             ],
             [
              0.2222222222222222,
              "#7201a8"
             ],
             [
              0.3333333333333333,
              "#9c179e"
             ],
             [
              0.4444444444444444,
              "#bd3786"
             ],
             [
              0.5555555555555556,
              "#d8576b"
             ],
             [
              0.6666666666666666,
              "#ed7953"
             ],
             [
              0.7777777777777778,
              "#fb9f3a"
             ],
             [
              0.8888888888888888,
              "#fdca26"
             ],
             [
              1,
              "#f0f921"
             ]
            ],
            "type": "contour"
           }
          ],
          "contourcarpet": [
           {
            "colorbar": {
             "outlinewidth": 0,
             "ticks": ""
            },
            "type": "contourcarpet"
           }
          ],
          "heatmap": [
           {
            "colorbar": {
             "outlinewidth": 0,
             "ticks": ""
            },
            "colorscale": [
             [
              0,
              "#0d0887"
             ],
             [
              0.1111111111111111,
              "#46039f"
             ],
             [
              0.2222222222222222,
              "#7201a8"
             ],
             [
              0.3333333333333333,
              "#9c179e"
             ],
             [
              0.4444444444444444,
              "#bd3786"
             ],
             [
              0.5555555555555556,
              "#d8576b"
             ],
             [
              0.6666666666666666,
              "#ed7953"
             ],
             [
              0.7777777777777778,
              "#fb9f3a"
             ],
             [
              0.8888888888888888,
              "#fdca26"
             ],
             [
              1,
              "#f0f921"
             ]
            ],
            "type": "heatmap"
           }
          ],
          "heatmapgl": [
           {
            "colorbar": {
             "outlinewidth": 0,
             "ticks": ""
            },
            "colorscale": [
             [
              0,
              "#0d0887"
             ],
             [
              0.1111111111111111,
              "#46039f"
             ],
             [
              0.2222222222222222,
              "#7201a8"
             ],
             [
              0.3333333333333333,
              "#9c179e"
             ],
             [
              0.4444444444444444,
              "#bd3786"
             ],
             [
              0.5555555555555556,
              "#d8576b"
             ],
             [
              0.6666666666666666,
              "#ed7953"
             ],
             [
              0.7777777777777778,
              "#fb9f3a"
             ],
             [
              0.8888888888888888,
              "#fdca26"
             ],
             [
              1,
              "#f0f921"
             ]
            ],
            "type": "heatmapgl"
           }
          ],
          "histogram": [
           {
            "marker": {
             "colorbar": {
              "outlinewidth": 0,
              "ticks": ""
             }
            },
            "type": "histogram"
           }
          ],
          "histogram2d": [
           {
            "colorbar": {
             "outlinewidth": 0,
             "ticks": ""
            },
            "colorscale": [
             [
              0,
              "#0d0887"
             ],
             [
              0.1111111111111111,
              "#46039f"
             ],
             [
              0.2222222222222222,
              "#7201a8"
             ],
             [
              0.3333333333333333,
              "#9c179e"
             ],
             [
              0.4444444444444444,
              "#bd3786"
             ],
             [
              0.5555555555555556,
              "#d8576b"
             ],
             [
              0.6666666666666666,
              "#ed7953"
             ],
             [
              0.7777777777777778,
              "#fb9f3a"
             ],
             [
              0.8888888888888888,
              "#fdca26"
             ],
             [
              1,
              "#f0f921"
             ]
            ],
            "type": "histogram2d"
           }
          ],
          "histogram2dcontour": [
           {
            "colorbar": {
             "outlinewidth": 0,
             "ticks": ""
            },
            "colorscale": [
             [
              0,
              "#0d0887"
             ],
             [
              0.1111111111111111,
              "#46039f"
             ],
             [
              0.2222222222222222,
              "#7201a8"
             ],
             [
              0.3333333333333333,
              "#9c179e"
             ],
             [
              0.4444444444444444,
              "#bd3786"
             ],
             [
              0.5555555555555556,
              "#d8576b"
             ],
             [
              0.6666666666666666,
              "#ed7953"
             ],
             [
              0.7777777777777778,
              "#fb9f3a"
             ],
             [
              0.8888888888888888,
              "#fdca26"
             ],
             [
              1,
              "#f0f921"
             ]
            ],
            "type": "histogram2dcontour"
           }
          ],
          "mesh3d": [
           {
            "colorbar": {
             "outlinewidth": 0,
             "ticks": ""
            },
            "type": "mesh3d"
           }
          ],
          "parcoords": [
           {
            "line": {
             "colorbar": {
              "outlinewidth": 0,
              "ticks": ""
             }
            },
            "type": "parcoords"
           }
          ],
          "pie": [
           {
            "automargin": true,
            "type": "pie"
           }
          ],
          "scatter": [
           {
            "marker": {
             "colorbar": {
              "outlinewidth": 0,
              "ticks": ""
             }
            },
            "type": "scatter"
           }
          ],
          "scatter3d": [
           {
            "line": {
             "colorbar": {
              "outlinewidth": 0,
              "ticks": ""
             }
            },
            "marker": {
             "colorbar": {
              "outlinewidth": 0,
              "ticks": ""
             }
            },
            "type": "scatter3d"
           }
          ],
          "scattercarpet": [
           {
            "marker": {
             "colorbar": {
              "outlinewidth": 0,
              "ticks": ""
             }
            },
            "type": "scattercarpet"
           }
          ],
          "scattergeo": [
           {
            "marker": {
             "colorbar": {
              "outlinewidth": 0,
              "ticks": ""
             }
            },
            "type": "scattergeo"
           }
          ],
          "scattergl": [
           {
            "marker": {
             "colorbar": {
              "outlinewidth": 0,
              "ticks": ""
             }
            },
            "type": "scattergl"
           }
          ],
          "scattermapbox": [
           {
            "marker": {
             "colorbar": {
              "outlinewidth": 0,
              "ticks": ""
             }
            },
            "type": "scattermapbox"
           }
          ],
          "scatterpolar": [
           {
            "marker": {
             "colorbar": {
              "outlinewidth": 0,
              "ticks": ""
             }
            },
            "type": "scatterpolar"
           }
          ],
          "scatterpolargl": [
           {
            "marker": {
             "colorbar": {
              "outlinewidth": 0,
              "ticks": ""
             }
            },
            "type": "scatterpolargl"
           }
          ],
          "scatterternary": [
           {
            "marker": {
             "colorbar": {
              "outlinewidth": 0,
              "ticks": ""
             }
            },
            "type": "scatterternary"
           }
          ],
          "surface": [
           {
            "colorbar": {
             "outlinewidth": 0,
             "ticks": ""
            },
            "colorscale": [
             [
              0,
              "#0d0887"
             ],
             [
              0.1111111111111111,
              "#46039f"
             ],
             [
              0.2222222222222222,
              "#7201a8"
             ],
             [
              0.3333333333333333,
              "#9c179e"
             ],
             [
              0.4444444444444444,
              "#bd3786"
             ],
             [
              0.5555555555555556,
              "#d8576b"
             ],
             [
              0.6666666666666666,
              "#ed7953"
             ],
             [
              0.7777777777777778,
              "#fb9f3a"
             ],
             [
              0.8888888888888888,
              "#fdca26"
             ],
             [
              1,
              "#f0f921"
             ]
            ],
            "type": "surface"
           }
          ],
          "table": [
           {
            "cells": {
             "fill": {
              "color": "#EBF0F8"
             },
             "line": {
              "color": "white"
             }
            },
            "header": {
             "fill": {
              "color": "#C8D4E3"
             },
             "line": {
              "color": "white"
             }
            },
            "type": "table"
           }
          ]
         },
         "layout": {
          "annotationdefaults": {
           "arrowcolor": "#2a3f5f",
           "arrowhead": 0,
           "arrowwidth": 1
          },
          "autotypenumbers": "strict",
          "coloraxis": {
           "colorbar": {
            "outlinewidth": 0,
            "ticks": ""
           }
          },
          "colorscale": {
           "diverging": [
            [
             0,
             "#8e0152"
            ],
            [
             0.1,
             "#c51b7d"
            ],
            [
             0.2,
             "#de77ae"
            ],
            [
             0.3,
             "#f1b6da"
            ],
            [
             0.4,
             "#fde0ef"
            ],
            [
             0.5,
             "#f7f7f7"
            ],
            [
             0.6,
             "#e6f5d0"
            ],
            [
             0.7,
             "#b8e186"
            ],
            [
             0.8,
             "#7fbc41"
            ],
            [
             0.9,
             "#4d9221"
            ],
            [
             1,
             "#276419"
            ]
           ],
           "sequential": [
            [
             0,
             "#0d0887"
            ],
            [
             0.1111111111111111,
             "#46039f"
            ],
            [
             0.2222222222222222,
             "#7201a8"
            ],
            [
             0.3333333333333333,
             "#9c179e"
            ],
            [
             0.4444444444444444,
             "#bd3786"
            ],
            [
             0.5555555555555556,
             "#d8576b"
            ],
            [
             0.6666666666666666,
             "#ed7953"
            ],
            [
             0.7777777777777778,
             "#fb9f3a"
            ],
            [
             0.8888888888888888,
             "#fdca26"
            ],
            [
             1,
             "#f0f921"
            ]
           ],
           "sequentialminus": [
            [
             0,
             "#0d0887"
            ],
            [
             0.1111111111111111,
             "#46039f"
            ],
            [
             0.2222222222222222,
             "#7201a8"
            ],
            [
             0.3333333333333333,
             "#9c179e"
            ],
            [
             0.4444444444444444,
             "#bd3786"
            ],
            [
             0.5555555555555556,
             "#d8576b"
            ],
            [
             0.6666666666666666,
             "#ed7953"
            ],
            [
             0.7777777777777778,
             "#fb9f3a"
            ],
            [
             0.8888888888888888,
             "#fdca26"
            ],
            [
             1,
             "#f0f921"
            ]
           ]
          },
          "colorway": [
           "#636efa",
           "#EF553B",
           "#00cc96",
           "#ab63fa",
           "#FFA15A",
           "#19d3f3",
           "#FF6692",
           "#B6E880",
           "#FF97FF",
           "#FECB52"
          ],
          "font": {
           "color": "#2a3f5f"
          },
          "geo": {
           "bgcolor": "white",
           "lakecolor": "white",
           "landcolor": "#E5ECF6",
           "showlakes": true,
           "showland": true,
           "subunitcolor": "white"
          },
          "hoverlabel": {
           "align": "left"
          },
          "hovermode": "closest",
          "mapbox": {
           "style": "light"
          },
          "paper_bgcolor": "white",
          "plot_bgcolor": "#E5ECF6",
          "polar": {
           "angularaxis": {
            "gridcolor": "white",
            "linecolor": "white",
            "ticks": ""
           },
           "bgcolor": "#E5ECF6",
           "radialaxis": {
            "gridcolor": "white",
            "linecolor": "white",
            "ticks": ""
           }
          },
          "scene": {
           "xaxis": {
            "backgroundcolor": "#E5ECF6",
            "gridcolor": "white",
            "gridwidth": 2,
            "linecolor": "white",
            "showbackground": true,
            "ticks": "",
            "zerolinecolor": "white"
           },
           "yaxis": {
            "backgroundcolor": "#E5ECF6",
            "gridcolor": "white",
            "gridwidth": 2,
            "linecolor": "white",
            "showbackground": true,
            "ticks": "",
            "zerolinecolor": "white"
           },
           "zaxis": {
            "backgroundcolor": "#E5ECF6",
            "gridcolor": "white",
            "gridwidth": 2,
            "linecolor": "white",
            "showbackground": true,
            "ticks": "",
            "zerolinecolor": "white"
           }
          },
          "shapedefaults": {
           "line": {
            "color": "#2a3f5f"
           }
          },
          "ternary": {
           "aaxis": {
            "gridcolor": "white",
            "linecolor": "white",
            "ticks": ""
           },
           "baxis": {
            "gridcolor": "white",
            "linecolor": "white",
            "ticks": ""
           },
           "bgcolor": "#E5ECF6",
           "caxis": {
            "gridcolor": "white",
            "linecolor": "white",
            "ticks": ""
           }
          },
          "title": {
           "x": 0.05
          },
          "xaxis": {
           "automargin": true,
           "gridcolor": "white",
           "linecolor": "white",
           "ticks": "",
           "title": {
            "standoff": 15
           },
           "zerolinecolor": "white",
           "zerolinewidth": 2
          },
          "yaxis": {
           "automargin": true,
           "gridcolor": "white",
           "linecolor": "white",
           "ticks": "",
           "title": {
            "standoff": 15
           },
           "zerolinecolor": "white",
           "zerolinewidth": 2
          }
         }
        },
        "title": {
         "text": "Category Classes and Subclasses (without data for class = 'not defined')"
        }
       }
      }
     },
     "metadata": {}
    }
   ],
   "source": []
  },
  {
   "cell_type": "markdown",
   "metadata": {
    "pycharm": {
     "name": "#%% md\n"
    }
   },
   "source": [
    "### brand\n",
    "The brand indicates the brand of a product_id. It is independent of the categories, so that a brand can appear in many category_classes. This knowledge is also based on the more detailed analyzes within the file \"product_analysis.ipnynb\". There are ... unique brands in the dataset. Thereby you can see the most popular brands in the following plot:"
   ]
  },
  {
   "cell_type": "code",
   "execution_count": 25,
   "metadata": {},
   "outputs": [
    {
     "output_type": "display_data",
     "data": {
      "application/vnd.plotly.v1+json": {
       "config": {
        "plotlyServerURL": "https://plot.ly"
       },
       "data": [
        {
         "alignmentgroup": "True",
         "bingroup": "x",
         "histfunc": "sum",
         "hovertemplate": "Brand=%{x}<br>sum of Count=%{y}<extra></extra>",
         "legendgroup": "",
         "marker": {
          "color": "#636efa"
         },
         "name": "",
         "offsetgroup": "",
         "orientation": "v",
         "showlegend": false,
         "type": "histogram",
         "x": [
          null,
          "apple",
          "xiaomi",
          "samsung",
          "hp",
          "huawei",
          "bosch",
          "kirkland",
          "brw",
          "tissot"
         ],
         "xaxis": "x",
         "y": [
          47,
          18,
          15,
          13,
          9,
          6,
          4,
          4,
          4,
          4
         ],
         "yaxis": "y"
        }
       ],
       "layout": {
        "barmode": "relative",
        "legend": {
         "tracegroupgap": 0
        },
        "template": {
         "data": {
          "bar": [
           {
            "error_x": {
             "color": "#2a3f5f"
            },
            "error_y": {
             "color": "#2a3f5f"
            },
            "marker": {
             "line": {
              "color": "#E5ECF6",
              "width": 0.5
             }
            },
            "type": "bar"
           }
          ],
          "barpolar": [
           {
            "marker": {
             "line": {
              "color": "#E5ECF6",
              "width": 0.5
             }
            },
            "type": "barpolar"
           }
          ],
          "carpet": [
           {
            "aaxis": {
             "endlinecolor": "#2a3f5f",
             "gridcolor": "white",
             "linecolor": "white",
             "minorgridcolor": "white",
             "startlinecolor": "#2a3f5f"
            },
            "baxis": {
             "endlinecolor": "#2a3f5f",
             "gridcolor": "white",
             "linecolor": "white",
             "minorgridcolor": "white",
             "startlinecolor": "#2a3f5f"
            },
            "type": "carpet"
           }
          ],
          "choropleth": [
           {
            "colorbar": {
             "outlinewidth": 0,
             "ticks": ""
            },
            "type": "choropleth"
           }
          ],
          "contour": [
           {
            "colorbar": {
             "outlinewidth": 0,
             "ticks": ""
            },
            "colorscale": [
             [
              0,
              "#0d0887"
             ],
             [
              0.1111111111111111,
              "#46039f"
             ],
             [
              0.2222222222222222,
              "#7201a8"
             ],
             [
              0.3333333333333333,
              "#9c179e"
             ],
             [
              0.4444444444444444,
              "#bd3786"
             ],
             [
              0.5555555555555556,
              "#d8576b"
             ],
             [
              0.6666666666666666,
              "#ed7953"
             ],
             [
              0.7777777777777778,
              "#fb9f3a"
             ],
             [
              0.8888888888888888,
              "#fdca26"
             ],
             [
              1,
              "#f0f921"
             ]
            ],
            "type": "contour"
           }
          ],
          "contourcarpet": [
           {
            "colorbar": {
             "outlinewidth": 0,
             "ticks": ""
            },
            "type": "contourcarpet"
           }
          ],
          "heatmap": [
           {
            "colorbar": {
             "outlinewidth": 0,
             "ticks": ""
            },
            "colorscale": [
             [
              0,
              "#0d0887"
             ],
             [
              0.1111111111111111,
              "#46039f"
             ],
             [
              0.2222222222222222,
              "#7201a8"
             ],
             [
              0.3333333333333333,
              "#9c179e"
             ],
             [
              0.4444444444444444,
              "#bd3786"
             ],
             [
              0.5555555555555556,
              "#d8576b"
             ],
             [
              0.6666666666666666,
              "#ed7953"
             ],
             [
              0.7777777777777778,
              "#fb9f3a"
             ],
             [
              0.8888888888888888,
              "#fdca26"
             ],
             [
              1,
              "#f0f921"
             ]
            ],
            "type": "heatmap"
           }
          ],
          "heatmapgl": [
           {
            "colorbar": {
             "outlinewidth": 0,
             "ticks": ""
            },
            "colorscale": [
             [
              0,
              "#0d0887"
             ],
             [
              0.1111111111111111,
              "#46039f"
             ],
             [
              0.2222222222222222,
              "#7201a8"
             ],
             [
              0.3333333333333333,
              "#9c179e"
             ],
             [
              0.4444444444444444,
              "#bd3786"
             ],
             [
              0.5555555555555556,
              "#d8576b"
             ],
             [
              0.6666666666666666,
              "#ed7953"
             ],
             [
              0.7777777777777778,
              "#fb9f3a"
             ],
             [
              0.8888888888888888,
              "#fdca26"
             ],
             [
              1,
              "#f0f921"
             ]
            ],
            "type": "heatmapgl"
           }
          ],
          "histogram": [
           {
            "marker": {
             "colorbar": {
              "outlinewidth": 0,
              "ticks": ""
             }
            },
            "type": "histogram"
           }
          ],
          "histogram2d": [
           {
            "colorbar": {
             "outlinewidth": 0,
             "ticks": ""
            },
            "colorscale": [
             [
              0,
              "#0d0887"
             ],
             [
              0.1111111111111111,
              "#46039f"
             ],
             [
              0.2222222222222222,
              "#7201a8"
             ],
             [
              0.3333333333333333,
              "#9c179e"
             ],
             [
              0.4444444444444444,
              "#bd3786"
             ],
             [
              0.5555555555555556,
              "#d8576b"
             ],
             [
              0.6666666666666666,
              "#ed7953"
             ],
             [
              0.7777777777777778,
              "#fb9f3a"
             ],
             [
              0.8888888888888888,
              "#fdca26"
             ],
             [
              1,
              "#f0f921"
             ]
            ],
            "type": "histogram2d"
           }
          ],
          "histogram2dcontour": [
           {
            "colorbar": {
             "outlinewidth": 0,
             "ticks": ""
            },
            "colorscale": [
             [
              0,
              "#0d0887"
             ],
             [
              0.1111111111111111,
              "#46039f"
             ],
             [
              0.2222222222222222,
              "#7201a8"
             ],
             [
              0.3333333333333333,
              "#9c179e"
             ],
             [
              0.4444444444444444,
              "#bd3786"
             ],
             [
              0.5555555555555556,
              "#d8576b"
             ],
             [
              0.6666666666666666,
              "#ed7953"
             ],
             [
              0.7777777777777778,
              "#fb9f3a"
             ],
             [
              0.8888888888888888,
              "#fdca26"
             ],
             [
              1,
              "#f0f921"
             ]
            ],
            "type": "histogram2dcontour"
           }
          ],
          "mesh3d": [
           {
            "colorbar": {
             "outlinewidth": 0,
             "ticks": ""
            },
            "type": "mesh3d"
           }
          ],
          "parcoords": [
           {
            "line": {
             "colorbar": {
              "outlinewidth": 0,
              "ticks": ""
             }
            },
            "type": "parcoords"
           }
          ],
          "pie": [
           {
            "automargin": true,
            "type": "pie"
           }
          ],
          "scatter": [
           {
            "marker": {
             "colorbar": {
              "outlinewidth": 0,
              "ticks": ""
             }
            },
            "type": "scatter"
           }
          ],
          "scatter3d": [
           {
            "line": {
             "colorbar": {
              "outlinewidth": 0,
              "ticks": ""
             }
            },
            "marker": {
             "colorbar": {
              "outlinewidth": 0,
              "ticks": ""
             }
            },
            "type": "scatter3d"
           }
          ],
          "scattercarpet": [
           {
            "marker": {
             "colorbar": {
              "outlinewidth": 0,
              "ticks": ""
             }
            },
            "type": "scattercarpet"
           }
          ],
          "scattergeo": [
           {
            "marker": {
             "colorbar": {
              "outlinewidth": 0,
              "ticks": ""
             }
            },
            "type": "scattergeo"
           }
          ],
          "scattergl": [
           {
            "marker": {
             "colorbar": {
              "outlinewidth": 0,
              "ticks": ""
             }
            },
            "type": "scattergl"
           }
          ],
          "scattermapbox": [
           {
            "marker": {
             "colorbar": {
              "outlinewidth": 0,
              "ticks": ""
             }
            },
            "type": "scattermapbox"
           }
          ],
          "scatterpolar": [
           {
            "marker": {
             "colorbar": {
              "outlinewidth": 0,
              "ticks": ""
             }
            },
            "type": "scatterpolar"
           }
          ],
          "scatterpolargl": [
           {
            "marker": {
             "colorbar": {
              "outlinewidth": 0,
              "ticks": ""
             }
            },
            "type": "scatterpolargl"
           }
          ],
          "scatterternary": [
           {
            "marker": {
             "colorbar": {
              "outlinewidth": 0,
              "ticks": ""
             }
            },
            "type": "scatterternary"
           }
          ],
          "surface": [
           {
            "colorbar": {
             "outlinewidth": 0,
             "ticks": ""
            },
            "colorscale": [
             [
              0,
              "#0d0887"
             ],
             [
              0.1111111111111111,
              "#46039f"
             ],
             [
              0.2222222222222222,
              "#7201a8"
             ],
             [
              0.3333333333333333,
              "#9c179e"
             ],
             [
              0.4444444444444444,
              "#bd3786"
             ],
             [
              0.5555555555555556,
              "#d8576b"
             ],
             [
              0.6666666666666666,
              "#ed7953"
             ],
             [
              0.7777777777777778,
              "#fb9f3a"
             ],
             [
              0.8888888888888888,
              "#fdca26"
             ],
             [
              1,
              "#f0f921"
             ]
            ],
            "type": "surface"
           }
          ],
          "table": [
           {
            "cells": {
             "fill": {
              "color": "#EBF0F8"
             },
             "line": {
              "color": "white"
             }
            },
            "header": {
             "fill": {
              "color": "#C8D4E3"
             },
             "line": {
              "color": "white"
             }
            },
            "type": "table"
           }
          ]
         },
         "layout": {
          "annotationdefaults": {
           "arrowcolor": "#2a3f5f",
           "arrowhead": 0,
           "arrowwidth": 1
          },
          "autotypenumbers": "strict",
          "coloraxis": {
           "colorbar": {
            "outlinewidth": 0,
            "ticks": ""
           }
          },
          "colorscale": {
           "diverging": [
            [
             0,
             "#8e0152"
            ],
            [
             0.1,
             "#c51b7d"
            ],
            [
             0.2,
             "#de77ae"
            ],
            [
             0.3,
             "#f1b6da"
            ],
            [
             0.4,
             "#fde0ef"
            ],
            [
             0.5,
             "#f7f7f7"
            ],
            [
             0.6,
             "#e6f5d0"
            ],
            [
             0.7,
             "#b8e186"
            ],
            [
             0.8,
             "#7fbc41"
            ],
            [
             0.9,
             "#4d9221"
            ],
            [
             1,
             "#276419"
            ]
           ],
           "sequential": [
            [
             0,
             "#0d0887"
            ],
            [
             0.1111111111111111,
             "#46039f"
            ],
            [
             0.2222222222222222,
             "#7201a8"
            ],
            [
             0.3333333333333333,
             "#9c179e"
            ],
            [
             0.4444444444444444,
             "#bd3786"
            ],
            [
             0.5555555555555556,
             "#d8576b"
            ],
            [
             0.6666666666666666,
             "#ed7953"
            ],
            [
             0.7777777777777778,
             "#fb9f3a"
            ],
            [
             0.8888888888888888,
             "#fdca26"
            ],
            [
             1,
             "#f0f921"
            ]
           ],
           "sequentialminus": [
            [
             0,
             "#0d0887"
            ],
            [
             0.1111111111111111,
             "#46039f"
            ],
            [
             0.2222222222222222,
             "#7201a8"
            ],
            [
             0.3333333333333333,
             "#9c179e"
            ],
            [
             0.4444444444444444,
             "#bd3786"
            ],
            [
             0.5555555555555556,
             "#d8576b"
            ],
            [
             0.6666666666666666,
             "#ed7953"
            ],
            [
             0.7777777777777778,
             "#fb9f3a"
            ],
            [
             0.8888888888888888,
             "#fdca26"
            ],
            [
             1,
             "#f0f921"
            ]
           ]
          },
          "colorway": [
           "#636efa",
           "#EF553B",
           "#00cc96",
           "#ab63fa",
           "#FFA15A",
           "#19d3f3",
           "#FF6692",
           "#B6E880",
           "#FF97FF",
           "#FECB52"
          ],
          "font": {
           "color": "#2a3f5f"
          },
          "geo": {
           "bgcolor": "white",
           "lakecolor": "white",
           "landcolor": "#E5ECF6",
           "showlakes": true,
           "showland": true,
           "subunitcolor": "white"
          },
          "hoverlabel": {
           "align": "left"
          },
          "hovermode": "closest",
          "mapbox": {
           "style": "light"
          },
          "paper_bgcolor": "white",
          "plot_bgcolor": "#E5ECF6",
          "polar": {
           "angularaxis": {
            "gridcolor": "white",
            "linecolor": "white",
            "ticks": ""
           },
           "bgcolor": "#E5ECF6",
           "radialaxis": {
            "gridcolor": "white",
            "linecolor": "white",
            "ticks": ""
           }
          },
          "scene": {
           "xaxis": {
            "backgroundcolor": "#E5ECF6",
            "gridcolor": "white",
            "gridwidth": 2,
            "linecolor": "white",
            "showbackground": true,
            "ticks": "",
            "zerolinecolor": "white"
           },
           "yaxis": {
            "backgroundcolor": "#E5ECF6",
            "gridcolor": "white",
            "gridwidth": 2,
            "linecolor": "white",
            "showbackground": true,
            "ticks": "",
            "zerolinecolor": "white"
           },
           "zaxis": {
            "backgroundcolor": "#E5ECF6",
            "gridcolor": "white",
            "gridwidth": 2,
            "linecolor": "white",
            "showbackground": true,
            "ticks": "",
            "zerolinecolor": "white"
           }
          },
          "shapedefaults": {
           "line": {
            "color": "#2a3f5f"
           }
          },
          "ternary": {
           "aaxis": {
            "gridcolor": "white",
            "linecolor": "white",
            "ticks": ""
           },
           "baxis": {
            "gridcolor": "white",
            "linecolor": "white",
            "ticks": ""
           },
           "bgcolor": "#E5ECF6",
           "caxis": {
            "gridcolor": "white",
            "linecolor": "white",
            "ticks": ""
           }
          },
          "title": {
           "x": 0.05
          },
          "xaxis": {
           "automargin": true,
           "gridcolor": "white",
           "linecolor": "white",
           "ticks": "",
           "title": {
            "standoff": 15
           },
           "zerolinecolor": "white",
           "zerolinewidth": 2
          },
          "yaxis": {
           "automargin": true,
           "gridcolor": "white",
           "linecolor": "white",
           "ticks": "",
           "title": {
            "standoff": 15
           },
           "zerolinecolor": "white",
           "zerolinewidth": 2
          }
         }
        },
        "title": {
         "text": "Top 10 brands most interacted with"
        },
        "xaxis": {
         "anchor": "y",
         "domain": [
          0,
          1
         ],
         "title": {
          "text": "Brand"
         }
        },
        "yaxis": {
         "anchor": "x",
         "domain": [
          0,
          1
         ],
         "title": {
          "text": "sum of Count"
         }
        }
       }
      }
     },
     "metadata": {}
    }
   ],
   "source": [
    "sdf_count_per_brand=spark.sql(\"SELECT DISTINCT(brand) AS Brand, \\\n",
    "                                      COUNT(*) AS Count \\\n",
    "                                FROM Data \\\n",
    "                                GROUP BY brand \\\n",
    "                                ORDER BY Count DESC\")\n",
    "\n",
    "px.histogram(sdf_count_per_brand.limit(10).toPandas(), x=\"Brand\", y=\"Count\", title=\"Top 10 brands most interacted with\")                               "
   ]
  },
  {
   "cell_type": "markdown",
   "metadata": {
    "pycharm": {
     "name": "#%% md\n"
    }
   },
   "source": [
    "### price"
   ]
  },
  {
   "cell_type": "code",
   "execution_count": 26,
   "metadata": {
    "collapsed": false,
    "jupyter": {
     "outputs_hidden": false
    },
    "pycharm": {
     "name": "#%%\n"
    }
   },
   "outputs": [
    {
     "output_type": "stream",
     "name": "stdout",
     "text": [
      "+-------+-----------------+\n|summary|            price|\n+-------+-----------------+\n|  count|              244|\n|   mean|302.1450819672131|\n| stddev|425.3893301363122|\n|    min|             1.09|\n|    max|          2496.59|\n+-------+-----------------+\n\n"
     ]
    }
   ],
   "source": [
    "sdf_raw.describe(\"price\").show()"
   ]
  },
  {
   "cell_type": "code",
   "execution_count": 27,
   "metadata": {
    "collapsed": false,
    "jupyter": {
     "outputs_hidden": false
    },
    "pycharm": {
     "name": "#%%\n"
    }
   },
   "outputs": [
    {
     "output_type": "display_data",
     "data": {
      "application/vnd.plotly.v1+json": {
       "config": {
        "plotlyServerURL": "https://plot.ly"
       },
       "data": [
        {
         "alignmentgroup": "True",
         "hovertemplate": "avg(price)=%{y}<extra></extra>",
         "legendgroup": "",
         "marker": {
          "color": "#636efa"
         },
         "name": "",
         "notched": false,
         "offsetgroup": "",
         "orientation": "v",
         "showlegend": false,
         "type": "box",
         "x0": " ",
         "xaxis": "x",
         "y": [
          2312.8,
          134.37,
          97.34,
          32.66,
          133.83,
          2342.15,
          277.23,
          54.03,
          386.08,
          378.36,
          69.24,
          108.09,
          30.43,
          34.75,
          390.98,
          147.15,
          38.07,
          411.59,
          298.16,
          257.15,
          385.85,
          489.07,
          732.07,
          165.26,
          218.51,
          229.09,
          168.06,
          33.44,
          46.16,
          22.8,
          167.02,
          514.79,
          70.27,
          172.22,
          20.54,
          552.14,
          123.53,
          47.77,
          226.83,
          12.91,
          30.86,
          51.46,
          432.42,
          684.44,
          88.81,
          289.33,
          17.49,
          1091.33,
          244.28,
          46.82,
          118.41,
          51.46,
          164.84,
          32.18,
          125.61,
          7.59,
          733.61,
          397.54,
          47.32,
          113.93,
          360.09,
          84.69,
          360.34,
          7.34,
          77.22,
          105.54,
          166.23,
          54.06,
          31.64,
          84.65,
          177.1,
          280.05,
          229.83,
          155.11,
          1209.55,
          398.72,
          23.4,
          69.5,
          499.94,
          140.1,
          51.48,
          91.12,
          150.95,
          56.63,
          43.73,
          20.77,
          7.07,
          56.37,
          849.42,
          50.45,
          24.71,
          72.59,
          169.36,
          257.15,
          437.29,
          41.19,
          514.79,
          503.09,
          65.38,
          28.19,
          406.68,
          334.37,
          36.78,
          67.84,
          40.16,
          1173.6,
          46.08,
          10.17,
          23.37,
          20.57,
          23.14,
          66.9,
          224.46,
          119.69,
          2311.49,
          28.31,
          83.91,
          128.42,
          900.92,
          861.28,
          242.63,
          463.15,
          928.38,
          29.86,
          36.01,
          49.68,
          511.13,
          25.48,
          254.78,
          380.96,
          64.33,
          1.09,
          565.63,
          172.23,
          128.68,
          69.47,
          411.83,
          221.37,
          127.42,
          98.51,
          171.17,
          114.03,
          437.33,
          458.28,
          1335.43,
          252.77,
          159.59,
          2239.44,
          151.14,
          207.21,
          51.22,
          1013.86,
          183.27,
          136.4,
          194.76,
          5.77,
          48.35,
          65.64,
          203.84,
          314.08,
          151.99,
          127.33,
          1375.64,
          700.81,
          591.78,
          257.38,
          70.53,
          105.54,
          102.71,
          61.75,
          40.93,
          180.18,
          72.07,
          1997.99,
          50.43,
          287.83,
          47.62,
          2496.59,
          170.63,
          58.69,
          248.66,
          157.28,
          182.76,
          514.56,
          58.17,
          76.45,
          195.37,
          15.62,
          51.22,
          751.63,
          72.72,
          11.79,
          211.92,
          61.1,
          8.73,
          38.61,
          946.73,
          110.03,
          293.65,
          50.19,
          566.3,
          928.18,
          712.87,
          895.78,
          198.18,
          88.29,
          48.43,
          8.55,
          411.34,
          293.44,
          195.87,
          55.33,
          949.47,
          22.68
         ],
         "y0": " ",
         "yaxis": "y"
        }
       ],
       "layout": {
        "boxmode": "group",
        "legend": {
         "tracegroupgap": 0
        },
        "template": {
         "data": {
          "bar": [
           {
            "error_x": {
             "color": "#2a3f5f"
            },
            "error_y": {
             "color": "#2a3f5f"
            },
            "marker": {
             "line": {
              "color": "#E5ECF6",
              "width": 0.5
             }
            },
            "type": "bar"
           }
          ],
          "barpolar": [
           {
            "marker": {
             "line": {
              "color": "#E5ECF6",
              "width": 0.5
             }
            },
            "type": "barpolar"
           }
          ],
          "carpet": [
           {
            "aaxis": {
             "endlinecolor": "#2a3f5f",
             "gridcolor": "white",
             "linecolor": "white",
             "minorgridcolor": "white",
             "startlinecolor": "#2a3f5f"
            },
            "baxis": {
             "endlinecolor": "#2a3f5f",
             "gridcolor": "white",
             "linecolor": "white",
             "minorgridcolor": "white",
             "startlinecolor": "#2a3f5f"
            },
            "type": "carpet"
           }
          ],
          "choropleth": [
           {
            "colorbar": {
             "outlinewidth": 0,
             "ticks": ""
            },
            "type": "choropleth"
           }
          ],
          "contour": [
           {
            "colorbar": {
             "outlinewidth": 0,
             "ticks": ""
            },
            "colorscale": [
             [
              0,
              "#0d0887"
             ],
             [
              0.1111111111111111,
              "#46039f"
             ],
             [
              0.2222222222222222,
              "#7201a8"
             ],
             [
              0.3333333333333333,
              "#9c179e"
             ],
             [
              0.4444444444444444,
              "#bd3786"
             ],
             [
              0.5555555555555556,
              "#d8576b"
             ],
             [
              0.6666666666666666,
              "#ed7953"
             ],
             [
              0.7777777777777778,
              "#fb9f3a"
             ],
             [
              0.8888888888888888,
              "#fdca26"
             ],
             [
              1,
              "#f0f921"
             ]
            ],
            "type": "contour"
           }
          ],
          "contourcarpet": [
           {
            "colorbar": {
             "outlinewidth": 0,
             "ticks": ""
            },
            "type": "contourcarpet"
           }
          ],
          "heatmap": [
           {
            "colorbar": {
             "outlinewidth": 0,
             "ticks": ""
            },
            "colorscale": [
             [
              0,
              "#0d0887"
             ],
             [
              0.1111111111111111,
              "#46039f"
             ],
             [
              0.2222222222222222,
              "#7201a8"
             ],
             [
              0.3333333333333333,
              "#9c179e"
             ],
             [
              0.4444444444444444,
              "#bd3786"
             ],
             [
              0.5555555555555556,
              "#d8576b"
             ],
             [
              0.6666666666666666,
              "#ed7953"
             ],
             [
              0.7777777777777778,
              "#fb9f3a"
             ],
             [
              0.8888888888888888,
              "#fdca26"
             ],
             [
              1,
              "#f0f921"
             ]
            ],
            "type": "heatmap"
           }
          ],
          "heatmapgl": [
           {
            "colorbar": {
             "outlinewidth": 0,
             "ticks": ""
            },
            "colorscale": [
             [
              0,
              "#0d0887"
             ],
             [
              0.1111111111111111,
              "#46039f"
             ],
             [
              0.2222222222222222,
              "#7201a8"
             ],
             [
              0.3333333333333333,
              "#9c179e"
             ],
             [
              0.4444444444444444,
              "#bd3786"
             ],
             [
              0.5555555555555556,
              "#d8576b"
             ],
             [
              0.6666666666666666,
              "#ed7953"
             ],
             [
              0.7777777777777778,
              "#fb9f3a"
             ],
             [
              0.8888888888888888,
              "#fdca26"
             ],
             [
              1,
              "#f0f921"
             ]
            ],
            "type": "heatmapgl"
           }
          ],
          "histogram": [
           {
            "marker": {
             "colorbar": {
              "outlinewidth": 0,
              "ticks": ""
             }
            },
            "type": "histogram"
           }
          ],
          "histogram2d": [
           {
            "colorbar": {
             "outlinewidth": 0,
             "ticks": ""
            },
            "colorscale": [
             [
              0,
              "#0d0887"
             ],
             [
              0.1111111111111111,
              "#46039f"
             ],
             [
              0.2222222222222222,
              "#7201a8"
             ],
             [
              0.3333333333333333,
              "#9c179e"
             ],
             [
              0.4444444444444444,
              "#bd3786"
             ],
             [
              0.5555555555555556,
              "#d8576b"
             ],
             [
              0.6666666666666666,
              "#ed7953"
             ],
             [
              0.7777777777777778,
              "#fb9f3a"
             ],
             [
              0.8888888888888888,
              "#fdca26"
             ],
             [
              1,
              "#f0f921"
             ]
            ],
            "type": "histogram2d"
           }
          ],
          "histogram2dcontour": [
           {
            "colorbar": {
             "outlinewidth": 0,
             "ticks": ""
            },
            "colorscale": [
             [
              0,
              "#0d0887"
             ],
             [
              0.1111111111111111,
              "#46039f"
             ],
             [
              0.2222222222222222,
              "#7201a8"
             ],
             [
              0.3333333333333333,
              "#9c179e"
             ],
             [
              0.4444444444444444,
              "#bd3786"
             ],
             [
              0.5555555555555556,
              "#d8576b"
             ],
             [
              0.6666666666666666,
              "#ed7953"
             ],
             [
              0.7777777777777778,
              "#fb9f3a"
             ],
             [
              0.8888888888888888,
              "#fdca26"
             ],
             [
              1,
              "#f0f921"
             ]
            ],
            "type": "histogram2dcontour"
           }
          ],
          "mesh3d": [
           {
            "colorbar": {
             "outlinewidth": 0,
             "ticks": ""
            },
            "type": "mesh3d"
           }
          ],
          "parcoords": [
           {
            "line": {
             "colorbar": {
              "outlinewidth": 0,
              "ticks": ""
             }
            },
            "type": "parcoords"
           }
          ],
          "pie": [
           {
            "automargin": true,
            "type": "pie"
           }
          ],
          "scatter": [
           {
            "marker": {
             "colorbar": {
              "outlinewidth": 0,
              "ticks": ""
             }
            },
            "type": "scatter"
           }
          ],
          "scatter3d": [
           {
            "line": {
             "colorbar": {
              "outlinewidth": 0,
              "ticks": ""
             }
            },
            "marker": {
             "colorbar": {
              "outlinewidth": 0,
              "ticks": ""
             }
            },
            "type": "scatter3d"
           }
          ],
          "scattercarpet": [
           {
            "marker": {
             "colorbar": {
              "outlinewidth": 0,
              "ticks": ""
             }
            },
            "type": "scattercarpet"
           }
          ],
          "scattergeo": [
           {
            "marker": {
             "colorbar": {
              "outlinewidth": 0,
              "ticks": ""
             }
            },
            "type": "scattergeo"
           }
          ],
          "scattergl": [
           {
            "marker": {
             "colorbar": {
              "outlinewidth": 0,
              "ticks": ""
             }
            },
            "type": "scattergl"
           }
          ],
          "scattermapbox": [
           {
            "marker": {
             "colorbar": {
              "outlinewidth": 0,
              "ticks": ""
             }
            },
            "type": "scattermapbox"
           }
          ],
          "scatterpolar": [
           {
            "marker": {
             "colorbar": {
              "outlinewidth": 0,
              "ticks": ""
             }
            },
            "type": "scatterpolar"
           }
          ],
          "scatterpolargl": [
           {
            "marker": {
             "colorbar": {
              "outlinewidth": 0,
              "ticks": ""
             }
            },
            "type": "scatterpolargl"
           }
          ],
          "scatterternary": [
           {
            "marker": {
             "colorbar": {
              "outlinewidth": 0,
              "ticks": ""
             }
            },
            "type": "scatterternary"
           }
          ],
          "surface": [
           {
            "colorbar": {
             "outlinewidth": 0,
             "ticks": ""
            },
            "colorscale": [
             [
              0,
              "#0d0887"
             ],
             [
              0.1111111111111111,
              "#46039f"
             ],
             [
              0.2222222222222222,
              "#7201a8"
             ],
             [
              0.3333333333333333,
              "#9c179e"
             ],
             [
              0.4444444444444444,
              "#bd3786"
             ],
             [
              0.5555555555555556,
              "#d8576b"
             ],
             [
              0.6666666666666666,
              "#ed7953"
             ],
             [
              0.7777777777777778,
              "#fb9f3a"
             ],
             [
              0.8888888888888888,
              "#fdca26"
             ],
             [
              1,
              "#f0f921"
             ]
            ],
            "type": "surface"
           }
          ],
          "table": [
           {
            "cells": {
             "fill": {
              "color": "#EBF0F8"
             },
             "line": {
              "color": "white"
             }
            },
            "header": {
             "fill": {
              "color": "#C8D4E3"
             },
             "line": {
              "color": "white"
             }
            },
            "type": "table"
           }
          ]
         },
         "layout": {
          "annotationdefaults": {
           "arrowcolor": "#2a3f5f",
           "arrowhead": 0,
           "arrowwidth": 1
          },
          "autotypenumbers": "strict",
          "coloraxis": {
           "colorbar": {
            "outlinewidth": 0,
            "ticks": ""
           }
          },
          "colorscale": {
           "diverging": [
            [
             0,
             "#8e0152"
            ],
            [
             0.1,
             "#c51b7d"
            ],
            [
             0.2,
             "#de77ae"
            ],
            [
             0.3,
             "#f1b6da"
            ],
            [
             0.4,
             "#fde0ef"
            ],
            [
             0.5,
             "#f7f7f7"
            ],
            [
             0.6,
             "#e6f5d0"
            ],
            [
             0.7,
             "#b8e186"
            ],
            [
             0.8,
             "#7fbc41"
            ],
            [
             0.9,
             "#4d9221"
            ],
            [
             1,
             "#276419"
            ]
           ],
           "sequential": [
            [
             0,
             "#0d0887"
            ],
            [
             0.1111111111111111,
             "#46039f"
            ],
            [
             0.2222222222222222,
             "#7201a8"
            ],
            [
             0.3333333333333333,
             "#9c179e"
            ],
            [
             0.4444444444444444,
             "#bd3786"
            ],
            [
             0.5555555555555556,
             "#d8576b"
            ],
            [
             0.6666666666666666,
             "#ed7953"
            ],
            [
             0.7777777777777778,
             "#fb9f3a"
            ],
            [
             0.8888888888888888,
             "#fdca26"
            ],
            [
             1,
             "#f0f921"
            ]
           ],
           "sequentialminus": [
            [
             0,
             "#0d0887"
            ],
            [
             0.1111111111111111,
             "#46039f"
            ],
            [
             0.2222222222222222,
             "#7201a8"
            ],
            [
             0.3333333333333333,
             "#9c179e"
            ],
            [
             0.4444444444444444,
             "#bd3786"
            ],
            [
             0.5555555555555556,
             "#d8576b"
            ],
            [
             0.6666666666666666,
             "#ed7953"
            ],
            [
             0.7777777777777778,
             "#fb9f3a"
            ],
            [
             0.8888888888888888,
             "#fdca26"
            ],
            [
             1,
             "#f0f921"
            ]
           ]
          },
          "colorway": [
           "#636efa",
           "#EF553B",
           "#00cc96",
           "#ab63fa",
           "#FFA15A",
           "#19d3f3",
           "#FF6692",
           "#B6E880",
           "#FF97FF",
           "#FECB52"
          ],
          "font": {
           "color": "#2a3f5f"
          },
          "geo": {
           "bgcolor": "white",
           "lakecolor": "white",
           "landcolor": "#E5ECF6",
           "showlakes": true,
           "showland": true,
           "subunitcolor": "white"
          },
          "hoverlabel": {
           "align": "left"
          },
          "hovermode": "closest",
          "mapbox": {
           "style": "light"
          },
          "paper_bgcolor": "white",
          "plot_bgcolor": "#E5ECF6",
          "polar": {
           "angularaxis": {
            "gridcolor": "white",
            "linecolor": "white",
            "ticks": ""
           },
           "bgcolor": "#E5ECF6",
           "radialaxis": {
            "gridcolor": "white",
            "linecolor": "white",
            "ticks": ""
           }
          },
          "scene": {
           "xaxis": {
            "backgroundcolor": "#E5ECF6",
            "gridcolor": "white",
            "gridwidth": 2,
            "linecolor": "white",
            "showbackground": true,
            "ticks": "",
            "zerolinecolor": "white"
           },
           "yaxis": {
            "backgroundcolor": "#E5ECF6",
            "gridcolor": "white",
            "gridwidth": 2,
            "linecolor": "white",
            "showbackground": true,
            "ticks": "",
            "zerolinecolor": "white"
           },
           "zaxis": {
            "backgroundcolor": "#E5ECF6",
            "gridcolor": "white",
            "gridwidth": 2,
            "linecolor": "white",
            "showbackground": true,
            "ticks": "",
            "zerolinecolor": "white"
           }
          },
          "shapedefaults": {
           "line": {
            "color": "#2a3f5f"
           }
          },
          "ternary": {
           "aaxis": {
            "gridcolor": "white",
            "linecolor": "white",
            "ticks": ""
           },
           "baxis": {
            "gridcolor": "white",
            "linecolor": "white",
            "ticks": ""
           },
           "bgcolor": "#E5ECF6",
           "caxis": {
            "gridcolor": "white",
            "linecolor": "white",
            "ticks": ""
           }
          },
          "title": {
           "x": 0.05
          },
          "xaxis": {
           "automargin": true,
           "gridcolor": "white",
           "linecolor": "white",
           "ticks": "",
           "title": {
            "standoff": 15
           },
           "zerolinecolor": "white",
           "zerolinewidth": 2
          },
          "yaxis": {
           "automargin": true,
           "gridcolor": "white",
           "linecolor": "white",
           "ticks": "",
           "title": {
            "standoff": 15
           },
           "zerolinecolor": "white",
           "zerolinewidth": 2
          }
         }
        },
        "title": {
         "text": "Price distribution for products in Store"
        },
        "xaxis": {
         "anchor": "y",
         "domain": [
          0,
          1
         ]
        },
        "yaxis": {
         "anchor": "x",
         "domain": [
          0,
          1
         ],
         "title": {
          "text": "avg(price)"
         }
        }
       }
      }
     },
     "metadata": {}
    }
   ],
   "source": [
    "px.box(sdf_raw.groupBy(\"product_id\").avg(\"price\").toPandas(), y=\"avg(price)\", title=\"Price distribution for products in Store\")\n"
   ]
  },
  {
   "cell_type": "markdown",
   "metadata": {
    "pycharm": {
     "name": "#%% md\n"
    }
   },
   "source": [
    "### user_id"
   ]
  },
  {
   "cell_type": "code",
   "execution_count": 28,
   "metadata": {
    "collapsed": false,
    "jupyter": {
     "outputs_hidden": false
    },
    "pycharm": {
     "name": "#%%\n"
    }
   },
   "outputs": [
    {
     "output_type": "stream",
     "name": "stdout",
     "text": [
      "+---------+\n",
      "|  user_id|\n",
      "+---------+\n",
      "|520088904|\n",
      "|530496790|\n",
      "|561587266|\n",
      "|518085591|\n",
      "|558856683|\n",
      "+---------+\n",
      "only showing top 5 rows\n",
      "\n",
      "Number of users:\n",
      "153\n"
     ]
    }
   ],
   "source": [
    "sdf_raw.select(\"user_id\").show(5)\n",
    "\n",
    "print(\"Number of users:\")\n",
    "print(sdf_raw.select(\"user_id\").distinct().count())"
   ]
  },
  {
   "cell_type": "markdown",
   "metadata": {
    "pycharm": {
     "name": "#%% md\n"
    }
   },
   "source": [
    "### user_session"
   ]
  },
  {
   "cell_type": "code",
   "execution_count": 29,
   "metadata": {
    "collapsed": false,
    "jupyter": {
     "outputs_hidden": false
    },
    "pycharm": {
     "name": "#%%\n"
    }
   },
   "outputs": [
    {
     "output_type": "stream",
     "name": "stdout",
     "text": [
      "+-------+--------------------+------------------+\n|summary|        user_session|             count|\n+-------+--------------------+------------------+\n|  count|                 153|               153|\n|   mean|                null|1.5947712418300655|\n| stddev|                null|1.0287825488662496|\n|    min|0110890b-96d6-4ae...|                 1|\n|    max|ff868137-fb3e-4da...|                 6|\n+-------+--------------------+------------------+\n\n"
     ]
    }
   ],
   "source": [
    "# avg actions per session\n",
    "sdf_cnt_action_per_session = sdf_raw.groupby(\"user_session\").count()\n",
    "sdf_cnt_action_per_session.describe().show()"
   ]
  },
  {
   "source": [
    "## Feature Enginnering"
   ],
   "cell_type": "markdown",
   "metadata": {}
  },
  {
   "source": [
    "### category_class and category_sub_class\n",
    "The category_code consists of two or three parts in general, which are separeted by a dot. A possible category_code is for example: appliances.kitchen.washer or electronics.smartphone. Because of that the category code can be splited into to the categories: category_class, category_sub_class and category_sub_sub_class.\n",
    "\n",
    "The category_class is representing the fist part of the category_code. It can be used to summarize many category_codes into an overarching category_class. As you can see in the overview, there are ... unique category_classes."
   ],
   "cell_type": "markdown",
   "metadata": {}
  },
  {
   "cell_type": "code",
   "execution_count": 30,
   "metadata": {},
   "outputs": [
    {
     "output_type": "display_data",
     "data": {
      "application/vnd.plotly.v1+json": {
       "config": {
        "plotlyServerURL": "https://plot.ly"
       },
       "data": [
        {
         "branchvalues": "total",
         "domain": {
          "x": [
           0,
           1
          ],
          "y": [
           0,
           1
          ]
         },
         "hovertemplate": "labels=%{label}<br>count=%{value}<br>parent=%{parent}<br>id=%{id}<extra></extra>",
         "ids": [
          "furniture/bathroom/bath",
          "furniture/bedroom/bed",
          "appliances/kitchen/blender",
          "furniture/living_room/cabinet",
          "furniture/kitchen/chair",
          "auto/accessories/compressor",
          "appliances/kitchen/dishwasher",
          "construction/tools/drill",
          "appliances/personal/hair_cutter",
          "electronics/audio/headphone",
          "appliances/kitchen/hood",
          "construction/tools/light",
          "appliances/kitchen/microwave",
          "computers/components/motherboard",
          "accessories/bag/not defined",
          "electronics/clocks/not defined",
          "computers/desktop/not defined",
          "apparel/jeans/not defined",
          "computers/notebook/not defined",
          "appliances/sewing_machine/not defined",
          "apparel/shirt/not defined",
          "apparel/shoes/not defined",
          "electronics/smartphone/not defined",
          "kids/swing/not defined",
          "apparel/tshirt/not defined",
          "construction/tools/painting",
          "auto/accessories/player",
          "computers/peripherals/printer",
          "appliances/kitchen/refrigerators",
          "construction/tools/saw",
          "furniture/living_room/sofa",
          "electronics/audio/subwoofer",
          "furniture/kitchen/table",
          "electronics/video/tv",
          "appliances/environment/vacuum",
          "electronics/camera/video",
          "computers/components/videocards",
          "auto/accessories/videoregister",
          "appliances/kitchen/washer",
          "appliances/environment/water_heater",
          "construction/tools/welding",
          "auto/accessories",
          "electronics/audio",
          "accessories/bag",
          "furniture/bathroom",
          "furniture/bedroom",
          "electronics/camera",
          "electronics/clocks",
          "computers/components",
          "computers/desktop",
          "appliances/environment",
          "apparel/jeans",
          "appliances/kitchen",
          "furniture/kitchen",
          "furniture/living_room",
          "computers/notebook",
          "computers/peripherals",
          "appliances/personal",
          "appliances/sewing_machine",
          "apparel/shirt",
          "apparel/shoes",
          "electronics/smartphone",
          "kids/swing",
          "construction/tools",
          "apparel/tshirt",
          "electronics/video",
          "accessories",
          "apparel",
          "appliances",
          "auto",
          "computers",
          "construction",
          "electronics",
          "furniture",
          "kids"
         ],
         "labels": [
          "bath",
          "bed",
          "blender",
          "cabinet",
          "chair",
          "compressor",
          "dishwasher",
          "drill",
          "hair_cutter",
          "headphone",
          "hood",
          "light",
          "microwave",
          "motherboard",
          "not defined",
          "not defined",
          "not defined",
          "not defined",
          "not defined",
          "not defined",
          "not defined",
          "not defined",
          "not defined",
          "not defined",
          "not defined",
          "painting",
          "player",
          "printer",
          "refrigerators",
          "saw",
          "sofa",
          "subwoofer",
          "table",
          "tv",
          "vacuum",
          "video",
          "videocards",
          "videoregister",
          "washer",
          "water_heater",
          "welding",
          "accessories",
          "audio",
          "bag",
          "bathroom",
          "bedroom",
          "camera",
          "clocks",
          "components",
          "desktop",
          "environment",
          "jeans",
          "kitchen",
          "kitchen",
          "living_room",
          "notebook",
          "peripherals",
          "personal",
          "sewing_machine",
          "shirt",
          "shoes",
          "smartphone",
          "swing",
          "tools",
          "tshirt",
          "video",
          "accessories",
          "apparel",
          "appliances",
          "auto",
          "computers",
          "construction",
          "electronics",
          "furniture",
          "kids"
         ],
         "name": "",
         "parents": [
          "furniture/bathroom",
          "furniture/bedroom",
          "appliances/kitchen",
          "furniture/living_room",
          "furniture/kitchen",
          "auto/accessories",
          "appliances/kitchen",
          "construction/tools",
          "appliances/personal",
          "electronics/audio",
          "appliances/kitchen",
          "construction/tools",
          "appliances/kitchen",
          "computers/components",
          "accessories/bag",
          "electronics/clocks",
          "computers/desktop",
          "apparel/jeans",
          "computers/notebook",
          "appliances/sewing_machine",
          "apparel/shirt",
          "apparel/shoes",
          "electronics/smartphone",
          "kids/swing",
          "apparel/tshirt",
          "construction/tools",
          "auto/accessories",
          "computers/peripherals",
          "appliances/kitchen",
          "construction/tools",
          "furniture/living_room",
          "electronics/audio",
          "furniture/kitchen",
          "electronics/video",
          "appliances/environment",
          "electronics/camera",
          "computers/components",
          "auto/accessories",
          "appliances/kitchen",
          "appliances/environment",
          "construction/tools",
          "auto",
          "electronics",
          "accessories",
          "furniture",
          "furniture",
          "electronics",
          "electronics",
          "computers",
          "computers",
          "appliances",
          "apparel",
          "appliances",
          "furniture",
          "furniture",
          "computers",
          "computers",
          "appliances",
          "appliances",
          "apparel",
          "apparel",
          "electronics",
          "kids",
          "construction",
          "apparel",
          "electronics",
          "",
          "",
          "",
          "",
          "",
          "",
          "",
          "",
          ""
         ],
         "type": "sunburst",
         "values": [
          1,
          4,
          1,
          1,
          6,
          2,
          4,
          4,
          1,
          5,
          1,
          1,
          2,
          1,
          1,
          8,
          2,
          3,
          18,
          2,
          1,
          1,
          43,
          1,
          1,
          1,
          6,
          2,
          5,
          1,
          2,
          4,
          1,
          1,
          2,
          1,
          2,
          1,
          1,
          1,
          1,
          9,
          9,
          1,
          1,
          4,
          1,
          8,
          3,
          2,
          3,
          3,
          14,
          7,
          3,
          18,
          2,
          1,
          2,
          1,
          1,
          43,
          1,
          8,
          1,
          1,
          1,
          6,
          20,
          9,
          25,
          8,
          62,
          15,
          1
         ]
        }
       ],
       "layout": {
        "legend": {
         "tracegroupgap": 0
        },
        "template": {
         "data": {
          "bar": [
           {
            "error_x": {
             "color": "#2a3f5f"
            },
            "error_y": {
             "color": "#2a3f5f"
            },
            "marker": {
             "line": {
              "color": "#E5ECF6",
              "width": 0.5
             }
            },
            "type": "bar"
           }
          ],
          "barpolar": [
           {
            "marker": {
             "line": {
              "color": "#E5ECF6",
              "width": 0.5
             }
            },
            "type": "barpolar"
           }
          ],
          "carpet": [
           {
            "aaxis": {
             "endlinecolor": "#2a3f5f",
             "gridcolor": "white",
             "linecolor": "white",
             "minorgridcolor": "white",
             "startlinecolor": "#2a3f5f"
            },
            "baxis": {
             "endlinecolor": "#2a3f5f",
             "gridcolor": "white",
             "linecolor": "white",
             "minorgridcolor": "white",
             "startlinecolor": "#2a3f5f"
            },
            "type": "carpet"
           }
          ],
          "choropleth": [
           {
            "colorbar": {
             "outlinewidth": 0,
             "ticks": ""
            },
            "type": "choropleth"
           }
          ],
          "contour": [
           {
            "colorbar": {
             "outlinewidth": 0,
             "ticks": ""
            },
            "colorscale": [
             [
              0,
              "#0d0887"
             ],
             [
              0.1111111111111111,
              "#46039f"
             ],
             [
              0.2222222222222222,
              "#7201a8"
             ],
             [
              0.3333333333333333,
              "#9c179e"
             ],
             [
              0.4444444444444444,
              "#bd3786"
             ],
             [
              0.5555555555555556,
              "#d8576b"
             ],
             [
              0.6666666666666666,
              "#ed7953"
             ],
             [
              0.7777777777777778,
              "#fb9f3a"
             ],
             [
              0.8888888888888888,
              "#fdca26"
             ],
             [
              1,
              "#f0f921"
             ]
            ],
            "type": "contour"
           }
          ],
          "contourcarpet": [
           {
            "colorbar": {
             "outlinewidth": 0,
             "ticks": ""
            },
            "type": "contourcarpet"
           }
          ],
          "heatmap": [
           {
            "colorbar": {
             "outlinewidth": 0,
             "ticks": ""
            },
            "colorscale": [
             [
              0,
              "#0d0887"
             ],
             [
              0.1111111111111111,
              "#46039f"
             ],
             [
              0.2222222222222222,
              "#7201a8"
             ],
             [
              0.3333333333333333,
              "#9c179e"
             ],
             [
              0.4444444444444444,
              "#bd3786"
             ],
             [
              0.5555555555555556,
              "#d8576b"
             ],
             [
              0.6666666666666666,
              "#ed7953"
             ],
             [
              0.7777777777777778,
              "#fb9f3a"
             ],
             [
              0.8888888888888888,
              "#fdca26"
             ],
             [
              1,
              "#f0f921"
             ]
            ],
            "type": "heatmap"
           }
          ],
          "heatmapgl": [
           {
            "colorbar": {
             "outlinewidth": 0,
             "ticks": ""
            },
            "colorscale": [
             [
              0,
              "#0d0887"
             ],
             [
              0.1111111111111111,
              "#46039f"
             ],
             [
              0.2222222222222222,
              "#7201a8"
             ],
             [
              0.3333333333333333,
              "#9c179e"
             ],
             [
              0.4444444444444444,
              "#bd3786"
             ],
             [
              0.5555555555555556,
              "#d8576b"
             ],
             [
              0.6666666666666666,
              "#ed7953"
             ],
             [
              0.7777777777777778,
              "#fb9f3a"
             ],
             [
              0.8888888888888888,
              "#fdca26"
             ],
             [
              1,
              "#f0f921"
             ]
            ],
            "type": "heatmapgl"
           }
          ],
          "histogram": [
           {
            "marker": {
             "colorbar": {
              "outlinewidth": 0,
              "ticks": ""
             }
            },
            "type": "histogram"
           }
          ],
          "histogram2d": [
           {
            "colorbar": {
             "outlinewidth": 0,
             "ticks": ""
            },
            "colorscale": [
             [
              0,
              "#0d0887"
             ],
             [
              0.1111111111111111,
              "#46039f"
             ],
             [
              0.2222222222222222,
              "#7201a8"
             ],
             [
              0.3333333333333333,
              "#9c179e"
             ],
             [
              0.4444444444444444,
              "#bd3786"
             ],
             [
              0.5555555555555556,
              "#d8576b"
             ],
             [
              0.6666666666666666,
              "#ed7953"
             ],
             [
              0.7777777777777778,
              "#fb9f3a"
             ],
             [
              0.8888888888888888,
              "#fdca26"
             ],
             [
              1,
              "#f0f921"
             ]
            ],
            "type": "histogram2d"
           }
          ],
          "histogram2dcontour": [
           {
            "colorbar": {
             "outlinewidth": 0,
             "ticks": ""
            },
            "colorscale": [
             [
              0,
              "#0d0887"
             ],
             [
              0.1111111111111111,
              "#46039f"
             ],
             [
              0.2222222222222222,
              "#7201a8"
             ],
             [
              0.3333333333333333,
              "#9c179e"
             ],
             [
              0.4444444444444444,
              "#bd3786"
             ],
             [
              0.5555555555555556,
              "#d8576b"
             ],
             [
              0.6666666666666666,
              "#ed7953"
             ],
             [
              0.7777777777777778,
              "#fb9f3a"
             ],
             [
              0.8888888888888888,
              "#fdca26"
             ],
             [
              1,
              "#f0f921"
             ]
            ],
            "type": "histogram2dcontour"
           }
          ],
          "mesh3d": [
           {
            "colorbar": {
             "outlinewidth": 0,
             "ticks": ""
            },
            "type": "mesh3d"
           }
          ],
          "parcoords": [
           {
            "line": {
             "colorbar": {
              "outlinewidth": 0,
              "ticks": ""
             }
            },
            "type": "parcoords"
           }
          ],
          "pie": [
           {
            "automargin": true,
            "type": "pie"
           }
          ],
          "scatter": [
           {
            "marker": {
             "colorbar": {
              "outlinewidth": 0,
              "ticks": ""
             }
            },
            "type": "scatter"
           }
          ],
          "scatter3d": [
           {
            "line": {
             "colorbar": {
              "outlinewidth": 0,
              "ticks": ""
             }
            },
            "marker": {
             "colorbar": {
              "outlinewidth": 0,
              "ticks": ""
             }
            },
            "type": "scatter3d"
           }
          ],
          "scattercarpet": [
           {
            "marker": {
             "colorbar": {
              "outlinewidth": 0,
              "ticks": ""
             }
            },
            "type": "scattercarpet"
           }
          ],
          "scattergeo": [
           {
            "marker": {
             "colorbar": {
              "outlinewidth": 0,
              "ticks": ""
             }
            },
            "type": "scattergeo"
           }
          ],
          "scattergl": [
           {
            "marker": {
             "colorbar": {
              "outlinewidth": 0,
              "ticks": ""
             }
            },
            "type": "scattergl"
           }
          ],
          "scattermapbox": [
           {
            "marker": {
             "colorbar": {
              "outlinewidth": 0,
              "ticks": ""
             }
            },
            "type": "scattermapbox"
           }
          ],
          "scatterpolar": [
           {
            "marker": {
             "colorbar": {
              "outlinewidth": 0,
              "ticks": ""
             }
            },
            "type": "scatterpolar"
           }
          ],
          "scatterpolargl": [
           {
            "marker": {
             "colorbar": {
              "outlinewidth": 0,
              "ticks": ""
             }
            },
            "type": "scatterpolargl"
           }
          ],
          "scatterternary": [
           {
            "marker": {
             "colorbar": {
              "outlinewidth": 0,
              "ticks": ""
             }
            },
            "type": "scatterternary"
           }
          ],
          "surface": [
           {
            "colorbar": {
             "outlinewidth": 0,
             "ticks": ""
            },
            "colorscale": [
             [
              0,
              "#0d0887"
             ],
             [
              0.1111111111111111,
              "#46039f"
             ],
             [
              0.2222222222222222,
              "#7201a8"
             ],
             [
              0.3333333333333333,
              "#9c179e"
             ],
             [
              0.4444444444444444,
              "#bd3786"
             ],
             [
              0.5555555555555556,
              "#d8576b"
             ],
             [
              0.6666666666666666,
              "#ed7953"
             ],
             [
              0.7777777777777778,
              "#fb9f3a"
             ],
             [
              0.8888888888888888,
              "#fdca26"
             ],
             [
              1,
              "#f0f921"
             ]
            ],
            "type": "surface"
           }
          ],
          "table": [
           {
            "cells": {
             "fill": {
              "color": "#EBF0F8"
             },
             "line": {
              "color": "white"
             }
            },
            "header": {
             "fill": {
              "color": "#C8D4E3"
             },
             "line": {
              "color": "white"
             }
            },
            "type": "table"
           }
          ]
         },
         "layout": {
          "annotationdefaults": {
           "arrowcolor": "#2a3f5f",
           "arrowhead": 0,
           "arrowwidth": 1
          },
          "autotypenumbers": "strict",
          "coloraxis": {
           "colorbar": {
            "outlinewidth": 0,
            "ticks": ""
           }
          },
          "colorscale": {
           "diverging": [
            [
             0,
             "#8e0152"
            ],
            [
             0.1,
             "#c51b7d"
            ],
            [
             0.2,
             "#de77ae"
            ],
            [
             0.3,
             "#f1b6da"
            ],
            [
             0.4,
             "#fde0ef"
            ],
            [
             0.5,
             "#f7f7f7"
            ],
            [
             0.6,
             "#e6f5d0"
            ],
            [
             0.7,
             "#b8e186"
            ],
            [
             0.8,
             "#7fbc41"
            ],
            [
             0.9,
             "#4d9221"
            ],
            [
             1,
             "#276419"
            ]
           ],
           "sequential": [
            [
             0,
             "#0d0887"
            ],
            [
             0.1111111111111111,
             "#46039f"
            ],
            [
             0.2222222222222222,
             "#7201a8"
            ],
            [
             0.3333333333333333,
             "#9c179e"
            ],
            [
             0.4444444444444444,
             "#bd3786"
            ],
            [
             0.5555555555555556,
             "#d8576b"
            ],
            [
             0.6666666666666666,
             "#ed7953"
            ],
            [
             0.7777777777777778,
             "#fb9f3a"
            ],
            [
             0.8888888888888888,
             "#fdca26"
            ],
            [
             1,
             "#f0f921"
            ]
           ],
           "sequentialminus": [
            [
             0,
             "#0d0887"
            ],
            [
             0.1111111111111111,
             "#46039f"
            ],
            [
             0.2222222222222222,
             "#7201a8"
            ],
            [
             0.3333333333333333,
             "#9c179e"
            ],
            [
             0.4444444444444444,
             "#bd3786"
            ],
            [
             0.5555555555555556,
             "#d8576b"
            ],
            [
             0.6666666666666666,
             "#ed7953"
            ],
            [
             0.7777777777777778,
             "#fb9f3a"
            ],
            [
             0.8888888888888888,
             "#fdca26"
            ],
            [
             1,
             "#f0f921"
            ]
           ]
          },
          "colorway": [
           "#636efa",
           "#EF553B",
           "#00cc96",
           "#ab63fa",
           "#FFA15A",
           "#19d3f3",
           "#FF6692",
           "#B6E880",
           "#FF97FF",
           "#FECB52"
          ],
          "font": {
           "color": "#2a3f5f"
          },
          "geo": {
           "bgcolor": "white",
           "lakecolor": "white",
           "landcolor": "#E5ECF6",
           "showlakes": true,
           "showland": true,
           "subunitcolor": "white"
          },
          "hoverlabel": {
           "align": "left"
          },
          "hovermode": "closest",
          "mapbox": {
           "style": "light"
          },
          "paper_bgcolor": "white",
          "plot_bgcolor": "#E5ECF6",
          "polar": {
           "angularaxis": {
            "gridcolor": "white",
            "linecolor": "white",
            "ticks": ""
           },
           "bgcolor": "#E5ECF6",
           "radialaxis": {
            "gridcolor": "white",
            "linecolor": "white",
            "ticks": ""
           }
          },
          "scene": {
           "xaxis": {
            "backgroundcolor": "#E5ECF6",
            "gridcolor": "white",
            "gridwidth": 2,
            "linecolor": "white",
            "showbackground": true,
            "ticks": "",
            "zerolinecolor": "white"
           },
           "yaxis": {
            "backgroundcolor": "#E5ECF6",
            "gridcolor": "white",
            "gridwidth": 2,
            "linecolor": "white",
            "showbackground": true,
            "ticks": "",
            "zerolinecolor": "white"
           },
           "zaxis": {
            "backgroundcolor": "#E5ECF6",
            "gridcolor": "white",
            "gridwidth": 2,
            "linecolor": "white",
            "showbackground": true,
            "ticks": "",
            "zerolinecolor": "white"
           }
          },
          "shapedefaults": {
           "line": {
            "color": "#2a3f5f"
           }
          },
          "ternary": {
           "aaxis": {
            "gridcolor": "white",
            "linecolor": "white",
            "ticks": ""
           },
           "baxis": {
            "gridcolor": "white",
            "linecolor": "white",
            "ticks": ""
           },
           "bgcolor": "#E5ECF6",
           "caxis": {
            "gridcolor": "white",
            "linecolor": "white",
            "ticks": ""
           }
          },
          "title": {
           "x": 0.05
          },
          "xaxis": {
           "automargin": true,
           "gridcolor": "white",
           "linecolor": "white",
           "ticks": "",
           "title": {
            "standoff": 15
           },
           "zerolinecolor": "white",
           "zerolinewidth": 2
          },
          "yaxis": {
           "automargin": true,
           "gridcolor": "white",
           "linecolor": "white",
           "ticks": "",
           "title": {
            "standoff": 15
           },
           "zerolinecolor": "white",
           "zerolinewidth": 2
          }
         }
        },
        "title": {
         "text": "Category Classes and Subclasses (without data for class = 'not defined')"
        }
       }
      }
     },
     "metadata": {}
    }
   ],
   "source": [
    "px.sunburst(sdf_agg_classes.toPandas(), path=[\"category_class\", \"category_sub_class\", \"category_sub_sub_class\"], values=\"count\", title=\"Category Classes and Subclasses (without data for class = 'not defined')\")"
   ]
  },
  {
   "source": [
    "### Time - Fields"
   ],
   "cell_type": "markdown",
   "metadata": {}
  },
  {
   "source": [
    "The column “event_time” allows you to create the following columns: year, month, weekofyear, dayofyear, dayofweek, dayofmonth and hour. These columns allow advanced analysis.\n",
    "\n",
    "- Year: The Year-column contains only the year 2019 since the dataset only covers this year.\n",
    "- Month: The month-column cotains the values 10, 11 and 12,  which are representing the october, november and december 2019.DeprecationWarning\n",
    "- Weekofyear: The weekofyear-column is covering the weeks ... - ...\n",
    "- Dayofyear: The dayofyear-column is covering the days .... - ...\n",
    "- Dayofweek: The dayofweek-column is covering the values 1-7. These values are representing days sunday(1), monday(2), Tuesday(3), Wednesday(4), Thursday(5), Friday(6) and Saturday(7).\n",
    "- Dayofmonth: The dayofmonth-column contains the values 1-31, which are reperesenting the day in the corresponding month.\n",
    "- hour: The hour-column contains the values 0-24, which are representing the hour of interaction."
   ],
   "cell_type": "markdown",
   "metadata": {}
  },
  {
   "source": [
    "### Turnover and quantities"
   ],
   "cell_type": "markdown",
   "metadata": {}
  },
  {
   "source": [
    "In the following table you can see that in some cases a product ID was purchased several times per user session."
   ],
   "cell_type": "markdown",
   "metadata": {}
  },
  {
   "cell_type": "code",
   "execution_count": 79,
   "metadata": {},
   "outputs": [
    {
     "output_type": "stream",
     "name": "stdout",
     "text": [
      "+--------------------+----------+----------+-----+\n|        user_session|product_id|event_type|Count|\n+--------------------+----------+----------+-----+\n|e6b7ce9b-1938-4e2...|   1005161|  purchase|    1|\n|d6034fa2-41fb-4ac...|  13200605|  purchase|    1|\n+--------------------+----------+----------+-----+\n\n"
     ]
    }
   ],
   "source": [
    "sdf_count_session_product = spark.sql(\"SELECT user_session, \\\n",
    "                                                product_id, \\\n",
    "                                                event_type, \\\n",
    "                                                COunt(*) AS Count \\\n",
    "                                        FROM Data \\\n",
    "                                        GROUP BY user_session, product_id, event_type \\\n",
    "                                            HAVING event_Type = 'purchase' \\\n",
    "                                        ORDER BY Count DESC\")\n",
    "sdf_count_session_product.show()"
   ]
  },
  {
   "source": [
    "From this it can be concluded that a single interaction is created for each product purchased. With the help of this information, the columns \"turnover\", \"bought_quantity\", \"viewed_quantity\", \"cart_quantity\" can be created.\n",
    "\n",
    "- Turnover: The turnover is equivalent to the price, if the event_type is equal to \"purchase\".\n",
    "- bought_quantity: The bought_quantity describes the quantity of a product,that had been bought. In the unaggregated form it only contains the values 0 and 1.\n",
    "- viewed_quantity: The viewed_quantity describes the quantity of a product,that had been viewed. In the unaggregated form it only contains the values 0 and 1.\n",
    "- cart_quantity: The cart_quantity describes the quantity of a product,that had been put into the cart. In the unaggregated form it only contains the values 0 and 1.\n",
    "\n",
    "These columns are particularly suitable for aggregated analyses."
   ],
   "cell_type": "markdown",
   "metadata": {}
  },
  {
   "cell_type": "code",
   "execution_count": 90,
   "metadata": {},
   "outputs": [
    {
     "output_type": "stream",
     "name": "stdout",
     "text": [
      "+-------------------+----------+----------+-------------------+--------------------+--------+------+---------+--------------------+--------------+------------------+----------------------+----+-----+----------+---------+---------+----------+----+--------+---------------+---------------+-------------+\n|         event_time|event_type|product_id|        category_id|       category_code|   brand| price|  user_id|        user_session|category_class|category_sub_class|category_sub_sub_class|year|month|weekofyear|dayofyear|dayofweek|dayofmonth|hour|turnover|bougth_quantity|viewed_quantity|cart_quantity|\n+-------------------+----------+----------+-------------------+--------------------+--------+------+---------+--------------------+--------------+------------------+----------------------+----+-----+----------+---------+---------+----------+----+--------+---------------+---------------+-------------+\n|2019-11-01 01:00:00|      view|   1003461|2053013555631882655|electronics.smart...|  xiaomi|489.07|520088904|4d3b30da-a5e4-49d...|   electronics|        smartphone|                  null|2019|   11|        44|      305|        6|         1|   1|     0.0|              0|              1|            0|\n|2019-11-01 01:00:00|      view|   5000088|2053013566100866035|appliances.sewing...|  janome|293.65|530496790|8e5f4f83-366c-4f7...|    appliances|    sewing_machine|                  null|2019|   11|        44|      305|        6|         1|   1|     0.0|              0|              1|            0|\n|2019-11-01 01:00:01|      view|  17302664|2053013553853497655|                null|   creed| 28.31|561587266|755422e7-9040-477...|          null|              null|                  null|2019|   11|        44|      305|        6|         1|   1|     0.0|              0|              1|            0|\n|2019-11-01 01:00:01|      view|   3601530|2053013563810775923|appliances.kitche...|      lg|712.87|518085591|3bfb58cd-7892-48c...|    appliances|           kitchen|                washer|2019|   11|        44|      305|        6|         1|   1|     0.0|              0|              1|            0|\n|2019-11-01 01:00:01|      view|   1004775|2053013555631882655|electronics.smart...|  xiaomi|183.27|558856683|313628f1-68b8-460...|   electronics|        smartphone|                  null|2019|   11|        44|      305|        6|         1|   1|     0.0|              0|              1|            0|\n|2019-11-01 01:00:01|      view|   1306894|2053013558920217191|  computers.notebook|      hp|360.09|520772685|816a59f3-f5ae-4cc...|     computers|          notebook|                  null|2019|   11|        44|      305|        6|         1|   1|     0.0|              0|              1|            0|\n|2019-11-01 01:00:01|      view|   1306421|2053013558920217191|  computers.notebook|      hp|514.56|514028527|df8184cc-3694-454...|     computers|          notebook|                  null|2019|   11|        44|      305|        6|         1|   1|     0.0|              0|              1|            0|\n|2019-11-01 01:00:02|      view|  15900065|2053013558190408249|                null| rondell| 30.86|518574284|5e6ef132-4d7c-473...|          null|              null|                  null|2019|   11|        44|      305|        6|         1|   1|     0.0|              0|              1|            0|\n|2019-11-01 01:00:02|      view|  12708937|2053013553559896355|                null|michelin| 72.72|532364121|0a899268-31eb-46d...|          null|              null|                  null|2019|   11|        44|      305|        6|         1|   1|     0.0|              0|              1|            0|\n|2019-11-01 01:00:02|      view|   1004258|2053013555631882655|electronics.smart...|   apple|732.07|532647354|d2d3d2c6-631d-489...|   electronics|        smartphone|                  null|2019|   11|        44|      305|        6|         1|   1|     0.0|              0|              1|            0|\n|2019-11-01 01:00:03|      view|  17200570|2053013559792632471|furniture.living_...|    null|437.33|518780843|aa806835-b14c-45a...|     furniture|       living_room|                  sofa|2019|   11|        44|      305|        6|         1|   1|     0.0|              0|              1|            0|\n|2019-11-01 01:00:03|      view|   2701517|2053013563911439225|appliances.kitche...|    null|155.11|518427361|c89b0d96-247f-404...|    appliances|           kitchen|         refrigerators|2019|   11|        44|      305|        6|         1|   1|     0.0|              0|              1|            0|\n|2019-11-01 01:00:03|      view|  16700260|2053013559901684381|furniture.kitchen...|    null| 31.64|566255262|173d7b72-1db7-463...|     furniture|           kitchen|                 chair|2019|   11|        44|      305|        6|         1|   1|     0.0|              0|              1|            0|\n|2019-11-01 01:00:04|      view|  34600011|2060981320581906480|                null|    null| 20.54|512416379|4dfe2c67-e537-4dc...|          null|              null|                  null|2019|   11|        44|      305|        6|         1|   1|     0.0|              0|              1|            0|\n|2019-11-01 01:00:05|      view|   4600658|2053013563944993659|appliances.kitche...| samsung|411.83|526595547|aab33a9a-29c3-4d5...|    appliances|           kitchen|            dishwasher|2019|   11|        44|      305|        6|         1|   1|     0.0|              0|              1|            0|\n|2019-11-01 01:00:06|      view|  24900193|2053013562183385881|                null|    null|  1.09|512651494|f603c815-f51a-46f...|          null|              null|                  null|2019|   11|        44|      305|        6|         1|   1|     0.0|              0|              1|            0|\n|2019-11-01 01:00:07|      view|  27400066|2053013563391345499|                null|    null|  8.55|551061950|3f6112f1-5695-4e8...|          null|              null|                  null|2019|   11|        44|      305|        6|         1|   1|     0.0|              0|              1|            0|\n|2019-11-01 01:00:07|      view|   5100503|2053013553375346967|                null|  xiaomi| 22.68|520037415|f54fa96a-f3f2-43a...|          null|              null|                  null|2019|   11|        44|      305|        6|         1|   1|     0.0|              0|              1|            0|\n|2019-11-01 01:00:07|      view|   1004566|2053013555631882655|electronics.smart...|  huawei|164.84|566265908|52c2c76c-b79e-479...|   electronics|        smartphone|                  null|2019|   11|        44|      305|        6|         1|   1|     0.0|              0|              1|            0|\n|2019-11-01 01:00:08|      view|   1307115|2053013558920217191|  computers.notebook|      hp|411.59|514028527|df8184cc-3694-454...|     computers|          notebook|                  null|2019|   11|        44|      305|        6|         1|   1|     0.0|              0|              1|            0|\n+-------------------+----------+----------+-------------------+--------------------+--------+------+---------+--------------------+--------------+------------------+----------------------+----+-----+----------+---------+---------+----------+----+--------+---------------+---------------+-------------+\nonly showing top 20 rows\n\n"
     ]
    }
   ],
   "source": [
    "spark.sql(\"SELECT * FROM Data\").show()"
   ]
  },
  {
   "cell_type": "code",
   "execution_count": 98,
   "metadata": {},
   "outputs": [
    {
     "output_type": "stream",
     "name": "stdout",
     "text": [
      "+-----------------+--------------------+--------------------+------------------+\n|    sum(turnover)|sum(bougth_quantity)|sum(viewed_quantity)|sum(Cart_quantity)|\n+-----------------+--------------------+--------------------+------------------+\n|778.2199999999999|                   2|                 240|                 2|\n+-----------------+--------------------+--------------------+------------------+\n\n"
     ]
    }
   ],
   "source": [
    "sdf_count_turnover_quantity = spark.sql(\"SELECT SUM(turnover), SUM(bougth_quantity), SUM(viewed_quantity), SUM(Cart_quantity) \\\n",
    "                                        FROM Data\")\n",
    "sdf_count_turnover_quantity.show()"
   ]
  },
  {
   "cell_type": "markdown",
   "metadata": {
    "pycharm": {
     "name": "#%% md\n"
    }
   },
   "source": [
    "## Exploration and Analysis"
   ]
  },
  {
   "cell_type": "markdown",
   "metadata": {},
   "source": [
    "### Time Distribution"
   ]
  },
  {
   "source": [
    "#### Time and Events"
   ],
   "cell_type": "markdown",
   "metadata": {}
  },
  {
   "cell_type": "code",
   "execution_count": 31,
   "metadata": {},
   "outputs": [
    {
     "output_type": "display_data",
     "data": {
      "application/vnd.plotly.v1+json": {
       "config": {
        "plotlyServerURL": "https://plot.ly"
       },
       "data": [
        {
         "alignmentgroup": "True",
         "hovertemplate": "event_type=cart<br>dayofmonth=%{x}<br>cnt=%{y}<extra></extra>",
         "legendgroup": "cart",
         "marker": {
          "color": "#636efa"
         },
         "name": "cart",
         "offsetgroup": "cart",
         "orientation": "v",
         "showlegend": true,
         "textposition": "auto",
         "type": "bar",
         "x": [
          1,
          12
         ],
         "xaxis": "x",
         "y": [
          1,
          1
         ],
         "yaxis": "y"
        },
        {
         "alignmentgroup": "True",
         "hovertemplate": "event_type=purchase<br>dayofmonth=%{x}<br>cnt=%{y}<extra></extra>",
         "legendgroup": "purchase",
         "marker": {
          "color": "#EF553B"
         },
         "name": "purchase",
         "offsetgroup": "purchase",
         "orientation": "v",
         "showlegend": true,
         "textposition": "auto",
         "type": "bar",
         "x": [
          1
         ],
         "xaxis": "x",
         "y": [
          2
         ],
         "yaxis": "y"
        },
        {
         "alignmentgroup": "True",
         "hovertemplate": "event_type=view<br>dayofmonth=%{x}<br>cnt=%{y}<extra></extra>",
         "legendgroup": "view",
         "marker": {
          "color": "#00cc96"
         },
         "name": "view",
         "offsetgroup": "view",
         "orientation": "v",
         "showlegend": true,
         "textposition": "auto",
         "type": "bar",
         "x": [
          1,
          9,
          12
         ],
         "xaxis": "x",
         "y": [
          214,
          8,
          18
         ],
         "yaxis": "y"
        }
       ],
       "layout": {
        "barmode": "stack",
        "legend": {
         "title": {
          "text": "event_type"
         },
         "tracegroupgap": 0
        },
        "margin": {
         "t": 60
        },
        "template": {
         "data": {
          "bar": [
           {
            "error_x": {
             "color": "#2a3f5f"
            },
            "error_y": {
             "color": "#2a3f5f"
            },
            "marker": {
             "line": {
              "color": "#E5ECF6",
              "width": 0.5
             }
            },
            "type": "bar"
           }
          ],
          "barpolar": [
           {
            "marker": {
             "line": {
              "color": "#E5ECF6",
              "width": 0.5
             }
            },
            "type": "barpolar"
           }
          ],
          "carpet": [
           {
            "aaxis": {
             "endlinecolor": "#2a3f5f",
             "gridcolor": "white",
             "linecolor": "white",
             "minorgridcolor": "white",
             "startlinecolor": "#2a3f5f"
            },
            "baxis": {
             "endlinecolor": "#2a3f5f",
             "gridcolor": "white",
             "linecolor": "white",
             "minorgridcolor": "white",
             "startlinecolor": "#2a3f5f"
            },
            "type": "carpet"
           }
          ],
          "choropleth": [
           {
            "colorbar": {
             "outlinewidth": 0,
             "ticks": ""
            },
            "type": "choropleth"
           }
          ],
          "contour": [
           {
            "colorbar": {
             "outlinewidth": 0,
             "ticks": ""
            },
            "colorscale": [
             [
              0,
              "#0d0887"
             ],
             [
              0.1111111111111111,
              "#46039f"
             ],
             [
              0.2222222222222222,
              "#7201a8"
             ],
             [
              0.3333333333333333,
              "#9c179e"
             ],
             [
              0.4444444444444444,
              "#bd3786"
             ],
             [
              0.5555555555555556,
              "#d8576b"
             ],
             [
              0.6666666666666666,
              "#ed7953"
             ],
             [
              0.7777777777777778,
              "#fb9f3a"
             ],
             [
              0.8888888888888888,
              "#fdca26"
             ],
             [
              1,
              "#f0f921"
             ]
            ],
            "type": "contour"
           }
          ],
          "contourcarpet": [
           {
            "colorbar": {
             "outlinewidth": 0,
             "ticks": ""
            },
            "type": "contourcarpet"
           }
          ],
          "heatmap": [
           {
            "colorbar": {
             "outlinewidth": 0,
             "ticks": ""
            },
            "colorscale": [
             [
              0,
              "#0d0887"
             ],
             [
              0.1111111111111111,
              "#46039f"
             ],
             [
              0.2222222222222222,
              "#7201a8"
             ],
             [
              0.3333333333333333,
              "#9c179e"
             ],
             [
              0.4444444444444444,
              "#bd3786"
             ],
             [
              0.5555555555555556,
              "#d8576b"
             ],
             [
              0.6666666666666666,
              "#ed7953"
             ],
             [
              0.7777777777777778,
              "#fb9f3a"
             ],
             [
              0.8888888888888888,
              "#fdca26"
             ],
             [
              1,
              "#f0f921"
             ]
            ],
            "type": "heatmap"
           }
          ],
          "heatmapgl": [
           {
            "colorbar": {
             "outlinewidth": 0,
             "ticks": ""
            },
            "colorscale": [
             [
              0,
              "#0d0887"
             ],
             [
              0.1111111111111111,
              "#46039f"
             ],
             [
              0.2222222222222222,
              "#7201a8"
             ],
             [
              0.3333333333333333,
              "#9c179e"
             ],
             [
              0.4444444444444444,
              "#bd3786"
             ],
             [
              0.5555555555555556,
              "#d8576b"
             ],
             [
              0.6666666666666666,
              "#ed7953"
             ],
             [
              0.7777777777777778,
              "#fb9f3a"
             ],
             [
              0.8888888888888888,
              "#fdca26"
             ],
             [
              1,
              "#f0f921"
             ]
            ],
            "type": "heatmapgl"
           }
          ],
          "histogram": [
           {
            "marker": {
             "colorbar": {
              "outlinewidth": 0,
              "ticks": ""
             }
            },
            "type": "histogram"
           }
          ],
          "histogram2d": [
           {
            "colorbar": {
             "outlinewidth": 0,
             "ticks": ""
            },
            "colorscale": [
             [
              0,
              "#0d0887"
             ],
             [
              0.1111111111111111,
              "#46039f"
             ],
             [
              0.2222222222222222,
              "#7201a8"
             ],
             [
              0.3333333333333333,
              "#9c179e"
             ],
             [
              0.4444444444444444,
              "#bd3786"
             ],
             [
              0.5555555555555556,
              "#d8576b"
             ],
             [
              0.6666666666666666,
              "#ed7953"
             ],
             [
              0.7777777777777778,
              "#fb9f3a"
             ],
             [
              0.8888888888888888,
              "#fdca26"
             ],
             [
              1,
              "#f0f921"
             ]
            ],
            "type": "histogram2d"
           }
          ],
          "histogram2dcontour": [
           {
            "colorbar": {
             "outlinewidth": 0,
             "ticks": ""
            },
            "colorscale": [
             [
              0,
              "#0d0887"
             ],
             [
              0.1111111111111111,
              "#46039f"
             ],
             [
              0.2222222222222222,
              "#7201a8"
             ],
             [
              0.3333333333333333,
              "#9c179e"
             ],
             [
              0.4444444444444444,
              "#bd3786"
             ],
             [
              0.5555555555555556,
              "#d8576b"
             ],
             [
              0.6666666666666666,
              "#ed7953"
             ],
             [
              0.7777777777777778,
              "#fb9f3a"
             ],
             [
              0.8888888888888888,
              "#fdca26"
             ],
             [
              1,
              "#f0f921"
             ]
            ],
            "type": "histogram2dcontour"
           }
          ],
          "mesh3d": [
           {
            "colorbar": {
             "outlinewidth": 0,
             "ticks": ""
            },
            "type": "mesh3d"
           }
          ],
          "parcoords": [
           {
            "line": {
             "colorbar": {
              "outlinewidth": 0,
              "ticks": ""
             }
            },
            "type": "parcoords"
           }
          ],
          "pie": [
           {
            "automargin": true,
            "type": "pie"
           }
          ],
          "scatter": [
           {
            "marker": {
             "colorbar": {
              "outlinewidth": 0,
              "ticks": ""
             }
            },
            "type": "scatter"
           }
          ],
          "scatter3d": [
           {
            "line": {
             "colorbar": {
              "outlinewidth": 0,
              "ticks": ""
             }
            },
            "marker": {
             "colorbar": {
              "outlinewidth": 0,
              "ticks": ""
             }
            },
            "type": "scatter3d"
           }
          ],
          "scattercarpet": [
           {
            "marker": {
             "colorbar": {
              "outlinewidth": 0,
              "ticks": ""
             }
            },
            "type": "scattercarpet"
           }
          ],
          "scattergeo": [
           {
            "marker": {
             "colorbar": {
              "outlinewidth": 0,
              "ticks": ""
             }
            },
            "type": "scattergeo"
           }
          ],
          "scattergl": [
           {
            "marker": {
             "colorbar": {
              "outlinewidth": 0,
              "ticks": ""
             }
            },
            "type": "scattergl"
           }
          ],
          "scattermapbox": [
           {
            "marker": {
             "colorbar": {
              "outlinewidth": 0,
              "ticks": ""
             }
            },
            "type": "scattermapbox"
           }
          ],
          "scatterpolar": [
           {
            "marker": {
             "colorbar": {
              "outlinewidth": 0,
              "ticks": ""
             }
            },
            "type": "scatterpolar"
           }
          ],
          "scatterpolargl": [
           {
            "marker": {
             "colorbar": {
              "outlinewidth": 0,
              "ticks": ""
             }
            },
            "type": "scatterpolargl"
           }
          ],
          "scatterternary": [
           {
            "marker": {
             "colorbar": {
              "outlinewidth": 0,
              "ticks": ""
             }
            },
            "type": "scatterternary"
           }
          ],
          "surface": [
           {
            "colorbar": {
             "outlinewidth": 0,
             "ticks": ""
            },
            "colorscale": [
             [
              0,
              "#0d0887"
             ],
             [
              0.1111111111111111,
              "#46039f"
             ],
             [
              0.2222222222222222,
              "#7201a8"
             ],
             [
              0.3333333333333333,
              "#9c179e"
             ],
             [
              0.4444444444444444,
              "#bd3786"
             ],
             [
              0.5555555555555556,
              "#d8576b"
             ],
             [
              0.6666666666666666,
              "#ed7953"
             ],
             [
              0.7777777777777778,
              "#fb9f3a"
             ],
             [
              0.8888888888888888,
              "#fdca26"
             ],
             [
              1,
              "#f0f921"
             ]
            ],
            "type": "surface"
           }
          ],
          "table": [
           {
            "cells": {
             "fill": {
              "color": "#EBF0F8"
             },
             "line": {
              "color": "white"
             }
            },
            "header": {
             "fill": {
              "color": "#C8D4E3"
             },
             "line": {
              "color": "white"
             }
            },
            "type": "table"
           }
          ]
         },
         "layout": {
          "annotationdefaults": {
           "arrowcolor": "#2a3f5f",
           "arrowhead": 0,
           "arrowwidth": 1
          },
          "autotypenumbers": "strict",
          "coloraxis": {
           "colorbar": {
            "outlinewidth": 0,
            "ticks": ""
           }
          },
          "colorscale": {
           "diverging": [
            [
             0,
             "#8e0152"
            ],
            [
             0.1,
             "#c51b7d"
            ],
            [
             0.2,
             "#de77ae"
            ],
            [
             0.3,
             "#f1b6da"
            ],
            [
             0.4,
             "#fde0ef"
            ],
            [
             0.5,
             "#f7f7f7"
            ],
            [
             0.6,
             "#e6f5d0"
            ],
            [
             0.7,
             "#b8e186"
            ],
            [
             0.8,
             "#7fbc41"
            ],
            [
             0.9,
             "#4d9221"
            ],
            [
             1,
             "#276419"
            ]
           ],
           "sequential": [
            [
             0,
             "#0d0887"
            ],
            [
             0.1111111111111111,
             "#46039f"
            ],
            [
             0.2222222222222222,
             "#7201a8"
            ],
            [
             0.3333333333333333,
             "#9c179e"
            ],
            [
             0.4444444444444444,
             "#bd3786"
            ],
            [
             0.5555555555555556,
             "#d8576b"
            ],
            [
             0.6666666666666666,
             "#ed7953"
            ],
            [
             0.7777777777777778,
             "#fb9f3a"
            ],
            [
             0.8888888888888888,
             "#fdca26"
            ],
            [
             1,
             "#f0f921"
            ]
           ],
           "sequentialminus": [
            [
             0,
             "#0d0887"
            ],
            [
             0.1111111111111111,
             "#46039f"
            ],
            [
             0.2222222222222222,
             "#7201a8"
            ],
            [
             0.3333333333333333,
             "#9c179e"
            ],
            [
             0.4444444444444444,
             "#bd3786"
            ],
            [
             0.5555555555555556,
             "#d8576b"
            ],
            [
             0.6666666666666666,
             "#ed7953"
            ],
            [
             0.7777777777777778,
             "#fb9f3a"
            ],
            [
             0.8888888888888888,
             "#fdca26"
            ],
            [
             1,
             "#f0f921"
            ]
           ]
          },
          "colorway": [
           "#636efa",
           "#EF553B",
           "#00cc96",
           "#ab63fa",
           "#FFA15A",
           "#19d3f3",
           "#FF6692",
           "#B6E880",
           "#FF97FF",
           "#FECB52"
          ],
          "font": {
           "color": "#2a3f5f"
          },
          "geo": {
           "bgcolor": "white",
           "lakecolor": "white",
           "landcolor": "#E5ECF6",
           "showlakes": true,
           "showland": true,
           "subunitcolor": "white"
          },
          "hoverlabel": {
           "align": "left"
          },
          "hovermode": "closest",
          "mapbox": {
           "style": "light"
          },
          "paper_bgcolor": "white",
          "plot_bgcolor": "#E5ECF6",
          "polar": {
           "angularaxis": {
            "gridcolor": "white",
            "linecolor": "white",
            "ticks": ""
           },
           "bgcolor": "#E5ECF6",
           "radialaxis": {
            "gridcolor": "white",
            "linecolor": "white",
            "ticks": ""
           }
          },
          "scene": {
           "xaxis": {
            "backgroundcolor": "#E5ECF6",
            "gridcolor": "white",
            "gridwidth": 2,
            "linecolor": "white",
            "showbackground": true,
            "ticks": "",
            "zerolinecolor": "white"
           },
           "yaxis": {
            "backgroundcolor": "#E5ECF6",
            "gridcolor": "white",
            "gridwidth": 2,
            "linecolor": "white",
            "showbackground": true,
            "ticks": "",
            "zerolinecolor": "white"
           },
           "zaxis": {
            "backgroundcolor": "#E5ECF6",
            "gridcolor": "white",
            "gridwidth": 2,
            "linecolor": "white",
            "showbackground": true,
            "ticks": "",
            "zerolinecolor": "white"
           }
          },
          "shapedefaults": {
           "line": {
            "color": "#2a3f5f"
           }
          },
          "ternary": {
           "aaxis": {
            "gridcolor": "white",
            "linecolor": "white",
            "ticks": ""
           },
           "baxis": {
            "gridcolor": "white",
            "linecolor": "white",
            "ticks": ""
           },
           "bgcolor": "#E5ECF6",
           "caxis": {
            "gridcolor": "white",
            "linecolor": "white",
            "ticks": ""
           }
          },
          "title": {
           "x": 0.05
          },
          "xaxis": {
           "automargin": true,
           "gridcolor": "white",
           "linecolor": "white",
           "ticks": "",
           "title": {
            "standoff": 15
           },
           "zerolinecolor": "white",
           "zerolinewidth": 2
          },
          "yaxis": {
           "automargin": true,
           "gridcolor": "white",
           "linecolor": "white",
           "ticks": "",
           "title": {
            "standoff": 15
           },
           "zerolinecolor": "white",
           "zerolinewidth": 2
          }
         }
        },
        "title": {
         "text": "Number of events over a month"
        },
        "xaxis": {
         "anchor": "y",
         "domain": [
          0,
          1
         ],
         "title": {
          "text": "Day of Month"
         },
         "type": "category"
        },
        "yaxis": {
         "anchor": "x",
         "domain": [
          0,
          1
         ],
         "title": {
          "text": "Number of Events"
         }
        }
       }
      }
     },
     "metadata": {}
    }
   ],
   "source": [
    "# Timestamp Distribution (per event_type) over every day of month\n",
    "\n",
    "df = sdf_time_dist_month.toPandas()\n",
    "\n",
    "fig = px.bar(df, x = 'dayofmonth', y = 'cnt', color ='event_type', barmode = 'stack')\n",
    "\n",
    "fig.update_layout(title = \"Number of events over a month\",\n",
    "     xaxis_title = 'Day of Month', yaxis_title = 'Number of Events')\n",
    "fig.update_xaxes(type=\"category\")\n",
    "fig.show()"
   ]
  },
  {
   "cell_type": "code",
   "execution_count": 32,
   "metadata": {},
   "outputs": [
    {
     "output_type": "display_data",
     "data": {
      "application/vnd.plotly.v1+json": {
       "config": {
        "plotlyServerURL": "https://plot.ly"
       },
       "data": [
        {
         "alignmentgroup": "True",
         "hovertemplate": "event_type=cart<br>dayofweek=%{x}<br>cnt=%{y}<extra></extra>",
         "legendgroup": "cart",
         "marker": {
          "color": "#636efa"
         },
         "name": "cart",
         "offsetgroup": "cart",
         "orientation": "v",
         "showlegend": true,
         "textposition": "auto",
         "type": "bar",
         "x": [
          3,
          6
         ],
         "xaxis": "x",
         "y": [
          1,
          1
         ],
         "yaxis": "y"
        },
        {
         "alignmentgroup": "True",
         "hovertemplate": "event_type=view<br>dayofweek=%{x}<br>cnt=%{y}<extra></extra>",
         "legendgroup": "view",
         "marker": {
          "color": "#EF553B"
         },
         "name": "view",
         "offsetgroup": "view",
         "orientation": "v",
         "showlegend": true,
         "textposition": "auto",
         "type": "bar",
         "x": [
          3,
          4,
          6
         ],
         "xaxis": "x",
         "y": [
          18,
          8,
          214
         ],
         "yaxis": "y"
        },
        {
         "alignmentgroup": "True",
         "hovertemplate": "event_type=purchase<br>dayofweek=%{x}<br>cnt=%{y}<extra></extra>",
         "legendgroup": "purchase",
         "marker": {
          "color": "#00cc96"
         },
         "name": "purchase",
         "offsetgroup": "purchase",
         "orientation": "v",
         "showlegend": true,
         "textposition": "auto",
         "type": "bar",
         "x": [
          6
         ],
         "xaxis": "x",
         "y": [
          2
         ],
         "yaxis": "y"
        }
       ],
       "layout": {
        "barmode": "stack",
        "legend": {
         "title": {
          "text": "event_type"
         },
         "tracegroupgap": 0
        },
        "margin": {
         "t": 60
        },
        "template": {
         "data": {
          "bar": [
           {
            "error_x": {
             "color": "#2a3f5f"
            },
            "error_y": {
             "color": "#2a3f5f"
            },
            "marker": {
             "line": {
              "color": "#E5ECF6",
              "width": 0.5
             }
            },
            "type": "bar"
           }
          ],
          "barpolar": [
           {
            "marker": {
             "line": {
              "color": "#E5ECF6",
              "width": 0.5
             }
            },
            "type": "barpolar"
           }
          ],
          "carpet": [
           {
            "aaxis": {
             "endlinecolor": "#2a3f5f",
             "gridcolor": "white",
             "linecolor": "white",
             "minorgridcolor": "white",
             "startlinecolor": "#2a3f5f"
            },
            "baxis": {
             "endlinecolor": "#2a3f5f",
             "gridcolor": "white",
             "linecolor": "white",
             "minorgridcolor": "white",
             "startlinecolor": "#2a3f5f"
            },
            "type": "carpet"
           }
          ],
          "choropleth": [
           {
            "colorbar": {
             "outlinewidth": 0,
             "ticks": ""
            },
            "type": "choropleth"
           }
          ],
          "contour": [
           {
            "colorbar": {
             "outlinewidth": 0,
             "ticks": ""
            },
            "colorscale": [
             [
              0,
              "#0d0887"
             ],
             [
              0.1111111111111111,
              "#46039f"
             ],
             [
              0.2222222222222222,
              "#7201a8"
             ],
             [
              0.3333333333333333,
              "#9c179e"
             ],
             [
              0.4444444444444444,
              "#bd3786"
             ],
             [
              0.5555555555555556,
              "#d8576b"
             ],
             [
              0.6666666666666666,
              "#ed7953"
             ],
             [
              0.7777777777777778,
              "#fb9f3a"
             ],
             [
              0.8888888888888888,
              "#fdca26"
             ],
             [
              1,
              "#f0f921"
             ]
            ],
            "type": "contour"
           }
          ],
          "contourcarpet": [
           {
            "colorbar": {
             "outlinewidth": 0,
             "ticks": ""
            },
            "type": "contourcarpet"
           }
          ],
          "heatmap": [
           {
            "colorbar": {
             "outlinewidth": 0,
             "ticks": ""
            },
            "colorscale": [
             [
              0,
              "#0d0887"
             ],
             [
              0.1111111111111111,
              "#46039f"
             ],
             [
              0.2222222222222222,
              "#7201a8"
             ],
             [
              0.3333333333333333,
              "#9c179e"
             ],
             [
              0.4444444444444444,
              "#bd3786"
             ],
             [
              0.5555555555555556,
              "#d8576b"
             ],
             [
              0.6666666666666666,
              "#ed7953"
             ],
             [
              0.7777777777777778,
              "#fb9f3a"
             ],
             [
              0.8888888888888888,
              "#fdca26"
             ],
             [
              1,
              "#f0f921"
             ]
            ],
            "type": "heatmap"
           }
          ],
          "heatmapgl": [
           {
            "colorbar": {
             "outlinewidth": 0,
             "ticks": ""
            },
            "colorscale": [
             [
              0,
              "#0d0887"
             ],
             [
              0.1111111111111111,
              "#46039f"
             ],
             [
              0.2222222222222222,
              "#7201a8"
             ],
             [
              0.3333333333333333,
              "#9c179e"
             ],
             [
              0.4444444444444444,
              "#bd3786"
             ],
             [
              0.5555555555555556,
              "#d8576b"
             ],
             [
              0.6666666666666666,
              "#ed7953"
             ],
             [
              0.7777777777777778,
              "#fb9f3a"
             ],
             [
              0.8888888888888888,
              "#fdca26"
             ],
             [
              1,
              "#f0f921"
             ]
            ],
            "type": "heatmapgl"
           }
          ],
          "histogram": [
           {
            "marker": {
             "colorbar": {
              "outlinewidth": 0,
              "ticks": ""
             }
            },
            "type": "histogram"
           }
          ],
          "histogram2d": [
           {
            "colorbar": {
             "outlinewidth": 0,
             "ticks": ""
            },
            "colorscale": [
             [
              0,
              "#0d0887"
             ],
             [
              0.1111111111111111,
              "#46039f"
             ],
             [
              0.2222222222222222,
              "#7201a8"
             ],
             [
              0.3333333333333333,
              "#9c179e"
             ],
             [
              0.4444444444444444,
              "#bd3786"
             ],
             [
              0.5555555555555556,
              "#d8576b"
             ],
             [
              0.6666666666666666,
              "#ed7953"
             ],
             [
              0.7777777777777778,
              "#fb9f3a"
             ],
             [
              0.8888888888888888,
              "#fdca26"
             ],
             [
              1,
              "#f0f921"
             ]
            ],
            "type": "histogram2d"
           }
          ],
          "histogram2dcontour": [
           {
            "colorbar": {
             "outlinewidth": 0,
             "ticks": ""
            },
            "colorscale": [
             [
              0,
              "#0d0887"
             ],
             [
              0.1111111111111111,
              "#46039f"
             ],
             [
              0.2222222222222222,
              "#7201a8"
             ],
             [
              0.3333333333333333,
              "#9c179e"
             ],
             [
              0.4444444444444444,
              "#bd3786"
             ],
             [
              0.5555555555555556,
              "#d8576b"
             ],
             [
              0.6666666666666666,
              "#ed7953"
             ],
             [
              0.7777777777777778,
              "#fb9f3a"
             ],
             [
              0.8888888888888888,
              "#fdca26"
             ],
             [
              1,
              "#f0f921"
             ]
            ],
            "type": "histogram2dcontour"
           }
          ],
          "mesh3d": [
           {
            "colorbar": {
             "outlinewidth": 0,
             "ticks": ""
            },
            "type": "mesh3d"
           }
          ],
          "parcoords": [
           {
            "line": {
             "colorbar": {
              "outlinewidth": 0,
              "ticks": ""
             }
            },
            "type": "parcoords"
           }
          ],
          "pie": [
           {
            "automargin": true,
            "type": "pie"
           }
          ],
          "scatter": [
           {
            "marker": {
             "colorbar": {
              "outlinewidth": 0,
              "ticks": ""
             }
            },
            "type": "scatter"
           }
          ],
          "scatter3d": [
           {
            "line": {
             "colorbar": {
              "outlinewidth": 0,
              "ticks": ""
             }
            },
            "marker": {
             "colorbar": {
              "outlinewidth": 0,
              "ticks": ""
             }
            },
            "type": "scatter3d"
           }
          ],
          "scattercarpet": [
           {
            "marker": {
             "colorbar": {
              "outlinewidth": 0,
              "ticks": ""
             }
            },
            "type": "scattercarpet"
           }
          ],
          "scattergeo": [
           {
            "marker": {
             "colorbar": {
              "outlinewidth": 0,
              "ticks": ""
             }
            },
            "type": "scattergeo"
           }
          ],
          "scattergl": [
           {
            "marker": {
             "colorbar": {
              "outlinewidth": 0,
              "ticks": ""
             }
            },
            "type": "scattergl"
           }
          ],
          "scattermapbox": [
           {
            "marker": {
             "colorbar": {
              "outlinewidth": 0,
              "ticks": ""
             }
            },
            "type": "scattermapbox"
           }
          ],
          "scatterpolar": [
           {
            "marker": {
             "colorbar": {
              "outlinewidth": 0,
              "ticks": ""
             }
            },
            "type": "scatterpolar"
           }
          ],
          "scatterpolargl": [
           {
            "marker": {
             "colorbar": {
              "outlinewidth": 0,
              "ticks": ""
             }
            },
            "type": "scatterpolargl"
           }
          ],
          "scatterternary": [
           {
            "marker": {
             "colorbar": {
              "outlinewidth": 0,
              "ticks": ""
             }
            },
            "type": "scatterternary"
           }
          ],
          "surface": [
           {
            "colorbar": {
             "outlinewidth": 0,
             "ticks": ""
            },
            "colorscale": [
             [
              0,
              "#0d0887"
             ],
             [
              0.1111111111111111,
              "#46039f"
             ],
             [
              0.2222222222222222,
              "#7201a8"
             ],
             [
              0.3333333333333333,
              "#9c179e"
             ],
             [
              0.4444444444444444,
              "#bd3786"
             ],
             [
              0.5555555555555556,
              "#d8576b"
             ],
             [
              0.6666666666666666,
              "#ed7953"
             ],
             [
              0.7777777777777778,
              "#fb9f3a"
             ],
             [
              0.8888888888888888,
              "#fdca26"
             ],
             [
              1,
              "#f0f921"
             ]
            ],
            "type": "surface"
           }
          ],
          "table": [
           {
            "cells": {
             "fill": {
              "color": "#EBF0F8"
             },
             "line": {
              "color": "white"
             }
            },
            "header": {
             "fill": {
              "color": "#C8D4E3"
             },
             "line": {
              "color": "white"
             }
            },
            "type": "table"
           }
          ]
         },
         "layout": {
          "annotationdefaults": {
           "arrowcolor": "#2a3f5f",
           "arrowhead": 0,
           "arrowwidth": 1
          },
          "autotypenumbers": "strict",
          "coloraxis": {
           "colorbar": {
            "outlinewidth": 0,
            "ticks": ""
           }
          },
          "colorscale": {
           "diverging": [
            [
             0,
             "#8e0152"
            ],
            [
             0.1,
             "#c51b7d"
            ],
            [
             0.2,
             "#de77ae"
            ],
            [
             0.3,
             "#f1b6da"
            ],
            [
             0.4,
             "#fde0ef"
            ],
            [
             0.5,
             "#f7f7f7"
            ],
            [
             0.6,
             "#e6f5d0"
            ],
            [
             0.7,
             "#b8e186"
            ],
            [
             0.8,
             "#7fbc41"
            ],
            [
             0.9,
             "#4d9221"
            ],
            [
             1,
             "#276419"
            ]
           ],
           "sequential": [
            [
             0,
             "#0d0887"
            ],
            [
             0.1111111111111111,
             "#46039f"
            ],
            [
             0.2222222222222222,
             "#7201a8"
            ],
            [
             0.3333333333333333,
             "#9c179e"
            ],
            [
             0.4444444444444444,
             "#bd3786"
            ],
            [
             0.5555555555555556,
             "#d8576b"
            ],
            [
             0.6666666666666666,
             "#ed7953"
            ],
            [
             0.7777777777777778,
             "#fb9f3a"
            ],
            [
             0.8888888888888888,
             "#fdca26"
            ],
            [
             1,
             "#f0f921"
            ]
           ],
           "sequentialminus": [
            [
             0,
             "#0d0887"
            ],
            [
             0.1111111111111111,
             "#46039f"
            ],
            [
             0.2222222222222222,
             "#7201a8"
            ],
            [
             0.3333333333333333,
             "#9c179e"
            ],
            [
             0.4444444444444444,
             "#bd3786"
            ],
            [
             0.5555555555555556,
             "#d8576b"
            ],
            [
             0.6666666666666666,
             "#ed7953"
            ],
            [
             0.7777777777777778,
             "#fb9f3a"
            ],
            [
             0.8888888888888888,
             "#fdca26"
            ],
            [
             1,
             "#f0f921"
            ]
           ]
          },
          "colorway": [
           "#636efa",
           "#EF553B",
           "#00cc96",
           "#ab63fa",
           "#FFA15A",
           "#19d3f3",
           "#FF6692",
           "#B6E880",
           "#FF97FF",
           "#FECB52"
          ],
          "font": {
           "color": "#2a3f5f"
          },
          "geo": {
           "bgcolor": "white",
           "lakecolor": "white",
           "landcolor": "#E5ECF6",
           "showlakes": true,
           "showland": true,
           "subunitcolor": "white"
          },
          "hoverlabel": {
           "align": "left"
          },
          "hovermode": "closest",
          "mapbox": {
           "style": "light"
          },
          "paper_bgcolor": "white",
          "plot_bgcolor": "#E5ECF6",
          "polar": {
           "angularaxis": {
            "gridcolor": "white",
            "linecolor": "white",
            "ticks": ""
           },
           "bgcolor": "#E5ECF6",
           "radialaxis": {
            "gridcolor": "white",
            "linecolor": "white",
            "ticks": ""
           }
          },
          "scene": {
           "xaxis": {
            "backgroundcolor": "#E5ECF6",
            "gridcolor": "white",
            "gridwidth": 2,
            "linecolor": "white",
            "showbackground": true,
            "ticks": "",
            "zerolinecolor": "white"
           },
           "yaxis": {
            "backgroundcolor": "#E5ECF6",
            "gridcolor": "white",
            "gridwidth": 2,
            "linecolor": "white",
            "showbackground": true,
            "ticks": "",
            "zerolinecolor": "white"
           },
           "zaxis": {
            "backgroundcolor": "#E5ECF6",
            "gridcolor": "white",
            "gridwidth": 2,
            "linecolor": "white",
            "showbackground": true,
            "ticks": "",
            "zerolinecolor": "white"
           }
          },
          "shapedefaults": {
           "line": {
            "color": "#2a3f5f"
           }
          },
          "ternary": {
           "aaxis": {
            "gridcolor": "white",
            "linecolor": "white",
            "ticks": ""
           },
           "baxis": {
            "gridcolor": "white",
            "linecolor": "white",
            "ticks": ""
           },
           "bgcolor": "#E5ECF6",
           "caxis": {
            "gridcolor": "white",
            "linecolor": "white",
            "ticks": ""
           }
          },
          "title": {
           "x": 0.05
          },
          "xaxis": {
           "automargin": true,
           "gridcolor": "white",
           "linecolor": "white",
           "ticks": "",
           "title": {
            "standoff": 15
           },
           "zerolinecolor": "white",
           "zerolinewidth": 2
          },
          "yaxis": {
           "automargin": true,
           "gridcolor": "white",
           "linecolor": "white",
           "ticks": "",
           "title": {
            "standoff": 15
           },
           "zerolinecolor": "white",
           "zerolinewidth": 2
          }
         }
        },
        "title": {
         "text": "Number of events over a week"
        },
        "xaxis": {
         "anchor": "y",
         "domain": [
          0,
          1
         ],
         "title": {
          "text": "Day of Week"
         },
         "type": "category"
        },
        "yaxis": {
         "anchor": "x",
         "domain": [
          0,
          1
         ],
         "title": {
          "text": "Number of Events"
         }
        }
       }
      }
     },
     "metadata": {}
    }
   ],
   "source": [
    "# Timestamp Distribution (per event_type) over every day of week\n",
    "\n",
    "df = sdf_time_dist_week.toPandas()\n",
    "\n",
    "fig = px.bar(df, x = 'dayofweek', y = 'cnt', color ='event_type', barmode = 'stack')\n",
    "\n",
    "fig.update_layout(title = \"Number of events over a week\",\n",
    "     xaxis_title = 'Day of Week', yaxis_title = 'Number of Events')\n",
    "fig.update_xaxes(type=\"category\")\n",
    "fig.show()"
   ]
  },
  {
   "cell_type": "code",
   "execution_count": 33,
   "metadata": {},
   "outputs": [
    {
     "output_type": "display_data",
     "data": {
      "application/vnd.plotly.v1+json": {
       "config": {
        "plotlyServerURL": "https://plot.ly"
       },
       "data": [
        {
         "alignmentgroup": "True",
         "hovertemplate": "event_type=cart<br>hour=%{x}<br>cnt=%{y}<extra></extra>",
         "legendgroup": "cart",
         "marker": {
          "color": "#636efa"
         },
         "name": "cart",
         "offsetgroup": "cart",
         "orientation": "v",
         "showlegend": true,
         "textposition": "auto",
         "type": "bar",
         "x": [
          1,
          2
         ],
         "xaxis": "x",
         "y": [
          1,
          1
         ],
         "yaxis": "y"
        },
        {
         "alignmentgroup": "True",
         "hovertemplate": "event_type=purchase<br>hour=%{x}<br>cnt=%{y}<extra></extra>",
         "legendgroup": "purchase",
         "marker": {
          "color": "#EF553B"
         },
         "name": "purchase",
         "offsetgroup": "purchase",
         "orientation": "v",
         "showlegend": true,
         "textposition": "auto",
         "type": "bar",
         "x": [
          1
         ],
         "xaxis": "x",
         "y": [
          2
         ],
         "yaxis": "y"
        },
        {
         "alignmentgroup": "True",
         "hovertemplate": "event_type=view<br>hour=%{x}<br>cnt=%{y}<extra></extra>",
         "legendgroup": "view",
         "marker": {
          "color": "#00cc96"
         },
         "name": "view",
         "offsetgroup": "view",
         "orientation": "v",
         "showlegend": true,
         "textposition": "auto",
         "type": "bar",
         "x": [
          1,
          2,
          16
         ],
         "xaxis": "x",
         "y": [
          214,
          18,
          8
         ],
         "yaxis": "y"
        }
       ],
       "layout": {
        "barmode": "stack",
        "legend": {
         "title": {
          "text": "event_type"
         },
         "tracegroupgap": 0
        },
        "margin": {
         "t": 60
        },
        "template": {
         "data": {
          "bar": [
           {
            "error_x": {
             "color": "#2a3f5f"
            },
            "error_y": {
             "color": "#2a3f5f"
            },
            "marker": {
             "line": {
              "color": "#E5ECF6",
              "width": 0.5
             }
            },
            "type": "bar"
           }
          ],
          "barpolar": [
           {
            "marker": {
             "line": {
              "color": "#E5ECF6",
              "width": 0.5
             }
            },
            "type": "barpolar"
           }
          ],
          "carpet": [
           {
            "aaxis": {
             "endlinecolor": "#2a3f5f",
             "gridcolor": "white",
             "linecolor": "white",
             "minorgridcolor": "white",
             "startlinecolor": "#2a3f5f"
            },
            "baxis": {
             "endlinecolor": "#2a3f5f",
             "gridcolor": "white",
             "linecolor": "white",
             "minorgridcolor": "white",
             "startlinecolor": "#2a3f5f"
            },
            "type": "carpet"
           }
          ],
          "choropleth": [
           {
            "colorbar": {
             "outlinewidth": 0,
             "ticks": ""
            },
            "type": "choropleth"
           }
          ],
          "contour": [
           {
            "colorbar": {
             "outlinewidth": 0,
             "ticks": ""
            },
            "colorscale": [
             [
              0,
              "#0d0887"
             ],
             [
              0.1111111111111111,
              "#46039f"
             ],
             [
              0.2222222222222222,
              "#7201a8"
             ],
             [
              0.3333333333333333,
              "#9c179e"
             ],
             [
              0.4444444444444444,
              "#bd3786"
             ],
             [
              0.5555555555555556,
              "#d8576b"
             ],
             [
              0.6666666666666666,
              "#ed7953"
             ],
             [
              0.7777777777777778,
              "#fb9f3a"
             ],
             [
              0.8888888888888888,
              "#fdca26"
             ],
             [
              1,
              "#f0f921"
             ]
            ],
            "type": "contour"
           }
          ],
          "contourcarpet": [
           {
            "colorbar": {
             "outlinewidth": 0,
             "ticks": ""
            },
            "type": "contourcarpet"
           }
          ],
          "heatmap": [
           {
            "colorbar": {
             "outlinewidth": 0,
             "ticks": ""
            },
            "colorscale": [
             [
              0,
              "#0d0887"
             ],
             [
              0.1111111111111111,
              "#46039f"
             ],
             [
              0.2222222222222222,
              "#7201a8"
             ],
             [
              0.3333333333333333,
              "#9c179e"
             ],
             [
              0.4444444444444444,
              "#bd3786"
             ],
             [
              0.5555555555555556,
              "#d8576b"
             ],
             [
              0.6666666666666666,
              "#ed7953"
             ],
             [
              0.7777777777777778,
              "#fb9f3a"
             ],
             [
              0.8888888888888888,
              "#fdca26"
             ],
             [
              1,
              "#f0f921"
             ]
            ],
            "type": "heatmap"
           }
          ],
          "heatmapgl": [
           {
            "colorbar": {
             "outlinewidth": 0,
             "ticks": ""
            },
            "colorscale": [
             [
              0,
              "#0d0887"
             ],
             [
              0.1111111111111111,
              "#46039f"
             ],
             [
              0.2222222222222222,
              "#7201a8"
             ],
             [
              0.3333333333333333,
              "#9c179e"
             ],
             [
              0.4444444444444444,
              "#bd3786"
             ],
             [
              0.5555555555555556,
              "#d8576b"
             ],
             [
              0.6666666666666666,
              "#ed7953"
             ],
             [
              0.7777777777777778,
              "#fb9f3a"
             ],
             [
              0.8888888888888888,
              "#fdca26"
             ],
             [
              1,
              "#f0f921"
             ]
            ],
            "type": "heatmapgl"
           }
          ],
          "histogram": [
           {
            "marker": {
             "colorbar": {
              "outlinewidth": 0,
              "ticks": ""
             }
            },
            "type": "histogram"
           }
          ],
          "histogram2d": [
           {
            "colorbar": {
             "outlinewidth": 0,
             "ticks": ""
            },
            "colorscale": [
             [
              0,
              "#0d0887"
             ],
             [
              0.1111111111111111,
              "#46039f"
             ],
             [
              0.2222222222222222,
              "#7201a8"
             ],
             [
              0.3333333333333333,
              "#9c179e"
             ],
             [
              0.4444444444444444,
              "#bd3786"
             ],
             [
              0.5555555555555556,
              "#d8576b"
             ],
             [
              0.6666666666666666,
              "#ed7953"
             ],
             [
              0.7777777777777778,
              "#fb9f3a"
             ],
             [
              0.8888888888888888,
              "#fdca26"
             ],
             [
              1,
              "#f0f921"
             ]
            ],
            "type": "histogram2d"
           }
          ],
          "histogram2dcontour": [
           {
            "colorbar": {
             "outlinewidth": 0,
             "ticks": ""
            },
            "colorscale": [
             [
              0,
              "#0d0887"
             ],
             [
              0.1111111111111111,
              "#46039f"
             ],
             [
              0.2222222222222222,
              "#7201a8"
             ],
             [
              0.3333333333333333,
              "#9c179e"
             ],
             [
              0.4444444444444444,
              "#bd3786"
             ],
             [
              0.5555555555555556,
              "#d8576b"
             ],
             [
              0.6666666666666666,
              "#ed7953"
             ],
             [
              0.7777777777777778,
              "#fb9f3a"
             ],
             [
              0.8888888888888888,
              "#fdca26"
             ],
             [
              1,
              "#f0f921"
             ]
            ],
            "type": "histogram2dcontour"
           }
          ],
          "mesh3d": [
           {
            "colorbar": {
             "outlinewidth": 0,
             "ticks": ""
            },
            "type": "mesh3d"
           }
          ],
          "parcoords": [
           {
            "line": {
             "colorbar": {
              "outlinewidth": 0,
              "ticks": ""
             }
            },
            "type": "parcoords"
           }
          ],
          "pie": [
           {
            "automargin": true,
            "type": "pie"
           }
          ],
          "scatter": [
           {
            "marker": {
             "colorbar": {
              "outlinewidth": 0,
              "ticks": ""
             }
            },
            "type": "scatter"
           }
          ],
          "scatter3d": [
           {
            "line": {
             "colorbar": {
              "outlinewidth": 0,
              "ticks": ""
             }
            },
            "marker": {
             "colorbar": {
              "outlinewidth": 0,
              "ticks": ""
             }
            },
            "type": "scatter3d"
           }
          ],
          "scattercarpet": [
           {
            "marker": {
             "colorbar": {
              "outlinewidth": 0,
              "ticks": ""
             }
            },
            "type": "scattercarpet"
           }
          ],
          "scattergeo": [
           {
            "marker": {
             "colorbar": {
              "outlinewidth": 0,
              "ticks": ""
             }
            },
            "type": "scattergeo"
           }
          ],
          "scattergl": [
           {
            "marker": {
             "colorbar": {
              "outlinewidth": 0,
              "ticks": ""
             }
            },
            "type": "scattergl"
           }
          ],
          "scattermapbox": [
           {
            "marker": {
             "colorbar": {
              "outlinewidth": 0,
              "ticks": ""
             }
            },
            "type": "scattermapbox"
           }
          ],
          "scatterpolar": [
           {
            "marker": {
             "colorbar": {
              "outlinewidth": 0,
              "ticks": ""
             }
            },
            "type": "scatterpolar"
           }
          ],
          "scatterpolargl": [
           {
            "marker": {
             "colorbar": {
              "outlinewidth": 0,
              "ticks": ""
             }
            },
            "type": "scatterpolargl"
           }
          ],
          "scatterternary": [
           {
            "marker": {
             "colorbar": {
              "outlinewidth": 0,
              "ticks": ""
             }
            },
            "type": "scatterternary"
           }
          ],
          "surface": [
           {
            "colorbar": {
             "outlinewidth": 0,
             "ticks": ""
            },
            "colorscale": [
             [
              0,
              "#0d0887"
             ],
             [
              0.1111111111111111,
              "#46039f"
             ],
             [
              0.2222222222222222,
              "#7201a8"
             ],
             [
              0.3333333333333333,
              "#9c179e"
             ],
             [
              0.4444444444444444,
              "#bd3786"
             ],
             [
              0.5555555555555556,
              "#d8576b"
             ],
             [
              0.6666666666666666,
              "#ed7953"
             ],
             [
              0.7777777777777778,
              "#fb9f3a"
             ],
             [
              0.8888888888888888,
              "#fdca26"
             ],
             [
              1,
              "#f0f921"
             ]
            ],
            "type": "surface"
           }
          ],
          "table": [
           {
            "cells": {
             "fill": {
              "color": "#EBF0F8"
             },
             "line": {
              "color": "white"
             }
            },
            "header": {
             "fill": {
              "color": "#C8D4E3"
             },
             "line": {
              "color": "white"
             }
            },
            "type": "table"
           }
          ]
         },
         "layout": {
          "annotationdefaults": {
           "arrowcolor": "#2a3f5f",
           "arrowhead": 0,
           "arrowwidth": 1
          },
          "autotypenumbers": "strict",
          "coloraxis": {
           "colorbar": {
            "outlinewidth": 0,
            "ticks": ""
           }
          },
          "colorscale": {
           "diverging": [
            [
             0,
             "#8e0152"
            ],
            [
             0.1,
             "#c51b7d"
            ],
            [
             0.2,
             "#de77ae"
            ],
            [
             0.3,
             "#f1b6da"
            ],
            [
             0.4,
             "#fde0ef"
            ],
            [
             0.5,
             "#f7f7f7"
            ],
            [
             0.6,
             "#e6f5d0"
            ],
            [
             0.7,
             "#b8e186"
            ],
            [
             0.8,
             "#7fbc41"
            ],
            [
             0.9,
             "#4d9221"
            ],
            [
             1,
             "#276419"
            ]
           ],
           "sequential": [
            [
             0,
             "#0d0887"
            ],
            [
             0.1111111111111111,
             "#46039f"
            ],
            [
             0.2222222222222222,
             "#7201a8"
            ],
            [
             0.3333333333333333,
             "#9c179e"
            ],
            [
             0.4444444444444444,
             "#bd3786"
            ],
            [
             0.5555555555555556,
             "#d8576b"
            ],
            [
             0.6666666666666666,
             "#ed7953"
            ],
            [
             0.7777777777777778,
             "#fb9f3a"
            ],
            [
             0.8888888888888888,
             "#fdca26"
            ],
            [
             1,
             "#f0f921"
            ]
           ],
           "sequentialminus": [
            [
             0,
             "#0d0887"
            ],
            [
             0.1111111111111111,
             "#46039f"
            ],
            [
             0.2222222222222222,
             "#7201a8"
            ],
            [
             0.3333333333333333,
             "#9c179e"
            ],
            [
             0.4444444444444444,
             "#bd3786"
            ],
            [
             0.5555555555555556,
             "#d8576b"
            ],
            [
             0.6666666666666666,
             "#ed7953"
            ],
            [
             0.7777777777777778,
             "#fb9f3a"
            ],
            [
             0.8888888888888888,
             "#fdca26"
            ],
            [
             1,
             "#f0f921"
            ]
           ]
          },
          "colorway": [
           "#636efa",
           "#EF553B",
           "#00cc96",
           "#ab63fa",
           "#FFA15A",
           "#19d3f3",
           "#FF6692",
           "#B6E880",
           "#FF97FF",
           "#FECB52"
          ],
          "font": {
           "color": "#2a3f5f"
          },
          "geo": {
           "bgcolor": "white",
           "lakecolor": "white",
           "landcolor": "#E5ECF6",
           "showlakes": true,
           "showland": true,
           "subunitcolor": "white"
          },
          "hoverlabel": {
           "align": "left"
          },
          "hovermode": "closest",
          "mapbox": {
           "style": "light"
          },
          "paper_bgcolor": "white",
          "plot_bgcolor": "#E5ECF6",
          "polar": {
           "angularaxis": {
            "gridcolor": "white",
            "linecolor": "white",
            "ticks": ""
           },
           "bgcolor": "#E5ECF6",
           "radialaxis": {
            "gridcolor": "white",
            "linecolor": "white",
            "ticks": ""
           }
          },
          "scene": {
           "xaxis": {
            "backgroundcolor": "#E5ECF6",
            "gridcolor": "white",
            "gridwidth": 2,
            "linecolor": "white",
            "showbackground": true,
            "ticks": "",
            "zerolinecolor": "white"
           },
           "yaxis": {
            "backgroundcolor": "#E5ECF6",
            "gridcolor": "white",
            "gridwidth": 2,
            "linecolor": "white",
            "showbackground": true,
            "ticks": "",
            "zerolinecolor": "white"
           },
           "zaxis": {
            "backgroundcolor": "#E5ECF6",
            "gridcolor": "white",
            "gridwidth": 2,
            "linecolor": "white",
            "showbackground": true,
            "ticks": "",
            "zerolinecolor": "white"
           }
          },
          "shapedefaults": {
           "line": {
            "color": "#2a3f5f"
           }
          },
          "ternary": {
           "aaxis": {
            "gridcolor": "white",
            "linecolor": "white",
            "ticks": ""
           },
           "baxis": {
            "gridcolor": "white",
            "linecolor": "white",
            "ticks": ""
           },
           "bgcolor": "#E5ECF6",
           "caxis": {
            "gridcolor": "white",
            "linecolor": "white",
            "ticks": ""
           }
          },
          "title": {
           "x": 0.05
          },
          "xaxis": {
           "automargin": true,
           "gridcolor": "white",
           "linecolor": "white",
           "ticks": "",
           "title": {
            "standoff": 15
           },
           "zerolinecolor": "white",
           "zerolinewidth": 2
          },
          "yaxis": {
           "automargin": true,
           "gridcolor": "white",
           "linecolor": "white",
           "ticks": "",
           "title": {
            "standoff": 15
           },
           "zerolinecolor": "white",
           "zerolinewidth": 2
          }
         }
        },
        "title": {
         "text": "Number of events over a day"
        },
        "xaxis": {
         "anchor": "y",
         "domain": [
          0,
          1
         ],
         "title": {
          "text": "Hour of day"
         },
         "type": "category"
        },
        "yaxis": {
         "anchor": "x",
         "domain": [
          0,
          1
         ],
         "title": {
          "text": "Number of Events"
         }
        }
       }
      }
     },
     "metadata": {}
    }
   ],
   "source": [
    "# Timestamp Distribution (per event_type) over every hour of a day\n",
    "\n",
    "df = sdf_time_dist_day.toPandas()\n",
    "\n",
    "fig = px.bar(df, x = 'hour', y = 'cnt', color ='event_type', barmode = 'stack')\n",
    "\n",
    "fig.update_layout(title = \"Number of events over a day\",\n",
    "     xaxis_title = 'Hour of day', yaxis_title = 'Number of Events')\n",
    "fig.update_xaxes(type=\"category\")\n",
    "fig.show()"
   ]
  },
  {
   "source": [
    "#### Time and Turnover"
   ],
   "cell_type": "markdown",
   "metadata": {}
  },
  {
   "cell_type": "code",
   "execution_count": 34,
   "metadata": {},
   "outputs": [],
   "source": [
    "sdf_month_Umsatz = spark.sql(\"SELECT month, \\\n",
    "                                    dayofmonth, \\\n",
    "                                    SUM(turnover) AS Turnover\\\n",
    "                            FROM Data \\\n",
    "                            GROUP BY month, dayofmonth \\\n",
    "                            ORDER BY Turnover DESC\")"
   ]
  },
  {
   "cell_type": "code",
   "execution_count": 35,
   "metadata": {},
   "outputs": [
    {
     "output_type": "display_data",
     "data": {
      "application/vnd.plotly.v1+json": {
       "config": {
        "plotlyServerURL": "https://plot.ly"
       },
       "data": [
        {
         "type": "bar",
         "x": [
          [
           1,
           9,
           12
          ],
          [
           11,
           10,
           11
          ]
         ],
         "y": [
          778.2199999999999,
          0,
          0
         ]
        }
       ],
       "layout": {
        "barmode": "stack",
        "template": {
         "data": {
          "bar": [
           {
            "error_x": {
             "color": "rgb(36,36,36)"
            },
            "error_y": {
             "color": "rgb(36,36,36)"
            },
            "marker": {
             "line": {
              "color": "white",
              "width": 0.5
             }
            },
            "type": "bar"
           }
          ],
          "barpolar": [
           {
            "marker": {
             "line": {
              "color": "white",
              "width": 0.5
             }
            },
            "type": "barpolar"
           }
          ],
          "carpet": [
           {
            "aaxis": {
             "endlinecolor": "rgb(36,36,36)",
             "gridcolor": "white",
             "linecolor": "white",
             "minorgridcolor": "white",
             "startlinecolor": "rgb(36,36,36)"
            },
            "baxis": {
             "endlinecolor": "rgb(36,36,36)",
             "gridcolor": "white",
             "linecolor": "white",
             "minorgridcolor": "white",
             "startlinecolor": "rgb(36,36,36)"
            },
            "type": "carpet"
           }
          ],
          "choropleth": [
           {
            "colorbar": {
             "outlinewidth": 1,
             "tickcolor": "rgb(36,36,36)",
             "ticks": "outside"
            },
            "type": "choropleth"
           }
          ],
          "contour": [
           {
            "colorbar": {
             "outlinewidth": 1,
             "tickcolor": "rgb(36,36,36)",
             "ticks": "outside"
            },
            "colorscale": [
             [
              0,
              "#440154"
             ],
             [
              0.1111111111111111,
              "#482878"
             ],
             [
              0.2222222222222222,
              "#3e4989"
             ],
             [
              0.3333333333333333,
              "#31688e"
             ],
             [
              0.4444444444444444,
              "#26828e"
             ],
             [
              0.5555555555555556,
              "#1f9e89"
             ],
             [
              0.6666666666666666,
              "#35b779"
             ],
             [
              0.7777777777777778,
              "#6ece58"
             ],
             [
              0.8888888888888888,
              "#b5de2b"
             ],
             [
              1,
              "#fde725"
             ]
            ],
            "type": "contour"
           }
          ],
          "contourcarpet": [
           {
            "colorbar": {
             "outlinewidth": 1,
             "tickcolor": "rgb(36,36,36)",
             "ticks": "outside"
            },
            "type": "contourcarpet"
           }
          ],
          "heatmap": [
           {
            "colorbar": {
             "outlinewidth": 1,
             "tickcolor": "rgb(36,36,36)",
             "ticks": "outside"
            },
            "colorscale": [
             [
              0,
              "#440154"
             ],
             [
              0.1111111111111111,
              "#482878"
             ],
             [
              0.2222222222222222,
              "#3e4989"
             ],
             [
              0.3333333333333333,
              "#31688e"
             ],
             [
              0.4444444444444444,
              "#26828e"
             ],
             [
              0.5555555555555556,
              "#1f9e89"
             ],
             [
              0.6666666666666666,
              "#35b779"
             ],
             [
              0.7777777777777778,
              "#6ece58"
             ],
             [
              0.8888888888888888,
              "#b5de2b"
             ],
             [
              1,
              "#fde725"
             ]
            ],
            "type": "heatmap"
           }
          ],
          "heatmapgl": [
           {
            "colorbar": {
             "outlinewidth": 1,
             "tickcolor": "rgb(36,36,36)",
             "ticks": "outside"
            },
            "colorscale": [
             [
              0,
              "#440154"
             ],
             [
              0.1111111111111111,
              "#482878"
             ],
             [
              0.2222222222222222,
              "#3e4989"
             ],
             [
              0.3333333333333333,
              "#31688e"
             ],
             [
              0.4444444444444444,
              "#26828e"
             ],
             [
              0.5555555555555556,
              "#1f9e89"
             ],
             [
              0.6666666666666666,
              "#35b779"
             ],
             [
              0.7777777777777778,
              "#6ece58"
             ],
             [
              0.8888888888888888,
              "#b5de2b"
             ],
             [
              1,
              "#fde725"
             ]
            ],
            "type": "heatmapgl"
           }
          ],
          "histogram": [
           {
            "marker": {
             "line": {
              "color": "white",
              "width": 0.6
             }
            },
            "type": "histogram"
           }
          ],
          "histogram2d": [
           {
            "colorbar": {
             "outlinewidth": 1,
             "tickcolor": "rgb(36,36,36)",
             "ticks": "outside"
            },
            "colorscale": [
             [
              0,
              "#440154"
             ],
             [
              0.1111111111111111,
              "#482878"
             ],
             [
              0.2222222222222222,
              "#3e4989"
             ],
             [
              0.3333333333333333,
              "#31688e"
             ],
             [
              0.4444444444444444,
              "#26828e"
             ],
             [
              0.5555555555555556,
              "#1f9e89"
             ],
             [
              0.6666666666666666,
              "#35b779"
             ],
             [
              0.7777777777777778,
              "#6ece58"
             ],
             [
              0.8888888888888888,
              "#b5de2b"
             ],
             [
              1,
              "#fde725"
             ]
            ],
            "type": "histogram2d"
           }
          ],
          "histogram2dcontour": [
           {
            "colorbar": {
             "outlinewidth": 1,
             "tickcolor": "rgb(36,36,36)",
             "ticks": "outside"
            },
            "colorscale": [
             [
              0,
              "#440154"
             ],
             [
              0.1111111111111111,
              "#482878"
             ],
             [
              0.2222222222222222,
              "#3e4989"
             ],
             [
              0.3333333333333333,
              "#31688e"
             ],
             [
              0.4444444444444444,
              "#26828e"
             ],
             [
              0.5555555555555556,
              "#1f9e89"
             ],
             [
              0.6666666666666666,
              "#35b779"
             ],
             [
              0.7777777777777778,
              "#6ece58"
             ],
             [
              0.8888888888888888,
              "#b5de2b"
             ],
             [
              1,
              "#fde725"
             ]
            ],
            "type": "histogram2dcontour"
           }
          ],
          "mesh3d": [
           {
            "colorbar": {
             "outlinewidth": 1,
             "tickcolor": "rgb(36,36,36)",
             "ticks": "outside"
            },
            "type": "mesh3d"
           }
          ],
          "parcoords": [
           {
            "line": {
             "colorbar": {
              "outlinewidth": 1,
              "tickcolor": "rgb(36,36,36)",
              "ticks": "outside"
             }
            },
            "type": "parcoords"
           }
          ],
          "pie": [
           {
            "automargin": true,
            "type": "pie"
           }
          ],
          "scatter": [
           {
            "marker": {
             "colorbar": {
              "outlinewidth": 1,
              "tickcolor": "rgb(36,36,36)",
              "ticks": "outside"
             }
            },
            "type": "scatter"
           }
          ],
          "scatter3d": [
           {
            "line": {
             "colorbar": {
              "outlinewidth": 1,
              "tickcolor": "rgb(36,36,36)",
              "ticks": "outside"
             }
            },
            "marker": {
             "colorbar": {
              "outlinewidth": 1,
              "tickcolor": "rgb(36,36,36)",
              "ticks": "outside"
             }
            },
            "type": "scatter3d"
           }
          ],
          "scattercarpet": [
           {
            "marker": {
             "colorbar": {
              "outlinewidth": 1,
              "tickcolor": "rgb(36,36,36)",
              "ticks": "outside"
             }
            },
            "type": "scattercarpet"
           }
          ],
          "scattergeo": [
           {
            "marker": {
             "colorbar": {
              "outlinewidth": 1,
              "tickcolor": "rgb(36,36,36)",
              "ticks": "outside"
             }
            },
            "type": "scattergeo"
           }
          ],
          "scattergl": [
           {
            "marker": {
             "colorbar": {
              "outlinewidth": 1,
              "tickcolor": "rgb(36,36,36)",
              "ticks": "outside"
             }
            },
            "type": "scattergl"
           }
          ],
          "scattermapbox": [
           {
            "marker": {
             "colorbar": {
              "outlinewidth": 1,
              "tickcolor": "rgb(36,36,36)",
              "ticks": "outside"
             }
            },
            "type": "scattermapbox"
           }
          ],
          "scatterpolar": [
           {
            "marker": {
             "colorbar": {
              "outlinewidth": 1,
              "tickcolor": "rgb(36,36,36)",
              "ticks": "outside"
             }
            },
            "type": "scatterpolar"
           }
          ],
          "scatterpolargl": [
           {
            "marker": {
             "colorbar": {
              "outlinewidth": 1,
              "tickcolor": "rgb(36,36,36)",
              "ticks": "outside"
             }
            },
            "type": "scatterpolargl"
           }
          ],
          "scatterternary": [
           {
            "marker": {
             "colorbar": {
              "outlinewidth": 1,
              "tickcolor": "rgb(36,36,36)",
              "ticks": "outside"
             }
            },
            "type": "scatterternary"
           }
          ],
          "surface": [
           {
            "colorbar": {
             "outlinewidth": 1,
             "tickcolor": "rgb(36,36,36)",
             "ticks": "outside"
            },
            "colorscale": [
             [
              0,
              "#440154"
             ],
             [
              0.1111111111111111,
              "#482878"
             ],
             [
              0.2222222222222222,
              "#3e4989"
             ],
             [
              0.3333333333333333,
              "#31688e"
             ],
             [
              0.4444444444444444,
              "#26828e"
             ],
             [
              0.5555555555555556,
              "#1f9e89"
             ],
             [
              0.6666666666666666,
              "#35b779"
             ],
             [
              0.7777777777777778,
              "#6ece58"
             ],
             [
              0.8888888888888888,
              "#b5de2b"
             ],
             [
              1,
              "#fde725"
             ]
            ],
            "type": "surface"
           }
          ],
          "table": [
           {
            "cells": {
             "fill": {
              "color": "rgb(237,237,237)"
             },
             "line": {
              "color": "white"
             }
            },
            "header": {
             "fill": {
              "color": "rgb(217,217,217)"
             },
             "line": {
              "color": "white"
             }
            },
            "type": "table"
           }
          ]
         },
         "layout": {
          "annotationdefaults": {
           "arrowhead": 0,
           "arrowwidth": 1
          },
          "autotypenumbers": "strict",
          "coloraxis": {
           "colorbar": {
            "outlinewidth": 1,
            "tickcolor": "rgb(36,36,36)",
            "ticks": "outside"
           }
          },
          "colorscale": {
           "diverging": [
            [
             0,
             "rgb(103,0,31)"
            ],
            [
             0.1,
             "rgb(178,24,43)"
            ],
            [
             0.2,
             "rgb(214,96,77)"
            ],
            [
             0.3,
             "rgb(244,165,130)"
            ],
            [
             0.4,
             "rgb(253,219,199)"
            ],
            [
             0.5,
             "rgb(247,247,247)"
            ],
            [
             0.6,
             "rgb(209,229,240)"
            ],
            [
             0.7,
             "rgb(146,197,222)"
            ],
            [
             0.8,
             "rgb(67,147,195)"
            ],
            [
             0.9,
             "rgb(33,102,172)"
            ],
            [
             1,
             "rgb(5,48,97)"
            ]
           ],
           "sequential": [
            [
             0,
             "#440154"
            ],
            [
             0.1111111111111111,
             "#482878"
            ],
            [
             0.2222222222222222,
             "#3e4989"
            ],
            [
             0.3333333333333333,
             "#31688e"
            ],
            [
             0.4444444444444444,
             "#26828e"
            ],
            [
             0.5555555555555556,
             "#1f9e89"
            ],
            [
             0.6666666666666666,
             "#35b779"
            ],
            [
             0.7777777777777778,
             "#6ece58"
            ],
            [
             0.8888888888888888,
             "#b5de2b"
            ],
            [
             1,
             "#fde725"
            ]
           ],
           "sequentialminus": [
            [
             0,
             "#440154"
            ],
            [
             0.1111111111111111,
             "#482878"
            ],
            [
             0.2222222222222222,
             "#3e4989"
            ],
            [
             0.3333333333333333,
             "#31688e"
            ],
            [
             0.4444444444444444,
             "#26828e"
            ],
            [
             0.5555555555555556,
             "#1f9e89"
            ],
            [
             0.6666666666666666,
             "#35b779"
            ],
            [
             0.7777777777777778,
             "#6ece58"
            ],
            [
             0.8888888888888888,
             "#b5de2b"
            ],
            [
             1,
             "#fde725"
            ]
           ]
          },
          "colorway": [
           "#1F77B4",
           "#FF7F0E",
           "#2CA02C",
           "#D62728",
           "#9467BD",
           "#8C564B",
           "#E377C2",
           "#7F7F7F",
           "#BCBD22",
           "#17BECF"
          ],
          "font": {
           "color": "rgb(36,36,36)"
          },
          "geo": {
           "bgcolor": "white",
           "lakecolor": "white",
           "landcolor": "white",
           "showlakes": true,
           "showland": true,
           "subunitcolor": "white"
          },
          "hoverlabel": {
           "align": "left"
          },
          "hovermode": "closest",
          "mapbox": {
           "style": "light"
          },
          "paper_bgcolor": "white",
          "plot_bgcolor": "white",
          "polar": {
           "angularaxis": {
            "gridcolor": "rgb(232,232,232)",
            "linecolor": "rgb(36,36,36)",
            "showgrid": false,
            "showline": true,
            "ticks": "outside"
           },
           "bgcolor": "white",
           "radialaxis": {
            "gridcolor": "rgb(232,232,232)",
            "linecolor": "rgb(36,36,36)",
            "showgrid": false,
            "showline": true,
            "ticks": "outside"
           }
          },
          "scene": {
           "xaxis": {
            "backgroundcolor": "white",
            "gridcolor": "rgb(232,232,232)",
            "gridwidth": 2,
            "linecolor": "rgb(36,36,36)",
            "showbackground": true,
            "showgrid": false,
            "showline": true,
            "ticks": "outside",
            "zeroline": false,
            "zerolinecolor": "rgb(36,36,36)"
           },
           "yaxis": {
            "backgroundcolor": "white",
            "gridcolor": "rgb(232,232,232)",
            "gridwidth": 2,
            "linecolor": "rgb(36,36,36)",
            "showbackground": true,
            "showgrid": false,
            "showline": true,
            "ticks": "outside",
            "zeroline": false,
            "zerolinecolor": "rgb(36,36,36)"
           },
           "zaxis": {
            "backgroundcolor": "white",
            "gridcolor": "rgb(232,232,232)",
            "gridwidth": 2,
            "linecolor": "rgb(36,36,36)",
            "showbackground": true,
            "showgrid": false,
            "showline": true,
            "ticks": "outside",
            "zeroline": false,
            "zerolinecolor": "rgb(36,36,36)"
           }
          },
          "shapedefaults": {
           "fillcolor": "black",
           "line": {
            "width": 0
           },
           "opacity": 0.3
          },
          "ternary": {
           "aaxis": {
            "gridcolor": "rgb(232,232,232)",
            "linecolor": "rgb(36,36,36)",
            "showgrid": false,
            "showline": true,
            "ticks": "outside"
           },
           "baxis": {
            "gridcolor": "rgb(232,232,232)",
            "linecolor": "rgb(36,36,36)",
            "showgrid": false,
            "showline": true,
            "ticks": "outside"
           },
           "bgcolor": "white",
           "caxis": {
            "gridcolor": "rgb(232,232,232)",
            "linecolor": "rgb(36,36,36)",
            "showgrid": false,
            "showline": true,
            "ticks": "outside"
           }
          },
          "title": {
           "x": 0.05
          },
          "xaxis": {
           "automargin": true,
           "gridcolor": "rgb(232,232,232)",
           "linecolor": "rgb(36,36,36)",
           "showgrid": false,
           "showline": true,
           "ticks": "outside",
           "title": {
            "standoff": 15
           },
           "zeroline": false,
           "zerolinecolor": "rgb(36,36,36)"
          },
          "yaxis": {
           "automargin": true,
           "gridcolor": "rgb(232,232,232)",
           "linecolor": "rgb(36,36,36)",
           "showgrid": false,
           "showline": true,
           "ticks": "outside",
           "title": {
            "standoff": 15
           },
           "zeroline": false,
           "zerolinecolor": "rgb(36,36,36)"
          }
         }
        },
        "xaxis": {
         "title": {
          "text": "Day of Month"
         }
        },
        "yaxis": {
         "title": {
          "text": "Count"
         }
        }
       }
      }
     },
     "metadata": {}
    }
   ],
   "source": [
    "df = sdf_month_Umsatz.toPandas()\n",
    "fig = go.Figure()\n",
    "fig.update_layout(\n",
    "    template=\"simple_white\",\n",
    "    xaxis=dict(title_text=\"Day of Month\"),\n",
    "    yaxis=dict(title_text=\"Count\"),\n",
    "    barmode=\"stack\",\n",
    ")\n",
    "\n",
    "fig.add_trace(\n",
    "        go.Bar(x=[df.dayofmonth, df.month], y=df.Turnover),\n",
    "    )\n",
    "fig"
   ]
  },
  {
   "cell_type": "code",
   "execution_count": 36,
   "metadata": {},
   "outputs": [],
   "source": [
    "sdf_week_Umsatz = spark.sql(\"SELECT weekofyear, \\\n",
    "                                    dayofweek, \\\n",
    "                                    SUM(turnover) AS Turnover\\\n",
    "                            FROM Data \\\n",
    "                            GROUP BY weekofyear, dayofweek \\\n",
    "                            ORDER BY Turnover DESC\")"
   ]
  },
  {
   "cell_type": "code",
   "execution_count": 37,
   "metadata": {},
   "outputs": [
    {
     "output_type": "display_data",
     "data": {
      "application/vnd.plotly.v1+json": {
       "config": {
        "plotlyServerURL": "https://plot.ly"
       },
       "data": [
        {
         "type": "bar",
         "x": [
          [
           6,
           3,
           4
          ],
          [
           44,
           46,
           41
          ]
         ],
         "y": [
          778.2199999999999,
          0,
          0
         ]
        }
       ],
       "layout": {
        "barmode": "stack",
        "template": {
         "data": {
          "bar": [
           {
            "error_x": {
             "color": "rgb(36,36,36)"
            },
            "error_y": {
             "color": "rgb(36,36,36)"
            },
            "marker": {
             "line": {
              "color": "white",
              "width": 0.5
             }
            },
            "type": "bar"
           }
          ],
          "barpolar": [
           {
            "marker": {
             "line": {
              "color": "white",
              "width": 0.5
             }
            },
            "type": "barpolar"
           }
          ],
          "carpet": [
           {
            "aaxis": {
             "endlinecolor": "rgb(36,36,36)",
             "gridcolor": "white",
             "linecolor": "white",
             "minorgridcolor": "white",
             "startlinecolor": "rgb(36,36,36)"
            },
            "baxis": {
             "endlinecolor": "rgb(36,36,36)",
             "gridcolor": "white",
             "linecolor": "white",
             "minorgridcolor": "white",
             "startlinecolor": "rgb(36,36,36)"
            },
            "type": "carpet"
           }
          ],
          "choropleth": [
           {
            "colorbar": {
             "outlinewidth": 1,
             "tickcolor": "rgb(36,36,36)",
             "ticks": "outside"
            },
            "type": "choropleth"
           }
          ],
          "contour": [
           {
            "colorbar": {
             "outlinewidth": 1,
             "tickcolor": "rgb(36,36,36)",
             "ticks": "outside"
            },
            "colorscale": [
             [
              0,
              "#440154"
             ],
             [
              0.1111111111111111,
              "#482878"
             ],
             [
              0.2222222222222222,
              "#3e4989"
             ],
             [
              0.3333333333333333,
              "#31688e"
             ],
             [
              0.4444444444444444,
              "#26828e"
             ],
             [
              0.5555555555555556,
              "#1f9e89"
             ],
             [
              0.6666666666666666,
              "#35b779"
             ],
             [
              0.7777777777777778,
              "#6ece58"
             ],
             [
              0.8888888888888888,
              "#b5de2b"
             ],
             [
              1,
              "#fde725"
             ]
            ],
            "type": "contour"
           }
          ],
          "contourcarpet": [
           {
            "colorbar": {
             "outlinewidth": 1,
             "tickcolor": "rgb(36,36,36)",
             "ticks": "outside"
            },
            "type": "contourcarpet"
           }
          ],
          "heatmap": [
           {
            "colorbar": {
             "outlinewidth": 1,
             "tickcolor": "rgb(36,36,36)",
             "ticks": "outside"
            },
            "colorscale": [
             [
              0,
              "#440154"
             ],
             [
              0.1111111111111111,
              "#482878"
             ],
             [
              0.2222222222222222,
              "#3e4989"
             ],
             [
              0.3333333333333333,
              "#31688e"
             ],
             [
              0.4444444444444444,
              "#26828e"
             ],
             [
              0.5555555555555556,
              "#1f9e89"
             ],
             [
              0.6666666666666666,
              "#35b779"
             ],
             [
              0.7777777777777778,
              "#6ece58"
             ],
             [
              0.8888888888888888,
              "#b5de2b"
             ],
             [
              1,
              "#fde725"
             ]
            ],
            "type": "heatmap"
           }
          ],
          "heatmapgl": [
           {
            "colorbar": {
             "outlinewidth": 1,
             "tickcolor": "rgb(36,36,36)",
             "ticks": "outside"
            },
            "colorscale": [
             [
              0,
              "#440154"
             ],
             [
              0.1111111111111111,
              "#482878"
             ],
             [
              0.2222222222222222,
              "#3e4989"
             ],
             [
              0.3333333333333333,
              "#31688e"
             ],
             [
              0.4444444444444444,
              "#26828e"
             ],
             [
              0.5555555555555556,
              "#1f9e89"
             ],
             [
              0.6666666666666666,
              "#35b779"
             ],
             [
              0.7777777777777778,
              "#6ece58"
             ],
             [
              0.8888888888888888,
              "#b5de2b"
             ],
             [
              1,
              "#fde725"
             ]
            ],
            "type": "heatmapgl"
           }
          ],
          "histogram": [
           {
            "marker": {
             "line": {
              "color": "white",
              "width": 0.6
             }
            },
            "type": "histogram"
           }
          ],
          "histogram2d": [
           {
            "colorbar": {
             "outlinewidth": 1,
             "tickcolor": "rgb(36,36,36)",
             "ticks": "outside"
            },
            "colorscale": [
             [
              0,
              "#440154"
             ],
             [
              0.1111111111111111,
              "#482878"
             ],
             [
              0.2222222222222222,
              "#3e4989"
             ],
             [
              0.3333333333333333,
              "#31688e"
             ],
             [
              0.4444444444444444,
              "#26828e"
             ],
             [
              0.5555555555555556,
              "#1f9e89"
             ],
             [
              0.6666666666666666,
              "#35b779"
             ],
             [
              0.7777777777777778,
              "#6ece58"
             ],
             [
              0.8888888888888888,
              "#b5de2b"
             ],
             [
              1,
              "#fde725"
             ]
            ],
            "type": "histogram2d"
           }
          ],
          "histogram2dcontour": [
           {
            "colorbar": {
             "outlinewidth": 1,
             "tickcolor": "rgb(36,36,36)",
             "ticks": "outside"
            },
            "colorscale": [
             [
              0,
              "#440154"
             ],
             [
              0.1111111111111111,
              "#482878"
             ],
             [
              0.2222222222222222,
              "#3e4989"
             ],
             [
              0.3333333333333333,
              "#31688e"
             ],
             [
              0.4444444444444444,
              "#26828e"
             ],
             [
              0.5555555555555556,
              "#1f9e89"
             ],
             [
              0.6666666666666666,
              "#35b779"
             ],
             [
              0.7777777777777778,
              "#6ece58"
             ],
             [
              0.8888888888888888,
              "#b5de2b"
             ],
             [
              1,
              "#fde725"
             ]
            ],
            "type": "histogram2dcontour"
           }
          ],
          "mesh3d": [
           {
            "colorbar": {
             "outlinewidth": 1,
             "tickcolor": "rgb(36,36,36)",
             "ticks": "outside"
            },
            "type": "mesh3d"
           }
          ],
          "parcoords": [
           {
            "line": {
             "colorbar": {
              "outlinewidth": 1,
              "tickcolor": "rgb(36,36,36)",
              "ticks": "outside"
             }
            },
            "type": "parcoords"
           }
          ],
          "pie": [
           {
            "automargin": true,
            "type": "pie"
           }
          ],
          "scatter": [
           {
            "marker": {
             "colorbar": {
              "outlinewidth": 1,
              "tickcolor": "rgb(36,36,36)",
              "ticks": "outside"
             }
            },
            "type": "scatter"
           }
          ],
          "scatter3d": [
           {
            "line": {
             "colorbar": {
              "outlinewidth": 1,
              "tickcolor": "rgb(36,36,36)",
              "ticks": "outside"
             }
            },
            "marker": {
             "colorbar": {
              "outlinewidth": 1,
              "tickcolor": "rgb(36,36,36)",
              "ticks": "outside"
             }
            },
            "type": "scatter3d"
           }
          ],
          "scattercarpet": [
           {
            "marker": {
             "colorbar": {
              "outlinewidth": 1,
              "tickcolor": "rgb(36,36,36)",
              "ticks": "outside"
             }
            },
            "type": "scattercarpet"
           }
          ],
          "scattergeo": [
           {
            "marker": {
             "colorbar": {
              "outlinewidth": 1,
              "tickcolor": "rgb(36,36,36)",
              "ticks": "outside"
             }
            },
            "type": "scattergeo"
           }
          ],
          "scattergl": [
           {
            "marker": {
             "colorbar": {
              "outlinewidth": 1,
              "tickcolor": "rgb(36,36,36)",
              "ticks": "outside"
             }
            },
            "type": "scattergl"
           }
          ],
          "scattermapbox": [
           {
            "marker": {
             "colorbar": {
              "outlinewidth": 1,
              "tickcolor": "rgb(36,36,36)",
              "ticks": "outside"
             }
            },
            "type": "scattermapbox"
           }
          ],
          "scatterpolar": [
           {
            "marker": {
             "colorbar": {
              "outlinewidth": 1,
              "tickcolor": "rgb(36,36,36)",
              "ticks": "outside"
             }
            },
            "type": "scatterpolar"
           }
          ],
          "scatterpolargl": [
           {
            "marker": {
             "colorbar": {
              "outlinewidth": 1,
              "tickcolor": "rgb(36,36,36)",
              "ticks": "outside"
             }
            },
            "type": "scatterpolargl"
           }
          ],
          "scatterternary": [
           {
            "marker": {
             "colorbar": {
              "outlinewidth": 1,
              "tickcolor": "rgb(36,36,36)",
              "ticks": "outside"
             }
            },
            "type": "scatterternary"
           }
          ],
          "surface": [
           {
            "colorbar": {
             "outlinewidth": 1,
             "tickcolor": "rgb(36,36,36)",
             "ticks": "outside"
            },
            "colorscale": [
             [
              0,
              "#440154"
             ],
             [
              0.1111111111111111,
              "#482878"
             ],
             [
              0.2222222222222222,
              "#3e4989"
             ],
             [
              0.3333333333333333,
              "#31688e"
             ],
             [
              0.4444444444444444,
              "#26828e"
             ],
             [
              0.5555555555555556,
              "#1f9e89"
             ],
             [
              0.6666666666666666,
              "#35b779"
             ],
             [
              0.7777777777777778,
              "#6ece58"
             ],
             [
              0.8888888888888888,
              "#b5de2b"
             ],
             [
              1,
              "#fde725"
             ]
            ],
            "type": "surface"
           }
          ],
          "table": [
           {
            "cells": {
             "fill": {
              "color": "rgb(237,237,237)"
             },
             "line": {
              "color": "white"
             }
            },
            "header": {
             "fill": {
              "color": "rgb(217,217,217)"
             },
             "line": {
              "color": "white"
             }
            },
            "type": "table"
           }
          ]
         },
         "layout": {
          "annotationdefaults": {
           "arrowhead": 0,
           "arrowwidth": 1
          },
          "autotypenumbers": "strict",
          "coloraxis": {
           "colorbar": {
            "outlinewidth": 1,
            "tickcolor": "rgb(36,36,36)",
            "ticks": "outside"
           }
          },
          "colorscale": {
           "diverging": [
            [
             0,
             "rgb(103,0,31)"
            ],
            [
             0.1,
             "rgb(178,24,43)"
            ],
            [
             0.2,
             "rgb(214,96,77)"
            ],
            [
             0.3,
             "rgb(244,165,130)"
            ],
            [
             0.4,
             "rgb(253,219,199)"
            ],
            [
             0.5,
             "rgb(247,247,247)"
            ],
            [
             0.6,
             "rgb(209,229,240)"
            ],
            [
             0.7,
             "rgb(146,197,222)"
            ],
            [
             0.8,
             "rgb(67,147,195)"
            ],
            [
             0.9,
             "rgb(33,102,172)"
            ],
            [
             1,
             "rgb(5,48,97)"
            ]
           ],
           "sequential": [
            [
             0,
             "#440154"
            ],
            [
             0.1111111111111111,
             "#482878"
            ],
            [
             0.2222222222222222,
             "#3e4989"
            ],
            [
             0.3333333333333333,
             "#31688e"
            ],
            [
             0.4444444444444444,
             "#26828e"
            ],
            [
             0.5555555555555556,
             "#1f9e89"
            ],
            [
             0.6666666666666666,
             "#35b779"
            ],
            [
             0.7777777777777778,
             "#6ece58"
            ],
            [
             0.8888888888888888,
             "#b5de2b"
            ],
            [
             1,
             "#fde725"
            ]
           ],
           "sequentialminus": [
            [
             0,
             "#440154"
            ],
            [
             0.1111111111111111,
             "#482878"
            ],
            [
             0.2222222222222222,
             "#3e4989"
            ],
            [
             0.3333333333333333,
             "#31688e"
            ],
            [
             0.4444444444444444,
             "#26828e"
            ],
            [
             0.5555555555555556,
             "#1f9e89"
            ],
            [
             0.6666666666666666,
             "#35b779"
            ],
            [
             0.7777777777777778,
             "#6ece58"
            ],
            [
             0.8888888888888888,
             "#b5de2b"
            ],
            [
             1,
             "#fde725"
            ]
           ]
          },
          "colorway": [
           "#1F77B4",
           "#FF7F0E",
           "#2CA02C",
           "#D62728",
           "#9467BD",
           "#8C564B",
           "#E377C2",
           "#7F7F7F",
           "#BCBD22",
           "#17BECF"
          ],
          "font": {
           "color": "rgb(36,36,36)"
          },
          "geo": {
           "bgcolor": "white",
           "lakecolor": "white",
           "landcolor": "white",
           "showlakes": true,
           "showland": true,
           "subunitcolor": "white"
          },
          "hoverlabel": {
           "align": "left"
          },
          "hovermode": "closest",
          "mapbox": {
           "style": "light"
          },
          "paper_bgcolor": "white",
          "plot_bgcolor": "white",
          "polar": {
           "angularaxis": {
            "gridcolor": "rgb(232,232,232)",
            "linecolor": "rgb(36,36,36)",
            "showgrid": false,
            "showline": true,
            "ticks": "outside"
           },
           "bgcolor": "white",
           "radialaxis": {
            "gridcolor": "rgb(232,232,232)",
            "linecolor": "rgb(36,36,36)",
            "showgrid": false,
            "showline": true,
            "ticks": "outside"
           }
          },
          "scene": {
           "xaxis": {
            "backgroundcolor": "white",
            "gridcolor": "rgb(232,232,232)",
            "gridwidth": 2,
            "linecolor": "rgb(36,36,36)",
            "showbackground": true,
            "showgrid": false,
            "showline": true,
            "ticks": "outside",
            "zeroline": false,
            "zerolinecolor": "rgb(36,36,36)"
           },
           "yaxis": {
            "backgroundcolor": "white",
            "gridcolor": "rgb(232,232,232)",
            "gridwidth": 2,
            "linecolor": "rgb(36,36,36)",
            "showbackground": true,
            "showgrid": false,
            "showline": true,
            "ticks": "outside",
            "zeroline": false,
            "zerolinecolor": "rgb(36,36,36)"
           },
           "zaxis": {
            "backgroundcolor": "white",
            "gridcolor": "rgb(232,232,232)",
            "gridwidth": 2,
            "linecolor": "rgb(36,36,36)",
            "showbackground": true,
            "showgrid": false,
            "showline": true,
            "ticks": "outside",
            "zeroline": false,
            "zerolinecolor": "rgb(36,36,36)"
           }
          },
          "shapedefaults": {
           "fillcolor": "black",
           "line": {
            "width": 0
           },
           "opacity": 0.3
          },
          "ternary": {
           "aaxis": {
            "gridcolor": "rgb(232,232,232)",
            "linecolor": "rgb(36,36,36)",
            "showgrid": false,
            "showline": true,
            "ticks": "outside"
           },
           "baxis": {
            "gridcolor": "rgb(232,232,232)",
            "linecolor": "rgb(36,36,36)",
            "showgrid": false,
            "showline": true,
            "ticks": "outside"
           },
           "bgcolor": "white",
           "caxis": {
            "gridcolor": "rgb(232,232,232)",
            "linecolor": "rgb(36,36,36)",
            "showgrid": false,
            "showline": true,
            "ticks": "outside"
           }
          },
          "title": {
           "x": 0.05
          },
          "xaxis": {
           "automargin": true,
           "gridcolor": "rgb(232,232,232)",
           "linecolor": "rgb(36,36,36)",
           "showgrid": false,
           "showline": true,
           "ticks": "outside",
           "title": {
            "standoff": 15
           },
           "zeroline": false,
           "zerolinecolor": "rgb(36,36,36)"
          },
          "yaxis": {
           "automargin": true,
           "gridcolor": "rgb(232,232,232)",
           "linecolor": "rgb(36,36,36)",
           "showgrid": false,
           "showline": true,
           "ticks": "outside",
           "title": {
            "standoff": 15
           },
           "zeroline": false,
           "zerolinecolor": "rgb(36,36,36)"
          }
         }
        },
        "xaxis": {
         "title": {
          "text": "Day of Month"
         }
        },
        "yaxis": {
         "title": {
          "text": "Count"
         }
        }
       }
      }
     },
     "metadata": {}
    }
   ],
   "source": [
    "df = sdf_week_Umsatz.toPandas()\n",
    "fig = go.Figure()\n",
    "fig.update_layout(\n",
    "    template=\"simple_white\",\n",
    "    xaxis=dict(title_text=\"Day of Month\"),\n",
    "    yaxis=dict(title_text=\"Count\"),\n",
    "    barmode=\"stack\",\n",
    ")\n",
    "\n",
    "fig.add_trace(\n",
    "        go.Bar(x=[df.dayofweek, df.weekofyear], y=df.Turnover),\n",
    "    )\n",
    "fig"
   ]
  },
  {
   "cell_type": "markdown",
   "metadata": {},
   "source": [
    "### Category and products\n",
    "\n",
    "#### Connection between category_class, category_code, category_id, product_id and brand\n",
    "\n",
    "Connection between category_class, category_code, category_id, product_id and brand\n",
    "The product_id is a subset of the category_id, which is a subset of the category_code. The category_code is in turn a subset of the category_class. (product_id ⊂ category_id ⊂ category_code ⊂ category_class). The brand on the otherhand is cross-class. This knowledge is based on the more detailed analyzes within the file \"product_analysis.ipnynb\".\n",
    "\n",
    "In the following plot you can see distribution of the product_id, category_id and category_code within the category_class. It´s possible to access a more detailed view by selecting a special category_class, category_code or category_id."
   ]
  },
  {
   "cell_type": "code",
   "execution_count": 38,
   "metadata": {},
   "outputs": [
    {
     "output_type": "display_data",
     "data": {
      "application/vnd.plotly.v1+json": {
       "config": {
        "plotlyServerURL": "https://plot.ly"
       },
       "data": [
        {
         "alignmentgroup": "True",
         "hovertemplate": "count(product_id)=%{y}<extra></extra>",
         "legendgroup": "",
         "marker": {
          "color": "#636efa"
         },
         "name": "",
         "notched": false,
         "offsetgroup": "",
         "orientation": "v",
         "showlegend": false,
         "type": "box",
         "x0": " ",
         "xaxis": "x",
         "y": [
          1,
          1,
          1,
          1,
          1,
          1,
          1,
          1,
          17,
          2,
          1,
          1,
          1,
          2,
          2,
          1,
          1,
          1,
          1,
          1,
          2,
          1,
          1,
          1,
          4,
          4,
          1,
          1,
          2,
          4,
          1,
          1,
          5,
          3,
          2,
          1,
          1,
          1,
          2,
          1,
          1,
          2,
          1,
          1,
          2,
          4,
          5,
          1,
          2,
          1,
          1,
          2,
          1,
          1,
          1,
          1,
          2,
          1,
          4,
          1,
          1,
          3,
          1,
          2,
          1,
          34,
          1,
          1,
          2,
          2,
          3,
          1,
          4,
          1,
          2,
          1,
          1,
          1,
          8,
          1,
          1,
          1,
          1,
          10,
          3,
          6,
          1,
          2,
          1,
          4
         ],
         "y0": " ",
         "yaxis": "y"
        }
       ],
       "layout": {
        "boxmode": "group",
        "legend": {
         "tracegroupgap": 0
        },
        "template": {
         "data": {
          "bar": [
           {
            "error_x": {
             "color": "#2a3f5f"
            },
            "error_y": {
             "color": "#2a3f5f"
            },
            "marker": {
             "line": {
              "color": "#E5ECF6",
              "width": 0.5
             }
            },
            "type": "bar"
           }
          ],
          "barpolar": [
           {
            "marker": {
             "line": {
              "color": "#E5ECF6",
              "width": 0.5
             }
            },
            "type": "barpolar"
           }
          ],
          "carpet": [
           {
            "aaxis": {
             "endlinecolor": "#2a3f5f",
             "gridcolor": "white",
             "linecolor": "white",
             "minorgridcolor": "white",
             "startlinecolor": "#2a3f5f"
            },
            "baxis": {
             "endlinecolor": "#2a3f5f",
             "gridcolor": "white",
             "linecolor": "white",
             "minorgridcolor": "white",
             "startlinecolor": "#2a3f5f"
            },
            "type": "carpet"
           }
          ],
          "choropleth": [
           {
            "colorbar": {
             "outlinewidth": 0,
             "ticks": ""
            },
            "type": "choropleth"
           }
          ],
          "contour": [
           {
            "colorbar": {
             "outlinewidth": 0,
             "ticks": ""
            },
            "colorscale": [
             [
              0,
              "#0d0887"
             ],
             [
              0.1111111111111111,
              "#46039f"
             ],
             [
              0.2222222222222222,
              "#7201a8"
             ],
             [
              0.3333333333333333,
              "#9c179e"
             ],
             [
              0.4444444444444444,
              "#bd3786"
             ],
             [
              0.5555555555555556,
              "#d8576b"
             ],
             [
              0.6666666666666666,
              "#ed7953"
             ],
             [
              0.7777777777777778,
              "#fb9f3a"
             ],
             [
              0.8888888888888888,
              "#fdca26"
             ],
             [
              1,
              "#f0f921"
             ]
            ],
            "type": "contour"
           }
          ],
          "contourcarpet": [
           {
            "colorbar": {
             "outlinewidth": 0,
             "ticks": ""
            },
            "type": "contourcarpet"
           }
          ],
          "heatmap": [
           {
            "colorbar": {
             "outlinewidth": 0,
             "ticks": ""
            },
            "colorscale": [
             [
              0,
              "#0d0887"
             ],
             [
              0.1111111111111111,
              "#46039f"
             ],
             [
              0.2222222222222222,
              "#7201a8"
             ],
             [
              0.3333333333333333,
              "#9c179e"
             ],
             [
              0.4444444444444444,
              "#bd3786"
             ],
             [
              0.5555555555555556,
              "#d8576b"
             ],
             [
              0.6666666666666666,
              "#ed7953"
             ],
             [
              0.7777777777777778,
              "#fb9f3a"
             ],
             [
              0.8888888888888888,
              "#fdca26"
             ],
             [
              1,
              "#f0f921"
             ]
            ],
            "type": "heatmap"
           }
          ],
          "heatmapgl": [
           {
            "colorbar": {
             "outlinewidth": 0,
             "ticks": ""
            },
            "colorscale": [
             [
              0,
              "#0d0887"
             ],
             [
              0.1111111111111111,
              "#46039f"
             ],
             [
              0.2222222222222222,
              "#7201a8"
             ],
             [
              0.3333333333333333,
              "#9c179e"
             ],
             [
              0.4444444444444444,
              "#bd3786"
             ],
             [
              0.5555555555555556,
              "#d8576b"
             ],
             [
              0.6666666666666666,
              "#ed7953"
             ],
             [
              0.7777777777777778,
              "#fb9f3a"
             ],
             [
              0.8888888888888888,
              "#fdca26"
             ],
             [
              1,
              "#f0f921"
             ]
            ],
            "type": "heatmapgl"
           }
          ],
          "histogram": [
           {
            "marker": {
             "colorbar": {
              "outlinewidth": 0,
              "ticks": ""
             }
            },
            "type": "histogram"
           }
          ],
          "histogram2d": [
           {
            "colorbar": {
             "outlinewidth": 0,
             "ticks": ""
            },
            "colorscale": [
             [
              0,
              "#0d0887"
             ],
             [
              0.1111111111111111,
              "#46039f"
             ],
             [
              0.2222222222222222,
              "#7201a8"
             ],
             [
              0.3333333333333333,
              "#9c179e"
             ],
             [
              0.4444444444444444,
              "#bd3786"
             ],
             [
              0.5555555555555556,
              "#d8576b"
             ],
             [
              0.6666666666666666,
              "#ed7953"
             ],
             [
              0.7777777777777778,
              "#fb9f3a"
             ],
             [
              0.8888888888888888,
              "#fdca26"
             ],
             [
              1,
              "#f0f921"
             ]
            ],
            "type": "histogram2d"
           }
          ],
          "histogram2dcontour": [
           {
            "colorbar": {
             "outlinewidth": 0,
             "ticks": ""
            },
            "colorscale": [
             [
              0,
              "#0d0887"
             ],
             [
              0.1111111111111111,
              "#46039f"
             ],
             [
              0.2222222222222222,
              "#7201a8"
             ],
             [
              0.3333333333333333,
              "#9c179e"
             ],
             [
              0.4444444444444444,
              "#bd3786"
             ],
             [
              0.5555555555555556,
              "#d8576b"
             ],
             [
              0.6666666666666666,
              "#ed7953"
             ],
             [
              0.7777777777777778,
              "#fb9f3a"
             ],
             [
              0.8888888888888888,
              "#fdca26"
             ],
             [
              1,
              "#f0f921"
             ]
            ],
            "type": "histogram2dcontour"
           }
          ],
          "mesh3d": [
           {
            "colorbar": {
             "outlinewidth": 0,
             "ticks": ""
            },
            "type": "mesh3d"
           }
          ],
          "parcoords": [
           {
            "line": {
             "colorbar": {
              "outlinewidth": 0,
              "ticks": ""
             }
            },
            "type": "parcoords"
           }
          ],
          "pie": [
           {
            "automargin": true,
            "type": "pie"
           }
          ],
          "scatter": [
           {
            "marker": {
             "colorbar": {
              "outlinewidth": 0,
              "ticks": ""
             }
            },
            "type": "scatter"
           }
          ],
          "scatter3d": [
           {
            "line": {
             "colorbar": {
              "outlinewidth": 0,
              "ticks": ""
             }
            },
            "marker": {
             "colorbar": {
              "outlinewidth": 0,
              "ticks": ""
             }
            },
            "type": "scatter3d"
           }
          ],
          "scattercarpet": [
           {
            "marker": {
             "colorbar": {
              "outlinewidth": 0,
              "ticks": ""
             }
            },
            "type": "scattercarpet"
           }
          ],
          "scattergeo": [
           {
            "marker": {
             "colorbar": {
              "outlinewidth": 0,
              "ticks": ""
             }
            },
            "type": "scattergeo"
           }
          ],
          "scattergl": [
           {
            "marker": {
             "colorbar": {
              "outlinewidth": 0,
              "ticks": ""
             }
            },
            "type": "scattergl"
           }
          ],
          "scattermapbox": [
           {
            "marker": {
             "colorbar": {
              "outlinewidth": 0,
              "ticks": ""
             }
            },
            "type": "scattermapbox"
           }
          ],
          "scatterpolar": [
           {
            "marker": {
             "colorbar": {
              "outlinewidth": 0,
              "ticks": ""
             }
            },
            "type": "scatterpolar"
           }
          ],
          "scatterpolargl": [
           {
            "marker": {
             "colorbar": {
              "outlinewidth": 0,
              "ticks": ""
             }
            },
            "type": "scatterpolargl"
           }
          ],
          "scatterternary": [
           {
            "marker": {
             "colorbar": {
              "outlinewidth": 0,
              "ticks": ""
             }
            },
            "type": "scatterternary"
           }
          ],
          "surface": [
           {
            "colorbar": {
             "outlinewidth": 0,
             "ticks": ""
            },
            "colorscale": [
             [
              0,
              "#0d0887"
             ],
             [
              0.1111111111111111,
              "#46039f"
             ],
             [
              0.2222222222222222,
              "#7201a8"
             ],
             [
              0.3333333333333333,
              "#9c179e"
             ],
             [
              0.4444444444444444,
              "#bd3786"
             ],
             [
              0.5555555555555556,
              "#d8576b"
             ],
             [
              0.6666666666666666,
              "#ed7953"
             ],
             [
              0.7777777777777778,
              "#fb9f3a"
             ],
             [
              0.8888888888888888,
              "#fdca26"
             ],
             [
              1,
              "#f0f921"
             ]
            ],
            "type": "surface"
           }
          ],
          "table": [
           {
            "cells": {
             "fill": {
              "color": "#EBF0F8"
             },
             "line": {
              "color": "white"
             }
            },
            "header": {
             "fill": {
              "color": "#C8D4E3"
             },
             "line": {
              "color": "white"
             }
            },
            "type": "table"
           }
          ]
         },
         "layout": {
          "annotationdefaults": {
           "arrowcolor": "#2a3f5f",
           "arrowhead": 0,
           "arrowwidth": 1
          },
          "autotypenumbers": "strict",
          "coloraxis": {
           "colorbar": {
            "outlinewidth": 0,
            "ticks": ""
           }
          },
          "colorscale": {
           "diverging": [
            [
             0,
             "#8e0152"
            ],
            [
             0.1,
             "#c51b7d"
            ],
            [
             0.2,
             "#de77ae"
            ],
            [
             0.3,
             "#f1b6da"
            ],
            [
             0.4,
             "#fde0ef"
            ],
            [
             0.5,
             "#f7f7f7"
            ],
            [
             0.6,
             "#e6f5d0"
            ],
            [
             0.7,
             "#b8e186"
            ],
            [
             0.8,
             "#7fbc41"
            ],
            [
             0.9,
             "#4d9221"
            ],
            [
             1,
             "#276419"
            ]
           ],
           "sequential": [
            [
             0,
             "#0d0887"
            ],
            [
             0.1111111111111111,
             "#46039f"
            ],
            [
             0.2222222222222222,
             "#7201a8"
            ],
            [
             0.3333333333333333,
             "#9c179e"
            ],
            [
             0.4444444444444444,
             "#bd3786"
            ],
            [
             0.5555555555555556,
             "#d8576b"
            ],
            [
             0.6666666666666666,
             "#ed7953"
            ],
            [
             0.7777777777777778,
             "#fb9f3a"
            ],
            [
             0.8888888888888888,
             "#fdca26"
            ],
            [
             1,
             "#f0f921"
            ]
           ],
           "sequentialminus": [
            [
             0,
             "#0d0887"
            ],
            [
             0.1111111111111111,
             "#46039f"
            ],
            [
             0.2222222222222222,
             "#7201a8"
            ],
            [
             0.3333333333333333,
             "#9c179e"
            ],
            [
             0.4444444444444444,
             "#bd3786"
            ],
            [
             0.5555555555555556,
             "#d8576b"
            ],
            [
             0.6666666666666666,
             "#ed7953"
            ],
            [
             0.7777777777777778,
             "#fb9f3a"
            ],
            [
             0.8888888888888888,
             "#fdca26"
            ],
            [
             1,
             "#f0f921"
            ]
           ]
          },
          "colorway": [
           "#636efa",
           "#EF553B",
           "#00cc96",
           "#ab63fa",
           "#FFA15A",
           "#19d3f3",
           "#FF6692",
           "#B6E880",
           "#FF97FF",
           "#FECB52"
          ],
          "font": {
           "color": "#2a3f5f"
          },
          "geo": {
           "bgcolor": "white",
           "lakecolor": "white",
           "landcolor": "#E5ECF6",
           "showlakes": true,
           "showland": true,
           "subunitcolor": "white"
          },
          "hoverlabel": {
           "align": "left"
          },
          "hovermode": "closest",
          "mapbox": {
           "style": "light"
          },
          "paper_bgcolor": "white",
          "plot_bgcolor": "#E5ECF6",
          "polar": {
           "angularaxis": {
            "gridcolor": "white",
            "linecolor": "white",
            "ticks": ""
           },
           "bgcolor": "#E5ECF6",
           "radialaxis": {
            "gridcolor": "white",
            "linecolor": "white",
            "ticks": ""
           }
          },
          "scene": {
           "xaxis": {
            "backgroundcolor": "#E5ECF6",
            "gridcolor": "white",
            "gridwidth": 2,
            "linecolor": "white",
            "showbackground": true,
            "ticks": "",
            "zerolinecolor": "white"
           },
           "yaxis": {
            "backgroundcolor": "#E5ECF6",
            "gridcolor": "white",
            "gridwidth": 2,
            "linecolor": "white",
            "showbackground": true,
            "ticks": "",
            "zerolinecolor": "white"
           },
           "zaxis": {
            "backgroundcolor": "#E5ECF6",
            "gridcolor": "white",
            "gridwidth": 2,
            "linecolor": "white",
            "showbackground": true,
            "ticks": "",
            "zerolinecolor": "white"
           }
          },
          "shapedefaults": {
           "line": {
            "color": "#2a3f5f"
           }
          },
          "ternary": {
           "aaxis": {
            "gridcolor": "white",
            "linecolor": "white",
            "ticks": ""
           },
           "baxis": {
            "gridcolor": "white",
            "linecolor": "white",
            "ticks": ""
           },
           "bgcolor": "#E5ECF6",
           "caxis": {
            "gridcolor": "white",
            "linecolor": "white",
            "ticks": ""
           }
          },
          "title": {
           "x": 0.05
          },
          "xaxis": {
           "automargin": true,
           "gridcolor": "white",
           "linecolor": "white",
           "ticks": "",
           "title": {
            "standoff": 15
           },
           "zerolinecolor": "white",
           "zerolinewidth": 2
          },
          "yaxis": {
           "automargin": true,
           "gridcolor": "white",
           "linecolor": "white",
           "ticks": "",
           "title": {
            "standoff": 15
           },
           "zerolinecolor": "white",
           "zerolinewidth": 2
          }
         }
        },
        "title": {
         "text": "Number of products per category_id"
        },
        "xaxis": {
         "anchor": "y",
         "domain": [
          0,
          1
         ]
        },
        "yaxis": {
         "anchor": "x",
         "domain": [
          0,
          1
         ],
         "title": {
          "text": "count(product_id)"
         }
        }
       }
      }
     },
     "metadata": {}
    }
   ],
   "source": [
    "sdf_product_per_category = sdf_raw.groupBy(\"category_id\").agg(f.countDistinct(\"product_id\"))\n",
    "\n",
    "df = sdf_product_per_category.toPandas()\n",
    "px.box(df, y=\"count(product_id)\", title=\"Number of products per category_id\")"
   ]
  },
  {
   "cell_type": "code",
   "execution_count": 39,
   "metadata": {},
   "outputs": [
    {
     "output_type": "display_data",
     "data": {
      "application/vnd.plotly.v1+json": {
       "config": {
        "plotlyServerURL": "https://plot.ly"
       },
       "data": [
        {
         "branchvalues": "total",
         "domain": {
          "x": [
           0,
           1
          ],
          "y": [
           0,
           1
          ]
         },
         "hovertemplate": "labels=%{label}<br>count=%{value}<br>parent=%{parent}<br>id=%{id}<extra></extra>",
         "ids": [
          "computers/acer",
          "electronics/acme",
          "not defined/acme",
          "electronics/alphard",
          "auto/ams",
          "not defined/aoteli",
          "computers/apple",
          "electronics/apple",
          "appliances/arg",
          "electronics/armani",
          "not defined/arrivo",
          "computers/asus",
          "electronics/avatar",
          "appliances/beko",
          "appliances/bosch",
          "not defined/bosch",
          "appliances/braun",
          "furniture/brw",
          "not defined/brw",
          "computers/canon",
          "not defined/canon",
          "not defined/carfashion",
          "electronics/casio",
          "not defined/chanel",
          "not defined/cordiant",
          "not defined/creed",
          "not defined/denn",
          "auto/denzel",
          "not defined/denzel",
          "construction/dewalt",
          "construction/dwt",
          "electronics/element",
          "computers/epson",
          "not defined/eveline",
          "not defined/evelinecosmetics",
          "accessories/fisherman",
          "not defined/force",
          "construction/fubag",
          "appliances/galanz",
          "electronics/garmin",
          "not defined/givenchy",
          "not defined/gkhair",
          "apparel/goodloot",
          "not defined/harley-davidson",
          "not defined/honor",
          "computers/hp",
          "electronics/hp",
          "electronics/huawei",
          "not defined/humminbird",
          "not defined/hycell",
          "not defined/hyper",
          "appliances/indesit",
          "not defined/irbis",
          "appliances/janome",
          "apparel/jordan",
          "not defined/kirkland",
          "not defined/kolner",
          "auto/laston",
          "computers/lenovo",
          "appliances/lg",
          "not defined/lider",
          "not defined/lucente",
          "not defined/luminarc",
          "construction/magnetta",
          "furniture/mamadoma",
          "not defined/matrix",
          "not defined/merelani",
          "not defined/michelin",
          "appliances/midea",
          "not defined/montale",
          "furniture/nika",
          "not defined/nokian",
          "apparel/not defined",
          "appliances/not defined",
          "auto/not defined",
          "computers/not defined",
          "construction/not defined",
          "electronics/not defined",
          "furniture/not defined",
          "not defined/not defined",
          "appliances/oasis",
          "electronics/oppo",
          "appliances/oster",
          "apparel/pablosky",
          "computers/palit",
          "not defined/peda",
          "auto/pioneer",
          "electronics/pioneer",
          "kids/pituso",
          "not defined/prologic",
          "not defined/redmond",
          "not defined/rezult",
          "not defined/roadx",
          "not defined/rondell",
          "appliances/samsung",
          "electronics/samsung",
          "auto/sho-me",
          "not defined/skad",
          "computers/smart",
          "appliances/smeg",
          "not defined/sokolov",
          "not defined/sony",
          "construction/stanley",
          "not defined/stels",
          "not defined/sulu",
          "not defined/sv",
          "not defined/t-rex",
          "not defined/tarkett",
          "appliances/tefal",
          "electronics/tissot",
          "not defined/tomfarr",
          "not defined/trussardi",
          "not defined/welly",
          "electronics/xiaomi",
          "not defined/xiaomi",
          "not defined/yokohama",
          "accessories",
          "apparel",
          "appliances",
          "auto",
          "computers",
          "construction",
          "electronics",
          "furniture",
          "kids",
          "not defined"
         ],
         "labels": [
          "acer",
          "acme",
          "acme",
          "alphard",
          "ams",
          "aoteli",
          "apple",
          "apple",
          "arg",
          "armani",
          "arrivo",
          "asus",
          "avatar",
          "beko",
          "bosch",
          "bosch",
          "braun",
          "brw",
          "brw",
          "canon",
          "canon",
          "carfashion",
          "casio",
          "chanel",
          "cordiant",
          "creed",
          "denn",
          "denzel",
          "denzel",
          "dewalt",
          "dwt",
          "element",
          "epson",
          "eveline",
          "evelinecosmetics",
          "fisherman",
          "force",
          "fubag",
          "galanz",
          "garmin",
          "givenchy",
          "gkhair",
          "goodloot",
          "harley-davidson",
          "honor",
          "hp",
          "hp",
          "huawei",
          "humminbird",
          "hycell",
          "hyper",
          "indesit",
          "irbis",
          "janome",
          "jordan",
          "kirkland",
          "kolner",
          "laston",
          "lenovo",
          "lg",
          "lider",
          "lucente",
          "luminarc",
          "magnetta",
          "mamadoma",
          "matrix",
          "merelani",
          "michelin",
          "midea",
          "montale",
          "nika",
          "nokian",
          "not defined",
          "not defined",
          "not defined",
          "not defined",
          "not defined",
          "not defined",
          "not defined",
          "not defined",
          "oasis",
          "oppo",
          "oster",
          "pablosky",
          "palit",
          "peda",
          "pioneer",
          "pioneer",
          "pituso",
          "prologic",
          "redmond",
          "rezult",
          "roadx",
          "rondell",
          "samsung",
          "samsung",
          "sho-me",
          "skad",
          "smart",
          "smeg",
          "sokolov",
          "sony",
          "stanley",
          "stels",
          "sulu",
          "sv",
          "t-rex",
          "tarkett",
          "tefal",
          "tissot",
          "tomfarr",
          "trussardi",
          "welly",
          "xiaomi",
          "xiaomi",
          "yokohama",
          "accessories",
          "apparel",
          "appliances",
          "auto",
          "computers",
          "construction",
          "electronics",
          "furniture",
          "kids",
          "not defined"
         ],
         "name": "",
         "parents": [
          "computers",
          "electronics",
          "not defined",
          "electronics",
          "auto",
          "not defined",
          "computers",
          "electronics",
          "appliances",
          "electronics",
          "not defined",
          "computers",
          "electronics",
          "appliances",
          "appliances",
          "not defined",
          "appliances",
          "furniture",
          "not defined",
          "computers",
          "not defined",
          "not defined",
          "electronics",
          "not defined",
          "not defined",
          "not defined",
          "not defined",
          "auto",
          "not defined",
          "construction",
          "construction",
          "electronics",
          "computers",
          "not defined",
          "not defined",
          "accessories",
          "not defined",
          "construction",
          "appliances",
          "electronics",
          "not defined",
          "not defined",
          "apparel",
          "not defined",
          "not defined",
          "computers",
          "electronics",
          "electronics",
          "not defined",
          "not defined",
          "not defined",
          "appliances",
          "not defined",
          "appliances",
          "apparel",
          "not defined",
          "not defined",
          "auto",
          "computers",
          "appliances",
          "not defined",
          "not defined",
          "not defined",
          "construction",
          "furniture",
          "not defined",
          "not defined",
          "not defined",
          "appliances",
          "not defined",
          "furniture",
          "not defined",
          "apparel",
          "appliances",
          "auto",
          "computers",
          "construction",
          "electronics",
          "furniture",
          "not defined",
          "appliances",
          "electronics",
          "appliances",
          "apparel",
          "computers",
          "not defined",
          "auto",
          "electronics",
          "kids",
          "not defined",
          "not defined",
          "not defined",
          "not defined",
          "not defined",
          "appliances",
          "electronics",
          "auto",
          "not defined",
          "computers",
          "appliances",
          "not defined",
          "not defined",
          "construction",
          "not defined",
          "not defined",
          "not defined",
          "not defined",
          "not defined",
          "appliances",
          "electronics",
          "not defined",
          "not defined",
          "not defined",
          "electronics",
          "not defined",
          "not defined",
          "",
          "",
          "",
          "",
          "",
          "",
          "",
          "",
          "",
          ""
         ],
         "type": "sunburst",
         "values": [
          3,
          2,
          1,
          1,
          3,
          1,
          3,
          15,
          1,
          1,
          1,
          3,
          1,
          1,
          3,
          1,
          1,
          1,
          3,
          1,
          2,
          1,
          1,
          1,
          2,
          1,
          1,
          1,
          1,
          3,
          1,
          1,
          1,
          1,
          1,
          1,
          2,
          1,
          1,
          1,
          1,
          1,
          1,
          1,
          1,
          8,
          1,
          6,
          1,
          1,
          1,
          1,
          1,
          2,
          1,
          4,
          1,
          1,
          2,
          1,
          1,
          3,
          1,
          1,
          1,
          1,
          1,
          3,
          1,
          1,
          2,
          1,
          3,
          2,
          2,
          1,
          1,
          1,
          11,
          26,
          1,
          1,
          1,
          1,
          2,
          2,
          1,
          1,
          1,
          1,
          2,
          1,
          1,
          2,
          2,
          11,
          1,
          1,
          1,
          1,
          1,
          2,
          1,
          1,
          1,
          1,
          1,
          1,
          1,
          4,
          1,
          3,
          1,
          14,
          1,
          2,
          1,
          6,
          20,
          9,
          25,
          8,
          62,
          15,
          1,
          97
         ]
        }
       ],
       "layout": {
        "legend": {
         "tracegroupgap": 0
        },
        "template": {
         "data": {
          "bar": [
           {
            "error_x": {
             "color": "#2a3f5f"
            },
            "error_y": {
             "color": "#2a3f5f"
            },
            "marker": {
             "line": {
              "color": "#E5ECF6",
              "width": 0.5
             }
            },
            "type": "bar"
           }
          ],
          "barpolar": [
           {
            "marker": {
             "line": {
              "color": "#E5ECF6",
              "width": 0.5
             }
            },
            "type": "barpolar"
           }
          ],
          "carpet": [
           {
            "aaxis": {
             "endlinecolor": "#2a3f5f",
             "gridcolor": "white",
             "linecolor": "white",
             "minorgridcolor": "white",
             "startlinecolor": "#2a3f5f"
            },
            "baxis": {
             "endlinecolor": "#2a3f5f",
             "gridcolor": "white",
             "linecolor": "white",
             "minorgridcolor": "white",
             "startlinecolor": "#2a3f5f"
            },
            "type": "carpet"
           }
          ],
          "choropleth": [
           {
            "colorbar": {
             "outlinewidth": 0,
             "ticks": ""
            },
            "type": "choropleth"
           }
          ],
          "contour": [
           {
            "colorbar": {
             "outlinewidth": 0,
             "ticks": ""
            },
            "colorscale": [
             [
              0,
              "#0d0887"
             ],
             [
              0.1111111111111111,
              "#46039f"
             ],
             [
              0.2222222222222222,
              "#7201a8"
             ],
             [
              0.3333333333333333,
              "#9c179e"
             ],
             [
              0.4444444444444444,
              "#bd3786"
             ],
             [
              0.5555555555555556,
              "#d8576b"
             ],
             [
              0.6666666666666666,
              "#ed7953"
             ],
             [
              0.7777777777777778,
              "#fb9f3a"
             ],
             [
              0.8888888888888888,
              "#fdca26"
             ],
             [
              1,
              "#f0f921"
             ]
            ],
            "type": "contour"
           }
          ],
          "contourcarpet": [
           {
            "colorbar": {
             "outlinewidth": 0,
             "ticks": ""
            },
            "type": "contourcarpet"
           }
          ],
          "heatmap": [
           {
            "colorbar": {
             "outlinewidth": 0,
             "ticks": ""
            },
            "colorscale": [
             [
              0,
              "#0d0887"
             ],
             [
              0.1111111111111111,
              "#46039f"
             ],
             [
              0.2222222222222222,
              "#7201a8"
             ],
             [
              0.3333333333333333,
              "#9c179e"
             ],
             [
              0.4444444444444444,
              "#bd3786"
             ],
             [
              0.5555555555555556,
              "#d8576b"
             ],
             [
              0.6666666666666666,
              "#ed7953"
             ],
             [
              0.7777777777777778,
              "#fb9f3a"
             ],
             [
              0.8888888888888888,
              "#fdca26"
             ],
             [
              1,
              "#f0f921"
             ]
            ],
            "type": "heatmap"
           }
          ],
          "heatmapgl": [
           {
            "colorbar": {
             "outlinewidth": 0,
             "ticks": ""
            },
            "colorscale": [
             [
              0,
              "#0d0887"
             ],
             [
              0.1111111111111111,
              "#46039f"
             ],
             [
              0.2222222222222222,
              "#7201a8"
             ],
             [
              0.3333333333333333,
              "#9c179e"
             ],
             [
              0.4444444444444444,
              "#bd3786"
             ],
             [
              0.5555555555555556,
              "#d8576b"
             ],
             [
              0.6666666666666666,
              "#ed7953"
             ],
             [
              0.7777777777777778,
              "#fb9f3a"
             ],
             [
              0.8888888888888888,
              "#fdca26"
             ],
             [
              1,
              "#f0f921"
             ]
            ],
            "type": "heatmapgl"
           }
          ],
          "histogram": [
           {
            "marker": {
             "colorbar": {
              "outlinewidth": 0,
              "ticks": ""
             }
            },
            "type": "histogram"
           }
          ],
          "histogram2d": [
           {
            "colorbar": {
             "outlinewidth": 0,
             "ticks": ""
            },
            "colorscale": [
             [
              0,
              "#0d0887"
             ],
             [
              0.1111111111111111,
              "#46039f"
             ],
             [
              0.2222222222222222,
              "#7201a8"
             ],
             [
              0.3333333333333333,
              "#9c179e"
             ],
             [
              0.4444444444444444,
              "#bd3786"
             ],
             [
              0.5555555555555556,
              "#d8576b"
             ],
             [
              0.6666666666666666,
              "#ed7953"
             ],
             [
              0.7777777777777778,
              "#fb9f3a"
             ],
             [
              0.8888888888888888,
              "#fdca26"
             ],
             [
              1,
              "#f0f921"
             ]
            ],
            "type": "histogram2d"
           }
          ],
          "histogram2dcontour": [
           {
            "colorbar": {
             "outlinewidth": 0,
             "ticks": ""
            },
            "colorscale": [
             [
              0,
              "#0d0887"
             ],
             [
              0.1111111111111111,
              "#46039f"
             ],
             [
              0.2222222222222222,
              "#7201a8"
             ],
             [
              0.3333333333333333,
              "#9c179e"
             ],
             [
              0.4444444444444444,
              "#bd3786"
             ],
             [
              0.5555555555555556,
              "#d8576b"
             ],
             [
              0.6666666666666666,
              "#ed7953"
             ],
             [
              0.7777777777777778,
              "#fb9f3a"
             ],
             [
              0.8888888888888888,
              "#fdca26"
             ],
             [
              1,
              "#f0f921"
             ]
            ],
            "type": "histogram2dcontour"
           }
          ],
          "mesh3d": [
           {
            "colorbar": {
             "outlinewidth": 0,
             "ticks": ""
            },
            "type": "mesh3d"
           }
          ],
          "parcoords": [
           {
            "line": {
             "colorbar": {
              "outlinewidth": 0,
              "ticks": ""
             }
            },
            "type": "parcoords"
           }
          ],
          "pie": [
           {
            "automargin": true,
            "type": "pie"
           }
          ],
          "scatter": [
           {
            "marker": {
             "colorbar": {
              "outlinewidth": 0,
              "ticks": ""
             }
            },
            "type": "scatter"
           }
          ],
          "scatter3d": [
           {
            "line": {
             "colorbar": {
              "outlinewidth": 0,
              "ticks": ""
             }
            },
            "marker": {
             "colorbar": {
              "outlinewidth": 0,
              "ticks": ""
             }
            },
            "type": "scatter3d"
           }
          ],
          "scattercarpet": [
           {
            "marker": {
             "colorbar": {
              "outlinewidth": 0,
              "ticks": ""
             }
            },
            "type": "scattercarpet"
           }
          ],
          "scattergeo": [
           {
            "marker": {
             "colorbar": {
              "outlinewidth": 0,
              "ticks": ""
             }
            },
            "type": "scattergeo"
           }
          ],
          "scattergl": [
           {
            "marker": {
             "colorbar": {
              "outlinewidth": 0,
              "ticks": ""
             }
            },
            "type": "scattergl"
           }
          ],
          "scattermapbox": [
           {
            "marker": {
             "colorbar": {
              "outlinewidth": 0,
              "ticks": ""
             }
            },
            "type": "scattermapbox"
           }
          ],
          "scatterpolar": [
           {
            "marker": {
             "colorbar": {
              "outlinewidth": 0,
              "ticks": ""
             }
            },
            "type": "scatterpolar"
           }
          ],
          "scatterpolargl": [
           {
            "marker": {
             "colorbar": {
              "outlinewidth": 0,
              "ticks": ""
             }
            },
            "type": "scatterpolargl"
           }
          ],
          "scatterternary": [
           {
            "marker": {
             "colorbar": {
              "outlinewidth": 0,
              "ticks": ""
             }
            },
            "type": "scatterternary"
           }
          ],
          "surface": [
           {
            "colorbar": {
             "outlinewidth": 0,
             "ticks": ""
            },
            "colorscale": [
             [
              0,
              "#0d0887"
             ],
             [
              0.1111111111111111,
              "#46039f"
             ],
             [
              0.2222222222222222,
              "#7201a8"
             ],
             [
              0.3333333333333333,
              "#9c179e"
             ],
             [
              0.4444444444444444,
              "#bd3786"
             ],
             [
              0.5555555555555556,
              "#d8576b"
             ],
             [
              0.6666666666666666,
              "#ed7953"
             ],
             [
              0.7777777777777778,
              "#fb9f3a"
             ],
             [
              0.8888888888888888,
              "#fdca26"
             ],
             [
              1,
              "#f0f921"
             ]
            ],
            "type": "surface"
           }
          ],
          "table": [
           {
            "cells": {
             "fill": {
              "color": "#EBF0F8"
             },
             "line": {
              "color": "white"
             }
            },
            "header": {
             "fill": {
              "color": "#C8D4E3"
             },
             "line": {
              "color": "white"
             }
            },
            "type": "table"
           }
          ]
         },
         "layout": {
          "annotationdefaults": {
           "arrowcolor": "#2a3f5f",
           "arrowhead": 0,
           "arrowwidth": 1
          },
          "autotypenumbers": "strict",
          "coloraxis": {
           "colorbar": {
            "outlinewidth": 0,
            "ticks": ""
           }
          },
          "colorscale": {
           "diverging": [
            [
             0,
             "#8e0152"
            ],
            [
             0.1,
             "#c51b7d"
            ],
            [
             0.2,
             "#de77ae"
            ],
            [
             0.3,
             "#f1b6da"
            ],
            [
             0.4,
             "#fde0ef"
            ],
            [
             0.5,
             "#f7f7f7"
            ],
            [
             0.6,
             "#e6f5d0"
            ],
            [
             0.7,
             "#b8e186"
            ],
            [
             0.8,
             "#7fbc41"
            ],
            [
             0.9,
             "#4d9221"
            ],
            [
             1,
             "#276419"
            ]
           ],
           "sequential": [
            [
             0,
             "#0d0887"
            ],
            [
             0.1111111111111111,
             "#46039f"
            ],
            [
             0.2222222222222222,
             "#7201a8"
            ],
            [
             0.3333333333333333,
             "#9c179e"
            ],
            [
             0.4444444444444444,
             "#bd3786"
            ],
            [
             0.5555555555555556,
             "#d8576b"
            ],
            [
             0.6666666666666666,
             "#ed7953"
            ],
            [
             0.7777777777777778,
             "#fb9f3a"
            ],
            [
             0.8888888888888888,
             "#fdca26"
            ],
            [
             1,
             "#f0f921"
            ]
           ],
           "sequentialminus": [
            [
             0,
             "#0d0887"
            ],
            [
             0.1111111111111111,
             "#46039f"
            ],
            [
             0.2222222222222222,
             "#7201a8"
            ],
            [
             0.3333333333333333,
             "#9c179e"
            ],
            [
             0.4444444444444444,
             "#bd3786"
            ],
            [
             0.5555555555555556,
             "#d8576b"
            ],
            [
             0.6666666666666666,
             "#ed7953"
            ],
            [
             0.7777777777777778,
             "#fb9f3a"
            ],
            [
             0.8888888888888888,
             "#fdca26"
            ],
            [
             1,
             "#f0f921"
            ]
           ]
          },
          "colorway": [
           "#636efa",
           "#EF553B",
           "#00cc96",
           "#ab63fa",
           "#FFA15A",
           "#19d3f3",
           "#FF6692",
           "#B6E880",
           "#FF97FF",
           "#FECB52"
          ],
          "font": {
           "color": "#2a3f5f"
          },
          "geo": {
           "bgcolor": "white",
           "lakecolor": "white",
           "landcolor": "#E5ECF6",
           "showlakes": true,
           "showland": true,
           "subunitcolor": "white"
          },
          "hoverlabel": {
           "align": "left"
          },
          "hovermode": "closest",
          "mapbox": {
           "style": "light"
          },
          "paper_bgcolor": "white",
          "plot_bgcolor": "#E5ECF6",
          "polar": {
           "angularaxis": {
            "gridcolor": "white",
            "linecolor": "white",
            "ticks": ""
           },
           "bgcolor": "#E5ECF6",
           "radialaxis": {
            "gridcolor": "white",
            "linecolor": "white",
            "ticks": ""
           }
          },
          "scene": {
           "xaxis": {
            "backgroundcolor": "#E5ECF6",
            "gridcolor": "white",
            "gridwidth": 2,
            "linecolor": "white",
            "showbackground": true,
            "ticks": "",
            "zerolinecolor": "white"
           },
           "yaxis": {
            "backgroundcolor": "#E5ECF6",
            "gridcolor": "white",
            "gridwidth": 2,
            "linecolor": "white",
            "showbackground": true,
            "ticks": "",
            "zerolinecolor": "white"
           },
           "zaxis": {
            "backgroundcolor": "#E5ECF6",
            "gridcolor": "white",
            "gridwidth": 2,
            "linecolor": "white",
            "showbackground": true,
            "ticks": "",
            "zerolinecolor": "white"
           }
          },
          "shapedefaults": {
           "line": {
            "color": "#2a3f5f"
           }
          },
          "ternary": {
           "aaxis": {
            "gridcolor": "white",
            "linecolor": "white",
            "ticks": ""
           },
           "baxis": {
            "gridcolor": "white",
            "linecolor": "white",
            "ticks": ""
           },
           "bgcolor": "#E5ECF6",
           "caxis": {
            "gridcolor": "white",
            "linecolor": "white",
            "ticks": ""
           }
          },
          "title": {
           "x": 0.05
          },
          "xaxis": {
           "automargin": true,
           "gridcolor": "white",
           "linecolor": "white",
           "ticks": "",
           "title": {
            "standoff": 15
           },
           "zerolinecolor": "white",
           "zerolinewidth": 2
          },
          "yaxis": {
           "automargin": true,
           "gridcolor": "white",
           "linecolor": "white",
           "ticks": "",
           "title": {
            "standoff": 15
           },
           "zerolinecolor": "white",
           "zerolinewidth": 2
          }
         }
        },
        "title": {
         "text": "Brands per Category_class"
        }
       }
      }
     },
     "metadata": {}
    }
   ],
   "source": [
    "sdf_agg_brand_category = sdf_raw.groupBy(\"category_class\", \"brand\", \"product_id\").count().na.fill(value=\"not defined\")\n",
    "px.sunburst(sdf_agg_brand_category.toPandas(), path=[\"category_class\", \"brand\"], values=\"count\", title=\"Brands per Category_class\")"
   ]
  },
  {
   "source": [
    "#### Connection to the price\n",
    "\n",
    "The following plots will represent the price distribution within the category_classes, category_codes, category_ids, product_ids and brands."
   ],
   "cell_type": "markdown",
   "metadata": {}
  },
  {
   "cell_type": "code",
   "execution_count": 40,
   "metadata": {},
   "outputs": [
    {
     "output_type": "display_data",
     "data": {
      "application/vnd.plotly.v1+json": {
       "config": {
        "plotlyServerURL": "https://plot.ly"
       },
       "data": [
        {
         "alignmentgroup": "True",
         "hovertemplate": "category_class=%{x}<br>price=%{y}<extra></extra>",
         "legendgroup": "",
         "marker": {
          "color": "#636efa"
         },
         "name": "",
         "notched": false,
         "offsetgroup": "",
         "orientation": "v",
         "showlegend": false,
         "type": "box",
         "x": [
          "electronics",
          "appliances",
          null,
          "appliances",
          "electronics",
          "computers",
          "computers",
          null,
          null,
          "electronics",
          "furniture",
          "appliances",
          "furniture",
          null,
          "appliances",
          null,
          null,
          null,
          "electronics",
          "computers",
          null,
          "electronics",
          null,
          "furniture",
          null,
          null,
          null,
          "electronics",
          "computers",
          "computers",
          null,
          "furniture",
          null,
          null,
          null,
          null,
          null,
          "electronics",
          "appliances",
          "electronics",
          "electronics",
          null,
          null,
          "appliances",
          "appliances",
          null,
          null,
          "electronics",
          null,
          "electronics",
          "electronics",
          "electronics",
          "apparel",
          "apparel",
          "electronics",
          "furniture",
          null,
          null,
          null,
          null,
          null,
          null,
          "computers",
          null,
          null,
          "electronics",
          null,
          null,
          "construction",
          "electronics",
          null,
          "auto",
          null,
          null,
          "furniture",
          "computers",
          null,
          "computers",
          null,
          "electronics",
          null,
          null,
          "electronics",
          null,
          "electronics",
          "computers",
          "auto",
          "computers",
          "electronics",
          null,
          "accessories",
          "appliances",
          "apparel",
          "electronics",
          null,
          "electronics",
          "electronics",
          "electronics",
          "appliances",
          null,
          "computers",
          "electronics",
          null,
          "computers",
          null,
          "electronics",
          "computers",
          "furniture",
          null,
          "electronics",
          "electronics",
          null,
          null,
          null,
          "appliances",
          null,
          null,
          "apparel",
          "auto",
          "construction",
          "computers",
          "electronics",
          "furniture",
          null,
          null,
          "furniture",
          null,
          "electronics",
          "electronics",
          "electronics",
          null,
          "electronics",
          null,
          "computers",
          "electronics",
          null,
          null,
          "computers",
          null,
          null,
          null,
          "computers",
          null,
          "auto",
          "electronics",
          "construction",
          "electronics",
          null,
          "electronics",
          null,
          null,
          null,
          "appliances",
          "electronics",
          "computers",
          null,
          "electronics",
          "appliances",
          "electronics",
          "electronics",
          "appliances",
          null,
          "computers",
          "auto",
          "construction",
          "electronics",
          null,
          null,
          "electronics",
          "electronics",
          "furniture",
          null,
          "computers",
          "appliances",
          "electronics",
          null,
          "auto",
          "furniture",
          null,
          null,
          "furniture",
          "electronics",
          "furniture",
          null,
          "apparel",
          null,
          "electronics",
          "construction",
          "electronics",
          "construction",
          "construction",
          null,
          "computers",
          null,
          "electronics",
          null,
          "furniture",
          "apparel",
          "construction",
          "electronics",
          null,
          "auto",
          "electronics",
          "computers",
          null,
          "electronics",
          "electronics",
          "electronics",
          "electronics",
          "computers",
          "electronics",
          null,
          null,
          null,
          null,
          null,
          "electronics",
          "auto",
          null,
          null,
          null,
          "computers",
          "furniture",
          "electronics",
          "electronics",
          null,
          "electronics",
          "appliances",
          "electronics",
          "computers",
          "kids",
          null,
          "appliances",
          "appliances",
          "appliances",
          null,
          "auto",
          null,
          "appliances",
          null,
          "electronics",
          null,
          "appliances",
          null
         ],
         "x0": " ",
         "xaxis": "x",
         "y": [
          489.07,
          293.65,
          28.31,
          712.87,
          183.27,
          360.09,
          514.56,
          30.86,
          72.72,
          732.07,
          437.33,
          155.11,
          31.64,
          20.54,
          411.83,
          1.09,
          8.55,
          22.68,
          164.84,
          411.59,
          88.81,
          151.99,
          7.07,
          591.78,
          55.33,
          11.79,
          7.59,
          949.47,
          514.79,
          360.34,
          38.07,
          47.77,
          23.4,
          23.14,
          61.1,
          127.42,
          54.06,
          69.24,
          108.09,
          458.28,
          503.09,
          119.69,
          437.29,
          32.66,
          684.44,
          511.13,
          15.62,
          386.08,
          248.66,
          211.92,
          895.78,
          289.33,
          8.73,
          40.16,
          928.18,
          47.77,
          66.9,
          8.55,
          134.37,
          51.48,
          83.91,
          28.19,
          385.85,
          733.61,
          105.54,
          128.42,
          50.19,
          43.73,
          98.51,
          84.65,
          5.77,
          157.28,
          252.77,
          20.77,
          34.75,
          287.83,
          91.12,
          151.14,
          61.75,
          1091.33,
          46.16,
          72.72,
          22.8,
          171.17,
          257.38,
          51.46,
          221.37,
          849.42,
          242.63,
          40.93,
          48.43,
          499.94,
          50.45,
          51.22,
          900.92,
          463.15,
          928.38,
          861.28,
          166.23,
          64.33,
          170.63,
          1013.86,
          28.19,
          411.59,
          280.05,
          1173.6,
          390.98,
          566.3,
          50.43,
          1091.33,
          946.73,
          58.17,
          61.75,
          17.49,
          314.08,
          47.62,
          47.32,
          46.08,
          180.18,
          226.83,
          514.79,
          489.07,
          70.27,
          511.13,
          751.63,
          136.4,
          182.76,
          172.22,
          172.23,
          41.19,
          257.15,
          398.72,
          378.36,
          2342.15,
          861.28,
          28.19,
          114.03,
          406.68,
          25.48,
          49.68,
          76.45,
          1209.55,
          72.72,
          113.93,
          928.38,
          254.78,
          334.37,
          244.28,
          242.63,
          70.53,
          118.41,
          7.34,
          293.65,
          22.8,
          203.84,
          77.22,
          125.61,
          684.44,
          128.42,
          1013.86,
          298.16,
          84.69,
          2312.8,
          229.09,
          48.35,
          167.02,
          40.93,
          177.1,
          211.92,
          2239.44,
          36.78,
          900.92,
          2496.59,
          128.68,
          195.37,
          10.17,
          221.37,
          207.21,
          277.23,
          32.18,
          36.78,
          58.69,
          566.3,
          69.5,
          65.38,
          30.43,
          218.51,
          150.95,
          127.33,
          46.82,
          29.86,
          65.64,
          411.34,
          72.59,
          165.26,
          97.34,
          566.3,
          102.71,
          24.71,
          293.44,
          397.54,
          221.37,
          183.27,
          432.42,
          1335.43,
          380.96,
          552.14,
          38.61,
          67.84,
          2311.49,
          133.83,
          224.46,
          72.07,
          20.57,
          51.22,
          257.15,
          732.07,
          140.1,
          105.54,
          23.37,
          198.18,
          169.36,
          168.06,
          194.76,
          565.63,
          33.44,
          229.83,
          69.47,
          88.29,
          1997.99,
          110.03,
          195.87,
          54.03,
          1375.64,
          147.15,
          119.69,
          123.53,
          56.63,
          36.01,
          56.37,
          700.81,
          51.46,
          12.91,
          159.59
         ],
         "y0": " ",
         "yaxis": "y"
        }
       ],
       "layout": {
        "boxmode": "group",
        "legend": {
         "tracegroupgap": 0
        },
        "template": {
         "data": {
          "bar": [
           {
            "error_x": {
             "color": "#2a3f5f"
            },
            "error_y": {
             "color": "#2a3f5f"
            },
            "marker": {
             "line": {
              "color": "#E5ECF6",
              "width": 0.5
             }
            },
            "type": "bar"
           }
          ],
          "barpolar": [
           {
            "marker": {
             "line": {
              "color": "#E5ECF6",
              "width": 0.5
             }
            },
            "type": "barpolar"
           }
          ],
          "carpet": [
           {
            "aaxis": {
             "endlinecolor": "#2a3f5f",
             "gridcolor": "white",
             "linecolor": "white",
             "minorgridcolor": "white",
             "startlinecolor": "#2a3f5f"
            },
            "baxis": {
             "endlinecolor": "#2a3f5f",
             "gridcolor": "white",
             "linecolor": "white",
             "minorgridcolor": "white",
             "startlinecolor": "#2a3f5f"
            },
            "type": "carpet"
           }
          ],
          "choropleth": [
           {
            "colorbar": {
             "outlinewidth": 0,
             "ticks": ""
            },
            "type": "choropleth"
           }
          ],
          "contour": [
           {
            "colorbar": {
             "outlinewidth": 0,
             "ticks": ""
            },
            "colorscale": [
             [
              0,
              "#0d0887"
             ],
             [
              0.1111111111111111,
              "#46039f"
             ],
             [
              0.2222222222222222,
              "#7201a8"
             ],
             [
              0.3333333333333333,
              "#9c179e"
             ],
             [
              0.4444444444444444,
              "#bd3786"
             ],
             [
              0.5555555555555556,
              "#d8576b"
             ],
             [
              0.6666666666666666,
              "#ed7953"
             ],
             [
              0.7777777777777778,
              "#fb9f3a"
             ],
             [
              0.8888888888888888,
              "#fdca26"
             ],
             [
              1,
              "#f0f921"
             ]
            ],
            "type": "contour"
           }
          ],
          "contourcarpet": [
           {
            "colorbar": {
             "outlinewidth": 0,
             "ticks": ""
            },
            "type": "contourcarpet"
           }
          ],
          "heatmap": [
           {
            "colorbar": {
             "outlinewidth": 0,
             "ticks": ""
            },
            "colorscale": [
             [
              0,
              "#0d0887"
             ],
             [
              0.1111111111111111,
              "#46039f"
             ],
             [
              0.2222222222222222,
              "#7201a8"
             ],
             [
              0.3333333333333333,
              "#9c179e"
             ],
             [
              0.4444444444444444,
              "#bd3786"
             ],
             [
              0.5555555555555556,
              "#d8576b"
             ],
             [
              0.6666666666666666,
              "#ed7953"
             ],
             [
              0.7777777777777778,
              "#fb9f3a"
             ],
             [
              0.8888888888888888,
              "#fdca26"
             ],
             [
              1,
              "#f0f921"
             ]
            ],
            "type": "heatmap"
           }
          ],
          "heatmapgl": [
           {
            "colorbar": {
             "outlinewidth": 0,
             "ticks": ""
            },
            "colorscale": [
             [
              0,
              "#0d0887"
             ],
             [
              0.1111111111111111,
              "#46039f"
             ],
             [
              0.2222222222222222,
              "#7201a8"
             ],
             [
              0.3333333333333333,
              "#9c179e"
             ],
             [
              0.4444444444444444,
              "#bd3786"
             ],
             [
              0.5555555555555556,
              "#d8576b"
             ],
             [
              0.6666666666666666,
              "#ed7953"
             ],
             [
              0.7777777777777778,
              "#fb9f3a"
             ],
             [
              0.8888888888888888,
              "#fdca26"
             ],
             [
              1,
              "#f0f921"
             ]
            ],
            "type": "heatmapgl"
           }
          ],
          "histogram": [
           {
            "marker": {
             "colorbar": {
              "outlinewidth": 0,
              "ticks": ""
             }
            },
            "type": "histogram"
           }
          ],
          "histogram2d": [
           {
            "colorbar": {
             "outlinewidth": 0,
             "ticks": ""
            },
            "colorscale": [
             [
              0,
              "#0d0887"
             ],
             [
              0.1111111111111111,
              "#46039f"
             ],
             [
              0.2222222222222222,
              "#7201a8"
             ],
             [
              0.3333333333333333,
              "#9c179e"
             ],
             [
              0.4444444444444444,
              "#bd3786"
             ],
             [
              0.5555555555555556,
              "#d8576b"
             ],
             [
              0.6666666666666666,
              "#ed7953"
             ],
             [
              0.7777777777777778,
              "#fb9f3a"
             ],
             [
              0.8888888888888888,
              "#fdca26"
             ],
             [
              1,
              "#f0f921"
             ]
            ],
            "type": "histogram2d"
           }
          ],
          "histogram2dcontour": [
           {
            "colorbar": {
             "outlinewidth": 0,
             "ticks": ""
            },
            "colorscale": [
             [
              0,
              "#0d0887"
             ],
             [
              0.1111111111111111,
              "#46039f"
             ],
             [
              0.2222222222222222,
              "#7201a8"
             ],
             [
              0.3333333333333333,
              "#9c179e"
             ],
             [
              0.4444444444444444,
              "#bd3786"
             ],
             [
              0.5555555555555556,
              "#d8576b"
             ],
             [
              0.6666666666666666,
              "#ed7953"
             ],
             [
              0.7777777777777778,
              "#fb9f3a"
             ],
             [
              0.8888888888888888,
              "#fdca26"
             ],
             [
              1,
              "#f0f921"
             ]
            ],
            "type": "histogram2dcontour"
           }
          ],
          "mesh3d": [
           {
            "colorbar": {
             "outlinewidth": 0,
             "ticks": ""
            },
            "type": "mesh3d"
           }
          ],
          "parcoords": [
           {
            "line": {
             "colorbar": {
              "outlinewidth": 0,
              "ticks": ""
             }
            },
            "type": "parcoords"
           }
          ],
          "pie": [
           {
            "automargin": true,
            "type": "pie"
           }
          ],
          "scatter": [
           {
            "marker": {
             "colorbar": {
              "outlinewidth": 0,
              "ticks": ""
             }
            },
            "type": "scatter"
           }
          ],
          "scatter3d": [
           {
            "line": {
             "colorbar": {
              "outlinewidth": 0,
              "ticks": ""
             }
            },
            "marker": {
             "colorbar": {
              "outlinewidth": 0,
              "ticks": ""
             }
            },
            "type": "scatter3d"
           }
          ],
          "scattercarpet": [
           {
            "marker": {
             "colorbar": {
              "outlinewidth": 0,
              "ticks": ""
             }
            },
            "type": "scattercarpet"
           }
          ],
          "scattergeo": [
           {
            "marker": {
             "colorbar": {
              "outlinewidth": 0,
              "ticks": ""
             }
            },
            "type": "scattergeo"
           }
          ],
          "scattergl": [
           {
            "marker": {
             "colorbar": {
              "outlinewidth": 0,
              "ticks": ""
             }
            },
            "type": "scattergl"
           }
          ],
          "scattermapbox": [
           {
            "marker": {
             "colorbar": {
              "outlinewidth": 0,
              "ticks": ""
             }
            },
            "type": "scattermapbox"
           }
          ],
          "scatterpolar": [
           {
            "marker": {
             "colorbar": {
              "outlinewidth": 0,
              "ticks": ""
             }
            },
            "type": "scatterpolar"
           }
          ],
          "scatterpolargl": [
           {
            "marker": {
             "colorbar": {
              "outlinewidth": 0,
              "ticks": ""
             }
            },
            "type": "scatterpolargl"
           }
          ],
          "scatterternary": [
           {
            "marker": {
             "colorbar": {
              "outlinewidth": 0,
              "ticks": ""
             }
            },
            "type": "scatterternary"
           }
          ],
          "surface": [
           {
            "colorbar": {
             "outlinewidth": 0,
             "ticks": ""
            },
            "colorscale": [
             [
              0,
              "#0d0887"
             ],
             [
              0.1111111111111111,
              "#46039f"
             ],
             [
              0.2222222222222222,
              "#7201a8"
             ],
             [
              0.3333333333333333,
              "#9c179e"
             ],
             [
              0.4444444444444444,
              "#bd3786"
             ],
             [
              0.5555555555555556,
              "#d8576b"
             ],
             [
              0.6666666666666666,
              "#ed7953"
             ],
             [
              0.7777777777777778,
              "#fb9f3a"
             ],
             [
              0.8888888888888888,
              "#fdca26"
             ],
             [
              1,
              "#f0f921"
             ]
            ],
            "type": "surface"
           }
          ],
          "table": [
           {
            "cells": {
             "fill": {
              "color": "#EBF0F8"
             },
             "line": {
              "color": "white"
             }
            },
            "header": {
             "fill": {
              "color": "#C8D4E3"
             },
             "line": {
              "color": "white"
             }
            },
            "type": "table"
           }
          ]
         },
         "layout": {
          "annotationdefaults": {
           "arrowcolor": "#2a3f5f",
           "arrowhead": 0,
           "arrowwidth": 1
          },
          "autotypenumbers": "strict",
          "coloraxis": {
           "colorbar": {
            "outlinewidth": 0,
            "ticks": ""
           }
          },
          "colorscale": {
           "diverging": [
            [
             0,
             "#8e0152"
            ],
            [
             0.1,
             "#c51b7d"
            ],
            [
             0.2,
             "#de77ae"
            ],
            [
             0.3,
             "#f1b6da"
            ],
            [
             0.4,
             "#fde0ef"
            ],
            [
             0.5,
             "#f7f7f7"
            ],
            [
             0.6,
             "#e6f5d0"
            ],
            [
             0.7,
             "#b8e186"
            ],
            [
             0.8,
             "#7fbc41"
            ],
            [
             0.9,
             "#4d9221"
            ],
            [
             1,
             "#276419"
            ]
           ],
           "sequential": [
            [
             0,
             "#0d0887"
            ],
            [
             0.1111111111111111,
             "#46039f"
            ],
            [
             0.2222222222222222,
             "#7201a8"
            ],
            [
             0.3333333333333333,
             "#9c179e"
            ],
            [
             0.4444444444444444,
             "#bd3786"
            ],
            [
             0.5555555555555556,
             "#d8576b"
            ],
            [
             0.6666666666666666,
             "#ed7953"
            ],
            [
             0.7777777777777778,
             "#fb9f3a"
            ],
            [
             0.8888888888888888,
             "#fdca26"
            ],
            [
             1,
             "#f0f921"
            ]
           ],
           "sequentialminus": [
            [
             0,
             "#0d0887"
            ],
            [
             0.1111111111111111,
             "#46039f"
            ],
            [
             0.2222222222222222,
             "#7201a8"
            ],
            [
             0.3333333333333333,
             "#9c179e"
            ],
            [
             0.4444444444444444,
             "#bd3786"
            ],
            [
             0.5555555555555556,
             "#d8576b"
            ],
            [
             0.6666666666666666,
             "#ed7953"
            ],
            [
             0.7777777777777778,
             "#fb9f3a"
            ],
            [
             0.8888888888888888,
             "#fdca26"
            ],
            [
             1,
             "#f0f921"
            ]
           ]
          },
          "colorway": [
           "#636efa",
           "#EF553B",
           "#00cc96",
           "#ab63fa",
           "#FFA15A",
           "#19d3f3",
           "#FF6692",
           "#B6E880",
           "#FF97FF",
           "#FECB52"
          ],
          "font": {
           "color": "#2a3f5f"
          },
          "geo": {
           "bgcolor": "white",
           "lakecolor": "white",
           "landcolor": "#E5ECF6",
           "showlakes": true,
           "showland": true,
           "subunitcolor": "white"
          },
          "hoverlabel": {
           "align": "left"
          },
          "hovermode": "closest",
          "mapbox": {
           "style": "light"
          },
          "paper_bgcolor": "white",
          "plot_bgcolor": "#E5ECF6",
          "polar": {
           "angularaxis": {
            "gridcolor": "white",
            "linecolor": "white",
            "ticks": ""
           },
           "bgcolor": "#E5ECF6",
           "radialaxis": {
            "gridcolor": "white",
            "linecolor": "white",
            "ticks": ""
           }
          },
          "scene": {
           "xaxis": {
            "backgroundcolor": "#E5ECF6",
            "gridcolor": "white",
            "gridwidth": 2,
            "linecolor": "white",
            "showbackground": true,
            "ticks": "",
            "zerolinecolor": "white"
           },
           "yaxis": {
            "backgroundcolor": "#E5ECF6",
            "gridcolor": "white",
            "gridwidth": 2,
            "linecolor": "white",
            "showbackground": true,
            "ticks": "",
            "zerolinecolor": "white"
           },
           "zaxis": {
            "backgroundcolor": "#E5ECF6",
            "gridcolor": "white",
            "gridwidth": 2,
            "linecolor": "white",
            "showbackground": true,
            "ticks": "",
            "zerolinecolor": "white"
           }
          },
          "shapedefaults": {
           "line": {
            "color": "#2a3f5f"
           }
          },
          "ternary": {
           "aaxis": {
            "gridcolor": "white",
            "linecolor": "white",
            "ticks": ""
           },
           "baxis": {
            "gridcolor": "white",
            "linecolor": "white",
            "ticks": ""
           },
           "bgcolor": "#E5ECF6",
           "caxis": {
            "gridcolor": "white",
            "linecolor": "white",
            "ticks": ""
           }
          },
          "title": {
           "x": 0.05
          },
          "xaxis": {
           "automargin": true,
           "gridcolor": "white",
           "linecolor": "white",
           "ticks": "",
           "title": {
            "standoff": 15
           },
           "zerolinecolor": "white",
           "zerolinewidth": 2
          },
          "yaxis": {
           "automargin": true,
           "gridcolor": "white",
           "linecolor": "white",
           "ticks": "",
           "title": {
            "standoff": 15
           },
           "zerolinecolor": "white",
           "zerolinewidth": 2
          }
         }
        },
        "title": {
         "text": "Price ~ Category_class"
        },
        "xaxis": {
         "anchor": "y",
         "domain": [
          0,
          1
         ],
         "title": {
          "text": "category_class"
         }
        },
        "yaxis": {
         "anchor": "x",
         "domain": [
          0,
          1
         ],
         "title": {
          "text": "price"
         }
        }
       }
      }
     },
     "metadata": {}
    }
   ],
   "source": [
    "px.box(sdf_raw.toPandas(), x=\"category_class\", y=\"price\", title=\"Price ~ Category_class\")"
   ]
  },
  {
   "cell_type": "code",
   "execution_count": 41,
   "metadata": {},
   "outputs": [
    {
     "output_type": "display_data",
     "data": {
      "application/vnd.plotly.v1+json": {
       "config": {
        "plotlyServerURL": "https://plot.ly"
       },
       "data": [
        {
         "alignmentgroup": "True",
         "hovertemplate": "Product_ID=%{x}<br>Price=%{y}<extra></extra>",
         "legendgroup": "",
         "marker": {
          "color": "#636efa"
         },
         "name": "",
         "offsetgroup": "",
         "orientation": "v",
         "showlegend": false,
         "textposition": "auto",
         "type": "bar",
         "x": [
          "1305977",
          "1307012",
          "1306571",
          "1304315",
          "5100797",
          "1480434",
          "2900878",
          "15100252",
          "1307519",
          "1004241"
         ],
         "xaxis": "x",
         "y": [
          2496.59,
          2342.15,
          2312.8,
          2311.49,
          2239.44,
          1997.99,
          1375.64,
          1335.43,
          1209.55,
          1173.6
         ],
         "yaxis": "y"
        }
       ],
       "layout": {
        "barmode": "relative",
        "legend": {
         "tracegroupgap": 0
        },
        "template": {
         "data": {
          "bar": [
           {
            "error_x": {
             "color": "#2a3f5f"
            },
            "error_y": {
             "color": "#2a3f5f"
            },
            "marker": {
             "line": {
              "color": "#E5ECF6",
              "width": 0.5
             }
            },
            "type": "bar"
           }
          ],
          "barpolar": [
           {
            "marker": {
             "line": {
              "color": "#E5ECF6",
              "width": 0.5
             }
            },
            "type": "barpolar"
           }
          ],
          "carpet": [
           {
            "aaxis": {
             "endlinecolor": "#2a3f5f",
             "gridcolor": "white",
             "linecolor": "white",
             "minorgridcolor": "white",
             "startlinecolor": "#2a3f5f"
            },
            "baxis": {
             "endlinecolor": "#2a3f5f",
             "gridcolor": "white",
             "linecolor": "white",
             "minorgridcolor": "white",
             "startlinecolor": "#2a3f5f"
            },
            "type": "carpet"
           }
          ],
          "choropleth": [
           {
            "colorbar": {
             "outlinewidth": 0,
             "ticks": ""
            },
            "type": "choropleth"
           }
          ],
          "contour": [
           {
            "colorbar": {
             "outlinewidth": 0,
             "ticks": ""
            },
            "colorscale": [
             [
              0,
              "#0d0887"
             ],
             [
              0.1111111111111111,
              "#46039f"
             ],
             [
              0.2222222222222222,
              "#7201a8"
             ],
             [
              0.3333333333333333,
              "#9c179e"
             ],
             [
              0.4444444444444444,
              "#bd3786"
             ],
             [
              0.5555555555555556,
              "#d8576b"
             ],
             [
              0.6666666666666666,
              "#ed7953"
             ],
             [
              0.7777777777777778,
              "#fb9f3a"
             ],
             [
              0.8888888888888888,
              "#fdca26"
             ],
             [
              1,
              "#f0f921"
             ]
            ],
            "type": "contour"
           }
          ],
          "contourcarpet": [
           {
            "colorbar": {
             "outlinewidth": 0,
             "ticks": ""
            },
            "type": "contourcarpet"
           }
          ],
          "heatmap": [
           {
            "colorbar": {
             "outlinewidth": 0,
             "ticks": ""
            },
            "colorscale": [
             [
              0,
              "#0d0887"
             ],
             [
              0.1111111111111111,
              "#46039f"
             ],
             [
              0.2222222222222222,
              "#7201a8"
             ],
             [
              0.3333333333333333,
              "#9c179e"
             ],
             [
              0.4444444444444444,
              "#bd3786"
             ],
             [
              0.5555555555555556,
              "#d8576b"
             ],
             [
              0.6666666666666666,
              "#ed7953"
             ],
             [
              0.7777777777777778,
              "#fb9f3a"
             ],
             [
              0.8888888888888888,
              "#fdca26"
             ],
             [
              1,
              "#f0f921"
             ]
            ],
            "type": "heatmap"
           }
          ],
          "heatmapgl": [
           {
            "colorbar": {
             "outlinewidth": 0,
             "ticks": ""
            },
            "colorscale": [
             [
              0,
              "#0d0887"
             ],
             [
              0.1111111111111111,
              "#46039f"
             ],
             [
              0.2222222222222222,
              "#7201a8"
             ],
             [
              0.3333333333333333,
              "#9c179e"
             ],
             [
              0.4444444444444444,
              "#bd3786"
             ],
             [
              0.5555555555555556,
              "#d8576b"
             ],
             [
              0.6666666666666666,
              "#ed7953"
             ],
             [
              0.7777777777777778,
              "#fb9f3a"
             ],
             [
              0.8888888888888888,
              "#fdca26"
             ],
             [
              1,
              "#f0f921"
             ]
            ],
            "type": "heatmapgl"
           }
          ],
          "histogram": [
           {
            "marker": {
             "colorbar": {
              "outlinewidth": 0,
              "ticks": ""
             }
            },
            "type": "histogram"
           }
          ],
          "histogram2d": [
           {
            "colorbar": {
             "outlinewidth": 0,
             "ticks": ""
            },
            "colorscale": [
             [
              0,
              "#0d0887"
             ],
             [
              0.1111111111111111,
              "#46039f"
             ],
             [
              0.2222222222222222,
              "#7201a8"
             ],
             [
              0.3333333333333333,
              "#9c179e"
             ],
             [
              0.4444444444444444,
              "#bd3786"
             ],
             [
              0.5555555555555556,
              "#d8576b"
             ],
             [
              0.6666666666666666,
              "#ed7953"
             ],
             [
              0.7777777777777778,
              "#fb9f3a"
             ],
             [
              0.8888888888888888,
              "#fdca26"
             ],
             [
              1,
              "#f0f921"
             ]
            ],
            "type": "histogram2d"
           }
          ],
          "histogram2dcontour": [
           {
            "colorbar": {
             "outlinewidth": 0,
             "ticks": ""
            },
            "colorscale": [
             [
              0,
              "#0d0887"
             ],
             [
              0.1111111111111111,
              "#46039f"
             ],
             [
              0.2222222222222222,
              "#7201a8"
             ],
             [
              0.3333333333333333,
              "#9c179e"
             ],
             [
              0.4444444444444444,
              "#bd3786"
             ],
             [
              0.5555555555555556,
              "#d8576b"
             ],
             [
              0.6666666666666666,
              "#ed7953"
             ],
             [
              0.7777777777777778,
              "#fb9f3a"
             ],
             [
              0.8888888888888888,
              "#fdca26"
             ],
             [
              1,
              "#f0f921"
             ]
            ],
            "type": "histogram2dcontour"
           }
          ],
          "mesh3d": [
           {
            "colorbar": {
             "outlinewidth": 0,
             "ticks": ""
            },
            "type": "mesh3d"
           }
          ],
          "parcoords": [
           {
            "line": {
             "colorbar": {
              "outlinewidth": 0,
              "ticks": ""
             }
            },
            "type": "parcoords"
           }
          ],
          "pie": [
           {
            "automargin": true,
            "type": "pie"
           }
          ],
          "scatter": [
           {
            "marker": {
             "colorbar": {
              "outlinewidth": 0,
              "ticks": ""
             }
            },
            "type": "scatter"
           }
          ],
          "scatter3d": [
           {
            "line": {
             "colorbar": {
              "outlinewidth": 0,
              "ticks": ""
             }
            },
            "marker": {
             "colorbar": {
              "outlinewidth": 0,
              "ticks": ""
             }
            },
            "type": "scatter3d"
           }
          ],
          "scattercarpet": [
           {
            "marker": {
             "colorbar": {
              "outlinewidth": 0,
              "ticks": ""
             }
            },
            "type": "scattercarpet"
           }
          ],
          "scattergeo": [
           {
            "marker": {
             "colorbar": {
              "outlinewidth": 0,
              "ticks": ""
             }
            },
            "type": "scattergeo"
           }
          ],
          "scattergl": [
           {
            "marker": {
             "colorbar": {
              "outlinewidth": 0,
              "ticks": ""
             }
            },
            "type": "scattergl"
           }
          ],
          "scattermapbox": [
           {
            "marker": {
             "colorbar": {
              "outlinewidth": 0,
              "ticks": ""
             }
            },
            "type": "scattermapbox"
           }
          ],
          "scatterpolar": [
           {
            "marker": {
             "colorbar": {
              "outlinewidth": 0,
              "ticks": ""
             }
            },
            "type": "scatterpolar"
           }
          ],
          "scatterpolargl": [
           {
            "marker": {
             "colorbar": {
              "outlinewidth": 0,
              "ticks": ""
             }
            },
            "type": "scatterpolargl"
           }
          ],
          "scatterternary": [
           {
            "marker": {
             "colorbar": {
              "outlinewidth": 0,
              "ticks": ""
             }
            },
            "type": "scatterternary"
           }
          ],
          "surface": [
           {
            "colorbar": {
             "outlinewidth": 0,
             "ticks": ""
            },
            "colorscale": [
             [
              0,
              "#0d0887"
             ],
             [
              0.1111111111111111,
              "#46039f"
             ],
             [
              0.2222222222222222,
              "#7201a8"
             ],
             [
              0.3333333333333333,
              "#9c179e"
             ],
             [
              0.4444444444444444,
              "#bd3786"
             ],
             [
              0.5555555555555556,
              "#d8576b"
             ],
             [
              0.6666666666666666,
              "#ed7953"
             ],
             [
              0.7777777777777778,
              "#fb9f3a"
             ],
             [
              0.8888888888888888,
              "#fdca26"
             ],
             [
              1,
              "#f0f921"
             ]
            ],
            "type": "surface"
           }
          ],
          "table": [
           {
            "cells": {
             "fill": {
              "color": "#EBF0F8"
             },
             "line": {
              "color": "white"
             }
            },
            "header": {
             "fill": {
              "color": "#C8D4E3"
             },
             "line": {
              "color": "white"
             }
            },
            "type": "table"
           }
          ]
         },
         "layout": {
          "annotationdefaults": {
           "arrowcolor": "#2a3f5f",
           "arrowhead": 0,
           "arrowwidth": 1
          },
          "autotypenumbers": "strict",
          "coloraxis": {
           "colorbar": {
            "outlinewidth": 0,
            "ticks": ""
           }
          },
          "colorscale": {
           "diverging": [
            [
             0,
             "#8e0152"
            ],
            [
             0.1,
             "#c51b7d"
            ],
            [
             0.2,
             "#de77ae"
            ],
            [
             0.3,
             "#f1b6da"
            ],
            [
             0.4,
             "#fde0ef"
            ],
            [
             0.5,
             "#f7f7f7"
            ],
            [
             0.6,
             "#e6f5d0"
            ],
            [
             0.7,
             "#b8e186"
            ],
            [
             0.8,
             "#7fbc41"
            ],
            [
             0.9,
             "#4d9221"
            ],
            [
             1,
             "#276419"
            ]
           ],
           "sequential": [
            [
             0,
             "#0d0887"
            ],
            [
             0.1111111111111111,
             "#46039f"
            ],
            [
             0.2222222222222222,
             "#7201a8"
            ],
            [
             0.3333333333333333,
             "#9c179e"
            ],
            [
             0.4444444444444444,
             "#bd3786"
            ],
            [
             0.5555555555555556,
             "#d8576b"
            ],
            [
             0.6666666666666666,
             "#ed7953"
            ],
            [
             0.7777777777777778,
             "#fb9f3a"
            ],
            [
             0.8888888888888888,
             "#fdca26"
            ],
            [
             1,
             "#f0f921"
            ]
           ],
           "sequentialminus": [
            [
             0,
             "#0d0887"
            ],
            [
             0.1111111111111111,
             "#46039f"
            ],
            [
             0.2222222222222222,
             "#7201a8"
            ],
            [
             0.3333333333333333,
             "#9c179e"
            ],
            [
             0.4444444444444444,
             "#bd3786"
            ],
            [
             0.5555555555555556,
             "#d8576b"
            ],
            [
             0.6666666666666666,
             "#ed7953"
            ],
            [
             0.7777777777777778,
             "#fb9f3a"
            ],
            [
             0.8888888888888888,
             "#fdca26"
            ],
            [
             1,
             "#f0f921"
            ]
           ]
          },
          "colorway": [
           "#636efa",
           "#EF553B",
           "#00cc96",
           "#ab63fa",
           "#FFA15A",
           "#19d3f3",
           "#FF6692",
           "#B6E880",
           "#FF97FF",
           "#FECB52"
          ],
          "font": {
           "color": "#2a3f5f"
          },
          "geo": {
           "bgcolor": "white",
           "lakecolor": "white",
           "landcolor": "#E5ECF6",
           "showlakes": true,
           "showland": true,
           "subunitcolor": "white"
          },
          "hoverlabel": {
           "align": "left"
          },
          "hovermode": "closest",
          "mapbox": {
           "style": "light"
          },
          "paper_bgcolor": "white",
          "plot_bgcolor": "#E5ECF6",
          "polar": {
           "angularaxis": {
            "gridcolor": "white",
            "linecolor": "white",
            "ticks": ""
           },
           "bgcolor": "#E5ECF6",
           "radialaxis": {
            "gridcolor": "white",
            "linecolor": "white",
            "ticks": ""
           }
          },
          "scene": {
           "xaxis": {
            "backgroundcolor": "#E5ECF6",
            "gridcolor": "white",
            "gridwidth": 2,
            "linecolor": "white",
            "showbackground": true,
            "ticks": "",
            "zerolinecolor": "white"
           },
           "yaxis": {
            "backgroundcolor": "#E5ECF6",
            "gridcolor": "white",
            "gridwidth": 2,
            "linecolor": "white",
            "showbackground": true,
            "ticks": "",
            "zerolinecolor": "white"
           },
           "zaxis": {
            "backgroundcolor": "#E5ECF6",
            "gridcolor": "white",
            "gridwidth": 2,
            "linecolor": "white",
            "showbackground": true,
            "ticks": "",
            "zerolinecolor": "white"
           }
          },
          "shapedefaults": {
           "line": {
            "color": "#2a3f5f"
           }
          },
          "ternary": {
           "aaxis": {
            "gridcolor": "white",
            "linecolor": "white",
            "ticks": ""
           },
           "baxis": {
            "gridcolor": "white",
            "linecolor": "white",
            "ticks": ""
           },
           "bgcolor": "#E5ECF6",
           "caxis": {
            "gridcolor": "white",
            "linecolor": "white",
            "ticks": ""
           }
          },
          "title": {
           "x": 0.05
          },
          "xaxis": {
           "automargin": true,
           "gridcolor": "white",
           "linecolor": "white",
           "ticks": "",
           "title": {
            "standoff": 15
           },
           "zerolinecolor": "white",
           "zerolinewidth": 2
          },
          "yaxis": {
           "automargin": true,
           "gridcolor": "white",
           "linecolor": "white",
           "ticks": "",
           "title": {
            "standoff": 15
           },
           "zerolinecolor": "white",
           "zerolinewidth": 2
          }
         }
        },
        "title": {
         "text": "TOP 10 most expensive Product_IDs"
        },
        "xaxis": {
         "anchor": "y",
         "domain": [
          0,
          1
         ],
         "title": {
          "text": "Product_ID"
         }
        },
        "yaxis": {
         "anchor": "x",
         "domain": [
          0,
          1
         ],
         "title": {
          "text": "Price"
         }
        }
       }
      }
     },
     "metadata": {}
    }
   ],
   "source": [
    "sdf_price_per_product=spark.sql(\"SELECT DISTINCT(Product_ID), \\\n",
    "                                        Price \\\n",
    "                                 FROM Data \\\n",
    "                                 ORDER BY Price Desc\")\n",
    "px.bar(sdf_price_per_product.limit(10).toPandas(), x=\"Product_ID\", y=\"Price\", title=\"TOP 10 most expensive Product_IDs\")"
   ]
  },
  {
   "source": [
    "#### Connection to the event-type\n",
    "The following plots will represent the event_type distribution within the category_classes, category_codes, category_ids, product_ids and brands."
   ],
   "cell_type": "markdown",
   "metadata": {}
  },
  {
   "cell_type": "code",
   "execution_count": 42,
   "metadata": {},
   "outputs": [],
   "source": [
    "sdf_category_class_event_distribution = spark.sql(\"SELECT category_class, \\\n",
    "                                                          event_type, \\\n",
    "                                                          Count(*) AS Count \\\n",
    "                                                    FROM Data \\\n",
    "                                                    GROUP BY category_class, event_type\")\n",
    "#px.sunburst(sdf_category_class_event_distribution.toPandas(), path=['category_class','event_type'], values=\"Count\")"
   ]
  },
  {
   "source": [
    "#### Connection to the turnover"
   ],
   "cell_type": "markdown",
   "metadata": {}
  },
  {
   "cell_type": "code",
   "execution_count": 43,
   "metadata": {},
   "outputs": [
    {
     "output_type": "display_data",
     "data": {
      "application/vnd.plotly.v1+json": {
       "config": {
        "plotlyServerURL": "https://plot.ly"
       },
       "data": [
        {
         "alignmentgroup": "True",
         "hovertemplate": "brand=%{x}<br>Turnover=%{y}<extra></extra>",
         "legendgroup": "",
         "marker": {
          "color": "#636efa"
         },
         "name": "",
         "offsetgroup": "",
         "orientation": "v",
         "showlegend": false,
         "textposition": "auto",
         "type": "bar",
         "x": [
          null,
          "xiaomi",
          "element",
          "goodloot",
          "yokohama",
          "epson",
          "lider",
          "rondell",
          "oasis",
          "rezult"
         ],
         "xaxis": "x",
         "y": [
          566.3,
          211.92,
          0,
          0,
          0,
          0,
          0,
          0,
          0,
          0
         ],
         "yaxis": "y"
        }
       ],
       "layout": {
        "barmode": "relative",
        "legend": {
         "tracegroupgap": 0
        },
        "margin": {
         "t": 60
        },
        "template": {
         "data": {
          "bar": [
           {
            "error_x": {
             "color": "#2a3f5f"
            },
            "error_y": {
             "color": "#2a3f5f"
            },
            "marker": {
             "line": {
              "color": "#E5ECF6",
              "width": 0.5
             }
            },
            "type": "bar"
           }
          ],
          "barpolar": [
           {
            "marker": {
             "line": {
              "color": "#E5ECF6",
              "width": 0.5
             }
            },
            "type": "barpolar"
           }
          ],
          "carpet": [
           {
            "aaxis": {
             "endlinecolor": "#2a3f5f",
             "gridcolor": "white",
             "linecolor": "white",
             "minorgridcolor": "white",
             "startlinecolor": "#2a3f5f"
            },
            "baxis": {
             "endlinecolor": "#2a3f5f",
             "gridcolor": "white",
             "linecolor": "white",
             "minorgridcolor": "white",
             "startlinecolor": "#2a3f5f"
            },
            "type": "carpet"
           }
          ],
          "choropleth": [
           {
            "colorbar": {
             "outlinewidth": 0,
             "ticks": ""
            },
            "type": "choropleth"
           }
          ],
          "contour": [
           {
            "colorbar": {
             "outlinewidth": 0,
             "ticks": ""
            },
            "colorscale": [
             [
              0,
              "#0d0887"
             ],
             [
              0.1111111111111111,
              "#46039f"
             ],
             [
              0.2222222222222222,
              "#7201a8"
             ],
             [
              0.3333333333333333,
              "#9c179e"
             ],
             [
              0.4444444444444444,
              "#bd3786"
             ],
             [
              0.5555555555555556,
              "#d8576b"
             ],
             [
              0.6666666666666666,
              "#ed7953"
             ],
             [
              0.7777777777777778,
              "#fb9f3a"
             ],
             [
              0.8888888888888888,
              "#fdca26"
             ],
             [
              1,
              "#f0f921"
             ]
            ],
            "type": "contour"
           }
          ],
          "contourcarpet": [
           {
            "colorbar": {
             "outlinewidth": 0,
             "ticks": ""
            },
            "type": "contourcarpet"
           }
          ],
          "heatmap": [
           {
            "colorbar": {
             "outlinewidth": 0,
             "ticks": ""
            },
            "colorscale": [
             [
              0,
              "#0d0887"
             ],
             [
              0.1111111111111111,
              "#46039f"
             ],
             [
              0.2222222222222222,
              "#7201a8"
             ],
             [
              0.3333333333333333,
              "#9c179e"
             ],
             [
              0.4444444444444444,
              "#bd3786"
             ],
             [
              0.5555555555555556,
              "#d8576b"
             ],
             [
              0.6666666666666666,
              "#ed7953"
             ],
             [
              0.7777777777777778,
              "#fb9f3a"
             ],
             [
              0.8888888888888888,
              "#fdca26"
             ],
             [
              1,
              "#f0f921"
             ]
            ],
            "type": "heatmap"
           }
          ],
          "heatmapgl": [
           {
            "colorbar": {
             "outlinewidth": 0,
             "ticks": ""
            },
            "colorscale": [
             [
              0,
              "#0d0887"
             ],
             [
              0.1111111111111111,
              "#46039f"
             ],
             [
              0.2222222222222222,
              "#7201a8"
             ],
             [
              0.3333333333333333,
              "#9c179e"
             ],
             [
              0.4444444444444444,
              "#bd3786"
             ],
             [
              0.5555555555555556,
              "#d8576b"
             ],
             [
              0.6666666666666666,
              "#ed7953"
             ],
             [
              0.7777777777777778,
              "#fb9f3a"
             ],
             [
              0.8888888888888888,
              "#fdca26"
             ],
             [
              1,
              "#f0f921"
             ]
            ],
            "type": "heatmapgl"
           }
          ],
          "histogram": [
           {
            "marker": {
             "colorbar": {
              "outlinewidth": 0,
              "ticks": ""
             }
            },
            "type": "histogram"
           }
          ],
          "histogram2d": [
           {
            "colorbar": {
             "outlinewidth": 0,
             "ticks": ""
            },
            "colorscale": [
             [
              0,
              "#0d0887"
             ],
             [
              0.1111111111111111,
              "#46039f"
             ],
             [
              0.2222222222222222,
              "#7201a8"
             ],
             [
              0.3333333333333333,
              "#9c179e"
             ],
             [
              0.4444444444444444,
              "#bd3786"
             ],
             [
              0.5555555555555556,
              "#d8576b"
             ],
             [
              0.6666666666666666,
              "#ed7953"
             ],
             [
              0.7777777777777778,
              "#fb9f3a"
             ],
             [
              0.8888888888888888,
              "#fdca26"
             ],
             [
              1,
              "#f0f921"
             ]
            ],
            "type": "histogram2d"
           }
          ],
          "histogram2dcontour": [
           {
            "colorbar": {
             "outlinewidth": 0,
             "ticks": ""
            },
            "colorscale": [
             [
              0,
              "#0d0887"
             ],
             [
              0.1111111111111111,
              "#46039f"
             ],
             [
              0.2222222222222222,
              "#7201a8"
             ],
             [
              0.3333333333333333,
              "#9c179e"
             ],
             [
              0.4444444444444444,
              "#bd3786"
             ],
             [
              0.5555555555555556,
              "#d8576b"
             ],
             [
              0.6666666666666666,
              "#ed7953"
             ],
             [
              0.7777777777777778,
              "#fb9f3a"
             ],
             [
              0.8888888888888888,
              "#fdca26"
             ],
             [
              1,
              "#f0f921"
             ]
            ],
            "type": "histogram2dcontour"
           }
          ],
          "mesh3d": [
           {
            "colorbar": {
             "outlinewidth": 0,
             "ticks": ""
            },
            "type": "mesh3d"
           }
          ],
          "parcoords": [
           {
            "line": {
             "colorbar": {
              "outlinewidth": 0,
              "ticks": ""
             }
            },
            "type": "parcoords"
           }
          ],
          "pie": [
           {
            "automargin": true,
            "type": "pie"
           }
          ],
          "scatter": [
           {
            "marker": {
             "colorbar": {
              "outlinewidth": 0,
              "ticks": ""
             }
            },
            "type": "scatter"
           }
          ],
          "scatter3d": [
           {
            "line": {
             "colorbar": {
              "outlinewidth": 0,
              "ticks": ""
             }
            },
            "marker": {
             "colorbar": {
              "outlinewidth": 0,
              "ticks": ""
             }
            },
            "type": "scatter3d"
           }
          ],
          "scattercarpet": [
           {
            "marker": {
             "colorbar": {
              "outlinewidth": 0,
              "ticks": ""
             }
            },
            "type": "scattercarpet"
           }
          ],
          "scattergeo": [
           {
            "marker": {
             "colorbar": {
              "outlinewidth": 0,
              "ticks": ""
             }
            },
            "type": "scattergeo"
           }
          ],
          "scattergl": [
           {
            "marker": {
             "colorbar": {
              "outlinewidth": 0,
              "ticks": ""
             }
            },
            "type": "scattergl"
           }
          ],
          "scattermapbox": [
           {
            "marker": {
             "colorbar": {
              "outlinewidth": 0,
              "ticks": ""
             }
            },
            "type": "scattermapbox"
           }
          ],
          "scatterpolar": [
           {
            "marker": {
             "colorbar": {
              "outlinewidth": 0,
              "ticks": ""
             }
            },
            "type": "scatterpolar"
           }
          ],
          "scatterpolargl": [
           {
            "marker": {
             "colorbar": {
              "outlinewidth": 0,
              "ticks": ""
             }
            },
            "type": "scatterpolargl"
           }
          ],
          "scatterternary": [
           {
            "marker": {
             "colorbar": {
              "outlinewidth": 0,
              "ticks": ""
             }
            },
            "type": "scatterternary"
           }
          ],
          "surface": [
           {
            "colorbar": {
             "outlinewidth": 0,
             "ticks": ""
            },
            "colorscale": [
             [
              0,
              "#0d0887"
             ],
             [
              0.1111111111111111,
              "#46039f"
             ],
             [
              0.2222222222222222,
              "#7201a8"
             ],
             [
              0.3333333333333333,
              "#9c179e"
             ],
             [
              0.4444444444444444,
              "#bd3786"
             ],
             [
              0.5555555555555556,
              "#d8576b"
             ],
             [
              0.6666666666666666,
              "#ed7953"
             ],
             [
              0.7777777777777778,
              "#fb9f3a"
             ],
             [
              0.8888888888888888,
              "#fdca26"
             ],
             [
              1,
              "#f0f921"
             ]
            ],
            "type": "surface"
           }
          ],
          "table": [
           {
            "cells": {
             "fill": {
              "color": "#EBF0F8"
             },
             "line": {
              "color": "white"
             }
            },
            "header": {
             "fill": {
              "color": "#C8D4E3"
             },
             "line": {
              "color": "white"
             }
            },
            "type": "table"
           }
          ]
         },
         "layout": {
          "annotationdefaults": {
           "arrowcolor": "#2a3f5f",
           "arrowhead": 0,
           "arrowwidth": 1
          },
          "autotypenumbers": "strict",
          "coloraxis": {
           "colorbar": {
            "outlinewidth": 0,
            "ticks": ""
           }
          },
          "colorscale": {
           "diverging": [
            [
             0,
             "#8e0152"
            ],
            [
             0.1,
             "#c51b7d"
            ],
            [
             0.2,
             "#de77ae"
            ],
            [
             0.3,
             "#f1b6da"
            ],
            [
             0.4,
             "#fde0ef"
            ],
            [
             0.5,
             "#f7f7f7"
            ],
            [
             0.6,
             "#e6f5d0"
            ],
            [
             0.7,
             "#b8e186"
            ],
            [
             0.8,
             "#7fbc41"
            ],
            [
             0.9,
             "#4d9221"
            ],
            [
             1,
             "#276419"
            ]
           ],
           "sequential": [
            [
             0,
             "#0d0887"
            ],
            [
             0.1111111111111111,
             "#46039f"
            ],
            [
             0.2222222222222222,
             "#7201a8"
            ],
            [
             0.3333333333333333,
             "#9c179e"
            ],
            [
             0.4444444444444444,
             "#bd3786"
            ],
            [
             0.5555555555555556,
             "#d8576b"
            ],
            [
             0.6666666666666666,
             "#ed7953"
            ],
            [
             0.7777777777777778,
             "#fb9f3a"
            ],
            [
             0.8888888888888888,
             "#fdca26"
            ],
            [
             1,
             "#f0f921"
            ]
           ],
           "sequentialminus": [
            [
             0,
             "#0d0887"
            ],
            [
             0.1111111111111111,
             "#46039f"
            ],
            [
             0.2222222222222222,
             "#7201a8"
            ],
            [
             0.3333333333333333,
             "#9c179e"
            ],
            [
             0.4444444444444444,
             "#bd3786"
            ],
            [
             0.5555555555555556,
             "#d8576b"
            ],
            [
             0.6666666666666666,
             "#ed7953"
            ],
            [
             0.7777777777777778,
             "#fb9f3a"
            ],
            [
             0.8888888888888888,
             "#fdca26"
            ],
            [
             1,
             "#f0f921"
            ]
           ]
          },
          "colorway": [
           "#636efa",
           "#EF553B",
           "#00cc96",
           "#ab63fa",
           "#FFA15A",
           "#19d3f3",
           "#FF6692",
           "#B6E880",
           "#FF97FF",
           "#FECB52"
          ],
          "font": {
           "color": "#2a3f5f"
          },
          "geo": {
           "bgcolor": "white",
           "lakecolor": "white",
           "landcolor": "#E5ECF6",
           "showlakes": true,
           "showland": true,
           "subunitcolor": "white"
          },
          "hoverlabel": {
           "align": "left"
          },
          "hovermode": "closest",
          "mapbox": {
           "style": "light"
          },
          "paper_bgcolor": "white",
          "plot_bgcolor": "#E5ECF6",
          "polar": {
           "angularaxis": {
            "gridcolor": "white",
            "linecolor": "white",
            "ticks": ""
           },
           "bgcolor": "#E5ECF6",
           "radialaxis": {
            "gridcolor": "white",
            "linecolor": "white",
            "ticks": ""
           }
          },
          "scene": {
           "xaxis": {
            "backgroundcolor": "#E5ECF6",
            "gridcolor": "white",
            "gridwidth": 2,
            "linecolor": "white",
            "showbackground": true,
            "ticks": "",
            "zerolinecolor": "white"
           },
           "yaxis": {
            "backgroundcolor": "#E5ECF6",
            "gridcolor": "white",
            "gridwidth": 2,
            "linecolor": "white",
            "showbackground": true,
            "ticks": "",
            "zerolinecolor": "white"
           },
           "zaxis": {
            "backgroundcolor": "#E5ECF6",
            "gridcolor": "white",
            "gridwidth": 2,
            "linecolor": "white",
            "showbackground": true,
            "ticks": "",
            "zerolinecolor": "white"
           }
          },
          "shapedefaults": {
           "line": {
            "color": "#2a3f5f"
           }
          },
          "ternary": {
           "aaxis": {
            "gridcolor": "white",
            "linecolor": "white",
            "ticks": ""
           },
           "baxis": {
            "gridcolor": "white",
            "linecolor": "white",
            "ticks": ""
           },
           "bgcolor": "#E5ECF6",
           "caxis": {
            "gridcolor": "white",
            "linecolor": "white",
            "ticks": ""
           }
          },
          "title": {
           "x": 0.05
          },
          "xaxis": {
           "automargin": true,
           "gridcolor": "white",
           "linecolor": "white",
           "ticks": "",
           "title": {
            "standoff": 15
           },
           "zerolinecolor": "white",
           "zerolinewidth": 2
          },
          "yaxis": {
           "automargin": true,
           "gridcolor": "white",
           "linecolor": "white",
           "ticks": "",
           "title": {
            "standoff": 15
           },
           "zerolinecolor": "white",
           "zerolinewidth": 2
          }
         }
        },
        "xaxis": {
         "anchor": "y",
         "domain": [
          0,
          1
         ],
         "title": {
          "text": "brand"
         }
        },
        "yaxis": {
         "anchor": "x",
         "domain": [
          0,
          1
         ],
         "title": {
          "text": "Turnover"
         }
        }
       }
      }
     },
     "metadata": {}
    }
   ],
   "source": [
    " sdf_brand_overview = spark.sql(\"SELECT brand, \\\n",
    "                                        COUNT(Product_id), \\\n",
    "                                        MEAN(price), \\\n",
    "                                        SUM(viewed_quantity) ,\\\n",
    "                                        SUM(cart_quantity),\\\n",
    "                                        SUM(bougth_quantity), \\\n",
    "                                        SUM(turnover) AS Turnover\\\n",
    "                                FROM Data \\\n",
    "                                GROUP BY brand \\\n",
    "                                ORDER BY Turnover DESC\")\n",
    "                                \n",
    "px.bar(sdf_brand_overview.limit(10).toPandas(), x='brand', y='Turnover')                             "
   ]
  },
  {
   "cell_type": "code",
   "execution_count": 44,
   "metadata": {},
   "outputs": [
    {
     "output_type": "display_data",
     "data": {
      "application/vnd.plotly.v1+json": {
       "config": {
        "plotlyServerURL": "https://plot.ly"
       },
       "data": [
        {
         "alignmentgroup": "True",
         "hovertemplate": "category_code=%{x}<br>Turnover=%{y}<extra></extra>",
         "legendgroup": "",
         "marker": {
          "color": "#636efa"
         },
         "name": "",
         "offsetgroup": "",
         "orientation": "v",
         "showlegend": false,
         "textposition": "auto",
         "type": "bar",
         "x": [
          "furniture.bedroom.bed",
          "electronics.smartphone",
          "electronics.camera.video",
          "apparel.jeans",
          "apparel.shirt",
          "furniture.kitchen.chair",
          "auto.accessories.compressor",
          "appliances.kitchen.dishwasher",
          "electronics.audio.headphone",
          "furniture.living_room.cabinet"
         ],
         "xaxis": "x",
         "y": [
          566.3,
          211.92,
          0,
          0,
          0,
          0,
          0,
          0,
          0,
          0
         ],
         "yaxis": "y"
        }
       ],
       "layout": {
        "barmode": "relative",
        "legend": {
         "tracegroupgap": 0
        },
        "margin": {
         "t": 60
        },
        "template": {
         "data": {
          "bar": [
           {
            "error_x": {
             "color": "#2a3f5f"
            },
            "error_y": {
             "color": "#2a3f5f"
            },
            "marker": {
             "line": {
              "color": "#E5ECF6",
              "width": 0.5
             }
            },
            "type": "bar"
           }
          ],
          "barpolar": [
           {
            "marker": {
             "line": {
              "color": "#E5ECF6",
              "width": 0.5
             }
            },
            "type": "barpolar"
           }
          ],
          "carpet": [
           {
            "aaxis": {
             "endlinecolor": "#2a3f5f",
             "gridcolor": "white",
             "linecolor": "white",
             "minorgridcolor": "white",
             "startlinecolor": "#2a3f5f"
            },
            "baxis": {
             "endlinecolor": "#2a3f5f",
             "gridcolor": "white",
             "linecolor": "white",
             "minorgridcolor": "white",
             "startlinecolor": "#2a3f5f"
            },
            "type": "carpet"
           }
          ],
          "choropleth": [
           {
            "colorbar": {
             "outlinewidth": 0,
             "ticks": ""
            },
            "type": "choropleth"
           }
          ],
          "contour": [
           {
            "colorbar": {
             "outlinewidth": 0,
             "ticks": ""
            },
            "colorscale": [
             [
              0,
              "#0d0887"
             ],
             [
              0.1111111111111111,
              "#46039f"
             ],
             [
              0.2222222222222222,
              "#7201a8"
             ],
             [
              0.3333333333333333,
              "#9c179e"
             ],
             [
              0.4444444444444444,
              "#bd3786"
             ],
             [
              0.5555555555555556,
              "#d8576b"
             ],
             [
              0.6666666666666666,
              "#ed7953"
             ],
             [
              0.7777777777777778,
              "#fb9f3a"
             ],
             [
              0.8888888888888888,
              "#fdca26"
             ],
             [
              1,
              "#f0f921"
             ]
            ],
            "type": "contour"
           }
          ],
          "contourcarpet": [
           {
            "colorbar": {
             "outlinewidth": 0,
             "ticks": ""
            },
            "type": "contourcarpet"
           }
          ],
          "heatmap": [
           {
            "colorbar": {
             "outlinewidth": 0,
             "ticks": ""
            },
            "colorscale": [
             [
              0,
              "#0d0887"
             ],
             [
              0.1111111111111111,
              "#46039f"
             ],
             [
              0.2222222222222222,
              "#7201a8"
             ],
             [
              0.3333333333333333,
              "#9c179e"
             ],
             [
              0.4444444444444444,
              "#bd3786"
             ],
             [
              0.5555555555555556,
              "#d8576b"
             ],
             [
              0.6666666666666666,
              "#ed7953"
             ],
             [
              0.7777777777777778,
              "#fb9f3a"
             ],
             [
              0.8888888888888888,
              "#fdca26"
             ],
             [
              1,
              "#f0f921"
             ]
            ],
            "type": "heatmap"
           }
          ],
          "heatmapgl": [
           {
            "colorbar": {
             "outlinewidth": 0,
             "ticks": ""
            },
            "colorscale": [
             [
              0,
              "#0d0887"
             ],
             [
              0.1111111111111111,
              "#46039f"
             ],
             [
              0.2222222222222222,
              "#7201a8"
             ],
             [
              0.3333333333333333,
              "#9c179e"
             ],
             [
              0.4444444444444444,
              "#bd3786"
             ],
             [
              0.5555555555555556,
              "#d8576b"
             ],
             [
              0.6666666666666666,
              "#ed7953"
             ],
             [
              0.7777777777777778,
              "#fb9f3a"
             ],
             [
              0.8888888888888888,
              "#fdca26"
             ],
             [
              1,
              "#f0f921"
             ]
            ],
            "type": "heatmapgl"
           }
          ],
          "histogram": [
           {
            "marker": {
             "colorbar": {
              "outlinewidth": 0,
              "ticks": ""
             }
            },
            "type": "histogram"
           }
          ],
          "histogram2d": [
           {
            "colorbar": {
             "outlinewidth": 0,
             "ticks": ""
            },
            "colorscale": [
             [
              0,
              "#0d0887"
             ],
             [
              0.1111111111111111,
              "#46039f"
             ],
             [
              0.2222222222222222,
              "#7201a8"
             ],
             [
              0.3333333333333333,
              "#9c179e"
             ],
             [
              0.4444444444444444,
              "#bd3786"
             ],
             [
              0.5555555555555556,
              "#d8576b"
             ],
             [
              0.6666666666666666,
              "#ed7953"
             ],
             [
              0.7777777777777778,
              "#fb9f3a"
             ],
             [
              0.8888888888888888,
              "#fdca26"
             ],
             [
              1,
              "#f0f921"
             ]
            ],
            "type": "histogram2d"
           }
          ],
          "histogram2dcontour": [
           {
            "colorbar": {
             "outlinewidth": 0,
             "ticks": ""
            },
            "colorscale": [
             [
              0,
              "#0d0887"
             ],
             [
              0.1111111111111111,
              "#46039f"
             ],
             [
              0.2222222222222222,
              "#7201a8"
             ],
             [
              0.3333333333333333,
              "#9c179e"
             ],
             [
              0.4444444444444444,
              "#bd3786"
             ],
             [
              0.5555555555555556,
              "#d8576b"
             ],
             [
              0.6666666666666666,
              "#ed7953"
             ],
             [
              0.7777777777777778,
              "#fb9f3a"
             ],
             [
              0.8888888888888888,
              "#fdca26"
             ],
             [
              1,
              "#f0f921"
             ]
            ],
            "type": "histogram2dcontour"
           }
          ],
          "mesh3d": [
           {
            "colorbar": {
             "outlinewidth": 0,
             "ticks": ""
            },
            "type": "mesh3d"
           }
          ],
          "parcoords": [
           {
            "line": {
             "colorbar": {
              "outlinewidth": 0,
              "ticks": ""
             }
            },
            "type": "parcoords"
           }
          ],
          "pie": [
           {
            "automargin": true,
            "type": "pie"
           }
          ],
          "scatter": [
           {
            "marker": {
             "colorbar": {
              "outlinewidth": 0,
              "ticks": ""
             }
            },
            "type": "scatter"
           }
          ],
          "scatter3d": [
           {
            "line": {
             "colorbar": {
              "outlinewidth": 0,
              "ticks": ""
             }
            },
            "marker": {
             "colorbar": {
              "outlinewidth": 0,
              "ticks": ""
             }
            },
            "type": "scatter3d"
           }
          ],
          "scattercarpet": [
           {
            "marker": {
             "colorbar": {
              "outlinewidth": 0,
              "ticks": ""
             }
            },
            "type": "scattercarpet"
           }
          ],
          "scattergeo": [
           {
            "marker": {
             "colorbar": {
              "outlinewidth": 0,
              "ticks": ""
             }
            },
            "type": "scattergeo"
           }
          ],
          "scattergl": [
           {
            "marker": {
             "colorbar": {
              "outlinewidth": 0,
              "ticks": ""
             }
            },
            "type": "scattergl"
           }
          ],
          "scattermapbox": [
           {
            "marker": {
             "colorbar": {
              "outlinewidth": 0,
              "ticks": ""
             }
            },
            "type": "scattermapbox"
           }
          ],
          "scatterpolar": [
           {
            "marker": {
             "colorbar": {
              "outlinewidth": 0,
              "ticks": ""
             }
            },
            "type": "scatterpolar"
           }
          ],
          "scatterpolargl": [
           {
            "marker": {
             "colorbar": {
              "outlinewidth": 0,
              "ticks": ""
             }
            },
            "type": "scatterpolargl"
           }
          ],
          "scatterternary": [
           {
            "marker": {
             "colorbar": {
              "outlinewidth": 0,
              "ticks": ""
             }
            },
            "type": "scatterternary"
           }
          ],
          "surface": [
           {
            "colorbar": {
             "outlinewidth": 0,
             "ticks": ""
            },
            "colorscale": [
             [
              0,
              "#0d0887"
             ],
             [
              0.1111111111111111,
              "#46039f"
             ],
             [
              0.2222222222222222,
              "#7201a8"
             ],
             [
              0.3333333333333333,
              "#9c179e"
             ],
             [
              0.4444444444444444,
              "#bd3786"
             ],
             [
              0.5555555555555556,
              "#d8576b"
             ],
             [
              0.6666666666666666,
              "#ed7953"
             ],
             [
              0.7777777777777778,
              "#fb9f3a"
             ],
             [
              0.8888888888888888,
              "#fdca26"
             ],
             [
              1,
              "#f0f921"
             ]
            ],
            "type": "surface"
           }
          ],
          "table": [
           {
            "cells": {
             "fill": {
              "color": "#EBF0F8"
             },
             "line": {
              "color": "white"
             }
            },
            "header": {
             "fill": {
              "color": "#C8D4E3"
             },
             "line": {
              "color": "white"
             }
            },
            "type": "table"
           }
          ]
         },
         "layout": {
          "annotationdefaults": {
           "arrowcolor": "#2a3f5f",
           "arrowhead": 0,
           "arrowwidth": 1
          },
          "autotypenumbers": "strict",
          "coloraxis": {
           "colorbar": {
            "outlinewidth": 0,
            "ticks": ""
           }
          },
          "colorscale": {
           "diverging": [
            [
             0,
             "#8e0152"
            ],
            [
             0.1,
             "#c51b7d"
            ],
            [
             0.2,
             "#de77ae"
            ],
            [
             0.3,
             "#f1b6da"
            ],
            [
             0.4,
             "#fde0ef"
            ],
            [
             0.5,
             "#f7f7f7"
            ],
            [
             0.6,
             "#e6f5d0"
            ],
            [
             0.7,
             "#b8e186"
            ],
            [
             0.8,
             "#7fbc41"
            ],
            [
             0.9,
             "#4d9221"
            ],
            [
             1,
             "#276419"
            ]
           ],
           "sequential": [
            [
             0,
             "#0d0887"
            ],
            [
             0.1111111111111111,
             "#46039f"
            ],
            [
             0.2222222222222222,
             "#7201a8"
            ],
            [
             0.3333333333333333,
             "#9c179e"
            ],
            [
             0.4444444444444444,
             "#bd3786"
            ],
            [
             0.5555555555555556,
             "#d8576b"
            ],
            [
             0.6666666666666666,
             "#ed7953"
            ],
            [
             0.7777777777777778,
             "#fb9f3a"
            ],
            [
             0.8888888888888888,
             "#fdca26"
            ],
            [
             1,
             "#f0f921"
            ]
           ],
           "sequentialminus": [
            [
             0,
             "#0d0887"
            ],
            [
             0.1111111111111111,
             "#46039f"
            ],
            [
             0.2222222222222222,
             "#7201a8"
            ],
            [
             0.3333333333333333,
             "#9c179e"
            ],
            [
             0.4444444444444444,
             "#bd3786"
            ],
            [
             0.5555555555555556,
             "#d8576b"
            ],
            [
             0.6666666666666666,
             "#ed7953"
            ],
            [
             0.7777777777777778,
             "#fb9f3a"
            ],
            [
             0.8888888888888888,
             "#fdca26"
            ],
            [
             1,
             "#f0f921"
            ]
           ]
          },
          "colorway": [
           "#636efa",
           "#EF553B",
           "#00cc96",
           "#ab63fa",
           "#FFA15A",
           "#19d3f3",
           "#FF6692",
           "#B6E880",
           "#FF97FF",
           "#FECB52"
          ],
          "font": {
           "color": "#2a3f5f"
          },
          "geo": {
           "bgcolor": "white",
           "lakecolor": "white",
           "landcolor": "#E5ECF6",
           "showlakes": true,
           "showland": true,
           "subunitcolor": "white"
          },
          "hoverlabel": {
           "align": "left"
          },
          "hovermode": "closest",
          "mapbox": {
           "style": "light"
          },
          "paper_bgcolor": "white",
          "plot_bgcolor": "#E5ECF6",
          "polar": {
           "angularaxis": {
            "gridcolor": "white",
            "linecolor": "white",
            "ticks": ""
           },
           "bgcolor": "#E5ECF6",
           "radialaxis": {
            "gridcolor": "white",
            "linecolor": "white",
            "ticks": ""
           }
          },
          "scene": {
           "xaxis": {
            "backgroundcolor": "#E5ECF6",
            "gridcolor": "white",
            "gridwidth": 2,
            "linecolor": "white",
            "showbackground": true,
            "ticks": "",
            "zerolinecolor": "white"
           },
           "yaxis": {
            "backgroundcolor": "#E5ECF6",
            "gridcolor": "white",
            "gridwidth": 2,
            "linecolor": "white",
            "showbackground": true,
            "ticks": "",
            "zerolinecolor": "white"
           },
           "zaxis": {
            "backgroundcolor": "#E5ECF6",
            "gridcolor": "white",
            "gridwidth": 2,
            "linecolor": "white",
            "showbackground": true,
            "ticks": "",
            "zerolinecolor": "white"
           }
          },
          "shapedefaults": {
           "line": {
            "color": "#2a3f5f"
           }
          },
          "ternary": {
           "aaxis": {
            "gridcolor": "white",
            "linecolor": "white",
            "ticks": ""
           },
           "baxis": {
            "gridcolor": "white",
            "linecolor": "white",
            "ticks": ""
           },
           "bgcolor": "#E5ECF6",
           "caxis": {
            "gridcolor": "white",
            "linecolor": "white",
            "ticks": ""
           }
          },
          "title": {
           "x": 0.05
          },
          "xaxis": {
           "automargin": true,
           "gridcolor": "white",
           "linecolor": "white",
           "ticks": "",
           "title": {
            "standoff": 15
           },
           "zerolinecolor": "white",
           "zerolinewidth": 2
          },
          "yaxis": {
           "automargin": true,
           "gridcolor": "white",
           "linecolor": "white",
           "ticks": "",
           "title": {
            "standoff": 15
           },
           "zerolinecolor": "white",
           "zerolinewidth": 2
          }
         }
        },
        "xaxis": {
         "anchor": "y",
         "domain": [
          0,
          1
         ],
         "title": {
          "text": "category_code"
         }
        },
        "yaxis": {
         "anchor": "x",
         "domain": [
          0,
          1
         ],
         "title": {
          "text": "Turnover"
         }
        }
       }
      }
     },
     "metadata": {}
    }
   ],
   "source": [
    " sdf_category_code_overview = spark.sql(\"SELECT category_code, \\\n",
    "                                        COUNT(Product_id), \\\n",
    "                                        MEAN(price), \\\n",
    "                                        SUM(viewed_quantity) ,\\\n",
    "                                        SUM(cart_quantity),\\\n",
    "                                        SUM(bougth_quantity), \\\n",
    "                                        SUM(turnover) AS Turnover\\\n",
    "                                FROM Data \\\n",
    "                                GROUP BY category_code \\\n",
    "                                ORDER BY Turnover DESC\")\n",
    "px.bar(sdf_category_code_overview.limit(10).toPandas(), x='category_code', y='Turnover')"
   ]
  },
  {
   "cell_type": "code",
   "execution_count": 45,
   "metadata": {},
   "outputs": [
    {
     "output_type": "display_data",
     "data": {
      "application/vnd.plotly.v1+json": {
       "config": {
        "plotlyServerURL": "https://plot.ly"
       },
       "data": [
        {
         "alignmentgroup": "True",
         "hovertemplate": "category_class=%{x}<br>Turnover=%{y}<extra></extra>",
         "legendgroup": "",
         "marker": {
          "color": "#636efa"
         },
         "name": "",
         "offsetgroup": "",
         "orientation": "v",
         "showlegend": false,
         "textposition": "auto",
         "type": "bar",
         "x": [
          "furniture",
          "electronics",
          null,
          "apparel",
          "computers",
          "kids",
          "appliances",
          "accessories",
          "auto",
          "construction"
         ],
         "xaxis": "x",
         "y": [
          566.3,
          211.92,
          0,
          0,
          0,
          0,
          0,
          0,
          0,
          0
         ],
         "yaxis": "y"
        }
       ],
       "layout": {
        "barmode": "relative",
        "legend": {
         "tracegroupgap": 0
        },
        "margin": {
         "t": 60
        },
        "template": {
         "data": {
          "bar": [
           {
            "error_x": {
             "color": "#2a3f5f"
            },
            "error_y": {
             "color": "#2a3f5f"
            },
            "marker": {
             "line": {
              "color": "#E5ECF6",
              "width": 0.5
             }
            },
            "type": "bar"
           }
          ],
          "barpolar": [
           {
            "marker": {
             "line": {
              "color": "#E5ECF6",
              "width": 0.5
             }
            },
            "type": "barpolar"
           }
          ],
          "carpet": [
           {
            "aaxis": {
             "endlinecolor": "#2a3f5f",
             "gridcolor": "white",
             "linecolor": "white",
             "minorgridcolor": "white",
             "startlinecolor": "#2a3f5f"
            },
            "baxis": {
             "endlinecolor": "#2a3f5f",
             "gridcolor": "white",
             "linecolor": "white",
             "minorgridcolor": "white",
             "startlinecolor": "#2a3f5f"
            },
            "type": "carpet"
           }
          ],
          "choropleth": [
           {
            "colorbar": {
             "outlinewidth": 0,
             "ticks": ""
            },
            "type": "choropleth"
           }
          ],
          "contour": [
           {
            "colorbar": {
             "outlinewidth": 0,
             "ticks": ""
            },
            "colorscale": [
             [
              0,
              "#0d0887"
             ],
             [
              0.1111111111111111,
              "#46039f"
             ],
             [
              0.2222222222222222,
              "#7201a8"
             ],
             [
              0.3333333333333333,
              "#9c179e"
             ],
             [
              0.4444444444444444,
              "#bd3786"
             ],
             [
              0.5555555555555556,
              "#d8576b"
             ],
             [
              0.6666666666666666,
              "#ed7953"
             ],
             [
              0.7777777777777778,
              "#fb9f3a"
             ],
             [
              0.8888888888888888,
              "#fdca26"
             ],
             [
              1,
              "#f0f921"
             ]
            ],
            "type": "contour"
           }
          ],
          "contourcarpet": [
           {
            "colorbar": {
             "outlinewidth": 0,
             "ticks": ""
            },
            "type": "contourcarpet"
           }
          ],
          "heatmap": [
           {
            "colorbar": {
             "outlinewidth": 0,
             "ticks": ""
            },
            "colorscale": [
             [
              0,
              "#0d0887"
             ],
             [
              0.1111111111111111,
              "#46039f"
             ],
             [
              0.2222222222222222,
              "#7201a8"
             ],
             [
              0.3333333333333333,
              "#9c179e"
             ],
             [
              0.4444444444444444,
              "#bd3786"
             ],
             [
              0.5555555555555556,
              "#d8576b"
             ],
             [
              0.6666666666666666,
              "#ed7953"
             ],
             [
              0.7777777777777778,
              "#fb9f3a"
             ],
             [
              0.8888888888888888,
              "#fdca26"
             ],
             [
              1,
              "#f0f921"
             ]
            ],
            "type": "heatmap"
           }
          ],
          "heatmapgl": [
           {
            "colorbar": {
             "outlinewidth": 0,
             "ticks": ""
            },
            "colorscale": [
             [
              0,
              "#0d0887"
             ],
             [
              0.1111111111111111,
              "#46039f"
             ],
             [
              0.2222222222222222,
              "#7201a8"
             ],
             [
              0.3333333333333333,
              "#9c179e"
             ],
             [
              0.4444444444444444,
              "#bd3786"
             ],
             [
              0.5555555555555556,
              "#d8576b"
             ],
             [
              0.6666666666666666,
              "#ed7953"
             ],
             [
              0.7777777777777778,
              "#fb9f3a"
             ],
             [
              0.8888888888888888,
              "#fdca26"
             ],
             [
              1,
              "#f0f921"
             ]
            ],
            "type": "heatmapgl"
           }
          ],
          "histogram": [
           {
            "marker": {
             "colorbar": {
              "outlinewidth": 0,
              "ticks": ""
             }
            },
            "type": "histogram"
           }
          ],
          "histogram2d": [
           {
            "colorbar": {
             "outlinewidth": 0,
             "ticks": ""
            },
            "colorscale": [
             [
              0,
              "#0d0887"
             ],
             [
              0.1111111111111111,
              "#46039f"
             ],
             [
              0.2222222222222222,
              "#7201a8"
             ],
             [
              0.3333333333333333,
              "#9c179e"
             ],
             [
              0.4444444444444444,
              "#bd3786"
             ],
             [
              0.5555555555555556,
              "#d8576b"
             ],
             [
              0.6666666666666666,
              "#ed7953"
             ],
             [
              0.7777777777777778,
              "#fb9f3a"
             ],
             [
              0.8888888888888888,
              "#fdca26"
             ],
             [
              1,
              "#f0f921"
             ]
            ],
            "type": "histogram2d"
           }
          ],
          "histogram2dcontour": [
           {
            "colorbar": {
             "outlinewidth": 0,
             "ticks": ""
            },
            "colorscale": [
             [
              0,
              "#0d0887"
             ],
             [
              0.1111111111111111,
              "#46039f"
             ],
             [
              0.2222222222222222,
              "#7201a8"
             ],
             [
              0.3333333333333333,
              "#9c179e"
             ],
             [
              0.4444444444444444,
              "#bd3786"
             ],
             [
              0.5555555555555556,
              "#d8576b"
             ],
             [
              0.6666666666666666,
              "#ed7953"
             ],
             [
              0.7777777777777778,
              "#fb9f3a"
             ],
             [
              0.8888888888888888,
              "#fdca26"
             ],
             [
              1,
              "#f0f921"
             ]
            ],
            "type": "histogram2dcontour"
           }
          ],
          "mesh3d": [
           {
            "colorbar": {
             "outlinewidth": 0,
             "ticks": ""
            },
            "type": "mesh3d"
           }
          ],
          "parcoords": [
           {
            "line": {
             "colorbar": {
              "outlinewidth": 0,
              "ticks": ""
             }
            },
            "type": "parcoords"
           }
          ],
          "pie": [
           {
            "automargin": true,
            "type": "pie"
           }
          ],
          "scatter": [
           {
            "marker": {
             "colorbar": {
              "outlinewidth": 0,
              "ticks": ""
             }
            },
            "type": "scatter"
           }
          ],
          "scatter3d": [
           {
            "line": {
             "colorbar": {
              "outlinewidth": 0,
              "ticks": ""
             }
            },
            "marker": {
             "colorbar": {
              "outlinewidth": 0,
              "ticks": ""
             }
            },
            "type": "scatter3d"
           }
          ],
          "scattercarpet": [
           {
            "marker": {
             "colorbar": {
              "outlinewidth": 0,
              "ticks": ""
             }
            },
            "type": "scattercarpet"
           }
          ],
          "scattergeo": [
           {
            "marker": {
             "colorbar": {
              "outlinewidth": 0,
              "ticks": ""
             }
            },
            "type": "scattergeo"
           }
          ],
          "scattergl": [
           {
            "marker": {
             "colorbar": {
              "outlinewidth": 0,
              "ticks": ""
             }
            },
            "type": "scattergl"
           }
          ],
          "scattermapbox": [
           {
            "marker": {
             "colorbar": {
              "outlinewidth": 0,
              "ticks": ""
             }
            },
            "type": "scattermapbox"
           }
          ],
          "scatterpolar": [
           {
            "marker": {
             "colorbar": {
              "outlinewidth": 0,
              "ticks": ""
             }
            },
            "type": "scatterpolar"
           }
          ],
          "scatterpolargl": [
           {
            "marker": {
             "colorbar": {
              "outlinewidth": 0,
              "ticks": ""
             }
            },
            "type": "scatterpolargl"
           }
          ],
          "scatterternary": [
           {
            "marker": {
             "colorbar": {
              "outlinewidth": 0,
              "ticks": ""
             }
            },
            "type": "scatterternary"
           }
          ],
          "surface": [
           {
            "colorbar": {
             "outlinewidth": 0,
             "ticks": ""
            },
            "colorscale": [
             [
              0,
              "#0d0887"
             ],
             [
              0.1111111111111111,
              "#46039f"
             ],
             [
              0.2222222222222222,
              "#7201a8"
             ],
             [
              0.3333333333333333,
              "#9c179e"
             ],
             [
              0.4444444444444444,
              "#bd3786"
             ],
             [
              0.5555555555555556,
              "#d8576b"
             ],
             [
              0.6666666666666666,
              "#ed7953"
             ],
             [
              0.7777777777777778,
              "#fb9f3a"
             ],
             [
              0.8888888888888888,
              "#fdca26"
             ],
             [
              1,
              "#f0f921"
             ]
            ],
            "type": "surface"
           }
          ],
          "table": [
           {
            "cells": {
             "fill": {
              "color": "#EBF0F8"
             },
             "line": {
              "color": "white"
             }
            },
            "header": {
             "fill": {
              "color": "#C8D4E3"
             },
             "line": {
              "color": "white"
             }
            },
            "type": "table"
           }
          ]
         },
         "layout": {
          "annotationdefaults": {
           "arrowcolor": "#2a3f5f",
           "arrowhead": 0,
           "arrowwidth": 1
          },
          "autotypenumbers": "strict",
          "coloraxis": {
           "colorbar": {
            "outlinewidth": 0,
            "ticks": ""
           }
          },
          "colorscale": {
           "diverging": [
            [
             0,
             "#8e0152"
            ],
            [
             0.1,
             "#c51b7d"
            ],
            [
             0.2,
             "#de77ae"
            ],
            [
             0.3,
             "#f1b6da"
            ],
            [
             0.4,
             "#fde0ef"
            ],
            [
             0.5,
             "#f7f7f7"
            ],
            [
             0.6,
             "#e6f5d0"
            ],
            [
             0.7,
             "#b8e186"
            ],
            [
             0.8,
             "#7fbc41"
            ],
            [
             0.9,
             "#4d9221"
            ],
            [
             1,
             "#276419"
            ]
           ],
           "sequential": [
            [
             0,
             "#0d0887"
            ],
            [
             0.1111111111111111,
             "#46039f"
            ],
            [
             0.2222222222222222,
             "#7201a8"
            ],
            [
             0.3333333333333333,
             "#9c179e"
            ],
            [
             0.4444444444444444,
             "#bd3786"
            ],
            [
             0.5555555555555556,
             "#d8576b"
            ],
            [
             0.6666666666666666,
             "#ed7953"
            ],
            [
             0.7777777777777778,
             "#fb9f3a"
            ],
            [
             0.8888888888888888,
             "#fdca26"
            ],
            [
             1,
             "#f0f921"
            ]
           ],
           "sequentialminus": [
            [
             0,
             "#0d0887"
            ],
            [
             0.1111111111111111,
             "#46039f"
            ],
            [
             0.2222222222222222,
             "#7201a8"
            ],
            [
             0.3333333333333333,
             "#9c179e"
            ],
            [
             0.4444444444444444,
             "#bd3786"
            ],
            [
             0.5555555555555556,
             "#d8576b"
            ],
            [
             0.6666666666666666,
             "#ed7953"
            ],
            [
             0.7777777777777778,
             "#fb9f3a"
            ],
            [
             0.8888888888888888,
             "#fdca26"
            ],
            [
             1,
             "#f0f921"
            ]
           ]
          },
          "colorway": [
           "#636efa",
           "#EF553B",
           "#00cc96",
           "#ab63fa",
           "#FFA15A",
           "#19d3f3",
           "#FF6692",
           "#B6E880",
           "#FF97FF",
           "#FECB52"
          ],
          "font": {
           "color": "#2a3f5f"
          },
          "geo": {
           "bgcolor": "white",
           "lakecolor": "white",
           "landcolor": "#E5ECF6",
           "showlakes": true,
           "showland": true,
           "subunitcolor": "white"
          },
          "hoverlabel": {
           "align": "left"
          },
          "hovermode": "closest",
          "mapbox": {
           "style": "light"
          },
          "paper_bgcolor": "white",
          "plot_bgcolor": "#E5ECF6",
          "polar": {
           "angularaxis": {
            "gridcolor": "white",
            "linecolor": "white",
            "ticks": ""
           },
           "bgcolor": "#E5ECF6",
           "radialaxis": {
            "gridcolor": "white",
            "linecolor": "white",
            "ticks": ""
           }
          },
          "scene": {
           "xaxis": {
            "backgroundcolor": "#E5ECF6",
            "gridcolor": "white",
            "gridwidth": 2,
            "linecolor": "white",
            "showbackground": true,
            "ticks": "",
            "zerolinecolor": "white"
           },
           "yaxis": {
            "backgroundcolor": "#E5ECF6",
            "gridcolor": "white",
            "gridwidth": 2,
            "linecolor": "white",
            "showbackground": true,
            "ticks": "",
            "zerolinecolor": "white"
           },
           "zaxis": {
            "backgroundcolor": "#E5ECF6",
            "gridcolor": "white",
            "gridwidth": 2,
            "linecolor": "white",
            "showbackground": true,
            "ticks": "",
            "zerolinecolor": "white"
           }
          },
          "shapedefaults": {
           "line": {
            "color": "#2a3f5f"
           }
          },
          "ternary": {
           "aaxis": {
            "gridcolor": "white",
            "linecolor": "white",
            "ticks": ""
           },
           "baxis": {
            "gridcolor": "white",
            "linecolor": "white",
            "ticks": ""
           },
           "bgcolor": "#E5ECF6",
           "caxis": {
            "gridcolor": "white",
            "linecolor": "white",
            "ticks": ""
           }
          },
          "title": {
           "x": 0.05
          },
          "xaxis": {
           "automargin": true,
           "gridcolor": "white",
           "linecolor": "white",
           "ticks": "",
           "title": {
            "standoff": 15
           },
           "zerolinecolor": "white",
           "zerolinewidth": 2
          },
          "yaxis": {
           "automargin": true,
           "gridcolor": "white",
           "linecolor": "white",
           "ticks": "",
           "title": {
            "standoff": 15
           },
           "zerolinecolor": "white",
           "zerolinewidth": 2
          }
         }
        },
        "xaxis": {
         "anchor": "y",
         "domain": [
          0,
          1
         ],
         "title": {
          "text": "category_class"
         }
        },
        "yaxis": {
         "anchor": "x",
         "domain": [
          0,
          1
         ],
         "title": {
          "text": "Turnover"
         }
        }
       }
      }
     },
     "metadata": {}
    }
   ],
   "source": [
    " sdf_category_class_overview = spark.sql(\"SELECT category_class, \\\n",
    "                                        COUNT(Product_id), \\\n",
    "                                        MEAN(price), \\\n",
    "                                        SUM(viewed_quantity) ,\\\n",
    "                                        SUM(cart_quantity),\\\n",
    "                                        SUM(bougth_quantity), \\\n",
    "                                        SUM(turnover) AS Turnover\\\n",
    "                                FROM Data \\\n",
    "                                GROUP BY category_class \\\n",
    "                                ORDER BY Turnover DESC\")\n",
    "px.bar(sdf_category_class_overview.limit(10).toPandas(), x='category_class', y='Turnover')"
   ]
  },
  {
   "cell_type": "markdown",
   "metadata": {
    "pycharm": {
     "name": "#%% md\n"
    }
   },
   "source": [
    "### Event_Type and Price\n",
    "The following plot represents the distribution of the price within the event_type."
   ]
  },
  {
   "cell_type": "code",
   "execution_count": 46,
   "metadata": {},
   "outputs": [
    {
     "output_type": "display_data",
     "data": {
      "application/vnd.plotly.v1+json": {
       "config": {
        "plotlyServerURL": "https://plot.ly"
       },
       "data": [
        {
         "alignmentgroup": "True",
         "hovertemplate": "event_type=%{x}<br>price=%{y}<extra></extra>",
         "legendgroup": "",
         "marker": {
          "color": "#636efa"
         },
         "name": "",
         "notched": false,
         "offsetgroup": "",
         "orientation": "v",
         "showlegend": false,
         "type": "box",
         "x": [
          "view",
          "view",
          "view",
          "view",
          "view",
          "view",
          "view",
          "view",
          "view",
          "view",
          "view",
          "view",
          "view",
          "view",
          "view",
          "view",
          "view",
          "view",
          "view",
          "view",
          "view",
          "view",
          "view",
          "view",
          "view",
          "view",
          "view",
          "view",
          "view",
          "view",
          "view",
          "view",
          "view",
          "view",
          "view",
          "view",
          "view",
          "view",
          "view",
          "view",
          "cart",
          "view",
          "view",
          "view",
          "view",
          "view",
          "view",
          "view",
          "view",
          "view",
          "view",
          "view",
          "view",
          "view",
          "view",
          "view",
          "view",
          "view",
          "view",
          "view",
          "view",
          "view",
          "view",
          "view",
          "view",
          "view",
          "view",
          "view",
          "view",
          "view",
          "view",
          "view",
          "view",
          "view",
          "view",
          "view",
          "view",
          "view",
          "view",
          "view",
          "view",
          "view",
          "view",
          "view",
          "view",
          "view",
          "view",
          "view",
          "view",
          "view",
          "view",
          "view",
          "view",
          "view",
          "view",
          "view",
          "view",
          "view",
          "view",
          "view",
          "view",
          "view",
          "view",
          "view",
          "view",
          "view",
          "view",
          "purchase",
          "view",
          "view",
          "view",
          "view",
          "view",
          "view",
          "view",
          "view",
          "view",
          "view",
          "view",
          "view",
          "view",
          "view",
          "view",
          "view",
          "view",
          "view",
          "view",
          "view",
          "view",
          "view",
          "view",
          "view",
          "view",
          "view",
          "view",
          "view",
          "view",
          "view",
          "view",
          "view",
          "view",
          "view",
          "view",
          "view",
          "view",
          "view",
          "view",
          "view",
          "view",
          "view",
          "view",
          "view",
          "view",
          "view",
          "view",
          "view",
          "view",
          "view",
          "view",
          "view",
          "view",
          "view",
          "view",
          "view",
          "view",
          "view",
          "view",
          "view",
          "purchase",
          "view",
          "view",
          "view",
          "view",
          "view",
          "view",
          "view",
          "view",
          "view",
          "view",
          "view",
          "view",
          "view",
          "view",
          "view",
          "view",
          "view",
          "view",
          "view",
          "view",
          "view",
          "view",
          "view",
          "view",
          "view",
          "view",
          "view",
          "view",
          "view",
          "view",
          "view",
          "view",
          "view",
          "view",
          "view",
          "view",
          "view",
          "view",
          "view",
          "view",
          "view",
          "view",
          "view",
          "view",
          "view",
          "view",
          "view",
          "view",
          "view",
          "view",
          "view",
          "view",
          "view",
          "view",
          "view",
          "view",
          "view",
          "view",
          "view",
          "view",
          "view",
          "view",
          "view",
          "view",
          "view",
          "view",
          "cart",
          "view",
          "view",
          "view",
          "view",
          "view",
          "view",
          "view",
          "view"
         ],
         "x0": " ",
         "xaxis": "x",
         "y": [
          489.07,
          293.65,
          28.31,
          712.87,
          183.27,
          360.09,
          514.56,
          30.86,
          72.72,
          732.07,
          437.33,
          155.11,
          31.64,
          20.54,
          411.83,
          1.09,
          8.55,
          22.68,
          164.84,
          411.59,
          88.81,
          151.99,
          7.07,
          591.78,
          55.33,
          11.79,
          7.59,
          949.47,
          514.79,
          360.34,
          38.07,
          47.77,
          23.4,
          23.14,
          61.1,
          127.42,
          54.06,
          69.24,
          108.09,
          458.28,
          503.09,
          119.69,
          437.29,
          32.66,
          684.44,
          511.13,
          15.62,
          386.08,
          248.66,
          211.92,
          895.78,
          289.33,
          8.73,
          40.16,
          928.18,
          47.77,
          66.9,
          8.55,
          134.37,
          51.48,
          83.91,
          28.19,
          385.85,
          733.61,
          105.54,
          128.42,
          50.19,
          43.73,
          98.51,
          84.65,
          5.77,
          157.28,
          252.77,
          20.77,
          34.75,
          287.83,
          91.12,
          151.14,
          61.75,
          1091.33,
          46.16,
          72.72,
          22.8,
          171.17,
          257.38,
          51.46,
          221.37,
          849.42,
          242.63,
          40.93,
          48.43,
          499.94,
          50.45,
          51.22,
          900.92,
          463.15,
          928.38,
          861.28,
          166.23,
          64.33,
          170.63,
          1013.86,
          28.19,
          411.59,
          280.05,
          1173.6,
          390.98,
          566.3,
          50.43,
          1091.33,
          946.73,
          58.17,
          61.75,
          17.49,
          314.08,
          47.62,
          47.32,
          46.08,
          180.18,
          226.83,
          514.79,
          489.07,
          70.27,
          511.13,
          751.63,
          136.4,
          182.76,
          172.22,
          172.23,
          41.19,
          257.15,
          398.72,
          378.36,
          2342.15,
          861.28,
          28.19,
          114.03,
          406.68,
          25.48,
          49.68,
          76.45,
          1209.55,
          72.72,
          113.93,
          928.38,
          254.78,
          334.37,
          244.28,
          242.63,
          70.53,
          118.41,
          7.34,
          293.65,
          22.8,
          203.84,
          77.22,
          125.61,
          684.44,
          128.42,
          1013.86,
          298.16,
          84.69,
          2312.8,
          229.09,
          48.35,
          167.02,
          40.93,
          177.1,
          211.92,
          2239.44,
          36.78,
          900.92,
          2496.59,
          128.68,
          195.37,
          10.17,
          221.37,
          207.21,
          277.23,
          32.18,
          36.78,
          58.69,
          566.3,
          69.5,
          65.38,
          30.43,
          218.51,
          150.95,
          127.33,
          46.82,
          29.86,
          65.64,
          411.34,
          72.59,
          165.26,
          97.34,
          566.3,
          102.71,
          24.71,
          293.44,
          397.54,
          221.37,
          183.27,
          432.42,
          1335.43,
          380.96,
          552.14,
          38.61,
          67.84,
          2311.49,
          133.83,
          224.46,
          72.07,
          20.57,
          51.22,
          257.15,
          732.07,
          140.1,
          105.54,
          23.37,
          198.18,
          169.36,
          168.06,
          194.76,
          565.63,
          33.44,
          229.83,
          69.47,
          88.29,
          1997.99,
          110.03,
          195.87,
          54.03,
          1375.64,
          147.15,
          119.69,
          123.53,
          56.63,
          36.01,
          56.37,
          700.81,
          51.46,
          12.91,
          159.59
         ],
         "y0": " ",
         "yaxis": "y"
        }
       ],
       "layout": {
        "boxmode": "group",
        "legend": {
         "tracegroupgap": 0
        },
        "template": {
         "data": {
          "bar": [
           {
            "error_x": {
             "color": "#2a3f5f"
            },
            "error_y": {
             "color": "#2a3f5f"
            },
            "marker": {
             "line": {
              "color": "#E5ECF6",
              "width": 0.5
             }
            },
            "type": "bar"
           }
          ],
          "barpolar": [
           {
            "marker": {
             "line": {
              "color": "#E5ECF6",
              "width": 0.5
             }
            },
            "type": "barpolar"
           }
          ],
          "carpet": [
           {
            "aaxis": {
             "endlinecolor": "#2a3f5f",
             "gridcolor": "white",
             "linecolor": "white",
             "minorgridcolor": "white",
             "startlinecolor": "#2a3f5f"
            },
            "baxis": {
             "endlinecolor": "#2a3f5f",
             "gridcolor": "white",
             "linecolor": "white",
             "minorgridcolor": "white",
             "startlinecolor": "#2a3f5f"
            },
            "type": "carpet"
           }
          ],
          "choropleth": [
           {
            "colorbar": {
             "outlinewidth": 0,
             "ticks": ""
            },
            "type": "choropleth"
           }
          ],
          "contour": [
           {
            "colorbar": {
             "outlinewidth": 0,
             "ticks": ""
            },
            "colorscale": [
             [
              0,
              "#0d0887"
             ],
             [
              0.1111111111111111,
              "#46039f"
             ],
             [
              0.2222222222222222,
              "#7201a8"
             ],
             [
              0.3333333333333333,
              "#9c179e"
             ],
             [
              0.4444444444444444,
              "#bd3786"
             ],
             [
              0.5555555555555556,
              "#d8576b"
             ],
             [
              0.6666666666666666,
              "#ed7953"
             ],
             [
              0.7777777777777778,
              "#fb9f3a"
             ],
             [
              0.8888888888888888,
              "#fdca26"
             ],
             [
              1,
              "#f0f921"
             ]
            ],
            "type": "contour"
           }
          ],
          "contourcarpet": [
           {
            "colorbar": {
             "outlinewidth": 0,
             "ticks": ""
            },
            "type": "contourcarpet"
           }
          ],
          "heatmap": [
           {
            "colorbar": {
             "outlinewidth": 0,
             "ticks": ""
            },
            "colorscale": [
             [
              0,
              "#0d0887"
             ],
             [
              0.1111111111111111,
              "#46039f"
             ],
             [
              0.2222222222222222,
              "#7201a8"
             ],
             [
              0.3333333333333333,
              "#9c179e"
             ],
             [
              0.4444444444444444,
              "#bd3786"
             ],
             [
              0.5555555555555556,
              "#d8576b"
             ],
             [
              0.6666666666666666,
              "#ed7953"
             ],
             [
              0.7777777777777778,
              "#fb9f3a"
             ],
             [
              0.8888888888888888,
              "#fdca26"
             ],
             [
              1,
              "#f0f921"
             ]
            ],
            "type": "heatmap"
           }
          ],
          "heatmapgl": [
           {
            "colorbar": {
             "outlinewidth": 0,
             "ticks": ""
            },
            "colorscale": [
             [
              0,
              "#0d0887"
             ],
             [
              0.1111111111111111,
              "#46039f"
             ],
             [
              0.2222222222222222,
              "#7201a8"
             ],
             [
              0.3333333333333333,
              "#9c179e"
             ],
             [
              0.4444444444444444,
              "#bd3786"
             ],
             [
              0.5555555555555556,
              "#d8576b"
             ],
             [
              0.6666666666666666,
              "#ed7953"
             ],
             [
              0.7777777777777778,
              "#fb9f3a"
             ],
             [
              0.8888888888888888,
              "#fdca26"
             ],
             [
              1,
              "#f0f921"
             ]
            ],
            "type": "heatmapgl"
           }
          ],
          "histogram": [
           {
            "marker": {
             "colorbar": {
              "outlinewidth": 0,
              "ticks": ""
             }
            },
            "type": "histogram"
           }
          ],
          "histogram2d": [
           {
            "colorbar": {
             "outlinewidth": 0,
             "ticks": ""
            },
            "colorscale": [
             [
              0,
              "#0d0887"
             ],
             [
              0.1111111111111111,
              "#46039f"
             ],
             [
              0.2222222222222222,
              "#7201a8"
             ],
             [
              0.3333333333333333,
              "#9c179e"
             ],
             [
              0.4444444444444444,
              "#bd3786"
             ],
             [
              0.5555555555555556,
              "#d8576b"
             ],
             [
              0.6666666666666666,
              "#ed7953"
             ],
             [
              0.7777777777777778,
              "#fb9f3a"
             ],
             [
              0.8888888888888888,
              "#fdca26"
             ],
             [
              1,
              "#f0f921"
             ]
            ],
            "type": "histogram2d"
           }
          ],
          "histogram2dcontour": [
           {
            "colorbar": {
             "outlinewidth": 0,
             "ticks": ""
            },
            "colorscale": [
             [
              0,
              "#0d0887"
             ],
             [
              0.1111111111111111,
              "#46039f"
             ],
             [
              0.2222222222222222,
              "#7201a8"
             ],
             [
              0.3333333333333333,
              "#9c179e"
             ],
             [
              0.4444444444444444,
              "#bd3786"
             ],
             [
              0.5555555555555556,
              "#d8576b"
             ],
             [
              0.6666666666666666,
              "#ed7953"
             ],
             [
              0.7777777777777778,
              "#fb9f3a"
             ],
             [
              0.8888888888888888,
              "#fdca26"
             ],
             [
              1,
              "#f0f921"
             ]
            ],
            "type": "histogram2dcontour"
           }
          ],
          "mesh3d": [
           {
            "colorbar": {
             "outlinewidth": 0,
             "ticks": ""
            },
            "type": "mesh3d"
           }
          ],
          "parcoords": [
           {
            "line": {
             "colorbar": {
              "outlinewidth": 0,
              "ticks": ""
             }
            },
            "type": "parcoords"
           }
          ],
          "pie": [
           {
            "automargin": true,
            "type": "pie"
           }
          ],
          "scatter": [
           {
            "marker": {
             "colorbar": {
              "outlinewidth": 0,
              "ticks": ""
             }
            },
            "type": "scatter"
           }
          ],
          "scatter3d": [
           {
            "line": {
             "colorbar": {
              "outlinewidth": 0,
              "ticks": ""
             }
            },
            "marker": {
             "colorbar": {
              "outlinewidth": 0,
              "ticks": ""
             }
            },
            "type": "scatter3d"
           }
          ],
          "scattercarpet": [
           {
            "marker": {
             "colorbar": {
              "outlinewidth": 0,
              "ticks": ""
             }
            },
            "type": "scattercarpet"
           }
          ],
          "scattergeo": [
           {
            "marker": {
             "colorbar": {
              "outlinewidth": 0,
              "ticks": ""
             }
            },
            "type": "scattergeo"
           }
          ],
          "scattergl": [
           {
            "marker": {
             "colorbar": {
              "outlinewidth": 0,
              "ticks": ""
             }
            },
            "type": "scattergl"
           }
          ],
          "scattermapbox": [
           {
            "marker": {
             "colorbar": {
              "outlinewidth": 0,
              "ticks": ""
             }
            },
            "type": "scattermapbox"
           }
          ],
          "scatterpolar": [
           {
            "marker": {
             "colorbar": {
              "outlinewidth": 0,
              "ticks": ""
             }
            },
            "type": "scatterpolar"
           }
          ],
          "scatterpolargl": [
           {
            "marker": {
             "colorbar": {
              "outlinewidth": 0,
              "ticks": ""
             }
            },
            "type": "scatterpolargl"
           }
          ],
          "scatterternary": [
           {
            "marker": {
             "colorbar": {
              "outlinewidth": 0,
              "ticks": ""
             }
            },
            "type": "scatterternary"
           }
          ],
          "surface": [
           {
            "colorbar": {
             "outlinewidth": 0,
             "ticks": ""
            },
            "colorscale": [
             [
              0,
              "#0d0887"
             ],
             [
              0.1111111111111111,
              "#46039f"
             ],
             [
              0.2222222222222222,
              "#7201a8"
             ],
             [
              0.3333333333333333,
              "#9c179e"
             ],
             [
              0.4444444444444444,
              "#bd3786"
             ],
             [
              0.5555555555555556,
              "#d8576b"
             ],
             [
              0.6666666666666666,
              "#ed7953"
             ],
             [
              0.7777777777777778,
              "#fb9f3a"
             ],
             [
              0.8888888888888888,
              "#fdca26"
             ],
             [
              1,
              "#f0f921"
             ]
            ],
            "type": "surface"
           }
          ],
          "table": [
           {
            "cells": {
             "fill": {
              "color": "#EBF0F8"
             },
             "line": {
              "color": "white"
             }
            },
            "header": {
             "fill": {
              "color": "#C8D4E3"
             },
             "line": {
              "color": "white"
             }
            },
            "type": "table"
           }
          ]
         },
         "layout": {
          "annotationdefaults": {
           "arrowcolor": "#2a3f5f",
           "arrowhead": 0,
           "arrowwidth": 1
          },
          "autotypenumbers": "strict",
          "coloraxis": {
           "colorbar": {
            "outlinewidth": 0,
            "ticks": ""
           }
          },
          "colorscale": {
           "diverging": [
            [
             0,
             "#8e0152"
            ],
            [
             0.1,
             "#c51b7d"
            ],
            [
             0.2,
             "#de77ae"
            ],
            [
             0.3,
             "#f1b6da"
            ],
            [
             0.4,
             "#fde0ef"
            ],
            [
             0.5,
             "#f7f7f7"
            ],
            [
             0.6,
             "#e6f5d0"
            ],
            [
             0.7,
             "#b8e186"
            ],
            [
             0.8,
             "#7fbc41"
            ],
            [
             0.9,
             "#4d9221"
            ],
            [
             1,
             "#276419"
            ]
           ],
           "sequential": [
            [
             0,
             "#0d0887"
            ],
            [
             0.1111111111111111,
             "#46039f"
            ],
            [
             0.2222222222222222,
             "#7201a8"
            ],
            [
             0.3333333333333333,
             "#9c179e"
            ],
            [
             0.4444444444444444,
             "#bd3786"
            ],
            [
             0.5555555555555556,
             "#d8576b"
            ],
            [
             0.6666666666666666,
             "#ed7953"
            ],
            [
             0.7777777777777778,
             "#fb9f3a"
            ],
            [
             0.8888888888888888,
             "#fdca26"
            ],
            [
             1,
             "#f0f921"
            ]
           ],
           "sequentialminus": [
            [
             0,
             "#0d0887"
            ],
            [
             0.1111111111111111,
             "#46039f"
            ],
            [
             0.2222222222222222,
             "#7201a8"
            ],
            [
             0.3333333333333333,
             "#9c179e"
            ],
            [
             0.4444444444444444,
             "#bd3786"
            ],
            [
             0.5555555555555556,
             "#d8576b"
            ],
            [
             0.6666666666666666,
             "#ed7953"
            ],
            [
             0.7777777777777778,
             "#fb9f3a"
            ],
            [
             0.8888888888888888,
             "#fdca26"
            ],
            [
             1,
             "#f0f921"
            ]
           ]
          },
          "colorway": [
           "#636efa",
           "#EF553B",
           "#00cc96",
           "#ab63fa",
           "#FFA15A",
           "#19d3f3",
           "#FF6692",
           "#B6E880",
           "#FF97FF",
           "#FECB52"
          ],
          "font": {
           "color": "#2a3f5f"
          },
          "geo": {
           "bgcolor": "white",
           "lakecolor": "white",
           "landcolor": "#E5ECF6",
           "showlakes": true,
           "showland": true,
           "subunitcolor": "white"
          },
          "hoverlabel": {
           "align": "left"
          },
          "hovermode": "closest",
          "mapbox": {
           "style": "light"
          },
          "paper_bgcolor": "white",
          "plot_bgcolor": "#E5ECF6",
          "polar": {
           "angularaxis": {
            "gridcolor": "white",
            "linecolor": "white",
            "ticks": ""
           },
           "bgcolor": "#E5ECF6",
           "radialaxis": {
            "gridcolor": "white",
            "linecolor": "white",
            "ticks": ""
           }
          },
          "scene": {
           "xaxis": {
            "backgroundcolor": "#E5ECF6",
            "gridcolor": "white",
            "gridwidth": 2,
            "linecolor": "white",
            "showbackground": true,
            "ticks": "",
            "zerolinecolor": "white"
           },
           "yaxis": {
            "backgroundcolor": "#E5ECF6",
            "gridcolor": "white",
            "gridwidth": 2,
            "linecolor": "white",
            "showbackground": true,
            "ticks": "",
            "zerolinecolor": "white"
           },
           "zaxis": {
            "backgroundcolor": "#E5ECF6",
            "gridcolor": "white",
            "gridwidth": 2,
            "linecolor": "white",
            "showbackground": true,
            "ticks": "",
            "zerolinecolor": "white"
           }
          },
          "shapedefaults": {
           "line": {
            "color": "#2a3f5f"
           }
          },
          "ternary": {
           "aaxis": {
            "gridcolor": "white",
            "linecolor": "white",
            "ticks": ""
           },
           "baxis": {
            "gridcolor": "white",
            "linecolor": "white",
            "ticks": ""
           },
           "bgcolor": "#E5ECF6",
           "caxis": {
            "gridcolor": "white",
            "linecolor": "white",
            "ticks": ""
           }
          },
          "title": {
           "x": 0.05
          },
          "xaxis": {
           "automargin": true,
           "gridcolor": "white",
           "linecolor": "white",
           "ticks": "",
           "title": {
            "standoff": 15
           },
           "zerolinecolor": "white",
           "zerolinewidth": 2
          },
          "yaxis": {
           "automargin": true,
           "gridcolor": "white",
           "linecolor": "white",
           "ticks": "",
           "title": {
            "standoff": 15
           },
           "zerolinecolor": "white",
           "zerolinewidth": 2
          }
         }
        },
        "title": {
         "text": "Price ~ Event_Type"
        },
        "xaxis": {
         "anchor": "y",
         "domain": [
          0,
          1
         ],
         "title": {
          "text": "event_type"
         }
        },
        "yaxis": {
         "anchor": "x",
         "domain": [
          0,
          1
         ],
         "title": {
          "text": "price"
         }
        }
       }
      }
     },
     "metadata": {}
    }
   ],
   "source": [
    "px.box(sdf_raw.toPandas(), x=\"event_type\", y=\"price\", title=\"Price ~ Event_Type\")"
   ]
  },
  {
   "cell_type": "markdown",
   "metadata": {},
   "source": [
    "### User analysis"
   ]
  },
  {
   "source": [
    "#### User and turnover"
   ],
   "cell_type": "markdown",
   "metadata": {}
  },
  {
   "cell_type": "code",
   "execution_count": 47,
   "metadata": {},
   "outputs": [
    {
     "output_type": "display_data",
     "data": {
      "application/vnd.plotly.v1+json": {
       "config": {
        "plotlyServerURL": "https://plot.ly"
       },
       "data": [
        {
         "alignmentgroup": "True",
         "hovertemplate": "user_id=%{x}<br>Turnover=%{y}<extra></extra>",
         "legendgroup": "",
         "marker": {
          "color": "#636efa"
         },
         "name": "",
         "offsetgroup": "",
         "orientation": "v",
         "showlegend": false,
         "textposition": "auto",
         "type": "bar",
         "x": [
          "559368633",
          "513351129",
          "512651494",
          "515240495",
          "564599988",
          "518398361",
          "566280399",
          "566280536",
          "512367687",
          "517811633"
         ],
         "xaxis": "x",
         "y": [
          566.3,
          211.92,
          0,
          0,
          0,
          0,
          0,
          0,
          0,
          0
         ],
         "yaxis": "y"
        }
       ],
       "layout": {
        "barmode": "relative",
        "legend": {
         "tracegroupgap": 0
        },
        "margin": {
         "t": 60
        },
        "template": {
         "data": {
          "bar": [
           {
            "error_x": {
             "color": "#2a3f5f"
            },
            "error_y": {
             "color": "#2a3f5f"
            },
            "marker": {
             "line": {
              "color": "#E5ECF6",
              "width": 0.5
             }
            },
            "type": "bar"
           }
          ],
          "barpolar": [
           {
            "marker": {
             "line": {
              "color": "#E5ECF6",
              "width": 0.5
             }
            },
            "type": "barpolar"
           }
          ],
          "carpet": [
           {
            "aaxis": {
             "endlinecolor": "#2a3f5f",
             "gridcolor": "white",
             "linecolor": "white",
             "minorgridcolor": "white",
             "startlinecolor": "#2a3f5f"
            },
            "baxis": {
             "endlinecolor": "#2a3f5f",
             "gridcolor": "white",
             "linecolor": "white",
             "minorgridcolor": "white",
             "startlinecolor": "#2a3f5f"
            },
            "type": "carpet"
           }
          ],
          "choropleth": [
           {
            "colorbar": {
             "outlinewidth": 0,
             "ticks": ""
            },
            "type": "choropleth"
           }
          ],
          "contour": [
           {
            "colorbar": {
             "outlinewidth": 0,
             "ticks": ""
            },
            "colorscale": [
             [
              0,
              "#0d0887"
             ],
             [
              0.1111111111111111,
              "#46039f"
             ],
             [
              0.2222222222222222,
              "#7201a8"
             ],
             [
              0.3333333333333333,
              "#9c179e"
             ],
             [
              0.4444444444444444,
              "#bd3786"
             ],
             [
              0.5555555555555556,
              "#d8576b"
             ],
             [
              0.6666666666666666,
              "#ed7953"
             ],
             [
              0.7777777777777778,
              "#fb9f3a"
             ],
             [
              0.8888888888888888,
              "#fdca26"
             ],
             [
              1,
              "#f0f921"
             ]
            ],
            "type": "contour"
           }
          ],
          "contourcarpet": [
           {
            "colorbar": {
             "outlinewidth": 0,
             "ticks": ""
            },
            "type": "contourcarpet"
           }
          ],
          "heatmap": [
           {
            "colorbar": {
             "outlinewidth": 0,
             "ticks": ""
            },
            "colorscale": [
             [
              0,
              "#0d0887"
             ],
             [
              0.1111111111111111,
              "#46039f"
             ],
             [
              0.2222222222222222,
              "#7201a8"
             ],
             [
              0.3333333333333333,
              "#9c179e"
             ],
             [
              0.4444444444444444,
              "#bd3786"
             ],
             [
              0.5555555555555556,
              "#d8576b"
             ],
             [
              0.6666666666666666,
              "#ed7953"
             ],
             [
              0.7777777777777778,
              "#fb9f3a"
             ],
             [
              0.8888888888888888,
              "#fdca26"
             ],
             [
              1,
              "#f0f921"
             ]
            ],
            "type": "heatmap"
           }
          ],
          "heatmapgl": [
           {
            "colorbar": {
             "outlinewidth": 0,
             "ticks": ""
            },
            "colorscale": [
             [
              0,
              "#0d0887"
             ],
             [
              0.1111111111111111,
              "#46039f"
             ],
             [
              0.2222222222222222,
              "#7201a8"
             ],
             [
              0.3333333333333333,
              "#9c179e"
             ],
             [
              0.4444444444444444,
              "#bd3786"
             ],
             [
              0.5555555555555556,
              "#d8576b"
             ],
             [
              0.6666666666666666,
              "#ed7953"
             ],
             [
              0.7777777777777778,
              "#fb9f3a"
             ],
             [
              0.8888888888888888,
              "#fdca26"
             ],
             [
              1,
              "#f0f921"
             ]
            ],
            "type": "heatmapgl"
           }
          ],
          "histogram": [
           {
            "marker": {
             "colorbar": {
              "outlinewidth": 0,
              "ticks": ""
             }
            },
            "type": "histogram"
           }
          ],
          "histogram2d": [
           {
            "colorbar": {
             "outlinewidth": 0,
             "ticks": ""
            },
            "colorscale": [
             [
              0,
              "#0d0887"
             ],
             [
              0.1111111111111111,
              "#46039f"
             ],
             [
              0.2222222222222222,
              "#7201a8"
             ],
             [
              0.3333333333333333,
              "#9c179e"
             ],
             [
              0.4444444444444444,
              "#bd3786"
             ],
             [
              0.5555555555555556,
              "#d8576b"
             ],
             [
              0.6666666666666666,
              "#ed7953"
             ],
             [
              0.7777777777777778,
              "#fb9f3a"
             ],
             [
              0.8888888888888888,
              "#fdca26"
             ],
             [
              1,
              "#f0f921"
             ]
            ],
            "type": "histogram2d"
           }
          ],
          "histogram2dcontour": [
           {
            "colorbar": {
             "outlinewidth": 0,
             "ticks": ""
            },
            "colorscale": [
             [
              0,
              "#0d0887"
             ],
             [
              0.1111111111111111,
              "#46039f"
             ],
             [
              0.2222222222222222,
              "#7201a8"
             ],
             [
              0.3333333333333333,
              "#9c179e"
             ],
             [
              0.4444444444444444,
              "#bd3786"
             ],
             [
              0.5555555555555556,
              "#d8576b"
             ],
             [
              0.6666666666666666,
              "#ed7953"
             ],
             [
              0.7777777777777778,
              "#fb9f3a"
             ],
             [
              0.8888888888888888,
              "#fdca26"
             ],
             [
              1,
              "#f0f921"
             ]
            ],
            "type": "histogram2dcontour"
           }
          ],
          "mesh3d": [
           {
            "colorbar": {
             "outlinewidth": 0,
             "ticks": ""
            },
            "type": "mesh3d"
           }
          ],
          "parcoords": [
           {
            "line": {
             "colorbar": {
              "outlinewidth": 0,
              "ticks": ""
             }
            },
            "type": "parcoords"
           }
          ],
          "pie": [
           {
            "automargin": true,
            "type": "pie"
           }
          ],
          "scatter": [
           {
            "marker": {
             "colorbar": {
              "outlinewidth": 0,
              "ticks": ""
             }
            },
            "type": "scatter"
           }
          ],
          "scatter3d": [
           {
            "line": {
             "colorbar": {
              "outlinewidth": 0,
              "ticks": ""
             }
            },
            "marker": {
             "colorbar": {
              "outlinewidth": 0,
              "ticks": ""
             }
            },
            "type": "scatter3d"
           }
          ],
          "scattercarpet": [
           {
            "marker": {
             "colorbar": {
              "outlinewidth": 0,
              "ticks": ""
             }
            },
            "type": "scattercarpet"
           }
          ],
          "scattergeo": [
           {
            "marker": {
             "colorbar": {
              "outlinewidth": 0,
              "ticks": ""
             }
            },
            "type": "scattergeo"
           }
          ],
          "scattergl": [
           {
            "marker": {
             "colorbar": {
              "outlinewidth": 0,
              "ticks": ""
             }
            },
            "type": "scattergl"
           }
          ],
          "scattermapbox": [
           {
            "marker": {
             "colorbar": {
              "outlinewidth": 0,
              "ticks": ""
             }
            },
            "type": "scattermapbox"
           }
          ],
          "scatterpolar": [
           {
            "marker": {
             "colorbar": {
              "outlinewidth": 0,
              "ticks": ""
             }
            },
            "type": "scatterpolar"
           }
          ],
          "scatterpolargl": [
           {
            "marker": {
             "colorbar": {
              "outlinewidth": 0,
              "ticks": ""
             }
            },
            "type": "scatterpolargl"
           }
          ],
          "scatterternary": [
           {
            "marker": {
             "colorbar": {
              "outlinewidth": 0,
              "ticks": ""
             }
            },
            "type": "scatterternary"
           }
          ],
          "surface": [
           {
            "colorbar": {
             "outlinewidth": 0,
             "ticks": ""
            },
            "colorscale": [
             [
              0,
              "#0d0887"
             ],
             [
              0.1111111111111111,
              "#46039f"
             ],
             [
              0.2222222222222222,
              "#7201a8"
             ],
             [
              0.3333333333333333,
              "#9c179e"
             ],
             [
              0.4444444444444444,
              "#bd3786"
             ],
             [
              0.5555555555555556,
              "#d8576b"
             ],
             [
              0.6666666666666666,
              "#ed7953"
             ],
             [
              0.7777777777777778,
              "#fb9f3a"
             ],
             [
              0.8888888888888888,
              "#fdca26"
             ],
             [
              1,
              "#f0f921"
             ]
            ],
            "type": "surface"
           }
          ],
          "table": [
           {
            "cells": {
             "fill": {
              "color": "#EBF0F8"
             },
             "line": {
              "color": "white"
             }
            },
            "header": {
             "fill": {
              "color": "#C8D4E3"
             },
             "line": {
              "color": "white"
             }
            },
            "type": "table"
           }
          ]
         },
         "layout": {
          "annotationdefaults": {
           "arrowcolor": "#2a3f5f",
           "arrowhead": 0,
           "arrowwidth": 1
          },
          "autotypenumbers": "strict",
          "coloraxis": {
           "colorbar": {
            "outlinewidth": 0,
            "ticks": ""
           }
          },
          "colorscale": {
           "diverging": [
            [
             0,
             "#8e0152"
            ],
            [
             0.1,
             "#c51b7d"
            ],
            [
             0.2,
             "#de77ae"
            ],
            [
             0.3,
             "#f1b6da"
            ],
            [
             0.4,
             "#fde0ef"
            ],
            [
             0.5,
             "#f7f7f7"
            ],
            [
             0.6,
             "#e6f5d0"
            ],
            [
             0.7,
             "#b8e186"
            ],
            [
             0.8,
             "#7fbc41"
            ],
            [
             0.9,
             "#4d9221"
            ],
            [
             1,
             "#276419"
            ]
           ],
           "sequential": [
            [
             0,
             "#0d0887"
            ],
            [
             0.1111111111111111,
             "#46039f"
            ],
            [
             0.2222222222222222,
             "#7201a8"
            ],
            [
             0.3333333333333333,
             "#9c179e"
            ],
            [
             0.4444444444444444,
             "#bd3786"
            ],
            [
             0.5555555555555556,
             "#d8576b"
            ],
            [
             0.6666666666666666,
             "#ed7953"
            ],
            [
             0.7777777777777778,
             "#fb9f3a"
            ],
            [
             0.8888888888888888,
             "#fdca26"
            ],
            [
             1,
             "#f0f921"
            ]
           ],
           "sequentialminus": [
            [
             0,
             "#0d0887"
            ],
            [
             0.1111111111111111,
             "#46039f"
            ],
            [
             0.2222222222222222,
             "#7201a8"
            ],
            [
             0.3333333333333333,
             "#9c179e"
            ],
            [
             0.4444444444444444,
             "#bd3786"
            ],
            [
             0.5555555555555556,
             "#d8576b"
            ],
            [
             0.6666666666666666,
             "#ed7953"
            ],
            [
             0.7777777777777778,
             "#fb9f3a"
            ],
            [
             0.8888888888888888,
             "#fdca26"
            ],
            [
             1,
             "#f0f921"
            ]
           ]
          },
          "colorway": [
           "#636efa",
           "#EF553B",
           "#00cc96",
           "#ab63fa",
           "#FFA15A",
           "#19d3f3",
           "#FF6692",
           "#B6E880",
           "#FF97FF",
           "#FECB52"
          ],
          "font": {
           "color": "#2a3f5f"
          },
          "geo": {
           "bgcolor": "white",
           "lakecolor": "white",
           "landcolor": "#E5ECF6",
           "showlakes": true,
           "showland": true,
           "subunitcolor": "white"
          },
          "hoverlabel": {
           "align": "left"
          },
          "hovermode": "closest",
          "mapbox": {
           "style": "light"
          },
          "paper_bgcolor": "white",
          "plot_bgcolor": "#E5ECF6",
          "polar": {
           "angularaxis": {
            "gridcolor": "white",
            "linecolor": "white",
            "ticks": ""
           },
           "bgcolor": "#E5ECF6",
           "radialaxis": {
            "gridcolor": "white",
            "linecolor": "white",
            "ticks": ""
           }
          },
          "scene": {
           "xaxis": {
            "backgroundcolor": "#E5ECF6",
            "gridcolor": "white",
            "gridwidth": 2,
            "linecolor": "white",
            "showbackground": true,
            "ticks": "",
            "zerolinecolor": "white"
           },
           "yaxis": {
            "backgroundcolor": "#E5ECF6",
            "gridcolor": "white",
            "gridwidth": 2,
            "linecolor": "white",
            "showbackground": true,
            "ticks": "",
            "zerolinecolor": "white"
           },
           "zaxis": {
            "backgroundcolor": "#E5ECF6",
            "gridcolor": "white",
            "gridwidth": 2,
            "linecolor": "white",
            "showbackground": true,
            "ticks": "",
            "zerolinecolor": "white"
           }
          },
          "shapedefaults": {
           "line": {
            "color": "#2a3f5f"
           }
          },
          "ternary": {
           "aaxis": {
            "gridcolor": "white",
            "linecolor": "white",
            "ticks": ""
           },
           "baxis": {
            "gridcolor": "white",
            "linecolor": "white",
            "ticks": ""
           },
           "bgcolor": "#E5ECF6",
           "caxis": {
            "gridcolor": "white",
            "linecolor": "white",
            "ticks": ""
           }
          },
          "title": {
           "x": 0.05
          },
          "xaxis": {
           "automargin": true,
           "gridcolor": "white",
           "linecolor": "white",
           "ticks": "",
           "title": {
            "standoff": 15
           },
           "zerolinecolor": "white",
           "zerolinewidth": 2
          },
          "yaxis": {
           "automargin": true,
           "gridcolor": "white",
           "linecolor": "white",
           "ticks": "",
           "title": {
            "standoff": 15
           },
           "zerolinecolor": "white",
           "zerolinewidth": 2
          }
         }
        },
        "xaxis": {
         "anchor": "y",
         "domain": [
          0,
          1
         ],
         "title": {
          "text": "user_id"
         }
        },
        "yaxis": {
         "anchor": "x",
         "domain": [
          0,
          1
         ],
         "title": {
          "text": "Turnover"
         }
        }
       }
      }
     },
     "metadata": {}
    }
   ],
   "source": [
    " sdf_user_overview = spark.sql(\"SELECT user_id, \\\n",
    "                                        COUNT(user_session), \\\n",
    "                                        SUM(viewed_quantity) ,\\\n",
    "                                        SUM(cart_quantity),\\\n",
    "                                        SUM(bougth_quantity), \\\n",
    "                                        SUM(turnover) AS Turnover\\\n",
    "                                FROM Data \\\n",
    "                                GROUP BY user_id \\\n",
    "                                ORDER BY Turnover DESC\")\n",
    "px.bar(sdf_user_overview.limit(10).toPandas(), x='user_id', y='Turnover')"
   ]
  },
  {
   "source": [
    "### session analysis\n",
    "\n"
   ],
   "cell_type": "markdown",
   "metadata": {}
  },
  {
   "source": [
    "- number of events\n",
    "- session_start_time\n",
    "- session_stop_time\n",
    "- session_success\n",
    "- products_bought\n",
    "- products_viewed\n",
    "- turnover\n"
   ],
   "cell_type": "markdown",
   "metadata": {}
  },
  {
   "cell_type": "code",
   "execution_count": 48,
   "metadata": {},
   "outputs": [],
   "source": [
    "# different buying behavior between different times (morning more sales than evening?)\n",
    "sdf_session_raw = sdf.groupBy(\"user_id\", \"user_session\", \"event_type\", \"product_id\", \"price\").agg(f.max(\"event_time\"), f.min(\"event_time\")).orderBy(\"user_id\", \"user_session\")"
   ]
  },
  {
   "cell_type": "code",
   "execution_count": 49,
   "metadata": {},
   "outputs": [
    {
     "output_type": "stream",
     "name": "stdout",
     "text": [
      "+---------+------------------------------------+----------+----------+------+-------------------+-------------------+\n|user_id  |user_session                        |event_type|product_id|price |max(event_time)    |min(event_time)    |\n+---------+------------------------------------+----------+----------+------+-------------------+-------------------+\n|436701163|50de79b1-b0ec-42c0-bbe0-8b5d2dc33e1e|view      |1004856   |128.42|2019-11-01 01:00:23|2019-11-01 01:00:23|\n|512367687|09085a31-dc7d-46c1-a0ae-d316569b0b7b|view      |14700422  |168.06|2019-11-12 02:34:42|2019-11-12 02:34:42|\n|512370912|daf0bf99-adf1-4877-8308-ae4557b6f01b|view      |6500912   |287.83|2019-11-01 01:00:26|2019-11-01 01:00:26|\n|512376444|f7e8ffaa-5103-47f3-90ab-c30f313770c0|view      |12719892  |252.77|2019-11-01 01:00:25|2019-11-01 01:00:25|\n|512376444|f7e8ffaa-5103-47f3-90ab-c30f313770c0|view      |12720155  |58.17 |2019-11-01 01:00:42|2019-11-01 01:00:42|\n|512376444|f7e8ffaa-5103-47f3-90ab-c30f313770c0|view      |12719154  |88.81 |2019-11-01 01:00:08|2019-11-01 01:00:08|\n|512384603|8b1cd19b-980d-440e-887e-0ac7516009c7|view      |6701005   |169.36|2019-11-12 02:34:42|2019-11-12 02:34:42|\n|512416379|4dfe2c67-e537-4dc2-ae69-0b65263db091|view      |34600119  |20.57 |2019-11-01 01:01:25|2019-11-01 01:01:25|\n|512416379|4dfe2c67-e537-4dc2-ae69-0b65263db091|view      |34600011  |20.54 |2019-11-01 01:00:04|2019-11-01 01:00:04|\n|512463028|a8f755bc-ed6e-4cd6-970f-9b73d6829930|view      |2400216   |147.15|2019-11-12 02:34:43|2019-11-12 02:34:43|\n|512651494|f603c815-f51a-46fe-9404-cb586e35edaf|view      |42900023  |29.86 |2019-11-01 01:01:17|2019-11-01 01:01:17|\n|512651494|f603c815-f51a-46fe-9404-cb586e35edaf|view      |24900193  |1.09  |2019-11-01 01:00:06|2019-11-01 01:00:06|\n|512887245|f48492eb-b354-4d0b-a6c8-796e2fb04962|view      |36600031  |114.03|2019-11-01 01:00:52|2019-11-01 01:00:52|\n|512996121|23375068-25db-44fd-86a8-52123e47e93e|view      |10701060  |66.9  |2019-11-01 01:00:18|2019-11-01 01:00:18|\n|513118352|4c14bf2a-2820-4504-929d-046356a5a204|view      |21408240  |861.28|2019-11-01 01:00:51|2019-11-01 01:00:37|\n|513118352|4c14bf2a-2820-4504-929d-046356a5a204|view      |21407128  |380.96|2019-11-01 01:01:23|2019-11-01 01:01:23|\n|513118352|4c14bf2a-2820-4504-929d-046356a5a204|view      |21406939  |895.78|2019-11-01 01:00:17|2019-11-01 01:00:17|\n|513200477|742aba02-727b-4d15-9222-6484ac846173|view      |3901174   |32.66 |2019-11-01 01:00:15|2019-11-01 01:00:15|\n|513216715|d1298cdd-bf1f-42c3-8444-377cf01f734d|view      |17300435  |397.54|2019-11-01 01:01:22|2019-11-01 01:01:22|\n|513351129|e6b7ce9b-1938-4e20-976c-8b4163aea11d|view      |1005161   |211.92|2019-11-01 01:00:17|2019-11-01 01:00:17|\n|513351129|e6b7ce9b-1938-4e20-976c-8b4163aea11d|purchase  |1005161   |211.92|2019-11-01 01:01:04|2019-11-01 01:01:04|\n|513726400|db621522-4ce9-457c-b945-976775ca5389|view      |12708937  |72.72 |2019-11-01 01:00:27|2019-11-01 01:00:27|\n|513741043|82f7f972-346a-41f1-ae58-3ccf1edf6726|view      |1307350   |514.79|2019-11-01 01:00:10|2019-11-01 01:00:10|\n|513998949|a7b196d9-afe5-4dc8-9648-d578fef55abf|view      |50600046  |157.28|2019-11-01 01:00:24|2019-11-01 01:00:24|\n|513998949|a7b196d9-afe5-4dc8-9648-d578fef55abf|view      |50600085  |113.93|2019-11-01 01:00:56|2019-11-01 01:00:56|\n|513998949|a7b196d9-afe5-4dc8-9648-d578fef55abf|view      |40900007  |24.71 |2019-11-01 01:01:21|2019-11-01 01:01:21|\n|514028527|df8184cc-3694-4549-8c8c-6b5171877376|view      |1307115   |411.59|2019-11-01 01:00:40|2019-11-01 01:00:08|\n|514028527|df8184cc-3694-4549-8c8c-6b5171877376|view      |1303355   |432.42|2019-11-01 01:01:22|2019-11-01 01:01:22|\n|514028527|df8184cc-3694-4549-8c8c-6b5171877376|view      |1306421   |514.56|2019-11-01 01:00:01|2019-11-01 01:00:01|\n|514171705|168955ad-db0f-4f0f-b71b-5dd8cfc9e113|view      |1004990   |257.38|2019-11-01 01:00:28|2019-11-01 01:00:28|\n+---------+------------------------------------+----------+----------+------+-------------------+-------------------+\nonly showing top 30 rows\n\n"
     ]
    }
   ],
   "source": [
    "sdf_session_raw.show(30,truncate=False)"
   ]
  },
  {
   "cell_type": "code",
   "execution_count": 50,
   "metadata": {},
   "outputs": [],
   "source": [
    "sdf_session = sdf.select(\"user_id\", \"user_session\", \"event_type\", \"product_id\", \"price\", \"event_time\").orderBy(\"user_id\", \"user_session\")"
   ]
  },
  {
   "cell_type": "code",
   "execution_count": 51,
   "metadata": {},
   "outputs": [
    {
     "output_type": "stream",
     "name": "stdout",
     "text": [
      "+---------+------------------------------------+----------+----------+------+-------------------+\n|user_id  |user_session                        |event_type|product_id|price |event_time         |\n+---------+------------------------------------+----------+----------+------+-------------------+\n|436701163|50de79b1-b0ec-42c0-bbe0-8b5d2dc33e1e|view      |1004856   |128.42|2019-11-01 01:00:23|\n|512367687|09085a31-dc7d-46c1-a0ae-d316569b0b7b|view      |14700422  |168.06|2019-11-12 02:34:42|\n|512370912|daf0bf99-adf1-4877-8308-ae4557b6f01b|view      |6500912   |287.83|2019-11-01 01:00:26|\n|512376444|f7e8ffaa-5103-47f3-90ab-c30f313770c0|view      |12719892  |252.77|2019-11-01 01:00:25|\n|512376444|f7e8ffaa-5103-47f3-90ab-c30f313770c0|view      |12719154  |88.81 |2019-11-01 01:00:08|\n|512376444|f7e8ffaa-5103-47f3-90ab-c30f313770c0|view      |12720155  |58.17 |2019-11-01 01:00:42|\n|512384603|8b1cd19b-980d-440e-887e-0ac7516009c7|view      |6701005   |169.36|2019-11-12 02:34:42|\n|512416379|4dfe2c67-e537-4dc2-ae69-0b65263db091|view      |34600011  |20.54 |2019-11-01 01:00:04|\n|512416379|4dfe2c67-e537-4dc2-ae69-0b65263db091|view      |34600119  |20.57 |2019-11-01 01:01:25|\n|512463028|a8f755bc-ed6e-4cd6-970f-9b73d6829930|view      |2400216   |147.15|2019-11-12 02:34:43|\n|512651494|f603c815-f51a-46fe-9404-cb586e35edaf|view      |42900023  |29.86 |2019-11-01 01:01:17|\n|512651494|f603c815-f51a-46fe-9404-cb586e35edaf|view      |24900193  |1.09  |2019-11-01 01:00:06|\n|512887245|f48492eb-b354-4d0b-a6c8-796e2fb04962|view      |36600031  |114.03|2019-11-01 01:00:52|\n|512996121|23375068-25db-44fd-86a8-52123e47e93e|view      |10701060  |66.9  |2019-11-01 01:00:18|\n|513118352|4c14bf2a-2820-4504-929d-046356a5a204|view      |21408240  |861.28|2019-11-01 01:00:37|\n|513118352|4c14bf2a-2820-4504-929d-046356a5a204|view      |21408240  |861.28|2019-11-01 01:00:51|\n|513118352|4c14bf2a-2820-4504-929d-046356a5a204|view      |21406939  |895.78|2019-11-01 01:00:17|\n|513118352|4c14bf2a-2820-4504-929d-046356a5a204|view      |21407128  |380.96|2019-11-01 01:01:23|\n|513200477|742aba02-727b-4d15-9222-6484ac846173|view      |3901174   |32.66 |2019-11-01 01:00:15|\n|513216715|d1298cdd-bf1f-42c3-8444-377cf01f734d|view      |17300435  |397.54|2019-11-01 01:01:22|\n|513351129|e6b7ce9b-1938-4e20-976c-8b4163aea11d|view      |1005161   |211.92|2019-11-01 01:00:17|\n|513351129|e6b7ce9b-1938-4e20-976c-8b4163aea11d|purchase  |1005161   |211.92|2019-11-01 01:01:04|\n|513726400|db621522-4ce9-457c-b945-976775ca5389|view      |12708937  |72.72 |2019-11-01 01:00:27|\n|513741043|82f7f972-346a-41f1-ae58-3ccf1edf6726|view      |1307350   |514.79|2019-11-01 01:00:10|\n|513998949|a7b196d9-afe5-4dc8-9648-d578fef55abf|view      |40900007  |24.71 |2019-11-01 01:01:21|\n|513998949|a7b196d9-afe5-4dc8-9648-d578fef55abf|view      |50600085  |113.93|2019-11-01 01:00:56|\n|513998949|a7b196d9-afe5-4dc8-9648-d578fef55abf|view      |50600046  |157.28|2019-11-01 01:00:24|\n|514028527|df8184cc-3694-4549-8c8c-6b5171877376|view      |1306421   |514.56|2019-11-01 01:00:01|\n|514028527|df8184cc-3694-4549-8c8c-6b5171877376|view      |1307115   |411.59|2019-11-01 01:00:08|\n|514028527|df8184cc-3694-4549-8c8c-6b5171877376|view      |1307115   |411.59|2019-11-01 01:00:40|\n+---------+------------------------------------+----------+----------+------+-------------------+\nonly showing top 30 rows\n\n"
     ]
    }
   ],
   "source": [
    "sdf_session.show(30, truncate=False)"
   ]
  },
  {
   "cell_type": "markdown",
   "metadata": {
    "pycharm": {
     "name": "#%% md\n"
    }
   },
   "source": [
    "### Customer Profiles"
   ]
  },
  {
   "source": [
    "In preparation for clustering a customer profile will be created:\n",
    "\n",
    "- customer_id\n",
    "- number_of_view_events\n",
    "- number_of_cart_events\n",
    "- number_of_purchase_events\n",
    "- total_turnover\n",
    "- number_of_bought_items (resolve multiple purchasing events for quantity)\n",
    "- avg_sold_cart\n",
    "- avg_session_time\n",
    "- avg_actions_per_session\n",
    "\n"
   ],
   "cell_type": "markdown",
   "metadata": {}
  },
  {
   "cell_type": "code",
   "execution_count": 52,
   "metadata": {},
   "outputs": [],
   "source": [
    "# time period simply dependend on input data"
   ]
  },
  {
   "cell_type": "markdown",
   "metadata": {},
   "source": [
    "### Customer Journey\n",
    "\n",
    "- Path to success (purchase)\n",
    "- Path to failure (no purchase)"
   ]
  },
  {
   "source": [
    "### Correlation matrix"
   ],
   "cell_type": "markdown",
   "metadata": {}
  },
  {
   "source": [
    "#### Daytime - Correlation Matrix"
   ],
   "cell_type": "markdown",
   "metadata": {}
  },
  {
   "cell_type": "code",
   "execution_count": 53,
   "metadata": {},
   "outputs": [],
   "source": [
    "sdf_corr_time = spark.sql(\"SELECT event_time, turnover, bougth_quantity, viewed_quantity, cart_quantity \\\n",
    "                            FROM Data\")\n",
    "sdf_corr_time = sdf_corr_time.withColumn(\"hour\", f.hour(\"event_time\"))"
   ]
  },
  {
   "cell_type": "code",
   "execution_count": 54,
   "metadata": {},
   "outputs": [],
   "source": [
    "sdf_corr_time = sdf_corr_time.withColumn('Morning', f.when((f.col('hour')>=6) & (f.col('hour')<12), f.lit(1)).otherwise(0))\n",
    "sdf_corr_time = sdf_corr_time.withColumn('Afternoon', f.when((f.col('hour')>=12) & (f.col('hour')<18), f.lit(1)).otherwise(0))\n",
    "sdf_corr_time = sdf_corr_time.withColumn('Evening', f.when(f.col('hour') > 18 , f.lit(1)).otherwise(0))\n",
    "sdf_corr_time = sdf_corr_time.withColumn('Night', f.when(f.col('hour') < 6, f.lit(1)).otherwise(0))"
   ]
  },
  {
   "cell_type": "code",
   "execution_count": 55,
   "metadata": {},
   "outputs": [],
   "source": [
    "sdf_corr_time = sdf_corr_time.select(\"Morning\", \"Afternoon\", \"Evening\", \"Night\",  \"turnover\", \"bougth_quantity\", \"viewed_quantity\", \"cart_quantity\" )"
   ]
  },
  {
   "cell_type": "code",
   "execution_count": 56,
   "metadata": {},
   "outputs": [
    {
     "output_type": "stream",
     "name": "stderr",
     "text": [
      "C:\\ProgramData\\Anaconda3\\lib\\site-packages\\pandas\\io\\formats\\style.py:1264: RuntimeWarning:\n\nAll-NaN slice encountered\n\nC:\\ProgramData\\Anaconda3\\lib\\site-packages\\pandas\\io\\formats\\style.py:1265: RuntimeWarning:\n\nAll-NaN slice encountered\n\n"
     ]
    },
    {
     "output_type": "execute_result",
     "data": {
      "text/plain": [
       "<pandas.io.formats.style.Styler at 0x16eb046ef70>"
      ],
      "text/html": "<style  type=\"text/css\" >\n#T_eb64d_row0_col0,#T_eb64d_row0_col1,#T_eb64d_row0_col2,#T_eb64d_row0_col3,#T_eb64d_row0_col4,#T_eb64d_row0_col5,#T_eb64d_row0_col6,#T_eb64d_row0_col7,#T_eb64d_row1_col0,#T_eb64d_row1_col2,#T_eb64d_row2_col0,#T_eb64d_row2_col1,#T_eb64d_row2_col2,#T_eb64d_row2_col3,#T_eb64d_row2_col4,#T_eb64d_row2_col5,#T_eb64d_row2_col6,#T_eb64d_row2_col7,#T_eb64d_row3_col0,#T_eb64d_row3_col2,#T_eb64d_row4_col0,#T_eb64d_row4_col2,#T_eb64d_row5_col0,#T_eb64d_row5_col2,#T_eb64d_row6_col0,#T_eb64d_row6_col2,#T_eb64d_row7_col0,#T_eb64d_row7_col2{\n            background-color:  #000000;\n            color:  #f1f1f1;\n        }#T_eb64d_row1_col1,#T_eb64d_row3_col3,#T_eb64d_row4_col4,#T_eb64d_row5_col5,#T_eb64d_row6_col6,#T_eb64d_row7_col7{\n            background-color:  #ff0000;\n            color:  #f1f1f1;\n        }#T_eb64d_row1_col3,#T_eb64d_row3_col1,#T_eb64d_row5_col6,#T_eb64d_row6_col4,#T_eb64d_row6_col5,#T_eb64d_row6_col7,#T_eb64d_row7_col6{\n            background-color:  #0000ff;\n            color:  #f1f1f1;\n        }#T_eb64d_row1_col4{\n            background-color:  #c2c2ff;\n            color:  #000000;\n        }#T_eb64d_row1_col5,#T_eb64d_row1_col7{\n            background-color:  #ceceff;\n            color:  #000000;\n        }#T_eb64d_row1_col6{\n            background-color:  #dadaff;\n            color:  #000000;\n        }#T_eb64d_row3_col4,#T_eb64d_row3_col6{\n            background-color:  #ccccff;\n            color:  #000000;\n        }#T_eb64d_row3_col5,#T_eb64d_row3_col7{\n            background-color:  #d8d8ff;\n            color:  #000000;\n        }#T_eb64d_row4_col1{\n            background-color:  #fcfcff;\n            color:  #000000;\n        }#T_eb64d_row4_col3{\n            background-color:  #fffcfc;\n            color:  #000000;\n        }#T_eb64d_row4_col5{\n            background-color:  #ff1a1a;\n            color:  #f1f1f1;\n        }#T_eb64d_row4_col6{\n            background-color:  #1212ff;\n            color:  #f1f1f1;\n        }#T_eb64d_row4_col7,#T_eb64d_row5_col7,#T_eb64d_row7_col5{\n            background-color:  #d0d0ff;\n            color:  #000000;\n        }#T_eb64d_row5_col1,#T_eb64d_row7_col1{\n            background-color:  #fafaff;\n            color:  #000000;\n        }#T_eb64d_row5_col3,#T_eb64d_row7_col3{\n            background-color:  #fffafa;\n            color:  #000000;\n        }#T_eb64d_row5_col4{\n            background-color:  #ff1c1c;\n            color:  #f1f1f1;\n        }#T_eb64d_row6_col1{\n            background-color:  #fff8f8;\n            color:  #000000;\n        }#T_eb64d_row6_col3{\n            background-color:  #f8f8ff;\n            color:  #000000;\n        }#T_eb64d_row7_col4{\n            background-color:  #c4c4ff;\n            color:  #000000;\n        }</style><table id=\"T_eb64d_\" ><thead>    <tr>        <th class=\"blank level0\" ></th>        <th class=\"col_heading level0 col0\" >Morning</th>        <th class=\"col_heading level0 col1\" >Afternoon</th>        <th class=\"col_heading level0 col2\" >Evening</th>        <th class=\"col_heading level0 col3\" >Night</th>        <th class=\"col_heading level0 col4\" >turnover</th>        <th class=\"col_heading level0 col5\" >bougth_quantity</th>        <th class=\"col_heading level0 col6\" >viewed_quantity</th>        <th class=\"col_heading level0 col7\" >cart_quantity</th>    </tr></thead><tbody>\n                <tr>\n                        <th id=\"T_eb64d_level0_row0\" class=\"row_heading level0 row0\" >Morning</th>\n                        <td id=\"T_eb64d_row0_col0\" class=\"data row0 col0\" >nan</td>\n                        <td id=\"T_eb64d_row0_col1\" class=\"data row0 col1\" >nan</td>\n                        <td id=\"T_eb64d_row0_col2\" class=\"data row0 col2\" >nan</td>\n                        <td id=\"T_eb64d_row0_col3\" class=\"data row0 col3\" >nan</td>\n                        <td id=\"T_eb64d_row0_col4\" class=\"data row0 col4\" >nan</td>\n                        <td id=\"T_eb64d_row0_col5\" class=\"data row0 col5\" >nan</td>\n                        <td id=\"T_eb64d_row0_col6\" class=\"data row0 col6\" >nan</td>\n                        <td id=\"T_eb64d_row0_col7\" class=\"data row0 col7\" >nan</td>\n            </tr>\n            <tr>\n                        <th id=\"T_eb64d_level0_row1\" class=\"row_heading level0 row1\" >Afternoon</th>\n                        <td id=\"T_eb64d_row1_col0\" class=\"data row1 col0\" >nan</td>\n                        <td id=\"T_eb64d_row1_col1\" class=\"data row1 col1\" >1.000000</td>\n                        <td id=\"T_eb64d_row1_col2\" class=\"data row1 col2\" >nan</td>\n                        <td id=\"T_eb64d_row1_col3\" class=\"data row1 col3\" >-1.000000</td>\n                        <td id=\"T_eb64d_row1_col4\" class=\"data row1 col4\" >-0.015222</td>\n                        <td id=\"T_eb64d_row1_col5\" class=\"data row1 col5\" >-0.016738</td>\n                        <td id=\"T_eb64d_row1_col6\" class=\"data row1 col6\" >0.023769</td>\n                        <td id=\"T_eb64d_row1_col7\" class=\"data row1 col7\" >-0.016738</td>\n            </tr>\n            <tr>\n                        <th id=\"T_eb64d_level0_row2\" class=\"row_heading level0 row2\" >Evening</th>\n                        <td id=\"T_eb64d_row2_col0\" class=\"data row2 col0\" >nan</td>\n                        <td id=\"T_eb64d_row2_col1\" class=\"data row2 col1\" >nan</td>\n                        <td id=\"T_eb64d_row2_col2\" class=\"data row2 col2\" >nan</td>\n                        <td id=\"T_eb64d_row2_col3\" class=\"data row2 col3\" >nan</td>\n                        <td id=\"T_eb64d_row2_col4\" class=\"data row2 col4\" >nan</td>\n                        <td id=\"T_eb64d_row2_col5\" class=\"data row2 col5\" >nan</td>\n                        <td id=\"T_eb64d_row2_col6\" class=\"data row2 col6\" >nan</td>\n                        <td id=\"T_eb64d_row2_col7\" class=\"data row2 col7\" >nan</td>\n            </tr>\n            <tr>\n                        <th id=\"T_eb64d_level0_row3\" class=\"row_heading level0 row3\" >Night</th>\n                        <td id=\"T_eb64d_row3_col0\" class=\"data row3 col0\" >nan</td>\n                        <td id=\"T_eb64d_row3_col1\" class=\"data row3 col1\" >-1.000000</td>\n                        <td id=\"T_eb64d_row3_col2\" class=\"data row3 col2\" >nan</td>\n                        <td id=\"T_eb64d_row3_col3\" class=\"data row3 col3\" >1.000000</td>\n                        <td id=\"T_eb64d_row3_col4\" class=\"data row3 col4\" >0.015222</td>\n                        <td id=\"T_eb64d_row3_col5\" class=\"data row3 col5\" >0.016738</td>\n                        <td id=\"T_eb64d_row3_col6\" class=\"data row3 col6\" >-0.023769</td>\n                        <td id=\"T_eb64d_row3_col7\" class=\"data row3 col7\" >0.016738</td>\n            </tr>\n            <tr>\n                        <th id=\"T_eb64d_level0_row4\" class=\"row_heading level0 row4\" >turnover</th>\n                        <td id=\"T_eb64d_row4_col0\" class=\"data row4 col0\" >nan</td>\n                        <td id=\"T_eb64d_row4_col1\" class=\"data row4 col1\" >-0.015222</td>\n                        <td id=\"T_eb64d_row4_col2\" class=\"data row4 col2\" >nan</td>\n                        <td id=\"T_eb64d_row4_col3\" class=\"data row4 col3\" >0.015222</td>\n                        <td id=\"T_eb64d_row4_col4\" class=\"data row4 col4\" >1.000000</td>\n                        <td id=\"T_eb64d_row4_col5\" class=\"data row4 col5\" >0.909438</td>\n                        <td id=\"T_eb64d_row4_col6\" class=\"data row4 col6\" >-0.640407</td>\n                        <td id=\"T_eb64d_row4_col7\" class=\"data row4 col7\" >-0.007516</td>\n            </tr>\n            <tr>\n                        <th id=\"T_eb64d_level0_row5\" class=\"row_heading level0 row5\" >bougth_quantity</th>\n                        <td id=\"T_eb64d_row5_col0\" class=\"data row5 col0\" >nan</td>\n                        <td id=\"T_eb64d_row5_col1\" class=\"data row5 col1\" >-0.016738</td>\n                        <td id=\"T_eb64d_row5_col2\" class=\"data row5 col2\" >nan</td>\n                        <td id=\"T_eb64d_row5_col3\" class=\"data row5 col3\" >0.016738</td>\n                        <td id=\"T_eb64d_row5_col4\" class=\"data row5 col4\" >0.909438</td>\n                        <td id=\"T_eb64d_row5_col5\" class=\"data row5 col5\" >1.000000</td>\n                        <td id=\"T_eb64d_row5_col6\" class=\"data row5 col6\" >-0.704179</td>\n                        <td id=\"T_eb64d_row5_col7\" class=\"data row5 col7\" >-0.008264</td>\n            </tr>\n            <tr>\n                        <th id=\"T_eb64d_level0_row6\" class=\"row_heading level0 row6\" >viewed_quantity</th>\n                        <td id=\"T_eb64d_row6_col0\" class=\"data row6 col0\" >nan</td>\n                        <td id=\"T_eb64d_row6_col1\" class=\"data row6 col1\" >0.023769</td>\n                        <td id=\"T_eb64d_row6_col2\" class=\"data row6 col2\" >nan</td>\n                        <td id=\"T_eb64d_row6_col3\" class=\"data row6 col3\" >-0.023769</td>\n                        <td id=\"T_eb64d_row6_col4\" class=\"data row6 col4\" >-0.640407</td>\n                        <td id=\"T_eb64d_row6_col5\" class=\"data row6 col5\" >-0.704179</td>\n                        <td id=\"T_eb64d_row6_col6\" class=\"data row6 col6\" >1.000000</td>\n                        <td id=\"T_eb64d_row6_col7\" class=\"data row6 col7\" >-0.704179</td>\n            </tr>\n            <tr>\n                        <th id=\"T_eb64d_level0_row7\" class=\"row_heading level0 row7\" >cart_quantity</th>\n                        <td id=\"T_eb64d_row7_col0\" class=\"data row7 col0\" >nan</td>\n                        <td id=\"T_eb64d_row7_col1\" class=\"data row7 col1\" >-0.016738</td>\n                        <td id=\"T_eb64d_row7_col2\" class=\"data row7 col2\" >nan</td>\n                        <td id=\"T_eb64d_row7_col3\" class=\"data row7 col3\" >0.016738</td>\n                        <td id=\"T_eb64d_row7_col4\" class=\"data row7 col4\" >-0.007516</td>\n                        <td id=\"T_eb64d_row7_col5\" class=\"data row7 col5\" >-0.008264</td>\n                        <td id=\"T_eb64d_row7_col6\" class=\"data row7 col6\" >-0.704179</td>\n                        <td id=\"T_eb64d_row7_col7\" class=\"data row7 col7\" >1.000000</td>\n            </tr>\n    </tbody></table>"
     },
     "metadata": {},
     "execution_count": 56
    }
   ],
   "source": [
    "sdf_corr_time.toPandas().corr().style.background_gradient(cmap='bwr')"
   ]
  },
  {
   "source": [
    "#### Weekday - Correlation Matrix"
   ],
   "cell_type": "markdown",
   "metadata": {}
  },
  {
   "cell_type": "code",
   "execution_count": 57,
   "metadata": {},
   "outputs": [],
   "source": [
    "sdf_corr_dayofweek = spark.sql(\"SELECT dayofweek, turnover, bougth_quantity, viewed_quantity, cart_quantity \\\n",
    "                            FROM Data\")"
   ]
  },
  {
   "cell_type": "code",
   "execution_count": 58,
   "metadata": {},
   "outputs": [],
   "source": [
    "# One-hot-encoding\n",
    "sdf_corr_dayofweek = sdf_corr_dayofweek.withColumn('Sunday', f.when(f.col('dayofweek') == '1', f.lit(1)).otherwise(0))\n",
    "sdf_corr_dayofweek = sdf_corr_dayofweek.withColumn('Monday', f.when(f.col('dayofweek') == '2', f.lit(1)).otherwise(0))\n",
    "sdf_corr_dayofweek = sdf_corr_dayofweek.withColumn('Tuesday', f.when(f.col('dayofweek') == '3', f.lit(1)).otherwise(0))\n",
    "sdf_corr_dayofweek = sdf_corr_dayofweek.withColumn('Wednesday', f.when(f.col('dayofweek') == '4', f.lit(1)).otherwise(0))\n",
    "sdf_corr_dayofweek = sdf_corr_dayofweek.withColumn('Thursday', f.when(f.col('dayofweek') == '5', f.lit(1)).otherwise(0))\n",
    "sdf_corr_dayofweek = sdf_corr_dayofweek.withColumn('Friday', f.when(f.col('dayofweek') == '6', f.lit(1)).otherwise(0))\n",
    "sdf_corr_dayofweek = sdf_corr_dayofweek.withColumn('Saturday', f.when(f.col('dayofweek') == '7', f.lit(1)).otherwise(0))"
   ]
  },
  {
   "cell_type": "code",
   "execution_count": 59,
   "metadata": {},
   "outputs": [],
   "source": [
    "sdf_corr_dayofweek = sdf_corr_dayofweek.select(\"Monday\", \"Tuesday\", \"Wednesday\", \"Thursday\", \"Friday\", \"Saturday\", \"Sunday\",  \"turnover\", \"bougth_quantity\", \"viewed_quantity\", \"cart_quantity\" )"
   ]
  },
  {
   "cell_type": "code",
   "execution_count": 60,
   "metadata": {},
   "outputs": [
    {
     "output_type": "execute_result",
     "data": {
      "text/plain": [
       "<pandas.io.formats.style.Styler at 0x16eb158b0d0>"
      ],
      "text/html": "<style  type=\"text/css\" >\n#T_d0003_row0_col0,#T_d0003_row0_col1,#T_d0003_row0_col2,#T_d0003_row0_col3,#T_d0003_row0_col4,#T_d0003_row0_col5,#T_d0003_row0_col6,#T_d0003_row0_col7,#T_d0003_row0_col8,#T_d0003_row0_col9,#T_d0003_row0_col10,#T_d0003_row1_col0,#T_d0003_row1_col3,#T_d0003_row1_col5,#T_d0003_row1_col6,#T_d0003_row2_col0,#T_d0003_row2_col3,#T_d0003_row2_col5,#T_d0003_row2_col6,#T_d0003_row3_col0,#T_d0003_row3_col1,#T_d0003_row3_col2,#T_d0003_row3_col3,#T_d0003_row3_col4,#T_d0003_row3_col5,#T_d0003_row3_col6,#T_d0003_row3_col7,#T_d0003_row3_col8,#T_d0003_row3_col9,#T_d0003_row3_col10,#T_d0003_row4_col0,#T_d0003_row4_col3,#T_d0003_row4_col5,#T_d0003_row4_col6,#T_d0003_row5_col0,#T_d0003_row5_col1,#T_d0003_row5_col2,#T_d0003_row5_col3,#T_d0003_row5_col4,#T_d0003_row5_col5,#T_d0003_row5_col6,#T_d0003_row5_col7,#T_d0003_row5_col8,#T_d0003_row5_col9,#T_d0003_row5_col10,#T_d0003_row6_col0,#T_d0003_row6_col1,#T_d0003_row6_col2,#T_d0003_row6_col3,#T_d0003_row6_col4,#T_d0003_row6_col5,#T_d0003_row6_col6,#T_d0003_row6_col7,#T_d0003_row6_col8,#T_d0003_row6_col9,#T_d0003_row6_col10,#T_d0003_row7_col0,#T_d0003_row7_col3,#T_d0003_row7_col5,#T_d0003_row7_col6,#T_d0003_row8_col0,#T_d0003_row8_col3,#T_d0003_row8_col5,#T_d0003_row8_col6,#T_d0003_row9_col0,#T_d0003_row9_col3,#T_d0003_row9_col5,#T_d0003_row9_col6,#T_d0003_row10_col0,#T_d0003_row10_col3,#T_d0003_row10_col5,#T_d0003_row10_col6{\n            background-color:  #000000;\n            color:  #f1f1f1;\n        }#T_d0003_row1_col1,#T_d0003_row2_col2,#T_d0003_row4_col4,#T_d0003_row7_col7,#T_d0003_row8_col8,#T_d0003_row9_col9,#T_d0003_row10_col10{\n            background-color:  #ff0000;\n            color:  #f1f1f1;\n        }#T_d0003_row1_col2{\n            background-color:  #9c9cff;\n            color:  #000000;\n        }#T_d0003_row1_col4,#T_d0003_row4_col1,#T_d0003_row4_col2,#T_d0003_row8_col9,#T_d0003_row9_col7,#T_d0003_row9_col8,#T_d0003_row9_col10,#T_d0003_row10_col9{\n            background-color:  #0000ff;\n            color:  #f1f1f1;\n        }#T_d0003_row1_col7{\n            background-color:  #c0c0ff;\n            color:  #000000;\n        }#T_d0003_row1_col8{\n            background-color:  #cacaff;\n            color:  #000000;\n        }#T_d0003_row1_col9{\n            background-color:  #babaff;\n            color:  #000000;\n        }#T_d0003_row1_col10{\n            background-color:  #fefeff;\n            color:  #000000;\n        }#T_d0003_row2_col1{\n            background-color:  #d8d8ff;\n            color:  #000000;\n        }#T_d0003_row2_col4{\n            background-color:  #5454ff;\n            color:  #f1f1f1;\n        }#T_d0003_row2_col7{\n            background-color:  #c2c2ff;\n            color:  #000000;\n        }#T_d0003_row2_col8,#T_d0003_row2_col10,#T_d0003_row9_col1{\n            background-color:  #ceceff;\n            color:  #000000;\n        }#T_d0003_row2_col9{\n            background-color:  #dadaff;\n            color:  #000000;\n        }#T_d0003_row4_col7,#T_d0003_row7_col10,#T_d0003_row8_col10,#T_d0003_row10_col8{\n            background-color:  #d0d0ff;\n            color:  #000000;\n        }#T_d0003_row4_col8{\n            background-color:  #dcdcff;\n            color:  #000000;\n        }#T_d0003_row4_col9{\n            background-color:  #e4e4ff;\n            color:  #000000;\n        }#T_d0003_row4_col10{\n            background-color:  #b0b0ff;\n            color:  #000000;\n        }#T_d0003_row7_col1{\n            background-color:  #e0e0ff;\n            color:  #000000;\n        }#T_d0003_row7_col2{\n            background-color:  #aaaaff;\n            color:  #000000;\n        }#T_d0003_row7_col4{\n            background-color:  #eeeeff;\n            color:  #000000;\n        }#T_d0003_row7_col8{\n            background-color:  #ff1a1a;\n            color:  #f1f1f1;\n        }#T_d0003_row7_col9{\n            background-color:  #1212ff;\n            color:  #f1f1f1;\n        }#T_d0003_row8_col1{\n            background-color:  #dedeff;\n            color:  #000000;\n        }#T_d0003_row8_col2,#T_d0003_row10_col2{\n            background-color:  #a8a8ff;\n            color:  #000000;\n        }#T_d0003_row8_col4{\n            background-color:  #f0f0ff;\n            color:  #000000;\n        }#T_d0003_row8_col7{\n            background-color:  #ff1c1c;\n            color:  #f1f1f1;\n        }#T_d0003_row9_col2{\n            background-color:  #b6b6ff;\n            color:  #000000;\n        }#T_d0003_row9_col4{\n            background-color:  #f6f6ff;\n            color:  #000000;\n        }#T_d0003_row10_col1{\n            background-color:  #fff0f0;\n            color:  #000000;\n        }#T_d0003_row10_col4{\n            background-color:  #c6c6ff;\n            color:  #000000;\n        }#T_d0003_row10_col7{\n            background-color:  #c4c4ff;\n            color:  #000000;\n        }</style><table id=\"T_d0003_\" ><thead>    <tr>        <th class=\"blank level0\" ></th>        <th class=\"col_heading level0 col0\" >Monday</th>        <th class=\"col_heading level0 col1\" >Tuesday</th>        <th class=\"col_heading level0 col2\" >Wednesday</th>        <th class=\"col_heading level0 col3\" >Thursday</th>        <th class=\"col_heading level0 col4\" >Friday</th>        <th class=\"col_heading level0 col5\" >Saturday</th>        <th class=\"col_heading level0 col6\" >Sunday</th>        <th class=\"col_heading level0 col7\" >turnover</th>        <th class=\"col_heading level0 col8\" >bougth_quantity</th>        <th class=\"col_heading level0 col9\" >viewed_quantity</th>        <th class=\"col_heading level0 col10\" >cart_quantity</th>    </tr></thead><tbody>\n                <tr>\n                        <th id=\"T_d0003_level0_row0\" class=\"row_heading level0 row0\" >Monday</th>\n                        <td id=\"T_d0003_row0_col0\" class=\"data row0 col0\" >nan</td>\n                        <td id=\"T_d0003_row0_col1\" class=\"data row0 col1\" >nan</td>\n                        <td id=\"T_d0003_row0_col2\" class=\"data row0 col2\" >nan</td>\n                        <td id=\"T_d0003_row0_col3\" class=\"data row0 col3\" >nan</td>\n                        <td id=\"T_d0003_row0_col4\" class=\"data row0 col4\" >nan</td>\n                        <td id=\"T_d0003_row0_col5\" class=\"data row0 col5\" >nan</td>\n                        <td id=\"T_d0003_row0_col6\" class=\"data row0 col6\" >nan</td>\n                        <td id=\"T_d0003_row0_col7\" class=\"data row0 col7\" >nan</td>\n                        <td id=\"T_d0003_row0_col8\" class=\"data row0 col8\" >nan</td>\n                        <td id=\"T_d0003_row0_col9\" class=\"data row0 col9\" >nan</td>\n                        <td id=\"T_d0003_row0_col10\" class=\"data row0 col10\" >nan</td>\n            </tr>\n            <tr>\n                        <th id=\"T_d0003_level0_row1\" class=\"row_heading level0 row1\" >Tuesday</th>\n                        <td id=\"T_d0003_row1_col0\" class=\"data row1 col0\" >nan</td>\n                        <td id=\"T_d0003_row1_col1\" class=\"data row1 col1\" >1.000000</td>\n                        <td id=\"T_d0003_row1_col2\" class=\"data row1 col2\" >-0.053503</td>\n                        <td id=\"T_d0003_row1_col3\" class=\"data row1 col3\" >nan</td>\n                        <td id=\"T_d0003_row1_col4\" class=\"data row1 col4\" >-0.823822</td>\n                        <td id=\"T_d0003_row1_col5\" class=\"data row1 col5\" >nan</td>\n                        <td id=\"T_d0003_row1_col6\" class=\"data row1 col6\" >nan</td>\n                        <td id=\"T_d0003_row1_col7\" class=\"data row1 col7\" >-0.024025</td>\n                        <td id=\"T_d0003_row1_col8\" class=\"data row1 col8\" >-0.026418</td>\n                        <td id=\"T_d0003_row1_col9\" class=\"data row1 col9\" >-0.082929</td>\n                        <td id=\"T_d0003_row1_col10\" class=\"data row1 col10\" >0.143211</td>\n            </tr>\n            <tr>\n                        <th id=\"T_d0003_level0_row2\" class=\"row_heading level0 row2\" >Wednesday</th>\n                        <td id=\"T_d0003_row2_col0\" class=\"data row2 col0\" >nan</td>\n                        <td id=\"T_d0003_row2_col1\" class=\"data row2 col1\" >-0.053503</td>\n                        <td id=\"T_d0003_row2_col2\" class=\"data row2 col2\" >1.000000</td>\n                        <td id=\"T_d0003_row2_col3\" class=\"data row2 col3\" >nan</td>\n                        <td id=\"T_d0003_row2_col4\" class=\"data row2 col4\" >-0.521960</td>\n                        <td id=\"T_d0003_row2_col5\" class=\"data row2 col5\" >nan</td>\n                        <td id=\"T_d0003_row2_col6\" class=\"data row2 col6\" >nan</td>\n                        <td id=\"T_d0003_row2_col7\" class=\"data row2 col7\" >-0.015222</td>\n                        <td id=\"T_d0003_row2_col8\" class=\"data row2 col8\" >-0.016738</td>\n                        <td id=\"T_d0003_row2_col9\" class=\"data row2 col9\" >0.023769</td>\n                        <td id=\"T_d0003_row2_col10\" class=\"data row2 col10\" >-0.016738</td>\n            </tr>\n            <tr>\n                        <th id=\"T_d0003_level0_row3\" class=\"row_heading level0 row3\" >Thursday</th>\n                        <td id=\"T_d0003_row3_col0\" class=\"data row3 col0\" >nan</td>\n                        <td id=\"T_d0003_row3_col1\" class=\"data row3 col1\" >nan</td>\n                        <td id=\"T_d0003_row3_col2\" class=\"data row3 col2\" >nan</td>\n                        <td id=\"T_d0003_row3_col3\" class=\"data row3 col3\" >nan</td>\n                        <td id=\"T_d0003_row3_col4\" class=\"data row3 col4\" >nan</td>\n                        <td id=\"T_d0003_row3_col5\" class=\"data row3 col5\" >nan</td>\n                        <td id=\"T_d0003_row3_col6\" class=\"data row3 col6\" >nan</td>\n                        <td id=\"T_d0003_row3_col7\" class=\"data row3 col7\" >nan</td>\n                        <td id=\"T_d0003_row3_col8\" class=\"data row3 col8\" >nan</td>\n                        <td id=\"T_d0003_row3_col9\" class=\"data row3 col9\" >nan</td>\n                        <td id=\"T_d0003_row3_col10\" class=\"data row3 col10\" >nan</td>\n            </tr>\n            <tr>\n                        <th id=\"T_d0003_level0_row4\" class=\"row_heading level0 row4\" >Friday</th>\n                        <td id=\"T_d0003_row4_col0\" class=\"data row4 col0\" >nan</td>\n                        <td id=\"T_d0003_row4_col1\" class=\"data row4 col1\" >-0.823822</td>\n                        <td id=\"T_d0003_row4_col2\" class=\"data row4 col2\" >-0.521960</td>\n                        <td id=\"T_d0003_row4_col3\" class=\"data row4 col3\" >nan</td>\n                        <td id=\"T_d0003_row4_col4\" class=\"data row4 col4\" >1.000000</td>\n                        <td id=\"T_d0003_row4_col5\" class=\"data row4 col5\" >nan</td>\n                        <td id=\"T_d0003_row4_col6\" class=\"data row4 col6\" >nan</td>\n                        <td id=\"T_d0003_row4_col7\" class=\"data row4 col7\" >0.029163</td>\n                        <td id=\"T_d0003_row4_col8\" class=\"data row4 col8\" >0.032067</td>\n                        <td id=\"T_d0003_row4_col9\" class=\"data row4 col9\" >0.057344</td>\n                        <td id=\"T_d0003_row4_col10\" class=\"data row4 col10\" >-0.112829</td>\n            </tr>\n            <tr>\n                        <th id=\"T_d0003_level0_row5\" class=\"row_heading level0 row5\" >Saturday</th>\n                        <td id=\"T_d0003_row5_col0\" class=\"data row5 col0\" >nan</td>\n                        <td id=\"T_d0003_row5_col1\" class=\"data row5 col1\" >nan</td>\n                        <td id=\"T_d0003_row5_col2\" class=\"data row5 col2\" >nan</td>\n                        <td id=\"T_d0003_row5_col3\" class=\"data row5 col3\" >nan</td>\n                        <td id=\"T_d0003_row5_col4\" class=\"data row5 col4\" >nan</td>\n                        <td id=\"T_d0003_row5_col5\" class=\"data row5 col5\" >nan</td>\n                        <td id=\"T_d0003_row5_col6\" class=\"data row5 col6\" >nan</td>\n                        <td id=\"T_d0003_row5_col7\" class=\"data row5 col7\" >nan</td>\n                        <td id=\"T_d0003_row5_col8\" class=\"data row5 col8\" >nan</td>\n                        <td id=\"T_d0003_row5_col9\" class=\"data row5 col9\" >nan</td>\n                        <td id=\"T_d0003_row5_col10\" class=\"data row5 col10\" >nan</td>\n            </tr>\n            <tr>\n                        <th id=\"T_d0003_level0_row6\" class=\"row_heading level0 row6\" >Sunday</th>\n                        <td id=\"T_d0003_row6_col0\" class=\"data row6 col0\" >nan</td>\n                        <td id=\"T_d0003_row6_col1\" class=\"data row6 col1\" >nan</td>\n                        <td id=\"T_d0003_row6_col2\" class=\"data row6 col2\" >nan</td>\n                        <td id=\"T_d0003_row6_col3\" class=\"data row6 col3\" >nan</td>\n                        <td id=\"T_d0003_row6_col4\" class=\"data row6 col4\" >nan</td>\n                        <td id=\"T_d0003_row6_col5\" class=\"data row6 col5\" >nan</td>\n                        <td id=\"T_d0003_row6_col6\" class=\"data row6 col6\" >nan</td>\n                        <td id=\"T_d0003_row6_col7\" class=\"data row6 col7\" >nan</td>\n                        <td id=\"T_d0003_row6_col8\" class=\"data row6 col8\" >nan</td>\n                        <td id=\"T_d0003_row6_col9\" class=\"data row6 col9\" >nan</td>\n                        <td id=\"T_d0003_row6_col10\" class=\"data row6 col10\" >nan</td>\n            </tr>\n            <tr>\n                        <th id=\"T_d0003_level0_row7\" class=\"row_heading level0 row7\" >turnover</th>\n                        <td id=\"T_d0003_row7_col0\" class=\"data row7 col0\" >nan</td>\n                        <td id=\"T_d0003_row7_col1\" class=\"data row7 col1\" >-0.024025</td>\n                        <td id=\"T_d0003_row7_col2\" class=\"data row7 col2\" >-0.015222</td>\n                        <td id=\"T_d0003_row7_col3\" class=\"data row7 col3\" >nan</td>\n                        <td id=\"T_d0003_row7_col4\" class=\"data row7 col4\" >0.029163</td>\n                        <td id=\"T_d0003_row7_col5\" class=\"data row7 col5\" >nan</td>\n                        <td id=\"T_d0003_row7_col6\" class=\"data row7 col6\" >nan</td>\n                        <td id=\"T_d0003_row7_col7\" class=\"data row7 col7\" >1.000000</td>\n                        <td id=\"T_d0003_row7_col8\" class=\"data row7 col8\" >0.909438</td>\n                        <td id=\"T_d0003_row7_col9\" class=\"data row7 col9\" >-0.640407</td>\n                        <td id=\"T_d0003_row7_col10\" class=\"data row7 col10\" >-0.007516</td>\n            </tr>\n            <tr>\n                        <th id=\"T_d0003_level0_row8\" class=\"row_heading level0 row8\" >bougth_quantity</th>\n                        <td id=\"T_d0003_row8_col0\" class=\"data row8 col0\" >nan</td>\n                        <td id=\"T_d0003_row8_col1\" class=\"data row8 col1\" >-0.026418</td>\n                        <td id=\"T_d0003_row8_col2\" class=\"data row8 col2\" >-0.016738</td>\n                        <td id=\"T_d0003_row8_col3\" class=\"data row8 col3\" >nan</td>\n                        <td id=\"T_d0003_row8_col4\" class=\"data row8 col4\" >0.032067</td>\n                        <td id=\"T_d0003_row8_col5\" class=\"data row8 col5\" >nan</td>\n                        <td id=\"T_d0003_row8_col6\" class=\"data row8 col6\" >nan</td>\n                        <td id=\"T_d0003_row8_col7\" class=\"data row8 col7\" >0.909438</td>\n                        <td id=\"T_d0003_row8_col8\" class=\"data row8 col8\" >1.000000</td>\n                        <td id=\"T_d0003_row8_col9\" class=\"data row8 col9\" >-0.704179</td>\n                        <td id=\"T_d0003_row8_col10\" class=\"data row8 col10\" >-0.008264</td>\n            </tr>\n            <tr>\n                        <th id=\"T_d0003_level0_row9\" class=\"row_heading level0 row9\" >viewed_quantity</th>\n                        <td id=\"T_d0003_row9_col0\" class=\"data row9 col0\" >nan</td>\n                        <td id=\"T_d0003_row9_col1\" class=\"data row9 col1\" >-0.082929</td>\n                        <td id=\"T_d0003_row9_col2\" class=\"data row9 col2\" >0.023769</td>\n                        <td id=\"T_d0003_row9_col3\" class=\"data row9 col3\" >nan</td>\n                        <td id=\"T_d0003_row9_col4\" class=\"data row9 col4\" >0.057344</td>\n                        <td id=\"T_d0003_row9_col5\" class=\"data row9 col5\" >nan</td>\n                        <td id=\"T_d0003_row9_col6\" class=\"data row9 col6\" >nan</td>\n                        <td id=\"T_d0003_row9_col7\" class=\"data row9 col7\" >-0.640407</td>\n                        <td id=\"T_d0003_row9_col8\" class=\"data row9 col8\" >-0.704179</td>\n                        <td id=\"T_d0003_row9_col9\" class=\"data row9 col9\" >1.000000</td>\n                        <td id=\"T_d0003_row9_col10\" class=\"data row9 col10\" >-0.704179</td>\n            </tr>\n            <tr>\n                        <th id=\"T_d0003_level0_row10\" class=\"row_heading level0 row10\" >cart_quantity</th>\n                        <td id=\"T_d0003_row10_col0\" class=\"data row10 col0\" >nan</td>\n                        <td id=\"T_d0003_row10_col1\" class=\"data row10 col1\" >0.143211</td>\n                        <td id=\"T_d0003_row10_col2\" class=\"data row10 col2\" >-0.016738</td>\n                        <td id=\"T_d0003_row10_col3\" class=\"data row10 col3\" >nan</td>\n                        <td id=\"T_d0003_row10_col4\" class=\"data row10 col4\" >-0.112829</td>\n                        <td id=\"T_d0003_row10_col5\" class=\"data row10 col5\" >nan</td>\n                        <td id=\"T_d0003_row10_col6\" class=\"data row10 col6\" >nan</td>\n                        <td id=\"T_d0003_row10_col7\" class=\"data row10 col7\" >-0.007516</td>\n                        <td id=\"T_d0003_row10_col8\" class=\"data row10 col8\" >-0.008264</td>\n                        <td id=\"T_d0003_row10_col9\" class=\"data row10 col9\" >-0.704179</td>\n                        <td id=\"T_d0003_row10_col10\" class=\"data row10 col10\" >1.000000</td>\n            </tr>\n    </tbody></table>"
     },
     "metadata": {},
     "execution_count": 60
    }
   ],
   "source": [
    "sdf_corr_dayofweek.toPandas().corr().style.background_gradient(cmap='bwr')"
   ]
  },
  {
   "source": [
    "#### Category Class - Correlation Matrix"
   ],
   "cell_type": "markdown",
   "metadata": {}
  },
  {
   "cell_type": "code",
   "execution_count": 61,
   "metadata": {},
   "outputs": [],
   "source": [
    "sdf_corr_category_class = spark.sql(\"SELECT category_class, turnover, bougth_quantity, viewed_quantity, cart_quantity \\\n",
    "                            FROM Data\")"
   ]
  },
  {
   "cell_type": "code",
   "execution_count": 62,
   "metadata": {},
   "outputs": [],
   "source": [
    "# One-hot-encoding\n",
    "sdf_corr_category_class = sdf_corr_category_class.withColumn('computers', f.when(f.col('category_class') == 'computers', f.lit(1)).otherwise(0))\n",
    "sdf_corr_category_class = sdf_corr_category_class.withColumn('auto', f.when(f.col('category_class') == 'auto', f.lit(1)).otherwise(0))\n",
    "sdf_corr_category_class = sdf_corr_category_class.withColumn('apparel', f.when(f.col('category_class') == 'apparel', f.lit(1)).otherwise(0))\n",
    "sdf_corr_category_class = sdf_corr_category_class.withColumn('appliances', f.when(f.col('category_class') == 'appliances', f.lit(1)).otherwise(0))\n",
    "sdf_corr_category_class = sdf_corr_category_class.withColumn('furniture', f.when(f.col('category_class') == 'furniture', f.lit(1)).otherwise(0))\n",
    "sdf_corr_category_class = sdf_corr_category_class.withColumn('accessories', f.when(f.col('category_class') == 'accessories', f.lit(1)).otherwise(0))\n",
    "sdf_corr_category_class = sdf_corr_category_class.withColumn('electronics', f.when(f.col('category_class') == 'electronics', f.lit(1)).otherwise(0))\n",
    "sdf_corr_category_class = sdf_corr_category_class.withColumn('construction', f.when(f.col('category_class') == 'construction', f.lit(1)).otherwise(0))\n",
    "sdf_corr_category_class = sdf_corr_category_class.withColumn('not_defined', f.when(f.col('category_class') == 'not defined', f.lit(1)).otherwise(0))"
   ]
  },
  {
   "cell_type": "code",
   "execution_count": 63,
   "metadata": {},
   "outputs": [],
   "source": [
    "sdf_corr_category_class = sdf_corr_category_class.select(\"computers\", \"auto\", \"apparel\", \"appliances\", \"furniture\", \"accessories\", \"electronics\", \"construction\", \"not_defined\", \"turnover\", \"bougth_quantity\", \"viewed_quantity\", \"cart_quantity\" )"
   ]
  },
  {
   "cell_type": "code",
   "execution_count": 64,
   "metadata": {},
   "outputs": [
    {
     "output_type": "execute_result",
     "data": {
      "text/plain": [
       "<pandas.io.formats.style.Styler at 0x16eb15d2880>"
      ],
      "text/html": "<style  type=\"text/css\" >\n#T_7ff6c_row0_col0,#T_7ff6c_row1_col1,#T_7ff6c_row2_col2,#T_7ff6c_row3_col3,#T_7ff6c_row4_col4,#T_7ff6c_row5_col5,#T_7ff6c_row6_col6,#T_7ff6c_row7_col7,#T_7ff6c_row9_col9,#T_7ff6c_row10_col10,#T_7ff6c_row11_col11,#T_7ff6c_row12_col12{\n            background-color:  #ff0000;\n            color:  #f1f1f1;\n        }#T_7ff6c_row0_col1,#T_7ff6c_row11_col5{\n            background-color:  #1616ff;\n            color:  #f1f1f1;\n        }#T_7ff6c_row0_col2,#T_7ff6c_row9_col11{\n            background-color:  #1212ff;\n            color:  #f1f1f1;\n        }#T_7ff6c_row0_col3,#T_7ff6c_row1_col7,#T_7ff6c_row3_col4{\n            background-color:  #2020ff;\n            color:  #f1f1f1;\n        }#T_7ff6c_row0_col4,#T_7ff6c_row1_col2,#T_7ff6c_row4_col1,#T_7ff6c_row7_col2{\n            background-color:  #1c1cff;\n            color:  #f1f1f1;\n        }#T_7ff6c_row0_col5{\n            background-color:  #0606ff;\n            color:  #f1f1f1;\n        }#T_7ff6c_row0_col6,#T_7ff6c_row6_col0,#T_7ff6c_row6_col1,#T_7ff6c_row6_col2,#T_7ff6c_row6_col3,#T_7ff6c_row6_col4,#T_7ff6c_row6_col5,#T_7ff6c_row6_col7,#T_7ff6c_row10_col11,#T_7ff6c_row11_col9,#T_7ff6c_row11_col10,#T_7ff6c_row11_col12,#T_7ff6c_row12_col11{\n            background-color:  #0000ff;\n            color:  #f1f1f1;\n        }#T_7ff6c_row0_col7,#T_7ff6c_row3_col2,#T_7ff6c_row4_col6,#T_7ff6c_row11_col4{\n            background-color:  #1414ff;\n            color:  #f1f1f1;\n        }#T_7ff6c_row0_col8,#T_7ff6c_row1_col8,#T_7ff6c_row2_col8,#T_7ff6c_row3_col8,#T_7ff6c_row4_col8,#T_7ff6c_row5_col8,#T_7ff6c_row6_col8,#T_7ff6c_row7_col8,#T_7ff6c_row8_col0,#T_7ff6c_row8_col1,#T_7ff6c_row8_col2,#T_7ff6c_row8_col3,#T_7ff6c_row8_col4,#T_7ff6c_row8_col5,#T_7ff6c_row8_col6,#T_7ff6c_row8_col7,#T_7ff6c_row8_col8,#T_7ff6c_row8_col9,#T_7ff6c_row8_col10,#T_7ff6c_row8_col11,#T_7ff6c_row8_col12,#T_7ff6c_row9_col8,#T_7ff6c_row10_col8,#T_7ff6c_row11_col8,#T_7ff6c_row12_col8{\n            background-color:  #000000;\n            color:  #f1f1f1;\n        }#T_7ff6c_row0_col9{\n            background-color:  #bebeff;\n            color:  #000000;\n        }#T_7ff6c_row0_col10,#T_7ff6c_row0_col12,#T_7ff6c_row3_col10,#T_7ff6c_row3_col12{\n            background-color:  #cacaff;\n            color:  #000000;\n        }#T_7ff6c_row0_col11{\n            background-color:  #e0e0ff;\n            color:  #000000;\n        }#T_7ff6c_row1_col0,#T_7ff6c_row7_col0,#T_7ff6c_row12_col4{\n            background-color:  #3838ff;\n            color:  #f1f1f1;\n        }#T_7ff6c_row1_col3{\n            background-color:  #3232ff;\n            color:  #f1f1f1;\n        }#T_7ff6c_row1_col4,#T_7ff6c_row2_col6,#T_7ff6c_row5_col7,#T_7ff6c_row7_col4,#T_7ff6c_row9_col1,#T_7ff6c_row10_col1,#T_7ff6c_row12_col1{\n            background-color:  #2c2cff;\n            color:  #f1f1f1;\n        }#T_7ff6c_row1_col5,#T_7ff6c_row2_col5,#T_7ff6c_row7_col5{\n            background-color:  #0c0cff;\n            color:  #f1f1f1;\n        }#T_7ff6c_row1_col6,#T_7ff6c_row7_col1{\n            background-color:  #2222ff;\n            color:  #f1f1f1;\n        }#T_7ff6c_row1_col9,#T_7ff6c_row2_col9,#T_7ff6c_row7_col9{\n            background-color:  #c2c2ff;\n            color:  #000000;\n        }#T_7ff6c_row1_col10,#T_7ff6c_row1_col12,#T_7ff6c_row2_col10,#T_7ff6c_row2_col12,#T_7ff6c_row7_col10,#T_7ff6c_row7_col12{\n            background-color:  #ceceff;\n            color:  #000000;\n        }#T_7ff6c_row1_col11,#T_7ff6c_row7_col11{\n            background-color:  #dadaff;\n            color:  #000000;\n        }#T_7ff6c_row2_col0,#T_7ff6c_row11_col7{\n            background-color:  #3c3cff;\n            color:  #f1f1f1;\n        }#T_7ff6c_row2_col1,#T_7ff6c_row5_col2,#T_7ff6c_row7_col6{\n            background-color:  #2626ff;\n            color:  #f1f1f1;\n        }#T_7ff6c_row2_col3{\n            background-color:  #3636ff;\n            color:  #f1f1f1;\n        }#T_7ff6c_row2_col4{\n            background-color:  #3030ff;\n            color:  #f1f1f1;\n        }#T_7ff6c_row2_col7,#T_7ff6c_row9_col2,#T_7ff6c_row10_col2,#T_7ff6c_row12_col2{\n            background-color:  #2424ff;\n            color:  #f1f1f1;\n        }#T_7ff6c_row2_col11{\n            background-color:  #d8d8ff;\n            color:  #000000;\n        }#T_7ff6c_row3_col0,#T_7ff6c_row10_col7,#T_7ff6c_row12_col7{\n            background-color:  #2828ff;\n            color:  #f1f1f1;\n        }#T_7ff6c_row3_col1,#T_7ff6c_row3_col7,#T_7ff6c_row4_col2{\n            background-color:  #1818ff;\n            color:  #f1f1f1;\n        }#T_7ff6c_row3_col5,#T_7ff6c_row3_col6{\n            background-color:  #0808ff;\n            color:  #f1f1f1;\n        }#T_7ff6c_row3_col9{\n            background-color:  #c0c0ff;\n            color:  #000000;\n        }#T_7ff6c_row3_col11{\n            background-color:  #dedeff;\n            color:  #000000;\n        }#T_7ff6c_row4_col0,#T_7ff6c_row5_col1{\n            background-color:  #2e2eff;\n            color:  #f1f1f1;\n        }#T_7ff6c_row4_col3,#T_7ff6c_row9_col7{\n            background-color:  #2a2aff;\n            color:  #f1f1f1;\n        }#T_7ff6c_row4_col5{\n            background-color:  #0a0aff;\n            color:  #f1f1f1;\n        }#T_7ff6c_row4_col7{\n            background-color:  #1a1aff;\n            color:  #f1f1f1;\n        }#T_7ff6c_row4_col9{\n            background-color:  #fff0f0;\n            color:  #000000;\n        }#T_7ff6c_row4_col10{\n            background-color:  #fffafa;\n            color:  #000000;\n        }#T_7ff6c_row4_col11{\n            background-color:  #b4b4ff;\n            color:  #000000;\n        }#T_7ff6c_row4_col12{\n            background-color:  #ccccff;\n            color:  #000000;\n        }#T_7ff6c_row5_col0{\n            background-color:  #4a4aff;\n            color:  #f1f1f1;\n        }#T_7ff6c_row5_col3{\n            background-color:  #4242ff;\n            color:  #f1f1f1;\n        }#T_7ff6c_row5_col4{\n            background-color:  #3a3aff;\n            color:  #f1f1f1;\n        }#T_7ff6c_row5_col6{\n            background-color:  #4444ff;\n            color:  #f1f1f1;\n        }#T_7ff6c_row5_col9{\n            background-color:  #c6c6ff;\n            color:  #000000;\n        }#T_7ff6c_row5_col10,#T_7ff6c_row5_col12,#T_7ff6c_row9_col12,#T_7ff6c_row10_col12,#T_7ff6c_row12_col10{\n            background-color:  #d0d0ff;\n            color:  #000000;\n        }#T_7ff6c_row5_col11{\n            background-color:  #d6d6ff;\n            color:  #000000;\n        }#T_7ff6c_row6_col9{\n            background-color:  #c8c8ff;\n            color:  #000000;\n        }#T_7ff6c_row6_col10,#T_7ff6c_row6_col12{\n            background-color:  #e2e2ff;\n            color:  #000000;\n        }#T_7ff6c_row6_col11{\n            background-color:  #bcbcff;\n            color:  #000000;\n        }#T_7ff6c_row7_col3,#T_7ff6c_row11_col2,#T_7ff6c_row11_col6{\n            background-color:  #3434ff;\n            color:  #f1f1f1;\n        }#T_7ff6c_row9_col0{\n            background-color:  #4848ff;\n            color:  #f1f1f1;\n        }#T_7ff6c_row9_col3,#T_7ff6c_row10_col3,#T_7ff6c_row11_col1,#T_7ff6c_row12_col3{\n            background-color:  #4040ff;\n            color:  #f1f1f1;\n        }#T_7ff6c_row9_col4{\n            background-color:  #a8a8ff;\n            color:  #000000;\n        }#T_7ff6c_row9_col5,#T_7ff6c_row10_col5,#T_7ff6c_row12_col5{\n            background-color:  #0e0eff;\n            color:  #f1f1f1;\n        }#T_7ff6c_row9_col6{\n            background-color:  #5454ff;\n            color:  #f1f1f1;\n        }#T_7ff6c_row9_col10{\n            background-color:  #ff1a1a;\n            color:  #f1f1f1;\n        }#T_7ff6c_row10_col0,#T_7ff6c_row12_col0{\n            background-color:  #4646ff;\n            color:  #f1f1f1;\n        }#T_7ff6c_row10_col4{\n            background-color:  #8c8cff;\n            color:  #000000;\n        }#T_7ff6c_row10_col6,#T_7ff6c_row12_col6{\n            background-color:  #6a6aff;\n            color:  #000000;\n        }#T_7ff6c_row10_col9{\n            background-color:  #ff1c1c;\n            color:  #f1f1f1;\n        }#T_7ff6c_row11_col0{\n            background-color:  #6666ff;\n            color:  #000000;\n        }#T_7ff6c_row11_col3{\n            background-color:  #5c5cff;\n            color:  #f1f1f1;\n        }#T_7ff6c_row12_col9{\n            background-color:  #c4c4ff;\n            color:  #000000;\n        }</style><table id=\"T_7ff6c_\" ><thead>    <tr>        <th class=\"blank level0\" ></th>        <th class=\"col_heading level0 col0\" >computers</th>        <th class=\"col_heading level0 col1\" >auto</th>        <th class=\"col_heading level0 col2\" >apparel</th>        <th class=\"col_heading level0 col3\" >appliances</th>        <th class=\"col_heading level0 col4\" >furniture</th>        <th class=\"col_heading level0 col5\" >accessories</th>        <th class=\"col_heading level0 col6\" >electronics</th>        <th class=\"col_heading level0 col7\" >construction</th>        <th class=\"col_heading level0 col8\" >not_defined</th>        <th class=\"col_heading level0 col9\" >turnover</th>        <th class=\"col_heading level0 col10\" >bougth_quantity</th>        <th class=\"col_heading level0 col11\" >viewed_quantity</th>        <th class=\"col_heading level0 col12\" >cart_quantity</th>    </tr></thead><tbody>\n                <tr>\n                        <th id=\"T_7ff6c_level0_row0\" class=\"row_heading level0 row0\" >computers</th>\n                        <td id=\"T_7ff6c_row0_col0\" class=\"data row0 col0\" >1.000000</td>\n                        <td id=\"T_7ff6c_row0_col1\" class=\"data row0 col1\" >-0.066120</td>\n                        <td id=\"T_7ff6c_row0_col2\" class=\"data row0 col2\" >-0.053646</td>\n                        <td id=\"T_7ff6c_row0_col3\" class=\"data row0 col3\" >-0.100958</td>\n                        <td id=\"T_7ff6c_row0_col4\" class=\"data row0 col4\" >-0.086472</td>\n                        <td id=\"T_7ff6c_row0_col5\" class=\"data row0 col5\" >-0.021674</td>\n                        <td id=\"T_7ff6c_row0_col6\" class=\"data row0 col6\" >-0.197201</td>\n                        <td id=\"T_7ff6c_row0_col7\" class=\"data row0 col7\" >-0.062207</td>\n                        <td id=\"T_7ff6c_row0_col8\" class=\"data row0 col8\" >nan</td>\n                        <td id=\"T_7ff6c_row0_col9\" class=\"data row0 col9\" >-0.027934</td>\n                        <td id=\"T_7ff6c_row0_col10\" class=\"data row0 col10\" >-0.030715</td>\n                        <td id=\"T_7ff6c_row0_col11\" class=\"data row0 col11\" >0.043619</td>\n                        <td id=\"T_7ff6c_row0_col12\" class=\"data row0 col12\" >-0.030715</td>\n            </tr>\n            <tr>\n                        <th id=\"T_7ff6c_level0_row1\" class=\"row_heading level0 row1\" >auto</th>\n                        <td id=\"T_7ff6c_row1_col0\" class=\"data row1 col0\" >-0.066120</td>\n                        <td id=\"T_7ff6c_row1_col1\" class=\"data row1 col1\" >1.000000</td>\n                        <td id=\"T_7ff6c_row1_col2\" class=\"data row1 col2\" >-0.031072</td>\n                        <td id=\"T_7ff6c_row1_col3\" class=\"data row1 col3\" >-0.058476</td>\n                        <td id=\"T_7ff6c_row1_col4\" class=\"data row1 col4\" >-0.050086</td>\n                        <td id=\"T_7ff6c_row1_col5\" class=\"data row1 col5\" >-0.012554</td>\n                        <td id=\"T_7ff6c_row1_col6\" class=\"data row1 col6\" >-0.114221</td>\n                        <td id=\"T_7ff6c_row1_col7\" class=\"data row1 col7\" >-0.036031</td>\n                        <td id=\"T_7ff6c_row1_col8\" class=\"data row1 col8\" >nan</td>\n                        <td id=\"T_7ff6c_row1_col9\" class=\"data row1 col9\" >-0.016180</td>\n                        <td id=\"T_7ff6c_row1_col10\" class=\"data row1 col10\" >-0.017791</td>\n                        <td id=\"T_7ff6c_row1_col11\" class=\"data row1 col11\" >0.025265</td>\n                        <td id=\"T_7ff6c_row1_col12\" class=\"data row1 col12\" >-0.017791</td>\n            </tr>\n            <tr>\n                        <th id=\"T_7ff6c_level0_row2\" class=\"row_heading level0 row2\" >apparel</th>\n                        <td id=\"T_7ff6c_row2_col0\" class=\"data row2 col0\" >-0.053646</td>\n                        <td id=\"T_7ff6c_row2_col1\" class=\"data row2 col1\" >-0.031072</td>\n                        <td id=\"T_7ff6c_row2_col2\" class=\"data row2 col2\" >1.000000</td>\n                        <td id=\"T_7ff6c_row2_col3\" class=\"data row2 col3\" >-0.047444</td>\n                        <td id=\"T_7ff6c_row2_col4\" class=\"data row2 col4\" >-0.040636</td>\n                        <td id=\"T_7ff6c_row2_col5\" class=\"data row2 col5\" >-0.010186</td>\n                        <td id=\"T_7ff6c_row2_col6\" class=\"data row2 col6\" >-0.092672</td>\n                        <td id=\"T_7ff6c_row2_col7\" class=\"data row2 col7\" >-0.029233</td>\n                        <td id=\"T_7ff6c_row2_col8\" class=\"data row2 col8\" >nan</td>\n                        <td id=\"T_7ff6c_row2_col9\" class=\"data row2 col9\" >-0.013127</td>\n                        <td id=\"T_7ff6c_row2_col10\" class=\"data row2 col10\" >-0.014434</td>\n                        <td id=\"T_7ff6c_row2_col11\" class=\"data row2 col11\" >0.020498</td>\n                        <td id=\"T_7ff6c_row2_col12\" class=\"data row2 col12\" >-0.014434</td>\n            </tr>\n            <tr>\n                        <th id=\"T_7ff6c_level0_row3\" class=\"row_heading level0 row3\" >appliances</th>\n                        <td id=\"T_7ff6c_row3_col0\" class=\"data row3 col0\" >-0.100958</td>\n                        <td id=\"T_7ff6c_row3_col1\" class=\"data row3 col1\" >-0.058476</td>\n                        <td id=\"T_7ff6c_row3_col2\" class=\"data row3 col2\" >-0.047444</td>\n                        <td id=\"T_7ff6c_row3_col3\" class=\"data row3 col3\" >1.000000</td>\n                        <td id=\"T_7ff6c_row3_col4\" class=\"data row3 col4\" >-0.076475</td>\n                        <td id=\"T_7ff6c_row3_col5\" class=\"data row3 col5\" >-0.019168</td>\n                        <td id=\"T_7ff6c_row3_col6\" class=\"data row3 col6\" >-0.174402</td>\n                        <td id=\"T_7ff6c_row3_col7\" class=\"data row3 col7\" >-0.055015</td>\n                        <td id=\"T_7ff6c_row3_col8\" class=\"data row3 col8\" >nan</td>\n                        <td id=\"T_7ff6c_row3_col9\" class=\"data row3 col9\" >-0.024704</td>\n                        <td id=\"T_7ff6c_row3_col10\" class=\"data row3 col10\" >-0.027164</td>\n                        <td id=\"T_7ff6c_row3_col11\" class=\"data row3 col11\" >0.038576</td>\n                        <td id=\"T_7ff6c_row3_col12\" class=\"data row3 col12\" >-0.027164</td>\n            </tr>\n            <tr>\n                        <th id=\"T_7ff6c_level0_row4\" class=\"row_heading level0 row4\" >furniture</th>\n                        <td id=\"T_7ff6c_row4_col0\" class=\"data row4 col0\" >-0.086472</td>\n                        <td id=\"T_7ff6c_row4_col1\" class=\"data row4 col1\" >-0.050086</td>\n                        <td id=\"T_7ff6c_row4_col2\" class=\"data row4 col2\" >-0.040636</td>\n                        <td id=\"T_7ff6c_row4_col3\" class=\"data row4 col3\" >-0.076475</td>\n                        <td id=\"T_7ff6c_row4_col4\" class=\"data row4 col4\" >1.000000</td>\n                        <td id=\"T_7ff6c_row4_col5\" class=\"data row4 col5\" >-0.016418</td>\n                        <td id=\"T_7ff6c_row4_col6\" class=\"data row4 col6\" >-0.149378</td>\n                        <td id=\"T_7ff6c_row4_col7\" class=\"data row4 col7\" >-0.047121</td>\n                        <td id=\"T_7ff6c_row4_col8\" class=\"data row4 col8\" >nan</td>\n                        <td id=\"T_7ff6c_row4_col9\" class=\"data row4 col9\" >0.229308</td>\n                        <td id=\"T_7ff6c_row4_col10\" class=\"data row4 col10\" >0.165969</td>\n                        <td id=\"T_7ff6c_row4_col11\" class=\"data row4 col11\" >-0.101326</td>\n                        <td id=\"T_7ff6c_row4_col12\" class=\"data row4 col12\" >-0.023267</td>\n            </tr>\n            <tr>\n                        <th id=\"T_7ff6c_level0_row5\" class=\"row_heading level0 row5\" >accessories</th>\n                        <td id=\"T_7ff6c_row5_col0\" class=\"data row5 col0\" >-0.021674</td>\n                        <td id=\"T_7ff6c_row5_col1\" class=\"data row5 col1\" >-0.012554</td>\n                        <td id=\"T_7ff6c_row5_col2\" class=\"data row5 col2\" >-0.010186</td>\n                        <td id=\"T_7ff6c_row5_col3\" class=\"data row5 col3\" >-0.019168</td>\n                        <td id=\"T_7ff6c_row5_col4\" class=\"data row5 col4\" >-0.016418</td>\n                        <td id=\"T_7ff6c_row5_col5\" class=\"data row5 col5\" >1.000000</td>\n                        <td id=\"T_7ff6c_row5_col6\" class=\"data row5 col6\" >-0.037442</td>\n                        <td id=\"T_7ff6c_row5_col7\" class=\"data row5 col7\" >-0.011811</td>\n                        <td id=\"T_7ff6c_row5_col8\" class=\"data row5 col8\" >nan</td>\n                        <td id=\"T_7ff6c_row5_col9\" class=\"data row5 col9\" >-0.005304</td>\n                        <td id=\"T_7ff6c_row5_col10\" class=\"data row5 col10\" >-0.005832</td>\n                        <td id=\"T_7ff6c_row5_col11\" class=\"data row5 col11\" >0.008282</td>\n                        <td id=\"T_7ff6c_row5_col12\" class=\"data row5 col12\" >-0.005832</td>\n            </tr>\n            <tr>\n                        <th id=\"T_7ff6c_level0_row6\" class=\"row_heading level0 row6\" >electronics</th>\n                        <td id=\"T_7ff6c_row6_col0\" class=\"data row6 col0\" >-0.197201</td>\n                        <td id=\"T_7ff6c_row6_col1\" class=\"data row6 col1\" >-0.114221</td>\n                        <td id=\"T_7ff6c_row6_col2\" class=\"data row6 col2\" >-0.092672</td>\n                        <td id=\"T_7ff6c_row6_col3\" class=\"data row6 col3\" >-0.174402</td>\n                        <td id=\"T_7ff6c_row6_col4\" class=\"data row6 col4\" >-0.149378</td>\n                        <td id=\"T_7ff6c_row6_col5\" class=\"data row6 col5\" >-0.037442</td>\n                        <td id=\"T_7ff6c_row6_col6\" class=\"data row6 col6\" >1.000000</td>\n                        <td id=\"T_7ff6c_row6_col7\" class=\"data row6 col7\" >-0.107461</td>\n                        <td id=\"T_7ff6c_row6_col8\" class=\"data row6 col8\" >nan</td>\n                        <td id=\"T_7ff6c_row6_col9\" class=\"data row6 col9\" >0.003459</td>\n                        <td id=\"T_7ff6c_row6_col10\" class=\"data row6 col10\" >0.051348</td>\n                        <td id=\"T_7ff6c_row6_col11\" class=\"data row6 col11\" >-0.072920</td>\n                        <td id=\"T_7ff6c_row6_col12\" class=\"data row6 col12\" >0.051348</td>\n            </tr>\n            <tr>\n                        <th id=\"T_7ff6c_level0_row7\" class=\"row_heading level0 row7\" >construction</th>\n                        <td id=\"T_7ff6c_row7_col0\" class=\"data row7 col0\" >-0.062207</td>\n                        <td id=\"T_7ff6c_row7_col1\" class=\"data row7 col1\" >-0.036031</td>\n                        <td id=\"T_7ff6c_row7_col2\" class=\"data row7 col2\" >-0.029233</td>\n                        <td id=\"T_7ff6c_row7_col3\" class=\"data row7 col3\" >-0.055015</td>\n                        <td id=\"T_7ff6c_row7_col4\" class=\"data row7 col4\" >-0.047121</td>\n                        <td id=\"T_7ff6c_row7_col5\" class=\"data row7 col5\" >-0.011811</td>\n                        <td id=\"T_7ff6c_row7_col6\" class=\"data row7 col6\" >-0.107461</td>\n                        <td id=\"T_7ff6c_row7_col7\" class=\"data row7 col7\" >1.000000</td>\n                        <td id=\"T_7ff6c_row7_col8\" class=\"data row7 col8\" >nan</td>\n                        <td id=\"T_7ff6c_row7_col9\" class=\"data row7 col9\" >-0.015222</td>\n                        <td id=\"T_7ff6c_row7_col10\" class=\"data row7 col10\" >-0.016738</td>\n                        <td id=\"T_7ff6c_row7_col11\" class=\"data row7 col11\" >0.023769</td>\n                        <td id=\"T_7ff6c_row7_col12\" class=\"data row7 col12\" >-0.016738</td>\n            </tr>\n            <tr>\n                        <th id=\"T_7ff6c_level0_row8\" class=\"row_heading level0 row8\" >not_defined</th>\n                        <td id=\"T_7ff6c_row8_col0\" class=\"data row8 col0\" >nan</td>\n                        <td id=\"T_7ff6c_row8_col1\" class=\"data row8 col1\" >nan</td>\n                        <td id=\"T_7ff6c_row8_col2\" class=\"data row8 col2\" >nan</td>\n                        <td id=\"T_7ff6c_row8_col3\" class=\"data row8 col3\" >nan</td>\n                        <td id=\"T_7ff6c_row8_col4\" class=\"data row8 col4\" >nan</td>\n                        <td id=\"T_7ff6c_row8_col5\" class=\"data row8 col5\" >nan</td>\n                        <td id=\"T_7ff6c_row8_col6\" class=\"data row8 col6\" >nan</td>\n                        <td id=\"T_7ff6c_row8_col7\" class=\"data row8 col7\" >nan</td>\n                        <td id=\"T_7ff6c_row8_col8\" class=\"data row8 col8\" >nan</td>\n                        <td id=\"T_7ff6c_row8_col9\" class=\"data row8 col9\" >nan</td>\n                        <td id=\"T_7ff6c_row8_col10\" class=\"data row8 col10\" >nan</td>\n                        <td id=\"T_7ff6c_row8_col11\" class=\"data row8 col11\" >nan</td>\n                        <td id=\"T_7ff6c_row8_col12\" class=\"data row8 col12\" >nan</td>\n            </tr>\n            <tr>\n                        <th id=\"T_7ff6c_level0_row9\" class=\"row_heading level0 row9\" >turnover</th>\n                        <td id=\"T_7ff6c_row9_col0\" class=\"data row9 col0\" >-0.027934</td>\n                        <td id=\"T_7ff6c_row9_col1\" class=\"data row9 col1\" >-0.016180</td>\n                        <td id=\"T_7ff6c_row9_col2\" class=\"data row9 col2\" >-0.013127</td>\n                        <td id=\"T_7ff6c_row9_col3\" class=\"data row9 col3\" >-0.024704</td>\n                        <td id=\"T_7ff6c_row9_col4\" class=\"data row9 col4\" >0.229308</td>\n                        <td id=\"T_7ff6c_row9_col5\" class=\"data row9 col5\" >-0.005304</td>\n                        <td id=\"T_7ff6c_row9_col6\" class=\"data row9 col6\" >0.003459</td>\n                        <td id=\"T_7ff6c_row9_col7\" class=\"data row9 col7\" >-0.015222</td>\n                        <td id=\"T_7ff6c_row9_col8\" class=\"data row9 col8\" >nan</td>\n                        <td id=\"T_7ff6c_row9_col9\" class=\"data row9 col9\" >1.000000</td>\n                        <td id=\"T_7ff6c_row9_col10\" class=\"data row9 col10\" >0.909438</td>\n                        <td id=\"T_7ff6c_row9_col11\" class=\"data row9 col11\" >-0.640407</td>\n                        <td id=\"T_7ff6c_row9_col12\" class=\"data row9 col12\" >-0.007516</td>\n            </tr>\n            <tr>\n                        <th id=\"T_7ff6c_level0_row10\" class=\"row_heading level0 row10\" >bougth_quantity</th>\n                        <td id=\"T_7ff6c_row10_col0\" class=\"data row10 col0\" >-0.030715</td>\n                        <td id=\"T_7ff6c_row10_col1\" class=\"data row10 col1\" >-0.017791</td>\n                        <td id=\"T_7ff6c_row10_col2\" class=\"data row10 col2\" >-0.014434</td>\n                        <td id=\"T_7ff6c_row10_col3\" class=\"data row10 col3\" >-0.027164</td>\n                        <td id=\"T_7ff6c_row10_col4\" class=\"data row10 col4\" >0.165969</td>\n                        <td id=\"T_7ff6c_row10_col5\" class=\"data row10 col5\" >-0.005832</td>\n                        <td id=\"T_7ff6c_row10_col6\" class=\"data row10 col6\" >0.051348</td>\n                        <td id=\"T_7ff6c_row10_col7\" class=\"data row10 col7\" >-0.016738</td>\n                        <td id=\"T_7ff6c_row10_col8\" class=\"data row10 col8\" >nan</td>\n                        <td id=\"T_7ff6c_row10_col9\" class=\"data row10 col9\" >0.909438</td>\n                        <td id=\"T_7ff6c_row10_col10\" class=\"data row10 col10\" >1.000000</td>\n                        <td id=\"T_7ff6c_row10_col11\" class=\"data row10 col11\" >-0.704179</td>\n                        <td id=\"T_7ff6c_row10_col12\" class=\"data row10 col12\" >-0.008264</td>\n            </tr>\n            <tr>\n                        <th id=\"T_7ff6c_level0_row11\" class=\"row_heading level0 row11\" >viewed_quantity</th>\n                        <td id=\"T_7ff6c_row11_col0\" class=\"data row11 col0\" >0.043619</td>\n                        <td id=\"T_7ff6c_row11_col1\" class=\"data row11 col1\" >0.025265</td>\n                        <td id=\"T_7ff6c_row11_col2\" class=\"data row11 col2\" >0.020498</td>\n                        <td id=\"T_7ff6c_row11_col3\" class=\"data row11 col3\" >0.038576</td>\n                        <td id=\"T_7ff6c_row11_col4\" class=\"data row11 col4\" >-0.101326</td>\n                        <td id=\"T_7ff6c_row11_col5\" class=\"data row11 col5\" >0.008282</td>\n                        <td id=\"T_7ff6c_row11_col6\" class=\"data row11 col6\" >-0.072920</td>\n                        <td id=\"T_7ff6c_row11_col7\" class=\"data row11 col7\" >0.023769</td>\n                        <td id=\"T_7ff6c_row11_col8\" class=\"data row11 col8\" >nan</td>\n                        <td id=\"T_7ff6c_row11_col9\" class=\"data row11 col9\" >-0.640407</td>\n                        <td id=\"T_7ff6c_row11_col10\" class=\"data row11 col10\" >-0.704179</td>\n                        <td id=\"T_7ff6c_row11_col11\" class=\"data row11 col11\" >1.000000</td>\n                        <td id=\"T_7ff6c_row11_col12\" class=\"data row11 col12\" >-0.704179</td>\n            </tr>\n            <tr>\n                        <th id=\"T_7ff6c_level0_row12\" class=\"row_heading level0 row12\" >cart_quantity</th>\n                        <td id=\"T_7ff6c_row12_col0\" class=\"data row12 col0\" >-0.030715</td>\n                        <td id=\"T_7ff6c_row12_col1\" class=\"data row12 col1\" >-0.017791</td>\n                        <td id=\"T_7ff6c_row12_col2\" class=\"data row12 col2\" >-0.014434</td>\n                        <td id=\"T_7ff6c_row12_col3\" class=\"data row12 col3\" >-0.027164</td>\n                        <td id=\"T_7ff6c_row12_col4\" class=\"data row12 col4\" >-0.023267</td>\n                        <td id=\"T_7ff6c_row12_col5\" class=\"data row12 col5\" >-0.005832</td>\n                        <td id=\"T_7ff6c_row12_col6\" class=\"data row12 col6\" >0.051348</td>\n                        <td id=\"T_7ff6c_row12_col7\" class=\"data row12 col7\" >-0.016738</td>\n                        <td id=\"T_7ff6c_row12_col8\" class=\"data row12 col8\" >nan</td>\n                        <td id=\"T_7ff6c_row12_col9\" class=\"data row12 col9\" >-0.007516</td>\n                        <td id=\"T_7ff6c_row12_col10\" class=\"data row12 col10\" >-0.008264</td>\n                        <td id=\"T_7ff6c_row12_col11\" class=\"data row12 col11\" >-0.704179</td>\n                        <td id=\"T_7ff6c_row12_col12\" class=\"data row12 col12\" >1.000000</td>\n            </tr>\n    </tbody></table>"
     },
     "metadata": {},
     "execution_count": 64
    }
   ],
   "source": [
    "sdf_corr_category_class.toPandas().corr().style.background_gradient(cmap='bwr')"
   ]
  },
  {
   "source": [
    "#### Month - Correlation Matrix"
   ],
   "cell_type": "markdown",
   "metadata": {}
  },
  {
   "cell_type": "code",
   "execution_count": 65,
   "metadata": {},
   "outputs": [],
   "source": [
    "sdf_corr_month = spark.sql(\"SELECT dayofmonth, turnover, bougth_quantity, viewed_quantity, cart_quantity \\\n",
    "                            FROM Data\")"
   ]
  },
  {
   "cell_type": "code",
   "execution_count": 66,
   "metadata": {},
   "outputs": [],
   "source": [
    "# One-hot-encoding\n",
    "sdf_corr_month = sdf_corr_month.withColumn('Beginningofmonth', f.when(f.col('dayofmonth')<10, f.lit(1)).otherwise(0))\n",
    "sdf_corr_month = sdf_corr_month.withColumn('Middleofmonth', f.when((f.col('dayofmonth')>=10) & (f.col('dayofmonth')<20), f.lit(1)).otherwise(0))\n",
    "sdf_corr_month = sdf_corr_month.withColumn('Endofmonth', f.when(f.col('dayofmonth') > 20 , f.lit(1)).otherwise(0))"
   ]
  },
  {
   "cell_type": "code",
   "execution_count": 67,
   "metadata": {},
   "outputs": [],
   "source": [
    "sdf_corr_month = sdf_corr_month.select(\"Beginningofmonth\", \"Middleofmonth\", \"Endofmonth\", \"turnover\", \"bougth_quantity\", \"viewed_quantity\", \"cart_quantity\" )"
   ]
  },
  {
   "cell_type": "code",
   "execution_count": 68,
   "metadata": {},
   "outputs": [
    {
     "output_type": "execute_result",
     "data": {
      "text/plain": [
       "<pandas.io.formats.style.Styler at 0x16eb157cfd0>"
      ],
      "text/html": "<style  type=\"text/css\" >\n#T_03e0f_row0_col0,#T_03e0f_row1_col1,#T_03e0f_row3_col3,#T_03e0f_row4_col4,#T_03e0f_row5_col5,#T_03e0f_row6_col6{\n            background-color:  #ff0000;\n            color:  #f1f1f1;\n        }#T_03e0f_row0_col1,#T_03e0f_row1_col0,#T_03e0f_row4_col5,#T_03e0f_row5_col3,#T_03e0f_row5_col4,#T_03e0f_row5_col6,#T_03e0f_row6_col5{\n            background-color:  #0000ff;\n            color:  #f1f1f1;\n        }#T_03e0f_row0_col2,#T_03e0f_row1_col2,#T_03e0f_row2_col0,#T_03e0f_row2_col1,#T_03e0f_row2_col2,#T_03e0f_row2_col3,#T_03e0f_row2_col4,#T_03e0f_row2_col5,#T_03e0f_row2_col6,#T_03e0f_row3_col2,#T_03e0f_row4_col2,#T_03e0f_row5_col2,#T_03e0f_row6_col2{\n            background-color:  #000000;\n            color:  #f1f1f1;\n        }#T_03e0f_row0_col3{\n            background-color:  #ceceff;\n            color:  #000000;\n        }#T_03e0f_row0_col4,#T_03e0f_row6_col0{\n            background-color:  #dadaff;\n            color:  #000000;\n        }#T_03e0f_row0_col5{\n            background-color:  #ececff;\n            color:  #000000;\n        }#T_03e0f_row0_col6{\n            background-color:  #a8a8ff;\n            color:  #000000;\n        }#T_03e0f_row1_col3{\n            background-color:  #c0c0ff;\n            color:  #000000;\n        }#T_03e0f_row1_col4{\n            background-color:  #cacaff;\n            color:  #000000;\n        }#T_03e0f_row1_col5{\n            background-color:  #babaff;\n            color:  #000000;\n        }#T_03e0f_row1_col6{\n            background-color:  #fefeff;\n            color:  #000000;\n        }#T_03e0f_row3_col0,#T_03e0f_row4_col0{\n            background-color:  #fff8f8;\n            color:  #000000;\n        }#T_03e0f_row3_col1,#T_03e0f_row4_col1{\n            background-color:  #f8f8ff;\n            color:  #000000;\n        }#T_03e0f_row3_col4{\n            background-color:  #ff1a1a;\n            color:  #f1f1f1;\n        }#T_03e0f_row3_col5{\n            background-color:  #1212ff;\n            color:  #f1f1f1;\n        }#T_03e0f_row3_col6,#T_03e0f_row4_col6,#T_03e0f_row6_col4{\n            background-color:  #d0d0ff;\n            color:  #000000;\n        }#T_03e0f_row4_col3{\n            background-color:  #ff1c1c;\n            color:  #f1f1f1;\n        }#T_03e0f_row5_col0{\n            background-color:  #ffeaea;\n            color:  #000000;\n        }#T_03e0f_row5_col1{\n            background-color:  #eaeaff;\n            color:  #000000;\n        }#T_03e0f_row6_col1{\n            background-color:  #ffdada;\n            color:  #000000;\n        }#T_03e0f_row6_col3{\n            background-color:  #c4c4ff;\n            color:  #000000;\n        }</style><table id=\"T_03e0f_\" ><thead>    <tr>        <th class=\"blank level0\" ></th>        <th class=\"col_heading level0 col0\" >Beginningofmonth</th>        <th class=\"col_heading level0 col1\" >Middleofmonth</th>        <th class=\"col_heading level0 col2\" >Endofmonth</th>        <th class=\"col_heading level0 col3\" >turnover</th>        <th class=\"col_heading level0 col4\" >bougth_quantity</th>        <th class=\"col_heading level0 col5\" >viewed_quantity</th>        <th class=\"col_heading level0 col6\" >cart_quantity</th>    </tr></thead><tbody>\n                <tr>\n                        <th id=\"T_03e0f_level0_row0\" class=\"row_heading level0 row0\" >Beginningofmonth</th>\n                        <td id=\"T_03e0f_row0_col0\" class=\"data row0 col0\" >1.000000</td>\n                        <td id=\"T_03e0f_row0_col1\" class=\"data row0 col1\" >-1.000000</td>\n                        <td id=\"T_03e0f_row0_col2\" class=\"data row0 col2\" >nan</td>\n                        <td id=\"T_03e0f_row0_col3\" class=\"data row0 col3\" >0.024025</td>\n                        <td id=\"T_03e0f_row0_col4\" class=\"data row0 col4\" >0.026418</td>\n                        <td id=\"T_03e0f_row0_col5\" class=\"data row0 col5\" >0.082929</td>\n                        <td id=\"T_03e0f_row0_col6\" class=\"data row0 col6\" >-0.143211</td>\n            </tr>\n            <tr>\n                        <th id=\"T_03e0f_level0_row1\" class=\"row_heading level0 row1\" >Middleofmonth</th>\n                        <td id=\"T_03e0f_row1_col0\" class=\"data row1 col0\" >-1.000000</td>\n                        <td id=\"T_03e0f_row1_col1\" class=\"data row1 col1\" >1.000000</td>\n                        <td id=\"T_03e0f_row1_col2\" class=\"data row1 col2\" >nan</td>\n                        <td id=\"T_03e0f_row1_col3\" class=\"data row1 col3\" >-0.024025</td>\n                        <td id=\"T_03e0f_row1_col4\" class=\"data row1 col4\" >-0.026418</td>\n                        <td id=\"T_03e0f_row1_col5\" class=\"data row1 col5\" >-0.082929</td>\n                        <td id=\"T_03e0f_row1_col6\" class=\"data row1 col6\" >0.143211</td>\n            </tr>\n            <tr>\n                        <th id=\"T_03e0f_level0_row2\" class=\"row_heading level0 row2\" >Endofmonth</th>\n                        <td id=\"T_03e0f_row2_col0\" class=\"data row2 col0\" >nan</td>\n                        <td id=\"T_03e0f_row2_col1\" class=\"data row2 col1\" >nan</td>\n                        <td id=\"T_03e0f_row2_col2\" class=\"data row2 col2\" >nan</td>\n                        <td id=\"T_03e0f_row2_col3\" class=\"data row2 col3\" >nan</td>\n                        <td id=\"T_03e0f_row2_col4\" class=\"data row2 col4\" >nan</td>\n                        <td id=\"T_03e0f_row2_col5\" class=\"data row2 col5\" >nan</td>\n                        <td id=\"T_03e0f_row2_col6\" class=\"data row2 col6\" >nan</td>\n            </tr>\n            <tr>\n                        <th id=\"T_03e0f_level0_row3\" class=\"row_heading level0 row3\" >turnover</th>\n                        <td id=\"T_03e0f_row3_col0\" class=\"data row3 col0\" >0.024025</td>\n                        <td id=\"T_03e0f_row3_col1\" class=\"data row3 col1\" >-0.024025</td>\n                        <td id=\"T_03e0f_row3_col2\" class=\"data row3 col2\" >nan</td>\n                        <td id=\"T_03e0f_row3_col3\" class=\"data row3 col3\" >1.000000</td>\n                        <td id=\"T_03e0f_row3_col4\" class=\"data row3 col4\" >0.909438</td>\n                        <td id=\"T_03e0f_row3_col5\" class=\"data row3 col5\" >-0.640407</td>\n                        <td id=\"T_03e0f_row3_col6\" class=\"data row3 col6\" >-0.007516</td>\n            </tr>\n            <tr>\n                        <th id=\"T_03e0f_level0_row4\" class=\"row_heading level0 row4\" >bougth_quantity</th>\n                        <td id=\"T_03e0f_row4_col0\" class=\"data row4 col0\" >0.026418</td>\n                        <td id=\"T_03e0f_row4_col1\" class=\"data row4 col1\" >-0.026418</td>\n                        <td id=\"T_03e0f_row4_col2\" class=\"data row4 col2\" >nan</td>\n                        <td id=\"T_03e0f_row4_col3\" class=\"data row4 col3\" >0.909438</td>\n                        <td id=\"T_03e0f_row4_col4\" class=\"data row4 col4\" >1.000000</td>\n                        <td id=\"T_03e0f_row4_col5\" class=\"data row4 col5\" >-0.704179</td>\n                        <td id=\"T_03e0f_row4_col6\" class=\"data row4 col6\" >-0.008264</td>\n            </tr>\n            <tr>\n                        <th id=\"T_03e0f_level0_row5\" class=\"row_heading level0 row5\" >viewed_quantity</th>\n                        <td id=\"T_03e0f_row5_col0\" class=\"data row5 col0\" >0.082929</td>\n                        <td id=\"T_03e0f_row5_col1\" class=\"data row5 col1\" >-0.082929</td>\n                        <td id=\"T_03e0f_row5_col2\" class=\"data row5 col2\" >nan</td>\n                        <td id=\"T_03e0f_row5_col3\" class=\"data row5 col3\" >-0.640407</td>\n                        <td id=\"T_03e0f_row5_col4\" class=\"data row5 col4\" >-0.704179</td>\n                        <td id=\"T_03e0f_row5_col5\" class=\"data row5 col5\" >1.000000</td>\n                        <td id=\"T_03e0f_row5_col6\" class=\"data row5 col6\" >-0.704179</td>\n            </tr>\n            <tr>\n                        <th id=\"T_03e0f_level0_row6\" class=\"row_heading level0 row6\" >cart_quantity</th>\n                        <td id=\"T_03e0f_row6_col0\" class=\"data row6 col0\" >-0.143211</td>\n                        <td id=\"T_03e0f_row6_col1\" class=\"data row6 col1\" >0.143211</td>\n                        <td id=\"T_03e0f_row6_col2\" class=\"data row6 col2\" >nan</td>\n                        <td id=\"T_03e0f_row6_col3\" class=\"data row6 col3\" >-0.007516</td>\n                        <td id=\"T_03e0f_row6_col4\" class=\"data row6 col4\" >-0.008264</td>\n                        <td id=\"T_03e0f_row6_col5\" class=\"data row6 col5\" >-0.704179</td>\n                        <td id=\"T_03e0f_row6_col6\" class=\"data row6 col6\" >1.000000</td>\n            </tr>\n    </tbody></table>"
     },
     "metadata": {},
     "execution_count": 68
    }
   ],
   "source": [
    "sdf_corr_month.toPandas().corr().style.background_gradient(cmap='bwr')"
   ]
  },
  {
   "source": [
    "#### Price - Correlation Matrix"
   ],
   "cell_type": "markdown",
   "metadata": {}
  },
  {
   "cell_type": "code",
   "execution_count": 69,
   "metadata": {},
   "outputs": [
    {
     "output_type": "execute_result",
     "data": {
      "text/plain": [
       "<pandas.io.formats.style.Styler at 0x16eb074dd30>"
      ],
      "text/html": "<style  type=\"text/css\" >\n#T_93736_row0_col0,#T_93736_row1_col1,#T_93736_row2_col2,#T_93736_row3_col3,#T_93736_row4_col4{\n            background-color:  #ff0000;\n            color:  #f1f1f1;\n        }#T_93736_row0_col1{\n            background-color:  #d2d2ff;\n            color:  #000000;\n        }#T_93736_row0_col2{\n            background-color:  #d8d8ff;\n            color:  #000000;\n        }#T_93736_row0_col3{\n            background-color:  #ceceff;\n            color:  #000000;\n        }#T_93736_row0_col4{\n            background-color:  #d4d4ff;\n            color:  #000000;\n        }#T_93736_row1_col0{\n            background-color:  #1616ff;\n            color:  #f1f1f1;\n        }#T_93736_row1_col2{\n            background-color:  #ff1a1a;\n            color:  #f1f1f1;\n        }#T_93736_row1_col3{\n            background-color:  #1212ff;\n            color:  #f1f1f1;\n        }#T_93736_row1_col4,#T_93736_row2_col4,#T_93736_row4_col2{\n            background-color:  #d0d0ff;\n            color:  #000000;\n        }#T_93736_row2_col0{\n            background-color:  #1010ff;\n            color:  #f1f1f1;\n        }#T_93736_row2_col1{\n            background-color:  #ff1c1c;\n            color:  #f1f1f1;\n        }#T_93736_row2_col3,#T_93736_row3_col0,#T_93736_row3_col1,#T_93736_row3_col2,#T_93736_row3_col4,#T_93736_row4_col3{\n            background-color:  #0000ff;\n            color:  #f1f1f1;\n        }#T_93736_row4_col0{\n            background-color:  #0808ff;\n            color:  #f1f1f1;\n        }#T_93736_row4_col1{\n            background-color:  #c4c4ff;\n            color:  #000000;\n        }</style><table id=\"T_93736_\" ><thead>    <tr>        <th class=\"blank level0\" ></th>        <th class=\"col_heading level0 col0\" >price</th>        <th class=\"col_heading level0 col1\" >turnover</th>        <th class=\"col_heading level0 col2\" >bougth_quantity</th>        <th class=\"col_heading level0 col3\" >viewed_quantity</th>        <th class=\"col_heading level0 col4\" >cart_quantity</th>    </tr></thead><tbody>\n                <tr>\n                        <th id=\"T_93736_level0_row0\" class=\"row_heading level0 row0\" >price</th>\n                        <td id=\"T_93736_row0_col0\" class=\"data row0 col0\" >1.000000</td>\n                        <td id=\"T_93736_row0_col1\" class=\"data row0 col1\" >0.032651</td>\n                        <td id=\"T_93736_row0_col2\" class=\"data row0 col2\" >0.018623</td>\n                        <td id=\"T_93736_row0_col3\" class=\"data row0 col3\" >-0.014629</td>\n                        <td id=\"T_93736_row0_col4\" class=\"data row0 col4\" >0.001980</td>\n            </tr>\n            <tr>\n                        <th id=\"T_93736_level0_row1\" class=\"row_heading level0 row1\" >turnover</th>\n                        <td id=\"T_93736_row1_col0\" class=\"data row1 col0\" >0.032651</td>\n                        <td id=\"T_93736_row1_col1\" class=\"data row1 col1\" >1.000000</td>\n                        <td id=\"T_93736_row1_col2\" class=\"data row1 col2\" >0.909438</td>\n                        <td id=\"T_93736_row1_col3\" class=\"data row1 col3\" >-0.640407</td>\n                        <td id=\"T_93736_row1_col4\" class=\"data row1 col4\" >-0.007516</td>\n            </tr>\n            <tr>\n                        <th id=\"T_93736_level0_row2\" class=\"row_heading level0 row2\" >bougth_quantity</th>\n                        <td id=\"T_93736_row2_col0\" class=\"data row2 col0\" >0.018623</td>\n                        <td id=\"T_93736_row2_col1\" class=\"data row2 col1\" >0.909438</td>\n                        <td id=\"T_93736_row2_col2\" class=\"data row2 col2\" >1.000000</td>\n                        <td id=\"T_93736_row2_col3\" class=\"data row2 col3\" >-0.704179</td>\n                        <td id=\"T_93736_row2_col4\" class=\"data row2 col4\" >-0.008264</td>\n            </tr>\n            <tr>\n                        <th id=\"T_93736_level0_row3\" class=\"row_heading level0 row3\" >viewed_quantity</th>\n                        <td id=\"T_93736_row3_col0\" class=\"data row3 col0\" >-0.014629</td>\n                        <td id=\"T_93736_row3_col1\" class=\"data row3 col1\" >-0.640407</td>\n                        <td id=\"T_93736_row3_col2\" class=\"data row3 col2\" >-0.704179</td>\n                        <td id=\"T_93736_row3_col3\" class=\"data row3 col3\" >1.000000</td>\n                        <td id=\"T_93736_row3_col4\" class=\"data row3 col4\" >-0.704179</td>\n            </tr>\n            <tr>\n                        <th id=\"T_93736_level0_row4\" class=\"row_heading level0 row4\" >cart_quantity</th>\n                        <td id=\"T_93736_row4_col0\" class=\"data row4 col0\" >0.001980</td>\n                        <td id=\"T_93736_row4_col1\" class=\"data row4 col1\" >-0.007516</td>\n                        <td id=\"T_93736_row4_col2\" class=\"data row4 col2\" >-0.008264</td>\n                        <td id=\"T_93736_row4_col3\" class=\"data row4 col3\" >-0.704179</td>\n                        <td id=\"T_93736_row4_col4\" class=\"data row4 col4\" >1.000000</td>\n            </tr>\n    </tbody></table>"
     },
     "metadata": {},
     "execution_count": 69
    }
   ],
   "source": [
    "sdf_corr_price = spark.sql(\"SELECT price, turnover, bougth_quantity, viewed_quantity, cart_quantity \\\n",
    "                            FROM Data\")\n",
    "sdf_corr_price.toPandas().corr().style.background_gradient(cmap='bwr')"
   ]
  },
  {
   "cell_type": "markdown",
   "metadata": {
    "pycharm": {
     "name": "#%% md\n"
    }
   },
   "source": [
    "## Clustering\n",
    "\n",
    "- Customer classification (h,m,l)\n",
    "- Customer related content/ recomenadion"
   ]
  },
  {
   "cell_type": "code",
   "execution_count": null,
   "metadata": {},
   "outputs": [],
   "source": []
  }
 ],
 "metadata": {
  "kernelspec": {
   "name": "python383jvsc74a57bd0b3ba2566441a7c06988d0923437866b63cedc61552a5af99d1f4fb67d367b25f",
   "display_name": "Python 3.8.3 64-bit ('base': conda)"
  },
  "language_info": {
   "codemirror_mode": {
    "name": "ipython",
    "version": 3
   },
   "file_extension": ".py",
   "mimetype": "text/x-python",
   "name": "python",
   "nbconvert_exporter": "python",
   "pygments_lexer": "ipython3",
   "version": "3.8.3"
  }
 },
 "nbformat": 4,
 "nbformat_minor": 4
}