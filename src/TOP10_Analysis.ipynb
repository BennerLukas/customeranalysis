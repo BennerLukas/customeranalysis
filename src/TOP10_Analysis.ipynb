{
 "cells": [
  {
   "cell_type": "code",
   "execution_count": 2,
   "metadata": {},
   "outputs": [],
   "source": [
    "import os\r\n",
    "import pyspark\r\n",
    "import pandas as pd\r\n",
    "import pyspark.sql.functions as f\r\n",
    "import plotly.express as px\r\n",
    "import plotly.graph_objects as go"
   ]
  },
  {
   "cell_type": "code",
   "execution_count": 3,
   "metadata": {},
   "outputs": [],
   "source": [
    " spark = pyspark.sql.SparkSession \\\r\n",
    "     .builder \\\r\n",
    "     .appName(\"app_great\") \\\r\n",
    "     .getOrCreate()\r\n",
    " sc = spark.sparkContext"
   ]
  },
  {
   "cell_type": "code",
   "execution_count": 4,
   "metadata": {},
   "outputs": [],
   "source": [
    "sdf_201911 = spark.read.csv(\"data/2019-Nov.csv\", header=True, inferSchema=True)\r\n",
    "sdf_201910 = spark.read.csv(\"data/2019-Oct.csv\", header=True, inferSchema=True)\r\n",
    "\r\n",
    "# join both months together\r\n",
    "sdf = sdf_201910.union(sdf_201911)"
   ]
  },
  {
   "cell_type": "code",
   "execution_count": 5,
   "metadata": {},
   "outputs": [],
   "source": [
    "\r\n",
    "sdf = sdf.withColumn(\"category_class\", f.split(sdf[\"category_code\"], \"\\.\").getItem(0))\r\n",
    "sdf = sdf.withColumn(\"category_sub_class\", f.split(sdf[\"category_code\"], \"\\.\").getItem(1))\r\n",
    "sdf = sdf.withColumn(\"category_sub_sub_class\", f.split(sdf[\"category_code\"], \"\\.\").getItem(2))\r\n",
    "\r\n",
    "sdf = sdf.withColumn(\"year\", f.year(\"event_time\"))\r\n",
    "sdf = sdf.withColumn(\"month\", f.month(\"event_time\"))\r\n",
    "sdf = sdf.withColumn(\"weekofyear\", f.weekofyear(\"event_time\"))\r\n",
    "sdf = sdf.withColumn(\"dayofyear\", f.dayofyear(\"event_time\"))\r\n",
    "sdf = sdf.withColumn(\"dayofweek\", f.dayofweek(\"event_time\"))\r\n",
    "sdf = sdf.withColumn(\"dayofmonth\", f.dayofmonth(\"event_time\"))\r\n",
    "sdf = sdf.withColumn(\"hour\", f.hour(\"event_time\"))\r\n",
    "\r\n",
    "sdf = sdf.withColumn('turnover', f.when(f.col('event_type') == 'purchase', f.col('price')).otherwise(0))\r\n",
    "sdf = sdf.withColumn('bougth_quantity', f.when(f.col('event_type') == 'purchase', f.lit(1)).otherwise(0))\r\n",
    "sdf = sdf.withColumn('viewed_quantity', f.when(f.col('event_type') == 'view', f.lit(1)).otherwise(0))\r\n",
    "sdf = sdf.withColumn('cart_quantity', f.when(f.col('event_type') == 'cart', f.lit(1)).otherwise(0))\r\n",
    "# None Handling\r\n",
    "# sdf = sdf.fillna(value=\"not defined\")\r\n",
    "\r\n",
    "sdf_raw= sdf\r\n",
    "sdf.createOrReplaceTempView(\"Data\")"
   ]
  },
  {
   "cell_type": "markdown",
   "metadata": {},
   "source": [
    "## Most interactions"
   ]
  },
  {
   "cell_type": "code",
   "execution_count": 8,
   "metadata": {},
   "outputs": [
    {
     "name": "stdout",
     "output_type": "stream",
     "text": [
      "+----------+--------+\n",
      "|product_id|count(1)|\n",
      "+----------+--------+\n",
      "|   1004856| 1136760|\n",
      "|   1005115| 1026435|\n",
      "|   1004767| 1008311|\n",
      "|   4804056|  605012|\n",
      "|   1004870|  537856|\n",
      "|   1004833|  532695|\n",
      "|   1005105|  522086|\n",
      "|   1004249|  519997|\n",
      "|   1005160|  476435|\n",
      "|   1002544|  475186|\n",
      "+----------+--------+\n",
      "only showing top 10 rows\n",
      "\n"
     ]
    }
   ],
   "source": [
    "spark.sql(\"SELECT product_id, Count(*)  \\\r\n",
    "          FROM Data \\\r\n",
    "            GROUP BY product_id \\\r\n",
    "            ORDER BY Count(*) DESC\")\\\r\n",
    "          .show(10)"
   ]
  },
  {
   "cell_type": "code",
   "execution_count": 9,
   "metadata": {},
   "outputs": [
    {
     "name": "stdout",
     "output_type": "stream",
     "text": [
      "+-------------------+--------+\n",
      "|        category_id|count(1)|\n",
      "+-------------------+--------+\n",
      "|2053013555631882655|27882231|\n",
      "|2053013553559896355| 5166320|\n",
      "|2053013554415534427| 3299707|\n",
      "|2053013558920217191| 3297395|\n",
      "|2053013554658804075| 2917065|\n",
      "|2053013563810775923| 2273270|\n",
      "|2053013565983425517| 2272464|\n",
      "|2053013563651392361| 2235234|\n",
      "|2053013553341792533| 1824496|\n",
      "|2053013563911439225| 1575096|\n",
      "+-------------------+--------+\n",
      "only showing top 10 rows\n",
      "\n"
     ]
    }
   ],
   "source": [
    "spark.sql(\"SELECT category_id, Count(*)  \\\r\n",
    "          FROM Data \\\r\n",
    "            GROUP BY category_id \\\r\n",
    "            ORDER BY Count(*) DESC\")\\\r\n",
    "          .show(10)"
   ]
  },
  {
   "cell_type": "code",
   "execution_count": 1,
   "metadata": {},
   "outputs": [
    {
     "ename": "NameError",
     "evalue": "name 'spark' is not defined",
     "output_type": "error",
     "traceback": [
      "\u001b[1;31m---------------------------------------------------------------------------\u001b[0m",
      "\u001b[1;31mNameError\u001b[0m                                 Traceback (most recent call last)",
      "\u001b[1;32m<ipython-input-1-bdd6c0d9cedf>\u001b[0m in \u001b[0;36m<module>\u001b[1;34m\u001b[0m\n\u001b[1;32m----> 1\u001b[1;33m spark.sql(\"SELECT category_code, Count(*)  \\\n\u001b[0m\u001b[0;32m      2\u001b[0m           \u001b[0mFROM\u001b[0m \u001b[0mData\u001b[0m\u001b[0;31m \u001b[0m\u001b[0;31m\\\u001b[0m\u001b[1;33m\u001b[0m\u001b[1;33m\u001b[0m\u001b[0m\n\u001b[0;32m      3\u001b[0m             \u001b[0mGROUP\u001b[0m \u001b[0mBY\u001b[0m \u001b[0mcategory_code\u001b[0m\u001b[0;31m \u001b[0m\u001b[0;31m\\\u001b[0m\u001b[1;33m\u001b[0m\u001b[1;33m\u001b[0m\u001b[0m\n\u001b[0;32m      4\u001b[0m             ORDER BY Count(*) DESC\")\\\n\u001b[0;32m      5\u001b[0m           \u001b[1;33m.\u001b[0m\u001b[0mshow\u001b[0m\u001b[1;33m(\u001b[0m\u001b[1;36m10\u001b[0m\u001b[1;33m,\u001b[0m\u001b[0mtruncate\u001b[0m\u001b[1;33m=\u001b[0m\u001b[1;32mFalse\u001b[0m\u001b[1;33m)\u001b[0m\u001b[1;33m\u001b[0m\u001b[1;33m\u001b[0m\u001b[0m\n",
      "\u001b[1;31mNameError\u001b[0m: name 'spark' is not defined"
     ]
    }
   ],
   "source": [
    "spark.sql(\"SELECT category_code, Count(*)  \\\r\n",
    "          FROM Data \\\r\n",
    "            GROUP BY category_code \\\r\n",
    "            ORDER BY Count(*) DESC\")\\\r\n",
    "          .show(10)"
   ]
  },
  {
   "cell_type": "code",
   "execution_count": 11,
   "metadata": {},
   "outputs": [
    {
     "name": "stdout",
     "output_type": "stream",
     "text": [
      "+--------------+--------+\n",
      "|category_class|count(1)|\n",
      "+--------------+--------+\n",
      "|   electronics|40141709|\n",
      "|          null|35413780|\n",
      "|    appliances|13457119|\n",
      "|     computers| 6505575|\n",
      "|       apparel| 4554025|\n",
      "|     furniture| 3358989|\n",
      "|          auto| 2227274|\n",
      "|  construction| 1822989|\n",
      "|          kids| 1327003|\n",
      "|   accessories|  628276|\n",
      "+--------------+--------+\n",
      "only showing top 10 rows\n",
      "\n"
     ]
    }
   ],
   "source": [
    "spark.sql(\"SELECT category_class, Count(*)  \\\r\n",
    "          FROM Data \\\r\n",
    "            GROUP BY category_class \\\r\n",
    "            ORDER BY Count(*) DESC\")\\\r\n",
    "          .show(10)"
   ]
  },
  {
   "cell_type": "code",
   "execution_count": 12,
   "metadata": {},
   "outputs": [
    {
     "name": "stdout",
     "output_type": "stream",
     "text": [
      "+-------+--------+\n",
      "|  brand|count(1)|\n",
      "+-------+--------+\n",
      "|   null|15331243|\n",
      "|samsung|13172020|\n",
      "|  apple|10381933|\n",
      "| xiaomi| 7721825|\n",
      "| huawei| 2521331|\n",
      "|lucente| 1840936|\n",
      "|     lg| 1659394|\n",
      "|  bosch| 1532149|\n",
      "|   oppo| 1294585|\n",
      "|   sony| 1255101|\n",
      "+-------+--------+\n",
      "only showing top 10 rows\n",
      "\n"
     ]
    }
   ],
   "source": [
    "spark.sql(\"SELECT brand, Count(*)  \\\r\n",
    "          FROM Data \\\r\n",
    "            GROUP BY brand \\\r\n",
    "            ORDER BY Count(*) DESC\")\\\r\n",
    "          .show(10)"
   ]
  },
  {
   "cell_type": "markdown",
   "metadata": {},
   "source": [
    "## Most Views"
   ]
  },
  {
   "cell_type": "code",
   "execution_count": 13,
   "metadata": {},
   "outputs": [
    {
     "name": "stdout",
     "output_type": "stream",
     "text": [
      "+----------+--------------------+\n",
      "|product_id|sum(viewed_quantity)|\n",
      "+----------+--------------------+\n",
      "|   1004856|              942167|\n",
      "|   1005115|              910725|\n",
      "|   1004767|              861675|\n",
      "|   4804056|              497431|\n",
      "|   1005105|              473651|\n",
      "|   1004870|              462532|\n",
      "|   1004249|              462353|\n",
      "|   1004833|              450464|\n",
      "|   1005160|              437340|\n",
      "|   1002544|              409169|\n",
      "+----------+--------------------+\n",
      "only showing top 10 rows\n",
      "\n"
     ]
    }
   ],
   "source": [
    "spark.sql(\"SELECT product_id, SUM(viewed_quantity)  \\\r\n",
    "          FROM Data \\\r\n",
    "            GROUP BY product_id \\\r\n",
    "            ORDER BY SUM(viewed_quantity) DESC\")\\\r\n",
    "          .show(10)"
   ]
  },
  {
   "cell_type": "code",
   "execution_count": 21,
   "metadata": {},
   "outputs": [
    {
     "name": "stdout",
     "output_type": "stream",
     "text": [
      "+-------------------+--------------------+\n",
      "|        category_id|sum(viewed_quantity)|\n",
      "+-------------------+--------------------+\n",
      "|2053013555631882655|            25451835|\n",
      "|2053013553559896355|             4776821|\n",
      "|2053013558920217191|             3189382|\n",
      "|2053013554415534427|             3105713|\n",
      "|2053013554658804075|             2663452|\n",
      "|2053013563651392361|             2171796|\n",
      "|2053013565983425517|             2160880|\n",
      "|2053013563810775923|             2145086|\n",
      "|2053013553341792533|             1725008|\n",
      "|2053013561579406073|             1532333|\n",
      "+-------------------+--------------------+\n",
      "only showing top 10 rows\n",
      "\n"
     ]
    }
   ],
   "source": [
    "spark.sql(\"SELECT category_id, SUM(viewed_quantity)  \\\r\n",
    "          FROM Data \\\r\n",
    "            GROUP BY category_id \\\r\n",
    "            ORDER BY SUM(viewed_quantity) DESC\")\\\r\n",
    "          .show(10)"
   ]
  },
  {
   "cell_type": "code",
   "execution_count": 22,
   "metadata": {},
   "outputs": [
    {
     "name": "stdout",
     "output_type": "stream",
     "text": [
      "+--------------------+--------------------+\n",
      "|       category_code|sum(viewed_quantity)|\n",
      "+--------------------+--------------------+\n",
      "|                null|            34073918|\n",
      "|electronics.smart...|            25451835|\n",
      "|  electronics.clocks|             3267223|\n",
      "|  computers.notebook|             3209430|\n",
      "|electronics.video.tv|             3127266|\n",
      "|electronics.audio...|             2663452|\n",
      "|       apparel.shoes|             2596322|\n",
      "|appliances.kitche...|             2225429|\n",
      "|appliances.enviro...|             2217058|\n",
      "|appliances.kitche...|             2145086|\n",
      "+--------------------+--------------------+\n",
      "only showing top 10 rows\n",
      "\n"
     ]
    }
   ],
   "source": [
    "spark.sql(\"SELECT category_code, SUM(viewed_quantity)  \\\r\n",
    "          FROM Data \\\r\n",
    "            GROUP BY category_code \\\r\n",
    "            ORDER BY SUM(viewed_quantity) DESC\")\\\r\n",
    "          .show(10)"
   ]
  },
  {
   "cell_type": "code",
   "execution_count": 18,
   "metadata": {},
   "outputs": [
    {
     "name": "stdout",
     "output_type": "stream",
     "text": [
      "+--------------+--------------------+\n",
      "|category_class|sum(viewed_quantity)|\n",
      "+--------------+--------------------+\n",
      "|   electronics|            37026582|\n",
      "|          null|            34073918|\n",
      "|    appliances|            12837916|\n",
      "|     computers|             6297977|\n",
      "|       apparel|             4477518|\n",
      "|     furniture|             3295250|\n",
      "|          auto|             2157706|\n",
      "|  construction|             1759762|\n",
      "|          kids|             1292002|\n",
      "|   accessories|              616475|\n",
      "+--------------+--------------------+\n",
      "only showing top 10 rows\n",
      "\n"
     ]
    }
   ],
   "source": [
    "spark.sql(\"SELECT category_class, SUM(viewed_quantity)  \\\r\n",
    "          FROM Data \\\r\n",
    "            GROUP BY category_class \\\r\n",
    "            ORDER BY SUM(viewed_quantity) DESC\")\\\r\n",
    "          .show(10)"
   ]
  },
  {
   "cell_type": "code",
   "execution_count": 9,
   "metadata": {},
   "outputs": [
    {
     "name": "stdout",
     "output_type": "stream",
     "text": [
      "+-------+--------------------+\n",
      "|  brand|sum(viewed_quantity)|\n",
      "+-------+--------------------+\n",
      "|   null|            14922708|\n",
      "|samsung|            11898628|\n",
      "|  apple|             9374247|\n",
      "| xiaomi|             7232401|\n",
      "| huawei|             2358235|\n",
      "|lucente|             1775749|\n",
      "|     lg|             1574848|\n",
      "|  bosch|             1480771|\n",
      "|   oppo|             1203440|\n",
      "|   sony|             1193071|\n",
      "+-------+--------------------+\n",
      "only showing top 10 rows\n",
      "\n"
     ]
    }
   ],
   "source": [
    "spark.sql(\"SELECT brand, SUM(viewed_quantity)  \\\r\n",
    "          FROM Data \\\r\n",
    "            GROUP BY brand \\\r\n",
    "            ORDER BY SUM(viewed_quantity) DESC\")\\\r\n",
    "          .show(10)"
   ]
  },
  {
   "cell_type": "markdown",
   "metadata": {},
   "source": [
    "## Most Add_to_carts"
   ]
  },
  {
   "cell_type": "code",
   "execution_count": 14,
   "metadata": {},
   "outputs": [
    {
     "name": "stdout",
     "output_type": "stream",
     "text": [
      "+----------+------------------+\n",
      "|product_id|sum(cart_quantity)|\n",
      "+----------+------------------+\n",
      "|   1004856|            133328|\n",
      "|   1004767|            102217|\n",
      "|   1005115|             80923|\n",
      "|   4804056|             77400|\n",
      "|   1004833|             56048|\n",
      "|   1004870|             54036|\n",
      "|   1002544|             43790|\n",
      "|   5100816|             40887|\n",
      "|   1004249|             39673|\n",
      "|   1005100|             38976|\n",
      "+----------+------------------+\n",
      "only showing top 10 rows\n",
      "\n"
     ]
    }
   ],
   "source": [
    "spark.sql(\"SELECT product_id, SUM(cart_quantity)  \\\r\n",
    "          FROM Data \\\r\n",
    "            GROUP BY product_id \\\r\n",
    "            ORDER BY SUM(cart_quantity) DESC\")\\\r\n",
    "          .show(10)"
   ]
  },
  {
   "cell_type": "code",
   "execution_count": 10,
   "metadata": {},
   "outputs": [
    {
     "name": "stdout",
     "output_type": "stream",
     "text": [
      "+-------------------+------------------+\n",
      "|        category_id|sum(cart_quantity)|\n",
      "+-------------------+------------------+\n",
      "|2053013555631882655|           1709731|\n",
      "|2053013553559896355|            277667|\n",
      "|2053013554658804075|            182276|\n",
      "|2053013554415534427|            142271|\n",
      "|2053013563810775923|             92264|\n",
      "|2053013565983425517|             81453|\n",
      "|2053013558920217191|             74233|\n",
      "|2053013553341792533|             69837|\n",
      "|2053013553375346967|             47899|\n",
      "|2053013563911439225|             43941|\n",
      "+-------------------+------------------+\n",
      "only showing top 10 rows\n",
      "\n"
     ]
    }
   ],
   "source": [
    "spark.sql(\"SELECT category_id, SUM(cart_quantity)  \\\r\n",
    "          FROM Data \\\r\n",
    "            GROUP BY category_id \\\r\n",
    "            ORDER BY SUM(cart_quantity) DESC\")\\\r\n",
    "          .show(10)"
   ]
  },
  {
   "cell_type": "code",
   "execution_count": 11,
   "metadata": {},
   "outputs": [
    {
     "name": "stdout",
     "output_type": "stream",
     "text": [
      "+--------------------+------------------+\n",
      "|       category_code|sum(cart_quantity)|\n",
      "+--------------------+------------------+\n",
      "|electronics.smart...|           1709731|\n",
      "|                null|            932219|\n",
      "|electronics.audio...|            182276|\n",
      "|electronics.video.tv|            142691|\n",
      "|appliances.kitche...|             92264|\n",
      "|  electronics.clocks|             89633|\n",
      "|appliances.enviro...|             82099|\n",
      "|  computers.notebook|             74724|\n",
      "|appliances.kitche...|             65228|\n",
      "|       apparel.shoes|             40074|\n",
      "+--------------------+------------------+\n",
      "only showing top 10 rows\n",
      "\n"
     ]
    }
   ],
   "source": [
    "spark.sql(\"SELECT category_code, SUM(cart_quantity)  \\\r\n",
    "          FROM Data \\\r\n",
    "            GROUP BY category_code \\\r\n",
    "            ORDER BY SUM(cart_quantity) DESC\")\\\r\n",
    "          .show(10)"
   ]
  },
  {
   "cell_type": "code",
   "execution_count": 12,
   "metadata": {},
   "outputs": [
    {
     "name": "stdout",
     "output_type": "stream",
     "text": [
      "+--------------+------------------+\n",
      "|category_class|sum(cart_quantity)|\n",
      "+--------------+------------------+\n",
      "|   electronics|           2198460|\n",
      "|          null|            932219|\n",
      "|    appliances|            445181|\n",
      "|     computers|            145266|\n",
      "|       apparel|             54290|\n",
      "|          auto|             48229|\n",
      "|  construction|             46727|\n",
      "|     furniture|             43896|\n",
      "|          kids|             23353|\n",
      "|   accessories|              8060|\n",
      "+--------------+------------------+\n",
      "only showing top 10 rows\n",
      "\n"
     ]
    }
   ],
   "source": [
    "spark.sql(\"SELECT category_class, SUM(cart_quantity)  \\\r\n",
    "          FROM Data \\\r\n",
    "            GROUP BY category_class \\\r\n",
    "            ORDER BY SUM(cart_quantity) DESC\")\\\r\n",
    "          .show(10)"
   ]
  },
  {
   "cell_type": "code",
   "execution_count": 13,
   "metadata": {},
   "outputs": [
    {
     "name": "stdout",
     "output_type": "stream",
     "text": [
      "+--------+------------------+\n",
      "|   brand|sum(cart_quantity)|\n",
      "+--------+------------------+\n",
      "| samsung|            900469|\n",
      "|   apple|            698749|\n",
      "|  xiaomi|            364516|\n",
      "|    null|            277048|\n",
      "|  huawei|            115892|\n",
      "|cordiant|             65317|\n",
      "|    oppo|             65174|\n",
      "|      lg|             62940|\n",
      "|    sony|             44992|\n",
      "|   artel|             40400|\n",
      "+--------+------------------+\n",
      "only showing top 10 rows\n",
      "\n"
     ]
    }
   ],
   "source": [
    "spark.sql(\"SELECT brand, SUM(cart_quantity)  \\\r\n",
    "          FROM Data \\\r\n",
    "            GROUP BY brand \\\r\n",
    "            ORDER BY SUM(cart_quantity) DESC\")\\\r\n",
    "          .show(10)"
   ]
  },
  {
   "cell_type": "markdown",
   "metadata": {},
   "source": [
    "## Most purchases"
   ]
  },
  {
   "cell_type": "code",
   "execution_count": 15,
   "metadata": {},
   "outputs": [
    {
     "name": "stdout",
     "output_type": "stream",
     "text": [
      "+----------+--------------------+\n",
      "|product_id|sum(bougth_quantity)|\n",
      "+----------+--------------------+\n",
      "|   1004856|               61265|\n",
      "|   1004767|               44419|\n",
      "|   1005115|               34787|\n",
      "|   4804056|               30181|\n",
      "|   1004833|               26183|\n",
      "|   1002544|               22227|\n",
      "|   1004870|               21288|\n",
      "|   1004249|               17971|\n",
      "|   1005105|               15776|\n",
      "|   1004836|               15549|\n",
      "+----------+--------------------+\n",
      "only showing top 10 rows\n",
      "\n"
     ]
    }
   ],
   "source": [
    "spark.sql(\"SELECT product_id, SUM(bougth_quantity)  \\\r\n",
    "          FROM Data \\\r\n",
    "            GROUP BY product_id \\\r\n",
    "            ORDER BY SUM(bougth_quantity) DESC\")\\\r\n",
    "          .show(10)"
   ]
  },
  {
   "cell_type": "code",
   "execution_count": 14,
   "metadata": {},
   "outputs": [
    {
     "name": "stdout",
     "output_type": "stream",
     "text": [
      "+-------------------+--------------------+\n",
      "|        category_id|sum(bougth_quantity)|\n",
      "+-------------------+--------------------+\n",
      "|2053013555631882655|              720665|\n",
      "|2053013553559896355|              111832|\n",
      "|2053013554658804075|               71337|\n",
      "|2053013554415534427|               51723|\n",
      "|2053013563810775923|               35920|\n",
      "|2053013558920217191|               33780|\n",
      "|2053013565983425517|               30131|\n",
      "|2053013553341792533|               29651|\n",
      "|2053013563651392361|               24606|\n",
      "|2053013553375346967|               16830|\n",
      "+-------------------+--------------------+\n",
      "only showing top 10 rows\n",
      "\n"
     ]
    }
   ],
   "source": [
    "spark.sql(\"SELECT category_id, SUM(bougth_quantity)  \\\r\n",
    "          FROM Data \\\r\n",
    "            GROUP BY category_id \\\r\n",
    "            ORDER BY SUM(bougth_quantity) DESC\")\\\r\n",
    "          .show(10)"
   ]
  },
  {
   "cell_type": "code",
   "execution_count": 6,
   "metadata": {},
   "outputs": [
    {
     "name": "stdout",
     "output_type": "stream",
     "text": [
      "+--------------------------------+--------------------+\n",
      "|category_code                   |sum(bougth_quantity)|\n",
      "+--------------------------------+--------------------+\n",
      "|electronics.smartphone          |720665              |\n",
      "|null                            |407643              |\n",
      "|electronics.audio.headphone     |71337               |\n",
      "|electronics.video.tv            |51839               |\n",
      "|electronics.clocks              |41143               |\n",
      "|appliances.kitchen.washer       |35920               |\n",
      "|computers.notebook              |34023               |\n",
      "|appliances.environment.vacuum   |30571               |\n",
      "|appliances.kitchen.refrigerators|24260               |\n",
      "|apparel.shoes                   |14395               |\n",
      "+--------------------------------+--------------------+\n",
      "only showing top 10 rows\n",
      "\n"
     ]
    }
   ],
   "source": [
    "spark.sql(\"SELECT category_code, SUM(bougth_quantity)  \\\r\n",
    "          FROM Data \\\r\n",
    "            GROUP BY category_code \\\r\n",
    "            ORDER BY SUM(bougth_quantity) DESC\")\\\r\n",
    "          .show(10,truncate=False)"
   ]
  },
  {
   "cell_type": "code",
   "execution_count": 17,
   "metadata": {},
   "outputs": [
    {
     "name": "stdout",
     "output_type": "stream",
     "text": [
      "+--------------+--------------------+\n",
      "|category_class|sum(bougth_quantity)|\n",
      "+--------------+--------------------+\n",
      "|   electronics|              916667|\n",
      "|          null|              407643|\n",
      "|    appliances|              174022|\n",
      "|     computers|               62332|\n",
      "|       apparel|               22217|\n",
      "|          auto|               21339|\n",
      "|     furniture|               19843|\n",
      "|  construction|               16500|\n",
      "|          kids|               11648|\n",
      "|   accessories|                3741|\n",
      "+--------------+--------------------+\n",
      "only showing top 10 rows\n",
      "\n"
     ]
    }
   ],
   "source": [
    "spark.sql(\"SELECT category_class, SUM(bougth_quantity)  \\\r\n",
    "          FROM Data \\\r\n",
    "            GROUP BY category_class \\\r\n",
    "            ORDER BY SUM(bougth_quantity) DESC\")\\\r\n",
    "          .show(10)"
   ]
  },
  {
   "cell_type": "code",
   "execution_count": 16,
   "metadata": {},
   "outputs": [
    {
     "name": "stdout",
     "output_type": "stream",
     "text": [
      "+--------+--------------------+\n",
      "|   brand|sum(bougth_quantity)|\n",
      "+--------+--------------------+\n",
      "| samsung|              372923|\n",
      "|   apple|              308937|\n",
      "|    null|              131487|\n",
      "|  xiaomi|              124908|\n",
      "|  huawei|               47204|\n",
      "|cordiant|               27534|\n",
      "| lucente|               26137|\n",
      "|    oppo|               25971|\n",
      "|      lg|               21606|\n",
      "|    sony|               17038|\n",
      "+--------+--------------------+\n",
      "only showing top 10 rows\n",
      "\n"
     ]
    }
   ],
   "source": [
    "spark.sql(\"SELECT brand, SUM(bougth_quantity)  \\\r\n",
    "          FROM Data \\\r\n",
    "            GROUP BY brand \\\r\n",
    "            ORDER BY SUM(bougth_quantity) DESC\")\\\r\n",
    "          .show(10)"
   ]
  },
  {
   "cell_type": "markdown",
   "metadata": {},
   "source": [
    "## Most turnover"
   ]
  },
  {
   "cell_type": "code",
   "execution_count": 16,
   "metadata": {},
   "outputs": [
    {
     "name": "stdout",
     "output_type": "stream",
     "text": [
      "+----------+--------------------+\n",
      "|product_id|       sum(turnover)|\n",
      "+----------+--------------------+\n",
      "|   1005115|3.3032381669999957E7|\n",
      "|   1005105|2.1684603370000023E7|\n",
      "|   1004249|1.3545407539999992E7|\n",
      "|   1005135|1.2654328769999998E7|\n",
      "|   1004767|1.1004748490000015E7|\n",
      "|   1002544|1.0458895980000004E7|\n",
      "|   1004856|   7917932.739999985|\n",
      "|   1005116|   7161938.290000007|\n",
      "|   1002524|  6965532.8900000015|\n",
      "|   1004870|   6057424.029999999|\n",
      "+----------+--------------------+\n",
      "only showing top 10 rows\n",
      "\n"
     ]
    }
   ],
   "source": [
    "spark.sql(\"SELECT product_id, SUM(turnover)  \\\r\n",
    "          FROM Data \\\r\n",
    "            GROUP BY product_id \\\r\n",
    "            ORDER BY SUM(turnover) DESC\")\\\r\n",
    "          .show(10)"
   ]
  },
  {
   "cell_type": "code",
   "execution_count": 17,
   "metadata": {},
   "outputs": [
    {
     "name": "stdout",
     "output_type": "stream",
     "text": [
      "+-------------------+--------------------+\n",
      "|        category_id|       sum(turnover)|\n",
      "+-------------------+--------------------+\n",
      "|2053013555631882655|3.3487128497999793E8|\n",
      "|2053013554415534427|2.0837420189999986E7|\n",
      "|2053013558920217191| 1.965284848000001E7|\n",
      "|2053013563810775923|1.0460552920000006E7|\n",
      "|2053013553341792533|   9738098.979999999|\n",
      "|2053013554658804075|   9208629.480000021|\n",
      "|2053013553559896355|   6956439.380000008|\n",
      "|2053013563911439225|   6579577.310000001|\n",
      "|2053013563651392361|   5279694.420000004|\n",
      "|2053013565983425517|          4422258.17|\n",
      "+-------------------+--------------------+\n",
      "only showing top 10 rows\n",
      "\n"
     ]
    }
   ],
   "source": [
    "spark.sql(\"SELECT category_id, SUM(turnover)  \\\r\n",
    "          FROM Data \\\r\n",
    "            GROUP BY category_id \\\r\n",
    "            ORDER BY SUM(turnover) DESC\")\\\r\n",
    "          .show(10)"
   ]
  },
  {
   "cell_type": "code",
   "execution_count": 18,
   "metadata": {},
   "outputs": [
    {
     "name": "stdout",
     "output_type": "stream",
     "text": [
      "+--------------------+--------------------+\n",
      "|       category_code|       sum(turnover)|\n",
      "+--------------------+--------------------+\n",
      "|electronics.smart...|3.3487128497999793E8|\n",
      "|                null| 5.280544380999989E7|\n",
      "|electronics.video.tv|2.0880559019999992E7|\n",
      "|  computers.notebook|1.9658316960000005E7|\n",
      "|  electronics.clocks|1.1371042719999995E7|\n",
      "|appliances.kitche...|1.0460552920000006E7|\n",
      "|electronics.audio...|   9208629.480000021|\n",
      "|appliances.kitche...|   8552734.309999997|\n",
      "|appliances.enviro...|   4478737.029999998|\n",
      "|  electronics.tablet|          3131226.79|\n",
      "+--------------------+--------------------+\n",
      "only showing top 10 rows\n",
      "\n"
     ]
    }
   ],
   "source": [
    "spark.sql(\"SELECT category_code, SUM(turnover)  \\\r\n",
    "          FROM Data \\\r\n",
    "            GROUP BY category_code \\\r\n",
    "            ORDER BY SUM(turnover) DESC\")\\\r\n",
    "          .show(10)"
   ]
  },
  {
   "cell_type": "code",
   "execution_count": 19,
   "metadata": {},
   "outputs": [
    {
     "name": "stdout",
     "output_type": "stream",
     "text": [
      "+--------------+--------------------+\n",
      "|category_class|       sum(turnover)|\n",
      "+--------------+--------------------+\n",
      "|   electronics| 3.817142865699979E8|\n",
      "|          null| 5.280544380999989E7|\n",
      "|    appliances|3.2223623589999974E7|\n",
      "|     computers|2.5373205340000022E7|\n",
      "|     furniture|   4216980.010000001|\n",
      "|          auto|   2649036.469999999|\n",
      "|  construction|  2013385.7200000002|\n",
      "|       apparel|  1805962.8699999992|\n",
      "|          kids|  1401903.9300000002|\n",
      "|         sport|           718251.75|\n",
      "+--------------+--------------------+\n",
      "only showing top 10 rows\n",
      "\n"
     ]
    }
   ],
   "source": [
    "spark.sql(\"SELECT category_class, SUM(turnover)  \\\r\n",
    "          FROM Data \\\r\n",
    "            GROUP BY category_class \\\r\n",
    "            ORDER BY SUM(turnover) DESC\")\\\r\n",
    "          .show(10)"
   ]
  },
  {
   "cell_type": "code",
   "execution_count": 20,
   "metadata": {},
   "outputs": [
    {
     "name": "stdout",
     "output_type": "stream",
     "text": [
      "+-------+--------------------+\n",
      "|  brand|       sum(turnover)|\n",
      "+-------+--------------------+\n",
      "|  apple|2.3872179370000052E8|\n",
      "|samsung|1.0127741347999987E8|\n",
      "| xiaomi|       2.045389925E7|\n",
      "|   null|1.9566319819999993E7|\n",
      "| huawei|   9664104.090000004|\n",
      "|     lg|   8626906.719999999|\n",
      "|   acer|          6924026.05|\n",
      "|lucente|          6651658.94|\n",
      "|   sony|          6341082.98|\n",
      "|   oppo|   5901500.519999996|\n",
      "+-------+--------------------+\n",
      "only showing top 10 rows\n",
      "\n"
     ]
    }
   ],
   "source": [
    "spark.sql(\"SELECT brand, SUM(turnover)  \\\r\n",
    "          FROM Data \\\r\n",
    "            GROUP BY brand \\\r\n",
    "            ORDER BY SUM(turnover) DESC\")\\\r\n",
    "          .show(10)"
   ]
  }
 ],
 "metadata": {
  "interpreter": {
   "hash": "861b121e2d1108d2a812b4cd670d5d1e6cc9e72162c268cc66e4c3d1df8cdcce"
  },
  "kernelspec": {
   "display_name": "Python 3.8.10 64-bit",
   "name": "python3"
  },
  "language_info": {
   "codemirror_mode": {
    "name": "ipython",
    "version": 3
   },
   "file_extension": ".py",
   "mimetype": "text/x-python",
   "name": "python",
   "nbconvert_exporter": "python",
   "pygments_lexer": "ipython3",
   "version": "3.8.10"
  },
  "orig_nbformat": 4
 },
 "nbformat": 4,
 "nbformat_minor": 2
}