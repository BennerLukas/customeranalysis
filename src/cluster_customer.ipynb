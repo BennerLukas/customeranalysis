{
 "metadata": {
  "language_info": {
   "codemirror_mode": {
    "name": "ipython",
    "version": 3
   },
   "file_extension": ".py",
   "mimetype": "text/x-python",
   "name": "python",
   "nbconvert_exporter": "python",
   "pygments_lexer": "ipython3",
   "version": "3.8.5"
  },
  "orig_nbformat": 2,
  "kernelspec": {
   "name": "python385jvsc74a57bd0eb37d57673139a0d2c890a27235812ffbaf08dc1003675034448a84bc7080e2c",
   "display_name": "Python 3.8.5 64-bit ('base': conda)"
  }
 },
 "nbformat": 4,
 "nbformat_minor": 2,
 "cells": [
  {
   "source": [
    "# Customer Analysis - Model Customer Behavior\n"
   ],
   "cell_type": "markdown",
   "metadata": {}
  },
  {
   "source": [
    "## Import"
   ],
   "cell_type": "markdown",
   "metadata": {}
  },
  {
   "cell_type": "code",
   "execution_count": 2,
   "metadata": {},
   "outputs": [],
   "source": [
    "import os\n",
    "import pyspark\n",
    "import pandas as pd\n",
    "import pyspark.sql.functions as f\n",
    "import plotly.express as px\n",
    "import plotly.graph_objects as go"
   ]
  },
  {
   "source": [
    "## Read"
   ],
   "cell_type": "markdown",
   "metadata": {}
  },
  {
   "cell_type": "code",
   "execution_count": 3,
   "metadata": {},
   "outputs": [
    {
     "output_type": "stream",
     "name": "stdout",
     "text": [
      "+--------------------+----------+----------+-------------------+--------------------+--------+-------+---------+--------------------+\n|          event_time|event_type|product_id|        category_id|       category_code|   brand|  price|  user_id|        user_session|\n+--------------------+----------+----------+-------------------+--------------------+--------+-------+---------+--------------------+\n|2019-10-01 00:00:...|      view|  44600062|2103807459595387724|                null|shiseido|  35.79|541312140|72d76fde-8bb3-4e0...|\n|2019-10-01 00:00:...|      view|   3900821|2053013552326770905|appliances.enviro...|    aqua|   33.2|554748717|9333dfbd-b87a-470...|\n|2019-10-01 00:00:...|      view|  17200506|2053013559792632471|furniture.living_...|    null|  543.1|519107250|566511c2-e2e3-422...|\n|2019-10-01 00:00:...|      view|   1307067|2053013558920217191|  computers.notebook|  lenovo| 251.74|550050854|7c90fc70-0e80-459...|\n|2019-10-01 00:00:...|      view|   1004237|2053013555631882655|electronics.smart...|   apple|1081.98|535871217|c6bd7419-2748-4c5...|\n+--------------------+----------+----------+-------------------+--------------------+--------+-------+---------+--------------------+\nonly showing top 5 rows\n\n"
     ]
    }
   ],
   "source": [
    "spark = pyspark.sql.SparkSession.builder.appName(\"app2\").getOrCreate()\n",
    "\n",
    "sdf_201911 = spark.read.csv(\"data/2019-Nov.csv\", header=True, inferSchema=True)\n",
    "sdf_201910 = spark.read.csv(\"data/2019-Oct.csv\", header=True, inferSchema=True)\n",
    "\n",
    "sdf = sdf_201910.union(sdf_201911)\n",
    "sdf.show(5)"
   ]
  },
  {
   "source": [
    "## Preparation"
   ],
   "cell_type": "markdown",
   "metadata": {}
  },
  {
   "cell_type": "code",
   "execution_count": 4,
   "metadata": {},
   "outputs": [
    {
     "output_type": "stream",
     "name": "stdout",
     "text": [
      "root\n |-- event_time: timestamp (nullable = true)\n |-- event_type: string (nullable = true)\n |-- product_id: string (nullable = true)\n |-- category_id: string (nullable = true)\n |-- category_code: string (nullable = true)\n |-- brand: string (nullable = true)\n |-- price: double (nullable = true)\n |-- user_id: string (nullable = true)\n |-- user_session: string (nullable = true)\n |-- category_class: string (nullable = true)\n |-- category_sub_class: string (nullable = true)\n |-- category_sub_sub_class: string (nullable = true)\n |-- year: integer (nullable = true)\n |-- month: integer (nullable = true)\n |-- weekofyear: integer (nullable = true)\n |-- dayofyear: integer (nullable = true)\n |-- dayofweek: integer (nullable = true)\n |-- dayofmonth: integer (nullable = true)\n |-- hour: integer (nullable = true)\n\n"
     ]
    }
   ],
   "source": [
    "# Datatypes\n",
    "sdf = sdf.withColumn(\"event_time\", sdf[\"event_time\"].cast(pyspark.sql.types.TimestampType()))\n",
    "sdf = sdf.withColumn(\"category_id\", sdf[\"category_id\"].cast(pyspark.sql.types.StringType()))\n",
    "sdf = sdf.withColumn(\"product_id\", sdf[\"product_id\"].cast(pyspark.sql.types.StringType()))\n",
    "sdf = sdf.withColumn(\"user_id\", sdf[\"user_id\"].cast(pyspark.sql.types.StringType()))\n",
    "\n",
    "# Feature Splitting\n",
    "sdf = sdf.withColumn(\"category_class\", f.split(sdf[\"category_code\"], \"\\.\").getItem(0))\n",
    "sdf = sdf.withColumn(\"category_sub_class\", f.split(sdf[\"category_code\"], \"\\.\").getItem(1))\n",
    "sdf = sdf.withColumn(\"category_sub_sub_class\", f.split(sdf[\"category_code\"], \"\\.\").getItem(2))\n",
    "\n",
    "sdf = sdf.withColumn(\"year\", f.year(\"event_time\"))\n",
    "sdf = sdf.withColumn(\"month\", f.month(\"event_time\"))\n",
    "sdf = sdf.withColumn(\"weekofyear\", f.weekofyear(\"event_time\"))\n",
    "sdf = sdf.withColumn(\"dayofyear\", f.dayofyear(\"event_time\"))\n",
    "sdf = sdf.withColumn(\"dayofweek\", f.dayofweek(\"event_time\"))\n",
    "sdf = sdf.withColumn(\"dayofmonth\", f.dayofmonth(\"event_time\"))\n",
    "sdf = sdf.withColumn(\"hour\", f.hour(\"event_time\"))\n",
    "\n",
    "# None Handling\n",
    "# sdf = sdf.fillna(value=\"not defined\")\n",
    "\n",
    "sdf.printSchema()"
   ]
  },
  {
   "source": [
    "## Data Creation"
   ],
   "cell_type": "markdown",
   "metadata": {}
  },
  {
   "cell_type": "code",
   "execution_count": 5,
   "metadata": {},
   "outputs": [],
   "source": [
    "sdf_session = sdf.select(\"user_id\", \"user_session\", \"event_type\", \"product_id\", \"price\", \"event_time\")\n",
    "\n",
    "sdf_session = sdf_session.withColumn(\"views\", f.when(sdf_session.event_type == \"view\", 1).otherwise(0))\n",
    "sdf_session = sdf_session.withColumn(\"purchases\", f.when(sdf_session.event_type == \"purchase\", 1).otherwise(0))\n",
    "sdf_session = sdf_session.withColumn(\"carts\", f.when(sdf_session.event_type == \"cart\", 1).otherwise(0))\n",
    "\n",
    "sdf_session = sdf_session.withColumn(\"first_event\", sdf_session.event_time)\n",
    "sdf_session = sdf_session.withColumn(\"last_event\", sdf_session.event_time)"
   ]
  },
  {
   "cell_type": "code",
   "execution_count": 6,
   "metadata": {},
   "outputs": [
    {
     "output_type": "stream",
     "name": "stdout",
     "text": [
      "root\n |-- user_id: string (nullable = true)\n |-- user_session: string (nullable = true)\n |-- avg(price): double (nullable = true)\n |-- sum(views): long (nullable = true)\n |-- sum(purchases): long (nullable = true)\n |-- sum(carts): long (nullable = true)\n |-- min(event_time): timestamp (nullable = true)\n |-- max(event_time): timestamp (nullable = true)\n |-- duration: interval (nullable = true)\n |-- sum(events): long (nullable = true)\n |-- turnover: double (nullable = true)\n |-- successfull: integer (nullable = false)\n\n"
     ]
    }
   ],
   "source": [
    "sdf_session_agg = sdf_session.groupBy(\"user_id\", \"user_session\").agg(f.avg(\"price\"), f.sum(\"views\"), f.sum(\"purchases\"), f.sum(\"carts\"), f.min(\"event_time\"), f.max(\"event_time\"))\n",
    "sdf_session_agg = sdf_session_agg.withColumn(\"duration\", (sdf_session_agg[\"max(event_time)\"] - sdf_session_agg[\"min(event_time)\"]))\n",
    "sdf_session_agg = sdf_session_agg.withColumn(\"sum(events)\", (sdf_session_agg[\"sum(views)\"] + sdf_session_agg[\"sum(purchases)\"] + sdf_session_agg[\"sum(carts)\"]))\n",
    "sdf_session_agg = sdf_session_agg.withColumn(\"turnover\", f.when(sdf_session_agg[\"sum(purchases)\"] > 0, (sdf_session_agg[\"sum(purchases)\"] *  sdf_session_agg[\"avg(price)\"])).otherwise(0))\n",
    "\n",
    "sdf_session_agg = sdf_session_agg.withColumn(\"successfull\", f.when(sdf_session_agg[\"sum(purchases)\"] > 0, 1).otherwise(0))\n",
    "sdf_session_agg.printSchema()"
   ]
  },
  {
   "cell_type": "code",
   "execution_count": 7,
   "metadata": {},
   "outputs": [
    {
     "output_type": "stream",
     "name": "stdout",
     "text": [
      "root\n |-- user_id: string (nullable = true)\n |-- sum(sum(events)): long (nullable = true)\n |-- sum(sum(views)): long (nullable = true)\n |-- sum(sum(purchases)): long (nullable = true)\n |-- sum(sum(carts)): long (nullable = true)\n |-- sum(turnover): double (nullable = true)\n |-- count(user_session): long (nullable = false)\n |-- sum(successfull): long (nullable = true)\n |-- avg_turnover_per_session: double (nullable = true)\n |-- avg_events_per_session: double (nullable = true)\n\n"
     ]
    }
   ],
   "source": [
    "sdf_customer_profile = sdf_session_agg.groupBy(\"user_id\").agg(f.sum(\"sum(events)\"), f.sum(\"sum(views)\"), f.sum(\"sum(purchases)\"), f.sum(\"sum(carts)\"), f.sum(\"turnover\"), f.count(\"user_session\"), f.sum(\"successfull\"))\n",
    "\n",
    "sdf_customer_profile = sdf_customer_profile.withColumn(\"avg_turnover_per_session\", (sdf_customer_profile[\"sum(turnover)\"] / sdf_customer_profile[\"count(user_session)\"]))\n",
    "sdf_customer_profile = sdf_customer_profile.withColumn(\"avg_events_per_session\", (sdf_customer_profile[\"sum(sum(events))\"] / sdf_customer_profile[\"count(user_session)\"]))\n",
    "sdf_customer_profile.printSchema()"
   ]
  },
  {
   "cell_type": "code",
   "execution_count": 1,
   "metadata": {},
   "outputs": [
    {
     "output_type": "error",
     "ename": "NameError",
     "evalue": "name 'sdf_customer_profile' is not defined",
     "traceback": [
      "\u001b[1;31m---------------------------------------------------------------------------\u001b[0m",
      "\u001b[1;31mNameError\u001b[0m                                 Traceback (most recent call last)",
      "\u001b[1;32m<ipython-input-1-8015d1ab98cb>\u001b[0m in \u001b[0;36m<module>\u001b[1;34m\u001b[0m\n\u001b[1;32m----> 1\u001b[1;33m \u001b[0msdf_customer_profile\u001b[0m\u001b[1;33m.\u001b[0m\u001b[0mwhere\u001b[0m\u001b[1;33m(\u001b[0m\u001b[0msdf_customer_profile\u001b[0m\u001b[1;33m[\u001b[0m\u001b[1;34m\"avg_turnover_per_session\"\u001b[0m\u001b[1;33m]\u001b[0m \u001b[1;33m>\u001b[0m \u001b[1;36m0\u001b[0m\u001b[1;33m)\u001b[0m\u001b[1;33m.\u001b[0m\u001b[0mshow\u001b[0m\u001b[1;33m(\u001b[0m\u001b[1;33m)\u001b[0m\u001b[1;33m\u001b[0m\u001b[1;33m\u001b[0m\u001b[0m\n\u001b[0m",
      "\u001b[1;31mNameError\u001b[0m: name 'sdf_customer_profile' is not defined"
     ]
    }
   ],
   "source": [
    "sdf_customer_profile.where(sdf_customer_profile[\"avg_turnover_per_session\"] > 0).show()"
   ]
  },
  {
   "source": [
    "## Data Split"
   ],
   "cell_type": "markdown",
   "metadata": {}
  },
  {
   "cell_type": "code",
   "execution_count": null,
   "metadata": {},
   "outputs": [],
   "source": []
  },
  {
   "cell_type": "code",
   "execution_count": null,
   "metadata": {},
   "outputs": [],
   "source": []
  },
  {
   "source": [
    "## Modelling"
   ],
   "cell_type": "markdown",
   "metadata": {}
  },
  {
   "source": [
    "### KNN"
   ],
   "cell_type": "markdown",
   "metadata": {}
  },
  {
   "cell_type": "code",
   "execution_count": 4,
   "metadata": {},
   "outputs": [],
   "source": [
    "# model"
   ]
  },
  {
   "cell_type": "code",
   "execution_count": 5,
   "metadata": {},
   "outputs": [],
   "source": [
    "# train"
   ]
  },
  {
   "cell_type": "code",
   "execution_count": 6,
   "metadata": {},
   "outputs": [],
   "source": [
    "# eval"
   ]
  },
  {
   "source": [
    "### Random Forrest"
   ],
   "cell_type": "markdown",
   "metadata": {}
  },
  {
   "cell_type": "code",
   "execution_count": null,
   "metadata": {},
   "outputs": [],
   "source": []
  },
  {
   "source": [
    "### K-Means"
   ],
   "cell_type": "markdown",
   "metadata": {}
  },
  {
   "cell_type": "code",
   "execution_count": null,
   "metadata": {},
   "outputs": [],
   "source": []
  },
  {
   "source": [
    "### DBSCAN"
   ],
   "cell_type": "markdown",
   "metadata": {}
  },
  {
   "cell_type": "code",
   "execution_count": null,
   "metadata": {},
   "outputs": [],
   "source": []
  },
  {
   "source": [
    "## General Comparison"
   ],
   "cell_type": "markdown",
   "metadata": {}
  },
  {
   "source": [
    "## Hyperparamter & extended Stuff"
   ],
   "cell_type": "markdown",
   "metadata": {}
  },
  {
   "cell_type": "code",
   "execution_count": null,
   "metadata": {},
   "outputs": [],
   "source": []
  }
 ]
}