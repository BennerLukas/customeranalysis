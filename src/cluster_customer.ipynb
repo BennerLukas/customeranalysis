{
 "metadata": {
  "language_info": {
   "codemirror_mode": {
    "name": "ipython",
    "version": 3
   },
   "file_extension": ".py",
   "mimetype": "text/x-python",
   "name": "python",
   "nbconvert_exporter": "python",
   "pygments_lexer": "ipython3",
   "version": "3.8.5"
  },
  "orig_nbformat": 2,
  "kernelspec": {
   "name": "python385jvsc74a57bd0eb37d57673139a0d2c890a27235812ffbaf08dc1003675034448a84bc7080e2c",
   "display_name": "Python 3.8.5 64-bit ('base': conda)"
  }
 },
 "nbformat": 4,
 "nbformat_minor": 2,
 "cells": [
  {
   "source": [
    "# Customer Analysis - Model Customer Behavior\n"
   ],
   "cell_type": "markdown",
   "metadata": {}
  },
  {
   "source": [
    "## Import"
   ],
   "cell_type": "markdown",
   "metadata": {}
  },
  {
   "cell_type": "code",
   "execution_count": 1,
   "metadata": {},
   "outputs": [],
   "source": [
    "import os\n",
    "import pyspark\n",
    "import pandas as pd\n",
    "import pyspark.sql.functions as f\n",
    "import pyspark.sql.types as T\n",
    "import plotly.express as px\n",
    "import plotly.graph_objects as go\n",
    "\n",
    "from pyspark.ml.clustering import KMeans\n"
   ]
  },
  {
   "source": [
    "## Read"
   ],
   "cell_type": "markdown",
   "metadata": {}
  },
  {
   "cell_type": "code",
   "execution_count": 2,
   "metadata": {},
   "outputs": [],
   "source": [
    "spark = pyspark.sql.SparkSession \\\n",
    "    .builder \\\n",
    "    .master(\"local\") \\\n",
    "    .appName(\"app_great\") \\\n",
    "    .config(\"spark.executor.memory\", f\"16g\") \\\n",
    "    .config(\"spark.driver.memory\", f\"16g\") \\\n",
    "    .config(\"spark.memory.offHeap.enabled\", True) \\\n",
    "    .config(\"spark.memory.offHeap.size\", f\"16g\") \\\n",
    "    .config(\"spark.sql.debug.maxToStringFields\", f\"16\") \\\n",
    "    .getOrCreate()\n",
    "sc = spark.sparkContext"
   ]
  },
  {
   "cell_type": "code",
   "execution_count": 3,
   "metadata": {},
   "outputs": [],
   "source": [
    "# # Testing / Debug\n",
    "\n",
    "# sdf = spark.read.csv(\"data/test_data.csv\", header=True, inferSchema=True)\n"
   ]
  },
  {
   "cell_type": "code",
   "execution_count": 4,
   "metadata": {
    "tags": []
   },
   "outputs": [],
   "source": [
    "\n",
    "sdf_201911 = spark.read.csv(\"data/2019-Nov.csv\", header=True, inferSchema=True)\n",
    "sdf_201910 = spark.read.csv(\"data/2019-Oct.csv\", header=True, inferSchema=True)\n",
    "\n",
    "sdf = sdf_201910.union(sdf_201911)\n",
    "sdf = sdf_201911\n",
    "\n",
    "# sdf.show(5)"
   ]
  },
  {
   "source": [
    "## Preparation"
   ],
   "cell_type": "markdown",
   "metadata": {}
  },
  {
   "cell_type": "code",
   "execution_count": 5,
   "metadata": {},
   "outputs": [
    {
     "output_type": "stream",
     "name": "stdout",
     "text": [
      "root\n |-- event_time: timestamp (nullable = true)\n |-- event_type: string (nullable = true)\n |-- product_id: string (nullable = true)\n |-- category_id: string (nullable = true)\n |-- category_code: string (nullable = true)\n |-- brand: string (nullable = true)\n |-- price: double (nullable = true)\n |-- user_id: string (nullable = true)\n |-- user_session: string (nullable = true)\n |-- category_class: string (nullable = true)\n |-- category_sub_class: string (nullable = true)\n |-- category_sub_sub_class: string (nullable = true)\n |-- year: integer (nullable = true)\n |-- month: integer (nullable = true)\n |-- weekofyear: integer (nullable = true)\n |-- dayofyear: integer (nullable = true)\n |-- dayofweek: integer (nullable = true)\n |-- dayofmonth: integer (nullable = true)\n |-- hour: integer (nullable = true)\n\n"
     ]
    }
   ],
   "source": [
    "# Datatypes\n",
    "sdf = sdf.withColumn(\"event_time\", sdf[\"event_time\"].cast(pyspark.sql.types.TimestampType()))\n",
    "sdf = sdf.withColumn(\"category_id\", sdf[\"category_id\"].cast(pyspark.sql.types.StringType()))\n",
    "sdf = sdf.withColumn(\"product_id\", sdf[\"product_id\"].cast(pyspark.sql.types.StringType()))\n",
    "sdf = sdf.withColumn(\"user_id\", sdf[\"user_id\"].cast(pyspark.sql.types.StringType()))\n",
    "\n",
    "# Feature Splitting\n",
    "sdf = sdf.withColumn(\"category_class\", f.split(sdf[\"category_code\"], \"\\.\").getItem(0))\n",
    "sdf = sdf.withColumn(\"category_sub_class\", f.split(sdf[\"category_code\"], \"\\.\").getItem(1))\n",
    "sdf = sdf.withColumn(\"category_sub_sub_class\", f.split(sdf[\"category_code\"], \"\\.\").getItem(2))\n",
    "\n",
    "sdf = sdf.withColumn(\"year\", f.year(\"event_time\"))\n",
    "sdf = sdf.withColumn(\"month\", f.month(\"event_time\"))\n",
    "sdf = sdf.withColumn(\"weekofyear\", f.weekofyear(\"event_time\"))\n",
    "sdf = sdf.withColumn(\"dayofyear\", f.dayofyear(\"event_time\"))\n",
    "sdf = sdf.withColumn(\"dayofweek\", f.dayofweek(\"event_time\"))\n",
    "sdf = sdf.withColumn(\"dayofmonth\", f.dayofmonth(\"event_time\"))\n",
    "sdf = sdf.withColumn(\"hour\", f.hour(\"event_time\"))\n",
    "\n",
    "# None Handling\n",
    "# sdf = sdf.fillna(value=\"not defined\")\n",
    "\n",
    "sdf.printSchema()"
   ]
  },
  {
   "source": [
    "## Data Creation"
   ],
   "cell_type": "markdown",
   "metadata": {}
  },
  {
   "cell_type": "code",
   "execution_count": 6,
   "metadata": {},
   "outputs": [],
   "source": [
    "sdf_session = sdf.select(\"user_id\", \"user_session\", \"event_type\", \"product_id\", \"price\", \"event_time\")\n",
    "\n",
    "sdf_session = sdf_session.withColumn(\"bought_product\", f.when(sdf_session.event_type == \"purchase\", sdf_session[\"product_id\"]).otherwise(None))\n",
    "\n",
    "sdf_session = sdf_session.withColumn(\"views\", f.when(sdf_session.event_type == \"view\", 1).otherwise(0))\n",
    "sdf_session = sdf_session.withColumn(\"purchases\", f.when(sdf_session.event_type == \"purchase\", 1).otherwise(0))\n",
    "sdf_session = sdf_session.withColumn(\"carts\", f.when(sdf_session.event_type == \"cart\", 1).otherwise(0))\n",
    "\n",
    "sdf_session = sdf_session.withColumn(\"first_event\", sdf_session.event_time)\n",
    "sdf_session = sdf_session.withColumn(\"last_event\", sdf_session.event_time)"
   ]
  },
  {
   "cell_type": "code",
   "execution_count": 7,
   "metadata": {},
   "outputs": [
    {
     "output_type": "stream",
     "name": "stdout",
     "text": [
      "+---------+--------------------+----------+----------+------+-------------------+--------------+-----+---------+-----+-------------------+-------------------+\n|  user_id|        user_session|event_type|product_id| price|         event_time|bought_product|views|purchases|carts|        first_event|         last_event|\n+---------+--------------------+----------+----------+------+-------------------+--------------+-----+---------+-----+-------------------+-------------------+\n|520088904|4d3b30da-a5e4-49d...|      view|   1003461|489.07|2019-11-01 01:00:00|          null|    1|        0|    0|2019-11-01 01:00:00|2019-11-01 01:00:00|\n|530496790|8e5f4f83-366c-4f7...|      view|   5000088|293.65|2019-11-01 01:00:00|          null|    1|        0|    0|2019-11-01 01:00:00|2019-11-01 01:00:00|\n|561587266|755422e7-9040-477...|      view|  17302664| 28.31|2019-11-01 01:00:01|          null|    1|        0|    0|2019-11-01 01:00:01|2019-11-01 01:00:01|\n|518085591|3bfb58cd-7892-48c...|      view|   3601530|712.87|2019-11-01 01:00:01|          null|    1|        0|    0|2019-11-01 01:00:01|2019-11-01 01:00:01|\n|558856683|313628f1-68b8-460...|      view|   1004775|183.27|2019-11-01 01:00:01|          null|    1|        0|    0|2019-11-01 01:00:01|2019-11-01 01:00:01|\n|520772685|816a59f3-f5ae-4cc...|      view|   1306894|360.09|2019-11-01 01:00:01|          null|    1|        0|    0|2019-11-01 01:00:01|2019-11-01 01:00:01|\n|514028527|df8184cc-3694-454...|      view|   1306421|514.56|2019-11-01 01:00:01|          null|    1|        0|    0|2019-11-01 01:00:01|2019-11-01 01:00:01|\n|518574284|5e6ef132-4d7c-473...|      view|  15900065| 30.86|2019-11-01 01:00:02|          null|    1|        0|    0|2019-11-01 01:00:02|2019-11-01 01:00:02|\n|532364121|0a899268-31eb-46d...|      view|  12708937| 72.72|2019-11-01 01:00:02|          null|    1|        0|    0|2019-11-01 01:00:02|2019-11-01 01:00:02|\n|532647354|d2d3d2c6-631d-489...|      view|   1004258|732.07|2019-11-01 01:00:02|          null|    1|        0|    0|2019-11-01 01:00:02|2019-11-01 01:00:02|\n|518780843|aa806835-b14c-45a...|      view|  17200570|437.33|2019-11-01 01:00:03|          null|    1|        0|    0|2019-11-01 01:00:03|2019-11-01 01:00:03|\n|518427361|c89b0d96-247f-404...|      view|   2701517|155.11|2019-11-01 01:00:03|          null|    1|        0|    0|2019-11-01 01:00:03|2019-11-01 01:00:03|\n|566255262|173d7b72-1db7-463...|      view|  16700260| 31.64|2019-11-01 01:00:03|          null|    1|        0|    0|2019-11-01 01:00:03|2019-11-01 01:00:03|\n|512416379|4dfe2c67-e537-4dc...|      view|  34600011| 20.54|2019-11-01 01:00:04|          null|    1|        0|    0|2019-11-01 01:00:04|2019-11-01 01:00:04|\n|526595547|aab33a9a-29c3-4d5...|      view|   4600658|411.83|2019-11-01 01:00:05|          null|    1|        0|    0|2019-11-01 01:00:05|2019-11-01 01:00:05|\n|512651494|f603c815-f51a-46f...|      view|  24900193|  1.09|2019-11-01 01:00:06|          null|    1|        0|    0|2019-11-01 01:00:06|2019-11-01 01:00:06|\n|551061950|3f6112f1-5695-4e8...|      view|  27400066|  8.55|2019-11-01 01:00:07|          null|    1|        0|    0|2019-11-01 01:00:07|2019-11-01 01:00:07|\n|520037415|f54fa96a-f3f2-43a...|      view|   5100503| 22.68|2019-11-01 01:00:07|          null|    1|        0|    0|2019-11-01 01:00:07|2019-11-01 01:00:07|\n|566265908|52c2c76c-b79e-479...|      view|   1004566|164.84|2019-11-01 01:00:07|          null|    1|        0|    0|2019-11-01 01:00:07|2019-11-01 01:00:07|\n|514028527|df8184cc-3694-454...|      view|   1307115|411.59|2019-11-01 01:00:08|          null|    1|        0|    0|2019-11-01 01:00:08|2019-11-01 01:00:08|\n+---------+--------------------+----------+----------+------+-------------------+--------------+-----+---------+-----+-------------------+-------------------+\nonly showing top 20 rows\n\n"
     ]
    }
   ],
   "source": [
    "sdf_session.show()"
   ]
  },
  {
   "cell_type": "code",
   "execution_count": 8,
   "metadata": {},
   "outputs": [
    {
     "output_type": "stream",
     "name": "stdout",
     "text": [
      "root\n |-- user_id: string (nullable = true)\n |-- user_session: string (nullable = true)\n |-- avg(price): double (nullable = true)\n |-- sum(views): long (nullable = true)\n |-- sum(purchases): long (nullable = true)\n |-- sum(carts): long (nullable = true)\n |-- min(event_time): timestamp (nullable = true)\n |-- max(event_time): timestamp (nullable = true)\n |-- collect_list(bought_product): array (nullable = false)\n |    |-- element: string (containsNull = false)\n |-- duration: interval (nullable = true)\n |-- sum(events): long (nullable = true)\n |-- turnover: double (nullable = true)\n |-- successfull: integer (nullable = false)\n\n"
     ]
    }
   ],
   "source": [
    "sdf_session_agg = sdf_session.groupBy(\"user_id\", \"user_session\").agg(f.avg(\"price\"), f.sum(\"views\"), f.sum(\"purchases\"), f.sum(\"carts\"), f.min(\"event_time\"), f.max(\"event_time\"), f.collect_list(\"bought_product\"))\n",
    "sdf_session_agg = sdf_session_agg.withColumn(\"duration\", (sdf_session_agg[\"max(event_time)\"] - sdf_session_agg[\"min(event_time)\"]))\n",
    "sdf_session_agg = sdf_session_agg.withColumn(\"sum(events)\", (sdf_session_agg[\"sum(views)\"] + sdf_session_agg[\"sum(purchases)\"] + sdf_session_agg[\"sum(carts)\"]))\n",
    "sdf_session_agg = sdf_session_agg.withColumn(\"turnover\", f.when(sdf_session_agg[\"sum(purchases)\"] > 0, (sdf_session_agg[\"sum(purchases)\"] *  sdf_session_agg[\"avg(price)\"])).otherwise(0))\n",
    "\n",
    "sdf_session_agg = sdf_session_agg.withColumn(\"successfull\", f.when(sdf_session_agg[\"sum(purchases)\"] > 0, 1).otherwise(0))\n",
    "sdf_session_agg.printSchema()"
   ]
  },
  {
   "cell_type": "code",
   "execution_count": 9,
   "metadata": {},
   "outputs": [],
   "source": [
    "# sdf_session_agg.show()"
   ]
  },
  {
   "cell_type": "code",
   "execution_count": 10,
   "metadata": {},
   "outputs": [
    {
     "output_type": "stream",
     "name": "stdout",
     "text": [
      "+---------+--------------------+------------------+----------+--------------+----------+-------------------+-------------------+----------------------------+--------------------+-----------+------------------+-----------+\n|  user_id|        user_session|        avg(price)|sum(views)|sum(purchases)|sum(carts)|    min(event_time)|    max(event_time)|collect_list(bought_product)|            duration|sum(events)|          turnover|successfull|\n+---------+--------------------+------------------+----------+--------------+----------+-------------------+-------------------+----------------------------+--------------------+-----------+------------------+-----------+\n|481246452|f09b7081-1537-483...|             63.39|         2|             1|         1|2019-11-13 05:09:54|2019-11-13 05:19:25|                  [25900023]|9 minutes 31 seconds|          4|             63.39|          1|\n|509180654|9d482756-c80d-4e1...| 364.8894736842106|        16|             1|         2|2019-11-25 06:20:27|2019-11-25 06:38:56|                   [3601278]|18 minutes 29 sec...|         19| 364.8894736842106|          1|\n|512372546|93226666-a922-479...| 82.93187499999999|        14|             1|         1|2019-11-17 05:53:34|2019-11-17 06:03:17|                  [28401131]|9 minutes 43 seconds|         16| 82.93187499999999|          1|\n|512372774|315dca77-b821-4f4...| 203.0300000000001|         2|             1|        18|2019-11-13 13:09:59|2019-11-13 13:11:17|                   [1005160]|1 minutes 18 seconds|         21| 203.0300000000001|          1|\n|512373343|8f9f52ee-5e75-408...|413.28857142857134|         5|             1|         1|2019-11-09 19:04:58|2019-11-09 19:07:47|                   [3601405]|2 minutes 49 seconds|          7|413.28857142857134|          1|\n|512373931|52776792-f43e-441...|110.43000000000002|         2|             1|         2|2019-11-17 10:23:23|2019-11-17 10:27:53|                  [26401406]|4 minutes 30 seconds|          5|110.43000000000002|          1|\n|512379643|66b975ae-a483-468...|  84.7138888888889|        17|             1|         0|2019-11-18 06:39:29|2019-11-18 06:46:48|                   [3700338]|7 minutes 19 seconds|         18|  84.7138888888889|          1|\n|512381291|34b974ef-d57e-44e...|128.42000000000002|         5|             2|         3|2019-11-16 15:02:47|2019-11-16 15:29:05|          [4803976, 4803976]|26 minutes 18 sec...|         10|256.84000000000003|          1|\n|512385855|f8ac4f43-b078-416...|233.75956521739124|        19|             2|         2|2019-11-17 15:54:34|2019-11-17 16:17:58|          [2702530, 1004833]|23 minutes 24 sec...|         23| 467.5191304347825|          1|\n|512386086|49af011c-08fd-411...| 682.6963636363636|         7|             2|         2|2019-11-22 04:36:15|2019-11-22 04:45:06|          [1005115, 1801555]|8 minutes 51 seconds|         11|1365.3927272727271|          1|\n|512386086|8ea20686-dd9a-476...|            146.26|         1|             1|         1|2019-11-11 03:16:21|2019-11-11 03:17:04|                   [3200157]|          43 seconds|          3|            146.26|          1|\n|512386086|be40d186-0028-45a...|           764.894|         2|             1|         2|2019-11-29 12:53:05|2019-11-29 12:56:32|                   [4201541]|3 minutes 27 seconds|          5|           764.894|          1|\n|512392370|26fa7132-1e1b-431...|102.34300000000003|         8|             1|         1|2019-11-10 13:52:44|2019-11-10 14:05:13|                  [13500041]|12 minutes 29 sec...|         10|102.34300000000003|          1|\n|512400386|bfbf489a-bca8-44f...|61.251428571428555|         6|             1|         0|2019-11-03 16:03:10|2019-11-03 16:13:07|                  [44000003]|9 minutes 57 seconds|          7|61.251428571428555|          1|\n|512406213|88ab5192-2861-44b...|360.09700000000004|         8|             1|         1|2019-11-27 11:16:19|2019-11-27 11:21:46|                   [1307582]|5 minutes 27 seconds|         10|360.09700000000004|          1|\n|512408222|ff253708-e3b4-486...|             40.93|         2|             1|         0|2019-11-04 11:47:56|2019-11-04 11:48:51|                  [12702944]|          55 seconds|          3|             40.93|          1|\n|512410950|be0109ae-4c0e-4c5...|            183.53|         3|             1|         1|2019-11-16 16:06:07|2019-11-16 16:12:17|                  [26200475]|6 minutes 10 seconds|          5|            183.53|          1|\n|512412385|bb7af426-9771-4e3...| 893.8108333333336|         8|             2|         2|2019-11-08 08:59:42|2019-11-08 09:03:35|          [1005115, 1004249]|3 minutes 53 seconds|         12|1787.6216666666671|          1|\n|512413617|8149339a-38a4-4a4...| 604.5655555555554|        34|             1|         1|2019-11-17 12:27:57|2019-11-17 13:06:53|                   [5100852]|38 minutes 56 sec...|         36| 604.5655555555554|          1|\n|512414222|6f63d681-efe8-452...| 38.39714285714285|         4|             1|         2|2019-11-02 10:04:04|2019-11-02 10:06:28|                  [25800003]|2 minutes 24 seconds|          7| 38.39714285714285|          1|\n+---------+--------------------+------------------+----------+--------------+----------+-------------------+-------------------+----------------------------+--------------------+-----------+------------------+-----------+\nonly showing top 20 rows\n\n"
     ]
    }
   ],
   "source": [
    "sdf_session_agg.where(sdf_session_agg[\"turnover\"] > 0).show()"
   ]
  },
  {
   "cell_type": "code",
   "execution_count": 11,
   "metadata": {},
   "outputs": [
    {
     "output_type": "stream",
     "name": "stdout",
     "text": [
      "root\n |-- user_id: string (nullable = true)\n |-- sum_events: long (nullable = true)\n |-- sum_views: long (nullable = true)\n |-- sum_purchases: long (nullable = true)\n |-- sum_carts: long (nullable = true)\n |-- sum_turnover: double (nullable = true)\n |-- count_session: long (nullable = false)\n |-- sum_successfull: long (nullable = true)\n |-- bought_product: array (nullable = false)\n |    |-- element: array (containsNull = false)\n |    |    |-- element: string (containsNull = false)\n |-- avg_turnover_per_session: double (nullable = true)\n |-- avg_events_per_session: double (nullable = true)\n\n"
     ]
    }
   ],
   "source": [
    "sdf_customer_profile = sdf_session_agg.groupBy(\"user_id\").agg(f.sum(\"sum(events)\").alias(\"sum_events\"), f.sum(\"sum(views)\").alias(\"sum_views\"), f.sum(\"sum(purchases)\").alias(\"sum_purchases\"), f.sum(\"sum(carts)\").alias(\"sum_carts\"), f.sum(\"turnover\").alias(\"sum_turnover\"), f.count(\"user_session\").alias(\"count_session\"), f.sum(\"successfull\").alias(\"sum_successfull\"), f.collect_list(\"collect_list(bought_product)\").alias(\"bought_product\"))\n",
    "\n",
    "sdf_customer_profile = sdf_customer_profile.withColumn(\"avg_turnover_per_session\", (sdf_customer_profile[\"sum_turnover\"] / sdf_customer_profile[\"count_session\"]))\n",
    "sdf_customer_profile = sdf_customer_profile.withColumn(\"avg_events_per_session\", (sdf_customer_profile[\"sum_events\"] / sdf_customer_profile[\"count_session\"]))\n",
    "\n",
    "\n",
    "sdf_customer_profile.printSchema()"
   ]
  },
  {
   "cell_type": "code",
   "execution_count": 12,
   "metadata": {},
   "outputs": [
    {
     "output_type": "stream",
     "name": "stdout",
     "text": [
      "+---------+----------+---------+-------------+---------+------------------+-------------+---------------+--------------------+------------------------+----------------------+\n|  user_id|sum_events|sum_views|sum_purchases|sum_carts|      sum_turnover|count_session|sum_successfull|      bought_product|avg_turnover_per_session|avg_events_per_session|\n+---------+----------+---------+-------------+---------+------------------+-------------+---------------+--------------------+------------------------+----------------------+\n|423846383|        15|       12|            1|        2|             24.45|            3|              1| [[5701246], [], []]|                    8.15|                   5.0|\n|468103953|        25|       22|            1|        2| 169.6809090909091|            2|              1|     [[1004166], []]|       84.84045454545455|                  12.5|\n|480046242|        25|       22|            1|        2| 138.7111111111111|            4|              1|[[], [], [1330055...|       34.67777777777778|                  6.25|\n|509180654|        33|       28|            2|        3| 823.7161403508774|            4|              2|[[], [], [1801968...|      205.92903508771934|                  8.25|\n|512369688|        94|       93|            1|        0| 99.86136363636365|           20|              1|[[], [], [], [], ...|       4.993068181818183|                   4.7|\n|512373616|        25|       15|            5|        5| 940.8272307692308|            4|              2|[[2700752, 250151...|       235.2068076923077|                  6.25|\n|512385518|        25|       23|            1|        1| 278.9362500000001|            2|              1|     [[], [1307236]]|      139.46812500000004|                  12.5|\n|512386977|        64|       57|            1|        6| 25.71444444444444|            9|              1|[[], [], [], [], ...|        2.85716049382716|     7.111111111111111|\n|512388760|       182|      175|            3|        4| 557.0547142857142|           31|              3|[[], [], [], [], ...|      17.969506912442395|     5.870967741935484|\n|512389344|        30|       17|            7|        6| 6803.625238095239|            6|              5|[[1005186], [1005...|      1133.9375396825399|                   5.0|\n|512394562|        44|       37|            3|        4|318.44124999999997|           13|              3|[[1004858], [], [...|      24.495480769230767|    3.3846153846153846|\n|512395692|         8|        6|            2|        0|103.77666666666667|            2|              2|[[5600355], [4804...|      51.888333333333335|                   4.0|\n|512397473|         4|        2|            1|        1|            510.18|            1|              1|        [[26300084]]|                  510.18|                   4.0|\n|512412345|        55|       49|            2|        4| 23.84693779904306|            9|              2|[[], [5301368], [...|       2.649659755449229|     6.111111111111111|\n|512414883|       141|      128|            1|       12| 83.54916666666668|           27|              1|[[], [], [], [], ...|       3.094413580246914|     5.222222222222222|\n|512420136|        77|       54|            6|       17|225.47403361344533|            7|              2|[[], [12707153, 1...|       32.21057623049219|                  11.0|\n|512420187|         4|        2|            1|        1|            224.46|            1|              1|        [[26400273]]|                  224.46|                   4.0|\n|512420588|         8|        6|            1|        1|            160.11|            4|              1|[[], [], [], [480...|                 40.0275|                   2.0|\n|512429276|       442|      413|            5|       24| 1352.725155570425|           50|              2|[[], [], [], [], ...|      27.054503111408497|                  8.84|\n|512436169|        33|       30|            1|        2|244.15588235294115|            9|              1|[[], [], [], [], ...|      27.128431372549016|    3.6666666666666665|\n+---------+----------+---------+-------------+---------+------------------+-------------+---------------+--------------------+------------------------+----------------------+\nonly showing top 20 rows\n\n"
     ]
    }
   ],
   "source": [
    "sdf_customer_profile.where(sdf_customer_profile[\"avg_turnover_per_session\"] > 0).show()"
   ]
  },
  {
   "source": [
    "## Data Split"
   ],
   "cell_type": "markdown",
   "metadata": {}
  },
  {
   "cell_type": "code",
   "execution_count": 17,
   "metadata": {},
   "outputs": [],
   "source": [
    "(trainingData, testData) = sdf_customer_profile.where(sdf_customer_profile[\"avg_turnover_per_session\"] > 0).randomSplit([0.7, 0.3], seed=123)"
   ]
  },
  {
   "cell_type": "code",
   "execution_count": 18,
   "metadata": {},
   "outputs": [],
   "source": [
    "df_train = trainingData.toPandas()\n"
   ]
  },
  {
   "cell_type": "code",
   "execution_count": 32,
   "metadata": {},
   "outputs": [],
   "source": [
    "df_test = testData.toPandas()\n"
   ]
  },
  {
   "source": [
    "## Modelling"
   ],
   "cell_type": "markdown",
   "metadata": {}
  },
  {
   "source": [
    "Task:\n",
    "Cluster (unsupervised) the customer in groups:\n",
    "\n",
    "- high \n",
    "- medium\n",
    "- low\n",
    "- NULL with potential\n",
    "- NULL without potential\n",
    "\n",
    "\n",
    "Target Feature -> Turnover"
   ],
   "cell_type": "markdown",
   "metadata": {}
  },
  {
   "source": [
    "Next Steps: Find similiarites inside these customer groups:\n",
    "\n",
    "- Buys same products\n",
    "- similar behavior -> same marketing"
   ],
   "cell_type": "markdown",
   "metadata": {}
  },
  {
   "source": [
    "### K-Means"
   ],
   "cell_type": "markdown",
   "metadata": {}
  },
  {
   "cell_type": "code",
   "execution_count": 23,
   "metadata": {},
   "outputs": [],
   "source": [
    "from sklearn.cluster import KMeans"
   ]
  },
  {
   "cell_type": "code",
   "execution_count": 21,
   "metadata": {},
   "outputs": [],
   "source": [
    "df_train.to_csv(\"customer_profile.csv\")"
   ]
  },
  {
   "cell_type": "code",
   "execution_count": 22,
   "metadata": {},
   "outputs": [
    {
     "output_type": "execute_result",
     "data": {
      "text/plain": [
       "     user_id  sum_events  sum_views  sum_purchases  sum_carts  sum_turnover  \\\n",
       "0  423846383          15         12              1          2     24.450000   \n",
       "1  468103953          25         22              1          2    169.680909   \n",
       "2  509180654          33         28              2          3    823.716140   \n",
       "3  512369688          94         93              1          0     99.861364   \n",
       "4  512373616          25         15              5          5    940.827231   \n",
       "\n",
       "   count_session  sum_successfull  \\\n",
       "0              3                1   \n",
       "1              2                1   \n",
       "2              4                2   \n",
       "3             20                1   \n",
       "4              4                2   \n",
       "\n",
       "                                      bought_product  \\\n",
       "0                                [[5701246], [], []]   \n",
       "1                                    [[1004166], []]   \n",
       "2                     [[], [], [1801968], [3601278]]   \n",
       "3  [[], [], [], [], [], [], [38900028], [], [], [...   \n",
       "4  [[2700752, 2501514, 4502254], [], [], [1000038...   \n",
       "\n",
       "   avg_turnover_per_session  avg_events_per_session  \n",
       "0                  8.150000                    5.00  \n",
       "1                 84.840455                   12.50  \n",
       "2                205.929035                    8.25  \n",
       "3                  4.993068                    4.70  \n",
       "4                235.206808                    6.25  "
      ],
      "text/html": "<div>\n<style scoped>\n    .dataframe tbody tr th:only-of-type {\n        vertical-align: middle;\n    }\n\n    .dataframe tbody tr th {\n        vertical-align: top;\n    }\n\n    .dataframe thead th {\n        text-align: right;\n    }\n</style>\n<table border=\"1\" class=\"dataframe\">\n  <thead>\n    <tr style=\"text-align: right;\">\n      <th></th>\n      <th>user_id</th>\n      <th>sum_events</th>\n      <th>sum_views</th>\n      <th>sum_purchases</th>\n      <th>sum_carts</th>\n      <th>sum_turnover</th>\n      <th>count_session</th>\n      <th>sum_successfull</th>\n      <th>bought_product</th>\n      <th>avg_turnover_per_session</th>\n      <th>avg_events_per_session</th>\n    </tr>\n  </thead>\n  <tbody>\n    <tr>\n      <th>0</th>\n      <td>423846383</td>\n      <td>15</td>\n      <td>12</td>\n      <td>1</td>\n      <td>2</td>\n      <td>24.450000</td>\n      <td>3</td>\n      <td>1</td>\n      <td>[[5701246], [], []]</td>\n      <td>8.150000</td>\n      <td>5.00</td>\n    </tr>\n    <tr>\n      <th>1</th>\n      <td>468103953</td>\n      <td>25</td>\n      <td>22</td>\n      <td>1</td>\n      <td>2</td>\n      <td>169.680909</td>\n      <td>2</td>\n      <td>1</td>\n      <td>[[1004166], []]</td>\n      <td>84.840455</td>\n      <td>12.50</td>\n    </tr>\n    <tr>\n      <th>2</th>\n      <td>509180654</td>\n      <td>33</td>\n      <td>28</td>\n      <td>2</td>\n      <td>3</td>\n      <td>823.716140</td>\n      <td>4</td>\n      <td>2</td>\n      <td>[[], [], [1801968], [3601278]]</td>\n      <td>205.929035</td>\n      <td>8.25</td>\n    </tr>\n    <tr>\n      <th>3</th>\n      <td>512369688</td>\n      <td>94</td>\n      <td>93</td>\n      <td>1</td>\n      <td>0</td>\n      <td>99.861364</td>\n      <td>20</td>\n      <td>1</td>\n      <td>[[], [], [], [], [], [], [38900028], [], [], [...</td>\n      <td>4.993068</td>\n      <td>4.70</td>\n    </tr>\n    <tr>\n      <th>4</th>\n      <td>512373616</td>\n      <td>25</td>\n      <td>15</td>\n      <td>5</td>\n      <td>5</td>\n      <td>940.827231</td>\n      <td>4</td>\n      <td>2</td>\n      <td>[[2700752, 2501514, 4502254], [], [], [1000038...</td>\n      <td>235.206808</td>\n      <td>6.25</td>\n    </tr>\n  </tbody>\n</table>\n</div>"
     },
     "metadata": {},
     "execution_count": 22
    }
   ],
   "source": [
    "# Only Customer with Turnover!\n",
    "df_train.head()"
   ]
  },
  {
   "cell_type": "code",
   "execution_count": 30,
   "metadata": {},
   "outputs": [],
   "source": [
    "X = df_train[[\"sum_events\", \"sum_views\", \"sum_purchases\", \"sum_carts\", \"sum_turnover\", \"count_session\", \"sum_successfull\"]]"
   ]
  },
  {
   "cell_type": "code",
   "execution_count": 24,
   "metadata": {},
   "outputs": [],
   "source": [
    "# model\n",
    "kmeans_model = KMeans(n_clusters=6, random_state=123)"
   ]
  },
  {
   "cell_type": "code",
   "execution_count": 31,
   "metadata": {},
   "outputs": [
    {
     "output_type": "execute_result",
     "data": {
      "text/plain": [
       "KMeans(n_clusters=6, random_state=123)"
      ]
     },
     "metadata": {},
     "execution_count": 31
    }
   ],
   "source": [
    "# train\n",
    "kmeans_model.fit(X)"
   ]
  },
  {
   "cell_type": "code",
   "execution_count": 15,
   "metadata": {},
   "outputs": [],
   "source": [
    "# eval\n"
   ]
  },
  {
   "cell_type": "code",
   "execution_count": 33,
   "metadata": {},
   "outputs": [
    {
     "output_type": "error",
     "ename": "AttributeError",
     "evalue": "'KMeans' object has no attribute 'cluster_centers_'",
     "traceback": [
      "\u001b[1;31m---------------------------------------------------------------------------\u001b[0m",
      "\u001b[1;31mAttributeError\u001b[0m                            Traceback (most recent call last)",
      "\u001b[1;32m<ipython-input-33-fbe4c22da8ee>\u001b[0m in \u001b[0;36m<module>\u001b[1;34m\u001b[0m\n\u001b[1;32m----> 1\u001b[1;33m \u001b[0mkmeans\u001b[0m\u001b[1;33m.\u001b[0m\u001b[0mcluster_centers_\u001b[0m\u001b[1;33m\u001b[0m\u001b[1;33m\u001b[0m\u001b[0m\n\u001b[0m",
      "\u001b[1;31mAttributeError\u001b[0m: 'KMeans' object has no attribute 'cluster_centers_'"
     ]
    }
   ],
   "source": [
    "kmeans.cluster_centers_"
   ]
  },
  {
   "source": [
    "### Random Forrest"
   ],
   "cell_type": "markdown",
   "metadata": {}
  },
  {
   "cell_type": "code",
   "execution_count": null,
   "metadata": {},
   "outputs": [],
   "source": []
  },
  {
   "source": [
    "## General Comparison"
   ],
   "cell_type": "markdown",
   "metadata": {}
  },
  {
   "source": [
    "## Hyperparamter & extended Stuff"
   ],
   "cell_type": "markdown",
   "metadata": {}
  },
  {
   "cell_type": "code",
   "execution_count": null,
   "metadata": {},
   "outputs": [],
   "source": []
  }
 ]
}