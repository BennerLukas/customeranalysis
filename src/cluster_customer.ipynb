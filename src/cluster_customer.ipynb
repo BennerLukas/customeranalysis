{
 "metadata": {
  "language_info": {
   "codemirror_mode": {
    "name": "ipython",
    "version": 3
   },
   "file_extension": ".py",
   "mimetype": "text/x-python",
   "name": "python",
   "nbconvert_exporter": "python",
   "pygments_lexer": "ipython3",
   "version": "3.8.5"
  },
  "orig_nbformat": 2,
  "kernelspec": {
   "name": "python3",
   "display_name": "Python 3.8.5 64-bit ('base': conda)"
  },
  "interpreter": {
   "hash": "eb37d57673139a0d2c890a27235812ffbaf08dc1003675034448a84bc7080e2c"
  }
 },
 "nbformat": 4,
 "nbformat_minor": 2,
 "cells": [
  {
   "source": [
    "# Customer Analysis - Model Customer Behavior\n"
   ],
   "cell_type": "markdown",
   "metadata": {}
  },
  {
   "source": [
    "## Import"
   ],
   "cell_type": "markdown",
   "metadata": {}
  },
  {
   "cell_type": "code",
   "execution_count": 1,
   "metadata": {},
   "outputs": [],
   "source": [
    "import os\n",
    "import pyspark\n",
    "import pandas as pd\n",
    "import pyspark.sql.functions as f\n",
    "import pyspark.sql.types as T\n",
    "import plotly.express as px\n",
    "import plotly.graph_objects as go"
   ]
  },
  {
   "source": [
    "## Read"
   ],
   "cell_type": "markdown",
   "metadata": {}
  },
  {
   "cell_type": "code",
   "execution_count": 2,
   "metadata": {},
   "outputs": [],
   "source": [
    "spark = pyspark.sql.SparkSession \\\n",
    "    .builder \\\n",
    "    .master(\"local\") \\\n",
    "    .appName(\"app_great\") \\\n",
    "    .config(\"spark.executor.memory\", f\"16g\") \\\n",
    "    .config(\"spark.driver.memory\", f\"16g\") \\\n",
    "    .config(\"spark.memory.offHeap.enabled\", True) \\\n",
    "    .config(\"spark.memory.offHeap.size\", f\"16g\") \\\n",
    "    .config(\"spark.sql.debug.maxToStringFields\", f\"16\") \\\n",
    "    .getOrCreate()\n",
    "sc = spark.sparkContext"
   ]
  },
  {
   "cell_type": "code",
   "execution_count": 3,
   "metadata": {},
   "outputs": [],
   "source": [
    "# Testing / Debug\n",
    "\n",
    "# sdf = spark.read.csv(\"data/test_data.csv\", header=True, inferSchema=True)\n"
   ]
  },
  {
   "cell_type": "code",
   "execution_count": 4,
   "metadata": {
    "tags": []
   },
   "outputs": [],
   "source": [
    "\n",
    "sdf_201911 = spark.read.csv(\"data/2019-Nov.csv\", header=True, inferSchema=True)\n",
    "sdf_201910 = spark.read.csv(\"data/2019-Oct.csv\", header=True, inferSchema=True)\n",
    "\n",
    "sdf = sdf_201910.union(sdf_201911)\n",
    "# sdf = sdf_201911\n"
   ]
  },
  {
   "source": [
    "## Preparation"
   ],
   "cell_type": "markdown",
   "metadata": {}
  },
  {
   "cell_type": "code",
   "execution_count": 5,
   "metadata": {},
   "outputs": [
    {
     "output_type": "stream",
     "name": "stdout",
     "text": [
      "root\n |-- event_time: string (nullable = true)\n |-- event_type: string (nullable = true)\n |-- product_id: integer (nullable = true)\n |-- category_id: long (nullable = true)\n |-- category_code: string (nullable = true)\n |-- brand: string (nullable = true)\n |-- price: double (nullable = true)\n |-- user_id: integer (nullable = true)\n |-- user_session: string (nullable = true)\n |-- category_class: string (nullable = true)\n |-- category_sub_class: string (nullable = true)\n |-- category_sub_sub_class: string (nullable = true)\n |-- year: integer (nullable = true)\n |-- month: integer (nullable = true)\n |-- weekofyear: integer (nullable = true)\n |-- dayofyear: integer (nullable = true)\n |-- dayofweek: integer (nullable = true)\n |-- dayofmonth: integer (nullable = true)\n |-- hour: integer (nullable = true)\n |-- turnover: double (nullable = true)\n |-- purchases: integer (nullable = false)\n |-- views: integer (nullable = false)\n |-- carts: integer (nullable = false)\n\n"
     ]
    }
   ],
   "source": [
    "# Feature Splitting\n",
    "# sdf = sdf.withColumn(\"category_class\", f.substring_index(sdf.category_code, '.', 1))\n",
    "\n",
    "sdf = sdf.withColumn(\"category_class\", f.split(sdf[\"category_code\"], \"\\.\").getItem(0))\n",
    "sdf = sdf.withColumn(\"category_sub_class\", f.split(sdf[\"category_code\"], \"\\.\").getItem(1))\n",
    "sdf = sdf.withColumn(\"category_sub_sub_class\", f.split(sdf[\"category_code\"], \"\\.\").getItem(2))\n",
    "\n",
    "sdf = sdf.withColumn(\"year\", f.year(\"event_time\"))\n",
    "sdf = sdf.withColumn(\"month\", f.month(\"event_time\"))\n",
    "sdf = sdf.withColumn(\"weekofyear\", f.weekofyear(\"event_time\"))\n",
    "sdf = sdf.withColumn(\"dayofyear\", f.dayofyear(\"event_time\"))\n",
    "sdf = sdf.withColumn(\"dayofweek\", f.dayofweek(\"event_time\"))\n",
    "sdf = sdf.withColumn(\"dayofmonth\", f.dayofmonth(\"event_time\"))\n",
    "sdf = sdf.withColumn(\"hour\", f.hour(\"event_time\"))\n",
    "\n",
    "sdf = sdf.withColumn('turnover', f.when(f.col('event_type') == 'purchase', f.col('price')).otherwise(0))\n",
    "\n",
    "sdf = sdf.withColumn('purchases', f.when(f.col('event_type') == 'purchase', f.lit(1)).otherwise(0))\n",
    "sdf = sdf.withColumn('views', f.when(f.col('event_type') == 'view', f.lit(1)).otherwise(0))\n",
    "sdf = sdf.withColumn('carts', f.when(f.col('event_type') == 'cart', f.lit(1)).otherwise(0))\n",
    "\n",
    "\n",
    "# None Handling\n",
    "# sdf = sdf.fillna(value=\"not defined\")\n",
    "\n",
    "sdf.printSchema()"
   ]
  },
  {
   "cell_type": "code",
   "execution_count": 6,
   "metadata": {},
   "outputs": [],
   "source": [
    "# sdf.show(1, vertical=True, truncate=False)"
   ]
  },
  {
   "source": [
    "## Data Creation"
   ],
   "cell_type": "markdown",
   "metadata": {}
  },
  {
   "cell_type": "code",
   "execution_count": 7,
   "metadata": {},
   "outputs": [],
   "source": [
    "sdf_session = sdf.select(\"user_id\", \"user_session\", \"event_type\", \"product_id\", \"price\", \"event_time\",'purchases',\n",
    "'views', 'carts') \n",
    "\n",
    "sdf_session = sdf_session.withColumn(\"bought_product\", f.when(sdf_session.event_type == \"purchase\", sdf_session[\"product_id\"]).otherwise(None))\n",
    "\n",
    "sdf_session = sdf_session.withColumn(\"first_event\", sdf_session.event_time)\n",
    "sdf_session = sdf_session.withColumn(\"last_event\", sdf_session.event_time)"
   ]
  },
  {
   "cell_type": "code",
   "execution_count": 8,
   "metadata": {},
   "outputs": [],
   "source": [
    "# sdf_session.show()"
   ]
  },
  {
   "cell_type": "code",
   "execution_count": 9,
   "metadata": {},
   "outputs": [
    {
     "output_type": "stream",
     "name": "stdout",
     "text": [
      "root\n |-- user_id: integer (nullable = true)\n |-- user_session: string (nullable = true)\n |-- avg(price): double (nullable = true)\n |-- sum(views): long (nullable = true)\n |-- sum(purchases): long (nullable = true)\n |-- sum(carts): long (nullable = true)\n |-- min(event_time): string (nullable = true)\n |-- max(event_time): string (nullable = true)\n |-- collect_list(bought_product): array (nullable = false)\n |    |-- element: integer (containsNull = false)\n |-- duration: double (nullable = true)\n |-- sum(events): long (nullable = true)\n |-- turnover: double (nullable = true)\n |-- successfull: integer (nullable = false)\n\n"
     ]
    }
   ],
   "source": [
    "sdf_session_agg = sdf_session.groupBy(\"user_id\", \"user_session\").agg(f.avg(\"price\"), f.sum(\"views\"), f.sum(\"purchases\"), f.sum(\"carts\"), f.min(\"event_time\"), f.max(\"event_time\"), f.collect_list(\"bought_product\"))\n",
    "sdf_session_agg = sdf_session_agg.withColumn(\"duration\", (sdf_session_agg[\"max(event_time)\"] - sdf_session_agg[\"min(event_time)\"]))\n",
    "sdf_session_agg = sdf_session_agg.withColumn(\"sum(events)\", (sdf_session_agg[\"sum(views)\"] + sdf_session_agg[\"sum(purchases)\"] + sdf_session_agg[\"sum(carts)\"]))\n",
    "sdf_session_agg = sdf_session_agg.withColumn(\"turnover\", f.when(sdf_session_agg[\"sum(purchases)\"] > 0, (sdf_session_agg[\"sum(purchases)\"] *  sdf_session_agg[\"avg(price)\"])).otherwise(0))\n",
    "sdf_session_agg = sdf_session_agg.withColumn(\"avg(price)\", f.round(sdf_session_agg[\"avg(price)\"],2) )\n",
    "\n",
    "sdf_session_agg = sdf_session_agg.withColumn(\"successfull\", f.when(sdf_session_agg[\"sum(purchases)\"] > 0, 1).otherwise(0))\n",
    "sdf_session_agg.printSchema()"
   ]
  },
  {
   "cell_type": "code",
   "execution_count": 10,
   "metadata": {},
   "outputs": [],
   "source": [
    "# sdf_session_agg.show(truncate=False)"
   ]
  },
  {
   "cell_type": "code",
   "execution_count": 11,
   "metadata": {},
   "outputs": [],
   "source": [
    "# sdf_session_agg.where(sdf_session_agg[\"turnover\"] > 0).show()"
   ]
  },
  {
   "cell_type": "code",
   "execution_count": 12,
   "metadata": {},
   "outputs": [
    {
     "output_type": "stream",
     "name": "stdout",
     "text": [
      "root\n |-- user_id: integer (nullable = true)\n |-- sum_events: long (nullable = true)\n |-- sum_views: long (nullable = true)\n |-- sum_purchases: long (nullable = true)\n |-- sum_carts: long (nullable = true)\n |-- sum_turnover: double (nullable = true)\n |-- count_session: long (nullable = false)\n |-- sum_successfull: long (nullable = true)\n |-- bought_product: array (nullable = false)\n |    |-- element: array (containsNull = false)\n |    |    |-- element: integer (containsNull = false)\n |-- user_sessions: array (nullable = false)\n |    |-- element: string (containsNull = false)\n |-- avg(duration): double (nullable = true)\n |-- avg_turnover_per_session: double (nullable = true)\n |-- avg_events_per_session: double (nullable = true)\n\n"
     ]
    }
   ],
   "source": [
    "sdf_customer_profile = sdf_session_agg.groupBy(\"user_id\").agg(f.sum(\"sum(events)\").alias(\"sum_events\"), f.sum(\"sum(views)\").alias(\"sum_views\"), f.sum(\"sum(purchases)\").alias(\"sum_purchases\"), f.sum(\"sum(carts)\").alias(\"sum_carts\"), f.sum(\"turnover\").alias(\"sum_turnover\"), f.count(\"user_session\").alias(\"count_session\"), f.sum(\"successfull\").alias(\"sum_successfull\"), f.collect_list(\"collect_list(bought_product)\").alias(\"bought_product\"), f.collect_list(\"user_session\").alias(\"user_sessions\"), f.avg(\"duration\"))\n",
    "\n",
    "sdf_customer_profile = sdf_customer_profile.withColumn(\"avg_turnover_per_session\", (sdf_customer_profile[\"sum_turnover\"] / sdf_customer_profile[\"count_session\"]))\n",
    "sdf_customer_profile = sdf_customer_profile.withColumn(\"avg_events_per_session\", (sdf_customer_profile[\"sum_events\"] / sdf_customer_profile[\"count_session\"]))\n",
    "\n",
    "\n",
    "sdf_customer_profile.printSchema()"
   ]
  },
  {
   "cell_type": "code",
   "execution_count": 13,
   "metadata": {},
   "outputs": [],
   "source": [
    "# sdf_customer_profile.where(sdf_customer_profile[\"avg_turnover_per_session\"] > 0).show(truncate=False)"
   ]
  },
  {
   "cell_type": "code",
   "execution_count": 14,
   "metadata": {},
   "outputs": [],
   "source": [
    "sdf_export = sdf_customer_profile.withColumn(\"bought_product\", sdf_customer_profile[\"bought_product\"].cast(pyspark.sql.types.StringType()))\n",
    "sdf_export = sdf_export.withColumn(\"user_sessions\", sdf_export[\"user_sessions\"].cast(pyspark.sql.types.StringType()))\n"
   ]
  },
  {
   "cell_type": "code",
   "execution_count": 15,
   "metadata": {},
   "outputs": [
    {
     "output_type": "stream",
     "name": "stdout",
     "text": [
      "root\n |-- user_id: integer (nullable = true)\n |-- sum_events: long (nullable = true)\n |-- sum_views: long (nullable = true)\n |-- sum_purchases: long (nullable = true)\n |-- sum_carts: long (nullable = true)\n |-- sum_turnover: double (nullable = true)\n |-- count_session: long (nullable = false)\n |-- sum_successfull: long (nullable = true)\n |-- bought_product: string (nullable = false)\n |-- user_sessions: string (nullable = false)\n |-- avg(duration): double (nullable = true)\n |-- avg_turnover_per_session: double (nullable = true)\n |-- avg_events_per_session: double (nullable = true)\n\n"
     ]
    }
   ],
   "source": [
    "sdf_export.printSchema()"
   ]
  },
  {
   "cell_type": "code",
   "execution_count": 16,
   "metadata": {},
   "outputs": [],
   "source": [
    "sdf_export.coalesce(1).write.format(\"csv\").mode(\"overwrite\").save(\"data/customer_profile.csv\", header=\"true\")"
   ]
  },
  {
   "cell_type": "code",
   "execution_count": 17,
   "metadata": {},
   "outputs": [],
   "source": [
    "sdf_customer_profile = spark.read.csv(\"data/customer_profiles.csv\", header=True, inferSchema=True)"
   ]
  },
  {
   "cell_type": "code",
   "execution_count": 18,
   "metadata": {},
   "outputs": [
    {
     "output_type": "stream",
     "name": "stdout",
     "text": [
      "+---------+----------+---------+-------------+---------+------------+-------------+---------------+--------------------+--------------------+-------------+------------------------+----------------------+\n|  user_id|sum_events|sum_views|sum_purchases|sum_carts|sum_turnover|count_session|sum_successfull|      bought_product|       user_sessions|avg(duration)|avg_turnover_per_session|avg_events_per_session|\n+---------+----------+---------+-------------+---------+------------+-------------+---------------+--------------------+--------------------+-------------+------------------------+----------------------+\n|240522111|        34|       34|            0|        0|         0.0|           18|              0|[[], [], [], [], ...|[e11c1288-8be8-4d...|         null|                     0.0|    1.8888888888888888|\n|269003139|        15|       14|            0|        1|         0.0|            2|              0|            [[], []]|[29f24176-f471-42...|         null|                     0.0|                   7.5|\n|277067319|         7|        7|            0|        0|         0.0|            2|              0|            [[], []]|[6f14f408-e794-40...|         null|                     0.0|                   3.5|\n|285736018|         9|        9|            0|        0|         0.0|            5|              0|[[], [], [], [], []]|[f2a069c2-3876-46...|         null|                     0.0|                   1.8|\n|289711446|        23|       22|            0|        1|         0.0|            8|              0|[[], [], [], [], ...|[61f71be3-26fd-4e...|         null|                     0.0|                 2.875|\n|301056249|        18|       18|            0|        0|         0.0|            8|              0|[[], [], [], [], ...|[0001001a-92b2-47...|         null|                     0.0|                  2.25|\n|303314068|        22|       22|            0|        0|         0.0|            8|              0|[[], [], [], [], ...|[6d4fca54-52a3-4c...|         null|                     0.0|                  2.75|\n|303418896|        10|       10|            0|        0|         0.0|            3|              0|        [[], [], []]|[94f67ff6-3a3f-4f...|         null|                     0.0|    3.3333333333333335|\n|313268536|        12|       12|            0|        0|         0.0|           12|              0|[[], [], [], [], ...|[1d973de1-f358-46...|         null|                     0.0|                   1.0|\n|323269425|         1|        1|            0|        0|         0.0|            1|              0|                [[]]|[1291ea0d-fe4a-4e...|         null|                     0.0|                   1.0|\n|340115640|         2|        2|            0|        0|         0.0|            1|              0|                [[]]|[d504f7c2-e7d1-49...|         null|                     0.0|                   2.0|\n|356463487|         3|        3|            0|        0|         0.0|            3|              0|        [[], [], []]|[b7f4a472-1ad5-46...|         null|                     0.0|                   1.0|\n|357446328|        31|       31|            0|        0|         0.0|            4|              0|    [[], [], [], []]|[00cbac6a-fa54-44...|         null|                     0.0|                  7.75|\n|366968564|         7|        7|            0|        0|         0.0|            2|              0|            [[], []]|[eac3310d-72c4-46...|         null|                     0.0|                   3.5|\n|369454898|         1|        1|            0|        0|         0.0|            1|              0|                [[]]|[86ef8b07-afd0-42...|         null|                     0.0|                   1.0|\n|370633539|         5|        5|            0|        0|         0.0|            3|              0|        [[], [], []]|[94516b98-0e34-4a...|         null|                     0.0|    1.6666666666666667|\n|386471472|         1|        1|            0|        0|         0.0|            1|              0|                [[]]|[934913bb-c321-47...|         null|                     0.0|                   1.0|\n|389518481|         6|        6|            0|        0|         0.0|            5|              0|[[], [], [], [], []]|[928b8940-4d13-45...|         null|                     0.0|                   1.2|\n|390327305|         3|        3|            0|        0|         0.0|            1|              0|                [[]]|[9e4c36ff-7df8-4b...|         null|                     0.0|                   3.0|\n|391260478|         8|        8|            0|        0|         0.0|            5|              0|[[], [], [], [], []]|[8a6e9966-5986-42...|         null|                     0.0|                   1.6|\n+---------+----------+---------+-------------+---------+------------+-------------+---------------+--------------------+--------------------+-------------+------------------------+----------------------+\nonly showing top 20 rows\n\n"
     ]
    }
   ],
   "source": [
    "sdf_customer_profile.show()"
   ]
  },
  {
   "source": [
    "## Data Split"
   ],
   "cell_type": "markdown",
   "metadata": {}
  },
  {
   "cell_type": "code",
   "execution_count": 19,
   "metadata": {},
   "outputs": [],
   "source": [
    "(trainingData, testData, devData) = sdf_customer_profile.where(sdf_customer_profile[\"avg_turnover_per_session\"] > 0).randomSplit([0.6, 0.3, 0.1], seed=123)"
   ]
  },
  {
   "cell_type": "code",
   "execution_count": 20,
   "metadata": {},
   "outputs": [
    {
     "output_type": "stream",
     "name": "stdout",
     "text": [
      "+---------+----------+---------+-------------+---------+-----------------+-------------+---------------+--------------------+--------------------+-------------+------------------------+----------------------+\n|  user_id|sum_events|sum_views|sum_purchases|sum_carts|     sum_turnover|count_session|sum_successfull|      bought_product|       user_sessions|avg(duration)|avg_turnover_per_session|avg_events_per_session|\n+---------+----------+---------+-------------+---------+-----------------+-------------+---------------+--------------------+--------------------+-------------+------------------------+----------------------+\n|303160429|         3|        2|            1|        0|           340.59|            2|              1|     [[5100443], []]|[8957377b-66b3-46...|         null|                 170.295|                   1.5|\n|426687856|        13|       10|            1|        2|55.01285714285713|            5|              1|[[3900739], [], [...|[589f9173-b999-44...|         null|      11.002571428571425|                   2.6|\n|438094845|        16|       14|            1|        1|            73.33|            2|              1|    [[11300043], []]|[a07cf8d3-18aa-42...|         null|                  36.665|                   8.0|\n|462441012|         4|        2|            1|        1|           332.83|            1|              1|         [[1004958]]|[46862230-af2d-4a...|         null|                  332.83|                   4.0|\n|472682993|        14|       11|            1|        2|231.0241666666666|            2|              1|     [[1004836], []]|[d20329c4-5fe2-4b...|         null|       115.5120833333333|                   7.0|\n+---------+----------+---------+-------------+---------+-----------------+-------------+---------------+--------------------+--------------------+-------------+------------------------+----------------------+\nonly showing top 5 rows\n\n"
     ]
    }
   ],
   "source": [
    "devData = devData.limit(10000)\n",
    "devData.show(5)"
   ]
  },
  {
   "source": [
    "## Modelling"
   ],
   "cell_type": "markdown",
   "metadata": {}
  },
  {
   "source": [
    "### K-Means"
   ],
   "cell_type": "markdown",
   "metadata": {}
  },
  {
   "source": [
    "Task:\n",
    "Cluster (unsupervised) the customer in groups:\n",
    "\n",
    "- high \n",
    "- medium\n",
    "- low\n",
    "- NULL with potential\n",
    "- NULL without potential\n",
    "\n",
    "\n",
    "Target Feature -> Turnover"
   ],
   "cell_type": "markdown",
   "metadata": {}
  },
  {
   "cell_type": "code",
   "execution_count": 21,
   "metadata": {},
   "outputs": [],
   "source": [
    "from pyspark.ml.evaluation import ClusteringEvaluator\n",
    "from pyspark.ml.clustering import KMeans\n",
    "from pyspark.ml.clustering import GaussianMixture\n",
    "from pyspark.ml.feature import VectorAssembler\n"
   ]
  },
  {
   "cell_type": "code",
   "execution_count": 25,
   "metadata": {},
   "outputs": [],
   "source": [
    "dataset = trainingData.where(sdf_customer_profile[\"avg_turnover_per_session\"] > 0)"
   ]
  },
  {
   "cell_type": "code",
   "execution_count": 26,
   "metadata": {},
   "outputs": [
    {
     "output_type": "stream",
     "name": "stdout",
     "text": [
      "+---------+----------+---------+-------------+---------+------------------+-------------+---------------+--------------------+--------------------+-------------+------------------------+----------------------+\n|  user_id|sum_events|sum_views|sum_purchases|sum_carts|      sum_turnover|count_session|sum_successfull|      bought_product|       user_sessions|avg(duration)|avg_turnover_per_session|avg_events_per_session|\n+---------+----------+---------+-------------+---------+------------------+-------------+---------------+--------------------+--------------------+-------------+------------------------+----------------------+\n|225644257|        17|       14|            1|        2|             40.91|            9|              1|[[6800309], [], [...|[3601c672-9a75-46...|         null|       4.545555555555556|    1.8888888888888888|\n|304707635|         5|        2|            1|        2|2007.5199999999998|            2|              1|     [[], [1005136]]|[9d0ec806-edbc-4e...|         null|      1003.7599999999999|                   2.5|\n|369251225|        11|        7|            1|        3|             74.13|            5|              1|[[], [], [1270097...|[7abc1487-fd26-45...|         null|      14.825999999999999|                   2.2|\n|424827221|        79|       74|            1|        4|            142.29|           63|              1|[[], [], [], [], ...|[ccc11e2c-c3c8-43...|         null|      2.2585714285714285|     1.253968253968254|\n|427151532|        17|       11|            1|        5|177.81833333333336|            4|              1|[[], [], [7101297...|[d486e7f0-b5b0-4d...|         null|       44.45458333333334|                  4.25|\n|427391662|       187|      180|            2|        5| 468.0293882978723|           14|              2|[[], [], [], [100...|[fada13b2-7b50-47...|         null|       33.43067059270516|    13.357142857142858|\n|434170823|        75|       72|            3|        0|2121.8056785714284|           18|              3|[[], [26300188], ...|[950720b1-893c-4e...|         null|      117.87809325396825|     4.166666666666667|\n|434350078|        25|       24|            1|        0|123.25791666666667|            2|              1|    [[], [34700074]]|[e68bb5ef-bf18-4d...|         null|       61.62895833333334|                  12.5|\n|448659331|        17|       13|            1|        3|20.113333333333337|            4|              1|[[8800599], [], [...|[3083ce49-989d-4e...|         null|       5.028333333333334|                  4.25|\n|452958129|         8|        7|            1|        0|           301.495|            1|              1|        [[26402587]]|[a0a0d456-4cb4-49...|         null|                 301.495|                   8.0|\n|455948402|        37|       32|            1|        4|             95.45|            6|              1|[[], [], [2872083...|[0da6310f-e6ad-4f...|         null|      15.908333333333333|     6.166666666666667|\n|457703282|         3|        1|            1|        1|            231.64|            1|              1|         [[1004990]]|[7c608af1-b9b3-47...|         null|                  231.64|                   3.0|\n|457999725|         8|        6|            1|        1| 347.4571428571429|            2|              1|     [[], [1307310]]|[67177204-9a86-40...|         null|      173.72857142857146|                   4.0|\n|460337720|         9|        8|            1|        0|             21.11|            4|              1|[[], [17600854], ...|[79ae3cb3-f0c6-46...|         null|                  5.2775|                  2.25|\n|461788601|        27|       26|            1|        0|             66.93|            4|              1|[[12709485], [], ...|[90583225-40d6-44...|         null|                 16.7325|                  6.75|\n|465723791|         8|        7|            1|        0| 951.7442857142858|            2|              1|     [[], [1305005]]|[d82115f5-0961-4e...|         null|       475.8721428571429|                   4.0|\n|468371772|        20|       16|            1|        3|             82.99|           13|              1|[[3200543], [], [...|[6ee8d8e6-c8fd-4b...|         null|       6.383846153846154|    1.5384615384615385|\n|469200473|         5|        3|            1|        1|            586.03|            1|              1|         [[1005016]]|[f0247630-e2eb-4a...|         null|                  586.03|                   5.0|\n|471516534|        20|       15|            2|        3|            157.81|           12|              2|[[], [], [6200683...|[e6b9f3c8-cbda-44...|         null|      13.150833333333333|    1.6666666666666667|\n|474593321|         8|        5|            1|        2|             33.44|            4|              1|[[17800204], [], ...|[4c95a39e-9262-44...|         null|                    8.36|                   2.0|\n+---------+----------+---------+-------------+---------+------------------+-------------+---------------+--------------------+--------------------+-------------+------------------------+----------------------+\nonly showing top 20 rows\n\n"
     ]
    }
   ],
   "source": [
    "dataset.show()"
   ]
  },
  {
   "cell_type": "code",
   "execution_count": 27,
   "metadata": {},
   "outputs": [
    {
     "output_type": "stream",
     "name": "stdout",
     "text": [
      "+--------------------------------------+\n|features                              |\n+--------------------------------------+\n|[14.0,40.91,1.0,2.0,9.0]              |\n|[2.0,2007.5199999999998,1.0,2.0,2.0]  |\n|[7.0,74.13,1.0,3.0,5.0]               |\n|[74.0,142.29,1.0,4.0,63.0]            |\n|[11.0,177.81833333333336,1.0,5.0,4.0] |\n|[180.0,468.0293882978723,2.0,5.0,14.0]|\n|[72.0,2121.8056785714284,3.0,0.0,18.0]|\n|[24.0,123.25791666666667,1.0,0.0,2.0] |\n|[13.0,20.113333333333337,1.0,3.0,4.0] |\n|[7.0,301.495,1.0,0.0,1.0]             |\n|[32.0,95.45,1.0,4.0,6.0]              |\n|[1.0,231.64,1.0,1.0,1.0]              |\n|[6.0,347.4571428571429,1.0,1.0,2.0]   |\n|[8.0,21.11,1.0,0.0,4.0]               |\n|[26.0,66.93,1.0,0.0,4.0]              |\n|[7.0,951.7442857142858,1.0,0.0,2.0]   |\n|[16.0,82.99,1.0,3.0,13.0]             |\n|[3.0,586.03,1.0,1.0,1.0]              |\n|[15.0,157.81,2.0,3.0,12.0]            |\n|[5.0,33.44,1.0,2.0,4.0]               |\n+--------------------------------------+\nonly showing top 20 rows\n\n"
     ]
    }
   ],
   "source": [
    "features=(\"sum_views\", \"sum_turnover\", \"sum_purchases\", \"sum_carts\", \"count_session\")\n",
    "\n",
    "assembler = VectorAssembler(inputCols=features,outputCol=\"features\")\n",
    "\n",
    "dataset=assembler.transform(dataset)\n",
    "dataset.select(\"features\").show(truncate=False)"
   ]
  },
  {
   "cell_type": "code",
   "execution_count": 30,
   "metadata": {},
   "outputs": [
    {
     "output_type": "stream",
     "name": "stdout",
     "text": [
      "Silhouette with squared euclidean distance = 0.9375706272150515\n\nCluster Centers: \n[ 55.21483558 431.33503323   1.85265346   3.37314517  10.0899097 ]\n[  175.22133939 18684.07166066    31.51986379    34.78036322\n    43.85584563]\n[  88.69686213 4412.9756773     9.32046003   12.03365043   19.29859435]\n[  379.2745098  78925.39632139    94.38235294    95.32352941\n    86.90196078]\n"
     ]
    }
   ],
   "source": [
    "# Trains a k-means model.\n",
    "kmeans = KMeans().setK(4).setSeed(123)\n",
    "model = kmeans.fit(dataset)\n",
    "\n",
    "# Make predictions\n",
    "predictions = model.transform(dataset)\n",
    "\n",
    "# Evaluate clustering by computing Silhouette score\n",
    "evaluator = ClusteringEvaluator()\n",
    "silhouette = evaluator.evaluate(predictions)\n",
    "print(f\"Silhouette with squared euclidean distance = {str(silhouette)}\\n\")\n",
    "\n",
    "\n",
    "# Evaluate clustering.\n",
    "# cost = model.computeCost(dataset)\n",
    "# print(\"Within Set Sum of Squared Errors = \" + str(cost))\n",
    "\n",
    "# Shows the result.\n",
    "print(\"Cluster Centers: \")\n",
    "ctr=[]\n",
    "centers = model.clusterCenters()\n",
    "for center in centers:\n",
    "    ctr.append(center)\n",
    "    print(center)"
   ]
  },
  {
   "cell_type": "code",
   "execution_count": 38,
   "metadata": {},
   "outputs": [],
   "source": [
    "model.write().overwrite().save(\"knn-model\")"
   ]
  },
  {
   "cell_type": "code",
   "execution_count": 27,
   "metadata": {},
   "outputs": [
    {
     "output_type": "stream",
     "name": "stdout",
     "text": [
      "+---------+----------+---------+-------------+---------+------------------+-------------+---------------+--------------------+--------------------+-------------+------------------------+----------------------+--------------------+----------+\n|  user_id|sum_events|sum_views|sum_purchases|sum_carts|      sum_turnover|count_session|sum_successfull|      bought_product|       user_sessions|avg(duration)|avg_turnover_per_session|avg_events_per_session|            features|prediction|\n+---------+----------+---------+-------------+---------+------------------+-------------+---------------+--------------------+--------------------+-------------+------------------------+----------------------+--------------------+----------+\n|468371772|        20|       16|            1|        3|             82.99|           13|              1|[[3200543], [], [...|[6ee8d8e6-c8fd-4b...|         null|       6.383846153846154|    1.5384615384615385|[16.0,82.99,1.0,3...|         0|\n|512375293|         5|        3|            1|        1| 797.0260000000001|            1|              1|         [[1004249]]|[5d9c8d86-4a75-43...|         null|       797.0260000000001|                   5.0|[3.0,797.02600000...|         0|\n|512380070|        18|       12|            2|        4|           1828.88|            4|              2|[[4804718], [], [...|[9e603ccc-9653-4e...|         null|                  457.22|                   4.5|[12.0,1828.88,2.0...|         0|\n|512382720|        95|       74|           10|       11|1956.9398042929292|           14|              9|[[], [], [1004934...|[fa584030-8f2d-4b...|         null|       139.7814145923521|     6.785714285714286|[74.0,1956.939804...|         0|\n|512394876|        27|       22|            3|        2| 657.4005882352943|            3|              1|[[], [], [1004767...|[6fc2d097-664d-44...|         null|      219.13352941176478|                   9.0|[22.0,657.4005882...|         0|\n|512399246|       412|      375|            1|       36|24.022499999999997|           12|              1|[[], [100004084],...|[d57dd09a-c7d3-4a...|         null|      2.0018749999999996|    34.333333333333336|[375.0,24.0224999...|         0|\n|512407417|        88|       81|            3|        4| 1332.424603174603|           11|              3|[[], [], [1005115...|[7edb1c1c-3b33-4f...|         null|      121.12950937950936|                   8.0|[81.0,1332.424603...|         0|\n|512411957|       113|      108|            2|        3|           80.0225|           12|              2|[[], [], [1270955...|[7a942a8c-60bc-46...|         null|       6.668541666666666|     9.416666666666666|[108.0,80.0225,2....|         0|\n|512423995|        25|       22|            1|        2|492.06800000000004|            9|              1|[[], [], [], [], ...|[8591a4a7-5056-4d...|         null|       54.67422222222223|    2.7777777777777777|[22.0,492.0680000...|         0|\n|512424465|       289|      286|            2|        1| 83.57799999999999|           53|              2|[[], [], [], [], ...|[50b79e05-30a0-47...|         null|      1.5769433962264148|     5.452830188679245|[286.0,83.5779999...|         0|\n|512427417|       183|      150|           19|       14|  5349.74763952893|           35|             14|[[4802036, 480457...|[9210d1a5-d82c-47...|         null|      152.84993255796945|     5.228571428571429|[150.0,5349.74763...|         1|\n|512436596|       480|      475|            2|        3|             144.1|           64|              2|[[], [], [], [], ...|[160f4b96-22c7-4f...|         null|               2.2515625|                   7.5|[475.0,144.1,2.0,...|         0|\n|512441216|        21|       18|            1|        2| 55.00181818181819|            4|              1|[[12720199], [], ...|[cf25de7c-b919-47...|         null|      13.750454545454547|                  5.25|[18.0,55.00181818...|         0|\n|512445637|       228|      221|            1|        6|             53.28|           34|              1|[[17300757], [], ...|[442d2586-4c04-45...|         null|      1.5670588235294118|     6.705882352941177|[221.0,53.28,1.0,...|         0|\n|512446604|        17|       10|            2|        5|          1241.885|            3|              2|[[], [1003310], [...|[9b2780cf-33e5-41...|         null|      413.96166666666664|     5.666666666666667|[10.0,1241.885,2....|         0|\n|512455617|        75|       44|           21|       10|          17478.18|           28|             21|[[1003317], [1005...|[0bc00065-a0cf-4c...|         null|       624.2207142857143|    2.6785714285714284|[44.0,17478.18,21...|         1|\n|512456852|        47|       45|            1|        1|            210.53|            8|              1|[[], [], [], [100...|[df204e24-5703-4a...|         null|                26.31625|                 5.875|[45.0,210.53,1.0,...|         0|\n|512460113|        21|       19|            1|        1| 60.15428571428572|            5|              1|[[], [], [], [152...|[2de15e89-eb87-4f...|         null|      12.030857142857144|                   4.2|[19.0,60.15428571...|         0|\n|512461742|        97|       96|            1|        0|           627.124|           10|              1|[[], [], [], [], ...|[9c567365-b513-4e...|         null|                 62.7124|                   9.7|[96.0,627.124,1.0...|         0|\n|512473397|        36|       35|            1|        0|23.968749999999996|           10|              1|[[], [], [], [], ...|[94b0072a-aaa1-45...|         null|      2.3968749999999996|                   3.6|[35.0,23.96874999...|         0|\n+---------+----------+---------+-------------+---------+------------------+-------------+---------------+--------------------+--------------------+-------------+------------------------+----------------------+--------------------+----------+\nonly showing top 20 rows\n\n"
     ]
    }
   ],
   "source": [
    "predictions.show()"
   ]
  },
  {
   "cell_type": "code",
   "execution_count": 28,
   "metadata": {},
   "outputs": [
    {
     "output_type": "stream",
     "name": "stdout",
     "text": [
      "+----------+\n|prediction|\n+----------+\n|         1|\n|         3|\n|         2|\n|         0|\n+----------+\n\n"
     ]
    }
   ],
   "source": [
    "predictions.select(\"prediction\").distinct().show()"
   ]
  },
  {
   "cell_type": "code",
   "execution_count": 29,
   "metadata": {},
   "outputs": [],
   "source": [
    "centers = pd.DataFrame(ctr,columns=features)"
   ]
  },
  {
   "cell_type": "code",
   "execution_count": 30,
   "metadata": {},
   "outputs": [
    {
     "output_type": "execute_result",
     "data": {
      "text/plain": [
       "    sum_views   sum_turnover  sum_purchases   sum_carts  count_session\n",
       "0   55.485569     488.225229       1.957207    3.494342      10.204791\n",
       "1  104.864327    6388.053047      12.887070   15.847328      23.719289\n",
       "2  488.871795  115258.608990     141.794872  143.076923     113.743590\n",
       "3  223.815686   28788.055955      45.777778   48.598693      54.303268"
      ],
      "text/html": "<div>\n<style scoped>\n    .dataframe tbody tr th:only-of-type {\n        vertical-align: middle;\n    }\n\n    .dataframe tbody tr th {\n        vertical-align: top;\n    }\n\n    .dataframe thead th {\n        text-align: right;\n    }\n</style>\n<table border=\"1\" class=\"dataframe\">\n  <thead>\n    <tr style=\"text-align: right;\">\n      <th></th>\n      <th>sum_views</th>\n      <th>sum_turnover</th>\n      <th>sum_purchases</th>\n      <th>sum_carts</th>\n      <th>count_session</th>\n    </tr>\n  </thead>\n  <tbody>\n    <tr>\n      <th>0</th>\n      <td>55.485569</td>\n      <td>488.225229</td>\n      <td>1.957207</td>\n      <td>3.494342</td>\n      <td>10.204791</td>\n    </tr>\n    <tr>\n      <th>1</th>\n      <td>104.864327</td>\n      <td>6388.053047</td>\n      <td>12.887070</td>\n      <td>15.847328</td>\n      <td>23.719289</td>\n    </tr>\n    <tr>\n      <th>2</th>\n      <td>488.871795</td>\n      <td>115258.608990</td>\n      <td>141.794872</td>\n      <td>143.076923</td>\n      <td>113.743590</td>\n    </tr>\n    <tr>\n      <th>3</th>\n      <td>223.815686</td>\n      <td>28788.055955</td>\n      <td>45.777778</td>\n      <td>48.598693</td>\n      <td>54.303268</td>\n    </tr>\n  </tbody>\n</table>\n</div>"
     },
     "metadata": {},
     "execution_count": 30
    }
   ],
   "source": [
    "centers.head()"
   ]
  },
  {
   "cell_type": "code",
   "execution_count": 95,
   "metadata": {},
   "outputs": [
    {
     "output_type": "display_data",
     "data": {
      "application/vnd.plotly.v1+json": {
       "config": {
        "plotlyServerURL": "https://plot.ly"
       },
       "data": [
        {
         "customdata": [
          [
           1
          ],
          [
           1
          ]
         ],
         "hovertemplate": "sum_carts=%{x}<br>sum_turnover=%{y}<br>count_session=%{marker.size}<br>sum_purchases=%{customdata[0]}<br>sum_views=%{marker.color}<extra></extra>",
         "legendgroup": "",
         "marker": {
          "color": [
           2,
           1
          ],
          "coloraxis": "coloraxis",
          "size": [
           1,
           1
          ],
          "sizemode": "area",
          "sizeref": 0.0025,
          "symbol": "circle"
         },
         "mode": "markers",
         "name": "",
         "orientation": "v",
         "showlegend": false,
         "type": "scatter",
         "x": [
          0,
          0
         ],
         "xaxis": "x",
         "y": [
          566.3,
          211.92
         ],
         "yaxis": "y"
        }
       ],
       "layout": {
        "coloraxis": {
         "colorbar": {
          "title": {
           "text": "sum_views"
          }
         },
         "colorscale": [
          [
           0,
           "#0d0887"
          ],
          [
           0.1111111111111111,
           "#46039f"
          ],
          [
           0.2222222222222222,
           "#7201a8"
          ],
          [
           0.3333333333333333,
           "#9c179e"
          ],
          [
           0.4444444444444444,
           "#bd3786"
          ],
          [
           0.5555555555555556,
           "#d8576b"
          ],
          [
           0.6666666666666666,
           "#ed7953"
          ],
          [
           0.7777777777777778,
           "#fb9f3a"
          ],
          [
           0.8888888888888888,
           "#fdca26"
          ],
          [
           1,
           "#f0f921"
          ]
         ]
        },
        "legend": {
         "itemsizing": "constant",
         "tracegroupgap": 0
        },
        "margin": {
         "t": 60
        },
        "template": {
         "data": {
          "bar": [
           {
            "error_x": {
             "color": "#2a3f5f"
            },
            "error_y": {
             "color": "#2a3f5f"
            },
            "marker": {
             "line": {
              "color": "#E5ECF6",
              "width": 0.5
             }
            },
            "type": "bar"
           }
          ],
          "barpolar": [
           {
            "marker": {
             "line": {
              "color": "#E5ECF6",
              "width": 0.5
             }
            },
            "type": "barpolar"
           }
          ],
          "carpet": [
           {
            "aaxis": {
             "endlinecolor": "#2a3f5f",
             "gridcolor": "white",
             "linecolor": "white",
             "minorgridcolor": "white",
             "startlinecolor": "#2a3f5f"
            },
            "baxis": {
             "endlinecolor": "#2a3f5f",
             "gridcolor": "white",
             "linecolor": "white",
             "minorgridcolor": "white",
             "startlinecolor": "#2a3f5f"
            },
            "type": "carpet"
           }
          ],
          "choropleth": [
           {
            "colorbar": {
             "outlinewidth": 0,
             "ticks": ""
            },
            "type": "choropleth"
           }
          ],
          "contour": [
           {
            "colorbar": {
             "outlinewidth": 0,
             "ticks": ""
            },
            "colorscale": [
             [
              0,
              "#0d0887"
             ],
             [
              0.1111111111111111,
              "#46039f"
             ],
             [
              0.2222222222222222,
              "#7201a8"
             ],
             [
              0.3333333333333333,
              "#9c179e"
             ],
             [
              0.4444444444444444,
              "#bd3786"
             ],
             [
              0.5555555555555556,
              "#d8576b"
             ],
             [
              0.6666666666666666,
              "#ed7953"
             ],
             [
              0.7777777777777778,
              "#fb9f3a"
             ],
             [
              0.8888888888888888,
              "#fdca26"
             ],
             [
              1,
              "#f0f921"
             ]
            ],
            "type": "contour"
           }
          ],
          "contourcarpet": [
           {
            "colorbar": {
             "outlinewidth": 0,
             "ticks": ""
            },
            "type": "contourcarpet"
           }
          ],
          "heatmap": [
           {
            "colorbar": {
             "outlinewidth": 0,
             "ticks": ""
            },
            "colorscale": [
             [
              0,
              "#0d0887"
             ],
             [
              0.1111111111111111,
              "#46039f"
             ],
             [
              0.2222222222222222,
              "#7201a8"
             ],
             [
              0.3333333333333333,
              "#9c179e"
             ],
             [
              0.4444444444444444,
              "#bd3786"
             ],
             [
              0.5555555555555556,
              "#d8576b"
             ],
             [
              0.6666666666666666,
              "#ed7953"
             ],
             [
              0.7777777777777778,
              "#fb9f3a"
             ],
             [
              0.8888888888888888,
              "#fdca26"
             ],
             [
              1,
              "#f0f921"
             ]
            ],
            "type": "heatmap"
           }
          ],
          "heatmapgl": [
           {
            "colorbar": {
             "outlinewidth": 0,
             "ticks": ""
            },
            "colorscale": [
             [
              0,
              "#0d0887"
             ],
             [
              0.1111111111111111,
              "#46039f"
             ],
             [
              0.2222222222222222,
              "#7201a8"
             ],
             [
              0.3333333333333333,
              "#9c179e"
             ],
             [
              0.4444444444444444,
              "#bd3786"
             ],
             [
              0.5555555555555556,
              "#d8576b"
             ],
             [
              0.6666666666666666,
              "#ed7953"
             ],
             [
              0.7777777777777778,
              "#fb9f3a"
             ],
             [
              0.8888888888888888,
              "#fdca26"
             ],
             [
              1,
              "#f0f921"
             ]
            ],
            "type": "heatmapgl"
           }
          ],
          "histogram": [
           {
            "marker": {
             "colorbar": {
              "outlinewidth": 0,
              "ticks": ""
             }
            },
            "type": "histogram"
           }
          ],
          "histogram2d": [
           {
            "colorbar": {
             "outlinewidth": 0,
             "ticks": ""
            },
            "colorscale": [
             [
              0,
              "#0d0887"
             ],
             [
              0.1111111111111111,
              "#46039f"
             ],
             [
              0.2222222222222222,
              "#7201a8"
             ],
             [
              0.3333333333333333,
              "#9c179e"
             ],
             [
              0.4444444444444444,
              "#bd3786"
             ],
             [
              0.5555555555555556,
              "#d8576b"
             ],
             [
              0.6666666666666666,
              "#ed7953"
             ],
             [
              0.7777777777777778,
              "#fb9f3a"
             ],
             [
              0.8888888888888888,
              "#fdca26"
             ],
             [
              1,
              "#f0f921"
             ]
            ],
            "type": "histogram2d"
           }
          ],
          "histogram2dcontour": [
           {
            "colorbar": {
             "outlinewidth": 0,
             "ticks": ""
            },
            "colorscale": [
             [
              0,
              "#0d0887"
             ],
             [
              0.1111111111111111,
              "#46039f"
             ],
             [
              0.2222222222222222,
              "#7201a8"
             ],
             [
              0.3333333333333333,
              "#9c179e"
             ],
             [
              0.4444444444444444,
              "#bd3786"
             ],
             [
              0.5555555555555556,
              "#d8576b"
             ],
             [
              0.6666666666666666,
              "#ed7953"
             ],
             [
              0.7777777777777778,
              "#fb9f3a"
             ],
             [
              0.8888888888888888,
              "#fdca26"
             ],
             [
              1,
              "#f0f921"
             ]
            ],
            "type": "histogram2dcontour"
           }
          ],
          "mesh3d": [
           {
            "colorbar": {
             "outlinewidth": 0,
             "ticks": ""
            },
            "type": "mesh3d"
           }
          ],
          "parcoords": [
           {
            "line": {
             "colorbar": {
              "outlinewidth": 0,
              "ticks": ""
             }
            },
            "type": "parcoords"
           }
          ],
          "pie": [
           {
            "automargin": true,
            "type": "pie"
           }
          ],
          "scatter": [
           {
            "marker": {
             "colorbar": {
              "outlinewidth": 0,
              "ticks": ""
             }
            },
            "type": "scatter"
           }
          ],
          "scatter3d": [
           {
            "line": {
             "colorbar": {
              "outlinewidth": 0,
              "ticks": ""
             }
            },
            "marker": {
             "colorbar": {
              "outlinewidth": 0,
              "ticks": ""
             }
            },
            "type": "scatter3d"
           }
          ],
          "scattercarpet": [
           {
            "marker": {
             "colorbar": {
              "outlinewidth": 0,
              "ticks": ""
             }
            },
            "type": "scattercarpet"
           }
          ],
          "scattergeo": [
           {
            "marker": {
             "colorbar": {
              "outlinewidth": 0,
              "ticks": ""
             }
            },
            "type": "scattergeo"
           }
          ],
          "scattergl": [
           {
            "marker": {
             "colorbar": {
              "outlinewidth": 0,
              "ticks": ""
             }
            },
            "type": "scattergl"
           }
          ],
          "scattermapbox": [
           {
            "marker": {
             "colorbar": {
              "outlinewidth": 0,
              "ticks": ""
             }
            },
            "type": "scattermapbox"
           }
          ],
          "scatterpolar": [
           {
            "marker": {
             "colorbar": {
              "outlinewidth": 0,
              "ticks": ""
             }
            },
            "type": "scatterpolar"
           }
          ],
          "scatterpolargl": [
           {
            "marker": {
             "colorbar": {
              "outlinewidth": 0,
              "ticks": ""
             }
            },
            "type": "scatterpolargl"
           }
          ],
          "scatterternary": [
           {
            "marker": {
             "colorbar": {
              "outlinewidth": 0,
              "ticks": ""
             }
            },
            "type": "scatterternary"
           }
          ],
          "surface": [
           {
            "colorbar": {
             "outlinewidth": 0,
             "ticks": ""
            },
            "colorscale": [
             [
              0,
              "#0d0887"
             ],
             [
              0.1111111111111111,
              "#46039f"
             ],
             [
              0.2222222222222222,
              "#7201a8"
             ],
             [
              0.3333333333333333,
              "#9c179e"
             ],
             [
              0.4444444444444444,
              "#bd3786"
             ],
             [
              0.5555555555555556,
              "#d8576b"
             ],
             [
              0.6666666666666666,
              "#ed7953"
             ],
             [
              0.7777777777777778,
              "#fb9f3a"
             ],
             [
              0.8888888888888888,
              "#fdca26"
             ],
             [
              1,
              "#f0f921"
             ]
            ],
            "type": "surface"
           }
          ],
          "table": [
           {
            "cells": {
             "fill": {
              "color": "#EBF0F8"
             },
             "line": {
              "color": "white"
             }
            },
            "header": {
             "fill": {
              "color": "#C8D4E3"
             },
             "line": {
              "color": "white"
             }
            },
            "type": "table"
           }
          ]
         },
         "layout": {
          "annotationdefaults": {
           "arrowcolor": "#2a3f5f",
           "arrowhead": 0,
           "arrowwidth": 1
          },
          "autotypenumbers": "strict",
          "coloraxis": {
           "colorbar": {
            "outlinewidth": 0,
            "ticks": ""
           }
          },
          "colorscale": {
           "diverging": [
            [
             0,
             "#8e0152"
            ],
            [
             0.1,
             "#c51b7d"
            ],
            [
             0.2,
             "#de77ae"
            ],
            [
             0.3,
             "#f1b6da"
            ],
            [
             0.4,
             "#fde0ef"
            ],
            [
             0.5,
             "#f7f7f7"
            ],
            [
             0.6,
             "#e6f5d0"
            ],
            [
             0.7,
             "#b8e186"
            ],
            [
             0.8,
             "#7fbc41"
            ],
            [
             0.9,
             "#4d9221"
            ],
            [
             1,
             "#276419"
            ]
           ],
           "sequential": [
            [
             0,
             "#0d0887"
            ],
            [
             0.1111111111111111,
             "#46039f"
            ],
            [
             0.2222222222222222,
             "#7201a8"
            ],
            [
             0.3333333333333333,
             "#9c179e"
            ],
            [
             0.4444444444444444,
             "#bd3786"
            ],
            [
             0.5555555555555556,
             "#d8576b"
            ],
            [
             0.6666666666666666,
             "#ed7953"
            ],
            [
             0.7777777777777778,
             "#fb9f3a"
            ],
            [
             0.8888888888888888,
             "#fdca26"
            ],
            [
             1,
             "#f0f921"
            ]
           ],
           "sequentialminus": [
            [
             0,
             "#0d0887"
            ],
            [
             0.1111111111111111,
             "#46039f"
            ],
            [
             0.2222222222222222,
             "#7201a8"
            ],
            [
             0.3333333333333333,
             "#9c179e"
            ],
            [
             0.4444444444444444,
             "#bd3786"
            ],
            [
             0.5555555555555556,
             "#d8576b"
            ],
            [
             0.6666666666666666,
             "#ed7953"
            ],
            [
             0.7777777777777778,
             "#fb9f3a"
            ],
            [
             0.8888888888888888,
             "#fdca26"
            ],
            [
             1,
             "#f0f921"
            ]
           ]
          },
          "colorway": [
           "#636efa",
           "#EF553B",
           "#00cc96",
           "#ab63fa",
           "#FFA15A",
           "#19d3f3",
           "#FF6692",
           "#B6E880",
           "#FF97FF",
           "#FECB52"
          ],
          "font": {
           "color": "#2a3f5f"
          },
          "geo": {
           "bgcolor": "white",
           "lakecolor": "white",
           "landcolor": "#E5ECF6",
           "showlakes": true,
           "showland": true,
           "subunitcolor": "white"
          },
          "hoverlabel": {
           "align": "left"
          },
          "hovermode": "closest",
          "mapbox": {
           "style": "light"
          },
          "paper_bgcolor": "white",
          "plot_bgcolor": "#E5ECF6",
          "polar": {
           "angularaxis": {
            "gridcolor": "white",
            "linecolor": "white",
            "ticks": ""
           },
           "bgcolor": "#E5ECF6",
           "radialaxis": {
            "gridcolor": "white",
            "linecolor": "white",
            "ticks": ""
           }
          },
          "scene": {
           "xaxis": {
            "backgroundcolor": "#E5ECF6",
            "gridcolor": "white",
            "gridwidth": 2,
            "linecolor": "white",
            "showbackground": true,
            "ticks": "",
            "zerolinecolor": "white"
           },
           "yaxis": {
            "backgroundcolor": "#E5ECF6",
            "gridcolor": "white",
            "gridwidth": 2,
            "linecolor": "white",
            "showbackground": true,
            "ticks": "",
            "zerolinecolor": "white"
           },
           "zaxis": {
            "backgroundcolor": "#E5ECF6",
            "gridcolor": "white",
            "gridwidth": 2,
            "linecolor": "white",
            "showbackground": true,
            "ticks": "",
            "zerolinecolor": "white"
           }
          },
          "shapedefaults": {
           "line": {
            "color": "#2a3f5f"
           }
          },
          "ternary": {
           "aaxis": {
            "gridcolor": "white",
            "linecolor": "white",
            "ticks": ""
           },
           "baxis": {
            "gridcolor": "white",
            "linecolor": "white",
            "ticks": ""
           },
           "bgcolor": "#E5ECF6",
           "caxis": {
            "gridcolor": "white",
            "linecolor": "white",
            "ticks": ""
           }
          },
          "title": {
           "x": 0.05
          },
          "xaxis": {
           "automargin": true,
           "gridcolor": "white",
           "linecolor": "white",
           "ticks": "",
           "title": {
            "standoff": 15
           },
           "zerolinecolor": "white",
           "zerolinewidth": 2
          },
          "yaxis": {
           "automargin": true,
           "gridcolor": "white",
           "linecolor": "white",
           "ticks": "",
           "title": {
            "standoff": 15
           },
           "zerolinecolor": "white",
           "zerolinewidth": 2
          }
         }
        },
        "xaxis": {
         "anchor": "y",
         "domain": [
          0,
          1
         ],
         "title": {
          "text": "sum_carts"
         }
        },
        "yaxis": {
         "anchor": "x",
         "domain": [
          0,
          1
         ],
         "title": {
          "text": "sum_turnover"
         }
        }
       }
      }
     },
     "metadata": {}
    }
   ],
   "source": [
    "# Visualise result\n",
    "fig = px.scatter(centers, x=\"sum_carts\", y=\"sum_turnover\", size=\"count_session\", color=\"sum_views\", hover_data=[\"sum_purchases\"])\n",
    "fig.show()"
   ]
  },
  {
   "cell_type": "code",
   "execution_count": 96,
   "metadata": {},
   "outputs": [
    {
     "output_type": "display_data",
     "data": {
      "application/vnd.plotly.v1+json": {
       "config": {
        "plotlyServerURL": "https://plot.ly"
       },
       "data": [
        {
         "customdata": [
          [
           1
          ],
          [
           1
          ]
         ],
         "hovertemplate": "sum_carts=%{x}<br>sum_turnover=%{y}<br>count_session=%{marker.size}<br>sum_purchases=%{customdata[0]}<br>sum_views=%{marker.color}<extra></extra>",
         "legendgroup": "",
         "marker": {
          "color": [
           2,
           1
          ],
          "coloraxis": "coloraxis",
          "size": [
           1,
           1
          ],
          "sizemode": "area",
          "sizeref": 0.0025,
          "symbol": "circle"
         },
         "mode": "markers",
         "name": "",
         "orientation": "v",
         "showlegend": false,
         "type": "scatter",
         "x": [
          0,
          0
         ],
         "xaxis": "x",
         "y": [
          566.3,
          211.92
         ],
         "yaxis": "y"
        }
       ],
       "layout": {
        "coloraxis": {
         "colorbar": {
          "title": {
           "text": "sum_views"
          }
         },
         "colorscale": [
          [
           0,
           "#0d0887"
          ],
          [
           0.1111111111111111,
           "#46039f"
          ],
          [
           0.2222222222222222,
           "#7201a8"
          ],
          [
           0.3333333333333333,
           "#9c179e"
          ],
          [
           0.4444444444444444,
           "#bd3786"
          ],
          [
           0.5555555555555556,
           "#d8576b"
          ],
          [
           0.6666666666666666,
           "#ed7953"
          ],
          [
           0.7777777777777778,
           "#fb9f3a"
          ],
          [
           0.8888888888888888,
           "#fdca26"
          ],
          [
           1,
           "#f0f921"
          ]
         ]
        },
        "legend": {
         "itemsizing": "constant",
         "tracegroupgap": 0
        },
        "margin": {
         "t": 60
        },
        "template": {
         "data": {
          "bar": [
           {
            "error_x": {
             "color": "#2a3f5f"
            },
            "error_y": {
             "color": "#2a3f5f"
            },
            "marker": {
             "line": {
              "color": "#E5ECF6",
              "width": 0.5
             }
            },
            "type": "bar"
           }
          ],
          "barpolar": [
           {
            "marker": {
             "line": {
              "color": "#E5ECF6",
              "width": 0.5
             }
            },
            "type": "barpolar"
           }
          ],
          "carpet": [
           {
            "aaxis": {
             "endlinecolor": "#2a3f5f",
             "gridcolor": "white",
             "linecolor": "white",
             "minorgridcolor": "white",
             "startlinecolor": "#2a3f5f"
            },
            "baxis": {
             "endlinecolor": "#2a3f5f",
             "gridcolor": "white",
             "linecolor": "white",
             "minorgridcolor": "white",
             "startlinecolor": "#2a3f5f"
            },
            "type": "carpet"
           }
          ],
          "choropleth": [
           {
            "colorbar": {
             "outlinewidth": 0,
             "ticks": ""
            },
            "type": "choropleth"
           }
          ],
          "contour": [
           {
            "colorbar": {
             "outlinewidth": 0,
             "ticks": ""
            },
            "colorscale": [
             [
              0,
              "#0d0887"
             ],
             [
              0.1111111111111111,
              "#46039f"
             ],
             [
              0.2222222222222222,
              "#7201a8"
             ],
             [
              0.3333333333333333,
              "#9c179e"
             ],
             [
              0.4444444444444444,
              "#bd3786"
             ],
             [
              0.5555555555555556,
              "#d8576b"
             ],
             [
              0.6666666666666666,
              "#ed7953"
             ],
             [
              0.7777777777777778,
              "#fb9f3a"
             ],
             [
              0.8888888888888888,
              "#fdca26"
             ],
             [
              1,
              "#f0f921"
             ]
            ],
            "type": "contour"
           }
          ],
          "contourcarpet": [
           {
            "colorbar": {
             "outlinewidth": 0,
             "ticks": ""
            },
            "type": "contourcarpet"
           }
          ],
          "heatmap": [
           {
            "colorbar": {
             "outlinewidth": 0,
             "ticks": ""
            },
            "colorscale": [
             [
              0,
              "#0d0887"
             ],
             [
              0.1111111111111111,
              "#46039f"
             ],
             [
              0.2222222222222222,
              "#7201a8"
             ],
             [
              0.3333333333333333,
              "#9c179e"
             ],
             [
              0.4444444444444444,
              "#bd3786"
             ],
             [
              0.5555555555555556,
              "#d8576b"
             ],
             [
              0.6666666666666666,
              "#ed7953"
             ],
             [
              0.7777777777777778,
              "#fb9f3a"
             ],
             [
              0.8888888888888888,
              "#fdca26"
             ],
             [
              1,
              "#f0f921"
             ]
            ],
            "type": "heatmap"
           }
          ],
          "heatmapgl": [
           {
            "colorbar": {
             "outlinewidth": 0,
             "ticks": ""
            },
            "colorscale": [
             [
              0,
              "#0d0887"
             ],
             [
              0.1111111111111111,
              "#46039f"
             ],
             [
              0.2222222222222222,
              "#7201a8"
             ],
             [
              0.3333333333333333,
              "#9c179e"
             ],
             [
              0.4444444444444444,
              "#bd3786"
             ],
             [
              0.5555555555555556,
              "#d8576b"
             ],
             [
              0.6666666666666666,
              "#ed7953"
             ],
             [
              0.7777777777777778,
              "#fb9f3a"
             ],
             [
              0.8888888888888888,
              "#fdca26"
             ],
             [
              1,
              "#f0f921"
             ]
            ],
            "type": "heatmapgl"
           }
          ],
          "histogram": [
           {
            "marker": {
             "colorbar": {
              "outlinewidth": 0,
              "ticks": ""
             }
            },
            "type": "histogram"
           }
          ],
          "histogram2d": [
           {
            "colorbar": {
             "outlinewidth": 0,
             "ticks": ""
            },
            "colorscale": [
             [
              0,
              "#0d0887"
             ],
             [
              0.1111111111111111,
              "#46039f"
             ],
             [
              0.2222222222222222,
              "#7201a8"
             ],
             [
              0.3333333333333333,
              "#9c179e"
             ],
             [
              0.4444444444444444,
              "#bd3786"
             ],
             [
              0.5555555555555556,
              "#d8576b"
             ],
             [
              0.6666666666666666,
              "#ed7953"
             ],
             [
              0.7777777777777778,
              "#fb9f3a"
             ],
             [
              0.8888888888888888,
              "#fdca26"
             ],
             [
              1,
              "#f0f921"
             ]
            ],
            "type": "histogram2d"
           }
          ],
          "histogram2dcontour": [
           {
            "colorbar": {
             "outlinewidth": 0,
             "ticks": ""
            },
            "colorscale": [
             [
              0,
              "#0d0887"
             ],
             [
              0.1111111111111111,
              "#46039f"
             ],
             [
              0.2222222222222222,
              "#7201a8"
             ],
             [
              0.3333333333333333,
              "#9c179e"
             ],
             [
              0.4444444444444444,
              "#bd3786"
             ],
             [
              0.5555555555555556,
              "#d8576b"
             ],
             [
              0.6666666666666666,
              "#ed7953"
             ],
             [
              0.7777777777777778,
              "#fb9f3a"
             ],
             [
              0.8888888888888888,
              "#fdca26"
             ],
             [
              1,
              "#f0f921"
             ]
            ],
            "type": "histogram2dcontour"
           }
          ],
          "mesh3d": [
           {
            "colorbar": {
             "outlinewidth": 0,
             "ticks": ""
            },
            "type": "mesh3d"
           }
          ],
          "parcoords": [
           {
            "line": {
             "colorbar": {
              "outlinewidth": 0,
              "ticks": ""
             }
            },
            "type": "parcoords"
           }
          ],
          "pie": [
           {
            "automargin": true,
            "type": "pie"
           }
          ],
          "scatter": [
           {
            "marker": {
             "colorbar": {
              "outlinewidth": 0,
              "ticks": ""
             }
            },
            "type": "scatter"
           }
          ],
          "scatter3d": [
           {
            "line": {
             "colorbar": {
              "outlinewidth": 0,
              "ticks": ""
             }
            },
            "marker": {
             "colorbar": {
              "outlinewidth": 0,
              "ticks": ""
             }
            },
            "type": "scatter3d"
           }
          ],
          "scattercarpet": [
           {
            "marker": {
             "colorbar": {
              "outlinewidth": 0,
              "ticks": ""
             }
            },
            "type": "scattercarpet"
           }
          ],
          "scattergeo": [
           {
            "marker": {
             "colorbar": {
              "outlinewidth": 0,
              "ticks": ""
             }
            },
            "type": "scattergeo"
           }
          ],
          "scattergl": [
           {
            "marker": {
             "colorbar": {
              "outlinewidth": 0,
              "ticks": ""
             }
            },
            "type": "scattergl"
           }
          ],
          "scattermapbox": [
           {
            "marker": {
             "colorbar": {
              "outlinewidth": 0,
              "ticks": ""
             }
            },
            "type": "scattermapbox"
           }
          ],
          "scatterpolar": [
           {
            "marker": {
             "colorbar": {
              "outlinewidth": 0,
              "ticks": ""
             }
            },
            "type": "scatterpolar"
           }
          ],
          "scatterpolargl": [
           {
            "marker": {
             "colorbar": {
              "outlinewidth": 0,
              "ticks": ""
             }
            },
            "type": "scatterpolargl"
           }
          ],
          "scatterternary": [
           {
            "marker": {
             "colorbar": {
              "outlinewidth": 0,
              "ticks": ""
             }
            },
            "type": "scatterternary"
           }
          ],
          "surface": [
           {
            "colorbar": {
             "outlinewidth": 0,
             "ticks": ""
            },
            "colorscale": [
             [
              0,
              "#0d0887"
             ],
             [
              0.1111111111111111,
              "#46039f"
             ],
             [
              0.2222222222222222,
              "#7201a8"
             ],
             [
              0.3333333333333333,
              "#9c179e"
             ],
             [
              0.4444444444444444,
              "#bd3786"
             ],
             [
              0.5555555555555556,
              "#d8576b"
             ],
             [
              0.6666666666666666,
              "#ed7953"
             ],
             [
              0.7777777777777778,
              "#fb9f3a"
             ],
             [
              0.8888888888888888,
              "#fdca26"
             ],
             [
              1,
              "#f0f921"
             ]
            ],
            "type": "surface"
           }
          ],
          "table": [
           {
            "cells": {
             "fill": {
              "color": "#EBF0F8"
             },
             "line": {
              "color": "white"
             }
            },
            "header": {
             "fill": {
              "color": "#C8D4E3"
             },
             "line": {
              "color": "white"
             }
            },
            "type": "table"
           }
          ]
         },
         "layout": {
          "annotationdefaults": {
           "arrowcolor": "#2a3f5f",
           "arrowhead": 0,
           "arrowwidth": 1
          },
          "autotypenumbers": "strict",
          "coloraxis": {
           "colorbar": {
            "outlinewidth": 0,
            "ticks": ""
           }
          },
          "colorscale": {
           "diverging": [
            [
             0,
             "#8e0152"
            ],
            [
             0.1,
             "#c51b7d"
            ],
            [
             0.2,
             "#de77ae"
            ],
            [
             0.3,
             "#f1b6da"
            ],
            [
             0.4,
             "#fde0ef"
            ],
            [
             0.5,
             "#f7f7f7"
            ],
            [
             0.6,
             "#e6f5d0"
            ],
            [
             0.7,
             "#b8e186"
            ],
            [
             0.8,
             "#7fbc41"
            ],
            [
             0.9,
             "#4d9221"
            ],
            [
             1,
             "#276419"
            ]
           ],
           "sequential": [
            [
             0,
             "#0d0887"
            ],
            [
             0.1111111111111111,
             "#46039f"
            ],
            [
             0.2222222222222222,
             "#7201a8"
            ],
            [
             0.3333333333333333,
             "#9c179e"
            ],
            [
             0.4444444444444444,
             "#bd3786"
            ],
            [
             0.5555555555555556,
             "#d8576b"
            ],
            [
             0.6666666666666666,
             "#ed7953"
            ],
            [
             0.7777777777777778,
             "#fb9f3a"
            ],
            [
             0.8888888888888888,
             "#fdca26"
            ],
            [
             1,
             "#f0f921"
            ]
           ],
           "sequentialminus": [
            [
             0,
             "#0d0887"
            ],
            [
             0.1111111111111111,
             "#46039f"
            ],
            [
             0.2222222222222222,
             "#7201a8"
            ],
            [
             0.3333333333333333,
             "#9c179e"
            ],
            [
             0.4444444444444444,
             "#bd3786"
            ],
            [
             0.5555555555555556,
             "#d8576b"
            ],
            [
             0.6666666666666666,
             "#ed7953"
            ],
            [
             0.7777777777777778,
             "#fb9f3a"
            ],
            [
             0.8888888888888888,
             "#fdca26"
            ],
            [
             1,
             "#f0f921"
            ]
           ]
          },
          "colorway": [
           "#636efa",
           "#EF553B",
           "#00cc96",
           "#ab63fa",
           "#FFA15A",
           "#19d3f3",
           "#FF6692",
           "#B6E880",
           "#FF97FF",
           "#FECB52"
          ],
          "font": {
           "color": "#2a3f5f"
          },
          "geo": {
           "bgcolor": "white",
           "lakecolor": "white",
           "landcolor": "#E5ECF6",
           "showlakes": true,
           "showland": true,
           "subunitcolor": "white"
          },
          "hoverlabel": {
           "align": "left"
          },
          "hovermode": "closest",
          "mapbox": {
           "style": "light"
          },
          "paper_bgcolor": "white",
          "plot_bgcolor": "#E5ECF6",
          "polar": {
           "angularaxis": {
            "gridcolor": "white",
            "linecolor": "white",
            "ticks": ""
           },
           "bgcolor": "#E5ECF6",
           "radialaxis": {
            "gridcolor": "white",
            "linecolor": "white",
            "ticks": ""
           }
          },
          "scene": {
           "xaxis": {
            "backgroundcolor": "#E5ECF6",
            "gridcolor": "white",
            "gridwidth": 2,
            "linecolor": "white",
            "showbackground": true,
            "ticks": "",
            "zerolinecolor": "white"
           },
           "yaxis": {
            "backgroundcolor": "#E5ECF6",
            "gridcolor": "white",
            "gridwidth": 2,
            "linecolor": "white",
            "showbackground": true,
            "ticks": "",
            "zerolinecolor": "white"
           },
           "zaxis": {
            "backgroundcolor": "#E5ECF6",
            "gridcolor": "white",
            "gridwidth": 2,
            "linecolor": "white",
            "showbackground": true,
            "ticks": "",
            "zerolinecolor": "white"
           }
          },
          "shapedefaults": {
           "line": {
            "color": "#2a3f5f"
           }
          },
          "ternary": {
           "aaxis": {
            "gridcolor": "white",
            "linecolor": "white",
            "ticks": ""
           },
           "baxis": {
            "gridcolor": "white",
            "linecolor": "white",
            "ticks": ""
           },
           "bgcolor": "#E5ECF6",
           "caxis": {
            "gridcolor": "white",
            "linecolor": "white",
            "ticks": ""
           }
          },
          "title": {
           "x": 0.05
          },
          "xaxis": {
           "automargin": true,
           "gridcolor": "white",
           "linecolor": "white",
           "ticks": "",
           "title": {
            "standoff": 15
           },
           "zerolinecolor": "white",
           "zerolinewidth": 2
          },
          "yaxis": {
           "automargin": true,
           "gridcolor": "white",
           "linecolor": "white",
           "ticks": "",
           "title": {
            "standoff": 15
           },
           "zerolinecolor": "white",
           "zerolinewidth": 2
          }
         }
        },
        "xaxis": {
         "anchor": "y",
         "domain": [
          0,
          1
         ],
         "title": {
          "text": "sum_carts"
         }
        },
        "yaxis": {
         "anchor": "x",
         "domain": [
          0,
          1
         ],
         "title": {
          "text": "sum_turnover"
         }
        }
       }
      }
     },
     "metadata": {}
    }
   ],
   "source": [
    "fig = px.scatter(predictions.toPandas(), x=\"sum_carts\", y=\"sum_turnover\", size=\"count_session\", color=\"sum_views\", hover_data=[\"sum_purchases\"])\n",
    "fig.show()"
   ]
  },
  {
   "cell_type": "code",
   "execution_count": 97,
   "metadata": {},
   "outputs": [
    {
     "output_type": "display_data",
     "data": {
      "application/vnd.plotly.v1+json": {
       "config": {
        "plotlyServerURL": "https://plot.ly"
       },
       "data": [
        {
         "customdata": [
          [
           0.2
          ],
          [
           0.2
          ],
          [
           0.2
          ],
          [
           0.2
          ],
          [
           0.2
          ],
          [
           0.4
          ],
          [
           0.3
          ],
          [
           0.2
          ],
          [
           0.2
          ],
          [
           0.1
          ],
          [
           0.2
          ],
          [
           0.2
          ],
          [
           0.1
          ],
          [
           0.1
          ],
          [
           0.2
          ],
          [
           0.4
          ],
          [
           0.4
          ],
          [
           0.3
          ],
          [
           0.3
          ],
          [
           0.3
          ],
          [
           0.2
          ],
          [
           0.4
          ],
          [
           0.2
          ],
          [
           0.5
          ],
          [
           0.2
          ],
          [
           0.2
          ],
          [
           0.4
          ],
          [
           0.2
          ],
          [
           0.2
          ],
          [
           0.2
          ],
          [
           0.2
          ],
          [
           0.4
          ],
          [
           0.1
          ],
          [
           0.2
          ],
          [
           0.1
          ],
          [
           0.2
          ],
          [
           0.2
          ],
          [
           0.1
          ],
          [
           0.2
          ],
          [
           0.2
          ],
          [
           0.3
          ],
          [
           0.3
          ],
          [
           0.2
          ],
          [
           0.6
          ],
          [
           0.4
          ],
          [
           0.3
          ],
          [
           0.2
          ],
          [
           0.2
          ],
          [
           0.2
          ],
          [
           0.2
          ]
         ],
         "hovertemplate": "species=setosa<br>sepal_width=%{x}<br>sepal_length=%{y}<br>petal_length=%{marker.size}<br>petal_width=%{customdata[0]}<extra></extra>",
         "legendgroup": "setosa",
         "marker": {
          "color": "#636efa",
          "size": [
           1.4,
           1.4,
           1.3,
           1.5,
           1.4,
           1.7,
           1.4,
           1.5,
           1.4,
           1.5,
           1.5,
           1.6,
           1.4,
           1.1,
           1.2,
           1.5,
           1.3,
           1.4,
           1.7,
           1.5,
           1.7,
           1.5,
           1,
           1.7,
           1.9,
           1.6,
           1.6,
           1.5,
           1.4,
           1.6,
           1.6,
           1.5,
           1.5,
           1.4,
           1.5,
           1.2,
           1.3,
           1.5,
           1.3,
           1.5,
           1.3,
           1.3,
           1.3,
           1.6,
           1.9,
           1.4,
           1.6,
           1.4,
           1.5,
           1.4
          ],
          "sizemode": "area",
          "sizeref": 0.01725,
          "symbol": "circle"
         },
         "mode": "markers",
         "name": "setosa",
         "orientation": "v",
         "showlegend": true,
         "type": "scatter",
         "x": [
          3.5,
          3,
          3.2,
          3.1,
          3.6,
          3.9,
          3.4,
          3.4,
          2.9,
          3.1,
          3.7,
          3.4,
          3,
          3,
          4,
          4.4,
          3.9,
          3.5,
          3.8,
          3.8,
          3.4,
          3.7,
          3.6,
          3.3,
          3.4,
          3,
          3.4,
          3.5,
          3.4,
          3.2,
          3.1,
          3.4,
          4.1,
          4.2,
          3.1,
          3.2,
          3.5,
          3.1,
          3,
          3.4,
          3.5,
          2.3,
          3.2,
          3.5,
          3.8,
          3,
          3.8,
          3.2,
          3.7,
          3.3
         ],
         "xaxis": "x",
         "y": [
          5.1,
          4.9,
          4.7,
          4.6,
          5,
          5.4,
          4.6,
          5,
          4.4,
          4.9,
          5.4,
          4.8,
          4.8,
          4.3,
          5.8,
          5.7,
          5.4,
          5.1,
          5.7,
          5.1,
          5.4,
          5.1,
          4.6,
          5.1,
          4.8,
          5,
          5,
          5.2,
          5.2,
          4.7,
          4.8,
          5.4,
          5.2,
          5.5,
          4.9,
          5,
          5.5,
          4.9,
          4.4,
          5.1,
          5,
          4.5,
          4.4,
          5,
          5.1,
          4.8,
          5.1,
          4.6,
          5.3,
          5
         ],
         "yaxis": "y"
        },
        {
         "customdata": [
          [
           1.4
          ],
          [
           1.5
          ],
          [
           1.5
          ],
          [
           1.3
          ],
          [
           1.5
          ],
          [
           1.3
          ],
          [
           1.6
          ],
          [
           1
          ],
          [
           1.3
          ],
          [
           1.4
          ],
          [
           1
          ],
          [
           1.5
          ],
          [
           1
          ],
          [
           1.4
          ],
          [
           1.3
          ],
          [
           1.4
          ],
          [
           1.5
          ],
          [
           1
          ],
          [
           1.5
          ],
          [
           1.1
          ],
          [
           1.8
          ],
          [
           1.3
          ],
          [
           1.5
          ],
          [
           1.2
          ],
          [
           1.3
          ],
          [
           1.4
          ],
          [
           1.4
          ],
          [
           1.7
          ],
          [
           1.5
          ],
          [
           1
          ],
          [
           1.1
          ],
          [
           1
          ],
          [
           1.2
          ],
          [
           1.6
          ],
          [
           1.5
          ],
          [
           1.6
          ],
          [
           1.5
          ],
          [
           1.3
          ],
          [
           1.3
          ],
          [
           1.3
          ],
          [
           1.2
          ],
          [
           1.4
          ],
          [
           1.2
          ],
          [
           1
          ],
          [
           1.3
          ],
          [
           1.2
          ],
          [
           1.3
          ],
          [
           1.3
          ],
          [
           1.1
          ],
          [
           1.3
          ]
         ],
         "hovertemplate": "species=versicolor<br>sepal_width=%{x}<br>sepal_length=%{y}<br>petal_length=%{marker.size}<br>petal_width=%{customdata[0]}<extra></extra>",
         "legendgroup": "versicolor",
         "marker": {
          "color": "#EF553B",
          "size": [
           4.7,
           4.5,
           4.9,
           4,
           4.6,
           4.5,
           4.7,
           3.3,
           4.6,
           3.9,
           3.5,
           4.2,
           4,
           4.7,
           3.6,
           4.4,
           4.5,
           4.1,
           4.5,
           3.9,
           4.8,
           4,
           4.9,
           4.7,
           4.3,
           4.4,
           4.8,
           5,
           4.5,
           3.5,
           3.8,
           3.7,
           3.9,
           5.1,
           4.5,
           4.5,
           4.7,
           4.4,
           4.1,
           4,
           4.4,
           4.6,
           4,
           3.3,
           4.2,
           4.2,
           4.2,
           4.3,
           3,
           4.1
          ],
          "sizemode": "area",
          "sizeref": 0.01725,
          "symbol": "circle"
         },
         "mode": "markers",
         "name": "versicolor",
         "orientation": "v",
         "showlegend": true,
         "type": "scatter",
         "x": [
          3.2,
          3.2,
          3.1,
          2.3,
          2.8,
          2.8,
          3.3,
          2.4,
          2.9,
          2.7,
          2,
          3,
          2.2,
          2.9,
          2.9,
          3.1,
          3,
          2.7,
          2.2,
          2.5,
          3.2,
          2.8,
          2.5,
          2.8,
          2.9,
          3,
          2.8,
          3,
          2.9,
          2.6,
          2.4,
          2.4,
          2.7,
          2.7,
          3,
          3.4,
          3.1,
          2.3,
          3,
          2.5,
          2.6,
          3,
          2.6,
          2.3,
          2.7,
          3,
          2.9,
          2.9,
          2.5,
          2.8
         ],
         "xaxis": "x",
         "y": [
          7,
          6.4,
          6.9,
          5.5,
          6.5,
          5.7,
          6.3,
          4.9,
          6.6,
          5.2,
          5,
          5.9,
          6,
          6.1,
          5.6,
          6.7,
          5.6,
          5.8,
          6.2,
          5.6,
          5.9,
          6.1,
          6.3,
          6.1,
          6.4,
          6.6,
          6.8,
          6.7,
          6,
          5.7,
          5.5,
          5.5,
          5.8,
          6,
          5.4,
          6,
          6.7,
          6.3,
          5.6,
          5.5,
          5.5,
          6.1,
          5.8,
          5,
          5.6,
          5.7,
          5.7,
          6.2,
          5.1,
          5.7
         ],
         "yaxis": "y"
        },
        {
         "customdata": [
          [
           2.5
          ],
          [
           1.9
          ],
          [
           2.1
          ],
          [
           1.8
          ],
          [
           2.2
          ],
          [
           2.1
          ],
          [
           1.7
          ],
          [
           1.8
          ],
          [
           1.8
          ],
          [
           2.5
          ],
          [
           2
          ],
          [
           1.9
          ],
          [
           2.1
          ],
          [
           2
          ],
          [
           2.4
          ],
          [
           2.3
          ],
          [
           1.8
          ],
          [
           2.2
          ],
          [
           2.3
          ],
          [
           1.5
          ],
          [
           2.3
          ],
          [
           2
          ],
          [
           2
          ],
          [
           1.8
          ],
          [
           2.1
          ],
          [
           1.8
          ],
          [
           1.8
          ],
          [
           1.8
          ],
          [
           2.1
          ],
          [
           1.6
          ],
          [
           1.9
          ],
          [
           2
          ],
          [
           2.2
          ],
          [
           1.5
          ],
          [
           1.4
          ],
          [
           2.3
          ],
          [
           2.4
          ],
          [
           1.8
          ],
          [
           1.8
          ],
          [
           2.1
          ],
          [
           2.4
          ],
          [
           2.3
          ],
          [
           1.9
          ],
          [
           2.3
          ],
          [
           2.5
          ],
          [
           2.3
          ],
          [
           1.9
          ],
          [
           2
          ],
          [
           2.3
          ],
          [
           1.8
          ]
         ],
         "hovertemplate": "species=virginica<br>sepal_width=%{x}<br>sepal_length=%{y}<br>petal_length=%{marker.size}<br>petal_width=%{customdata[0]}<extra></extra>",
         "legendgroup": "virginica",
         "marker": {
          "color": "#00cc96",
          "size": [
           6,
           5.1,
           5.9,
           5.6,
           5.8,
           6.6,
           4.5,
           6.3,
           5.8,
           6.1,
           5.1,
           5.3,
           5.5,
           5,
           5.1,
           5.3,
           5.5,
           6.7,
           6.9,
           5,
           5.7,
           4.9,
           6.7,
           4.9,
           5.7,
           6,
           4.8,
           4.9,
           5.6,
           5.8,
           6.1,
           6.4,
           5.6,
           5.1,
           5.6,
           6.1,
           5.6,
           5.5,
           4.8,
           5.4,
           5.6,
           5.1,
           5.1,
           5.9,
           5.7,
           5.2,
           5,
           5.2,
           5.4,
           5.1
          ],
          "sizemode": "area",
          "sizeref": 0.01725,
          "symbol": "circle"
         },
         "mode": "markers",
         "name": "virginica",
         "orientation": "v",
         "showlegend": true,
         "type": "scatter",
         "x": [
          3.3,
          2.7,
          3,
          2.9,
          3,
          3,
          2.5,
          2.9,
          2.5,
          3.6,
          3.2,
          2.7,
          3,
          2.5,
          2.8,
          3.2,
          3,
          3.8,
          2.6,
          2.2,
          3.2,
          2.8,
          2.8,
          2.7,
          3.3,
          3.2,
          2.8,
          3,
          2.8,
          3,
          2.8,
          3.8,
          2.8,
          2.8,
          2.6,
          3,
          3.4,
          3.1,
          3,
          3.1,
          3.1,
          3.1,
          2.7,
          3.2,
          3.3,
          3,
          2.5,
          3,
          3.4,
          3
         ],
         "xaxis": "x",
         "y": [
          6.3,
          5.8,
          7.1,
          6.3,
          6.5,
          7.6,
          4.9,
          7.3,
          6.7,
          7.2,
          6.5,
          6.4,
          6.8,
          5.7,
          5.8,
          6.4,
          6.5,
          7.7,
          7.7,
          6,
          6.9,
          5.6,
          7.7,
          6.3,
          6.7,
          7.2,
          6.2,
          6.1,
          6.4,
          7.2,
          7.4,
          7.9,
          6.4,
          6.3,
          6.1,
          7.7,
          6.3,
          6.4,
          6,
          6.9,
          6.7,
          6.9,
          5.8,
          6.8,
          6.7,
          6.7,
          6.3,
          6.5,
          6.2,
          5.9
         ],
         "yaxis": "y"
        }
       ],
       "layout": {
        "legend": {
         "itemsizing": "constant",
         "title": {
          "text": "species"
         },
         "tracegroupgap": 0
        },
        "margin": {
         "t": 60
        },
        "template": {
         "data": {
          "bar": [
           {
            "error_x": {
             "color": "#2a3f5f"
            },
            "error_y": {
             "color": "#2a3f5f"
            },
            "marker": {
             "line": {
              "color": "#E5ECF6",
              "width": 0.5
             }
            },
            "type": "bar"
           }
          ],
          "barpolar": [
           {
            "marker": {
             "line": {
              "color": "#E5ECF6",
              "width": 0.5
             }
            },
            "type": "barpolar"
           }
          ],
          "carpet": [
           {
            "aaxis": {
             "endlinecolor": "#2a3f5f",
             "gridcolor": "white",
             "linecolor": "white",
             "minorgridcolor": "white",
             "startlinecolor": "#2a3f5f"
            },
            "baxis": {
             "endlinecolor": "#2a3f5f",
             "gridcolor": "white",
             "linecolor": "white",
             "minorgridcolor": "white",
             "startlinecolor": "#2a3f5f"
            },
            "type": "carpet"
           }
          ],
          "choropleth": [
           {
            "colorbar": {
             "outlinewidth": 0,
             "ticks": ""
            },
            "type": "choropleth"
           }
          ],
          "contour": [
           {
            "colorbar": {
             "outlinewidth": 0,
             "ticks": ""
            },
            "colorscale": [
             [
              0,
              "#0d0887"
             ],
             [
              0.1111111111111111,
              "#46039f"
             ],
             [
              0.2222222222222222,
              "#7201a8"
             ],
             [
              0.3333333333333333,
              "#9c179e"
             ],
             [
              0.4444444444444444,
              "#bd3786"
             ],
             [
              0.5555555555555556,
              "#d8576b"
             ],
             [
              0.6666666666666666,
              "#ed7953"
             ],
             [
              0.7777777777777778,
              "#fb9f3a"
             ],
             [
              0.8888888888888888,
              "#fdca26"
             ],
             [
              1,
              "#f0f921"
             ]
            ],
            "type": "contour"
           }
          ],
          "contourcarpet": [
           {
            "colorbar": {
             "outlinewidth": 0,
             "ticks": ""
            },
            "type": "contourcarpet"
           }
          ],
          "heatmap": [
           {
            "colorbar": {
             "outlinewidth": 0,
             "ticks": ""
            },
            "colorscale": [
             [
              0,
              "#0d0887"
             ],
             [
              0.1111111111111111,
              "#46039f"
             ],
             [
              0.2222222222222222,
              "#7201a8"
             ],
             [
              0.3333333333333333,
              "#9c179e"
             ],
             [
              0.4444444444444444,
              "#bd3786"
             ],
             [
              0.5555555555555556,
              "#d8576b"
             ],
             [
              0.6666666666666666,
              "#ed7953"
             ],
             [
              0.7777777777777778,
              "#fb9f3a"
             ],
             [
              0.8888888888888888,
              "#fdca26"
             ],
             [
              1,
              "#f0f921"
             ]
            ],
            "type": "heatmap"
           }
          ],
          "heatmapgl": [
           {
            "colorbar": {
             "outlinewidth": 0,
             "ticks": ""
            },
            "colorscale": [
             [
              0,
              "#0d0887"
             ],
             [
              0.1111111111111111,
              "#46039f"
             ],
             [
              0.2222222222222222,
              "#7201a8"
             ],
             [
              0.3333333333333333,
              "#9c179e"
             ],
             [
              0.4444444444444444,
              "#bd3786"
             ],
             [
              0.5555555555555556,
              "#d8576b"
             ],
             [
              0.6666666666666666,
              "#ed7953"
             ],
             [
              0.7777777777777778,
              "#fb9f3a"
             ],
             [
              0.8888888888888888,
              "#fdca26"
             ],
             [
              1,
              "#f0f921"
             ]
            ],
            "type": "heatmapgl"
           }
          ],
          "histogram": [
           {
            "marker": {
             "colorbar": {
              "outlinewidth": 0,
              "ticks": ""
             }
            },
            "type": "histogram"
           }
          ],
          "histogram2d": [
           {
            "colorbar": {
             "outlinewidth": 0,
             "ticks": ""
            },
            "colorscale": [
             [
              0,
              "#0d0887"
             ],
             [
              0.1111111111111111,
              "#46039f"
             ],
             [
              0.2222222222222222,
              "#7201a8"
             ],
             [
              0.3333333333333333,
              "#9c179e"
             ],
             [
              0.4444444444444444,
              "#bd3786"
             ],
             [
              0.5555555555555556,
              "#d8576b"
             ],
             [
              0.6666666666666666,
              "#ed7953"
             ],
             [
              0.7777777777777778,
              "#fb9f3a"
             ],
             [
              0.8888888888888888,
              "#fdca26"
             ],
             [
              1,
              "#f0f921"
             ]
            ],
            "type": "histogram2d"
           }
          ],
          "histogram2dcontour": [
           {
            "colorbar": {
             "outlinewidth": 0,
             "ticks": ""
            },
            "colorscale": [
             [
              0,
              "#0d0887"
             ],
             [
              0.1111111111111111,
              "#46039f"
             ],
             [
              0.2222222222222222,
              "#7201a8"
             ],
             [
              0.3333333333333333,
              "#9c179e"
             ],
             [
              0.4444444444444444,
              "#bd3786"
             ],
             [
              0.5555555555555556,
              "#d8576b"
             ],
             [
              0.6666666666666666,
              "#ed7953"
             ],
             [
              0.7777777777777778,
              "#fb9f3a"
             ],
             [
              0.8888888888888888,
              "#fdca26"
             ],
             [
              1,
              "#f0f921"
             ]
            ],
            "type": "histogram2dcontour"
           }
          ],
          "mesh3d": [
           {
            "colorbar": {
             "outlinewidth": 0,
             "ticks": ""
            },
            "type": "mesh3d"
           }
          ],
          "parcoords": [
           {
            "line": {
             "colorbar": {
              "outlinewidth": 0,
              "ticks": ""
             }
            },
            "type": "parcoords"
           }
          ],
          "pie": [
           {
            "automargin": true,
            "type": "pie"
           }
          ],
          "scatter": [
           {
            "marker": {
             "colorbar": {
              "outlinewidth": 0,
              "ticks": ""
             }
            },
            "type": "scatter"
           }
          ],
          "scatter3d": [
           {
            "line": {
             "colorbar": {
              "outlinewidth": 0,
              "ticks": ""
             }
            },
            "marker": {
             "colorbar": {
              "outlinewidth": 0,
              "ticks": ""
             }
            },
            "type": "scatter3d"
           }
          ],
          "scattercarpet": [
           {
            "marker": {
             "colorbar": {
              "outlinewidth": 0,
              "ticks": ""
             }
            },
            "type": "scattercarpet"
           }
          ],
          "scattergeo": [
           {
            "marker": {
             "colorbar": {
              "outlinewidth": 0,
              "ticks": ""
             }
            },
            "type": "scattergeo"
           }
          ],
          "scattergl": [
           {
            "marker": {
             "colorbar": {
              "outlinewidth": 0,
              "ticks": ""
             }
            },
            "type": "scattergl"
           }
          ],
          "scattermapbox": [
           {
            "marker": {
             "colorbar": {
              "outlinewidth": 0,
              "ticks": ""
             }
            },
            "type": "scattermapbox"
           }
          ],
          "scatterpolar": [
           {
            "marker": {
             "colorbar": {
              "outlinewidth": 0,
              "ticks": ""
             }
            },
            "type": "scatterpolar"
           }
          ],
          "scatterpolargl": [
           {
            "marker": {
             "colorbar": {
              "outlinewidth": 0,
              "ticks": ""
             }
            },
            "type": "scatterpolargl"
           }
          ],
          "scatterternary": [
           {
            "marker": {
             "colorbar": {
              "outlinewidth": 0,
              "ticks": ""
             }
            },
            "type": "scatterternary"
           }
          ],
          "surface": [
           {
            "colorbar": {
             "outlinewidth": 0,
             "ticks": ""
            },
            "colorscale": [
             [
              0,
              "#0d0887"
             ],
             [
              0.1111111111111111,
              "#46039f"
             ],
             [
              0.2222222222222222,
              "#7201a8"
             ],
             [
              0.3333333333333333,
              "#9c179e"
             ],
             [
              0.4444444444444444,
              "#bd3786"
             ],
             [
              0.5555555555555556,
              "#d8576b"
             ],
             [
              0.6666666666666666,
              "#ed7953"
             ],
             [
              0.7777777777777778,
              "#fb9f3a"
             ],
             [
              0.8888888888888888,
              "#fdca26"
             ],
             [
              1,
              "#f0f921"
             ]
            ],
            "type": "surface"
           }
          ],
          "table": [
           {
            "cells": {
             "fill": {
              "color": "#EBF0F8"
             },
             "line": {
              "color": "white"
             }
            },
            "header": {
             "fill": {
              "color": "#C8D4E3"
             },
             "line": {
              "color": "white"
             }
            },
            "type": "table"
           }
          ]
         },
         "layout": {
          "annotationdefaults": {
           "arrowcolor": "#2a3f5f",
           "arrowhead": 0,
           "arrowwidth": 1
          },
          "autotypenumbers": "strict",
          "coloraxis": {
           "colorbar": {
            "outlinewidth": 0,
            "ticks": ""
           }
          },
          "colorscale": {
           "diverging": [
            [
             0,
             "#8e0152"
            ],
            [
             0.1,
             "#c51b7d"
            ],
            [
             0.2,
             "#de77ae"
            ],
            [
             0.3,
             "#f1b6da"
            ],
            [
             0.4,
             "#fde0ef"
            ],
            [
             0.5,
             "#f7f7f7"
            ],
            [
             0.6,
             "#e6f5d0"
            ],
            [
             0.7,
             "#b8e186"
            ],
            [
             0.8,
             "#7fbc41"
            ],
            [
             0.9,
             "#4d9221"
            ],
            [
             1,
             "#276419"
            ]
           ],
           "sequential": [
            [
             0,
             "#0d0887"
            ],
            [
             0.1111111111111111,
             "#46039f"
            ],
            [
             0.2222222222222222,
             "#7201a8"
            ],
            [
             0.3333333333333333,
             "#9c179e"
            ],
            [
             0.4444444444444444,
             "#bd3786"
            ],
            [
             0.5555555555555556,
             "#d8576b"
            ],
            [
             0.6666666666666666,
             "#ed7953"
            ],
            [
             0.7777777777777778,
             "#fb9f3a"
            ],
            [
             0.8888888888888888,
             "#fdca26"
            ],
            [
             1,
             "#f0f921"
            ]
           ],
           "sequentialminus": [
            [
             0,
             "#0d0887"
            ],
            [
             0.1111111111111111,
             "#46039f"
            ],
            [
             0.2222222222222222,
             "#7201a8"
            ],
            [
             0.3333333333333333,
             "#9c179e"
            ],
            [
             0.4444444444444444,
             "#bd3786"
            ],
            [
             0.5555555555555556,
             "#d8576b"
            ],
            [
             0.6666666666666666,
             "#ed7953"
            ],
            [
             0.7777777777777778,
             "#fb9f3a"
            ],
            [
             0.8888888888888888,
             "#fdca26"
            ],
            [
             1,
             "#f0f921"
            ]
           ]
          },
          "colorway": [
           "#636efa",
           "#EF553B",
           "#00cc96",
           "#ab63fa",
           "#FFA15A",
           "#19d3f3",
           "#FF6692",
           "#B6E880",
           "#FF97FF",
           "#FECB52"
          ],
          "font": {
           "color": "#2a3f5f"
          },
          "geo": {
           "bgcolor": "white",
           "lakecolor": "white",
           "landcolor": "#E5ECF6",
           "showlakes": true,
           "showland": true,
           "subunitcolor": "white"
          },
          "hoverlabel": {
           "align": "left"
          },
          "hovermode": "closest",
          "mapbox": {
           "style": "light"
          },
          "paper_bgcolor": "white",
          "plot_bgcolor": "#E5ECF6",
          "polar": {
           "angularaxis": {
            "gridcolor": "white",
            "linecolor": "white",
            "ticks": ""
           },
           "bgcolor": "#E5ECF6",
           "radialaxis": {
            "gridcolor": "white",
            "linecolor": "white",
            "ticks": ""
           }
          },
          "scene": {
           "xaxis": {
            "backgroundcolor": "#E5ECF6",
            "gridcolor": "white",
            "gridwidth": 2,
            "linecolor": "white",
            "showbackground": true,
            "ticks": "",
            "zerolinecolor": "white"
           },
           "yaxis": {
            "backgroundcolor": "#E5ECF6",
            "gridcolor": "white",
            "gridwidth": 2,
            "linecolor": "white",
            "showbackground": true,
            "ticks": "",
            "zerolinecolor": "white"
           },
           "zaxis": {
            "backgroundcolor": "#E5ECF6",
            "gridcolor": "white",
            "gridwidth": 2,
            "linecolor": "white",
            "showbackground": true,
            "ticks": "",
            "zerolinecolor": "white"
           }
          },
          "shapedefaults": {
           "line": {
            "color": "#2a3f5f"
           }
          },
          "ternary": {
           "aaxis": {
            "gridcolor": "white",
            "linecolor": "white",
            "ticks": ""
           },
           "baxis": {
            "gridcolor": "white",
            "linecolor": "white",
            "ticks": ""
           },
           "bgcolor": "#E5ECF6",
           "caxis": {
            "gridcolor": "white",
            "linecolor": "white",
            "ticks": ""
           }
          },
          "title": {
           "x": 0.05
          },
          "xaxis": {
           "automargin": true,
           "gridcolor": "white",
           "linecolor": "white",
           "ticks": "",
           "title": {
            "standoff": 15
           },
           "zerolinecolor": "white",
           "zerolinewidth": 2
          },
          "yaxis": {
           "automargin": true,
           "gridcolor": "white",
           "linecolor": "white",
           "ticks": "",
           "title": {
            "standoff": 15
           },
           "zerolinecolor": "white",
           "zerolinewidth": 2
          }
         }
        },
        "xaxis": {
         "anchor": "y",
         "domain": [
          0,
          1
         ],
         "title": {
          "text": "sepal_width"
         }
        },
        "yaxis": {
         "anchor": "x",
         "domain": [
          0,
          1
         ],
         "title": {
          "text": "sepal_length"
         }
        }
       }
      }
     },
     "metadata": {}
    }
   ],
   "source": [
    "df = px.data.iris()\n",
    "fig = px.scatter(df, x=\"sepal_width\", y=\"sepal_length\", color=\"species\",\n",
    "                 size='petal_length', hover_data=['petal_width'])\n",
    "fig.show()"
   ]
  },
  {
   "cell_type": "code",
   "execution_count": 98,
   "metadata": {},
   "outputs": [],
   "source": [
    "# Ellbow Curve\n"
   ]
  },
  {
   "source": [
    "### Gaussian Mixture"
   ],
   "cell_type": "markdown",
   "metadata": {}
  },
  {
   "cell_type": "code",
   "execution_count": 99,
   "metadata": {},
   "outputs": [],
   "source": [
    "\n",
    "# loads data\n",
    "# dataset = spark.read.format(\"libsvm\").load(\"data/mllib/sample_kmeans_data.txt\")\n",
    "\n",
    "# gmm = GaussianMixture().setK(2).setSeed(538009335)\n",
    "# model = gmm.fit(dataset)\n",
    "\n",
    "# print(\"Gaussians shown as a DataFrame: \")\n",
    "# model.gaussiansDF.show(truncate=False)"
   ]
  },
  {
   "source": [
    "Next Steps: Find similiarites inside these customer groups:\n",
    "\n",
    "- Buys same products\n",
    "- similar behavior -> same marketing"
   ],
   "cell_type": "markdown",
   "metadata": {}
  }
 ]
}