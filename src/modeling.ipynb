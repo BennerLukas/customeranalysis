{
 "metadata": {
  "language_info": {
   "codemirror_mode": {
    "name": "ipython",
    "version": 3
   },
   "file_extension": ".py",
   "mimetype": "text/x-python",
   "name": "python",
   "nbconvert_exporter": "python",
   "pygments_lexer": "ipython3",
   "version": "3.8.5"
  },
  "orig_nbformat": 2,
  "kernelspec": {
   "name": "python385jvsc74a57bd0eb37d57673139a0d2c890a27235812ffbaf08dc1003675034448a84bc7080e2c",
   "display_name": "Python 3.8.5 64-bit ('base': conda)"
  }
 },
 "nbformat": 4,
 "nbformat_minor": 2,
 "cells": [
  {
   "source": [
    "# Customer Analysis - Model Customer Behavior\n"
   ],
   "cell_type": "markdown",
   "metadata": {}
  },
  {
   "source": [
    "## Import"
   ],
   "cell_type": "markdown",
   "metadata": {}
  },
  {
   "cell_type": "code",
   "execution_count": 1,
   "metadata": {},
   "outputs": [],
   "source": [
    "import os\n",
    "import pyspark\n",
    "import pandas as pd\n",
    "import pyspark.sql.functions as f\n",
    "import plotly.express as px\n",
    "import plotly.graph_objects as go"
   ]
  },
  {
   "source": [
    "## Read"
   ],
   "cell_type": "markdown",
   "metadata": {}
  },
  {
   "cell_type": "code",
   "execution_count": null,
   "metadata": {},
   "outputs": [],
   "source": [
    "spark = pyspark.sql.SparkSession.builder.appName(\"app2\").getOrCreate()\n",
    "\n",
    "sdf_201911 = spark.read.csv(\"data/2019-Nov.csv\", header=True, inferSchema=True)\n",
    "sdf_201910 = spark.read.csv(\"data/2019-Oct.csv\", header=True, inferSchema=True)\n",
    "\n",
    "sdf = sdf_201910.union(sdf_201911)\n",
    "sdf.show(5)"
   ]
  },
  {
   "source": [
    "## Preparation"
   ],
   "cell_type": "markdown",
   "metadata": {}
  },
  {
   "cell_type": "code",
   "execution_count": null,
   "metadata": {},
   "outputs": [],
   "source": [
    "# Datatypes\n",
    "sdf = sdf.withColumn(\"event_time\", sdf[\"event_time\"].cast(pyspark.sql.types.TimestampType()))\n",
    "sdf = sdf.withColumn(\"category_id\", sdf[\"category_id\"].cast(pyspark.sql.types.StringType()))\n",
    "sdf = sdf.withColumn(\"product_id\", sdf[\"product_id\"].cast(pyspark.sql.types.StringType()))\n",
    "sdf = sdf.withColumn(\"user_id\", sdf[\"user_id\"].cast(pyspark.sql.types.StringType()))\n",
    "\n",
    "# Feature Splitting\n",
    "sdf = sdf.withColumn(\"category_class\", f.split(sdf[\"category_code\"], \"\\.\").getItem(0))\n",
    "sdf = sdf.withColumn(\"category_sub_class\", f.split(sdf[\"category_code\"], \"\\.\").getItem(1))\n",
    "sdf = sdf.withColumn(\"category_sub_sub_class\", f.split(sdf[\"category_code\"], \"\\.\").getItem(2))\n",
    "\n",
    "sdf = sdf.withColumn(\"year\", f.year(\"event_time\"))\n",
    "sdf = sdf.withColumn(\"month\", f.month(\"event_time\"))\n",
    "sdf = sdf.withColumn(\"weekofyear\", f.weekofyear(\"event_time\"))\n",
    "sdf = sdf.withColumn(\"dayofyear\", f.dayofyear(\"event_time\"))\n",
    "sdf = sdf.withColumn(\"dayofweek\", f.dayofweek(\"event_time\"))\n",
    "sdf = sdf.withColumn(\"dayofmonth\", f.dayofmonth(\"event_time\"))\n",
    "sdf = sdf.withColumn(\"hour\", f.hour(\"event_time\"))\n",
    "\n",
    "# None Handling\n",
    "# sdf = sdf.fillna(value=\"not defined\")\n",
    "\n",
    "sdf.printSchema()"
   ]
  },
  {
   "cell_type": "code",
   "execution_count": null,
   "metadata": {},
   "outputs": [],
   "source": []
  },
  {
   "source": [
    "## Data Creation"
   ],
   "cell_type": "markdown",
   "metadata": {}
  },
  {
   "cell_type": "code",
   "execution_count": null,
   "metadata": {},
   "outputs": [],
   "source": []
  },
  {
   "cell_type": "code",
   "execution_count": null,
   "metadata": {},
   "outputs": [],
   "source": []
  },
  {
   "source": [
    "## Data Split"
   ],
   "cell_type": "markdown",
   "metadata": {}
  },
  {
   "cell_type": "code",
   "execution_count": null,
   "metadata": {},
   "outputs": [],
   "source": []
  },
  {
   "cell_type": "code",
   "execution_count": null,
   "metadata": {},
   "outputs": [],
   "source": []
  },
  {
   "source": [
    "## Modelling"
   ],
   "cell_type": "markdown",
   "metadata": {}
  },
  {
   "source": [
    "### KNN"
   ],
   "cell_type": "markdown",
   "metadata": {}
  },
  {
   "cell_type": "code",
   "execution_count": null,
   "metadata": {},
   "outputs": [],
   "source": [
    "# model"
   ]
  },
  {
   "cell_type": "code",
   "execution_count": null,
   "metadata": {},
   "outputs": [],
   "source": [
    "# train"
   ]
  },
  {
   "cell_type": "code",
   "execution_count": null,
   "metadata": {},
   "outputs": [],
   "source": [
    "# eval"
   ]
  },
  {
   "source": [
    "### Random Forrest"
   ],
   "cell_type": "markdown",
   "metadata": {}
  },
  {
   "cell_type": "code",
   "execution_count": null,
   "metadata": {},
   "outputs": [],
   "source": []
  },
  {
   "source": [
    "### K-Means"
   ],
   "cell_type": "markdown",
   "metadata": {}
  },
  {
   "cell_type": "code",
   "execution_count": null,
   "metadata": {},
   "outputs": [],
   "source": []
  },
  {
   "source": [
    "### DBSCAN"
   ],
   "cell_type": "markdown",
   "metadata": {}
  },
  {
   "cell_type": "code",
   "execution_count": null,
   "metadata": {},
   "outputs": [],
   "source": []
  },
  {
   "source": [
    "## General Comparison"
   ],
   "cell_type": "markdown",
   "metadata": {}
  },
  {
   "source": [
    "## Hyperparamter & extended Stuff"
   ],
   "cell_type": "markdown",
   "metadata": {}
  },
  {
   "cell_type": "code",
   "execution_count": null,
   "metadata": {},
   "outputs": [],
   "source": []
  }
 ]
}