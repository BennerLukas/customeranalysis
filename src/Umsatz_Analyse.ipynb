{
 "metadata": {
  "language_info": {
   "codemirror_mode": {
    "name": "ipython",
    "version": 3
   },
   "file_extension": ".py",
   "mimetype": "text/x-python",
   "name": "python",
   "nbconvert_exporter": "python",
   "pygments_lexer": "ipython3",
   "version": "3.8.3"
  },
  "orig_nbformat": 2,
  "kernelspec": {
   "name": "python383jvsc74a57bd0b3ba2566441a7c06988d0923437866b63cedc61552a5af99d1f4fb67d367b25f",
   "display_name": "Python 3.8.3 64-bit ('base': conda)"
  }
 },
 "nbformat": 4,
 "nbformat_minor": 2,
 "cells": [
  {
   "source": [
    "# Turnover-Analysis"
   ],
   "cell_type": "markdown",
   "metadata": {}
  },
  {
   "cell_type": "code",
   "execution_count": 2,
   "metadata": {},
   "outputs": [],
   "source": [
    "import os\n",
    "import pyspark\n",
    "import pandas as pd\n",
    "import pyspark.sql.functions as f\n",
    "import plotly.express as px\n",
    "import plotly.graph_objects as go"
   ]
  },
  {
   "cell_type": "code",
   "execution_count": 3,
   "metadata": {},
   "outputs": [],
   "source": [
    "spark = pyspark.sql.SparkSession.builder.appName(\"app1\").getOrCreate()\n",
    "sdf = spark.read.csv(\"data/test_data.csv\", header=True, inferSchema=True)"
   ]
  },
  {
   "cell_type": "code",
   "execution_count": 4,
   "metadata": {},
   "outputs": [],
   "source": [
    "# Datatypes\n",
    "sdf = sdf.withColumn(\"event_time\", sdf[\"event_time\"].cast(pyspark.sql.types.TimestampType()))\n",
    "sdf = sdf.withColumn(\"category_id\", sdf[\"category_id\"].cast(pyspark.sql.types.StringType()))\n",
    "sdf = sdf.withColumn(\"product_id\", sdf[\"product_id\"].cast(pyspark.sql.types.StringType()))\n",
    "sdf = sdf.withColumn(\"user_id\", sdf[\"user_id\"].cast(pyspark.sql.types.StringType()))\n",
    "\n",
    "# Feature Splitting\n",
    "sdf = sdf.withColumn(\"category_class\", f.substring_index(sdf.category_code, '.', 1))\n",
    "\n",
    "# sdf = sdf.withColumn(\"category_class\", f.split(sdf[\"category_code\"], \".\").getItem(0))\n",
    "# sdf = sdf.withColumn(\"category_sub_class\", f.split(sdf[\"category_code\"], \".\").getItem(1))\n",
    "# sdf = sdf.withColumn(\"category_sub_sub_class\", f.split(sdf[\"category_code\"], \".\").getItem(2))\n",
    "\n",
    "sdf = sdf.withColumn(\"year\", f.year(\"event_time\"))\n",
    "sdf = sdf.withColumn(\"month\", f.month(\"event_time\"))\n",
    "sdf = sdf.withColumn(\"weekofyear\", f.weekofyear(\"event_time\"))\n",
    "sdf = sdf.withColumn(\"dayofyear\", f.dayofyear(\"event_time\"))\n",
    "sdf = sdf.withColumn(\"dayofweek\", f.dayofweek(\"event_time\"))\n",
    "sdf = sdf.withColumn(\"dayofmonth\", f.dayofmonth(\"event_time\"))\n",
    "\n",
    "# None Handling\n",
    "sdf = sdf.fillna(value=\"not defined\")\n"
   ]
  },
  {
   "cell_type": "code",
   "execution_count": 5,
   "metadata": {},
   "outputs": [],
   "source": [
    "sdf = sdf.withColumn('turnover', f.when(f.col('event_type') == 'purchase', f.col('price')).otherwise(0))\n",
    "sdf = sdf.withColumn('bougth_quantity', f.when(f.col('event_type') == 'purchase', f.lit(1)).otherwise(0))\n",
    "sdf = sdf.withColumn('viewed_quantity', f.when(f.col('event_type') == 'view', f.lit(1)).otherwise(0))\n",
    "sdf = sdf.withColumn('cart_quantity', f.when(f.col('event_type') == 'cart', f.lit(1)).otherwise(0))"
   ]
  },
  {
   "cell_type": "code",
   "execution_count": 6,
   "metadata": {},
   "outputs": [
    {
     "output_type": "stream",
     "name": "stdout",
     "text": [
      "+-------------------+----------+----------+-------------------+--------------------+-----------+------+---------+--------------------+--------------+----+-----+----------+---------+---------+----------+--------+---------------+---------------+-------------+\n|         event_time|event_type|product_id|        category_id|       category_code|      brand| price|  user_id|        user_session|category_class|year|month|weekofyear|dayofyear|dayofweek|dayofmonth|turnover|bougth_quantity|viewed_quantity|cart_quantity|\n+-------------------+----------+----------+-------------------+--------------------+-----------+------+---------+--------------------+--------------+----+-----+----------+---------+---------+----------+--------+---------------+---------------+-------------+\n|2019-11-01 01:00:00|      view|   1003461|2053013555631882655|electronics.smart...|     xiaomi|489.07|520088904|4d3b30da-a5e4-49d...|   electronics|2019|   11|        44|      305|        6|         1|     0.0|              0|              1|            0|\n|2019-11-01 01:00:00|      view|   5000088|2053013566100866035|appliances.sewing...|     janome|293.65|530496790|8e5f4f83-366c-4f7...|    appliances|2019|   11|        44|      305|        6|         1|     0.0|              0|              1|            0|\n|2019-11-01 01:00:01|      view|  17302664|2053013553853497655|         not defined|      creed| 28.31|561587266|755422e7-9040-477...|   not defined|2019|   11|        44|      305|        6|         1|     0.0|              0|              1|            0|\n|2019-11-01 01:00:01|      view|   3601530|2053013563810775923|appliances.kitche...|         lg|712.87|518085591|3bfb58cd-7892-48c...|    appliances|2019|   11|        44|      305|        6|         1|     0.0|              0|              1|            0|\n|2019-11-01 01:00:01|      view|   1004775|2053013555631882655|electronics.smart...|     xiaomi|183.27|558856683|313628f1-68b8-460...|   electronics|2019|   11|        44|      305|        6|         1|     0.0|              0|              1|            0|\n|2019-11-01 01:00:01|      view|   1306894|2053013558920217191|  computers.notebook|         hp|360.09|520772685|816a59f3-f5ae-4cc...|     computers|2019|   11|        44|      305|        6|         1|     0.0|              0|              1|            0|\n|2019-11-01 01:00:01|      view|   1306421|2053013558920217191|  computers.notebook|         hp|514.56|514028527|df8184cc-3694-454...|     computers|2019|   11|        44|      305|        6|         1|     0.0|              0|              1|            0|\n|2019-11-01 01:00:02|      view|  15900065|2053013558190408249|         not defined|    rondell| 30.86|518574284|5e6ef132-4d7c-473...|   not defined|2019|   11|        44|      305|        6|         1|     0.0|              0|              1|            0|\n|2019-11-01 01:00:02|      view|  12708937|2053013553559896355|         not defined|   michelin| 72.72|532364121|0a899268-31eb-46d...|   not defined|2019|   11|        44|      305|        6|         1|     0.0|              0|              1|            0|\n|2019-11-01 01:00:02|      view|   1004258|2053013555631882655|electronics.smart...|      apple|732.07|532647354|d2d3d2c6-631d-489...|   electronics|2019|   11|        44|      305|        6|         1|     0.0|              0|              1|            0|\n|2019-11-01 01:00:03|      view|  17200570|2053013559792632471|furniture.living_...|not defined|437.33|518780843|aa806835-b14c-45a...|     furniture|2019|   11|        44|      305|        6|         1|     0.0|              0|              1|            0|\n|2019-11-01 01:00:03|      view|   2701517|2053013563911439225|appliances.kitche...|not defined|155.11|518427361|c89b0d96-247f-404...|    appliances|2019|   11|        44|      305|        6|         1|     0.0|              0|              1|            0|\n|2019-11-01 01:00:03|      view|  16700260|2053013559901684381|furniture.kitchen...|not defined| 31.64|566255262|173d7b72-1db7-463...|     furniture|2019|   11|        44|      305|        6|         1|     0.0|              0|              1|            0|\n|2019-11-01 01:00:04|      view|  34600011|2060981320581906480|         not defined|not defined| 20.54|512416379|4dfe2c67-e537-4dc...|   not defined|2019|   11|        44|      305|        6|         1|     0.0|              0|              1|            0|\n|2019-11-01 01:00:05|      view|   4600658|2053013563944993659|appliances.kitche...|    samsung|411.83|526595547|aab33a9a-29c3-4d5...|    appliances|2019|   11|        44|      305|        6|         1|     0.0|              0|              1|            0|\n|2019-11-01 01:00:06|      view|  24900193|2053013562183385881|         not defined|not defined|  1.09|512651494|f603c815-f51a-46f...|   not defined|2019|   11|        44|      305|        6|         1|     0.0|              0|              1|            0|\n|2019-11-01 01:00:07|      view|  27400066|2053013563391345499|         not defined|not defined|  8.55|551061950|3f6112f1-5695-4e8...|   not defined|2019|   11|        44|      305|        6|         1|     0.0|              0|              1|            0|\n|2019-11-01 01:00:07|      view|   5100503|2053013553375346967|         not defined|     xiaomi| 22.68|520037415|f54fa96a-f3f2-43a...|   not defined|2019|   11|        44|      305|        6|         1|     0.0|              0|              1|            0|\n|2019-11-01 01:00:07|      view|   1004566|2053013555631882655|electronics.smart...|     huawei|164.84|566265908|52c2c76c-b79e-479...|   electronics|2019|   11|        44|      305|        6|         1|     0.0|              0|              1|            0|\n|2019-11-01 01:00:08|      view|   1307115|2053013558920217191|  computers.notebook|         hp|411.59|514028527|df8184cc-3694-454...|     computers|2019|   11|        44|      305|        6|         1|     0.0|              0|              1|            0|\n+-------------------+----------+----------+-------------------+--------------------+-----------+------+---------+--------------------+--------------+----+-----+----------+---------+---------+----------+--------+---------------+---------------+-------------+\nonly showing top 20 rows\n\n"
     ]
    }
   ],
   "source": [
    "sdf_raw = sdf\n",
    "sdf.createOrReplaceTempView(\"Data\")\n",
    "sdf_raw.show()"
   ]
  },
  {
   "source": [
    "## Produkte und Umsatz"
   ],
   "cell_type": "markdown",
   "metadata": {}
  },
  {
   "cell_type": "code",
   "execution_count": 7,
   "metadata": {},
   "outputs": [
    {
     "output_type": "stream",
     "name": "stdout",
     "text": [
      "+----------+-----------+--------------------+------------------+--------------------+--------+\n|Product_id|mean(price)|sum(viewed_quantity)|sum(cart_quantity)|sum(bougth_quantity)|Turnover|\n+----------+-----------+--------------------+------------------+--------------------+--------+\n|  13200605|      566.3|                   2|                 0|                   1|   566.3|\n|   1005161|     211.92|                   1|                 0|                   1|  211.92|\n|   2300214|     386.08|                   1|                 0|                   0|     0.0|\n|   4804194|      69.24|                   1|                 0|                   0|     0.0|\n|  15100148|     378.36|                   1|                 0|                   0|     0.0|\n|  25600085|     134.37|                   1|                 0|                   0|     0.0|\n|   3701016|     108.09|                   1|                 0|                   0|     0.0|\n|  12708306|      30.43|                   1|                 0|                   0|     0.0|\n|  41100055|      38.07|                   1|                 0|                   0|     0.0|\n|   1307095|     385.85|                   1|                 0|                   0|     0.0|\n|  26402378|      97.34|                   1|                 0|                   0|     0.0|\n|   1307012|    2342.15|                   1|                 0|                   0|     0.0|\n|  26204072|     277.23|                   1|                 0|                   0|     0.0|\n|   3901174|      32.66|                   1|                 0|                   0|     0.0|\n|   5801656|     133.83|                   1|                 0|                   0|     0.0|\n|  16700690|      34.75|                   1|                 0|                   0|     0.0|\n|   1307322|     390.98|                   1|                 0|                   0|     0.0|\n|   1003461|     489.07|                   2|                 0|                   0|     0.0|\n|   1004258|     732.07|                   2|                 0|                   0|     0.0|\n|  21400135|     165.26|                   1|                 0|                   0|     0.0|\n+----------+-----------+--------------------+------------------+--------------------+--------+\nonly showing top 20 rows\n\n"
     ]
    }
   ],
   "source": [
    " sdf_product_overview = spark.sql(\"SELECT Product_id, \\\n",
    "                                MEAN(price), \\\n",
    "                                SUM(viewed_quantity) ,\\\n",
    "                                SUM(cart_quantity),\\\n",
    "                                SUM(bougth_quantity), \\\n",
    "                                SUM(turnover) AS Turnover\\\n",
    "                        FROM Data \\\n",
    "                        GROUP BY Product_id \\\n",
    "                        ORDER BY SUM(turnover) DESC\")\n",
    "sdf_product_overview.show()"
   ]
  },
  {
   "cell_type": "code",
   "execution_count": 8,
   "metadata": {},
   "outputs": [
    {
     "output_type": "display_data",
     "data": {
      "application/vnd.plotly.v1+json": {
       "config": {
        "plotlyServerURL": "https://plot.ly"
       },
       "data": [
        {
         "alignmentgroup": "True",
         "hovertemplate": "Product_id=%{x}<br>Turnover=%{y}<extra></extra>",
         "legendgroup": "",
         "marker": {
          "color": "#636efa"
         },
         "name": "",
         "offsetgroup": "",
         "orientation": "v",
         "showlegend": false,
         "textposition": "auto",
         "type": "bar",
         "x": [
          "13200605",
          "1005161",
          "25600085",
          "1306571",
          "26402378",
          "15100148",
          "1307012",
          "26204072",
          "2300214",
          "3901174"
         ],
         "xaxis": "x",
         "y": [
          566.3,
          211.92,
          0,
          0,
          0,
          0,
          0,
          0,
          0,
          0
         ],
         "yaxis": "y"
        }
       ],
       "layout": {
        "barmode": "relative",
        "legend": {
         "tracegroupgap": 0
        },
        "margin": {
         "t": 60
        },
        "template": {
         "data": {
          "bar": [
           {
            "error_x": {
             "color": "#2a3f5f"
            },
            "error_y": {
             "color": "#2a3f5f"
            },
            "marker": {
             "line": {
              "color": "#E5ECF6",
              "width": 0.5
             }
            },
            "type": "bar"
           }
          ],
          "barpolar": [
           {
            "marker": {
             "line": {
              "color": "#E5ECF6",
              "width": 0.5
             }
            },
            "type": "barpolar"
           }
          ],
          "carpet": [
           {
            "aaxis": {
             "endlinecolor": "#2a3f5f",
             "gridcolor": "white",
             "linecolor": "white",
             "minorgridcolor": "white",
             "startlinecolor": "#2a3f5f"
            },
            "baxis": {
             "endlinecolor": "#2a3f5f",
             "gridcolor": "white",
             "linecolor": "white",
             "minorgridcolor": "white",
             "startlinecolor": "#2a3f5f"
            },
            "type": "carpet"
           }
          ],
          "choropleth": [
           {
            "colorbar": {
             "outlinewidth": 0,
             "ticks": ""
            },
            "type": "choropleth"
           }
          ],
          "contour": [
           {
            "colorbar": {
             "outlinewidth": 0,
             "ticks": ""
            },
            "colorscale": [
             [
              0,
              "#0d0887"
             ],
             [
              0.1111111111111111,
              "#46039f"
             ],
             [
              0.2222222222222222,
              "#7201a8"
             ],
             [
              0.3333333333333333,
              "#9c179e"
             ],
             [
              0.4444444444444444,
              "#bd3786"
             ],
             [
              0.5555555555555556,
              "#d8576b"
             ],
             [
              0.6666666666666666,
              "#ed7953"
             ],
             [
              0.7777777777777778,
              "#fb9f3a"
             ],
             [
              0.8888888888888888,
              "#fdca26"
             ],
             [
              1,
              "#f0f921"
             ]
            ],
            "type": "contour"
           }
          ],
          "contourcarpet": [
           {
            "colorbar": {
             "outlinewidth": 0,
             "ticks": ""
            },
            "type": "contourcarpet"
           }
          ],
          "heatmap": [
           {
            "colorbar": {
             "outlinewidth": 0,
             "ticks": ""
            },
            "colorscale": [
             [
              0,
              "#0d0887"
             ],
             [
              0.1111111111111111,
              "#46039f"
             ],
             [
              0.2222222222222222,
              "#7201a8"
             ],
             [
              0.3333333333333333,
              "#9c179e"
             ],
             [
              0.4444444444444444,
              "#bd3786"
             ],
             [
              0.5555555555555556,
              "#d8576b"
             ],
             [
              0.6666666666666666,
              "#ed7953"
             ],
             [
              0.7777777777777778,
              "#fb9f3a"
             ],
             [
              0.8888888888888888,
              "#fdca26"
             ],
             [
              1,
              "#f0f921"
             ]
            ],
            "type": "heatmap"
           }
          ],
          "heatmapgl": [
           {
            "colorbar": {
             "outlinewidth": 0,
             "ticks": ""
            },
            "colorscale": [
             [
              0,
              "#0d0887"
             ],
             [
              0.1111111111111111,
              "#46039f"
             ],
             [
              0.2222222222222222,
              "#7201a8"
             ],
             [
              0.3333333333333333,
              "#9c179e"
             ],
             [
              0.4444444444444444,
              "#bd3786"
             ],
             [
              0.5555555555555556,
              "#d8576b"
             ],
             [
              0.6666666666666666,
              "#ed7953"
             ],
             [
              0.7777777777777778,
              "#fb9f3a"
             ],
             [
              0.8888888888888888,
              "#fdca26"
             ],
             [
              1,
              "#f0f921"
             ]
            ],
            "type": "heatmapgl"
           }
          ],
          "histogram": [
           {
            "marker": {
             "colorbar": {
              "outlinewidth": 0,
              "ticks": ""
             }
            },
            "type": "histogram"
           }
          ],
          "histogram2d": [
           {
            "colorbar": {
             "outlinewidth": 0,
             "ticks": ""
            },
            "colorscale": [
             [
              0,
              "#0d0887"
             ],
             [
              0.1111111111111111,
              "#46039f"
             ],
             [
              0.2222222222222222,
              "#7201a8"
             ],
             [
              0.3333333333333333,
              "#9c179e"
             ],
             [
              0.4444444444444444,
              "#bd3786"
             ],
             [
              0.5555555555555556,
              "#d8576b"
             ],
             [
              0.6666666666666666,
              "#ed7953"
             ],
             [
              0.7777777777777778,
              "#fb9f3a"
             ],
             [
              0.8888888888888888,
              "#fdca26"
             ],
             [
              1,
              "#f0f921"
             ]
            ],
            "type": "histogram2d"
           }
          ],
          "histogram2dcontour": [
           {
            "colorbar": {
             "outlinewidth": 0,
             "ticks": ""
            },
            "colorscale": [
             [
              0,
              "#0d0887"
             ],
             [
              0.1111111111111111,
              "#46039f"
             ],
             [
              0.2222222222222222,
              "#7201a8"
             ],
             [
              0.3333333333333333,
              "#9c179e"
             ],
             [
              0.4444444444444444,
              "#bd3786"
             ],
             [
              0.5555555555555556,
              "#d8576b"
             ],
             [
              0.6666666666666666,
              "#ed7953"
             ],
             [
              0.7777777777777778,
              "#fb9f3a"
             ],
             [
              0.8888888888888888,
              "#fdca26"
             ],
             [
              1,
              "#f0f921"
             ]
            ],
            "type": "histogram2dcontour"
           }
          ],
          "mesh3d": [
           {
            "colorbar": {
             "outlinewidth": 0,
             "ticks": ""
            },
            "type": "mesh3d"
           }
          ],
          "parcoords": [
           {
            "line": {
             "colorbar": {
              "outlinewidth": 0,
              "ticks": ""
             }
            },
            "type": "parcoords"
           }
          ],
          "pie": [
           {
            "automargin": true,
            "type": "pie"
           }
          ],
          "scatter": [
           {
            "marker": {
             "colorbar": {
              "outlinewidth": 0,
              "ticks": ""
             }
            },
            "type": "scatter"
           }
          ],
          "scatter3d": [
           {
            "line": {
             "colorbar": {
              "outlinewidth": 0,
              "ticks": ""
             }
            },
            "marker": {
             "colorbar": {
              "outlinewidth": 0,
              "ticks": ""
             }
            },
            "type": "scatter3d"
           }
          ],
          "scattercarpet": [
           {
            "marker": {
             "colorbar": {
              "outlinewidth": 0,
              "ticks": ""
             }
            },
            "type": "scattercarpet"
           }
          ],
          "scattergeo": [
           {
            "marker": {
             "colorbar": {
              "outlinewidth": 0,
              "ticks": ""
             }
            },
            "type": "scattergeo"
           }
          ],
          "scattergl": [
           {
            "marker": {
             "colorbar": {
              "outlinewidth": 0,
              "ticks": ""
             }
            },
            "type": "scattergl"
           }
          ],
          "scattermapbox": [
           {
            "marker": {
             "colorbar": {
              "outlinewidth": 0,
              "ticks": ""
             }
            },
            "type": "scattermapbox"
           }
          ],
          "scatterpolar": [
           {
            "marker": {
             "colorbar": {
              "outlinewidth": 0,
              "ticks": ""
             }
            },
            "type": "scatterpolar"
           }
          ],
          "scatterpolargl": [
           {
            "marker": {
             "colorbar": {
              "outlinewidth": 0,
              "ticks": ""
             }
            },
            "type": "scatterpolargl"
           }
          ],
          "scatterternary": [
           {
            "marker": {
             "colorbar": {
              "outlinewidth": 0,
              "ticks": ""
             }
            },
            "type": "scatterternary"
           }
          ],
          "surface": [
           {
            "colorbar": {
             "outlinewidth": 0,
             "ticks": ""
            },
            "colorscale": [
             [
              0,
              "#0d0887"
             ],
             [
              0.1111111111111111,
              "#46039f"
             ],
             [
              0.2222222222222222,
              "#7201a8"
             ],
             [
              0.3333333333333333,
              "#9c179e"
             ],
             [
              0.4444444444444444,
              "#bd3786"
             ],
             [
              0.5555555555555556,
              "#d8576b"
             ],
             [
              0.6666666666666666,
              "#ed7953"
             ],
             [
              0.7777777777777778,
              "#fb9f3a"
             ],
             [
              0.8888888888888888,
              "#fdca26"
             ],
             [
              1,
              "#f0f921"
             ]
            ],
            "type": "surface"
           }
          ],
          "table": [
           {
            "cells": {
             "fill": {
              "color": "#EBF0F8"
             },
             "line": {
              "color": "white"
             }
            },
            "header": {
             "fill": {
              "color": "#C8D4E3"
             },
             "line": {
              "color": "white"
             }
            },
            "type": "table"
           }
          ]
         },
         "layout": {
          "annotationdefaults": {
           "arrowcolor": "#2a3f5f",
           "arrowhead": 0,
           "arrowwidth": 1
          },
          "autotypenumbers": "strict",
          "coloraxis": {
           "colorbar": {
            "outlinewidth": 0,
            "ticks": ""
           }
          },
          "colorscale": {
           "diverging": [
            [
             0,
             "#8e0152"
            ],
            [
             0.1,
             "#c51b7d"
            ],
            [
             0.2,
             "#de77ae"
            ],
            [
             0.3,
             "#f1b6da"
            ],
            [
             0.4,
             "#fde0ef"
            ],
            [
             0.5,
             "#f7f7f7"
            ],
            [
             0.6,
             "#e6f5d0"
            ],
            [
             0.7,
             "#b8e186"
            ],
            [
             0.8,
             "#7fbc41"
            ],
            [
             0.9,
             "#4d9221"
            ],
            [
             1,
             "#276419"
            ]
           ],
           "sequential": [
            [
             0,
             "#0d0887"
            ],
            [
             0.1111111111111111,
             "#46039f"
            ],
            [
             0.2222222222222222,
             "#7201a8"
            ],
            [
             0.3333333333333333,
             "#9c179e"
            ],
            [
             0.4444444444444444,
             "#bd3786"
            ],
            [
             0.5555555555555556,
             "#d8576b"
            ],
            [
             0.6666666666666666,
             "#ed7953"
            ],
            [
             0.7777777777777778,
             "#fb9f3a"
            ],
            [
             0.8888888888888888,
             "#fdca26"
            ],
            [
             1,
             "#f0f921"
            ]
           ],
           "sequentialminus": [
            [
             0,
             "#0d0887"
            ],
            [
             0.1111111111111111,
             "#46039f"
            ],
            [
             0.2222222222222222,
             "#7201a8"
            ],
            [
             0.3333333333333333,
             "#9c179e"
            ],
            [
             0.4444444444444444,
             "#bd3786"
            ],
            [
             0.5555555555555556,
             "#d8576b"
            ],
            [
             0.6666666666666666,
             "#ed7953"
            ],
            [
             0.7777777777777778,
             "#fb9f3a"
            ],
            [
             0.8888888888888888,
             "#fdca26"
            ],
            [
             1,
             "#f0f921"
            ]
           ]
          },
          "colorway": [
           "#636efa",
           "#EF553B",
           "#00cc96",
           "#ab63fa",
           "#FFA15A",
           "#19d3f3",
           "#FF6692",
           "#B6E880",
           "#FF97FF",
           "#FECB52"
          ],
          "font": {
           "color": "#2a3f5f"
          },
          "geo": {
           "bgcolor": "white",
           "lakecolor": "white",
           "landcolor": "#E5ECF6",
           "showlakes": true,
           "showland": true,
           "subunitcolor": "white"
          },
          "hoverlabel": {
           "align": "left"
          },
          "hovermode": "closest",
          "mapbox": {
           "style": "light"
          },
          "paper_bgcolor": "white",
          "plot_bgcolor": "#E5ECF6",
          "polar": {
           "angularaxis": {
            "gridcolor": "white",
            "linecolor": "white",
            "ticks": ""
           },
           "bgcolor": "#E5ECF6",
           "radialaxis": {
            "gridcolor": "white",
            "linecolor": "white",
            "ticks": ""
           }
          },
          "scene": {
           "xaxis": {
            "backgroundcolor": "#E5ECF6",
            "gridcolor": "white",
            "gridwidth": 2,
            "linecolor": "white",
            "showbackground": true,
            "ticks": "",
            "zerolinecolor": "white"
           },
           "yaxis": {
            "backgroundcolor": "#E5ECF6",
            "gridcolor": "white",
            "gridwidth": 2,
            "linecolor": "white",
            "showbackground": true,
            "ticks": "",
            "zerolinecolor": "white"
           },
           "zaxis": {
            "backgroundcolor": "#E5ECF6",
            "gridcolor": "white",
            "gridwidth": 2,
            "linecolor": "white",
            "showbackground": true,
            "ticks": "",
            "zerolinecolor": "white"
           }
          },
          "shapedefaults": {
           "line": {
            "color": "#2a3f5f"
           }
          },
          "ternary": {
           "aaxis": {
            "gridcolor": "white",
            "linecolor": "white",
            "ticks": ""
           },
           "baxis": {
            "gridcolor": "white",
            "linecolor": "white",
            "ticks": ""
           },
           "bgcolor": "#E5ECF6",
           "caxis": {
            "gridcolor": "white",
            "linecolor": "white",
            "ticks": ""
           }
          },
          "title": {
           "x": 0.05
          },
          "xaxis": {
           "automargin": true,
           "gridcolor": "white",
           "linecolor": "white",
           "ticks": "",
           "title": {
            "standoff": 15
           },
           "zerolinecolor": "white",
           "zerolinewidth": 2
          },
          "yaxis": {
           "automargin": true,
           "gridcolor": "white",
           "linecolor": "white",
           "ticks": "",
           "title": {
            "standoff": 15
           },
           "zerolinecolor": "white",
           "zerolinewidth": 2
          }
         }
        },
        "xaxis": {
         "anchor": "y",
         "domain": [
          0,
          1
         ],
         "title": {
          "text": "Product_id"
         }
        },
        "yaxis": {
         "anchor": "x",
         "domain": [
          0,
          1
         ],
         "title": {
          "text": "Turnover"
         }
        }
       }
      }
     },
     "metadata": {}
    }
   ],
   "source": [
    "px.bar(sdf_product_overview.limit(10).toPandas(), x='Product_id', y='Turnover')"
   ]
  },
  {
   "cell_type": "code",
   "execution_count": 8,
   "metadata": {},
   "outputs": [
    {
     "output_type": "stream",
     "name": "stdout",
     "text": [
      "+-----------+-----------------+------------------+--------------------+------------------+--------------------+------+\n|      brand|count(Product_id)|       mean(price)|sum(viewed_quantity)|sum(cart_quantity)|sum(bougth_quantity)|Umsatz|\n+-----------+-----------------+------------------+--------------------+------------------+--------------------+------+\n|not defined|               41| 176.8419512195122|                  40|                 0|                   1| 566.3|\n|     xiaomi|               15|224.28133333333332|                  14|                 0|                   1|211.92|\n|      oasis|                1|             32.66|                   1|                 0|                   0|   0.0|\n|    element|                1|            133.83|                   1|                 0|                   0|   0.0|\n|      epson|                1|            203.84|                   1|                 0|                   0|   0.0|\n|   goodloot|                1|              8.73|                   1|                 0|                   0|   0.0|\n|   yokohama|                2|             79.67|                   2|                 0|                   0|   0.0|\n|      lider|                1|            378.36|                   1|                 0|                   0|   0.0|\n|   cordiant|                2|              41.7|                   2|                 0|                   0|   0.0|\n|     jordan|                1|            102.71|                   1|                 0|                   0|   0.0|\n|     rezult|                1|             15.62|                   1|                 0|                   0|   0.0|\n|      fubag|                1|             24.71|                   1|                 0|                   0|   0.0|\n|      casio|                1|            165.26|                   1|                 0|                   0|   0.0|\n|    eveline|                1|              7.59|                   1|                 0|                   0|   0.0|\n|     kolner|                1|             25.48|                   1|                 0|                   0|   0.0|\n|      tefal|                1|            108.09|                   1|                 0|                   0|   0.0|\n|      apple|               16|        1171.44875|                  16|                 0|                   0|   0.0|\n|   givenchy|                1|             77.22|                   1|                 0|                   0|   0.0|\n|     armani|                1|            293.44|                   1|                 0|                   0|   0.0|\n|      canon|                3|289.49333333333334|                   3|                 0|                   0|   0.0|\n+-----------+-----------------+------------------+--------------------+------------------+--------------------+------+\nonly showing top 20 rows\n\n"
     ]
    }
   ],
   "source": [
    " sdf_brand_overview = spark.sql(\"SELECT brand, \\\n",
    "                                        COUNT(Product_id), \\\n",
    "                                        MEAN(price), \\\n",
    "                                        SUM(viewed_quantity) ,\\\n",
    "                                        SUM(cart_quantity),\\\n",
    "                                        SUM(bougth_quantity), \\\n",
    "                                        SUM(turnover) AS Turnover\\\n",
    "                                FROM Data \\\n",
    "                                GROUP BY brand \\\n",
    "                                ORDER BY Turnover DESC\")\n",
    "sdf_brand_overview.show()\n"
   ]
  },
  {
   "cell_type": "code",
   "execution_count": 9,
   "metadata": {},
   "outputs": [
    {
     "output_type": "display_data",
     "data": {
      "application/vnd.plotly.v1+json": {
       "config": {
        "plotlyServerURL": "https://plot.ly"
       },
       "data": [
        {
         "alignmentgroup": "True",
         "hovertemplate": "brand=%{x}<br>Umsatz=%{y}<extra></extra>",
         "legendgroup": "",
         "marker": {
          "color": "#636efa"
         },
         "name": "",
         "offsetgroup": "",
         "orientation": "v",
         "showlegend": false,
         "textposition": "auto",
         "type": "bar",
         "x": [
          "not defined",
          "xiaomi",
          "goodloot",
          "element",
          "cordiant",
          "epson",
          "yokohama",
          "rondell",
          "oasis",
          "givenchy"
         ],
         "xaxis": "x",
         "y": [
          566.3,
          211.92,
          0,
          0,
          0,
          0,
          0,
          0,
          0,
          0
         ],
         "yaxis": "y"
        }
       ],
       "layout": {
        "barmode": "relative",
        "legend": {
         "tracegroupgap": 0
        },
        "margin": {
         "t": 60
        },
        "template": {
         "data": {
          "bar": [
           {
            "error_x": {
             "color": "#2a3f5f"
            },
            "error_y": {
             "color": "#2a3f5f"
            },
            "marker": {
             "line": {
              "color": "#E5ECF6",
              "width": 0.5
             }
            },
            "type": "bar"
           }
          ],
          "barpolar": [
           {
            "marker": {
             "line": {
              "color": "#E5ECF6",
              "width": 0.5
             }
            },
            "type": "barpolar"
           }
          ],
          "carpet": [
           {
            "aaxis": {
             "endlinecolor": "#2a3f5f",
             "gridcolor": "white",
             "linecolor": "white",
             "minorgridcolor": "white",
             "startlinecolor": "#2a3f5f"
            },
            "baxis": {
             "endlinecolor": "#2a3f5f",
             "gridcolor": "white",
             "linecolor": "white",
             "minorgridcolor": "white",
             "startlinecolor": "#2a3f5f"
            },
            "type": "carpet"
           }
          ],
          "choropleth": [
           {
            "colorbar": {
             "outlinewidth": 0,
             "ticks": ""
            },
            "type": "choropleth"
           }
          ],
          "contour": [
           {
            "colorbar": {
             "outlinewidth": 0,
             "ticks": ""
            },
            "colorscale": [
             [
              0,
              "#0d0887"
             ],
             [
              0.1111111111111111,
              "#46039f"
             ],
             [
              0.2222222222222222,
              "#7201a8"
             ],
             [
              0.3333333333333333,
              "#9c179e"
             ],
             [
              0.4444444444444444,
              "#bd3786"
             ],
             [
              0.5555555555555556,
              "#d8576b"
             ],
             [
              0.6666666666666666,
              "#ed7953"
             ],
             [
              0.7777777777777778,
              "#fb9f3a"
             ],
             [
              0.8888888888888888,
              "#fdca26"
             ],
             [
              1,
              "#f0f921"
             ]
            ],
            "type": "contour"
           }
          ],
          "contourcarpet": [
           {
            "colorbar": {
             "outlinewidth": 0,
             "ticks": ""
            },
            "type": "contourcarpet"
           }
          ],
          "heatmap": [
           {
            "colorbar": {
             "outlinewidth": 0,
             "ticks": ""
            },
            "colorscale": [
             [
              0,
              "#0d0887"
             ],
             [
              0.1111111111111111,
              "#46039f"
             ],
             [
              0.2222222222222222,
              "#7201a8"
             ],
             [
              0.3333333333333333,
              "#9c179e"
             ],
             [
              0.4444444444444444,
              "#bd3786"
             ],
             [
              0.5555555555555556,
              "#d8576b"
             ],
             [
              0.6666666666666666,
              "#ed7953"
             ],
             [
              0.7777777777777778,
              "#fb9f3a"
             ],
             [
              0.8888888888888888,
              "#fdca26"
             ],
             [
              1,
              "#f0f921"
             ]
            ],
            "type": "heatmap"
           }
          ],
          "heatmapgl": [
           {
            "colorbar": {
             "outlinewidth": 0,
             "ticks": ""
            },
            "colorscale": [
             [
              0,
              "#0d0887"
             ],
             [
              0.1111111111111111,
              "#46039f"
             ],
             [
              0.2222222222222222,
              "#7201a8"
             ],
             [
              0.3333333333333333,
              "#9c179e"
             ],
             [
              0.4444444444444444,
              "#bd3786"
             ],
             [
              0.5555555555555556,
              "#d8576b"
             ],
             [
              0.6666666666666666,
              "#ed7953"
             ],
             [
              0.7777777777777778,
              "#fb9f3a"
             ],
             [
              0.8888888888888888,
              "#fdca26"
             ],
             [
              1,
              "#f0f921"
             ]
            ],
            "type": "heatmapgl"
           }
          ],
          "histogram": [
           {
            "marker": {
             "colorbar": {
              "outlinewidth": 0,
              "ticks": ""
             }
            },
            "type": "histogram"
           }
          ],
          "histogram2d": [
           {
            "colorbar": {
             "outlinewidth": 0,
             "ticks": ""
            },
            "colorscale": [
             [
              0,
              "#0d0887"
             ],
             [
              0.1111111111111111,
              "#46039f"
             ],
             [
              0.2222222222222222,
              "#7201a8"
             ],
             [
              0.3333333333333333,
              "#9c179e"
             ],
             [
              0.4444444444444444,
              "#bd3786"
             ],
             [
              0.5555555555555556,
              "#d8576b"
             ],
             [
              0.6666666666666666,
              "#ed7953"
             ],
             [
              0.7777777777777778,
              "#fb9f3a"
             ],
             [
              0.8888888888888888,
              "#fdca26"
             ],
             [
              1,
              "#f0f921"
             ]
            ],
            "type": "histogram2d"
           }
          ],
          "histogram2dcontour": [
           {
            "colorbar": {
             "outlinewidth": 0,
             "ticks": ""
            },
            "colorscale": [
             [
              0,
              "#0d0887"
             ],
             [
              0.1111111111111111,
              "#46039f"
             ],
             [
              0.2222222222222222,
              "#7201a8"
             ],
             [
              0.3333333333333333,
              "#9c179e"
             ],
             [
              0.4444444444444444,
              "#bd3786"
             ],
             [
              0.5555555555555556,
              "#d8576b"
             ],
             [
              0.6666666666666666,
              "#ed7953"
             ],
             [
              0.7777777777777778,
              "#fb9f3a"
             ],
             [
              0.8888888888888888,
              "#fdca26"
             ],
             [
              1,
              "#f0f921"
             ]
            ],
            "type": "histogram2dcontour"
           }
          ],
          "mesh3d": [
           {
            "colorbar": {
             "outlinewidth": 0,
             "ticks": ""
            },
            "type": "mesh3d"
           }
          ],
          "parcoords": [
           {
            "line": {
             "colorbar": {
              "outlinewidth": 0,
              "ticks": ""
             }
            },
            "type": "parcoords"
           }
          ],
          "pie": [
           {
            "automargin": true,
            "type": "pie"
           }
          ],
          "scatter": [
           {
            "marker": {
             "colorbar": {
              "outlinewidth": 0,
              "ticks": ""
             }
            },
            "type": "scatter"
           }
          ],
          "scatter3d": [
           {
            "line": {
             "colorbar": {
              "outlinewidth": 0,
              "ticks": ""
             }
            },
            "marker": {
             "colorbar": {
              "outlinewidth": 0,
              "ticks": ""
             }
            },
            "type": "scatter3d"
           }
          ],
          "scattercarpet": [
           {
            "marker": {
             "colorbar": {
              "outlinewidth": 0,
              "ticks": ""
             }
            },
            "type": "scattercarpet"
           }
          ],
          "scattergeo": [
           {
            "marker": {
             "colorbar": {
              "outlinewidth": 0,
              "ticks": ""
             }
            },
            "type": "scattergeo"
           }
          ],
          "scattergl": [
           {
            "marker": {
             "colorbar": {
              "outlinewidth": 0,
              "ticks": ""
             }
            },
            "type": "scattergl"
           }
          ],
          "scattermapbox": [
           {
            "marker": {
             "colorbar": {
              "outlinewidth": 0,
              "ticks": ""
             }
            },
            "type": "scattermapbox"
           }
          ],
          "scatterpolar": [
           {
            "marker": {
             "colorbar": {
              "outlinewidth": 0,
              "ticks": ""
             }
            },
            "type": "scatterpolar"
           }
          ],
          "scatterpolargl": [
           {
            "marker": {
             "colorbar": {
              "outlinewidth": 0,
              "ticks": ""
             }
            },
            "type": "scatterpolargl"
           }
          ],
          "scatterternary": [
           {
            "marker": {
             "colorbar": {
              "outlinewidth": 0,
              "ticks": ""
             }
            },
            "type": "scatterternary"
           }
          ],
          "surface": [
           {
            "colorbar": {
             "outlinewidth": 0,
             "ticks": ""
            },
            "colorscale": [
             [
              0,
              "#0d0887"
             ],
             [
              0.1111111111111111,
              "#46039f"
             ],
             [
              0.2222222222222222,
              "#7201a8"
             ],
             [
              0.3333333333333333,
              "#9c179e"
             ],
             [
              0.4444444444444444,
              "#bd3786"
             ],
             [
              0.5555555555555556,
              "#d8576b"
             ],
             [
              0.6666666666666666,
              "#ed7953"
             ],
             [
              0.7777777777777778,
              "#fb9f3a"
             ],
             [
              0.8888888888888888,
              "#fdca26"
             ],
             [
              1,
              "#f0f921"
             ]
            ],
            "type": "surface"
           }
          ],
          "table": [
           {
            "cells": {
             "fill": {
              "color": "#EBF0F8"
             },
             "line": {
              "color": "white"
             }
            },
            "header": {
             "fill": {
              "color": "#C8D4E3"
             },
             "line": {
              "color": "white"
             }
            },
            "type": "table"
           }
          ]
         },
         "layout": {
          "annotationdefaults": {
           "arrowcolor": "#2a3f5f",
           "arrowhead": 0,
           "arrowwidth": 1
          },
          "autotypenumbers": "strict",
          "coloraxis": {
           "colorbar": {
            "outlinewidth": 0,
            "ticks": ""
           }
          },
          "colorscale": {
           "diverging": [
            [
             0,
             "#8e0152"
            ],
            [
             0.1,
             "#c51b7d"
            ],
            [
             0.2,
             "#de77ae"
            ],
            [
             0.3,
             "#f1b6da"
            ],
            [
             0.4,
             "#fde0ef"
            ],
            [
             0.5,
             "#f7f7f7"
            ],
            [
             0.6,
             "#e6f5d0"
            ],
            [
             0.7,
             "#b8e186"
            ],
            [
             0.8,
             "#7fbc41"
            ],
            [
             0.9,
             "#4d9221"
            ],
            [
             1,
             "#276419"
            ]
           ],
           "sequential": [
            [
             0,
             "#0d0887"
            ],
            [
             0.1111111111111111,
             "#46039f"
            ],
            [
             0.2222222222222222,
             "#7201a8"
            ],
            [
             0.3333333333333333,
             "#9c179e"
            ],
            [
             0.4444444444444444,
             "#bd3786"
            ],
            [
             0.5555555555555556,
             "#d8576b"
            ],
            [
             0.6666666666666666,
             "#ed7953"
            ],
            [
             0.7777777777777778,
             "#fb9f3a"
            ],
            [
             0.8888888888888888,
             "#fdca26"
            ],
            [
             1,
             "#f0f921"
            ]
           ],
           "sequentialminus": [
            [
             0,
             "#0d0887"
            ],
            [
             0.1111111111111111,
             "#46039f"
            ],
            [
             0.2222222222222222,
             "#7201a8"
            ],
            [
             0.3333333333333333,
             "#9c179e"
            ],
            [
             0.4444444444444444,
             "#bd3786"
            ],
            [
             0.5555555555555556,
             "#d8576b"
            ],
            [
             0.6666666666666666,
             "#ed7953"
            ],
            [
             0.7777777777777778,
             "#fb9f3a"
            ],
            [
             0.8888888888888888,
             "#fdca26"
            ],
            [
             1,
             "#f0f921"
            ]
           ]
          },
          "colorway": [
           "#636efa",
           "#EF553B",
           "#00cc96",
           "#ab63fa",
           "#FFA15A",
           "#19d3f3",
           "#FF6692",
           "#B6E880",
           "#FF97FF",
           "#FECB52"
          ],
          "font": {
           "color": "#2a3f5f"
          },
          "geo": {
           "bgcolor": "white",
           "lakecolor": "white",
           "landcolor": "#E5ECF6",
           "showlakes": true,
           "showland": true,
           "subunitcolor": "white"
          },
          "hoverlabel": {
           "align": "left"
          },
          "hovermode": "closest",
          "mapbox": {
           "style": "light"
          },
          "paper_bgcolor": "white",
          "plot_bgcolor": "#E5ECF6",
          "polar": {
           "angularaxis": {
            "gridcolor": "white",
            "linecolor": "white",
            "ticks": ""
           },
           "bgcolor": "#E5ECF6",
           "radialaxis": {
            "gridcolor": "white",
            "linecolor": "white",
            "ticks": ""
           }
          },
          "scene": {
           "xaxis": {
            "backgroundcolor": "#E5ECF6",
            "gridcolor": "white",
            "gridwidth": 2,
            "linecolor": "white",
            "showbackground": true,
            "ticks": "",
            "zerolinecolor": "white"
           },
           "yaxis": {
            "backgroundcolor": "#E5ECF6",
            "gridcolor": "white",
            "gridwidth": 2,
            "linecolor": "white",
            "showbackground": true,
            "ticks": "",
            "zerolinecolor": "white"
           },
           "zaxis": {
            "backgroundcolor": "#E5ECF6",
            "gridcolor": "white",
            "gridwidth": 2,
            "linecolor": "white",
            "showbackground": true,
            "ticks": "",
            "zerolinecolor": "white"
           }
          },
          "shapedefaults": {
           "line": {
            "color": "#2a3f5f"
           }
          },
          "ternary": {
           "aaxis": {
            "gridcolor": "white",
            "linecolor": "white",
            "ticks": ""
           },
           "baxis": {
            "gridcolor": "white",
            "linecolor": "white",
            "ticks": ""
           },
           "bgcolor": "#E5ECF6",
           "caxis": {
            "gridcolor": "white",
            "linecolor": "white",
            "ticks": ""
           }
          },
          "title": {
           "x": 0.05
          },
          "xaxis": {
           "automargin": true,
           "gridcolor": "white",
           "linecolor": "white",
           "ticks": "",
           "title": {
            "standoff": 15
           },
           "zerolinecolor": "white",
           "zerolinewidth": 2
          },
          "yaxis": {
           "automargin": true,
           "gridcolor": "white",
           "linecolor": "white",
           "ticks": "",
           "title": {
            "standoff": 15
           },
           "zerolinecolor": "white",
           "zerolinewidth": 2
          }
         }
        },
        "xaxis": {
         "anchor": "y",
         "domain": [
          0,
          1
         ],
         "title": {
          "text": "brand"
         }
        },
        "yaxis": {
         "anchor": "x",
         "domain": [
          0,
          1
         ],
         "title": {
          "text": "Umsatz"
         }
        }
       }
      }
     },
     "metadata": {}
    }
   ],
   "source": [
    "px.bar(sdf_brand_overview.limit(10).toPandas(), x='brand', y='Turnover')"
   ]
  },
  {
   "cell_type": "code",
   "execution_count": 10,
   "metadata": {},
   "outputs": [
    {
     "output_type": "stream",
     "name": "stdout",
     "text": [
      "+-------------------+-----------------+------------------+--------------------+------------------+--------------------+------+\n|        category_id|count(Product_id)|       mean(price)|sum(viewed_quantity)|sum(cart_quantity)|sum(bougth_quantity)|Umsatz|\n+-------------------+-----------------+------------------+--------------------+------------------+--------------------+------+\n|2053013557192163841|                3|             566.3|                   2|                 0|                   1| 566.3|\n|2053013555631882655|               38| 474.5957894736841|                  36|                 1|                   1|211.92|\n|2053013558190408249|                1|             30.86|                   1|                 0|                   0|   0.0|\n|2134905044833666047|                2|135.60500000000002|                   2|                 0|                   0|   0.0|\n|2053013558920217191|               18| 924.2788888888889|                  18|                 0|                   0|   0.0|\n|2053013560530830019|                1|            386.08|                   1|                 0|                   0|   0.0|\n|2085718636156158307|                2|             40.93|                   2|                 0|                   0|   0.0|\n|2152167773222993940|                1|            105.54|                   1|                 0|                   0|   0.0|\n|2146660887346282824|                1|              8.73|                   1|                 0|                   0|   0.0|\n|2053013562183385881|                1|              1.09|                   1|                 0|                   0|   0.0|\n|2053013556110033341|                1|              23.4|                   1|                 0|                   0|   0.0|\n|2137704922018218396|                2|           439.525|                   2|                 0|                   0|   0.0|\n|2053013559792632471|                2|           514.555|                   2|                 0|                   0|   0.0|\n|2053013563651392361|                4|           155.035|                   4|                 0|                   0|   0.0|\n|2053013558433677895|                1|            207.21|                   1|                 0|                   0|   0.0|\n|2053013566100866035|                2|            293.65|                   2|                 0|                   0|   0.0|\n|2053013553056579841|                2|            177.49|                   2|                 0|                   0|   0.0|\n|2053013559733912211|                1|            257.15|                   1|                 0|                   0|   0.0|\n|2053013559868129947|                1|             51.46|                   1|                 0|                   0|   0.0|\n|2053013559901684381|                6|39.248333333333335|                   6|                 0|                   0|   0.0|\n+-------------------+-----------------+------------------+--------------------+------------------+--------------------+------+\nonly showing top 20 rows\n\n"
     ]
    }
   ],
   "source": [
    " sdf_category_id_overview = spark.sql(\"SELECT category_id, \\\n",
    "                                                COUNT(Product_id), \\\n",
    "                                                MEAN(price), \\\n",
    "                                                SUM(viewed_quantity) ,\\\n",
    "                                                SUM(cart_quantity),\\\n",
    "                                                SUM(bougth_quantity), \\\n",
    "                                                SUM(turnover) AS Turnover\\\n",
    "                                        FROM Data \\\n",
    "                                        GROUP BY category_id \\\n",
    "                                        ORDER BY Turnover DESC\")\n",
    "sdf_category_id_overview.show()"
   ]
  },
  {
   "cell_type": "code",
   "execution_count": 11,
   "metadata": {},
   "outputs": [
    {
     "output_type": "display_data",
     "data": {
      "application/vnd.plotly.v1+json": {
       "config": {
        "plotlyServerURL": "https://plot.ly"
       },
       "data": [
        {
         "alignmentgroup": "True",
         "hovertemplate": "category_id=%{x}<br>Umsatz=%{y}<extra></extra>",
         "legendgroup": "",
         "marker": {
          "color": "#636efa"
         },
         "name": "",
         "offsetgroup": "",
         "orientation": "v",
         "showlegend": false,
         "textposition": "auto",
         "type": "bar",
         "x": [
          "2053013557192163841",
          "2053013555631882655",
          "2053013558920217191",
          "2053013558190408249",
          "2134905044833666047",
          "2085718636156158307",
          "2053013560530830019",
          "2070747671722722162",
          "2053013556110033341",
          "2053013559792632471"
         ],
         "xaxis": "x",
         "y": [
          566.3,
          211.92,
          0,
          0,
          0,
          0,
          0,
          0,
          0,
          0
         ],
         "yaxis": "y"
        }
       ],
       "layout": {
        "barmode": "relative",
        "legend": {
         "tracegroupgap": 0
        },
        "margin": {
         "t": 60
        },
        "template": {
         "data": {
          "bar": [
           {
            "error_x": {
             "color": "#2a3f5f"
            },
            "error_y": {
             "color": "#2a3f5f"
            },
            "marker": {
             "line": {
              "color": "#E5ECF6",
              "width": 0.5
             }
            },
            "type": "bar"
           }
          ],
          "barpolar": [
           {
            "marker": {
             "line": {
              "color": "#E5ECF6",
              "width": 0.5
             }
            },
            "type": "barpolar"
           }
          ],
          "carpet": [
           {
            "aaxis": {
             "endlinecolor": "#2a3f5f",
             "gridcolor": "white",
             "linecolor": "white",
             "minorgridcolor": "white",
             "startlinecolor": "#2a3f5f"
            },
            "baxis": {
             "endlinecolor": "#2a3f5f",
             "gridcolor": "white",
             "linecolor": "white",
             "minorgridcolor": "white",
             "startlinecolor": "#2a3f5f"
            },
            "type": "carpet"
           }
          ],
          "choropleth": [
           {
            "colorbar": {
             "outlinewidth": 0,
             "ticks": ""
            },
            "type": "choropleth"
           }
          ],
          "contour": [
           {
            "colorbar": {
             "outlinewidth": 0,
             "ticks": ""
            },
            "colorscale": [
             [
              0,
              "#0d0887"
             ],
             [
              0.1111111111111111,
              "#46039f"
             ],
             [
              0.2222222222222222,
              "#7201a8"
             ],
             [
              0.3333333333333333,
              "#9c179e"
             ],
             [
              0.4444444444444444,
              "#bd3786"
             ],
             [
              0.5555555555555556,
              "#d8576b"
             ],
             [
              0.6666666666666666,
              "#ed7953"
             ],
             [
              0.7777777777777778,
              "#fb9f3a"
             ],
             [
              0.8888888888888888,
              "#fdca26"
             ],
             [
              1,
              "#f0f921"
             ]
            ],
            "type": "contour"
           }
          ],
          "contourcarpet": [
           {
            "colorbar": {
             "outlinewidth": 0,
             "ticks": ""
            },
            "type": "contourcarpet"
           }
          ],
          "heatmap": [
           {
            "colorbar": {
             "outlinewidth": 0,
             "ticks": ""
            },
            "colorscale": [
             [
              0,
              "#0d0887"
             ],
             [
              0.1111111111111111,
              "#46039f"
             ],
             [
              0.2222222222222222,
              "#7201a8"
             ],
             [
              0.3333333333333333,
              "#9c179e"
             ],
             [
              0.4444444444444444,
              "#bd3786"
             ],
             [
              0.5555555555555556,
              "#d8576b"
             ],
             [
              0.6666666666666666,
              "#ed7953"
             ],
             [
              0.7777777777777778,
              "#fb9f3a"
             ],
             [
              0.8888888888888888,
              "#fdca26"
             ],
             [
              1,
              "#f0f921"
             ]
            ],
            "type": "heatmap"
           }
          ],
          "heatmapgl": [
           {
            "colorbar": {
             "outlinewidth": 0,
             "ticks": ""
            },
            "colorscale": [
             [
              0,
              "#0d0887"
             ],
             [
              0.1111111111111111,
              "#46039f"
             ],
             [
              0.2222222222222222,
              "#7201a8"
             ],
             [
              0.3333333333333333,
              "#9c179e"
             ],
             [
              0.4444444444444444,
              "#bd3786"
             ],
             [
              0.5555555555555556,
              "#d8576b"
             ],
             [
              0.6666666666666666,
              "#ed7953"
             ],
             [
              0.7777777777777778,
              "#fb9f3a"
             ],
             [
              0.8888888888888888,
              "#fdca26"
             ],
             [
              1,
              "#f0f921"
             ]
            ],
            "type": "heatmapgl"
           }
          ],
          "histogram": [
           {
            "marker": {
             "colorbar": {
              "outlinewidth": 0,
              "ticks": ""
             }
            },
            "type": "histogram"
           }
          ],
          "histogram2d": [
           {
            "colorbar": {
             "outlinewidth": 0,
             "ticks": ""
            },
            "colorscale": [
             [
              0,
              "#0d0887"
             ],
             [
              0.1111111111111111,
              "#46039f"
             ],
             [
              0.2222222222222222,
              "#7201a8"
             ],
             [
              0.3333333333333333,
              "#9c179e"
             ],
             [
              0.4444444444444444,
              "#bd3786"
             ],
             [
              0.5555555555555556,
              "#d8576b"
             ],
             [
              0.6666666666666666,
              "#ed7953"
             ],
             [
              0.7777777777777778,
              "#fb9f3a"
             ],
             [
              0.8888888888888888,
              "#fdca26"
             ],
             [
              1,
              "#f0f921"
             ]
            ],
            "type": "histogram2d"
           }
          ],
          "histogram2dcontour": [
           {
            "colorbar": {
             "outlinewidth": 0,
             "ticks": ""
            },
            "colorscale": [
             [
              0,
              "#0d0887"
             ],
             [
              0.1111111111111111,
              "#46039f"
             ],
             [
              0.2222222222222222,
              "#7201a8"
             ],
             [
              0.3333333333333333,
              "#9c179e"
             ],
             [
              0.4444444444444444,
              "#bd3786"
             ],
             [
              0.5555555555555556,
              "#d8576b"
             ],
             [
              0.6666666666666666,
              "#ed7953"
             ],
             [
              0.7777777777777778,
              "#fb9f3a"
             ],
             [
              0.8888888888888888,
              "#fdca26"
             ],
             [
              1,
              "#f0f921"
             ]
            ],
            "type": "histogram2dcontour"
           }
          ],
          "mesh3d": [
           {
            "colorbar": {
             "outlinewidth": 0,
             "ticks": ""
            },
            "type": "mesh3d"
           }
          ],
          "parcoords": [
           {
            "line": {
             "colorbar": {
              "outlinewidth": 0,
              "ticks": ""
             }
            },
            "type": "parcoords"
           }
          ],
          "pie": [
           {
            "automargin": true,
            "type": "pie"
           }
          ],
          "scatter": [
           {
            "marker": {
             "colorbar": {
              "outlinewidth": 0,
              "ticks": ""
             }
            },
            "type": "scatter"
           }
          ],
          "scatter3d": [
           {
            "line": {
             "colorbar": {
              "outlinewidth": 0,
              "ticks": ""
             }
            },
            "marker": {
             "colorbar": {
              "outlinewidth": 0,
              "ticks": ""
             }
            },
            "type": "scatter3d"
           }
          ],
          "scattercarpet": [
           {
            "marker": {
             "colorbar": {
              "outlinewidth": 0,
              "ticks": ""
             }
            },
            "type": "scattercarpet"
           }
          ],
          "scattergeo": [
           {
            "marker": {
             "colorbar": {
              "outlinewidth": 0,
              "ticks": ""
             }
            },
            "type": "scattergeo"
           }
          ],
          "scattergl": [
           {
            "marker": {
             "colorbar": {
              "outlinewidth": 0,
              "ticks": ""
             }
            },
            "type": "scattergl"
           }
          ],
          "scattermapbox": [
           {
            "marker": {
             "colorbar": {
              "outlinewidth": 0,
              "ticks": ""
             }
            },
            "type": "scattermapbox"
           }
          ],
          "scatterpolar": [
           {
            "marker": {
             "colorbar": {
              "outlinewidth": 0,
              "ticks": ""
             }
            },
            "type": "scatterpolar"
           }
          ],
          "scatterpolargl": [
           {
            "marker": {
             "colorbar": {
              "outlinewidth": 0,
              "ticks": ""
             }
            },
            "type": "scatterpolargl"
           }
          ],
          "scatterternary": [
           {
            "marker": {
             "colorbar": {
              "outlinewidth": 0,
              "ticks": ""
             }
            },
            "type": "scatterternary"
           }
          ],
          "surface": [
           {
            "colorbar": {
             "outlinewidth": 0,
             "ticks": ""
            },
            "colorscale": [
             [
              0,
              "#0d0887"
             ],
             [
              0.1111111111111111,
              "#46039f"
             ],
             [
              0.2222222222222222,
              "#7201a8"
             ],
             [
              0.3333333333333333,
              "#9c179e"
             ],
             [
              0.4444444444444444,
              "#bd3786"
             ],
             [
              0.5555555555555556,
              "#d8576b"
             ],
             [
              0.6666666666666666,
              "#ed7953"
             ],
             [
              0.7777777777777778,
              "#fb9f3a"
             ],
             [
              0.8888888888888888,
              "#fdca26"
             ],
             [
              1,
              "#f0f921"
             ]
            ],
            "type": "surface"
           }
          ],
          "table": [
           {
            "cells": {
             "fill": {
              "color": "#EBF0F8"
             },
             "line": {
              "color": "white"
             }
            },
            "header": {
             "fill": {
              "color": "#C8D4E3"
             },
             "line": {
              "color": "white"
             }
            },
            "type": "table"
           }
          ]
         },
         "layout": {
          "annotationdefaults": {
           "arrowcolor": "#2a3f5f",
           "arrowhead": 0,
           "arrowwidth": 1
          },
          "autotypenumbers": "strict",
          "coloraxis": {
           "colorbar": {
            "outlinewidth": 0,
            "ticks": ""
           }
          },
          "colorscale": {
           "diverging": [
            [
             0,
             "#8e0152"
            ],
            [
             0.1,
             "#c51b7d"
            ],
            [
             0.2,
             "#de77ae"
            ],
            [
             0.3,
             "#f1b6da"
            ],
            [
             0.4,
             "#fde0ef"
            ],
            [
             0.5,
             "#f7f7f7"
            ],
            [
             0.6,
             "#e6f5d0"
            ],
            [
             0.7,
             "#b8e186"
            ],
            [
             0.8,
             "#7fbc41"
            ],
            [
             0.9,
             "#4d9221"
            ],
            [
             1,
             "#276419"
            ]
           ],
           "sequential": [
            [
             0,
             "#0d0887"
            ],
            [
             0.1111111111111111,
             "#46039f"
            ],
            [
             0.2222222222222222,
             "#7201a8"
            ],
            [
             0.3333333333333333,
             "#9c179e"
            ],
            [
             0.4444444444444444,
             "#bd3786"
            ],
            [
             0.5555555555555556,
             "#d8576b"
            ],
            [
             0.6666666666666666,
             "#ed7953"
            ],
            [
             0.7777777777777778,
             "#fb9f3a"
            ],
            [
             0.8888888888888888,
             "#fdca26"
            ],
            [
             1,
             "#f0f921"
            ]
           ],
           "sequentialminus": [
            [
             0,
             "#0d0887"
            ],
            [
             0.1111111111111111,
             "#46039f"
            ],
            [
             0.2222222222222222,
             "#7201a8"
            ],
            [
             0.3333333333333333,
             "#9c179e"
            ],
            [
             0.4444444444444444,
             "#bd3786"
            ],
            [
             0.5555555555555556,
             "#d8576b"
            ],
            [
             0.6666666666666666,
             "#ed7953"
            ],
            [
             0.7777777777777778,
             "#fb9f3a"
            ],
            [
             0.8888888888888888,
             "#fdca26"
            ],
            [
             1,
             "#f0f921"
            ]
           ]
          },
          "colorway": [
           "#636efa",
           "#EF553B",
           "#00cc96",
           "#ab63fa",
           "#FFA15A",
           "#19d3f3",
           "#FF6692",
           "#B6E880",
           "#FF97FF",
           "#FECB52"
          ],
          "font": {
           "color": "#2a3f5f"
          },
          "geo": {
           "bgcolor": "white",
           "lakecolor": "white",
           "landcolor": "#E5ECF6",
           "showlakes": true,
           "showland": true,
           "subunitcolor": "white"
          },
          "hoverlabel": {
           "align": "left"
          },
          "hovermode": "closest",
          "mapbox": {
           "style": "light"
          },
          "paper_bgcolor": "white",
          "plot_bgcolor": "#E5ECF6",
          "polar": {
           "angularaxis": {
            "gridcolor": "white",
            "linecolor": "white",
            "ticks": ""
           },
           "bgcolor": "#E5ECF6",
           "radialaxis": {
            "gridcolor": "white",
            "linecolor": "white",
            "ticks": ""
           }
          },
          "scene": {
           "xaxis": {
            "backgroundcolor": "#E5ECF6",
            "gridcolor": "white",
            "gridwidth": 2,
            "linecolor": "white",
            "showbackground": true,
            "ticks": "",
            "zerolinecolor": "white"
           },
           "yaxis": {
            "backgroundcolor": "#E5ECF6",
            "gridcolor": "white",
            "gridwidth": 2,
            "linecolor": "white",
            "showbackground": true,
            "ticks": "",
            "zerolinecolor": "white"
           },
           "zaxis": {
            "backgroundcolor": "#E5ECF6",
            "gridcolor": "white",
            "gridwidth": 2,
            "linecolor": "white",
            "showbackground": true,
            "ticks": "",
            "zerolinecolor": "white"
           }
          },
          "shapedefaults": {
           "line": {
            "color": "#2a3f5f"
           }
          },
          "ternary": {
           "aaxis": {
            "gridcolor": "white",
            "linecolor": "white",
            "ticks": ""
           },
           "baxis": {
            "gridcolor": "white",
            "linecolor": "white",
            "ticks": ""
           },
           "bgcolor": "#E5ECF6",
           "caxis": {
            "gridcolor": "white",
            "linecolor": "white",
            "ticks": ""
           }
          },
          "title": {
           "x": 0.05
          },
          "xaxis": {
           "automargin": true,
           "gridcolor": "white",
           "linecolor": "white",
           "ticks": "",
           "title": {
            "standoff": 15
           },
           "zerolinecolor": "white",
           "zerolinewidth": 2
          },
          "yaxis": {
           "automargin": true,
           "gridcolor": "white",
           "linecolor": "white",
           "ticks": "",
           "title": {
            "standoff": 15
           },
           "zerolinecolor": "white",
           "zerolinewidth": 2
          }
         }
        },
        "xaxis": {
         "anchor": "y",
         "domain": [
          0,
          1
         ],
         "title": {
          "text": "category_id"
         }
        },
        "yaxis": {
         "anchor": "x",
         "domain": [
          0,
          1
         ],
         "title": {
          "text": "Umsatz"
         }
        }
       }
      }
     },
     "metadata": {}
    }
   ],
   "source": [
    "px.bar(sdf_category_id_overview.limit(10).toPandas(), x='category_id', y='Turnover')"
   ]
  },
  {
   "cell_type": "code",
   "execution_count": 12,
   "metadata": {},
   "outputs": [
    {
     "output_type": "stream",
     "name": "stdout",
     "text": [
      "+--------------------+-----------------+------------------+--------------------+------------------+--------------------+------+\n|       category_code|count(Product_id)|       mean(price)|sum(viewed_quantity)|sum(cart_quantity)|sum(bougth_quantity)|Umsatz|\n+--------------------+-----------------+------------------+--------------------+------------------+--------------------+------+\n|furniture.bedroom...|                4|           458.825|                   3|                 0|                   1| 566.3|\n|electronics.smart...|               38| 474.5957894736841|                  36|                 1|                   1|211.92|\n|construction.tool...|                4|          130.7775|                   4|                 0|                   0|   0.0|\n|construction.tool...|                1|            254.78|                   1|                 0|                   0|   0.0|\n|furniture.kitchen...|                6|39.248333333333335|                   6|                 0|                   0|   0.0|\n|       apparel.jeans|                3| 45.56333333333333|                   3|                 0|                   0|   0.0|\n|electronics.camer...|                1|            386.08|                   1|                 0|                   0|   0.0|\n|       apparel.shirt|                1|            102.71|                   1|                 0|                   0|   0.0|\n|auto.accessories....|                2|135.60500000000002|                   2|                 0|                   0|   0.0|\n|furniture.bathroo...|                1|             70.27|                   1|                 0|                   0|   0.0|\n|construction.tool...|                1|             24.71|                   1|                 0|                   0|   0.0|\n|     accessories.bag|                1|             48.43|                   1|                 0|                   0|   0.0|\n|appliances.kitche...|                4|          519.7175|                   4|                 0|                   0|   0.0|\n|electronics.audio...|                5|             46.78|                   5|                 0|                   0|   0.0|\n|furniture.kitchen...|                1|            207.21|                   1|                 0|                   0|   0.0|\n|auto.accessories....|                5|214.67600000000002|                   5|                 0|                   0|   0.0|\n|      apparel.tshirt|                1|              8.73|                   1|                 0|                   0|   0.0|\n|  electronics.clocks|                8| 781.1975000000001|                   8|                 0|                   0|   0.0|\n|electronics.audio...|                4| 68.08000000000001|                   4|                 0|                   0|   0.0|\n|appliances.enviro...|                1|             32.66|                   1|                 0|                   0|   0.0|\n+--------------------+-----------------+------------------+--------------------+------------------+--------------------+------+\nonly showing top 20 rows\n\n"
     ]
    }
   ],
   "source": [
    " sdf_category_code_overview = spark.sql(\"SELECT category_code, \\\n",
    "                                        COUNT(Product_id), \\\n",
    "                                        MEAN(price), \\\n",
    "                                        SUM(viewed_quantity) ,\\\n",
    "                                        SUM(cart_quantity),\\\n",
    "                                        SUM(bougth_quantity), \\\n",
    "                                        SUM(turnover) AS Turnover\\\n",
    "                                FROM Data \\\n",
    "                                GROUP BY category_code \\\n",
    "                                ORDER BY Turnover DESC\")\n",
    "sdf_category_code_overview.show()"
   ]
  },
  {
   "cell_type": "code",
   "execution_count": 13,
   "metadata": {},
   "outputs": [
    {
     "output_type": "display_data",
     "data": {
      "application/vnd.plotly.v1+json": {
       "config": {
        "plotlyServerURL": "https://plot.ly"
       },
       "data": [
        {
         "alignmentgroup": "True",
         "hovertemplate": "category_code=%{x}<br>Umsatz=%{y}<extra></extra>",
         "legendgroup": "",
         "marker": {
          "color": "#636efa"
         },
         "name": "",
         "offsetgroup": "",
         "orientation": "v",
         "showlegend": false,
         "textposition": "auto",
         "type": "bar",
         "x": [
          "furniture.bedroom.bed",
          "electronics.smartphone",
          "furniture.bathroom.bath",
          "auto.accessories.compressor",
          "construction.tools.painting",
          "appliances.kitchen.dishwasher",
          "apparel.jeans",
          "electronics.camera.video",
          "apparel.shirt",
          "electronics.audio.headphone"
         ],
         "xaxis": "x",
         "y": [
          566.3,
          211.92,
          0,
          0,
          0,
          0,
          0,
          0,
          0,
          0
         ],
         "yaxis": "y"
        }
       ],
       "layout": {
        "barmode": "relative",
        "legend": {
         "tracegroupgap": 0
        },
        "margin": {
         "t": 60
        },
        "template": {
         "data": {
          "bar": [
           {
            "error_x": {
             "color": "#2a3f5f"
            },
            "error_y": {
             "color": "#2a3f5f"
            },
            "marker": {
             "line": {
              "color": "#E5ECF6",
              "width": 0.5
             }
            },
            "type": "bar"
           }
          ],
          "barpolar": [
           {
            "marker": {
             "line": {
              "color": "#E5ECF6",
              "width": 0.5
             }
            },
            "type": "barpolar"
           }
          ],
          "carpet": [
           {
            "aaxis": {
             "endlinecolor": "#2a3f5f",
             "gridcolor": "white",
             "linecolor": "white",
             "minorgridcolor": "white",
             "startlinecolor": "#2a3f5f"
            },
            "baxis": {
             "endlinecolor": "#2a3f5f",
             "gridcolor": "white",
             "linecolor": "white",
             "minorgridcolor": "white",
             "startlinecolor": "#2a3f5f"
            },
            "type": "carpet"
           }
          ],
          "choropleth": [
           {
            "colorbar": {
             "outlinewidth": 0,
             "ticks": ""
            },
            "type": "choropleth"
           }
          ],
          "contour": [
           {
            "colorbar": {
             "outlinewidth": 0,
             "ticks": ""
            },
            "colorscale": [
             [
              0,
              "#0d0887"
             ],
             [
              0.1111111111111111,
              "#46039f"
             ],
             [
              0.2222222222222222,
              "#7201a8"
             ],
             [
              0.3333333333333333,
              "#9c179e"
             ],
             [
              0.4444444444444444,
              "#bd3786"
             ],
             [
              0.5555555555555556,
              "#d8576b"
             ],
             [
              0.6666666666666666,
              "#ed7953"
             ],
             [
              0.7777777777777778,
              "#fb9f3a"
             ],
             [
              0.8888888888888888,
              "#fdca26"
             ],
             [
              1,
              "#f0f921"
             ]
            ],
            "type": "contour"
           }
          ],
          "contourcarpet": [
           {
            "colorbar": {
             "outlinewidth": 0,
             "ticks": ""
            },
            "type": "contourcarpet"
           }
          ],
          "heatmap": [
           {
            "colorbar": {
             "outlinewidth": 0,
             "ticks": ""
            },
            "colorscale": [
             [
              0,
              "#0d0887"
             ],
             [
              0.1111111111111111,
              "#46039f"
             ],
             [
              0.2222222222222222,
              "#7201a8"
             ],
             [
              0.3333333333333333,
              "#9c179e"
             ],
             [
              0.4444444444444444,
              "#bd3786"
             ],
             [
              0.5555555555555556,
              "#d8576b"
             ],
             [
              0.6666666666666666,
              "#ed7953"
             ],
             [
              0.7777777777777778,
              "#fb9f3a"
             ],
             [
              0.8888888888888888,
              "#fdca26"
             ],
             [
              1,
              "#f0f921"
             ]
            ],
            "type": "heatmap"
           }
          ],
          "heatmapgl": [
           {
            "colorbar": {
             "outlinewidth": 0,
             "ticks": ""
            },
            "colorscale": [
             [
              0,
              "#0d0887"
             ],
             [
              0.1111111111111111,
              "#46039f"
             ],
             [
              0.2222222222222222,
              "#7201a8"
             ],
             [
              0.3333333333333333,
              "#9c179e"
             ],
             [
              0.4444444444444444,
              "#bd3786"
             ],
             [
              0.5555555555555556,
              "#d8576b"
             ],
             [
              0.6666666666666666,
              "#ed7953"
             ],
             [
              0.7777777777777778,
              "#fb9f3a"
             ],
             [
              0.8888888888888888,
              "#fdca26"
             ],
             [
              1,
              "#f0f921"
             ]
            ],
            "type": "heatmapgl"
           }
          ],
          "histogram": [
           {
            "marker": {
             "colorbar": {
              "outlinewidth": 0,
              "ticks": ""
             }
            },
            "type": "histogram"
           }
          ],
          "histogram2d": [
           {
            "colorbar": {
             "outlinewidth": 0,
             "ticks": ""
            },
            "colorscale": [
             [
              0,
              "#0d0887"
             ],
             [
              0.1111111111111111,
              "#46039f"
             ],
             [
              0.2222222222222222,
              "#7201a8"
             ],
             [
              0.3333333333333333,
              "#9c179e"
             ],
             [
              0.4444444444444444,
              "#bd3786"
             ],
             [
              0.5555555555555556,
              "#d8576b"
             ],
             [
              0.6666666666666666,
              "#ed7953"
             ],
             [
              0.7777777777777778,
              "#fb9f3a"
             ],
             [
              0.8888888888888888,
              "#fdca26"
             ],
             [
              1,
              "#f0f921"
             ]
            ],
            "type": "histogram2d"
           }
          ],
          "histogram2dcontour": [
           {
            "colorbar": {
             "outlinewidth": 0,
             "ticks": ""
            },
            "colorscale": [
             [
              0,
              "#0d0887"
             ],
             [
              0.1111111111111111,
              "#46039f"
             ],
             [
              0.2222222222222222,
              "#7201a8"
             ],
             [
              0.3333333333333333,
              "#9c179e"
             ],
             [
              0.4444444444444444,
              "#bd3786"
             ],
             [
              0.5555555555555556,
              "#d8576b"
             ],
             [
              0.6666666666666666,
              "#ed7953"
             ],
             [
              0.7777777777777778,
              "#fb9f3a"
             ],
             [
              0.8888888888888888,
              "#fdca26"
             ],
             [
              1,
              "#f0f921"
             ]
            ],
            "type": "histogram2dcontour"
           }
          ],
          "mesh3d": [
           {
            "colorbar": {
             "outlinewidth": 0,
             "ticks": ""
            },
            "type": "mesh3d"
           }
          ],
          "parcoords": [
           {
            "line": {
             "colorbar": {
              "outlinewidth": 0,
              "ticks": ""
             }
            },
            "type": "parcoords"
           }
          ],
          "pie": [
           {
            "automargin": true,
            "type": "pie"
           }
          ],
          "scatter": [
           {
            "marker": {
             "colorbar": {
              "outlinewidth": 0,
              "ticks": ""
             }
            },
            "type": "scatter"
           }
          ],
          "scatter3d": [
           {
            "line": {
             "colorbar": {
              "outlinewidth": 0,
              "ticks": ""
             }
            },
            "marker": {
             "colorbar": {
              "outlinewidth": 0,
              "ticks": ""
             }
            },
            "type": "scatter3d"
           }
          ],
          "scattercarpet": [
           {
            "marker": {
             "colorbar": {
              "outlinewidth": 0,
              "ticks": ""
             }
            },
            "type": "scattercarpet"
           }
          ],
          "scattergeo": [
           {
            "marker": {
             "colorbar": {
              "outlinewidth": 0,
              "ticks": ""
             }
            },
            "type": "scattergeo"
           }
          ],
          "scattergl": [
           {
            "marker": {
             "colorbar": {
              "outlinewidth": 0,
              "ticks": ""
             }
            },
            "type": "scattergl"
           }
          ],
          "scattermapbox": [
           {
            "marker": {
             "colorbar": {
              "outlinewidth": 0,
              "ticks": ""
             }
            },
            "type": "scattermapbox"
           }
          ],
          "scatterpolar": [
           {
            "marker": {
             "colorbar": {
              "outlinewidth": 0,
              "ticks": ""
             }
            },
            "type": "scatterpolar"
           }
          ],
          "scatterpolargl": [
           {
            "marker": {
             "colorbar": {
              "outlinewidth": 0,
              "ticks": ""
             }
            },
            "type": "scatterpolargl"
           }
          ],
          "scatterternary": [
           {
            "marker": {
             "colorbar": {
              "outlinewidth": 0,
              "ticks": ""
             }
            },
            "type": "scatterternary"
           }
          ],
          "surface": [
           {
            "colorbar": {
             "outlinewidth": 0,
             "ticks": ""
            },
            "colorscale": [
             [
              0,
              "#0d0887"
             ],
             [
              0.1111111111111111,
              "#46039f"
             ],
             [
              0.2222222222222222,
              "#7201a8"
             ],
             [
              0.3333333333333333,
              "#9c179e"
             ],
             [
              0.4444444444444444,
              "#bd3786"
             ],
             [
              0.5555555555555556,
              "#d8576b"
             ],
             [
              0.6666666666666666,
              "#ed7953"
             ],
             [
              0.7777777777777778,
              "#fb9f3a"
             ],
             [
              0.8888888888888888,
              "#fdca26"
             ],
             [
              1,
              "#f0f921"
             ]
            ],
            "type": "surface"
           }
          ],
          "table": [
           {
            "cells": {
             "fill": {
              "color": "#EBF0F8"
             },
             "line": {
              "color": "white"
             }
            },
            "header": {
             "fill": {
              "color": "#C8D4E3"
             },
             "line": {
              "color": "white"
             }
            },
            "type": "table"
           }
          ]
         },
         "layout": {
          "annotationdefaults": {
           "arrowcolor": "#2a3f5f",
           "arrowhead": 0,
           "arrowwidth": 1
          },
          "autotypenumbers": "strict",
          "coloraxis": {
           "colorbar": {
            "outlinewidth": 0,
            "ticks": ""
           }
          },
          "colorscale": {
           "diverging": [
            [
             0,
             "#8e0152"
            ],
            [
             0.1,
             "#c51b7d"
            ],
            [
             0.2,
             "#de77ae"
            ],
            [
             0.3,
             "#f1b6da"
            ],
            [
             0.4,
             "#fde0ef"
            ],
            [
             0.5,
             "#f7f7f7"
            ],
            [
             0.6,
             "#e6f5d0"
            ],
            [
             0.7,
             "#b8e186"
            ],
            [
             0.8,
             "#7fbc41"
            ],
            [
             0.9,
             "#4d9221"
            ],
            [
             1,
             "#276419"
            ]
           ],
           "sequential": [
            [
             0,
             "#0d0887"
            ],
            [
             0.1111111111111111,
             "#46039f"
            ],
            [
             0.2222222222222222,
             "#7201a8"
            ],
            [
             0.3333333333333333,
             "#9c179e"
            ],
            [
             0.4444444444444444,
             "#bd3786"
            ],
            [
             0.5555555555555556,
             "#d8576b"
            ],
            [
             0.6666666666666666,
             "#ed7953"
            ],
            [
             0.7777777777777778,
             "#fb9f3a"
            ],
            [
             0.8888888888888888,
             "#fdca26"
            ],
            [
             1,
             "#f0f921"
            ]
           ],
           "sequentialminus": [
            [
             0,
             "#0d0887"
            ],
            [
             0.1111111111111111,
             "#46039f"
            ],
            [
             0.2222222222222222,
             "#7201a8"
            ],
            [
             0.3333333333333333,
             "#9c179e"
            ],
            [
             0.4444444444444444,
             "#bd3786"
            ],
            [
             0.5555555555555556,
             "#d8576b"
            ],
            [
             0.6666666666666666,
             "#ed7953"
            ],
            [
             0.7777777777777778,
             "#fb9f3a"
            ],
            [
             0.8888888888888888,
             "#fdca26"
            ],
            [
             1,
             "#f0f921"
            ]
           ]
          },
          "colorway": [
           "#636efa",
           "#EF553B",
           "#00cc96",
           "#ab63fa",
           "#FFA15A",
           "#19d3f3",
           "#FF6692",
           "#B6E880",
           "#FF97FF",
           "#FECB52"
          ],
          "font": {
           "color": "#2a3f5f"
          },
          "geo": {
           "bgcolor": "white",
           "lakecolor": "white",
           "landcolor": "#E5ECF6",
           "showlakes": true,
           "showland": true,
           "subunitcolor": "white"
          },
          "hoverlabel": {
           "align": "left"
          },
          "hovermode": "closest",
          "mapbox": {
           "style": "light"
          },
          "paper_bgcolor": "white",
          "plot_bgcolor": "#E5ECF6",
          "polar": {
           "angularaxis": {
            "gridcolor": "white",
            "linecolor": "white",
            "ticks": ""
           },
           "bgcolor": "#E5ECF6",
           "radialaxis": {
            "gridcolor": "white",
            "linecolor": "white",
            "ticks": ""
           }
          },
          "scene": {
           "xaxis": {
            "backgroundcolor": "#E5ECF6",
            "gridcolor": "white",
            "gridwidth": 2,
            "linecolor": "white",
            "showbackground": true,
            "ticks": "",
            "zerolinecolor": "white"
           },
           "yaxis": {
            "backgroundcolor": "#E5ECF6",
            "gridcolor": "white",
            "gridwidth": 2,
            "linecolor": "white",
            "showbackground": true,
            "ticks": "",
            "zerolinecolor": "white"
           },
           "zaxis": {
            "backgroundcolor": "#E5ECF6",
            "gridcolor": "white",
            "gridwidth": 2,
            "linecolor": "white",
            "showbackground": true,
            "ticks": "",
            "zerolinecolor": "white"
           }
          },
          "shapedefaults": {
           "line": {
            "color": "#2a3f5f"
           }
          },
          "ternary": {
           "aaxis": {
            "gridcolor": "white",
            "linecolor": "white",
            "ticks": ""
           },
           "baxis": {
            "gridcolor": "white",
            "linecolor": "white",
            "ticks": ""
           },
           "bgcolor": "#E5ECF6",
           "caxis": {
            "gridcolor": "white",
            "linecolor": "white",
            "ticks": ""
           }
          },
          "title": {
           "x": 0.05
          },
          "xaxis": {
           "automargin": true,
           "gridcolor": "white",
           "linecolor": "white",
           "ticks": "",
           "title": {
            "standoff": 15
           },
           "zerolinecolor": "white",
           "zerolinewidth": 2
          },
          "yaxis": {
           "automargin": true,
           "gridcolor": "white",
           "linecolor": "white",
           "ticks": "",
           "title": {
            "standoff": 15
           },
           "zerolinecolor": "white",
           "zerolinewidth": 2
          }
         }
        },
        "xaxis": {
         "anchor": "y",
         "domain": [
          0,
          1
         ],
         "title": {
          "text": "category_code"
         }
        },
        "yaxis": {
         "anchor": "x",
         "domain": [
          0,
          1
         ],
         "title": {
          "text": "Umsatz"
         }
        }
       }
      }
     },
     "metadata": {}
    }
   ],
   "source": [
    "px.bar(sdf_category_code_overview.limit(10).toPandas(), x='category_code', y='Turnover')"
   ]
  },
  {
   "cell_type": "code",
   "execution_count": 14,
   "metadata": {},
   "outputs": [
    {
     "output_type": "stream",
     "name": "stdout",
     "text": [
      "+--------------+-----------------+------------------+--------------------+------------------+--------------------+------+\n|category_class|count(Product_id)|       mean(price)|sum(viewed_quantity)|sum(cart_quantity)|sum(bougth_quantity)|Umsatz|\n+--------------+-----------------+------------------+--------------------+------------------+--------------------+------+\n|     furniture|               14|241.24142857142857|                  13|                 0|                   1| 566.3|\n|   electronics|               57|446.76929824561387|                  55|                 1|                   1|211.92|\n|          auto|                7|192.08428571428573|                   7|                 0|                   0|   0.0|\n|    appliances|               14|341.70214285714286|                  14|                 0|                   0|   0.0|\n|       apparel|                6|52.251666666666665|                   6|                 0|                   0|   0.0|\n|   not defined|               87|147.39471264367813|                  87|                 0|                   0|   0.0|\n|   accessories|                1|             48.43|                   1|                 0|                   0|   0.0|\n|  construction|                8|110.10125000000002|                   8|                 0|                   0|   0.0|\n|     computers|               23|  760.953043478261|                  23|                 0|                   0|   0.0|\n+--------------+-----------------+------------------+--------------------+------------------+--------------------+------+\n\n"
     ]
    }
   ],
   "source": [
    " sdf_category_class_overview = spark.sql(\"SELECT category_class, \\\n",
    "                                        COUNT(Product_id), \\\n",
    "                                        MEAN(price), \\\n",
    "                                        SUM(viewed_quantity) ,\\\n",
    "                                        SUM(cart_quantity),\\\n",
    "                                        SUM(bougth_quantity), \\\n",
    "                                        SUM(turnover) AS Turnover\\\n",
    "                                FROM Data \\\n",
    "                                GROUP BY category_class \\\n",
    "                                ORDER BY Turnover DESC\")\n",
    "sdf_category_class_overview.show()"
   ]
  },
  {
   "cell_type": "code",
   "execution_count": 15,
   "metadata": {},
   "outputs": [
    {
     "output_type": "display_data",
     "data": {
      "application/vnd.plotly.v1+json": {
       "config": {
        "plotlyServerURL": "https://plot.ly"
       },
       "data": [
        {
         "alignmentgroup": "True",
         "hovertemplate": "category_class=%{x}<br>Umsatz=%{y}<extra></extra>",
         "legendgroup": "",
         "marker": {
          "color": "#636efa"
         },
         "name": "",
         "offsetgroup": "",
         "orientation": "v",
         "showlegend": false,
         "textposition": "auto",
         "type": "bar",
         "x": [
          "furniture",
          "electronics",
          "computers",
          "auto",
          "apparel",
          "not defined",
          "appliances",
          "construction",
          "accessories"
         ],
         "xaxis": "x",
         "y": [
          566.3,
          211.92,
          0,
          0,
          0,
          0,
          0,
          0,
          0
         ],
         "yaxis": "y"
        }
       ],
       "layout": {
        "barmode": "relative",
        "legend": {
         "tracegroupgap": 0
        },
        "margin": {
         "t": 60
        },
        "template": {
         "data": {
          "bar": [
           {
            "error_x": {
             "color": "#2a3f5f"
            },
            "error_y": {
             "color": "#2a3f5f"
            },
            "marker": {
             "line": {
              "color": "#E5ECF6",
              "width": 0.5
             }
            },
            "type": "bar"
           }
          ],
          "barpolar": [
           {
            "marker": {
             "line": {
              "color": "#E5ECF6",
              "width": 0.5
             }
            },
            "type": "barpolar"
           }
          ],
          "carpet": [
           {
            "aaxis": {
             "endlinecolor": "#2a3f5f",
             "gridcolor": "white",
             "linecolor": "white",
             "minorgridcolor": "white",
             "startlinecolor": "#2a3f5f"
            },
            "baxis": {
             "endlinecolor": "#2a3f5f",
             "gridcolor": "white",
             "linecolor": "white",
             "minorgridcolor": "white",
             "startlinecolor": "#2a3f5f"
            },
            "type": "carpet"
           }
          ],
          "choropleth": [
           {
            "colorbar": {
             "outlinewidth": 0,
             "ticks": ""
            },
            "type": "choropleth"
           }
          ],
          "contour": [
           {
            "colorbar": {
             "outlinewidth": 0,
             "ticks": ""
            },
            "colorscale": [
             [
              0,
              "#0d0887"
             ],
             [
              0.1111111111111111,
              "#46039f"
             ],
             [
              0.2222222222222222,
              "#7201a8"
             ],
             [
              0.3333333333333333,
              "#9c179e"
             ],
             [
              0.4444444444444444,
              "#bd3786"
             ],
             [
              0.5555555555555556,
              "#d8576b"
             ],
             [
              0.6666666666666666,
              "#ed7953"
             ],
             [
              0.7777777777777778,
              "#fb9f3a"
             ],
             [
              0.8888888888888888,
              "#fdca26"
             ],
             [
              1,
              "#f0f921"
             ]
            ],
            "type": "contour"
           }
          ],
          "contourcarpet": [
           {
            "colorbar": {
             "outlinewidth": 0,
             "ticks": ""
            },
            "type": "contourcarpet"
           }
          ],
          "heatmap": [
           {
            "colorbar": {
             "outlinewidth": 0,
             "ticks": ""
            },
            "colorscale": [
             [
              0,
              "#0d0887"
             ],
             [
              0.1111111111111111,
              "#46039f"
             ],
             [
              0.2222222222222222,
              "#7201a8"
             ],
             [
              0.3333333333333333,
              "#9c179e"
             ],
             [
              0.4444444444444444,
              "#bd3786"
             ],
             [
              0.5555555555555556,
              "#d8576b"
             ],
             [
              0.6666666666666666,
              "#ed7953"
             ],
             [
              0.7777777777777778,
              "#fb9f3a"
             ],
             [
              0.8888888888888888,
              "#fdca26"
             ],
             [
              1,
              "#f0f921"
             ]
            ],
            "type": "heatmap"
           }
          ],
          "heatmapgl": [
           {
            "colorbar": {
             "outlinewidth": 0,
             "ticks": ""
            },
            "colorscale": [
             [
              0,
              "#0d0887"
             ],
             [
              0.1111111111111111,
              "#46039f"
             ],
             [
              0.2222222222222222,
              "#7201a8"
             ],
             [
              0.3333333333333333,
              "#9c179e"
             ],
             [
              0.4444444444444444,
              "#bd3786"
             ],
             [
              0.5555555555555556,
              "#d8576b"
             ],
             [
              0.6666666666666666,
              "#ed7953"
             ],
             [
              0.7777777777777778,
              "#fb9f3a"
             ],
             [
              0.8888888888888888,
              "#fdca26"
             ],
             [
              1,
              "#f0f921"
             ]
            ],
            "type": "heatmapgl"
           }
          ],
          "histogram": [
           {
            "marker": {
             "colorbar": {
              "outlinewidth": 0,
              "ticks": ""
             }
            },
            "type": "histogram"
           }
          ],
          "histogram2d": [
           {
            "colorbar": {
             "outlinewidth": 0,
             "ticks": ""
            },
            "colorscale": [
             [
              0,
              "#0d0887"
             ],
             [
              0.1111111111111111,
              "#46039f"
             ],
             [
              0.2222222222222222,
              "#7201a8"
             ],
             [
              0.3333333333333333,
              "#9c179e"
             ],
             [
              0.4444444444444444,
              "#bd3786"
             ],
             [
              0.5555555555555556,
              "#d8576b"
             ],
             [
              0.6666666666666666,
              "#ed7953"
             ],
             [
              0.7777777777777778,
              "#fb9f3a"
             ],
             [
              0.8888888888888888,
              "#fdca26"
             ],
             [
              1,
              "#f0f921"
             ]
            ],
            "type": "histogram2d"
           }
          ],
          "histogram2dcontour": [
           {
            "colorbar": {
             "outlinewidth": 0,
             "ticks": ""
            },
            "colorscale": [
             [
              0,
              "#0d0887"
             ],
             [
              0.1111111111111111,
              "#46039f"
             ],
             [
              0.2222222222222222,
              "#7201a8"
             ],
             [
              0.3333333333333333,
              "#9c179e"
             ],
             [
              0.4444444444444444,
              "#bd3786"
             ],
             [
              0.5555555555555556,
              "#d8576b"
             ],
             [
              0.6666666666666666,
              "#ed7953"
             ],
             [
              0.7777777777777778,
              "#fb9f3a"
             ],
             [
              0.8888888888888888,
              "#fdca26"
             ],
             [
              1,
              "#f0f921"
             ]
            ],
            "type": "histogram2dcontour"
           }
          ],
          "mesh3d": [
           {
            "colorbar": {
             "outlinewidth": 0,
             "ticks": ""
            },
            "type": "mesh3d"
           }
          ],
          "parcoords": [
           {
            "line": {
             "colorbar": {
              "outlinewidth": 0,
              "ticks": ""
             }
            },
            "type": "parcoords"
           }
          ],
          "pie": [
           {
            "automargin": true,
            "type": "pie"
           }
          ],
          "scatter": [
           {
            "marker": {
             "colorbar": {
              "outlinewidth": 0,
              "ticks": ""
             }
            },
            "type": "scatter"
           }
          ],
          "scatter3d": [
           {
            "line": {
             "colorbar": {
              "outlinewidth": 0,
              "ticks": ""
             }
            },
            "marker": {
             "colorbar": {
              "outlinewidth": 0,
              "ticks": ""
             }
            },
            "type": "scatter3d"
           }
          ],
          "scattercarpet": [
           {
            "marker": {
             "colorbar": {
              "outlinewidth": 0,
              "ticks": ""
             }
            },
            "type": "scattercarpet"
           }
          ],
          "scattergeo": [
           {
            "marker": {
             "colorbar": {
              "outlinewidth": 0,
              "ticks": ""
             }
            },
            "type": "scattergeo"
           }
          ],
          "scattergl": [
           {
            "marker": {
             "colorbar": {
              "outlinewidth": 0,
              "ticks": ""
             }
            },
            "type": "scattergl"
           }
          ],
          "scattermapbox": [
           {
            "marker": {
             "colorbar": {
              "outlinewidth": 0,
              "ticks": ""
             }
            },
            "type": "scattermapbox"
           }
          ],
          "scatterpolar": [
           {
            "marker": {
             "colorbar": {
              "outlinewidth": 0,
              "ticks": ""
             }
            },
            "type": "scatterpolar"
           }
          ],
          "scatterpolargl": [
           {
            "marker": {
             "colorbar": {
              "outlinewidth": 0,
              "ticks": ""
             }
            },
            "type": "scatterpolargl"
           }
          ],
          "scatterternary": [
           {
            "marker": {
             "colorbar": {
              "outlinewidth": 0,
              "ticks": ""
             }
            },
            "type": "scatterternary"
           }
          ],
          "surface": [
           {
            "colorbar": {
             "outlinewidth": 0,
             "ticks": ""
            },
            "colorscale": [
             [
              0,
              "#0d0887"
             ],
             [
              0.1111111111111111,
              "#46039f"
             ],
             [
              0.2222222222222222,
              "#7201a8"
             ],
             [
              0.3333333333333333,
              "#9c179e"
             ],
             [
              0.4444444444444444,
              "#bd3786"
             ],
             [
              0.5555555555555556,
              "#d8576b"
             ],
             [
              0.6666666666666666,
              "#ed7953"
             ],
             [
              0.7777777777777778,
              "#fb9f3a"
             ],
             [
              0.8888888888888888,
              "#fdca26"
             ],
             [
              1,
              "#f0f921"
             ]
            ],
            "type": "surface"
           }
          ],
          "table": [
           {
            "cells": {
             "fill": {
              "color": "#EBF0F8"
             },
             "line": {
              "color": "white"
             }
            },
            "header": {
             "fill": {
              "color": "#C8D4E3"
             },
             "line": {
              "color": "white"
             }
            },
            "type": "table"
           }
          ]
         },
         "layout": {
          "annotationdefaults": {
           "arrowcolor": "#2a3f5f",
           "arrowhead": 0,
           "arrowwidth": 1
          },
          "autotypenumbers": "strict",
          "coloraxis": {
           "colorbar": {
            "outlinewidth": 0,
            "ticks": ""
           }
          },
          "colorscale": {
           "diverging": [
            [
             0,
             "#8e0152"
            ],
            [
             0.1,
             "#c51b7d"
            ],
            [
             0.2,
             "#de77ae"
            ],
            [
             0.3,
             "#f1b6da"
            ],
            [
             0.4,
             "#fde0ef"
            ],
            [
             0.5,
             "#f7f7f7"
            ],
            [
             0.6,
             "#e6f5d0"
            ],
            [
             0.7,
             "#b8e186"
            ],
            [
             0.8,
             "#7fbc41"
            ],
            [
             0.9,
             "#4d9221"
            ],
            [
             1,
             "#276419"
            ]
           ],
           "sequential": [
            [
             0,
             "#0d0887"
            ],
            [
             0.1111111111111111,
             "#46039f"
            ],
            [
             0.2222222222222222,
             "#7201a8"
            ],
            [
             0.3333333333333333,
             "#9c179e"
            ],
            [
             0.4444444444444444,
             "#bd3786"
            ],
            [
             0.5555555555555556,
             "#d8576b"
            ],
            [
             0.6666666666666666,
             "#ed7953"
            ],
            [
             0.7777777777777778,
             "#fb9f3a"
            ],
            [
             0.8888888888888888,
             "#fdca26"
            ],
            [
             1,
             "#f0f921"
            ]
           ],
           "sequentialminus": [
            [
             0,
             "#0d0887"
            ],
            [
             0.1111111111111111,
             "#46039f"
            ],
            [
             0.2222222222222222,
             "#7201a8"
            ],
            [
             0.3333333333333333,
             "#9c179e"
            ],
            [
             0.4444444444444444,
             "#bd3786"
            ],
            [
             0.5555555555555556,
             "#d8576b"
            ],
            [
             0.6666666666666666,
             "#ed7953"
            ],
            [
             0.7777777777777778,
             "#fb9f3a"
            ],
            [
             0.8888888888888888,
             "#fdca26"
            ],
            [
             1,
             "#f0f921"
            ]
           ]
          },
          "colorway": [
           "#636efa",
           "#EF553B",
           "#00cc96",
           "#ab63fa",
           "#FFA15A",
           "#19d3f3",
           "#FF6692",
           "#B6E880",
           "#FF97FF",
           "#FECB52"
          ],
          "font": {
           "color": "#2a3f5f"
          },
          "geo": {
           "bgcolor": "white",
           "lakecolor": "white",
           "landcolor": "#E5ECF6",
           "showlakes": true,
           "showland": true,
           "subunitcolor": "white"
          },
          "hoverlabel": {
           "align": "left"
          },
          "hovermode": "closest",
          "mapbox": {
           "style": "light"
          },
          "paper_bgcolor": "white",
          "plot_bgcolor": "#E5ECF6",
          "polar": {
           "angularaxis": {
            "gridcolor": "white",
            "linecolor": "white",
            "ticks": ""
           },
           "bgcolor": "#E5ECF6",
           "radialaxis": {
            "gridcolor": "white",
            "linecolor": "white",
            "ticks": ""
           }
          },
          "scene": {
           "xaxis": {
            "backgroundcolor": "#E5ECF6",
            "gridcolor": "white",
            "gridwidth": 2,
            "linecolor": "white",
            "showbackground": true,
            "ticks": "",
            "zerolinecolor": "white"
           },
           "yaxis": {
            "backgroundcolor": "#E5ECF6",
            "gridcolor": "white",
            "gridwidth": 2,
            "linecolor": "white",
            "showbackground": true,
            "ticks": "",
            "zerolinecolor": "white"
           },
           "zaxis": {
            "backgroundcolor": "#E5ECF6",
            "gridcolor": "white",
            "gridwidth": 2,
            "linecolor": "white",
            "showbackground": true,
            "ticks": "",
            "zerolinecolor": "white"
           }
          },
          "shapedefaults": {
           "line": {
            "color": "#2a3f5f"
           }
          },
          "ternary": {
           "aaxis": {
            "gridcolor": "white",
            "linecolor": "white",
            "ticks": ""
           },
           "baxis": {
            "gridcolor": "white",
            "linecolor": "white",
            "ticks": ""
           },
           "bgcolor": "#E5ECF6",
           "caxis": {
            "gridcolor": "white",
            "linecolor": "white",
            "ticks": ""
           }
          },
          "title": {
           "x": 0.05
          },
          "xaxis": {
           "automargin": true,
           "gridcolor": "white",
           "linecolor": "white",
           "ticks": "",
           "title": {
            "standoff": 15
           },
           "zerolinecolor": "white",
           "zerolinewidth": 2
          },
          "yaxis": {
           "automargin": true,
           "gridcolor": "white",
           "linecolor": "white",
           "ticks": "",
           "title": {
            "standoff": 15
           },
           "zerolinecolor": "white",
           "zerolinewidth": 2
          }
         }
        },
        "xaxis": {
         "anchor": "y",
         "domain": [
          0,
          1
         ],
         "title": {
          "text": "category_class"
         }
        },
        "yaxis": {
         "anchor": "x",
         "domain": [
          0,
          1
         ],
         "title": {
          "text": "Umsatz"
         }
        }
       }
      }
     },
     "metadata": {}
    }
   ],
   "source": [
    "px.bar(sdf_category_class_overview.limit(10).toPandas(), x='category_class', y='Turnover')"
   ]
  },
  {
   "source": [
    "## Users und Umsatz"
   ],
   "cell_type": "markdown",
   "metadata": {}
  },
  {
   "cell_type": "code",
   "execution_count": 16,
   "metadata": {},
   "outputs": [
    {
     "output_type": "stream",
     "name": "stdout",
     "text": [
      "+---------+-------------------+--------------------+------------------+--------------------+------+\n|  user_id|count(user_session)|sum(viewed_quantity)|sum(cart_quantity)|sum(bougth_quantity)|Umsatz|\n+---------+-------------------+--------------------+------------------+--------------------+------+\n|559368633|                  3|                   2|                 0|                   1| 566.3|\n|513351129|                  2|                   1|                 0|                   1|211.92|\n|519041881|                  1|                   1|                 0|                   0|   0.0|\n|512416379|                  2|                   2|                 0|                   0|   0.0|\n|566280399|                  1|                   1|                 0|                   0|   0.0|\n|515240495|                  1|                   1|                 0|                   0|   0.0|\n|518045858|                  2|                   2|                 0|                   0|   0.0|\n|512651494|                  2|                   2|                 0|                   0|   0.0|\n|564599988|                  3|                   3|                 0|                   0|   0.0|\n|517811633|                  2|                   2|                 0|                   0|   0.0|\n|518398361|                  1|                   1|                 0|                   0|   0.0|\n|539701280|                  1|                   1|                 0|                   0|   0.0|\n|517702267|                  2|                   2|                 0|                   0|   0.0|\n|514028527|                  4|                   4|                 0|                   0|   0.0|\n|565596995|                  1|                   1|                 0|                   0|   0.0|\n|513200477|                  1|                   1|                 0|                   0|   0.0|\n|515782589|                  1|                   1|                 0|                   0|   0.0|\n|518780843|                  1|                   1|                 0|                   0|   0.0|\n|515132797|                  4|                   4|                 0|                   0|   0.0|\n|521324982|                  1|                   1|                 0|                   0|   0.0|\n+---------+-------------------+--------------------+------------------+--------------------+------+\nonly showing top 20 rows\n\n"
     ]
    }
   ],
   "source": [
    " sdf_user_overview = spark.sql(\"SELECT user_id, \\\n",
    "                                        COUNT(user_session), \\\n",
    "                                        SUM(viewed_quantity) ,\\\n",
    "                                        SUM(cart_quantity),\\\n",
    "                                        SUM(bougth_quantity), \\\n",
    "                                        SUM(turnover) AS Turnover\\\n",
    "                                FROM Data \\\n",
    "                                GROUP BY user_id \\\n",
    "                                ORDER BY Turnover DESC\")\n",
    "sdf_user_overview.show()"
   ]
  },
  {
   "cell_type": "code",
   "execution_count": 17,
   "metadata": {},
   "outputs": [
    {
     "output_type": "display_data",
     "data": {
      "application/vnd.plotly.v1+json": {
       "config": {
        "plotlyServerURL": "https://plot.ly"
       },
       "data": [
        {
         "alignmentgroup": "True",
         "hovertemplate": "user_id=%{x}<br>Umsatz=%{y}<extra></extra>",
         "legendgroup": "",
         "marker": {
          "color": "#636efa"
         },
         "name": "",
         "offsetgroup": "",
         "orientation": "v",
         "showlegend": false,
         "textposition": "auto",
         "type": "bar",
         "x": [
          "559368633",
          "513351129",
          "515782589",
          "566280399",
          "519041881",
          "517811633",
          "512416379",
          "518045858",
          "518398361",
          "513200477"
         ],
         "xaxis": "x",
         "y": [
          566.3,
          211.92,
          0,
          0,
          0,
          0,
          0,
          0,
          0,
          0
         ],
         "yaxis": "y"
        }
       ],
       "layout": {
        "barmode": "relative",
        "legend": {
         "tracegroupgap": 0
        },
        "margin": {
         "t": 60
        },
        "template": {
         "data": {
          "bar": [
           {
            "error_x": {
             "color": "#2a3f5f"
            },
            "error_y": {
             "color": "#2a3f5f"
            },
            "marker": {
             "line": {
              "color": "#E5ECF6",
              "width": 0.5
             }
            },
            "type": "bar"
           }
          ],
          "barpolar": [
           {
            "marker": {
             "line": {
              "color": "#E5ECF6",
              "width": 0.5
             }
            },
            "type": "barpolar"
           }
          ],
          "carpet": [
           {
            "aaxis": {
             "endlinecolor": "#2a3f5f",
             "gridcolor": "white",
             "linecolor": "white",
             "minorgridcolor": "white",
             "startlinecolor": "#2a3f5f"
            },
            "baxis": {
             "endlinecolor": "#2a3f5f",
             "gridcolor": "white",
             "linecolor": "white",
             "minorgridcolor": "white",
             "startlinecolor": "#2a3f5f"
            },
            "type": "carpet"
           }
          ],
          "choropleth": [
           {
            "colorbar": {
             "outlinewidth": 0,
             "ticks": ""
            },
            "type": "choropleth"
           }
          ],
          "contour": [
           {
            "colorbar": {
             "outlinewidth": 0,
             "ticks": ""
            },
            "colorscale": [
             [
              0,
              "#0d0887"
             ],
             [
              0.1111111111111111,
              "#46039f"
             ],
             [
              0.2222222222222222,
              "#7201a8"
             ],
             [
              0.3333333333333333,
              "#9c179e"
             ],
             [
              0.4444444444444444,
              "#bd3786"
             ],
             [
              0.5555555555555556,
              "#d8576b"
             ],
             [
              0.6666666666666666,
              "#ed7953"
             ],
             [
              0.7777777777777778,
              "#fb9f3a"
             ],
             [
              0.8888888888888888,
              "#fdca26"
             ],
             [
              1,
              "#f0f921"
             ]
            ],
            "type": "contour"
           }
          ],
          "contourcarpet": [
           {
            "colorbar": {
             "outlinewidth": 0,
             "ticks": ""
            },
            "type": "contourcarpet"
           }
          ],
          "heatmap": [
           {
            "colorbar": {
             "outlinewidth": 0,
             "ticks": ""
            },
            "colorscale": [
             [
              0,
              "#0d0887"
             ],
             [
              0.1111111111111111,
              "#46039f"
             ],
             [
              0.2222222222222222,
              "#7201a8"
             ],
             [
              0.3333333333333333,
              "#9c179e"
             ],
             [
              0.4444444444444444,
              "#bd3786"
             ],
             [
              0.5555555555555556,
              "#d8576b"
             ],
             [
              0.6666666666666666,
              "#ed7953"
             ],
             [
              0.7777777777777778,
              "#fb9f3a"
             ],
             [
              0.8888888888888888,
              "#fdca26"
             ],
             [
              1,
              "#f0f921"
             ]
            ],
            "type": "heatmap"
           }
          ],
          "heatmapgl": [
           {
            "colorbar": {
             "outlinewidth": 0,
             "ticks": ""
            },
            "colorscale": [
             [
              0,
              "#0d0887"
             ],
             [
              0.1111111111111111,
              "#46039f"
             ],
             [
              0.2222222222222222,
              "#7201a8"
             ],
             [
              0.3333333333333333,
              "#9c179e"
             ],
             [
              0.4444444444444444,
              "#bd3786"
             ],
             [
              0.5555555555555556,
              "#d8576b"
             ],
             [
              0.6666666666666666,
              "#ed7953"
             ],
             [
              0.7777777777777778,
              "#fb9f3a"
             ],
             [
              0.8888888888888888,
              "#fdca26"
             ],
             [
              1,
              "#f0f921"
             ]
            ],
            "type": "heatmapgl"
           }
          ],
          "histogram": [
           {
            "marker": {
             "colorbar": {
              "outlinewidth": 0,
              "ticks": ""
             }
            },
            "type": "histogram"
           }
          ],
          "histogram2d": [
           {
            "colorbar": {
             "outlinewidth": 0,
             "ticks": ""
            },
            "colorscale": [
             [
              0,
              "#0d0887"
             ],
             [
              0.1111111111111111,
              "#46039f"
             ],
             [
              0.2222222222222222,
              "#7201a8"
             ],
             [
              0.3333333333333333,
              "#9c179e"
             ],
             [
              0.4444444444444444,
              "#bd3786"
             ],
             [
              0.5555555555555556,
              "#d8576b"
             ],
             [
              0.6666666666666666,
              "#ed7953"
             ],
             [
              0.7777777777777778,
              "#fb9f3a"
             ],
             [
              0.8888888888888888,
              "#fdca26"
             ],
             [
              1,
              "#f0f921"
             ]
            ],
            "type": "histogram2d"
           }
          ],
          "histogram2dcontour": [
           {
            "colorbar": {
             "outlinewidth": 0,
             "ticks": ""
            },
            "colorscale": [
             [
              0,
              "#0d0887"
             ],
             [
              0.1111111111111111,
              "#46039f"
             ],
             [
              0.2222222222222222,
              "#7201a8"
             ],
             [
              0.3333333333333333,
              "#9c179e"
             ],
             [
              0.4444444444444444,
              "#bd3786"
             ],
             [
              0.5555555555555556,
              "#d8576b"
             ],
             [
              0.6666666666666666,
              "#ed7953"
             ],
             [
              0.7777777777777778,
              "#fb9f3a"
             ],
             [
              0.8888888888888888,
              "#fdca26"
             ],
             [
              1,
              "#f0f921"
             ]
            ],
            "type": "histogram2dcontour"
           }
          ],
          "mesh3d": [
           {
            "colorbar": {
             "outlinewidth": 0,
             "ticks": ""
            },
            "type": "mesh3d"
           }
          ],
          "parcoords": [
           {
            "line": {
             "colorbar": {
              "outlinewidth": 0,
              "ticks": ""
             }
            },
            "type": "parcoords"
           }
          ],
          "pie": [
           {
            "automargin": true,
            "type": "pie"
           }
          ],
          "scatter": [
           {
            "marker": {
             "colorbar": {
              "outlinewidth": 0,
              "ticks": ""
             }
            },
            "type": "scatter"
           }
          ],
          "scatter3d": [
           {
            "line": {
             "colorbar": {
              "outlinewidth": 0,
              "ticks": ""
             }
            },
            "marker": {
             "colorbar": {
              "outlinewidth": 0,
              "ticks": ""
             }
            },
            "type": "scatter3d"
           }
          ],
          "scattercarpet": [
           {
            "marker": {
             "colorbar": {
              "outlinewidth": 0,
              "ticks": ""
             }
            },
            "type": "scattercarpet"
           }
          ],
          "scattergeo": [
           {
            "marker": {
             "colorbar": {
              "outlinewidth": 0,
              "ticks": ""
             }
            },
            "type": "scattergeo"
           }
          ],
          "scattergl": [
           {
            "marker": {
             "colorbar": {
              "outlinewidth": 0,
              "ticks": ""
             }
            },
            "type": "scattergl"
           }
          ],
          "scattermapbox": [
           {
            "marker": {
             "colorbar": {
              "outlinewidth": 0,
              "ticks": ""
             }
            },
            "type": "scattermapbox"
           }
          ],
          "scatterpolar": [
           {
            "marker": {
             "colorbar": {
              "outlinewidth": 0,
              "ticks": ""
             }
            },
            "type": "scatterpolar"
           }
          ],
          "scatterpolargl": [
           {
            "marker": {
             "colorbar": {
              "outlinewidth": 0,
              "ticks": ""
             }
            },
            "type": "scatterpolargl"
           }
          ],
          "scatterternary": [
           {
            "marker": {
             "colorbar": {
              "outlinewidth": 0,
              "ticks": ""
             }
            },
            "type": "scatterternary"
           }
          ],
          "surface": [
           {
            "colorbar": {
             "outlinewidth": 0,
             "ticks": ""
            },
            "colorscale": [
             [
              0,
              "#0d0887"
             ],
             [
              0.1111111111111111,
              "#46039f"
             ],
             [
              0.2222222222222222,
              "#7201a8"
             ],
             [
              0.3333333333333333,
              "#9c179e"
             ],
             [
              0.4444444444444444,
              "#bd3786"
             ],
             [
              0.5555555555555556,
              "#d8576b"
             ],
             [
              0.6666666666666666,
              "#ed7953"
             ],
             [
              0.7777777777777778,
              "#fb9f3a"
             ],
             [
              0.8888888888888888,
              "#fdca26"
             ],
             [
              1,
              "#f0f921"
             ]
            ],
            "type": "surface"
           }
          ],
          "table": [
           {
            "cells": {
             "fill": {
              "color": "#EBF0F8"
             },
             "line": {
              "color": "white"
             }
            },
            "header": {
             "fill": {
              "color": "#C8D4E3"
             },
             "line": {
              "color": "white"
             }
            },
            "type": "table"
           }
          ]
         },
         "layout": {
          "annotationdefaults": {
           "arrowcolor": "#2a3f5f",
           "arrowhead": 0,
           "arrowwidth": 1
          },
          "autotypenumbers": "strict",
          "coloraxis": {
           "colorbar": {
            "outlinewidth": 0,
            "ticks": ""
           }
          },
          "colorscale": {
           "diverging": [
            [
             0,
             "#8e0152"
            ],
            [
             0.1,
             "#c51b7d"
            ],
            [
             0.2,
             "#de77ae"
            ],
            [
             0.3,
             "#f1b6da"
            ],
            [
             0.4,
             "#fde0ef"
            ],
            [
             0.5,
             "#f7f7f7"
            ],
            [
             0.6,
             "#e6f5d0"
            ],
            [
             0.7,
             "#b8e186"
            ],
            [
             0.8,
             "#7fbc41"
            ],
            [
             0.9,
             "#4d9221"
            ],
            [
             1,
             "#276419"
            ]
           ],
           "sequential": [
            [
             0,
             "#0d0887"
            ],
            [
             0.1111111111111111,
             "#46039f"
            ],
            [
             0.2222222222222222,
             "#7201a8"
            ],
            [
             0.3333333333333333,
             "#9c179e"
            ],
            [
             0.4444444444444444,
             "#bd3786"
            ],
            [
             0.5555555555555556,
             "#d8576b"
            ],
            [
             0.6666666666666666,
             "#ed7953"
            ],
            [
             0.7777777777777778,
             "#fb9f3a"
            ],
            [
             0.8888888888888888,
             "#fdca26"
            ],
            [
             1,
             "#f0f921"
            ]
           ],
           "sequentialminus": [
            [
             0,
             "#0d0887"
            ],
            [
             0.1111111111111111,
             "#46039f"
            ],
            [
             0.2222222222222222,
             "#7201a8"
            ],
            [
             0.3333333333333333,
             "#9c179e"
            ],
            [
             0.4444444444444444,
             "#bd3786"
            ],
            [
             0.5555555555555556,
             "#d8576b"
            ],
            [
             0.6666666666666666,
             "#ed7953"
            ],
            [
             0.7777777777777778,
             "#fb9f3a"
            ],
            [
             0.8888888888888888,
             "#fdca26"
            ],
            [
             1,
             "#f0f921"
            ]
           ]
          },
          "colorway": [
           "#636efa",
           "#EF553B",
           "#00cc96",
           "#ab63fa",
           "#FFA15A",
           "#19d3f3",
           "#FF6692",
           "#B6E880",
           "#FF97FF",
           "#FECB52"
          ],
          "font": {
           "color": "#2a3f5f"
          },
          "geo": {
           "bgcolor": "white",
           "lakecolor": "white",
           "landcolor": "#E5ECF6",
           "showlakes": true,
           "showland": true,
           "subunitcolor": "white"
          },
          "hoverlabel": {
           "align": "left"
          },
          "hovermode": "closest",
          "mapbox": {
           "style": "light"
          },
          "paper_bgcolor": "white",
          "plot_bgcolor": "#E5ECF6",
          "polar": {
           "angularaxis": {
            "gridcolor": "white",
            "linecolor": "white",
            "ticks": ""
           },
           "bgcolor": "#E5ECF6",
           "radialaxis": {
            "gridcolor": "white",
            "linecolor": "white",
            "ticks": ""
           }
          },
          "scene": {
           "xaxis": {
            "backgroundcolor": "#E5ECF6",
            "gridcolor": "white",
            "gridwidth": 2,
            "linecolor": "white",
            "showbackground": true,
            "ticks": "",
            "zerolinecolor": "white"
           },
           "yaxis": {
            "backgroundcolor": "#E5ECF6",
            "gridcolor": "white",
            "gridwidth": 2,
            "linecolor": "white",
            "showbackground": true,
            "ticks": "",
            "zerolinecolor": "white"
           },
           "zaxis": {
            "backgroundcolor": "#E5ECF6",
            "gridcolor": "white",
            "gridwidth": 2,
            "linecolor": "white",
            "showbackground": true,
            "ticks": "",
            "zerolinecolor": "white"
           }
          },
          "shapedefaults": {
           "line": {
            "color": "#2a3f5f"
           }
          },
          "ternary": {
           "aaxis": {
            "gridcolor": "white",
            "linecolor": "white",
            "ticks": ""
           },
           "baxis": {
            "gridcolor": "white",
            "linecolor": "white",
            "ticks": ""
           },
           "bgcolor": "#E5ECF6",
           "caxis": {
            "gridcolor": "white",
            "linecolor": "white",
            "ticks": ""
           }
          },
          "title": {
           "x": 0.05
          },
          "xaxis": {
           "automargin": true,
           "gridcolor": "white",
           "linecolor": "white",
           "ticks": "",
           "title": {
            "standoff": 15
           },
           "zerolinecolor": "white",
           "zerolinewidth": 2
          },
          "yaxis": {
           "automargin": true,
           "gridcolor": "white",
           "linecolor": "white",
           "ticks": "",
           "title": {
            "standoff": 15
           },
           "zerolinecolor": "white",
           "zerolinewidth": 2
          }
         }
        },
        "xaxis": {
         "anchor": "y",
         "domain": [
          0,
          1
         ],
         "title": {
          "text": "user_id"
         }
        },
        "yaxis": {
         "anchor": "x",
         "domain": [
          0,
          1
         ],
         "title": {
          "text": "Umsatz"
         }
        }
       }
      }
     },
     "metadata": {}
    }
   ],
   "source": [
    "px.bar(sdf_user_overview.limit(10).toPandas(), x='user_id', y='Turnover')"
   ]
  },
  {
   "source": [
    "## Zeit und Umsatz"
   ],
   "cell_type": "markdown",
   "metadata": {}
  },
  {
   "cell_type": "code",
   "execution_count": 18,
   "metadata": {},
   "outputs": [
    {
     "output_type": "stream",
     "name": "stdout",
     "text": [
      "+-----+----------+-----------------+\n|month|dayofmonth|           Umsatz|\n+-----+----------+-----------------+\n|   11|         1|778.2199999999999|\n+-----+----------+-----------------+\n\n"
     ]
    }
   ],
   "source": [
    "\n",
    "sdf_month_Umsatz = spark.sql(\"SELECT month, \\\n",
    "                                    dayofmonth, \\\n",
    "                                    SUM(turnover) AS Turnover\\\n",
    "                            FROM Data \\\n",
    "                            GROUP BY month, dayofmonth \\\n",
    "                            ORDER BY Turnover DESC\")\n",
    "sdf_month_Umsatz.show()\n"
   ]
  },
  {
   "cell_type": "code",
   "execution_count": 19,
   "metadata": {},
   "outputs": [
    {
     "output_type": "display_data",
     "data": {
      "application/vnd.plotly.v1+json": {
       "config": {
        "plotlyServerURL": "https://plot.ly"
       },
       "data": [
        {
         "type": "bar",
         "x": [
          [
           1
          ],
          [
           11
          ]
         ],
         "y": [
          778.2199999999999
         ]
        }
       ],
       "layout": {
        "barmode": "stack",
        "template": {
         "data": {
          "bar": [
           {
            "error_x": {
             "color": "rgb(36,36,36)"
            },
            "error_y": {
             "color": "rgb(36,36,36)"
            },
            "marker": {
             "line": {
              "color": "white",
              "width": 0.5
             }
            },
            "type": "bar"
           }
          ],
          "barpolar": [
           {
            "marker": {
             "line": {
              "color": "white",
              "width": 0.5
             }
            },
            "type": "barpolar"
           }
          ],
          "carpet": [
           {
            "aaxis": {
             "endlinecolor": "rgb(36,36,36)",
             "gridcolor": "white",
             "linecolor": "white",
             "minorgridcolor": "white",
             "startlinecolor": "rgb(36,36,36)"
            },
            "baxis": {
             "endlinecolor": "rgb(36,36,36)",
             "gridcolor": "white",
             "linecolor": "white",
             "minorgridcolor": "white",
             "startlinecolor": "rgb(36,36,36)"
            },
            "type": "carpet"
           }
          ],
          "choropleth": [
           {
            "colorbar": {
             "outlinewidth": 1,
             "tickcolor": "rgb(36,36,36)",
             "ticks": "outside"
            },
            "type": "choropleth"
           }
          ],
          "contour": [
           {
            "colorbar": {
             "outlinewidth": 1,
             "tickcolor": "rgb(36,36,36)",
             "ticks": "outside"
            },
            "colorscale": [
             [
              0,
              "#440154"
             ],
             [
              0.1111111111111111,
              "#482878"
             ],
             [
              0.2222222222222222,
              "#3e4989"
             ],
             [
              0.3333333333333333,
              "#31688e"
             ],
             [
              0.4444444444444444,
              "#26828e"
             ],
             [
              0.5555555555555556,
              "#1f9e89"
             ],
             [
              0.6666666666666666,
              "#35b779"
             ],
             [
              0.7777777777777778,
              "#6ece58"
             ],
             [
              0.8888888888888888,
              "#b5de2b"
             ],
             [
              1,
              "#fde725"
             ]
            ],
            "type": "contour"
           }
          ],
          "contourcarpet": [
           {
            "colorbar": {
             "outlinewidth": 1,
             "tickcolor": "rgb(36,36,36)",
             "ticks": "outside"
            },
            "type": "contourcarpet"
           }
          ],
          "heatmap": [
           {
            "colorbar": {
             "outlinewidth": 1,
             "tickcolor": "rgb(36,36,36)",
             "ticks": "outside"
            },
            "colorscale": [
             [
              0,
              "#440154"
             ],
             [
              0.1111111111111111,
              "#482878"
             ],
             [
              0.2222222222222222,
              "#3e4989"
             ],
             [
              0.3333333333333333,
              "#31688e"
             ],
             [
              0.4444444444444444,
              "#26828e"
             ],
             [
              0.5555555555555556,
              "#1f9e89"
             ],
             [
              0.6666666666666666,
              "#35b779"
             ],
             [
              0.7777777777777778,
              "#6ece58"
             ],
             [
              0.8888888888888888,
              "#b5de2b"
             ],
             [
              1,
              "#fde725"
             ]
            ],
            "type": "heatmap"
           }
          ],
          "heatmapgl": [
           {
            "colorbar": {
             "outlinewidth": 1,
             "tickcolor": "rgb(36,36,36)",
             "ticks": "outside"
            },
            "colorscale": [
             [
              0,
              "#440154"
             ],
             [
              0.1111111111111111,
              "#482878"
             ],
             [
              0.2222222222222222,
              "#3e4989"
             ],
             [
              0.3333333333333333,
              "#31688e"
             ],
             [
              0.4444444444444444,
              "#26828e"
             ],
             [
              0.5555555555555556,
              "#1f9e89"
             ],
             [
              0.6666666666666666,
              "#35b779"
             ],
             [
              0.7777777777777778,
              "#6ece58"
             ],
             [
              0.8888888888888888,
              "#b5de2b"
             ],
             [
              1,
              "#fde725"
             ]
            ],
            "type": "heatmapgl"
           }
          ],
          "histogram": [
           {
            "marker": {
             "line": {
              "color": "white",
              "width": 0.6
             }
            },
            "type": "histogram"
           }
          ],
          "histogram2d": [
           {
            "colorbar": {
             "outlinewidth": 1,
             "tickcolor": "rgb(36,36,36)",
             "ticks": "outside"
            },
            "colorscale": [
             [
              0,
              "#440154"
             ],
             [
              0.1111111111111111,
              "#482878"
             ],
             [
              0.2222222222222222,
              "#3e4989"
             ],
             [
              0.3333333333333333,
              "#31688e"
             ],
             [
              0.4444444444444444,
              "#26828e"
             ],
             [
              0.5555555555555556,
              "#1f9e89"
             ],
             [
              0.6666666666666666,
              "#35b779"
             ],
             [
              0.7777777777777778,
              "#6ece58"
             ],
             [
              0.8888888888888888,
              "#b5de2b"
             ],
             [
              1,
              "#fde725"
             ]
            ],
            "type": "histogram2d"
           }
          ],
          "histogram2dcontour": [
           {
            "colorbar": {
             "outlinewidth": 1,
             "tickcolor": "rgb(36,36,36)",
             "ticks": "outside"
            },
            "colorscale": [
             [
              0,
              "#440154"
             ],
             [
              0.1111111111111111,
              "#482878"
             ],
             [
              0.2222222222222222,
              "#3e4989"
             ],
             [
              0.3333333333333333,
              "#31688e"
             ],
             [
              0.4444444444444444,
              "#26828e"
             ],
             [
              0.5555555555555556,
              "#1f9e89"
             ],
             [
              0.6666666666666666,
              "#35b779"
             ],
             [
              0.7777777777777778,
              "#6ece58"
             ],
             [
              0.8888888888888888,
              "#b5de2b"
             ],
             [
              1,
              "#fde725"
             ]
            ],
            "type": "histogram2dcontour"
           }
          ],
          "mesh3d": [
           {
            "colorbar": {
             "outlinewidth": 1,
             "tickcolor": "rgb(36,36,36)",
             "ticks": "outside"
            },
            "type": "mesh3d"
           }
          ],
          "parcoords": [
           {
            "line": {
             "colorbar": {
              "outlinewidth": 1,
              "tickcolor": "rgb(36,36,36)",
              "ticks": "outside"
             }
            },
            "type": "parcoords"
           }
          ],
          "pie": [
           {
            "automargin": true,
            "type": "pie"
           }
          ],
          "scatter": [
           {
            "marker": {
             "colorbar": {
              "outlinewidth": 1,
              "tickcolor": "rgb(36,36,36)",
              "ticks": "outside"
             }
            },
            "type": "scatter"
           }
          ],
          "scatter3d": [
           {
            "line": {
             "colorbar": {
              "outlinewidth": 1,
              "tickcolor": "rgb(36,36,36)",
              "ticks": "outside"
             }
            },
            "marker": {
             "colorbar": {
              "outlinewidth": 1,
              "tickcolor": "rgb(36,36,36)",
              "ticks": "outside"
             }
            },
            "type": "scatter3d"
           }
          ],
          "scattercarpet": [
           {
            "marker": {
             "colorbar": {
              "outlinewidth": 1,
              "tickcolor": "rgb(36,36,36)",
              "ticks": "outside"
             }
            },
            "type": "scattercarpet"
           }
          ],
          "scattergeo": [
           {
            "marker": {
             "colorbar": {
              "outlinewidth": 1,
              "tickcolor": "rgb(36,36,36)",
              "ticks": "outside"
             }
            },
            "type": "scattergeo"
           }
          ],
          "scattergl": [
           {
            "marker": {
             "colorbar": {
              "outlinewidth": 1,
              "tickcolor": "rgb(36,36,36)",
              "ticks": "outside"
             }
            },
            "type": "scattergl"
           }
          ],
          "scattermapbox": [
           {
            "marker": {
             "colorbar": {
              "outlinewidth": 1,
              "tickcolor": "rgb(36,36,36)",
              "ticks": "outside"
             }
            },
            "type": "scattermapbox"
           }
          ],
          "scatterpolar": [
           {
            "marker": {
             "colorbar": {
              "outlinewidth": 1,
              "tickcolor": "rgb(36,36,36)",
              "ticks": "outside"
             }
            },
            "type": "scatterpolar"
           }
          ],
          "scatterpolargl": [
           {
            "marker": {
             "colorbar": {
              "outlinewidth": 1,
              "tickcolor": "rgb(36,36,36)",
              "ticks": "outside"
             }
            },
            "type": "scatterpolargl"
           }
          ],
          "scatterternary": [
           {
            "marker": {
             "colorbar": {
              "outlinewidth": 1,
              "tickcolor": "rgb(36,36,36)",
              "ticks": "outside"
             }
            },
            "type": "scatterternary"
           }
          ],
          "surface": [
           {
            "colorbar": {
             "outlinewidth": 1,
             "tickcolor": "rgb(36,36,36)",
             "ticks": "outside"
            },
            "colorscale": [
             [
              0,
              "#440154"
             ],
             [
              0.1111111111111111,
              "#482878"
             ],
             [
              0.2222222222222222,
              "#3e4989"
             ],
             [
              0.3333333333333333,
              "#31688e"
             ],
             [
              0.4444444444444444,
              "#26828e"
             ],
             [
              0.5555555555555556,
              "#1f9e89"
             ],
             [
              0.6666666666666666,
              "#35b779"
             ],
             [
              0.7777777777777778,
              "#6ece58"
             ],
             [
              0.8888888888888888,
              "#b5de2b"
             ],
             [
              1,
              "#fde725"
             ]
            ],
            "type": "surface"
           }
          ],
          "table": [
           {
            "cells": {
             "fill": {
              "color": "rgb(237,237,237)"
             },
             "line": {
              "color": "white"
             }
            },
            "header": {
             "fill": {
              "color": "rgb(217,217,217)"
             },
             "line": {
              "color": "white"
             }
            },
            "type": "table"
           }
          ]
         },
         "layout": {
          "annotationdefaults": {
           "arrowhead": 0,
           "arrowwidth": 1
          },
          "autotypenumbers": "strict",
          "coloraxis": {
           "colorbar": {
            "outlinewidth": 1,
            "tickcolor": "rgb(36,36,36)",
            "ticks": "outside"
           }
          },
          "colorscale": {
           "diverging": [
            [
             0,
             "rgb(103,0,31)"
            ],
            [
             0.1,
             "rgb(178,24,43)"
            ],
            [
             0.2,
             "rgb(214,96,77)"
            ],
            [
             0.3,
             "rgb(244,165,130)"
            ],
            [
             0.4,
             "rgb(253,219,199)"
            ],
            [
             0.5,
             "rgb(247,247,247)"
            ],
            [
             0.6,
             "rgb(209,229,240)"
            ],
            [
             0.7,
             "rgb(146,197,222)"
            ],
            [
             0.8,
             "rgb(67,147,195)"
            ],
            [
             0.9,
             "rgb(33,102,172)"
            ],
            [
             1,
             "rgb(5,48,97)"
            ]
           ],
           "sequential": [
            [
             0,
             "#440154"
            ],
            [
             0.1111111111111111,
             "#482878"
            ],
            [
             0.2222222222222222,
             "#3e4989"
            ],
            [
             0.3333333333333333,
             "#31688e"
            ],
            [
             0.4444444444444444,
             "#26828e"
            ],
            [
             0.5555555555555556,
             "#1f9e89"
            ],
            [
             0.6666666666666666,
             "#35b779"
            ],
            [
             0.7777777777777778,
             "#6ece58"
            ],
            [
             0.8888888888888888,
             "#b5de2b"
            ],
            [
             1,
             "#fde725"
            ]
           ],
           "sequentialminus": [
            [
             0,
             "#440154"
            ],
            [
             0.1111111111111111,
             "#482878"
            ],
            [
             0.2222222222222222,
             "#3e4989"
            ],
            [
             0.3333333333333333,
             "#31688e"
            ],
            [
             0.4444444444444444,
             "#26828e"
            ],
            [
             0.5555555555555556,
             "#1f9e89"
            ],
            [
             0.6666666666666666,
             "#35b779"
            ],
            [
             0.7777777777777778,
             "#6ece58"
            ],
            [
             0.8888888888888888,
             "#b5de2b"
            ],
            [
             1,
             "#fde725"
            ]
           ]
          },
          "colorway": [
           "#1F77B4",
           "#FF7F0E",
           "#2CA02C",
           "#D62728",
           "#9467BD",
           "#8C564B",
           "#E377C2",
           "#7F7F7F",
           "#BCBD22",
           "#17BECF"
          ],
          "font": {
           "color": "rgb(36,36,36)"
          },
          "geo": {
           "bgcolor": "white",
           "lakecolor": "white",
           "landcolor": "white",
           "showlakes": true,
           "showland": true,
           "subunitcolor": "white"
          },
          "hoverlabel": {
           "align": "left"
          },
          "hovermode": "closest",
          "mapbox": {
           "style": "light"
          },
          "paper_bgcolor": "white",
          "plot_bgcolor": "white",
          "polar": {
           "angularaxis": {
            "gridcolor": "rgb(232,232,232)",
            "linecolor": "rgb(36,36,36)",
            "showgrid": false,
            "showline": true,
            "ticks": "outside"
           },
           "bgcolor": "white",
           "radialaxis": {
            "gridcolor": "rgb(232,232,232)",
            "linecolor": "rgb(36,36,36)",
            "showgrid": false,
            "showline": true,
            "ticks": "outside"
           }
          },
          "scene": {
           "xaxis": {
            "backgroundcolor": "white",
            "gridcolor": "rgb(232,232,232)",
            "gridwidth": 2,
            "linecolor": "rgb(36,36,36)",
            "showbackground": true,
            "showgrid": false,
            "showline": true,
            "ticks": "outside",
            "zeroline": false,
            "zerolinecolor": "rgb(36,36,36)"
           },
           "yaxis": {
            "backgroundcolor": "white",
            "gridcolor": "rgb(232,232,232)",
            "gridwidth": 2,
            "linecolor": "rgb(36,36,36)",
            "showbackground": true,
            "showgrid": false,
            "showline": true,
            "ticks": "outside",
            "zeroline": false,
            "zerolinecolor": "rgb(36,36,36)"
           },
           "zaxis": {
            "backgroundcolor": "white",
            "gridcolor": "rgb(232,232,232)",
            "gridwidth": 2,
            "linecolor": "rgb(36,36,36)",
            "showbackground": true,
            "showgrid": false,
            "showline": true,
            "ticks": "outside",
            "zeroline": false,
            "zerolinecolor": "rgb(36,36,36)"
           }
          },
          "shapedefaults": {
           "fillcolor": "black",
           "line": {
            "width": 0
           },
           "opacity": 0.3
          },
          "ternary": {
           "aaxis": {
            "gridcolor": "rgb(232,232,232)",
            "linecolor": "rgb(36,36,36)",
            "showgrid": false,
            "showline": true,
            "ticks": "outside"
           },
           "baxis": {
            "gridcolor": "rgb(232,232,232)",
            "linecolor": "rgb(36,36,36)",
            "showgrid": false,
            "showline": true,
            "ticks": "outside"
           },
           "bgcolor": "white",
           "caxis": {
            "gridcolor": "rgb(232,232,232)",
            "linecolor": "rgb(36,36,36)",
            "showgrid": false,
            "showline": true,
            "ticks": "outside"
           }
          },
          "title": {
           "x": 0.05
          },
          "xaxis": {
           "automargin": true,
           "gridcolor": "rgb(232,232,232)",
           "linecolor": "rgb(36,36,36)",
           "showgrid": false,
           "showline": true,
           "ticks": "outside",
           "title": {
            "standoff": 15
           },
           "zeroline": false,
           "zerolinecolor": "rgb(36,36,36)"
          },
          "yaxis": {
           "automargin": true,
           "gridcolor": "rgb(232,232,232)",
           "linecolor": "rgb(36,36,36)",
           "showgrid": false,
           "showline": true,
           "ticks": "outside",
           "title": {
            "standoff": 15
           },
           "zeroline": false,
           "zerolinecolor": "rgb(36,36,36)"
          }
         }
        },
        "xaxis": {
         "title": {
          "text": "Day of Month"
         }
        },
        "yaxis": {
         "title": {
          "text": "Count"
         }
        }
       }
      }
     },
     "metadata": {}
    }
   ],
   "source": [
    "df = sdf_month_Umsatz.toPandas()\n",
    "fig = go.Figure()\n",
    "fig.update_layout(\n",
    "    template=\"simple_white\",\n",
    "    xaxis=dict(title_text=\"Day of Month\"),\n",
    "    yaxis=dict(title_text=\"Count\"),\n",
    "    barmode=\"stack\",\n",
    ")\n",
    "\n",
    "fig.add_trace(\n",
    "        go.Bar(x=[df.dayofmonth, df.month], y=df.Turnover),\n",
    "    )\n",
    "fig"
   ]
  },
  {
   "cell_type": "code",
   "execution_count": 20,
   "metadata": {},
   "outputs": [
    {
     "output_type": "stream",
     "name": "stdout",
     "text": [
      "+----------+---------+-----------------+\n|weekofyear|dayofweek|           Umsatz|\n+----------+---------+-----------------+\n|        44|        6|778.2199999999999|\n+----------+---------+-----------------+\n\n"
     ]
    }
   ],
   "source": [
    "sdf_week_Umsatz = spark.sql(\"SELECT weekofyear, \\\n",
    "                                    dayofweek, \\\n",
    "                                    SUM(turnover) AS Turnover\\\n",
    "                            FROM Data \\\n",
    "                            GROUP BY weekofyear, dayofweek \\\n",
    "                            ORDER BY Turnover DESC\")\n",
    "sdf_week_Umsatz.show()"
   ]
  },
  {
   "cell_type": "code",
   "execution_count": 21,
   "metadata": {},
   "outputs": [
    {
     "output_type": "display_data",
     "data": {
      "application/vnd.plotly.v1+json": {
       "config": {
        "plotlyServerURL": "https://plot.ly"
       },
       "data": [
        {
         "type": "bar",
         "x": [
          [
           6
          ],
          [
           44
          ]
         ],
         "y": [
          778.2199999999999
         ]
        }
       ],
       "layout": {
        "barmode": "stack",
        "template": {
         "data": {
          "bar": [
           {
            "error_x": {
             "color": "rgb(36,36,36)"
            },
            "error_y": {
             "color": "rgb(36,36,36)"
            },
            "marker": {
             "line": {
              "color": "white",
              "width": 0.5
             }
            },
            "type": "bar"
           }
          ],
          "barpolar": [
           {
            "marker": {
             "line": {
              "color": "white",
              "width": 0.5
             }
            },
            "type": "barpolar"
           }
          ],
          "carpet": [
           {
            "aaxis": {
             "endlinecolor": "rgb(36,36,36)",
             "gridcolor": "white",
             "linecolor": "white",
             "minorgridcolor": "white",
             "startlinecolor": "rgb(36,36,36)"
            },
            "baxis": {
             "endlinecolor": "rgb(36,36,36)",
             "gridcolor": "white",
             "linecolor": "white",
             "minorgridcolor": "white",
             "startlinecolor": "rgb(36,36,36)"
            },
            "type": "carpet"
           }
          ],
          "choropleth": [
           {
            "colorbar": {
             "outlinewidth": 1,
             "tickcolor": "rgb(36,36,36)",
             "ticks": "outside"
            },
            "type": "choropleth"
           }
          ],
          "contour": [
           {
            "colorbar": {
             "outlinewidth": 1,
             "tickcolor": "rgb(36,36,36)",
             "ticks": "outside"
            },
            "colorscale": [
             [
              0,
              "#440154"
             ],
             [
              0.1111111111111111,
              "#482878"
             ],
             [
              0.2222222222222222,
              "#3e4989"
             ],
             [
              0.3333333333333333,
              "#31688e"
             ],
             [
              0.4444444444444444,
              "#26828e"
             ],
             [
              0.5555555555555556,
              "#1f9e89"
             ],
             [
              0.6666666666666666,
              "#35b779"
             ],
             [
              0.7777777777777778,
              "#6ece58"
             ],
             [
              0.8888888888888888,
              "#b5de2b"
             ],
             [
              1,
              "#fde725"
             ]
            ],
            "type": "contour"
           }
          ],
          "contourcarpet": [
           {
            "colorbar": {
             "outlinewidth": 1,
             "tickcolor": "rgb(36,36,36)",
             "ticks": "outside"
            },
            "type": "contourcarpet"
           }
          ],
          "heatmap": [
           {
            "colorbar": {
             "outlinewidth": 1,
             "tickcolor": "rgb(36,36,36)",
             "ticks": "outside"
            },
            "colorscale": [
             [
              0,
              "#440154"
             ],
             [
              0.1111111111111111,
              "#482878"
             ],
             [
              0.2222222222222222,
              "#3e4989"
             ],
             [
              0.3333333333333333,
              "#31688e"
             ],
             [
              0.4444444444444444,
              "#26828e"
             ],
             [
              0.5555555555555556,
              "#1f9e89"
             ],
             [
              0.6666666666666666,
              "#35b779"
             ],
             [
              0.7777777777777778,
              "#6ece58"
             ],
             [
              0.8888888888888888,
              "#b5de2b"
             ],
             [
              1,
              "#fde725"
             ]
            ],
            "type": "heatmap"
           }
          ],
          "heatmapgl": [
           {
            "colorbar": {
             "outlinewidth": 1,
             "tickcolor": "rgb(36,36,36)",
             "ticks": "outside"
            },
            "colorscale": [
             [
              0,
              "#440154"
             ],
             [
              0.1111111111111111,
              "#482878"
             ],
             [
              0.2222222222222222,
              "#3e4989"
             ],
             [
              0.3333333333333333,
              "#31688e"
             ],
             [
              0.4444444444444444,
              "#26828e"
             ],
             [
              0.5555555555555556,
              "#1f9e89"
             ],
             [
              0.6666666666666666,
              "#35b779"
             ],
             [
              0.7777777777777778,
              "#6ece58"
             ],
             [
              0.8888888888888888,
              "#b5de2b"
             ],
             [
              1,
              "#fde725"
             ]
            ],
            "type": "heatmapgl"
           }
          ],
          "histogram": [
           {
            "marker": {
             "line": {
              "color": "white",
              "width": 0.6
             }
            },
            "type": "histogram"
           }
          ],
          "histogram2d": [
           {
            "colorbar": {
             "outlinewidth": 1,
             "tickcolor": "rgb(36,36,36)",
             "ticks": "outside"
            },
            "colorscale": [
             [
              0,
              "#440154"
             ],
             [
              0.1111111111111111,
              "#482878"
             ],
             [
              0.2222222222222222,
              "#3e4989"
             ],
             [
              0.3333333333333333,
              "#31688e"
             ],
             [
              0.4444444444444444,
              "#26828e"
             ],
             [
              0.5555555555555556,
              "#1f9e89"
             ],
             [
              0.6666666666666666,
              "#35b779"
             ],
             [
              0.7777777777777778,
              "#6ece58"
             ],
             [
              0.8888888888888888,
              "#b5de2b"
             ],
             [
              1,
              "#fde725"
             ]
            ],
            "type": "histogram2d"
           }
          ],
          "histogram2dcontour": [
           {
            "colorbar": {
             "outlinewidth": 1,
             "tickcolor": "rgb(36,36,36)",
             "ticks": "outside"
            },
            "colorscale": [
             [
              0,
              "#440154"
             ],
             [
              0.1111111111111111,
              "#482878"
             ],
             [
              0.2222222222222222,
              "#3e4989"
             ],
             [
              0.3333333333333333,
              "#31688e"
             ],
             [
              0.4444444444444444,
              "#26828e"
             ],
             [
              0.5555555555555556,
              "#1f9e89"
             ],
             [
              0.6666666666666666,
              "#35b779"
             ],
             [
              0.7777777777777778,
              "#6ece58"
             ],
             [
              0.8888888888888888,
              "#b5de2b"
             ],
             [
              1,
              "#fde725"
             ]
            ],
            "type": "histogram2dcontour"
           }
          ],
          "mesh3d": [
           {
            "colorbar": {
             "outlinewidth": 1,
             "tickcolor": "rgb(36,36,36)",
             "ticks": "outside"
            },
            "type": "mesh3d"
           }
          ],
          "parcoords": [
           {
            "line": {
             "colorbar": {
              "outlinewidth": 1,
              "tickcolor": "rgb(36,36,36)",
              "ticks": "outside"
             }
            },
            "type": "parcoords"
           }
          ],
          "pie": [
           {
            "automargin": true,
            "type": "pie"
           }
          ],
          "scatter": [
           {
            "marker": {
             "colorbar": {
              "outlinewidth": 1,
              "tickcolor": "rgb(36,36,36)",
              "ticks": "outside"
             }
            },
            "type": "scatter"
           }
          ],
          "scatter3d": [
           {
            "line": {
             "colorbar": {
              "outlinewidth": 1,
              "tickcolor": "rgb(36,36,36)",
              "ticks": "outside"
             }
            },
            "marker": {
             "colorbar": {
              "outlinewidth": 1,
              "tickcolor": "rgb(36,36,36)",
              "ticks": "outside"
             }
            },
            "type": "scatter3d"
           }
          ],
          "scattercarpet": [
           {
            "marker": {
             "colorbar": {
              "outlinewidth": 1,
              "tickcolor": "rgb(36,36,36)",
              "ticks": "outside"
             }
            },
            "type": "scattercarpet"
           }
          ],
          "scattergeo": [
           {
            "marker": {
             "colorbar": {
              "outlinewidth": 1,
              "tickcolor": "rgb(36,36,36)",
              "ticks": "outside"
             }
            },
            "type": "scattergeo"
           }
          ],
          "scattergl": [
           {
            "marker": {
             "colorbar": {
              "outlinewidth": 1,
              "tickcolor": "rgb(36,36,36)",
              "ticks": "outside"
             }
            },
            "type": "scattergl"
           }
          ],
          "scattermapbox": [
           {
            "marker": {
             "colorbar": {
              "outlinewidth": 1,
              "tickcolor": "rgb(36,36,36)",
              "ticks": "outside"
             }
            },
            "type": "scattermapbox"
           }
          ],
          "scatterpolar": [
           {
            "marker": {
             "colorbar": {
              "outlinewidth": 1,
              "tickcolor": "rgb(36,36,36)",
              "ticks": "outside"
             }
            },
            "type": "scatterpolar"
           }
          ],
          "scatterpolargl": [
           {
            "marker": {
             "colorbar": {
              "outlinewidth": 1,
              "tickcolor": "rgb(36,36,36)",
              "ticks": "outside"
             }
            },
            "type": "scatterpolargl"
           }
          ],
          "scatterternary": [
           {
            "marker": {
             "colorbar": {
              "outlinewidth": 1,
              "tickcolor": "rgb(36,36,36)",
              "ticks": "outside"
             }
            },
            "type": "scatterternary"
           }
          ],
          "surface": [
           {
            "colorbar": {
             "outlinewidth": 1,
             "tickcolor": "rgb(36,36,36)",
             "ticks": "outside"
            },
            "colorscale": [
             [
              0,
              "#440154"
             ],
             [
              0.1111111111111111,
              "#482878"
             ],
             [
              0.2222222222222222,
              "#3e4989"
             ],
             [
              0.3333333333333333,
              "#31688e"
             ],
             [
              0.4444444444444444,
              "#26828e"
             ],
             [
              0.5555555555555556,
              "#1f9e89"
             ],
             [
              0.6666666666666666,
              "#35b779"
             ],
             [
              0.7777777777777778,
              "#6ece58"
             ],
             [
              0.8888888888888888,
              "#b5de2b"
             ],
             [
              1,
              "#fde725"
             ]
            ],
            "type": "surface"
           }
          ],
          "table": [
           {
            "cells": {
             "fill": {
              "color": "rgb(237,237,237)"
             },
             "line": {
              "color": "white"
             }
            },
            "header": {
             "fill": {
              "color": "rgb(217,217,217)"
             },
             "line": {
              "color": "white"
             }
            },
            "type": "table"
           }
          ]
         },
         "layout": {
          "annotationdefaults": {
           "arrowhead": 0,
           "arrowwidth": 1
          },
          "autotypenumbers": "strict",
          "coloraxis": {
           "colorbar": {
            "outlinewidth": 1,
            "tickcolor": "rgb(36,36,36)",
            "ticks": "outside"
           }
          },
          "colorscale": {
           "diverging": [
            [
             0,
             "rgb(103,0,31)"
            ],
            [
             0.1,
             "rgb(178,24,43)"
            ],
            [
             0.2,
             "rgb(214,96,77)"
            ],
            [
             0.3,
             "rgb(244,165,130)"
            ],
            [
             0.4,
             "rgb(253,219,199)"
            ],
            [
             0.5,
             "rgb(247,247,247)"
            ],
            [
             0.6,
             "rgb(209,229,240)"
            ],
            [
             0.7,
             "rgb(146,197,222)"
            ],
            [
             0.8,
             "rgb(67,147,195)"
            ],
            [
             0.9,
             "rgb(33,102,172)"
            ],
            [
             1,
             "rgb(5,48,97)"
            ]
           ],
           "sequential": [
            [
             0,
             "#440154"
            ],
            [
             0.1111111111111111,
             "#482878"
            ],
            [
             0.2222222222222222,
             "#3e4989"
            ],
            [
             0.3333333333333333,
             "#31688e"
            ],
            [
             0.4444444444444444,
             "#26828e"
            ],
            [
             0.5555555555555556,
             "#1f9e89"
            ],
            [
             0.6666666666666666,
             "#35b779"
            ],
            [
             0.7777777777777778,
             "#6ece58"
            ],
            [
             0.8888888888888888,
             "#b5de2b"
            ],
            [
             1,
             "#fde725"
            ]
           ],
           "sequentialminus": [
            [
             0,
             "#440154"
            ],
            [
             0.1111111111111111,
             "#482878"
            ],
            [
             0.2222222222222222,
             "#3e4989"
            ],
            [
             0.3333333333333333,
             "#31688e"
            ],
            [
             0.4444444444444444,
             "#26828e"
            ],
            [
             0.5555555555555556,
             "#1f9e89"
            ],
            [
             0.6666666666666666,
             "#35b779"
            ],
            [
             0.7777777777777778,
             "#6ece58"
            ],
            [
             0.8888888888888888,
             "#b5de2b"
            ],
            [
             1,
             "#fde725"
            ]
           ]
          },
          "colorway": [
           "#1F77B4",
           "#FF7F0E",
           "#2CA02C",
           "#D62728",
           "#9467BD",
           "#8C564B",
           "#E377C2",
           "#7F7F7F",
           "#BCBD22",
           "#17BECF"
          ],
          "font": {
           "color": "rgb(36,36,36)"
          },
          "geo": {
           "bgcolor": "white",
           "lakecolor": "white",
           "landcolor": "white",
           "showlakes": true,
           "showland": true,
           "subunitcolor": "white"
          },
          "hoverlabel": {
           "align": "left"
          },
          "hovermode": "closest",
          "mapbox": {
           "style": "light"
          },
          "paper_bgcolor": "white",
          "plot_bgcolor": "white",
          "polar": {
           "angularaxis": {
            "gridcolor": "rgb(232,232,232)",
            "linecolor": "rgb(36,36,36)",
            "showgrid": false,
            "showline": true,
            "ticks": "outside"
           },
           "bgcolor": "white",
           "radialaxis": {
            "gridcolor": "rgb(232,232,232)",
            "linecolor": "rgb(36,36,36)",
            "showgrid": false,
            "showline": true,
            "ticks": "outside"
           }
          },
          "scene": {
           "xaxis": {
            "backgroundcolor": "white",
            "gridcolor": "rgb(232,232,232)",
            "gridwidth": 2,
            "linecolor": "rgb(36,36,36)",
            "showbackground": true,
            "showgrid": false,
            "showline": true,
            "ticks": "outside",
            "zeroline": false,
            "zerolinecolor": "rgb(36,36,36)"
           },
           "yaxis": {
            "backgroundcolor": "white",
            "gridcolor": "rgb(232,232,232)",
            "gridwidth": 2,
            "linecolor": "rgb(36,36,36)",
            "showbackground": true,
            "showgrid": false,
            "showline": true,
            "ticks": "outside",
            "zeroline": false,
            "zerolinecolor": "rgb(36,36,36)"
           },
           "zaxis": {
            "backgroundcolor": "white",
            "gridcolor": "rgb(232,232,232)",
            "gridwidth": 2,
            "linecolor": "rgb(36,36,36)",
            "showbackground": true,
            "showgrid": false,
            "showline": true,
            "ticks": "outside",
            "zeroline": false,
            "zerolinecolor": "rgb(36,36,36)"
           }
          },
          "shapedefaults": {
           "fillcolor": "black",
           "line": {
            "width": 0
           },
           "opacity": 0.3
          },
          "ternary": {
           "aaxis": {
            "gridcolor": "rgb(232,232,232)",
            "linecolor": "rgb(36,36,36)",
            "showgrid": false,
            "showline": true,
            "ticks": "outside"
           },
           "baxis": {
            "gridcolor": "rgb(232,232,232)",
            "linecolor": "rgb(36,36,36)",
            "showgrid": false,
            "showline": true,
            "ticks": "outside"
           },
           "bgcolor": "white",
           "caxis": {
            "gridcolor": "rgb(232,232,232)",
            "linecolor": "rgb(36,36,36)",
            "showgrid": false,
            "showline": true,
            "ticks": "outside"
           }
          },
          "title": {
           "x": 0.05
          },
          "xaxis": {
           "automargin": true,
           "gridcolor": "rgb(232,232,232)",
           "linecolor": "rgb(36,36,36)",
           "showgrid": false,
           "showline": true,
           "ticks": "outside",
           "title": {
            "standoff": 15
           },
           "zeroline": false,
           "zerolinecolor": "rgb(36,36,36)"
          },
          "yaxis": {
           "automargin": true,
           "gridcolor": "rgb(232,232,232)",
           "linecolor": "rgb(36,36,36)",
           "showgrid": false,
           "showline": true,
           "ticks": "outside",
           "title": {
            "standoff": 15
           },
           "zeroline": false,
           "zerolinecolor": "rgb(36,36,36)"
          }
         }
        },
        "xaxis": {
         "title": {
          "text": "Day of Month"
         }
        },
        "yaxis": {
         "title": {
          "text": "Count"
         }
        }
       }
      }
     },
     "metadata": {}
    }
   ],
   "source": [
    "df = sdf_week_Umsatz.toPandas()\n",
    "fig = go.Figure()\n",
    "fig.update_layout(\n",
    "    template=\"simple_white\",\n",
    "    xaxis=dict(title_text=\"Day of Month\"),\n",
    "    yaxis=dict(title_text=\"Count\"),\n",
    "    barmode=\"stack\",\n",
    ")\n",
    "\n",
    "fig.add_trace(\n",
    "        go.Bar(x=[df.dayofweek, df.weekofyear], y=df.Turnover),\n",
    "    )\n",
    "fig"
   ]
  },
  {
   "source": [
    "# Korrelationsmatrix"
   ],
   "cell_type": "markdown",
   "metadata": {}
  },
  {
   "source": [
    "## Ideen\n",
    "- Tageszeiten\n",
    "- Wochentage\n",
    "- Category Class\n",
    "- Anfang, Mitte, Ende des Monats\n",
    "- price"
   ],
   "cell_type": "markdown",
   "metadata": {}
  },
  {
   "source": [
    "## Tageszeiten - Korrelationsmatrix"
   ],
   "cell_type": "markdown",
   "metadata": {}
  },
  {
   "cell_type": "code",
   "execution_count": 67,
   "metadata": {},
   "outputs": [
    {
     "output_type": "stream",
     "name": "stdout",
     "text": [
      "+-------------------+--------+---------------+---------------+-------------+----+\n|         event_time|turnover|bougth_quantity|viewed_quantity|cart_quantity|hour|\n+-------------------+--------+---------------+---------------+-------------+----+\n|2019-11-01 01:00:00|     0.0|              0|              1|            0|   1|\n|2019-11-01 01:00:00|     0.0|              0|              1|            0|   1|\n|2019-11-01 01:00:01|     0.0|              0|              1|            0|   1|\n|2019-11-01 01:00:01|     0.0|              0|              1|            0|   1|\n|2019-11-01 01:00:01|     0.0|              0|              1|            0|   1|\n|2019-11-01 01:00:01|     0.0|              0|              1|            0|   1|\n|2019-11-01 01:00:01|     0.0|              0|              1|            0|   1|\n|2019-11-01 01:00:02|     0.0|              0|              1|            0|   1|\n|2019-11-01 01:00:02|     0.0|              0|              1|            0|   1|\n|2019-11-01 01:00:02|     0.0|              0|              1|            0|   1|\n|2019-11-01 01:00:03|     0.0|              0|              1|            0|   1|\n|2019-11-01 01:00:03|     0.0|              0|              1|            0|   1|\n|2019-11-01 01:00:03|     0.0|              0|              1|            0|   1|\n|2019-11-01 01:00:04|     0.0|              0|              1|            0|   1|\n|2019-11-01 01:00:05|     0.0|              0|              1|            0|   1|\n|2019-11-01 01:00:06|     0.0|              0|              1|            0|   1|\n|2019-11-01 01:00:07|     0.0|              0|              1|            0|   1|\n|2019-11-01 01:00:07|     0.0|              0|              1|            0|   1|\n|2019-11-01 01:00:07|     0.0|              0|              1|            0|   1|\n|2019-11-01 01:00:08|     0.0|              0|              1|            0|   1|\n+-------------------+--------+---------------+---------------+-------------+----+\nonly showing top 20 rows\n\n"
     ]
    }
   ],
   "source": [
    "sdf_corr_time = spark.sql(\"SELECT event_time, turnover, bougth_quantity, viewed_quantity, cart_quantity \\\n",
    "                            FROM Data\")\n",
    "sdf_corr_time = sdf_corr_time.withColumn(\"hour\", f.hour(\"event_time\"))\n",
    "sdf_corr_time.show()           "
   ]
  },
  {
   "cell_type": "code",
   "execution_count": 62,
   "metadata": {},
   "outputs": [],
   "source": [
    "# One-hot-encoding\n",
    "sdf_corr_time = sdf_corr_time.withColumn('Morning', f.when((f.col('hour')>=6) & (f.col('hour')<12), f.lit(1)).otherwise(0))\n",
    "sdf_corr_time = sdf_corr_time.withColumn('Afternoon', f.when((f.col('hour')>=12) & (f.col('hour')<18), f.lit(1)).otherwise(0))\n",
    "sdf_corr_time = sdf_corr_time.withColumn('Evening', f.when(f.col('hour') > 18 , f.lit(1)).otherwise(0))\n",
    "sdf_corr_time = sdf_corr_time.withColumn('Night', f.when(f.col('hour') < 6, f.lit(1)).otherwise(0))"
   ]
  },
  {
   "cell_type": "code",
   "execution_count": 63,
   "metadata": {},
   "outputs": [],
   "source": [
    "sdf_corr_time = sdf_corr_time.select(\"Morning\", \"Afternoon\", \"Evening\", \"Night\",  \"turnover\", \"bougth_quantity\", \"viewed_quantity\", \"cart_quantity\" )"
   ]
  },
  {
   "cell_type": "code",
   "execution_count": 64,
   "metadata": {},
   "outputs": [
    {
     "output_type": "stream",
     "name": "stderr",
     "text": [
      "C:\\ProgramData\\Anaconda3\\lib\\site-packages\\pandas\\io\\formats\\style.py:1264: RuntimeWarning:\n\nAll-NaN slice encountered\n\nC:\\ProgramData\\Anaconda3\\lib\\site-packages\\pandas\\io\\formats\\style.py:1265: RuntimeWarning:\n\nAll-NaN slice encountered\n\n"
     ]
    },
    {
     "output_type": "execute_result",
     "data": {
      "text/plain": [
       "<pandas.io.formats.style.Styler at 0x2b6bfe33fd0>"
      ],
      "text/html": "<style  type=\"text/css\" >\n#T_986a7_row0_col0,#T_986a7_row0_col1,#T_986a7_row0_col2,#T_986a7_row0_col3,#T_986a7_row0_col4,#T_986a7_row0_col5,#T_986a7_row0_col6,#T_986a7_row0_col7,#T_986a7_row1_col0,#T_986a7_row1_col1,#T_986a7_row1_col2,#T_986a7_row1_col3,#T_986a7_row1_col4,#T_986a7_row1_col5,#T_986a7_row1_col6,#T_986a7_row1_col7,#T_986a7_row2_col0,#T_986a7_row2_col1,#T_986a7_row2_col2,#T_986a7_row2_col3,#T_986a7_row2_col4,#T_986a7_row2_col5,#T_986a7_row2_col6,#T_986a7_row2_col7,#T_986a7_row3_col0,#T_986a7_row3_col1,#T_986a7_row3_col2,#T_986a7_row3_col3,#T_986a7_row3_col4,#T_986a7_row3_col5,#T_986a7_row3_col6,#T_986a7_row3_col7,#T_986a7_row4_col0,#T_986a7_row4_col1,#T_986a7_row4_col2,#T_986a7_row4_col3,#T_986a7_row5_col0,#T_986a7_row5_col1,#T_986a7_row5_col2,#T_986a7_row5_col3,#T_986a7_row6_col0,#T_986a7_row6_col1,#T_986a7_row6_col2,#T_986a7_row6_col3,#T_986a7_row7_col0,#T_986a7_row7_col1,#T_986a7_row7_col2,#T_986a7_row7_col3{\n            background-color:  #000000;\n            color:  #f1f1f1;\n        }#T_986a7_row4_col4,#T_986a7_row5_col5,#T_986a7_row6_col6,#T_986a7_row7_col7{\n            background-color:  #ff0000;\n            color:  #f1f1f1;\n        }#T_986a7_row4_col5{\n            background-color:  #ff1818;\n            color:  #f1f1f1;\n        }#T_986a7_row4_col6{\n            background-color:  #1414ff;\n            color:  #f1f1f1;\n        }#T_986a7_row4_col7,#T_986a7_row5_col7{\n            background-color:  #b8b8ff;\n            color:  #000000;\n        }#T_986a7_row5_col4{\n            background-color:  #ff1a1a;\n            color:  #f1f1f1;\n        }#T_986a7_row5_col6,#T_986a7_row6_col4,#T_986a7_row6_col5,#T_986a7_row6_col7{\n            background-color:  #0000ff;\n            color:  #f1f1f1;\n        }#T_986a7_row7_col4{\n            background-color:  #d8d8ff;\n            color:  #000000;\n        }#T_986a7_row7_col5{\n            background-color:  #e2e2ff;\n            color:  #000000;\n        }#T_986a7_row7_col6{\n            background-color:  #4242ff;\n            color:  #f1f1f1;\n        }</style><table id=\"T_986a7_\" ><thead>    <tr>        <th class=\"blank level0\" ></th>        <th class=\"col_heading level0 col0\" >Morning</th>        <th class=\"col_heading level0 col1\" >Afternoon</th>        <th class=\"col_heading level0 col2\" >Evening</th>        <th class=\"col_heading level0 col3\" >Night</th>        <th class=\"col_heading level0 col4\" >turnover</th>        <th class=\"col_heading level0 col5\" >bougth_quantity</th>        <th class=\"col_heading level0 col6\" >viewed_quantity</th>        <th class=\"col_heading level0 col7\" >cart_quantity</th>    </tr></thead><tbody>\n                <tr>\n                        <th id=\"T_986a7_level0_row0\" class=\"row_heading level0 row0\" >Morning</th>\n                        <td id=\"T_986a7_row0_col0\" class=\"data row0 col0\" >nan</td>\n                        <td id=\"T_986a7_row0_col1\" class=\"data row0 col1\" >nan</td>\n                        <td id=\"T_986a7_row0_col2\" class=\"data row0 col2\" >nan</td>\n                        <td id=\"T_986a7_row0_col3\" class=\"data row0 col3\" >nan</td>\n                        <td id=\"T_986a7_row0_col4\" class=\"data row0 col4\" >nan</td>\n                        <td id=\"T_986a7_row0_col5\" class=\"data row0 col5\" >nan</td>\n                        <td id=\"T_986a7_row0_col6\" class=\"data row0 col6\" >nan</td>\n                        <td id=\"T_986a7_row0_col7\" class=\"data row0 col7\" >nan</td>\n            </tr>\n            <tr>\n                        <th id=\"T_986a7_level0_row1\" class=\"row_heading level0 row1\" >Afternoon</th>\n                        <td id=\"T_986a7_row1_col0\" class=\"data row1 col0\" >nan</td>\n                        <td id=\"T_986a7_row1_col1\" class=\"data row1 col1\" >nan</td>\n                        <td id=\"T_986a7_row1_col2\" class=\"data row1 col2\" >nan</td>\n                        <td id=\"T_986a7_row1_col3\" class=\"data row1 col3\" >nan</td>\n                        <td id=\"T_986a7_row1_col4\" class=\"data row1 col4\" >nan</td>\n                        <td id=\"T_986a7_row1_col5\" class=\"data row1 col5\" >nan</td>\n                        <td id=\"T_986a7_row1_col6\" class=\"data row1 col6\" >nan</td>\n                        <td id=\"T_986a7_row1_col7\" class=\"data row1 col7\" >nan</td>\n            </tr>\n            <tr>\n                        <th id=\"T_986a7_level0_row2\" class=\"row_heading level0 row2\" >Evening</th>\n                        <td id=\"T_986a7_row2_col0\" class=\"data row2 col0\" >nan</td>\n                        <td id=\"T_986a7_row2_col1\" class=\"data row2 col1\" >nan</td>\n                        <td id=\"T_986a7_row2_col2\" class=\"data row2 col2\" >nan</td>\n                        <td id=\"T_986a7_row2_col3\" class=\"data row2 col3\" >nan</td>\n                        <td id=\"T_986a7_row2_col4\" class=\"data row2 col4\" >nan</td>\n                        <td id=\"T_986a7_row2_col5\" class=\"data row2 col5\" >nan</td>\n                        <td id=\"T_986a7_row2_col6\" class=\"data row2 col6\" >nan</td>\n                        <td id=\"T_986a7_row2_col7\" class=\"data row2 col7\" >nan</td>\n            </tr>\n            <tr>\n                        <th id=\"T_986a7_level0_row3\" class=\"row_heading level0 row3\" >Night</th>\n                        <td id=\"T_986a7_row3_col0\" class=\"data row3 col0\" >nan</td>\n                        <td id=\"T_986a7_row3_col1\" class=\"data row3 col1\" >nan</td>\n                        <td id=\"T_986a7_row3_col2\" class=\"data row3 col2\" >nan</td>\n                        <td id=\"T_986a7_row3_col3\" class=\"data row3 col3\" >nan</td>\n                        <td id=\"T_986a7_row3_col4\" class=\"data row3 col4\" >nan</td>\n                        <td id=\"T_986a7_row3_col5\" class=\"data row3 col5\" >nan</td>\n                        <td id=\"T_986a7_row3_col6\" class=\"data row3 col6\" >nan</td>\n                        <td id=\"T_986a7_row3_col7\" class=\"data row3 col7\" >nan</td>\n            </tr>\n            <tr>\n                        <th id=\"T_986a7_level0_row4\" class=\"row_heading level0 row4\" >turnover</th>\n                        <td id=\"T_986a7_row4_col0\" class=\"data row4 col0\" >nan</td>\n                        <td id=\"T_986a7_row4_col1\" class=\"data row4 col1\" >nan</td>\n                        <td id=\"T_986a7_row4_col2\" class=\"data row4 col2\" >nan</td>\n                        <td id=\"T_986a7_row4_col3\" class=\"data row4 col3\" >nan</td>\n                        <td id=\"T_986a7_row4_col4\" class=\"data row4 col4\" >1.000000</td>\n                        <td id=\"T_986a7_row4_col5\" class=\"data row4 col5\" >0.909357</td>\n                        <td id=\"T_986a7_row4_col6\" class=\"data row4 col6\" >-0.740758</td>\n                        <td id=\"T_986a7_row4_col7\" class=\"data row4 col7\" >-0.005968</td>\n            </tr>\n            <tr>\n                        <th id=\"T_986a7_level0_row5\" class=\"row_heading level0 row5\" >bougth_quantity</th>\n                        <td id=\"T_986a7_row5_col0\" class=\"data row5 col0\" >nan</td>\n                        <td id=\"T_986a7_row5_col1\" class=\"data row5 col1\" >nan</td>\n                        <td id=\"T_986a7_row5_col2\" class=\"data row5 col2\" >nan</td>\n                        <td id=\"T_986a7_row5_col3\" class=\"data row5 col3\" >nan</td>\n                        <td id=\"T_986a7_row5_col4\" class=\"data row5 col4\" >0.909357</td>\n                        <td id=\"T_986a7_row5_col5\" class=\"data row5 col5\" >1.000000</td>\n                        <td id=\"T_986a7_row5_col6\" class=\"data row5 col6\" >-0.814596</td>\n                        <td id=\"T_986a7_row5_col7\" class=\"data row5 col7\" >-0.006562</td>\n            </tr>\n            <tr>\n                        <th id=\"T_986a7_level0_row6\" class=\"row_heading level0 row6\" >viewed_quantity</th>\n                        <td id=\"T_986a7_row6_col0\" class=\"data row6 col0\" >nan</td>\n                        <td id=\"T_986a7_row6_col1\" class=\"data row6 col1\" >nan</td>\n                        <td id=\"T_986a7_row6_col2\" class=\"data row6 col2\" >nan</td>\n                        <td id=\"T_986a7_row6_col3\" class=\"data row6 col3\" >nan</td>\n                        <td id=\"T_986a7_row6_col4\" class=\"data row6 col4\" >-0.740758</td>\n                        <td id=\"T_986a7_row6_col5\" class=\"data row6 col5\" >-0.814596</td>\n                        <td id=\"T_986a7_row6_col6\" class=\"data row6 col6\" >1.000000</td>\n                        <td id=\"T_986a7_row6_col7\" class=\"data row6 col7\" >-0.574671</td>\n            </tr>\n            <tr>\n                        <th id=\"T_986a7_level0_row7\" class=\"row_heading level0 row7\" >cart_quantity</th>\n                        <td id=\"T_986a7_row7_col0\" class=\"data row7 col0\" >nan</td>\n                        <td id=\"T_986a7_row7_col1\" class=\"data row7 col1\" >nan</td>\n                        <td id=\"T_986a7_row7_col2\" class=\"data row7 col2\" >nan</td>\n                        <td id=\"T_986a7_row7_col3\" class=\"data row7 col3\" >nan</td>\n                        <td id=\"T_986a7_row7_col4\" class=\"data row7 col4\" >-0.005968</td>\n                        <td id=\"T_986a7_row7_col5\" class=\"data row7 col5\" >-0.006562</td>\n                        <td id=\"T_986a7_row7_col6\" class=\"data row7 col6\" >-0.574671</td>\n                        <td id=\"T_986a7_row7_col7\" class=\"data row7 col7\" >1.000000</td>\n            </tr>\n    </tbody></table>"
     },
     "metadata": {},
     "execution_count": 64
    }
   ],
   "source": [
    "sdf_corr_time.toPandas().corr().style.background_gradient(cmap='bwr')"
   ]
  },
  {
   "source": [
    "## Wochentag - Korrelationsmatrix"
   ],
   "cell_type": "markdown",
   "metadata": {}
  },
  {
   "cell_type": "code",
   "execution_count": 50,
   "metadata": {},
   "outputs": [],
   "source": [
    "sdf_corr_dayofweek = spark.sql(\"SELECT dayofweek, turnover, bougth_quantity, viewed_quantity, cart_quantity \\\n",
    "                            FROM Data\")"
   ]
  },
  {
   "cell_type": "code",
   "execution_count": 51,
   "metadata": {},
   "outputs": [],
   "source": [
    "# One-hot-encoding\n",
    "sdf_corr_dayofweek = sdf_corr_dayofweek.withColumn('Sunday', f.when(f.col('dayofweek') == '1', f.lit(1)).otherwise(0))\n",
    "sdf_corr_dayofweek = sdf_corr_dayofweek.withColumn('Monday', f.when(f.col('dayofweek') == '2', f.lit(1)).otherwise(0))\n",
    "sdf_corr_dayofweek = sdf_corr_dayofweek.withColumn('Tuesday', f.when(f.col('dayofweek') == '3', f.lit(1)).otherwise(0))\n",
    "sdf_corr_dayofweek = sdf_corr_dayofweek.withColumn('Wednesday', f.when(f.col('dayofweek') == '4', f.lit(1)).otherwise(0))\n",
    "sdf_corr_dayofweek = sdf_corr_dayofweek.withColumn('Thursday', f.when(f.col('dayofweek') == '5', f.lit(1)).otherwise(0))\n",
    "sdf_corr_dayofweek = sdf_corr_dayofweek.withColumn('Friday', f.when(f.col('dayofweek') == '6', f.lit(1)).otherwise(0))\n",
    "sdf_corr_dayofweek = sdf_corr_dayofweek.withColumn('Saturday', f.when(f.col('dayofweek') == '7', f.lit(1)).otherwise(0))"
   ]
  },
  {
   "source": [
    "sdf_corr_dayofweek = sdf_corr_dayofweek.select(\"Monday\", \"Tuesday\", \"Wednesday\", \"Thursday\", \"Friday\", \"Saturday\", \"Sunday\",  \"turnover\", \"bougth_quantity\", \"viewed_quantity\", \"cart_quantity\" )"
   ],
   "cell_type": "markdown",
   "metadata": {}
  },
  {
   "cell_type": "code",
   "execution_count": 53,
   "metadata": {},
   "outputs": [
    {
     "output_type": "stream",
     "name": "stderr",
     "text": [
      "C:\\ProgramData\\Anaconda3\\lib\\site-packages\\pandas\\io\\formats\\style.py:1264: RuntimeWarning:\n\nAll-NaN slice encountered\n\nC:\\ProgramData\\Anaconda3\\lib\\site-packages\\pandas\\io\\formats\\style.py:1265: RuntimeWarning:\n\nAll-NaN slice encountered\n\n"
     ]
    },
    {
     "output_type": "execute_result",
     "data": {
      "text/plain": [
       "<pandas.io.formats.style.Styler at 0x2b6bf9d9910>"
      ],
      "text/html": "<style  type=\"text/css\" >\n#T_bcb61_row0_col0,#T_bcb61_row0_col1,#T_bcb61_row0_col2,#T_bcb61_row0_col3,#T_bcb61_row0_col4,#T_bcb61_row0_col5,#T_bcb61_row0_col6,#T_bcb61_row0_col7,#T_bcb61_row0_col8,#T_bcb61_row0_col9,#T_bcb61_row0_col10,#T_bcb61_row1_col0,#T_bcb61_row1_col1,#T_bcb61_row1_col2,#T_bcb61_row1_col3,#T_bcb61_row1_col4,#T_bcb61_row1_col5,#T_bcb61_row1_col6,#T_bcb61_row1_col7,#T_bcb61_row1_col8,#T_bcb61_row1_col9,#T_bcb61_row1_col10,#T_bcb61_row2_col0,#T_bcb61_row2_col1,#T_bcb61_row2_col2,#T_bcb61_row2_col3,#T_bcb61_row2_col4,#T_bcb61_row2_col5,#T_bcb61_row2_col6,#T_bcb61_row2_col7,#T_bcb61_row2_col8,#T_bcb61_row2_col9,#T_bcb61_row2_col10,#T_bcb61_row3_col0,#T_bcb61_row3_col1,#T_bcb61_row3_col2,#T_bcb61_row3_col3,#T_bcb61_row3_col4,#T_bcb61_row3_col5,#T_bcb61_row3_col6,#T_bcb61_row3_col7,#T_bcb61_row3_col8,#T_bcb61_row3_col9,#T_bcb61_row3_col10,#T_bcb61_row4_col0,#T_bcb61_row4_col1,#T_bcb61_row4_col2,#T_bcb61_row4_col3,#T_bcb61_row4_col4,#T_bcb61_row4_col5,#T_bcb61_row4_col6,#T_bcb61_row4_col7,#T_bcb61_row4_col8,#T_bcb61_row4_col9,#T_bcb61_row4_col10,#T_bcb61_row5_col0,#T_bcb61_row5_col1,#T_bcb61_row5_col2,#T_bcb61_row5_col3,#T_bcb61_row5_col4,#T_bcb61_row5_col5,#T_bcb61_row5_col6,#T_bcb61_row5_col7,#T_bcb61_row5_col8,#T_bcb61_row5_col9,#T_bcb61_row5_col10,#T_bcb61_row6_col0,#T_bcb61_row6_col1,#T_bcb61_row6_col2,#T_bcb61_row6_col3,#T_bcb61_row6_col4,#T_bcb61_row6_col5,#T_bcb61_row6_col6,#T_bcb61_row6_col7,#T_bcb61_row6_col8,#T_bcb61_row6_col9,#T_bcb61_row6_col10,#T_bcb61_row7_col0,#T_bcb61_row7_col1,#T_bcb61_row7_col2,#T_bcb61_row7_col3,#T_bcb61_row7_col4,#T_bcb61_row7_col5,#T_bcb61_row7_col6,#T_bcb61_row8_col0,#T_bcb61_row8_col1,#T_bcb61_row8_col2,#T_bcb61_row8_col3,#T_bcb61_row8_col4,#T_bcb61_row8_col5,#T_bcb61_row8_col6,#T_bcb61_row9_col0,#T_bcb61_row9_col1,#T_bcb61_row9_col2,#T_bcb61_row9_col3,#T_bcb61_row9_col4,#T_bcb61_row9_col5,#T_bcb61_row9_col6,#T_bcb61_row10_col0,#T_bcb61_row10_col1,#T_bcb61_row10_col2,#T_bcb61_row10_col3,#T_bcb61_row10_col4,#T_bcb61_row10_col5,#T_bcb61_row10_col6{\n            background-color:  #000000;\n            color:  #f1f1f1;\n        }#T_bcb61_row7_col7,#T_bcb61_row8_col8,#T_bcb61_row9_col9,#T_bcb61_row10_col10{\n            background-color:  #ff0000;\n            color:  #f1f1f1;\n        }#T_bcb61_row7_col8{\n            background-color:  #ff1818;\n            color:  #f1f1f1;\n        }#T_bcb61_row7_col9{\n            background-color:  #1414ff;\n            color:  #f1f1f1;\n        }#T_bcb61_row7_col10,#T_bcb61_row8_col10{\n            background-color:  #b8b8ff;\n            color:  #000000;\n        }#T_bcb61_row8_col7{\n            background-color:  #ff1a1a;\n            color:  #f1f1f1;\n        }#T_bcb61_row8_col9,#T_bcb61_row9_col7,#T_bcb61_row9_col8,#T_bcb61_row9_col10{\n            background-color:  #0000ff;\n            color:  #f1f1f1;\n        }#T_bcb61_row10_col7{\n            background-color:  #d8d8ff;\n            color:  #000000;\n        }#T_bcb61_row10_col8{\n            background-color:  #e2e2ff;\n            color:  #000000;\n        }#T_bcb61_row10_col9{\n            background-color:  #4242ff;\n            color:  #f1f1f1;\n        }</style><table id=\"T_bcb61_\" ><thead>    <tr>        <th class=\"blank level0\" ></th>        <th class=\"col_heading level0 col0\" >Monday</th>        <th class=\"col_heading level0 col1\" >Tuesday</th>        <th class=\"col_heading level0 col2\" >Wednesday</th>        <th class=\"col_heading level0 col3\" >Thursday</th>        <th class=\"col_heading level0 col4\" >Friday</th>        <th class=\"col_heading level0 col5\" >Saturday</th>        <th class=\"col_heading level0 col6\" >Sunday</th>        <th class=\"col_heading level0 col7\" >turnover</th>        <th class=\"col_heading level0 col8\" >bougth_quantity</th>        <th class=\"col_heading level0 col9\" >viewed_quantity</th>        <th class=\"col_heading level0 col10\" >cart_quantity</th>    </tr></thead><tbody>\n                <tr>\n                        <th id=\"T_bcb61_level0_row0\" class=\"row_heading level0 row0\" >Monday</th>\n                        <td id=\"T_bcb61_row0_col0\" class=\"data row0 col0\" >nan</td>\n                        <td id=\"T_bcb61_row0_col1\" class=\"data row0 col1\" >nan</td>\n                        <td id=\"T_bcb61_row0_col2\" class=\"data row0 col2\" >nan</td>\n                        <td id=\"T_bcb61_row0_col3\" class=\"data row0 col3\" >nan</td>\n                        <td id=\"T_bcb61_row0_col4\" class=\"data row0 col4\" >nan</td>\n                        <td id=\"T_bcb61_row0_col5\" class=\"data row0 col5\" >nan</td>\n                        <td id=\"T_bcb61_row0_col6\" class=\"data row0 col6\" >nan</td>\n                        <td id=\"T_bcb61_row0_col7\" class=\"data row0 col7\" >nan</td>\n                        <td id=\"T_bcb61_row0_col8\" class=\"data row0 col8\" >nan</td>\n                        <td id=\"T_bcb61_row0_col9\" class=\"data row0 col9\" >nan</td>\n                        <td id=\"T_bcb61_row0_col10\" class=\"data row0 col10\" >nan</td>\n            </tr>\n            <tr>\n                        <th id=\"T_bcb61_level0_row1\" class=\"row_heading level0 row1\" >Tuesday</th>\n                        <td id=\"T_bcb61_row1_col0\" class=\"data row1 col0\" >nan</td>\n                        <td id=\"T_bcb61_row1_col1\" class=\"data row1 col1\" >nan</td>\n                        <td id=\"T_bcb61_row1_col2\" class=\"data row1 col2\" >nan</td>\n                        <td id=\"T_bcb61_row1_col3\" class=\"data row1 col3\" >nan</td>\n                        <td id=\"T_bcb61_row1_col4\" class=\"data row1 col4\" >nan</td>\n                        <td id=\"T_bcb61_row1_col5\" class=\"data row1 col5\" >nan</td>\n                        <td id=\"T_bcb61_row1_col6\" class=\"data row1 col6\" >nan</td>\n                        <td id=\"T_bcb61_row1_col7\" class=\"data row1 col7\" >nan</td>\n                        <td id=\"T_bcb61_row1_col8\" class=\"data row1 col8\" >nan</td>\n                        <td id=\"T_bcb61_row1_col9\" class=\"data row1 col9\" >nan</td>\n                        <td id=\"T_bcb61_row1_col10\" class=\"data row1 col10\" >nan</td>\n            </tr>\n            <tr>\n                        <th id=\"T_bcb61_level0_row2\" class=\"row_heading level0 row2\" >Wednesday</th>\n                        <td id=\"T_bcb61_row2_col0\" class=\"data row2 col0\" >nan</td>\n                        <td id=\"T_bcb61_row2_col1\" class=\"data row2 col1\" >nan</td>\n                        <td id=\"T_bcb61_row2_col2\" class=\"data row2 col2\" >nan</td>\n                        <td id=\"T_bcb61_row2_col3\" class=\"data row2 col3\" >nan</td>\n                        <td id=\"T_bcb61_row2_col4\" class=\"data row2 col4\" >nan</td>\n                        <td id=\"T_bcb61_row2_col5\" class=\"data row2 col5\" >nan</td>\n                        <td id=\"T_bcb61_row2_col6\" class=\"data row2 col6\" >nan</td>\n                        <td id=\"T_bcb61_row2_col7\" class=\"data row2 col7\" >nan</td>\n                        <td id=\"T_bcb61_row2_col8\" class=\"data row2 col8\" >nan</td>\n                        <td id=\"T_bcb61_row2_col9\" class=\"data row2 col9\" >nan</td>\n                        <td id=\"T_bcb61_row2_col10\" class=\"data row2 col10\" >nan</td>\n            </tr>\n            <tr>\n                        <th id=\"T_bcb61_level0_row3\" class=\"row_heading level0 row3\" >Thursday</th>\n                        <td id=\"T_bcb61_row3_col0\" class=\"data row3 col0\" >nan</td>\n                        <td id=\"T_bcb61_row3_col1\" class=\"data row3 col1\" >nan</td>\n                        <td id=\"T_bcb61_row3_col2\" class=\"data row3 col2\" >nan</td>\n                        <td id=\"T_bcb61_row3_col3\" class=\"data row3 col3\" >nan</td>\n                        <td id=\"T_bcb61_row3_col4\" class=\"data row3 col4\" >nan</td>\n                        <td id=\"T_bcb61_row3_col5\" class=\"data row3 col5\" >nan</td>\n                        <td id=\"T_bcb61_row3_col6\" class=\"data row3 col6\" >nan</td>\n                        <td id=\"T_bcb61_row3_col7\" class=\"data row3 col7\" >nan</td>\n                        <td id=\"T_bcb61_row3_col8\" class=\"data row3 col8\" >nan</td>\n                        <td id=\"T_bcb61_row3_col9\" class=\"data row3 col9\" >nan</td>\n                        <td id=\"T_bcb61_row3_col10\" class=\"data row3 col10\" >nan</td>\n            </tr>\n            <tr>\n                        <th id=\"T_bcb61_level0_row4\" class=\"row_heading level0 row4\" >Friday</th>\n                        <td id=\"T_bcb61_row4_col0\" class=\"data row4 col0\" >nan</td>\n                        <td id=\"T_bcb61_row4_col1\" class=\"data row4 col1\" >nan</td>\n                        <td id=\"T_bcb61_row4_col2\" class=\"data row4 col2\" >nan</td>\n                        <td id=\"T_bcb61_row4_col3\" class=\"data row4 col3\" >nan</td>\n                        <td id=\"T_bcb61_row4_col4\" class=\"data row4 col4\" >nan</td>\n                        <td id=\"T_bcb61_row4_col5\" class=\"data row4 col5\" >nan</td>\n                        <td id=\"T_bcb61_row4_col6\" class=\"data row4 col6\" >nan</td>\n                        <td id=\"T_bcb61_row4_col7\" class=\"data row4 col7\" >nan</td>\n                        <td id=\"T_bcb61_row4_col8\" class=\"data row4 col8\" >nan</td>\n                        <td id=\"T_bcb61_row4_col9\" class=\"data row4 col9\" >nan</td>\n                        <td id=\"T_bcb61_row4_col10\" class=\"data row4 col10\" >nan</td>\n            </tr>\n            <tr>\n                        <th id=\"T_bcb61_level0_row5\" class=\"row_heading level0 row5\" >Saturday</th>\n                        <td id=\"T_bcb61_row5_col0\" class=\"data row5 col0\" >nan</td>\n                        <td id=\"T_bcb61_row5_col1\" class=\"data row5 col1\" >nan</td>\n                        <td id=\"T_bcb61_row5_col2\" class=\"data row5 col2\" >nan</td>\n                        <td id=\"T_bcb61_row5_col3\" class=\"data row5 col3\" >nan</td>\n                        <td id=\"T_bcb61_row5_col4\" class=\"data row5 col4\" >nan</td>\n                        <td id=\"T_bcb61_row5_col5\" class=\"data row5 col5\" >nan</td>\n                        <td id=\"T_bcb61_row5_col6\" class=\"data row5 col6\" >nan</td>\n                        <td id=\"T_bcb61_row5_col7\" class=\"data row5 col7\" >nan</td>\n                        <td id=\"T_bcb61_row5_col8\" class=\"data row5 col8\" >nan</td>\n                        <td id=\"T_bcb61_row5_col9\" class=\"data row5 col9\" >nan</td>\n                        <td id=\"T_bcb61_row5_col10\" class=\"data row5 col10\" >nan</td>\n            </tr>\n            <tr>\n                        <th id=\"T_bcb61_level0_row6\" class=\"row_heading level0 row6\" >Sunday</th>\n                        <td id=\"T_bcb61_row6_col0\" class=\"data row6 col0\" >nan</td>\n                        <td id=\"T_bcb61_row6_col1\" class=\"data row6 col1\" >nan</td>\n                        <td id=\"T_bcb61_row6_col2\" class=\"data row6 col2\" >nan</td>\n                        <td id=\"T_bcb61_row6_col3\" class=\"data row6 col3\" >nan</td>\n                        <td id=\"T_bcb61_row6_col4\" class=\"data row6 col4\" >nan</td>\n                        <td id=\"T_bcb61_row6_col5\" class=\"data row6 col5\" >nan</td>\n                        <td id=\"T_bcb61_row6_col6\" class=\"data row6 col6\" >nan</td>\n                        <td id=\"T_bcb61_row6_col7\" class=\"data row6 col7\" >nan</td>\n                        <td id=\"T_bcb61_row6_col8\" class=\"data row6 col8\" >nan</td>\n                        <td id=\"T_bcb61_row6_col9\" class=\"data row6 col9\" >nan</td>\n                        <td id=\"T_bcb61_row6_col10\" class=\"data row6 col10\" >nan</td>\n            </tr>\n            <tr>\n                        <th id=\"T_bcb61_level0_row7\" class=\"row_heading level0 row7\" >turnover</th>\n                        <td id=\"T_bcb61_row7_col0\" class=\"data row7 col0\" >nan</td>\n                        <td id=\"T_bcb61_row7_col1\" class=\"data row7 col1\" >nan</td>\n                        <td id=\"T_bcb61_row7_col2\" class=\"data row7 col2\" >nan</td>\n                        <td id=\"T_bcb61_row7_col3\" class=\"data row7 col3\" >nan</td>\n                        <td id=\"T_bcb61_row7_col4\" class=\"data row7 col4\" >nan</td>\n                        <td id=\"T_bcb61_row7_col5\" class=\"data row7 col5\" >nan</td>\n                        <td id=\"T_bcb61_row7_col6\" class=\"data row7 col6\" >nan</td>\n                        <td id=\"T_bcb61_row7_col7\" class=\"data row7 col7\" >1.000000</td>\n                        <td id=\"T_bcb61_row7_col8\" class=\"data row7 col8\" >0.909357</td>\n                        <td id=\"T_bcb61_row7_col9\" class=\"data row7 col9\" >-0.740758</td>\n                        <td id=\"T_bcb61_row7_col10\" class=\"data row7 col10\" >-0.005968</td>\n            </tr>\n            <tr>\n                        <th id=\"T_bcb61_level0_row8\" class=\"row_heading level0 row8\" >bougth_quantity</th>\n                        <td id=\"T_bcb61_row8_col0\" class=\"data row8 col0\" >nan</td>\n                        <td id=\"T_bcb61_row8_col1\" class=\"data row8 col1\" >nan</td>\n                        <td id=\"T_bcb61_row8_col2\" class=\"data row8 col2\" >nan</td>\n                        <td id=\"T_bcb61_row8_col3\" class=\"data row8 col3\" >nan</td>\n                        <td id=\"T_bcb61_row8_col4\" class=\"data row8 col4\" >nan</td>\n                        <td id=\"T_bcb61_row8_col5\" class=\"data row8 col5\" >nan</td>\n                        <td id=\"T_bcb61_row8_col6\" class=\"data row8 col6\" >nan</td>\n                        <td id=\"T_bcb61_row8_col7\" class=\"data row8 col7\" >0.909357</td>\n                        <td id=\"T_bcb61_row8_col8\" class=\"data row8 col8\" >1.000000</td>\n                        <td id=\"T_bcb61_row8_col9\" class=\"data row8 col9\" >-0.814596</td>\n                        <td id=\"T_bcb61_row8_col10\" class=\"data row8 col10\" >-0.006562</td>\n            </tr>\n            <tr>\n                        <th id=\"T_bcb61_level0_row9\" class=\"row_heading level0 row9\" >viewed_quantity</th>\n                        <td id=\"T_bcb61_row9_col0\" class=\"data row9 col0\" >nan</td>\n                        <td id=\"T_bcb61_row9_col1\" class=\"data row9 col1\" >nan</td>\n                        <td id=\"T_bcb61_row9_col2\" class=\"data row9 col2\" >nan</td>\n                        <td id=\"T_bcb61_row9_col3\" class=\"data row9 col3\" >nan</td>\n                        <td id=\"T_bcb61_row9_col4\" class=\"data row9 col4\" >nan</td>\n                        <td id=\"T_bcb61_row9_col5\" class=\"data row9 col5\" >nan</td>\n                        <td id=\"T_bcb61_row9_col6\" class=\"data row9 col6\" >nan</td>\n                        <td id=\"T_bcb61_row9_col7\" class=\"data row9 col7\" >-0.740758</td>\n                        <td id=\"T_bcb61_row9_col8\" class=\"data row9 col8\" >-0.814596</td>\n                        <td id=\"T_bcb61_row9_col9\" class=\"data row9 col9\" >1.000000</td>\n                        <td id=\"T_bcb61_row9_col10\" class=\"data row9 col10\" >-0.574671</td>\n            </tr>\n            <tr>\n                        <th id=\"T_bcb61_level0_row10\" class=\"row_heading level0 row10\" >cart_quantity</th>\n                        <td id=\"T_bcb61_row10_col0\" class=\"data row10 col0\" >nan</td>\n                        <td id=\"T_bcb61_row10_col1\" class=\"data row10 col1\" >nan</td>\n                        <td id=\"T_bcb61_row10_col2\" class=\"data row10 col2\" >nan</td>\n                        <td id=\"T_bcb61_row10_col3\" class=\"data row10 col3\" >nan</td>\n                        <td id=\"T_bcb61_row10_col4\" class=\"data row10 col4\" >nan</td>\n                        <td id=\"T_bcb61_row10_col5\" class=\"data row10 col5\" >nan</td>\n                        <td id=\"T_bcb61_row10_col6\" class=\"data row10 col6\" >nan</td>\n                        <td id=\"T_bcb61_row10_col7\" class=\"data row10 col7\" >-0.005968</td>\n                        <td id=\"T_bcb61_row10_col8\" class=\"data row10 col8\" >-0.006562</td>\n                        <td id=\"T_bcb61_row10_col9\" class=\"data row10 col9\" >-0.574671</td>\n                        <td id=\"T_bcb61_row10_col10\" class=\"data row10 col10\" >1.000000</td>\n            </tr>\n    </tbody></table>"
     },
     "metadata": {},
     "execution_count": 53
    }
   ],
   "source": [
    "sdf_corr_dayofweek.toPandas().corr().style.background_gradient(cmap='bwr')"
   ]
  },
  {
   "source": [
    "## Category Class - Korrelationsmatrix"
   ],
   "cell_type": "markdown",
   "metadata": {}
  },
  {
   "cell_type": "code",
   "execution_count": 18,
   "metadata": {},
   "outputs": [],
   "source": [
    "sdf_corr_category_class = spark.sql(\"SELECT category_class, turnover, bougth_quantity, viewed_quantity, cart_quantity \\\n",
    "                            FROM Data\")\n"
   ]
  },
  {
   "cell_type": "code",
   "execution_count": 29,
   "metadata": {},
   "outputs": [],
   "source": [
    "# One-hot-encoding\n",
    "sdf_corr_category_class = sdf_corr_category_class.withColumn('computers', f.when(f.col('category_class') == 'computers', f.lit(1)).otherwise(0))\n",
    "sdf_corr_category_class = sdf_corr_category_class.withColumn('auto', f.when(f.col('category_class') == 'auto', f.lit(1)).otherwise(0))\n",
    "sdf_corr_category_class = sdf_corr_category_class.withColumn('apparel', f.when(f.col('category_class') == 'apparel', f.lit(1)).otherwise(0))\n",
    "sdf_corr_category_class = sdf_corr_category_class.withColumn('appliances', f.when(f.col('category_class') == 'appliances', f.lit(1)).otherwise(0))\n",
    "sdf_corr_category_class = sdf_corr_category_class.withColumn('furniture', f.when(f.col('category_class') == 'furniture', f.lit(1)).otherwise(0))\n",
    "sdf_corr_category_class = sdf_corr_category_class.withColumn('accessories', f.when(f.col('category_class') == 'accessories', f.lit(1)).otherwise(0))\n",
    "sdf_corr_category_class = sdf_corr_category_class.withColumn('electronics', f.when(f.col('category_class') == 'electronics', f.lit(1)).otherwise(0))\n",
    "sdf_corr_category_class = sdf_corr_category_class.withColumn('construction', f.when(f.col('category_class') == 'construction', f.lit(1)).otherwise(0))\n",
    "sdf_corr_category_class = sdf_corr_category_class.withColumn('not_defined', f.when(f.col('category_class') == 'not defined', f.lit(1)).otherwise(0))"
   ]
  },
  {
   "cell_type": "code",
   "execution_count": 32,
   "metadata": {},
   "outputs": [],
   "source": [
    "sdf_corr_category_class = sdf_corr_category_class.select(\"computers\", \"auto\", \"apparel\", \"appliances\", \"furniture\", \"accessories\", \"electronics\", \"construction\", \"not_defined\", \"turnover\", \"bougth_quantity\", \"viewed_quantity\", \"cart_quantity\" )"
   ]
  },
  {
   "cell_type": "code",
   "execution_count": 33,
   "metadata": {},
   "outputs": [
    {
     "output_type": "execute_result",
     "data": {
      "text/plain": [
       "<pandas.io.formats.style.Styler at 0x2b6befbdfa0>"
      ],
      "text/html": "<style  type=\"text/css\" >\n#T_fd972_row0_col0,#T_fd972_row1_col1,#T_fd972_row2_col2,#T_fd972_row3_col3,#T_fd972_row4_col4,#T_fd972_row5_col5,#T_fd972_row6_col6,#T_fd972_row7_col7,#T_fd972_row8_col8,#T_fd972_row9_col9,#T_fd972_row10_col10,#T_fd972_row11_col11,#T_fd972_row12_col12{\n            background-color:  #ff0000;\n            color:  #f1f1f1;\n        }#T_fd972_row0_col1{\n            background-color:  #2626ff;\n            color:  #f1f1f1;\n        }#T_fd972_row0_col2,#T_fd972_row11_col4{\n            background-color:  #2222ff;\n            color:  #f1f1f1;\n        }#T_fd972_row0_col3,#T_fd972_row0_col4,#T_fd972_row2_col1{\n            background-color:  #3434ff;\n            color:  #f1f1f1;\n        }#T_fd972_row0_col5{\n            background-color:  #0e0eff;\n            color:  #f1f1f1;\n        }#T_fd972_row0_col6{\n            background-color:  #6060ff;\n            color:  #000000;\n        }#T_fd972_row0_col7{\n            background-color:  #2828ff;\n            color:  #f1f1f1;\n        }#T_fd972_row0_col8,#T_fd972_row1_col3,#T_fd972_row1_col4,#T_fd972_row2_col3,#T_fd972_row2_col4,#T_fd972_row11_col2{\n            background-color:  #4646ff;\n            color:  #f1f1f1;\n        }#T_fd972_row0_col9{\n            background-color:  #d0d0ff;\n            color:  #000000;\n        }#T_fd972_row0_col10{\n            background-color:  #dcdcff;\n            color:  #000000;\n        }#T_fd972_row0_col11{\n            background-color:  #f0f0ff;\n            color:  #000000;\n        }#T_fd972_row0_col12{\n            background-color:  #b2b2ff;\n            color:  #000000;\n        }#T_fd972_row1_col0{\n            background-color:  #5656ff;\n            color:  #f1f1f1;\n        }#T_fd972_row1_col2{\n            background-color:  #3030ff;\n            color:  #f1f1f1;\n        }#T_fd972_row1_col5,#T_fd972_row2_col5,#T_fd972_row7_col5,#T_fd972_row9_col11{\n            background-color:  #1414ff;\n            color:  #f1f1f1;\n        }#T_fd972_row1_col6,#T_fd972_row11_col6{\n            background-color:  #8282ff;\n            color:  #000000;\n        }#T_fd972_row1_col7,#T_fd972_row9_col2,#T_fd972_row10_col2{\n            background-color:  #3636ff;\n            color:  #f1f1f1;\n        }#T_fd972_row1_col8{\n            background-color:  #7474ff;\n            color:  #000000;\n        }#T_fd972_row1_col9,#T_fd972_row2_col9,#T_fd972_row7_col9{\n            background-color:  #d4d4ff;\n            color:  #000000;\n        }#T_fd972_row1_col10,#T_fd972_row2_col10,#T_fd972_row7_col10{\n            background-color:  #e0e0ff;\n            color:  #000000;\n        }#T_fd972_row1_col11,#T_fd972_row2_col11{\n            background-color:  #eaeaff;\n            color:  #000000;\n        }#T_fd972_row1_col12,#T_fd972_row2_col12,#T_fd972_row7_col12{\n            background-color:  #b6b6ff;\n            color:  #000000;\n        }#T_fd972_row2_col0{\n            background-color:  #5858ff;\n            color:  #f1f1f1;\n        }#T_fd972_row2_col6{\n            background-color:  #8484ff;\n            color:  #000000;\n        }#T_fd972_row2_col7,#T_fd972_row5_col2,#T_fd972_row12_col2{\n            background-color:  #3838ff;\n            color:  #f1f1f1;\n        }#T_fd972_row2_col8{\n            background-color:  #7878ff;\n            color:  #000000;\n        }#T_fd972_row3_col0,#T_fd972_row4_col0,#T_fd972_row11_col1{\n            background-color:  #4c4cff;\n            color:  #f1f1f1;\n        }#T_fd972_row3_col1,#T_fd972_row4_col1{\n            background-color:  #2c2cff;\n            color:  #f1f1f1;\n        }#T_fd972_row3_col2,#T_fd972_row4_col2{\n            background-color:  #2a2aff;\n            color:  #f1f1f1;\n        }#T_fd972_row3_col4,#T_fd972_row4_col3,#T_fd972_row5_col1,#T_fd972_row12_col1{\n            background-color:  #3c3cff;\n            color:  #f1f1f1;\n        }#T_fd972_row3_col5,#T_fd972_row4_col5,#T_fd972_row6_col7{\n            background-color:  #1212ff;\n            color:  #f1f1f1;\n        }#T_fd972_row3_col6,#T_fd972_row4_col6{\n            background-color:  #7272ff;\n            color:  #000000;\n        }#T_fd972_row3_col7,#T_fd972_row4_col7,#T_fd972_row7_col2{\n            background-color:  #2e2eff;\n            color:  #f1f1f1;\n        }#T_fd972_row3_col8,#T_fd972_row4_col8{\n            background-color:  #5e5eff;\n            color:  #000000;\n        }#T_fd972_row3_col9{\n            background-color:  #d2d2ff;\n            color:  #000000;\n        }#T_fd972_row3_col10,#T_fd972_row6_col12{\n            background-color:  #dedeff;\n            color:  #000000;\n        }#T_fd972_row3_col11{\n            background-color:  #eeeeff;\n            color:  #000000;\n        }#T_fd972_row3_col12,#T_fd972_row4_col12{\n            background-color:  #b4b4ff;\n            color:  #000000;\n        }#T_fd972_row4_col9{\n            background-color:  #ffe0e0;\n            color:  #000000;\n        }#T_fd972_row4_col10{\n            background-color:  #ffe8e8;\n            color:  #000000;\n        }#T_fd972_row4_col11{\n            background-color:  #c0c0ff;\n            color:  #000000;\n        }#T_fd972_row5_col0,#T_fd972_row11_col3,#T_fd972_row12_col0{\n            background-color:  #6666ff;\n            color:  #000000;\n        }#T_fd972_row5_col3,#T_fd972_row5_col4,#T_fd972_row12_col3,#T_fd972_row12_col4{\n            background-color:  #5252ff;\n            color:  #f1f1f1;\n        }#T_fd972_row5_col6{\n            background-color:  #9a9aff;\n            color:  #000000;\n        }#T_fd972_row5_col7,#T_fd972_row12_col7{\n            background-color:  #4040ff;\n            color:  #f1f1f1;\n        }#T_fd972_row5_col8,#T_fd972_row12_col8{\n            background-color:  #9494ff;\n            color:  #000000;\n        }#T_fd972_row5_col9,#T_fd972_row12_col9{\n            background-color:  #d8d8ff;\n            color:  #000000;\n        }#T_fd972_row5_col10,#T_fd972_row12_col10{\n            background-color:  #e2e2ff;\n            color:  #000000;\n        }#T_fd972_row5_col11{\n            background-color:  #e8e8ff;\n            color:  #000000;\n        }#T_fd972_row5_col12,#T_fd972_row9_col12,#T_fd972_row10_col6,#T_fd972_row10_col12{\n            background-color:  #b8b8ff;\n            color:  #000000;\n        }#T_fd972_row6_col0,#T_fd972_row11_col5{\n            background-color:  #1e1eff;\n            color:  #f1f1f1;\n        }#T_fd972_row6_col1,#T_fd972_row6_col2{\n            background-color:  #1010ff;\n            color:  #f1f1f1;\n        }#T_fd972_row6_col3,#T_fd972_row6_col4,#T_fd972_row9_col5,#T_fd972_row12_col5{\n            background-color:  #1818ff;\n            color:  #f1f1f1;\n        }#T_fd972_row6_col5{\n            background-color:  #0606ff;\n            color:  #f1f1f1;\n        }#T_fd972_row6_col8,#T_fd972_row8_col0,#T_fd972_row8_col1,#T_fd972_row8_col2,#T_fd972_row8_col3,#T_fd972_row8_col4,#T_fd972_row8_col5,#T_fd972_row8_col6,#T_fd972_row8_col7,#T_fd972_row10_col11,#T_fd972_row11_col9,#T_fd972_row11_col10,#T_fd972_row11_col12{\n            background-color:  #0000ff;\n            color:  #f1f1f1;\n        }#T_fd972_row6_col9{\n            background-color:  #dadaff;\n            color:  #000000;\n        }#T_fd972_row6_col10{\n            background-color:  #f4f4ff;\n            color:  #000000;\n        }#T_fd972_row6_col11{\n            background-color:  #c6c6ff;\n            color:  #000000;\n        }#T_fd972_row7_col0{\n            background-color:  #5454ff;\n            color:  #f1f1f1;\n        }#T_fd972_row7_col1{\n            background-color:  #3232ff;\n            color:  #f1f1f1;\n        }#T_fd972_row7_col3,#T_fd972_row7_col4{\n            background-color:  #4444ff;\n            color:  #f1f1f1;\n        }#T_fd972_row7_col6{\n            background-color:  #7e7eff;\n            color:  #000000;\n        }#T_fd972_row7_col8{\n            background-color:  #7070ff;\n            color:  #000000;\n        }#T_fd972_row7_col11{\n            background-color:  #ececff;\n            color:  #000000;\n        }#T_fd972_row8_col9{\n            background-color:  #c4c4ff;\n            color:  #000000;\n        }#T_fd972_row8_col10,#T_fd972_row12_col6{\n            background-color:  #ceceff;\n            color:  #000000;\n        }#T_fd972_row8_col11{\n            background-color:  #fffefe;\n            color:  #000000;\n        }#T_fd972_row8_col12,#T_fd972_row9_col6{\n            background-color:  #a8a8ff;\n            color:  #000000;\n        }#T_fd972_row9_col0{\n            background-color:  #6464ff;\n            color:  #000000;\n        }#T_fd972_row9_col1,#T_fd972_row10_col1{\n            background-color:  #3a3aff;\n            color:  #f1f1f1;\n        }#T_fd972_row9_col3,#T_fd972_row11_col7{\n            background-color:  #5050ff;\n            color:  #f1f1f1;\n        }#T_fd972_row9_col4{\n            background-color:  #bebeff;\n            color:  #000000;\n        }#T_fd972_row9_col7,#T_fd972_row10_col7{\n            background-color:  #3e3eff;\n            color:  #f1f1f1;\n        }#T_fd972_row9_col8{\n            background-color:  #8e8eff;\n            color:  #000000;\n        }#T_fd972_row9_col10{\n            background-color:  #ff1818;\n            color:  #f1f1f1;\n        }#T_fd972_row10_col0{\n            background-color:  #6262ff;\n            color:  #000000;\n        }#T_fd972_row10_col3{\n            background-color:  #4e4eff;\n            color:  #f1f1f1;\n        }#T_fd972_row10_col4{\n            background-color:  #a2a2ff;\n            color:  #000000;\n        }#T_fd972_row10_col5{\n            background-color:  #1616ff;\n            color:  #f1f1f1;\n        }#T_fd972_row10_col8{\n            background-color:  #8c8cff;\n            color:  #000000;\n        }#T_fd972_row10_col9{\n            background-color:  #ff1a1a;\n            color:  #f1f1f1;\n        }#T_fd972_row11_col0{\n            background-color:  #8080ff;\n            color:  #000000;\n        }#T_fd972_row11_col8{\n            background-color:  #c8c8ff;\n            color:  #000000;\n        }#T_fd972_row12_col11{\n            background-color:  #4242ff;\n            color:  #f1f1f1;\n        }</style><table id=\"T_fd972_\" ><thead>    <tr>        <th class=\"blank level0\" ></th>        <th class=\"col_heading level0 col0\" >computers</th>        <th class=\"col_heading level0 col1\" >auto</th>        <th class=\"col_heading level0 col2\" >apparel</th>        <th class=\"col_heading level0 col3\" >appliances</th>        <th class=\"col_heading level0 col4\" >furniture</th>        <th class=\"col_heading level0 col5\" >accessories</th>        <th class=\"col_heading level0 col6\" >electronics</th>        <th class=\"col_heading level0 col7\" >construction</th>        <th class=\"col_heading level0 col8\" >not_defined</th>        <th class=\"col_heading level0 col9\" >turnover</th>        <th class=\"col_heading level0 col10\" >bougth_quantity</th>        <th class=\"col_heading level0 col11\" >viewed_quantity</th>        <th class=\"col_heading level0 col12\" >cart_quantity</th>    </tr></thead><tbody>\n                <tr>\n                        <th id=\"T_fd972_level0_row0\" class=\"row_heading level0 row0\" >computers</th>\n                        <td id=\"T_fd972_row0_col0\" class=\"data row0 col0\" >1.000000</td>\n                        <td id=\"T_fd972_row0_col1\" class=\"data row0 col1\" >-0.062864</td>\n                        <td id=\"T_fd972_row0_col2\" class=\"data row0 col2\" >-0.058063</td>\n                        <td id=\"T_fd972_row0_col3\" class=\"data row0 col3\" >-0.090423</td>\n                        <td id=\"T_fd972_row0_col4\" class=\"data row0 col4\" >-0.090423</td>\n                        <td id=\"T_fd972_row0_col5\" class=\"data row0 col5\" >-0.023428</td>\n                        <td id=\"T_fd972_row0_col6\" class=\"data row0 col6\" >-0.205514</td>\n                        <td id=\"T_fd972_row0_col7\" class=\"data row0 col7\" >-0.067365</td>\n                        <td id=\"T_fd972_row0_col8\" class=\"data row0 col8\" >-0.281677</td>\n                        <td id=\"T_fd972_row0_col9\" class=\"data row0 col9\" >-0.030199</td>\n                        <td id=\"T_fd972_row0_col10\" class=\"data row0 col10\" >-0.033209</td>\n                        <td id=\"T_fd972_row0_col11\" class=\"data row0 col11\" >0.040768</td>\n                        <td id=\"T_fd972_row0_col12\" class=\"data row0 col12\" >-0.023428</td>\n            </tr>\n            <tr>\n                        <th id=\"T_fd972_level0_row1\" class=\"row_heading level0 row1\" >auto</th>\n                        <td id=\"T_fd972_row1_col0\" class=\"data row1 col0\" >-0.062864</td>\n                        <td id=\"T_fd972_row1_col1\" class=\"data row1 col1\" >1.000000</td>\n                        <td id=\"T_fd972_row1_col2\" class=\"data row1 col2\" >-0.030787</td>\n                        <td id=\"T_fd972_row1_col3\" class=\"data row1 col3\" >-0.047946</td>\n                        <td id=\"T_fd972_row1_col4\" class=\"data row1 col4\" >-0.047946</td>\n                        <td id=\"T_fd972_row1_col5\" class=\"data row1 col5\" >-0.012423</td>\n                        <td id=\"T_fd972_row1_col6\" class=\"data row1 col6\" >-0.108972</td>\n                        <td id=\"T_fd972_row1_col7\" class=\"data row1 col7\" >-0.035720</td>\n                        <td id=\"T_fd972_row1_col8\" class=\"data row1 col8\" >-0.149358</td>\n                        <td id=\"T_fd972_row1_col9\" class=\"data row1 col9\" >-0.016013</td>\n                        <td id=\"T_fd972_row1_col10\" class=\"data row1 col10\" >-0.017609</td>\n                        <td id=\"T_fd972_row1_col11\" class=\"data row1 col11\" >0.021617</td>\n                        <td id=\"T_fd972_row1_col12\" class=\"data row1 col12\" >-0.012423</td>\n            </tr>\n            <tr>\n                        <th id=\"T_fd972_level0_row2\" class=\"row_heading level0 row2\" >apparel</th>\n                        <td id=\"T_fd972_row2_col0\" class=\"data row2 col0\" >-0.058063</td>\n                        <td id=\"T_fd972_row2_col1\" class=\"data row2 col1\" >-0.030787</td>\n                        <td id=\"T_fd972_row2_col2\" class=\"data row2 col2\" >1.000000</td>\n                        <td id=\"T_fd972_row2_col3\" class=\"data row2 col3\" >-0.044284</td>\n                        <td id=\"T_fd972_row2_col4\" class=\"data row2 col4\" >-0.044284</td>\n                        <td id=\"T_fd972_row2_col5\" class=\"data row2 col5\" >-0.011474</td>\n                        <td id=\"T_fd972_row2_col6\" class=\"data row2 col6\" >-0.100650</td>\n                        <td id=\"T_fd972_row2_col7\" class=\"data row2 col7\" >-0.032992</td>\n                        <td id=\"T_fd972_row2_col8\" class=\"data row2 col8\" >-0.137950</td>\n                        <td id=\"T_fd972_row2_col9\" class=\"data row2 col9\" >-0.014790</td>\n                        <td id=\"T_fd972_row2_col10\" class=\"data row2 col10\" >-0.016264</td>\n                        <td id=\"T_fd972_row2_col11\" class=\"data row2 col11\" >0.019966</td>\n                        <td id=\"T_fd972_row2_col12\" class=\"data row2 col12\" >-0.011474</td>\n            </tr>\n            <tr>\n                        <th id=\"T_fd972_level0_row3\" class=\"row_heading level0 row3\" >appliances</th>\n                        <td id=\"T_fd972_row3_col0\" class=\"data row3 col0\" >-0.090423</td>\n                        <td id=\"T_fd972_row3_col1\" class=\"data row3 col1\" >-0.047946</td>\n                        <td id=\"T_fd972_row3_col2\" class=\"data row3 col2\" >-0.044284</td>\n                        <td id=\"T_fd972_row3_col3\" class=\"data row3 col3\" >1.000000</td>\n                        <td id=\"T_fd972_row3_col4\" class=\"data row3 col4\" >-0.068966</td>\n                        <td id=\"T_fd972_row3_col5\" class=\"data row3 col5\" >-0.017869</td>\n                        <td id=\"T_fd972_row3_col6\" class=\"data row3 col6\" >-0.156745</td>\n                        <td id=\"T_fd972_row3_col7\" class=\"data row3 col7\" >-0.051379</td>\n                        <td id=\"T_fd972_row3_col8\" class=\"data row3 col8\" >-0.214834</td>\n                        <td id=\"T_fd972_row3_col9\" class=\"data row3 col9\" >-0.023033</td>\n                        <td id=\"T_fd972_row3_col10\" class=\"data row3 col10\" >-0.025329</td>\n                        <td id=\"T_fd972_row3_col11\" class=\"data row3 col11\" >0.031094</td>\n                        <td id=\"T_fd972_row3_col12\" class=\"data row3 col12\" >-0.017869</td>\n            </tr>\n            <tr>\n                        <th id=\"T_fd972_level0_row4\" class=\"row_heading level0 row4\" >furniture</th>\n                        <td id=\"T_fd972_row4_col0\" class=\"data row4 col0\" >-0.090423</td>\n                        <td id=\"T_fd972_row4_col1\" class=\"data row4 col1\" >-0.047946</td>\n                        <td id=\"T_fd972_row4_col2\" class=\"data row4 col2\" >-0.044284</td>\n                        <td id=\"T_fd972_row4_col3\" class=\"data row4 col3\" >-0.068966</td>\n                        <td id=\"T_fd972_row4_col4\" class=\"data row4 col4\" >1.000000</td>\n                        <td id=\"T_fd972_row4_col5\" class=\"data row4 col5\" >-0.017869</td>\n                        <td id=\"T_fd972_row4_col6\" class=\"data row4 col6\" >-0.156745</td>\n                        <td id=\"T_fd972_row4_col7\" class=\"data row4 col7\" >-0.051379</td>\n                        <td id=\"T_fd972_row4_col8\" class=\"data row4 col8\" >-0.214834</td>\n                        <td id=\"T_fd972_row4_col9\" class=\"data row4 col9\" >0.236757</td>\n                        <td id=\"T_fd972_row4_col10\" class=\"data row4 col10\" >0.170968</td>\n                        <td id=\"T_fd972_row4_col11\" class=\"data row4 col11\" >-0.129556</td>\n                        <td id=\"T_fd972_row4_col12\" class=\"data row4 col12\" >-0.017869</td>\n            </tr>\n            <tr>\n                        <th id=\"T_fd972_level0_row5\" class=\"row_heading level0 row5\" >accessories</th>\n                        <td id=\"T_fd972_row5_col0\" class=\"data row5 col0\" >-0.023428</td>\n                        <td id=\"T_fd972_row5_col1\" class=\"data row5 col1\" >-0.012423</td>\n                        <td id=\"T_fd972_row5_col2\" class=\"data row5 col2\" >-0.011474</td>\n                        <td id=\"T_fd972_row5_col3\" class=\"data row5 col3\" >-0.017869</td>\n                        <td id=\"T_fd972_row5_col4\" class=\"data row5 col4\" >-0.017869</td>\n                        <td id=\"T_fd972_row5_col5\" class=\"data row5 col5\" >1.000000</td>\n                        <td id=\"T_fd972_row5_col6\" class=\"data row5 col6\" >-0.040612</td>\n                        <td id=\"T_fd972_row5_col7\" class=\"data row5 col7\" >-0.013312</td>\n                        <td id=\"T_fd972_row5_col8\" class=\"data row5 col8\" >-0.055662</td>\n                        <td id=\"T_fd972_row5_col9\" class=\"data row5 col9\" >-0.005968</td>\n                        <td id=\"T_fd972_row5_col10\" class=\"data row5 col10\" >-0.006562</td>\n                        <td id=\"T_fd972_row5_col11\" class=\"data row5 col11\" >0.008056</td>\n                        <td id=\"T_fd972_row5_col12\" class=\"data row5 col12\" >-0.004630</td>\n            </tr>\n            <tr>\n                        <th id=\"T_fd972_level0_row6\" class=\"row_heading level0 row6\" >electronics</th>\n                        <td id=\"T_fd972_row6_col0\" class=\"data row6 col0\" >-0.205514</td>\n                        <td id=\"T_fd972_row6_col1\" class=\"data row6 col1\" >-0.108972</td>\n                        <td id=\"T_fd972_row6_col2\" class=\"data row6 col2\" >-0.100650</td>\n                        <td id=\"T_fd972_row6_col3\" class=\"data row6 col3\" >-0.156745</td>\n                        <td id=\"T_fd972_row6_col4\" class=\"data row6 col4\" >-0.156745</td>\n                        <td id=\"T_fd972_row6_col5\" class=\"data row6 col5\" >-0.040612</td>\n                        <td id=\"T_fd972_row6_col6\" class=\"data row6 col6\" >1.000000</td>\n                        <td id=\"T_fd972_row6_col7\" class=\"data row6 col7\" >-0.116775</td>\n                        <td id=\"T_fd972_row6_col8\" class=\"data row6 col8\" >-0.488276</td>\n                        <td id=\"T_fd972_row6_col9\" class=\"data row6 col9\" >0.001921</td>\n                        <td id=\"T_fd972_row6_col10\" class=\"data row6 col10\" >0.052012</td>\n                        <td id=\"T_fd972_row6_col11\" class=\"data row6 col11\" >-0.108690</td>\n                        <td id=\"T_fd972_row6_col12\" class=\"data row6 col12\" >0.113998</td>\n            </tr>\n            <tr>\n                        <th id=\"T_fd972_level0_row7\" class=\"row_heading level0 row7\" >construction</th>\n                        <td id=\"T_fd972_row7_col0\" class=\"data row7 col0\" >-0.067365</td>\n                        <td id=\"T_fd972_row7_col1\" class=\"data row7 col1\" >-0.035720</td>\n                        <td id=\"T_fd972_row7_col2\" class=\"data row7 col2\" >-0.032992</td>\n                        <td id=\"T_fd972_row7_col3\" class=\"data row7 col3\" >-0.051379</td>\n                        <td id=\"T_fd972_row7_col4\" class=\"data row7 col4\" >-0.051379</td>\n                        <td id=\"T_fd972_row7_col5\" class=\"data row7 col5\" >-0.013312</td>\n                        <td id=\"T_fd972_row7_col6\" class=\"data row7 col6\" >-0.116775</td>\n                        <td id=\"T_fd972_row7_col7\" class=\"data row7 col7\" >1.000000</td>\n                        <td id=\"T_fd972_row7_col8\" class=\"data row7 col8\" >-0.160052</td>\n                        <td id=\"T_fd972_row7_col9\" class=\"data row7 col9\" >-0.017159</td>\n                        <td id=\"T_fd972_row7_col10\" class=\"data row7 col10\" >-0.018870</td>\n                        <td id=\"T_fd972_row7_col11\" class=\"data row7 col11\" >0.023165</td>\n                        <td id=\"T_fd972_row7_col12\" class=\"data row7 col12\" >-0.013312</td>\n            </tr>\n            <tr>\n                        <th id=\"T_fd972_level0_row8\" class=\"row_heading level0 row8\" >not_defined</th>\n                        <td id=\"T_fd972_row8_col0\" class=\"data row8 col0\" >-0.281677</td>\n                        <td id=\"T_fd972_row8_col1\" class=\"data row8 col1\" >-0.149358</td>\n                        <td id=\"T_fd972_row8_col2\" class=\"data row8 col2\" >-0.137950</td>\n                        <td id=\"T_fd972_row8_col3\" class=\"data row8 col3\" >-0.214834</td>\n                        <td id=\"T_fd972_row8_col4\" class=\"data row8 col4\" >-0.214834</td>\n                        <td id=\"T_fd972_row8_col5\" class=\"data row8 col5\" >-0.055662</td>\n                        <td id=\"T_fd972_row8_col6\" class=\"data row8 col6\" >-0.488276</td>\n                        <td id=\"T_fd972_row8_col7\" class=\"data row8 col7\" >-0.160052</td>\n                        <td id=\"T_fd972_row8_col8\" class=\"data row8 col8\" >1.000000</td>\n                        <td id=\"T_fd972_row8_col9\" class=\"data row8 col9\" >-0.071749</td>\n                        <td id=\"T_fd972_row8_col10\" class=\"data row8 col10\" >-0.078901</td>\n                        <td id=\"T_fd972_row8_col11\" class=\"data row8 col11\" >0.096859</td>\n                        <td id=\"T_fd972_row8_col12\" class=\"data row8 col12\" >-0.055662</td>\n            </tr>\n            <tr>\n                        <th id=\"T_fd972_level0_row9\" class=\"row_heading level0 row9\" >turnover</th>\n                        <td id=\"T_fd972_row9_col0\" class=\"data row9 col0\" >-0.030199</td>\n                        <td id=\"T_fd972_row9_col1\" class=\"data row9 col1\" >-0.016013</td>\n                        <td id=\"T_fd972_row9_col2\" class=\"data row9 col2\" >-0.014790</td>\n                        <td id=\"T_fd972_row9_col3\" class=\"data row9 col3\" >-0.023033</td>\n                        <td id=\"T_fd972_row9_col4\" class=\"data row9 col4\" >0.236757</td>\n                        <td id=\"T_fd972_row9_col5\" class=\"data row9 col5\" >-0.005968</td>\n                        <td id=\"T_fd972_row9_col6\" class=\"data row9 col6\" >0.001921</td>\n                        <td id=\"T_fd972_row9_col7\" class=\"data row9 col7\" >-0.017159</td>\n                        <td id=\"T_fd972_row9_col8\" class=\"data row9 col8\" >-0.071749</td>\n                        <td id=\"T_fd972_row9_col9\" class=\"data row9 col9\" >1.000000</td>\n                        <td id=\"T_fd972_row9_col10\" class=\"data row9 col10\" >0.909357</td>\n                        <td id=\"T_fd972_row9_col11\" class=\"data row9 col11\" >-0.740758</td>\n                        <td id=\"T_fd972_row9_col12\" class=\"data row9 col12\" >-0.005968</td>\n            </tr>\n            <tr>\n                        <th id=\"T_fd972_level0_row10\" class=\"row_heading level0 row10\" >bougth_quantity</th>\n                        <td id=\"T_fd972_row10_col0\" class=\"data row10 col0\" >-0.033209</td>\n                        <td id=\"T_fd972_row10_col1\" class=\"data row10 col1\" >-0.017609</td>\n                        <td id=\"T_fd972_row10_col2\" class=\"data row10 col2\" >-0.016264</td>\n                        <td id=\"T_fd972_row10_col3\" class=\"data row10 col3\" >-0.025329</td>\n                        <td id=\"T_fd972_row10_col4\" class=\"data row10 col4\" >0.170968</td>\n                        <td id=\"T_fd972_row10_col5\" class=\"data row10 col5\" >-0.006562</td>\n                        <td id=\"T_fd972_row10_col6\" class=\"data row10 col6\" >0.052012</td>\n                        <td id=\"T_fd972_row10_col7\" class=\"data row10 col7\" >-0.018870</td>\n                        <td id=\"T_fd972_row10_col8\" class=\"data row10 col8\" >-0.078901</td>\n                        <td id=\"T_fd972_row10_col9\" class=\"data row10 col9\" >0.909357</td>\n                        <td id=\"T_fd972_row10_col10\" class=\"data row10 col10\" >1.000000</td>\n                        <td id=\"T_fd972_row10_col11\" class=\"data row10 col11\" >-0.814596</td>\n                        <td id=\"T_fd972_row10_col12\" class=\"data row10 col12\" >-0.006562</td>\n            </tr>\n            <tr>\n                        <th id=\"T_fd972_level0_row11\" class=\"row_heading level0 row11\" >viewed_quantity</th>\n                        <td id=\"T_fd972_row11_col0\" class=\"data row11 col0\" >0.040768</td>\n                        <td id=\"T_fd972_row11_col1\" class=\"data row11 col1\" >0.021617</td>\n                        <td id=\"T_fd972_row11_col2\" class=\"data row11 col2\" >0.019966</td>\n                        <td id=\"T_fd972_row11_col3\" class=\"data row11 col3\" >0.031094</td>\n                        <td id=\"T_fd972_row11_col4\" class=\"data row11 col4\" >-0.129556</td>\n                        <td id=\"T_fd972_row11_col5\" class=\"data row11 col5\" >0.008056</td>\n                        <td id=\"T_fd972_row11_col6\" class=\"data row11 col6\" >-0.108690</td>\n                        <td id=\"T_fd972_row11_col7\" class=\"data row11 col7\" >0.023165</td>\n                        <td id=\"T_fd972_row11_col8\" class=\"data row11 col8\" >0.096859</td>\n                        <td id=\"T_fd972_row11_col9\" class=\"data row11 col9\" >-0.740758</td>\n                        <td id=\"T_fd972_row11_col10\" class=\"data row11 col10\" >-0.814596</td>\n                        <td id=\"T_fd972_row11_col11\" class=\"data row11 col11\" >1.000000</td>\n                        <td id=\"T_fd972_row11_col12\" class=\"data row11 col12\" >-0.574671</td>\n            </tr>\n            <tr>\n                        <th id=\"T_fd972_level0_row12\" class=\"row_heading level0 row12\" >cart_quantity</th>\n                        <td id=\"T_fd972_row12_col0\" class=\"data row12 col0\" >-0.023428</td>\n                        <td id=\"T_fd972_row12_col1\" class=\"data row12 col1\" >-0.012423</td>\n                        <td id=\"T_fd972_row12_col2\" class=\"data row12 col2\" >-0.011474</td>\n                        <td id=\"T_fd972_row12_col3\" class=\"data row12 col3\" >-0.017869</td>\n                        <td id=\"T_fd972_row12_col4\" class=\"data row12 col4\" >-0.017869</td>\n                        <td id=\"T_fd972_row12_col5\" class=\"data row12 col5\" >-0.004630</td>\n                        <td id=\"T_fd972_row12_col6\" class=\"data row12 col6\" >0.113998</td>\n                        <td id=\"T_fd972_row12_col7\" class=\"data row12 col7\" >-0.013312</td>\n                        <td id=\"T_fd972_row12_col8\" class=\"data row12 col8\" >-0.055662</td>\n                        <td id=\"T_fd972_row12_col9\" class=\"data row12 col9\" >-0.005968</td>\n                        <td id=\"T_fd972_row12_col10\" class=\"data row12 col10\" >-0.006562</td>\n                        <td id=\"T_fd972_row12_col11\" class=\"data row12 col11\" >-0.574671</td>\n                        <td id=\"T_fd972_row12_col12\" class=\"data row12 col12\" >1.000000</td>\n            </tr>\n    </tbody></table>"
     },
     "metadata": {},
     "execution_count": 33
    }
   ],
   "source": [
    "sdf_corr_category_class.toPandas().corr().style.background_gradient(cmap='bwr')"
   ]
  },
  {
   "source": [
    "## Monats - Korrelationsmatrix"
   ],
   "cell_type": "markdown",
   "metadata": {}
  },
  {
   "cell_type": "code",
   "execution_count": 68,
   "metadata": {},
   "outputs": [],
   "source": [
    "sdf_corr_month = spark.sql(\"SELECT dayofmonth, turnover, bougth_quantity, viewed_quantity, cart_quantity \\\n",
    "                            FROM Data\")"
   ]
  },
  {
   "cell_type": "code",
   "execution_count": 69,
   "metadata": {},
   "outputs": [],
   "source": [
    "# One-hot-encoding\n",
    "sdf_corr_month = sdf_corr_month.withColumn('Beginningofmonth', f.when(f.col('dayofmonth')<10, f.lit(1)).otherwise(0))\n",
    "sdf_corr_month = sdf_corr_month.withColumn('Middleofmonth', f.when((f.col('dayofmonth')>=10) & (f.col('dayofmonth')<20), f.lit(1)).otherwise(0))\n",
    "sdf_corr_month = sdf_corr_month.withColumn('Endofmonth', f.when(f.col('dayofmonth') > 20 , f.lit(1)).otherwise(0))"
   ]
  },
  {
   "cell_type": "code",
   "execution_count": 70,
   "metadata": {},
   "outputs": [],
   "source": [
    "sdf_corr_month = sdf_corr_month.select(\"Beginningofmonth\", \"Middleofmonth\", \"Endofmonth\", \"turnover\", \"bougth_quantity\", \"viewed_quantity\", \"cart_quantity\" )"
   ]
  },
  {
   "cell_type": "code",
   "execution_count": 71,
   "metadata": {},
   "outputs": [
    {
     "output_type": "stream",
     "name": "stderr",
     "text": [
      "C:\\ProgramData\\Anaconda3\\lib\\site-packages\\pandas\\io\\formats\\style.py:1264: RuntimeWarning:\n\nAll-NaN slice encountered\n\nC:\\ProgramData\\Anaconda3\\lib\\site-packages\\pandas\\io\\formats\\style.py:1265: RuntimeWarning:\n\nAll-NaN slice encountered\n\n"
     ]
    },
    {
     "output_type": "execute_result",
     "data": {
      "text/plain": [
       "<pandas.io.formats.style.Styler at 0x2b6c00b4730>"
      ],
      "text/html": "<style  type=\"text/css\" >\n#T_758f8_row0_col0,#T_758f8_row0_col1,#T_758f8_row0_col2,#T_758f8_row0_col3,#T_758f8_row0_col4,#T_758f8_row0_col5,#T_758f8_row0_col6,#T_758f8_row1_col0,#T_758f8_row1_col1,#T_758f8_row1_col2,#T_758f8_row1_col3,#T_758f8_row1_col4,#T_758f8_row1_col5,#T_758f8_row1_col6,#T_758f8_row2_col0,#T_758f8_row2_col1,#T_758f8_row2_col2,#T_758f8_row2_col3,#T_758f8_row2_col4,#T_758f8_row2_col5,#T_758f8_row2_col6,#T_758f8_row3_col0,#T_758f8_row3_col1,#T_758f8_row3_col2,#T_758f8_row4_col0,#T_758f8_row4_col1,#T_758f8_row4_col2,#T_758f8_row5_col0,#T_758f8_row5_col1,#T_758f8_row5_col2,#T_758f8_row6_col0,#T_758f8_row6_col1,#T_758f8_row6_col2{\n            background-color:  #000000;\n            color:  #f1f1f1;\n        }#T_758f8_row3_col3,#T_758f8_row4_col4,#T_758f8_row5_col5,#T_758f8_row6_col6{\n            background-color:  #ff0000;\n            color:  #f1f1f1;\n        }#T_758f8_row3_col4{\n            background-color:  #ff1818;\n            color:  #f1f1f1;\n        }#T_758f8_row3_col5{\n            background-color:  #1414ff;\n            color:  #f1f1f1;\n        }#T_758f8_row3_col6,#T_758f8_row4_col6{\n            background-color:  #b8b8ff;\n            color:  #000000;\n        }#T_758f8_row4_col3{\n            background-color:  #ff1a1a;\n            color:  #f1f1f1;\n        }#T_758f8_row4_col5,#T_758f8_row5_col3,#T_758f8_row5_col4,#T_758f8_row5_col6{\n            background-color:  #0000ff;\n            color:  #f1f1f1;\n        }#T_758f8_row6_col3{\n            background-color:  #d8d8ff;\n            color:  #000000;\n        }#T_758f8_row6_col4{\n            background-color:  #e2e2ff;\n            color:  #000000;\n        }#T_758f8_row6_col5{\n            background-color:  #4242ff;\n            color:  #f1f1f1;\n        }</style><table id=\"T_758f8_\" ><thead>    <tr>        <th class=\"blank level0\" ></th>        <th class=\"col_heading level0 col0\" >Beginningofmonth</th>        <th class=\"col_heading level0 col1\" >Middleofmonth</th>        <th class=\"col_heading level0 col2\" >Endofmonth</th>        <th class=\"col_heading level0 col3\" >turnover</th>        <th class=\"col_heading level0 col4\" >bougth_quantity</th>        <th class=\"col_heading level0 col5\" >viewed_quantity</th>        <th class=\"col_heading level0 col6\" >cart_quantity</th>    </tr></thead><tbody>\n                <tr>\n                        <th id=\"T_758f8_level0_row0\" class=\"row_heading level0 row0\" >Beginningofmonth</th>\n                        <td id=\"T_758f8_row0_col0\" class=\"data row0 col0\" >nan</td>\n                        <td id=\"T_758f8_row0_col1\" class=\"data row0 col1\" >nan</td>\n                        <td id=\"T_758f8_row0_col2\" class=\"data row0 col2\" >nan</td>\n                        <td id=\"T_758f8_row0_col3\" class=\"data row0 col3\" >nan</td>\n                        <td id=\"T_758f8_row0_col4\" class=\"data row0 col4\" >nan</td>\n                        <td id=\"T_758f8_row0_col5\" class=\"data row0 col5\" >nan</td>\n                        <td id=\"T_758f8_row0_col6\" class=\"data row0 col6\" >nan</td>\n            </tr>\n            <tr>\n                        <th id=\"T_758f8_level0_row1\" class=\"row_heading level0 row1\" >Middleofmonth</th>\n                        <td id=\"T_758f8_row1_col0\" class=\"data row1 col0\" >nan</td>\n                        <td id=\"T_758f8_row1_col1\" class=\"data row1 col1\" >nan</td>\n                        <td id=\"T_758f8_row1_col2\" class=\"data row1 col2\" >nan</td>\n                        <td id=\"T_758f8_row1_col3\" class=\"data row1 col3\" >nan</td>\n                        <td id=\"T_758f8_row1_col4\" class=\"data row1 col4\" >nan</td>\n                        <td id=\"T_758f8_row1_col5\" class=\"data row1 col5\" >nan</td>\n                        <td id=\"T_758f8_row1_col6\" class=\"data row1 col6\" >nan</td>\n            </tr>\n            <tr>\n                        <th id=\"T_758f8_level0_row2\" class=\"row_heading level0 row2\" >Endofmonth</th>\n                        <td id=\"T_758f8_row2_col0\" class=\"data row2 col0\" >nan</td>\n                        <td id=\"T_758f8_row2_col1\" class=\"data row2 col1\" >nan</td>\n                        <td id=\"T_758f8_row2_col2\" class=\"data row2 col2\" >nan</td>\n                        <td id=\"T_758f8_row2_col3\" class=\"data row2 col3\" >nan</td>\n                        <td id=\"T_758f8_row2_col4\" class=\"data row2 col4\" >nan</td>\n                        <td id=\"T_758f8_row2_col5\" class=\"data row2 col5\" >nan</td>\n                        <td id=\"T_758f8_row2_col6\" class=\"data row2 col6\" >nan</td>\n            </tr>\n            <tr>\n                        <th id=\"T_758f8_level0_row3\" class=\"row_heading level0 row3\" >turnover</th>\n                        <td id=\"T_758f8_row3_col0\" class=\"data row3 col0\" >nan</td>\n                        <td id=\"T_758f8_row3_col1\" class=\"data row3 col1\" >nan</td>\n                        <td id=\"T_758f8_row3_col2\" class=\"data row3 col2\" >nan</td>\n                        <td id=\"T_758f8_row3_col3\" class=\"data row3 col3\" >1.000000</td>\n                        <td id=\"T_758f8_row3_col4\" class=\"data row3 col4\" >0.909357</td>\n                        <td id=\"T_758f8_row3_col5\" class=\"data row3 col5\" >-0.740758</td>\n                        <td id=\"T_758f8_row3_col6\" class=\"data row3 col6\" >-0.005968</td>\n            </tr>\n            <tr>\n                        <th id=\"T_758f8_level0_row4\" class=\"row_heading level0 row4\" >bougth_quantity</th>\n                        <td id=\"T_758f8_row4_col0\" class=\"data row4 col0\" >nan</td>\n                        <td id=\"T_758f8_row4_col1\" class=\"data row4 col1\" >nan</td>\n                        <td id=\"T_758f8_row4_col2\" class=\"data row4 col2\" >nan</td>\n                        <td id=\"T_758f8_row4_col3\" class=\"data row4 col3\" >0.909357</td>\n                        <td id=\"T_758f8_row4_col4\" class=\"data row4 col4\" >1.000000</td>\n                        <td id=\"T_758f8_row4_col5\" class=\"data row4 col5\" >-0.814596</td>\n                        <td id=\"T_758f8_row4_col6\" class=\"data row4 col6\" >-0.006562</td>\n            </tr>\n            <tr>\n                        <th id=\"T_758f8_level0_row5\" class=\"row_heading level0 row5\" >viewed_quantity</th>\n                        <td id=\"T_758f8_row5_col0\" class=\"data row5 col0\" >nan</td>\n                        <td id=\"T_758f8_row5_col1\" class=\"data row5 col1\" >nan</td>\n                        <td id=\"T_758f8_row5_col2\" class=\"data row5 col2\" >nan</td>\n                        <td id=\"T_758f8_row5_col3\" class=\"data row5 col3\" >-0.740758</td>\n                        <td id=\"T_758f8_row5_col4\" class=\"data row5 col4\" >-0.814596</td>\n                        <td id=\"T_758f8_row5_col5\" class=\"data row5 col5\" >1.000000</td>\n                        <td id=\"T_758f8_row5_col6\" class=\"data row5 col6\" >-0.574671</td>\n            </tr>\n            <tr>\n                        <th id=\"T_758f8_level0_row6\" class=\"row_heading level0 row6\" >cart_quantity</th>\n                        <td id=\"T_758f8_row6_col0\" class=\"data row6 col0\" >nan</td>\n                        <td id=\"T_758f8_row6_col1\" class=\"data row6 col1\" >nan</td>\n                        <td id=\"T_758f8_row6_col2\" class=\"data row6 col2\" >nan</td>\n                        <td id=\"T_758f8_row6_col3\" class=\"data row6 col3\" >-0.005968</td>\n                        <td id=\"T_758f8_row6_col4\" class=\"data row6 col4\" >-0.006562</td>\n                        <td id=\"T_758f8_row6_col5\" class=\"data row6 col5\" >-0.574671</td>\n                        <td id=\"T_758f8_row6_col6\" class=\"data row6 col6\" >1.000000</td>\n            </tr>\n    </tbody></table>"
     },
     "metadata": {},
     "execution_count": 71
    }
   ],
   "source": [
    "sdf_corr_month.toPandas().corr().style.background_gradient(cmap='bwr')"
   ]
  },
  {
   "source": [
    "## Preis-Korrelationsmatirx"
   ],
   "cell_type": "markdown",
   "metadata": {}
  },
  {
   "cell_type": "code",
   "execution_count": 16,
   "metadata": {},
   "outputs": [
    {
     "output_type": "execute_result",
     "data": {
      "text/plain": [
       "<pandas.io.formats.style.Styler at 0x2b6bd7265b0>"
      ],
      "text/html": "<style  type=\"text/css\" >\n#T_b5133_row0_col0,#T_b5133_row1_col1,#T_b5133_row2_col2,#T_b5133_row3_col3,#T_b5133_row4_col4{\n            background-color:  #ff0000;\n            color:  #f1f1f1;\n        }#T_b5133_row0_col1,#T_b5133_row4_col2{\n            background-color:  #e2e2ff;\n            color:  #000000;\n        }#T_b5133_row0_col2{\n            background-color:  #eaeaff;\n            color:  #000000;\n        }#T_b5133_row0_col3{\n            background-color:  #dcdcff;\n            color:  #000000;\n        }#T_b5133_row0_col4{\n            background-color:  #c4c4ff;\n            color:  #000000;\n        }#T_b5133_row1_col0,#T_b5133_row4_col0{\n            background-color:  #2020ff;\n            color:  #f1f1f1;\n        }#T_b5133_row1_col2{\n            background-color:  #ff1818;\n            color:  #f1f1f1;\n        }#T_b5133_row1_col3{\n            background-color:  #1414ff;\n            color:  #f1f1f1;\n        }#T_b5133_row1_col4,#T_b5133_row2_col4{\n            background-color:  #b8b8ff;\n            color:  #000000;\n        }#T_b5133_row2_col0{\n            background-color:  #1a1aff;\n            color:  #f1f1f1;\n        }#T_b5133_row2_col1{\n            background-color:  #ff1a1a;\n            color:  #f1f1f1;\n        }#T_b5133_row2_col3,#T_b5133_row3_col0,#T_b5133_row3_col1,#T_b5133_row3_col2,#T_b5133_row3_col4{\n            background-color:  #0000ff;\n            color:  #f1f1f1;\n        }#T_b5133_row4_col1{\n            background-color:  #d8d8ff;\n            color:  #000000;\n        }#T_b5133_row4_col3{\n            background-color:  #4242ff;\n            color:  #f1f1f1;\n        }</style><table id=\"T_b5133_\" ><thead>    <tr>        <th class=\"blank level0\" ></th>        <th class=\"col_heading level0 col0\" >price</th>        <th class=\"col_heading level0 col1\" >turnover</th>        <th class=\"col_heading level0 col2\" >bougth_quantity</th>        <th class=\"col_heading level0 col3\" >viewed_quantity</th>        <th class=\"col_heading level0 col4\" >cart_quantity</th>    </tr></thead><tbody>\n                <tr>\n                        <th id=\"T_b5133_level0_row0\" class=\"row_heading level0 row0\" >price</th>\n                        <td id=\"T_b5133_row0_col0\" class=\"data row0 col0\" >1.000000</td>\n                        <td id=\"T_b5133_row0_col1\" class=\"data row0 col1\" >0.033853</td>\n                        <td id=\"T_b5133_row0_col2\" class=\"data row0 col2\" >0.018818</td>\n                        <td id=\"T_b5133_row0_col3\" class=\"data row0 col3\" >-0.033742</td>\n                        <td id=\"T_b5133_row0_col4\" class=\"data row0 col4\" >0.031622</td>\n            </tr>\n            <tr>\n                        <th id=\"T_b5133_level0_row1\" class=\"row_heading level0 row1\" >turnover</th>\n                        <td id=\"T_b5133_row1_col0\" class=\"data row1 col0\" >0.033853</td>\n                        <td id=\"T_b5133_row1_col1\" class=\"data row1 col1\" >1.000000</td>\n                        <td id=\"T_b5133_row1_col2\" class=\"data row1 col2\" >0.909357</td>\n                        <td id=\"T_b5133_row1_col3\" class=\"data row1 col3\" >-0.740758</td>\n                        <td id=\"T_b5133_row1_col4\" class=\"data row1 col4\" >-0.005968</td>\n            </tr>\n            <tr>\n                        <th id=\"T_b5133_level0_row2\" class=\"row_heading level0 row2\" >bougth_quantity</th>\n                        <td id=\"T_b5133_row2_col0\" class=\"data row2 col0\" >0.018818</td>\n                        <td id=\"T_b5133_row2_col1\" class=\"data row2 col1\" >0.909357</td>\n                        <td id=\"T_b5133_row2_col2\" class=\"data row2 col2\" >1.000000</td>\n                        <td id=\"T_b5133_row2_col3\" class=\"data row2 col3\" >-0.814596</td>\n                        <td id=\"T_b5133_row2_col4\" class=\"data row2 col4\" >-0.006562</td>\n            </tr>\n            <tr>\n                        <th id=\"T_b5133_level0_row3\" class=\"row_heading level0 row3\" >viewed_quantity</th>\n                        <td id=\"T_b5133_row3_col0\" class=\"data row3 col0\" >-0.033742</td>\n                        <td id=\"T_b5133_row3_col1\" class=\"data row3 col1\" >-0.740758</td>\n                        <td id=\"T_b5133_row3_col2\" class=\"data row3 col2\" >-0.814596</td>\n                        <td id=\"T_b5133_row3_col3\" class=\"data row3 col3\" >1.000000</td>\n                        <td id=\"T_b5133_row3_col4\" class=\"data row3 col4\" >-0.574671</td>\n            </tr>\n            <tr>\n                        <th id=\"T_b5133_level0_row4\" class=\"row_heading level0 row4\" >cart_quantity</th>\n                        <td id=\"T_b5133_row4_col0\" class=\"data row4 col0\" >0.031622</td>\n                        <td id=\"T_b5133_row4_col1\" class=\"data row4 col1\" >-0.005968</td>\n                        <td id=\"T_b5133_row4_col2\" class=\"data row4 col2\" >-0.006562</td>\n                        <td id=\"T_b5133_row4_col3\" class=\"data row4 col3\" >-0.574671</td>\n                        <td id=\"T_b5133_row4_col4\" class=\"data row4 col4\" >1.000000</td>\n            </tr>\n    </tbody></table>"
     },
     "metadata": {},
     "execution_count": 16
    }
   ],
   "source": [
    "sdf_corr_price = spark.sql(\"SELECT price, turnover, bougth_quantity, viewed_quantity, cart_quantity \\\n",
    "                            FROM Data\")\n",
    "sdf_corr_price.toPandas().corr().style.background_gradient(cmap='bwr')"
   ]
  }
 ]
}