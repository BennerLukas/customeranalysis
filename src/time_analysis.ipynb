{
 "cells": [
  {
   "cell_type": "markdown",
   "source": [
    "# General Dataset Analyse"
   ],
   "metadata": {
    "collapsed": false,
    "pycharm": {
     "name": "#%% md\n"
    }
   }
  },
  {
   "cell_type": "markdown",
   "source": [
    "## Import"
   ],
   "metadata": {
    "collapsed": false,
    "pycharm": {
     "name": "#%% md\n"
    }
   }
  },
  {
   "cell_type": "code",
   "execution_count": 8,
   "metadata": {
    "collapsed": true
   },
   "outputs": [],
   "source": [
    "import os\n",
    "import pyspark\n",
    "import pyspark.sql.functions as f\n"
   ]
  },
  {
   "cell_type": "markdown",
   "source": [
    "## Read"
   ],
   "metadata": {
    "collapsed": false
   }
  },
  {
   "cell_type": "code",
   "source": [
    "#Pyspark\n",
    "spark = pyspark.sql.SparkSession.builder.appName(\"app1\").getOrCreate()\n",
    "# sdf = spark.read.csv(\"data/*.csv\", header=True, inferSchema=True)\n",
    "# sdf = spark.read.csv(\"data/2019-Nov.csv\", header=True, inferSchema=True)\n",
    "sdf = spark.read.csv(\"data/test_data.csv\", header=True, inferSchema=True)\n",
    "sdf.show()"
   ],
   "metadata": {
    "collapsed": false,
    "pycharm": {
     "name": "#%%\n"
    }
   },
   "execution_count": 9,
   "outputs": [
    {
     "name": "stdout",
     "output_type": "stream",
     "text": [
      "+-----------------------+----+--------+-------------------+----------------------+--------+------+---------+------------------------------------+\n",
      "|2019-11-01 00:00:00 UTC|view| 1003461|2053013555631882655|electronics.smartphone|  xiaomi|489.07|520088904|4d3b30da-a5e4-49df-b1a8-ba5943f1dd33|\n",
      "+-----------------------+----+--------+-------------------+----------------------+--------+------+---------+------------------------------------+\n",
      "|   2019-11-01 00:00:...|view| 5000088|2053013566100866035|  appliances.sewing...|  janome|293.65|530496790|                8e5f4f83-366c-4f7...|\n",
      "|   2019-11-01 00:00:...|view|17302664|2053013553853497655|                  null|   creed| 28.31|561587266|                755422e7-9040-477...|\n",
      "|   2019-11-01 00:00:...|view| 3601530|2053013563810775923|  appliances.kitche...|      lg|712.87|518085591|                3bfb58cd-7892-48c...|\n",
      "|   2019-11-01 00:00:...|view| 1004775|2053013555631882655|  electronics.smart...|  xiaomi|183.27|558856683|                313628f1-68b8-460...|\n",
      "|   2019-11-01 00:00:...|view| 1306894|2053013558920217191|    computers.notebook|      hp|360.09|520772685|                816a59f3-f5ae-4cc...|\n",
      "|   2019-11-01 00:00:...|view| 1306421|2053013558920217191|    computers.notebook|      hp|514.56|514028527|                df8184cc-3694-454...|\n",
      "|   2019-11-01 00:00:...|view|15900065|2053013558190408249|                  null| rondell| 30.86|518574284|                5e6ef132-4d7c-473...|\n",
      "|   2019-11-01 00:00:...|view|12708937|2053013553559896355|                  null|michelin| 72.72|532364121|                0a899268-31eb-46d...|\n",
      "|   2019-11-01 00:00:...|view| 1004258|2053013555631882655|  electronics.smart...|   apple|732.07|532647354|                d2d3d2c6-631d-489...|\n",
      "|   2019-11-01 00:00:...|view|17200570|2053013559792632471|  furniture.living_...|    null|437.33|518780843|                aa806835-b14c-45a...|\n",
      "|   2019-11-01 00:00:...|view| 2701517|2053013563911439225|  appliances.kitche...|    null|155.11|518427361|                c89b0d96-247f-404...|\n",
      "|   2019-11-01 00:00:...|view|16700260|2053013559901684381|  furniture.kitchen...|    null| 31.64|566255262|                173d7b72-1db7-463...|\n",
      "|   2019-11-01 00:00:...|view|34600011|2060981320581906480|                  null|    null| 20.54|512416379|                4dfe2c67-e537-4dc...|\n",
      "|   2019-11-01 00:00:...|view| 4600658|2053013563944993659|  appliances.kitche...| samsung|411.83|526595547|                aab33a9a-29c3-4d5...|\n",
      "|   2019-11-01 00:00:...|view|24900193|2053013562183385881|                  null|    null|  1.09|512651494|                f603c815-f51a-46f...|\n",
      "|   2019-11-01 00:00:...|view|27400066|2053013563391345499|                  null|    null|  8.55|551061950|                3f6112f1-5695-4e8...|\n",
      "|   2019-11-01 00:00:...|view| 5100503|2053013553375346967|                  null|  xiaomi| 22.68|520037415|                f54fa96a-f3f2-43a...|\n",
      "|   2019-11-01 00:00:...|view| 1004566|2053013555631882655|  electronics.smart...|  huawei|164.84|566265908|                52c2c76c-b79e-479...|\n",
      "|   2019-11-01 00:00:...|view| 1307115|2053013558920217191|    computers.notebook|      hp|411.59|514028527|                df8184cc-3694-454...|\n",
      "|   2019-11-01 00:00:...|view|12719154|2053013553559896355|                  null|yokohama| 88.81|512376444|                f7e8ffaa-5103-47f...|\n",
      "+-----------------------+----+--------+-------------------+----------------------+--------+------+---------+------------------------------------+\n",
      "only showing top 20 rows\n",
      "\n"
     ]
    }
   ]
  },
  {
   "cell_type": "markdown",
   "source": [
    "## Prepare\n"
   ],
   "metadata": {
    "collapsed": false
   }
  },
  {
   "cell_type": "code",
   "execution_count": 10,
   "outputs": [
    {
     "ename": "AnalysisException",
     "evalue": "Cannot resolve column name \"event_time\" among (2019-11-01 00:00:00 UTC, view, 1003461, 2053013555631882655, electronics.smartphone, xiaomi, 489.07, 520088904, 4d3b30da-a5e4-49df-b1a8-ba5943f1dd33)",
     "output_type": "error",
     "traceback": [
      "\u001B[1;31m---------------------------------------------------------------------------\u001B[0m",
      "\u001B[1;31mAnalysisException\u001B[0m                         Traceback (most recent call last)",
      "\u001B[1;32m<ipython-input-10-4bdbd7d63b7e>\u001B[0m in \u001B[0;36m<module>\u001B[1;34m\u001B[0m\n\u001B[1;32m----> 1\u001B[1;33m \u001B[0msdf\u001B[0m \u001B[1;33m=\u001B[0m \u001B[0msdf\u001B[0m\u001B[1;33m.\u001B[0m\u001B[0mwithColumn\u001B[0m\u001B[1;33m(\u001B[0m\u001B[1;34m\"event_time\"\u001B[0m\u001B[1;33m,\u001B[0m \u001B[0msdf\u001B[0m\u001B[1;33m[\u001B[0m\u001B[1;34m\"event_time\"\u001B[0m\u001B[1;33m]\u001B[0m\u001B[1;33m.\u001B[0m\u001B[0mcast\u001B[0m\u001B[1;33m(\u001B[0m\u001B[0mpyspark\u001B[0m\u001B[1;33m.\u001B[0m\u001B[0msql\u001B[0m\u001B[1;33m.\u001B[0m\u001B[0mtypes\u001B[0m\u001B[1;33m.\u001B[0m\u001B[0mTimestampType\u001B[0m\u001B[1;33m(\u001B[0m\u001B[1;33m)\u001B[0m\u001B[1;33m)\u001B[0m\u001B[1;33m)\u001B[0m\u001B[1;33m\u001B[0m\u001B[1;33m\u001B[0m\u001B[0m\n\u001B[0m\u001B[0;32m      2\u001B[0m \u001B[1;33m\u001B[0m\u001B[0m\n",
      "\u001B[1;32m~\\anaconda3\\lib\\site-packages\\pyspark\\sql\\dataframe.py\u001B[0m in \u001B[0;36m__getitem__\u001B[1;34m(self, item)\u001B[0m\n\u001B[0;32m   1618\u001B[0m         \"\"\"\n\u001B[0;32m   1619\u001B[0m         \u001B[1;32mif\u001B[0m \u001B[0misinstance\u001B[0m\u001B[1;33m(\u001B[0m\u001B[0mitem\u001B[0m\u001B[1;33m,\u001B[0m \u001B[0mstr\u001B[0m\u001B[1;33m)\u001B[0m\u001B[1;33m:\u001B[0m\u001B[1;33m\u001B[0m\u001B[1;33m\u001B[0m\u001B[0m\n\u001B[1;32m-> 1620\u001B[1;33m             \u001B[0mjc\u001B[0m \u001B[1;33m=\u001B[0m \u001B[0mself\u001B[0m\u001B[1;33m.\u001B[0m\u001B[0m_jdf\u001B[0m\u001B[1;33m.\u001B[0m\u001B[0mapply\u001B[0m\u001B[1;33m(\u001B[0m\u001B[0mitem\u001B[0m\u001B[1;33m)\u001B[0m\u001B[1;33m\u001B[0m\u001B[1;33m\u001B[0m\u001B[0m\n\u001B[0m\u001B[0;32m   1621\u001B[0m             \u001B[1;32mreturn\u001B[0m \u001B[0mColumn\u001B[0m\u001B[1;33m(\u001B[0m\u001B[0mjc\u001B[0m\u001B[1;33m)\u001B[0m\u001B[1;33m\u001B[0m\u001B[1;33m\u001B[0m\u001B[0m\n\u001B[0;32m   1622\u001B[0m         \u001B[1;32melif\u001B[0m \u001B[0misinstance\u001B[0m\u001B[1;33m(\u001B[0m\u001B[0mitem\u001B[0m\u001B[1;33m,\u001B[0m \u001B[0mColumn\u001B[0m\u001B[1;33m)\u001B[0m\u001B[1;33m:\u001B[0m\u001B[1;33m\u001B[0m\u001B[1;33m\u001B[0m\u001B[0m\n",
      "\u001B[1;32m~\\anaconda3\\lib\\site-packages\\py4j\\java_gateway.py\u001B[0m in \u001B[0;36m__call__\u001B[1;34m(self, *args)\u001B[0m\n\u001B[0;32m   1302\u001B[0m \u001B[1;33m\u001B[0m\u001B[0m\n\u001B[0;32m   1303\u001B[0m         \u001B[0manswer\u001B[0m \u001B[1;33m=\u001B[0m \u001B[0mself\u001B[0m\u001B[1;33m.\u001B[0m\u001B[0mgateway_client\u001B[0m\u001B[1;33m.\u001B[0m\u001B[0msend_command\u001B[0m\u001B[1;33m(\u001B[0m\u001B[0mcommand\u001B[0m\u001B[1;33m)\u001B[0m\u001B[1;33m\u001B[0m\u001B[1;33m\u001B[0m\u001B[0m\n\u001B[1;32m-> 1304\u001B[1;33m         return_value = get_return_value(\n\u001B[0m\u001B[0;32m   1305\u001B[0m             answer, self.gateway_client, self.target_id, self.name)\n\u001B[0;32m   1306\u001B[0m \u001B[1;33m\u001B[0m\u001B[0m\n",
      "\u001B[1;32m~\\anaconda3\\lib\\site-packages\\pyspark\\sql\\utils.py\u001B[0m in \u001B[0;36mdeco\u001B[1;34m(*a, **kw)\u001B[0m\n\u001B[0;32m    115\u001B[0m                 \u001B[1;31m# Hide where the exception came from that shows a non-Pythonic\u001B[0m\u001B[1;33m\u001B[0m\u001B[1;33m\u001B[0m\u001B[1;33m\u001B[0m\u001B[0m\n\u001B[0;32m    116\u001B[0m                 \u001B[1;31m# JVM exception message.\u001B[0m\u001B[1;33m\u001B[0m\u001B[1;33m\u001B[0m\u001B[1;33m\u001B[0m\u001B[0m\n\u001B[1;32m--> 117\u001B[1;33m                 \u001B[1;32mraise\u001B[0m \u001B[0mconverted\u001B[0m \u001B[1;32mfrom\u001B[0m \u001B[1;32mNone\u001B[0m\u001B[1;33m\u001B[0m\u001B[1;33m\u001B[0m\u001B[0m\n\u001B[0m\u001B[0;32m    118\u001B[0m             \u001B[1;32melse\u001B[0m\u001B[1;33m:\u001B[0m\u001B[1;33m\u001B[0m\u001B[1;33m\u001B[0m\u001B[0m\n\u001B[0;32m    119\u001B[0m                 \u001B[1;32mraise\u001B[0m\u001B[1;33m\u001B[0m\u001B[1;33m\u001B[0m\u001B[0m\n",
      "\u001B[1;31mAnalysisException\u001B[0m: Cannot resolve column name \"event_time\" among (2019-11-01 00:00:00 UTC, view, 1003461, 2053013555631882655, electronics.smartphone, xiaomi, 489.07, 520088904, 4d3b30da-a5e4-49df-b1a8-ba5943f1dd33)"
     ]
    }
   ],
   "source": [
    "sdf = sdf.withColumn(\"event_time\", sdf[\"event_time\"].cast(pyspark.sql.types.TimestampType()))"
   ],
   "metadata": {
    "collapsed": false,
    "pycharm": {
     "name": "#%%\n"
    }
   }
  },
  {
   "cell_type": "code",
   "execution_count": null,
   "outputs": [],
   "source": [
    "sdf.printSchema()"
   ],
   "metadata": {
    "collapsed": false,
    "pycharm": {
     "name": "#%%\n"
    }
   }
  },
  {
   "cell_type": "markdown",
   "source": [
    "## Description"
   ],
   "metadata": {
    "collapsed": false,
    "pycharm": {
     "name": "#%% md\n"
    }
   }
  },
  {
   "cell_type": "markdown",
   "source": [
    "### event_time"
   ],
   "metadata": {
    "collapsed": false,
    "pycharm": {
     "name": "#%% md\n"
    }
   }
  },
  {
   "cell_type": "code",
   "execution_count": null,
   "outputs": [],
   "source": [
    "sdf.describe(\"event_time\").show()"
   ],
   "metadata": {
    "collapsed": false,
    "pycharm": {
     "name": "#%%\n"
    }
   }
  },
  {
   "cell_type": "markdown",
   "source": [
    "### event_type"
   ],
   "metadata": {
    "collapsed": false
   }
  },
  {
   "cell_type": "code",
   "execution_count": null,
   "outputs": [],
   "source": [
    "sdf.describe(\"event_type\").show()"
   ],
   "metadata": {
    "collapsed": false,
    "pycharm": {
     "name": "#%%\n"
    }
   }
  },
  {
   "cell_type": "markdown",
   "source": [
    "## Analyse\n"
   ],
   "metadata": {
    "collapsed": false,
    "pycharm": {
     "name": "#%% md\n"
    }
   }
  },
  {
   "cell_type": "code",
   "execution_count": null,
   "outputs": [],
   "source": [
    "# Event Type Distribution\n",
    "sdf_1910_event_type_dist = sdf.groupBy(\"event_type\").count()\n",
    "sdf_1910_event_type_dist.show()"
   ],
   "metadata": {
    "collapsed": false,
    "pycharm": {
     "name": "#%%\n"
    }
   }
  },
  {
   "cell_type": "code",
   "execution_count": null,
   "outputs": [],
   "source": [
    "# Plot Event Types\n",
    "import plotly.express as px\n",
    "df = sdf_1910_event_type_dist.toPandas()\n",
    "fig = px.pie(df, values='count', names='event_type', title='Distribution of Customer Actions')\n",
    "fig.show()"
   ],
   "metadata": {
    "collapsed": false,
    "pycharm": {
     "name": "#%%\n"
    }
   }
  },
  {
   "cell_type": "code",
   "execution_count": null,
   "outputs": [],
   "source": [
    "# prep for plot\n",
    "sdf_time_dist = sdf.select(\"event_time\", \"event_type\")\n",
    "sdf_time_dist = sdf_time_dist.withColumn(\"year\", f.year(\"event_time\"))\n",
    "sdf_time_dist = sdf_time_dist.withColumn(\"month\", f.month(\"event_time\"))\n",
    "sdf_time_dist = sdf_time_dist.withColumn(\"weekofyear\", f.weekofyear(\"event_time\"))\n",
    "sdf_time_dist = sdf_time_dist.withColumn(\"dayofyear\", f.dayofyear(\"event_time\"))\n",
    "sdf_time_dist = sdf_time_dist.withColumn(\"dayofweek\", f.dayofweek(\"event_time\"))\n",
    "sdf_time_dist = sdf_time_dist.withColumn(\"dayofmonth\", f.dayofmonth(\"event_time\"))\n",
    "sdf_time_dist.show()"
   ],
   "metadata": {
    "collapsed": false,
    "pycharm": {
     "name": "#%%\n"
    }
   }
  },
  {
   "cell_type": "code",
   "execution_count": null,
   "outputs": [],
   "source": [
    "sdf_time_dist_month = sdf_time_dist.groupBy(\"event_type\", \"month\", \"dayofmonth\").count()\n",
    "sdf_time_dist_month = sdf_time_dist_month.withColumnRenamed(\"count\", \"cnt\")\n",
    "sdf_time_dist_month = sdf_time_dist_month.sort(\"event_type\", \"month\", \"dayofmonth\")\n",
    "sdf_time_dist_month.show()"
   ],
   "metadata": {
    "collapsed": false,
    "pycharm": {
     "name": "#%%\n"
    }
   }
  },
  {
   "cell_type": "code",
   "execution_count": null,
   "outputs": [],
   "source": [
    "# Timestamp Distribution (per event_type) over all\n",
    "\n",
    "df = sdf_time_dist_month.toPandas()\n",
    "\n",
    "import plotly.graph_objects as go\n",
    "\n",
    "fig = go.Figure()\n",
    "\n",
    "fig.update_layout(\n",
    "    template=\"simple_white\",\n",
    "    xaxis=dict(title_text=\"Month\"),\n",
    "    yaxis=dict(title_text=\"Count\"),\n",
    "    barmode=\"stack\",\n",
    ")\n",
    "\n",
    "colors = [\"#2A66DE\", \"#FFC32B\", \"#20aa1b\"]\n",
    "\n",
    "for r, c in zip(df.event_type.unique(), colors):\n",
    "    plot_df = df[df.event_type == r]\n",
    "    fig.add_trace(\n",
    "        go.Bar(x=[plot_df.dayofmonth, plot_df.month], y=plot_df.cnt, name=r, marker_color=c),\n",
    "    )\n",
    "\n",
    "fig"
   ],
   "metadata": {
    "collapsed": false,
    "pycharm": {
     "name": "#%%\n"
    }
   }
  }
 ],
 "metadata": {
  "kernelspec": {
   "display_name": "Python 3",
   "language": "python",
   "name": "python3"
  },
  "language_info": {
   "codemirror_mode": {
    "name": "ipython",
    "version": 2
   },
   "file_extension": ".py",
   "mimetype": "text/x-python",
   "name": "python",
   "nbconvert_exporter": "python",
   "pygments_lexer": "ipython2",
   "version": "2.7.6"
  }
 },
 "nbformat": 4,
 "nbformat_minor": 0
}